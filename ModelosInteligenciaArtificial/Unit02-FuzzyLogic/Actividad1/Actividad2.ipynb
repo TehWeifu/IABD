{
 "nbformat": 4,
 "nbformat_minor": 0,
 "metadata": {
  "kernelspec": {
   "display_name": "Python 3",
   "language": "python",
   "name": "python3"
  },
  "language_info": {
   "codemirror_mode": {
    "name": "ipython",
    "version": 2
   },
   "file_extension": ".py",
   "mimetype": "text/x-python",
   "name": "python",
   "nbconvert_exporter": "python",
   "pygments_lexer": "ipython2",
   "version": "2.7.12"
  },
  "colab": {
   "name": "U2 :: Lógica difusa (P2).ipynb",
   "provenance": [],
   "collapsed_sections": []
  }
 },
 "cells": [
  {
   "cell_type": "markdown",
   "metadata": {
    "id": "uPY-I_v_Hdg6"
   },
   "source": [
    "<h2>U2 :: LÓGICA DIFUSA</h2>\n",
    "<h3>Práctica 2 - Funciones de membresía</h3>\n"
   ]
  },
  {
   "cell_type": "code",
   "metadata": {
    "colab": {
     "base_uri": "https://localhost:8080/"
    },
    "id": "PWl85NruIDi4",
    "outputId": "138451c1-b9e1-44dd-a931-0ea358b19420",
    "ExecuteTime": {
     "end_time": "2023-10-31T15:56:40.102153400Z",
     "start_time": "2023-10-31T15:56:40.094628600Z"
    }
   },
   "source": [
    "# from google.colab import drive\n",
    "# drive.mount('/content/drive')"
   ],
   "execution_count": 1,
   "outputs": []
  },
  {
   "cell_type": "code",
   "metadata": {
    "id": "orvForlOHdhB",
    "ExecuteTime": {
     "end_time": "2023-10-31T15:56:40.102153400Z",
     "start_time": "2023-10-31T15:56:40.096410300Z"
    }
   },
   "source": [
    "import math\n",
    "\n",
    "#!/usr/bin/env python\n",
    "# -*- coding: utf-8 -*-\n",
    "#\n",
    "# Librería 'fuzzy.py', para aplicaciones de lógica difusa.\n",
    "# Autor: Claudio Morales Díaz  // INACAP Puente Alto. (Chile, 2020)\n",
    "# \n",
    "\n",
    "import numpy as np\n",
    "import matplotlib.pyplot as plt"
   ],
   "execution_count": 2,
   "outputs": []
  },
  {
   "cell_type": "markdown",
   "metadata": {
    "id": "xIx1M8AuHdhC"
   },
   "source": [
    "<h4>Funciones de membresía singleton, triangular y trapezoidal</h4>\n",
    "A continuación se presenta una posible implementación de las fuciones Singleton, Triangular y Trapezoidal"
   ]
  },
  {
   "cell_type": "code",
   "metadata": {
    "id": "oSXs-j17HdhC",
    "ExecuteTime": {
     "end_time": "2023-10-31T15:56:40.110540500Z",
     "start_time": "2023-10-31T15:56:40.102153400Z"
    }
   },
   "source": [
    "# Función singleton(x, x0): función de pertenencia singleton.\n",
    "# Argumentos:\n",
    "#   x: int, float, numpy.ndarray\n",
    "#      Contiene los valores de x en el universo de discurso\n",
    "#      para los cuales se evalúa su valor de pertenencia.\n",
    "#   x0: valor de referencia (int, float)\n",
    "# Retorna:\n",
    "#   singleton(x, x0): float, si x es int, float.\n",
    "#   singleton(x, x0): numpy.ndarray: si x es numpy.ndarray\n",
    "#   -1 si no es posible calcular el valor\n",
    "#\n",
    "def singleton(x, x0):\n",
    "    if (type(x) is int) or (type(x) is float):\n",
    "        # Si X es entero o real evalua para el valor entrante.\n",
    "        if x == x0:\n",
    "            m = 1.0\n",
    "        else:\n",
    "            m = 0.0\n",
    "        return m\n",
    "    elif (type(x) is np.ndarray):\n",
    "        # Si es un vector evalúa para todos sus elementos.\n",
    "        m = np.zeros(x.size)\n",
    "        for i in range(x.size):\n",
    "            if x[i] == x0:\n",
    "                m[i] = 1.0\n",
    "            else:\n",
    "                m[i] = 0.0\n",
    "        return m\n",
    "    else:\n",
    "        return -1\n"
   ],
   "execution_count": 3,
   "outputs": []
  },
  {
   "cell_type": "code",
   "metadata": {
    "id": "a9JO3FZ9HdhD",
    "colab": {
     "base_uri": "https://localhost:8080/",
     "height": 300
    },
    "outputId": "f45c8334-e16a-423f-9016-3c9b2fe4f4e8",
    "ExecuteTime": {
     "end_time": "2023-10-31T15:56:40.226700100Z",
     "start_time": "2023-10-31T15:56:40.110540500Z"
    }
   },
   "source": [
    "# Verificamos funcionamiento de la función para cierto universo de discurso\n",
    "x = np.linspace(0, 10, 1000, endpoint=False)\n",
    "x0 = 4.5\n",
    "m = singleton(x, x0)\n",
    "plt.plot(x, m)\n",
    "plt.show()"
   ],
   "execution_count": 4,
   "outputs": [
    {
     "data": {
      "text/plain": "<Figure size 640x480 with 1 Axes>",
      "image/png": "[encoded data removed]"
     },
     "metadata": {},
     "output_type": "display_data"
    }
   ]
  },
  {
   "cell_type": "code",
   "metadata": {
    "colab": {
     "base_uri": "https://localhost:8080/"
    },
    "id": "gSwAolIoSdvD",
    "outputId": "7d8bfe28-a390-43d0-d943-01fddadafdf8",
    "ExecuteTime": {
     "end_time": "2023-10-31T15:56:40.228478Z",
     "start_time": "2023-10-31T15:56:40.224805500Z"
    }
   },
   "source": [
    "# Verificamos funcionamiento de la función para un valor concreto\n",
    "x_test = 6\n",
    "print(\"\\nEjemplo: Con x0\", x0, \"el valor singleton de x_test es\", singleton(x_test, x0))"
   ],
   "execution_count": 5,
   "outputs": [
    {
     "name": "stdout",
     "output_type": "stream",
     "text": [
      "\n",
      "Ejemplo: Con x0 4.5 el valor singleton de x_test es 0.0\n"
     ]
    }
   ]
  },
  {
   "cell_type": "code",
   "metadata": {
    "id": "nxmQpOYVHdhE",
    "ExecuteTime": {
     "end_time": "2023-10-31T15:56:40.237398600Z",
     "start_time": "2023-10-31T15:56:40.228478Z"
    }
   },
   "source": [
    "#\n",
    "# Función trimf(x, param): función de pertenencia triangular.\n",
    "# Argumentos:\n",
    "#   x: int, float, numpy.ndarray\n",
    "#      Contiene los valores de x en el universo de discurso\n",
    "#      para los cuales se evalúa su valor de pertenencia.\n",
    "#   param = [a, b, c]: list, numpy.ndarray\n",
    "#      contiene los parámetros de la función de pertenencia\n",
    "#      debe cumplirse a <= b <= c\n",
    "# Retorna:\n",
    "#   valor de pertencia de x según función de membresía triangular.\n",
    "#   trimf(x, param): float, si x es int, float.\n",
    "#   trimf(x, param): numpy.ndarray: si x es numpy.ndarray\n",
    "#   -1 si no es posible calcular el valor\n",
    "#\n",
    "def trimf(x, param):\n",
    "    # param = [a, b, c]\n",
    "    # a <= b <= c\n",
    "    # convertimos a flotantes para facilitar las operaciones de división siguientes\n",
    "    a = float(param[0])\n",
    "    b = float(param[1])\n",
    "    c = float(param[2])\n",
    "    if (a <= b) and (b <= c):\n",
    "        if (type(x) is int) or (type(x) is float):\n",
    "            if x <= a:\n",
    "                m = 0.0\n",
    "            elif (a <= x) and (x <= b):\n",
    "                m = (x - a) / (b - a)\n",
    "            elif (b <= x) and (x <= c):\n",
    "                m = (c - x) / (c - b)\n",
    "            else:\n",
    "                m = 0.0\n",
    "            return m\n",
    "        else:\n",
    "            m = np.zeros(x.size)\n",
    "            for i in range(x.size):\n",
    "                if x[i] <= a:\n",
    "                    m[i] = 0.0\n",
    "                elif (a <= x[i]) and (x[i] <= b):\n",
    "                    m[i] = (x[i] - a) / (b - a)\n",
    "                elif (b <= x[i]) and (x[i] <= c):\n",
    "                    m[i] = (c - x[i]) / (c - b)\n",
    "                else:\n",
    "                    m[i] = 0.0\n",
    "            return m\n",
    "    else:\n",
    "        return -1\n"
   ],
   "execution_count": 6,
   "outputs": []
  },
  {
   "cell_type": "code",
   "metadata": {
    "id": "CTrt5hdoHdhF",
    "colab": {
     "base_uri": "https://localhost:8080/",
     "height": 282
    },
    "outputId": "e0faedc2-23f3-490b-c095-8a30f598b217",
    "ExecuteTime": {
     "end_time": "2023-10-31T15:56:40.381691700Z",
     "start_time": "2023-10-31T15:56:40.235889900Z"
    }
   },
   "source": [
    "# Verificamos funcionamiento de la función para cierto universo de discurso\n",
    "x = np.linspace(-10, 10, 1000, endpoint=False)\n",
    "a, b, c = -4, -1, 8\n",
    "m = trimf(x, [a, b, c])\n",
    "plt.plot(x, m)"
   ],
   "execution_count": 7,
   "outputs": [
    {
     "data": {
      "text/plain": "[<matplotlib.lines.Line2D at 0x24d63bafd10>]"
     },
     "execution_count": 7,
     "metadata": {},
     "output_type": "execute_result"
    },
    {
     "data": {
      "text/plain": "<Figure size 640x480 with 1 Axes>",
      "image/png": "[encoded data removed]"
     },
     "metadata": {},
     "output_type": "display_data"
    }
   ]
  },
  {
   "cell_type": "code",
   "metadata": {
    "colab": {
     "base_uri": "https://localhost:8080/"
    },
    "id": "GC-B7oKlSQzj",
    "outputId": "5e0dfcd1-ac93-482f-e256-5ff484c82eee",
    "ExecuteTime": {
     "end_time": "2023-10-31T15:56:40.381691700Z",
     "start_time": "2023-10-31T15:56:40.378909200Z"
    }
   },
   "source": [
    "# Verificamos funcionamiento de la función para un valor concreto\n",
    "x_test = 2.\n",
    "print(\"\\nEjemplo: Con x_test =\", x_test, \", m(x) =\", trimf(x_test, [a, b, c]))"
   ],
   "execution_count": 8,
   "outputs": [
    {
     "name": "stdout",
     "output_type": "stream",
     "text": [
      "\n",
      "Ejemplo: Con x_test = 2.0 , m(x) = 0.6666666666666666\n"
     ]
    }
   ]
  },
  {
   "cell_type": "code",
   "metadata": {
    "id": "yx6xWMwtHdhG",
    "ExecuteTime": {
     "end_time": "2023-10-31T15:56:40.394918300Z",
     "start_time": "2023-10-31T15:56:40.381691700Z"
    }
   },
   "source": [
    "#\n",
    "# Función trapmf(x, [a, b, c, d]): función de pertenencia trapezoidal.\n",
    "# Argumentos:\n",
    "#   x: int, float, numpy.ndarray\n",
    "#      Contiene los valores de x en el universo de discurso\n",
    "#      para los cuales se evalúa su valor de pertenencia.\n",
    "#   [a, b, c, d]: list, numpy.ndarray\n",
    "#      contiene los parámetros de la función de pertenencia\n",
    "#      debe cumplirse a <= b <= c <= d\n",
    "# Retorna:\n",
    "#   valor de pertencia de x según función de membresía triangular.\n",
    "#   trapmf(x, param): float, si x es int, float.\n",
    "#   trapmf(x, param): numpy.ndarray: si x es numpy.ndarray\n",
    "#   -1 si no es posible calcular el valor\n",
    "#\n",
    "def trapmf(x, param):\n",
    "    # param = [a, b, c, d]\n",
    "    # a <= b <= c <=d\n",
    "    a = float(param[0])\n",
    "    b = float(param[1])\n",
    "    c = float(param[2])\n",
    "    d = float(param[3])\n",
    "    if (a <= b) and (b <= c) and (c <= d):\n",
    "        if (type(x) is int) or (type(x) is float):\n",
    "            if x <= a:\n",
    "                m = 0.0\n",
    "            elif (a <= x) and (x <= b):\n",
    "                m = (x - a) / (b - a)\n",
    "            elif (b <= x) and (x <= c):\n",
    "                m = 1.0\n",
    "            elif (c <= x) and (x <= d):\n",
    "                m = (d - x) / (d - c)\n",
    "            else:\n",
    "                m = 0.0\n",
    "            return m\n",
    "        else:\n",
    "            m = np.zeros(x.size)\n",
    "            for i in range(x.size):\n",
    "                if x[i] <= a:\n",
    "                    m[i] = 0.0\n",
    "                elif (a <= x[i]) and (x[i] <= b):\n",
    "                    m[i] = (x[i] - a) / (b - a)\n",
    "                elif (b <= x[i]) and (x[i] <= c):\n",
    "                    m[i] = 1.0\n",
    "                elif (c <= x[i]) and (x[i] <= d):\n",
    "                    m[i] = (d - x[i]) / (d - c)\n",
    "                else:\n",
    "                    m[i] = 0.0\n",
    "            return m\n",
    "    else:\n",
    "        return -1\n"
   ],
   "execution_count": 9,
   "outputs": []
  },
  {
   "cell_type": "code",
   "metadata": {
    "id": "j0N4eKlmHdhG",
    "colab": {
     "base_uri": "https://localhost:8080/",
     "height": 282
    },
    "outputId": "331ba30a-1b08-4dfb-c174-758af3a07680",
    "ExecuteTime": {
     "end_time": "2023-10-31T15:56:40.520450500Z",
     "start_time": "2023-10-31T15:56:40.390412Z"
    }
   },
   "source": [
    "# Verificamos funcionamiento de la función para cierto universo de discurso\n",
    "x = np.linspace(0, 10, 1001, endpoint=True)\n",
    "a, b, c, d = 2, 5, 7, 8\n",
    "m = trapmf(x, [a, b, c, d])\n",
    "plt.plot(x, m)"
   ],
   "execution_count": 10,
   "outputs": [
    {
     "data": {
      "text/plain": "[<matplotlib.lines.Line2D at 0x24d63c308d0>]"
     },
     "execution_count": 10,
     "metadata": {},
     "output_type": "execute_result"
    },
    {
     "data": {
      "text/plain": "<Figure size 640x480 with 1 Axes>",
      "image/png": "[encoded data removed]"
     },
     "metadata": {},
     "output_type": "display_data"
    }
   ]
  },
  {
   "cell_type": "code",
   "metadata": {
    "colab": {
     "base_uri": "https://localhost:8080/"
    },
    "id": "ah3M573LSpdl",
    "outputId": "926287c9-df1f-4d86-831c-6389069aec32",
    "ExecuteTime": {
     "end_time": "2023-10-31T15:56:40.520450500Z",
     "start_time": "2023-10-31T15:56:40.514310900Z"
    }
   },
   "source": [
    "# Verificamos funcionamiento de la función para un valor concreto\n",
    "x_test = 7.5\n",
    "print(\"\\nEjemplo: Con x_test =\", x_test, \", m(x) =\", trapmf(x_test, [a, b, c, d]))"
   ],
   "execution_count": 11,
   "outputs": [
    {
     "name": "stdout",
     "output_type": "stream",
     "text": [
      "\n",
      "Ejemplo: Con x_test = 7.5 , m(x) = 0.5\n"
     ]
    }
   ]
  },
  {
   "cell_type": "markdown",
   "metadata": {
    "id": "-YkojJiaHdhH"
   },
   "source": [
    "<h3>EJERCICIO</h3>\n",
    "<h4>Construcción de funciones de membresía</h4>\n",
    "<ol>\n",
    "<li>Tomando como ejemplo las funciones singleton, trimf y trapmf, codifica las funciones <b>gaussmf, gbellmf y sigmf</b>\n",
    "<li>Verifica el funcionamiento de las funciones representando gráficamente a partir de los códigos de prueba que se proponen.\n",
    "</ol>"
   ]
  },
  {
   "cell_type": "code",
   "metadata": {
    "id": "fc7cKcffHdhH",
    "ExecuteTime": {
     "end_time": "2023-10-31T15:56:40.520450500Z",
     "start_time": "2023-10-31T15:56:40.514818100Z"
    }
   },
   "source": [
    "#\n",
    "# Función gaussmf(x, param): función de pertenencia gaussiana.\n",
    "# Argumentos:\n",
    "#   x: int, float, numpy.ndarray\n",
    "#      Contiene los valores de x en el universo de discurso\n",
    "#      para los cuales se evalúa su valor de pertenencia.\n",
    "#   param = [sig, x0]: list, numpy.ndarray\n",
    "#      contiene los parámetros de la función de pertenencia\n",
    "#      debe cumplirse sig > 0\n",
    "# Retorna:\n",
    "#   valor de pertencia de x según función de membresía triangular.\n",
    "#   gaussmf(x, param): float, si x es int, float.\n",
    "#   gaussmf(x, param): numpy.ndarray: si x es numpy.ndarray\n",
    "#   -1 si no es posible calcular el valor\n",
    "#\n",
    "\n",
    "def gaussmf(x, param):\n",
    "    # param = [sig, x0]\n",
    "    # sig > 0\n",
    "    sig = param[0]\n",
    "    x0 = param[1]\n",
    "    if (sig > 0):\n",
    "        # Escribe aquí el código\n",
    "        return math.e ** (-0.5 * ((x - x0) / sig) ** 2)\n",
    "    else:\n",
    "        return -1\n"
   ],
   "execution_count": 12,
   "outputs": []
  },
  {
   "cell_type": "code",
   "metadata": {
    "id": "B1NE3yLcHdhI",
    "ExecuteTime": {
     "end_time": "2023-10-31T15:56:40.647101Z",
     "start_time": "2023-10-31T15:56:40.520450500Z"
    }
   },
   "source": [
    "# Verificamos el funcionamiento de la función para el caso general (elementos del universo de discurso)\n",
    "x = np.linspace(0, 10, 1001, endpoint=True)\n",
    "sig, x0 = 1, 5\n",
    "m = gaussmf(x, [sig, x0])\n",
    "plt.plot(x, m)"
   ],
   "execution_count": 13,
   "outputs": [
    {
     "data": {
      "text/plain": "[<matplotlib.lines.Line2D at 0x24d63c86f50>]"
     },
     "execution_count": 13,
     "metadata": {},
     "output_type": "execute_result"
    },
    {
     "data": {
      "text/plain": "<Figure size 640x480 with 1 Axes>",
      "image/png": "[encoded data removed]"
     },
     "metadata": {},
     "output_type": "display_data"
    }
   ]
  },
  {
   "cell_type": "code",
   "metadata": {
    "id": "qxXknD77U4Zw",
    "ExecuteTime": {
     "end_time": "2023-10-31T15:56:40.653080500Z",
     "start_time": "2023-10-31T15:56:40.646065300Z"
    }
   },
   "source": [
    "# Verificamos funcionamiento de la función para un valor concreto\n",
    "x_test = 6\n",
    "print(\"Ejemplo: Con x_test =\", x_test, \", m(x) =\", gaussmf(x_test, [sig, x0]))"
   ],
   "execution_count": 14,
   "outputs": [
    {
     "name": "stdout",
     "output_type": "stream",
     "text": [
      "Ejemplo: Con x_test = 6 , m(x) = 0.6065306597126334\n"
     ]
    }
   ]
  },
  {
   "cell_type": "code",
   "metadata": {
    "id": "-hrxA3XcHdhI",
    "ExecuteTime": {
     "end_time": "2023-10-31T15:56:40.653080500Z",
     "start_time": "2023-10-31T15:56:40.648675300Z"
    }
   },
   "source": [
    "#\n",
    "# Función gbellmf(x, param): función de pertenencia campana generalizada.\n",
    "#   x: int, float, numpy.ndarray\n",
    "#      Contiene los valores de x en el universo de discurso\n",
    "#      para los cuales se evalúa su valor de pertenencia.\n",
    "#   param = [a, b, x0]: list, numpy.ndarray\n",
    "#      contiene los parámetros de la función de pertenencia\n",
    "#      debe cumplirse a, b > 0\n",
    "# Retorna:\n",
    "#   valor de pertencia de x según función de membresía triangular.\n",
    "#   gbellmf(x, param): float, si x es int, float.\n",
    "#   gbellmf(x, param): numpy.ndarray: si x es numpy.ndarray\n",
    "#   -1 si no es posible calcular el valor\n",
    "#\n",
    "def gbellmf(x, param):\n",
    "    # param = [a, b, x0]\n",
    "    # a, b > 0\n",
    "    a = param[0]\n",
    "    b = param[1]\n",
    "    x0 = param[2]\n",
    "    if (a > 0) and (b > 0):\n",
    "        # Escribe aquí el código\n",
    "        return 1 / (1 + abs((x - x0) / 2) ** (2 * b))\n",
    "    else:\n",
    "        return -1\n"
   ],
   "execution_count": 15,
   "outputs": []
  },
  {
   "cell_type": "code",
   "metadata": {
    "id": "CKgxgdW5HdhJ",
    "ExecuteTime": {
     "end_time": "2023-10-31T15:56:40.830450700Z",
     "start_time": "2023-10-31T15:56:40.653080500Z"
    }
   },
   "source": [
    "# Verificamos el funcionamiento de la función para el caso general (elementos del universo de discurso)\n",
    "x = np.linspace(0, 10, 1001)\n",
    "a, b, x0 = 3, 4, 5\n",
    "m = gbellmf(x, [a, b, x0])\n",
    "plt.plot(x, m)"
   ],
   "execution_count": 16,
   "outputs": [
    {
     "data": {
      "text/plain": "[<matplotlib.lines.Line2D at 0x24d63bdcd50>]"
     },
     "execution_count": 16,
     "metadata": {},
     "output_type": "execute_result"
    },
    {
     "data": {
      "text/plain": "<Figure size 640x480 with 1 Axes>",
      "image/png": "[encoded data removed]"
     },
     "metadata": {},
     "output_type": "display_data"
    }
   ]
  },
  {
   "cell_type": "code",
   "metadata": {
    "id": "xXGLJpFAVqvJ",
    "ExecuteTime": {
     "end_time": "2023-10-31T15:56:40.830450700Z",
     "start_time": "2023-10-31T15:56:40.772483300Z"
    }
   },
   "source": [
    "# Verificamos funcionamiento de la función para un valor concreto\n",
    "x_test = 6\n",
    "print(\"\\nEjemplo: Con x_test =\", x_test, \", m(x) =\", gbellmf(x_test, [a, b, x0]))"
   ],
   "execution_count": 17,
   "outputs": [
    {
     "name": "stdout",
     "output_type": "stream",
     "text": [
      "\n",
      "Ejemplo: Con x_test = 6 , m(x) = 0.9961089494163424\n"
     ]
    }
   ]
  },
  {
   "cell_type": "code",
   "metadata": {
    "id": "cmKIcKR6HdhJ",
    "ExecuteTime": {
     "end_time": "2023-10-31T15:56:40.830450700Z",
     "start_time": "2023-10-31T15:56:40.776407400Z"
    }
   },
   "source": [
    "#\n",
    "# Función sigmf(): función de pertenencia sigmoidal.\n",
    "#   x: int, float, numpy.ndarray\n",
    "#      Contiene los valores de x en el universo de discurso\n",
    "#      para los cuales se evalúa su valor de pertenencia.\n",
    "#   param = [a, x0]: list, numpy.ndarray\n",
    "#      contiene los parámetros de la función de pertenencia\n",
    "# Retorna:\n",
    "#   valor de pertencia de x según función de membresía triangular.\n",
    "#   sigmf(x, param): float, si x es int, float.\n",
    "#   sigmf(x, param): numpy.ndarray: si x es numpy.ndarray\n",
    "#   -1 si no es posible calcular el valor\n",
    "#\n",
    "def sigmf(x, param):\n",
    "    # param = [a, x0]\n",
    "    a = param[0]\n",
    "    x0 = param[1]\n",
    "\n",
    "    # Escribe aquí el código\n",
    "    return 1 / (1 + math.e ** (-a * (x - x0)))"
   ],
   "execution_count": 18,
   "outputs": []
  },
  {
   "cell_type": "code",
   "metadata": {
    "id": "qZkgpHzWHdhK",
    "ExecuteTime": {
     "end_time": "2023-10-31T15:56:40.967840Z",
     "start_time": "2023-10-31T15:56:40.783214100Z"
    }
   },
   "source": [
    "# Verificamos el funcionamiento de la función para el caso general (elementos del universo de discurso)\n",
    "x = np.linspace(0, 10, 1001)\n",
    "a, x0 = 1, 5\n",
    "m = sigmf(x, [a, x0])\n",
    "plt.plot(x, m)"
   ],
   "execution_count": 19,
   "outputs": [
    {
     "data": {
      "text/plain": "[<matplotlib.lines.Line2D at 0x24d65d9ea50>]"
     },
     "execution_count": 19,
     "metadata": {},
     "output_type": "execute_result"
    },
    {
     "data": {
      "text/plain": "<Figure size 640x480 with 1 Axes>",
      "image/png": "[encoded data removed]"
     },
     "metadata": {},
     "output_type": "display_data"
    }
   ]
  },
  {
   "cell_type": "code",
   "metadata": {
    "id": "KOiS7ZbLWBw6",
    "ExecuteTime": {
     "end_time": "2023-10-31T15:56:40.967840Z",
     "start_time": "2023-10-31T15:56:40.964208200Z"
    }
   },
   "source": [
    "# Verificamos funcionamiento de la función para un valor concreto\n",
    "x_test = 6\n",
    "print(\"\\nEjemplo: Con x_test =\", x_test, \", m(x) =\", sigmf(x_test, [a, x0]))"
   ],
   "execution_count": 20,
   "outputs": [
    {
     "name": "stdout",
     "output_type": "stream",
     "text": [
      "\n",
      "Ejemplo: Con x_test = 6 , m(x) = 0.7310585786300049\n"
     ]
    }
   ]
  }
 ]
}
