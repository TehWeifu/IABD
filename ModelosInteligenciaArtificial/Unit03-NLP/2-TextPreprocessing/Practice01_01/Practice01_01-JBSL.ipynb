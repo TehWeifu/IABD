{
 "cells": [
  {
   "cell_type": "code",
   "execution_count": 123,
   "outputs": [],
   "source": [
    "import requests\n",
    "from bs4 import BeautifulSoup\n",
    "import re\n",
    "import spacy\n",
    "from nltk.stem import PorterStemmer\n",
    "import matplotlib.pyplot as plt\n",
    "import numpy as np"
   ],
   "metadata": {
    "collapsed": false,
    "ExecuteTime": {
     "end_time": "2023-11-28T18:11:00.628220100Z",
     "start_time": "2023-11-28T18:10:59.779698700Z"
    }
   },
   "id": "8c0c455fa7ea4052"
  },
  {
   "cell_type": "markdown",
   "source": [
    "1. Obtencion del contenido de la web"
   ],
   "metadata": {
    "collapsed": false
   },
   "id": "8b2e45e338c65d0e"
  },
  {
   "cell_type": "code",
   "execution_count": 124,
   "outputs": [],
   "source": [
    "url = 'https://es.wikipedia.org/wiki/Alan_Turing'\n",
    "webpage_response = requests.get(url)"
   ],
   "metadata": {
    "collapsed": false,
    "ExecuteTime": {
     "end_time": "2023-11-28T18:11:01.077492Z",
     "start_time": "2023-11-28T18:11:00.628220100Z"
    }
   },
   "id": "63c7d7bfdff59313"
  },
  {
   "cell_type": "code",
   "execution_count": 125,
   "id": "initial_id",
   "metadata": {
    "collapsed": true,
    "ExecuteTime": {
     "end_time": "2023-11-28T18:11:01.150997300Z",
     "start_time": "2023-11-28T18:11:01.077492Z"
    }
   },
   "outputs": [],
   "source": [
    "webpage = webpage_response.content\n",
    "soup = BeautifulSoup(webpage, \"html.parser\")"
   ]
  },
  {
   "cell_type": "code",
   "execution_count": 126,
   "outputs": [],
   "source": [
    "paragraph = soup.select(\"p:nth-of-type(2)\")[0]\n",
    "text = paragraph.get_text().strip().strip()"
   ],
   "metadata": {
    "collapsed": false,
    "ExecuteTime": {
     "end_time": "2023-11-28T18:11:01.163319Z",
     "start_time": "2023-11-28T18:11:01.161951400Z"
    }
   },
   "id": "ed06bc2c8943d1c"
  },
  {
   "cell_type": "markdown",
   "source": [
    "2. aplicación de diferentes técnicas de preprocesamiento de texto"
   ],
   "metadata": {
    "collapsed": false
   },
   "id": "28021de399e0d991"
  },
  {
   "cell_type": "markdown",
   "source": [
    "a. Elimina todos los signos de puntuación y todo aquello que no sean palabras1."
   ],
   "metadata": {
    "collapsed": false
   },
   "id": "1a7c649cec2871e2"
  },
  {
   "cell_type": "code",
   "execution_count": 127,
   "outputs": [],
   "source": [
    "text = re.sub(\"\\.|\\(\\d+\\)|:\", \"\", text)"
   ],
   "metadata": {
    "collapsed": false,
    "ExecuteTime": {
     "end_time": "2023-11-28T18:11:01.170514Z",
     "start_time": "2023-11-28T18:11:01.163319Z"
    }
   },
   "id": "c33da0200ebf19f1"
  },
  {
   "cell_type": "markdown",
   "source": [
    "b. Cambia todas las palabras a minúsculas."
   ],
   "metadata": {
    "collapsed": false
   },
   "id": "eb37f44b16c5598"
  },
  {
   "cell_type": "code",
   "execution_count": 128,
   "outputs": [],
   "source": [
    "text = text.lower()"
   ],
   "metadata": {
    "collapsed": false,
    "ExecuteTime": {
     "end_time": "2023-11-28T18:11:01.176402100Z",
     "start_time": "2023-11-28T18:11:01.171432300Z"
    }
   },
   "id": "c24b32e2832f9a45"
  },
  {
   "cell_type": "markdown",
   "source": [
    "c. Tokeniza la cadena obtenida"
   ],
   "metadata": {
    "collapsed": false
   },
   "id": "c7ba75b8597429ec"
  },
  {
   "cell_type": "code",
   "execution_count": 129,
   "outputs": [
    {
     "name": "stderr",
     "output_type": "stream",
     "text": [
      "C:\\Python311\\Lib\\site-packages\\spacy\\util.py:910: UserWarning: [W095] Model 'es_core_news_sm' (3.1.0) was trained with spaCy v3.1.0 and may not be 100% compatible with the current version (3.7.2). If you see errors or degraded performance, download a newer compatible model or retrain your custom model with the current spaCy version. For more details and available updates, run: python -m spacy validate\n",
      "  warnings.warn(warn_msg)\n"
     ]
    }
   ],
   "source": [
    "nlp = spacy.load('es_core_news_sm')\n",
    "\n",
    "tokens = nlp(text)"
   ],
   "metadata": {
    "collapsed": false,
    "ExecuteTime": {
     "end_time": "2023-11-28T18:11:01.505467400Z",
     "start_time": "2023-11-28T18:11:01.175714700Z"
    }
   },
   "id": "2bdb9e972e22be30"
  },
  {
   "cell_type": "markdown",
   "source": [
    "d. Lematiza la cadena obtenida"
   ],
   "metadata": {
    "collapsed": false
   },
   "id": "8ecf67569dc4d0"
  },
  {
   "cell_type": "code",
   "execution_count": 130,
   "outputs": [],
   "source": [
    "tokens_lemmas = [token.lemma_ for token in tokens]"
   ],
   "metadata": {
    "collapsed": false,
    "ExecuteTime": {
     "end_time": "2023-11-28T18:11:01.507617700Z",
     "start_time": "2023-11-28T18:11:01.505467400Z"
    }
   },
   "id": "a4f3ea134393db63"
  },
  {
   "cell_type": "markdown",
   "source": [
    "e. Elimina todas las palabras irrelevantes"
   ],
   "metadata": {
    "collapsed": false
   },
   "id": "41b03fbb37727fa7"
  },
  {
   "cell_type": "code",
   "execution_count": 131,
   "outputs": [],
   "source": [
    "filtered_tokens = [token.lemma_ for token in tokens if not token.is_stop]"
   ],
   "metadata": {
    "collapsed": false,
    "ExecuteTime": {
     "end_time": "2023-11-28T18:11:01.516074Z",
     "start_time": "2023-11-28T18:11:01.507617700Z"
    }
   },
   "id": "1fbfee8aac432630"
  },
  {
   "cell_type": "markdown",
   "source": [
    "3. Categorización del texto:"
   ],
   "metadata": {
    "collapsed": false
   },
   "id": "f07e19647c9813c7"
  },
  {
   "cell_type": "code",
   "execution_count": 132,
   "outputs": [
    {
     "name": "stdout",
     "output_type": "stream",
     "text": [
      "El texto es informativo\n"
     ]
    }
   ],
   "source": [
    "text_categories = {\n",
    "    \"ADJ\": 0,\n",
    "    \"ADV\": 0,\n",
    "    \"NOUN\": 0,\n",
    "    \"VERB\": 0\n",
    "}\n",
    "\n",
    "for token in tokens:\n",
    "    category = token.pos_\n",
    "    if category in text_categories:\n",
    "        text_categories[category] = text_categories[category] + 1\n",
    "\n",
    "if text_categories[\"VERB\"] > 5:\n",
    "    print(\"El texto es narrativo\")\n",
    "elif text_categories[\"NOUN\"] > 5:\n",
    "    print(\"El texto es informativo\")\n",
    "elif text_categories[\"ADJ\"] > 2:\n",
    "    print(\"El texto es descriptivo\")\n",
    "elif text_categories[\"ADV\"] > 2:\n",
    "    print(\"El texto es explicativo\")\n",
    "else:\n",
    "    print(\"La categoría del texto es desconocida\")"
   ],
   "metadata": {
    "collapsed": false,
    "ExecuteTime": {
     "end_time": "2023-11-28T18:11:01.520693100Z",
     "start_time": "2023-11-28T18:11:01.516074Z"
    }
   },
   "id": "9c1f8bf4f2b9fc0f"
  },
  {
   "cell_type": "code",
   "execution_count": 133,
   "outputs": [
    {
     "data": {
      "text/plain": "<Figure size 640x480 with 1 Axes>",
      "image/png": "[encoded data removed]"
     },
     "metadata": {},
     "output_type": "display_data"
    }
   ],
   "source": [
    "plt.bar(text_categories.keys(), text_categories.values())\n",
    "plt.xlabel('Text Categories')\n",
    "plt.ylabel('Count')\n",
    "plt.title('Distribution of Text Categories')\n",
    "plt.show()"
   ],
   "metadata": {
    "collapsed": false,
    "ExecuteTime": {
     "end_time": "2023-11-28T18:11:01.650955800Z",
     "start_time": "2023-11-28T18:11:01.522643Z"
    }
   },
   "id": "b78f1ce293901fc0"
  }
 ],
 "metadata": {
  "kernelspec": {
   "display_name": "Python 3",
   "language": "python",
   "name": "python3"
  },
  "language_info": {
   "codemirror_mode": {
    "name": "ipython",
    "version": 2
   },
   "file_extension": ".py",
   "mimetype": "text/x-python",
   "name": "python",
   "nbconvert_exporter": "python",
   "pygments_lexer": "ipython2",
   "version": "2.7.6"
  }
 },
 "nbformat": 4,
 "nbformat_minor": 5
}
