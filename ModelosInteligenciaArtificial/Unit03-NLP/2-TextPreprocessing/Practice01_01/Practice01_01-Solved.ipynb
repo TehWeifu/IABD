{
 "nbformat": 4,
 "nbformat_minor": 0,
 "metadata": {
  "colab": {
   "name": "PLN - P1 :: Preprocesar el texto de una página web en Wikipedia.ipynb",
   "provenance": [],
   "collapsed_sections": [],
   "authorship_tag": "ABX9TyPEhAASHBmYtF465RVrCCzT"
  },
  "kernelspec": {
   "name": "python3",
   "display_name": "Python 3"
  },
  "language_info": {
   "name": "python"
  }
 },
 "cells": [
  {
   "cell_type": "code",
   "metadata": {
    "id": "3ydHIGP4qgWA"
   },
   "source": [
    "# Importamos las librerías necesarias\n",
    "import nltk\n",
    "import re\n",
    "import matplotlib as plt\n",
    "from bs4 import BeautifulSoup\n",
    "import requests"
   ],
   "execution_count": null,
   "outputs": []
  },
  {
   "cell_type": "code",
   "metadata": {
    "colab": {
     "base_uri": "https://localhost:8080/"
    },
    "id": "G-b0nZYRrJvJ",
    "executionInfo": {
     "status": "ok",
     "timestamp": 1638526182191,
     "user_tz": -60,
     "elapsed": 607,
     "user": {
      "displayName": "Toni Cambra González",
      "photoUrl": "https://lh3.googleusercontent.com/a-/AOh14GhOv6f_r8Yzb7Tz_VRPPuMQIeJiHzrQaqEABvzs=s64",
      "userId": "12572791129026060955"
     }
    },
    "outputId": "96bf946a-d163-4fa9-f8eb-82f5bba267dc"
   },
   "source": [
    "# 1. Obtención del contenido de la web (primer párrafo de la página de Turing en español)\n",
    "res = requests.get(\"https://es.wikipedia.org/wiki/Alan_Turing\")\n",
    "soup = BeautifulSoup(res.text, 'html.parser')\n",
    "for idx, item in enumerate(soup.find_all(\"p\")):\n",
    "    if idx == 1:\n",
    "        break\n",
    "print(item.text)"
   ],
   "execution_count": null,
   "outputs": [
    {
     "output_type": "stream",
     "name": "stdout",
     "text": [
      "Es considerado uno de los padres de la ciencia de la computación y precursor de la informática moderna. Proporcionó una influyente formalización de los conceptos de algoritmo y computación: la máquina de Turing. Formuló su propia versión que hoy es ampliamente aceptada como la tesis de Church-Turing (1936).\n"
     ]
    }
   ]
  },
  {
   "cell_type": "code",
   "metadata": {
    "colab": {
     "base_uri": "https://localhost:8080/"
    },
    "id": "qr2JcJ6IroGC",
    "executionInfo": {
     "status": "ok",
     "timestamp": 1638526915469,
     "user_tz": -60,
     "elapsed": 247,
     "user": {
      "displayName": "Toni Cambra González",
      "photoUrl": "https://lh3.googleusercontent.com/a-/AOh14GhOv6f_r8Yzb7Tz_VRPPuMQIeJiHzrQaqEABvzs=s64",
      "userId": "12572791129026060955"
     }
    },
    "outputId": "339df96d-fae0-4412-bb02-93cdf20b6888"
   },
   "source": [
    "# 2a. Eliminación de todos los signos de puntuación (los puntos que separan frases, en particular) y el año\n",
    "dotless_text = re.sub(\"\\.|\\(\\d+\\)|\\:\",\"\", item.text)\n",
    "print(dotless_text)"
   ],
   "execution_count": null,
   "outputs": [
    {
     "output_type": "stream",
     "name": "stdout",
     "text": [
      "Es considerado uno de los padres de la ciencia de la computación y precursor de la informática moderna Proporcionó una influyente formalización de los conceptos de algoritmo y computación la máquina de Turing Formuló su propia versión que hoy es ampliamente aceptada como la tesis de Church-Turing \n"
     ]
    }
   ]
  },
  {
   "cell_type": "code",
   "metadata": {
    "id": "SirheeN7u4O3"
   },
   "source": [
    "# 2b. Cambio de todas las palabras a minúsculas\n",
    "dotless_text_low = dotless_text.lower()"
   ],
   "execution_count": null,
   "outputs": []
  },
  {
   "cell_type": "code",
   "metadata": {
    "colab": {
     "base_uri": "https://localhost:8080/"
    },
    "id": "vyOZlKHmv51i",
    "executionInfo": {
     "status": "ok",
     "timestamp": 1638526961632,
     "user_tz": -60,
     "elapsed": 267,
     "user": {
      "displayName": "Toni Cambra González",
      "photoUrl": "https://lh3.googleusercontent.com/a-/AOh14GhOv6f_r8Yzb7Tz_VRPPuMQIeJiHzrQaqEABvzs=s64",
      "userId": "12572791129026060955"
     }
    },
    "outputId": "da785bc5-16c8-494b-fb46-d69b16fa3da2"
   },
   "source": [
    "# 2c. Tokenización\n",
    "from nltk.tokenize import word_tokenize\n",
    "nltk.download('punkt')\n",
    "\n",
    "tokenized = word_tokenize(dotless_text_low)\n",
    "print(tokenized)"
   ],
   "execution_count": null,
   "outputs": [
    {
     "output_type": "stream",
     "name": "stdout",
     "text": [
      "[nltk_data] Downloading package punkt to /root/nltk_data...\n",
      "[nltk_data]   Package punkt is already up-to-date!\n",
      "['es', 'considerado', 'uno', 'de', 'los', 'padres', 'de', 'la', 'ciencia', 'de', 'la', 'computación', 'y', 'precursor', 'de', 'la', 'informática', 'moderna', 'proporcionó', 'una', 'influyente', 'formalización', 'de', 'los', 'conceptos', 'de', 'algoritmo', 'y', 'computación', 'la', 'máquina', 'de', 'turing', 'formuló', 'su', 'propia', 'versión', 'que', 'hoy', 'es', 'ampliamente', 'aceptada', 'como', 'la', 'tesis', 'de', 'church-turing']\n"
     ]
    }
   ]
  },
  {
   "cell_type": "code",
   "metadata": {
    "id": "IWCkKlWQzKCz"
   },
   "source": [
    "# 2d. Lematización\n",
    "!pip install stanza\n",
    "\n",
    "import stanza\n",
    "stanza.download(\"es\")\n",
    "nlp = stanza.Pipeline(lang='es', processors='tokenize,mwt,pos,lemma')\n",
    "\n",
    "doc = nlp(dotless_text_low)\n",
    "lemas_esp = []\n",
    "words_lemmatized = [ [word.text, word.lemma] for sent in doc.sentences for word in sent.words ]\n",
    "for words in words_lemmatized:\n",
    "    lemas_esp.append(words[1])\n",
    "print(lemas_esp)"
   ],
   "execution_count": null,
   "outputs": []
  },
  {
   "cell_type": "code",
   "metadata": {
    "colab": {
     "base_uri": "https://localhost:8080/"
    },
    "id": "J40yd1ivvHav",
    "executionInfo": {
     "status": "ok",
     "timestamp": 1638527218858,
     "user_tz": -60,
     "elapsed": 250,
     "user": {
      "displayName": "Toni Cambra González",
      "photoUrl": "https://lh3.googleusercontent.com/a-/AOh14GhOv6f_r8Yzb7Tz_VRPPuMQIeJiHzrQaqEABvzs=s64",
      "userId": "12572791129026060955"
     }
    },
    "outputId": "a39e50b2-3465-41f9-fa17-aa90b2b2324b"
   },
   "source": [
    "# 2e. Eliminación de términos irrelevantes\n",
    "from nltk.corpus import stopwords\n",
    "nltk.download('stopwords')\n",
    "stop_words = set(stopwords.words('spanish'))\n",
    "\n",
    "cleaned_text = [ word for word in lemas if word not in stop_words ]\n",
    "print(cleaned_text)"
   ],
   "execution_count": null,
   "outputs": [
    {
     "output_type": "stream",
     "name": "stdout",
     "text": [
      "[nltk_data] Downloading package stopwords to /root/nltk_data...\n",
      "[nltk_data]   Package stopwords is already up-to-date!\n",
      "['ser', 'considerar', 'padre', 'ciencia', 'computación', 'precursor', 'informática', 'moderno', 'proporcionar', 'influyente', 'formalización', 'concepto', 'algoritmo', 'computación', 'máquina', 'turing', 'formular', 'propio', 'versión', 'hoy', 'ser', 'ampliamente', 'aceptado', 'tesis', 'church-turing']\n"
     ]
    }
   ]
  },
  {
   "cell_type": "code",
   "metadata": {
    "colab": {
     "base_uri": "https://localhost:8080/",
     "height": 543
    },
    "id": "EKUNd76o1eBe",
    "executionInfo": {
     "status": "ok",
     "timestamp": 1638533939561,
     "user_tz": -60,
     "elapsed": 1698,
     "user": {
      "displayName": "Toni Cambra González",
      "photoUrl": "https://lh3.googleusercontent.com/a-/AOh14GhOv6f_r8Yzb7Tz_VRPPuMQIeJiHzrQaqEABvzs=s64",
      "userId": "12572791129026060955"
     }
    },
    "outputId": "fbf15ba0-4244-4ec0-d664-b9de3d117750"
   },
   "source": [
    "# 3. Etiquetado del discurso (para la versión en INGLÉS)\n",
    "import nltk\n",
    "#nltk.download('wordnet')\n",
    "from nltk.stem import WordNetLemmatizer\n",
    "from nltk.corpus import wordnet\n",
    "from collections import Counter\n",
    "from nltk.corpus import stopwords\n",
    "#nltk.download('stopwords')\n",
    "#!pip install stanza\n",
    "import stanza\n",
    "#stanza.download(\"en\")\n",
    "import matplotlib.pyplot as plt\n",
    "import numpy as np\n",
    "\n",
    "\n",
    "\n",
    "def get_part_of_speech(item):\n",
    "  probable_part_of_speech = wordnet.synsets(item)\n",
    "  pos_counts = Counter()\n",
    "  pos_counts[\"n\"] = len ([ item for item in probable_part_of_speech if item.pos() ==\"n\"])\n",
    "  pos_counts[\"v\"] = len ([ item for item in probable_part_of_speech if item.pos() ==\"v\"])\n",
    "  pos_counts[\"a\"] = len ([ item for item in probable_part_of_speech if item.pos() ==\"a\"])\n",
    "  pos_counts[\"r\"] = len ([ item for item in probable_part_of_speech if item.pos() ==\"r\"])\n",
    "  most_probable_part_of_speech = pos_counts.most_common(1)[0][0]\n",
    "  return most_probable_part_of_speech\n",
    "\n",
    "# Extraemos el párrafo\n",
    "res = requests.get(\"https://en.wikipedia.org/wiki/Alan_Turing\")\n",
    "soup = BeautifulSoup(res.text, 'html.parser')\n",
    "for idx, item in enumerate(soup.find_all(\"p\")):\n",
    "    if idx == 2:\n",
    "        break\n",
    "\n",
    "# Lo limpiamos\n",
    "text_cleaned = re.sub(\"\\.|\\(\\d+\\)|\\:|\\,|\\[?\\d\\]?\",\"\", item.text).lower()\n",
    "\n",
    "# Lo lematizamos\n",
    "nlp = stanza.Pipeline(lang='en', processors='tokenize,mwt,pos,lemma')\n",
    "doc = nlp(text_cleaned)\n",
    "lemas_eng = []\n",
    "words_lemmatized = [ [word.text, word.lemma] for sent in doc.sentences for word in sent.words ]\n",
    "for words in words_lemmatized:\n",
    "    lemas_eng.append(words[1])\n",
    "\n",
    "# Eliminamos las palabras irrelevantes\n",
    "stop_words = set(stopwords.words('english'))\n",
    "cleaned_text = [ word for word in lemas_eng if word not in stop_words ]\n",
    "\n",
    "\n",
    "# Averiguamos la parte del discurso de cada término\n",
    "words_pos = [ get_part_of_speech(word) for word in cleaned_text ]\n",
    "word_pos_count = dict(Counter(words_pos))\n",
    "\n",
    "\n",
    "# Representamos cuántas aparaciones hay de cada categoría\n",
    "eje_x = np.arange(len(word_pos_count))\n",
    "eje_y = list(word_pos_count.values())\n",
    "plt.bar(eje_x, eje_y)\n",
    "plt.xticks(eje_x, ['verbo','nombre','adjetivo','adverbio']);\n",
    "plt.show()"
   ],
   "execution_count": null,
   "outputs": [
    {
     "output_type": "stream",
     "name": "stderr",
     "text": [
      "2021-12-03 12:18:58 WARNING: Can not find mwt: default from official model list. Ignoring it.\n",
      "2021-12-03 12:18:58 INFO: Loading these models for language: en (English):\n",
      "========================\n",
      "| Processor | Package  |\n",
      "------------------------\n",
      "| tokenize  | combined |\n",
      "| pos       | combined |\n",
      "| lemma     | combined |\n",
      "========================\n",
      "\n",
      "2021-12-03 12:18:58 INFO: Use device: cpu\n",
      "2021-12-03 12:18:58 INFO: Loading: tokenize\n",
      "2021-12-03 12:18:58 INFO: Loading: pos\n",
      "2021-12-03 12:18:58 INFO: Loading: lemma\n",
      "2021-12-03 12:18:58 INFO: Done loading processors!\n"
     ]
    },
    {
     "output_type": "stream",
     "name": "stdout",
     "text": [
      "{'v': 24, 'n': 79, 'a': 8, 'r': 2}\n"
     ]
    },
    {
     "output_type": "display_data",
     "data": {
      "image/png": "[encoded data removed]",
      "text/plain": [
       "<Figure size 432x288 with 1 Axes>"
      ]
     },
     "metadata": {
      "needs_background": "light"
     }
    }
   ]
  },
  {
   "cell_type": "code",
   "metadata": {
    "id": "dWjAnT37zIlr"
   },
   "source": [],
   "execution_count": null,
   "outputs": []
  }
 ]
}
