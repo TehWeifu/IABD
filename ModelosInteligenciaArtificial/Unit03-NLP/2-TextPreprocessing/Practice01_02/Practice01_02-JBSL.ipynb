{
 "cells": [
  {
   "cell_type": "code",
   "execution_count": 24,
   "id": "initial_id",
   "metadata": {
    "collapsed": true,
    "ExecuteTime": {
     "end_time": "2023-12-05T16:08:52.515604500Z",
     "start_time": "2023-12-05T16:08:52.491228800Z"
    }
   },
   "outputs": [],
   "source": [
    "import requests\n",
    "from bs4 import BeautifulSoup\n",
    "import re\n",
    "import spacy\n",
    "from collections import Counter"
   ]
  },
  {
   "cell_type": "markdown",
   "source": [
    "1. Realiza scraping de la página de historia de \"Books to Scrape\" para obtener información sobre los libros."
   ],
   "metadata": {
    "collapsed": false
   },
   "id": "8f0ac4793b1a9685"
  },
  {
   "cell_type": "code",
   "execution_count": 25,
   "outputs": [],
   "source": [
    "url = \"https://books.toscrape.com/catalogue/category/books/history_32/index.html\"\n",
    "webpage_response = requests.get(url)"
   ],
   "metadata": {
    "collapsed": false,
    "ExecuteTime": {
     "end_time": "2023-12-05T16:08:53.438460100Z",
     "start_time": "2023-12-05T16:08:52.495186500Z"
    }
   },
   "id": "c2ef8c742c9649f6"
  },
  {
   "cell_type": "code",
   "execution_count": 26,
   "outputs": [],
   "source": [
    "webpage = webpage_response.content\n",
    "soup = BeautifulSoup(webpage, \"html.parser\")"
   ],
   "metadata": {
    "collapsed": false,
    "ExecuteTime": {
     "end_time": "2023-12-05T16:08:53.463133700Z",
     "start_time": "2023-12-05T16:08:53.438460100Z"
    }
   },
   "id": "7d060885a6ea6392"
  },
  {
   "cell_type": "code",
   "execution_count": 27,
   "outputs": [],
   "source": [
    "book_links = soup.select(\".product_pod h3 > a\")\n",
    "\n",
    "links_url = []\n",
    "for a in book_links:\n",
    "    links_url.append(url + '/../' + a[\"href\"])"
   ],
   "metadata": {
    "collapsed": false,
    "ExecuteTime": {
     "end_time": "2023-12-05T16:08:53.464980500Z",
     "start_time": "2023-12-05T16:08:53.459661Z"
    }
   },
   "id": "d97b9b010fcc61e5"
  },
  {
   "cell_type": "code",
   "execution_count": 28,
   "outputs": [],
   "source": [
    "# Los datos de las tortugas se guardarán en un diccionario\n",
    "book_data = {}\n",
    "\n",
    "#follow each link:\n",
    "for link in links_url:\n",
    "    webpage = requests.get(link)\n",
    "    book = BeautifulSoup(webpage.content, \"html.parser\")\n",
    "    book_name = book.select(\"h1\")[0].get_text()\n",
    "    book_data[book_name] = book.select(\"article.product_page > p\")[0].get_text()"
   ],
   "metadata": {
    "collapsed": false,
    "ExecuteTime": {
     "end_time": "2023-12-05T16:09:05.939284200Z",
     "start_time": "2023-12-05T16:08:53.465484400Z"
    }
   },
   "id": "67f47fd0822449a1"
  },
  {
   "cell_type": "markdown",
   "source": [
    "2. Aplica etiquetado morfológico con Spacy para identificar y crea una lista con todos los sustantivos que contengan las descripciones de los libros."
   ],
   "metadata": {
    "collapsed": false
   },
   "id": "5ebdcfa05cfaf160"
  },
  {
   "cell_type": "code",
   "execution_count": 29,
   "outputs": [],
   "source": [
    "nlp = spacy.load('en_core_web_sm')"
   ],
   "metadata": {
    "collapsed": false,
    "ExecuteTime": {
     "end_time": "2023-12-05T16:09:06.240727200Z",
     "start_time": "2023-12-05T16:09:05.939284200Z"
    }
   },
   "id": "2794fe4e940fb3e9"
  },
  {
   "cell_type": "code",
   "execution_count": 30,
   "outputs": [],
   "source": [
    "book_nouns = {}\n",
    "for book in book_data:\n",
    "    description = book_data[book]\n",
    "    description = re.sub(\"\\.|\\(\\d+\\)|:,\", \"\", description)\n",
    "    description = description.lower().strip()\n",
    "\n",
    "    tokens = nlp(description)\n",
    "\n",
    "    book_nouns[book] = [token.text for token in tokens if (token.pos_ == \"NOUN\")]\n"
   ],
   "metadata": {
    "collapsed": false,
    "ExecuteTime": {
     "end_time": "2023-12-05T16:09:06.851371500Z",
     "start_time": "2023-12-05T16:09:06.240727200Z"
    }
   },
   "id": "a8cdb72d12203639"
  },
  {
   "cell_type": "markdown",
   "source": [
    "3. Muestra por pantalla los 20 con mayor número de ocurrencias en la lista (el objeto “counter” de la librería “collections” es útil a tal fin)."
   ],
   "metadata": {
    "collapsed": false
   },
   "id": "157e72d5e9d18d57"
  },
  {
   "cell_type": "code",
   "execution_count": 31,
   "outputs": [
    {
     "name": "stdout",
     "output_type": "stream",
     "text": [
      "[('history', 27), ('war', 25), ('story', 22), ('years', 19), ('life', 16), ('world', 15), ('time', 14), ('author', 11), ('men', 11), ('merchant', 11), ('book', 10), ('rise', 10), ('science', 10), ('man', 9), ('-', 9), ('technologies', 8), ('century', 8), ('prize', 8), ('bacevich', 8), ('events', 7)]\n"
     ]
    }
   ],
   "source": [
    "# Flatten the list of words from all books\n",
    "all_words = [word for words in book_nouns.values() for word in words]\n",
    "\n",
    "word_count = Counter(all_words)\n",
    "\n",
    "most_common_words = word_count.most_common(20)\n",
    "\n",
    "print(most_common_words)"
   ],
   "metadata": {
    "collapsed": false,
    "ExecuteTime": {
     "end_time": "2023-12-05T16:09:06.857726700Z",
     "start_time": "2023-12-05T16:09:06.851371500Z"
    }
   },
   "id": "ebd6104e7325af5c"
  }
 ],
 "metadata": {
  "kernelspec": {
   "display_name": "Python 3",
   "language": "python",
   "name": "python3"
  },
  "language_info": {
   "codemirror_mode": {
    "name": "ipython",
    "version": 2
   },
   "file_extension": ".py",
   "mimetype": "text/x-python",
   "name": "python",
   "nbconvert_exporter": "python",
   "pygments_lexer": "ipython2",
   "version": "2.7.6"
  }
 },
 "nbformat": 4,
 "nbformat_minor": 5
}
