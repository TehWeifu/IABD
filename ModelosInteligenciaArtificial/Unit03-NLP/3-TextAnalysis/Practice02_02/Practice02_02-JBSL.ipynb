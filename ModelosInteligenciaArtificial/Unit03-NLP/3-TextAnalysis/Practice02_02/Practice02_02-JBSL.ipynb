{
 "cells": [
  {
   "cell_type": "code",
   "execution_count": 489,
   "id": "initial_id",
   "metadata": {
    "collapsed": true,
    "ExecuteTime": {
     "end_time": "2023-12-12T18:44:52.700863300Z",
     "start_time": "2023-12-12T18:44:52.694215700Z"
    }
   },
   "outputs": [],
   "source": [
    "import os\n",
    "import re\n",
    "\n",
    "import spacy"
   ]
  },
  {
   "cell_type": "code",
   "execution_count": 490,
   "outputs": [],
   "source": [
    "nlp = spacy.load(\"es_core_news_lg\")"
   ],
   "metadata": {
    "collapsed": false,
    "ExecuteTime": {
     "end_time": "2023-12-12T18:44:53.693076900Z",
     "start_time": "2023-12-12T18:44:52.705099600Z"
    }
   },
   "id": "aa9e0a5a35c99fd"
  },
  {
   "cell_type": "code",
   "execution_count": 491,
   "outputs": [],
   "source": [
    "file = open('./Mails/correo_1.txt')\n",
    "text = file.read()"
   ],
   "metadata": {
    "collapsed": false,
    "ExecuteTime": {
     "end_time": "2023-12-12T18:44:53.693076900Z",
     "start_time": "2023-12-12T18:44:53.691519600Z"
    }
   },
   "id": "f22124f714b954a8"
  },
  {
   "cell_type": "code",
   "execution_count": 492,
   "outputs": [],
   "source": [
    "parsed_mails = []"
   ],
   "metadata": {
    "collapsed": false,
    "ExecuteTime": {
     "end_time": "2023-12-12T18:44:53.702430300Z",
     "start_time": "2023-12-12T18:44:53.693076900Z"
    }
   },
   "id": "1d7dfc5cfaa1ddf7"
  },
  {
   "cell_type": "code",
   "execution_count": 493,
   "outputs": [],
   "source": [
    "def extract_topic(text):\n",
    "    # Extract topic\n",
    "    expression = re.compile(r\"Asunto: (.*)\", re.UNICODE)\n",
    "    match = re.search(expression, text)\n",
    "    return match.group(1)"
   ],
   "metadata": {
    "collapsed": false,
    "ExecuteTime": {
     "end_time": "2023-12-12T18:44:53.712206100Z",
     "start_time": "2023-12-12T18:44:53.703459800Z"
    }
   },
   "id": "3c0d663d2542b311"
  },
  {
   "cell_type": "code",
   "execution_count": 494,
   "outputs": [],
   "source": [
    "def extract_location(text):\n",
    "    doc = nlp(text)\n",
    "\n",
    "    for entity in doc.ents:\n",
    "        if entity.label_ == \"LOC\" and entity.root.pos_ == \"PROPN\":\n",
    "            return entity.text\n",
    "\n",
    "    return \"Mordor\""
   ],
   "metadata": {
    "collapsed": false,
    "ExecuteTime": {
     "end_time": "2023-12-12T18:44:53.718576900Z",
     "start_time": "2023-12-12T18:44:53.708662100Z"
    }
   },
   "id": "c3170ee52ba68fd"
  },
  {
   "cell_type": "code",
   "execution_count": 495,
   "outputs": [],
   "source": [
    "def extract_day(text):\n",
    "    expression = re.compile(r\"(lunes|martes|miércoles|jueves|viernes|sábado|domingo)\", flags=re.UNICODE | re.IGNORECASE)\n",
    "    match = re.search(expression, text)\n",
    "    return match.group(1)"
   ],
   "metadata": {
    "collapsed": false,
    "ExecuteTime": {
     "end_time": "2023-12-12T18:44:53.727795Z",
     "start_time": "2023-12-12T18:44:53.716509800Z"
    }
   },
   "id": "3fa178e63ae6912a"
  },
  {
   "cell_type": "code",
   "execution_count": 496,
   "outputs": [],
   "source": [
    "def extract_time(text):\n",
    "    # Extract time \n",
    "    expression = re.compile(r\"(\\d\\d:\\d\\d)\", re.UNICODE)\n",
    "    match = re.search(expression, text)\n",
    "    return match.group(1)"
   ],
   "metadata": {
    "collapsed": false,
    "ExecuteTime": {
     "end_time": "2023-12-12T18:44:53.736562300Z",
     "start_time": "2023-12-12T18:44:53.723809Z"
    }
   },
   "id": "f20db131524c33d1"
  },
  {
   "cell_type": "code",
   "execution_count": 497,
   "outputs": [],
   "source": [
    "def extract_participants(text):\n",
    "    participants = []\n",
    "    doc = nlp(text)\n",
    "\n",
    "    for entity in doc.ents:\n",
    "        if entity.label_ == \"PER\" and entity.root.pos_ == \"PROPN\":\n",
    "            participants.append(entity.text.strip())\n",
    "\n",
    "    return ', '.join(participants)"
   ],
   "metadata": {
    "collapsed": false,
    "ExecuteTime": {
     "end_time": "2023-12-12T18:44:53.736562300Z",
     "start_time": "2023-12-12T18:44:53.729837600Z"
    }
   },
   "id": "6492a099f0c0ba20"
  },
  {
   "cell_type": "code",
   "execution_count": 498,
   "outputs": [],
   "source": [
    "def print_info(text, mail):\n",
    "    print()\n",
    "    print()\n",
    "\n",
    "    print(mail)\n",
    "    print()\n",
    "    doc = nlp(text)\n",
    "    for entity in doc.ents:\n",
    "        print(f\"Entity: {entity.text} | Label: {entity.label_}\")\n",
    "\n",
    "    print()\n",
    "    print()"
   ],
   "metadata": {
    "collapsed": false,
    "ExecuteTime": {
     "end_time": "2023-12-12T18:44:53.744234800Z",
     "start_time": "2023-12-12T18:44:53.736562300Z"
    }
   },
   "id": "ea529dc3e3d8960d"
  },
  {
   "cell_type": "code",
   "execution_count": 499,
   "outputs": [
    {
     "name": "stdout",
     "output_type": "stream",
     "text": [
      "\n",
      "\n",
      "correo_1.txt\n",
      "\n",
      "Entity: Proyecto\n",
      "\n",
      "De: | Label: MISC\n",
      "Entity: Ana Torres | Label: PER\n",
      "Entity: Marcos | Label: MISC\n",
      "Entity: Espero | Label: MISC\n",
      "Entity: Te cuento | Label: MISC\n",
      "Entity: Barcelona | Label: LOC\n",
      "Entity: María | Label: PER\n",
      "Entity: Juan | Label: PER\n",
      "Entity: Saludos | Label: MISC\n",
      "Entity: Ana | Label: PER\n",
      "\n",
      "\n",
      "\n",
      "\n",
      "correo_10.txt\n",
      "\n",
      "Entity: Roberto Martínez | Label: PER\n",
      "Entity: Marcos | Label: MISC\n",
      "Entity: Espero | Label: MISC\n",
      "Entity: Confirmo | Label: LOC\n",
      "Entity: Valencia | Label: LOC\n",
      "Entity: Estoy | Label: LOC\n",
      "Entity: Love me | Label: MISC\n",
      "Entity: Saludos | Label: MISC\n",
      "Entity: Roberto | Label: PER\n",
      "\n",
      "\n",
      "\n",
      "\n",
      "correo_2.txt\n",
      "\n",
      "Entity: Juan Pérez | Label: PER\n",
      "Entity: Marcos | Label: MISC\n",
      "Entity: Espero | Label: MISC\n",
      "Entity: Saludos | Label: MISC\n",
      "Entity: Juan\n",
      " | Label: PER\n",
      "\n",
      "\n",
      "\n",
      "\n",
      "correo_3.txt\n",
      "\n",
      "Entity: María Gómez | Label: PER\n",
      "Entity: Marcos | Label: MISC\n",
      "Entity: Nos reuniremos el jueves a las 10:00 en Madrid | Label: MISC\n",
      "Entity: Hablaremos sobre los avances del proyecto | Label: MISC\n",
      "Entity: Saludos | Label: LOC\n",
      "Entity: María | Label: PER\n",
      "\n",
      "\n",
      "\n",
      "\n",
      "correo_4.txt\n",
      "\n",
      "Entity: Sesión de Brainstorming | Label: MISC\n",
      "Entity: Ana Torres | Label: PER\n",
      "Entity: Marcos | Label: MISC\n",
      "Entity: ¿Te gustaría unirte? | Label: MISC\n",
      "Entity: Londres | Label: LOC\n",
      "Entity: Investors Inc | Label: ORG\n",
      "Entity: Nos vemos por allí.\n",
      "\n",
      " | Label: MISC\n",
      "Entity: Saludos | Label: LOC\n",
      "Entity: Ana | Label: PER\n",
      "\n",
      "\n",
      "\n",
      "\n",
      "correo_5.txt\n",
      "\n",
      "Entity: Cambio de Horario - Reunión Urgente\n",
      "\n",
      "De | Label: MISC\n",
      "Entity: Juan Pérez | Label: PER\n",
      "Entity: Marcos | Label: MISC\n",
      "Entity: de Valencia | Label: LOC\n",
      "Entity: Felipe | Label: PER\n",
      "Entity: Saludos | Label: MISC\n",
      "Entity: Juan\n",
      " | Label: PER\n",
      "\n",
      "\n",
      "\n",
      "\n",
      "correo_6.txt\n",
      "\n",
      "Entity: Recordatorio de Reunión\n",
      "\n",
      "De | Label: MISC\n",
      "Entity: María López | Label: PER\n",
      "Entity: Marcos | Label: MISC\n",
      "Entity: Carla | Label: PER\n",
      "Entity: Juan | Label: PER\n",
      "Entity: Sevilla | Label: LOC\n",
      "Entity: Saludos | Label: MISC\n",
      "Entity: María | Label: PER\n",
      "\n",
      "\n",
      "\n",
      "\n",
      "correo_7.txt\n",
      "\n",
      "Entity: Participación\n",
      "\n",
      "De | Label: MISC\n",
      "Entity: Juan Pérez | Label: PER\n",
      "Entity: Marcos | Label: MISC\n",
      "Entity: Berlín | Label: LOC\n",
      "Entity: Ahora | Label: MISC\n",
      "Entity: María | Label: PER\n",
      "Entity: Laura Rodríguez | Label: PER\n",
      "Entity: Saludos | Label: MISC\n",
      "Entity: Juan\n",
      "\n",
      "\n",
      " | Label: PER\n",
      "\n",
      "\n",
      "\n",
      "correo_8.txt\n",
      "\n",
      "Entity: Invitación a Reunión\n",
      "\n",
      "De | Label: MISC\n",
      "Entity: Ana Torres | Label: PER\n",
      "Entity: Marcos | Label: MISC\n",
      "Entity: Tenerife | Label: LOC\n",
      "Entity: María | Label: PER\n",
      "Entity: Juan | Label: PER\n",
      "Entity: Laura Rodríguez | Label: PER\n",
      "Entity: Tú te encargas de pagar esta vez la comida | Label: MISC\n",
      "Entity: Saludos | Label: MISC\n",
      "Entity: Ana | Label: PER\n",
      "\n",
      "\n",
      "\n",
      "\n",
      "correo_9.txt\n",
      "\n",
      "Entity: Cambio de Lugar - Reunión de Estrategia\n",
      "\n",
      "De | Label: MISC\n",
      "Entity: Juan Pérez | Label: PER\n",
      "Entity: Marcos | Label: MISC\n",
      "Entity: Madrid | Label: LOC\n",
      "Entity: Aprovecharemos la oportunidad para tener una perspectiva fresca | Label: MISC\n",
      "Entity: Roberto | Label: PER\n",
      "Entity: María | Label: PER\n",
      "Entity: Saludos | Label: MISC\n",
      "Entity: Juan\n",
      " | Label: PER\n",
      "\n"
     ]
    }
   ],
   "source": [
    "mails = os.listdir('./Mails')\n",
    "\n",
    "for mail in mails:\n",
    "    file_handler = open('./Mails' + '/' + mail, \"r\", encoding=\"utf-8\")\n",
    "    text = file_handler.read()\n",
    "\n",
    "    print_info(text, mail)\n",
    "\n",
    "    mail_data = {}\n",
    "    mail_data[\"Topic\"] = extract_topic(text)\n",
    "    mail_data[\"Location\"] = extract_location(text)\n",
    "    mail_data[\"Day\"] = extract_day(text)\n",
    "    mail_data[\"Time\"] = extract_time(text)\n",
    "    mail_data[\"Participants\"] = extract_participants(text)\n",
    "\n",
    "    parsed_mails.append(mail_data)"
   ],
   "metadata": {
    "collapsed": false,
    "ExecuteTime": {
     "end_time": "2023-12-12T18:44:54.034744Z",
     "start_time": "2023-12-12T18:44:53.744234800Z"
    }
   },
   "id": "69da72afae9fe9ef"
  },
  {
   "cell_type": "code",
   "execution_count": 500,
   "outputs": [],
   "source": [
    "mails_by_day = {\n",
    "    \"lunes\": [],\n",
    "    \"martes\": [],\n",
    "    \"miércoles\": [],\n",
    "    \"jueves\": [],\n",
    "    \"viernes\": [],\n",
    "    \"sábado\": [],\n",
    "    \"domingo\": [],\n",
    "}\n",
    "\n",
    "for mail_parsed in parsed_mails:\n",
    "    mails_by_day[mail_parsed[\"Day\"]].append(mail_parsed)"
   ],
   "metadata": {
    "collapsed": false,
    "ExecuteTime": {
     "end_time": "2023-12-12T18:44:54.042142900Z",
     "start_time": "2023-12-12T18:44:54.037079400Z"
    }
   },
   "id": "c9fb54bea57dd1b2"
  },
  {
   "cell_type": "code",
   "execution_count": 501,
   "outputs": [
    {
     "name": "stdout",
     "output_type": "stream",
     "text": [
      ">> LUNES\n",
      "\n",
      "REUNIÓN\n",
      "· Tema: Cambio de Lugar - Reunión de Estrategia\n",
      "· Lugar: Madrid\n",
      "· Día y hora: lunes, a las 10:00\n",
      "· Participantes: Juan Pérez, Roberto, María, Juan\n",
      "\n",
      ">> MARTES\n",
      "\n",
      "REUNIÓN\n",
      "· Tema: Sesión de Brainstorming\n",
      "· Lugar: Londres\n",
      "· Día y hora: martes, a las 15:00\n",
      "· Participantes: Ana Torres, Ana\n",
      "\n",
      "REUNIÓN\n",
      "· Tema: Recordatorio de Reunión\n",
      "· Lugar: Sevilla\n",
      "· Día y hora: martes, a las 15:30\n",
      "· Participantes: María López, Carla, Juan, María\n",
      "\n",
      ">> MIÉRCOLES\n",
      "\n",
      "REUNIÓN\n",
      "· Tema: Novedades del Proyecto\n",
      "· Lugar: Barcelona\n",
      "· Día y hora: miércoles, a las 16:00\n",
      "· Participantes: Ana Torres, María, Juan, Ana\n",
      "\n",
      "REUNIÓN\n",
      "· Tema: Cambio de Horario - Reunión Urgente\n",
      "· Lugar: de Valencia\n",
      "· Día y hora: miércoles, a las 17:00\n",
      "· Participantes: Juan Pérez, Felipe, Juan\n",
      "\n",
      "REUNIÓN\n",
      "· Tema: Cambio en la Participación\n",
      "· Lugar: Berlín\n",
      "· Día y hora: miércoles, a las 16:30\n",
      "· Participantes: Juan Pérez, María, Laura Rodríguez, Juan\n",
      "\n",
      ">> JUEVES\n",
      "\n",
      "REUNIÓN\n",
      "· Tema: Reunión semanal\n",
      "· Lugar: Saludos\n",
      "· Día y hora: jueves, a las 10:00\n",
      "· Participantes: María Gómez, María\n",
      "\n",
      ">> VIERNES\n",
      "\n",
      "REUNIÓN\n",
      "· Tema: Confirmación de Asistencia\n",
      "· Lugar: Valencia\n",
      "· Día y hora: viernes, a las 15:30\n",
      "· Participantes: Roberto Martínez, Roberto\n",
      "\n",
      "REUNIÓN\n",
      "· Tema: Necesitamos tu opinión\n",
      "· Lugar: Mordor\n",
      "· Día y hora: viernes, a las 14:30\n",
      "· Participantes: Juan Pérez, Juan\n",
      "\n",
      "REUNIÓN\n",
      "· Tema: Invitación a Reunión\n",
      "· Lugar: Tenerife\n",
      "· Día y hora: viernes, a las 14:00\n",
      "· Participantes: Ana Torres, María, Juan, Laura Rodríguez, Ana\n"
     ]
    }
   ],
   "source": [
    "for day in mails_by_day:\n",
    "    mails = mails_by_day[day]\n",
    "    if len(mails) == 0:\n",
    "        continue\n",
    "\n",
    "    print(f\">> {day.upper()}\")\n",
    "    print()\n",
    "\n",
    "    for mail in mails:\n",
    "        print(\"REUNIÓN\")\n",
    "        print(f\"· Tema: {mail['Topic']}\")\n",
    "        print(f\"· Lugar: {mail['Location']}\")\n",
    "        print(f\"· Día y hora: {mail['Day']}, a las {mail['Time']}\")\n",
    "        print(f\"· Participantes: {mail['Participants']}\")\n",
    "        print()"
   ],
   "metadata": {
    "collapsed": false,
    "ExecuteTime": {
     "end_time": "2023-12-12T18:44:54.050339400Z",
     "start_time": "2023-12-12T18:44:54.041007800Z"
    }
   },
   "id": "edad0494f318763f"
  }
 ],
 "metadata": {
  "kernelspec": {
   "display_name": "Python 3",
   "language": "python",
   "name": "python3"
  },
  "language_info": {
   "codemirror_mode": {
    "name": "ipython",
    "version": 2
   },
   "file_extension": ".py",
   "mimetype": "text/x-python",
   "name": "python",
   "nbconvert_exporter": "python",
   "pygments_lexer": "ipython2",
   "version": "2.7.6"
  }
 },
 "nbformat": 4,
 "nbformat_minor": 5
}
