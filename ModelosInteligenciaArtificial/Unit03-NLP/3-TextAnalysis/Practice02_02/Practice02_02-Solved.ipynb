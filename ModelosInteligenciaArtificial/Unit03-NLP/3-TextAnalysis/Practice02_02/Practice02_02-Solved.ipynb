{
 "nbformat": 4,
 "nbformat_minor": 0,
 "metadata": {
  "colab": {
   "provenance": [],
   "authorship_tag": "ABX9TyMdx6OUnDu8nIRbc0rXok25"
  },
  "kernelspec": {
   "name": "python3",
   "display_name": "Python 3"
  },
  "language_info": {
   "name": "python"
  }
 },
 "cells": [
  {
   "cell_type": "markdown",
   "source": [
    "## PLN - Práctica _ 2.2. Agenda personal"
   ],
   "metadata": {
    "id": "TLQ5sIK-QgR5"
   }
  },
  {
   "cell_type": "code",
   "source": [
    "from posixpath import join\n",
    "import spacy\n",
    "import re\n",
    "\n",
    "# Cargar modelo de Spacy para NER\n",
    "nlp = spacy.load(\"es_core_news_md\")\n",
    "\n",
    "\n",
    "def obtener_lugar(correo):\n",
    "    doc = nlp(correo)\n",
    "\n",
    "    # Encontrar la entidad con la etiqueta de lugar (LOC)\n",
    "    lugar = None\n",
    "    for ent in doc.ents:\n",
    "        if ent.label_ == \"LOC\" and ent.root.pos_ == \"PROPN\":\n",
    "            lugar = ent.text\n",
    "            break\n",
    "\n",
    "    return lugar\n",
    "\n",
    "\n",
    "def obtener_participantes(correo):\n",
    "    doc = nlp(correo)\n",
    "    participantes = list()\n",
    "\n",
    "    for ent in doc.ents:\n",
    "        if ent.label_ == \"PER\":\n",
    "            persona = ent.text\n",
    "            participantes.append(persona.replace(\"Hola \", \"\"))\n",
    "\n",
    "    return participantes\n",
    "\n",
    "\n",
    "def obtener_tema(correo):\n",
    "    resultado = re.search(r'Asunto: (.+?)$', correo, re.MULTILINE)\n",
    "\n",
    "    if resultado:\n",
    "        contenido_asunto = resultado.group(1).strip()\n",
    "        return contenido_asunto\n",
    "\n",
    "\n",
    "def obtener_dia_hora(correo):\n",
    "    patron_dias = re.compile(r'(lunes|martes|miércoles|jueves|viernes|sábado|domingo)', re.IGNORECASE)\n",
    "    dia = patron_dias.findall(correo)\n",
    "\n",
    "    patron_hora = re.compile(r'(\\d{1,2}:\\d{2})')\n",
    "    hora = patron_hora.findall(correo2)\n",
    "\n",
    "    return dia[0], hora[0]\n",
    "\n",
    "\n",
    "# Extraemos y guardamos el contenido de los correos desde los ficheros\n",
    "dir_fich = \"/content/\"\n",
    "lista_fich = list()\n",
    "correos = list()\n",
    "\n",
    "for i in range(1, 6):\n",
    "    nombre_archivo = f\"correo_{i}.txt\"\n",
    "    lista_fich.append(nombre_archivo)\n",
    "\n",
    "for file in lista_fich:\n",
    "    with open(dir_fich + file, 'r') as file:\n",
    "        correos.append(file.read())\n",
    "\n",
    "# Generamos un diccionario con el contenido de los correos\n",
    "\n",
    "lista_correos = list()\n",
    "\n",
    "for c in correos:\n",
    "    dict_correo = dict()\n",
    "    dict_correo[\"lugar\"] = obtener_lugar(c)\n",
    "    dict_correo[\"participantes\"] = obtener_participantes(c)\n",
    "    dict_correo[\"asunto\"] = obtener_tema(c)\n",
    "    dict_correo[\"dia\"], dict_correo[\"hora\"] = obtener_dia_hora(c)\n",
    "    lista_correos.append(dict_correo)\n",
    "\n",
    "# Recorremos cada día de la semana buscando reuniones\n",
    "\n",
    "dias_semana = [\"Lunes\", \"Martes\", \"Miércoles\", \"Jueves\", \"Viernes\"]\n",
    "\n",
    "print(\"AGENDA PERSONAL\\n\")\n",
    "\n",
    "for dia in dias_semana:\n",
    "    for reunion in lista_correos:\n",
    "        if dia.lower() == reunion[\"dia\"]:\n",
    "            if mismo_dia != reunion[\"dia\"]:\n",
    "                print(\">> \" + dia.upper() + \"\\n\")\n",
    "            print(\"REUNIÓN\")\n",
    "            print(\"· Tema: \", reunion[\"asunto\"])\n",
    "            print(\"· Tema: \", reunion[\"lugar\"])\n",
    "            print(\"· Día y hora: \" + reunion[\"dia\"] + \", a las \" + reunion[\"hora\"])\n",
    "            print(\"· Participantes: \" + \", \".join(reunion[\"participantes\"]) + \"\\n\")\n",
    "            mismo_dia = dia.lower()\n",
    "\n"
   ],
   "metadata": {
    "colab": {
     "base_uri": "https://localhost:8080/"
    },
    "id": "ZAuaWlTaRRPY",
    "executionInfo": {
     "status": "ok",
     "timestamp": 1701690341727,
     "user_tz": -60,
     "elapsed": 2415,
     "user": {
      "displayName": "Toni Cambra González",
      "userId": "12572791129026060955"
     }
    },
    "outputId": "7e79966e-b78d-48f5-b122-96f0eeb86178"
   },
   "execution_count": null,
   "outputs": [
    {
     "output_type": "stream",
     "name": "stderr",
     "text": [
      "/usr/local/lib/python3.10/dist-packages/spacy/util.py:910: UserWarning: [W095] Model 'es_core_news_md' (3.1.0) was trained with spaCy v3.1.0 and may not be 100% compatible with the current version (3.6.1). If you see errors or degraded performance, download a newer compatible model or retrain your custom model with the current spaCy version. For more details and available updates, run: python -m spacy validate\n",
      "  directory, to prevent mismatches with relative paths.\n"
     ]
    },
    {
     "output_type": "stream",
     "name": "stdout",
     "text": [
      "AGENDA PERSONAL\n",
      "\n",
      ">> MARTES\n",
      "\n",
      "REUNIÓN\n",
      "· Tema:  Sesión de Brainstorming\n",
      "· Tema:  Londres\n",
      "· Día y hora: martes, a las 17:00\n",
      "· Participantes: Ana Torres, Marcos, Ana\n",
      "\n",
      ">> MIÉRCOLES\n",
      "\n",
      "REUNIÓN\n",
      "· Tema:  Novedades del Proyecto\n",
      "· Tema:  Barcelona\n",
      "· Día y hora: miércoles, a las 17:00\n",
      "· Participantes: Ana Torres, Marcos, María, Juan, Ana\n",
      "\n",
      "REUNIÓN\n",
      "· Tema:  Cambio de Horario - Reunión Urgente\n",
      "· Tema:  Valencia\n",
      "· Día y hora: miércoles, a las 17:00\n",
      "· Participantes: Juan Pérez, Marcos, Felipe, Juan\n",
      "\n",
      ">> JUEVES\n",
      "\n",
      "REUNIÓN\n",
      "· Tema:  Reunión semanal\n",
      "· Tema:  Madrid\n",
      "· Día y hora: jueves, a las 17:00\n",
      "· Participantes: María Gómez, Marcos, Gracias, María\n",
      "\n",
      ">> VIERNES\n",
      "\n",
      "REUNIÓN\n",
      "· Tema:  Necesitamos tu opinión\n",
      "· Tema:  None\n",
      "· Día y hora: viernes, a las 17:00\n",
      "· Participantes: Juan Pérez, Marcos, Juan\n"
     ]
    }
   ]
  }
 ]
}
