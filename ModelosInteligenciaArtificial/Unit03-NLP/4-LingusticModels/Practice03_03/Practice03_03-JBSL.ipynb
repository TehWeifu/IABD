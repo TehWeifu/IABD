{
 "cells": [
  {
   "cell_type": "markdown",
   "source": [
    "1) Importación y preparación de datos"
   ],
   "metadata": {
    "collapsed": false
   },
   "id": "796f528070548ac3"
  },
  {
   "cell_type": "markdown",
   "source": [
    "1. Crea un cuaderno (en Google Colab o en Visual Studio)."
   ],
   "metadata": {
    "collapsed": false
   },
   "id": "8b23db2eef5cd97d"
  },
  {
   "cell_type": "code",
   "outputs": [],
   "source": [
    "import re\n",
    "\n",
    "import numpy as np\n",
    "import pandas as pd\n",
    "from sklearn.feature_extraction.text import CountVectorizer\n",
    "from sklearn.feature_extraction.text import TfidfTransformer\n",
    "from sklearn.feature_extraction.text import TfidfVectorizer"
   ],
   "metadata": {
    "collapsed": false,
    "ExecuteTime": {
     "end_time": "2024-01-30T17:00:13.499085Z",
     "start_time": "2024-01-30T17:00:13.445349700Z"
    }
   },
   "id": "85608bb72c1a143a",
   "execution_count": 85
  },
  {
   "cell_type": "markdown",
   "source": [
    "2. Lleva al cuaderno la selección de 10 artículos del periódico The News International que\n",
    "tienes en el apartado “Recursos” al final de este documento. Cada artículo, almacenado\n",
    "como una cadena, formará parte del corpus con el que vamos a trabajar."
   ],
   "metadata": {
    "collapsed": false
   },
   "id": "11c35adbcbc76e12"
  },
  {
   "cell_type": "code",
   "execution_count": 86,
   "id": "initial_id",
   "metadata": {
    "collapsed": true,
    "ExecuteTime": {
     "end_time": "2024-01-30T17:00:13.516599300Z",
     "start_time": "2024-01-30T17:00:13.504918900Z"
    }
   },
   "outputs": [],
   "source": [
    "article_1 = '''KARACHI: The Sindh government has decided to bring down public\n",
    "transport fares by 7 per cent due to massive reduction in petroleum product\n",
    "prices by the federal government, Geo News reported.Sources said reduction in\n",
    "fares will be applicable on public transport, rickshaw, taxi and other means of\n",
    "traveling. Meanwhile, Karachi Transport Ittehad (KTI) has refused to abide by the\n",
    "government decision.KTI President Irshad Bukhari said the commuters are charged\n",
    "the lowest fares in Karachi as compare to other parts of the country, adding that\n",
    "80pc vehicles run on Compressed Natural Gas (CNG). Bukhari said Karachi\n",
    "transporters will cut fares when decrease in CNG prices will be made.'''\n",
    "article_2 = '''HONG KONG: Hong Kong shares opened 0.66 percent lower Monday\n",
    "following a tepid lead from Wall Street, as the first full week of the new year\n",
    "kicked off. The benchmark Hang Seng Index dipped 158.63 points to 23,699.19.'''\n",
    "article_3 = '''KARACHI: Wholesale market rates for sugar dropped to less than Rs\n",
    "50 per kg following the resumption of sugar cane crushing by sugar mills in\n",
    "Sindh. Within two days, the rate dropped by Rs 1.70 to Rs 49.80 per kg in Karachi\n",
    "Whole Sale Market. According to dealers, the resumption of sugar cane crushing by\n",
    "the mills stabilised the supply to the market with an immediate effect on price\n",
    "as well. Industry experts said that the quality of sugar cane is excellent in\n",
    "Sindh and approximately 100 kg of sugar cane can produce 11 kg of sugar.'''\n",
    "article_4 = '''ISLAMABAD: Long queues of vehicles on fuel stations were visible\n",
    "in different parts of the country as the petrol became rare commodity on\n",
    "Thursday. Federal Minister for Petroleum Shahid Khaqan Abbasi says \"it may take\n",
    "up to ten days to bring the situation to normality\". He claimed that northern\n",
    "areas of Pakistan had been facing the petrol shortage. The minister cited the\n",
    "recent decline in petroleum prices and delay in a shipment as reasons for the\n",
    "shortage.He said situation would improve as soon as shipment reached Pakistan.\n",
    "Sources told Geo News hat due to financial restraints the Pakistan State Oil has\n",
    "been unable import petrol.'''\n",
    "article_5 = '''KARACHI: The final shipment of Chinese manufactured Rail Engines\n",
    "arrived in Pakistan on Friday. Federal Railways Minister, Khwaja Saad Rafique\n",
    "says, the inclusion of the new engines will help ease the shortfall faced by\n",
    "Pakistan Railways. The shipment includes 2000 and 3000-horse-power engines which\n",
    "will be used to pull freight bogeys. Rafique told journalists, the inclusion of\n",
    "15 new engines has brought Pakistan Railways total strength to 268 engines\n",
    "however more engines are still required.'''\n",
    "article_6 = '''SYDNEY: Cricket fever has gripped Australia with the World Cup\n",
    "just days away. Fans from around the world have thronged to the country and\n",
    "hotels are capitalising. Prices of rooms have almost doubled to 300 dollars and\n",
    "hotels are experiencing full bookings. Experts estimate that during the mega\n",
    "event Australia will generate 1.5 million US dollars just from hotel bookings. If\n",
    "the cost of internal air travel, taxis and tickets is taken into consideration,\n",
    "Australia stands to generate two million US dollars during the World Cup.'''\n",
    "article_7 = '''SAN FRANCISCO: Apple Inc aims to begin producing electric vehicles\n",
    "as early as 2020, Bloomberg reported. The report cited people with knowledge of\n",
    "the matter as saying, a seemingly aggressive target for a mobile devices maker\n",
    "with little experience in car manufacture.The iPhone maker is pushing its \"car\n",
    "team\" of about 200 people to meet that goal. But Apple may decide to scrap its\n",
    "car-making effort, or delay it, if executives grew unhappy with its progress, the\n",
    "news agency said.'''\n",
    "article_8 = '''LAHORE: Federal Minister for Railways, Khawaja Saad Rafique\n",
    "Tuesday announced good news of pay-raise for the employees of Pakistan Railways.\n",
    "In a media statement, the Minister disclosed that a summary for increase in\n",
    "salaries for the employees of Pakistan Railways has been forwarded to the Prime\n",
    "Minister. He also said that the government had also chalked out a plan to build\n",
    "houses for the Railways workers. Khawaja Saad Rafique said it was expected that\n",
    "the salaries of Railway Police may witness a jump of 20 percent. He also\n",
    "announced the government's plan to launch a new train service between Karachi\n",
    "and Islamabad.'''\n",
    "article_9 = '''ISLAMABAD: The Federal Cabinet on Tuesday approved the budget\n",
    "strategy paper, sources revealed to Geo News. During the cabinet meeting, Prime\n",
    "Minister Nawaz Sharif said tax rate had to be reduced to increase revenue. He\n",
    "added that people would happily pay taxes if the rate was reduced. The prime\n",
    "minister directed the cabinet to provide maximum relief to people in the budget,\n",
    "emphasising that the economic impact should reach people.'''\n",
    "article_10 = '''BEIJING: China will keep the yuan basically stable against a\n",
    "basket of currencies and there is no basis for continued yuan depreciation,\n",
    "central bank vice governor Yi Gang said on Sunday. China also will keep foreign\n",
    "exchange reserves at appropriate levels, Yi said.'''\n",
    "\n",
    "articles = [article_1, article_2, article_3, article_4, article_5,\n",
    "            article_6, article_7, article_8, article_9, article_10]"
   ]
  },
  {
   "cell_type": "markdown",
   "source": [
    "Elimina los valores numéricos que aparecen en algún caso en los artículos como parte de\n",
    "su texto, ya que no nos interesan, y guarda los artículos en una variable articles_cleaned."
   ],
   "metadata": {
    "collapsed": false
   },
   "id": "8505d9b9651fd75"
  },
  {
   "cell_type": "code",
   "outputs": [],
   "source": [
    "articles_cleaned = [re.sub(r\"\\d\", \"\", article) for article in articles]"
   ],
   "metadata": {
    "collapsed": false,
    "ExecuteTime": {
     "end_time": "2024-01-30T17:00:13.532064300Z",
     "start_time": "2024-01-30T17:00:13.519291300Z"
    }
   },
   "id": "dd3e4dedd25c1018",
   "execution_count": 87
  },
  {
   "cell_type": "markdown",
   "source": [
    "Antes de seguir, imprime uno de los artículos y revisa su contenido."
   ],
   "metadata": {
    "collapsed": false
   },
   "id": "bba0b0b6328d9cdc"
  },
  {
   "cell_type": "code",
   "outputs": [
    {
     "name": "stdout",
     "output_type": "stream",
     "text": [
      "KARACHI: The Sindh government has decided to bring down public\n",
      "transport fares by  per cent due to massive reduction in petroleum product\n",
      "prices by the federal government, Geo News reported.Sources said reduction in\n",
      "fares will be applicable on public transport, rickshaw, taxi and other means of\n",
      "traveling. Meanwhile, Karachi Transport Ittehad (KTI) has refused to abide by the\n",
      "government decision.KTI President Irshad Bukhari said the commuters are charged\n",
      "the lowest fares in Karachi as compare to other parts of the country, adding that\n",
      "pc vehicles run on Compressed Natural Gas (CNG). Bukhari said Karachi\n",
      "transporters will cut fares when decrease in CNG prices will be made.\n",
      "HONG KONG: Hong Kong shares opened . percent lower Monday\n",
      "following a tepid lead from Wall Street, as the first full week of the new year\n",
      "kicked off. The benchmark Hang Seng Index dipped . points to ,..\n",
      "KARACHI: Wholesale market rates for sugar dropped to less than Rs\n",
      " per kg following the resumption of sugar cane crushing by sugar mills in\n",
      "Sindh. Within two days, the rate dropped by Rs . to Rs . per kg in Karachi\n",
      "Whole Sale Market. According to dealers, the resumption of sugar cane crushing by\n",
      "the mills stabilised the supply to the market with an immediate effect on price\n",
      "as well. Industry experts said that the quality of sugar cane is excellent in\n",
      "Sindh and approximately  kg of sugar cane can produce  kg of sugar.\n",
      "ISLAMABAD: Long queues of vehicles on fuel stations were visible\n",
      "in different parts of the country as the petrol became rare commodity on\n",
      "Thursday. Federal Minister for Petroleum Shahid Khaqan Abbasi says \"it may take\n",
      "up to ten days to bring the situation to normality\". He claimed that northern\n",
      "areas of Pakistan had been facing the petrol shortage. The minister cited the\n",
      "recent decline in petroleum prices and delay in a shipment as reasons for the\n",
      "shortage.He said situation would improve as soon as shipment reached Pakistan.\n",
      "Sources told Geo News hat due to financial restraints the Pakistan State Oil has\n",
      "been unable import petrol.\n",
      "KARACHI: The final shipment of Chinese manufactured Rail Engines\n",
      "arrived in Pakistan on Friday. Federal Railways Minister, Khwaja Saad Rafique\n",
      "says, the inclusion of the new engines will help ease the shortfall faced by\n",
      "Pakistan Railways. The shipment includes  and -horse-power engines which\n",
      "will be used to pull freight bogeys. Rafique told journalists, the inclusion of\n",
      " new engines has brought Pakistan Railways total strength to  engines\n",
      "however more engines are still required.\n",
      "SYDNEY: Cricket fever has gripped Australia with the World Cup\n",
      "just days away. Fans from around the world have thronged to the country and\n",
      "hotels are capitalising. Prices of rooms have almost doubled to  dollars and\n",
      "hotels are experiencing full bookings. Experts estimate that during the mega\n",
      "event Australia will generate . million US dollars just from hotel bookings. If\n",
      "the cost of internal air travel, taxis and tickets is taken into consideration,\n",
      "Australia stands to generate two million US dollars during the World Cup.\n",
      "SAN FRANCISCO: Apple Inc aims to begin producing electric vehicles\n",
      "as early as , Bloomberg reported. The report cited people with knowledge of\n",
      "the matter as saying, a seemingly aggressive target for a mobile devices maker\n",
      "with little experience in car manufacture.The iPhone maker is pushing its \"car\n",
      "team\" of about  people to meet that goal. But Apple may decide to scrap its\n",
      "car-making effort, or delay it, if executives grew unhappy with its progress, the\n",
      "news agency said.\n",
      "LAHORE: Federal Minister for Railways, Khawaja Saad Rafique\n",
      "Tuesday announced good news of pay-raise for the employees of Pakistan Railways.\n",
      "In a media statement, the Minister disclosed that a summary for increase in\n",
      "salaries for the employees of Pakistan Railways has been forwarded to the Prime\n",
      "Minister. He also said that the government had also chalked out a plan to build\n",
      "houses for the Railways workers. Khawaja Saad Rafique said it was expected that\n",
      "the salaries of Railway Police may witness a jump of  percent. He also\n",
      "announced the government's plan to launch a new train service between Karachi\n",
      "and Islamabad.\n",
      "ISLAMABAD: The Federal Cabinet on Tuesday approved the budget\n",
      "strategy paper, sources revealed to Geo News. During the cabinet meeting, Prime\n",
      "Minister Nawaz Sharif said tax rate had to be reduced to increase revenue. He\n",
      "added that people would happily pay taxes if the rate was reduced. The prime\n",
      "minister directed the cabinet to provide maximum relief to people in the budget,\n",
      "emphasising that the economic impact should reach people.\n",
      "BEIJING: China will keep the yuan basically stable against a\n",
      "basket of currencies and there is no basis for continued yuan depreciation,\n",
      "central bank vice governor Yi Gang said on Sunday. China also will keep foreign\n",
      "exchange reserves at appropriate levels, Yi said.\n"
     ]
    }
   ],
   "source": [
    "for article in articles_cleaned:\n",
    "    print(article)"
   ],
   "metadata": {
    "collapsed": false,
    "ExecuteTime": {
     "end_time": "2024-01-30T17:00:13.556698100Z",
     "start_time": "2024-01-30T17:00:13.522119300Z"
    }
   },
   "id": "5229f0b21e4e3b8a",
   "execution_count": 88
  },
  {
   "cell_type": "markdown",
   "source": [
    "2) Calculando las puntuaciones tf-idf"
   ],
   "metadata": {
    "collapsed": false
   },
   "id": "1b330df0c2eced3f"
  },
  {
   "cell_type": "markdown",
   "source": [
    "3. Comenzaremos el análisis haciendo un simple recuento de palabras para cada artículo.\n",
    "Inicializa para ello un objeto CountVectorizer, asignándolo a una variable cuyo nombre\n",
    "puede ser vectorizer."
   ],
   "metadata": {
    "collapsed": false
   },
   "id": "820f717e1e80df8b"
  },
  {
   "cell_type": "code",
   "outputs": [],
   "source": [
    "vectorizer = CountVectorizer(stop_words='english')"
   ],
   "metadata": {
    "collapsed": false,
    "ExecuteTime": {
     "end_time": "2024-01-30T17:00:13.558814600Z",
     "start_time": "2024-01-30T17:00:13.527615800Z"
    }
   },
   "id": "ea809a39d7305f64",
   "execution_count": 89
  },
  {
   "cell_type": "markdown",
   "source": [
    "4. Prepara (es decir, ajusta y transforma) vectorizer para obtener el recuento de palabras de\n",
    "cada artículo. Guarda los recuentos resultantes en una variable que se llame counts. Tras\n",
    "guardar el recuento de palabras, visualiza por pantalla un DataFrame con el recuento para\n",
    "el conjunto de artículos."
   ],
   "metadata": {
    "collapsed": false
   },
   "id": "c0e5c1aa840217db"
  },
  {
   "cell_type": "code",
   "outputs": [],
   "source": [
    "counts = vectorizer.fit_transform(articles_cleaned)\n",
    "word_dictionary = vectorizer.get_feature_names_out()"
   ],
   "metadata": {
    "collapsed": false,
    "ExecuteTime": {
     "end_time": "2024-01-30T17:00:13.558814600Z",
     "start_time": "2024-01-30T17:00:13.534237500Z"
    }
   },
   "id": "aa771804d9841d8",
   "execution_count": 90
  },
  {
   "cell_type": "code",
   "outputs": [
    {
     "data": {
      "text/plain": "   abbasi  abide  according  added  adding  agency  aggressive  aims  air  \\\n0       0      1          0      0       1       0           0     0    0   \n1       0      0          0      0       0       0           0     0    0   \n2       0      0          1      0       0       0           0     0    0   \n3       1      0          0      0       0       0           0     0    0   \n4       0      0          0      0       0       0           0     0    0   \n5       0      0          0      0       0       0           0     0    1   \n6       0      0          0      0       0       1           1     1    0   \n7       0      0          0      0       0       0           0     0    0   \n8       0      0          0      1       0       0           0     0    0   \n9       0      0          0      0       0       0           0     0    0   \n\n   announced  ...  visible  wall  week  wholesale  witness  workers  world  \\\n0          0  ...        0     0     0          0        0        0      0   \n1          0  ...        0     1     1          0        0        0      0   \n2          0  ...        0     0     0          1        0        0      0   \n3          0  ...        1     0     0          0        0        0      0   \n4          0  ...        0     0     0          0        0        0      0   \n5          0  ...        0     0     0          0        0        0      3   \n6          0  ...        0     0     0          0        0        0      0   \n7          2  ...        0     0     0          0        1        1      0   \n8          0  ...        0     0     0          0        0        0      0   \n9          0  ...        0     0     0          0        0        0      0   \n\n   year  yi  yuan  \n0     0   0     0  \n1     1   0     0  \n2     0   0     0  \n3     0   0     0  \n4     0   0     0  \n5     0   0     0  \n6     0   0     0  \n7     0   0     0  \n8     0   0     0  \n9     0   2     2  \n\n[10 rows x 313 columns]",
      "text/html": "<div>\n<style scoped>\n    .dataframe tbody tr th:only-of-type {\n        vertical-align: middle;\n    }\n\n    .dataframe tbody tr th {\n        vertical-align: top;\n    }\n\n    .dataframe thead th {\n        text-align: right;\n    }\n</style>\n<table border=\"1\" class=\"dataframe\">\n  <thead>\n    <tr style=\"text-align: right;\">\n      <th></th>\n      <th>abbasi</th>\n      <th>abide</th>\n      <th>according</th>\n      <th>added</th>\n      <th>adding</th>\n      <th>agency</th>\n      <th>aggressive</th>\n      <th>aims</th>\n      <th>air</th>\n      <th>announced</th>\n      <th>...</th>\n      <th>visible</th>\n      <th>wall</th>\n      <th>week</th>\n      <th>wholesale</th>\n      <th>witness</th>\n      <th>workers</th>\n      <th>world</th>\n      <th>year</th>\n      <th>yi</th>\n      <th>yuan</th>\n    </tr>\n  </thead>\n  <tbody>\n    <tr>\n      <th>0</th>\n      <td>0</td>\n      <td>1</td>\n      <td>0</td>\n      <td>0</td>\n      <td>1</td>\n      <td>0</td>\n      <td>0</td>\n      <td>0</td>\n      <td>0</td>\n      <td>0</td>\n      <td>...</td>\n      <td>0</td>\n      <td>0</td>\n      <td>0</td>\n      <td>0</td>\n      <td>0</td>\n      <td>0</td>\n      <td>0</td>\n      <td>0</td>\n      <td>0</td>\n      <td>0</td>\n    </tr>\n    <tr>\n      <th>1</th>\n      <td>0</td>\n      <td>0</td>\n      <td>0</td>\n      <td>0</td>\n      <td>0</td>\n      <td>0</td>\n      <td>0</td>\n      <td>0</td>\n      <td>0</td>\n      <td>0</td>\n      <td>...</td>\n      <td>0</td>\n      <td>1</td>\n      <td>1</td>\n      <td>0</td>\n      <td>0</td>\n      <td>0</td>\n      <td>0</td>\n      <td>1</td>\n      <td>0</td>\n      <td>0</td>\n    </tr>\n    <tr>\n      <th>2</th>\n      <td>0</td>\n      <td>0</td>\n      <td>1</td>\n      <td>0</td>\n      <td>0</td>\n      <td>0</td>\n      <td>0</td>\n      <td>0</td>\n      <td>0</td>\n      <td>0</td>\n      <td>...</td>\n      <td>0</td>\n      <td>0</td>\n      <td>0</td>\n      <td>1</td>\n      <td>0</td>\n      <td>0</td>\n      <td>0</td>\n      <td>0</td>\n      <td>0</td>\n      <td>0</td>\n    </tr>\n    <tr>\n      <th>3</th>\n      <td>1</td>\n      <td>0</td>\n      <td>0</td>\n      <td>0</td>\n      <td>0</td>\n      <td>0</td>\n      <td>0</td>\n      <td>0</td>\n      <td>0</td>\n      <td>0</td>\n      <td>...</td>\n      <td>1</td>\n      <td>0</td>\n      <td>0</td>\n      <td>0</td>\n      <td>0</td>\n      <td>0</td>\n      <td>0</td>\n      <td>0</td>\n      <td>0</td>\n      <td>0</td>\n    </tr>\n    <tr>\n      <th>4</th>\n      <td>0</td>\n      <td>0</td>\n      <td>0</td>\n      <td>0</td>\n      <td>0</td>\n      <td>0</td>\n      <td>0</td>\n      <td>0</td>\n      <td>0</td>\n      <td>0</td>\n      <td>...</td>\n      <td>0</td>\n      <td>0</td>\n      <td>0</td>\n      <td>0</td>\n      <td>0</td>\n      <td>0</td>\n      <td>0</td>\n      <td>0</td>\n      <td>0</td>\n      <td>0</td>\n    </tr>\n    <tr>\n      <th>5</th>\n      <td>0</td>\n      <td>0</td>\n      <td>0</td>\n      <td>0</td>\n      <td>0</td>\n      <td>0</td>\n      <td>0</td>\n      <td>0</td>\n      <td>1</td>\n      <td>0</td>\n      <td>...</td>\n      <td>0</td>\n      <td>0</td>\n      <td>0</td>\n      <td>0</td>\n      <td>0</td>\n      <td>0</td>\n      <td>3</td>\n      <td>0</td>\n      <td>0</td>\n      <td>0</td>\n    </tr>\n    <tr>\n      <th>6</th>\n      <td>0</td>\n      <td>0</td>\n      <td>0</td>\n      <td>0</td>\n      <td>0</td>\n      <td>1</td>\n      <td>1</td>\n      <td>1</td>\n      <td>0</td>\n      <td>0</td>\n      <td>...</td>\n      <td>0</td>\n      <td>0</td>\n      <td>0</td>\n      <td>0</td>\n      <td>0</td>\n      <td>0</td>\n      <td>0</td>\n      <td>0</td>\n      <td>0</td>\n      <td>0</td>\n    </tr>\n    <tr>\n      <th>7</th>\n      <td>0</td>\n      <td>0</td>\n      <td>0</td>\n      <td>0</td>\n      <td>0</td>\n      <td>0</td>\n      <td>0</td>\n      <td>0</td>\n      <td>0</td>\n      <td>2</td>\n      <td>...</td>\n      <td>0</td>\n      <td>0</td>\n      <td>0</td>\n      <td>0</td>\n      <td>1</td>\n      <td>1</td>\n      <td>0</td>\n      <td>0</td>\n      <td>0</td>\n      <td>0</td>\n    </tr>\n    <tr>\n      <th>8</th>\n      <td>0</td>\n      <td>0</td>\n      <td>0</td>\n      <td>1</td>\n      <td>0</td>\n      <td>0</td>\n      <td>0</td>\n      <td>0</td>\n      <td>0</td>\n      <td>0</td>\n      <td>...</td>\n      <td>0</td>\n      <td>0</td>\n      <td>0</td>\n      <td>0</td>\n      <td>0</td>\n      <td>0</td>\n      <td>0</td>\n      <td>0</td>\n      <td>0</td>\n      <td>0</td>\n    </tr>\n    <tr>\n      <th>9</th>\n      <td>0</td>\n      <td>0</td>\n      <td>0</td>\n      <td>0</td>\n      <td>0</td>\n      <td>0</td>\n      <td>0</td>\n      <td>0</td>\n      <td>0</td>\n      <td>0</td>\n      <td>...</td>\n      <td>0</td>\n      <td>0</td>\n      <td>0</td>\n      <td>0</td>\n      <td>0</td>\n      <td>0</td>\n      <td>0</td>\n      <td>0</td>\n      <td>2</td>\n      <td>2</td>\n    </tr>\n  </tbody>\n</table>\n<p>10 rows × 313 columns</p>\n</div>"
     },
     "execution_count": 91,
     "metadata": {},
     "output_type": "execute_result"
    }
   ],
   "source": [
    "df = pd.DataFrame(counts.toarray(), columns=word_dictionary)\n",
    "df"
   ],
   "metadata": {
    "collapsed": false,
    "ExecuteTime": {
     "end_time": "2024-01-30T17:00:13.599830100Z",
     "start_time": "2024-01-30T17:00:13.562307100Z"
    }
   },
   "id": "c124292f8e1660e0",
   "execution_count": 91
  },
  {
   "cell_type": "markdown",
   "source": [
    "5. Ahora que tienes el recuento de palabras de cada artículo, cabe convertirlos en\n",
    "puntuaciones tf-idf. Inicializa un objeto TfidfTransformer con el argumento norm = None y\n",
    "guárdalo en una variable llamada transformer."
   ],
   "metadata": {
    "collapsed": false
   },
   "id": "9908b47dfc4fc5e6"
  },
  {
   "cell_type": "code",
   "outputs": [],
   "source": [
    "transformer = TfidfTransformer(norm=None)"
   ],
   "metadata": {
    "collapsed": false,
    "ExecuteTime": {
     "end_time": "2024-01-30T17:00:13.624672400Z",
     "start_time": "2024-01-30T17:00:13.603034500Z"
    }
   },
   "id": "c812878607eda021",
   "execution_count": 92
  },
  {
   "cell_type": "markdown",
   "source": [
    "6. Ajusta y transforma acto seguido el transformador para convertir la contabilización de\n",
    "palabras en puntuaciones tf-idf para cada uno de los artículos, guardando las puntuaciones\n",
    "de tf-idf resultantes en una variable a la que puedes llamar tfidf_scores_transformed."
   ],
   "metadata": {
    "collapsed": false
   },
   "id": "5fcff32a2bef0177"
  },
  {
   "cell_type": "code",
   "outputs": [],
   "source": [
    "tfidf_scores_transformed = transformer.fit_transform(counts)"
   ],
   "metadata": {
    "collapsed": false,
    "ExecuteTime": {
     "end_time": "2024-01-30T17:00:13.691623700Z",
     "start_time": "2024-01-30T17:00:13.626779100Z"
    }
   },
   "id": "746b0aafbeac28a",
   "execution_count": 93
  },
  {
   "cell_type": "code",
   "outputs": [
    {
     "data": {
      "text/plain": "     abbasi     abide  according     added    adding    agency  aggressive  \\\n0  0.000000  2.704748   0.000000  0.000000  2.704748  0.000000    0.000000   \n1  0.000000  0.000000   0.000000  0.000000  0.000000  0.000000    0.000000   \n2  0.000000  0.000000   2.704748  0.000000  0.000000  0.000000    0.000000   \n3  2.704748  0.000000   0.000000  0.000000  0.000000  0.000000    0.000000   \n4  0.000000  0.000000   0.000000  0.000000  0.000000  0.000000    0.000000   \n5  0.000000  0.000000   0.000000  0.000000  0.000000  0.000000    0.000000   \n6  0.000000  0.000000   0.000000  0.000000  0.000000  2.704748    2.704748   \n7  0.000000  0.000000   0.000000  0.000000  0.000000  0.000000    0.000000   \n8  0.000000  0.000000   0.000000  2.704748  0.000000  0.000000    0.000000   \n9  0.000000  0.000000   0.000000  0.000000  0.000000  0.000000    0.000000   \n\n       aims       air  announced  ...   visible      wall      week  \\\n0  0.000000  0.000000   0.000000  ...  0.000000  0.000000  0.000000   \n1  0.000000  0.000000   0.000000  ...  0.000000  2.704748  2.704748   \n2  0.000000  0.000000   0.000000  ...  0.000000  0.000000  0.000000   \n3  0.000000  0.000000   0.000000  ...  2.704748  0.000000  0.000000   \n4  0.000000  0.000000   0.000000  ...  0.000000  0.000000  0.000000   \n5  0.000000  2.704748   0.000000  ...  0.000000  0.000000  0.000000   \n6  2.704748  0.000000   0.000000  ...  0.000000  0.000000  0.000000   \n7  0.000000  0.000000   5.409496  ...  0.000000  0.000000  0.000000   \n8  0.000000  0.000000   0.000000  ...  0.000000  0.000000  0.000000   \n9  0.000000  0.000000   0.000000  ...  0.000000  0.000000  0.000000   \n\n   wholesale   witness   workers     world      year        yi      yuan  \n0   0.000000  0.000000  0.000000  0.000000  0.000000  0.000000  0.000000  \n1   0.000000  0.000000  0.000000  0.000000  2.704748  0.000000  0.000000  \n2   2.704748  0.000000  0.000000  0.000000  0.000000  0.000000  0.000000  \n3   0.000000  0.000000  0.000000  0.000000  0.000000  0.000000  0.000000  \n4   0.000000  0.000000  0.000000  0.000000  0.000000  0.000000  0.000000  \n5   0.000000  0.000000  0.000000  8.114244  0.000000  0.000000  0.000000  \n6   0.000000  0.000000  0.000000  0.000000  0.000000  0.000000  0.000000  \n7   0.000000  2.704748  2.704748  0.000000  0.000000  0.000000  0.000000  \n8   0.000000  0.000000  0.000000  0.000000  0.000000  0.000000  0.000000  \n9   0.000000  0.000000  0.000000  0.000000  0.000000  5.409496  5.409496  \n\n[10 rows x 313 columns]",
      "text/html": "<div>\n<style scoped>\n    .dataframe tbody tr th:only-of-type {\n        vertical-align: middle;\n    }\n\n    .dataframe tbody tr th {\n        vertical-align: top;\n    }\n\n    .dataframe thead th {\n        text-align: right;\n    }\n</style>\n<table border=\"1\" class=\"dataframe\">\n  <thead>\n    <tr style=\"text-align: right;\">\n      <th></th>\n      <th>abbasi</th>\n      <th>abide</th>\n      <th>according</th>\n      <th>added</th>\n      <th>adding</th>\n      <th>agency</th>\n      <th>aggressive</th>\n      <th>aims</th>\n      <th>air</th>\n      <th>announced</th>\n      <th>...</th>\n      <th>visible</th>\n      <th>wall</th>\n      <th>week</th>\n      <th>wholesale</th>\n      <th>witness</th>\n      <th>workers</th>\n      <th>world</th>\n      <th>year</th>\n      <th>yi</th>\n      <th>yuan</th>\n    </tr>\n  </thead>\n  <tbody>\n    <tr>\n      <th>0</th>\n      <td>0.000000</td>\n      <td>2.704748</td>\n      <td>0.000000</td>\n      <td>0.000000</td>\n      <td>2.704748</td>\n      <td>0.000000</td>\n      <td>0.000000</td>\n      <td>0.000000</td>\n      <td>0.000000</td>\n      <td>0.000000</td>\n      <td>...</td>\n      <td>0.000000</td>\n      <td>0.000000</td>\n      <td>0.000000</td>\n      <td>0.000000</td>\n      <td>0.000000</td>\n      <td>0.000000</td>\n      <td>0.000000</td>\n      <td>0.000000</td>\n      <td>0.000000</td>\n      <td>0.000000</td>\n    </tr>\n    <tr>\n      <th>1</th>\n      <td>0.000000</td>\n      <td>0.000000</td>\n      <td>0.000000</td>\n      <td>0.000000</td>\n      <td>0.000000</td>\n      <td>0.000000</td>\n      <td>0.000000</td>\n      <td>0.000000</td>\n      <td>0.000000</td>\n      <td>0.000000</td>\n      <td>...</td>\n      <td>0.000000</td>\n      <td>2.704748</td>\n      <td>2.704748</td>\n      <td>0.000000</td>\n      <td>0.000000</td>\n      <td>0.000000</td>\n      <td>0.000000</td>\n      <td>2.704748</td>\n      <td>0.000000</td>\n      <td>0.000000</td>\n    </tr>\n    <tr>\n      <th>2</th>\n      <td>0.000000</td>\n      <td>0.000000</td>\n      <td>2.704748</td>\n      <td>0.000000</td>\n      <td>0.000000</td>\n      <td>0.000000</td>\n      <td>0.000000</td>\n      <td>0.000000</td>\n      <td>0.000000</td>\n      <td>0.000000</td>\n      <td>...</td>\n      <td>0.000000</td>\n      <td>0.000000</td>\n      <td>0.000000</td>\n      <td>2.704748</td>\n      <td>0.000000</td>\n      <td>0.000000</td>\n      <td>0.000000</td>\n      <td>0.000000</td>\n      <td>0.000000</td>\n      <td>0.000000</td>\n    </tr>\n    <tr>\n      <th>3</th>\n      <td>2.704748</td>\n      <td>0.000000</td>\n      <td>0.000000</td>\n      <td>0.000000</td>\n      <td>0.000000</td>\n      <td>0.000000</td>\n      <td>0.000000</td>\n      <td>0.000000</td>\n      <td>0.000000</td>\n      <td>0.000000</td>\n      <td>...</td>\n      <td>2.704748</td>\n      <td>0.000000</td>\n      <td>0.000000</td>\n      <td>0.000000</td>\n      <td>0.000000</td>\n      <td>0.000000</td>\n      <td>0.000000</td>\n      <td>0.000000</td>\n      <td>0.000000</td>\n      <td>0.000000</td>\n    </tr>\n    <tr>\n      <th>4</th>\n      <td>0.000000</td>\n      <td>0.000000</td>\n      <td>0.000000</td>\n      <td>0.000000</td>\n      <td>0.000000</td>\n      <td>0.000000</td>\n      <td>0.000000</td>\n      <td>0.000000</td>\n      <td>0.000000</td>\n      <td>0.000000</td>\n      <td>...</td>\n      <td>0.000000</td>\n      <td>0.000000</td>\n      <td>0.000000</td>\n      <td>0.000000</td>\n      <td>0.000000</td>\n      <td>0.000000</td>\n      <td>0.000000</td>\n      <td>0.000000</td>\n      <td>0.000000</td>\n      <td>0.000000</td>\n    </tr>\n    <tr>\n      <th>5</th>\n      <td>0.000000</td>\n      <td>0.000000</td>\n      <td>0.000000</td>\n      <td>0.000000</td>\n      <td>0.000000</td>\n      <td>0.000000</td>\n      <td>0.000000</td>\n      <td>0.000000</td>\n      <td>2.704748</td>\n      <td>0.000000</td>\n      <td>...</td>\n      <td>0.000000</td>\n      <td>0.000000</td>\n      <td>0.000000</td>\n      <td>0.000000</td>\n      <td>0.000000</td>\n      <td>0.000000</td>\n      <td>8.114244</td>\n      <td>0.000000</td>\n      <td>0.000000</td>\n      <td>0.000000</td>\n    </tr>\n    <tr>\n      <th>6</th>\n      <td>0.000000</td>\n      <td>0.000000</td>\n      <td>0.000000</td>\n      <td>0.000000</td>\n      <td>0.000000</td>\n      <td>2.704748</td>\n      <td>2.704748</td>\n      <td>2.704748</td>\n      <td>0.000000</td>\n      <td>0.000000</td>\n      <td>...</td>\n      <td>0.000000</td>\n      <td>0.000000</td>\n      <td>0.000000</td>\n      <td>0.000000</td>\n      <td>0.000000</td>\n      <td>0.000000</td>\n      <td>0.000000</td>\n      <td>0.000000</td>\n      <td>0.000000</td>\n      <td>0.000000</td>\n    </tr>\n    <tr>\n      <th>7</th>\n      <td>0.000000</td>\n      <td>0.000000</td>\n      <td>0.000000</td>\n      <td>0.000000</td>\n      <td>0.000000</td>\n      <td>0.000000</td>\n      <td>0.000000</td>\n      <td>0.000000</td>\n      <td>0.000000</td>\n      <td>5.409496</td>\n      <td>...</td>\n      <td>0.000000</td>\n      <td>0.000000</td>\n      <td>0.000000</td>\n      <td>0.000000</td>\n      <td>2.704748</td>\n      <td>2.704748</td>\n      <td>0.000000</td>\n      <td>0.000000</td>\n      <td>0.000000</td>\n      <td>0.000000</td>\n    </tr>\n    <tr>\n      <th>8</th>\n      <td>0.000000</td>\n      <td>0.000000</td>\n      <td>0.000000</td>\n      <td>2.704748</td>\n      <td>0.000000</td>\n      <td>0.000000</td>\n      <td>0.000000</td>\n      <td>0.000000</td>\n      <td>0.000000</td>\n      <td>0.000000</td>\n      <td>...</td>\n      <td>0.000000</td>\n      <td>0.000000</td>\n      <td>0.000000</td>\n      <td>0.000000</td>\n      <td>0.000000</td>\n      <td>0.000000</td>\n      <td>0.000000</td>\n      <td>0.000000</td>\n      <td>0.000000</td>\n      <td>0.000000</td>\n    </tr>\n    <tr>\n      <th>9</th>\n      <td>0.000000</td>\n      <td>0.000000</td>\n      <td>0.000000</td>\n      <td>0.000000</td>\n      <td>0.000000</td>\n      <td>0.000000</td>\n      <td>0.000000</td>\n      <td>0.000000</td>\n      <td>0.000000</td>\n      <td>0.000000</td>\n      <td>...</td>\n      <td>0.000000</td>\n      <td>0.000000</td>\n      <td>0.000000</td>\n      <td>0.000000</td>\n      <td>0.000000</td>\n      <td>0.000000</td>\n      <td>0.000000</td>\n      <td>0.000000</td>\n      <td>5.409496</td>\n      <td>5.409496</td>\n    </tr>\n  </tbody>\n</table>\n<p>10 rows × 313 columns</p>\n</div>"
     },
     "execution_count": 94,
     "metadata": {},
     "output_type": "execute_result"
    }
   ],
   "source": [
    "df = pd.DataFrame(tfidf_scores_transformed.toarray(), columns=word_dictionary)\n",
    "df"
   ],
   "metadata": {
    "collapsed": false,
    "ExecuteTime": {
     "end_time": "2024-01-30T17:00:13.743211400Z",
     "start_time": "2024-01-30T17:00:13.651274100Z"
    }
   },
   "id": "dabaceda68c960cf",
   "execution_count": 94
  },
  {
   "cell_type": "markdown",
   "source": [
    "7. Ahora tenemos las puntuaciones tf-idf para cada artículo. Sin embargo, es conveniente\n",
    "confirmar que TfidfTransformer genera los mismos resultados que si usamos directamente\n",
    "TfidfVectorizer.\n",
    "Inicializa un objeto TfidfVectorizer con el argumento norm = None y guárdalo en una\n",
    "variable vectorizer"
   ],
   "metadata": {
    "collapsed": false
   },
   "id": "7d5579fcceccce06"
  },
  {
   "cell_type": "code",
   "outputs": [],
   "source": [
    "vectorizer = TfidfVectorizer(norm=None, stop_words='english')"
   ],
   "metadata": {
    "collapsed": false,
    "ExecuteTime": {
     "end_time": "2024-01-30T17:00:13.752516900Z",
     "start_time": "2024-01-30T17:00:13.746443900Z"
    }
   },
   "id": "a3fbb7ef633dc7b",
   "execution_count": 95
  },
  {
   "cell_type": "markdown",
   "source": [
    "8. Prepara el vectorizador para los artículos a fin de calcular las puntuaciones tf-idf para cada\n",
    "artículo, guardándolas en una variable a la que puedes llamar tfidf_scores."
   ],
   "metadata": {
    "collapsed": false
   },
   "id": "ae689289ea426547"
  },
  {
   "cell_type": "code",
   "outputs": [],
   "source": [
    "tfidf_scores = vectorizer.fit_transform(articles_cleaned)"
   ],
   "metadata": {
    "collapsed": false,
    "ExecuteTime": {
     "end_time": "2024-01-30T17:00:13.787382300Z",
     "start_time": "2024-01-30T17:00:13.753513800Z"
    }
   },
   "id": "8f1e4323626161d6",
   "execution_count": 96
  },
  {
   "cell_type": "markdown",
   "source": [
    "¿Las puntuaciones de tf-idf generadas por TfidfVectorizer son iguales a las generadas\n",
    "por TfidfTransformer?\n",
    "Confirmémoslo a través de este código, que debes añadir al script."
   ],
   "metadata": {
    "collapsed": false
   },
   "id": "b4c59d254596961b"
  },
  {
   "cell_type": "code",
   "outputs": [
    {
     "name": "stdout",
     "output_type": "stream",
     "text": [
      "Are the tf-idf scores the same?\n",
      "YES\n"
     ]
    }
   ],
   "source": [
    "print('Are the tf-idf scores the same?')\n",
    "if np.allclose(tfidf_scores_transformed.todense(), tfidf_scores.todense()):\n",
    "    print('YES')\n",
    "else:\n",
    "    print('No, something is wrong :(')"
   ],
   "metadata": {
    "collapsed": false,
    "ExecuteTime": {
     "end_time": "2024-01-30T17:00:13.788471800Z",
     "start_time": "2024-01-30T17:00:13.761411100Z"
    }
   },
   "id": "66cde0d36ba058ec",
   "execution_count": 97
  },
  {
   "cell_type": "markdown",
   "source": [
    "3)Análisis de los resultados"
   ],
   "metadata": {
    "collapsed": false
   },
   "id": "b2e1936bc97852b9"
  },
  {
   "cell_type": "markdown",
   "source": [
    "9. Una forma sencilla de identificar el “tema” de un documento es etiquetar el documento\n",
    "con el término tf-idf de mayor puntuación. Si bien este enfoque no es demasiado\n",
    "sofisticado, es una forma rápida y fácil de obtener información sobre el tema de un\n",
    "documento."
   ],
   "metadata": {
    "collapsed": false
   },
   "id": "c7771637f2ed6910"
  },
  {
   "cell_type": "markdown",
   "source": [
    "Si además echamos mano del método de Pandas idxmax (), que devuelve el índice del\n",
    "valor más alto en una columna DataFrame, podemos encontrar el término tf-idf con la\n",
    "mayor puntuación para cada artículo."
   ],
   "metadata": {
    "collapsed": false
   },
   "id": "185b2084b8daa8ad"
  },
  {
   "cell_type": "markdown",
   "source": [
    "Escribe un bucle “for” que recorra el conjunto de artículos, mostrando en cada iteración el\n",
    "término con puntuación más alta junto con la puntuación en cuestión. El bucle debería\n",
    "generar una salida de este tipo:\n",
    "\n",
    "Words with the highest tf-idf:\n",
    "Word: fares Score: 10.819\n",
    "Word: hong Score: 5.409\n",
    "Word: sugar Score: 18.933\n",
    "Word: petrol Score: 8.114\n",
    "Word: engines Score: 16.228\n",
    "Word: australia Score: 8.114\n",
    "Word: car Score: 8.114\n",
    "Word: railways Score: 9.197\n",
    "Word: cabinet Score: 8.114\n",
    "Word: china Score: 5.409"
   ],
   "metadata": {
    "collapsed": false
   },
   "id": "58147cd15119bde5"
  },
  {
   "cell_type": "code",
   "outputs": [
    {
     "name": "stdout",
     "output_type": "stream",
     "text": [
      "Words with the highest tf-idf:\n",
      "Word: fares Score: 10.819\n",
      "Word: hong Score: 5.409\n",
      "Word: sugar Score: 18.933\n",
      "Word: petrol Score: 8.114\n",
      "Word: engines Score: 16.228\n",
      "Word: australia Score: 8.114\n",
      "Word: car Score: 8.114\n",
      "Word: railways Score: 9.197\n",
      "Word: cabinet Score: 8.114\n",
      "Word: china Score: 5.409\n"
     ]
    }
   ],
   "source": [
    "print('Words with the highest tf-idf:')\n",
    "\n",
    "for index, row in df.iterrows():\n",
    "    print(f\"Word: {row.idxmax()} Score: {row.max():.3f}\")"
   ],
   "metadata": {
    "collapsed": false,
    "ExecuteTime": {
     "end_time": "2024-01-30T17:00:13.842199100Z",
     "start_time": "2024-01-30T17:00:13.791728500Z"
    }
   },
   "id": "6c2814b917772bc6",
   "execution_count": 98
  },
  {
   "cell_type": "markdown",
   "source": [
    "Echa un vistazo superficial al texto de los artículos y compáralo con el término\n",
    "seleccionado como resultado de aplicar tf-idf."
   ],
   "metadata": {
    "collapsed": false
   },
   "id": "f51c0ad4e2e00745"
  },
  {
   "cell_type": "markdown",
   "source": [
    "¿La lista de términos anterior dan alguna idea de cuál es el contenido (tema) de los\n",
    "artículos?"
   ],
   "metadata": {
    "collapsed": false
   },
   "id": "71914c73ad98ff66"
  },
  {
   "cell_type": "markdown",
   "source": [
    "- Sí, pese a ser tan solo una palabra es posible intuir el tema del cual trata el artículo en cuestión."
   ],
   "metadata": {
    "collapsed": false
   },
   "id": "84aab92df4dd1a0"
  }
 ],
 "metadata": {
  "kernelspec": {
   "display_name": "Python 3",
   "language": "python",
   "name": "python3"
  },
  "language_info": {
   "codemirror_mode": {
    "name": "ipython",
    "version": 2
   },
   "file_extension": ".py",
   "mimetype": "text/x-python",
   "name": "python",
   "nbconvert_exporter": "python",
   "pygments_lexer": "ipython2",
   "version": "2.7.6"
  }
 },
 "nbformat": 4,
 "nbformat_minor": 5
}
