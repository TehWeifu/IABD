{
 "cells": [
  {
   "cell_type": "markdown",
   "source": [
    "# Práctica 3.4\n",
    "## Procesamiento del lenguaje natural\n",
    "### Topic modeling vs K-Means"
   ],
   "metadata": {
    "collapsed": false
   },
   "id": "77d18d0ca5a6852"
  },
  {
   "cell_type": "code",
   "execution_count": 11,
   "id": "initial_id",
   "metadata": {
    "collapsed": true,
    "ExecuteTime": {
     "end_time": "2024-02-06T16:44:32.147440200Z",
     "start_time": "2024-02-06T16:44:32.133104300Z"
    }
   },
   "outputs": [],
   "source": [
    "# Corpus de documentos de ejemplo\n",
    "corpus = [\"el cielo es azul\", \"las nubes son blancas\", \"el sol brilla\",\n",
    "          \"el cielo está despejado\", \"las estrellas brillan en la noche\"]"
   ]
  },
  {
   "cell_type": "markdown",
   "source": [
    "1) importa las siguientes librerías relacionadas con la vectorización de texto (CountVectorizer y TfidfVectorizer) y la modelo LDA (LatentDirichletAllocation):"
   ],
   "metadata": {
    "collapsed": false
   },
   "id": "521965a7ba9c4c14"
  },
  {
   "cell_type": "code",
   "outputs": [],
   "source": [
    "from sklearn.feature_extraction.text import CountVectorizer\n",
    "from sklearn.decomposition import LatentDirichletAllocation\n",
    "from sklearn.metrics import silhouette_score"
   ],
   "metadata": {
    "collapsed": false,
    "ExecuteTime": {
     "end_time": "2024-02-06T16:44:32.163860Z",
     "start_time": "2024-02-06T16:44:32.150688600Z"
    }
   },
   "id": "e16f0ad215ee55bd",
   "execution_count": 12
  },
  {
   "cell_type": "markdown",
   "source": [
    "2) crea una variable que guarde el resultado de vectorizar (aplicando fit y transform) el corpus con las frases mediante CountVectorizer. Además del vectorizador, guarda en otra variable el diccionario de términos generado."
   ],
   "metadata": {
    "collapsed": false
   },
   "id": "4bf4d522c37ad2af"
  },
  {
   "cell_type": "code",
   "outputs": [],
   "source": [
    "# Vectorizador de términos\n",
    "vectorizer = CountVectorizer()\n",
    "X = vectorizer.fit_transform(corpus)"
   ],
   "metadata": {
    "collapsed": false,
    "ExecuteTime": {
     "end_time": "2024-02-06T16:44:32.178101800Z",
     "start_time": "2024-02-06T16:44:32.168048900Z"
    }
   },
   "id": "6d802ae159a45b5b",
   "execution_count": 13
  },
  {
   "cell_type": "markdown",
   "source": [
    "3) ahora generaremos el modelo. El número de temas que resultan de una agrupación más ajustada o coherente de términos no es algo que arroja el modelo, sino algo que hay que decidir de antemano. O dicho de otro modo, debemos por prueba y error indicar al\n",
    "modelo qué número de temas queremos que el modelo genere, haciendo ajustes sucesivos. Comenzaremos pues probando, por ejemplo, con 2 temas:"
   ],
   "metadata": {
    "collapsed": false
   },
   "id": "3f3be141df60b7fc"
  },
  {
   "cell_type": "code",
   "outputs": [],
   "source": [
    "# Probamos con 2 temas\n",
    "no_topics = 2\n",
    "\n",
    "# Ajustamos el modelo LDA\n",
    "lda_model = LatentDirichletAllocation(n_components=no_topics, max_iter=10, random_state=0)\n",
    "lda_model.fit(X)\n",
    "\n",
    "# Obtenemos la distribución de temas para cada documento\n",
    "doc_topic_distribution = lda_model.transform(X)\n",
    "\n",
    "# Obtenemos la distribución de palabras para cada tema\n",
    "topic_word_distribution = lda_model.components_"
   ],
   "metadata": {
    "collapsed": false,
    "ExecuteTime": {
     "end_time": "2024-02-06T16:44:32.187090Z",
     "start_time": "2024-02-06T16:44:32.170544200Z"
    }
   },
   "id": "db9f931ac7261cd0",
   "execution_count": 14
  },
  {
   "cell_type": "markdown",
   "source": [
    "4) finalmente, una vez preparado y ejecutado el modelo, necesitamos generar una salida por pantalla que nos permita mostrar los resultados que este arroja.\n",
    "Por ejemplo, nos puede interesar mostrar los diferentes temas identificados por el modelo (que deberemos “etiquetar” en un segundo momento, es decir, darles un nombre porque el modelo no genera por sí mismo los nombre de los temas) junto a los términos y documentos asociados al mismo. Escribe con tus palabras en el mismo código cuál es el significado de cada término recibido. \n",
    "Lleva a tu cuaderno la siguiente función para generar dicha salida:"
   ],
   "metadata": {
    "collapsed": false
   },
   "id": "eedf568e88545e14"
  },
  {
   "cell_type": "code",
   "outputs": [
    {
     "name": "stdout",
     "output_type": "stream",
     "text": [
      "\n",
      "Distribución de palabras para cada tópico:\n",
      "Tópico 1: ['el', 'cielo', 'es', 'azul', 'está']\n",
      "Tópico 2: ['las', 'noche', 'la', 'en', 'estrellas']\n"
     ]
    }
   ],
   "source": [
    "print(\"\\nDistribución de palabras para cada tópico:\")\n",
    "for i, topic_words in enumerate(topic_word_distribution):\n",
    "    top_words_indices = topic_words.argsort()[-5:][::-1]\n",
    "    top_words = [vectorizer.get_feature_names_out()[index] for index in top_words_indices]\n",
    "    print(f\"Tópico {i + 1}: {top_words}\")"
   ],
   "metadata": {
    "collapsed": false,
    "ExecuteTime": {
     "end_time": "2024-02-06T16:44:32.187151200Z",
     "start_time": "2024-02-06T16:44:32.182709100Z"
    }
   },
   "id": "335e70a2a3fb3726",
   "execution_count": 15
  },
  {
   "cell_type": "markdown",
   "source": [
    "5) El código anterior debería arrojar un resultado similar al siguiente:"
   ],
   "metadata": {
    "collapsed": false
   },
   "id": "f00eaca79df83956"
  },
  {
   "cell_type": "markdown",
   "source": [
    "6) Finalmente, puede ser aconsejable usar algún tipo de métrica que nos ayude a\n",
    "evaluar la coherencia de los resultados obtenidos. Una opción para modelos tipo LDA\n",
    "es recurrir a métricas como la puntuación de silueta (silhouette_score).\n",
    "Modifica el código del ejemplo previo con las siguientes líneas:"
   ],
   "metadata": {
    "collapsed": false
   },
   "id": "cfdcbc6a8b6a36a7"
  },
  {
   "cell_type": "code",
   "outputs": [
    {
     "name": "stdout",
     "output_type": "stream",
     "text": [
      "\n",
      "Coherencia de los tópicos para 2 temas:\n",
      "Tópico 1: 0.37228015922865254\n",
      "Tópico 2: 0.5211145618000168\n"
     ]
    }
   ],
   "source": [
    "\n",
    "# Probamos con 2 temas\n",
    "no_topics = 2\n",
    "\n",
    "# Ajustamos el modelo LDA\n",
    "lda_model = LatentDirichletAllocation(n_components=no_topics, max_iter=10, random_state=0)\n",
    "lda_model.fit(X)\n",
    "\n",
    "doc_topic_distribution = lda_model.transform(X)\n",
    "topic_word_distribution = lda_model.components_\n",
    "\n",
    "# Calcular la coherencia de los tópicos\n",
    "coherence_scores = []\n",
    "for i, topic_words in enumerate(topic_word_distribution):\n",
    "    top_words_indices = topic_words.argsort()[-5:][::-1]\n",
    "    top_words = [vectorizer.get_feature_names_out()[index] for index in top_words_indices]\n",
    "    coherence_score = silhouette_score(X[:, top_words_indices], labels=doc_topic_distribution.argmax(axis=1))\n",
    "    coherence_scores.append(coherence_score)\n",
    "\n",
    "# Mostrar la coherencia de los tópicos\n",
    "print(f\"\\nCoherencia de los tópicos para {no_topics} temas:\")\n",
    "for i, coherence_score in enumerate(coherence_scores):\n",
    "    print(f\"Tópico {i + 1}: {coherence_score}\")"
   ],
   "metadata": {
    "collapsed": false,
    "ExecuteTime": {
     "end_time": "2024-02-06T17:14:15.279978100Z",
     "start_time": "2024-02-06T17:14:15.262235Z"
    }
   },
   "id": "269164e0648bd0b3",
   "execution_count": 16
  },
  {
   "cell_type": "markdown",
   "source": [
    "Ejercicios\n",
    "1) Exploración de temas:\n",
    "    * Modifica el código anterior encapsulando la creación y salida de resultados del modelo LDA utilizando creando para ello una función llamada “explora_lda” que reciba como argumento el número de temas que LDA debe generar.\n",
    "    * Observa cómo cambian las distribuciones de temas y palabras con diferente número de temas (es decir, escogiendo 2, 3 y 4 temas, por ejemplo).\n",
    "    * Pregunta: ¿qué influencia tiene la elección del número de temas en la interpretación y utilidad del modelo?"
   ],
   "metadata": {
    "collapsed": false
   },
   "id": "9e92e2c64505339f"
  },
  {
   "cell_type": "code",
   "outputs": [],
   "source": [
    "def create_model(X, topic_number):\n",
    "    lda_model = LatentDirichletAllocation(n_components=topic_number, max_iter=10, random_state=0)\n",
    "    lda_model.fit(X)\n",
    "\n",
    "    doc_topic_distribution = lda_model.transform(X)\n",
    "    topic_word_distribution = lda_model.components_\n",
    "\n",
    "    return lda_model, doc_topic_distribution, topic_word_distribution"
   ],
   "metadata": {
    "collapsed": false,
    "ExecuteTime": {
     "end_time": "2024-02-06T17:22:57.239406600Z",
     "start_time": "2024-02-06T17:22:57.237264100Z"
    }
   },
   "id": "a40c7ca4f9f8fa7d",
   "execution_count": 17
  },
  {
   "cell_type": "code",
   "outputs": [
    {
     "name": "stdout",
     "output_type": "stream",
     "text": [
      "\n",
      "Distribución de palabras para cada tópico:\n",
      "Tópico 1: ['el', 'cielo', 'brilla', 'sol', 'está']\n",
      "Tópico 2: ['las', 'sol', 'brilla', 'nubes', 'blancas']\n",
      "Tópico 3: ['brillan', 'noche', 'la', 'estrellas', 'en']\n"
     ]
    }
   ],
   "source": [
    "model, doc_topic_distribution, topic_word_distribution = create_model(X, 3)\n",
    "\n",
    "print(\"\\nDistribución de palabras para cada tópico:\")\n",
    "for i, topic_words in enumerate(topic_word_distribution):\n",
    "    top_words_indices = topic_words.argsort()[-5:][::-1]\n",
    "    top_words = [vectorizer.get_feature_names_out()[index] for index in top_words_indices]\n",
    "    print(f\"Tópico {i + 1}: {top_words}\")"
   ],
   "metadata": {
    "collapsed": false,
    "ExecuteTime": {
     "end_time": "2024-02-06T17:35:18.292176600Z",
     "start_time": "2024-02-06T17:35:18.280398200Z"
    }
   },
   "id": "48f777a2a8205ef",
   "execution_count": 30
  },
  {
   "cell_type": "markdown",
   "source": [
    "- Cuando se eligen más temas el modelo tiende a ser más disperso y generar topics que se ajusten más a documentos individuales, cuando hay pocos temas, estos temas dan una vision más global del conjunto de documentos"
   ],
   "metadata": {
    "collapsed": false
   },
   "id": "490a07f2ff3bd802"
  },
  {
   "cell_type": "markdown",
   "source": [
    "# 2) Implementación de K-Means"
   ],
   "metadata": {
    "collapsed": false
   },
   "id": "e8f40aa383e34f97"
  },
  {
   "cell_type": "markdown",
   "source": [
    "1) importamos las librerías necesarias:"
   ],
   "metadata": {
    "collapsed": false
   },
   "id": "cb7db7b9d59ebd09"
  },
  {
   "cell_type": "code",
   "outputs": [],
   "source": [
    "from sklearn.feature_extraction.text import TfidfVectorizer\n",
    "from sklearn.cluster import KMeans\n",
    "from sklearn.metrics import adjusted_rand_score"
   ],
   "metadata": {
    "collapsed": false,
    "ExecuteTime": {
     "end_time": "2024-02-06T17:32:50.749580800Z",
     "start_time": "2024-02-06T17:32:50.271797600Z"
    }
   },
   "id": "de3e17eba21f4763",
   "execution_count": 22
  },
  {
   "cell_type": "markdown",
   "source": [
    "2) crea un objeto TfidfVectorizer y úsalo para vectorizar (aplicando fit y transform)\n",
    "el corpus con las frases. Además del vectorizador, guarda en una variable terms el\n",
    "diccionario de términos generado."
   ],
   "metadata": {
    "collapsed": false
   },
   "id": "df22c7def5885306"
  },
  {
   "cell_type": "code",
   "outputs": [
    {
     "data": {
      "text/plain": "array(['azul', 'blancas', 'brilla', 'brillan', 'cielo', 'despejado', 'el',\n       'en', 'es', 'estrellas', 'está', 'la', 'las', 'noche', 'nubes',\n       'sol', 'son'], dtype=object)"
     },
     "execution_count": 27,
     "metadata": {},
     "output_type": "execute_result"
    }
   ],
   "source": [
    "vectorizer = TfidfVectorizer()\n",
    "X = vectorizer.fit_transform(corpus)\n",
    "terms_dictionary = vectorizer.get_feature_names_out()\n",
    "terms_dictionary"
   ],
   "metadata": {
    "collapsed": false,
    "ExecuteTime": {
     "end_time": "2024-02-06T17:34:05.934488400Z",
     "start_time": "2024-02-06T17:34:05.928133600Z"
    }
   },
   "id": "a5a76674cbd44b6",
   "execution_count": 27
  },
  {
   "cell_type": "markdown",
   "source": [
    "3) generamos el modelo buscando 3 temas (prueba también con otros valores):"
   ],
   "metadata": {
    "collapsed": false
   },
   "id": "113e0ade3f59815e"
  },
  {
   "cell_type": "code",
   "outputs": [
    {
     "name": "stdout",
     "output_type": "stream",
     "text": [
      "Cluster 0: \n",
      "son nubes blancas las el \n",
      "\n",
      "Cluster 1: \n",
      "el cielo sol brilla es \n",
      "\n",
      "Cluster 2: \n",
      "noche la estrellas brillan en \n"
     ]
    }
   ],
   "source": [
    "# Probamos con 3 agrupaciones\n",
    "true_k = 3\n",
    "\n",
    "model = KMeans(n_clusters=true_k, init=\"k-means++\", max_iter=50, n_init=1, random_state=5)\n",
    "model.fit(X)\n",
    "\n",
    "order_centroids = model.cluster_centers_.argsort()[:, ::-1]\n",
    "\n",
    "for i in range(true_k):\n",
    "    print(f\"Cluster {i}: \")\n",
    "    for ind in order_centroids[i, :5]:\n",
    "        print(f'{terms_dictionary[ind]}', end=\" \")\n",
    "    print(\"\\n\")"
   ],
   "metadata": {
    "collapsed": false,
    "ExecuteTime": {
     "end_time": "2024-02-06T17:41:26.949195100Z",
     "start_time": "2024-02-06T17:41:26.931665400Z"
    }
   },
   "id": "bf053f9356fdce1c",
   "execution_count": 47
  },
  {
   "cell_type": "markdown",
   "source": [
    "4) muestra en formato Pandas la asociación entre cada frase del corpus y el número de\n",
    "clúster asignado cuando true_k = 3."
   ],
   "metadata": {
    "collapsed": false
   },
   "id": "e64be4d2abdf5035"
  },
  {
   "cell_type": "code",
   "outputs": [],
   "source": [
    "import pandas as pd"
   ],
   "metadata": {
    "collapsed": false,
    "ExecuteTime": {
     "end_time": "2024-02-06T17:41:29.163175Z",
     "start_time": "2024-02-06T17:41:29.158862900Z"
    }
   },
   "id": "fe131d56f570dec7",
   "execution_count": 48
  },
  {
   "cell_type": "code",
   "outputs": [
    {
     "data": {
      "text/plain": "                           documents  cluster\n0                   el cielo es azul        1\n1              las nubes son blancas        0\n2                      el sol brilla        1\n3            el cielo está despejado        1\n4  las estrellas brillan en la noche        2",
      "text/html": "<div>\n<style scoped>\n    .dataframe tbody tr th:only-of-type {\n        vertical-align: middle;\n    }\n\n    .dataframe tbody tr th {\n        vertical-align: top;\n    }\n\n    .dataframe thead th {\n        text-align: right;\n    }\n</style>\n<table border=\"1\" class=\"dataframe\">\n  <thead>\n    <tr style=\"text-align: right;\">\n      <th></th>\n      <th>documents</th>\n      <th>cluster</th>\n    </tr>\n  </thead>\n  <tbody>\n    <tr>\n      <th>0</th>\n      <td>el cielo es azul</td>\n      <td>1</td>\n    </tr>\n    <tr>\n      <th>1</th>\n      <td>las nubes son blancas</td>\n      <td>0</td>\n    </tr>\n    <tr>\n      <th>2</th>\n      <td>el sol brilla</td>\n      <td>1</td>\n    </tr>\n    <tr>\n      <th>3</th>\n      <td>el cielo está despejado</td>\n      <td>1</td>\n    </tr>\n    <tr>\n      <th>4</th>\n      <td>las estrellas brillan en la noche</td>\n      <td>2</td>\n    </tr>\n  </tbody>\n</table>\n</div>"
     },
     "execution_count": 51,
     "metadata": {},
     "output_type": "execute_result"
    }
   ],
   "source": [
    "results = []\n",
    "for doc in corpus:\n",
    "    prediction = model.predict(vectorizer.transform([doc]))\n",
    "    results.append([\n",
    "        doc,\n",
    "        prediction[0]\n",
    "    ])\n",
    "\n",
    "df = pd.DataFrame(results, columns=[\"documents\", \"cluster\"])\n",
    "df"
   ],
   "metadata": {
    "collapsed": false,
    "ExecuteTime": {
     "end_time": "2024-02-06T17:41:33.919375Z",
     "start_time": "2024-02-06T17:41:33.911882700Z"
    }
   },
   "id": "9456eacb946ffbf1",
   "execution_count": 51
  }
 ],
 "metadata": {
  "kernelspec": {
   "display_name": "Python 3",
   "language": "python",
   "name": "python3"
  },
  "language_info": {
   "codemirror_mode": {
    "name": "ipython",
    "version": 2
   },
   "file_extension": ".py",
   "mimetype": "text/x-python",
   "name": "python",
   "nbconvert_exporter": "python",
   "pygments_lexer": "ipython2",
   "version": "2.7.6"
  }
 },
 "nbformat": 4,
 "nbformat_minor": 5
}
