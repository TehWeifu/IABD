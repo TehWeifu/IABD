{
 "cells": [
  {
   "cell_type": "code",
   "execution_count": 2,
   "outputs": [],
   "source": [
    "import requests\n",
    "from bs4 import BeautifulSoup"
   ],
   "metadata": {
    "collapsed": false,
    "ExecuteTime": {
     "end_time": "2023-11-28T16:47:15.731693600Z",
     "start_time": "2023-11-28T16:47:15.725552Z"
    }
   },
   "id": "e1489392f2fc93d9"
  },
  {
   "cell_type": "code",
   "execution_count": 3,
   "outputs": [],
   "source": [
    "prefix = \"https://content.codecademy.com/courses/beautifulsoup/\"\n",
    "webpage_response = requests.get('https://content.codecademy.com/courses/beautifulsoup/shellter.html')"
   ],
   "metadata": {
    "collapsed": false,
    "ExecuteTime": {
     "end_time": "2023-11-28T16:47:19.248951900Z",
     "start_time": "2023-11-28T16:47:18.806125700Z"
    }
   },
   "id": "7aac38eb54a68889"
  },
  {
   "cell_type": "code",
   "execution_count": 4,
   "outputs": [],
   "source": [
    "webpage = webpage_response.content\n",
    "soup = BeautifulSoup(webpage, \"html.parser\")"
   ],
   "metadata": {
    "collapsed": false,
    "ExecuteTime": {
     "end_time": "2023-11-28T16:47:32.930355800Z",
     "start_time": "2023-11-28T16:47:32.924320700Z"
    }
   },
   "id": "c22debd9c4ea939"
  },
  {
   "cell_type": "code",
   "execution_count": 5,
   "outputs": [],
   "source": [
    "# Se guardan las referencias a las diferentes tortugas de la página capturada\n",
    "turtle_links = soup.find_all(\"a\")\n",
    "\n",
    "# Se guardan generan nuevos URL a partir de las referencias anteriores\n",
    "links = []\n",
    "for a in turtle_links:\n",
    "    links.append(prefix + a[\"href\"])"
   ],
   "metadata": {
    "collapsed": false,
    "ExecuteTime": {
     "end_time": "2023-11-28T16:47:35.327784200Z",
     "start_time": "2023-11-28T16:47:35.308167200Z"
    }
   },
   "id": "8523863bb5152635"
  },
  {
   "cell_type": "code",
   "execution_count": 9,
   "outputs": [
    {
     "name": "stdout",
     "output_type": "stream",
     "text": [
      "['\\n', 'AGE: 7 Years Old', '\\n', 'WEIGHT: 6 lbs', '\\n', 'SEX: Female', '\\n', 'BREED: African Aquatic Sideneck Turtle', '\\n', 'SOURCE: found in Lake Erie', '\\n']\n",
      "['\\n', 'AGE: 2 Years Old', '\\n', 'WEIGHT: 4 lbs', '\\n', 'SEX: Male', '\\n', 'BREED: Greek Tortoise', '\\n', 'SOURCE: hatched in house', '\\n']\n",
      "['\\n', 'AGE: 1 Year Old', '\\n', 'WEIGHT: 1 lb', '\\n', 'SEX: Male', '\\n', 'BREED: African Aquatic Sideneck Turtle', '\\n', 'SOURCE: found in Lake Erie', '\\n']\n",
      "['\\n', 'AGE: 6 Years Old', '\\n', 'WEIGHT: 3 lbs', '\\n', 'SEX: Female', '\\n', 'BREED: Greek Tortoise', '\\n', 'SOURCE: hatched in house', '\\n']\n",
      "['\\n', 'AGE: 3 Years Old', '\\n', 'WEIGHT: 2 lbs', '\\n', 'SEX: Female', '\\n', 'BREED: Eastern Box Turtle', '\\n', 'SOURCE: surrendered by owner', '\\n']\n",
      "['\\n', 'AGE: 2 Years Old', '\\n', 'WEIGHT: 2 lbs', '\\n', 'SEX: Male', '\\n', 'BREED: African Aquatic Sideneck Turtle', '\\n', 'SOURCE: hatched in house', '\\n']\n",
      "['\\n', 'AGE: 1 Year Old', '\\n', 'WEIGHT: 1.5 lbs', '\\n', 'SEX: Female', '\\n', 'BREED: Eastern Box Turtle', '\\n', 'SOURCE: surrendered by owner', '\\n']\n",
      "['\\n', 'AGE: 10 Years Old', '\\n', 'WEIGHT: 10 lbs', '\\n', 'SEX: Male', '\\n', 'BREED: Greek Tortoise', '\\n', 'SOURCE: surrendered by owner', '\\n']\n",
      "['\\n', 'AGE: 1.5 Years Old', '\\n', 'WEIGHT: 4.5 lbs', '\\n', 'SEX: Female', '\\n', 'BREED: African Aquatic Sideneck Turtle', '\\n', 'SOURCE: found in Lake Erie', '\\n']\n"
     ]
    }
   ],
   "source": [
    "# Los datos de las tortugas se guardarán en un diccionario\n",
    "turtle_data = {}\n",
    "\n",
    "#follow each link:\n",
    "for link in links:\n",
    "    webpage = requests.get(link)\n",
    "    turtle = BeautifulSoup(webpage.content, \"html.parser\")\n",
    "    turtle_name = turtle.select(\".name\")[0].get_text()  # se obtiene el nombre de la tortuga\n",
    "    turtle_data[turtle_name] = turtle.find(\"ul\").get_text(\"|\").split(\"|\")  # características guardadas por separado\n",
    "    print(turtle_data[turtle_name])"
   ],
   "metadata": {
    "collapsed": false,
    "ExecuteTime": {
     "end_time": "2023-11-28T17:10:22.278573600Z",
     "start_time": "2023-11-28T17:10:17.095371600Z"
    }
   },
   "id": "c5b7606f73368890"
  }
 ],
 "metadata": {
  "kernelspec": {
   "display_name": "Python 3",
   "language": "python",
   "name": "python3"
  },
  "language_info": {
   "codemirror_mode": {
    "name": "ipython",
    "version": 2
   },
   "file_extension": ".py",
   "mimetype": "text/x-python",
   "name": "python",
   "nbconvert_exporter": "python",
   "pygments_lexer": "ipython2",
   "version": "2.7.6"
  }
 },
 "nbformat": 4,
 "nbformat_minor": 5
}
