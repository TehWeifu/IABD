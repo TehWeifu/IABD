{
 "cells": [
  {
   "cell_type": "code",
   "execution_count": 507,
   "outputs": [],
   "source": [
    "from datetime import datetime\n",
    "import os\n",
    "import re\n",
    "import pandas as pd\n",
    "import matplotlib.pyplot as plt\n",
    "import numpy as np"
   ],
   "metadata": {
    "collapsed": false,
    "ExecuteTime": {
     "end_time": "2023-12-05T18:51:57.236697600Z",
     "start_time": "2023-12-05T18:51:57.190511700Z"
    }
   },
   "id": "af1edf6ae8804be8"
  },
  {
   "cell_type": "markdown",
   "source": [
    "Parte 1: Extracción de Datos con Expresiones Regulares\n",
    "\n",
    "Utilizando expresiones regulares, extrae todos los datos anteriores de cada paciente, eligiendo para ello la forma más adecuada de almacenarlos en Python."
   ],
   "metadata": {
    "collapsed": false
   },
   "id": "14a47eab6ced3b1b"
  },
  {
   "cell_type": "code",
   "execution_count": 508,
   "outputs": [],
   "source": [
    "reports = []"
   ],
   "metadata": {
    "collapsed": false,
    "ExecuteTime": {
     "end_time": "2023-12-05T18:51:57.261187200Z",
     "start_time": "2023-12-05T18:51:57.194999600Z"
    }
   },
   "id": "603f6679e573bbc4"
  },
  {
   "cell_type": "code",
   "execution_count": 509,
   "outputs": [],
   "source": [
    "def extract_name(text):\n",
    "    expression = re.compile(r\"Paciente: (.*)\", re.UNICODE)\n",
    "    match = re.search(expression, text)\n",
    "    return match.group(1)"
   ],
   "metadata": {
    "collapsed": false,
    "ExecuteTime": {
     "end_time": "2023-12-05T18:51:57.289389900Z",
     "start_time": "2023-12-05T18:51:57.195504Z"
    }
   },
   "id": "e1e500ee9b4455d0"
  },
  {
   "cell_type": "code",
   "execution_count": 510,
   "outputs": [],
   "source": [
    "def extract_date(text):\n",
    "    expression = re.compile(r\"Fecha: (.*)\", re.UNICODE)\n",
    "    match = re.search(expression, text)\n",
    "    return match.group(1)"
   ],
   "metadata": {
    "collapsed": false,
    "ExecuteTime": {
     "end_time": "2023-12-05T18:51:57.289389900Z",
     "start_time": "2023-12-05T18:51:57.201125300Z"
    }
   },
   "id": "b3e125b143b990df"
  },
  {
   "cell_type": "code",
   "execution_count": 511,
   "outputs": [],
   "source": [
    "def extract_age(text):\n",
    "    expression = re.compile(r\"Edad: (.*)\", re.UNICODE)\n",
    "    match = re.search(expression, text)\n",
    "    return match.group(1)"
   ],
   "metadata": {
    "collapsed": false,
    "ExecuteTime": {
     "end_time": "2023-12-05T18:51:57.336589100Z",
     "start_time": "2023-12-05T18:51:57.209410Z"
    }
   },
   "id": "6616b28510923976"
  },
  {
   "cell_type": "code",
   "execution_count": 512,
   "outputs": [],
   "source": [
    "def extract_gender(text):\n",
    "    expression = re.compile(r\"Sexo: (.*)\", re.UNICODE)\n",
    "    match = re.search(expression, text)\n",
    "    return match.group(1)"
   ],
   "metadata": {
    "collapsed": false,
    "ExecuteTime": {
     "end_time": "2023-12-05T18:51:57.336589100Z",
     "start_time": "2023-12-05T18:51:57.213165700Z"
    }
   },
   "id": "f2da38e11558b539"
  },
  {
   "cell_type": "code",
   "execution_count": 513,
   "outputs": [],
   "source": [
    "def extract_code(text):\n",
    "    expression = re.compile(r\"Código: (.*)\", re.UNICODE)\n",
    "    match = re.search(expression, text)\n",
    "    return match.group(1)"
   ],
   "metadata": {
    "collapsed": false,
    "ExecuteTime": {
     "end_time": "2023-12-05T18:51:57.336589100Z",
     "start_time": "2023-12-05T18:51:57.218804900Z"
    }
   },
   "id": "11e25f479b6a1d8a"
  },
  {
   "cell_type": "code",
   "execution_count": 514,
   "outputs": [],
   "source": [
    "def extract_symptoms(text):\n",
    "    expression = re.compile(r\"Síntomas: (.*)\", re.UNICODE)\n",
    "    match = re.search(expression, text)\n",
    "    return match.group(1)"
   ],
   "metadata": {
    "collapsed": false,
    "ExecuteTime": {
     "end_time": "2023-12-05T18:51:57.336589100Z",
     "start_time": "2023-12-05T18:51:57.226420300Z"
    }
   },
   "id": "717dbb0301c2728e"
  },
  {
   "cell_type": "code",
   "execution_count": 515,
   "outputs": [],
   "source": [
    "def extract_diagnosis(text):\n",
    "    expression = re.compile(r\"Patología: (.*)\", re.UNICODE)\n",
    "    match = re.search(expression, text)\n",
    "    return match.group(1)"
   ],
   "metadata": {
    "collapsed": false,
    "ExecuteTime": {
     "end_time": "2023-12-05T18:51:57.336589100Z",
     "start_time": "2023-12-05T18:51:57.230281600Z"
    }
   },
   "id": "92ffe5e028193a9b"
  },
  {
   "cell_type": "code",
   "execution_count": 516,
   "outputs": [],
   "source": [
    "def extract_severity(text):\n",
    "    expression = re.compile(r\"Gravedad: (.*)\", re.UNICODE)\n",
    "    match = re.search(expression, text)\n",
    "    return match.group(1)"
   ],
   "metadata": {
    "collapsed": false,
    "ExecuteTime": {
     "end_time": "2023-12-05T18:51:57.336589100Z",
     "start_time": "2023-12-05T18:51:57.236697600Z"
    }
   },
   "id": "5a0d4d54aa571ca8"
  },
  {
   "cell_type": "code",
   "execution_count": 517,
   "outputs": [],
   "source": [
    "def extract_treatment(text):\n",
    "    expression = re.compile(r\"Tratamiento: (.*)\", re.UNICODE)\n",
    "    match = re.search(expression, text)\n",
    "    return match.group(1)"
   ],
   "metadata": {
    "collapsed": false,
    "ExecuteTime": {
     "end_time": "2023-12-05T18:51:57.336589100Z",
     "start_time": "2023-12-05T18:51:57.241563900Z"
    }
   },
   "id": "f5896b1024e86c19"
  },
  {
   "cell_type": "code",
   "execution_count": 518,
   "outputs": [],
   "source": [
    "def extract_next_date(text):\n",
    "    expression = re.compile(r\"Próxima Cita: (.*)\", re.UNICODE)\n",
    "    match = re.search(expression, text)\n",
    "    return match.group(1)"
   ],
   "metadata": {
    "collapsed": false,
    "ExecuteTime": {
     "end_time": "2023-12-05T18:51:57.336589100Z",
     "start_time": "2023-12-05T18:51:57.247229600Z"
    }
   },
   "id": "de0f127588e88465"
  },
  {
   "cell_type": "code",
   "execution_count": 519,
   "id": "initial_id",
   "metadata": {
    "collapsed": true,
    "ExecuteTime": {
     "end_time": "2023-12-05T18:51:57.336589100Z",
     "start_time": "2023-12-05T18:51:57.252502500Z"
    }
   },
   "outputs": [],
   "source": [
    "report_files = os.listdir('./medic_report')\n",
    "for file in report_files:\n",
    "    file_handler = open('./medic_report' + '/' + file, \"r\", encoding=\"utf-8\")\n",
    "    file_content = file_handler.read()\n",
    "\n",
    "    patient = {}\n",
    "    patient[\"name\"] = extract_name(file_content)\n",
    "    patient[\"date\"] = extract_date(file_content)\n",
    "    patient[\"age\"] = extract_age(file_content)\n",
    "    patient[\"gender\"] = extract_gender(file_content)\n",
    "    patient[\"code\"] = extract_code(file_content)\n",
    "    patient[\"symptoms\"] = extract_symptoms(file_content)\n",
    "    patient[\"diagnosis\"] = extract_diagnosis(file_content)\n",
    "    patient[\"severity\"] = extract_severity(file_content)\n",
    "    patient[\"treatment\"] = extract_treatment(file_content)\n",
    "    patient[\"next-date\"] = extract_next_date(file_content)\n",
    "\n",
    "    reports.append(patient)"
   ]
  },
  {
   "cell_type": "code",
   "execution_count": 520,
   "outputs": [
    {
     "data": {
      "text/plain": "[{'name': 'María Rodríguez',\n  'date': '2023-04-20',\n  'age': '35',\n  'gender': 'Mujer',\n  'code': 'G20230402',\n  'symptoms': 'Fiebre, dolor de cabeza',\n  'diagnosis': 'Gripe común',\n  'severity': 'Leve',\n  'treatment': 'Analgésicos y reposo',\n  'next-date': '2023-05-05'},\n {'name': 'Andrés Gómez',\n  'date': '2024-05-10',\n  'age': '60',\n  'gender': 'Hombre',\n  'code': 'A20240501',\n  'symptoms': 'Mareos, dolor de cabeza',\n  'diagnosis': 'Hipertensión',\n  'severity': 'Moderada',\n  'treatment': 'Medicamentos antihipertensivos y cambio en la dieta',\n  'next-date': '2024-05-25'},\n {'name': 'Diana Muñoz',\n  'date': '2024-06-28',\n  'age': '35',\n  'gender': 'Mujer',\n  'code': 'D20240601',\n  'symptoms': 'Picazón en la piel, enrojecimiento',\n  'diagnosis': 'Dermatitis alérgica',\n  'severity': 'Leve',\n  'treatment': 'Crema antiinflamatoria y evitar alérgenos',\n  'next-date': '2024-07-13'},\n {'name': 'Alejandro Torres',\n  'date': '2024-08-15',\n  'age': '42',\n  'gender': 'Hombre',\n  'code': 'A20240801',\n  'symptoms': 'Dolor en las articulaciones, fatiga',\n  'diagnosis': 'Artritis',\n  'severity': 'Moderada',\n  'treatment': 'Antiinflamatorios y terapia física',\n  'next-date': '2024-08-30'},\n {'name': 'Isabel Ramírez',\n  'date': '2024-09-20',\n  'age': '55',\n  'gender': 'Mujer',\n  'code': 'I20240901',\n  'symptoms': 'Palpitaciones, falta de aire',\n  'diagnosis': 'Arritmia cardíaca',\n  'severity': 'Moderada',\n  'treatment': 'Medicamentos antiarrítmicos y monitoreo cardíaco',\n  'next-date': '2024-10-05'},\n {'name': 'Sergio Castro',\n  'date': '2024-11-10',\n  'age': '30',\n  'gender': 'Hombre',\n  'code': 'S20241101',\n  'symptoms': 'Picor en los ojos, secreción nasal',\n  'diagnosis': 'Alergia estacional',\n  'severity': 'Leve',\n  'treatment': 'Antihistamínicos y evitar alérgenos',\n  'next-date': '2024-11-25'},\n {'name': 'Carmen López',\n  'date': '2024-12-25',\n  'age': '48',\n  'gender': 'Mujer',\n  'code': 'C20241201',\n  'symptoms': 'Dolor abdominal, vómitos',\n  'diagnosis': 'Gastroenteritis',\n  'severity': 'Moderada',\n  'treatment': 'Reposo, hidratación y dieta blanda',\n  'next-date': '2025-01-10'},\n {'name': 'Luis Morales',\n  'date': '2025-02-10',\n  'age': '38',\n  'gender': 'Hombre',\n  'code': 'L20250201',\n  'symptoms': 'Dolor de garganta, fiebre',\n  'diagnosis': 'Amigdalitis',\n  'severity': 'Leve',\n  'treatment': 'Antibióticos y reposo',\n  'next-date': '2025-02-25'},\n {'name': 'Gabriela Vargas',\n  'date': '2025-03-20',\n  'age': '27',\n  'gender': 'Mujer',\n  'code': 'G20250301',\n  'symptoms': 'Tos persistente, fatiga',\n  'diagnosis': 'Resfriado común',\n  'severity': 'Moderada',\n  'treatment': 'Reposo y jarabe expectorante',\n  'next-date': '2025-04-05'},\n {'name': 'Rafael Soto',\n  'date': '2025-05-15',\n  'age': '50',\n  'gender': 'Hombre',\n  'code': 'R20250501',\n  'symptoms': 'Dolor en el pecho, falta de aire',\n  'diagnosis': 'Infarto agudo de miocardio',\n  'severity': 'Grave',\n  'treatment': 'Hospitalización, medicamentos y rehabilitación cardíaca',\n  'next-date': 'Seguimiento continuo'},\n {'name': 'Patricia Torres',\n  'date': '2025-06-10',\n  'age': '45',\n  'gender': 'Mujer',\n  'code': 'P20250601',\n  'symptoms': 'Dolor de cabeza, fatiga',\n  'diagnosis': 'Migraña',\n  'severity': 'Moderada',\n  'treatment': 'Analgésicos y reposo',\n  'next-date': '2025-06-25'},\n {'name': 'Juan Pérez',\n  'date': '2023-06-10',\n  'age': '45',\n  'gender': 'Hombre',\n  'code': 'J20230601',\n  'symptoms': 'Tos persistente, fatiga',\n  'diagnosis': 'Resfriado común',\n  'severity': 'Moderada',\n  'treatment': 'Reposo y jarabe expectorante',\n  'next-date': '2023-06-25'},\n {'name': 'Juan Pérez (segunda visita)',\n  'date': '2025-07-15',\n  'age': '45',\n  'gender': 'Hombre',\n  'code': 'J20250701',\n  'symptoms': 'Tos persistente, fatiga',\n  'diagnosis': 'Resfriado común',\n  'severity': 'Moderada',\n  'treatment': 'Reposo y jarabe expectorante',\n  'next-date': '2025-07-30'},\n {'name': 'Laura Sánchez (segunda visita)',\n  'date': '2025-08-20',\n  'age': '32',\n  'gender': 'Mujer',\n  'code': 'L20250801',\n  'symptoms': 'Dolores musculares, dolor de cabeza',\n  'diagnosis': 'Gripe común',\n  'severity': 'Leve',\n  'treatment': 'Analgésicos y reposo',\n  'next-date': '2025-09-05'},\n {'name': 'Ana Gutiérrez',\n  'date': '2023-07-15',\n  'age': '28',\n  'gender': 'Mujer',\n  'code': 'A20230701',\n  'symptoms': 'Dolor de garganta, congestión nasal',\n  'diagnosis': 'Resfriado común',\n  'severity': 'Leve',\n  'treatment': 'Reposo y analgésicos',\n  'next-date': '2023-08-01'},\n {'name': 'Carlos Martínez',\n  'date': '2023-09-05',\n  'age': '50',\n  'gender': 'Hombre',\n  'code': 'C20230901',\n  'symptoms': 'Fiebre, tos seca',\n  'diagnosis': 'COVID-19',\n  'severity': 'Moderada',\n  'treatment': 'Aislamiento, medicamentos antivirales',\n  'next-date': '2023-09-20'},\n {'name': 'Laura Sánchez',\n  'date': '2023-10-12',\n  'age': '32',\n  'gender': 'Mujer',\n  'code': 'L20231001',\n  'symptoms': 'Dolores musculares, dolor de cabeza',\n  'diagnosis': 'Gripe común',\n  'severity': 'Leve',\n  'treatment': 'Analgésicos y reposo',\n  'next-date': '2023-10-27'},\n {'name': 'José Ramírez',\n  'date': '2023-11-02',\n  'age': '55',\n  'gender': 'Hombre',\n  'code': 'J20231101',\n  'symptoms': 'Congestión nasal, estornudos',\n  'diagnosis': 'Resfriado común',\n  'severity': 'Moderada',\n  'treatment': 'Reposo y medicamentos antihistamínicos',\n  'next-date': '2023-11-17'},\n {'name': 'Marta López',\n  'date': '2023-12-18',\n  'age': '40',\n  'gender': 'Mujer',\n  'code': 'M20231201',\n  'symptoms': 'Dolor de garganta, fiebre',\n  'diagnosis': 'Amigdalitis',\n  'severity': 'Moderada',\n  'treatment': 'Antibióticos y reposo',\n  'next-date': '2024-01-02'},\n {'name': 'Raúl Fernández',\n  'date': '2024-02-05',\n  'age': '48',\n  'gender': 'Hombre',\n  'code': 'R20240201',\n  'symptoms': 'Tos seca, dificultad para respirar',\n  'diagnosis': 'Asma',\n  'severity': 'Grave',\n  'treatment': 'Inhaladores y corticosteroides',\n  'next-date': '2024-02-20'},\n {'name': 'Carolina Díaz',\n  'date': '2024-03-22',\n  'age': '25',\n  'gender': 'Mujer',\n  'code': 'C20240301',\n  'symptoms': 'Dolor abdominal, náuseas',\n  'diagnosis': 'Gastroenteritis',\n  'severity': 'Leve',\n  'treatment': 'Hidratación y dieta blanda',\n  'next-date': '2024-04-06'}]"
     },
     "execution_count": 520,
     "metadata": {},
     "output_type": "execute_result"
    }
   ],
   "source": [
    "reports"
   ],
   "metadata": {
    "collapsed": false,
    "ExecuteTime": {
     "end_time": "2023-12-05T18:51:57.336589100Z",
     "start_time": "2023-12-05T18:51:57.261187200Z"
    }
   },
   "id": "99ff39da39ea38aa"
  },
  {
   "cell_type": "markdown",
   "source": [
    "Parte 2: Análisis de Datos\n",
    "Responde a las siguientes cuestiones:"
   ],
   "metadata": {
    "collapsed": false
   },
   "id": "645bba22acdc4974"
  },
  {
   "cell_type": "markdown",
   "source": [
    "1. Enfermedades graves y próximas citas:\n",
    "Determina cuántos pacientes con una enfermedad grave deberían tener una cita antes de acabar el año 2023."
   ],
   "metadata": {
    "collapsed": false
   },
   "id": "b13371ed856a43e"
  },
  {
   "cell_type": "code",
   "execution_count": 521,
   "outputs": [],
   "source": [
    "def is_patient_severe(patient):\n",
    "    is_severe = patient[\"severity\"] == \"Grave\"\n",
    "\n",
    "    try:\n",
    "        dt = datetime.strptime(patient['next-date'], '%Y-%m-%d')\n",
    "    except ValueError:\n",
    "        dt = None\n",
    "\n",
    "    if dt is not None:\n",
    "        current_year = dt.year\n",
    "        return is_severe and str(current_year) > '2023'\n",
    "\n",
    "    return False"
   ],
   "metadata": {
    "collapsed": false,
    "ExecuteTime": {
     "end_time": "2023-12-05T18:51:57.352237300Z",
     "start_time": "2023-12-05T18:51:57.267367600Z"
    }
   },
   "id": "c26794810e40c05e"
  },
  {
   "cell_type": "code",
   "execution_count": 522,
   "outputs": [
    {
     "data": {
      "text/plain": "[{'name': 'Raúl Fernández',\n  'date': '2024-02-05',\n  'age': '48',\n  'gender': 'Hombre',\n  'code': 'R20240201',\n  'symptoms': 'Tos seca, dificultad para respirar',\n  'diagnosis': 'Asma',\n  'severity': 'Grave',\n  'treatment': 'Inhaladores y corticosteroides',\n  'next-date': '2024-02-20'}]"
     },
     "execution_count": 522,
     "metadata": {},
     "output_type": "execute_result"
    }
   ],
   "source": [
    "severe_patients = [patient for patient in reports if (is_patient_severe(patient))]\n",
    "severe_patients"
   ],
   "metadata": {
    "collapsed": false,
    "ExecuteTime": {
     "end_time": "2023-12-05T18:51:57.352237300Z",
     "start_time": "2023-12-05T18:51:57.274197200Z"
    }
   },
   "id": "7f90867a769fe497"
  },
  {
   "cell_type": "code",
   "execution_count": 523,
   "outputs": [
    {
     "name": "stdout",
     "output_type": "stream",
     "text": [
      "There are a total of 1 severe patients who have a next appointment scheduled date later than 2023.\n"
     ]
    }
   ],
   "source": [
    "print(\n",
    "    f\"There are a total of {len(severe_patients)} severe patients who have a next appointment scheduled date later than 2023.\")"
   ],
   "metadata": {
    "collapsed": false,
    "ExecuteTime": {
     "end_time": "2023-12-05T18:51:57.352237300Z",
     "start_time": "2023-12-05T18:51:57.280890400Z"
    }
   },
   "id": "9c20f2c3fecde5ad"
  },
  {
   "cell_type": "markdown",
   "source": [
    "2. Enfermedades y sexo del paciente:\n",
    "Analiza la relación entre ciertas enfermedades y el sexo del paciente. ¿Se puede identificar algún tipo de patrón reseñable en cuanto a qué sexo parece enfermar más de cierta enfermedad?\n",
    "Consulta si lo necesitas el anexo 1 que viene al final de este documento dónde se presenta una posible estrategia para contestar a esta pregunta."
   ],
   "metadata": {
    "collapsed": false
   },
   "id": "38b24ccd0d7951be"
  },
  {
   "cell_type": "code",
   "execution_count": 524,
   "outputs": [],
   "source": [
    "diseases = {}\n",
    "\n",
    "for report in reports:\n",
    "    if report[\"diagnosis\"] in diseases:\n",
    "        diseases[report[\"diagnosis\"]][report[\"gender\"]] += 1\n",
    "    else:\n",
    "        diseases[report[\"diagnosis\"]] = {\"Hombre\": 0, \"Mujer\": 0}\n",
    "        diseases[report[\"diagnosis\"]][report[\"gender\"]] += 1"
   ],
   "metadata": {
    "collapsed": false,
    "ExecuteTime": {
     "end_time": "2023-12-05T18:51:57.352237300Z",
     "start_time": "2023-12-05T18:51:57.287377800Z"
    }
   },
   "id": "16e02322e37bcb13"
  },
  {
   "cell_type": "code",
   "execution_count": 525,
   "outputs": [
    {
     "data": {
      "text/plain": "{'Gripe común': {'Hombre': 0, 'Mujer': 3},\n 'Hipertensión': {'Hombre': 1, 'Mujer': 0},\n 'Dermatitis alérgica': {'Hombre': 0, 'Mujer': 1},\n 'Artritis': {'Hombre': 1, 'Mujer': 0},\n 'Arritmia cardíaca': {'Hombre': 0, 'Mujer': 1},\n 'Alergia estacional': {'Hombre': 1, 'Mujer': 0},\n 'Gastroenteritis': {'Hombre': 0, 'Mujer': 2},\n 'Amigdalitis': {'Hombre': 1, 'Mujer': 1},\n 'Resfriado común': {'Hombre': 3, 'Mujer': 2},\n 'Infarto agudo de miocardio': {'Hombre': 1, 'Mujer': 0},\n 'Migraña': {'Hombre': 0, 'Mujer': 1},\n 'COVID-19': {'Hombre': 1, 'Mujer': 0},\n 'Asma': {'Hombre': 1, 'Mujer': 0}}"
     },
     "execution_count": 525,
     "metadata": {},
     "output_type": "execute_result"
    }
   ],
   "source": [
    "diseases"
   ],
   "metadata": {
    "collapsed": false,
    "ExecuteTime": {
     "end_time": "2023-12-05T18:51:57.352237300Z",
     "start_time": "2023-12-05T18:51:57.292143Z"
    }
   },
   "id": "ea8b54aaf616125"
  },
  {
   "cell_type": "code",
   "execution_count": 526,
   "outputs": [
    {
     "data": {
      "text/plain": "                            Hombre  Mujer\nGripe común                      0      3\nHipertensión                     1      0\nDermatitis alérgica              0      1\nArtritis                         1      0\nArritmia cardíaca                0      1\nAlergia estacional               1      0\nGastroenteritis                  0      2\nAmigdalitis                      1      1\nResfriado común                  3      2\nInfarto agudo de miocardio       1      0\nMigraña                          0      1\nCOVID-19                         1      0\nAsma                             1      0",
      "text/html": "<div>\n<style scoped>\n    .dataframe tbody tr th:only-of-type {\n        vertical-align: middle;\n    }\n\n    .dataframe tbody tr th {\n        vertical-align: top;\n    }\n\n    .dataframe thead th {\n        text-align: right;\n    }\n</style>\n<table border=\"1\" class=\"dataframe\">\n  <thead>\n    <tr style=\"text-align: right;\">\n      <th></th>\n      <th>Hombre</th>\n      <th>Mujer</th>\n    </tr>\n  </thead>\n  <tbody>\n    <tr>\n      <th>Gripe común</th>\n      <td>0</td>\n      <td>3</td>\n    </tr>\n    <tr>\n      <th>Hipertensión</th>\n      <td>1</td>\n      <td>0</td>\n    </tr>\n    <tr>\n      <th>Dermatitis alérgica</th>\n      <td>0</td>\n      <td>1</td>\n    </tr>\n    <tr>\n      <th>Artritis</th>\n      <td>1</td>\n      <td>0</td>\n    </tr>\n    <tr>\n      <th>Arritmia cardíaca</th>\n      <td>0</td>\n      <td>1</td>\n    </tr>\n    <tr>\n      <th>Alergia estacional</th>\n      <td>1</td>\n      <td>0</td>\n    </tr>\n    <tr>\n      <th>Gastroenteritis</th>\n      <td>0</td>\n      <td>2</td>\n    </tr>\n    <tr>\n      <th>Amigdalitis</th>\n      <td>1</td>\n      <td>1</td>\n    </tr>\n    <tr>\n      <th>Resfriado común</th>\n      <td>3</td>\n      <td>2</td>\n    </tr>\n    <tr>\n      <th>Infarto agudo de miocardio</th>\n      <td>1</td>\n      <td>0</td>\n    </tr>\n    <tr>\n      <th>Migraña</th>\n      <td>0</td>\n      <td>1</td>\n    </tr>\n    <tr>\n      <th>COVID-19</th>\n      <td>1</td>\n      <td>0</td>\n    </tr>\n    <tr>\n      <th>Asma</th>\n      <td>1</td>\n      <td>0</td>\n    </tr>\n  </tbody>\n</table>\n</div>"
     },
     "execution_count": 526,
     "metadata": {},
     "output_type": "execute_result"
    }
   ],
   "source": [
    "df = pd.DataFrame.from_dict(diseases, orient='index')\n",
    "df"
   ],
   "metadata": {
    "collapsed": false,
    "ExecuteTime": {
     "end_time": "2023-12-05T18:51:57.352237300Z",
     "start_time": "2023-12-05T18:51:57.298681100Z"
    }
   },
   "id": "fbf310be082a55aa"
  },
  {
   "cell_type": "code",
   "execution_count": 527,
   "outputs": [
    {
     "name": "stderr",
     "output_type": "stream",
     "text": [
      "C:\\Users\\jsanchez\\AppData\\Local\\Temp\\ipykernel_20124\\2797828993.py:12: UserWarning: set_ticklabels() should only be used with a fixed number of ticks, i.e. after set_ticks() or using a FixedLocator.\n",
      "  ax.set_xticklabels(df.index, rotation='vertical')\n"
     ]
    },
    {
     "data": {
      "text/plain": "<Figure size 1000x600 with 1 Axes>",
      "image/png": "[encoded data removed]"
     },
     "metadata": {},
     "output_type": "display_data"
    }
   ],
   "source": [
    "fig, ax = plt.subplots(figsize=(10, 6))\n",
    "\n",
    "# create bar chart with 'Men' data\n",
    "bar1 = ax.bar(df.index, df['Hombre'], width=0.4, label='Hombre')\n",
    "\n",
    "# create bar chart with 'Women' data. Offset the position by width of 'Men' bars.\n",
    "bar2 = ax.bar(df.index, df['Mujer'], width=0.4, label='Mujer', align='edge')\n",
    "\n",
    "ax.set_xlabel('Disease')\n",
    "ax.set_ylabel('Count')\n",
    "ax.set_title('Count by Disease and Gender')\n",
    "ax.set_xticklabels(df.index, rotation='vertical')\n",
    "ax.legend()\n",
    "\n",
    "plt.tight_layout()\n",
    "plt.show()"
   ],
   "metadata": {
    "collapsed": false,
    "ExecuteTime": {
     "end_time": "2023-12-05T18:51:57.503383900Z",
     "start_time": "2023-12-05T18:51:57.306517300Z"
    }
   },
   "id": "ba5adc2035cb35f2"
  },
  {
   "cell_type": "markdown",
   "source": [
    "3. Correlación entre edad y gravedad de las enfermedades:\n",
    "Investiga si existe alguna correlación entre la edad de los pacientes y la gravedad de sus enfermedades. ¿Hay una tendencia que sugiera que los pacientes más jóvenes tienden a tener enfermedades menos graves en comparación con los pacientes mayores?\n",
    "Consulta si lo necesitas el anexo 2 que viene al final de este documento dónde se explica qué es la correlación en estadística y cómo calcularla en Python."
   ],
   "metadata": {
    "collapsed": false
   },
   "id": "eea76b27468c9c0c"
  },
  {
   "cell_type": "code",
   "execution_count": 528,
   "outputs": [],
   "source": [
    "def normalize_severity(severity):\n",
    "    if severity == \"Leve\":\n",
    "        return 1\n",
    "    if severity == \"Moderada\":\n",
    "        return 2\n",
    "    if severity == \"Grave\":\n",
    "        return 3"
   ],
   "metadata": {
    "collapsed": false,
    "ExecuteTime": {
     "end_time": "2023-12-05T18:51:57.503383900Z",
     "start_time": "2023-12-05T18:51:57.456611500Z"
    }
   },
   "id": "33496d717306b615"
  },
  {
   "cell_type": "code",
   "execution_count": 529,
   "outputs": [
    {
     "data": {
      "text/plain": "[100,\n 200,\n 100,\n 200,\n 200,\n 100,\n 200,\n 100,\n 200,\n 300,\n 200,\n 200,\n 200,\n 100,\n 100,\n 200,\n 100,\n 200,\n 200,\n 300,\n 100]"
     },
     "execution_count": 529,
     "metadata": {},
     "output_type": "execute_result"
    }
   ],
   "source": [
    "import numpy as np\n",
    "\n",
    "# Datos de ejemplo\n",
    "ages = [int(report[\"age\"]) for report in reports]\n",
    "severities = [report[\"severity\"] for report in reports]\n",
    "severities = [normalize_severity(severity) for severity in severities]\n",
    "severities"
   ],
   "metadata": {
    "collapsed": false,
    "ExecuteTime": {
     "end_time": "2023-12-05T18:51:57.503383900Z",
     "start_time": "2023-12-05T18:51:57.459739200Z"
    }
   },
   "id": "493be29e51129bca"
  },
  {
   "cell_type": "code",
   "execution_count": 530,
   "outputs": [
    {
     "name": "stdout",
     "output_type": "stream",
     "text": [
      "Coeficiente de correlación: 0.6921212210171104\n"
     ]
    }
   ],
   "source": [
    "# Calcula el coeficiente de correlación\n",
    "correlation_matrix = np.corrcoef(ages, severities)\n",
    "correlation_coefficient = correlation_matrix[0, 1]\n",
    "print(f\"Coeficiente de correlación: {correlation_coefficient}\")"
   ],
   "metadata": {
    "collapsed": false,
    "ExecuteTime": {
     "end_time": "2023-12-05T18:51:57.503383900Z",
     "start_time": "2023-12-05T18:51:57.466968400Z"
    }
   },
   "id": "2139ad35ed1ee126"
  },
  {
   "cell_type": "markdown",
   "source": [],
   "metadata": {
    "collapsed": false
   },
   "id": "3d63cc758a1a1409"
  }
 ],
 "metadata": {
  "kernelspec": {
   "display_name": "Python 3",
   "language": "python",
   "name": "python3"
  },
  "language_info": {
   "codemirror_mode": {
    "name": "ipython",
    "version": 2
   },
   "file_extension": ".py",
   "mimetype": "text/x-python",
   "name": "python",
   "nbconvert_exporter": "python",
   "pygments_lexer": "ipython2",
   "version": "2.7.6"
  }
 },
 "nbformat": 4,
 "nbformat_minor": 5
}
