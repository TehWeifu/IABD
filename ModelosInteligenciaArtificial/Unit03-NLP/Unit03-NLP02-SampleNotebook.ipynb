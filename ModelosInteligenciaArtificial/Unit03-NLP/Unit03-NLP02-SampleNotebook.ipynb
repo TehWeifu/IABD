{
 "nbformat": 4,
 "nbformat_minor": 0,
 "metadata": {
  "colab": {
   "provenance": []
  },
  "kernelspec": {
   "name": "python3",
   "language": "python",
   "display_name": "Python 3 (ipykernel)"
  },
  "language_info": {
   "name": "python"
  }
 },
 "cells": [
  {
   "cell_type": "markdown",
   "metadata": {
    "id": "96VwUPqbu1ix"
   },
   "source": [
    "## **PLN :: 2. ANÁLISIS DE TEXTO (MEDIANTE EXPRESIONES REGULARES)**"
   ]
  },
  {
   "cell_type": "markdown",
   "source": [
    "### Ejemplos de uso de 'compile' y 'match'\n",
    "\n"
   ],
   "metadata": {
    "id": "ykUTcMSUcp3J"
   }
  },
  {
   "cell_type": "code",
   "metadata": {
    "id": "vWv41A2Xuw_W",
    "colab": {
     "base_uri": "https://localhost:8080/"
    },
    "outputId": "7846ca2a-2acb-4b80-9a6a-37638cd4b57a",
    "ExecuteTime": {
     "end_time": "2023-12-05T17:26:00.991182900Z",
     "start_time": "2023-12-05T17:26:00.969137500Z"
    }
   },
   "source": [
    "import re\n",
    "\n",
    "persona_1 = \"Luisa\"\n",
    "persona_2 = \"Javier\"\n",
    "\n",
    "# Se define un patrón\n",
    "exp_reg = re.compile(\"[a-zA-Z]{5}\")\n",
    "\n",
    "# Se rastrean posibles emparejamientos con 'match' (al principio de la cadena)\n",
    "resultado_1 = re.match(exp_reg, persona_1)\n",
    "print(resultado_1)\n",
    "\n",
    "# Guarda e imprime los emparejamientos\n",
    "emparejamiento_1 = resultado_1.group(0)\n",
    "print(emparejamiento_1)\n",
    "\n",
    "# Compila una expresión regular para buscar una cadena de 7 caracteres\n",
    "emparejamiento_2 = re.match(\"[a-zA-Z]{6}\", persona_2)\n",
    "print(emparejamiento_2.group(0))"
   ],
   "execution_count": 5,
   "outputs": [
    {
     "name": "stdout",
     "output_type": "stream",
     "text": [
      "<re.Match object; span=(0, 5), match='Luisa'>\n",
      "Luisa\n",
      "Javier\n"
     ]
    }
   ]
  },
  {
   "cell_type": "markdown",
   "source": [
    "Ejemplo del significado del caracter \"r\" al incluirlo en una expresión regular"
   ],
   "metadata": {
    "id": "_Can4oXcjc-W"
   }
  },
  {
   "cell_type": "markdown",
   "source": [
    "### Ejemplos de uso de 'search' y 'findall'"
   ],
   "metadata": {
    "id": "Q-ODXhI6c4q8"
   }
  },
  {
   "cell_type": "code",
   "metadata": {
    "id": "mUZap89lzNFg",
    "colab": {
     "base_uri": "https://localhost:8080/"
    },
    "outputId": "92c0b72c-b155-4f9e-b1d4-cbe8a1bc1279",
    "ExecuteTime": {
     "end_time": "2023-12-05T17:26:00.991182900Z",
     "start_time": "2023-12-05T17:26:00.969915900Z"
    }
   },
   "source": [
    "import re\n",
    "\n",
    "turing_text = \"Alan Mathison Turing fue un matemático, lógico, informático teórico, criptógrafo, filósofo y biólogo teórico. Además, fue corredor de ultradistancia británico.\"\n",
    "\n",
    "# Buscamos el término 'corredor' en el texto\n",
    "corredor = re.search(\"corredor\", turing_text)\n",
    "res = corredor.group(0)\n",
    "print(res)\n",
    "\n",
    "# Buscamos todas las ocurrencias de \"fue\" en el texto\n",
    "todos_fue = re.findall(\"fue\", turing_text)\n",
    "print(todos_fue)\n",
    "\n",
    "# Imprime número de ocurrencias de \"fue\"\n",
    "num_fue = len(todos_fue)\n",
    "print(num_fue)"
   ],
   "execution_count": 6,
   "outputs": [
    {
     "name": "stdout",
     "output_type": "stream",
     "text": [
      "corredor\n",
      "['fue', 'fue']\n",
      "2\n"
     ]
    }
   ]
  },
  {
   "cell_type": "code",
   "source": [
    "import re\n",
    "\n",
    "# Patrón con grupos de captura para buscar nombres y apellidos\n",
    "pattern = re.compile(r'Nombre: (\\w+) Apellido: (\\w+)')\n",
    "\n",
    "# Cadena de ejemplo\n",
    "texto = \"Nombre: John Apellido: Doe\"\n",
    "\n",
    "# Buscar la coincidencia en la cadena\n",
    "result = pattern.search(texto)\n",
    "\n",
    "# Imprimir el texto coincidente y las partes capturadas\n",
    "if result:\n",
    "    print(\"Texto coincidente completo:\", result.group())\n",
    "    print(\"Primer grupo de captura (Nombre):\", result.group(1))\n",
    "    print(\"Segundo grupo de captura (Apellido):\", result.group(2))\n",
    "else:\n",
    "    print(\"No se encontró ninguna coincidencia.\")\n"
   ],
   "metadata": {
    "colab": {
     "base_uri": "https://localhost:8080/"
    },
    "id": "KQYTZA_Slkg8",
    "outputId": "b8733db4-a249-4b7f-d6a0-1c522b86d3cc",
    "ExecuteTime": {
     "end_time": "2023-12-05T17:26:01.001192600Z",
     "start_time": "2023-12-05T17:26:00.978091Z"
    }
   },
   "execution_count": 7,
   "outputs": [
    {
     "name": "stdout",
     "output_type": "stream",
     "text": [
      "Texto coincidente completo: Nombre: John Apellido: Doe\n",
      "Primer grupo de captura (Nombre): John\n",
      "Segundo grupo de captura (Apellido): Doe\n"
     ]
    }
   ]
  },
  {
   "cell_type": "code",
   "source": [
    "import spacy\n",
    "\n",
    "# Cargar el modelo preentrenado de spaCy para NER en español\n",
    "nlp = spacy.load(\"es_core_news_sm\")\n",
    "\n",
    "# Texto de ejemplo\n",
    "texto = \"El presidente de Estados Unidos, Joe Biden, se reunió con la canciller alemana Angela Merkel en Berlín.\"\n",
    "\n",
    "# Procesar el texto con spaCy\n",
    "doc = nlp(texto)\n",
    "\n",
    "# Iterar sobre las entidades reconocidas e imprimir la etiqueta y el texto de cada entidad\n",
    "for entidad in doc.ents:\n",
    "    print(f\"Entidad: {entidad.text:<15} Etiqueta: {entidad.label_}\")\n"
   ],
   "metadata": {
    "colab": {
     "base_uri": "https://localhost:8080/"
    },
    "id": "luxkiW4hllCU",
    "outputId": "ee82752d-612b-4ef9-f2fa-0c11daad8a32",
    "ExecuteTime": {
     "end_time": "2023-12-05T17:26:01.263811200Z",
     "start_time": "2023-12-05T17:26:00.985096100Z"
    }
   },
   "execution_count": 8,
   "outputs": [
    {
     "name": "stderr",
     "output_type": "stream",
     "text": [
      "C:\\Python311\\Lib\\site-packages\\spacy\\util.py:910: UserWarning: [W095] Model 'es_core_news_sm' (3.1.0) was trained with spaCy v3.1.0 and may not be 100% compatible with the current version (3.7.2). If you see errors or degraded performance, download a newer compatible model or retrain your custom model with the current spaCy version. For more details and available updates, run: python -m spacy validate\n",
      "  warnings.warn(warn_msg)\n"
     ]
    },
    {
     "name": "stdout",
     "output_type": "stream",
     "text": [
      "Entidad: Estados Unidos  Etiqueta: LOC\n",
      "Entidad: Joe Biden       Etiqueta: PER\n",
      "Entidad: Angela Merkel   Etiqueta: PER\n",
      "Entidad: Berlín          Etiqueta: LOC\n"
     ]
    }
   ]
  },
  {
   "cell_type": "code",
   "source": [],
   "metadata": {
    "id": "D13QakHutdXE",
    "ExecuteTime": {
     "end_time": "2023-12-05T17:26:01.263811200Z",
     "start_time": "2023-12-05T17:26:01.258148700Z"
    }
   },
   "execution_count": 8,
   "outputs": []
  },
  {
   "cell_type": "code",
   "source": [],
   "metadata": {
    "id": "nlufnV0erlqP",
    "ExecuteTime": {
     "end_time": "2023-12-05T17:26:01.263811200Z",
     "start_time": "2023-12-05T17:26:01.261435600Z"
    }
   },
   "execution_count": 8,
   "outputs": []
  }
 ]
}
