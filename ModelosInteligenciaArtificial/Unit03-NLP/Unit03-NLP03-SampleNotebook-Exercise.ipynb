{
 "nbformat": 4,
 "nbformat_minor": 0,
 "metadata": {
  "colab": {
   "provenance": []
  },
  "kernelspec": {
   "name": "python3",
   "language": "python",
   "display_name": "Python 3 (ipykernel)"
  },
  "language_info": {
   "name": "python"
  }
 },
 "cells": [
  {
   "cell_type": "markdown",
   "source": [
    "## **PLN :: 3. USO DE MODELOS LINGÜÍSTICOS**\n",
    "\n",
    "\n",
    "---\n",
    "\n"
   ],
   "metadata": {
    "id": "8f00WK6iH7Qi"
   }
  },
  {
   "cell_type": "markdown",
   "source": [
    "## **3.2.a. \"Bolsa de palabras\"**"
   ],
   "metadata": {
    "id": "iYD7YQOHAbzw"
   }
  },
  {
   "cell_type": "markdown",
   "source": [
    "### Ejemplo de creación de un diccionario de características (BoW) mediante  librería 'scikit-learn'\n"
   ],
   "metadata": {
    "id": "_DebOAfyIL8Y"
   }
  },
  {
   "cell_type": "code",
   "source": [
    "from sklearn.feature_extraction.text import CountVectorizer\n",
    "\n",
    "documentos_entrenamiento = [\"Diez divertidos delfines nadaron hacia destinos desconocidos.\",\n",
    "                            \"¿Quizás encuentren otros diez delfines divertidos?\",\n",
    "                            \"¡Encuentra mis delfines con una función, por favor!\"]\n",
    "texto_prueba = [\"Otros cinco delfines encuentran otro delfín lejano.\"]\n",
    "\n",
    "stop_words = ['otros', 'mis', 'con', 'una', 'por']\n",
    "bow_vectorizador = CountVectorizer(stop_words=stop_words)\n",
    "\n",
    "# Creamos el diccionario BoW mediante el método \"fit\" del objeto \"CountVectorizer\"\n",
    "bow_vectorizador.fit(documentos_entrenamiento)\n",
    "\n",
    "# Mostramos las palabras encontradas\n",
    "print(\"Palabras: \")\n",
    "print(bow_vectorizador.get_feature_names_out())"
   ],
   "metadata": {
    "colab": {
     "base_uri": "https://localhost:8080/"
    },
    "id": "pDpg87Q5Mx6q",
    "outputId": "c93a5443-8032-4f70-b35b-a37676fe0381",
    "ExecuteTime": {
     "end_time": "2023-12-19T17:33:13.295732700Z",
     "start_time": "2023-12-19T17:33:13.283703100Z"
    }
   },
   "execution_count": 33,
   "outputs": [
    {
     "name": "stdout",
     "output_type": "stream",
     "text": [
      "Palabras: \n",
      "['delfines' 'desconocidos' 'destinos' 'diez' 'divertidos' 'encuentra'\n",
      " 'encuentren' 'favor' 'función' 'hacia' 'nadaron' 'quizás']\n"
     ]
    }
   ]
  },
  {
   "cell_type": "code",
   "source": [
    "# Mostramos el diccionario BoW\n",
    "print(\"\\nDiccionario BoW (palabras + índices): \")\n",
    "print(bow_vectorizador.vocabulary_)"
   ],
   "metadata": {
    "colab": {
     "base_uri": "https://localhost:8080/"
    },
    "id": "MN5C8gvj1ndT",
    "outputId": "1dac1f02-9e8c-40ce-b9c5-b003c4741060",
    "ExecuteTime": {
     "end_time": "2023-12-19T17:33:13.324060800Z",
     "start_time": "2023-12-19T17:33:13.290811700Z"
    }
   },
   "execution_count": 34,
   "outputs": [
    {
     "name": "stdout",
     "output_type": "stream",
     "text": [
      "\n",
      "Diccionario BoW (palabras + índices): \n",
      "{'diez': 3, 'divertidos': 4, 'delfines': 0, 'nadaron': 10, 'hacia': 9, 'destinos': 2, 'desconocidos': 1, 'quizás': 11, 'encuentren': 6, 'encuentra': 5, 'función': 8, 'favor': 7}\n"
     ]
    }
   ]
  },
  {
   "cell_type": "code",
   "source": [
    "# Generamos y mostramos la forma vectorizada el corpus de entrenamiento\n",
    "bow_vector = bow_vectorizador.transform(documentos_entrenamiento)\n",
    "print(\"\\nVector completo para el texto de entrenamiento: \")\n",
    "print(bow_vector.toarray())"
   ],
   "metadata": {
    "colab": {
     "base_uri": "https://localhost:8080/"
    },
    "id": "gehHLdTB1yUi",
    "outputId": "d5013d95-3908-487d-aa59-e817a81ed85c",
    "ExecuteTime": {
     "end_time": "2023-12-19T17:33:13.325058400Z",
     "start_time": "2023-12-19T17:33:13.297869100Z"
    }
   },
   "execution_count": 35,
   "outputs": [
    {
     "name": "stdout",
     "output_type": "stream",
     "text": [
      "\n",
      "Vector completo para el texto de entrenamiento: \n",
      "[[1 1 1 1 1 0 0 0 0 1 1 0]\n",
      " [1 0 0 1 1 0 1 0 0 0 0 1]\n",
      " [1 0 0 0 0 1 0 1 1 0 0 0]]\n"
     ]
    }
   ]
  },
  {
   "cell_type": "code",
   "source": [
    "# Generamos el vector para la palabra “divertidos”\n",
    "print(\"\\nVector para ‘divertidos’: \")\n",
    "print(bow_vectorizador.transform(['divertidos']).toarray())"
   ],
   "metadata": {
    "colab": {
     "base_uri": "https://localhost:8080/"
    },
    "id": "B9690JHP2OKR",
    "outputId": "f1b1a28a-8088-4b10-f213-8a373ccf901f",
    "ExecuteTime": {
     "end_time": "2023-12-19T17:33:13.325058400Z",
     "start_time": "2023-12-19T17:33:13.306494900Z"
    }
   },
   "execution_count": 36,
   "outputs": [
    {
     "name": "stdout",
     "output_type": "stream",
     "text": [
      "\n",
      "Vector para ‘divertidos’: \n",
      "[[0 0 0 0 1 0 0 0 0 0 0 0]]\n"
     ]
    }
   ]
  }
 ]
}
