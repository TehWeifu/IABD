{
 "nbformat": 4,
 "nbformat_minor": 0,
 "metadata": {
  "colab": {
   "provenance": []
  },
  "kernelspec": {
   "name": "python3",
   "language": "python",
   "display_name": "Python 3 (ipykernel)"
  },
  "language_info": {
   "name": "python"
  }
 },
 "cells": [
  {
   "cell_type": "markdown",
   "source": [
    "## **PLN :: 3. USO DE MODELOS LINGÜÍSTICOS**\n",
    "\n",
    "\n",
    "---\n",
    "\n"
   ],
   "metadata": {
    "id": "8f00WK6iH7Qi"
   }
  },
  {
   "cell_type": "markdown",
   "source": [
    "## **3.2.a. \"Bolsa de palabras\"**"
   ],
   "metadata": {
    "id": "iYD7YQOHAbzw"
   }
  },
  {
   "cell_type": "markdown",
   "source": [
    "### Ejemplo de creación de un diccionario de características (BoW) mediante  librería 'scikit-learn'\n"
   ],
   "metadata": {
    "id": "_DebOAfyIL8Y"
   }
  },
  {
   "cell_type": "code",
   "source": [
    "from sklearn.feature_extraction.text import CountVectorizer\n",
    "\n",
    "documentos_entrenamiento = [\"Diez divertidos delfines nadaron hacia destinos desconocidos.\",\n",
    "                            \"¿Quizás encuentren otros diez delfines divertidos?\",\n",
    "                            \"¡Encuentra mis delfines con una función, por favor!\"]\n",
    "texto_prueba = [\"Otros cinco delfines encuentran otro delfín lejano.\"]\n",
    "\n",
    "bow_vectorizador = CountVectorizer()\n",
    "\n",
    "# Creamos el diccionario BoW mediante el método \"fit\" del objeto \"CountVectorizer\"\n",
    "bow_vectorizador.fit(documentos_entrenamiento)\n",
    "\n",
    "# Mostramos las palabras encontradas\n",
    "print(\"Palabras: \")\n",
    "print(bow_vectorizador.get_feature_names_out())"
   ],
   "metadata": {
    "colab": {
     "base_uri": "https://localhost:8080/"
    },
    "id": "pDpg87Q5Mx6q",
    "outputId": "c93a5443-8032-4f70-b35b-a37676fe0381",
    "ExecuteTime": {
     "end_time": "2023-12-19T16:40:36.729388500Z",
     "start_time": "2023-12-19T16:40:32.874962100Z"
    }
   },
   "execution_count": 1,
   "outputs": [
    {
     "name": "stdout",
     "output_type": "stream",
     "text": [
      "Palabras: \n",
      "['con' 'delfines' 'desconocidos' 'destinos' 'diez' 'divertidos'\n",
      " 'encuentra' 'encuentren' 'favor' 'función' 'hacia' 'mis' 'nadaron'\n",
      " 'otros' 'por' 'quizás' 'una']\n"
     ]
    }
   ]
  },
  {
   "cell_type": "code",
   "source": [
    "# Mostramos el diccionario BoW\n",
    "print(\"\\nDiccionario BoW (palabras + índices): \")\n",
    "print(bow_vectorizador.vocabulary_)"
   ],
   "metadata": {
    "colab": {
     "base_uri": "https://localhost:8080/"
    },
    "id": "MN5C8gvj1ndT",
    "outputId": "1dac1f02-9e8c-40ce-b9c5-b003c4741060",
    "ExecuteTime": {
     "end_time": "2023-12-19T16:40:36.747361200Z",
     "start_time": "2023-12-19T16:40:36.721029700Z"
    }
   },
   "execution_count": 2,
   "outputs": [
    {
     "name": "stdout",
     "output_type": "stream",
     "text": [
      "\n",
      "Diccionario BoW (palabras + índices): \n",
      "{'diez': 4, 'divertidos': 5, 'delfines': 1, 'nadaron': 12, 'hacia': 10, 'destinos': 3, 'desconocidos': 2, 'quizás': 15, 'encuentren': 7, 'otros': 13, 'encuentra': 6, 'mis': 11, 'con': 0, 'una': 16, 'función': 9, 'por': 14, 'favor': 8}\n"
     ]
    }
   ]
  },
  {
   "cell_type": "code",
   "source": [
    "# Generamos y mostramos la forma vectorizada el corpus de entrenamiento\n",
    "bow_vector = bow_vectorizador.transform(documentos_entrenamiento)\n",
    "print(\"\\nVector completo para el texto de entrenamiento: \")\n",
    "print(bow_vector.toarray())"
   ],
   "metadata": {
    "colab": {
     "base_uri": "https://localhost:8080/"
    },
    "id": "gehHLdTB1yUi",
    "outputId": "d5013d95-3908-487d-aa59-e817a81ed85c",
    "ExecuteTime": {
     "end_time": "2023-12-19T16:40:36.749428800Z",
     "start_time": "2023-12-19T16:40:36.723604100Z"
    }
   },
   "execution_count": 3,
   "outputs": [
    {
     "name": "stdout",
     "output_type": "stream",
     "text": [
      "\n",
      "Vector completo para el texto de entrenamiento: \n",
      "[[0 1 1 1 1 1 0 0 0 0 1 0 1 0 0 0 0]\n",
      " [0 1 0 0 1 1 0 1 0 0 0 0 0 1 0 1 0]\n",
      " [1 1 0 0 0 0 1 0 1 1 0 1 0 0 1 0 1]]\n"
     ]
    }
   ]
  },
  {
   "cell_type": "code",
   "source": [
    "# Generamos el vector para la palabra “divertidos”\n",
    "print(\"\\nVector para ‘divertidos’: \")\n",
    "print(bow_vectorizador.transform(['divertidos']).toarray())"
   ],
   "metadata": {
    "colab": {
     "base_uri": "https://localhost:8080/"
    },
    "id": "B9690JHP2OKR",
    "outputId": "f1b1a28a-8088-4b10-f213-8a373ccf901f",
    "ExecuteTime": {
     "end_time": "2023-12-19T16:40:36.750470400Z",
     "start_time": "2023-12-19T16:40:36.731722200Z"
    }
   },
   "execution_count": 4,
   "outputs": [
    {
     "name": "stdout",
     "output_type": "stream",
     "text": [
      "\n",
      "Vector para ‘divertidos’: \n",
      "[[0 0 0 0 0 1 0 0 0 0 0 0 0 0 0 0 0]]\n"
     ]
    }
   ]
  },
  {
   "cell_type": "code",
   "execution_count": null,
   "outputs": [],
   "source": [
    "friends_classifier = MultinomialNB()"
   ],
   "metadata": {
    "collapsed": false
   }
  }
 ]
}
