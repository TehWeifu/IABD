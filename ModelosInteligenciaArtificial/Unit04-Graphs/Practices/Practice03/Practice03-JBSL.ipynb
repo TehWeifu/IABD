{
 "cells": [
  {
   "cell_type": "markdown",
   "metadata": {
    "id": "_B7xdvq_gJSc"
   },
   "source": [
    "## U4:: Análisis de estructuras en red\n",
    "# **Práctica 3 - Medidas de centralidad**\n",
    "\n",
    "\n",
    "---\n",
    "\n",
    "<br>\n",
    "\n",
    "En esta práctica revisaremos algunas las medidas de centralidad de uso más común a través de redes diferentes: 1) amistades entre los miembros de un casal fallero y 2) red de blogs que tratan temas de política en internet.\n",
    "\n",
    "A continuación tienes enunciados con diferentes preguntas a las que debes dar respuesta."
   ]
  },
  {
   "cell_type": "code",
   "source": [
    "# # Usa las siguientes líneas si te son de utilidad\n",
    "# \n",
    "# from google.colab import drive\n",
    "# drive.mount('/content/drive')\n",
    "# \n",
    "# import networkx as nx\n",
    "# import matplotlib.pyplot as plt\n",
    "# \n",
    "# path ='/content/drive/MyDrive/Colab Notebooks/U4 :: Análisis de estructuras en red/P3/'"
   ],
   "metadata": {
    "id": "U5i09tCegVjU",
    "ExecuteTime": {
     "end_time": "2024-05-21T17:07:45.744154Z",
     "start_time": "2024-05-21T17:07:45.741381Z"
    }
   },
   "execution_count": 56,
   "outputs": []
  },
  {
   "cell_type": "markdown",
   "metadata": {
    "id": "BqdS_mf6gJSd"
   },
   "source": [
    "## **PARTE 1**\n",
    "\n",
    "Responde las preguntas 1-3 usando la red `G1`, que es una red de amistades en un casal fallero. Cada nodo corresponde a una persona, y cada enlace indica amistad entre cierto par de personas.\n",
    "\n",
    "*Carga los datos del fichero 'amistades.gml' en el grafo `G1` y muestra el número de nodos y enlaces que lo componen.*"
   ]
  },
  {
   "cell_type": "code",
   "execution_count": 57,
   "metadata": {
    "id": "CTwoTuypgJSf",
    "ExecuteTime": {
     "end_time": "2024-05-21T17:07:45.925588Z",
     "start_time": "2024-05-21T17:07:45.782276Z"
    }
   },
   "outputs": [
    {
     "name": "stdout",
     "output_type": "stream",
     "text": [
      "El grafo se compone de 1133 nodos y 5453 enlaces\n"
     ]
    }
   ],
   "source": [
    "import networkx as nx\n",
    "import pandas as pd\n",
    "\n",
    "G1 = nx.read_gml('./amistades.gml')\n",
    "\n",
    "print(f\"El grafo se compone de {len(G1.nodes)} nodos y {len(G1.edges)} enlaces\")"
   ]
  },
  {
   "cell_type": "markdown",
   "metadata": {
    "id": "krt1FRlmgJSg"
   },
   "source": [
    "### Pregunta 1\n",
    "\n",
    "Encuentra la centralidad de grado y la centralidad de intermediación del nodo 100.\n",
    "\n",
    "*Esta función debe devolver una tupla de flotantes `(degree_centrality, betweenness_centrality)`.*"
   ]
  },
  {
   "cell_type": "code",
   "execution_count": 58,
   "metadata": {
    "colab": {
     "base_uri": "https://localhost:8080/"
    },
    "id": "8VY8IiaHgJSi",
    "outputId": "953f0777-de9b-4493-c586-476305592fc5",
    "ExecuteTime": {
     "end_time": "2024-05-21T17:07:48.388299Z",
     "start_time": "2024-05-21T17:07:45.926636Z"
    }
   },
   "outputs": [
    {
     "data": {
      "text/plain": "(0.0026501766784452294, 7.142902633244772e-05)"
     },
     "execution_count": 58,
     "metadata": {},
     "output_type": "execute_result"
    }
   ],
   "source": [
    "def pregunta_1(G):\n",
    "    degree_centrality = nx.degree_centrality(G)\n",
    "    betweenness_centrality = nx.betweenness_centrality(G)\n",
    "    return degree_centrality[100], betweenness_centrality[100]\n",
    "\n",
    "\n",
    "pregunta_1(G1)"
   ]
  },
  {
   "cell_type": "markdown",
   "metadata": {
    "id": "xEIau4VxgJSi"
   },
   "source": [
    "<br>\n",
    "<b>Para las Preguntas 2 y 3, supon que no sabes nada sobre la estructura de la red, excepto todos los valores de centralidad de los nodos. Es decir, basta con usar una de las medidas de centralidad para clasificar los nodos y encontrar el candidato más apropiado.</b>\n",
    "<br>"
   ]
  },
  {
   "cell_type": "markdown",
   "metadata": {
    "id": "buFSF5pwgJSj"
   },
   "source": [
    "### Pregunta 2\n",
    "\n",
    "Supongamos que estás al cargo de una web de comercio electrónico que actualmente usan los miembros del casal fallero para realizar compras de comestibles y bebidas. Tienes la tarea de seleccionar un miembro al que se le podría enviar un cupón de compras con la expectativa de que esta persona que recibe el cupón lo envíe a tantos otros conocidos en el casal como sea posible. El cupón se puede reenviar a varias personas al mismo tiempo, pero la distancia a cubrir en el reenvío está limitada a un salto (es decir, debe haber contacto directo), lo que significa que si el cupón viaja más de un salto en esta red, ya no sería válido. Aplica tus conocimientos en centralidad de redes para seleccionar al mejor candidato para el cupón.\n",
    "\n",
    "*Esta función debe devolver un número `int` con el nombre del nodo.*"
   ]
  },
  {
   "cell_type": "code",
   "execution_count": 59,
   "metadata": {
    "scrolled": true,
    "colab": {
     "base_uri": "https://localhost:8080/"
    },
    "id": "RsXRcvCmgJSk",
    "outputId": "a95dc84e-69c9-4795-e149-265580bd38ef",
    "ExecuteTime": {
     "end_time": "2024-05-21T17:07:48.393320Z",
     "start_time": "2024-05-21T17:07:48.388299Z"
    }
   },
   "outputs": [
    {
     "data": {
      "text/plain": "105"
     },
     "execution_count": 59,
     "metadata": {},
     "output_type": "execute_result"
    }
   ],
   "source": [
    "def pregunta_2(G):\n",
    "    degree_centrality = nx.degree_centrality(G)\n",
    "    most_central_node = sorted(degree_centrality.items(), key=lambda x: x[1], reverse=True)[0]\n",
    "    return most_central_node[0]\n",
    "\n",
    "\n",
    "pregunta_2(G1)"
   ]
  },
  {
   "cell_type": "markdown",
   "metadata": {
    "id": "Lw-EqZkHgJSo"
   },
   "source": [
    "### Pregunta 3\n",
    "\n",
    "Supongamos ahora que una empresa competidora ha desarrollado una forma de *eliminar* a una persona de la red (por ejemplo, seduciéndolo con otro tipo de descuento) con el fin de dificultar la distribución del cupón de la empresa para la que trabajas. Este competidor se dirige específicamente a personas que a menudo hacen de puente en el flujo de información entre otros pares de personas.\n",
    "\n",
    "Identifica a la persona cuya eliminación implicaría un mayor riesgo de seguir la estrategia de dicho competidor.\n",
    "\n",
    "*Esta función debe devolver un número `int`, el nombre del nodo.*"
   ]
  },
  {
   "cell_type": "code",
   "execution_count": 60,
   "metadata": {
    "colab": {
     "base_uri": "https://localhost:8080/"
    },
    "id": "fRquvu_5gJSp",
    "outputId": "3d5255b8-1c00-4f21-f026-3d528ecf899c",
    "ExecuteTime": {
     "end_time": "2024-05-21T17:07:50.636499Z",
     "start_time": "2024-05-21T17:07:48.393826Z"
    }
   },
   "outputs": [
    {
     "data": {
      "text/plain": "333"
     },
     "execution_count": 60,
     "metadata": {},
     "output_type": "execute_result"
    }
   ],
   "source": [
    "def pregunta_3(G):\n",
    "    betweenness_centrality = nx.betweenness_centrality(G)\n",
    "    most_central_node = sorted(betweenness_centrality.items(), key=lambda x: x[1], reverse=True)[0]\n",
    "    return most_central_node[0]\n",
    "\n",
    "\n",
    "pregunta_3(G1)"
   ]
  },
  {
   "cell_type": "markdown",
   "metadata": {
    "collapsed": true,
    "id": "ZGE9rp5YgJSp"
   },
   "source": [
    "## **PARTE 2**\n",
    "\n",
    "`G2` es una red dirigida de blogs que tratan temas de política, donde cada nodo corresponde a un blog y los enlaces corresponden a blogs vinculados. Utiliza lo que sabes sobre *PageRank* para responder a las dos preguntas siguientes.\n",
    "\n",
    "*Carga los datos del fichero 'blogs.gml' en el grafo `G2` y muestra el número de nodos y enlaces que lo componen.*"
   ]
  },
  {
   "cell_type": "code",
   "execution_count": 61,
   "metadata": {
    "id": "AMWqnyOUgJSq",
    "ExecuteTime": {
     "end_time": "2024-05-21T17:07:51.098080Z",
     "start_time": "2024-05-21T17:07:50.636499Z"
    }
   },
   "outputs": [
    {
     "name": "stdout",
     "output_type": "stream",
     "text": [
      "The graph has 1490 nodes and 19025 edges.\n"
     ]
    }
   ],
   "source": [
    "G2 = nx.read_gml('./blogs.gml')\n",
    "\n",
    "print(f\"The graph has {len(G2.nodes)} nodes and {len(G2.edges)} edges.\")"
   ]
  },
  {
   "cell_type": "markdown",
   "metadata": {
    "id": "QhJGXBOCgJSq"
   },
   "source": [
    "### Pregunta 5\n",
    "\n",
    "Aplica el algoritmo de *Scaled PageRank* a la red `G2`. Encuentra el *Page Rank* del nodo 'realclearpolitics.com' con un valor de amortiguación de 0,85.\n",
    "\n",
    "*Esta función debe devolver un número `float`.*"
   ]
  },
  {
   "cell_type": "code",
   "execution_count": 62,
   "metadata": {
    "id": "-h5lMO0CgJSr",
    "ExecuteTime": {
     "end_time": "2024-05-21T17:07:51.119918Z",
     "start_time": "2024-05-21T17:07:51.098080Z"
    }
   },
   "outputs": [
    {
     "data": {
      "text/plain": "0.004636694781649098"
     },
     "execution_count": 62,
     "metadata": {},
     "output_type": "execute_result"
    }
   ],
   "source": [
    "def pregunta_5(G):\n",
    "    ranks = nx.pagerank(G, alpha=.85)\n",
    "    return ranks['realclearpolitics.com']\n",
    "\n",
    "\n",
    "pregunta_5(G2)"
   ]
  },
  {
   "cell_type": "markdown",
   "metadata": {
    "id": "virf_HYVgJSr"
   },
   "source": [
    "### Pregunta 6\n",
    "\n",
    "Aplica el algoritmo de *Scaled PageRank* a toda la red `G2` con un valor de amortiguación de 0,85 a fin de encontrar los 5 nodos con el *PageRank* más alto.\n",
    "\n",
    "*Esta función debe devolver una lista con los 5 mejores blogs en orden descendente de Page Rank.*"
   ]
  },
  {
   "cell_type": "code",
   "execution_count": 63,
   "metadata": {
    "colab": {
     "base_uri": "https://localhost:8080/"
    },
    "id": "9lLgVzB1gJSs",
    "outputId": "ff4b5205-747b-4383-d6f0-43518417aefb",
    "ExecuteTime": {
     "end_time": "2024-05-21T17:07:51.203813Z",
     "start_time": "2024-05-21T17:07:51.120921Z"
    }
   },
   "outputs": [
    {
     "data": {
      "text/plain": "['dailykos.com',\n 'atrios.blogspot.com',\n 'instapundit.com',\n 'blogsforbush.com',\n 'talkingpointsmemo.com']"
     },
     "execution_count": 63,
     "metadata": {},
     "output_type": "execute_result"
    }
   ],
   "source": [
    "def pregunta_6(G):\n",
    "    ranks = nx.pagerank(G, alpha=.85)\n",
    "    top_5_ranks = [key for key, value in sorted(ranks.items(), key=lambda x: x[1], reverse=True)[:5]]\n",
    "    return top_5_ranks\n",
    "\n",
    "\n",
    "pregunta_6(G2)"
   ]
  },
  {
   "cell_type": "markdown",
   "source": [
    "###Pregunta 7\n",
    "\n",
    "Sin abandonar este grafo, consulta en internet una medida de centralidad adicional no abordada en clase: la centralidad de cercanía.\n",
    "\n",
    "*Esta función debe devolver los 3 blogs con mayor centralidad de cercanía*."
   ],
   "metadata": {
    "id": "SnL9tzwZ2-LJ"
   }
  },
  {
   "cell_type": "code",
   "source": [
    "def pregunta_7(G):\n",
    "    closeness = nx.closeness_centrality(G)\n",
    "    top_3_closeness = [key for key, value in sorted(closeness.items(), key=lambda x: x[1], reverse=True)[:3]]\n",
    "    return top_3_closeness\n",
    "\n",
    "\n",
    "pregunta_7(G2)"
   ],
   "metadata": {
    "id": "nL9f6y973vxh",
    "ExecuteTime": {
     "end_time": "2024-05-21T17:07:51.869488Z",
     "start_time": "2024-05-21T17:07:51.204316Z"
    }
   },
   "execution_count": 64,
   "outputs": [
    {
     "data": {
      "text/plain": "['dailykos.com', 'instapundit.com', 'talkingpointsmemo.com']"
     },
     "execution_count": 64,
     "metadata": {},
     "output_type": "execute_result"
    }
   ]
  },
  {
   "cell_type": "markdown",
   "source": [
    "###Pregunta 8\n",
    "\n",
    "Finalmente, muestra mediante un *dataframe* de Pandas un resumen de las medidas de centralidad (centralidad de grado, centralidad de cercanía, centralidad de intermediación y PageRank) para los 5 nodos más importantes del grafo."
   ],
   "metadata": {
    "id": "s9lNBFTX5BdF"
   }
  },
  {
   "cell_type": "code",
   "source": [
    "def pregunta_8(G):\n",
    "    degree = nx.degree_centrality(G)\n",
    "    closeness = nx.closeness_centrality(G)\n",
    "    betweenness = nx.betweenness_centrality(G)\n",
    "    ranks = nx.pagerank(G)\n",
    "\n",
    "    degree_top_5 = [f\"{key} ({value:.2f})\" for key, value in\n",
    "                    sorted(degree.items(), key=lambda x: x[1], reverse=True)[:5]]\n",
    "    closeness_top_5 = [f\"{key} ({value:.2f})\" for key, value in\n",
    "                       sorted(closeness.items(), key=lambda x: x[1], reverse=True)[:5]]\n",
    "    betweenness_top_5 = [f\"{key} ({value:.2f})\" for key, value in\n",
    "                         sorted(betweenness.items(), key=lambda x: x[1], reverse=True)[:5]]\n",
    "    ranks_top_5 = [f\"{key} ({value:.2f})\" for key, value in sorted(ranks.items(), key=lambda x: x[1], reverse=True)[:5]]\n",
    "\n",
    "    result_df = pd.DataFrame({\n",
    "        'Degree centrality': degree_top_5,\n",
    "        'Closeness centrality': closeness_top_5,\n",
    "        'Betweeness centrality': betweenness_top_5,\n",
    "        'PageRank': ranks_top_5,\n",
    "    })\n",
    "\n",
    "    return result_df\n",
    "\n",
    "\n",
    "pregunta_8(G2)"
   ],
   "metadata": {
    "id": "pjYi65fI5dIC",
    "ExecuteTime": {
     "end_time": "2024-05-21T17:07:55.572738Z",
     "start_time": "2024-05-21T17:07:51.869488Z"
    }
   },
   "execution_count": 65,
   "outputs": [
    {
     "data": {
      "text/plain": "              Degree centrality          Closeness centrality  \\\n0       blogsforbush.com (0.31)           dailykos.com (0.37)   \n1           dailykos.com (0.26)        instapundit.com (0.35)   \n2        instapundit.com (0.24)  talkingpointsmemo.com (0.35)   \n3    atrios.blogspot.com (0.24)    atrios.blogspot.com (0.35)   \n4  talkingpointsmemo.com (0.19)       drudgereport.com (0.33)   \n\n              Betweeness centrality                      PageRank  \n0           blogsforbush.com (0.10)           dailykos.com (0.02)  \n1        atrios.blogspot.com (0.04)    atrios.blogspot.com (0.02)  \n2            instapundit.com (0.03)        instapundit.com (0.01)  \n3               dailykos.com (0.02)       blogsforbush.com (0.01)  \n4  newleftblogs.blogspot.com (0.02)  talkingpointsmemo.com (0.01)  ",
      "text/html": "<div>\n<style scoped>\n    .dataframe tbody tr th:only-of-type {\n        vertical-align: middle;\n    }\n\n    .dataframe tbody tr th {\n        vertical-align: top;\n    }\n\n    .dataframe thead th {\n        text-align: right;\n    }\n</style>\n<table border=\"1\" class=\"dataframe\">\n  <thead>\n    <tr style=\"text-align: right;\">\n      <th></th>\n      <th>Degree centrality</th>\n      <th>Closeness centrality</th>\n      <th>Betweeness centrality</th>\n      <th>PageRank</th>\n    </tr>\n  </thead>\n  <tbody>\n    <tr>\n      <th>0</th>\n      <td>blogsforbush.com (0.31)</td>\n      <td>dailykos.com (0.37)</td>\n      <td>blogsforbush.com (0.10)</td>\n      <td>dailykos.com (0.02)</td>\n    </tr>\n    <tr>\n      <th>1</th>\n      <td>dailykos.com (0.26)</td>\n      <td>instapundit.com (0.35)</td>\n      <td>atrios.blogspot.com (0.04)</td>\n      <td>atrios.blogspot.com (0.02)</td>\n    </tr>\n    <tr>\n      <th>2</th>\n      <td>instapundit.com (0.24)</td>\n      <td>talkingpointsmemo.com (0.35)</td>\n      <td>instapundit.com (0.03)</td>\n      <td>instapundit.com (0.01)</td>\n    </tr>\n    <tr>\n      <th>3</th>\n      <td>atrios.blogspot.com (0.24)</td>\n      <td>atrios.blogspot.com (0.35)</td>\n      <td>dailykos.com (0.02)</td>\n      <td>blogsforbush.com (0.01)</td>\n    </tr>\n    <tr>\n      <th>4</th>\n      <td>talkingpointsmemo.com (0.19)</td>\n      <td>drudgereport.com (0.33)</td>\n      <td>newleftblogs.blogspot.com (0.02)</td>\n      <td>talkingpointsmemo.com (0.01)</td>\n    </tr>\n  </tbody>\n</table>\n</div>"
     },
     "execution_count": 65,
     "metadata": {},
     "output_type": "execute_result"
    }
   ]
  }
 ],
 "metadata": {
  "coursera": {
   "course_slug": "python-social-network-analysis",
   "graded_item_id": "4XCse",
   "launcher_item_id": "utvmz",
   "part_id": "cZ7Jg"
  },
  "kernelspec": {
   "display_name": "Python 3",
   "language": "python",
   "name": "python3"
  },
  "language_info": {
   "codemirror_mode": {
    "name": "ipython",
    "version": 3
   },
   "file_extension": ".py",
   "mimetype": "text/x-python",
   "name": "python",
   "nbconvert_exporter": "python",
   "pygments_lexer": "ipython3",
   "version": "3.6.2"
  },
  "colab": {
   "provenance": []
  }
 },
 "nbformat": 4,
 "nbformat_minor": 0
}
