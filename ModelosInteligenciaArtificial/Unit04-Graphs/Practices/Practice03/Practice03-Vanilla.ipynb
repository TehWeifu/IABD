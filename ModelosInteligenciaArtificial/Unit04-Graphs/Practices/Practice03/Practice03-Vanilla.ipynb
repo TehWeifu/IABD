{
 "cells": [
  {
   "cell_type": "markdown",
   "metadata": {
    "id": "_B7xdvq_gJSc"
   },
   "source": [
    "## U4 :: Análisis de estructuras en red\n",
    "# **Práctica 3 - Medidas de centralidad**\n",
    "\n",
    "\n",
    "---\n",
    "\n",
    "<br>\n",
    "\n",
    "En esta práctica revisaremos algunas las medidas de centralidad de uso más común a través de redes diferentes: 1) amistades entre los miembros de un casal fallero y 2) red de blogs que tratan temas de política en internet.\n",
    "\n",
    "A continuación tienes enunciados con diferentes preguntas a las que debes dar respuesta."
   ]
  },
  {
   "cell_type": "code",
   "source": [
    "# Usa las siguientes líneas si te son de utilidad\n",
    "\n",
    "from google.colab import drive\n",
    "drive.mount('/content/drive')\n",
    "\n",
    "import networkx as nx\n",
    "import matplotlib.pyplot as plt\n",
    "\n",
    "path ='/content/drive/MyDrive/Colab Notebooks/U4 :: Análisis de estructuras en red/P3/'"
   ],
   "metadata": {
    "id": "U5i09tCegVjU"
   },
   "execution_count": null,
   "outputs": []
  },
  {
   "cell_type": "markdown",
   "metadata": {
    "id": "BqdS_mf6gJSd"
   },
   "source": [
    "## **PARTE 1**\n",
    "\n",
    "Responde las preguntas 1-3 usando la red `G1`, que es una red de amistades en un casal fallero. Cada nodo corresponde a una persona, y cada enlace indica amistad entre cierto par de personas.\n",
    "\n",
    "*Carga los datos del fichero 'amistades.gml' en el grafo `G1` y muestra el número de nodos y enlaces que lo componen.*"
   ]
  },
  {
   "cell_type": "code",
   "execution_count": null,
   "metadata": {
    "id": "CTwoTuypgJSf"
   },
   "outputs": [],
   "source": [
    "import networkx as nx\n",
    "\n",
    "pass"
   ]
  },
  {
   "cell_type": "markdown",
   "metadata": {
    "id": "krt1FRlmgJSg"
   },
   "source": [
    "### Pregunta 1\n",
    "\n",
    "Encuentra la centralidad de grado y la centralidad de intermediación del nodo 100.\n",
    "\n",
    "*Esta función debe devolver una tupla de flotantes `(degree_centrality, betweenness_centrality)`.*"
   ]
  },
  {
   "cell_type": "code",
   "execution_count": null,
   "metadata": {
    "colab": {
     "base_uri": "https://localhost:8080/"
    },
    "id": "8VY8IiaHgJSi",
    "outputId": "953f0777-de9b-4493-c586-476305592fc5"
   },
   "outputs": [
    {
     "output_type": "stream",
     "name": "stdout",
     "text": [
      "(0.0026501766784452294, 7.142902633244772e-05)\n"
     ]
    }
   ],
   "source": [
    "def pregunta_1(G):\n",
    "  pass\n",
    "\n"
   ]
  },
  {
   "cell_type": "markdown",
   "metadata": {
    "id": "xEIau4VxgJSi"
   },
   "source": [
    "<br>\n",
    "<b>Para las Preguntas 2 y 3, supon que no sabes nada sobre la estructura de la red, excepto todos los valores de centralidad de los nodos. Es decir, basta con usar una de las medidas de centralidad para clasificar los nodos y encontrar el candidato más apropiado.</b>\n",
    "<br>"
   ]
  },
  {
   "cell_type": "markdown",
   "metadata": {
    "id": "buFSF5pwgJSj"
   },
   "source": [
    "### Pregunta 2\n",
    "\n",
    "Supongamos que estás al cargo de una web de comercio electrónico que actualmente usan los miembros del casal fallero para realizar compras de comestibles y bebidas. Tienes la tarea de seleccionar un miembro al que se le podría enviar un cupón de compras con la expectativa de que esta persona que recibe el cupón lo envíe a tantos otros conocidos en el casal como sea posible. El cupón se puede reenviar a varias personas al mismo tiempo, pero la distancia a cubrir en el reenvío está limitada a un salto (es decir, debe haber contacto directo), lo que significa que si el cupón viaja más de un salto en esta red, ya no no sería válido. Aplica tus conocimientos en centralidad de redes para seleccionar al mejor candidato para el cupón.\n",
    "\n",
    "*Esta función debe devolver un número `int` con el nombre del nodo.*"
   ]
  },
  {
   "cell_type": "code",
   "execution_count": null,
   "metadata": {
    "scrolled": true,
    "colab": {
     "base_uri": "https://localhost:8080/"
    },
    "id": "RsXRcvCmgJSk",
    "outputId": "a95dc84e-69c9-4795-e149-265580bd38ef"
   },
   "outputs": [
    {
     "output_type": "stream",
     "name": "stdout",
     "text": [
      "El nodo mejor posicionado es: 105\n"
     ]
    }
   ],
   "source": [
    "def pregunta_2(G):\n",
    "  pass\n"
   ]
  },
  {
   "cell_type": "markdown",
   "metadata": {
    "id": "Lw-EqZkHgJSo"
   },
   "source": [
    "### Pregunta 3\n",
    "\n",
    "Supongamos ahora que una empresa competidora ha desarrollado una forma de *eliminar* a una persona de la red (por ejemplo, seduciéndolo con otro tipo de descuento) con el fin de dificultar la distribución del cupón de la empresa para la que trabajas. Este competidor se dirige específicamente a personas que a menudo hacen de puente en el flujo de información entre otros pares de personas.\n",
    "\n",
    "Identifica a la persona cuya eliminación implicaría un mayor riesgo de seguir la estrategia de dicho competidor.\n",
    "\n",
    "*Esta función debe devolver un número `int`, el nombre del nodo.*"
   ]
  },
  {
   "cell_type": "code",
   "execution_count": null,
   "metadata": {
    "colab": {
     "base_uri": "https://localhost:8080/"
    },
    "id": "fRquvu_5gJSp",
    "outputId": "3d5255b8-1c00-4f21-f026-3d528ecf899c"
   },
   "outputs": [
    {
     "output_type": "stream",
     "name": "stdout",
     "text": [
      "El nodo elegido es: 333\n"
     ]
    }
   ],
   "source": [
    "def pregunta_3(G):\n",
    "  pass\n",
    "\n"
   ]
  },
  {
   "cell_type": "markdown",
   "metadata": {
    "collapsed": true,
    "id": "ZGE9rp5YgJSp"
   },
   "source": [
    "## **PARTE 2**\n",
    "\n",
    "`G2` es una red dirigida de blogs que tratan temas de política, donde cada nodo corresponde a un blog y los enlaces corresponden a blogs vinculados. Utiliza lo que sabes sobre *PageRank* para responder a las dos preguntas siguientes.\n",
    "\n",
    "*Carga los datos del fichero 'blogs.gml' en el grafo `G1` y muestra el número de nodos y enlaces que lo componen.*"
   ]
  },
  {
   "cell_type": "code",
   "execution_count": null,
   "metadata": {
    "id": "AMWqnyOUgJSq"
   },
   "outputs": [],
   "source": [
    "pass"
   ]
  },
  {
   "cell_type": "markdown",
   "metadata": {
    "id": "QhJGXBOCgJSq"
   },
   "source": [
    "### Pregunta 5\n",
    "\n",
    "Aplica el algoritmo de *Scaled PageRank* a la red `G2`. Encuentra el *Page Rank* del nodo 'realclearpolitics.com' con un valor de amortiguación de 0,85.\n",
    "\n",
    "*Esta función debe devolver un número `float`.*"
   ]
  },
  {
   "cell_type": "code",
   "execution_count": null,
   "metadata": {
    "id": "-h5lMO0CgJSr"
   },
   "outputs": [],
   "source": [
    "def pregunta_5(G):\n",
    "  pass\n"
   ]
  },
  {
   "cell_type": "markdown",
   "metadata": {
    "id": "virf_HYVgJSr"
   },
   "source": [
    "### Pregunta 6\n",
    "\n",
    "Aplica el algoritmo de *Scaled PageRank* a toda la red `G2` con un valor de amortiguación de 0,85 a fin de encontrar los 5 nodos con el *PageRank* más alto.\n",
    "\n",
    "*Esta función debe devolver una lista con los 5 mejores blogs en orden descendente de Page Rank.*"
   ]
  },
  {
   "cell_type": "code",
   "execution_count": null,
   "metadata": {
    "colab": {
     "base_uri": "https://localhost:8080/"
    },
    "id": "9lLgVzB1gJSs",
    "outputId": "ff4b5205-747b-4383-d6f0-43518417aefb"
   },
   "outputs": [
    {
     "output_type": "stream",
     "name": "stdout",
     "text": [
      "Los 5 blogs con mayor Page Rank son ['dailykos.com', 'atrios.blogspot.com', 'instapundit.com', 'blogsforbush.com', 'talkingpointsmemo.com']\n"
     ]
    }
   ],
   "source": [
    "def pregunta_6(G):\n",
    "  pass\n"
   ]
  },
  {
   "cell_type": "markdown",
   "source": [
    "###Pregunta 7\n",
    "\n",
    "Sin abandonar este grafo, consulta en internet una medida de centralidad adicional no abordada en clase: la centralidad de cercanía.\n",
    "\n",
    "*Esta función debe devolver los 3 blogs con mayor centralidad de cercanía*."
   ],
   "metadata": {
    "id": "SnL9tzwZ2-LJ"
   }
  },
  {
   "cell_type": "code",
   "source": [
    "def pregunta_7(G):\n",
    "  pass"
   ],
   "metadata": {
    "id": "nL9f6y973vxh"
   },
   "execution_count": null,
   "outputs": []
  },
  {
   "cell_type": "markdown",
   "source": [
    "###Pregunta 8\n",
    "\n",
    "Finalmente, muestra mediante un *dataframe* de Pandas un resumen de las medidas de centralidad (centralidad de grado, centralidad de cercanía, centralidad de intermediación y PageRank) para los 5 nodos más importantes del grafo."
   ],
   "metadata": {
    "id": "s9lNBFTX5BdF"
   }
  },
  {
   "cell_type": "code",
   "source": [
    "def pregunta_8(G):\n",
    "  pass"
   ],
   "metadata": {
    "id": "pjYi65fI5dIC"
   },
   "execution_count": null,
   "outputs": []
  }
 ],
 "metadata": {
  "coursera": {
   "course_slug": "python-social-network-analysis",
   "graded_item_id": "4XCse",
   "launcher_item_id": "utvmz",
   "part_id": "cZ7Jg"
  },
  "kernelspec": {
   "display_name": "Python 3",
   "language": "python",
   "name": "python3"
  },
  "language_info": {
   "codemirror_mode": {
    "name": "ipython",
    "version": 3
   },
   "file_extension": ".py",
   "mimetype": "text/x-python",
   "name": "python",
   "nbconvert_exporter": "python",
   "pygments_lexer": "ipython3",
   "version": "3.6.2"
  },
  "colab": {
   "provenance": []
  }
 },
 "nbformat": 4,
 "nbformat_minor": 0
}
