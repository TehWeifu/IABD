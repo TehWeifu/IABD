{
  "nbformat": 4,
  "nbformat_minor": 0,
  "metadata": {
    "colab": {
      "provenance": []
    },
    "kernelspec": {
      "name": "python3",
      "display_name": "Python 3"
    },
    "language_info": {
      "name": "python"
    }
  },
  "cells": [
    {
      "cell_type": "markdown",
      "source": [
        "### Análisis de redes\n",
        "##**PRÁCTICA SÍNTESIS :: Análisis de la Red de Conexiones en una Red Social**\n",
        "\n",
        "Imagina que te has incorporado a una empresa que ha desarrollado una red social. Te han encargado investigar la estructura de la red de usuarios para entender mejor su conectividad, identificar los posibles *influencers* y detectar comunidades dentro de la red. Utilizaremos, como en otras ocasiones, **NetworkX** para llevar a cabo este análisis.\n"
      ],
      "metadata": {
        "id": "dvSMxGjV8J0y"
      }
    },
    {
      "cell_type": "markdown",
      "source": [
        "**1. Creación del Grafo:**\n",
        "\n",
        "Crea un grafo utilizando el modelo de [Erdős-Rényi](https://networkx.org/documentation/stable/reference/generated/networkx.generators.random_graphs.erdos_renyi_graph.html) (incluido en Networkx) con 30 nodos y una probabilidad de conexión de 0.2.\n",
        "\n",
        "*Nota: El modelo de Erdős-Rényi es uno de los modelos más simples y fundamentales en la teoría de grafos aleatorios. Se utiliza para generar grafos de manera probabilística y estudiar sus propiedades. Fue introducido por los matemáticos Paul Erdős y Alfréd Rényi en la década de 1950.*"
      ],
      "metadata": {
        "id": "gQOx7CC29ABj"
      }
    },
    {
      "cell_type": "code",
      "source": [
        "import networkx as nx\n",
        "\n",
        "pass"
      ],
      "metadata": {
        "id": "_CZckRFj8WFr"
      },
      "execution_count": null,
      "outputs": []
    },
    {
      "cell_type": "markdown",
      "source": [
        "**2. Visualización del Grafo:**\n",
        "\n",
        "Visualiza el grafo mediante el método \"draw\", mostrando etiquetas en los nodos. Asegúrate de que los nodos sean visibles y distinguibles."
      ],
      "metadata": {
        "id": "Q3Rg7_QP9bMi"
      }
    },
    {
      "cell_type": "code",
      "source": [
        "import matplotlib.pyplot as plt\n",
        "\n",
        "# Visualización del Grafo\n",
        "\n",
        "pass"
      ],
      "metadata": {
        "id": "rPvkhXaa9ezL"
      },
      "execution_count": null,
      "outputs": []
    },
    {
      "cell_type": "markdown",
      "source": [
        "**3. Análisis de Conectividad:**\n",
        "\n",
        "Determina cuántos componentes conectados tiene el grafo.\n",
        "Si el grafo está conectado, calcula el diámetro del grafo. Si no lo es, indica cuál es el componente con mayor número de nodos y su diámetro."
      ],
      "metadata": {
        "id": "Z_nJiSGa9wYi"
      }
    },
    {
      "cell_type": "code",
      "source": [
        "# 4. Análisis de Conectividad\n",
        "\n",
        "pass"
      ],
      "metadata": {
        "colab": {
          "base_uri": "https://localhost:8080/"
        },
        "id": "CYP55mtG93nr",
        "outputId": "f80d4562-dfe6-4928-a5bc-36b9baa8ffb0"
      },
      "execution_count": null,
      "outputs": [
        {
          "output_type": "stream",
          "name": "stdout",
          "text": [
            "Número de Componentes Conectados: 1\n",
            "Diámetro del Grafo: 4\n"
          ]
        }
      ]
    },
    {
      "cell_type": "markdown",
      "source": [
        "**4. Detección de Comunidades:**\n",
        "\n",
        "Utiliza el algoritmo de modularidad para detectar comunidades en el grafo.\n",
        "Visualiza las comunidades detectadas coloreando los nodos según su comunidad.\n",
        "Muestra cuántas comunidades se detectaron y cuántos nodos tiene cada comunidad."
      ],
      "metadata": {
        "id": "vr-MtZ1P94Jy"
      }
    },
    {
      "cell_type": "code",
      "source": [
        "pass"
      ],
      "metadata": {
        "colab": {
          "base_uri": "https://localhost:8080/"
        },
        "id": "Bb3Oslpy-A1T",
        "outputId": "8ba0a5bb-c1d4-4a63-afc2-9d254024764d"
      },
      "execution_count": null,
      "outputs": [
        {
          "output_type": "stream",
          "name": "stdout",
          "text": [
            "Número de Comunidades Detectadas: 6\n"
          ]
        }
      ]
    },
    {
      "cell_type": "markdown",
      "source": [
        "Puedes usar el siguiente código (asegúrate de pasarle una lista con las comunidades) para visualizar las comunidades de forma diferenciada:"
      ],
      "metadata": {
        "id": "gNvYDhdjCxiq"
      }
    },
    {
      "cell_type": "code",
      "source": [
        "# Asignar colores a las comunidades\n",
        "comunidad_mapa = {}\n",
        "for i, comunidad in enumerate(comunidades):\n",
        "    for nodo in comunidad:\n",
        "        comunidad_mapa[nodo] = i\n",
        "\n",
        "# Visualizar las comunidades\n",
        "node_color = [comunidad_mapa[nodo] for nodo in G.nodes()]\n",
        "plt.figure(figsize=(10, 8))\n",
        "nx.draw(G, node_color=node_color, with_labels=True, node_size=700, cmap=plt.cm.viridis)\n",
        "plt.title(\"Comunidades en la Red Social\")\n",
        "plt.show()"
      ],
      "metadata": {
        "id": "maVHmjz1CeND"
      },
      "execution_count": null,
      "outputs": []
    },
    {
      "cell_type": "markdown",
      "source": [
        "**5. Análisis de Centralidad:**\n",
        "\n",
        "Una empresa de comnsultoría quiere identificar *influencers* dentro de la red social que pudieran ser útiles a otras empresas para desarrollar campañas de marketing de sus productos. Sugiere desde el mismo código qué usuario(s) pueden ser *influencers* en la red social.\n",
        "\n",
        "Estrategias de análisis de la red:\n",
        "1. Calcula la centralidad de grado para cada nodo y muestra los 5 nodos con mayor\n",
        "centralidad de grado.\n",
        "2. Calcula la centralidad de intermediación para cada nodo y muestra los 5 nodos con mayor centralidad de intermediación.\n",
        "3. Calcula la centralidad de cercanía para cada nodo y muestra los 5 nodos con mayor centralidad de cercanía."
      ],
      "metadata": {
        "id": "tv3NgbA_ER1D"
      }
    },
    {
      "cell_type": "code",
      "source": [
        "# Análisis de Centralidad\n",
        "pass\n",
        "\n",
        "# Mostrar los 5 nodos con mayor centralidad de grado\n",
        "pass\n",
        "\n",
        "# Mostrar los 5 nodos con mayor centralidad de intermediación\n",
        "pass\n",
        "\n",
        "# Mostrar los 5 nodos con mayor centralidad de cercanía\n",
        "pass\n",
        "\n",
        "# 4. Análisis de Conectividad\n",
        "pass"
      ],
      "metadata": {
        "colab": {
          "base_uri": "https://localhost:8080/"
        },
        "id": "WGKOvkfDES1y",
        "outputId": "b6c5d7a9-9a57-40d3-971f-22809d88b86d"
      },
      "execution_count": null,
      "outputs": [
        {
          "output_type": "stream",
          "name": "stdout",
          "text": [
            "Top 5 nodos por Centralidad de Grado: [(29, 0.3448275862068966), (0, 0.3103448275862069), (28, 0.3103448275862069), (4, 0.24137931034482757), (8, 0.24137931034482757)]\n",
            "Top 5 nodos por Centralidad de Intermediación: [(29, 0.12661760106341388), (28, 0.11423586676049731), (0, 0.1036222534991008), (10, 0.08644831495816717), (14, 0.07023320822581906)]\n",
            "Top 5 nodos por Centralidad de Cercanía: [(0, 0.58), (29, 0.5576923076923077), (8, 0.5370370370370371), (14, 0.5370370370370371), (28, 0.5370370370370371)]\n",
            "Número de Componentes Conectados: 1\n"
          ]
        }
      ]
    },
    {
      "cell_type": "markdown",
      "source": [
        "**Preguntas para Reflexionar:**\n",
        "\n",
        "\n",
        "---\n",
        "\n",
        "\n",
        "### 1.   ¿Qué diferencias observas entre los nodos más influyentes según las diferentes medidas de centralidad?\n"
      ],
      "metadata": {
        "id": "tE5VKBFc_LZT"
      }
    },
    {
      "cell_type": "markdown",
      "source": [
        "**Respuesta**:\n",
        "\n"
      ],
      "metadata": {
        "id": "CTKCV7J-FicL"
      }
    },
    {
      "cell_type": "markdown",
      "source": [
        "### 2.   ¿Cómo afecta la probabilidad de \"estar conectado\" **'p'** en la creación del grafo a la conectividad y el diámetro?\n"
      ],
      "metadata": {
        "id": "ULUHIawGGN-r"
      }
    },
    {
      "cell_type": "markdown",
      "source": [
        "**Respuesta**:\n",
        "\n"
      ],
      "metadata": {
        "id": "-htpw67BHZeM"
      }
    },
    {
      "cell_type": "markdown",
      "source": [
        "### 3.   ¿Qué podrías inferir sobre la estructura de una red social real basada en los resultados obtenidos de este grafo simulado?"
      ],
      "metadata": {
        "id": "HrdfcNIfHaFT"
      }
    },
    {
      "cell_type": "markdown",
      "source": [
        "**Respuesta:**\n",
        "\n"
      ],
      "metadata": {
        "id": "ESHOcnQ4HanD"
      }
    }
  ]
}