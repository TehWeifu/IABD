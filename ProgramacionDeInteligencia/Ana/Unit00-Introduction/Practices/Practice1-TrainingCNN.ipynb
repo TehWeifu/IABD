{
  "nbformat": 4,
  "nbformat_minor": 0,
  "metadata": {
    "colab": {
      "provenance": []
    },
    "kernelspec": {
      "name": "python3",
      "display_name": "Python 3"
    },
    "language_info": {
      "name": "python"
    },
    "accelerator": "GPU"
  },
  "cells": [
    {
      "cell_type": "code",
      "metadata": {
        "id": "44fw2-UYYIXx"
      },
      "source": [
        "import tensorflow as tf\n",
        "from tensorflow.keras.models import Sequential\n",
        "from tensorflow.keras.layers import Input, Conv2D, MaxPool2D, Flatten, Dense\n",
        "import matplotlib.pyplot as plt\n",
        "import numpy as np\n",
        "from sklearn.model_selection import train_test_split\n",
        "import time"
      ],
      "execution_count": null,
      "outputs": []
    },
    {
      "cell_type": "markdown",
      "metadata": {
        "id": "ili5rA-kdCql"
      },
      "source": [
        "# Descarga de los datos"
      ]
    },
    {
      "cell_type": "code",
      "metadata": {
        "id": "3i2N9R-7YcS2"
      },
      "source": [
        "# Descargamos base de datos CIFAR10, al descargarla la encontramos en 2 particiones\n",
        "cifar = tf.keras.datasets.cifar10\n",
        "(X_train, y_train), (X_val_test, y_val_test) = cifar.load_data()"
      ],
      "execution_count": null,
      "outputs": []
    },
    {
      "cell_type": "code",
      "metadata": {
        "id": "jROvXPeIYmJ2"
      },
      "source": [
        "# Visualizamos las imágenes disponibles en la base de datos\n",
        "\n",
        "classes = ['airplane', 'automobile', 'bird', 'cat', 'deer', 'dog', 'frog',\n",
        "           'horse', \"ship\", \"truck\"]\n",
        "\n",
        "plt.figure(figsize=(10, 10))\n",
        "# Mostramos 9 imágenes aleatorias con su etiqueta correspondiente\n",
        "for i in range(9):\n",
        "  plt.subplot(3, 3, i+1)\n",
        "  # Seleccionamos imagen aleatoria\n",
        "  j = np.random.randint(0, X_train.shape[0])\n",
        "  plt.imshow(X_train[j])\n",
        "  # Mostramos clase asociada a la imagen\n",
        "  plt.title(f'{classes[int(y_train[j])]}')"
      ],
      "execution_count": null,
      "outputs": []
    },
    {
      "cell_type": "markdown",
      "metadata": {
        "id": "U5fE_WaadHbU"
      },
      "source": [
        "# Preparación de los datos"
      ]
    },
    {
      "cell_type": "code",
      "metadata": {
        "id": "zeHtZyy7YsX6"
      },
      "source": [
        "# Diferenciamos entre validación y test\n",
        "X_val, X_test, y_val, y_test = train_test_split(X_val_test, y_val_test, test_size=0.5, random_state=123)\n",
        "\n",
        "# En este punto ya tenemos las 3 particiones de interés.\n",
        "# Vemos que tamaño tiene cada matriz que hemos generado\n",
        "print('Tamaño datos entrenamiento: ', X_train.shape)\n",
        "print('Tamaño datos validación: ', X_val.shape)\n",
        "print('Tamaño datos test: ', X_test.shape)\n",
        "\n",
        "print('Tamaño etiquetas entrenamiento: ', y_train.shape)\n",
        "print('Tamaño etiquetas validación: ', y_val.shape)\n",
        "print('Tamaño etiquetas test: ', y_test.shape)"
      ],
      "execution_count": null,
      "outputs": []
    },
    {
      "cell_type": "code",
      "metadata": {
        "id": "EgghkhZtYwo-"
      },
      "source": [
        "# Mostramos rango de intensidad de la imagen\n",
        "print('Rango original imágenes: ', X_train.min(), '-', X_train.max())"
      ],
      "execution_count": null,
      "outputs": []
    },
    {
      "cell_type": "code",
      "metadata": {
        "id": "oANHW-b7aBry"
      },
      "source": [
        "# Vemos que las imágenes están en un rango [0-255], para incorporarlas a la red debemos de cambiar su rango a [0-1]\n",
        "X_train = X_train.astype('float32') / 255\n",
        "X_val = X_val.astype('float32') / 255\n",
        "X_test = X_test.astype('float32') / 255\n",
        "\n",
        "print('Nuevo rango valores intensidad: ', X_train.min(), '-', X_train.max())"
      ],
      "execution_count": null,
      "outputs": []
    },
    {
      "cell_type": "markdown",
      "metadata": {
        "id": "iDnJBTOhdNHe"
      },
      "source": [
        "# Definición del modelo (arquitectura)"
      ]
    },
    {
      "cell_type": "code",
      "metadata": {
        "id": "Jn_4_CISY0_4",
        "colab": {
          "base_uri": "https://localhost:8080/",
          "height": 248
        },
        "outputId": "17ecc940-7b24-4ea1-f267-6cc1c88c1368"
      },
      "source": [
        "# Definimos arquitectura modelo\n",
        "model = Sequential()\n",
        "model.add(Input(shape=X_train.shape[1:]))\n",
        "model.add(Conv2D(filters=24, kernel_size=(3,3), activation='relu'))\n",
        "model.add(MaxPool2D(pool_size=(2,2)))\n",
        "model.add(Conv2D(filters=36, kernel_size=(3,3), activation='relu'))\n",
        "model.add(MaxPool2D(pool_size=(2,2)))\n",
        "model.add(Flatten())\n",
        "model.add(Dense(128, activation='relu'))\n",
        "model.add(Dense(10, activation='softmax'))\n",
        "\n",
        "model.summary()"
      ],
      "execution_count": null,
      "outputs": [
        {
          "output_type": "error",
          "ename": "NameError",
          "evalue": "ignored",
          "traceback": [
            "\u001b[0;31m---------------------------------------------------------------------------\u001b[0m",
            "\u001b[0;31mNameError\u001b[0m                                 Traceback (most recent call last)",
            "\u001b[0;32m<ipython-input-2-7b9ecd5bb63c>\u001b[0m in \u001b[0;36m<cell line: 3>\u001b[0;34m()\u001b[0m\n\u001b[1;32m      1\u001b[0m \u001b[0;31m# Definimos arquitectura modelo\u001b[0m\u001b[0;34m\u001b[0m\u001b[0;34m\u001b[0m\u001b[0m\n\u001b[1;32m      2\u001b[0m \u001b[0mmodel\u001b[0m \u001b[0;34m=\u001b[0m \u001b[0mSequential\u001b[0m\u001b[0;34m(\u001b[0m\u001b[0;34m)\u001b[0m\u001b[0;34m\u001b[0m\u001b[0;34m\u001b[0m\u001b[0m\n\u001b[0;32m----> 3\u001b[0;31m \u001b[0mmodel\u001b[0m\u001b[0;34m.\u001b[0m\u001b[0madd\u001b[0m\u001b[0;34m(\u001b[0m\u001b[0mInput\u001b[0m\u001b[0;34m(\u001b[0m\u001b[0mshape\u001b[0m\u001b[0;34m=\u001b[0m\u001b[0mX_train\u001b[0m\u001b[0;34m.\u001b[0m\u001b[0mshape\u001b[0m\u001b[0;34m[\u001b[0m\u001b[0;36m1\u001b[0m\u001b[0;34m:\u001b[0m\u001b[0;34m]\u001b[0m\u001b[0;34m)\u001b[0m\u001b[0;34m)\u001b[0m\u001b[0;34m\u001b[0m\u001b[0;34m\u001b[0m\u001b[0m\n\u001b[0m\u001b[1;32m      4\u001b[0m \u001b[0mmodel\u001b[0m\u001b[0;34m.\u001b[0m\u001b[0madd\u001b[0m\u001b[0;34m(\u001b[0m\u001b[0mConv2D\u001b[0m\u001b[0;34m(\u001b[0m\u001b[0mfilters\u001b[0m\u001b[0;34m=\u001b[0m\u001b[0;36m24\u001b[0m\u001b[0;34m,\u001b[0m \u001b[0mkernel_size\u001b[0m\u001b[0;34m=\u001b[0m\u001b[0;34m(\u001b[0m\u001b[0;36m3\u001b[0m\u001b[0;34m,\u001b[0m\u001b[0;36m3\u001b[0m\u001b[0;34m)\u001b[0m\u001b[0;34m,\u001b[0m \u001b[0mactivation\u001b[0m\u001b[0;34m=\u001b[0m\u001b[0;34m'relu'\u001b[0m\u001b[0;34m)\u001b[0m\u001b[0;34m)\u001b[0m\u001b[0;34m\u001b[0m\u001b[0;34m\u001b[0m\u001b[0m\n\u001b[1;32m      5\u001b[0m \u001b[0mmodel\u001b[0m\u001b[0;34m.\u001b[0m\u001b[0madd\u001b[0m\u001b[0;34m(\u001b[0m\u001b[0mMaxPool2D\u001b[0m\u001b[0;34m(\u001b[0m\u001b[0mpool_size\u001b[0m\u001b[0;34m=\u001b[0m\u001b[0;34m(\u001b[0m\u001b[0;36m2\u001b[0m\u001b[0;34m,\u001b[0m\u001b[0;36m2\u001b[0m\u001b[0;34m)\u001b[0m\u001b[0;34m)\u001b[0m\u001b[0;34m)\u001b[0m\u001b[0;34m\u001b[0m\u001b[0;34m\u001b[0m\u001b[0m\n",
            "\u001b[0;31mNameError\u001b[0m: name 'X_train' is not defined"
          ]
        }
      ]
    },
    {
      "cell_type": "code",
      "metadata": {
        "id": "gcdfgx1bY3SC"
      },
      "source": [
        "# Compilamos el modelo\n",
        "model.compile(optimizer='adam',\n",
        "              loss='sparse_categorical_crossentropy',\n",
        "              metrics=['accuracy'])"
      ],
      "execution_count": null,
      "outputs": []
    },
    {
      "cell_type": "markdown",
      "metadata": {
        "id": "CBYmOVJbdTXs"
      },
      "source": [
        "# Entrenamiento"
      ]
    },
    {
      "cell_type": "code",
      "metadata": {
        "id": "HUQY0IqKY5QK"
      },
      "source": [
        "# Calculamos tiempo de ejecuc\n",
        "ini = time.time()\n",
        "# Entrenamos el modelo\n",
        "history = model.fit(X_train, y_train, batch_size=32, epochs=5,\n",
        "                    validation_data=(X_val, y_val),\n",
        "                    verbose=1)\n",
        "end = time.time()\n",
        "\n",
        "print('Tiempo ejecución (s): ', end-ini)"
      ],
      "execution_count": null,
      "outputs": []
    },
    {
      "cell_type": "code",
      "metadata": {
        "id": "GSrtoReian4W",
        "colab": {
          "base_uri": "https://localhost:8080/"
        },
        "outputId": "92aa4e14-36d2-4b80-890a-6ab693e4b9c5"
      },
      "source": [
        "# Vemos si estamos haciendo uso de la GPU\n",
        "tf.config.list_physical_devices('GPU')"
      ],
      "execution_count": null,
      "outputs": [
        {
          "output_type": "execute_result",
          "data": {
            "text/plain": [
              "[PhysicalDevice(name='/physical_device:GPU:0', device_type='GPU')]"
            ]
          },
          "metadata": {},
          "execution_count": 3
        }
      ]
    }
  ]
}