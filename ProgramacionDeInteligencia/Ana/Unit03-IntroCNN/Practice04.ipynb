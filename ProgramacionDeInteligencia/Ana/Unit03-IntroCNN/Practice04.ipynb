{
 "cells": [
  {
   "cell_type": "markdown",
   "source": [
    "Ejercicio 4\n",
    "Implementa la misma arquitectura que en el Ejercicio 3, pero emplea una capa GlobalAveragePooling2D en\n",
    "lugar de Flatten."
   ],
   "metadata": {
    "collapsed": false
   },
   "id": "cea49deec20467c6"
  },
  {
   "cell_type": "code",
   "execution_count": 1,
   "outputs": [],
   "source": [
    "import cv2\n",
    "import numpy as np\n",
    "from PIL import Image\n",
    "from tensorflow.keras.models import Model\n",
    "from tensorflow.keras import layers\n",
    "import matplotlib.pyplot as plt"
   ],
   "metadata": {
    "collapsed": false,
    "ExecuteTime": {
     "end_time": "2023-12-20T18:37:38.508075300Z",
     "start_time": "2023-12-20T18:37:35.214302600Z"
    }
   },
   "id": "7302c96b16adeb19"
  },
  {
   "cell_type": "code",
   "execution_count": 3,
   "outputs": [
    {
     "name": "stdout",
     "output_type": "stream",
     "text": [
      "Model: \"model\"\n",
      "_________________________________________________________________\n",
      " Layer (type)                Output Shape              Param #   \n",
      "=================================================================\n",
      " input_2 (InputLayer)        [(None, 256, 256, 3)]     0         \n",
      "                                                                 \n",
      " conv2d_2 (Conv2D)           (None, 256, 256, 16)      448       \n",
      "                                                                 \n",
      " conv2d_3 (Conv2D)           (None, 126, 126, 32)      12832     \n",
      "                                                                 \n",
      " max_pooling2d_1 (MaxPoolin  (None, 63, 63, 32)        0         \n",
      " g2D)                                                            \n",
      "                                                                 \n",
      " global_average_pooling2d_1  (None, 32)                0         \n",
      "  (GlobalAveragePooling2D)                                       \n",
      "                                                                 \n",
      " dense (Dense)               (None, 16)                528       \n",
      "                                                                 \n",
      " dense_1 (Dense)             (None, 32)                544       \n",
      "                                                                 \n",
      " dense_2 (Dense)             (None, 1)                 33        \n",
      "                                                                 \n",
      "=================================================================\n",
      "Total params: 14385 (56.19 KB)\n",
      "Trainable params: 14385 (56.19 KB)\n",
      "Non-trainable params: 0 (0.00 Byte)\n",
      "_________________________________________________________________\n"
     ]
    }
   ],
   "source": [
    "input_layer = layers.Input(shape=[256, 256, 3])\n",
    "\n",
    "layer_conv1 = layers.Conv2D(filters=16, kernel_size=(3, 3), strides=(1, 1), padding=\"same\", activation=\"relu\")(\n",
    "    input_layer)\n",
    "layer_conv2 = layers.Conv2D(filters=32, kernel_size=(5, 5), strides=(2, 2), activation=\"relu\")(layer_conv1)\n",
    "\n",
    "pool = layers.MaxPool2D(pool_size=(2, 2))(layer_conv2)\n",
    "\n",
    "global_avg = layers.GlobalAveragePooling2D()(pool)\n",
    "\n",
    "dense_hidden1 = layers.Dense(16, activation='relu')(global_avg)\n",
    "dense_hidden2 = layers.Dense(32, activation='relu')(dense_hidden1)\n",
    "\n",
    "dense_output = layers.Dense(1, activation='sigmoid')(dense_hidden2)\n",
    "\n",
    "model = Model(inputs=[input_layer], outputs=[dense_output])\n",
    "model.summary()"
   ],
   "metadata": {
    "collapsed": false,
    "ExecuteTime": {
     "end_time": "2023-12-20T18:37:54.674165900Z",
     "start_time": "2023-12-20T18:37:54.612257800Z"
    }
   },
   "id": "a3ec8d42d8478656"
  },
  {
   "cell_type": "markdown",
   "source": [
    "Preguntas:\n",
    "• ¿Cuántos parámetros debe ajustar el modelo en total?\n",
    "  - El modelo debe ajustar un total de 14.385"
   ],
   "metadata": {
    "collapsed": false
   },
   "id": "154d347e1bd3f20c"
  }
 ],
 "metadata": {
  "kernelspec": {
   "display_name": "Python 3",
   "language": "python",
   "name": "python3"
  },
  "language_info": {
   "codemirror_mode": {
    "name": "ipython",
    "version": 2
   },
   "file_extension": ".py",
   "mimetype": "text/x-python",
   "name": "python",
   "nbconvert_exporter": "python",
   "pygments_lexer": "ipython2",
   "version": "2.7.6"
  }
 },
 "nbformat": 4,
 "nbformat_minor": 5
}
