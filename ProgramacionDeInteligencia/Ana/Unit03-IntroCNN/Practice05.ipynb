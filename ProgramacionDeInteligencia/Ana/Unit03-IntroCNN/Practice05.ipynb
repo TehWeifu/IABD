{
 "cells": [
  {
   "cell_type": "markdown",
   "source": [
    "Ejercicio 4\n",
    "Implementa la misma arquitectura que en el Ejercicio 3, pero emplea una capa GlobalAveragePooling2D en\n",
    "lugar de Flatten."
   ],
   "metadata": {
    "collapsed": false
   },
   "id": "cea49deec20467c6"
  },
  {
   "cell_type": "code",
   "execution_count": 1,
   "outputs": [],
   "source": [
    "from tensorflow.keras.models import Model\n",
    "from tensorflow.keras import layers"
   ],
   "metadata": {
    "collapsed": false,
    "ExecuteTime": {
     "end_time": "2024-01-10T18:05:43.335424900Z",
     "start_time": "2024-01-10T18:05:39.734347900Z"
    }
   },
   "id": "7302c96b16adeb19"
  },
  {
   "cell_type": "code",
   "execution_count": 4,
   "outputs": [
    {
     "name": "stdout",
     "output_type": "stream",
     "text": [
      "Model: \"my_super_cool_model\"\n",
      "_________________________________________________________________\n",
      " Layer (type)                Output Shape              Param #   \n",
      "=================================================================\n",
      " input_3 (InputLayer)        [(None, 160, 160, 3)]     0         \n",
      "                                                                 \n",
      " conv2d_6 (Conv2D)           (None, 160, 160, 16)      448       \n",
      "                                                                 \n",
      " max_pooling2d_4 (MaxPoolin  (None, 80, 80, 16)        0         \n",
      " g2D)                                                            \n",
      "                                                                 \n",
      " conv2d_7 (Conv2D)           (None, 80, 80, 32)        4640      \n",
      "                                                                 \n",
      " max_pooling2d_5 (MaxPoolin  (None, 40, 40, 32)        0         \n",
      " g2D)                                                            \n",
      "                                                                 \n",
      " conv2d_8 (Conv2D)           (None, 40, 40, 64)        18496     \n",
      "                                                                 \n",
      " flatten_2 (Flatten)         (None, 102400)            0         \n",
      "                                                                 \n",
      " dense_4 (Dense)             (None, 32)                3276832   \n",
      "                                                                 \n",
      " dense_5 (Dense)             (None, 1)                 33        \n",
      "                                                                 \n",
      "=================================================================\n",
      "Total params: 3300449 (12.59 MB)\n",
      "Trainable params: 3300449 (12.59 MB)\n",
      "Non-trainable params: 0 (0.00 Byte)\n",
      "_________________________________________________________________\n"
     ]
    }
   ],
   "source": [
    "input_layer = layers.Input(shape=[160, 160, 3])\n",
    "\n",
    "layer_conv1 = layers.Conv2D(filters=16, kernel_size=(3, 3), strides=(1, 1), padding=\"same\", activation=\"relu\")(\n",
    "    input_layer)\n",
    "layer_pool1 = layers.MaxPool2D(pool_size=(2, 2))(layer_conv1)\n",
    "\n",
    "layer_conv2 = layers.Conv2D(filters=32, kernel_size=(3, 3), strides=(1, 1), padding=\"same\", activation=\"relu\")(\n",
    "    layer_pool1)\n",
    "layer_pool2 = layers.MaxPool2D(pool_size=(2, 2))(layer_conv2)\n",
    "\n",
    "layer_conv3 = layers.Conv2D(filters=64, kernel_size=(3, 3), strides=(1, 1), padding=\"same\", activation=\"relu\")(\n",
    "    layer_pool2)\n",
    "layer_flatten = layers.Flatten()(layer_conv3)\n",
    "\n",
    "dense_hidden1 = layers.Dense(32, activation='relu')(layer_flatten)\n",
    "\n",
    "dense_output = layers.Dense(1, activation='sigmoid')(dense_hidden1)\n",
    "\n",
    "model = Model(inputs=[input_layer], outputs=[dense_output])\n",
    "model.summary()"
   ],
   "metadata": {
    "collapsed": false,
    "ExecuteTime": {
     "end_time": "2024-01-10T18:11:48.137062300Z",
     "start_time": "2024-01-10T18:11:48.075151900Z"
    }
   },
   "id": "a3ec8d42d8478656"
  }
 ],
 "metadata": {
  "kernelspec": {
   "display_name": "Python 3",
   "language": "python",
   "name": "python3"
  },
  "language_info": {
   "codemirror_mode": {
    "name": "ipython",
    "version": 2
   },
   "file_extension": ".py",
   "mimetype": "text/x-python",
   "name": "python",
   "nbconvert_exporter": "python",
   "pygments_lexer": "ipython2",
   "version": "2.7.6"
  }
 },
 "nbformat": 4,
 "nbformat_minor": 5
}
