{
 "cells": [
  {
   "cell_type": "code",
   "execution_count": 1,
   "id": "initial_id",
   "metadata": {
    "collapsed": true,
    "ExecuteTime": {
     "end_time": "2023-10-04T17:21:57.120457Z",
     "start_time": "2023-10-04T17:21:53.906542400Z"
    }
   },
   "outputs": [],
   "source": [
    "import numpy as np\n",
    "import pandas as pd\n",
    "import tensorflow as tf\n",
    "import matplotlib.pyplot as plt\n",
    "from keras.models import Sequential\n",
    "from keras.layers import Dense\n",
    "from sklearn.datasets import load_iris\n",
    "from matplotlib.colors import LightSource\n",
    "import random"
   ]
  },
  {
   "cell_type": "code",
   "execution_count": 2,
   "outputs": [
    {
     "name": "stdout",
     "output_type": "stream",
     "text": [
      "Epoch 1/40\n",
      "4/4 [==============================] - 0s 0s/step - loss: 0.2089\n",
      "Epoch 2/40\n",
      "4/4 [==============================] - 0s 5ms/step - loss: 0.1507\n",
      "Epoch 3/40\n",
      "4/4 [==============================] - 0s 4ms/step - loss: 0.1135\n",
      "Epoch 4/40\n",
      "4/4 [==============================] - 0s 1ms/step - loss: 0.0811\n",
      "Epoch 5/40\n",
      "4/4 [==============================] - 0s 1ms/step - loss: 0.0567\n",
      "Epoch 6/40\n",
      "4/4 [==============================] - 0s 2ms/step - loss: 0.0546\n",
      "Epoch 7/40\n",
      "4/4 [==============================] - 0s 2ms/step - loss: 0.0336\n",
      "Epoch 8/40\n",
      "4/4 [==============================] - 0s 2ms/step - loss: 0.0250\n",
      "Epoch 9/40\n",
      "4/4 [==============================] - 0s 1ms/step - loss: 0.0234\n",
      "Epoch 10/40\n",
      "4/4 [==============================] - 0s 1ms/step - loss: 0.0149\n",
      "Epoch 11/40\n",
      "4/4 [==============================] - 0s 411us/step - loss: 0.0104\n",
      "Epoch 12/40\n",
      "4/4 [==============================] - 0s 1ms/step - loss: 0.0083\n",
      "Epoch 13/40\n",
      "4/4 [==============================] - 0s 2ms/step - loss: 0.0068\n",
      "Epoch 14/40\n",
      "4/4 [==============================] - 0s 2ms/step - loss: 0.0056\n",
      "Epoch 15/40\n",
      "4/4 [==============================] - 0s 1ms/step - loss: 0.0041\n",
      "Epoch 16/40\n",
      "4/4 [==============================] - 0s 2ms/step - loss: 0.0036\n",
      "Epoch 17/40\n",
      "4/4 [==============================] - 0s 0s/step - loss: 0.0031\n",
      "Epoch 18/40\n",
      "4/4 [==============================] - 0s 2ms/step - loss: 0.0022\n",
      "Epoch 19/40\n",
      "4/4 [==============================] - 0s 2ms/step - loss: 0.0022\n",
      "Epoch 20/40\n",
      "4/4 [==============================] - 0s 1ms/step - loss: 0.0018\n",
      "Epoch 21/40\n",
      "4/4 [==============================] - 0s 2ms/step - loss: 0.0017\n",
      "Epoch 22/40\n",
      "4/4 [==============================] - 0s 2ms/step - loss: 0.0012\n",
      "Epoch 23/40\n",
      "4/4 [==============================] - 0s 2ms/step - loss: 0.0010\n",
      "Epoch 24/40\n",
      "4/4 [==============================] - 0s 2ms/step - loss: 7.7263e-04\n",
      "Epoch 25/40\n",
      "4/4 [==============================] - 0s 2ms/step - loss: 7.6873e-04\n",
      "Epoch 26/40\n",
      "4/4 [==============================] - 0s 778us/step - loss: 8.1615e-04\n",
      "Epoch 27/40\n",
      "4/4 [==============================] - 0s 1ms/step - loss: 7.4002e-04\n",
      "Epoch 28/40\n",
      "4/4 [==============================] - 0s 2ms/step - loss: 5.8760e-04\n",
      "Epoch 29/40\n",
      "4/4 [==============================] - 0s 2ms/step - loss: 5.7262e-04\n",
      "Epoch 30/40\n",
      "4/4 [==============================] - 0s 3ms/step - loss: 3.5130e-04\n",
      "Epoch 31/40\n",
      "4/4 [==============================] - 0s 2ms/step - loss: 3.0198e-04\n",
      "Epoch 32/40\n",
      "4/4 [==============================] - 0s 2ms/step - loss: 2.6162e-04\n",
      "Epoch 33/40\n",
      "4/4 [==============================] - 0s 2ms/step - loss: 2.7661e-04\n",
      "Epoch 34/40\n",
      "4/4 [==============================] - 0s 2ms/step - loss: 0.0043\n",
      "Epoch 35/40\n",
      "4/4 [==============================] - 0s 3ms/step - loss: 1.8990e-04\n",
      "Epoch 36/40\n",
      "4/4 [==============================] - 0s 2ms/step - loss: 1.8970e-04\n",
      "Epoch 37/40\n",
      "4/4 [==============================] - 0s 2ms/step - loss: 1.7779e-04\n",
      "Epoch 38/40\n",
      "4/4 [==============================] - 0s 965us/step - loss: 1.6944e-04\n",
      "Epoch 39/40\n",
      "4/4 [==============================] - 0s 0s/step - loss: 1.8604e-04\n",
      "Epoch 40/40\n",
      "4/4 [==============================] - 0s 2ms/step - loss: 1.8180e-04\n"
     ]
    },
    {
     "data": {
      "text/plain": "<keras.src.callbacks.History at 0x1ed3170a690>"
     },
     "execution_count": 2,
     "metadata": {},
     "output_type": "execute_result"
    }
   ],
   "source": [
    "iris = load_iris()\n",
    "\n",
    "sepal_length = iris.data[0:99, 0]\n",
    "petal_length = iris.data[0:99, 2]\n",
    "flower_type = iris.target[0:99]\n",
    "\n",
    "x = np.column_stack((sepal_length, petal_length))\n",
    "y = flower_type\n",
    "\n",
    "np.random.seed(5)\n",
    "tf.random.set_seed(5)\n",
    "random.seed(5)\n",
    "\n",
    "model = Sequential()\n",
    "model.add(Dense(60, activation='relu', input_dim=2))\n",
    "model.add(Dense(120, activation='relu'))\n",
    "model.add(Dense(60, activation='relu'))\n",
    "model.add(Dense(1, activation='sigmoid'))\n",
    "model.compile(loss='mean_squared_error')\n",
    "\n",
    "model.fit(x, y, epochs=40)"
   ],
   "metadata": {
    "collapsed": false,
    "ExecuteTime": {
     "end_time": "2023-10-04T17:22:03.128967400Z",
     "start_time": "2023-10-04T17:22:02.229518700Z"
    }
   },
   "id": "408e176724c36e7b"
  },
  {
   "cell_type": "code",
   "execution_count": 3,
   "outputs": [
    {
     "name": "stdout",
     "output_type": "stream",
     "text": [
      "1/1 [==============================] - 0s 58ms/step\n",
      "[[0.00629513]]\n",
      "1/1 [==============================] - 0s 38ms/step\n",
      "[[0.00785411]]\n",
      "1/1 [==============================] - 0s 31ms/step\n",
      "[[0.00912794]]\n",
      "1/1 [==============================] - 0s 31ms/step\n",
      "[[0.012678]]\n",
      "1/1 [==============================] - 0s 24ms/step\n",
      "[[0.00703084]]\n",
      "1/1 [==============================] - 0s 27ms/step\n",
      "[[0.9987308]]\n",
      "1/1 [==============================] - 0s 28ms/step\n",
      "[[0.9989871]]\n",
      "1/1 [==============================] - 0s 29ms/step\n",
      "[[0.9989871]]\n",
      "1/1 [==============================] - 0s 33ms/step\n",
      "[[0.99847865]]\n",
      "1/1 [==============================] - 0s 30ms/step\n",
      "[[0.91656464]]\n"
     ]
    }
   ],
   "source": [
    "print(model.predict([[5.1, 1.4]]))\n",
    "print(model.predict([[4.9, 1.4]]))\n",
    "print(model.predict([[4.7, 1.3]]))\n",
    "print(model.predict([[4.6, 1.5]]))\n",
    "print(model.predict([[5.0, 1.4]]))\n",
    "print(model.predict([[5.6, 4.1]]))\n",
    "print(model.predict([[5.7, 4.2]]))\n",
    "print(model.predict([[5.7, 4.2]]))\n",
    "print(model.predict([[6.2, 4.3]]))\n",
    "print(model.predict([[5.1, 3.0]]))"
   ],
   "metadata": {
    "collapsed": false,
    "ExecuteTime": {
     "end_time": "2023-10-04T17:22:08.409967400Z",
     "start_time": "2023-10-04T17:22:07.871354900Z"
    }
   },
   "id": "655125f77b658734"
  }
 ],
 "metadata": {
  "kernelspec": {
   "display_name": "Python 3",
   "language": "python",
   "name": "python3"
  },
  "language_info": {
   "codemirror_mode": {
    "name": "ipython",
    "version": 2
   },
   "file_extension": ".py",
   "mimetype": "text/x-python",
   "name": "python",
   "nbconvert_exporter": "python",
   "pygments_lexer": "ipython2",
   "version": "2.7.6"
  }
 },
 "nbformat": 4,
 "nbformat_minor": 5
}
