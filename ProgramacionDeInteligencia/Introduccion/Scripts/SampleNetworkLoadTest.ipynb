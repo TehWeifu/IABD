{
 "cells": [
  {
   "cell_type": "code",
   "execution_count": 204,
   "id": "initial_id",
   "metadata": {
    "collapsed": true,
    "ExecuteTime": {
     "end_time": "2023-10-19T15:28:47.384211600Z",
     "start_time": "2023-10-19T15:28:47.368361800Z"
    }
   },
   "outputs": [],
   "source": [
    "import numpy as np\n",
    "import pandas as pd\n",
    "import tensorflow as tf\n",
    "import matplotlib.pyplot as plt\n",
    "from keras.models import Sequential\n",
    "from keras.layers import Dense\n",
    "from sklearn.datasets import load_iris\n",
    "from matplotlib.colors import LightSource\n",
    "import random\n",
    "\n",
    "import time"
   ]
  },
  {
   "cell_type": "code",
   "execution_count": 205,
   "outputs": [
    {
     "name": "stdout",
     "output_type": "stream",
     "text": [
      "3.10.13 | packaged by Anaconda, Inc. | (main, Sep 11 2023, 13:15:57) [MSC v.1916 64 bit (AMD64)]\n"
     ]
    }
   ],
   "source": [
    "import sys\n",
    "\n",
    "print(sys.version)"
   ],
   "metadata": {
    "collapsed": false,
    "ExecuteTime": {
     "end_time": "2023-10-19T15:28:47.384211600Z",
     "start_time": "2023-10-19T15:28:47.372448900Z"
    }
   },
   "id": "fd3da3d84345ea63"
  },
  {
   "cell_type": "code",
   "execution_count": 206,
   "outputs": [
    {
     "name": "stdout",
     "output_type": "stream",
     "text": [
      "2.10.0\n"
     ]
    }
   ],
   "source": [
    "import tensorflow as tf\n",
    "\n",
    "print(tf.__version__)"
   ],
   "metadata": {
    "collapsed": false,
    "ExecuteTime": {
     "end_time": "2023-10-19T15:28:47.401553700Z",
     "start_time": "2023-10-19T15:28:47.381145Z"
    }
   },
   "id": "e3807dd5fa59c931"
  },
  {
   "cell_type": "code",
   "execution_count": 207,
   "outputs": [
    {
     "data": {
      "text/plain": "<matplotlib.collections.PathCollection at 0x172634457e0>"
     },
     "execution_count": 207,
     "metadata": {},
     "output_type": "execute_result"
    },
    {
     "data": {
      "text/plain": "<Figure size 640x480 with 1 Axes>",
      "image/png": "[encoded data removed]"
     },
     "metadata": {},
     "output_type": "display_data"
    }
   ],
   "source": [
    "import matplotlib.pyplot as plt\n",
    "import numpy as np\n",
    "\n",
    "figure = plt.figure()\n",
    "axes = figure.add_subplot()\n",
    "\n",
    "x = np.array([0, 1, 2, 3, 4, 5, 6])\n",
    "y = np.array([0, 1, 4, 9, 16, 25, 36])\n",
    "\n",
    "axes.scatter(x, y)"
   ],
   "metadata": {
    "collapsed": false,
    "ExecuteTime": {
     "end_time": "2023-10-19T15:28:47.513602600Z",
     "start_time": "2023-10-19T15:28:47.387286700Z"
    }
   },
   "id": "87c60b656dd6456a"
  },
  {
   "cell_type": "code",
   "execution_count": 208,
   "id": "408e176724c36e7b",
   "metadata": {
    "collapsed": false,
    "ExecuteTime": {
     "end_time": "2023-10-19T15:28:48.518828Z",
     "start_time": "2023-10-19T15:28:47.514625500Z"
    }
   },
   "outputs": [
    {
     "name": "stdout",
     "output_type": "stream",
     "text": [
      "Epoch 1/40\n",
      "4/4 [==============================] - 1s 2ms/step - loss: 0.2401\n",
      "Epoch 2/40\n",
      "4/4 [==============================] - 0s 2ms/step - loss: 0.2344\n",
      "Epoch 3/40\n",
      "4/4 [==============================] - 0s 2ms/step - loss: 0.2316\n",
      "Epoch 4/40\n",
      "4/4 [==============================] - 0s 2ms/step - loss: 0.2288\n",
      "Epoch 5/40\n",
      "4/4 [==============================] - 0s 2ms/step - loss: 0.2274\n",
      "Epoch 6/40\n",
      "4/4 [==============================] - 0s 2ms/step - loss: 0.2257\n",
      "Epoch 7/40\n",
      "4/4 [==============================] - 0s 2ms/step - loss: 0.2233\n",
      "Epoch 8/40\n",
      "4/4 [==============================] - 0s 2ms/step - loss: 0.2217\n",
      "Epoch 9/40\n",
      "4/4 [==============================] - 0s 2ms/step - loss: 0.2205\n",
      "Epoch 10/40\n",
      "4/4 [==============================] - 0s 4ms/step - loss: 0.2175\n",
      "Epoch 11/40\n",
      "4/4 [==============================] - 0s 2ms/step - loss: 0.2157\n",
      "Epoch 12/40\n",
      "4/4 [==============================] - 0s 2ms/step - loss: 0.2133\n",
      "Epoch 13/40\n",
      "4/4 [==============================] - 0s 2ms/step - loss: 0.2116\n",
      "Epoch 14/40\n",
      "4/4 [==============================] - 0s 2ms/step - loss: 0.2094\n",
      "Epoch 15/40\n",
      "4/4 [==============================] - 0s 2ms/step - loss: 0.2070\n",
      "Epoch 16/40\n",
      "4/4 [==============================] - 0s 2ms/step - loss: 0.2049\n",
      "Epoch 17/40\n",
      "4/4 [==============================] - 0s 2ms/step - loss: 0.2031\n",
      "Epoch 18/40\n",
      "4/4 [==============================] - 0s 2ms/step - loss: 0.2001\n",
      "Epoch 19/40\n",
      "4/4 [==============================] - 0s 2ms/step - loss: 0.1975\n",
      "Epoch 20/40\n",
      "4/4 [==============================] - 0s 2ms/step - loss: 0.1957\n",
      "Epoch 21/40\n",
      "4/4 [==============================] - 0s 2ms/step - loss: 0.1933\n",
      "Epoch 22/40\n",
      "4/4 [==============================] - 0s 2ms/step - loss: 0.1898\n",
      "Epoch 23/40\n",
      "4/4 [==============================] - 0s 2ms/step - loss: 0.1876\n",
      "Epoch 24/40\n",
      "4/4 [==============================] - 0s 1ms/step - loss: 0.1853\n",
      "Epoch 25/40\n",
      "4/4 [==============================] - 0s 2ms/step - loss: 0.1825\n",
      "Epoch 26/40\n",
      "4/4 [==============================] - 0s 1ms/step - loss: 0.1801\n",
      "Epoch 27/40\n",
      "4/4 [==============================] - 0s 2ms/step - loss: 0.1770\n",
      "Epoch 28/40\n",
      "4/4 [==============================] - 0s 1ms/step - loss: 0.1741\n",
      "Epoch 29/40\n",
      "4/4 [==============================] - 0s 1ms/step - loss: 0.1713\n",
      "Epoch 30/40\n",
      "4/4 [==============================] - 0s 2ms/step - loss: 0.1683\n",
      "Epoch 31/40\n",
      "4/4 [==============================] - 0s 2ms/step - loss: 0.1653\n",
      "Epoch 32/40\n",
      "4/4 [==============================] - 0s 1ms/step - loss: 0.1627\n",
      "Epoch 33/40\n",
      "4/4 [==============================] - 0s 2ms/step - loss: 0.1588\n",
      "Epoch 34/40\n",
      "4/4 [==============================] - 0s 2ms/step - loss: 0.1567\n",
      "Epoch 35/40\n",
      "4/4 [==============================] - 0s 2ms/step - loss: 0.1529\n",
      "Epoch 36/40\n",
      "4/4 [==============================] - 0s 1ms/step - loss: 0.1501\n",
      "Epoch 37/40\n",
      "4/4 [==============================] - 0s 1ms/step - loss: 0.1471\n",
      "Epoch 38/40\n",
      "4/4 [==============================] - 0s 2ms/step - loss: 0.1449\n",
      "Epoch 39/40\n",
      "4/4 [==============================] - 0s 2ms/step - loss: 0.1414\n",
      "Epoch 40/40\n",
      "4/4 [==============================] - 0s 2ms/step - loss: 0.1385\n"
     ]
    },
    {
     "data": {
      "text/plain": "<keras.callbacks.History at 0x17263ada9e0>"
     },
     "execution_count": 208,
     "metadata": {},
     "output_type": "execute_result"
    }
   ],
   "source": [
    "iris = load_iris()\n",
    "\n",
    "sepal_length = iris.data[0:100, 0]\n",
    "petal_length = iris.data[0:100, 2]\n",
    "flower_type = iris.target[0:100]\n",
    "\n",
    "x = np.column_stack((sepal_length, petal_length))\n",
    "y = flower_type\n",
    "\n",
    "tf.keras.utils.set_random_seed(5)\n",
    "\n",
    "np.random.seed(5)\n",
    "tf.random.set_seed(5)\n",
    "random.seed(5)\n",
    "\n",
    "model = Sequential()\n",
    "model.add(Dense(6, activation='relu', input_dim=2))\n",
    "model.add(Dense(12, activation='relu'))\n",
    "model.add(Dense(6, activation='relu'))\n",
    "model.add(Dense(1, activation='sigmoid'))\n",
    "model.compile(loss='mean_squared_error')\n",
    "\n",
    "model.fit(x, y, epochs=40)"
   ]
  },
  {
   "cell_type": "code",
   "execution_count": 209,
   "id": "655125f77b658734",
   "metadata": {
    "collapsed": false,
    "ExecuteTime": {
     "end_time": "2023-10-19T15:28:48.833251300Z",
     "start_time": "2023-10-19T15:28:48.518313100Z"
    }
   },
   "outputs": [
    {
     "name": "stdout",
     "output_type": "stream",
     "text": [
      "1/1 [==============================] - 0s 84ms/step\n",
      "[[0.751234  ]\n",
      " [0.42478848]]\n",
      "1/1 [==============================] - 0s 40ms/step\n",
      "[[0.751234]]\n",
      "1/1 [==============================] - 0s 34ms/step\n",
      "[[0.42478842]]\n"
     ]
    }
   ],
   "source": [
    "print(model.predict([[6.3, 4.9], [4.9, 1.4]]))\n",
    "print(model.predict([[6.3, 4.9]]))\n",
    "print(model.predict([[4.9, 1.4]]))"
   ]
  },
  {
   "cell_type": "code",
   "execution_count": 210,
   "outputs": [
    {
     "name": "stdout",
     "output_type": "stream",
     "text": [
      "There are a total of 102,400 predictions to make\n"
     ]
    }
   ],
   "source": [
    "subjects_to_predict = np.column_stack((sepal_length, petal_length))\n",
    "\n",
    "for i in range(0, 10):\n",
    "    subjects_to_predict = np.concatenate((subjects_to_predict, subjects_to_predict))\n",
    "\n",
    "print(f\"There are a total of {len(subjects_to_predict):,} predictions to make\")"
   ],
   "metadata": {
    "collapsed": false,
    "ExecuteTime": {
     "end_time": "2023-10-19T15:28:48.840913900Z",
     "start_time": "2023-10-19T15:28:48.831206300Z"
    }
   },
   "id": "117aff10c3868f04"
  },
  {
   "cell_type": "code",
   "execution_count": 211,
   "outputs": [
    {
     "name": "stdout",
     "output_type": "stream",
     "text": [
      "Making predictions with a single statement and passing all data in a matrix\n",
      "It took $3.448872 seconds to complete\n"
     ]
    }
   ],
   "source": [
    "print(\"Making predictions with a single statement and passing all data in a matrix\")\n",
    "timestamp_before = time.time_ns()\n",
    "model.predict(subjects_to_predict, verbose=0)\n",
    "timestamp_after = time.time_ns()\n",
    "\n",
    "elapsed_time = timestamp_after - timestamp_before\n",
    "print(f\"It took ${elapsed_time / 1_000_000_000} seconds to complete\", sep='')"
   ],
   "metadata": {
    "collapsed": false,
    "ExecuteTime": {
     "end_time": "2023-10-19T15:28:52.298484600Z",
     "start_time": "2023-10-19T15:28:48.841935200Z"
    }
   },
   "id": "6629cbb1951f4f6d"
  },
  {
   "cell_type": "code",
   "execution_count": 212,
   "outputs": [
    {
     "name": "stdout",
     "output_type": "stream",
     "text": [
      "Making predictions with several statements passing subjects individually\n"
     ]
    },
    {
     "ename": "KeyboardInterrupt",
     "evalue": "",
     "output_type": "error",
     "traceback": [
      "\u001B[1;31m---------------------------------------------------------------------------\u001B[0m",
      "\u001B[1;31mKeyboardInterrupt\u001B[0m                         Traceback (most recent call last)",
      "Cell \u001B[1;32mIn[212], line 6\u001B[0m\n\u001B[0;32m      3\u001B[0m timestamp_before \u001B[38;5;241m=\u001B[39m time\u001B[38;5;241m.\u001B[39mtime_ns()\n\u001B[0;32m      5\u001B[0m \u001B[38;5;28;01mfor\u001B[39;00m subject \u001B[38;5;129;01min\u001B[39;00m subjects_to_predict:\n\u001B[1;32m----> 6\u001B[0m     \u001B[43mmodel\u001B[49m\u001B[38;5;241;43m.\u001B[39;49m\u001B[43mpredict\u001B[49m\u001B[43m(\u001B[49m\u001B[43m[\u001B[49m\u001B[43msubject\u001B[49m\u001B[38;5;241;43m.\u001B[39;49m\u001B[43mtolist\u001B[49m\u001B[43m(\u001B[49m\u001B[43m)\u001B[49m\u001B[43m]\u001B[49m\u001B[43m,\u001B[49m\u001B[43m \u001B[49m\u001B[43mverbose\u001B[49m\u001B[38;5;241;43m=\u001B[39;49m\u001B[38;5;241;43m0\u001B[39;49m\u001B[43m)\u001B[49m\n\u001B[0;32m      8\u001B[0m timestamp_after \u001B[38;5;241m=\u001B[39m time\u001B[38;5;241m.\u001B[39mtime_ns()\n\u001B[0;32m     10\u001B[0m elapsed_time \u001B[38;5;241m=\u001B[39m timestamp_after \u001B[38;5;241m-\u001B[39m timestamp_before\n",
      "File \u001B[1;32mC:\\ProgramData\\miniconda3\\envs\\tf_env\\lib\\site-packages\\keras\\utils\\traceback_utils.py:65\u001B[0m, in \u001B[0;36mfilter_traceback.<locals>.error_handler\u001B[1;34m(*args, **kwargs)\u001B[0m\n\u001B[0;32m     63\u001B[0m filtered_tb \u001B[38;5;241m=\u001B[39m \u001B[38;5;28;01mNone\u001B[39;00m\n\u001B[0;32m     64\u001B[0m \u001B[38;5;28;01mtry\u001B[39;00m:\n\u001B[1;32m---> 65\u001B[0m     \u001B[38;5;28;01mreturn\u001B[39;00m fn(\u001B[38;5;241m*\u001B[39margs, \u001B[38;5;241m*\u001B[39m\u001B[38;5;241m*\u001B[39mkwargs)\n\u001B[0;32m     66\u001B[0m \u001B[38;5;28;01mexcept\u001B[39;00m \u001B[38;5;167;01mException\u001B[39;00m \u001B[38;5;28;01mas\u001B[39;00m e:\n\u001B[0;32m     67\u001B[0m     filtered_tb \u001B[38;5;241m=\u001B[39m _process_traceback_frames(e\u001B[38;5;241m.\u001B[39m__traceback__)\n",
      "File \u001B[1;32mC:\\ProgramData\\miniconda3\\envs\\tf_env\\lib\\site-packages\\keras\\engine\\training.py:2220\u001B[0m, in \u001B[0;36mModel.predict\u001B[1;34m(self, x, batch_size, verbose, steps, callbacks, max_queue_size, workers, use_multiprocessing)\u001B[0m\n\u001B[0;32m   2211\u001B[0m     \u001B[38;5;28;01mexcept\u001B[39;00m \u001B[38;5;167;01mValueError\u001B[39;00m:\n\u001B[0;32m   2212\u001B[0m         warnings\u001B[38;5;241m.\u001B[39mwarn(\n\u001B[0;32m   2213\u001B[0m             \u001B[38;5;124m\"\u001B[39m\u001B[38;5;124mUsing Model.predict with MultiWorkerMirroredStrategy \u001B[39m\u001B[38;5;124m\"\u001B[39m\n\u001B[0;32m   2214\u001B[0m             \u001B[38;5;124m\"\u001B[39m\u001B[38;5;124mor TPUStrategy and AutoShardPolicy.FILE might lead to \u001B[39m\u001B[38;5;124m\"\u001B[39m\n\u001B[1;32m   (...)\u001B[0m\n\u001B[0;32m   2217\u001B[0m             stacklevel\u001B[38;5;241m=\u001B[39m\u001B[38;5;241m2\u001B[39m,\n\u001B[0;32m   2218\u001B[0m         )\n\u001B[1;32m-> 2220\u001B[0m data_handler \u001B[38;5;241m=\u001B[39m \u001B[43mdata_adapter\u001B[49m\u001B[38;5;241;43m.\u001B[39;49m\u001B[43mget_data_handler\u001B[49m\u001B[43m(\u001B[49m\n\u001B[0;32m   2221\u001B[0m \u001B[43m    \u001B[49m\u001B[43mx\u001B[49m\u001B[38;5;241;43m=\u001B[39;49m\u001B[43mx\u001B[49m\u001B[43m,\u001B[49m\n\u001B[0;32m   2222\u001B[0m \u001B[43m    \u001B[49m\u001B[43mbatch_size\u001B[49m\u001B[38;5;241;43m=\u001B[39;49m\u001B[43mbatch_size\u001B[49m\u001B[43m,\u001B[49m\n\u001B[0;32m   2223\u001B[0m \u001B[43m    \u001B[49m\u001B[43msteps_per_epoch\u001B[49m\u001B[38;5;241;43m=\u001B[39;49m\u001B[43msteps\u001B[49m\u001B[43m,\u001B[49m\n\u001B[0;32m   2224\u001B[0m \u001B[43m    \u001B[49m\u001B[43minitial_epoch\u001B[49m\u001B[38;5;241;43m=\u001B[39;49m\u001B[38;5;241;43m0\u001B[39;49m\u001B[43m,\u001B[49m\n\u001B[0;32m   2225\u001B[0m \u001B[43m    \u001B[49m\u001B[43mepochs\u001B[49m\u001B[38;5;241;43m=\u001B[39;49m\u001B[38;5;241;43m1\u001B[39;49m\u001B[43m,\u001B[49m\n\u001B[0;32m   2226\u001B[0m \u001B[43m    \u001B[49m\u001B[43mmax_queue_size\u001B[49m\u001B[38;5;241;43m=\u001B[39;49m\u001B[43mmax_queue_size\u001B[49m\u001B[43m,\u001B[49m\n\u001B[0;32m   2227\u001B[0m \u001B[43m    \u001B[49m\u001B[43mworkers\u001B[49m\u001B[38;5;241;43m=\u001B[39;49m\u001B[43mworkers\u001B[49m\u001B[43m,\u001B[49m\n\u001B[0;32m   2228\u001B[0m \u001B[43m    \u001B[49m\u001B[43muse_multiprocessing\u001B[49m\u001B[38;5;241;43m=\u001B[39;49m\u001B[43muse_multiprocessing\u001B[49m\u001B[43m,\u001B[49m\n\u001B[0;32m   2229\u001B[0m \u001B[43m    \u001B[49m\u001B[43mmodel\u001B[49m\u001B[38;5;241;43m=\u001B[39;49m\u001B[38;5;28;43mself\u001B[39;49m\u001B[43m,\u001B[49m\n\u001B[0;32m   2230\u001B[0m \u001B[43m    \u001B[49m\u001B[43msteps_per_execution\u001B[49m\u001B[38;5;241;43m=\u001B[39;49m\u001B[38;5;28;43mself\u001B[39;49m\u001B[38;5;241;43m.\u001B[39;49m\u001B[43m_steps_per_execution\u001B[49m\u001B[43m,\u001B[49m\n\u001B[0;32m   2231\u001B[0m \u001B[43m\u001B[49m\u001B[43m)\u001B[49m\n\u001B[0;32m   2233\u001B[0m \u001B[38;5;66;03m# Container that configures and calls `tf.keras.Callback`s.\u001B[39;00m\n\u001B[0;32m   2234\u001B[0m \u001B[38;5;28;01mif\u001B[39;00m \u001B[38;5;129;01mnot\u001B[39;00m \u001B[38;5;28misinstance\u001B[39m(callbacks, callbacks_module\u001B[38;5;241m.\u001B[39mCallbackList):\n",
      "File \u001B[1;32mC:\\ProgramData\\miniconda3\\envs\\tf_env\\lib\\site-packages\\keras\\engine\\data_adapter.py:1582\u001B[0m, in \u001B[0;36mget_data_handler\u001B[1;34m(*args, **kwargs)\u001B[0m\n\u001B[0;32m   1580\u001B[0m \u001B[38;5;28;01mif\u001B[39;00m \u001B[38;5;28mgetattr\u001B[39m(kwargs[\u001B[38;5;124m\"\u001B[39m\u001B[38;5;124mmodel\u001B[39m\u001B[38;5;124m\"\u001B[39m], \u001B[38;5;124m\"\u001B[39m\u001B[38;5;124m_cluster_coordinator\u001B[39m\u001B[38;5;124m\"\u001B[39m, \u001B[38;5;28;01mNone\u001B[39;00m):\n\u001B[0;32m   1581\u001B[0m     \u001B[38;5;28;01mreturn\u001B[39;00m _ClusterCoordinatorDataHandler(\u001B[38;5;241m*\u001B[39margs, \u001B[38;5;241m*\u001B[39m\u001B[38;5;241m*\u001B[39mkwargs)\n\u001B[1;32m-> 1582\u001B[0m \u001B[38;5;28;01mreturn\u001B[39;00m DataHandler(\u001B[38;5;241m*\u001B[39margs, \u001B[38;5;241m*\u001B[39m\u001B[38;5;241m*\u001B[39mkwargs)\n",
      "File \u001B[1;32mC:\\ProgramData\\miniconda3\\envs\\tf_env\\lib\\site-packages\\keras\\engine\\data_adapter.py:1262\u001B[0m, in \u001B[0;36mDataHandler.__init__\u001B[1;34m(self, x, y, sample_weight, batch_size, steps_per_epoch, initial_epoch, epochs, shuffle, class_weight, max_queue_size, workers, use_multiprocessing, model, steps_per_execution, distribute)\u001B[0m\n\u001B[0;32m   1259\u001B[0m     \u001B[38;5;28mself\u001B[39m\u001B[38;5;241m.\u001B[39m_steps_per_execution \u001B[38;5;241m=\u001B[39m steps_per_execution\n\u001B[0;32m   1261\u001B[0m adapter_cls \u001B[38;5;241m=\u001B[39m select_data_adapter(x, y)\n\u001B[1;32m-> 1262\u001B[0m \u001B[38;5;28mself\u001B[39m\u001B[38;5;241m.\u001B[39m_adapter \u001B[38;5;241m=\u001B[39m \u001B[43madapter_cls\u001B[49m\u001B[43m(\u001B[49m\n\u001B[0;32m   1263\u001B[0m \u001B[43m    \u001B[49m\u001B[43mx\u001B[49m\u001B[43m,\u001B[49m\n\u001B[0;32m   1264\u001B[0m \u001B[43m    \u001B[49m\u001B[43my\u001B[49m\u001B[43m,\u001B[49m\n\u001B[0;32m   1265\u001B[0m \u001B[43m    \u001B[49m\u001B[43mbatch_size\u001B[49m\u001B[38;5;241;43m=\u001B[39;49m\u001B[43mbatch_size\u001B[49m\u001B[43m,\u001B[49m\n\u001B[0;32m   1266\u001B[0m \u001B[43m    \u001B[49m\u001B[43msteps\u001B[49m\u001B[38;5;241;43m=\u001B[39;49m\u001B[43msteps_per_epoch\u001B[49m\u001B[43m,\u001B[49m\n\u001B[0;32m   1267\u001B[0m \u001B[43m    \u001B[49m\u001B[43mepochs\u001B[49m\u001B[38;5;241;43m=\u001B[39;49m\u001B[43mepochs\u001B[49m\u001B[43m \u001B[49m\u001B[38;5;241;43m-\u001B[39;49m\u001B[43m \u001B[49m\u001B[43minitial_epoch\u001B[49m\u001B[43m,\u001B[49m\n\u001B[0;32m   1268\u001B[0m \u001B[43m    \u001B[49m\u001B[43msample_weights\u001B[49m\u001B[38;5;241;43m=\u001B[39;49m\u001B[43msample_weight\u001B[49m\u001B[43m,\u001B[49m\n\u001B[0;32m   1269\u001B[0m \u001B[43m    \u001B[49m\u001B[43mshuffle\u001B[49m\u001B[38;5;241;43m=\u001B[39;49m\u001B[43mshuffle\u001B[49m\u001B[43m,\u001B[49m\n\u001B[0;32m   1270\u001B[0m \u001B[43m    \u001B[49m\u001B[43mmax_queue_size\u001B[49m\u001B[38;5;241;43m=\u001B[39;49m\u001B[43mmax_queue_size\u001B[49m\u001B[43m,\u001B[49m\n\u001B[0;32m   1271\u001B[0m \u001B[43m    \u001B[49m\u001B[43mworkers\u001B[49m\u001B[38;5;241;43m=\u001B[39;49m\u001B[43mworkers\u001B[49m\u001B[43m,\u001B[49m\n\u001B[0;32m   1272\u001B[0m \u001B[43m    \u001B[49m\u001B[43muse_multiprocessing\u001B[49m\u001B[38;5;241;43m=\u001B[39;49m\u001B[43muse_multiprocessing\u001B[49m\u001B[43m,\u001B[49m\n\u001B[0;32m   1273\u001B[0m \u001B[43m    \u001B[49m\u001B[43mdistribution_strategy\u001B[49m\u001B[38;5;241;43m=\u001B[39;49m\u001B[43mtf\u001B[49m\u001B[38;5;241;43m.\u001B[39;49m\u001B[43mdistribute\u001B[49m\u001B[38;5;241;43m.\u001B[39;49m\u001B[43mget_strategy\u001B[49m\u001B[43m(\u001B[49m\u001B[43m)\u001B[49m\u001B[43m,\u001B[49m\n\u001B[0;32m   1274\u001B[0m \u001B[43m    \u001B[49m\u001B[43mmodel\u001B[49m\u001B[38;5;241;43m=\u001B[39;49m\u001B[43mmodel\u001B[49m\u001B[43m,\u001B[49m\n\u001B[0;32m   1275\u001B[0m \u001B[43m\u001B[49m\u001B[43m)\u001B[49m\n\u001B[0;32m   1277\u001B[0m strategy \u001B[38;5;241m=\u001B[39m tf\u001B[38;5;241m.\u001B[39mdistribute\u001B[38;5;241m.\u001B[39mget_strategy()\n\u001B[0;32m   1279\u001B[0m \u001B[38;5;28mself\u001B[39m\u001B[38;5;241m.\u001B[39m_current_step \u001B[38;5;241m=\u001B[39m \u001B[38;5;241m0\u001B[39m\n",
      "File \u001B[1;32mC:\\ProgramData\\miniconda3\\envs\\tf_env\\lib\\site-packages\\keras\\engine\\data_adapter.py:716\u001B[0m, in \u001B[0;36mListsOfScalarsDataAdapter.__init__\u001B[1;34m(self, x, y, sample_weights, sample_weight_modes, batch_size, shuffle, **kwargs)\u001B[0m\n\u001B[0;32m    711\u001B[0m     sample_weights \u001B[38;5;241m=\u001B[39m np\u001B[38;5;241m.\u001B[39masarray(sample_weights)\n\u001B[0;32m    712\u001B[0m sample_weight_modes \u001B[38;5;241m=\u001B[39m broadcast_sample_weight_modes(\n\u001B[0;32m    713\u001B[0m     sample_weights, sample_weight_modes\n\u001B[0;32m    714\u001B[0m )\n\u001B[1;32m--> 716\u001B[0m \u001B[38;5;28mself\u001B[39m\u001B[38;5;241m.\u001B[39m_internal_adapter \u001B[38;5;241m=\u001B[39m TensorLikeDataAdapter(\n\u001B[0;32m    717\u001B[0m     x,\n\u001B[0;32m    718\u001B[0m     y\u001B[38;5;241m=\u001B[39my,\n\u001B[0;32m    719\u001B[0m     sample_weights\u001B[38;5;241m=\u001B[39msample_weights,\n\u001B[0;32m    720\u001B[0m     sample_weight_modes\u001B[38;5;241m=\u001B[39msample_weight_modes,\n\u001B[0;32m    721\u001B[0m     batch_size\u001B[38;5;241m=\u001B[39mbatch_size,\n\u001B[0;32m    722\u001B[0m     shuffle\u001B[38;5;241m=\u001B[39mshuffle,\n\u001B[0;32m    723\u001B[0m     \u001B[38;5;241m*\u001B[39m\u001B[38;5;241m*\u001B[39mkwargs\n\u001B[0;32m    724\u001B[0m )\n",
      "File \u001B[1;32mC:\\ProgramData\\miniconda3\\envs\\tf_env\\lib\\site-packages\\keras\\engine\\data_adapter.py:362\u001B[0m, in \u001B[0;36mTensorLikeDataAdapter.__init__\u001B[1;34m(self, x, y, sample_weights, sample_weight_modes, batch_size, epochs, steps, shuffle, **kwargs)\u001B[0m\n\u001B[0;32m    358\u001B[0m options \u001B[38;5;241m=\u001B[39m tf\u001B[38;5;241m.\u001B[39mdata\u001B[38;5;241m.\u001B[39mOptions()\n\u001B[0;32m    359\u001B[0m options\u001B[38;5;241m.\u001B[39mexperimental_distribute\u001B[38;5;241m.\u001B[39mauto_shard_policy \u001B[38;5;241m=\u001B[39m (\n\u001B[0;32m    360\u001B[0m     tf\u001B[38;5;241m.\u001B[39mdata\u001B[38;5;241m.\u001B[39mexperimental\u001B[38;5;241m.\u001B[39mAutoShardPolicy\u001B[38;5;241m.\u001B[39mDATA\n\u001B[0;32m    361\u001B[0m )\n\u001B[1;32m--> 362\u001B[0m dataset \u001B[38;5;241m=\u001B[39m \u001B[43mdataset\u001B[49m\u001B[38;5;241;43m.\u001B[39;49m\u001B[43mwith_options\u001B[49m\u001B[43m(\u001B[49m\u001B[43moptions\u001B[49m\u001B[43m)\u001B[49m\n\u001B[0;32m    364\u001B[0m \u001B[38;5;28mself\u001B[39m\u001B[38;5;241m.\u001B[39m_dataset \u001B[38;5;241m=\u001B[39m dataset\n",
      "File \u001B[1;32mC:\\ProgramData\\miniconda3\\envs\\tf_env\\lib\\site-packages\\tensorflow\\python\\data\\ops\\dataset_ops.py:2879\u001B[0m, in \u001B[0;36mDatasetV2.with_options\u001B[1;34m(self, options, name)\u001B[0m\n\u001B[0;32m   2853\u001B[0m \u001B[38;5;28;01mdef\u001B[39;00m \u001B[38;5;21mwith_options\u001B[39m(\u001B[38;5;28mself\u001B[39m, options, name\u001B[38;5;241m=\u001B[39m\u001B[38;5;28;01mNone\u001B[39;00m):\n\u001B[0;32m   2854\u001B[0m \u001B[38;5;250m  \u001B[39m\u001B[38;5;124;03m\"\"\"Returns a new `tf.data.Dataset` with the given options set.\u001B[39;00m\n\u001B[0;32m   2855\u001B[0m \n\u001B[0;32m   2856\u001B[0m \u001B[38;5;124;03m  The options are \"global\" in the sense they apply to the entire dataset.\u001B[39;00m\n\u001B[1;32m   (...)\u001B[0m\n\u001B[0;32m   2877\u001B[0m \u001B[38;5;124;03m    ValueError: when an option is set more than once to a non-default value\u001B[39;00m\n\u001B[0;32m   2878\u001B[0m \u001B[38;5;124;03m  \"\"\"\u001B[39;00m\n\u001B[1;32m-> 2879\u001B[0m   \u001B[38;5;28;01mreturn\u001B[39;00m \u001B[43m_OptionsDataset\u001B[49m\u001B[43m(\u001B[49m\u001B[38;5;28;43mself\u001B[39;49m\u001B[43m,\u001B[49m\u001B[43m \u001B[49m\u001B[43moptions\u001B[49m\u001B[43m,\u001B[49m\u001B[43m \u001B[49m\u001B[43mname\u001B[49m\u001B[38;5;241;43m=\u001B[39;49m\u001B[43mname\u001B[49m\u001B[43m)\u001B[49m\n",
      "File \u001B[1;32mC:\\ProgramData\\miniconda3\\envs\\tf_env\\lib\\site-packages\\tensorflow\\python\\data\\ops\\dataset_ops.py:5736\u001B[0m, in \u001B[0;36m_OptionsDataset.__init__\u001B[1;34m(self, input_dataset, options, name)\u001B[0m\n\u001B[0;32m   5734\u001B[0m \u001B[38;5;28mself\u001B[39m\u001B[38;5;241m.\u001B[39m_name \u001B[38;5;241m=\u001B[39m name\n\u001B[0;32m   5735\u001B[0m \u001B[38;5;28;01mwith\u001B[39;00m ops\u001B[38;5;241m.\u001B[39mcolocate_with(input_dataset\u001B[38;5;241m.\u001B[39m_variant_tensor):\n\u001B[1;32m-> 5736\u001B[0m   variant_tensor \u001B[38;5;241m=\u001B[39m gen_dataset_ops\u001B[38;5;241m.\u001B[39moptions_dataset(\n\u001B[0;32m   5737\u001B[0m       input_dataset\u001B[38;5;241m.\u001B[39m_variant_tensor, options_pb\u001B[38;5;241m.\u001B[39mSerializeToString(),\n\u001B[0;32m   5738\u001B[0m       \u001B[38;5;241m*\u001B[39m\u001B[38;5;241m*\u001B[39m\u001B[38;5;28mself\u001B[39m\u001B[38;5;241m.\u001B[39m_common_args)\n\u001B[0;32m   5739\u001B[0m \u001B[38;5;28msuper\u001B[39m(_OptionsDataset, \u001B[38;5;28mself\u001B[39m)\u001B[38;5;241m.\u001B[39m\u001B[38;5;21m__init__\u001B[39m(input_dataset, variant_tensor)\n\u001B[0;32m   5741\u001B[0m \u001B[38;5;28;01mif\u001B[39;00m \u001B[38;5;28mself\u001B[39m\u001B[38;5;241m.\u001B[39m_options_attr:\n",
      "File \u001B[1;32mC:\\ProgramData\\miniconda3\\envs\\tf_env\\lib\\site-packages\\tensorflow\\python\\ops\\gen_dataset_ops.py:4821\u001B[0m, in \u001B[0;36moptions_dataset\u001B[1;34m(input_dataset, serialized_options, output_types, output_shapes, metadata, name)\u001B[0m\n\u001B[0;32m   4819\u001B[0m \u001B[38;5;28;01mif\u001B[39;00m tld\u001B[38;5;241m.\u001B[39mis_eager:\n\u001B[0;32m   4820\u001B[0m   \u001B[38;5;28;01mtry\u001B[39;00m:\n\u001B[1;32m-> 4821\u001B[0m     _result \u001B[38;5;241m=\u001B[39m \u001B[43mpywrap_tfe\u001B[49m\u001B[38;5;241;43m.\u001B[39;49m\u001B[43mTFE_Py_FastPathExecute\u001B[49m\u001B[43m(\u001B[49m\n\u001B[0;32m   4822\u001B[0m \u001B[43m      \u001B[49m\u001B[43m_ctx\u001B[49m\u001B[43m,\u001B[49m\u001B[43m \u001B[49m\u001B[38;5;124;43m\"\u001B[39;49m\u001B[38;5;124;43mOptionsDataset\u001B[39;49m\u001B[38;5;124;43m\"\u001B[39;49m\u001B[43m,\u001B[49m\u001B[43m \u001B[49m\u001B[43mname\u001B[49m\u001B[43m,\u001B[49m\u001B[43m \u001B[49m\u001B[43minput_dataset\u001B[49m\u001B[43m,\u001B[49m\u001B[43m \u001B[49m\u001B[38;5;124;43m\"\u001B[39;49m\u001B[38;5;124;43mserialized_options\u001B[39;49m\u001B[38;5;124;43m\"\u001B[39;49m\u001B[43m,\u001B[49m\n\u001B[0;32m   4823\u001B[0m \u001B[43m      \u001B[49m\u001B[43mserialized_options\u001B[49m\u001B[43m,\u001B[49m\u001B[43m \u001B[49m\u001B[38;5;124;43m\"\u001B[39;49m\u001B[38;5;124;43moutput_types\u001B[39;49m\u001B[38;5;124;43m\"\u001B[39;49m\u001B[43m,\u001B[49m\u001B[43m \u001B[49m\u001B[43moutput_types\u001B[49m\u001B[43m,\u001B[49m\u001B[43m \u001B[49m\u001B[38;5;124;43m\"\u001B[39;49m\u001B[38;5;124;43moutput_shapes\u001B[39;49m\u001B[38;5;124;43m\"\u001B[39;49m\u001B[43m,\u001B[49m\n\u001B[0;32m   4824\u001B[0m \u001B[43m      \u001B[49m\u001B[43moutput_shapes\u001B[49m\u001B[43m,\u001B[49m\u001B[43m \u001B[49m\u001B[38;5;124;43m\"\u001B[39;49m\u001B[38;5;124;43mmetadata\u001B[39;49m\u001B[38;5;124;43m\"\u001B[39;49m\u001B[43m,\u001B[49m\u001B[43m \u001B[49m\u001B[43mmetadata\u001B[49m\u001B[43m)\u001B[49m\n\u001B[0;32m   4825\u001B[0m     \u001B[38;5;28;01mreturn\u001B[39;00m _result\n\u001B[0;32m   4826\u001B[0m   \u001B[38;5;28;01mexcept\u001B[39;00m _core\u001B[38;5;241m.\u001B[39m_NotOkStatusException \u001B[38;5;28;01mas\u001B[39;00m e:\n",
      "\u001B[1;31mKeyboardInterrupt\u001B[0m: "
     ]
    }
   ],
   "source": [
    "print(\"Making predictions with several statements passing subjects individually\")\n",
    "\n",
    "timestamp_before = time.time_ns()\n",
    "\n",
    "for subject in subjects_to_predict:\n",
    "    model.predict([subject.tolist()], verbose=0)\n",
    "\n",
    "timestamp_after = time.time_ns()\n",
    "\n",
    "elapsed_time = timestamp_after - timestamp_before\n",
    "print(f\"It took ${elapsed_time / 1_000_000_000} seconds to complete\", sep='')"
   ],
   "metadata": {
    "collapsed": false,
    "ExecuteTime": {
     "end_time": "2023-10-19T15:36:56.525959Z",
     "start_time": "2023-10-19T15:28:52.296435100Z"
    }
   },
   "id": "9869e3827e960bec"
  }
 ],
 "metadata": {
  "kernelspec": {
   "display_name": "Python 3",
   "language": "python",
   "name": "python3"
  },
  "language_info": {
   "codemirror_mode": {
    "name": "ipython",
    "version": 3
   },
   "file_extension": ".py",
   "mimetype": "text/x-python",
   "name": "python",
   "nbconvert_exporter": "python",
   "pygments_lexer": "ipython3",
   "version": "3.11.5"
  }
 },
 "nbformat": 4,
 "nbformat_minor": 5
}
