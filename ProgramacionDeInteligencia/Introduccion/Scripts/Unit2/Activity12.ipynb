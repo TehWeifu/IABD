{
 "cells": [
  {
   "cell_type": "code",
   "execution_count": 95,
   "id": "initial_id",
   "metadata": {
    "collapsed": true,
    "ExecuteTime": {
     "end_time": "2023-10-18T17:55:49.226255600Z",
     "start_time": "2023-10-18T17:55:49.216978800Z"
    }
   },
   "outputs": [],
   "source": [
    "import numpy as np\n",
    "import pandas as pd\n",
    "import tensorflow as tf\n",
    "import matplotlib.pyplot as plt\n",
    "from keras.models import Sequential\n",
    "from keras.layers import Dense\n",
    "from sklearn.datasets import load_iris\n",
    "from matplotlib.colors import LightSource\n",
    "import random"
   ]
  },
  {
   "cell_type": "code",
   "execution_count": 96,
   "outputs": [
    {
     "name": "stdout",
     "output_type": "stream",
     "text": [
      "3.10.13 | packaged by Anaconda, Inc. | (main, Sep 11 2023, 13:15:57) [MSC v.1916 64 bit (AMD64)]\n"
     ]
    }
   ],
   "source": [
    "import sys\n",
    "\n",
    "print(sys.version)"
   ],
   "metadata": {
    "collapsed": false,
    "ExecuteTime": {
     "end_time": "2023-10-18T17:55:49.266595600Z",
     "start_time": "2023-10-18T17:55:49.226255600Z"
    }
   },
   "id": "fd3da3d84345ea63"
  },
  {
   "cell_type": "code",
   "execution_count": 97,
   "outputs": [
    {
     "name": "stdout",
     "output_type": "stream",
     "text": [
      "2.10.0\n"
     ]
    }
   ],
   "source": [
    "import tensorflow as tf\n",
    "\n",
    "print(tf.__version__)"
   ],
   "metadata": {
    "collapsed": false,
    "ExecuteTime": {
     "end_time": "2023-10-18T17:55:49.267665300Z",
     "start_time": "2023-10-18T17:55:49.240262300Z"
    }
   },
   "id": "e3807dd5fa59c931"
  },
  {
   "cell_type": "code",
   "execution_count": 98,
   "outputs": [
    {
     "data": {
      "text/plain": "<matplotlib.collections.PathCollection at 0x23d896b2e30>"
     },
     "execution_count": 98,
     "metadata": {},
     "output_type": "execute_result"
    },
    {
     "data": {
      "text/plain": "<Figure size 640x480 with 1 Axes>",
      "image/png": "[encoded data removed]"
     },
     "metadata": {},
     "output_type": "display_data"
    }
   ],
   "source": [
    "import matplotlib.pyplot as plt\n",
    "import numpy as np\n",
    "\n",
    "figure = plt.figure()\n",
    "axes = figure.add_subplot()\n",
    "\n",
    "x = np.array([0, 1, 2, 3, 4, 5, 6])\n",
    "y = np.array([0, 1, 4, 9, 16, 25, 36])\n",
    "\n",
    "axes.scatter(x, y)"
   ],
   "metadata": {
    "collapsed": false,
    "ExecuteTime": {
     "end_time": "2023-10-18T17:55:49.472689100Z",
     "start_time": "2023-10-18T17:55:49.295842400Z"
    }
   },
   "id": "87c60b656dd6456a"
  },
  {
   "cell_type": "code",
   "execution_count": 99,
   "id": "408e176724c36e7b",
   "metadata": {
    "collapsed": false,
    "ExecuteTime": {
     "end_time": "2023-10-18T17:55:51.036Z",
     "start_time": "2023-10-18T17:55:49.481556900Z"
    }
   },
   "outputs": [
    {
     "name": "stdout",
     "output_type": "stream",
     "text": [
      "Epoch 1/40\n",
      "4/4 [==============================] - 1s 3ms/step - loss: 0.2429\n",
      "Epoch 2/40\n",
      "4/4 [==============================] - 0s 3ms/step - loss: 0.2381\n",
      "Epoch 3/40\n",
      "4/4 [==============================] - 0s 680us/step - loss: 0.2355\n",
      "Epoch 4/40\n",
      "4/4 [==============================] - 0s 0s/step - loss: 0.2317\n",
      "Epoch 5/40\n",
      "4/4 [==============================] - 0s 0s/step - loss: 0.2287\n",
      "Epoch 6/40\n",
      "4/4 [==============================] - 0s 5ms/step - loss: 0.2274\n",
      "Epoch 7/40\n",
      "4/4 [==============================] - 0s 5ms/step - loss: 0.2247\n",
      "Epoch 8/40\n",
      "4/4 [==============================] - 0s 5ms/step - loss: 0.2218\n",
      "Epoch 9/40\n",
      "4/4 [==============================] - 0s 0s/step - loss: 0.2198\n",
      "Epoch 10/40\n",
      "4/4 [==============================] - 0s 862us/step - loss: 0.2185\n",
      "Epoch 11/40\n",
      "4/4 [==============================] - 0s 0s/step - loss: 0.2169\n",
      "Epoch 12/40\n",
      "4/4 [==============================] - 0s 0s/step - loss: 0.2149\n",
      "Epoch 13/40\n",
      "4/4 [==============================] - 0s 5ms/step - loss: 0.2120\n",
      "Epoch 14/40\n",
      "4/4 [==============================] - 0s 0s/step - loss: 0.2100\n",
      "Epoch 15/40\n",
      "4/4 [==============================] - 0s 2ms/step - loss: 0.2075\n",
      "Epoch 16/40\n",
      "4/4 [==============================] - 0s 3ms/step - loss: 0.2038\n",
      "Epoch 17/40\n",
      "4/4 [==============================] - 0s 0s/step - loss: 0.2010\n",
      "Epoch 18/40\n",
      "4/4 [==============================] - 0s 0s/step - loss: 0.1983\n",
      "Epoch 19/40\n",
      "4/4 [==============================] - 0s 2ms/step - loss: 0.1956\n",
      "Epoch 20/40\n",
      "4/4 [==============================] - 0s 0s/step - loss: 0.1941\n",
      "Epoch 21/40\n",
      "4/4 [==============================] - 0s 0s/step - loss: 0.1912\n",
      "Epoch 22/40\n",
      "4/4 [==============================] - 0s 5ms/step - loss: 0.1890\n",
      "Epoch 23/40\n",
      "4/4 [==============================] - 0s 0s/step - loss: 0.1858\n",
      "Epoch 24/40\n",
      "4/4 [==============================] - 0s 2ms/step - loss: 0.1832\n",
      "Epoch 25/40\n",
      "4/4 [==============================] - 0s 0s/step - loss: 0.1816\n",
      "Epoch 26/40\n",
      "4/4 [==============================] - 0s 395us/step - loss: 0.1798\n",
      "Epoch 27/40\n",
      "4/4 [==============================] - 0s 4ms/step - loss: 0.1765\n",
      "Epoch 28/40\n",
      "4/4 [==============================] - 0s 0s/step - loss: 0.1730\n",
      "Epoch 29/40\n",
      "4/4 [==============================] - 0s 0s/step - loss: 0.1689\n",
      "Epoch 30/40\n",
      "4/4 [==============================] - 0s 5ms/step - loss: 0.1659\n",
      "Epoch 31/40\n",
      "4/4 [==============================] - 0s 0s/step - loss: 0.1627\n",
      "Epoch 32/40\n",
      "4/4 [==============================] - 0s 0s/step - loss: 0.1601\n",
      "Epoch 33/40\n",
      "4/4 [==============================] - 0s 6ms/step - loss: 0.1568\n",
      "Epoch 34/40\n",
      "4/4 [==============================] - 0s 0s/step - loss: 0.1535\n",
      "Epoch 35/40\n",
      "4/4 [==============================] - 0s 5ms/step - loss: 0.1504\n",
      "Epoch 36/40\n",
      "4/4 [==============================] - 0s 0s/step - loss: 0.1481\n",
      "Epoch 37/40\n",
      "4/4 [==============================] - 0s 977us/step - loss: 0.1447\n",
      "Epoch 38/40\n",
      "4/4 [==============================] - 0s 4ms/step - loss: 0.1417\n",
      "Epoch 39/40\n",
      "4/4 [==============================] - 0s 5ms/step - loss: 0.1375\n",
      "Epoch 40/40\n",
      "4/4 [==============================] - 0s 0s/step - loss: 0.1345\n"
     ]
    },
    {
     "data": {
      "text/plain": "<keras.callbacks.History at 0x23d89735e40>"
     },
     "execution_count": 99,
     "metadata": {},
     "output_type": "execute_result"
    }
   ],
   "source": [
    "iris = load_iris()\n",
    "\n",
    "sepal_length = iris.data[0:99, 0]\n",
    "petal_length = iris.data[0:99, 2]\n",
    "flower_type = iris.target[0:99]\n",
    "\n",
    "x = np.column_stack((sepal_length, petal_length))\n",
    "y = flower_type\n",
    "\n",
    "tf.keras.utils.set_random_seed(5)\n",
    "\n",
    "np.random.seed(5)\n",
    "tf.random.set_seed(5)\n",
    "random.seed(5)\n",
    "\n",
    "model = Sequential()\n",
    "\n",
    "layers = [6, 12, 6, 1]\n",
    "for idx, layer in enumerate(layers):\n",
    "    if idx == 0:\n",
    "        model.add(Dense(layer, activation='relu', input_dim=2))\n",
    "    elif idx == (len(layers) - 1):\n",
    "        model.add(Dense(layer, activation='sigmoid'))\n",
    "    else:\n",
    "        model.add(Dense(layer, activation='relu'))\n",
    "\n",
    "model.compile(loss='mean_squared_error')\n",
    "\n",
    "model.fit(x, y, epochs=40)"
   ]
  },
  {
   "cell_type": "code",
   "execution_count": 101,
   "id": "655125f77b658734",
   "metadata": {
    "collapsed": false,
    "ExecuteTime": {
     "end_time": "2023-10-18T17:56:05.986752700Z",
     "start_time": "2023-10-18T17:56:05.573353800Z"
    }
   },
   "outputs": [
    {
     "name": "stdout",
     "output_type": "stream",
     "text": [
      "1/1 [==============================] - 0s 42ms/step\n",
      "[[0.71185845]\n",
      " [0.3821987 ]]\n",
      "1/1 [==============================] - 0s 63ms/step\n",
      "[[0.71185845]]\n",
      "1/1 [==============================] - 0s 63ms/step\n",
      "[[0.3821987]]\n"
     ]
    }
   ],
   "source": [
    "print(model.predict([[6.3, 4.9], [4.9, 1.4]]))\n",
    "print(model.predict([[6.3, 4.9]]))\n",
    "print(model.predict([[4.9, 1.4]]))"
   ]
  },
  {
   "cell_type": "code",
   "execution_count": null,
   "outputs": [],
   "source": [],
   "metadata": {
    "collapsed": false
   },
   "id": "affdaca445bb2c66"
  }
 ],
 "metadata": {
  "kernelspec": {
   "display_name": "Python 3",
   "language": "python",
   "name": "python3"
  },
  "language_info": {
   "codemirror_mode": {
    "name": "ipython",
    "version": 3
   },
   "file_extension": ".py",
   "mimetype": "text/x-python",
   "name": "python",
   "nbconvert_exporter": "python",
   "pygments_lexer": "ipython3",
   "version": "3.11.5"
  }
 },
 "nbformat": 4,
 "nbformat_minor": 5
}
