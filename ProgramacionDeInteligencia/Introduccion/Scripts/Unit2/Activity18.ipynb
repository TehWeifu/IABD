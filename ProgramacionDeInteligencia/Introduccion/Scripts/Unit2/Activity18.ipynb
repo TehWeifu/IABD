{
 "cells": [
  {
   "cell_type": "code",
   "execution_count": 10,
   "id": "initial_id",
   "metadata": {
    "collapsed": true,
    "ExecuteTime": {
     "end_time": "2023-10-30T16:35:14.736358400Z",
     "start_time": "2023-10-30T16:35:14.729156600Z"
    }
   },
   "outputs": [],
   "source": [
    "import time\n",
    "\n",
    "import numpy as np\n",
    "import pandas as pd\n",
    "import tensorflow as tf\n",
    "import matplotlib.pyplot as plt\n",
    "from keras.models import Sequential\n",
    "from keras.layers import Dense\n",
    "from sklearn.datasets import load_iris\n",
    "from matplotlib.colors import LightSource\n",
    "import random\n",
    "import tabulate"
   ]
  },
  {
   "cell_type": "code",
   "execution_count": 11,
   "outputs": [
    {
     "name": "stdout",
     "output_type": "stream",
     "text": [
      "3.11.5 (tags/v3.11.5:cce6ba9, Aug 24 2023, 14:38:34) [MSC v.1936 64 bit (AMD64)]\n"
     ]
    }
   ],
   "source": [
    "import sys\n",
    "\n",
    "print(sys.version)"
   ],
   "metadata": {
    "collapsed": false,
    "ExecuteTime": {
     "end_time": "2023-10-30T16:35:14.736358400Z",
     "start_time": "2023-10-30T16:35:14.731662300Z"
    }
   },
   "id": "fd3da3d84345ea63"
  },
  {
   "cell_type": "code",
   "execution_count": 12,
   "outputs": [
    {
     "name": "stdout",
     "output_type": "stream",
     "text": [
      "2.14.0\n"
     ]
    }
   ],
   "source": [
    "import tensorflow as tf\n",
    "\n",
    "print(tf.__version__)"
   ],
   "metadata": {
    "collapsed": false,
    "ExecuteTime": {
     "end_time": "2023-10-30T16:35:14.742020700Z",
     "start_time": "2023-10-30T16:35:14.736358400Z"
    }
   },
   "id": "e3807dd5fa59c931"
  },
  {
   "cell_type": "code",
   "execution_count": 13,
   "outputs": [
    {
     "data": {
      "text/plain": "<matplotlib.collections.PathCollection at 0x177478f3990>"
     },
     "execution_count": 13,
     "metadata": {},
     "output_type": "execute_result"
    },
    {
     "data": {
      "text/plain": "<Figure size 640x480 with 1 Axes>",
      "image/png": "[encoded data removed]"
     },
     "metadata": {},
     "output_type": "display_data"
    }
   ],
   "source": [
    "import matplotlib.pyplot as plt\n",
    "import numpy as np\n",
    "\n",
    "figure = plt.figure()\n",
    "axes = figure.add_subplot()\n",
    "\n",
    "x = np.array([0, 1, 2, 3, 4, 5, 6])\n",
    "y = np.array([0, 1, 4, 9, 16, 25, 36])\n",
    "\n",
    "axes.scatter(x, y)"
   ],
   "metadata": {
    "collapsed": false,
    "ExecuteTime": {
     "end_time": "2023-10-30T16:35:14.871667Z",
     "start_time": "2023-10-30T16:35:14.744777200Z"
    }
   },
   "id": "87c60b656dd6456a"
  },
  {
   "cell_type": "code",
   "execution_count": 14,
   "outputs": [],
   "source": [
    "def get_datos():\n",
    "    iris = load_iris()\n",
    "\n",
    "    sepal_length = iris.data[0:99, 0]\n",
    "    petal_length = iris.data[0:99, 2]\n",
    "    flower_type = iris.target[0:99]\n",
    "\n",
    "    x = np.column_stack((sepal_length, petal_length))\n",
    "    y = flower_type\n",
    "\n",
    "    return x, y"
   ],
   "metadata": {
    "collapsed": false,
    "ExecuteTime": {
     "end_time": "2023-10-30T16:35:14.880216400Z",
     "start_time": "2023-10-30T16:35:14.874462200Z"
    }
   },
   "id": "e13f511492ba446a"
  },
  {
   "cell_type": "code",
   "execution_count": 15,
   "outputs": [],
   "source": [
    "def compile_fit(layers_epochs, model_x, model_y):\n",
    "    tf.keras.utils.set_random_seed(5)\n",
    "\n",
    "    layers = layers_epochs[0]\n",
    "    epochs = layers_epochs[1]\n",
    "\n",
    "    model = Sequential()\n",
    "\n",
    "    number_of_columns = len(model_x[0])\n",
    "\n",
    "    for idx, layer in enumerate(layers):\n",
    "        if idx == 0:\n",
    "            model.add(Dense(layer, activation='relu', input_dim=number_of_columns))\n",
    "        elif idx == (len(layers) - 1):\n",
    "            model.add(Dense(layer, activation='sigmoid'))\n",
    "        else:\n",
    "            model.add(Dense(layer, activation='relu'))\n",
    "\n",
    "    model.compile(loss='mean_squared_error')\n",
    "\n",
    "    timestamp_before = time.time_ns()\n",
    "    model.fit(model_x, model_y, epochs=epochs)\n",
    "    timestamp_after = time.time_ns()\n",
    "\n",
    "    return {\n",
    "        \"model\": model,\n",
    "        \"elapsed_time\": (timestamp_after - timestamp_before) / 1_000_000_000\n",
    "    }"
   ],
   "metadata": {
    "collapsed": false,
    "ExecuteTime": {
     "end_time": "2023-10-30T16:35:14.888765300Z",
     "start_time": "2023-10-30T16:35:14.875982900Z"
    }
   },
   "id": "126dcf48b28882f2"
  },
  {
   "cell_type": "code",
   "execution_count": 16,
   "outputs": [],
   "source": [
    "x, y = get_datos()"
   ],
   "metadata": {
    "collapsed": false,
    "ExecuteTime": {
     "end_time": "2023-10-30T16:35:14.888765300Z",
     "start_time": "2023-10-30T16:35:14.882271300Z"
    }
   },
   "id": "7669c98f552e2a10"
  },
  {
   "cell_type": "code",
   "execution_count": 17,
   "id": "408e176724c36e7b",
   "metadata": {
    "collapsed": false,
    "ExecuteTime": {
     "end_time": "2023-10-30T16:35:18.205650Z",
     "start_time": "2023-10-30T16:35:14.890273300Z"
    }
   },
   "outputs": [
    {
     "name": "stdout",
     "output_type": "stream",
     "text": [
      "Epoch 1/30\n",
      "4/4 [==============================] - 0s 1ms/step - loss: 0.4819\n",
      "Epoch 2/30\n",
      "4/4 [==============================] - 0s 1ms/step - loss: 0.4779\n",
      "Epoch 3/30\n",
      "4/4 [==============================] - 0s 1ms/step - loss: 0.4744\n",
      "Epoch 4/30\n",
      "4/4 [==============================] - 0s 1ms/step - loss: 0.4711\n",
      "Epoch 5/30\n",
      "4/4 [==============================] - 0s 1ms/step - loss: 0.4677\n",
      "Epoch 6/30\n",
      "4/4 [==============================] - 0s 1ms/step - loss: 0.4639\n",
      "Epoch 7/30\n",
      "4/4 [==============================] - 0s 1ms/step - loss: 0.4589\n",
      "Epoch 8/30\n",
      "4/4 [==============================] - 0s 526us/step - loss: 0.4545\n",
      "Epoch 9/30\n",
      "4/4 [==============================] - 0s 1ms/step - loss: 0.4487\n",
      "Epoch 10/30\n",
      "4/4 [==============================] - 0s 736us/step - loss: 0.4425\n",
      "Epoch 11/30\n",
      "4/4 [==============================] - 0s 1ms/step - loss: 0.4373\n",
      "Epoch 12/30\n",
      "4/4 [==============================] - 0s 962us/step - loss: 0.4315\n",
      "Epoch 13/30\n",
      "4/4 [==============================] - 0s 3ms/step - loss: 0.4255\n",
      "Epoch 14/30\n",
      "4/4 [==============================] - 0s 1ms/step - loss: 0.4190\n",
      "Epoch 15/30\n",
      "4/4 [==============================] - 0s 786us/step - loss: 0.4121\n",
      "Epoch 16/30\n",
      "4/4 [==============================] - 0s 1ms/step - loss: 0.4064\n",
      "Epoch 17/30\n",
      "4/4 [==============================] - 0s 809us/step - loss: 0.4002\n",
      "Epoch 18/30\n",
      "4/4 [==============================] - 0s 0s/step - loss: 0.3920\n",
      "Epoch 19/30\n",
      "4/4 [==============================] - 0s 799us/step - loss: 0.3838\n",
      "Epoch 20/30\n",
      "4/4 [==============================] - 0s 2ms/step - loss: 0.3752\n",
      "Epoch 21/30\n",
      "4/4 [==============================] - 0s 1ms/step - loss: 0.3685\n",
      "Epoch 22/30\n",
      "4/4 [==============================] - 0s 1ms/step - loss: 0.3616\n",
      "Epoch 23/30\n",
      "4/4 [==============================] - 0s 2ms/step - loss: 0.3544\n",
      "Epoch 24/30\n",
      "4/4 [==============================] - 0s 2ms/step - loss: 0.3474\n",
      "Epoch 25/30\n",
      "4/4 [==============================] - 0s 1ms/step - loss: 0.3395\n",
      "Epoch 26/30\n",
      "4/4 [==============================] - 0s 2ms/step - loss: 0.3327\n",
      "Epoch 27/30\n",
      "4/4 [==============================] - 0s 2ms/step - loss: 0.3271\n",
      "Epoch 28/30\n",
      "4/4 [==============================] - 0s 457us/step - loss: 0.3215\n",
      "Epoch 29/30\n",
      "4/4 [==============================] - 0s 3ms/step - loss: 0.3171\n",
      "Epoch 30/30\n",
      "4/4 [==============================] - 0s 857us/step - loss: 0.3141\n",
      "WARNING:tensorflow:6 out of the last 6 calls to <function Model.make_predict_function.<locals>.predict_function at 0x00000177435ABB00> triggered tf.function retracing. Tracing is expensive and the excessive number of tracings could be due to (1) creating @tf.function repeatedly in a loop, (2) passing tensors with different shapes, (3) passing Python objects instead of tensors. For (1), please define your @tf.function outside of the loop. For (2), @tf.function has reduce_retracing=True option that can avoid unnecessary retracing. For (3), please refer to https://www.tensorflow.org/guide/function#controlling_retracing and https://www.tensorflow.org/api_docs/python/tf/function for  more details.\n",
      "1/1 [==============================] - 0s 47ms/step\n",
      "Epoch 1/34\n",
      "4/4 [==============================] - 0s 2ms/step - loss: 0.2500\n",
      "Epoch 2/34\n",
      "4/4 [==============================] - 0s 2ms/step - loss: 0.2500\n",
      "Epoch 3/34\n",
      "4/4 [==============================] - 0s 2ms/step - loss: 0.2500\n",
      "Epoch 4/34\n",
      "4/4 [==============================] - 0s 1ms/step - loss: 0.2500\n",
      "Epoch 5/34\n",
      "4/4 [==============================] - 0s 467us/step - loss: 0.2500\n",
      "Epoch 6/34\n",
      "4/4 [==============================] - 0s 2ms/step - loss: 0.2500\n",
      "Epoch 7/34\n",
      "4/4 [==============================] - 0s 1ms/step - loss: 0.2500\n",
      "Epoch 8/34\n",
      "4/4 [==============================] - 0s 1ms/step - loss: 0.2500\n",
      "Epoch 9/34\n",
      "4/4 [==============================] - 0s 885us/step - loss: 0.2500\n",
      "Epoch 10/34\n",
      "4/4 [==============================] - 0s 1ms/step - loss: 0.2500\n",
      "Epoch 11/34\n",
      "4/4 [==============================] - 0s 729us/step - loss: 0.2500\n",
      "Epoch 12/34\n",
      "4/4 [==============================] - 0s 1ms/step - loss: 0.2500\n",
      "Epoch 13/34\n",
      "4/4 [==============================] - 0s 1ms/step - loss: 0.2500\n",
      "Epoch 14/34\n",
      "4/4 [==============================] - 0s 865us/step - loss: 0.2500\n",
      "Epoch 15/34\n",
      "4/4 [==============================] - 0s 878us/step - loss: 0.2500\n",
      "Epoch 16/34\n",
      "4/4 [==============================] - 0s 1ms/step - loss: 0.2500\n",
      "Epoch 17/34\n",
      "4/4 [==============================] - 0s 503us/step - loss: 0.2500\n",
      "Epoch 18/34\n",
      "4/4 [==============================] - 0s 2ms/step - loss: 0.2500\n",
      "Epoch 19/34\n",
      "4/4 [==============================] - 0s 812us/step - loss: 0.2500\n",
      "Epoch 20/34\n",
      "4/4 [==============================] - 0s 504us/step - loss: 0.2500\n",
      "Epoch 21/34\n",
      "4/4 [==============================] - 0s 1ms/step - loss: 0.2500\n",
      "Epoch 22/34\n",
      "4/4 [==============================] - 0s 808us/step - loss: 0.2501\n",
      "Epoch 23/34\n",
      "4/4 [==============================] - 0s 0s/step - loss: 0.2500\n",
      "Epoch 24/34\n",
      "4/4 [==============================] - 0s 5ms/step - loss: 0.2501\n",
      "Epoch 25/34\n",
      "4/4 [==============================] - 0s 0s/step - loss: 0.2501\n",
      "Epoch 26/34\n",
      "4/4 [==============================] - 0s 5ms/step - loss: 0.2501\n",
      "Epoch 27/34\n",
      "4/4 [==============================] - 0s 1ms/step - loss: 0.2501\n",
      "Epoch 28/34\n",
      "4/4 [==============================] - 0s 607us/step - loss: 0.2501\n",
      "Epoch 29/34\n",
      "4/4 [==============================] - 0s 3ms/step - loss: 0.2501\n",
      "Epoch 30/34\n",
      "4/4 [==============================] - 0s 468us/step - loss: 0.2501\n",
      "Epoch 31/34\n",
      "4/4 [==============================] - 0s 0s/step - loss: 0.2500\n",
      "Epoch 32/34\n",
      "4/4 [==============================] - 0s 1ms/step - loss: 0.2501\n",
      "Epoch 33/34\n",
      "4/4 [==============================] - 0s 1ms/step - loss: 0.2501\n",
      "Epoch 34/34\n",
      "4/4 [==============================] - 0s 1ms/step - loss: 0.2500\n",
      "1/1 [==============================] - 0s 48ms/step\n",
      "Epoch 1/32\n",
      "4/4 [==============================] - 0s 1ms/step - loss: 0.2412\n",
      "Epoch 2/32\n",
      "4/4 [==============================] - 0s 681us/step - loss: 0.2022\n",
      "Epoch 3/32\n",
      "4/4 [==============================] - 0s 1ms/step - loss: 0.1747\n",
      "Epoch 4/32\n",
      "4/4 [==============================] - 0s 968us/step - loss: 0.1515\n",
      "Epoch 5/32\n",
      "4/4 [==============================] - 0s 3ms/step - loss: 0.1290\n",
      "Epoch 6/32\n",
      "4/4 [==============================] - 0s 0s/step - loss: 0.1126\n",
      "Epoch 7/32\n",
      "4/4 [==============================] - 0s 1ms/step - loss: 0.0988\n",
      "Epoch 8/32\n",
      "4/4 [==============================] - 0s 2ms/step - loss: 0.0860\n",
      "Epoch 9/32\n",
      "4/4 [==============================] - 0s 507us/step - loss: 0.0771\n",
      "Epoch 10/32\n",
      "4/4 [==============================] - 0s 845us/step - loss: 0.0695\n",
      "Epoch 11/32\n",
      "4/4 [==============================] - 0s 793us/step - loss: 0.0610\n",
      "Epoch 12/32\n",
      "4/4 [==============================] - 0s 2ms/step - loss: 0.0534\n",
      "Epoch 13/32\n",
      "4/4 [==============================] - 0s 2ms/step - loss: 0.0461\n",
      "Epoch 14/32\n",
      "4/4 [==============================] - 0s 0s/step - loss: 0.0398\n",
      "Epoch 15/32\n",
      "4/4 [==============================] - 0s 4ms/step - loss: 0.0337\n",
      "Epoch 16/32\n",
      "4/4 [==============================] - 0s 813us/step - loss: 0.0281\n",
      "Epoch 17/32\n",
      "4/4 [==============================] - 0s 1ms/step - loss: 0.0237\n",
      "Epoch 18/32\n",
      "4/4 [==============================] - 0s 1ms/step - loss: 0.0196\n",
      "Epoch 19/32\n",
      "4/4 [==============================] - 0s 826us/step - loss: 0.0166\n",
      "Epoch 20/32\n",
      "4/4 [==============================] - 0s 889us/step - loss: 0.0143\n",
      "Epoch 21/32\n",
      "4/4 [==============================] - 0s 0s/step - loss: 0.0119\n",
      "Epoch 22/32\n",
      "4/4 [==============================] - 0s 1ms/step - loss: 0.0100\n",
      "Epoch 23/32\n",
      "4/4 [==============================] - 0s 1ms/step - loss: 0.0082\n",
      "Epoch 24/32\n",
      "4/4 [==============================] - 0s 1ms/step - loss: 0.0069\n",
      "Epoch 25/32\n",
      "4/4 [==============================] - 0s 0s/step - loss: 0.0059\n",
      "Epoch 26/32\n",
      "4/4 [==============================] - 0s 4ms/step - loss: 0.0050\n",
      "Epoch 27/32\n",
      "4/4 [==============================] - 0s 775us/step - loss: 0.0042\n",
      "Epoch 28/32\n",
      "4/4 [==============================] - 0s 2ms/step - loss: 0.0035\n",
      "Epoch 29/32\n",
      "4/4 [==============================] - 0s 2ms/step - loss: 0.0029\n",
      "Epoch 30/32\n",
      "4/4 [==============================] - 0s 1ms/step - loss: 0.0023\n",
      "Epoch 31/32\n",
      "4/4 [==============================] - 0s 335us/step - loss: 0.0020\n",
      "Epoch 32/32\n",
      "4/4 [==============================] - 0s 1ms/step - loss: 0.0017\n",
      "1/1 [==============================] - 0s 54ms/step\n",
      "Epoch 1/28\n",
      "4/4 [==============================] - 0s 4ms/step - loss: 0.2637\n",
      "Epoch 2/28\n",
      "4/4 [==============================] - 0s 1ms/step - loss: 0.2120\n",
      "Epoch 3/28\n",
      "4/4 [==============================] - 0s 1ms/step - loss: 0.1943\n",
      "Epoch 4/28\n",
      "4/4 [==============================] - 0s 934us/step - loss: 0.1870\n",
      "Epoch 5/28\n",
      "4/4 [==============================] - 0s 0s/step - loss: 0.1807\n",
      "Epoch 6/28\n",
      "4/4 [==============================] - 0s 1ms/step - loss: 0.1773\n",
      "Epoch 7/28\n",
      "4/4 [==============================] - 0s 858us/step - loss: 0.1707\n",
      "Epoch 8/28\n",
      "4/4 [==============================] - 0s 2ms/step - loss: 0.1655\n",
      "Epoch 9/28\n",
      "4/4 [==============================] - 0s 2ms/step - loss: 0.1613\n",
      "Epoch 10/28\n",
      "4/4 [==============================] - 0s 2ms/step - loss: 0.1594\n",
      "Epoch 11/28\n",
      "4/4 [==============================] - 0s 671us/step - loss: 0.1551\n",
      "Epoch 12/28\n",
      "4/4 [==============================] - 0s 0s/step - loss: 0.1504\n",
      "Epoch 13/28\n",
      "4/4 [==============================] - 0s 1ms/step - loss: 0.1445\n",
      "Epoch 14/28\n",
      "4/4 [==============================] - 0s 1ms/step - loss: 0.1403\n",
      "Epoch 15/28\n",
      "4/4 [==============================] - 0s 0s/step - loss: 0.1355\n",
      "Epoch 16/28\n",
      "4/4 [==============================] - 0s 860us/step - loss: 0.1295\n",
      "Epoch 17/28\n",
      "4/4 [==============================] - 0s 0s/step - loss: 0.1242\n",
      "Epoch 18/28\n",
      "4/4 [==============================] - 0s 4ms/step - loss: 0.1191\n",
      "Epoch 19/28\n",
      "4/4 [==============================] - 0s 683us/step - loss: 0.1137\n",
      "Epoch 20/28\n",
      "4/4 [==============================] - 0s 0s/step - loss: 0.1100\n",
      "Epoch 21/28\n",
      "4/4 [==============================] - 0s 3ms/step - loss: 0.1042\n",
      "Epoch 22/28\n",
      "4/4 [==============================] - 0s 0s/step - loss: 0.1000\n",
      "Epoch 23/28\n",
      "4/4 [==============================] - 0s 1ms/step - loss: 0.0945\n",
      "Epoch 24/28\n",
      "4/4 [==============================] - 0s 0s/step - loss: 0.0899\n",
      "Epoch 25/28\n",
      "4/4 [==============================] - 0s 1ms/step - loss: 0.0871\n",
      "Epoch 26/28\n",
      "4/4 [==============================] - 0s 0s/step - loss: 0.0833\n",
      "Epoch 27/28\n",
      "4/4 [==============================] - 0s 877us/step - loss: 0.0778\n",
      "Epoch 28/28\n",
      "4/4 [==============================] - 0s 1ms/step - loss: 0.0730\n",
      "1/1 [==============================] - 0s 64ms/step\n",
      "Epoch 1/20\n",
      "4/4 [==============================] - 0s 5ms/step - loss: 0.1797\n",
      "Epoch 2/20\n",
      "4/4 [==============================] - 0s 839us/step - loss: 0.1368\n",
      "Epoch 3/20\n",
      "4/4 [==============================] - 0s 812us/step - loss: 0.1124\n",
      "Epoch 4/20\n",
      "4/4 [==============================] - 0s 831us/step - loss: 0.0945\n",
      "Epoch 5/20\n",
      "4/4 [==============================] - 0s 0s/step - loss: 0.0809\n",
      "Epoch 6/20\n",
      "4/4 [==============================] - 0s 4ms/step - loss: 0.0715\n",
      "Epoch 7/20\n",
      "4/4 [==============================] - 0s 0s/step - loss: 0.0624\n",
      "Epoch 8/20\n",
      "4/4 [==============================] - 0s 4ms/step - loss: 0.0550\n",
      "Epoch 9/20\n",
      "4/4 [==============================] - 0s 835us/step - loss: 0.0502\n",
      "Epoch 10/20\n",
      "4/4 [==============================] - 0s 1ms/step - loss: 0.0464\n",
      "Epoch 11/20\n",
      "4/4 [==============================] - 0s 2ms/step - loss: 0.0410\n",
      "Epoch 12/20\n",
      "4/4 [==============================] - 0s 0s/step - loss: 0.0372\n",
      "Epoch 13/20\n",
      "4/4 [==============================] - 0s 2ms/step - loss: 0.0332\n",
      "Epoch 14/20\n",
      "4/4 [==============================] - 0s 2ms/step - loss: 0.0300\n",
      "Epoch 15/20\n",
      "4/4 [==============================] - 0s 1ms/step - loss: 0.0268\n",
      "Epoch 16/20\n",
      "4/4 [==============================] - 0s 1ms/step - loss: 0.0241\n",
      "Epoch 17/20\n",
      "4/4 [==============================] - 0s 0s/step - loss: 0.0218\n",
      "Epoch 18/20\n",
      "4/4 [==============================] - 0s 0s/step - loss: 0.0192\n",
      "Epoch 19/20\n",
      "4/4 [==============================] - 0s 1ms/step - loss: 0.0172\n",
      "Epoch 20/20\n",
      "4/4 [==============================] - 0s 0s/step - loss: 0.0156\n",
      "1/1 [==============================] - 0s 47ms/step\n"
     ]
    }
   ],
   "source": [
    "results = []\n",
    "\n",
    "neuronal_nets = [[[2, 4, 1], 30], [[4, 8, 8, 2, 1], 34], [[8, 12, 24, 12, 1], 32], [[8, 16, 8, 1], 28],\n",
    "                 [[16, 32, 1], 20]]\n",
    "for net in neuronal_nets:\n",
    "    model_performance = compile_fit(net, x, y)\n",
    "    model = model_performance[\"model\"]\n",
    "    time_taken = model_performance[\"elapsed_time\"]\n",
    "\n",
    "    prediction_result = model.predict([[4.9, 1.4], [6.3, 4.9]])\n",
    "\n",
    "    indexed_result = [(','.join(map(str, net[0]))), net[1], prediction_result[0][0], prediction_result[1][0],\n",
    "                      round(time_taken, 2)]\n",
    "\n",
    "    results.append(indexed_result)"
   ]
  },
  {
   "cell_type": "code",
   "execution_count": 18,
   "id": "655125f77b658734",
   "metadata": {
    "collapsed": false,
    "ExecuteTime": {
     "end_time": "2023-10-30T16:35:18.210262100Z",
     "start_time": "2023-10-30T16:35:18.205650Z"
    }
   },
   "outputs": [
    {
     "name": "stdout",
     "output_type": "stream",
     "text": [
      "Red             Epocas    Result 1    Result 2    Tiempo (s)\n",
      "------------  --------  ----------  ----------  ------------\n",
      "2,4,1               30   0.377323     0.286696          0.47\n",
      "4,8,8,2,1           34   0.50323      0.50323           0.58\n",
      "8,12,24,12,1        32   0.0436002    0.998265          0.59\n",
      "8,16,8,1            28   0.265955     0.819212          0.49\n",
      "16,32,1             20   0.109        0.947204          0.38\n"
     ]
    }
   ],
   "source": [
    "print(tabulate.tabulate(results, headers=[\"Red\", \"Epocas\", \"Result 1\", \"Result 2\", \"Tiempo (s)\"]))"
   ]
  }
 ],
 "metadata": {
  "kernelspec": {
   "display_name": "Python 3",
   "language": "python",
   "name": "python3"
  },
  "language_info": {
   "codemirror_mode": {
    "name": "ipython",
    "version": 3
   },
   "file_extension": ".py",
   "mimetype": "text/x-python",
   "name": "python",
   "nbconvert_exporter": "python",
   "pygments_lexer": "ipython3",
   "version": "3.11.5"
  }
 },
 "nbformat": 4,
 "nbformat_minor": 5
}
