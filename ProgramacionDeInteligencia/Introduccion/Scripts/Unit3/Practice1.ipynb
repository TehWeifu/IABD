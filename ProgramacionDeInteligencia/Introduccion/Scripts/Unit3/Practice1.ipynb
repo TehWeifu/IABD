{
 "cells": [
  {
   "cell_type": "code",
   "execution_count": 1,
   "outputs": [],
   "source": [
    "import numpy as np\n",
    "from time import perf_counter\n",
    "\n",
    "np.random.seed(5)\n",
    "\n",
    "array_size = 10000000\n",
    "array1 = np.random.rand(1, array_size)\n",
    "array2 = np.random.rand(1, array_size)"
   ],
   "metadata": {
    "collapsed": false,
    "ExecuteTime": {
     "end_time": "2023-10-26T17:21:38.243231400Z",
     "start_time": "2023-10-26T17:21:38.049275600Z"
    }
   },
   "id": "f4a5c81cf91e6f19"
  },
  {
   "cell_type": "code",
   "execution_count": 2,
   "outputs": [
    {
     "name": "stdout",
     "output_type": "stream",
     "text": [
      "Resultado = 2499423.5030155224\n",
      "Tiempo = 2.6404242000135127 s\n"
     ]
    }
   ],
   "source": [
    "t1 = perf_counter()\n",
    "resultado = 0\n",
    "for i in range(array1.shape[1]):\n",
    "    resultado += array1[0, i] * array2[0, i]\n",
    "t2 = perf_counter()\n",
    "print(\"Resultado = \" + str(resultado))\n",
    "print(\"Tiempo = \" + str(t2 - t1) + \" s\")"
   ],
   "metadata": {
    "collapsed": false,
    "ExecuteTime": {
     "end_time": "2023-10-26T17:21:40.895476700Z",
     "start_time": "2023-10-26T17:21:38.303998Z"
    }
   },
   "id": "a86d1104d713a0ac"
  },
  {
   "cell_type": "code",
   "execution_count": 3,
   "outputs": [
    {
     "name": "stdout",
     "output_type": "stream",
     "text": [
      "Resultado = 2499423.503015543\n",
      "Tiempo = 0.004491100000450388 s\n"
     ]
    }
   ],
   "source": [
    "t1 = perf_counter()\n",
    "resultado = np.dot(array1, array2.T)\n",
    "t2 = perf_counter()\n",
    "print(\"Resultado = \" + str(resultado[0][0]))\n",
    "print(\"Tiempo = \" + str(t2 - t1) + \" s\")"
   ],
   "metadata": {
    "collapsed": false,
    "ExecuteTime": {
     "end_time": "2023-10-26T17:21:40.895476700Z",
     "start_time": "2023-10-26T17:21:40.887020300Z"
    }
   },
   "id": "4950966c236b7c96"
  },
  {
   "cell_type": "code",
   "execution_count": null,
   "outputs": [],
   "source": [
    "x = data[:, 0:-1]\n",
    "y = data[:, -1]"
   ],
   "metadata": {
    "collapsed": false
   },
   "id": "e38e29b77e105673"
  }
 ],
 "metadata": {
  "kernelspec": {
   "display_name": "Python 3",
   "language": "python",
   "name": "python3"
  },
  "language_info": {
   "codemirror_mode": {
    "name": "ipython",
    "version": 2
   },
   "file_extension": ".py",
   "mimetype": "text/x-python",
   "name": "python",
   "nbconvert_exporter": "python",
   "pygments_lexer": "ipython2",
   "version": "2.7.6"
  }
 },
 "nbformat": 4,
 "nbformat_minor": 5
}
