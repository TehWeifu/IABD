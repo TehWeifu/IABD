{
 "cells": [
  {
   "cell_type": "code",
   "execution_count": 9,
   "id": "initial_id",
   "metadata": {
    "collapsed": true,
    "ExecuteTime": {
     "end_time": "2023-10-04T17:17:41.590805200Z",
     "start_time": "2023-10-04T17:17:41.581298300Z"
    }
   },
   "outputs": [],
   "source": [
    "import numpy as np\n",
    "import pandas as pd\n",
    "import tensorflow as tf\n",
    "import matplotlib.pyplot as plt\n",
    "from keras.models import Sequential\n",
    "from keras.layers import Dense\n",
    "from sklearn.datasets import load_iris\n",
    "from matplotlib.colors import LightSource\n",
    "import random"
   ]
  },
  {
   "cell_type": "code",
   "execution_count": 10,
   "outputs": [
    {
     "name": "stdout",
     "output_type": "stream",
     "text": [
      "Epoch 1/40\n",
      "4/4 [==============================] - 0s 3ms/step - loss: 0.2429\n",
      "Epoch 2/40\n",
      "4/4 [==============================] - 0s 910us/step - loss: 0.2381\n",
      "Epoch 3/40\n",
      "4/4 [==============================] - 0s 463us/step - loss: 0.2355\n",
      "Epoch 4/40\n",
      "4/4 [==============================] - 0s 0s/step - loss: 0.2317\n",
      "Epoch 5/40\n",
      "4/4 [==============================] - 0s 5ms/step - loss: 0.2287\n",
      "Epoch 6/40\n",
      "4/4 [==============================] - 0s 1ms/step - loss: 0.2274\n",
      "Epoch 7/40\n",
      "4/4 [==============================] - 0s 2ms/step - loss: 0.2247\n",
      "Epoch 8/40\n",
      "4/4 [==============================] - 0s 439us/step - loss: 0.2219\n",
      "Epoch 9/40\n",
      "4/4 [==============================] - 0s 2ms/step - loss: 0.2198\n",
      "Epoch 10/40\n",
      "4/4 [==============================] - 0s 694us/step - loss: 0.2185\n",
      "Epoch 11/40\n",
      "4/4 [==============================] - 0s 3ms/step - loss: 0.2169\n",
      "Epoch 12/40\n",
      "4/4 [==============================] - 0s 1ms/step - loss: 0.2149\n",
      "Epoch 13/40\n",
      "4/4 [==============================] - 0s 2ms/step - loss: 0.2120\n",
      "Epoch 14/40\n",
      "4/4 [==============================] - 0s 1ms/step - loss: 0.2100\n",
      "Epoch 15/40\n",
      "4/4 [==============================] - 0s 0s/step - loss: 0.2075\n",
      "Epoch 16/40\n",
      "4/4 [==============================] - 0s 980us/step - loss: 0.2039\n",
      "Epoch 17/40\n",
      "4/4 [==============================] - 0s 2ms/step - loss: 0.2010\n",
      "Epoch 18/40\n",
      "4/4 [==============================] - 0s 2ms/step - loss: 0.1984\n",
      "Epoch 19/40\n",
      "4/4 [==============================] - 0s 678us/step - loss: 0.1957\n",
      "Epoch 20/40\n",
      "4/4 [==============================] - 0s 2ms/step - loss: 0.1941\n",
      "Epoch 21/40\n",
      "4/4 [==============================] - 0s 1ms/step - loss: 0.1913\n",
      "Epoch 22/40\n",
      "4/4 [==============================] - 0s 2ms/step - loss: 0.1890\n",
      "Epoch 23/40\n",
      "4/4 [==============================] - 0s 2ms/step - loss: 0.1859\n",
      "Epoch 24/40\n",
      "4/4 [==============================] - 0s 2ms/step - loss: 0.1833\n",
      "Epoch 25/40\n",
      "4/4 [==============================] - 0s 2ms/step - loss: 0.1816\n",
      "Epoch 26/40\n",
      "4/4 [==============================] - 0s 2ms/step - loss: 0.1798\n",
      "Epoch 27/40\n",
      "4/4 [==============================] - 0s 974us/step - loss: 0.1766\n",
      "Epoch 28/40\n",
      "4/4 [==============================] - 0s 1ms/step - loss: 0.1731\n",
      "Epoch 29/40\n",
      "4/4 [==============================] - 0s 1ms/step - loss: 0.1689\n",
      "Epoch 30/40\n",
      "4/4 [==============================] - 0s 539us/step - loss: 0.1660\n",
      "Epoch 31/40\n",
      "4/4 [==============================] - 0s 2ms/step - loss: 0.1628\n",
      "Epoch 32/40\n",
      "4/4 [==============================] - 0s 2ms/step - loss: 0.1602\n",
      "Epoch 33/40\n",
      "4/4 [==============================] - 0s 347us/step - loss: 0.1569\n",
      "Epoch 34/40\n",
      "4/4 [==============================] - 0s 2ms/step - loss: 0.1536\n",
      "Epoch 35/40\n",
      "4/4 [==============================] - 0s 2ms/step - loss: 0.1505\n",
      "Epoch 36/40\n",
      "4/4 [==============================] - 0s 2ms/step - loss: 0.1482\n",
      "Epoch 37/40\n",
      "4/4 [==============================] - 0s 2ms/step - loss: 0.1447\n",
      "Epoch 38/40\n",
      "4/4 [==============================] - 0s 408us/step - loss: 0.1418\n",
      "Epoch 39/40\n",
      "4/4 [==============================] - 0s 1ms/step - loss: 0.1376\n",
      "Epoch 40/40\n",
      "4/4 [==============================] - 0s 3ms/step - loss: 0.1346\n"
     ]
    },
    {
     "data": {
      "text/plain": "<keras.src.callbacks.History at 0x1fc06b5a3d0>"
     },
     "execution_count": 10,
     "metadata": {},
     "output_type": "execute_result"
    }
   ],
   "source": [
    "iris = load_iris()\n",
    "\n",
    "sepal_length = iris.data[0:99, 0]\n",
    "petal_length = iris.data[0:99, 2]\n",
    "flower_type = iris.target[0:99]\n",
    "\n",
    "x = np.column_stack((sepal_length, petal_length))\n",
    "y = flower_type\n",
    "\n",
    "np.random.seed(5)\n",
    "tf.random.set_seed(5)\n",
    "random.seed(5)\n",
    "\n",
    "model = Sequential()\n",
    "model.add(Dense(6, activation='relu', input_dim=2))\n",
    "model.add(Dense(12, activation='relu'))\n",
    "model.add(Dense(6, activation='relu'))\n",
    "model.add(Dense(1, activation='sigmoid'))\n",
    "model.compile(loss='mean_squared_error')\n",
    "\n",
    "model.fit(x, y, epochs=40)"
   ],
   "metadata": {
    "collapsed": false,
    "ExecuteTime": {
     "end_time": "2023-10-04T17:17:51.182197800Z",
     "start_time": "2023-10-04T17:17:50.313626600Z"
    }
   },
   "id": "408e176724c36e7b"
  },
  {
   "cell_type": "code",
   "execution_count": 11,
   "outputs": [
    {
     "name": "stdout",
     "output_type": "stream",
     "text": [
      "1/1 [==============================] - 0s 63ms/step\n",
      "[[0.38240254]]\n",
      "1/1 [==============================] - 0s 23ms/step\n",
      "[[0.7117628]]\n"
     ]
    }
   ],
   "source": [
    "print(model.predict([[4.9, 1.4]]))\n",
    "print(model.predict([[6.3, 4.9]]))"
   ],
   "metadata": {
    "collapsed": false,
    "ExecuteTime": {
     "end_time": "2023-10-04T17:17:56.548716100Z",
     "start_time": "2023-10-04T17:17:56.385581800Z"
    }
   },
   "id": "655125f77b658734"
  },
  {
   "cell_type": "code",
   "execution_count": null,
   "outputs": [],
   "source": [],
   "metadata": {
    "collapsed": false
   },
   "id": "54a8637f77ffef5"
  }
 ],
 "metadata": {
  "kernelspec": {
   "display_name": "Python 3",
   "language": "python",
   "name": "python3"
  },
  "language_info": {
   "codemirror_mode": {
    "name": "ipython",
    "version": 2
   },
   "file_extension": ".py",
   "mimetype": "text/x-python",
   "name": "python",
   "nbconvert_exporter": "python",
   "pygments_lexer": "ipython2",
   "version": "2.7.6"
  }
 },
 "nbformat": 4,
 "nbformat_minor": 5
}
