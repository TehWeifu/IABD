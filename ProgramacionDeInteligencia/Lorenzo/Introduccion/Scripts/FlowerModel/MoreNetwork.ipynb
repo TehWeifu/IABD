{
 "cells": [
  {
   "cell_type": "code",
   "execution_count": 4,
   "id": "initial_id",
   "metadata": {
    "collapsed": true,
    "ExecuteTime": {
     "end_time": "2023-10-04T17:20:46.727925600Z",
     "start_time": "2023-10-04T17:20:46.725490200Z"
    }
   },
   "outputs": [],
   "source": [
    "import numpy as np\n",
    "import pandas as pd\n",
    "import tensorflow as tf\n",
    "import matplotlib.pyplot as plt\n",
    "from keras.models import Sequential\n",
    "from keras.layers import Dense\n",
    "from sklearn.datasets import load_iris\n",
    "from matplotlib.colors import LightSource\n",
    "import random"
   ]
  },
  {
   "cell_type": "code",
   "execution_count": 5,
   "outputs": [
    {
     "name": "stdout",
     "output_type": "stream",
     "text": [
      "Epoch 1/40\n",
      "4/4 [==============================] - 0s 5ms/step - loss: 0.2834\n",
      "Epoch 2/40\n",
      "4/4 [==============================] - 0s 0s/step - loss: 0.2572\n",
      "Epoch 3/40\n",
      "4/4 [==============================] - 0s 5ms/step - loss: 0.2469\n",
      "Epoch 4/40\n",
      "4/4 [==============================] - 0s 0s/step - loss: 0.2403\n",
      "Epoch 5/40\n",
      "4/4 [==============================] - 0s 5ms/step - loss: 0.2366\n",
      "Epoch 6/40\n",
      "4/4 [==============================] - 0s 0s/step - loss: 0.2370\n",
      "Epoch 7/40\n",
      "4/4 [==============================] - 0s 4ms/step - loss: 0.2315\n",
      "Epoch 8/40\n",
      "4/4 [==============================] - 0s 1ms/step - loss: 0.2267\n",
      "Epoch 9/40\n",
      "4/4 [==============================] - 0s 2ms/step - loss: 0.2238\n",
      "Epoch 10/40\n",
      "4/4 [==============================] - 0s 379us/step - loss: 0.2239\n",
      "Epoch 11/40\n",
      "4/4 [==============================] - 0s 0s/step - loss: 0.2213\n",
      "Epoch 12/40\n",
      "4/4 [==============================] - 0s 835us/step - loss: 0.2172\n",
      "Epoch 13/40\n",
      "4/4 [==============================] - 0s 3ms/step - loss: 0.2122\n",
      "Epoch 14/40\n",
      "4/4 [==============================] - 0s 1ms/step - loss: 0.2096\n",
      "Epoch 15/40\n",
      "4/4 [==============================] - 0s 2ms/step - loss: 0.2061\n",
      "Epoch 16/40\n",
      "4/4 [==============================] - 0s 2ms/step - loss: 0.2009\n",
      "Epoch 17/40\n",
      "4/4 [==============================] - 0s 2ms/step - loss: 0.1977\n",
      "Epoch 18/40\n",
      "4/4 [==============================] - 0s 3ms/step - loss: 0.1940\n",
      "Epoch 19/40\n",
      "4/4 [==============================] - 0s 2ms/step - loss: 0.1906\n",
      "Epoch 20/40\n",
      "4/4 [==============================] - 0s 1ms/step - loss: 0.1898\n",
      "Epoch 21/40\n",
      "4/4 [==============================] - 0s 985us/step - loss: 0.1848\n",
      "Epoch 22/40\n",
      "4/4 [==============================] - 0s 0s/step - loss: 0.1822\n",
      "Epoch 23/40\n",
      "4/4 [==============================] - 0s 963us/step - loss: 0.1780\n",
      "Epoch 24/40\n",
      "4/4 [==============================] - 0s 1ms/step - loss: 0.1747\n",
      "Epoch 25/40\n",
      "4/4 [==============================] - 0s 2ms/step - loss: 0.1735\n",
      "Epoch 26/40\n",
      "4/4 [==============================] - 0s 1ms/step - loss: 0.1690\n",
      "Epoch 27/40\n",
      "4/4 [==============================] - 0s 2ms/step - loss: 0.1620\n",
      "Epoch 28/40\n",
      "4/4 [==============================] - 0s 2ms/step - loss: 0.1565\n",
      "Epoch 29/40\n",
      "4/4 [==============================] - 0s 773us/step - loss: 0.1516\n",
      "Epoch 30/40\n",
      "4/4 [==============================] - 0s 2ms/step - loss: 0.1485\n",
      "Epoch 31/40\n",
      "4/4 [==============================] - 0s 2ms/step - loss: 0.1422\n",
      "Epoch 32/40\n",
      "4/4 [==============================] - 0s 1ms/step - loss: 0.1388\n",
      "Epoch 33/40\n",
      "4/4 [==============================] - 0s 1ms/step - loss: 0.1335\n",
      "Epoch 34/40\n",
      "4/4 [==============================] - 0s 1ms/step - loss: 0.1284\n",
      "Epoch 35/40\n",
      "4/4 [==============================] - 0s 2ms/step - loss: 0.1237\n",
      "Epoch 36/40\n",
      "4/4 [==============================] - 0s 2ms/step - loss: 0.1212\n",
      "Epoch 37/40\n",
      "4/4 [==============================] - 0s 2ms/step - loss: 0.1144\n",
      "Epoch 38/40\n",
      "4/4 [==============================] - 0s 2ms/step - loss: 0.1102\n",
      "Epoch 39/40\n",
      "4/4 [==============================] - 0s 2ms/step - loss: 0.1035\n",
      "Epoch 40/40\n",
      "4/4 [==============================] - 0s 0s/step - loss: 0.0992\n"
     ]
    },
    {
     "data": {
      "text/plain": "<keras.src.callbacks.History at 0x202ac4e8850>"
     },
     "execution_count": 5,
     "metadata": {},
     "output_type": "execute_result"
    }
   ],
   "source": [
    "iris = load_iris()\n",
    "\n",
    "sepal_length = iris.data[0:99, 0]\n",
    "petal_length = iris.data[0:99, 2]\n",
    "flower_type = iris.target[0:99]\n",
    "\n",
    "x = np.column_stack((sepal_length, petal_length))\n",
    "y = flower_type\n",
    "\n",
    "np.random.seed(5)\n",
    "tf.random.set_seed(5)\n",
    "random.seed(5)\n",
    "\n",
    "model = Sequential()\n",
    "model.add(Dense(12, activation='relu', input_dim=2))\n",
    "model.add(Dense(24, activation='relu'))\n",
    "model.add(Dense(12, activation='relu'))\n",
    "model.add(Dense(1, activation='sigmoid'))\n",
    "model.compile(loss='mean_squared_error')\n",
    "\n",
    "model.fit(x, y, epochs=40)"
   ],
   "metadata": {
    "collapsed": false,
    "ExecuteTime": {
     "end_time": "2023-10-04T17:20:50.797198Z",
     "start_time": "2023-10-04T17:20:50.169382600Z"
    }
   },
   "id": "408e176724c36e7b"
  },
  {
   "cell_type": "code",
   "execution_count": 6,
   "outputs": [
    {
     "name": "stdout",
     "output_type": "stream",
     "text": [
      "1/1 [==============================] - 0s 49ms/step\n",
      "[[0.2740175]]\n",
      "1/1 [==============================] - 0s 21ms/step\n",
      "[[0.283032]]\n",
      "1/1 [==============================] - 0s 27ms/step\n",
      "[[0.28044066]]\n",
      "1/1 [==============================] - 0s 26ms/step\n",
      "[[0.30906165]]\n",
      "1/1 [==============================] - 0s 21ms/step\n",
      "[[0.27850232]]\n",
      "1/1 [==============================] - 0s 19ms/step\n",
      "[[0.65421313]]\n",
      "1/1 [==============================] - 0s 27ms/step\n",
      "[[0.66322434]]\n",
      "1/1 [==============================] - 0s 27ms/step\n",
      "[[0.66322434]]\n",
      "1/1 [==============================] - 0s 34ms/step\n",
      "[[0.6540089]]\n",
      "1/1 [==============================] - 0s 39ms/step\n",
      "[[0.5144239]]\n"
     ]
    }
   ],
   "source": [
    "\n",
    "print(model.predict([[5.1, 1.4]]))\n",
    "print(model.predict([[4.9, 1.4]]))\n",
    "print(model.predict([[4.7, 1.3]]))\n",
    "print(model.predict([[4.6, 1.5]]))\n",
    "print(model.predict([[5.0, 1.4]]))\n",
    "print(model.predict([[5.6, 4.1]]))\n",
    "print(model.predict([[5.7, 4.2]]))\n",
    "print(model.predict([[5.7, 4.2]]))\n",
    "print(model.predict([[6.2, 4.3]]))\n",
    "print(model.predict([[5.1, 3.0]]))\n"
   ],
   "metadata": {
    "collapsed": false,
    "ExecuteTime": {
     "end_time": "2023-10-04T17:20:54.300125900Z",
     "start_time": "2023-10-04T17:20:53.783518200Z"
    }
   },
   "id": "655125f77b658734"
  }
 ],
 "metadata": {
  "kernelspec": {
   "display_name": "Python 3",
   "language": "python",
   "name": "python3"
  },
  "language_info": {
   "codemirror_mode": {
    "name": "ipython",
    "version": 2
   },
   "file_extension": ".py",
   "mimetype": "text/x-python",
   "name": "python",
   "nbconvert_exporter": "python",
   "pygments_lexer": "ipython2",
   "version": "2.7.6"
  }
 },
 "nbformat": 4,
 "nbformat_minor": 5
}
