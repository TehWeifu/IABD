{
 "cells": [
  {
   "cell_type": "code",
   "execution_count": 1,
   "id": "initial_id",
   "metadata": {
    "collapsed": true,
    "ExecuteTime": {
     "end_time": "2023-10-25T14:10:54.858790800Z",
     "start_time": "2023-10-25T14:10:51.491717800Z"
    }
   },
   "outputs": [],
   "source": [
    "import numpy as np\n",
    "import pandas as pd\n",
    "import tensorflow as tf\n",
    "import matplotlib.pyplot as plt\n",
    "from keras.models import Sequential\n",
    "from keras.layers import Dense\n",
    "from sklearn.datasets import load_iris\n",
    "from matplotlib.colors import LightSource\n",
    "import random\n",
    "\n",
    "import time"
   ]
  },
  {
   "cell_type": "code",
   "execution_count": 2,
   "outputs": [
    {
     "name": "stdout",
     "output_type": "stream",
     "text": [
      "3.11.5 (tags/v3.11.5:cce6ba9, Aug 24 2023, 14:38:34) [MSC v.1936 64 bit (AMD64)]\n"
     ]
    }
   ],
   "source": [
    "import sys\n",
    "\n",
    "print(sys.version)"
   ],
   "metadata": {
    "collapsed": false,
    "ExecuteTime": {
     "end_time": "2023-10-25T14:10:54.863250400Z",
     "start_time": "2023-10-25T14:10:54.858790800Z"
    }
   },
   "id": "fd3da3d84345ea63"
  },
  {
   "cell_type": "code",
   "execution_count": 3,
   "outputs": [
    {
     "name": "stdout",
     "output_type": "stream",
     "text": [
      "2.14.0\n"
     ]
    }
   ],
   "source": [
    "import tensorflow as tf\n",
    "\n",
    "print(tf.__version__)"
   ],
   "metadata": {
    "collapsed": false,
    "ExecuteTime": {
     "end_time": "2023-10-25T14:10:54.874899Z",
     "start_time": "2023-10-25T14:10:54.863250400Z"
    }
   },
   "id": "e3807dd5fa59c931"
  },
  {
   "cell_type": "code",
   "execution_count": 4,
   "outputs": [
    {
     "data": {
      "text/plain": "<matplotlib.collections.PathCollection at 0x2470166e110>"
     },
     "execution_count": 4,
     "metadata": {},
     "output_type": "execute_result"
    },
    {
     "data": {
      "text/plain": "<Figure size 640x480 with 1 Axes>",
      "image/png": "[encoded data removed]"
     },
     "metadata": {},
     "output_type": "display_data"
    }
   ],
   "source": [
    "import matplotlib.pyplot as plt\n",
    "import numpy as np\n",
    "\n",
    "figure = plt.figure()\n",
    "axes = figure.add_subplot()\n",
    "\n",
    "x = np.array([0, 1, 2, 3, 4, 5, 6])\n",
    "y = np.array([0, 1, 4, 9, 16, 25, 36])\n",
    "\n",
    "axes.scatter(x, y)"
   ],
   "metadata": {
    "collapsed": false,
    "ExecuteTime": {
     "end_time": "2023-10-25T14:10:54.986176500Z",
     "start_time": "2023-10-25T14:10:54.873628300Z"
    }
   },
   "id": "87c60b656dd6456a"
  },
  {
   "cell_type": "code",
   "execution_count": 5,
   "id": "408e176724c36e7b",
   "metadata": {
    "collapsed": false,
    "ExecuteTime": {
     "end_time": "2023-10-25T14:10:55.871342700Z",
     "start_time": "2023-10-25T14:10:54.982592900Z"
    }
   },
   "outputs": [
    {
     "name": "stdout",
     "output_type": "stream",
     "text": [
      "Epoch 1/40\n",
      "4/4 [==============================] - 0s 1ms/step - loss: 0.2402\n",
      "Epoch 2/40\n",
      "4/4 [==============================] - 0s 3ms/step - loss: 0.2344\n",
      "Epoch 3/40\n",
      "4/4 [==============================] - 0s 891us/step - loss: 0.2316\n",
      "Epoch 4/40\n",
      "4/4 [==============================] - 0s 0s/step - loss: 0.2289\n",
      "Epoch 5/40\n",
      "4/4 [==============================] - 0s 5ms/step - loss: 0.2274\n",
      "Epoch 6/40\n",
      "4/4 [==============================] - 0s 1ms/step - loss: 0.2257\n",
      "Epoch 7/40\n",
      "4/4 [==============================] - 0s 2ms/step - loss: 0.2233\n",
      "Epoch 8/40\n",
      "4/4 [==============================] - 0s 0s/step - loss: 0.2217\n",
      "Epoch 9/40\n",
      "4/4 [==============================] - 0s 1ms/step - loss: 0.2205\n",
      "Epoch 10/40\n",
      "4/4 [==============================] - 0s 2ms/step - loss: 0.2175\n",
      "Epoch 11/40\n",
      "4/4 [==============================] - 0s 2ms/step - loss: 0.2157\n",
      "Epoch 12/40\n",
      "4/4 [==============================] - 0s 0s/step - loss: 0.2133\n",
      "Epoch 13/40\n",
      "4/4 [==============================] - 0s 2ms/step - loss: 0.2116\n",
      "Epoch 14/40\n",
      "4/4 [==============================] - 0s 2ms/step - loss: 0.2094\n",
      "Epoch 15/40\n",
      "4/4 [==============================] - 0s 835us/step - loss: 0.2070\n",
      "Epoch 16/40\n",
      "4/4 [==============================] - 0s 2ms/step - loss: 0.2049\n",
      "Epoch 17/40\n",
      "4/4 [==============================] - 0s 2ms/step - loss: 0.2031\n",
      "Epoch 18/40\n",
      "4/4 [==============================] - 0s 1ms/step - loss: 0.2001\n",
      "Epoch 19/40\n",
      "4/4 [==============================] - 0s 3ms/step - loss: 0.1974\n",
      "Epoch 20/40\n",
      "4/4 [==============================] - 0s 0s/step - loss: 0.1957\n",
      "Epoch 21/40\n",
      "4/4 [==============================] - 0s 1ms/step - loss: 0.1932\n",
      "Epoch 22/40\n",
      "4/4 [==============================] - 0s 2ms/step - loss: 0.1898\n",
      "Epoch 23/40\n",
      "4/4 [==============================] - 0s 1ms/step - loss: 0.1876\n",
      "Epoch 24/40\n",
      "4/4 [==============================] - 0s 2ms/step - loss: 0.1853\n",
      "Epoch 25/40\n",
      "4/4 [==============================] - 0s 1ms/step - loss: 0.1825\n",
      "Epoch 26/40\n",
      "4/4 [==============================] - 0s 2ms/step - loss: 0.1801\n",
      "Epoch 27/40\n",
      "4/4 [==============================] - 0s 2ms/step - loss: 0.1770\n",
      "Epoch 28/40\n",
      "4/4 [==============================] - 0s 988us/step - loss: 0.1741\n",
      "Epoch 29/40\n",
      "4/4 [==============================] - 0s 3ms/step - loss: 0.1713\n",
      "Epoch 30/40\n",
      "4/4 [==============================] - 0s 2ms/step - loss: 0.1682\n",
      "Epoch 31/40\n",
      "4/4 [==============================] - 0s 2ms/step - loss: 0.1652\n",
      "Epoch 32/40\n",
      "4/4 [==============================] - 0s 2ms/step - loss: 0.1627\n",
      "Epoch 33/40\n",
      "4/4 [==============================] - 0s 2ms/step - loss: 0.1587\n",
      "Epoch 34/40\n",
      "4/4 [==============================] - 0s 2ms/step - loss: 0.1567\n",
      "Epoch 35/40\n",
      "4/4 [==============================] - 0s 1ms/step - loss: 0.1529\n",
      "Epoch 36/40\n",
      "4/4 [==============================] - 0s 2ms/step - loss: 0.1500\n",
      "Epoch 37/40\n",
      "4/4 [==============================] - 0s 1ms/step - loss: 0.1470\n",
      "Epoch 38/40\n",
      "4/4 [==============================] - 0s 3ms/step - loss: 0.1448\n",
      "Epoch 39/40\n",
      "4/4 [==============================] - 0s 484us/step - loss: 0.1413\n",
      "Epoch 40/40\n",
      "4/4 [==============================] - 0s 1ms/step - loss: 0.1384\n"
     ]
    },
    {
     "data": {
      "text/plain": "<keras.src.callbacks.History at 0x247038d26d0>"
     },
     "execution_count": 5,
     "metadata": {},
     "output_type": "execute_result"
    }
   ],
   "source": [
    "iris = load_iris()\n",
    "\n",
    "sepal_length = iris.data[0:100, 0]\n",
    "petal_length = iris.data[0:100, 2]\n",
    "flower_type = iris.target[0:100]\n",
    "\n",
    "x = np.column_stack((sepal_length, petal_length))\n",
    "y = flower_type\n",
    "\n",
    "tf.keras.utils.set_random_seed(5)\n",
    "\n",
    "np.random.seed(5)\n",
    "tf.random.set_seed(5)\n",
    "random.seed(5)\n",
    "\n",
    "model = Sequential()\n",
    "model.add(Dense(6, activation='relu', input_dim=2))\n",
    "model.add(Dense(12, activation='relu'))\n",
    "model.add(Dense(6, activation='relu'))\n",
    "model.add(Dense(1, activation='sigmoid'))\n",
    "model.compile(loss='mean_squared_error')\n",
    "\n",
    "model.fit(x, y, epochs=40)"
   ]
  },
  {
   "cell_type": "code",
   "execution_count": 6,
   "id": "655125f77b658734",
   "metadata": {
    "collapsed": false,
    "ExecuteTime": {
     "end_time": "2023-10-25T14:10:56.078239900Z",
     "start_time": "2023-10-25T14:10:55.867632700Z"
    }
   },
   "outputs": [
    {
     "name": "stdout",
     "output_type": "stream",
     "text": [
      "1/1 [==============================] - 0s 77ms/step\n",
      "[[0.7515563 ]\n",
      " [0.42488188]]\n",
      "1/1 [==============================] - 0s 24ms/step\n",
      "[[0.7515562]]\n",
      "1/1 [==============================] - 0s 19ms/step\n",
      "[[0.42488188]]\n"
     ]
    }
   ],
   "source": [
    "print(model.predict([[6.3, 4.9], [4.9, 1.4]]))\n",
    "print(model.predict([[6.3, 4.9]]))\n",
    "print(model.predict([[4.9, 1.4]]))"
   ]
  },
  {
   "cell_type": "code",
   "execution_count": 7,
   "outputs": [
    {
     "name": "stdout",
     "output_type": "stream",
     "text": [
      "There are a total of 102,400 predictions to make\n"
     ]
    }
   ],
   "source": [
    "subjects_to_predict = np.column_stack((sepal_length, petal_length))\n",
    "\n",
    "for i in range(0, 10):\n",
    "    subjects_to_predict = np.concatenate((subjects_to_predict, subjects_to_predict))\n",
    "\n",
    "print(f\"There are a total of {len(subjects_to_predict):,} predictions to make\")"
   ],
   "metadata": {
    "collapsed": false,
    "ExecuteTime": {
     "end_time": "2023-10-25T14:10:56.078239900Z",
     "start_time": "2023-10-25T14:10:56.073491300Z"
    }
   },
   "id": "117aff10c3868f04"
  },
  {
   "cell_type": "code",
   "execution_count": 8,
   "outputs": [
    {
     "name": "stdout",
     "output_type": "stream",
     "text": [
      "Making predictions with a single statement and passing all data in a matrix\n",
      "It took $2.734109 seconds to complete\n"
     ]
    }
   ],
   "source": [
    "print(\"Making predictions with a single statement and passing all data in a matrix\")\n",
    "timestamp_before = time.time_ns()\n",
    "model.predict(subjects_to_predict, verbose=0)\n",
    "timestamp_after = time.time_ns()\n",
    "\n",
    "elapsed_time = timestamp_after - timestamp_before\n",
    "print(f\"It took {elapsed_time / 1_000_000_000} seconds to complete\", sep='')"
   ],
   "metadata": {
    "collapsed": false,
    "ExecuteTime": {
     "end_time": "2023-10-25T14:10:58.816711600Z",
     "start_time": "2023-10-25T14:10:56.078239900Z"
    }
   },
   "id": "6629cbb1951f4f6d"
  },
  {
   "cell_type": "code",
   "execution_count": 9,
   "outputs": [
    {
     "name": "stdout",
     "output_type": "stream",
     "text": [
      "Making predictions with several statements passing subjects individually\n"
     ]
    },
    {
     "ename": "KeyboardInterrupt",
     "evalue": "",
     "output_type": "error",
     "traceback": [
      "\u001B[1;31m---------------------------------------------------------------------------\u001B[0m",
      "\u001B[1;31mKeyboardInterrupt\u001B[0m                         Traceback (most recent call last)",
      "Cell \u001B[1;32mIn[9], line 6\u001B[0m\n\u001B[0;32m      3\u001B[0m timestamp_before \u001B[38;5;241m=\u001B[39m time\u001B[38;5;241m.\u001B[39mtime_ns()\n\u001B[0;32m      5\u001B[0m \u001B[38;5;28;01mfor\u001B[39;00m subject \u001B[38;5;129;01min\u001B[39;00m subjects_to_predict:\n\u001B[1;32m----> 6\u001B[0m     \u001B[43mmodel\u001B[49m\u001B[38;5;241;43m.\u001B[39;49m\u001B[43mpredict\u001B[49m\u001B[43m(\u001B[49m\u001B[43m[\u001B[49m\u001B[43msubject\u001B[49m\u001B[38;5;241;43m.\u001B[39;49m\u001B[43mtolist\u001B[49m\u001B[43m(\u001B[49m\u001B[43m)\u001B[49m\u001B[43m]\u001B[49m\u001B[43m,\u001B[49m\u001B[43m \u001B[49m\u001B[43mverbose\u001B[49m\u001B[38;5;241;43m=\u001B[39;49m\u001B[38;5;241;43m0\u001B[39;49m\u001B[43m)\u001B[49m\n\u001B[0;32m      8\u001B[0m timestamp_after \u001B[38;5;241m=\u001B[39m time\u001B[38;5;241m.\u001B[39mtime_ns()\n\u001B[0;32m     10\u001B[0m elapsed_time \u001B[38;5;241m=\u001B[39m timestamp_after \u001B[38;5;241m-\u001B[39m timestamp_before\n",
      "File \u001B[1;32mC:\\Python311\\Lib\\site-packages\\keras\\src\\utils\\traceback_utils.py:65\u001B[0m, in \u001B[0;36mfilter_traceback.<locals>.error_handler\u001B[1;34m(*args, **kwargs)\u001B[0m\n\u001B[0;32m     63\u001B[0m filtered_tb \u001B[38;5;241m=\u001B[39m \u001B[38;5;28;01mNone\u001B[39;00m\n\u001B[0;32m     64\u001B[0m \u001B[38;5;28;01mtry\u001B[39;00m:\n\u001B[1;32m---> 65\u001B[0m     \u001B[38;5;28;01mreturn\u001B[39;00m \u001B[43mfn\u001B[49m\u001B[43m(\u001B[49m\u001B[38;5;241;43m*\u001B[39;49m\u001B[43margs\u001B[49m\u001B[43m,\u001B[49m\u001B[43m \u001B[49m\u001B[38;5;241;43m*\u001B[39;49m\u001B[38;5;241;43m*\u001B[39;49m\u001B[43mkwargs\u001B[49m\u001B[43m)\u001B[49m\n\u001B[0;32m     66\u001B[0m \u001B[38;5;28;01mexcept\u001B[39;00m \u001B[38;5;167;01mException\u001B[39;00m \u001B[38;5;28;01mas\u001B[39;00m e:\n\u001B[0;32m     67\u001B[0m     filtered_tb \u001B[38;5;241m=\u001B[39m _process_traceback_frames(e\u001B[38;5;241m.\u001B[39m__traceback__)\n",
      "File \u001B[1;32mC:\\Python311\\Lib\\site-packages\\keras\\src\\engine\\training.py:2627\u001B[0m, in \u001B[0;36mModel.predict\u001B[1;34m(self, x, batch_size, verbose, steps, callbacks, max_queue_size, workers, use_multiprocessing)\u001B[0m\n\u001B[0;32m   2625\u001B[0m     \u001B[38;5;28mself\u001B[39m\u001B[38;5;241m.\u001B[39m_steps_per_execution_tuner\u001B[38;5;241m.\u001B[39mstart()\n\u001B[0;32m   2626\u001B[0m batch_outputs \u001B[38;5;241m=\u001B[39m \u001B[38;5;28;01mNone\u001B[39;00m\n\u001B[1;32m-> 2627\u001B[0m \u001B[43m\u001B[49m\u001B[38;5;28;43;01mfor\u001B[39;49;00m\u001B[43m \u001B[49m\u001B[43m_\u001B[49m\u001B[43m,\u001B[49m\u001B[43m \u001B[49m\u001B[43miterator\u001B[49m\u001B[43m \u001B[49m\u001B[38;5;129;43;01min\u001B[39;49;00m\u001B[43m \u001B[49m\u001B[43mdata_handler\u001B[49m\u001B[38;5;241;43m.\u001B[39;49m\u001B[43menumerate_epochs\u001B[49m\u001B[43m(\u001B[49m\u001B[43m)\u001B[49m\u001B[43m:\u001B[49m\u001B[43m  \u001B[49m\u001B[38;5;66;43;03m# Single epoch.\u001B[39;49;00m\n\u001B[0;32m   2628\u001B[0m \u001B[43m    \u001B[49m\u001B[38;5;28;43;01mwith\u001B[39;49;00m\u001B[43m \u001B[49m\u001B[43mdata_handler\u001B[49m\u001B[38;5;241;43m.\u001B[39;49m\u001B[43mcatch_stop_iteration\u001B[49m\u001B[43m(\u001B[49m\u001B[43m)\u001B[49m\u001B[43m:\u001B[49m\n\u001B[0;32m   2629\u001B[0m \u001B[43m        \u001B[49m\u001B[38;5;28;43;01mfor\u001B[39;49;00m\u001B[43m \u001B[49m\u001B[43mstep\u001B[49m\u001B[43m \u001B[49m\u001B[38;5;129;43;01min\u001B[39;49;00m\u001B[43m \u001B[49m\u001B[43mdata_handler\u001B[49m\u001B[38;5;241;43m.\u001B[39;49m\u001B[43msteps\u001B[49m\u001B[43m(\u001B[49m\u001B[43m)\u001B[49m\u001B[43m:\u001B[49m\n",
      "File \u001B[1;32mC:\\Python311\\Lib\\site-packages\\keras\\src\\engine\\data_adapter.py:1347\u001B[0m, in \u001B[0;36mDataHandler.enumerate_epochs\u001B[1;34m(self)\u001B[0m\n\u001B[0;32m   1345\u001B[0m \u001B[38;5;28;01mif\u001B[39;00m \u001B[38;5;28mself\u001B[39m\u001B[38;5;241m.\u001B[39m_adapter\u001B[38;5;241m.\u001B[39mshould_recreate_iterator():\n\u001B[0;32m   1346\u001B[0m     data_iterator \u001B[38;5;241m=\u001B[39m \u001B[38;5;28miter\u001B[39m(\u001B[38;5;28mself\u001B[39m\u001B[38;5;241m.\u001B[39m_dataset)\n\u001B[1;32m-> 1347\u001B[0m     \u001B[38;5;28;01mif\u001B[39;00m \u001B[38;5;129;01mnot\u001B[39;00m \u001B[38;5;28misinstance\u001B[39m(\u001B[38;5;28mself\u001B[39m\u001B[38;5;241m.\u001B[39m_dataset, DistributedDataset):\n\u001B[0;32m   1348\u001B[0m         steps \u001B[38;5;241m=\u001B[39m \u001B[38;5;28mself\u001B[39m\u001B[38;5;241m.\u001B[39m_infer_steps(\n\u001B[0;32m   1349\u001B[0m             \u001B[38;5;28mself\u001B[39m\u001B[38;5;241m.\u001B[39m_steps_per_epoch, \u001B[38;5;28mself\u001B[39m\u001B[38;5;241m.\u001B[39m_dataset\n\u001B[0;32m   1350\u001B[0m         )\n\u001B[0;32m   1351\u001B[0m         \u001B[38;5;28;01mif\u001B[39;00m steps \u001B[38;5;129;01mis\u001B[39;00m \u001B[38;5;129;01mnot\u001B[39;00m \u001B[38;5;28;01mNone\u001B[39;00m:\n",
      "File \u001B[1;32m<frozen abc>:117\u001B[0m, in \u001B[0;36m__instancecheck__\u001B[1;34m(cls, instance)\u001B[0m\n",
      "\u001B[1;31mKeyboardInterrupt\u001B[0m: "
     ]
    }
   ],
   "source": [
    "print(\"Making predictions with several statements passing subjects individually\")\n",
    "\n",
    "timestamp_before = time.time_ns()\n",
    "\n",
    "for subject in subjects_to_predict:\n",
    "    model.predict([subject.tolist()], verbose=0)\n",
    "\n",
    "timestamp_after = time.time_ns()\n",
    "\n",
    "elapsed_time = timestamp_after - timestamp_before\n",
    "print(f\"It took ${elapsed_time / 1_000_000_000} seconds to complete\", sep='')"
   ],
   "metadata": {
    "collapsed": false,
    "ExecuteTime": {
     "end_time": "2023-10-25T14:11:08.987245300Z",
     "start_time": "2023-10-25T14:10:58.816711600Z"
    }
   },
   "id": "9869e3827e960bec"
  }
 ],
 "metadata": {
  "kernelspec": {
   "display_name": "Python 3",
   "language": "python",
   "name": "python3"
  },
  "language_info": {
   "codemirror_mode": {
    "name": "ipython",
    "version": 3
   },
   "file_extension": ".py",
   "mimetype": "text/x-python",
   "name": "python",
   "nbconvert_exporter": "python",
   "pygments_lexer": "ipython3",
   "version": "3.11.5"
  }
 },
 "nbformat": 4,
 "nbformat_minor": 5
}
