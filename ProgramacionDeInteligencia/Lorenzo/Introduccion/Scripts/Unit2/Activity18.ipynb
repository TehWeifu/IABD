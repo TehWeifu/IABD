{
 "cells": [
  {
   "cell_type": "code",
   "execution_count": null,
   "id": "initial_id",
   "metadata": {
    "collapsed": true,
    "is_executing": true
   },
   "outputs": [],
   "source": [
    "import time\n",
    "\n",
    "import numpy as np\n",
    "import pandas as pd\n",
    "import tensorflow as tf\n",
    "import matplotlib.pyplot as plt\n",
    "from keras.models import Sequential\n",
    "from keras.layers import Dense\n",
    "from sklearn.datasets import load_iris\n",
    "from matplotlib.colors import LightSource\n",
    "import random\n",
    "import tabulate"
   ]
  },
  {
   "cell_type": "code",
   "execution_count": null,
   "outputs": [],
   "source": [
    "import sys\n",
    "\n",
    "print(sys.version)"
   ],
   "metadata": {
    "collapsed": false,
    "is_executing": true
   },
   "id": "fd3da3d84345ea63"
  },
  {
   "cell_type": "code",
   "execution_count": null,
   "outputs": [],
   "source": [
    "import tensorflow as tf\n",
    "\n",
    "print(tf.__version__)"
   ],
   "metadata": {
    "collapsed": false,
    "is_executing": true
   },
   "id": "e3807dd5fa59c931"
  },
  {
   "cell_type": "code",
   "execution_count": null,
   "outputs": [],
   "source": [
    "import matplotlib.pyplot as plt\n",
    "import numpy as np\n",
    "\n",
    "figure = plt.figure()\n",
    "axes = figure.add_subplot()\n",
    "\n",
    "x = np.array([0, 1, 2, 3, 4, 5, 6])\n",
    "y = np.array([0, 1, 4, 9, 16, 25, 36])\n",
    "\n",
    "axes.scatter(x, y)"
   ],
   "metadata": {
    "collapsed": false,
    "is_executing": true
   },
   "id": "87c60b656dd6456a"
  },
  {
   "cell_type": "code",
   "execution_count": null,
   "outputs": [],
   "source": [
    "def get_datos():\n",
    "    iris = load_iris()\n",
    "\n",
    "    sepal_length = iris.data[0:99, 0]\n",
    "    petal_length = iris.data[0:99, 2]\n",
    "    flower_type = iris.target[0:99]\n",
    "\n",
    "    x = np.column_stack((sepal_length, petal_length))\n",
    "    y = flower_type\n",
    "\n",
    "    return x, y"
   ],
   "metadata": {
    "collapsed": false,
    "is_executing": true
   },
   "id": "e13f511492ba446a"
  },
  {
   "cell_type": "code",
   "execution_count": null,
   "outputs": [],
   "source": [
    "def compile_fit(layers_epochs, model_x, model_y):\n",
    "    tf.keras.utils.set_random_seed(5)\n",
    "\n",
    "    layers = layers_epochs[0]\n",
    "    epochs = layers_epochs[1]\n",
    "\n",
    "    model = Sequential()\n",
    "\n",
    "    number_of_columns = len(model_x[0])\n",
    "\n",
    "    for idx, layer in enumerate(layers):\n",
    "        if idx == 0:\n",
    "            model.add(Dense(layer, activation='relu', input_dim=number_of_columns))\n",
    "        elif idx == (len(layers) - 1):\n",
    "            model.add(Dense(layer, activation='sigmoid'))\n",
    "        else:\n",
    "            model.add(Dense(layer, activation='relu'))\n",
    "\n",
    "    model.compile(loss='mean_squared_error')\n",
    "\n",
    "    timestamp_before = time.time_ns()\n",
    "    model.fit(model_x, model_y, epochs=epochs)\n",
    "    timestamp_after = time.time_ns()\n",
    "\n",
    "    return {\n",
    "        \"model\": model,\n",
    "        \"elapsed_time\": (timestamp_after - timestamp_before) / 1_000_000_000\n",
    "    }"
   ],
   "metadata": {
    "collapsed": false,
    "is_executing": true
   },
   "id": "126dcf48b28882f2"
  },
  {
   "cell_type": "code",
   "execution_count": null,
   "outputs": [],
   "source": [
    "x, y = get_datos()"
   ],
   "metadata": {
    "collapsed": false,
    "is_executing": true
   },
   "id": "7669c98f552e2a10"
  },
  {
   "cell_type": "code",
   "execution_count": null,
   "id": "408e176724c36e7b",
   "metadata": {
    "collapsed": false,
    "is_executing": true
   },
   "outputs": [],
   "source": [
    "results = []\n",
    "\n",
    "neuronal_nets = [[[2, 4, 1], 30], [[4, 8, 8, 2, 1], 34], [[8, 12, 24, 12, 1], 32], [[8, 16, 8, 1], 28],\n",
    "                 [[16, 32, 1], 20]]\n",
    "for net in neuronal_nets:\n",
    "    model_performance = compile_fit(net, x, y)\n",
    "    model = model_performance[\"model\"]\n",
    "    time_taken = model_performance[\"elapsed_time\"]\n",
    "\n",
    "    prediction_result = model.predict([[4.9, 1.4], [6.3, 4.9]])\n",
    "\n",
    "    indexed_result = [(','.join(map(str, net[0]))), net[1], prediction_result[0][0], prediction_result[1][0],\n",
    "                      round(time_taken, 2)]\n",
    "\n",
    "    results.append(indexed_result)"
   ]
  },
  {
   "cell_type": "code",
   "execution_count": null,
   "id": "655125f77b658734",
   "metadata": {
    "collapsed": false,
    "is_executing": true
   },
   "outputs": [],
   "source": [
    "print(tabulate.tabulate(results, headers=[\"Red\", \"Epocas\", \"Result 1\", \"Result 2\", \"Tiempo (s)\"]))"
   ]
  }
 ],
 "metadata": {
  "kernelspec": {
   "display_name": "Python 3",
   "language": "python",
   "name": "python3"
  },
  "language_info": {
   "codemirror_mode": {
    "name": "ipython",
    "version": 3
   },
   "file_extension": ".py",
   "mimetype": "text/x-python",
   "name": "python",
   "nbconvert_exporter": "python",
   "pygments_lexer": "ipython3",
   "version": "3.11.5"
  }
 },
 "nbformat": 4,
 "nbformat_minor": 5
}
