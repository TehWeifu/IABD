{
 "cells": [
  {
   "cell_type": "markdown",
   "source": [
    "Ejercicio 1\n",
    "Crea una array de numpy con los siguiente números primos: 2, 3, 5, 7, 11, 13, 17, 19, 23, 29\n"
   ],
   "metadata": {
    "collapsed": false
   },
   "id": "babfd643255e8b75"
  },
  {
   "cell_type": "code",
   "execution_count": 13,
   "outputs": [],
   "source": [
    "import numpy as np"
   ],
   "metadata": {
    "collapsed": false,
    "ExecuteTime": {
     "end_time": "2023-11-08T16:01:13.284144400Z",
     "start_time": "2023-11-08T16:01:13.264139300Z"
    }
   },
   "id": "3fb146a9acf657a7"
  },
  {
   "cell_type": "code",
   "execution_count": 14,
   "id": "initial_id",
   "metadata": {
    "collapsed": true,
    "ExecuteTime": {
     "end_time": "2023-11-08T16:01:13.284144400Z",
     "start_time": "2023-11-08T16:01:13.267484300Z"
    }
   },
   "outputs": [],
   "source": [
    "prime_numbers = np.array([2, 3, 5, 7, 11, 13, 17, 19, 23, 29])"
   ]
  },
  {
   "cell_type": "markdown",
   "source": [
    "Muestra el último elemento. Y debes hacerlo sin saber su longitud."
   ],
   "metadata": {
    "collapsed": false
   },
   "id": "b6a6d2a4056b0a68"
  },
  {
   "cell_type": "code",
   "execution_count": 15,
   "outputs": [
    {
     "name": "stdout",
     "output_type": "stream",
     "text": [
      "The last element of the array is 29\n"
     ]
    }
   ],
   "source": [
    "print(f\"The last element of the array is {prime_numbers[-1]}\")"
   ],
   "metadata": {
    "collapsed": false,
    "ExecuteTime": {
     "end_time": "2023-11-08T16:01:13.284144400Z",
     "start_time": "2023-11-08T16:01:13.271294700Z"
    }
   },
   "id": "67b6640816352ea9"
  },
  {
   "cell_type": "markdown",
   "source": [
    "Muestra el 3º elemento"
   ],
   "metadata": {
    "collapsed": false
   },
   "id": "33fdd00444d00890"
  },
  {
   "cell_type": "code",
   "execution_count": 16,
   "outputs": [
    {
     "name": "stdout",
     "output_type": "stream",
     "text": [
      "The third element of the array is 5\n"
     ]
    }
   ],
   "source": [
    "print(f\"The third element of the array is {prime_numbers[2]}\")"
   ],
   "metadata": {
    "collapsed": false,
    "ExecuteTime": {
     "end_time": "2023-11-08T16:01:13.315537800Z",
     "start_time": "2023-11-08T16:01:13.279470Z"
    }
   },
   "id": "73f23993760102c3"
  },
  {
   "cell_type": "markdown",
   "source": [
    "Muestra el último y 3º elemento."
   ],
   "metadata": {
    "collapsed": false
   },
   "id": "32b58f5a40d0be72"
  },
  {
   "cell_type": "code",
   "execution_count": 17,
   "outputs": [
    {
     "name": "stdout",
     "output_type": "stream",
     "text": [
      "The last and third elements of the array are [29  5]\n"
     ]
    }
   ],
   "source": [
    "print(f\"The last and third elements of the array are {prime_numbers[[-1, 2]]}\")"
   ],
   "metadata": {
    "collapsed": false,
    "ExecuteTime": {
     "end_time": "2023-11-08T16:01:13.315537800Z",
     "start_time": "2023-11-08T16:01:13.284144400Z"
    }
   },
   "id": "be953361a78cad67"
  },
  {
   "cell_type": "markdown",
   "source": [
    "Muestra del 2º al 5º elemento."
   ],
   "metadata": {
    "collapsed": false
   },
   "id": "99fc0608e0206356"
  },
  {
   "cell_type": "code",
   "execution_count": 18,
   "outputs": [
    {
     "name": "stdout",
     "output_type": "stream",
     "text": [
      "The elements in position from second to fifth of the array are [ 3  5  7 11]\n"
     ]
    }
   ],
   "source": [
    "print(f\"The elements in position from second to fifth of the array are {prime_numbers[1:5]}\")"
   ],
   "metadata": {
    "collapsed": false,
    "ExecuteTime": {
     "end_time": "2023-11-08T16:01:13.315537800Z",
     "start_time": "2023-11-08T16:01:13.291126200Z"
    }
   },
   "id": "13728a5101b923e6"
  },
  {
   "cell_type": "markdown",
   "source": [
    "Muestra el 2° y el 5° elemento"
   ],
   "metadata": {
    "collapsed": false
   },
   "id": "bad3df5cfbdfbaad"
  },
  {
   "cell_type": "code",
   "execution_count": 19,
   "outputs": [
    {
     "name": "stdout",
     "output_type": "stream",
     "text": [
      "The second and fifth elements of the array are [ 3 11]\n"
     ]
    }
   ],
   "source": [
    "print(f\"The second and fifth elements of the array are {prime_numbers[[1, 4]]}\")"
   ],
   "metadata": {
    "collapsed": false,
    "ExecuteTime": {
     "end_time": "2023-11-08T16:01:13.315537800Z",
     "start_time": "2023-11-08T16:01:13.299704500Z"
    }
   },
   "id": "5fb1eef3d844487f"
  },
  {
   "cell_type": "markdown",
   "source": [
    "Muestra el último y el penúltimo elemento. Y debes hacerlo sin saber su longitud.\n"
   ],
   "metadata": {
    "collapsed": false
   },
   "id": "d5b37ed9265b43e2"
  },
  {
   "cell_type": "code",
   "execution_count": 20,
   "outputs": [
    {
     "name": "stdout",
     "output_type": "stream",
     "text": [
      "The last and the previouselements of the array are [29 23]\n"
     ]
    }
   ],
   "source": [
    "print(f\"The last and the previouselements of the array are {prime_numbers[[-1, -2]]}\")"
   ],
   "metadata": {
    "collapsed": false,
    "ExecuteTime": {
     "end_time": "2023-11-08T16:01:13.315537800Z",
     "start_time": "2023-11-08T16:01:13.303499500Z"
    }
   },
   "id": "ddc3250e1f671dde"
  }
 ],
 "metadata": {
  "kernelspec": {
   "display_name": "Python 3",
   "language": "python",
   "name": "python3"
  },
  "language_info": {
   "codemirror_mode": {
    "name": "ipython",
    "version": 2
   },
   "file_extension": ".py",
   "mimetype": "text/x-python",
   "name": "python",
   "nbconvert_exporter": "python",
   "pygments_lexer": "ipython2",
   "version": "2.7.6"
  }
 },
 "nbformat": 4,
 "nbformat_minor": 5
}
