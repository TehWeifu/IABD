{
 "cells": [
  {
   "cell_type": "markdown",
   "source": [
    "Ejercicio 10: Matrices\n",
    "Crea la siguiente matriz:"
   ],
   "metadata": {
    "collapsed": false
   },
   "id": "c5fe4d6b9330c0f9"
  },
  {
   "cell_type": "code",
   "execution_count": 2,
   "id": "initial_id",
   "metadata": {
    "collapsed": true,
    "ExecuteTime": {
     "end_time": "2023-11-15T15:40:57.403793900Z",
     "start_time": "2023-11-15T15:40:57.310572Z"
    }
   },
   "outputs": [],
   "source": [
    "import numpy as np"
   ]
  },
  {
   "cell_type": "code",
   "execution_count": 3,
   "outputs": [],
   "source": [
    "matrix = np.array([\n",
    "    [1, 2, 3],\n",
    "    [4, 5, 6],\n",
    "    [7, 8, 9],\n",
    "])"
   ],
   "metadata": {
    "collapsed": false,
    "ExecuteTime": {
     "end_time": "2023-11-15T15:40:57.404818200Z",
     "start_time": "2023-11-15T15:40:57.400531300Z"
    }
   },
   "id": "522da5033d2882e9"
  },
  {
   "cell_type": "markdown",
   "source": [
    "Multiplica cada elemento de la matriz por sí mismo"
   ],
   "metadata": {
    "collapsed": false
   },
   "id": "46805a823bbce724"
  },
  {
   "cell_type": "code",
   "execution_count": 4,
   "outputs": [
    {
     "data": {
      "text/plain": "array([[ 1,  4,  9],\n       [16, 25, 36],\n       [49, 64, 81]])"
     },
     "execution_count": 4,
     "metadata": {},
     "output_type": "execute_result"
    }
   ],
   "source": [
    "matrix_multiply_elements_itself = matrix * matrix\n",
    "matrix_multiply_elements_itself"
   ],
   "metadata": {
    "collapsed": false,
    "ExecuteTime": {
     "end_time": "2023-11-15T15:40:57.418205900Z",
     "start_time": "2023-11-15T15:40:57.404818200Z"
    }
   },
   "id": "5fe254ea8e67f9e1"
  },
  {
   "cell_type": "markdown",
   "source": [
    "Multiplica la matriz por si misma"
   ],
   "metadata": {
    "collapsed": false
   },
   "id": "1b1607b1d3271950"
  },
  {
   "cell_type": "code",
   "execution_count": 8,
   "outputs": [
    {
     "data": {
      "text/plain": "array([[ 30,  36,  42],\n       [ 66,  81,  96],\n       [102, 126, 150]])"
     },
     "execution_count": 8,
     "metadata": {},
     "output_type": "execute_result"
    }
   ],
   "source": [
    "matrix_multiply_itself = np.dot(matrix, matrix)\n",
    "matrix_multiply_itself"
   ],
   "metadata": {
    "collapsed": false,
    "ExecuteTime": {
     "end_time": "2023-11-15T15:45:08.360314400Z",
     "start_time": "2023-11-15T15:45:08.348828500Z"
    }
   },
   "id": "8c98008c203956de"
  }
 ],
 "metadata": {
  "kernelspec": {
   "display_name": "Python 3",
   "language": "python",
   "name": "python3"
  },
  "language_info": {
   "codemirror_mode": {
    "name": "ipython",
    "version": 2
   },
   "file_extension": ".py",
   "mimetype": "text/x-python",
   "name": "python",
   "nbconvert_exporter": "python",
   "pygments_lexer": "ipython2",
   "version": "2.7.6"
  }
 },
 "nbformat": 4,
 "nbformat_minor": 5
}
