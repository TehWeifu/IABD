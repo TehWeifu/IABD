{
 "cells": [
  {
   "cell_type": "markdown",
   "source": [
    "Ejercicio 11: Funciones a arrays\n",
    "Crea una función llamada f que acepte como parámetro el número y que retorne el valor multiplicado por 2 y además que se le sume 1."
   ],
   "metadata": {
    "collapsed": false
   },
   "id": "9de7f5bba0702507"
  },
  {
   "cell_type": "code",
   "execution_count": 10,
   "outputs": [],
   "source": [
    "import numpy as np"
   ],
   "metadata": {
    "collapsed": false,
    "ExecuteTime": {
     "end_time": "2023-11-15T18:19:00.883952800Z",
     "start_time": "2023-11-15T18:19:00.865296100Z"
    }
   },
   "id": "102a78adc445b0ee"
  },
  {
   "cell_type": "code",
   "execution_count": 11,
   "id": "initial_id",
   "metadata": {
    "collapsed": true,
    "ExecuteTime": {
     "end_time": "2023-11-15T18:19:00.885171500Z",
     "start_time": "2023-11-15T18:19:00.866498100Z"
    }
   },
   "outputs": [],
   "source": [
    "def f(num):\n",
    "    return num * 2 + 1"
   ]
  },
  {
   "cell_type": "markdown",
   "source": [
    "Crea ahora el vector de numpy [1,5,4,7,3,9,8,6] y aplícale la función f"
   ],
   "metadata": {
    "collapsed": false
   },
   "id": "c9fa6d68d4b61104"
  },
  {
   "cell_type": "code",
   "execution_count": 12,
   "outputs": [
    {
     "data": {
      "text/plain": "array([ 3, 11,  9, 15,  7, 19, 17, 13])"
     },
     "execution_count": 12,
     "metadata": {},
     "output_type": "execute_result"
    }
   ],
   "source": [
    "my_array = [1, 5, 4, 7, 3, 9, 8, 6]\n",
    "my_array_transformed = np.array([f(x) for x in my_array])\n",
    "my_array_transformed"
   ],
   "metadata": {
    "collapsed": false,
    "ExecuteTime": {
     "end_time": "2023-11-15T18:19:00.885171500Z",
     "start_time": "2023-11-15T18:19:00.872372100Z"
    }
   },
   "id": "166da72a0e768655"
  }
 ],
 "metadata": {
  "kernelspec": {
   "display_name": "Python 3",
   "language": "python",
   "name": "python3"
  },
  "language_info": {
   "codemirror_mode": {
    "name": "ipython",
    "version": 2
   },
   "file_extension": ".py",
   "mimetype": "text/x-python",
   "name": "python",
   "nbconvert_exporter": "python",
   "pygments_lexer": "ipython2",
   "version": "2.7.6"
  }
 },
 "nbformat": 4,
 "nbformat_minor": 5
}
