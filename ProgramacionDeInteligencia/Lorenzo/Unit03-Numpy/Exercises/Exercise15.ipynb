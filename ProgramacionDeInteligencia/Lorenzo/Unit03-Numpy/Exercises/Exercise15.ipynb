{
 "cells": [
  {
   "cell_type": "markdown",
   "source": [
    "Ejercicio 15:Dimensiones\n",
    "Muestra con numpy el número de dimensiones de los siguientes arrays:"
   ],
   "metadata": {
    "collapsed": false
   },
   "id": "b1b5156704e81847"
  },
  {
   "cell_type": "code",
   "execution_count": 3,
   "outputs": [],
   "source": [
    "import numpy as np"
   ],
   "metadata": {
    "collapsed": false,
    "ExecuteTime": {
     "end_time": "2023-11-15T18:35:25.378562200Z",
     "start_time": "2023-11-15T18:35:25.357435Z"
    }
   },
   "id": "96b361f2009e6e5e"
  },
  {
   "cell_type": "code",
   "execution_count": 4,
   "id": "initial_id",
   "metadata": {
    "collapsed": true,
    "ExecuteTime": {
     "end_time": "2023-11-15T18:35:25.378562200Z",
     "start_time": "2023-11-15T18:35:25.359158500Z"
    }
   },
   "outputs": [
    {
     "name": "stdout",
     "output_type": "stream",
     "text": [
      "The dimension of the array is 1\n"
     ]
    }
   ],
   "source": [
    "a = [2, 3, 5, 7, 11, 13, 17, 19, 23, 29, 31, 37]\n",
    "print(f\"The dimension of the array is {np.array(a).ndim}\")"
   ]
  },
  {
   "cell_type": "code",
   "execution_count": 5,
   "outputs": [
    {
     "name": "stdout",
     "output_type": "stream",
     "text": [
      "The dimension of the array is 2\n"
     ]
    }
   ],
   "source": [
    "b = [[2, 3], [5, 7], [11, 13], [17, 19], [23, 29], [31, 37]]\n",
    "print(f\"The dimension of the array is {np.array(b).ndim}\")"
   ],
   "metadata": {
    "collapsed": false,
    "ExecuteTime": {
     "end_time": "2023-11-15T18:35:25.379773800Z",
     "start_time": "2023-11-15T18:35:25.366757Z"
    }
   },
   "id": "64dbd22114340971"
  },
  {
   "cell_type": "code",
   "execution_count": 6,
   "outputs": [
    {
     "name": "stdout",
     "output_type": "stream",
     "text": [
      "The dimension of the array is 3\n"
     ]
    }
   ],
   "source": [
    "c = [[[2, 3], [5, 7]], [[11, 13], [17, 19]], [[23, 29], [31, 37]]]\n",
    "print(f\"The dimension of the array is {np.array(c).ndim}\")"
   ],
   "metadata": {
    "collapsed": false,
    "ExecuteTime": {
     "end_time": "2023-11-15T18:35:25.379773800Z",
     "start_time": "2023-11-15T18:35:25.373859900Z"
    }
   },
   "id": "4201a30baecbb9da"
  }
 ],
 "metadata": {
  "kernelspec": {
   "display_name": "Python 3",
   "language": "python",
   "name": "python3"
  },
  "language_info": {
   "codemirror_mode": {
    "name": "ipython",
    "version": 2
   },
   "file_extension": ".py",
   "mimetype": "text/x-python",
   "name": "python",
   "nbconvert_exporter": "python",
   "pygments_lexer": "ipython2",
   "version": "2.7.6"
  }
 },
 "nbformat": 4,
 "nbformat_minor": 5
}
