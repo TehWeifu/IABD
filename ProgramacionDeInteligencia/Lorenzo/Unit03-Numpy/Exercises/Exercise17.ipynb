{
 "cells": [
  {
   "cell_type": "markdown",
   "source": [
    "Ejercicio 17:Tipo de datos\n",
    "Muestra con numpy el tipo de datos de los siguientes arrays:"
   ],
   "metadata": {
    "collapsed": false
   },
   "id": "54d6ce647adc35f1"
  },
  {
   "cell_type": "code",
   "execution_count": 1,
   "id": "initial_id",
   "metadata": {
    "collapsed": true,
    "ExecuteTime": {
     "end_time": "2023-11-15T21:28:27.450796400Z",
     "start_time": "2023-11-15T21:28:27.363501400Z"
    }
   },
   "outputs": [],
   "source": [
    "import numpy as np"
   ]
  },
  {
   "cell_type": "code",
   "execution_count": 2,
   "outputs": [
    {
     "name": "stdout",
     "output_type": "stream",
     "text": [
      "The datatype of array 'a' is int32\n"
     ]
    }
   ],
   "source": [
    "a = [2, 3, 5]\n",
    "print(f\"The datatype of array 'a' is {np.array(a).dtype}\")"
   ],
   "metadata": {
    "collapsed": false,
    "ExecuteTime": {
     "end_time": "2023-11-15T21:28:27.459748400Z",
     "start_time": "2023-11-15T21:28:27.454771600Z"
    }
   },
   "id": "9d259577132c98ef"
  },
  {
   "cell_type": "code",
   "execution_count": 3,
   "outputs": [
    {
     "name": "stdout",
     "output_type": "stream",
     "text": [
      "The datatype of array 'b' is float64\n"
     ]
    }
   ],
   "source": [
    "b = [2.4, 3.2, 5.6]\n",
    "print(f\"The datatype of array 'b' is {np.array(b).dtype}\")"
   ],
   "metadata": {
    "collapsed": false,
    "ExecuteTime": {
     "end_time": "2023-11-15T21:28:27.465405Z",
     "start_time": "2023-11-15T21:28:27.460890Z"
    }
   },
   "id": "d858cc2d4dd11325"
  },
  {
   "cell_type": "code",
   "execution_count": 4,
   "outputs": [
    {
     "name": "stdout",
     "output_type": "stream",
     "text": [
      "The datatype of array 'c' is float64\n"
     ]
    }
   ],
   "source": [
    "c = [2, 3, 5.6]\n",
    "print(f\"The datatype of array 'c' is {np.array(c).dtype}\")"
   ],
   "metadata": {
    "collapsed": false,
    "ExecuteTime": {
     "end_time": "2023-11-15T21:28:27.585279600Z",
     "start_time": "2023-11-15T21:28:27.464897600Z"
    }
   },
   "id": "7b9a2813bc4e5391"
  }
 ],
 "metadata": {
  "kernelspec": {
   "display_name": "Python 3",
   "language": "python",
   "name": "python3"
  },
  "language_info": {
   "codemirror_mode": {
    "name": "ipython",
    "version": 2
   },
   "file_extension": ".py",
   "mimetype": "text/x-python",
   "name": "python",
   "nbconvert_exporter": "python",
   "pygments_lexer": "ipython2",
   "version": "2.7.6"
  }
 },
 "nbformat": 4,
 "nbformat_minor": 5
}
