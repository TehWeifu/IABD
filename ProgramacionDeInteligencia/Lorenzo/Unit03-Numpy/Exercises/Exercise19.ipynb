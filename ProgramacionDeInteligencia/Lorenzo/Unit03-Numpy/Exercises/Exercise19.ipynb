{
 "cells": [
  {
   "cell_type": "markdown",
   "source": [
    "Ejercicio 19: Unir columnas\n",
    "\n",
    "En ejercicios anteriores obtuviste para el problema de las flores, una matriz x y un vector y.\n",
    "\n",
    "Une los datos en una nueva matriz de forma que cada fila de la nueva matriz contenga los datos de cada fila de la x y el dato correspondiente de la y."
   ],
   "metadata": {
    "collapsed": false
   },
   "id": "a1839e83aa864245"
  },
  {
   "cell_type": "code",
   "execution_count": 4,
   "id": "initial_id",
   "metadata": {
    "collapsed": true,
    "ExecuteTime": {
     "end_time": "2023-11-15T21:57:28.662296500Z",
     "start_time": "2023-11-15T21:57:28.645253200Z"
    }
   },
   "outputs": [],
   "source": [
    "import numpy as np\n",
    "from sklearn.datasets import load_iris"
   ]
  },
  {
   "cell_type": "code",
   "execution_count": 5,
   "outputs": [],
   "source": [
    "datos = load_iris().data\n",
    "resultado = load_iris().target"
   ],
   "metadata": {
    "collapsed": false,
    "ExecuteTime": {
     "end_time": "2023-11-15T21:57:28.677777900Z",
     "start_time": "2023-11-15T21:57:28.648950900Z"
    }
   },
   "id": "59e375f689e2ff92"
  },
  {
   "cell_type": "code",
   "execution_count": 6,
   "outputs": [
    {
     "data": {
      "text/plain": "array([[5.1, 1.4, 0. ],\n       [4.9, 1.4, 0. ],\n       [4.7, 1.3, 0. ],\n       [4.6, 1.5, 0. ],\n       [5. , 1.4, 0. ],\n       [5.4, 1.7, 0. ],\n       [4.6, 1.4, 0. ],\n       [5. , 1.5, 0. ],\n       [4.4, 1.4, 0. ],\n       [4.9, 1.5, 0. ],\n       [5.4, 1.5, 0. ],\n       [4.8, 1.6, 0. ],\n       [4.8, 1.4, 0. ],\n       [4.3, 1.1, 0. ],\n       [5.8, 1.2, 0. ],\n       [5.7, 1.5, 0. ],\n       [5.4, 1.3, 0. ],\n       [5.1, 1.4, 0. ],\n       [5.7, 1.7, 0. ],\n       [5.1, 1.5, 0. ],\n       [5.4, 1.7, 0. ],\n       [5.1, 1.5, 0. ],\n       [4.6, 1. , 0. ],\n       [5.1, 1.7, 0. ],\n       [4.8, 1.9, 0. ],\n       [5. , 1.6, 0. ],\n       [5. , 1.6, 0. ],\n       [5.2, 1.5, 0. ],\n       [5.2, 1.4, 0. ],\n       [4.7, 1.6, 0. ],\n       [4.8, 1.6, 0. ],\n       [5.4, 1.5, 0. ],\n       [5.2, 1.5, 0. ],\n       [5.5, 1.4, 0. ],\n       [4.9, 1.5, 0. ],\n       [5. , 1.2, 0. ],\n       [5.5, 1.3, 0. ],\n       [4.9, 1.4, 0. ],\n       [4.4, 1.3, 0. ],\n       [5.1, 1.5, 0. ],\n       [5. , 1.3, 0. ],\n       [4.5, 1.3, 0. ],\n       [4.4, 1.3, 0. ],\n       [5. , 1.6, 0. ],\n       [5.1, 1.9, 0. ],\n       [4.8, 1.4, 0. ],\n       [5.1, 1.6, 0. ],\n       [4.6, 1.4, 0. ],\n       [5.3, 1.5, 0. ],\n       [5. , 1.4, 0. ],\n       [7. , 4.7, 1. ],\n       [6.4, 4.5, 1. ],\n       [6.9, 4.9, 1. ],\n       [5.5, 4. , 1. ],\n       [6.5, 4.6, 1. ],\n       [5.7, 4.5, 1. ],\n       [6.3, 4.7, 1. ],\n       [4.9, 3.3, 1. ],\n       [6.6, 4.6, 1. ],\n       [5.2, 3.9, 1. ],\n       [5. , 3.5, 1. ],\n       [5.9, 4.2, 1. ],\n       [6. , 4. , 1. ],\n       [6.1, 4.7, 1. ],\n       [5.6, 3.6, 1. ],\n       [6.7, 4.4, 1. ],\n       [5.6, 4.5, 1. ],\n       [5.8, 4.1, 1. ],\n       [6.2, 4.5, 1. ],\n       [5.6, 3.9, 1. ],\n       [5.9, 4.8, 1. ],\n       [6.1, 4. , 1. ],\n       [6.3, 4.9, 1. ],\n       [6.1, 4.7, 1. ],\n       [6.4, 4.3, 1. ],\n       [6.6, 4.4, 1. ],\n       [6.8, 4.8, 1. ],\n       [6.7, 5. , 1. ],\n       [6. , 4.5, 1. ],\n       [5.7, 3.5, 1. ],\n       [5.5, 3.8, 1. ],\n       [5.5, 3.7, 1. ],\n       [5.8, 3.9, 1. ],\n       [6. , 5.1, 1. ],\n       [5.4, 4.5, 1. ],\n       [6. , 4.5, 1. ],\n       [6.7, 4.7, 1. ],\n       [6.3, 4.4, 1. ],\n       [5.6, 4.1, 1. ],\n       [5.5, 4. , 1. ],\n       [5.5, 4.4, 1. ],\n       [6.1, 4.6, 1. ],\n       [5.8, 4. , 1. ],\n       [5. , 3.3, 1. ],\n       [5.6, 4.2, 1. ],\n       [5.7, 4.2, 1. ],\n       [5.7, 4.2, 1. ],\n       [6.2, 4.3, 1. ],\n       [5.1, 3. , 1. ]])"
     },
     "execution_count": 6,
     "metadata": {},
     "output_type": "execute_result"
    }
   ],
   "source": [
    "x = datos[:99, [0, 2]]\n",
    "y = resultado[:99]\n",
    "\n",
    "matrix_data = np.column_stack((x, y))\n",
    "matrix_data"
   ],
   "metadata": {
    "collapsed": false,
    "ExecuteTime": {
     "end_time": "2023-11-15T21:57:28.677777900Z",
     "start_time": "2023-11-15T21:57:28.659299Z"
    }
   },
   "id": "8a603242c92fed4b"
  },
  {
   "cell_type": "markdown",
   "source": [
    "Y lo mismo con el problema del cáncer de mama"
   ],
   "metadata": {
    "collapsed": false
   },
   "id": "9ccbf697945b5e8d"
  }
 ],
 "metadata": {
  "kernelspec": {
   "display_name": "Python 3",
   "language": "python",
   "name": "python3"
  },
  "language_info": {
   "codemirror_mode": {
    "name": "ipython",
    "version": 2
   },
   "file_extension": ".py",
   "mimetype": "text/x-python",
   "name": "python",
   "nbconvert_exporter": "python",
   "pygments_lexer": "ipython2",
   "version": "2.7.6"
  }
 },
 "nbformat": 4,
 "nbformat_minor": 5
}
