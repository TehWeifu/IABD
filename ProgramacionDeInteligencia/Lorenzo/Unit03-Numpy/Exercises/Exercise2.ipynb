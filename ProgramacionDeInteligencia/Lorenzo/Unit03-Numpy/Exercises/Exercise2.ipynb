{
 "cells": [
  {
   "cell_type": "markdown",
   "source": [
    "Ejercicio 2: arange\n",
    "Crea una array de numpy con los siguientes números primos: 2, 3, 5, 7, 11, 13, 17, 19, 23, 29 pero que el array sea de tipo \"float\" de 32 bits."
   ],
   "metadata": {
    "collapsed": false
   },
   "id": "f7378981d64f61cb"
  },
  {
   "cell_type": "code",
   "execution_count": 13,
   "id": "initial_id",
   "metadata": {
    "collapsed": true,
    "ExecuteTime": {
     "end_time": "2023-11-08T16:11:15.916161100Z",
     "start_time": "2023-11-08T16:11:15.902165600Z"
    }
   },
   "outputs": [],
   "source": [
    "import numpy as np"
   ]
  },
  {
   "cell_type": "code",
   "execution_count": 14,
   "outputs": [],
   "source": [
    "prime_numbers = np.array([2, 3, 5, 7, 11, 13, 17, 19, 23, 29], dtype=np.float32)"
   ],
   "metadata": {
    "collapsed": false,
    "ExecuteTime": {
     "end_time": "2023-11-08T16:11:15.916161100Z",
     "start_time": "2023-11-08T16:11:15.904367500Z"
    }
   },
   "id": "b08ed5129f2b3fa2"
  },
  {
   "cell_type": "markdown",
   "source": [
    "Usando la función arange de numpy crea un array con los números del 100 al 200 pero sin incluir el 200. Muestra el resultado."
   ],
   "metadata": {
    "collapsed": false
   },
   "id": "ae268937703bb5"
  },
  {
   "cell_type": "code",
   "execution_count": 15,
   "outputs": [
    {
     "name": "stdout",
     "output_type": "stream",
     "text": [
      "The resulting array from using np.arange() 100 to 200 is: [100 101 102 103 104 105 106 107 108 109 110 111 112 113 114 115 116 117\n",
      " 118 119 120 121 122 123 124 125 126 127 128 129 130 131 132 133 134 135\n",
      " 136 137 138 139 140 141 142 143 144 145 146 147 148 149 150 151 152 153\n",
      " 154 155 156 157 158 159 160 161 162 163 164 165 166 167 168 169 170 171\n",
      " 172 173 174 175 176 177 178 179 180 181 182 183 184 185 186 187 188 189\n",
      " 190 191 192 193 194 195 196 197 198 199]\n"
     ]
    }
   ],
   "source": [
    "array_arange = np.arange(100, 200)\n",
    "print(f\"The resulting array from using np.arange() 100 to 200 is: {array_arange}\")"
   ],
   "metadata": {
    "collapsed": false,
    "ExecuteTime": {
     "end_time": "2023-11-08T16:11:15.918322Z",
     "start_time": "2023-11-08T16:11:15.908716900Z"
    }
   },
   "id": "72fa0c8b4120b95f"
  },
  {
   "cell_type": "markdown",
   "source": [
    "Usando la función range estándar de Python crea un array con los números del 100 al 200 pero sin incluir el 200. Muestra el resultado. ¿Que diferencia hay con arange?"
   ],
   "metadata": {
    "collapsed": false
   },
   "id": "fc58e789e366ae65"
  },
  {
   "cell_type": "code",
   "execution_count": 16,
   "outputs": [
    {
     "name": "stdout",
     "output_type": "stream",
     "text": [
      "The resulting array from using pythons range() 100 to 200 is: range(100, 200)\n"
     ]
    }
   ],
   "source": [
    "array_range = range(100, 200)\n",
    "print(f\"The resulting array from using pythons range() 100 to 200 is: {array_range}\")"
   ],
   "metadata": {
    "collapsed": false,
    "ExecuteTime": {
     "end_time": "2023-11-08T16:11:15.934377Z",
     "start_time": "2023-11-08T16:11:15.916161100Z"
    }
   },
   "id": "c9672a981ac58463"
  },
  {
   "cell_type": "markdown",
   "source": [
    "Result: the numpy array returns a numpy array and python's range returns an object that works like a sequence"
   ],
   "metadata": {
    "collapsed": false
   },
   "id": "f3e560fff75b3c3a"
  }
 ],
 "metadata": {
  "kernelspec": {
   "display_name": "Python 3",
   "language": "python",
   "name": "python3"
  },
  "language_info": {
   "codemirror_mode": {
    "name": "ipython",
    "version": 2
   },
   "file_extension": ".py",
   "mimetype": "text/x-python",
   "name": "python",
   "nbconvert_exporter": "python",
   "pygments_lexer": "ipython2",
   "version": "2.7.6"
  }
 },
 "nbformat": 4,
 "nbformat_minor": 5
}
