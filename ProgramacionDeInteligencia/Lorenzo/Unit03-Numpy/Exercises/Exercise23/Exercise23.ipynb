{
 "cells": [
  {
   "cell_type": "markdown",
   "source": [
    "Ejercicio 23: El vino\n",
    "Cargas con numpy el fichero wine.csv que contiene una matriz de números separados por coma.\n",
    "\n",
    "La matriz contiene una serie de columnas con características del vino y la última columna indica el tipo del vino."
   ],
   "metadata": {
    "collapsed": false
   },
   "id": "e30ed15c83870c55"
  },
  {
   "cell_type": "code",
   "execution_count": 53,
   "id": "initial_id",
   "metadata": {
    "collapsed": true,
    "ExecuteTime": {
     "end_time": "2023-11-16T18:00:20.970776300Z",
     "start_time": "2023-11-16T18:00:20.962283100Z"
    }
   },
   "outputs": [],
   "source": [
    "import numpy as np\n",
    "import tabulate"
   ]
  },
  {
   "cell_type": "markdown",
   "source": [
    "Crea una función en python llamada imprimir_datos y tendrá como parámetro una matriz de numpy de forma que:\n",
    "Imprima cuantas características tenemos de cada tipo de vino.\n",
    "Imprima cuantas muestra de vino tenemos\n",
    "Imprima cuantos tipos distintos de vino tenemos y cuáles son\n",
    "Imprima los valores máximos y mínimos de cada característica\n",
    "Retorna una nueva matriz llamada x solo con las características y un nuevo array llamado y solo con los tipos de vino\n",
    "Llama a la función imprimir_datos con los datos de wine.csv"
   ],
   "metadata": {
    "collapsed": false
   },
   "id": "e53de1eb6415b34c"
  },
  {
   "cell_type": "code",
   "execution_count": 54,
   "outputs": [],
   "source": [
    "def print_wine_data(array: np.ndarray):\n",
    "    wine_x = array[:, :-1]\n",
    "    wine_y = array[:, -1:]\n",
    "\n",
    "    print(f\"There are a total of {wine_x.shape[1]} features in the dataset\")\n",
    "    print(f\"There are a total of {array.shape[0]} samples in the dataset\")\n",
    "\n",
    "    print(\n",
    "        f\"There are a total of {len(np.unique(wine_y))} different types of wine. They are: {np.unique(wine_y)} samples in the dataset\")\n",
    "\n",
    "    wine_characteristics = [np.max(wine_x, axis=0), np.min(wine_x, axis=0)]\n",
    "    print(tabulate.tabulate(wine_characteristics, showindex=['Maximum', 'Minimum']))\n",
    "\n",
    "    return wine_x, wine_y"
   ],
   "metadata": {
    "collapsed": false,
    "ExecuteTime": {
     "end_time": "2023-11-16T18:00:20.970776300Z",
     "start_time": "2023-11-16T18:00:20.965896300Z"
    }
   },
   "id": "b8d8d0c9b3a9de77"
  },
  {
   "cell_type": "code",
   "execution_count": 55,
   "outputs": [
    {
     "name": "stdout",
     "output_type": "stream",
     "text": [
      "There are a total of 13 features in the dataset\n",
      "There are a total of 178 samples in the dataset\n",
      "There are a total of 3 different types of wine. They are: [0. 1. 2.] samples in the dataset\n",
      "-------  -----  ----  ----  ----  ---  ----  ----  ----  ----  -----  ----  ----  ----\n",
      "Maximum  14.83  5.8   3.23  30    162  3.88  5.08  0.66  3.58  13     1.71  4     1680\n",
      "Minimum  11.03  0.74  1.36  10.6   70  0.98  0.34  0.13  0.41   1.28  0.48  1.27   278\n",
      "-------  -----  ----  ----  ----  ---  ----  ----  ----  ----  -----  ----  ----  ----\n",
      "Wine data shape: (178, 13)\n",
      "Wine target shape: (178, 1)\n"
     ]
    }
   ],
   "source": [
    "wine_dataset = np.genfromtxt(\"wine.csv\", delimiter=\",\")\n",
    "result_X, result_Y = print_wine_data(wine_dataset)\n",
    "\n",
    "print(f\"Wine data shape: {result_X.shape}\")\n",
    "print(f\"Wine target shape: {result_Y.shape}\")"
   ],
   "metadata": {
    "collapsed": false,
    "ExecuteTime": {
     "end_time": "2023-11-16T18:00:20.981074Z",
     "start_time": "2023-11-16T18:00:20.970776300Z"
    }
   },
   "id": "3290f59628ac6777"
  }
 ],
 "metadata": {
  "kernelspec": {
   "display_name": "Python 3",
   "language": "python",
   "name": "python3"
  },
  "language_info": {
   "codemirror_mode": {
    "name": "ipython",
    "version": 2
   },
   "file_extension": ".py",
   "mimetype": "text/x-python",
   "name": "python",
   "nbconvert_exporter": "python",
   "pygments_lexer": "ipython2",
   "version": "2.7.6"
  }
 },
 "nbformat": 4,
 "nbformat_minor": 5
}
