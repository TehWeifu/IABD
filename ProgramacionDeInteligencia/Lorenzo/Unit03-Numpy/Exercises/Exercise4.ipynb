{
 "cells": [
  {
   "cell_type": "markdown",
   "source": [
    "Ejercicio 4: Filtrado\n",
    "El siguiente array contiene las temperaturas medias que ha hecho en Valencia en cada mes [10.2, 10.7, 13.3, 15.8, 19.3, 23.6, 26, 25.9, 22.8, 19.1, 13.9, 10.8 ]"
   ],
   "metadata": {
    "collapsed": false
   },
   "id": "257e2aa7917106c7"
  },
  {
   "cell_type": "code",
   "execution_count": 1,
   "id": "initial_id",
   "metadata": {
    "collapsed": true,
    "ExecuteTime": {
     "end_time": "2023-11-08T17:08:19.459755500Z",
     "start_time": "2023-11-08T17:08:19.384787800Z"
    }
   },
   "outputs": [],
   "source": [
    "import numpy as np"
   ]
  },
  {
   "cell_type": "code",
   "execution_count": 2,
   "outputs": [],
   "source": [
    "valencia_temperatures = np.array([10.2, 10.7, 13.3, 15.8, 19.3, 23.6, 26, 25.9, 22.8, 19.1, 13.9, 10.8])"
   ],
   "metadata": {
    "collapsed": false,
    "ExecuteTime": {
     "end_time": "2023-11-08T17:08:19.460260800Z",
     "start_time": "2023-11-08T17:08:19.456778500Z"
    }
   },
   "id": "4cda250336f56e57"
  },
  {
   "cell_type": "markdown",
   "source": [
    "Muestra las temperaturas cuyo valor sea mayor que 20"
   ],
   "metadata": {
    "collapsed": false
   },
   "id": "bcc90cc1bfde35e5"
  },
  {
   "cell_type": "code",
   "execution_count": 3,
   "outputs": [
    {
     "name": "stdout",
     "output_type": "stream",
     "text": [
      "The temperatures higher than 20 are: [23.6 26.  25.9 22.8]\n"
     ]
    }
   ],
   "source": [
    "valencia_temperatures_higher_20 = valencia_temperatures[valencia_temperatures > 20]\n",
    "print(f\"The temperatures higher than 20 are: {valencia_temperatures_higher_20}\")"
   ],
   "metadata": {
    "collapsed": false,
    "ExecuteTime": {
     "end_time": "2023-11-08T17:08:19.470896800Z",
     "start_time": "2023-11-08T17:08:19.460260800Z"
    }
   },
   "id": "7f26283ff56450a6"
  },
  {
   "cell_type": "markdown",
   "source": [
    "Muestra las temperaturas cuyo valor sea menor que 11"
   ],
   "metadata": {
    "collapsed": false
   },
   "id": "bfb283f238c4331c"
  },
  {
   "cell_type": "code",
   "execution_count": 4,
   "outputs": [
    {
     "name": "stdout",
     "output_type": "stream",
     "text": [
      "The temperatures lower than 11 are: [10.2 10.7 10.8]\n"
     ]
    }
   ],
   "source": [
    "valencia_temperatures_lower_11 = valencia_temperatures[valencia_temperatures < 11]\n",
    "print(f\"The temperatures lower than 11 are: {valencia_temperatures_lower_11}\")"
   ],
   "metadata": {
    "collapsed": false,
    "ExecuteTime": {
     "end_time": "2023-11-08T17:08:19.478281300Z",
     "start_time": "2023-11-08T17:08:19.470896800Z"
    }
   },
   "id": "dcdc2b7bc0668369"
  },
  {
   "cell_type": "markdown",
   "source": [
    "Muestra las temperaturas cuyo valor sea mayor que 20 o menor que 11"
   ],
   "metadata": {
    "collapsed": false
   },
   "id": "b6fdc205a1d5a98"
  },
  {
   "cell_type": "code",
   "execution_count": 5,
   "outputs": [
    {
     "name": "stdout",
     "output_type": "stream",
     "text": [
      "The temperatures higher than 20 or lower than 11 are: [10.2 10.7 23.6 26.  25.9 22.8 10.8]\n"
     ]
    }
   ],
   "source": [
    "valencia_temperatures_higher_20_or_lower_11 = valencia_temperatures[\n",
    "    (valencia_temperatures > 20) | (valencia_temperatures < 11)]\n",
    "print(f\"The temperatures higher than 20 or lower than 11 are: {valencia_temperatures_higher_20_or_lower_11}\")"
   ],
   "metadata": {
    "collapsed": false,
    "ExecuteTime": {
     "end_time": "2023-11-08T17:08:19.481673100Z",
     "start_time": "2023-11-08T17:08:19.474906800Z"
    }
   },
   "id": "91f3e71a5a784bed"
  }
 ],
 "metadata": {
  "kernelspec": {
   "display_name": "Python 3",
   "language": "python",
   "name": "python3"
  },
  "language_info": {
   "codemirror_mode": {
    "name": "ipython",
    "version": 2
   },
   "file_extension": ".py",
   "mimetype": "text/x-python",
   "name": "python",
   "nbconvert_exporter": "python",
   "pygments_lexer": "ipython2",
   "version": "2.7.6"
  }
 },
 "nbformat": 4,
 "nbformat_minor": 5
}
