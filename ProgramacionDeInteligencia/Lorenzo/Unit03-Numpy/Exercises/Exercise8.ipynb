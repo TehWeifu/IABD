{
 "cells": [
  {
   "cell_type": "markdown",
   "source": [
    "Ejercicio 8: Matrices 3D\n",
    "Selecciona las celdas en rojo oscuro de la siguiente matriz:"
   ],
   "metadata": {
    "collapsed": false
   },
   "id": "efeb33bc2474ee7f"
  },
  {
   "cell_type": "code",
   "execution_count": 4,
   "outputs": [],
   "source": [
    "import numpy as np"
   ],
   "metadata": {
    "collapsed": false,
    "ExecuteTime": {
     "end_time": "2023-11-08T17:24:46.816890300Z",
     "start_time": "2023-11-08T17:24:46.777747600Z"
    }
   },
   "id": "fd158cef1f8413c9"
  },
  {
   "cell_type": "code",
   "execution_count": 5,
   "id": "initial_id",
   "metadata": {
    "collapsed": true,
    "ExecuteTime": {
     "end_time": "2023-11-08T17:24:46.816890300Z",
     "start_time": "2023-11-08T17:24:46.782747600Z"
    }
   },
   "outputs": [],
   "source": [
    "red_matrix = np.array([\n",
    "    [\n",
    "        [False, False, False, False, False, False, False, False],\n",
    "        [False, False, False, False, False, False, False, False],\n",
    "        [False, False, True, True, True, True, False, False],\n",
    "        [False, False, True, True, True, True, False, False],\n",
    "        [False, False, True, True, True, True, False, False],\n",
    "        [False, False, False, False, False, False, False, False],\n",
    "        [False, False, False, False, False, False, False, False],\n",
    "    ],\n",
    "    [\n",
    "        [False, False, False, False, False, False, False, False],\n",
    "        [False, False, False, False, False, False, False, False],\n",
    "        [False, False, True, True, True, True, False, False],\n",
    "        [False, False, True, True, True, True, False, False],\n",
    "        [False, False, True, True, True, True, False, False],\n",
    "        [False, False, False, False, False, False, False, False],\n",
    "        [False, False, False, False, False, False, False, False],\n",
    "    ],\n",
    "    [\n",
    "        [False, False, False, False, False, False, False, False],\n",
    "        [False, False, False, False, False, False, False, False],\n",
    "        [False, False, True, True, True, True, False, False],\n",
    "        [False, False, True, True, True, True, False, False],\n",
    "        [False, False, True, True, True, True, False, False],\n",
    "        [False, False, False, False, False, False, False, False],\n",
    "        [False, False, False, False, False, False, False, False],\n",
    "    ]\n",
    "])"
   ]
  },
  {
   "cell_type": "code",
   "execution_count": 6,
   "outputs": [
    {
     "data": {
      "text/plain": "array([[ True,  True,  True,  True],\n       [ True,  True,  True,  True],\n       [ True,  True,  True,  True]])"
     },
     "execution_count": 6,
     "metadata": {},
     "output_type": "execute_result"
    }
   ],
   "source": [
    "red_matrix_selected = red_matrix[0, 2:5, 2:6]\n",
    "red_matrix_selected"
   ],
   "metadata": {
    "collapsed": false,
    "ExecuteTime": {
     "end_time": "2023-11-08T17:24:46.832655700Z",
     "start_time": "2023-11-08T17:24:46.790780700Z"
    }
   },
   "id": "7f59b6072ae9eaac"
  },
  {
   "cell_type": "markdown",
   "source": [
    "Ahora selecciona las celdas en rojo oscuro, pero también las verdes y azules que hay por detrás de las rojo oscuro."
   ],
   "metadata": {
    "collapsed": false
   },
   "id": "2494d5773a3e5401"
  },
  {
   "cell_type": "code",
   "execution_count": 7,
   "outputs": [
    {
     "data": {
      "text/plain": "array([[[ True,  True,  True,  True],\n        [ True,  True,  True,  True],\n        [ True,  True,  True,  True]],\n\n       [[ True,  True,  True,  True],\n        [ True,  True,  True,  True],\n        [ True,  True,  True,  True]],\n\n       [[ True,  True,  True,  True],\n        [ True,  True,  True,  True],\n        [ True,  True,  True,  True]]])"
     },
     "execution_count": 7,
     "metadata": {},
     "output_type": "execute_result"
    }
   ],
   "source": [
    "all_center_matrix_selected = red_matrix[:, 2:5, 2:6]\n",
    "all_center_matrix_selected"
   ],
   "metadata": {
    "collapsed": false,
    "ExecuteTime": {
     "end_time": "2023-11-08T17:24:46.846383900Z",
     "start_time": "2023-11-08T17:24:46.797378100Z"
    }
   },
   "id": "f9bee7afe14d061b"
  }
 ],
 "metadata": {
  "kernelspec": {
   "display_name": "Python 3",
   "language": "python",
   "name": "python3"
  },
  "language_info": {
   "codemirror_mode": {
    "name": "ipython",
    "version": 2
   },
   "file_extension": ".py",
   "mimetype": "text/x-python",
   "name": "python",
   "nbconvert_exporter": "python",
   "pygments_lexer": "ipython2",
   "version": "2.7.6"
  }
 },
 "nbformat": 4,
 "nbformat_minor": 5
}
