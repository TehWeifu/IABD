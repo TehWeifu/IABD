{
 "cells": [
  {
   "cell_type": "markdown",
   "source": [
    "Ejercicio 9: Matrices\n",
    "Crea la siguiente matriz:\n",
    "[\n",
    "    [1, 4, 6, 5],\n",
    "    [4, 1, 7, 3],\n",
    "    [2, 9, 1, 2],\n",
    "    [6, 3, 1, 1]\n",
    "]"
   ],
   "metadata": {
    "collapsed": false
   },
   "id": "259a4cc5e1d0b87b"
  },
  {
   "cell_type": "code",
   "execution_count": 6,
   "outputs": [],
   "source": [
    "import numpy as np"
   ],
   "metadata": {
    "collapsed": false,
    "ExecuteTime": {
     "end_time": "2023-11-15T15:24:30.460067600Z",
     "start_time": "2023-11-15T15:24:30.434452900Z"
    }
   },
   "id": "456aca3d2ce9299a"
  },
  {
   "cell_type": "code",
   "execution_count": 7,
   "id": "initial_id",
   "metadata": {
    "collapsed": true,
    "ExecuteTime": {
     "end_time": "2023-11-15T15:24:30.474406600Z",
     "start_time": "2023-11-15T15:24:30.436008100Z"
    }
   },
   "outputs": [],
   "source": [
    "matrix = np.array([\n",
    "    [1, 4, 6, 5],\n",
    "    [4, 1, 7, 3],\n",
    "    [2, 9, 1, 2],\n",
    "    [6, 3, 1, 1]\n",
    "])"
   ]
  },
  {
   "cell_type": "markdown",
   "source": [
    "A todos los elementos de la matriz súmale un 10. Usando las funciones de numpy"
   ],
   "metadata": {
    "collapsed": false
   },
   "id": "aa84dc8441306e1a"
  },
  {
   "cell_type": "code",
   "execution_count": 8,
   "outputs": [
    {
     "data": {
      "text/plain": "array([[11, 14, 16, 15],\n       [14, 11, 17, 13],\n       [12, 19, 11, 12],\n       [16, 13, 11, 11]])"
     },
     "execution_count": 8,
     "metadata": {},
     "output_type": "execute_result"
    }
   ],
   "source": [
    "matrix_add10_function = np.add(matrix, 10)\n",
    "matrix_add10_function"
   ],
   "metadata": {
    "collapsed": false,
    "ExecuteTime": {
     "end_time": "2023-11-15T15:24:30.474406600Z",
     "start_time": "2023-11-15T15:24:30.443005Z"
    }
   },
   "id": "9076abaf59f4abe0"
  },
  {
   "cell_type": "markdown",
   "source": [
    "A todos los elementos de la matriz súmale un 10 y divídelos entre 2. Usando las funciones de numpy"
   ],
   "metadata": {
    "collapsed": false
   },
   "id": "95b388146393911f"
  },
  {
   "cell_type": "code",
   "execution_count": 9,
   "outputs": [
    {
     "data": {
      "text/plain": "array([[5.5, 7. , 8. , 7.5],\n       [7. , 5.5, 8.5, 6.5],\n       [6. , 9.5, 5.5, 6. ],\n       [8. , 6.5, 5.5, 5.5]])"
     },
     "execution_count": 9,
     "metadata": {},
     "output_type": "execute_result"
    }
   ],
   "source": [
    "matrix_add10_divide2_function = np.divide(np.add(matrix, 10), 2)\n",
    "matrix_add10_divide2_function"
   ],
   "metadata": {
    "collapsed": false,
    "ExecuteTime": {
     "end_time": "2023-11-15T15:24:30.478780Z",
     "start_time": "2023-11-15T15:24:30.451573200Z"
    }
   },
   "id": "c4b259c4c8205151"
  },
  {
   "cell_type": "markdown",
   "source": [
    "A todos los elementos de la matriz súmale un 10. Usando operadores"
   ],
   "metadata": {
    "collapsed": false
   },
   "id": "c1524e04a168a13e"
  },
  {
   "cell_type": "code",
   "execution_count": 10,
   "outputs": [
    {
     "data": {
      "text/plain": "array([[11, 14, 16, 15],\n       [14, 11, 17, 13],\n       [12, 19, 11, 12],\n       [16, 13, 11, 11]])"
     },
     "execution_count": 10,
     "metadata": {},
     "output_type": "execute_result"
    }
   ],
   "source": [
    "matrix_add10_operator = matrix + 10\n",
    "matrix_add10_operator"
   ],
   "metadata": {
    "collapsed": false,
    "ExecuteTime": {
     "end_time": "2023-11-15T15:24:30.515049300Z",
     "start_time": "2023-11-15T15:24:30.459019300Z"
    }
   },
   "id": "404f1b464422d7fc"
  },
  {
   "cell_type": "markdown",
   "source": [
    "A todos los elementos de la matriz súmale un 10 y divídelos entre 2. Usando operadores"
   ],
   "metadata": {
    "collapsed": false
   },
   "id": "27293ccfc04111f"
  },
  {
   "cell_type": "code",
   "execution_count": 11,
   "outputs": [
    {
     "data": {
      "text/plain": "array([[5.5, 7. , 8. , 7.5],\n       [7. , 5.5, 8.5, 6.5],\n       [6. , 9.5, 5.5, 6. ],\n       [8. , 6.5, 5.5, 5.5]])"
     },
     "execution_count": 11,
     "metadata": {},
     "output_type": "execute_result"
    }
   ],
   "source": [
    "matrix_add10_divide2_operator = (matrix + 10) / 2\n",
    "matrix_add10_divide2_operator"
   ],
   "metadata": {
    "collapsed": false,
    "ExecuteTime": {
     "end_time": "2023-11-15T15:24:30.515049300Z",
     "start_time": "2023-11-15T15:24:30.465190200Z"
    }
   },
   "id": "954973f6e5e46e00"
  }
 ],
 "metadata": {
  "kernelspec": {
   "display_name": "Python 3",
   "language": "python",
   "name": "python3"
  },
  "language_info": {
   "codemirror_mode": {
    "name": "ipython",
    "version": 2
   },
   "file_extension": ".py",
   "mimetype": "text/x-python",
   "name": "python",
   "nbconvert_exporter": "python",
   "pygments_lexer": "ipython2",
   "version": "2.7.6"
  }
 },
 "nbformat": 4,
 "nbformat_minor": 5
}
