{
 "cells": [
  {
   "cell_type": "code",
   "execution_count": 7,
   "id": "initial_id",
   "metadata": {
    "collapsed": true,
    "ExecuteTime": {
     "end_time": "2023-11-08T15:35:49.786071800Z",
     "start_time": "2023-11-08T15:35:49.776260500Z"
    }
   },
   "outputs": [],
   "source": [
    "import numpy as np"
   ]
  },
  {
   "cell_type": "code",
   "execution_count": 8,
   "outputs": [
    {
     "name": "stdout",
     "output_type": "stream",
     "text": [
      "The 'array_a' is [ 1  2  5  7  9 12]\n"
     ]
    }
   ],
   "source": [
    "array_a = np.array([1, 2, 5, 7, 9, 12])\n",
    "print(f\"The 'array_a' is {array_a}\")"
   ],
   "metadata": {
    "collapsed": false,
    "ExecuteTime": {
     "end_time": "2023-11-08T15:35:49.786071800Z",
     "start_time": "2023-11-08T15:35:49.778191400Z"
    }
   },
   "id": "1efb699d6c19b7d9"
  },
  {
   "cell_type": "code",
   "execution_count": 9,
   "outputs": [
    {
     "name": "stdout",
     "output_type": "stream",
     "text": [
      "The 'array_b' (array_a > 5) is [False False False  True  True  True]\n"
     ]
    }
   ],
   "source": [
    "array_b = array_a > 5\n",
    "print(f\"The 'array_b' (array_a > 5) is {array_b}\")"
   ],
   "metadata": {
    "collapsed": false,
    "ExecuteTime": {
     "end_time": "2023-11-08T15:35:49.794024500Z",
     "start_time": "2023-11-08T15:35:49.786071800Z"
    }
   },
   "id": "4109c7f01240e08d"
  },
  {
   "cell_type": "code",
   "execution_count": 11,
   "outputs": [
    {
     "name": "stdout",
     "output_type": "stream",
     "text": [
      "The 'array_a_prime' array_a[array_a > 5] is [ 7  9 12]\n"
     ]
    }
   ],
   "source": [
    "array_a_prime = array_a[array_a > 5]\n",
    "print(f\"The 'array_a_prime' array_a[array_a > 5] is {array_a_prime}\")"
   ],
   "metadata": {
    "collapsed": false,
    "ExecuteTime": {
     "end_time": "2023-11-08T15:36:12.700747700Z",
     "start_time": "2023-11-08T15:36:12.697014700Z"
    }
   },
   "id": "eefa6840772b7907"
  },
  {
   "cell_type": "code",
   "execution_count": 13,
   "outputs": [
    {
     "name": "stdout",
     "output_type": "stream",
     "text": [
      "The 'array_names' of elements a > 5 is ['Name4' 'Name5' 'Name6']\n"
     ]
    }
   ],
   "source": [
    "array_names = np.array([\"Name1\", \"Name2\", \"Name3\", \"Name4\", \"Name5\", \"Name6\"])\n",
    "print(f\"The 'array_names' of elements a > 5 is {array_names[array_a > 5]}\")"
   ],
   "metadata": {
    "collapsed": false,
    "ExecuteTime": {
     "end_time": "2023-11-08T15:38:42.503594300Z",
     "start_time": "2023-11-08T15:38:42.495113800Z"
    }
   },
   "id": "b2b920db355119d9"
  }
 ],
 "metadata": {
  "kernelspec": {
   "display_name": "Python 3",
   "language": "python",
   "name": "python3"
  },
  "language_info": {
   "codemirror_mode": {
    "name": "ipython",
    "version": 2
   },
   "file_extension": ".py",
   "mimetype": "text/x-python",
   "name": "python",
   "nbconvert_exporter": "python",
   "pygments_lexer": "ipython2",
   "version": "2.7.6"
  }
 },
 "nbformat": 4,
 "nbformat_minor": 5
}
