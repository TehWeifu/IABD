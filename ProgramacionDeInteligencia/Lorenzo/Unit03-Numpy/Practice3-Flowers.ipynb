{
 "cells": [
  {
   "cell_type": "code",
   "execution_count": 25,
   "id": "initial_id",
   "metadata": {
    "collapsed": true,
    "ExecuteTime": {
     "end_time": "2023-11-15T16:11:26.622986400Z",
     "start_time": "2023-11-15T16:11:26.618079700Z"
    }
   },
   "outputs": [
    {
     "name": "stdout",
     "output_type": "stream",
     "text": [
      "Number of unique types of flowers for the whole dataset: [0 1 2]\n",
      "Number of unique types of flowers for the sliced dataset: [0 1]\n",
      "\n",
      "           sepal length (cm)    sepal width (cm)    petal length (cm)    petal width (cm)\n",
      "-------  -------------------  ------------------  -------------------  ------------------\n",
      "Minimum                  4.3                 2                    1                   0.1\n",
      "Maximum                  7.9                 4.4                  6.9                 2.5\n",
      "[[4.3, 2.0, 1.0, 0.1], [7.9, 4.4, 6.9, 2.5]]\n"
     ]
    }
   ],
   "source": [
    "import numpy as np\n",
    "import tabulate\n",
    "from sklearn.datasets import load_iris\n",
    "\n",
    "iris = load_iris()\n",
    "\n",
    "sepal_length = iris.data[0:99, 0]\n",
    "petal_length = iris.data[0:99, 2]\n",
    "flower_type = iris.target[0:99]\n",
    "\n",
    "print(f\"Number of unique types of flowers for the whole dataset: {np.unique(iris.target)}\")\n",
    "print(f\"Number of unique types of flowers for the sliced dataset: {np.unique(flower_type)}\")\n",
    "print()\n",
    "\n",
    "result = [[], []]\n",
    "number_of_columns = len(iris.feature_names)\n",
    "for i in range(0, number_of_columns):\n",
    "    column = iris.data[:, i]\n",
    "    maximum_value = np.max(column)\n",
    "    minimum_value = np.min(column)\n",
    "\n",
    "    result[0].append(minimum_value)\n",
    "    result[1].append(maximum_value)\n",
    "\n",
    "print(tabulate.tabulate(result, headers=iris.feature_names, showindex=['Minimum', 'Maximum']))\n",
    "\n",
    "print(result)"
   ]
  }
 ],
 "metadata": {
  "kernelspec": {
   "display_name": "Python 3",
   "language": "python",
   "name": "python3"
  },
  "language_info": {
   "codemirror_mode": {
    "name": "ipython",
    "version": 2
   },
   "file_extension": ".py",
   "mimetype": "text/x-python",
   "name": "python",
   "nbconvert_exporter": "python",
   "pygments_lexer": "ipython2",
   "version": "2.7.6"
  }
 },
 "nbformat": 4,
 "nbformat_minor": 5
}
