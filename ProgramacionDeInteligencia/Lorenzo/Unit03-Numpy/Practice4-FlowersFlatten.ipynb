{
 "cells": [
  {
   "cell_type": "code",
   "execution_count": 6,
   "id": "initial_id",
   "metadata": {
    "collapsed": true,
    "ExecuteTime": {
     "end_time": "2023-11-15T16:33:38.780757200Z",
     "start_time": "2023-11-15T16:33:38.750478900Z"
    }
   },
   "outputs": [
    {
     "name": "stdout",
     "output_type": "stream",
     "text": [
      "(600,)\n",
      "(150, 4)\n"
     ]
    }
   ],
   "source": [
    "import numpy as np\n",
    "import tabulate\n",
    "from sklearn.datasets import load_iris\n",
    "\n",
    "iris = load_iris()\n",
    "\n",
    "sepal_length = iris.data[0:99, 0]\n",
    "petal_length = iris.data[0:99, 2]\n",
    "flower_type = iris.target[0:99]\n",
    "\n",
    "data_flatten = iris.data.reshape(-1)\n",
    "print(data_flatten.shape)\n",
    "\n",
    "data_reshaped = np.reshape(data_flatten, (-1, iris.data.shape[1]))\n",
    "print(data_reshaped.shape)"
   ]
  }
 ],
 "metadata": {
  "kernelspec": {
   "display_name": "Python 3",
   "language": "python",
   "name": "python3"
  },
  "language_info": {
   "codemirror_mode": {
    "name": "ipython",
    "version": 2
   },
   "file_extension": ".py",
   "mimetype": "text/x-python",
   "name": "python",
   "nbconvert_exporter": "python",
   "pygments_lexer": "ipython2",
   "version": "2.7.6"
  }
 },
 "nbformat": 4,
 "nbformat_minor": 5
}
