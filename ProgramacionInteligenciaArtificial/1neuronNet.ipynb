{
 "cells": [
  {
   "cell_type": "code",
   "execution_count": 13,
   "id": "initial_id",
   "metadata": {
    "collapsed": true,
    "ExecuteTime": {
     "end_time": "2024-02-14T15:45:20.101922Z",
     "start_time": "2024-02-14T15:39:50.610592800Z"
    }
   },
   "outputs": [
    {
     "name": "stdout",
     "output_type": "stream",
     "text": [
      "1/1 [==============================] - 0s 39ms/step\n",
      "[[4.1573993e-09]]\n",
      "1/1 [==============================] - 0s 29ms/step\n",
      "[[0.9997979]]\n"
     ]
    }
   ],
   "source": [
    "import random\n",
    "\n",
    "import numpy as np\n",
    "import tensorflow as tf\n",
    "from keras.layers import Dense\n",
    "from keras.models import Sequential\n",
    "from sklearn.datasets import load_iris\n",
    "\n",
    "iris = load_iris()\n",
    "\n",
    "sepal_length = iris.data[0:99, 0]\n",
    "petal_length = iris.data[0:99, 2]\n",
    "flower_type = iris.target[0:99]\n",
    "\n",
    "x = np.column_stack((sepal_length, petal_length))\n",
    "y = flower_type\n",
    "\n",
    "np.random.seed(5)\n",
    "tf.random.set_seed(5)\n",
    "random.seed(5)\n",
    "\n",
    "model = Sequential()\n",
    "model.add(Dense(1, activation='sigmoid', input_dim=2))\n",
    "model.compile(loss='binary_crossentropy')\n",
    "history = model.fit(x, y, epochs=100_000, verbose=False)\n",
    "\n",
    "print(model.predict([[sepal_length[0], petal_length[0]]]))\n",
    "print(model.predict([[sepal_length[-1], petal_length[-1]]]))"
   ]
  },
  {
   "cell_type": "code",
   "outputs": [
    {
     "data": {
      "text/plain": "4.514838110480923e-06"
     },
     "execution_count": 16,
     "metadata": {},
     "output_type": "execute_result"
    }
   ],
   "source": [
    "history.history['loss'][-1]"
   ],
   "metadata": {
    "collapsed": false,
    "ExecuteTime": {
     "end_time": "2024-02-14T15:46:11.485865Z",
     "start_time": "2024-02-14T15:46:11.481049800Z"
    }
   },
   "id": "c4e816e71ecd566a",
   "execution_count": 16
  },
  {
   "cell_type": "code",
   "outputs": [],
   "source": [
    "def get_w(model, layer, neuron, index):\n",
    "    layer = model.layers[layer]\n",
    "    return layer.get_weights()[0][index, neuron]\n",
    "\n",
    "\n",
    "def get_b(model, layer, neuron):\n",
    "    layer = model.layers[layer]\n",
    "    return layer.get_weights()[1][neuron]"
   ],
   "metadata": {
    "collapsed": false,
    "ExecuteTime": {
     "end_time": "2024-02-14T15:54:07.644523400Z",
     "start_time": "2024-02-14T15:54:07.641890300Z"
    }
   },
   "id": "3bac2efed9523e70",
   "execution_count": 17
  },
  {
   "cell_type": "code",
   "outputs": [
    {
     "name": "stdout",
     "output_type": "stream",
     "text": [
      "-7.0984244\n",
      "17.377949\n",
      "-7.4255395\n"
     ]
    }
   ],
   "source": [
    "print(get_w(model, 0, 0, 0))\n",
    "print(get_w(model, 0, 0, 1))\n",
    "print(get_b(model, 0, 0))"
   ],
   "metadata": {
    "collapsed": false,
    "ExecuteTime": {
     "end_time": "2024-02-14T15:54:39.400682400Z",
     "start_time": "2024-02-14T15:54:39.391655300Z"
    }
   },
   "id": "362fbb4aff42b390",
   "execution_count": 19
  }
 ],
 "metadata": {
  "kernelspec": {
   "display_name": "Python 3",
   "language": "python",
   "name": "python3"
  },
  "language_info": {
   "codemirror_mode": {
    "name": "ipython",
    "version": 2
   },
   "file_extension": ".py",
   "mimetype": "text/x-python",
   "name": "python",
   "nbconvert_exporter": "python",
   "pygments_lexer": "ipython2",
   "version": "2.7.6"
  }
 },
 "nbformat": 4,
 "nbformat_minor": 5
}
