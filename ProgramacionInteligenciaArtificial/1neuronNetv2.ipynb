{
 "cells": [
  {
   "cell_type": "code",
   "execution_count": 1,
   "id": "initial_id",
   "metadata": {
    "collapsed": true,
    "ExecuteTime": {
     "end_time": "2024-02-21T15:49:21.639852200Z",
     "start_time": "2024-02-21T15:48:38.301488300Z"
    }
   },
   "outputs": [
    {
     "name": "stdout",
     "output_type": "stream",
     "text": [
      "1/1 [==============================] - 0s 61ms/step\n",
      "[[8.420814e-08]]\n",
      "1/1 [==============================] - 0s 28ms/step\n",
      "[[0.99900174]]\n"
     ]
    }
   ],
   "source": [
    "import random\n",
    "\n",
    "import numpy as np\n",
    "import tensorflow as tf\n",
    "from keras.layers import Dense\n",
    "from keras.models import Sequential\n",
    "from sklearn.datasets import load_iris\n",
    "\n",
    "iris = load_iris()\n",
    "\n",
    "sepal_length = iris.data[0:99, 0]\n",
    "sepal_length = (sepal_length * sepal_length.mean()) / sepal_length.std()\n",
    "\n",
    "petal_length = iris.data[0:99, 2]\n",
    "petal_length = (petal_length * petal_length.mean()) / petal_length.std()\n",
    "\n",
    "flower_type = iris.target[0:99]\n",
    "\n",
    "x = np.column_stack((sepal_length, petal_length))\n",
    "y = flower_type\n",
    "\n",
    "np.random.seed(5)\n",
    "tf.random.set_seed(5)\n",
    "random.seed(5)\n",
    "\n",
    "model = Sequential()\n",
    "model.add(Dense(1, activation='sigmoid', input_dim=2))\n",
    "model.compile(loss='binary_crossentropy')\n",
    "history = model.fit(x, y, epochs=10_000, verbose=False)\n",
    "\n",
    "print(model.predict([[sepal_length[0], petal_length[0]]]))\n",
    "print(model.predict([[sepal_length[-1], petal_length[-1]]]))"
   ]
  },
  {
   "cell_type": "code",
   "outputs": [
    {
     "data": {
      "text/plain": "2.249573662993498e-05"
     },
     "execution_count": 2,
     "metadata": {},
     "output_type": "execute_result"
    }
   ],
   "source": [
    "history.history['loss'][-1]"
   ],
   "metadata": {
    "collapsed": false,
    "ExecuteTime": {
     "end_time": "2024-02-21T15:49:21.646110700Z",
     "start_time": "2024-02-21T15:49:21.636389100Z"
    }
   },
   "id": "c4e816e71ecd566a",
   "execution_count": 2
  },
  {
   "cell_type": "code",
   "outputs": [],
   "source": [
    "def get_w(model, layer, neuron, index):\n",
    "    layer = model.layers[layer]\n",
    "    return layer.get_weights()[0][index, neuron]\n",
    "\n",
    "\n",
    "def get_b(model, layer, neuron):\n",
    "    layer = model.layers[layer]\n",
    "    return layer.get_weights()[1][neuron]"
   ],
   "metadata": {
    "collapsed": false,
    "ExecuteTime": {
     "end_time": "2024-02-21T15:49:21.656036600Z",
     "start_time": "2024-02-21T15:49:21.642353500Z"
    }
   },
   "id": "7e6b2d00f484f5c9",
   "execution_count": 3
  },
  {
   "cell_type": "code",
   "outputs": [
    {
     "name": "stdout",
     "output_type": "stream",
     "text": [
      "-0.7852351\n",
      "7.3507795\n",
      "-2.4375594\n"
     ]
    }
   ],
   "source": [
    "print(get_w(model, 0, 0, 0))\n",
    "print(get_w(model, 0, 0, 1))\n",
    "print(get_b(model, 0, 0))"
   ],
   "metadata": {
    "collapsed": false,
    "ExecuteTime": {
     "end_time": "2024-02-21T15:49:21.665579100Z",
     "start_time": "2024-02-21T15:49:21.648280300Z"
    }
   },
   "id": "3a4ade48dacd1ccf",
   "execution_count": 4
  }
 ],
 "metadata": {
  "kernelspec": {
   "display_name": "Python 3",
   "language": "python",
   "name": "python3"
  },
  "language_info": {
   "codemirror_mode": {
    "name": "ipython",
    "version": 2
   },
   "file_extension": ".py",
   "mimetype": "text/x-python",
   "name": "python",
   "nbconvert_exporter": "python",
   "pygments_lexer": "ipython2",
   "version": "2.7.6"
  }
 },
 "nbformat": 4,
 "nbformat_minor": 5
}
