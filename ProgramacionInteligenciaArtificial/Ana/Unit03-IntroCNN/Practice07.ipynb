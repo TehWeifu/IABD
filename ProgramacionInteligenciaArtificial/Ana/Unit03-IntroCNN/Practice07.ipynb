{
 "cells": [
  {
   "cell_type": "markdown",
   "source": [
    "## Ejercicio 7\n",
    "\n",
    "Implementa una arquitectura que responda al siguiente summary.\n",
    "* Filtros convolucionales de 3x3 con función de activación ReLU.\n",
    "* Capa densa oculta con función de activacuón ReLU.\n",
    "* Capa densa de salida con función de activación Sigmoide."
   ],
   "metadata": {
    "collapsed": false
   },
   "id": "cea49deec20467c6"
  },
  {
   "cell_type": "code",
   "execution_count": 3,
   "outputs": [],
   "source": [
    "from tensorflow.keras.models import Model\n",
    "from tensorflow.keras import layers"
   ],
   "metadata": {
    "collapsed": false,
    "ExecuteTime": {
     "end_time": "2024-01-17T18:00:51.293170700Z",
     "start_time": "2024-01-17T18:00:51.280995200Z"
    }
   },
   "id": "7302c96b16adeb19"
  },
  {
   "cell_type": "code",
   "outputs": [
    {
     "name": "stdout",
     "output_type": "stream",
     "text": [
      "Model: \"model_3\"\n",
      "_________________________________________________________________\n",
      " Layer (type)                Output Shape              Param #   \n",
      "=================================================================\n",
      " input_4 (InputLayer)        [(None, 160, 160, 3)]     0         \n",
      "                                                                 \n",
      " conv2d_15 (Conv2D)          (None, 160, 160, 16)      448       \n",
      "                                                                 \n",
      " conv2d_16 (Conv2D)          (None, 158, 158, 16)      2320      \n",
      "                                                                 \n",
      " max_pooling2d_6 (MaxPoolin  (None, 79, 79, 16)        0         \n",
      " g2D)                                                            \n",
      "                                                                 \n",
      " conv2d_17 (Conv2D)          (None, 79, 79, 32)        4640      \n",
      "                                                                 \n",
      " conv2d_18 (Conv2D)          (None, 77, 77, 32)        9248      \n",
      "                                                                 \n",
      " max_pooling2d_7 (MaxPoolin  (None, 38, 38, 32)        0         \n",
      " g2D)                                                            \n",
      "                                                                 \n",
      " conv2d_19 (Conv2D)          (None, 38, 38, 64)        18496     \n",
      "                                                                 \n",
      " conv2d_20 (Conv2D)          (None, 36, 36, 64)        36928     \n",
      "                                                                 \n",
      " flatten_3 (Flatten)         (None, 82944)             0         \n",
      "                                                                 \n",
      " dense_6 (Dense)             (None, 32)                2654240   \n",
      "                                                                 \n",
      " dense_7 (Dense)             (None, 1)                 33        \n",
      "                                                                 \n",
      "=================================================================\n",
      "Total params: 2726353 (10.40 MB)\n",
      "Trainable params: 2726353 (10.40 MB)\n",
      "Non-trainable params: 0 (0.00 Byte)\n",
      "_________________________________________________________________\n"
     ]
    }
   ],
   "source": [
    "input_layer = layers.Input(shape=[160, 160, 3])\n",
    "\n",
    "layer_conv1_1 = layers.Conv2D(filters=16, kernel_size=(3, 3), strides=(1, 1), padding=\"same\", activation=\"relu\")(\n",
    "    input_layer)\n",
    "layer_conv1_2 = layers.Conv2D(filters=16, kernel_size=(3, 3), strides=(1, 1), padding=\"valid\", activation=\"relu\")(\n",
    "    layer_conv1_1)\n",
    "layer_pool1 = layers.MaxPool2D(pool_size=(2, 2))(layer_conv1_2)\n",
    "\n",
    "layer_conv2_1 = layers.Conv2D(filters=32, kernel_size=(3, 3), strides=(1, 1), padding=\"same\", activation=\"relu\")(\n",
    "    layer_pool1)\n",
    "layer_conv2_2 = layers.Conv2D(filters=32, kernel_size=(3, 3), strides=(1, 1), padding=\"valid\", activation=\"relu\")(\n",
    "    layer_conv2_1)\n",
    "layer_pool2 = layers.MaxPool2D(pool_size=(2, 2))(layer_conv2_2)\n",
    "\n",
    "layer_conv3_1 = layers.Conv2D(filters=64, kernel_size=(3, 3), strides=(1, 1), padding=\"same\", activation=\"relu\")(\n",
    "    layer_pool2)\n",
    "layer_conv3_2 = layers.Conv2D(filters=64, kernel_size=(3, 3), strides=(1, 1), padding=\"valid\", activation=\"relu\")(\n",
    "    layer_conv3_1)\n",
    "layer_flatten = layers.Flatten()(layer_conv3_2)\n",
    "\n",
    "dense_hidden1 = layers.Dense(32, activation='relu')(layer_flatten)\n",
    "\n",
    "dense_output = layers.Dense(1, activation='sigmoid')(dense_hidden1)\n",
    "\n",
    "model = Model(inputs=[input_layer], outputs=[dense_output])\n",
    "model.summary()"
   ],
   "metadata": {
    "collapsed": false,
    "ExecuteTime": {
     "end_time": "2024-01-17T18:02:16.359548900Z",
     "start_time": "2024-01-17T18:02:16.284607300Z"
    }
   },
   "id": "a3ec8d42d8478656",
   "execution_count": 6
  }
 ],
 "metadata": {
  "kernelspec": {
   "display_name": "Python 3",
   "language": "python",
   "name": "python3"
  },
  "language_info": {
   "codemirror_mode": {
    "name": "ipython",
    "version": 2
   },
   "file_extension": ".py",
   "mimetype": "text/x-python",
   "name": "python",
   "nbconvert_exporter": "python",
   "pygments_lexer": "ipython2",
   "version": "2.7.6"
  }
 },
 "nbformat": 4,
 "nbformat_minor": 5
}
