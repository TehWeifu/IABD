{
 "cells": [
  {
   "cell_type": "markdown",
   "source": [
    "## Ejercicio 8\n",
    "\n",
    "Implementa una arquitectura que responda al siguiente summary.\n",
    "* Filtros convolucionales de 3x3 con función de activación ReLU.\n",
    "* Capa densa oculta con función de activacuón ReLU.\n",
    "* Capa densa de salida con función de activación Sigmoide."
   ],
   "metadata": {
    "collapsed": false
   },
   "id": "cea49deec20467c6"
  },
  {
   "cell_type": "code",
   "execution_count": 1,
   "outputs": [],
   "source": [
    "from tensorflow.keras.models import Model\n",
    "from tensorflow.keras import layers"
   ],
   "metadata": {
    "collapsed": false,
    "ExecuteTime": {
     "end_time": "2024-01-17T18:03:24.930979300Z",
     "start_time": "2024-01-17T18:03:21.743340Z"
    }
   },
   "id": "7302c96b16adeb19"
  },
  {
   "cell_type": "code",
   "outputs": [
    {
     "name": "stdout",
     "output_type": "stream",
     "text": [
      "Model: \"model\"\n",
      "_________________________________________________________________\n",
      " Layer (type)                Output Shape              Param #   \n",
      "=================================================================\n",
      " input_1 (InputLayer)        [(None, 160, 160, 3)]     0         \n",
      "                                                                 \n",
      " conv2d (Conv2D)             (None, 160, 160, 16)      448       \n",
      "                                                                 \n",
      " conv2d_1 (Conv2D)           (None, 160, 160, 16)      2320      \n",
      "                                                                 \n",
      " max_pooling2d (MaxPooling2  (None, 80, 80, 16)        0         \n",
      " D)                                                              \n",
      "                                                                 \n",
      " conv2d_2 (Conv2D)           (None, 80, 80, 32)        4640      \n",
      "                                                                 \n",
      " conv2d_3 (Conv2D)           (None, 80, 80, 32)        9248      \n",
      "                                                                 \n",
      " max_pooling2d_1 (MaxPoolin  (None, 40, 40, 32)        0         \n",
      " g2D)                                                            \n",
      "                                                                 \n",
      " conv2d_4 (Conv2D)           (None, 40, 40, 64)        18496     \n",
      "                                                                 \n",
      " conv2d_5 (Conv2D)           (None, 40, 40, 64)        36928     \n",
      "                                                                 \n",
      " flatten (Flatten)           (None, 102400)            0         \n",
      "                                                                 \n",
      " dense (Dense)               (None, 32)                3276832   \n",
      "                                                                 \n",
      " dense_1 (Dense)             (None, 1)                 33        \n",
      "                                                                 \n",
      "=================================================================\n",
      "Total params: 3348945 (12.78 MB)\n",
      "Trainable params: 3348945 (12.78 MB)\n",
      "Non-trainable params: 0 (0.00 Byte)\n",
      "_________________________________________________________________\n"
     ]
    }
   ],
   "source": [
    "input_layer = layers.Input(shape=[160, 160, 3])\n",
    "\n",
    "layer_conv1_1 = layers.Conv2D(filters=16, kernel_size=(3, 3), strides=(1, 1), padding=\"same\", activation=\"relu\")(\n",
    "    input_layer)\n",
    "layer_conv1_2 = layers.Conv2D(filters=16, kernel_size=(3, 3), strides=(1, 1), padding=\"same\", activation=\"relu\")(\n",
    "    layer_conv1_1)\n",
    "layer_pool1 = layers.MaxPool2D(pool_size=(2, 2))(layer_conv1_2)\n",
    "\n",
    "layer_conv2_1 = layers.Conv2D(filters=32, kernel_size=(3, 3), strides=(1, 1), padding=\"same\", activation=\"relu\")(\n",
    "    layer_pool1)\n",
    "layer_conv2_2 = layers.Conv2D(filters=32, kernel_size=(3, 3), strides=(1, 1), padding=\"same\", activation=\"relu\")(\n",
    "    layer_conv2_1)\n",
    "layer_pool2 = layers.MaxPool2D(pool_size=(2, 2))(layer_conv2_2)\n",
    "\n",
    "layer_conv3_1 = layers.Conv2D(filters=64, kernel_size=(3, 3), strides=(1, 1), padding=\"same\", activation=\"relu\")(\n",
    "    layer_pool2)\n",
    "layer_conv3_2 = layers.Conv2D(filters=64, kernel_size=(3, 3), strides=(1, 1), padding=\"same\", activation=\"relu\")(\n",
    "    layer_conv3_1)\n",
    "layer_flatten = layers.Flatten()(layer_conv3_2)\n",
    "\n",
    "dense_hidden1 = layers.Dense(32, activation='relu')(layer_flatten)\n",
    "\n",
    "dense_output = layers.Dense(1, activation='sigmoid')(dense_hidden1)\n",
    "\n",
    "model = Model(inputs=[input_layer], outputs=[dense_output])\n",
    "model.summary()"
   ],
   "metadata": {
    "collapsed": false,
    "ExecuteTime": {
     "end_time": "2024-01-17T18:03:25.064034500Z",
     "start_time": "2024-01-17T18:03:24.930379200Z"
    }
   },
   "id": "a3ec8d42d8478656",
   "execution_count": 2
  }
 ],
 "metadata": {
  "kernelspec": {
   "display_name": "Python 3",
   "language": "python",
   "name": "python3"
  },
  "language_info": {
   "codemirror_mode": {
    "name": "ipython",
    "version": 2
   },
   "file_extension": ".py",
   "mimetype": "text/x-python",
   "name": "python",
   "nbconvert_exporter": "python",
   "pygments_lexer": "ipython2",
   "version": "2.7.6"
  }
 },
 "nbformat": 4,
 "nbformat_minor": 5
}
