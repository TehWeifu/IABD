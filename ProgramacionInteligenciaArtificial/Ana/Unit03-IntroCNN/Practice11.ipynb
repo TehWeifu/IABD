{
 "cells": [
  {
   "cell_type": "markdown",
   "source": [
    "## Ejercicio 11\n",
    "\n",
    "Implementa una arquitectura que responda al siguiente summary.\n",
    "* Filtros convolucionales de 3x3 con función de activación ReLU.\n",
    "* Capas densas ocultas con función de activacuón ReLU.\n",
    "* Capa densa de salida con función de activación Softmax (\"softmax\")."
   ],
   "metadata": {
    "collapsed": false
   },
   "id": "cea49deec20467c6"
  },
  {
   "cell_type": "code",
   "execution_count": 1,
   "outputs": [],
   "source": [
    "from tensorflow.keras.models import Model\n",
    "from tensorflow.keras import layers"
   ],
   "metadata": {
    "collapsed": false,
    "ExecuteTime": {
     "end_time": "2024-01-17T18:07:05.093750200Z",
     "start_time": "2024-01-17T18:07:01.896815Z"
    }
   },
   "id": "7302c96b16adeb19"
  },
  {
   "cell_type": "code",
   "outputs": [
    {
     "name": "stdout",
     "output_type": "stream",
     "text": [
      "Model: \"model\"\n",
      "_________________________________________________________________\n",
      " Layer (type)                Output Shape              Param #   \n",
      "=================================================================\n",
      " input_1 (InputLayer)        [(None, 160, 160, 3)]     0         \n",
      "                                                                 \n",
      " conv2d (Conv2D)             (None, 160, 160, 128)     3584      \n",
      "                                                                 \n",
      " conv2d_1 (Conv2D)           (None, 160, 160, 128)     147584    \n",
      "                                                                 \n",
      " max_pooling2d (MaxPooling2  (None, 80, 80, 128)       0         \n",
      " D)                                                              \n",
      "                                                                 \n",
      " conv2d_2 (Conv2D)           (None, 80, 80, 256)       295168    \n",
      "                                                                 \n",
      " conv2d_3 (Conv2D)           (None, 80, 80, 256)       590080    \n",
      "                                                                 \n",
      " max_pooling2d_1 (MaxPoolin  (None, 40, 40, 256)       0         \n",
      " g2D)                                                            \n",
      "                                                                 \n",
      " conv2d_4 (Conv2D)           (None, 40, 40, 512)       1180160   \n",
      "                                                                 \n",
      " conv2d_5 (Conv2D)           (None, 40, 40, 512)       2359808   \n",
      "                                                                 \n",
      " flatten (Flatten)           (None, 819200)            0         \n",
      "                                                                 \n",
      " dense (Dense)               (None, 32)                26214432  \n",
      "                                                                 \n",
      " dense_1 (Dense)             (None, 64)                2112      \n",
      "                                                                 \n",
      " dense_2 (Dense)             (None, 128)               8320      \n",
      "                                                                 \n",
      " dense_3 (Dense)             (None, 10)                1290      \n",
      "                                                                 \n",
      "=================================================================\n",
      "Total params: 30802538 (117.50 MB)\n",
      "Trainable params: 30802538 (117.50 MB)\n",
      "Non-trainable params: 0 (0.00 Byte)\n",
      "_________________________________________________________________\n"
     ]
    }
   ],
   "source": [
    "input_layer = layers.Input(shape=[160, 160, 3])\n",
    "\n",
    "layer_conv1_1 = layers.Conv2D(filters=128, kernel_size=(3, 3), strides=(1, 1), padding=\"same\", activation=\"relu\")(\n",
    "    input_layer)\n",
    "layer_conv1_2 = layers.Conv2D(filters=128, kernel_size=(3, 3), strides=(1, 1), padding=\"same\", activation=\"relu\")(\n",
    "    layer_conv1_1)\n",
    "layer_pool1 = layers.MaxPool2D(pool_size=(2, 2))(layer_conv1_2)\n",
    "\n",
    "layer_conv2_1 = layers.Conv2D(filters=256, kernel_size=(3, 3), strides=(1, 1), padding=\"same\", activation=\"relu\")(\n",
    "    layer_pool1)\n",
    "layer_conv2_2 = layers.Conv2D(filters=256, kernel_size=(3, 3), strides=(1, 1), padding=\"same\", activation=\"relu\")(\n",
    "    layer_conv2_1)\n",
    "layer_pool2 = layers.MaxPool2D(pool_size=(2, 2))(layer_conv2_2)\n",
    "\n",
    "layer_conv3_1 = layers.Conv2D(filters=512, kernel_size=(3, 3), strides=(1, 1), padding=\"same\", activation=\"relu\")(\n",
    "    layer_pool2)\n",
    "layer_conv3_2 = layers.Conv2D(filters=512, kernel_size=(3, 3), strides=(1, 1), padding=\"same\", activation=\"relu\")(\n",
    "    layer_conv3_1)\n",
    "layer_flatten = layers.Flatten()(layer_conv3_2)\n",
    "\n",
    "dense_hidden1 = layers.Dense(32, activation='relu')(layer_flatten)\n",
    "dense_hidden2 = layers.Dense(64, activation='relu')(dense_hidden1)\n",
    "dense_hidden3 = layers.Dense(128, activation='relu')(dense_hidden2)\n",
    "\n",
    "dense_output = layers.Dense(10, activation='softmax')(dense_hidden3)\n",
    "\n",
    "model = Model(inputs=[input_layer], outputs=[dense_output])\n",
    "model.summary()"
   ],
   "metadata": {
    "collapsed": false,
    "ExecuteTime": {
     "end_time": "2024-01-17T18:07:05.314689100Z",
     "start_time": "2024-01-17T18:07:05.094898600Z"
    }
   },
   "id": "a3ec8d42d8478656",
   "execution_count": 2
  }
 ],
 "metadata": {
  "kernelspec": {
   "display_name": "Python 3",
   "language": "python",
   "name": "python3"
  },
  "language_info": {
   "codemirror_mode": {
    "name": "ipython",
    "version": 2
   },
   "file_extension": ".py",
   "mimetype": "text/x-python",
   "name": "python",
   "nbconvert_exporter": "python",
   "pygments_lexer": "ipython2",
   "version": "2.7.6"
  }
 },
 "nbformat": 4,
 "nbformat_minor": 5
}
