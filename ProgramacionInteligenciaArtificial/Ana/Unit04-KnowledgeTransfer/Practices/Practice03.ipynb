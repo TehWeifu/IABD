{
 "nbformat": 4,
 "nbformat_minor": 0,
 "metadata": {
  "colab": {
   "provenance": []
  },
  "kernelspec": {
   "name": "python3",
   "language": "python",
   "display_name": "Python 3 (ipykernel)"
  },
  "language_info": {
   "name": "python"
  }
 },
 "cells": [
  {
   "cell_type": "markdown",
   "source": [
    "# Inferencia sobre nuevas imágenes\n",
    "\n",
    "En esta parte de la práctica vamos a ver como podemos emplear el modelo que hemos entrenado para hacer inferencia sobre nuevas imágenes, simulando un entorno de producción.\n",
    "\n",
    "Para ello, si no tienes el modelo en Drive, lo primero será subir el archivo descargado anteriormente (flowers.h5) al espacio de trabajo.\n",
    "\n",
    "Una vez listo, vas a crear un método que reciba como argumento una URL (correspondiente a una imagen de una de las 5 clases de interés) y devuelva 3 valores: índice de la clase predicha, nombre de la clase predicha y probabilidad de la predicción."
   ],
   "metadata": {
    "id": "waCyJW3rEcmc"
   }
  },
  {
   "cell_type": "code",
   "source": [
    "import requests\n",
    "import shutil\n",
    "import tensorflow as tf\n",
    "import numpy as np"
   ],
   "metadata": {
    "id": "WujAg2TuFBSh",
    "ExecuteTime": {
     "end_time": "2024-02-28T17:59:17.005029Z",
     "start_time": "2024-02-28T17:59:17.001874Z"
    }
   },
   "execution_count": 7,
   "outputs": []
  },
  {
   "cell_type": "markdown",
   "source": [
    "Aquí tenéis un pequeño snippet de código que descarga una imagen como \"imagen.jpeg\" de una URL y la almacena en el directorio activo."
   ],
   "metadata": {
    "collapsed": false
   }
  },
  {
   "cell_type": "code",
   "outputs": [],
   "source": [
    "# URL = 'https://www.lanacion.com.py/resizer/vI-zJeU3N5Hshv68-uPmo-HO37I=/1016x0/smart/filters:format(jpg):quality(70)/cloudfront-us-east-1.images.arcpublishing.com/lanacionpy/K5ES7QQOERAEVJKBDJPOVI6JDQ.jpg'\n",
    "# r = requests.get(URL, stream=True)\n",
    "# if r.status_code == 200:\n",
    "#     r.raw.decode_content = True\n",
    "# \n",
    "#     image_name = 'image.jpeg'\n",
    "#     with open(image_name, 'wb') as f:\n",
    "#         shutil.copyfileobj(r.raw, f)"
   ],
   "metadata": {
    "collapsed": false,
    "ExecuteTime": {
     "end_time": "2024-02-28T17:59:17.018887Z",
     "start_time": "2024-02-28T17:59:17.016281Z"
    }
   },
   "execution_count": 8
  },
  {
   "cell_type": "markdown",
   "source": [
    "Las clases de interés son las siguientes:"
   ],
   "metadata": {
    "id": "MSx-eK7EFTJV"
   }
  },
  {
   "cell_type": "code",
   "source": [
    "classes = ['daisy', 'dandelion', 'roses', 'sunflowers', 'tulips']"
   ],
   "metadata": {
    "id": "A5vd8aarCH2j",
    "ExecuteTime": {
     "end_time": "2024-02-28T17:59:17.032245Z",
     "start_time": "2024-02-28T17:59:17.029342Z"
    }
   },
   "execution_count": 9,
   "outputs": []
  },
  {
   "cell_type": "code",
   "source": [
    "def inference_flowers(url):\n",
    "    # 1. Descarga la imagen\n",
    "    r = requests.get(url, stream=True)\n",
    "    if r.status_code == 200:\n",
    "        r.raw.decode_content = True\n",
    "\n",
    "        image_name = 'image.jpeg'\n",
    "        with open(image_name, 'wb') as f:\n",
    "            shutil.copyfileobj(r.raw, f)\n",
    "    else:\n",
    "        print('Error al descargar la imagen')\n",
    "        return\n",
    "\n",
    "    # 2. Carga el modelo\n",
    "    try:\n",
    "        model = tf.keras.models.load_model('./Practice02/flowers.h5')\n",
    "    except Exception as e:\n",
    "        print('Error al cargar el modelo' + str(e))\n",
    "        return\n",
    "\n",
    "    # 3. Carga la imagen y redimensiónala al tamaño esperado por la CNN\n",
    "    image = tf.keras.preprocessing.image.load_img(image_name, target_size=(224, 224, 3))\n",
    "\n",
    "    # 4. Genera la matriz esperada por la CNN como entrada al método \"predict\"\n",
    "    image = np.expand_dims(image, axis=0)\n",
    "\n",
    "    # 5. Realiza la predicción\n",
    "    predictions = model.predict(image)\n",
    "\n",
    "    # 6. Identifica el índic de la clase con mayor probabilidad, su nombre y el valor de dicha probabilidad\n",
    "    class_index = np.argmax(predictions)\n",
    "    class_name = classes[class_index]\n",
    "    probability = predictions[0][class_index]\n",
    "\n",
    "    return class_index, class_name, probability"
   ],
   "metadata": {
    "id": "QZOkmQ7mFWUe",
    "ExecuteTime": {
     "end_time": "2024-02-28T17:59:17.038431Z",
     "start_time": "2024-02-28T17:59:17.033090Z"
    }
   },
   "execution_count": 10,
   "outputs": []
  },
  {
   "cell_type": "markdown",
   "source": [
    "Emplea la siguiente celda para realizar la predicción sobre una imagen."
   ],
   "metadata": {
    "id": "aHv2RQpDsy6k"
   }
  },
  {
   "cell_type": "code",
   "source": [
    "URL = 'https://i.pinimg.com/736x/e5/33/b9/e533b920a6e3befdb902ef7f62c9f30b.jpg'\n",
    "class_index, class_name, probability = inference_flowers(URL)\n",
    "\n",
    "print('Indice:', class_index)\n",
    "print('Nombre:', class_name)\n",
    "print('Probabilidad:', probability)"
   ],
   "metadata": {
    "id": "6tZ1V7xmF9kd",
    "ExecuteTime": {
     "end_time": "2024-02-28T17:59:20.337574Z",
     "start_time": "2024-02-28T17:59:17.038525Z"
    }
   },
   "execution_count": 11,
   "outputs": [
    {
     "name": "stdout",
     "output_type": "stream",
     "text": [
      "1/1 [==============================] - 1s 737ms/step\n",
      "Indice: 2\n",
      "Nombre: roses\n",
      "Probabilidad: 1.0\n"
     ]
    }
   ]
  }
 ]
}
