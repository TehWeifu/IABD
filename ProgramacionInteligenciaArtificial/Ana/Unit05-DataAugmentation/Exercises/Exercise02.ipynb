{
 "cells": [
  {
   "cell_type": "markdown",
   "source": [
    "Ejercicio 2\n",
    "\n",
    "Realiza el mismo entrenamiento, pero esta vez aplica tanto aumento de datos como transferencia de conocimiento."
   ],
   "metadata": {
    "collapsed": false
   },
   "id": "aecd4374e969763e"
  },
  {
   "cell_type": "code",
   "outputs": [],
   "source": [
    "import tensorflow as tf\n",
    "\n",
    "IMG_SIZE = (256, 256, 3)\n",
    "BATCH_SIZE = 32\n",
    "RANDOM_STATE = 123"
   ],
   "metadata": {
    "collapsed": false
   },
   "id": "c1d63976f2bfd72c"
  },
  {
   "cell_type": "code",
   "execution_count": null,
   "id": "initial_id",
   "metadata": {
    "collapsed": true
   },
   "outputs": [],
   "source": [
    "model_constructor = tf.keras.applications.inception_v3.InceptionV3\n",
    "preprocess = tf.keras.applications.inception_v3.preprocess_input\n",
    "model_base = model_constructor(include_top=False, weights='imagenet', input_shape=IMG_SIZE)"
   ]
  }
 ],
 "metadata": {
  "kernelspec": {
   "display_name": "Python 3",
   "language": "python",
   "name": "python3"
  },
  "language_info": {
   "codemirror_mode": {
    "name": "ipython",
    "version": 2
   },
   "file_extension": ".py",
   "mimetype": "text/x-python",
   "name": "python",
   "nbconvert_exporter": "python",
   "pygments_lexer": "ipython2",
   "version": "2.7.6"
  }
 },
 "nbformat": 4,
 "nbformat_minor": 5
}
