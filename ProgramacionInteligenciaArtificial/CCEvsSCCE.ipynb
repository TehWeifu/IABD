{
 "cells": [
  {
   "cell_type": "code",
   "outputs": [],
   "source": [
    "import tensorflow as tf\n",
    "from tensorflow.keras.utils import to_categorical"
   ],
   "metadata": {
    "collapsed": false,
    "ExecuteTime": {
     "end_time": "2024-02-12T16:27:49.579606900Z",
     "start_time": "2024-02-12T16:27:49.568875300Z"
    }
   },
   "id": "ed19486a6c282ddc",
   "execution_count": 57
  },
  {
   "cell_type": "code",
   "outputs": [],
   "source": [
    "y_true = [1, 2]\n",
    "y_true_encoded = to_categorical(y_true, num_classes=3, dtype='int8')\n",
    "\n",
    "y_pred = [[0.05, 0.95, 0], [0.1, 0.8, 0.1]]"
   ],
   "metadata": {
    "collapsed": false,
    "ExecuteTime": {
     "end_time": "2024-02-12T16:27:49.607995100Z",
     "start_time": "2024-02-12T16:27:49.584142400Z"
    }
   },
   "id": "f067437f9117a968",
   "execution_count": 58
  },
  {
   "cell_type": "markdown",
   "source": [
    "Loss metrics using Catagorical Crossentropy"
   ],
   "metadata": {
    "collapsed": false
   },
   "id": "49b115e6f65766e"
  },
  {
   "cell_type": "code",
   "execution_count": 59,
   "id": "initial_id",
   "metadata": {
    "collapsed": true,
    "ExecuteTime": {
     "end_time": "2024-02-12T16:27:49.615792600Z",
     "start_time": "2024-02-12T16:27:49.603807100Z"
    }
   },
   "outputs": [
    {
     "data": {
      "text/plain": "1.1769392"
     },
     "execution_count": 59,
     "metadata": {},
     "output_type": "execute_result"
    }
   ],
   "source": [
    "categorical_crossentropy = tf.keras.losses.CategoricalCrossentropy()\n",
    "categorical_crossentropy(y_true_encoded, y_pred).numpy()"
   ]
  },
  {
   "cell_type": "markdown",
   "source": [
    "Loss metrics using Sparse Catagorical Crossentropy"
   ],
   "metadata": {
    "collapsed": false
   },
   "id": "2a4e31bea028bffd"
  },
  {
   "cell_type": "code",
   "outputs": [
    {
     "data": {
      "text/plain": "1.1769392"
     },
     "execution_count": 60,
     "metadata": {},
     "output_type": "execute_result"
    }
   ],
   "source": [
    "sparse_categorical_crossentropy = tf.keras.losses.SparseCategoricalCrossentropy()\n",
    "sparse_categorical_crossentropy(y_true, y_pred).numpy()"
   ],
   "metadata": {
    "collapsed": false,
    "ExecuteTime": {
     "end_time": "2024-02-12T16:27:49.618233100Z",
     "start_time": "2024-02-12T16:27:49.612511500Z"
    }
   },
   "id": "ea4b027faeead03f",
   "execution_count": 60
  }
 ],
 "metadata": {
  "kernelspec": {
   "display_name": "Python 3",
   "language": "python",
   "name": "python3"
  },
  "language_info": {
   "codemirror_mode": {
    "name": "ipython",
    "version": 2
   },
   "file_extension": ".py",
   "mimetype": "text/x-python",
   "name": "python",
   "nbconvert_exporter": "python",
   "pygments_lexer": "ipython2",
   "version": "2.7.6"
  }
 },
 "nbformat": 4,
 "nbformat_minor": 5
}
