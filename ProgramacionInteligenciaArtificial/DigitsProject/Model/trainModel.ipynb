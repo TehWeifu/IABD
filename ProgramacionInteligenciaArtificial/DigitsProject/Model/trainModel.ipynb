{
 "cells": [
  {
   "cell_type": "code",
   "execution_count": 1,
   "id": "initial_id",
   "metadata": {
    "collapsed": true,
    "ExecuteTime": {
     "end_time": "2024-01-18T18:30:36.325134400Z",
     "start_time": "2024-01-18T18:30:31.889183500Z"
    }
   },
   "outputs": [],
   "source": [
    "import tensorflow as tf\n",
    "from tensorflow.keras.models import Model\n",
    "from tensorflow.keras import layers\n",
    "from sklearn.datasets import load_digits"
   ]
  },
  {
   "cell_type": "code",
   "outputs": [
    {
     "data": {
      "text/plain": "['DESCR', 'data', 'feature_names', 'frame', 'images', 'target', 'target_names']"
     },
     "execution_count": 3,
     "metadata": {},
     "output_type": "execute_result"
    }
   ],
   "source": [
    "digit_dataset = load_digits()\n",
    "dir(digit_dataset)"
   ],
   "metadata": {
    "collapsed": false,
    "ExecuteTime": {
     "end_time": "2024-01-18T18:30:47.406828600Z",
     "start_time": "2024-01-18T18:30:47.391173200Z"
    }
   },
   "id": "e7a3b7ef0f795514",
   "execution_count": 3
  },
  {
   "cell_type": "code",
   "outputs": [
    {
     "data": {
      "text/plain": "(1797, 8, 8)"
     },
     "execution_count": 18,
     "metadata": {},
     "output_type": "execute_result"
    }
   ],
   "source": [
    "digit_dataset.images.shape"
   ],
   "metadata": {
    "collapsed": false,
    "ExecuteTime": {
     "end_time": "2024-01-18T18:49:18.203963900Z",
     "start_time": "2024-01-18T18:49:18.200464800Z"
    }
   },
   "id": "fbbe6b0e09e7a4fd",
   "execution_count": 18
  },
  {
   "cell_type": "code",
   "outputs": [],
   "source": [
    "input_layer = layers.Input(shape=[160, 160, 3])\n",
    "layer_conv1_1 = layers.Conv2D(filters=128, kernel_size=(3, 3), strides=(1, 1), padding=\"same\", activation=\"relu\")(\n",
    "    input_layer)\n",
    "layer_conv1_2 = layers.Conv2D(filters=128, kernel_size=(3, 3), strides=(1, 1), padding=\"same\", activation=\"relu\")(\n",
    "    layer_conv1_1)\n",
    "layer_pool1 = layers.MaxPool2D(pool_size=(2, 2))(layer_conv1_2)\n",
    "\n",
    "layer_conv2_1 = layers.Conv2D(filters=256, kernel_size=(3, 3), strides=(1, 1), padding=\"same\", activation=\"relu\")(\n",
    "    layer_pool1)\n",
    "layer_conv2_2 = layers.Conv2D(filters=256, kernel_size=(3, 3), strides=(1, 1), padding=\"same\", activation=\"relu\")(\n",
    "    layer_conv2_1)\n",
    "layer_pool2 = layers.MaxPool2D(pool_size=(2, 2))(layer_conv2_2)\n",
    "\n",
    "layer_conv3_1 = layers.Conv2D(filters=512, kernel_size=(3, 3), strides=(1, 1), padding=\"same\", activation=\"relu\")(\n",
    "    layer_pool2)\n",
    "layer_conv3_2 = layers.Conv2D(filters=512, kernel_size=(3, 3), strides=(1, 1), padding=\"same\", activation=\"relu\")(\n",
    "    layer_conv3_1)\n",
    "layer_flatten = layers.Flatten()(layer_conv3_2)\n",
    "\n",
    "dense_hidden1 = layers.Dense(32, activation='relu')(layer_flatten)\n",
    "dense_hidden2 = layers.Dense(64, activation='relu')(dense_hidden1)\n",
    "dense_hidden3 = layers.Dense(128, activation='relu')(dense_hidden2)\n",
    "\n",
    "dense_output = layers.Dense(10, activation='softmax')(dense_hidden3)\n",
    "\n",
    "model = Model(inputs=[input_layer], outputs=[dense_output])"
   ],
   "metadata": {
    "collapsed": false
   },
   "id": "8ae3a8dec22ebf1f"
  },
  {
   "cell_type": "code",
   "outputs": [],
   "source": [
    "from sklearn.model_selection import train_test_split\n",
    "\n",
    "X_train, X_test, y_val, y_test = train_test_split(digit_dataset.data, digit_dataset.target, test_size=0.3,\n",
    "                                                  random_state=2055)"
   ],
   "metadata": {
    "collapsed": false
   },
   "id": "dde9f28c3cb03ae6"
  }
 ],
 "metadata": {
  "kernelspec": {
   "display_name": "Python 3",
   "language": "python",
   "name": "python3"
  },
  "language_info": {
   "codemirror_mode": {
    "name": "ipython",
    "version": 2
   },
   "file_extension": ".py",
   "mimetype": "text/x-python",
   "name": "python",
   "nbconvert_exporter": "python",
   "pygments_lexer": "ipython2",
   "version": "2.7.6"
  }
 },
 "nbformat": 4,
 "nbformat_minor": 5
}
