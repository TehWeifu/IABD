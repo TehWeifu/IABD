{
 "cells": [
  {
   "cell_type": "markdown",
   "source": [
    "# Exercise 3"
   ],
   "metadata": {
    "collapsed": false
   },
   "id": "f74a4feb6d60995"
  },
  {
   "cell_type": "markdown",
   "source": [
    "Dataset: vehicle features (speed, charge, etc...)\n",
    "Problem: Guess which kind of vehicle (car, truck, bike, bus, bicycle) "
   ],
   "metadata": {
    "collapsed": false
   },
   "id": "ad700ec5f242531f"
  },
  {
   "cell_type": "code",
   "execution_count": 144,
   "id": "initial_id",
   "metadata": {
    "collapsed": true,
    "ExecuteTime": {
     "end_time": "2024-02-07T17:01:21.472087600Z",
     "start_time": "2024-02-07T17:01:21.461240300Z"
    }
   },
   "outputs": [],
   "source": [
    "import numpy as np\n",
    "from sklearn.model_selection import train_test_split\n",
    "from sklearn.preprocessing import LabelBinarizer\n",
    "\n",
    "TEST_SPLIT_SIZE = .3\n",
    "RANDOM_STATE = 5"
   ]
  },
  {
   "cell_type": "code",
   "outputs": [],
   "source": [
    "def get_datos():\n",
    "    vehicle_data = np.genfromtxt(\"./datos.csv\", delimiter=\",\")\n",
    "\n",
    "    x = vehicle_data[:, 0:-1]\n",
    "\n",
    "    y = vehicle_data[:, -1]\n",
    "    y = y.astype(np.uint8)\n",
    "    y = y - 1  # Map target values from 0-4 instead of 1-5. Not really needed but really convenient for the dispersion matrix\n",
    "\n",
    "    label_binarizer = LabelBinarizer()\n",
    "    label_binarizer.fit(range(max(y) + 1))\n",
    "    y = label_binarizer.transform(y)\n",
    "\n",
    "    x_train, x_test, y_train, y_test = train_test_split(x, y, random_state=RANDOM_STATE, test_size=TEST_SPLIT_SIZE)\n",
    "    return x_train, x_test, y_train, y_test"
   ],
   "metadata": {
    "collapsed": false,
    "ExecuteTime": {
     "end_time": "2024-02-07T17:01:21.490074900Z",
     "start_time": "2024-02-07T17:01:21.476246100Z"
    }
   },
   "id": "625024ce08625548",
   "execution_count": 145
  }
 ],
 "metadata": {
  "kernelspec": {
   "display_name": "Python 3",
   "language": "python",
   "name": "python3"
  },
  "language_info": {
   "codemirror_mode": {
    "name": "ipython",
    "version": 2
   },
   "file_extension": ".py",
   "mimetype": "text/x-python",
   "name": "python",
   "nbconvert_exporter": "python",
   "pygments_lexer": "ipython2",
   "version": "2.7.6"
  }
 },
 "nbformat": 4,
 "nbformat_minor": 5
}
