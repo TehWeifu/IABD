{
 "cells": [
  {
   "cell_type": "markdown",
   "source": [
    "Ejercicio 5: Operadores\n",
    "Haz la división con decimales de 5/3\n",
    "Haz la división entera de 5/3\n",
    "Calcula 2^16"
   ],
   "metadata": {
    "collapsed": false
   },
   "id": "4e34b7907033e201"
  },
  {
   "cell_type": "code",
   "outputs": [
    {
     "name": "stdout",
     "output_type": "stream",
     "text": [
      "5/3 = 1.6666666666666667\n",
      "5//3 = 1\n",
      "2^16 = 65536\n"
     ]
    }
   ],
   "source": [
    "print(f\"5/3 = {5 / 3}\")\n",
    "print(f\"5//3 = {5 // 3}\")\n",
    "print(f\"2^16 = {2 ** 16}\")"
   ],
   "metadata": {
    "collapsed": false,
    "ExecuteTime": {
     "end_time": "2024-02-01T16:08:58.268568700Z",
     "start_time": "2024-02-01T16:08:58.262955700Z"
    }
   },
   "id": "d4e296868cca3ddd",
   "execution_count": 1
  }
 ],
 "metadata": {
  "kernelspec": {
   "display_name": "Python 3",
   "language": "python",
   "name": "python3"
  },
  "language_info": {
   "codemirror_mode": {
    "name": "ipython",
    "version": 2
   },
   "file_extension": ".py",
   "mimetype": "text/x-python",
   "name": "python",
   "nbconvert_exporter": "python",
   "pygments_lexer": "ipython2",
   "version": "2.7.6"
  }
 },
 "nbformat": 4,
 "nbformat_minor": 5
}
