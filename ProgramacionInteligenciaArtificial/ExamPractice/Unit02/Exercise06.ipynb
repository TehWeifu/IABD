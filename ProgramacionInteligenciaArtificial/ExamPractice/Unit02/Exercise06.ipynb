{
 "cells": [
  {
   "cell_type": "markdown",
   "source": [
    "Ejercicio 6: Arrays\n",
    "Calcula la longitud del anterior array\n",
    "Calcula la suma de los elementos del anterior array\n",
    "Añade al array el elemento 97\n",
    "Crea una tupla con los siguiente números primos e imprime el cuarto número: 2, 3, 5, 7, 11, 13, 17, 19, 23, 29\n",
    "Añade a la tupla el elemento 97. ¿Porqué no te deja?.\n",
    "Crea una array que sea la unión de los elementos de los siguientes dos arrays 1,2,3,4 y 10,20,30,40. Deberás usar un bucle for.\n",
    "Añade al array 1,2,3,4 el siguiente array 10,20,30,40, pero como si fuera un único elemento usando una sola vez append. ¿Ves la diferencia con el ejercicio anterior?"
   ],
   "metadata": {
    "collapsed": false
   },
   "id": "4e34b7907033e201"
  },
  {
   "cell_type": "markdown",
   "source": [
    "Crea una array con los siguiente números primos e imprime el cuarto número: 2, 3, 5, 7, 11, 13, 17, 19, 23, 29"
   ],
   "metadata": {
    "collapsed": false
   },
   "id": "5635f81d4b0e2ae2"
  },
  {
   "cell_type": "code",
   "outputs": [
    {
     "name": "stdout",
     "output_type": "stream",
     "text": [
      "The fourth prime is 7\n"
     ]
    }
   ],
   "source": [
    "primes = [2, 3, 5, 7, 11, 13, 17, 19, 23, 29]\n",
    "print(f\"The fourth prime is {primes[3]}\")"
   ],
   "metadata": {
    "collapsed": false,
    "ExecuteTime": {
     "end_time": "2024-02-01T16:11:17.183657400Z",
     "start_time": "2024-02-01T16:11:17.173931300Z"
    }
   },
   "id": "12f7ccba0a346d81",
   "execution_count": 2
  },
  {
   "cell_type": "markdown",
   "source": [
    "Calcula la longitud del anterior array"
   ],
   "metadata": {
    "collapsed": false
   },
   "id": "94f210412df581f3"
  },
  {
   "cell_type": "code",
   "outputs": [
    {
     "name": "stdout",
     "output_type": "stream",
     "text": [
      "10\n"
     ]
    }
   ],
   "source": [
    "print(len(primes))"
   ],
   "metadata": {
    "collapsed": false,
    "ExecuteTime": {
     "end_time": "2024-02-01T16:11:17.184173600Z",
     "start_time": "2024-02-01T16:11:17.177516100Z"
    }
   },
   "id": "6da299a91ac445e1",
   "execution_count": 3
  },
  {
   "cell_type": "markdown",
   "source": [
    "Calcula la suma de los elementos del anterior array"
   ],
   "metadata": {
    "collapsed": false
   },
   "id": "a9b759e16023f2d6"
  },
  {
   "cell_type": "code",
   "outputs": [
    {
     "name": "stdout",
     "output_type": "stream",
     "text": [
      "129\n"
     ]
    }
   ],
   "source": [
    "print(sum(primes))"
   ],
   "metadata": {
    "collapsed": false,
    "ExecuteTime": {
     "end_time": "2024-02-01T16:11:48.019130800Z",
     "start_time": "2024-02-01T16:11:48.017079400Z"
    }
   },
   "id": "790cd23c975b6c75",
   "execution_count": 4
  },
  {
   "cell_type": "markdown",
   "source": [
    "Añade al array el elemento 97"
   ],
   "metadata": {
    "collapsed": false
   },
   "id": "3a4dce35f730238b"
  },
  {
   "cell_type": "code",
   "outputs": [
    {
     "data": {
      "text/plain": "[2, 3, 5, 7, 11, 13, 17, 19, 23, 29, 97, 97]"
     },
     "execution_count": 6,
     "metadata": {},
     "output_type": "execute_result"
    }
   ],
   "source": [
    "primes.append(97)\n",
    "primes"
   ],
   "metadata": {
    "collapsed": false,
    "ExecuteTime": {
     "end_time": "2024-02-01T16:12:12.351905200Z",
     "start_time": "2024-02-01T16:12:12.343231800Z"
    }
   },
   "id": "dd6d3f5eaa765a65",
   "execution_count": 6
  },
  {
   "cell_type": "markdown",
   "source": [
    "Crea una tupla con los siguiente números primos e imprime el cuarto número: 2, 3, 5, 7, 11, 13, 17, 19, 23, 29"
   ],
   "metadata": {
    "collapsed": false
   },
   "id": "384ab177279df4b6"
  },
  {
   "cell_type": "code",
   "outputs": [],
   "source": [
    "primes_tuple = (2, 3, 5, 7, 11, 13, 17, 19, 23, 29)"
   ],
   "metadata": {
    "collapsed": false
   },
   "id": "df956c64baa78044"
  },
  {
   "cell_type": "markdown",
   "source": [
    "Añade a la tupla el elemento 97. ¿Porqué no te deja?."
   ],
   "metadata": {
    "collapsed": false
   },
   "id": "f2c97d3d7edaca54"
  },
  {
   "cell_type": "markdown",
   "source": [
    "- Por que las tuplas son objetos inmutables"
   ],
   "metadata": {
    "collapsed": false
   },
   "id": "2096e825fcf1f8f9"
  },
  {
   "cell_type": "markdown",
   "source": [
    "Crea una array que sea la unión de los elementos de los siguientes dos arrays 1,2,3,4 y 10,20,30,40. Deberás usar un bucle for."
   ],
   "metadata": {
    "collapsed": false
   },
   "id": "9dd98b27ec077b1e"
  },
  {
   "cell_type": "code",
   "outputs": [
    {
     "data": {
      "text/plain": "[1, 2, 3, 4, 10, 20, 30, 40]"
     },
     "execution_count": 7,
     "metadata": {},
     "output_type": "execute_result"
    }
   ],
   "source": [
    "arr1 = [1, 2, 3, 4]\n",
    "arr2 = [10, 20, 30, 40]\n",
    "arr_result = []\n",
    "\n",
    "for num in arr1:\n",
    "    arr_result.append(num)\n",
    "\n",
    "for num in arr2:\n",
    "    arr_result.append(num)\n",
    "\n",
    "arr_result"
   ],
   "metadata": {
    "collapsed": false,
    "ExecuteTime": {
     "end_time": "2024-02-01T16:15:10.787155300Z",
     "start_time": "2024-02-01T16:15:10.777977300Z"
    }
   },
   "id": "ebe4606bb3cc4837",
   "execution_count": 7
  },
  {
   "cell_type": "markdown",
   "source": [
    "Añade al array 1,2,3,4 el siguiente array 10,20,30,40, pero como si fuera un único elemento usando una sola vez append. ¿Ves la diferencia con el ejercicio anterior?"
   ],
   "metadata": {
    "collapsed": false
   },
   "id": "281c691b8e3bba65"
  },
  {
   "cell_type": "code",
   "outputs": [
    {
     "data": {
      "text/plain": "[1, 2, 3, 4, [10, 20, 30, 40]]"
     },
     "execution_count": 8,
     "metadata": {},
     "output_type": "execute_result"
    }
   ],
   "source": [
    "arr1 = [1, 2, 3, 4]\n",
    "arr2 = [10, 20, 30, 40]\n",
    "\n",
    "arr1.append(arr2)\n",
    "arr1"
   ],
   "metadata": {
    "collapsed": false,
    "ExecuteTime": {
     "end_time": "2024-02-01T16:15:38.371118500Z",
     "start_time": "2024-02-01T16:15:38.369065Z"
    }
   },
   "id": "22ba819f36a5267e",
   "execution_count": 8
  }
 ],
 "metadata": {
  "kernelspec": {
   "display_name": "Python 3",
   "language": "python",
   "name": "python3"
  },
  "language_info": {
   "codemirror_mode": {
    "name": "ipython",
    "version": 2
   },
   "file_extension": ".py",
   "mimetype": "text/x-python",
   "name": "python",
   "nbconvert_exporter": "python",
   "pygments_lexer": "ipython2",
   "version": "2.7.6"
  }
 },
 "nbformat": 4,
 "nbformat_minor": 5
}
