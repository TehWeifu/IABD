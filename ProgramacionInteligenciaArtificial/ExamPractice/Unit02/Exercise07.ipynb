{
 "cells": [
  {
   "cell_type": "markdown",
   "source": [
    "Ejercicio 7: Print y arrays\n",
    "Dado el array:\n",
    "\n",
    "a=[2, 3, 5, 7, 11, 13, 17, 19, 23, 29, 31, 37, 41, 43, 47, 53, 59, 61, 67, 71, 73, 79, 83, 89, 97]"
   ],
   "metadata": {
    "collapsed": false
   },
   "id": "4e34b7907033e201"
  },
  {
   "cell_type": "code",
   "outputs": [],
   "source": [
    "a = [2, 3, 5, 7, 11, 13, 17, 19, 23, 29, 31, 37, 41, 43, 47, 53, 59, 61, 67, 71, 73, 79, 83, 89, 97]"
   ],
   "metadata": {
    "collapsed": false
   },
   "id": "41968e19e0ffc836",
   "execution_count": null
  },
  {
   "cell_type": "markdown",
   "source": [
    "Imprime todos sus números cada un en una línea distinta"
   ],
   "metadata": {
    "collapsed": false
   },
   "id": "a92484898cde5ba0"
  },
  {
   "cell_type": "code",
   "outputs": [],
   "source": [
    "for num in a:\n",
    "    print(num)"
   ],
   "metadata": {
    "collapsed": false
   },
   "id": "95bc1cdfa9e907f8",
   "execution_count": null
  },
  {
   "cell_type": "markdown",
   "source": [
    "Imprime todos sus números en una única línea y separados por punto y coma"
   ],
   "metadata": {
    "collapsed": false
   },
   "id": "9fdd291d25ef5d9"
  },
  {
   "cell_type": "code",
   "outputs": [
    {
     "name": "stdout",
     "output_type": "stream",
     "text": [
      "2;3;5;7;11;13;17;19;23;29;31;37;41;43;47;53;59;61;67;71;73;79;83;89;97;"
     ]
    }
   ],
   "source": [
    "for num in a:\n",
    "    print(num, end=';')"
   ],
   "metadata": {
    "collapsed": false,
    "ExecuteTime": {
     "end_time": "2024-02-01T16:21:50.440551200Z",
     "start_time": "2024-02-01T16:21:50.421715300Z"
    }
   },
   "id": "95f852db797561fe",
   "execution_count": 6
  },
  {
   "cell_type": "markdown",
   "source": [
    "Imprime todos sus números en una única línea y separados por un espacio"
   ],
   "metadata": {
    "collapsed": false
   },
   "id": "809573ce82947221"
  },
  {
   "cell_type": "code",
   "outputs": [
    {
     "name": "stdout",
     "output_type": "stream",
     "text": [
      "2 3 5 7 11 13 17 19 23 29 31 37 41 43 47 53 59 61 67 71 73 79 83 89 97 "
     ]
    }
   ],
   "source": [
    "for num in a:\n",
    "    print(num, end=' ')"
   ],
   "metadata": {
    "collapsed": false,
    "ExecuteTime": {
     "end_time": "2024-02-01T16:21:59.621966800Z",
     "start_time": "2024-02-01T16:21:59.618902Z"
    }
   },
   "id": "2fd49aef1a0505fb",
   "execution_count": 7
  },
  {
   "cell_type": "markdown",
   "source": [
    "Imprime todos sus números de forma que se impriman 2 por línea y separados por una coma"
   ],
   "metadata": {
    "collapsed": false
   },
   "id": "d740fc3a577b08d8"
  },
  {
   "cell_type": "code",
   "outputs": [
    {
     "name": "stdout",
     "output_type": "stream",
     "text": [
      "2,3\n",
      "5,7\n",
      "11,13\n",
      "17,19\n",
      "23,29\n",
      "31,37\n",
      "41,43\n",
      "47,53\n",
      "59,61\n",
      "67,71\n",
      "73,79\n",
      "83,89\n",
      "97,"
     ]
    }
   ],
   "source": [
    "for idx, num in enumerate(a):\n",
    "    print(num, end=',' if (idx % 2 == 0) else \"\\n\")"
   ],
   "metadata": {
    "collapsed": false,
    "ExecuteTime": {
     "end_time": "2024-02-01T16:26:24.697289900Z",
     "start_time": "2024-02-01T16:26:24.694227900Z"
    }
   },
   "id": "75aa050acdbb9409",
   "execution_count": 18
  },
  {
   "cell_type": "markdown",
   "source": [
    "Imprime todos sus números de forma que se impriman 3 por línea y separados por un espacio"
   ],
   "metadata": {
    "collapsed": false
   },
   "id": "5d14d6c5a9c81c13"
  },
  {
   "cell_type": "code",
   "outputs": [
    {
     "name": "stdout",
     "output_type": "stream",
     "text": [
      "2 3 5\n",
      "7 11 13\n",
      "17 19 23\n",
      "29 31 37\n",
      "41 43 47\n",
      "53 59 61\n",
      "67 71 73\n",
      "79 83 89\n",
      "97 "
     ]
    }
   ],
   "source": [
    "for idx, num in enumerate(a):\n",
    "    print(num, end=' ' if ((idx + 1) % 3 != 0) else \"\\n\")"
   ],
   "metadata": {
    "collapsed": false,
    "ExecuteTime": {
     "end_time": "2024-02-01T16:28:48.713587900Z",
     "start_time": "2024-02-01T16:28:48.711026Z"
    }
   },
   "id": "422f0871f200c088",
   "execution_count": 25
  }
 ],
 "metadata": {
  "kernelspec": {
   "display_name": "Python 3",
   "language": "python",
   "name": "python3"
  },
  "language_info": {
   "codemirror_mode": {
    "name": "ipython",
    "version": 2
   },
   "file_extension": ".py",
   "mimetype": "text/x-python",
   "name": "python",
   "nbconvert_exporter": "python",
   "pygments_lexer": "ipython2",
   "version": "2.7.6"
  }
 },
 "nbformat": 4,
 "nbformat_minor": 5
}
