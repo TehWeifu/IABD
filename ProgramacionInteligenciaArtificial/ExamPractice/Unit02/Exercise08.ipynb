{
 "cells": [
  {
   "cell_type": "markdown",
   "source": [
    "Ejercicio 8: Matrices\n",
    "Crea la siguiente matriz:"
   ],
   "metadata": {
    "collapsed": false
   },
   "id": "158d9425ebd42cfe"
  },
  {
   "cell_type": "code",
   "outputs": [],
   "source": [
    "matrix = [\n",
    "    [1, 0, 0, 0],\n",
    "    [0, 1, 7, 0],\n",
    "    [0, 0, 1, 0],\n",
    "    [0, 0, 0, 1],\n",
    "]"
   ],
   "metadata": {
    "collapsed": false,
    "ExecuteTime": {
     "end_time": "2024-02-01T16:30:47.969553500Z",
     "start_time": "2024-02-01T16:30:47.959795100Z"
    }
   },
   "id": "2c7a15ca9b6691e5",
   "execution_count": 2
  },
  {
   "cell_type": "markdown",
   "source": [
    "Obtén el elemento de la fila 2º y la columna 3º. Es el valor del 7."
   ],
   "metadata": {
    "collapsed": false
   },
   "id": "d783837098d0161c"
  },
  {
   "cell_type": "code",
   "execution_count": 3,
   "id": "initial_id",
   "metadata": {
    "collapsed": true,
    "ExecuteTime": {
     "end_time": "2024-02-01T16:30:47.983441200Z",
     "start_time": "2024-02-01T16:30:47.962882100Z"
    }
   },
   "outputs": [
    {
     "data": {
      "text/plain": "7"
     },
     "execution_count": 3,
     "metadata": {},
     "output_type": "execute_result"
    }
   ],
   "source": [
    "matrix[1][2]"
   ]
  },
  {
   "cell_type": "markdown",
   "source": [
    "Crea un nuevo array con los elementos de la 3º Fila de la matriz"
   ],
   "metadata": {
    "collapsed": false
   },
   "id": "6c8ca53670743c39"
  },
  {
   "cell_type": "code",
   "outputs": [
    {
     "data": {
      "text/plain": "[0, 0, 1, 0]"
     },
     "execution_count": 4,
     "metadata": {},
     "output_type": "execute_result"
    }
   ],
   "source": [
    "elements_third_row = matrix[2]\n",
    "elements_third_row"
   ],
   "metadata": {
    "collapsed": false,
    "ExecuteTime": {
     "end_time": "2024-02-01T16:31:17.976635100Z",
     "start_time": "2024-02-01T16:31:17.972562900Z"
    }
   },
   "id": "26cb07e35a743656",
   "execution_count": 4
  },
  {
   "cell_type": "markdown",
   "source": [
    "Crea un nuevo array con los elementos de la 2º Columna de la matriz"
   ],
   "metadata": {
    "collapsed": false
   },
   "id": "45c339c4ec34bc87"
  },
  {
   "cell_type": "code",
   "outputs": [
    {
     "data": {
      "text/plain": "[0, 1, 0, 0]"
     },
     "execution_count": 8,
     "metadata": {},
     "output_type": "execute_result"
    }
   ],
   "source": [
    "elements_second_column = [row[1] for row in matrix]\n",
    "elements_second_column"
   ],
   "metadata": {
    "collapsed": false,
    "ExecuteTime": {
     "end_time": "2024-02-01T16:33:11.917668100Z",
     "start_time": "2024-02-01T16:33:11.907963600Z"
    }
   },
   "id": "5e1fa924627be64d",
   "execution_count": 8
  },
  {
   "cell_type": "markdown",
   "source": [
    "Imprime la matriz y haz que las cabeceras de cada columna sean A, B , C y D"
   ],
   "metadata": {
    "collapsed": false
   },
   "id": "79c7e62a4c92646f"
  },
  {
   "cell_type": "code",
   "outputs": [
    {
     "name": "stdout",
     "output_type": "stream",
     "text": [
      "  A    B    C    D\n",
      "---  ---  ---  ---\n",
      "  1    0    0    0\n",
      "  0    1    7    0\n",
      "  0    0    1    0\n",
      "  0    0    0    1\n"
     ]
    }
   ],
   "source": [
    "import tabulate\n",
    "\n",
    "print(tabulate.tabulate(matrix, headers=['A', 'B', 'C', 'D']))"
   ],
   "metadata": {
    "collapsed": false,
    "ExecuteTime": {
     "end_time": "2024-02-01T16:33:51.140502300Z",
     "start_time": "2024-02-01T16:33:51.119607100Z"
    }
   },
   "id": "9b5c8c5a2d06d2bb",
   "execution_count": 9
  }
 ],
 "metadata": {
  "kernelspec": {
   "display_name": "Python 3",
   "language": "python",
   "name": "python3"
  },
  "language_info": {
   "codemirror_mode": {
    "name": "ipython",
    "version": 2
   },
   "file_extension": ".py",
   "mimetype": "text/x-python",
   "name": "python",
   "nbconvert_exporter": "python",
   "pygments_lexer": "ipython2",
   "version": "2.7.6"
  }
 },
 "nbformat": 4,
 "nbformat_minor": 5
}
