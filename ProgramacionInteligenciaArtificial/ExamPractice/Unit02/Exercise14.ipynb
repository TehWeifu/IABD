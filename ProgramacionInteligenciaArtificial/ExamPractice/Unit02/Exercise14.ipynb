{
 "cells": [
  {
   "cell_type": "markdown",
   "source": [
    "Ejercicio 14\n",
    "Siguiendo con el ejercicio anterior, haz un programa que muestre lo siguiente\n",
    "\n",
    "\n",
    "  Red    Result 1    Result 2\n",
    "------  ---------- ----------\n",
    "1        0.06094426 0.9634158\n",
    "2        0.06094426 0.9634158\n",
    "...\n",
    "5        0.06094426 0.9634158\n",
    "\n",
    "Pero los números con decimales que se muestran son el resultado de llamar a la red neuronal con los valores (4.9, 1.4) y (6.3, 4.9). Y cada red va a tener las siguientes capas con las neuronas:\n",
    "\n",
    "Red\tNº Neuronas en cada capa\n",
    "1º\t2, 4, 1\n",
    "2º\t4, 8, 8, 2, 1\n",
    "3º\t8, 12, ,24, 12, 1\n",
    "4º\t8, 16, 8, 1\n",
    "5º\t16, 32, 1\n",
    "\n",
    "Para hacer eso deberás crear un array en la que cada elemento será otro array con las neuronas de cada capa. Ejemplo:\n",
    "\n",
    "redes=[  [2,  4 , 1] , [4,  8, 8, 2, 1]  ]\n",
    "Recorre el array y en cada vuelta\n",
    "Obtén las neuronas de cada capa\n",
    "Llama al método compile_fit\n",
    "Obtén los resultados de predecir con los valores (4.9, 1.4) y (6.3, 4.9).\n",
    "Añade los resultados a una matriz de resultados\n",
    "Imprime la matriz de resultados"
   ],
   "metadata": {
    "collapsed": false
   },
   "id": "1280b9d77c346e57"
  },
  {
   "cell_type": "code",
   "outputs": [],
   "source": [
    "import random\n",
    "\n",
    "import numpy as np\n",
    "import tensorflow as tf\n",
    "from keras.layers import Dense\n",
    "from keras.models import Sequential\n",
    "from sklearn.datasets import load_iris\n",
    "from tabulate import tabulate"
   ],
   "metadata": {
    "collapsed": false,
    "ExecuteTime": {
     "end_time": "2024-02-01T18:18:23.168165400Z",
     "start_time": "2024-02-01T18:18:23.157541800Z"
    }
   },
   "id": "d12d747840a69ac3",
   "execution_count": 8
  },
  {
   "cell_type": "code",
   "outputs": [],
   "source": [
    "def get_datos():\n",
    "    iris = load_iris()\n",
    "\n",
    "    sepal_length = iris.data[0:99, 0]\n",
    "    petal_length = iris.data[0:99, 2]\n",
    "    flower_type = iris.target[0:99]\n",
    "\n",
    "    x = np.column_stack((sepal_length, petal_length))\n",
    "    y = flower_type\n",
    "\n",
    "    return x, y"
   ],
   "metadata": {
    "collapsed": false,
    "ExecuteTime": {
     "end_time": "2024-02-01T18:18:23.181514800Z",
     "start_time": "2024-02-01T18:18:23.172592700Z"
    }
   },
   "id": "8d9635d73586285e",
   "execution_count": 9
  },
  {
   "cell_type": "code",
   "outputs": [],
   "source": [
    "def compile_fit(layers, x, y):\n",
    "    model = Sequential()\n",
    "\n",
    "    for idx, layer in enumerate(layers):\n",
    "        if idx == 0:\n",
    "            model.add(Dense(layer, activation='relu', input_dim=2))\n",
    "        elif idx == len(layers) - 1:\n",
    "            model.add(Dense(layer, activation='sigmoid'))\n",
    "        else:\n",
    "            model.add(Dense(layer, activation='relu'))\n",
    "\n",
    "    model.compile(loss='mean_squared_error')\n",
    "    model.fit(x, y, epochs=40, verbose=False)\n",
    "    return model\n"
   ],
   "metadata": {
    "collapsed": false,
    "ExecuteTime": {
     "end_time": "2024-02-01T18:18:23.181514800Z",
     "start_time": "2024-02-01T18:18:23.174108Z"
    }
   },
   "id": "381d7650c8eac93f",
   "execution_count": 10
  },
  {
   "cell_type": "code",
   "outputs": [],
   "source": [
    "np.random.seed(5)\n",
    "tf.random.set_seed(5)\n",
    "random.seed(5)"
   ],
   "metadata": {
    "collapsed": false,
    "ExecuteTime": {
     "end_time": "2024-02-01T18:18:23.211900Z",
     "start_time": "2024-02-01T18:18:23.181514800Z"
    }
   },
   "id": "2c73e9b722d0fba0",
   "execution_count": 11
  },
  {
   "cell_type": "code",
   "outputs": [],
   "source": [
    "x, y = get_datos()"
   ],
   "metadata": {
    "collapsed": false,
    "ExecuteTime": {
     "end_time": "2024-02-01T18:18:23.211900Z",
     "start_time": "2024-02-01T18:18:23.191610100Z"
    }
   },
   "id": "f3b243452eec622a",
   "execution_count": 12
  },
  {
   "cell_type": "code",
   "outputs": [],
   "source": [
    "redes = [\n",
    "    [2, 4, 1],\n",
    "    [4, 8, 8, 2, 1],\n",
    "    [8, 12, 24, 12, 1],\n",
    "    [8, 16, 8, 1],\n",
    "    [16, 32, 1],\n",
    "]"
   ],
   "metadata": {
    "collapsed": false,
    "ExecuteTime": {
     "end_time": "2024-02-01T18:18:23.212902300Z",
     "start_time": "2024-02-01T18:18:23.199283500Z"
    }
   },
   "id": "8084c090f5f7d78e",
   "execution_count": 13
  },
  {
   "cell_type": "code",
   "outputs": [
    {
     "name": "stdout",
     "output_type": "stream",
     "text": [
      "1/1 [==============================] - 0s 42ms/step\n",
      "1/1 [==============================] - 0s 50ms/step\n",
      "1/1 [==============================] - 0s 49ms/step\n",
      "1/1 [==============================] - 0s 45ms/step\n",
      "1/1 [==============================] - 0s 79ms/step\n"
     ]
    }
   ],
   "source": [
    "results = []\n",
    "\n",
    "for idx, net in enumerate(redes):\n",
    "    model = compile_fit(net, x, y)\n",
    "    predictions = model.predict([[4.9, 1.4], [6.3, 4.9]])\n",
    "    results.append(\n",
    "        [idx + 1, predictions[0][0], predictions[1][0]]\n",
    "    )"
   ],
   "metadata": {
    "collapsed": false,
    "ExecuteTime": {
     "end_time": "2024-02-01T18:19:17.629263900Z",
     "start_time": "2024-02-01T18:19:14.953616200Z"
    }
   },
   "id": "6dcb43a278134e82",
   "execution_count": 17
  },
  {
   "cell_type": "code",
   "outputs": [
    {
     "name": "stdout",
     "output_type": "stream",
     "text": [
      "  Red    Result 1    Result2\n",
      "-----  ----------  ---------\n",
      "    1   0.505447    0.513587\n",
      "    2   0.502102    0.502102\n",
      "    3   0.121296    0.859237\n",
      "    4   0.298692    0.879746\n",
      "    5   0.0361609   0.977073\n"
     ]
    }
   ],
   "source": [
    "print(tabulate(results, headers=[\"Red\", \"Result 1\", \"Result2\"]))"
   ],
   "metadata": {
    "collapsed": false,
    "ExecuteTime": {
     "end_time": "2024-02-01T18:20:05.801686200Z",
     "start_time": "2024-02-01T18:20:05.800176800Z"
    }
   },
   "id": "8dde2a32d496b019",
   "execution_count": 21
  }
 ],
 "metadata": {
  "kernelspec": {
   "display_name": "Python 3",
   "language": "python",
   "name": "python3"
  },
  "language_info": {
   "codemirror_mode": {
    "name": "ipython",
    "version": 2
   },
   "file_extension": ".py",
   "mimetype": "text/x-python",
   "name": "python",
   "nbconvert_exporter": "python",
   "pygments_lexer": "ipython2",
   "version": "2.7.6"
  }
 },
 "nbformat": 4,
 "nbformat_minor": 5
}
