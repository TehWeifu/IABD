{
 "cells": [
  {
   "cell_type": "markdown",
   "source": [
    "Ejercicio 1\n",
    "Crea una array de numpy con los siguiente números primos: 2, 3, 5, 7, 11, 13, 17, 19, 23, 29\n",
    "\n"
   ],
   "metadata": {
    "collapsed": false
   },
   "id": "1f837a64dc4acca8"
  },
  {
   "cell_type": "code",
   "outputs": [],
   "source": [
    "import numpy as np"
   ],
   "metadata": {
    "collapsed": false,
    "ExecuteTime": {
     "end_time": "2024-02-01T22:21:32.456381900Z",
     "start_time": "2024-02-01T22:21:32.431730900Z"
    }
   },
   "id": "a578ccf940ae229",
   "execution_count": 10
  },
  {
   "cell_type": "code",
   "execution_count": 11,
   "id": "initial_id",
   "metadata": {
    "collapsed": true,
    "ExecuteTime": {
     "end_time": "2024-02-01T22:21:32.463539800Z",
     "start_time": "2024-02-01T22:21:32.461026400Z"
    }
   },
   "outputs": [],
   "source": [
    "primes = np.array([2, 3, 5, 7, 11, 13, 17, 19, 23, 29])"
   ]
  },
  {
   "cell_type": "markdown",
   "source": [
    "Muestra el último elemento. Y debes hacerlo sin saber su longitud."
   ],
   "metadata": {
    "collapsed": false
   },
   "id": "140cbb58954be032"
  },
  {
   "cell_type": "code",
   "outputs": [
    {
     "data": {
      "text/plain": "29"
     },
     "execution_count": 12,
     "metadata": {},
     "output_type": "execute_result"
    }
   ],
   "source": [
    "primes[-1]"
   ],
   "metadata": {
    "collapsed": false,
    "ExecuteTime": {
     "end_time": "2024-02-01T22:21:32.475106200Z",
     "start_time": "2024-02-01T22:21:32.465540Z"
    }
   },
   "id": "12450af7cf86a4ce",
   "execution_count": 12
  },
  {
   "cell_type": "markdown",
   "source": [
    "Muestra el 3º elemento"
   ],
   "metadata": {
    "collapsed": false
   },
   "id": "70b44f98693d5987"
  },
  {
   "cell_type": "code",
   "outputs": [
    {
     "data": {
      "text/plain": "5"
     },
     "execution_count": 13,
     "metadata": {},
     "output_type": "execute_result"
    }
   ],
   "source": [
    "primes[2]"
   ],
   "metadata": {
    "collapsed": false,
    "ExecuteTime": {
     "end_time": "2024-02-01T22:21:32.524222Z",
     "start_time": "2024-02-01T22:21:32.475106200Z"
    }
   },
   "id": "400c5ac88fc9c3fe",
   "execution_count": 13
  },
  {
   "cell_type": "markdown",
   "source": [
    "Muestra el último y 3º elemento."
   ],
   "metadata": {
    "collapsed": false
   },
   "id": "fa1d23e7cd4ec099"
  },
  {
   "cell_type": "code",
   "outputs": [
    {
     "data": {
      "text/plain": "array([29,  5])"
     },
     "execution_count": 17,
     "metadata": {},
     "output_type": "execute_result"
    }
   ],
   "source": [
    "primes[[-1, 2]]"
   ],
   "metadata": {
    "collapsed": false,
    "ExecuteTime": {
     "end_time": "2024-02-01T22:21:43.234802700Z",
     "start_time": "2024-02-01T22:21:43.230349300Z"
    }
   },
   "id": "14d30f7d310ad2ba",
   "execution_count": 17
  },
  {
   "cell_type": "markdown",
   "source": [
    "Muestra del 2º al 5º elemento."
   ],
   "metadata": {
    "collapsed": false
   },
   "id": "7c1078106f33af8d"
  },
  {
   "cell_type": "code",
   "outputs": [
    {
     "data": {
      "text/plain": "array([ 3,  5,  7, 11])"
     },
     "execution_count": 15,
     "metadata": {},
     "output_type": "execute_result"
    }
   ],
   "source": [
    "primes[1:5]"
   ],
   "metadata": {
    "collapsed": false,
    "ExecuteTime": {
     "end_time": "2024-02-01T22:21:32.526220800Z",
     "start_time": "2024-02-01T22:21:32.492380100Z"
    }
   },
   "id": "25eba1cf20e4b0e5",
   "execution_count": 15
  },
  {
   "cell_type": "markdown",
   "source": [
    "Muestra el 2° y el 5° elemento"
   ],
   "metadata": {
    "collapsed": false
   },
   "id": "a54ac67f7bb189e3"
  },
  {
   "cell_type": "code",
   "outputs": [
    {
     "data": {
      "text/plain": "array([ 3, 11])"
     },
     "execution_count": 16,
     "metadata": {},
     "output_type": "execute_result"
    }
   ],
   "source": [
    "primes[[1, 4]]"
   ],
   "metadata": {
    "collapsed": false,
    "ExecuteTime": {
     "end_time": "2024-02-01T22:21:32.527221200Z",
     "start_time": "2024-02-01T22:21:32.498213700Z"
    }
   },
   "id": "3abba7f52e45ada5",
   "execution_count": 16
  },
  {
   "cell_type": "markdown",
   "source": [
    "Muestra el último y el penúltimo elemento. Y debes hacerlo sin saber su longitud."
   ],
   "metadata": {
    "collapsed": false
   },
   "id": "21d07572cdcbc0ed"
  },
  {
   "cell_type": "code",
   "outputs": [
    {
     "data": {
      "text/plain": "array([29, 23])"
     },
     "execution_count": 19,
     "metadata": {},
     "output_type": "execute_result"
    }
   ],
   "source": [
    "primes[[-1, -2]]"
   ],
   "metadata": {
    "collapsed": false,
    "ExecuteTime": {
     "end_time": "2024-02-01T22:22:26.533895500Z",
     "start_time": "2024-02-01T22:22:26.516563Z"
    }
   },
   "id": "daa7d84508cc41a5",
   "execution_count": 19
  }
 ],
 "metadata": {
  "kernelspec": {
   "display_name": "Python 3",
   "language": "python",
   "name": "python3"
  },
  "language_info": {
   "codemirror_mode": {
    "name": "ipython",
    "version": 2
   },
   "file_extension": ".py",
   "mimetype": "text/x-python",
   "name": "python",
   "nbconvert_exporter": "python",
   "pygments_lexer": "ipython2",
   "version": "2.7.6"
  }
 },
 "nbformat": 4,
 "nbformat_minor": 5
}
