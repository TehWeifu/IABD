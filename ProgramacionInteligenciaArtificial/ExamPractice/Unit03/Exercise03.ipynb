{
 "cells": [
  {
   "cell_type": "markdown",
   "source": [
    "Ejercicio 3: Matrices\n",
    "Crea la siguiente matriz:"
   ],
   "metadata": {
    "collapsed": false
   },
   "id": "ce252ba3cffff033"
  },
  {
   "cell_type": "code",
   "outputs": [],
   "source": [
    "import numpy as np\n",
    "from tabulate import tabulate"
   ],
   "metadata": {
    "collapsed": false,
    "ExecuteTime": {
     "end_time": "2024-02-01T22:42:29.993175400Z",
     "start_time": "2024-02-01T22:42:29.953752700Z"
    }
   },
   "id": "e821978130075e1",
   "execution_count": 10
  },
  {
   "cell_type": "code",
   "outputs": [],
   "source": [
    "matrix = np.array([\n",
    "    [1, 4, 6, 5],\n",
    "    [4, 1, 7, 3],\n",
    "    [2, 9, 1, 2],\n",
    "    [6, 3, 1, 1],\n",
    "])"
   ],
   "metadata": {
    "collapsed": false,
    "ExecuteTime": {
     "end_time": "2024-02-01T22:42:30.017598Z",
     "start_time": "2024-02-01T22:42:29.997513500Z"
    }
   },
   "id": "867658dd82582850",
   "execution_count": 11
  },
  {
   "cell_type": "markdown",
   "source": [
    "Muestra el elemento de la fila 2º y la columna 3º. Es el valor del 7."
   ],
   "metadata": {
    "collapsed": false
   },
   "id": "2a4559eb08e41a01"
  },
  {
   "cell_type": "code",
   "outputs": [
    {
     "data": {
      "text/plain": "7"
     },
     "execution_count": 12,
     "metadata": {},
     "output_type": "execute_result"
    }
   ],
   "source": [
    "matrix[1, 2]"
   ],
   "metadata": {
    "collapsed": false,
    "ExecuteTime": {
     "end_time": "2024-02-01T22:42:30.062085800Z",
     "start_time": "2024-02-01T22:42:30.021598400Z"
    }
   },
   "id": "4218e99b31062467",
   "execution_count": 12
  },
  {
   "cell_type": "markdown",
   "source": [
    "Muestra la 3º Fila"
   ],
   "metadata": {
    "collapsed": false
   },
   "id": "bba19d520b879139"
  },
  {
   "cell_type": "code",
   "outputs": [
    {
     "data": {
      "text/plain": "array([2, 9, 1, 2])"
     },
     "execution_count": 13,
     "metadata": {},
     "output_type": "execute_result"
    }
   ],
   "source": [
    "matrix[2]"
   ],
   "metadata": {
    "collapsed": false,
    "ExecuteTime": {
     "end_time": "2024-02-01T22:42:30.063112Z",
     "start_time": "2024-02-01T22:42:30.041548600Z"
    }
   },
   "id": "3999f2319500b140",
   "execution_count": 13
  },
  {
   "cell_type": "markdown",
   "source": [
    "Muestra la 2º Columna"
   ],
   "metadata": {
    "collapsed": false
   },
   "id": "3ca9e5c1141d7a8b"
  },
  {
   "cell_type": "code",
   "outputs": [
    {
     "data": {
      "text/plain": "array([4, 1, 9, 3])"
     },
     "execution_count": 14,
     "metadata": {},
     "output_type": "execute_result"
    }
   ],
   "source": [
    "matrix[:, 1]"
   ],
   "metadata": {
    "collapsed": false,
    "ExecuteTime": {
     "end_time": "2024-02-01T22:42:30.109252500Z",
     "start_time": "2024-02-01T22:42:30.066085300Z"
    }
   },
   "id": "8e7de5ab5f950f84",
   "execution_count": 14
  },
  {
   "cell_type": "markdown",
   "source": [
    "Muestra la 2º y 3º Columna"
   ],
   "metadata": {
    "collapsed": false
   },
   "id": "f64da088d678734e"
  },
  {
   "cell_type": "code",
   "outputs": [
    {
     "data": {
      "text/plain": "array([[4, 6],\n       [1, 7],\n       [9, 1],\n       [3, 1]])"
     },
     "execution_count": 15,
     "metadata": {},
     "output_type": "execute_result"
    }
   ],
   "source": [
    "matrix[:, [1, 2]]"
   ],
   "metadata": {
    "collapsed": false,
    "ExecuteTime": {
     "end_time": "2024-02-01T22:42:30.109252500Z",
     "start_time": "2024-02-01T22:42:30.071937600Z"
    }
   },
   "id": "5308c59fcf651f6c",
   "execution_count": 15
  },
  {
   "cell_type": "markdown",
   "source": [
    "Muestra la 2º y 3º Fila"
   ],
   "metadata": {
    "collapsed": false
   },
   "id": "12466096e4aaec23"
  },
  {
   "cell_type": "code",
   "outputs": [
    {
     "data": {
      "text/plain": "array([[4, 1, 7, 3],\n       [2, 9, 1, 2]])"
     },
     "execution_count": 16,
     "metadata": {},
     "output_type": "execute_result"
    }
   ],
   "source": [
    "matrix[[1, 2], :]"
   ],
   "metadata": {
    "collapsed": false,
    "ExecuteTime": {
     "end_time": "2024-02-01T22:42:30.110759400Z",
     "start_time": "2024-02-01T22:42:30.079816900Z"
    }
   },
   "id": "16988d2ae2e106b",
   "execution_count": 16
  },
  {
   "cell_type": "markdown",
   "source": [
    "Muestra la última columna. Debe funcionar independientemente del número de columnas."
   ],
   "metadata": {
    "collapsed": false
   },
   "id": "8ecd3e1f2d8b73cf"
  },
  {
   "cell_type": "code",
   "outputs": [
    {
     "data": {
      "text/plain": "array([5, 3, 2, 1])"
     },
     "execution_count": 17,
     "metadata": {},
     "output_type": "execute_result"
    }
   ],
   "source": [
    "matrix[:, -1]"
   ],
   "metadata": {
    "collapsed": false,
    "ExecuteTime": {
     "end_time": "2024-02-01T22:42:30.160196800Z",
     "start_time": "2024-02-01T22:42:30.113765300Z"
    }
   },
   "id": "3fc9d58b03eb615",
   "execution_count": 17
  },
  {
   "cell_type": "markdown",
   "source": [
    "Muestra la 2º y 4º Columna y la 1º y 3º fila"
   ],
   "metadata": {
    "collapsed": false
   },
   "id": "2387834e6731e5b1"
  },
  {
   "cell_type": "code",
   "outputs": [
    {
     "data": {
      "text/plain": "array([[4, 5],\n       [9, 2]])"
     },
     "execution_count": 27,
     "metadata": {},
     "output_type": "execute_result"
    }
   ],
   "source": [
    "matrix[[0, 2]][:, [1, 3]]"
   ],
   "metadata": {
    "collapsed": false,
    "ExecuteTime": {
     "end_time": "2024-02-01T22:47:23.197197300Z",
     "start_time": "2024-02-01T22:47:23.134907400Z"
    }
   },
   "id": "48f720f96ad8e21f",
   "execution_count": 27
  },
  {
   "cell_type": "markdown",
   "source": [
    "Muestra de la 2º a la 3º Columna y de la 1º a la 3º fila"
   ],
   "metadata": {
    "collapsed": false
   },
   "id": "e6ed71e5417b9358"
  },
  {
   "cell_type": "code",
   "outputs": [
    {
     "data": {
      "text/plain": "array([[4, 6],\n       [1, 7],\n       [9, 1]])"
     },
     "execution_count": 22,
     "metadata": {},
     "output_type": "execute_result"
    }
   ],
   "source": [
    "matrix[:3, 1:3]"
   ],
   "metadata": {
    "collapsed": false,
    "ExecuteTime": {
     "end_time": "2024-02-01T22:44:50.767493400Z",
     "start_time": "2024-02-01T22:44:50.713292400Z"
    }
   },
   "id": "95563604e8d9a30",
   "execution_count": 22
  },
  {
   "cell_type": "markdown",
   "source": [
    "Muestra todas las columnas excepto la primera y la última. Debe funcionar independientemente del número de columnas."
   ],
   "metadata": {
    "collapsed": false
   },
   "id": "f489af199674c92"
  },
  {
   "cell_type": "code",
   "outputs": [
    {
     "data": {
      "text/plain": "array([[4, 6],\n       [1, 7],\n       [9, 1],\n       [3, 1]])"
     },
     "execution_count": 21,
     "metadata": {},
     "output_type": "execute_result"
    }
   ],
   "source": [
    "matrix[:, 1:-1]"
   ],
   "metadata": {
    "collapsed": false,
    "ExecuteTime": {
     "end_time": "2024-02-01T22:44:03.367252300Z",
     "start_time": "2024-02-01T22:44:03.362402300Z"
    }
   },
   "id": "5637777251c85cc7",
   "execution_count": 21
  },
  {
   "cell_type": "markdown",
   "source": [
    "Muestra todas las filas excepto la primera y la última. Debe funcionar independientemente del número de filas."
   ],
   "metadata": {
    "collapsed": false
   },
   "id": "6a503b6342358032"
  },
  {
   "cell_type": "code",
   "outputs": [
    {
     "data": {
      "text/plain": "array([[4, 1, 7, 3],\n       [2, 9, 1, 2]])"
     },
     "execution_count": 20,
     "metadata": {},
     "output_type": "execute_result"
    }
   ],
   "source": [
    "matrix[1:-1]"
   ],
   "metadata": {
    "collapsed": false,
    "ExecuteTime": {
     "end_time": "2024-02-01T22:43:34.714173800Z",
     "start_time": "2024-02-01T22:43:34.697340Z"
    }
   },
   "id": "52ada8f54d5b267e",
   "execution_count": 20
  },
  {
   "cell_type": "markdown",
   "source": [
    "Muestra todas las columnas excepto la primera y la última y todas las filas excepto la primera y la última. Debe funcionar independientemente del número de filas y columnas."
   ],
   "metadata": {
    "collapsed": false
   },
   "id": "74d9f821d60f49ad"
  },
  {
   "cell_type": "code",
   "outputs": [
    {
     "data": {
      "text/plain": "array([[1, 7],\n       [9, 1]])"
     },
     "execution_count": 19,
     "metadata": {},
     "output_type": "execute_result"
    }
   ],
   "source": [
    "matrix[1:-1, 1:-1]"
   ],
   "metadata": {
    "collapsed": false,
    "ExecuteTime": {
     "end_time": "2024-02-01T22:43:14.338917200Z",
     "start_time": "2024-02-01T22:43:14.289717Z"
    }
   },
   "id": "9b393e8071f0d4d5",
   "execution_count": 19
  },
  {
   "cell_type": "markdown",
   "source": [
    "Imprime la matriz y haz que las cabeceras de cada columna sean A, B , C y D"
   ],
   "metadata": {
    "collapsed": false
   },
   "id": "200b52a99a2d32e5"
  },
  {
   "cell_type": "code",
   "outputs": [
    {
     "name": "stdout",
     "output_type": "stream",
     "text": [
      "  A    B    C    D\n",
      "---  ---  ---  ---\n",
      "  1    4    6    5\n",
      "  4    1    7    3\n",
      "  2    9    1    2\n",
      "  6    3    1    1\n"
     ]
    }
   ],
   "source": [
    "print(tabulate(matrix, headers=['A', 'B', 'C', 'D']))"
   ],
   "metadata": {
    "collapsed": false,
    "ExecuteTime": {
     "end_time": "2024-02-01T22:42:30.187866Z",
     "start_time": "2024-02-01T22:42:30.164856800Z"
    }
   },
   "id": "254406abbda4268d",
   "execution_count": 18
  }
 ],
 "metadata": {
  "kernelspec": {
   "display_name": "Python 3",
   "language": "python",
   "name": "python3"
  },
  "language_info": {
   "codemirror_mode": {
    "name": "ipython",
    "version": 2
   },
   "file_extension": ".py",
   "mimetype": "text/x-python",
   "name": "python",
   "nbconvert_exporter": "python",
   "pygments_lexer": "ipython2",
   "version": "2.7.6"
  }
 },
 "nbformat": 4,
 "nbformat_minor": 5
}
