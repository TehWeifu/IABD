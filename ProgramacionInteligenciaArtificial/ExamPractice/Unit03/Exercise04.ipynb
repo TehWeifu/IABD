{
 "cells": [
  {
   "cell_type": "markdown",
   "source": [
    "Ejercicio 4: Filtrado\n",
    "El siguiente array contiene las temperaturas medias que ha hecho en Valencia en cada mes [10.2, 10.7, 13.3, 15.8, 19.3, 23.6, 26, 25.9, 22.8, 19.1, 13.9, 10.8 ]\n"
   ],
   "metadata": {
    "collapsed": false
   },
   "id": "c51aa9570f3ec8d9"
  },
  {
   "cell_type": "code",
   "outputs": [],
   "source": [
    "import numpy as np"
   ],
   "metadata": {
    "collapsed": false,
    "ExecuteTime": {
     "end_time": "2024-02-03T18:02:25.604264800Z",
     "start_time": "2024-02-03T18:02:25.583403700Z"
    }
   },
   "id": "56ae174aed5b114e",
   "execution_count": 15
  },
  {
   "cell_type": "code",
   "outputs": [],
   "source": [
    "temperatures = np.array([10.2, 10.7, 13.3, 15.8, 19.3, 23.6, 26, 25.9, 22.8, 19.1, 13.9, 10.8])"
   ],
   "metadata": {
    "collapsed": false,
    "ExecuteTime": {
     "end_time": "2024-02-03T18:02:25.623404400Z",
     "start_time": "2024-02-03T18:02:25.609241200Z"
    }
   },
   "id": "5ef7cb388b5056d",
   "execution_count": 16
  },
  {
   "cell_type": "markdown",
   "source": [
    "Muestra las temperaturas cuyo valor sea mayor que 20"
   ],
   "metadata": {
    "collapsed": false
   },
   "id": "538e960c55267c06"
  },
  {
   "cell_type": "code",
   "outputs": [
    {
     "data": {
      "text/plain": "array([23.6, 26. , 25.9, 22.8])"
     },
     "execution_count": 17,
     "metadata": {},
     "output_type": "execute_result"
    }
   ],
   "source": [
    "temperatures[temperatures > 20]"
   ],
   "metadata": {
    "collapsed": false,
    "ExecuteTime": {
     "end_time": "2024-02-03T18:02:25.624407600Z",
     "start_time": "2024-02-03T18:02:25.611758200Z"
    }
   },
   "id": "116cf963df84b8cf",
   "execution_count": 17
  },
  {
   "cell_type": "markdown",
   "source": [
    "Muestra las temperaturas cuyo valor sea menor que 11"
   ],
   "metadata": {
    "collapsed": false
   },
   "id": "65a444a2cb1cad56"
  },
  {
   "cell_type": "code",
   "outputs": [
    {
     "data": {
      "text/plain": "array([10.2, 10.7, 10.8])"
     },
     "execution_count": 18,
     "metadata": {},
     "output_type": "execute_result"
    }
   ],
   "source": [
    "temperatures[temperatures < 11]"
   ],
   "metadata": {
    "collapsed": false,
    "ExecuteTime": {
     "end_time": "2024-02-03T18:02:25.663095Z",
     "start_time": "2024-02-03T18:02:25.626784400Z"
    }
   },
   "id": "9bc2e2d248279be8",
   "execution_count": 18
  },
  {
   "cell_type": "markdown",
   "source": [
    "Muestra las temperaturas cuyo valor sea mayor que 20 o menor que 11"
   ],
   "metadata": {
    "collapsed": false
   },
   "id": "911fb77aad707a5b"
  },
  {
   "cell_type": "code",
   "outputs": [
    {
     "data": {
      "text/plain": "array([10.2, 10.7, 23.6, 26. , 25.9, 22.8, 10.8])"
     },
     "execution_count": 22,
     "metadata": {},
     "output_type": "execute_result"
    }
   ],
   "source": [
    "temperatures[(temperatures > 20) | (temperatures < 11)]"
   ],
   "metadata": {
    "collapsed": false,
    "ExecuteTime": {
     "end_time": "2024-02-03T18:03:16.529350Z",
     "start_time": "2024-02-03T18:03:16.517910500Z"
    }
   },
   "id": "75ff7e88f98fbe53",
   "execution_count": 22
  }
 ],
 "metadata": {
  "kernelspec": {
   "display_name": "Python 3",
   "language": "python",
   "name": "python3"
  },
  "language_info": {
   "codemirror_mode": {
    "name": "ipython",
    "version": 2
   },
   "file_extension": ".py",
   "mimetype": "text/x-python",
   "name": "python",
   "nbconvert_exporter": "python",
   "pygments_lexer": "ipython2",
   "version": "2.7.6"
  }
 },
 "nbformat": 4,
 "nbformat_minor": 5
}
