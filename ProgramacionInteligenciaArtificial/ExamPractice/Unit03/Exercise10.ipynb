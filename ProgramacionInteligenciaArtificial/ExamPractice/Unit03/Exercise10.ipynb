{
 "cells": [
  {
   "cell_type": "markdown",
   "source": [
    "Ejercicio 10: Matrices\n",
    "\n",
    "Crea la siguiente matriz:"
   ],
   "metadata": {
    "collapsed": false
   },
   "id": "575e219a0eb336e7"
  },
  {
   "cell_type": "code",
   "outputs": [],
   "source": [
    "import numpy as np"
   ],
   "metadata": {
    "collapsed": false
   },
   "id": "2611ce0c336bc9ff"
  },
  {
   "cell_type": "code",
   "outputs": [],
   "source": [
    "matrix = np.array([\n",
    "    [1, 2, 3],\n",
    "    [4, 5, 5],\n",
    "    [7, 8, 9]\n",
    "])"
   ],
   "metadata": {
    "collapsed": false,
    "ExecuteTime": {
     "end_time": "2024-02-03T18:31:22.233853600Z",
     "start_time": "2024-02-03T18:31:22.123832500Z"
    }
   },
   "id": "45ff459e41f6e90c",
   "execution_count": 2
  },
  {
   "cell_type": "markdown",
   "source": [
    "Multiplica cada elemento de la matriz por si mismo"
   ],
   "metadata": {
    "collapsed": false
   },
   "id": "f17c1c9b85e44a23"
  },
  {
   "cell_type": "code",
   "outputs": [
    {
     "data": {
      "text/plain": "array([[ 1,  4,  9],\n       [16, 25, 25],\n       [49, 64, 81]])"
     },
     "execution_count": 3,
     "metadata": {},
     "output_type": "execute_result"
    }
   ],
   "source": [
    "matrix * matrix"
   ],
   "metadata": {
    "collapsed": false,
    "ExecuteTime": {
     "end_time": "2024-02-03T18:31:22.241892600Z",
     "start_time": "2024-02-03T18:31:22.236854100Z"
    }
   },
   "id": "f971f4767e935346",
   "execution_count": 3
  },
  {
   "cell_type": "markdown",
   "source": [
    "Multiplica la matriz por si misma"
   ],
   "metadata": {
    "collapsed": false
   },
   "id": "5260d4fa10bc54e9"
  },
  {
   "cell_type": "code",
   "outputs": [
    {
     "data": {
      "text/plain": "array([[ 30,  36,  40],\n       [ 59,  73,  82],\n       [102, 126, 142]])"
     },
     "execution_count": 4,
     "metadata": {},
     "output_type": "execute_result"
    }
   ],
   "source": [
    "np.matmul(matrix, matrix)"
   ],
   "metadata": {
    "collapsed": false,
    "ExecuteTime": {
     "end_time": "2024-02-03T18:31:53.635686Z",
     "start_time": "2024-02-03T18:31:53.621438900Z"
    }
   },
   "id": "7bad81cd4cec7dd",
   "execution_count": 4
  }
 ],
 "metadata": {
  "kernelspec": {
   "display_name": "Python 3",
   "language": "python",
   "name": "python3"
  },
  "language_info": {
   "codemirror_mode": {
    "name": "ipython",
    "version": 2
   },
   "file_extension": ".py",
   "mimetype": "text/x-python",
   "name": "python",
   "nbconvert_exporter": "python",
   "pygments_lexer": "ipython2",
   "version": "2.7.6"
  }
 },
 "nbformat": 4,
 "nbformat_minor": 5
}
