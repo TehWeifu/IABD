{
 "cells": [
  {
   "cell_type": "markdown",
   "source": [
    "Ejercicio 11: Funciones a arrays"
   ],
   "metadata": {
    "collapsed": false
   },
   "id": "aaaa2b01f598cc5c"
  },
  {
   "cell_type": "code",
   "outputs": [],
   "source": [
    "import numpy as np"
   ],
   "metadata": {
    "collapsed": false,
    "ExecuteTime": {
     "end_time": "2024-02-03T18:40:37.672758500Z",
     "start_time": "2024-02-03T18:40:37.644141800Z"
    }
   },
   "id": "37197b57bc4e5537",
   "execution_count": 17
  },
  {
   "cell_type": "markdown",
   "source": [
    "Crea una función llamada f que acepte como parámetro el número y que retorne el valor multiplicado por 2 y además que se le sume 1."
   ],
   "metadata": {
    "collapsed": false
   },
   "id": "71bdc6c43b103263"
  },
  {
   "cell_type": "code",
   "outputs": [],
   "source": [
    "def f(num):\n",
    "    return num * 2 + 1"
   ],
   "metadata": {
    "collapsed": false,
    "ExecuteTime": {
     "end_time": "2024-02-03T18:40:37.681633300Z",
     "start_time": "2024-02-03T18:40:37.675758700Z"
    }
   },
   "id": "e44ca39cd501bafa",
   "execution_count": 18
  },
  {
   "cell_type": "markdown",
   "source": [
    "Crea ahora el vector de numpy [1,5,4,7,3,9,8,6] y aplícale la función f"
   ],
   "metadata": {
    "collapsed": false
   },
   "id": "51d8f27f51fd0b15"
  },
  {
   "cell_type": "code",
   "outputs": [
    {
     "data": {
      "text/plain": "array([ 3, 11,  9, 15,  7, 19, 17, 13])"
     },
     "execution_count": 19,
     "metadata": {},
     "output_type": "execute_result"
    }
   ],
   "source": [
    "arr = np.array([1, 5, 4, 7, 3, 9, 8, 6])\n",
    "\n",
    "mapped_arr = np.array([f(x) for x in arr])\n",
    "mapped_arr"
   ],
   "metadata": {
    "collapsed": false,
    "ExecuteTime": {
     "end_time": "2024-02-03T18:40:37.688583Z",
     "start_time": "2024-02-03T18:40:37.679635700Z"
    }
   },
   "id": "f3b4f106e743e78d",
   "execution_count": 19
  }
 ],
 "metadata": {
  "kernelspec": {
   "display_name": "Python 3",
   "language": "python",
   "name": "python3"
  },
  "language_info": {
   "codemirror_mode": {
    "name": "ipython",
    "version": 2
   },
   "file_extension": ".py",
   "mimetype": "text/x-python",
   "name": "python",
   "nbconvert_exporter": "python",
   "pygments_lexer": "ipython2",
   "version": "2.7.6"
  }
 },
 "nbformat": 4,
 "nbformat_minor": 5
}
