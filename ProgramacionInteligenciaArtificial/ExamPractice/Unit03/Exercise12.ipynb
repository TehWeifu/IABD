{
 "cells": [
  {
   "cell_type": "markdown",
   "source": [
    "Ejercicio 12: Funciones a arrays"
   ],
   "metadata": {
    "collapsed": false
   },
   "id": "237a40671587396b"
  },
  {
   "cell_type": "code",
   "outputs": [],
   "source": [
    "import numpy as np"
   ],
   "metadata": {
    "collapsed": false,
    "ExecuteTime": {
     "end_time": "2024-02-03T18:54:14.371446300Z",
     "start_time": "2024-02-03T18:54:14.264361300Z"
    }
   },
   "id": "645bb77eec72341b",
   "execution_count": 1
  },
  {
   "cell_type": "markdown",
   "source": [
    "Crea una función llamada f que acepte como parámetro el número y que retorne lo siguiente:\n",
    "\n",
    "Si es valor está en el rango ]-inf,3[ que retorne 0\n",
    "Si es valor está en el rango [3,5[ que retorne 4\n",
    "Si es valor está en el rango [5,6[ que retorne 5\n",
    "Si es valor está en el rango [6,7[ que retorne 6\n",
    "Si es valor está en el rango [7,9[ que retorne 8\n",
    "Si es valor está en el rango [9,+inf[ que retorne 10"
   ],
   "metadata": {
    "collapsed": false
   },
   "id": "9d8fc1efadcffceb"
  },
  {
   "cell_type": "code",
   "outputs": [],
   "source": [
    "def f(num):\n",
    "    if num < 3:\n",
    "        return 0\n",
    "    if num < 5:\n",
    "        return 4\n",
    "    if num < 6:\n",
    "        return 5\n",
    "    if num < 7:\n",
    "        return 6\n",
    "    if num < 9:\n",
    "        return 8\n",
    "\n",
    "    return 10"
   ],
   "metadata": {
    "collapsed": false,
    "ExecuteTime": {
     "end_time": "2024-02-03T18:54:14.373958Z",
     "start_time": "2024-02-03T18:54:14.371446300Z"
    }
   },
   "id": "426e3618bb5782dd",
   "execution_count": 2
  },
  {
   "cell_type": "markdown",
   "source": [
    "Crea ahora el vector de numpy [1,5,4,7,3,9,8,6] y aplícale la función f"
   ],
   "metadata": {
    "collapsed": false
   },
   "id": "ae16fe8d598b82b5"
  },
  {
   "cell_type": "code",
   "outputs": [
    {
     "data": {
      "text/plain": "array([ 0,  5,  4,  8,  4, 10,  8,  6])"
     },
     "execution_count": 3,
     "metadata": {},
     "output_type": "execute_result"
    }
   ],
   "source": [
    "arr = np.array([1, 5, 4, 7, 3, 9, 8, 6])\n",
    "\n",
    "mapped_arr = np.array([f(x) for x in arr])\n",
    "mapped_arr"
   ],
   "metadata": {
    "collapsed": false,
    "ExecuteTime": {
     "end_time": "2024-02-03T18:54:14.390624400Z",
     "start_time": "2024-02-03T18:54:14.376462600Z"
    }
   },
   "id": "98a727e1be6415a1",
   "execution_count": 3
  }
 ],
 "metadata": {
  "kernelspec": {
   "display_name": "Python 3",
   "language": "python",
   "name": "python3"
  },
  "language_info": {
   "codemirror_mode": {
    "name": "ipython",
    "version": 2
   },
   "file_extension": ".py",
   "mimetype": "text/x-python",
   "name": "python",
   "nbconvert_exporter": "python",
   "pygments_lexer": "ipython2",
   "version": "2.7.6"
  }
 },
 "nbformat": 4,
 "nbformat_minor": 5
}
