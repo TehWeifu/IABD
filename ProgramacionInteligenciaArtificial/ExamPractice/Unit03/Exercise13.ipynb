{
 "cells": [
  {
   "cell_type": "markdown",
   "source": [
    "Ejercicio 13: Máximos\n",
    "\n",
    "En el tema anterior creamos un array con las neuronas de cada capa para cada red en el problema del cáncer de mama."
   ],
   "metadata": {
    "collapsed": false
   },
   "id": "d992e80ffa5d909c"
  },
  {
   "cell_type": "code",
   "outputs": [],
   "source": [
    "import numpy as np"
   ],
   "metadata": {
    "collapsed": false,
    "ExecuteTime": {
     "end_time": "2024-02-03T18:56:56.295385500Z",
     "start_time": "2024-02-03T18:56:56.127897900Z"
    }
   },
   "id": "7c4a9c8ca7502121",
   "execution_count": 2
  },
  {
   "cell_type": "code",
   "outputs": [],
   "source": [
    "redes = np.array([\n",
    "    [4, 8, 4, 2, 1],\n",
    "    [4, 8, 4, 2, 1],\n",
    "    [8, 16, 8, 4, 1],\n",
    "    [8, 16, 8, 4, 1],\n",
    "    [16, 32, 16, 8, 1],\n",
    "    [16, 32, 16, 8, 1],\n",
    "    [32, 64, 32, 8, 1],\n",
    "    [32, 64, 32, 8, 1],\n",
    "    [64, 128, 64, 8, 1],\n",
    "    [64, 128, 64, 8, 1]\n",
    "])"
   ],
   "metadata": {
    "collapsed": false,
    "ExecuteTime": {
     "end_time": "2024-02-03T18:56:56.301613400Z",
     "start_time": "2024-02-03T18:56:56.299097400Z"
    }
   },
   "id": "7eed9ef1079583aa",
   "execution_count": 3
  },
  {
   "cell_type": "markdown",
   "source": [
    "El Nº Máximo de neuronas de una capa que llegó a haber en cualquier red"
   ],
   "metadata": {
    "collapsed": false
   },
   "id": "3991093a826edaba"
  },
  {
   "cell_type": "code",
   "outputs": [
    {
     "data": {
      "text/plain": "128"
     },
     "execution_count": 4,
     "metadata": {},
     "output_type": "execute_result"
    }
   ],
   "source": [
    "redes.max()"
   ],
   "metadata": {
    "collapsed": false,
    "ExecuteTime": {
     "end_time": "2024-02-03T18:56:56.315857800Z",
     "start_time": "2024-02-03T18:56:56.301613400Z"
    }
   },
   "id": "53f1b6f75cadfffe",
   "execution_count": 4
  },
  {
   "cell_type": "markdown",
   "source": [
    "El Nº máximo de neuronas que hubo en cada red"
   ],
   "metadata": {
    "collapsed": false
   },
   "id": "35ebf7552573890c"
  },
  {
   "cell_type": "code",
   "outputs": [
    {
     "data": {
      "text/plain": "array([  8,   8,  16,  16,  32,  32,  64,  64, 128, 128])"
     },
     "execution_count": 5,
     "metadata": {},
     "output_type": "execute_result"
    }
   ],
   "source": [
    "redes.max(axis=1)"
   ],
   "metadata": {
    "collapsed": false,
    "ExecuteTime": {
     "end_time": "2024-02-03T18:57:09.010981800Z",
     "start_time": "2024-02-03T18:57:09.000057700Z"
    }
   },
   "id": "e7c267f7250b3bde",
   "execution_count": 5
  },
  {
   "cell_type": "markdown",
   "source": [
    "El Nº máximo de neuronas que hubo en cada capa"
   ],
   "metadata": {
    "collapsed": false
   },
   "id": "bf5b48c0c39b33af"
  },
  {
   "cell_type": "code",
   "outputs": [
    {
     "data": {
      "text/plain": "array([ 64, 128,  64,   8,   1])"
     },
     "execution_count": 6,
     "metadata": {},
     "output_type": "execute_result"
    }
   ],
   "source": [
    "redes.max(axis=0)"
   ],
   "metadata": {
    "collapsed": false,
    "ExecuteTime": {
     "end_time": "2024-02-03T18:57:33.871062900Z",
     "start_time": "2024-02-03T18:57:33.866302500Z"
    }
   },
   "id": "434b1a7dadbf2f83",
   "execution_count": 6
  },
  {
   "cell_type": "markdown",
   "source": [
    "El Nº máximo de neuronas que hubo en la 3º red"
   ],
   "metadata": {
    "collapsed": false
   },
   "id": "2bcb30fa5a35377c"
  },
  {
   "cell_type": "code",
   "outputs": [
    {
     "data": {
      "text/plain": "16"
     },
     "execution_count": 7,
     "metadata": {},
     "output_type": "execute_result"
    }
   ],
   "source": [
    "redes[2].max()"
   ],
   "metadata": {
    "collapsed": false,
    "ExecuteTime": {
     "end_time": "2024-02-03T18:58:01.799248300Z",
     "start_time": "2024-02-03T18:58:01.786580400Z"
    }
   },
   "id": "16be323c84b2e2c7",
   "execution_count": 7
  },
  {
   "cell_type": "markdown",
   "source": [
    "El Nº máximo de neuronas que hubo en la 3º capa\n"
   ],
   "metadata": {
    "collapsed": false
   },
   "id": "c4b971fa220bdf7a"
  },
  {
   "cell_type": "code",
   "outputs": [
    {
     "data": {
      "text/plain": "64"
     },
     "execution_count": 8,
     "metadata": {},
     "output_type": "execute_result"
    }
   ],
   "source": [
    "redes[:, 2].max()"
   ],
   "metadata": {
    "collapsed": false,
    "ExecuteTime": {
     "end_time": "2024-02-03T18:58:16.860714400Z",
     "start_time": "2024-02-03T18:58:16.849672500Z"
    }
   },
   "id": "5a522d21053f712e",
   "execution_count": 8
  }
 ],
 "metadata": {
  "kernelspec": {
   "display_name": "Python 3",
   "language": "python",
   "name": "python3"
  },
  "language_info": {
   "codemirror_mode": {
    "name": "ipython",
    "version": 2
   },
   "file_extension": ".py",
   "mimetype": "text/x-python",
   "name": "python",
   "nbconvert_exporter": "python",
   "pygments_lexer": "ipython2",
   "version": "2.7.6"
  }
 },
 "nbformat": 4,
 "nbformat_minor": 5
}
