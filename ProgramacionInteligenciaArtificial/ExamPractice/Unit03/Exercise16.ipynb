{
 "cells": [
  {
   "cell_type": "markdown",
   "source": [
    "Ejercicio 16:Forma\n",
    "\n",
    "Crea una función llamada mostrar_tamanyo que le pasemos un array de numpy y nos imprima el tamaño de cada una de las dimensiones.\n",
    "Por ejemplo con el array [ [ [2, 3], [5, 7]], [ [11, 13], [17, 19]], [ [23, 29], [31, 37] ] ] deberá mostrar\n",
    "\n",
    "El nº de elementos de la dimension 0 es 3\n",
    "El nº de elementos de la dimension 1 es 2\n",
    "El nº de elementos de la dimension 2 es 2"
   ],
   "metadata": {
    "collapsed": false
   },
   "id": "f291e8f0bb4f3c37"
  },
  {
   "cell_type": "code",
   "outputs": [],
   "source": [
    "import numpy as np"
   ],
   "metadata": {
    "collapsed": false,
    "ExecuteTime": {
     "end_time": "2024-02-03T19:11:35.434413500Z",
     "start_time": "2024-02-03T19:11:35.414353300Z"
    }
   },
   "id": "f960c41928846ea1",
   "execution_count": 8
  },
  {
   "cell_type": "code",
   "outputs": [],
   "source": [
    "def mostrar_tamanyo(arr):\n",
    "    for idx, elements in enumerate(arr.shape):\n",
    "        print(f\"El nº de elementos de la dimension {idx} es {elements}\")"
   ],
   "metadata": {
    "collapsed": false,
    "ExecuteTime": {
     "end_time": "2024-02-03T19:11:35.444056300Z",
     "start_time": "2024-02-03T19:11:35.437794300Z"
    }
   },
   "id": "51f0e6c8004646b5",
   "execution_count": 9
  },
  {
   "cell_type": "code",
   "outputs": [
    {
     "name": "stdout",
     "output_type": "stream",
     "text": [
      "El nº de elementos de la dimension 0 es 12\n"
     ]
    }
   ],
   "source": [
    "a = np.array([2, 3, 5, 7, 11, 13, 17, 19, 23, 29, 31, 37])\n",
    "mostrar_tamanyo(a)"
   ],
   "metadata": {
    "collapsed": false,
    "ExecuteTime": {
     "end_time": "2024-02-03T19:11:35.505330700Z",
     "start_time": "2024-02-03T19:11:35.452916500Z"
    }
   },
   "id": "7f5ca1f29800154f",
   "execution_count": 11
  },
  {
   "cell_type": "code",
   "outputs": [
    {
     "name": "stdout",
     "output_type": "stream",
     "text": [
      "El nº de elementos de la dimension 0 es 6\n",
      "El nº de elementos de la dimension 1 es 2\n"
     ]
    }
   ],
   "source": [
    "mostrar_tamanyo(np.array([[2, 3], [5, 7], [11, 13], [17, 19], [23, 29], [31, 37]]))"
   ],
   "metadata": {
    "collapsed": false,
    "ExecuteTime": {
     "end_time": "2024-02-03T19:11:35.506335600Z",
     "start_time": "2024-02-03T19:11:35.459730600Z"
    }
   },
   "id": "24ba826e958eda39",
   "execution_count": 12
  },
  {
   "cell_type": "code",
   "outputs": [
    {
     "name": "stdout",
     "output_type": "stream",
     "text": [
      "El nº de elementos de la dimension 0 es 3\n",
      "El nº de elementos de la dimension 1 es 2\n",
      "El nº de elementos de la dimension 2 es 2\n"
     ]
    }
   ],
   "source": [
    "mostrar_tamanyo(np.array([[[2, 3], [5, 7]], [[11, 13], [17, 19]], [[23, 29], [31, 37]]]))"
   ],
   "metadata": {
    "collapsed": false,
    "ExecuteTime": {
     "end_time": "2024-02-03T19:11:35.506335600Z",
     "start_time": "2024-02-03T19:11:35.466346800Z"
    }
   },
   "id": "965eb336f4a114de",
   "execution_count": 13
  }
 ],
 "metadata": {
  "kernelspec": {
   "display_name": "Python 3",
   "language": "python",
   "name": "python3"
  },
  "language_info": {
   "codemirror_mode": {
    "name": "ipython",
    "version": 2
   },
   "file_extension": ".py",
   "mimetype": "text/x-python",
   "name": "python",
   "nbconvert_exporter": "python",
   "pygments_lexer": "ipython2",
   "version": "2.7.6"
  }
 },
 "nbformat": 4,
 "nbformat_minor": 5
}
