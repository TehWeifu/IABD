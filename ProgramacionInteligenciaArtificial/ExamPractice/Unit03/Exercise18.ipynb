{
 "cells": [
  {
   "cell_type": "markdown",
   "source": [
    "Ejercicio 18:Transformar tipos de datos"
   ],
   "metadata": {
    "collapsed": false
   },
   "id": "68f873ba8ed23414"
  },
  {
   "cell_type": "code",
   "outputs": [],
   "source": [
    "import numpy as np"
   ],
   "metadata": {
    "collapsed": false,
    "ExecuteTime": {
     "end_time": "2024-02-03T19:21:56.004161800Z",
     "start_time": "2024-02-03T19:21:55.973342400Z"
    }
   },
   "id": "e52adfe4b8a38273",
   "execution_count": 21
  },
  {
   "cell_type": "markdown",
   "source": [
    "Transforma el siguiente array en 8 bits sin signo y muestra cuanto ocupa en memoria"
   ],
   "metadata": {
    "collapsed": false
   },
   "id": "6eb13428e55d896"
  },
  {
   "cell_type": "code",
   "outputs": [
    {
     "data": {
      "text/plain": "3"
     },
     "execution_count": 22,
     "metadata": {},
     "output_type": "execute_result"
    }
   ],
   "source": [
    "a = np.array([1, -2, 3])\n",
    "a.astype(np.uint8).nbytes"
   ],
   "metadata": {
    "collapsed": false,
    "ExecuteTime": {
     "end_time": "2024-02-03T19:21:56.019105400Z",
     "start_time": "2024-02-03T19:21:56.006160100Z"
    }
   },
   "id": "b5cd57ffbac41bae",
   "execution_count": 22
  },
  {
   "cell_type": "markdown",
   "source": [
    "Transforma el siguiente array en 8 bits sin signo y muestra cuanto ocupa en memoria"
   ],
   "metadata": {
    "collapsed": false
   },
   "id": "1f51461c92c68585"
  },
  {
   "cell_type": "code",
   "outputs": [
    {
     "data": {
      "text/plain": "3"
     },
     "execution_count": 23,
     "metadata": {},
     "output_type": "execute_result"
    }
   ],
   "source": [
    "b = np.array([1, 254, 255])\n",
    "b.astype(np.uint8).nbytes"
   ],
   "metadata": {
    "collapsed": false,
    "ExecuteTime": {
     "end_time": "2024-02-03T19:21:56.061410400Z",
     "start_time": "2024-02-03T19:21:56.023072300Z"
    }
   },
   "id": "efab516e7273253d",
   "execution_count": 23
  },
  {
   "cell_type": "markdown",
   "source": [
    "Transforma el siguiente array en 8 bits con signo y muestra cuanto ocupa en memoria"
   ],
   "metadata": {
    "collapsed": false
   },
   "id": "bd60441710e4c796"
  },
  {
   "cell_type": "code",
   "outputs": [
    {
     "data": {
      "text/plain": "3"
     },
     "execution_count": 24,
     "metadata": {},
     "output_type": "execute_result"
    }
   ],
   "source": [
    "c = np.array([1, 127, 128])\n",
    "c.astype(np.int8).nbytes"
   ],
   "metadata": {
    "collapsed": false,
    "ExecuteTime": {
     "end_time": "2024-02-03T19:21:56.062412800Z",
     "start_time": "2024-02-03T19:21:56.029015100Z"
    }
   },
   "id": "7223d8708738c81c",
   "execution_count": 24
  },
  {
   "cell_type": "markdown",
   "source": [
    "Transforma el siguiente array en 8 bits con signo y muestra cuanto ocupa en memoria"
   ],
   "metadata": {
    "collapsed": false
   },
   "id": "af1b4f901d2c18e0"
  },
  {
   "cell_type": "code",
   "outputs": [
    {
     "data": {
      "text/plain": "3"
     },
     "execution_count": 25,
     "metadata": {},
     "output_type": "execute_result"
    }
   ],
   "source": [
    "d = np.array([1, -128, -129])\n",
    "d.astype(np.int8).nbytes"
   ],
   "metadata": {
    "collapsed": false,
    "ExecuteTime": {
     "end_time": "2024-02-03T19:21:56.062412800Z",
     "start_time": "2024-02-03T19:21:56.036968700Z"
    }
   },
   "id": "a6ba04511bca1a3",
   "execution_count": 25
  },
  {
   "cell_type": "markdown",
   "source": [
    "Transforma el siguiente array en float32 y muestra cuanto ocupa en memoria"
   ],
   "metadata": {
    "collapsed": false
   },
   "id": "9371f677c03f667f"
  },
  {
   "cell_type": "code",
   "outputs": [
    {
     "data": {
      "text/plain": "12"
     },
     "execution_count": 26,
     "metadata": {},
     "output_type": "execute_result"
    }
   ],
   "source": [
    "e = np.array([1, 2, 3])\n",
    "e.astype(np.float32).nbytes"
   ],
   "metadata": {
    "collapsed": false,
    "ExecuteTime": {
     "end_time": "2024-02-03T19:21:56.063409700Z",
     "start_time": "2024-02-03T19:21:56.043966500Z"
    }
   },
   "id": "49a20519bfe4818b",
   "execution_count": 26
  },
  {
   "cell_type": "markdown",
   "source": [
    "Transforma el siguiente array en int32 y muestra cuanto ocupa en memoria"
   ],
   "metadata": {
    "collapsed": false
   },
   "id": "f65ad9216e7e5630"
  },
  {
   "cell_type": "code",
   "outputs": [
    {
     "data": {
      "text/plain": "12"
     },
     "execution_count": 27,
     "metadata": {},
     "output_type": "execute_result"
    }
   ],
   "source": [
    "f = np.array([1.9, 2.01, 3.51])\n",
    "f.astype(np.int32).nbytes"
   ],
   "metadata": {
    "collapsed": false,
    "ExecuteTime": {
     "end_time": "2024-02-03T19:21:56.063409700Z",
     "start_time": "2024-02-03T19:21:56.051014Z"
    }
   },
   "id": "efa4c926a3e15f1c",
   "execution_count": 27
  }
 ],
 "metadata": {
  "kernelspec": {
   "display_name": "Python 3",
   "language": "python",
   "name": "python3"
  },
  "language_info": {
   "codemirror_mode": {
    "name": "ipython",
    "version": 2
   },
   "file_extension": ".py",
   "mimetype": "text/x-python",
   "name": "python",
   "nbconvert_exporter": "python",
   "pygments_lexer": "ipython2",
   "version": "2.7.6"
  }
 },
 "nbformat": 4,
 "nbformat_minor": 5
}
