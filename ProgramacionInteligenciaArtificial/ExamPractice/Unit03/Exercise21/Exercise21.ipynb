{
 "cells": [
  {
   "cell_type": "markdown",
   "source": [
    "Ejercicio 21: Transformar tensores\n",
    "\n",
    "Siguiente con el tensor del ejercicio anterior de mario. Aplica a todos los elementos la siguiente función:\n",
    "\n",
    "Si el valor está entre [0,63] se transformará en 0\n",
    "Si el valor está entre [64,127] se transformará en 90\n",
    "Si el valor está entre [128,191] se transformará en 150\n",
    "Si el valor está entre [192,255] se transformará en 200\n",
    "\n",
    "Para hacerlo deberás transformar el tensor otra vez en un array unidimensional, aplicar la función y volver a transformarlo en un tensor de 3 dimensiones"
   ],
   "metadata": {
    "collapsed": false
   },
   "id": "9d8c54c2b05b076d"
  },
  {
   "cell_type": "code",
   "outputs": [],
   "source": [
    "import numpy as np\n",
    "from matplotlib import pyplot as plt"
   ],
   "metadata": {
    "collapsed": false,
    "ExecuteTime": {
     "end_time": "2024-02-04T08:44:22.700441600Z",
     "start_time": "2024-02-04T08:44:22.696922800Z"
    }
   },
   "id": "625724938f82e6ba",
   "execution_count": 15
  },
  {
   "cell_type": "code",
   "outputs": [],
   "source": [
    "def map_tensor(value):\n",
    "    if value < 64:\n",
    "        return 0\n",
    "    if value < 128:\n",
    "        return 90\n",
    "    if value < 192:\n",
    "        return 150\n",
    "    return 200"
   ],
   "metadata": {
    "collapsed": false,
    "ExecuteTime": {
     "end_time": "2024-02-04T08:44:22.710843100Z",
     "start_time": "2024-02-04T08:44:22.700441600Z"
    }
   },
   "id": "cb98380948781b85",
   "execution_count": 16
  },
  {
   "cell_type": "code",
   "outputs": [
    {
     "data": {
      "text/plain": "(41, 31, 3)"
     },
     "execution_count": 17,
     "metadata": {},
     "output_type": "execute_result"
    }
   ],
   "source": [
    "mario = np.loadtxt('mario.csv', delimiter=',', dtype=np.uint8)\n",
    "mario = mario.reshape((41, 31, -1))\n",
    "mario.shape"
   ],
   "metadata": {
    "collapsed": false,
    "ExecuteTime": {
     "end_time": "2024-02-04T08:44:22.716892200Z",
     "start_time": "2024-02-04T08:44:22.707816500Z"
    }
   },
   "id": "83ad3527a928efcf",
   "execution_count": 17
  },
  {
   "cell_type": "code",
   "outputs": [
    {
     "data": {
      "text/plain": "<matplotlib.image.AxesImage at 0x2d3689b99d0>"
     },
     "execution_count": 18,
     "metadata": {},
     "output_type": "execute_result"
    },
    {
     "data": {
      "text/plain": "<Figure size 640x480 with 1 Axes>",
      "image/png": "[encoded data removed]"
     },
     "metadata": {},
     "output_type": "display_data"
    }
   ],
   "source": [
    "figure = plt.figure()\n",
    "axes = figure.add_subplot()\n",
    "axes.imshow(mario)"
   ],
   "metadata": {
    "collapsed": false,
    "ExecuteTime": {
     "end_time": "2024-02-04T08:44:22.835728900Z",
     "start_time": "2024-02-04T08:44:22.715376800Z"
    }
   },
   "id": "514526b5d03e30d7",
   "execution_count": 18
  },
  {
   "cell_type": "code",
   "outputs": [
    {
     "data": {
      "text/plain": "(3813,)"
     },
     "execution_count": 19,
     "metadata": {},
     "output_type": "execute_result"
    }
   ],
   "source": [
    "mario = mario.reshape((-1))\n",
    "mario.shape"
   ],
   "metadata": {
    "collapsed": false,
    "ExecuteTime": {
     "end_time": "2024-02-04T08:44:22.842675900Z",
     "start_time": "2024-02-04T08:44:22.837238800Z"
    }
   },
   "id": "4d27389ba4737006",
   "execution_count": 19
  },
  {
   "cell_type": "code",
   "outputs": [
    {
     "data": {
      "text/plain": "(41, 31, 3)"
     },
     "execution_count": 20,
     "metadata": {},
     "output_type": "execute_result"
    }
   ],
   "source": [
    "mario = np.array([map_tensor(x) for x in mario])\n",
    "mario = mario.reshape((41, 31, -1))\n",
    "mario.shape"
   ],
   "metadata": {
    "collapsed": false,
    "ExecuteTime": {
     "end_time": "2024-02-04T08:44:22.878141600Z",
     "start_time": "2024-02-04T08:44:22.842675900Z"
    }
   },
   "id": "b6e403bea6a6c662",
   "execution_count": 20
  },
  {
   "cell_type": "code",
   "outputs": [
    {
     "data": {
      "text/plain": "<matplotlib.image.AxesImage at 0x2d368a4e7d0>"
     },
     "execution_count": 21,
     "metadata": {},
     "output_type": "execute_result"
    },
    {
     "data": {
      "text/plain": "<Figure size 640x480 with 1 Axes>",
      "image/png": "[encoded data removed]"
     },
     "metadata": {},
     "output_type": "display_data"
    }
   ],
   "source": [
    "figure = plt.figure()\n",
    "axes = figure.add_subplot()\n",
    "axes.imshow(mario)"
   ],
   "metadata": {
    "collapsed": false,
    "ExecuteTime": {
     "end_time": "2024-02-04T08:44:22.981188Z",
     "start_time": "2024-02-04T08:44:22.861102800Z"
    }
   },
   "id": "5226518107d0d95f",
   "execution_count": 21
  }
 ],
 "metadata": {
  "kernelspec": {
   "display_name": "Python 3",
   "language": "python",
   "name": "python3"
  },
  "language_info": {
   "codemirror_mode": {
    "name": "ipython",
    "version": 2
   },
   "file_extension": ".py",
   "mimetype": "text/x-python",
   "name": "python",
   "nbconvert_exporter": "python",
   "pygments_lexer": "ipython2",
   "version": "2.7.6"
  }
 },
 "nbformat": 4,
 "nbformat_minor": 5
}
