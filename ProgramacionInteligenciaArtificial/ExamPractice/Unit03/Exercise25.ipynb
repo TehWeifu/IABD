{
 "cells": [
  {
   "cell_type": "markdown",
   "source": [
    "Ejercicio 25: Función de pérdida\n",
    "Repite el ejercicio del tema anterior de la forma de la flor pero ahora cambia el resultado de la tabla:\n",
    "\n",
    "  Nº  Red              Épocas    loss Mitad    loss Final    Tiempo (s)\n",
    "----  -------------  --------  ------------  ------------  ------------\n",
    "   0  4,8,4,2,1            20    0.209651     0.191906             0.79\n",
    "   1  4,8,4,2,1            40    0.189802     0.111734             0.86\n",
    "   2  8,16,8,4,1           20    0.218724     0.190873             0.73\n",
    "   3  8,16,8,4,1           40    0.187368     0.131706             0.87\n",
    "   4  16,32,16,8,1         20    0.143569     0.0653756            0.72\n",
    "   5  16,32,16,8,1         40    0.0548877    0.0046529            0.87\n",
    "   6  32,64,32,8,1         20    0.0211689    0.00260244           0.74\n",
    "   7  32,64,32,8,1         40    0.00226261   7.84583e-05          0.87\n",
    "   8  64,128,64,8,1        20    0.0129097    0.00143349           0.77\n",
    "   9  64,128,64,8,1        40    0.00150978   8.06734e-05          1.16\n",
    "\n",
    "Es decir que en vez de mostrar el Result 1 y Result 2 muestra el resultado de la función de pérdida a mitad de entrenamiento (Nº de épocas/2) y al final del entrenamiento"
   ],
   "metadata": {
    "collapsed": false
   },
   "id": "1280b9d77c346e57"
  },
  {
   "cell_type": "code",
   "outputs": [
    {
     "name": "stdout",
     "output_type": "stream",
     "text": [
      "WARNING:tensorflow:From C:\\Users\\JulianBSL\\AppData\\Local\\Programs\\Python\\Python311\\Lib\\site-packages\\keras\\src\\losses.py:2976: The name tf.losses.sparse_softmax_cross_entropy is deprecated. Please use tf.compat.v1.losses.sparse_softmax_cross_entropy instead.\n"
     ]
    }
   ],
   "source": [
    "import random\n",
    "import time\n",
    "\n",
    "import numpy as np\n",
    "import tensorflow as tf\n",
    "from keras.layers import Dense\n",
    "from keras.models import Sequential\n",
    "from sklearn.datasets import load_iris\n",
    "from tabulate import tabulate\n"
   ],
   "metadata": {
    "collapsed": false,
    "ExecuteTime": {
     "end_time": "2024-02-04T09:27:14.302884600Z",
     "start_time": "2024-02-04T09:27:08.767055Z"
    }
   },
   "id": "d12d747840a69ac3",
   "execution_count": 1
  },
  {
   "cell_type": "code",
   "outputs": [],
   "source": [
    "def get_datos():\n",
    "    iris = load_iris()\n",
    "\n",
    "    sepal_length = iris.data[0:99, 0]\n",
    "    petal_length = iris.data[0:99, 2]\n",
    "    flower_type = iris.target[0:99]\n",
    "\n",
    "    x = np.column_stack((sepal_length, petal_length))\n",
    "    y = flower_type\n",
    "\n",
    "    return x, y"
   ],
   "metadata": {
    "collapsed": false,
    "ExecuteTime": {
     "end_time": "2024-02-04T09:27:14.307762100Z",
     "start_time": "2024-02-04T09:27:14.306756800Z"
    }
   },
   "id": "8d9635d73586285e",
   "execution_count": 2
  },
  {
   "cell_type": "code",
   "outputs": [],
   "source": [
    "def compile_fit(net, x, y, first_layer):\n",
    "    layers = net[0]\n",
    "    epochs = net[1]\n",
    "    model = Sequential()\n",
    "\n",
    "    for idx, layer in enumerate(layers):\n",
    "        if idx == 0:\n",
    "            model.add(Dense(layer, activation='relu', input_dim=first_layer))\n",
    "        elif idx == len(layers) - 1:\n",
    "            model.add(Dense(layer, activation='sigmoid'))\n",
    "        else:\n",
    "            model.add(Dense(layer, activation='relu'))\n",
    "\n",
    "    model.compile(loss='mean_squared_error')\n",
    "\n",
    "    mark1 = time.time()\n",
    "    history = model.fit(x, y, epochs=epochs, verbose=False)\n",
    "    mark2 = time.time()\n",
    "\n",
    "    time_elapsed = mark2 - mark1\n",
    "\n",
    "    return model, history, time_elapsed\n"
   ],
   "metadata": {
    "collapsed": false,
    "ExecuteTime": {
     "end_time": "2024-02-04T09:27:14.317317900Z",
     "start_time": "2024-02-04T09:27:14.311767200Z"
    }
   },
   "id": "381d7650c8eac93f",
   "execution_count": 3
  },
  {
   "cell_type": "code",
   "outputs": [],
   "source": [
    "np.random.seed(5)\n",
    "tf.random.set_seed(5)\n",
    "random.seed(5)"
   ],
   "metadata": {
    "collapsed": false,
    "ExecuteTime": {
     "end_time": "2024-02-04T09:27:14.325705100Z",
     "start_time": "2024-02-04T09:27:14.318318200Z"
    }
   },
   "id": "2c73e9b722d0fba0",
   "execution_count": 4
  },
  {
   "cell_type": "code",
   "outputs": [],
   "source": [
    "x, y = get_datos()"
   ],
   "metadata": {
    "collapsed": false,
    "ExecuteTime": {
     "end_time": "2024-02-04T09:27:14.333651Z",
     "start_time": "2024-02-04T09:27:14.326705300Z"
    }
   },
   "id": "f3b243452eec622a",
   "execution_count": 5
  },
  {
   "cell_type": "code",
   "outputs": [],
   "source": [
    "redes = [\n",
    "    [[2, 4, 1], 30],\n",
    "    [[4, 8, 8, 2, 1], 34],\n",
    "    [[8, 12, 24, 12, 1], 26],\n",
    "    [[8, 16, 8, 1], 28],\n",
    "    [[16, 32, 1], 20],\n",
    "]"
   ],
   "metadata": {
    "collapsed": false,
    "ExecuteTime": {
     "end_time": "2024-02-04T09:27:14.351798300Z",
     "start_time": "2024-02-04T09:27:14.334652Z"
    }
   },
   "id": "8084c090f5f7d78e",
   "execution_count": 6
  },
  {
   "cell_type": "code",
   "outputs": [
    {
     "name": "stdout",
     "output_type": "stream",
     "text": [
      "WARNING:tensorflow:From C:\\Users\\JulianBSL\\AppData\\Local\\Programs\\Python\\Python311\\Lib\\site-packages\\keras\\src\\backend.py:873: The name tf.get_default_graph is deprecated. Please use tf.compat.v1.get_default_graph instead.\n",
      "WARNING:tensorflow:From C:\\Users\\JulianBSL\\AppData\\Local\\Programs\\Python\\Python311\\Lib\\site-packages\\keras\\src\\optimizers\\__init__.py:309: The name tf.train.Optimizer is deprecated. Please use tf.compat.v1.train.Optimizer instead.\n",
      "WARNING:tensorflow:From C:\\Users\\JulianBSL\\AppData\\Local\\Programs\\Python\\Python311\\Lib\\site-packages\\keras\\src\\utils\\tf_utils.py:492: The name tf.ragged.RaggedTensorValue is deprecated. Please use tf.compat.v1.ragged.RaggedTensorValue instead.\n"
     ]
    }
   ],
   "source": [
    "results = []\n",
    "\n",
    "for idx, net in enumerate(redes):\n",
    "    model, history, fit_time = compile_fit(net, x, y, x.shape[1])\n",
    "    net_strings = \",\".join(str(x) for x in net[0])\n",
    "    results.append(\n",
    "        [net_strings, str(net[1]), history.history['loss'][net[1] // 2], history.history['loss'][-1], fit_time]\n",
    "    )"
   ],
   "metadata": {
    "collapsed": false,
    "ExecuteTime": {
     "end_time": "2024-02-04T09:27:17.834381300Z",
     "start_time": "2024-02-04T09:27:14.339776Z"
    }
   },
   "id": "6dcb43a278134e82",
   "execution_count": 7
  },
  {
   "cell_type": "code",
   "outputs": [
    {
     "name": "stdout",
     "output_type": "stream",
     "text": [
      "Red             Epocas    loss Mitad    lossFinal    Tiempo (s)\n",
      "------------  --------  ------------  -----------  ------------\n",
      "2,4,1               30     0.40638      0.314113       0.654536\n",
      "4,8,8,2,1           34     0.241537     0.231062       0.668004\n",
      "8,12,24,12,1        26     0.0708842    0.0132048      0.633055\n",
      "8,16,8,1            28     0.118326     0.0472547      0.567501\n",
      "16,32,1             20     0.168627     0.119915       0.466053\n"
     ]
    }
   ],
   "source": [
    "print(tabulate(results, headers=[\"Red\", \"Epocas\", \"loss Mitad\", \"lossFinal\", \"Tiempo (s)\"]))"
   ],
   "metadata": {
    "collapsed": false,
    "ExecuteTime": {
     "end_time": "2024-02-04T09:27:17.840943Z",
     "start_time": "2024-02-04T09:27:17.836383Z"
    }
   },
   "id": "8dde2a32d496b019",
   "execution_count": 8
  }
 ],
 "metadata": {
  "kernelspec": {
   "display_name": "Python 3",
   "language": "python",
   "name": "python3"
  },
  "language_info": {
   "codemirror_mode": {
    "name": "ipython",
    "version": 2
   },
   "file_extension": ".py",
   "mimetype": "text/x-python",
   "name": "python",
   "nbconvert_exporter": "python",
   "pygments_lexer": "ipython2",
   "version": "2.7.6"
  }
 },
 "nbformat": 4,
 "nbformat_minor": 5
}
