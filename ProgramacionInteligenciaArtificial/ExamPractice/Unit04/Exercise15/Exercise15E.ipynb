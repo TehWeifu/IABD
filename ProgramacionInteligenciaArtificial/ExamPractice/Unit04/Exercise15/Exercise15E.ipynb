{
 "cells": [
  {
   "cell_type": "markdown",
   "source": [
    "Ejercicio 15.E\n",
    "Vuelve a explicar los datos anteriores si:\n",
    "\n",
    "x es el número de policías negros en EEUU\n",
    "y es el número de delitos\n",
    "Ahora vuelve a explicar los datos si:\n",
    "\n",
    "z es el PIB de cada estado de EEUU"
   ],
   "metadata": {
    "collapsed": false
   },
   "id": "56ca55f843b89f1"
  },
  {
   "cell_type": "markdown",
   "source": [
    "- Los datos agregados indicarias que cuantos mas policias negros hay, mayor cantidad de delitos"
   ],
   "metadata": {
    "collapsed": false
   },
   "id": "1f61dd08a851a3ba"
  },
  {
   "cell_type": "markdown",
   "source": [
    "- Los datos desgregados indicarian que por cada grupo de PIB al existir mas policias negros, habrian menos delitos"
   ],
   "metadata": {
    "collapsed": false
   },
   "id": "4c50d68529a0ec1b"
  }
 ],
 "metadata": {
  "kernelspec": {
   "display_name": "Python 3",
   "language": "python",
   "name": "python3"
  },
  "language_info": {
   "codemirror_mode": {
    "name": "ipython",
    "version": 2
   },
   "file_extension": ".py",
   "mimetype": "text/x-python",
   "name": "python",
   "nbconvert_exporter": "python",
   "pygments_lexer": "ipython2",
   "version": "2.7.6"
  }
 },
 "nbformat": 4,
 "nbformat_minor": 5
}
