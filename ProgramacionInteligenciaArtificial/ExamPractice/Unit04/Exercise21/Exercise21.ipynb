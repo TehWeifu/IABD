{
 "cells": [
  {
   "cell_type": "markdown",
   "source": [
    "Ejercicio 21: imshow\n",
    "El fichero mario.csv que hay dentro de mario.zip contiene un array de numpy.\n",
    "\n",
    "Carga ese array y sabiendo que contiene una imagen de tamaño 41x31 y que cada color son 3 números, haz con matplotlib que se muestre la imagen de Mario Bros.\n",
    "\n",
    "Fíjate que en la imagen no debe salir ninguno de los ejes."
   ],
   "metadata": {
    "collapsed": false
   },
   "id": "3a3287b0564e647b"
  },
  {
   "cell_type": "code",
   "outputs": [],
   "source": [
    "from matplotlib import pyplot as plt\n",
    "import numpy as np\n",
    "from matplotlib.ticker import NullLocator"
   ],
   "metadata": {
    "collapsed": false,
    "ExecuteTime": {
     "end_time": "2024-02-04T13:05:50.798275400Z",
     "start_time": "2024-02-04T13:05:50.787737200Z"
    }
   },
   "id": "2ac2a405eeea0d58",
   "execution_count": 15
  },
  {
   "cell_type": "code",
   "outputs": [],
   "source": [
    "img = np.genfromtxt('mario.csv', delimiter=',').astype(np.uint8)\n",
    "img = img.reshape(41, 31, 3)"
   ],
   "metadata": {
    "collapsed": false,
    "ExecuteTime": {
     "end_time": "2024-02-04T13:05:50.815945300Z",
     "start_time": "2024-02-04T13:05:50.802274500Z"
    }
   },
   "id": "859770ed6dabbc4a",
   "execution_count": 16
  },
  {
   "cell_type": "code",
   "outputs": [
    {
     "data": {
      "text/plain": "<matplotlib.image.AxesImage at 0x12a5fe428d0>"
     },
     "execution_count": 17,
     "metadata": {},
     "output_type": "execute_result"
    },
    {
     "data": {
      "text/plain": "<Figure size 640x480 with 1 Axes>",
      "image/png": "[encoded data removed]"
     },
     "metadata": {},
     "output_type": "display_data"
    }
   ],
   "source": [
    "figure = plt.figure()\n",
    "axe = figure.add_subplot()\n",
    "\n",
    "axe.spines['right'].set_visible(False)\n",
    "axe.spines['top'].set_visible(False)\n",
    "axe.spines['left'].set_visible(False)\n",
    "axe.spines['bottom'].set_visible(False)\n",
    "\n",
    "axe.xaxis.set_major_locator(NullLocator())\n",
    "axe.yaxis.set_major_locator(NullLocator())\n",
    "\n",
    "axe.imshow(img)"
   ],
   "metadata": {
    "collapsed": false,
    "ExecuteTime": {
     "end_time": "2024-02-04T13:05:50.850586300Z",
     "start_time": "2024-02-04T13:05:50.812970100Z"
    }
   },
   "id": "a7a9bd43041d901",
   "execution_count": 17
  }
 ],
 "metadata": {
  "kernelspec": {
   "display_name": "Python 3",
   "language": "python",
   "name": "python3"
  },
  "language_info": {
   "codemirror_mode": {
    "name": "ipython",
    "version": 2
   },
   "file_extension": ".py",
   "mimetype": "text/x-python",
   "name": "python",
   "nbconvert_exporter": "python",
   "pygments_lexer": "ipython2",
   "version": "2.7.6"
  }
 },
 "nbformat": 4,
 "nbformat_minor": 5
}
