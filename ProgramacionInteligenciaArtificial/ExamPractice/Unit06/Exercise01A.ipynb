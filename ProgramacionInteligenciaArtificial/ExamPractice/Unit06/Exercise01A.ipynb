{
 "cells": [
  {
   "cell_type": "markdown",
   "source": [
    "Ejercicio 1.A\n",
    "\n",
    "Dada la siguiente red neuronal:"
   ],
   "metadata": {
    "collapsed": false
   },
   "id": "3c5337aa70698874"
  },
  {
   "cell_type": "markdown",
   "source": [
    "Indica las fórmulas de cada una de las neuronas suponiendo que no hay función de activación"
   ],
   "metadata": {
    "collapsed": false
   },
   "id": "81942ac284d9d872"
  },
  {
   "cell_type": "markdown",
   "source": [
    "1 -> y1 = x1\n",
    "2 -> y2 = x2\n",
    "3 -> y3 = w3_1*x1 + w3_2*x2 + b3"
   ],
   "metadata": {
    "collapsed": false
   },
   "id": "367b9066b982d0f6"
  },
  {
   "cell_type": "markdown",
   "source": [
    "Indica el Nª de capas:"
   ],
   "metadata": {
    "collapsed": false
   },
   "id": "89df004db50c1b9f"
  },
  {
   "cell_type": "markdown",
   "source": [
    "- Entrada: 1\n",
    "- Salida: 1\n",
    "- Ocultas: 0"
   ],
   "metadata": {
    "collapsed": false
   },
   "id": "db01494ff23b096c"
  },
  {
   "cell_type": "markdown",
   "source": [
    "Para cada neurona:\n",
    "- Indica el nº parámetros\n",
    "- Indica en nº de entradas\n",
    "- Indica en nº de salidas"
   ],
   "metadata": {
    "collapsed": false
   },
   "id": "da2171bf8bdd2801"
  },
  {
   "cell_type": "markdown",
   "source": [
    "- Neuron 1:\n",
    "    - 0 params\n",
    "    - 1 entries\n",
    "    - 1 output\n",
    "- Neuron 2:\n",
    "    - 0 params\n",
    "    - 1 entries\n",
    "    - 1 output\n",
    "- Neuron 2:\n",
    "    - 3 params\n",
    "    - 2 entries\n",
    "    - 1 output"
   ],
   "metadata": {
    "collapsed": false
   },
   "id": "e6dbd0ad77d711f7"
  },
  {
   "cell_type": "markdown",
   "source": [
    "Para cada capa\n",
    "- Indica el nº parámetros\n",
    "- Indica en nº de entradas\n",
    "- Indica en nº de salidas"
   ],
   "metadata": {
    "collapsed": false
   },
   "id": "c78dd2a3a7665624"
  },
  {
   "cell_type": "markdown",
   "source": [
    "- Layer 1:\n",
    "    - 0 params\n",
    "    - 2 entries\n",
    "    - 2 output\n",
    "- Layer 2:\n",
    "    - 3 params\n",
    "    - 2 entries\n",
    "    - 1 output"
   ],
   "metadata": {
    "collapsed": false
   },
   "id": "b42af21b25e2fbd6"
  },
  {
   "cell_type": "markdown",
   "source": [
    "Para toda la red:\n",
    "- Indica el nº parámetros\n",
    "- Indica en nº de entradas\n",
    "- Indica en nº de salidas"
   ],
   "metadata": {
    "collapsed": false
   },
   "id": "f5becb4110dc743e"
  },
  {
   "cell_type": "markdown",
   "source": [
    "- 3 params\n",
    "- 2 entries\n",
    "- 1 output"
   ],
   "metadata": {
    "collapsed": false
   },
   "id": "bd3012976a716b23"
  },
  {
   "cell_type": "markdown",
   "source": [
    "Crea el código en Keras de la red neuronal."
   ],
   "metadata": {
    "collapsed": false
   },
   "id": "73485e6a005c9f7f"
  },
  {
   "cell_type": "code",
   "outputs": [
    {
     "name": "stdout",
     "output_type": "stream",
     "text": [
      "WARNING:tensorflow:From C:\\Users\\JulianBSL\\AppData\\Local\\Programs\\Python\\Python311\\Lib\\site-packages\\keras\\src\\losses.py:2976: The name tf.losses.sparse_softmax_cross_entropy is deprecated. Please use tf.compat.v1.losses.sparse_softmax_cross_entropy instead.\n",
      "WARNING:tensorflow:From C:\\Users\\JulianBSL\\AppData\\Local\\Programs\\Python\\Python311\\Lib\\site-packages\\keras\\src\\backend.py:873: The name tf.get_default_graph is deprecated. Please use tf.compat.v1.get_default_graph instead.\n",
      "WARNING:tensorflow:From C:\\Users\\JulianBSL\\AppData\\Local\\Programs\\Python\\Python311\\Lib\\site-packages\\keras\\src\\optimizers\\__init__.py:309: The name tf.train.Optimizer is deprecated. Please use tf.compat.v1.train.Optimizer instead.\n"
     ]
    }
   ],
   "source": [
    "from keras.src.layers import Dense\n",
    "from keras import Sequential\n",
    "\n",
    "model = Sequential()\n",
    "model.add(Dense(1, input_dim=2))\n",
    "model.compile()"
   ],
   "metadata": {
    "collapsed": false,
    "ExecuteTime": {
     "end_time": "2024-02-06T22:11:50.617695600Z",
     "start_time": "2024-02-06T22:11:34.739230300Z"
    }
   },
   "id": "50f44d6f08bc7641",
   "execution_count": 1
  },
  {
   "cell_type": "markdown",
   "source": [
    "Muestra el resumen de la red en Keras y comprueba que coincide con lo calculado"
   ],
   "metadata": {
    "collapsed": false
   },
   "id": "ae713e3d6622d442"
  },
  {
   "cell_type": "code",
   "outputs": [
    {
     "name": "stdout",
     "output_type": "stream",
     "text": [
      "Model: \"sequential\"\n",
      "_________________________________________________________________\n",
      " Layer (type)                Output Shape              Param #   \n",
      "=================================================================\n",
      " dense (Dense)               (None, 1)                 3         \n",
      "                                                                 \n",
      "=================================================================\n",
      "Total params: 3 (12.00 Byte)\n",
      "Trainable params: 3 (12.00 Byte)\n",
      "Non-trainable params: 0 (0.00 Byte)\n",
      "_________________________________________________________________\n"
     ]
    }
   ],
   "source": [
    "model.summary()"
   ],
   "metadata": {
    "collapsed": false,
    "ExecuteTime": {
     "end_time": "2024-02-06T22:19:08.854845400Z",
     "start_time": "2024-02-06T22:19:08.844669600Z"
    }
   },
   "id": "a9ad1ae468b303a",
   "execution_count": 5
  },
  {
   "cell_type": "markdown",
   "source": [
    "Muestra el grafico de la red en Keras y comprueba que coincide con lo calculado"
   ],
   "metadata": {
    "collapsed": false
   },
   "id": "9431808464577752"
  },
  {
   "cell_type": "code",
   "outputs": [
    {
     "name": "stdout",
     "output_type": "stream",
     "text": [
      "You must install pydot (`pip install pydot`) and install graphviz (see instructions at https://graphviz.gitlab.io/download/) for plot_model to work.\n"
     ]
    }
   ],
   "source": [
    "from tensorflow.keras.utils import plot_model\n",
    "\n",
    "plot_model(model, to_file='model.png', show_shapes=True, show_layer_names=True)"
   ],
   "metadata": {
    "collapsed": false,
    "ExecuteTime": {
     "end_time": "2024-02-06T22:19:10.249827700Z",
     "start_time": "2024-02-06T22:19:10.246762300Z"
    }
   },
   "id": "db9f55ee5f5310f1",
   "execution_count": 6
  },
  {
   "cell_type": "markdown",
   "source": [
    "Imprime por pantalla el valor de cada uno de los pesos"
   ],
   "metadata": {
    "collapsed": false
   },
   "id": "ca8a7a2ed16e49cc"
  },
  {
   "cell_type": "code",
   "outputs": [],
   "source": [
    "def get_w(model, layer, neuron, index):\n",
    "    layer = model.layers[layer]\n",
    "    return layer.get_weights()[0][index, neuron]\n",
    "\n",
    "\n",
    "def get_b(model, layer, neuron):\n",
    "    layer = model.layers[layer]\n",
    "    return layer.get_weights()[1][neuron]"
   ],
   "metadata": {
    "collapsed": false,
    "ExecuteTime": {
     "end_time": "2024-02-06T22:20:33.884259500Z",
     "start_time": "2024-02-06T22:20:33.882278Z"
    }
   },
   "id": "88a7f463265f695b",
   "execution_count": 11
  },
  {
   "cell_type": "code",
   "outputs": [
    {
     "name": "stdout",
     "output_type": "stream",
     "text": [
      "0.04579377\n",
      "0.0\n"
     ]
    }
   ],
   "source": [
    "print(get_w(model, 0, 0, 1))\n",
    "print(get_b(model, 0, 0))"
   ],
   "metadata": {
    "collapsed": false,
    "ExecuteTime": {
     "end_time": "2024-02-06T22:21:21.156435900Z",
     "start_time": "2024-02-06T22:21:21.148406100Z"
    }
   },
   "id": "49660402f6403701",
   "execution_count": 18
  }
 ],
 "metadata": {
  "kernelspec": {
   "display_name": "Python 3",
   "language": "python",
   "name": "python3"
  },
  "language_info": {
   "codemirror_mode": {
    "name": "ipython",
    "version": 2
   },
   "file_extension": ".py",
   "mimetype": "text/x-python",
   "name": "python",
   "nbconvert_exporter": "python",
   "pygments_lexer": "ipython2",
   "version": "2.7.6"
  }
 },
 "nbformat": 4,
 "nbformat_minor": 5
}
