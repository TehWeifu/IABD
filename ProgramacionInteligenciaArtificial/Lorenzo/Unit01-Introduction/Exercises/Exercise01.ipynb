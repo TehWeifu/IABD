{
 "cells": [
  {
   "cell_type": "markdown",
   "source": [
    "Ejercicio 1\n",
    "Usando Google collab haz una red neuronal en python con Keras que obtenga el tipo de flor en función del \"Largo Sépalo\" y de \"Largo Pétalo\".\n",
    "\n",
    "Obtén el resultado de la red neuronal para las siguientes entradas e indica el tipo de flor que ha calcula la red neuronal."
   ],
   "metadata": {
    "collapsed": false
   },
   "id": "bac5bd5a3d573ccf"
  },
  {
   "cell_type": "code",
   "execution_count": 6,
   "id": "initial_id",
   "metadata": {
    "collapsed": true,
    "ExecuteTime": {
     "end_time": "2024-01-31T21:46:02.220327200Z",
     "start_time": "2024-01-31T21:46:01.301564Z"
    }
   },
   "outputs": [
    {
     "name": "stdout",
     "output_type": "stream",
     "text": [
      "WARNING:tensorflow:6 out of the last 10 calls to <function Model.make_predict_function.<locals>.predict_function at 0x000001675EC4EF20> triggered tf.function retracing. Tracing is expensive and the excessive number of tracings could be due to (1) creating @tf.function repeatedly in a loop, (2) passing tensors with different shapes, (3) passing Python objects instead of tensors. For (1), please define your @tf.function outside of the loop. For (2), @tf.function has reduce_retracing=True option that can avoid unnecessary retracing. For (3), please refer to https://www.tensorflow.org/guide/function#controlling_retracing and https://www.tensorflow.org/api_docs/python/tf/function for  more details.\n",
      "  Largo Sepalo    Largo Petalo    Resultado red neuronal    Tipo de Flor(0 o 1)\n",
      "--------------  --------------  ------------------------  ---------------------\n",
      "           5.4             1.7                  0.394927                      0\n",
      "           5.5             4                    0.653301                      1\n"
     ]
    }
   ],
   "source": [
    "import random\n",
    "\n",
    "import numpy as np\n",
    "import tensorflow as tf\n",
    "from keras.layers import Dense\n",
    "from keras.models import Sequential\n",
    "from sklearn.datasets import load_iris\n",
    "import tabulate\n",
    "\n",
    "iris = load_iris()\n",
    "\n",
    "sepal_length = iris.data[0:99, 0]\n",
    "petal_length = iris.data[0:99, 2]\n",
    "flower_type = iris.target[0:99]\n",
    "\n",
    "x = np.column_stack((sepal_length, petal_length))\n",
    "y = flower_type\n",
    "\n",
    "np.random.seed(5)\n",
    "tf.random.set_seed(5)\n",
    "random.seed(5)\n",
    "\n",
    "model = Sequential()\n",
    "model.add(Dense(6, activation='relu', input_dim=2))\n",
    "model.add(Dense(12, activation='relu'))\n",
    "model.add(Dense(6, activation='relu'))\n",
    "model.add(Dense(1, activation='sigmoid'))\n",
    "model.compile(loss='mean_squared_error')\n",
    "\n",
    "model.fit(x, y, epochs=40, verbose=False)\n",
    "\n",
    "results = []\n",
    "\n",
    "result1 = model.predict([[5.4, 1.7]], verbose=False)\n",
    "results.append([\n",
    "    5.4, 1.7, result1[0][0], round(result1[0][0])\n",
    "])\n",
    "\n",
    "result2 = model.predict([[5.5, 4.0]], verbose=False)\n",
    "results.append([\n",
    "    5.5, 4.0, result2[0][0], round(result2[0][0])\n",
    "])\n",
    "\n",
    "print(tabulate.tabulate(results,\n",
    "                        headers=[\"Largo Sepalo\", \"Largo Petalo\", \"Resultado red neuronal\", \"Tipo de Flor(0 o 1)\"])\n",
    "      )"
   ]
  }
 ],
 "metadata": {
  "kernelspec": {
   "display_name": "Python 3",
   "language": "python",
   "name": "python3"
  },
  "language_info": {
   "codemirror_mode": {
    "name": "ipython",
    "version": 2
   },
   "file_extension": ".py",
   "mimetype": "text/x-python",
   "name": "python",
   "nbconvert_exporter": "python",
   "pygments_lexer": "ipython2",
   "version": "2.7.6"
  }
 },
 "nbformat": 4,
 "nbformat_minor": 5
}
