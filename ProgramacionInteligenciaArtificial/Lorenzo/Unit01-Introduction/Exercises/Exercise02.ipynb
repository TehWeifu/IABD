{
 "cells": [
  {
   "cell_type": "markdown",
   "source": [
    "Ejercicio 2\n",
    "Modifica ahora la red neuronal de forma que:\n",
    "\n",
    "La 1º capa oculta tenga 4 neuronas en vez de 6\n",
    "La 2º capa oculta tenga 6 neuronas en vez de 12\n",
    "La 3º capa oculta tenga 4 neuronas en vez de 6\n",
    "La 4º capa seguirá teniendo 1 neurona\n",
    "Usando la web http://alexlenail.me/NN-SVG/index.html dibuja la red neuronal que acabas de crear\n",
    "\n",
    "Ahora muestra los resultados"
   ],
   "metadata": {
    "collapsed": false
   },
   "id": "bac5bd5a3d573ccf"
  },
  {
   "cell_type": "code",
   "execution_count": 1,
   "id": "initial_id",
   "metadata": {
    "collapsed": true,
    "ExecuteTime": {
     "end_time": "2024-01-31T21:46:51.799723100Z",
     "start_time": "2024-01-31T21:46:44.965886100Z"
    }
   },
   "outputs": [
    {
     "name": "stdout",
     "output_type": "stream",
     "text": [
      "WARNING:tensorflow:From C:\\Users\\JulianBSL\\AppData\\Local\\Programs\\Python\\Python311\\Lib\\site-packages\\keras\\src\\losses.py:2976: The name tf.losses.sparse_softmax_cross_entropy is deprecated. Please use tf.compat.v1.losses.sparse_softmax_cross_entropy instead.\n",
      "WARNING:tensorflow:From C:\\Users\\JulianBSL\\AppData\\Local\\Programs\\Python\\Python311\\Lib\\site-packages\\keras\\src\\backend.py:873: The name tf.get_default_graph is deprecated. Please use tf.compat.v1.get_default_graph instead.\n",
      "WARNING:tensorflow:From C:\\Users\\JulianBSL\\AppData\\Local\\Programs\\Python\\Python311\\Lib\\site-packages\\keras\\src\\optimizers\\__init__.py:309: The name tf.train.Optimizer is deprecated. Please use tf.compat.v1.train.Optimizer instead.\n",
      "WARNING:tensorflow:From C:\\Users\\JulianBSL\\AppData\\Local\\Programs\\Python\\Python311\\Lib\\site-packages\\keras\\src\\utils\\tf_utils.py:492: The name tf.ragged.RaggedTensorValue is deprecated. Please use tf.compat.v1.ragged.RaggedTensorValue instead.\n",
      "  Largo Sepalo    Largo Petalo    Resultado red neuronal    Tipo de Flor(0 o 1)\n",
      "--------------  --------------  ------------------------  ---------------------\n",
      "           5.4             1.7                  0.442138                      0\n",
      "           5.5             4                    0.649886                      1\n"
     ]
    }
   ],
   "source": [
    "import random\n",
    "\n",
    "import numpy as np\n",
    "import tabulate\n",
    "import tensorflow as tf\n",
    "from keras.layers import Dense\n",
    "from keras.models import Sequential\n",
    "from sklearn.datasets import load_iris\n",
    "\n",
    "iris = load_iris()\n",
    "\n",
    "sepal_length = iris.data[0:99, 0]\n",
    "petal_length = iris.data[0:99, 2]\n",
    "flower_type = iris.target[0:99]\n",
    "\n",
    "x = np.column_stack((sepal_length, petal_length))\n",
    "y = flower_type\n",
    "\n",
    "np.random.seed(5)\n",
    "tf.random.set_seed(5)\n",
    "random.seed(5)\n",
    "\n",
    "model = Sequential()\n",
    "model.add(Dense(4, activation='relu', input_dim=2))\n",
    "model.add(Dense(6, activation='relu'))\n",
    "model.add(Dense(4, activation='relu'))\n",
    "model.add(Dense(1, activation='sigmoid'))\n",
    "model.compile(loss='mean_squared_error')\n",
    "\n",
    "model.fit(x, y, epochs=40, verbose=False)\n",
    "\n",
    "results = []\n",
    "\n",
    "result1 = model.predict([[5.4, 1.7]], verbose=False)\n",
    "results.append([\n",
    "    5.4, 1.7, result1[0][0], round(result1[0][0])\n",
    "])\n",
    "\n",
    "result2 = model.predict([[5.5, 4.0]], verbose=False)\n",
    "results.append([\n",
    "    5.5, 4.0, result2[0][0], round(result2[0][0])\n",
    "])\n",
    "\n",
    "print(tabulate.tabulate(results,\n",
    "                        headers=[\"Largo Sepalo\", \"Largo Petalo\", \"Resultado red neuronal\", \"Tipo de Flor(0 o 1)\"])\n",
    "      )"
   ]
  }
 ],
 "metadata": {
  "kernelspec": {
   "display_name": "Python 3",
   "language": "python",
   "name": "python3"
  },
  "language_info": {
   "codemirror_mode": {
    "name": "ipython",
    "version": 2
   },
   "file_extension": ".py",
   "mimetype": "text/x-python",
   "name": "python",
   "nbconvert_exporter": "python",
   "pygments_lexer": "ipython2",
   "version": "2.7.6"
  }
 },
 "nbformat": 4,
 "nbformat_minor": 5
}
