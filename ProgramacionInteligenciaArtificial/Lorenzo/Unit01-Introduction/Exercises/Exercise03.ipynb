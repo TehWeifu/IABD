{
 "cells": [
  {
   "cell_type": "markdown",
   "source": [
    "Ejercicio 3\n",
    "Usando el código de la red original, modifica las siguientes líneas:\n",
    "\n",
    "Entrena la red con los nuevos datos\n",
    "\n",
    "Muestra la gráfica con los datos de entrada usando el código:\n",
    "\n",
    "Ahora verás que hay otro tipo de flor llamado Virginica.\n",
    "\n",
    "Prueba a ver si funciona ahora la red neuronal con el nuevo tipo de flor."
   ],
   "metadata": {
    "collapsed": false
   },
   "id": "bac5bd5a3d573ccf"
  },
  {
   "cell_type": "code",
   "execution_count": null,
   "id": "initial_id",
   "metadata": {
    "collapsed": true
   },
   "outputs": [],
   "source": [
    "import random\n",
    "\n",
    "import numpy as np\n",
    "import tensorflow as tf\n",
    "from keras.layers import Dense\n",
    "from keras.models import Sequential\n",
    "from sklearn.datasets import load_iris\n",
    "import tabulate\n",
    "from matplotlib import pyplot as plt\n",
    "\n",
    "iris = load_iris()\n",
    "\n",
    "sepal_length = iris.data[:, 0]\n",
    "petal_length = iris.data[:, 2]\n",
    "flower_type = iris.target[:]\n",
    "\n",
    "x = np.column_stack((sepal_length, petal_length))\n",
    "y = flower_type\n",
    "\n",
    "np.random.seed(5)\n",
    "tf.random.set_seed(5)\n",
    "random.seed(5)\n",
    "\n",
    "model = Sequential()\n",
    "model.add(Dense(6, activation='relu', input_dim=2))\n",
    "model.add(Dense(12, activation='relu'))\n",
    "model.add(Dense(6, activation='relu'))\n",
    "model.add(Dense(3, activation='softmax'))\n",
    "model.compile(loss='mean_squared_error')\n",
    "\n",
    "model.fit(x, y, epochs=40, verbose=False)\n",
    "\n",
    "results = []\n",
    "\n",
    "result1 = model.predict([[6.9, 5.1]], verbose=False)\n",
    "results.append([\n",
    "    6.9, 5.1, result1[0][0], round(result1[0][0])\n",
    "])\n",
    "\n",
    "result2 = model.predict([[7.7, 6.1]], verbose=False)\n",
    "results.append([\n",
    "    7.7, 6.1, result2[0][0], round(result2[0][0])\n",
    "])\n",
    "\n",
    "print(tabulate.tabulate(results,\n",
    "                        headers=[\"Largo Sepalo\", \"Largo Petalo\", \"Resultado red neuronal\", \"Tipo de Flor(0 o 1)\"])\n",
    "      )\n",
    "\n",
    "figure = plt.figure(figsize=(10, 7))\n",
    "axes = figure.add_subplot()\n",
    "\n",
    "scatter = axes.scatter(x=x[:, 0], y=x[:, 1], c=y, cmap=plt.cm.brg)\n",
    "figure.colorbar(scatter, ax=axes)\n",
    "axes.set_xlabel('Largo Sépalo')\n",
    "axes.set_ylabel('Largo Pétalo')"
   ]
  }
 ],
 "metadata": {
  "kernelspec": {
   "display_name": "Python 3",
   "language": "python",
   "name": "python3"
  },
  "language_info": {
   "codemirror_mode": {
    "name": "ipython",
    "version": 2
   },
   "file_extension": ".py",
   "mimetype": "text/x-python",
   "name": "python",
   "nbconvert_exporter": "python",
   "pygments_lexer": "ipython2",
   "version": "2.7.6"
  }
 },
 "nbformat": 4,
 "nbformat_minor": 5
}
