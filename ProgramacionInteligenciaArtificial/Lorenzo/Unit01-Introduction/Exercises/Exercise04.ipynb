{
 "cells": [
  {
   "cell_type": "markdown",
   "source": [
    "Ejercicio 4\n",
    "Piensa al menos 3 problemas que se podrían resolver con una red neuronal similar a la que has usado."
   ],
   "metadata": {
    "collapsed": false
   },
   "id": "bac5bd5a3d573ccf"
  },
  {
   "cell_type": "markdown",
   "source": [
    "- Predecir el precio de casas\n",
    "- Detectar si un correo es spam\n",
    "- Detectar un digito desde una imagen"
   ],
   "metadata": {
    "collapsed": false
   },
   "id": "84961c5511d0bb11"
  }
 ],
 "metadata": {
  "kernelspec": {
   "display_name": "Python 3",
   "language": "python",
   "name": "python3"
  },
  "language_info": {
   "codemirror_mode": {
    "name": "ipython",
    "version": 2
   },
   "file_extension": ".py",
   "mimetype": "text/x-python",
   "name": "python",
   "nbconvert_exporter": "python",
   "pygments_lexer": "ipython2",
   "version": "2.7.6"
  }
 },
 "nbformat": 4,
 "nbformat_minor": 5
}
