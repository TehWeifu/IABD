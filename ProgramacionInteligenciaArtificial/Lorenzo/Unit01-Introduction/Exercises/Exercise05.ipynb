{
 "cells": [
  {
   "cell_type": "markdown",
   "source": [
    "Ejercicio 5\n",
    "Vamos a ver ahora otro conjunto de datos relativo a la detección de cáncer de mama.\n",
    "\n",
    "Los datos se obtienen de la siguiente forma:"
   ],
   "metadata": {
    "collapsed": false
   },
   "id": "bac5bd5a3d573ccf"
  },
  {
   "cell_type": "code",
   "execution_count": 61,
   "id": "initial_id",
   "metadata": {
    "collapsed": true,
    "ExecuteTime": {
     "end_time": "2024-01-31T22:23:16.593240100Z",
     "start_time": "2024-01-31T22:23:16.549502100Z"
    }
   },
   "outputs": [
    {
     "name": "stdout",
     "output_type": "stream",
     "text": [
      "[  19.21       18.57      125.5      1152.          0.1053      0.1267\n",
      "    0.1323      0.08994     0.1917      0.05961     0.7275      1.193\n",
      "    4.837     102.5         0.006458    0.02306     0.02945     0.01538\n",
      "    0.01852     0.002608   26.14       28.14      170.1      2145.\n",
      "    0.1624      0.3511      0.3879      0.2091      0.3537      0.08294 ] 0\n",
      "[ 12.47      18.6       81.09     481.9        0.09965    0.1058\n",
      "   0.08005    0.03821    0.1925     0.06373    0.3961     1.044\n",
      "   2.497     30.29       0.006953   0.01911    0.02701    0.01037\n",
      "   0.01782    0.003586  14.97      24.64      96.05     677.9\n",
      "   0.1426     0.2378     0.2671     0.1015     0.3014     0.0875  ] 1\n"
     ]
    }
   ],
   "source": [
    "import numpy as np\n",
    "import tabulate\n",
    "from keras.layers import Dense\n",
    "from keras.models import Sequential\n",
    "from sklearn.datasets import load_breast_cancer\n",
    "\n",
    "breast_cancer = load_breast_cancer()\n",
    "\n",
    "x = breast_cancer.data\n",
    "y = breast_cancer.target\n",
    "\n",
    "#Para que los datos no se muestren con notación científica\n",
    "np.set_printoptions(suppress=True)\n",
    "\n",
    "print(x[56], y[56])\n",
    "print(x[204], y[204])"
   ]
  },
  {
   "cell_type": "code",
   "outputs": [
    {
     "data": {
      "text/plain": "<keras.src.callbacks.History at 0x26255f1d510>"
     },
     "execution_count": 62,
     "metadata": {},
     "output_type": "execute_result"
    }
   ],
   "source": [
    "model = Sequential()\n",
    "model.add(Dense(30, activation='relu', input_dim=x.shape[1]))\n",
    "model.add(Dense(60, activation='relu'))\n",
    "model.add(Dense(100, activation='relu'))\n",
    "model.add(Dense(60, activation='relu'))\n",
    "model.add(Dense(30, activation='relu'))\n",
    "model.add(Dense(10, activation='relu'))\n",
    "model.add(Dense(1, activation='sigmoid'))\n",
    "model.compile(loss='mean_squared_error')\n",
    "\n",
    "model.fit(x, y, epochs=40, verbose=False)"
   ],
   "metadata": {
    "collapsed": false,
    "ExecuteTime": {
     "end_time": "2024-01-31T22:23:18.456552900Z",
     "start_time": "2024-01-31T22:23:16.560672700Z"
    }
   },
   "id": "31ef9e4e6c20bfbb",
   "execution_count": 62
  },
  {
   "cell_type": "code",
   "outputs": [
    {
     "name": "stdout",
     "output_type": "stream",
     "text": [
      "  Fila Datos    Resultado verdadero    Resultado red neuronal\n",
      "------------  ---------------------  ------------------------\n",
      "          56                      0                         1\n",
      "         204                      1                         1\n"
     ]
    }
   ],
   "source": [
    "results = []\n",
    "\n",
    "result1 = model.predict([x[56].reshape(1, -1)], verbose=False)\n",
    "results.append([\n",
    "    56, y[56], result1[0][0]\n",
    "])\n",
    "\n",
    "result2 = model.predict([x[204].reshape(1, -1)], verbose=False)\n",
    "results.append([\n",
    "    204, y[204], result2[0][0]\n",
    "])\n",
    "\n",
    "print(tabulate.tabulate(results,\n",
    "                        headers=[\"Fila Datos\", \"Resultado verdadero\", \"Resultado red neuronal\"])\n",
    "      )"
   ],
   "metadata": {
    "collapsed": false,
    "ExecuteTime": {
     "end_time": "2024-01-31T22:23:18.629368600Z",
     "start_time": "2024-01-31T22:23:18.452531600Z"
    }
   },
   "id": "e746d3c13dacf810",
   "execution_count": 63
  },
  {
   "cell_type": "code",
   "outputs": [
    {
     "data": {
      "text/plain": "<keras.src.callbacks.History at 0x262561049d0>"
     },
     "execution_count": 64,
     "metadata": {},
     "output_type": "execute_result"
    }
   ],
   "source": [
    "model = Sequential()\n",
    "model.add(Dense(6, activation='relu', input_dim=x.shape[1]))\n",
    "model.add(Dense(12, activation='relu'))\n",
    "model.add(Dense(6, activation='relu'))\n",
    "model.add(Dense(1, activation='sigmoid'))\n",
    "model.compile(loss='mean_squared_error')\n",
    "\n",
    "model.fit(x, y, epochs=40, verbose=False)"
   ],
   "metadata": {
    "collapsed": false,
    "ExecuteTime": {
     "end_time": "2024-01-31T22:23:19.875409800Z",
     "start_time": "2024-01-31T22:23:18.627369500Z"
    }
   },
   "id": "8428cc023edae3b6",
   "execution_count": 64
  },
  {
   "cell_type": "code",
   "outputs": [
    {
     "name": "stdout",
     "output_type": "stream",
     "text": [
      "  Fila Datos    Resultado verdadero    Resultado red neuronal\n",
      "------------  ---------------------  ------------------------\n",
      "          56                      0               2.38834e-11\n",
      "         204                      1               0.389255\n"
     ]
    }
   ],
   "source": [
    "results = []\n",
    "\n",
    "result1 = model.predict([x[56].reshape(1, -1)], verbose=False)\n",
    "results.append([\n",
    "    56, y[56], result1[0][0]\n",
    "])\n",
    "\n",
    "result2 = model.predict([x[204].reshape(1, -1)], verbose=False)\n",
    "results.append([\n",
    "    204, y[204], result2[0][0]\n",
    "])\n",
    "\n",
    "print(tabulate.tabulate(results,\n",
    "                        headers=[\"Fila Datos\", \"Resultado verdadero\", \"Resultado red neuronal\"])\n",
    "      )"
   ],
   "metadata": {
    "collapsed": false,
    "ExecuteTime": {
     "end_time": "2024-01-31T22:23:20.026306500Z",
     "start_time": "2024-01-31T22:23:19.871408500Z"
    }
   },
   "id": "d9f6a30d696f057d",
   "execution_count": 65
  }
 ],
 "metadata": {
  "kernelspec": {
   "display_name": "Python 3",
   "language": "python",
   "name": "python3"
  },
  "language_info": {
   "codemirror_mode": {
    "name": "ipython",
    "version": 2
   },
   "file_extension": ".py",
   "mimetype": "text/x-python",
   "name": "python",
   "nbconvert_exporter": "python",
   "pygments_lexer": "ipython2",
   "version": "2.7.6"
  }
 },
 "nbformat": 4,
 "nbformat_minor": 5
}
