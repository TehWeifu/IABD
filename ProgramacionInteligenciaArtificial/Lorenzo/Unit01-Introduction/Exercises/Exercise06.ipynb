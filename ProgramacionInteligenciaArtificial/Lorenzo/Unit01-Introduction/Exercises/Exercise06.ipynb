{
 "cells": [
  {
   "cell_type": "markdown",
   "source": [
    "Ejercicio 5\n",
    "Vamos a ver ahora otro conjunto de datos relativo a la detección de cáncer de mama.\n",
    "\n",
    "Los datos se obtienen de la siguiente forma:"
   ],
   "metadata": {
    "collapsed": false
   },
   "id": "bac5bd5a3d573ccf"
  },
  {
   "cell_type": "code",
   "execution_count": 36,
   "id": "initial_id",
   "metadata": {
    "collapsed": true,
    "ExecuteTime": {
     "end_time": "2024-01-31T22:32:03.462706Z",
     "start_time": "2024-01-31T22:32:03.443306300Z"
    }
   },
   "outputs": [],
   "source": [
    "import random\n",
    "import numpy as np\n",
    "import tabulate\n",
    "from keras.layers import Dense\n",
    "from keras.models import Sequential\n",
    "from sklearn.datasets import load_breast_cancer\n",
    "import tensorflow as tf\n",
    "\n",
    "\n",
    "tf.keras.utils.set_random_seed(5)\n",
    "\n",
    "breast_cancer = load_breast_cancer()\n",
    "\n",
    "x = breast_cancer.data\n",
    "y = breast_cancer.target\n",
    "\n",
    "#Para que los datos no se muestren con notación científica\n",
    "np.set_printoptions(suppress=True)"
   ]
  },
  {
   "cell_type": "code",
   "outputs": [
    {
     "data": {
      "text/plain": "<keras.src.callbacks.History at 0x25062cf6510>"
     },
     "execution_count": 37,
     "metadata": {},
     "output_type": "execute_result"
    }
   ],
   "source": [
    "model = Sequential()\n",
    "model.add(Dense(6, activation='relu', input_dim=x.shape[1]))\n",
    "model.add(Dense(12, activation='relu'))\n",
    "model.add(Dense(6, activation='relu'))\n",
    "model.add(Dense(1, activation='sigmoid'))\n",
    "model.compile(loss='mean_squared_error')\n",
    "\n",
    "model.fit(x, y, epochs=40, verbose=False)"
   ],
   "metadata": {
    "collapsed": false,
    "ExecuteTime": {
     "end_time": "2024-01-31T22:32:04.832596700Z",
     "start_time": "2024-01-31T22:32:03.460703100Z"
    }
   },
   "id": "8428cc023edae3b6",
   "execution_count": 37
  },
  {
   "cell_type": "code",
   "outputs": [
    {
     "name": "stdout",
     "output_type": "stream",
     "text": [
      "  Fila Datos    Resultado verdadero    Resultado red neuronal\n",
      "------------  ---------------------  ------------------------\n",
      "          56                      0               8.64643e-05\n",
      "         204                      1               0.452168\n"
     ]
    }
   ],
   "source": [
    "results = []\n",
    "\n",
    "result1 = model.predict([x[56].reshape(1, -1)], verbose=False)\n",
    "results.append([\n",
    "    56, y[56], result1[0][0]\n",
    "])\n",
    "\n",
    "result2 = model.predict([x[204].reshape(1, -1)], verbose=False)\n",
    "results.append([\n",
    "    204, y[204], result2[0][0]\n",
    "])\n",
    "\n",
    "print(tabulate.tabulate(results,\n",
    "                        headers=[\"Fila Datos\", \"Resultado verdadero\", \"Resultado red neuronal\"])\n",
    "      )"
   ],
   "metadata": {
    "collapsed": false,
    "ExecuteTime": {
     "end_time": "2024-01-31T22:32:04.975279600Z",
     "start_time": "2024-01-31T22:32:04.833596500Z"
    }
   },
   "id": "d9f6a30d696f057d",
   "execution_count": 38
  }
 ],
 "metadata": {
  "kernelspec": {
   "display_name": "Python 3",
   "language": "python",
   "name": "python3"
  },
  "language_info": {
   "codemirror_mode": {
    "name": "ipython",
    "version": 2
   },
   "file_extension": ".py",
   "mimetype": "text/x-python",
   "name": "python",
   "nbconvert_exporter": "python",
   "pygments_lexer": "ipython2",
   "version": "2.7.6"
  }
 },
 "nbformat": 4,
 "nbformat_minor": 5
}
