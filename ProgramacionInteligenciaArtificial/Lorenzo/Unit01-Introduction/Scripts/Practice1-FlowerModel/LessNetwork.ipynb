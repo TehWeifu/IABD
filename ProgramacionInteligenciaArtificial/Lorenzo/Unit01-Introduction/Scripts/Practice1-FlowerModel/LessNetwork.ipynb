{
 "cells": [
  {
   "cell_type": "code",
   "execution_count": 4,
   "id": "initial_id",
   "metadata": {
    "collapsed": true,
    "ExecuteTime": {
     "end_time": "2023-10-04T17:23:52.243845700Z",
     "start_time": "2023-10-04T17:23:52.242315400Z"
    }
   },
   "outputs": [],
   "source": [
    "import numpy as np\n",
    "import pandas as pd\n",
    "import tensorflow as tf\n",
    "import matplotlib.pyplot as plt\n",
    "from keras.models import Sequential\n",
    "from keras.layers import Dense\n",
    "from sklearn.datasets import load_iris\n",
    "from matplotlib.colors import LightSource\n",
    "import random"
   ]
  },
  {
   "cell_type": "code",
   "execution_count": 5,
   "outputs": [
    {
     "name": "stdout",
     "output_type": "stream",
     "text": [
      "Epoch 1/40\n",
      "4/4 [==============================] - 0s 936us/step - loss: 0.2500\n",
      "Epoch 2/40\n",
      "4/4 [==============================] - 0s 4ms/step - loss: 0.2500\n",
      "Epoch 3/40\n",
      "4/4 [==============================] - 0s 2ms/step - loss: 0.2500\n",
      "Epoch 4/40\n",
      "4/4 [==============================] - 0s 2ms/step - loss: 0.2500\n",
      "Epoch 5/40\n",
      "4/4 [==============================] - 0s 1ms/step - loss: 0.2500\n",
      "Epoch 6/40\n",
      "4/4 [==============================] - 0s 2ms/step - loss: 0.2500\n",
      "Epoch 7/40\n",
      "4/4 [==============================] - 0s 2ms/step - loss: 0.2500\n",
      "Epoch 8/40\n",
      "4/4 [==============================] - 0s 2ms/step - loss: 0.2500\n",
      "Epoch 9/40\n",
      "4/4 [==============================] - 0s 0s/step - loss: 0.2500\n",
      "Epoch 10/40\n",
      "4/4 [==============================] - 0s 2ms/step - loss: 0.2500\n",
      "Epoch 11/40\n",
      "4/4 [==============================] - 0s 2ms/step - loss: 0.2500\n",
      "Epoch 12/40\n",
      "4/4 [==============================] - 0s 1ms/step - loss: 0.2500\n",
      "Epoch 13/40\n",
      "4/4 [==============================] - 0s 0s/step - loss: 0.2500\n",
      "Epoch 14/40\n",
      "4/4 [==============================] - 0s 0s/step - loss: 0.2500\n",
      "Epoch 15/40\n",
      "4/4 [==============================] - 0s 1ms/step - loss: 0.2500\n",
      "Epoch 16/40\n",
      "4/4 [==============================] - 0s 2ms/step - loss: 0.2500\n",
      "Epoch 17/40\n",
      "4/4 [==============================] - 0s 2ms/step - loss: 0.2500\n",
      "Epoch 18/40\n",
      "4/4 [==============================] - 0s 2ms/step - loss: 0.2500\n",
      "Epoch 19/40\n",
      "4/4 [==============================] - 0s 0s/step - loss: 0.2500\n",
      "Epoch 20/40\n",
      "4/4 [==============================] - 0s 5ms/step - loss: 0.2500\n",
      "Epoch 21/40\n",
      "4/4 [==============================] - 0s 2ms/step - loss: 0.2500\n",
      "Epoch 22/40\n",
      "4/4 [==============================] - 0s 2ms/step - loss: 0.2501\n",
      "Epoch 23/40\n",
      "4/4 [==============================] - 0s 2ms/step - loss: 0.2500\n",
      "Epoch 24/40\n",
      "4/4 [==============================] - 0s 2ms/step - loss: 0.2501\n",
      "Epoch 25/40\n",
      "4/4 [==============================] - 0s 2ms/step - loss: 0.2501\n",
      "Epoch 26/40\n",
      "4/4 [==============================] - 0s 2ms/step - loss: 0.2501\n",
      "Epoch 27/40\n",
      "4/4 [==============================] - 0s 367us/step - loss: 0.2501\n",
      "Epoch 28/40\n",
      "4/4 [==============================] - 0s 3ms/step - loss: 0.2501\n",
      "Epoch 29/40\n",
      "4/4 [==============================] - 0s 0s/step - loss: 0.2501\n",
      "Epoch 30/40\n",
      "4/4 [==============================] - 0s 4ms/step - loss: 0.2501\n",
      "Epoch 31/40\n",
      "4/4 [==============================] - 0s 0s/step - loss: 0.2500\n",
      "Epoch 32/40\n",
      "4/4 [==============================] - 0s 2ms/step - loss: 0.2501\n",
      "Epoch 33/40\n",
      "4/4 [==============================] - 0s 1ms/step - loss: 0.2501\n",
      "Epoch 34/40\n",
      "4/4 [==============================] - 0s 4ms/step - loss: 0.2500\n",
      "Epoch 35/40\n",
      "4/4 [==============================] - 0s 2ms/step - loss: 0.2501\n",
      "Epoch 36/40\n",
      "4/4 [==============================] - 0s 3ms/step - loss: 0.2501\n",
      "Epoch 37/40\n",
      "4/4 [==============================] - 0s 0s/step - loss: 0.2501\n",
      "Epoch 38/40\n",
      "4/4 [==============================] - 0s 1ms/step - loss: 0.2501\n",
      "Epoch 39/40\n",
      "4/4 [==============================] - 0s 0s/step - loss: 0.2501\n",
      "Epoch 40/40\n",
      "4/4 [==============================] - 0s 4ms/step - loss: 0.2501\n"
     ]
    },
    {
     "data": {
      "text/plain": "<keras.src.callbacks.History at 0x17059f50e10>"
     },
     "execution_count": 5,
     "metadata": {},
     "output_type": "execute_result"
    }
   ],
   "source": [
    "iris = load_iris()\n",
    "\n",
    "sepal_length = iris.data[0:99, 0]\n",
    "petal_length = iris.data[0:99, 2]\n",
    "flower_type = iris.target[0:99]\n",
    "\n",
    "x = np.column_stack((sepal_length, petal_length))\n",
    "y = flower_type\n",
    "\n",
    "np.random.seed(5)\n",
    "tf.random.set_seed(5)\n",
    "random.seed(5)\n",
    "\n",
    "model = Sequential()\n",
    "model.add(Dense(2, activation='relu', input_dim=2))\n",
    "model.add(Dense(4, activation='relu'))\n",
    "model.add(Dense(2, activation='relu'))\n",
    "model.add(Dense(1, activation='sigmoid'))\n",
    "model.compile(loss='mean_squared_error')\n",
    "\n",
    "model.fit(x, y, epochs=40)"
   ],
   "metadata": {
    "collapsed": false,
    "ExecuteTime": {
     "end_time": "2023-10-04T17:23:58.057604300Z",
     "start_time": "2023-10-04T17:23:57.403378300Z"
    }
   },
   "id": "408e176724c36e7b"
  },
  {
   "cell_type": "code",
   "execution_count": 6,
   "outputs": [
    {
     "name": "stdout",
     "output_type": "stream",
     "text": [
      "1/1 [==============================] - 0s 51ms/step\n",
      "[[0.5028085]]\n",
      "1/1 [==============================] - 0s 38ms/step\n",
      "[[0.5028085]]\n",
      "1/1 [==============================] - 0s 35ms/step\n",
      "[[0.5028085]]\n",
      "1/1 [==============================] - 0s 41ms/step\n",
      "[[0.5028085]]\n",
      "1/1 [==============================] - 0s 27ms/step\n",
      "[[0.5028085]]\n",
      "1/1 [==============================] - 0s 22ms/step\n",
      "[[0.5028085]]\n",
      "1/1 [==============================] - 0s 20ms/step\n",
      "[[0.5028085]]\n",
      "1/1 [==============================] - 0s 24ms/step\n",
      "[[0.5028085]]\n",
      "1/1 [==============================] - 0s 31ms/step\n",
      "[[0.5028085]]\n",
      "1/1 [==============================] - 0s 31ms/step\n",
      "[[0.5028085]]\n"
     ]
    }
   ],
   "source": [
    "print(model.predict([[5.1, 1.4]]))\n",
    "print(model.predict([[4.9, 1.4]]))\n",
    "print(model.predict([[4.7, 1.3]]))\n",
    "print(model.predict([[4.6, 1.5]]))\n",
    "print(model.predict([[5.0, 1.4]]))\n",
    "print(model.predict([[5.6, 4.1]]))\n",
    "print(model.predict([[5.7, 4.2]]))\n",
    "print(model.predict([[5.7, 4.2]]))\n",
    "print(model.predict([[6.2, 4.3]]))\n",
    "print(model.predict([[5.1, 3.0]]))\n"
   ],
   "metadata": {
    "collapsed": false,
    "ExecuteTime": {
     "end_time": "2023-10-04T17:24:05.036173400Z",
     "start_time": "2023-10-04T17:24:04.507990100Z"
    }
   },
   "id": "655125f77b658734"
  }
 ],
 "metadata": {
  "kernelspec": {
   "display_name": "Python 3",
   "language": "python",
   "name": "python3"
  },
  "language_info": {
   "codemirror_mode": {
    "name": "ipython",
    "version": 2
   },
   "file_extension": ".py",
   "mimetype": "text/x-python",
   "name": "python",
   "nbconvert_exporter": "python",
   "pygments_lexer": "ipython2",
   "version": "2.7.6"
  }
 },
 "nbformat": 4,
 "nbformat_minor": 5
}
