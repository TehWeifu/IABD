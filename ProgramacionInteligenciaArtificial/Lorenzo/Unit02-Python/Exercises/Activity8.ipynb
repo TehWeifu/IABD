{
 "cells": [
  {
   "cell_type": "markdown",
   "source": [
    "Ejercicio 8: Matrices"
   ],
   "metadata": {
    "collapsed": false
   },
   "id": "e1ba9a840a03dc1f"
  },
  {
   "cell_type": "code",
   "execution_count": null,
   "outputs": [],
   "source": [
    "import tabulate"
   ],
   "metadata": {
    "collapsed": false
   },
   "id": "d03d5540ea69a44c"
  },
  {
   "cell_type": "markdown",
   "source": [
    "Crea la siguiente matriz:\n",
    "⎛         ⎞\n",
    "⎜ 1 0 0 0 ⎜\n",
    "⎜ 0 1 7 0 ⎜\n",
    "⎜ 0 0 1 0 ⎜\n",
    "⎜ 0 0 0 1 ⎜\n",
    "⎝         ⎠"
   ],
   "metadata": {
    "collapsed": false
   },
   "id": "48d153a20b9c728e"
  },
  {
   "cell_type": "code",
   "execution_count": null,
   "outputs": [],
   "source": [
    "numbers = [\n",
    "    [1, 0, 0, 0],\n",
    "    [0, 1, 7, 0],\n",
    "    [0, 0, 1, 0],\n",
    "    [0, 0, 0, 1],\n",
    "]"
   ],
   "metadata": {
    "collapsed": false
   },
   "id": "3a9fec79b01a855b"
  },
  {
   "cell_type": "markdown",
   "source": [
    "Obtén el elemento de la fila 2º y la columna 3º. Es el valor del 7."
   ],
   "metadata": {
    "collapsed": false
   },
   "id": "41c0450748176fe9"
  },
  {
   "cell_type": "code",
   "execution_count": null,
   "outputs": [],
   "source": [
    "element_second_row_third_column = numbers[1][2]\n",
    "print(\"The element on the 2nd file and 3rd column is: \", element_second_row_third_column)"
   ],
   "metadata": {
    "collapsed": false
   },
   "id": "3448dc22380e58e3"
  },
  {
   "cell_type": "markdown",
   "source": [
    "Crea un nuevo array con los elementos de la 3º Fila de la matriz"
   ],
   "metadata": {
    "collapsed": false
   },
   "id": "ffc05da3524cd034"
  },
  {
   "cell_type": "code",
   "execution_count": null,
   "outputs": [],
   "source": [
    "third_row = numbers[2]\n",
    "print(\"The elements on the 3rd row are: \", third_row)"
   ],
   "metadata": {
    "collapsed": false
   },
   "id": "6ba7c92079aae152"
  },
  {
   "cell_type": "markdown",
   "source": [
    "Crea un nuevo array con los elementos de la 2º Columna de la matriz"
   ],
   "metadata": {
    "collapsed": false
   },
   "id": "87c8b676e7163a71"
  },
  {
   "cell_type": "code",
   "execution_count": null,
   "outputs": [],
   "source": [
    "second_column = [row[1] for row in numbers]\n",
    "print(\"The elements on the 2rd row are: \", second_column)"
   ],
   "metadata": {
    "collapsed": false
   },
   "id": "38aa9b53cae6363d"
  },
  {
   "cell_type": "markdown",
   "source": [
    "Imprime la matriz y haz que las cabeceras de cada columna sean A, B , C y D"
   ],
   "metadata": {
    "collapsed": false
   },
   "id": "9bc107a7029c8a9f"
  },
  {
   "cell_type": "code",
   "execution_count": null,
   "outputs": [],
   "source": [
    "print(tabulate.tabulate(numbers, headers=[\"A\", \"B\", \"C\", \"D\"]))"
   ],
   "metadata": {
    "collapsed": false
   },
   "id": "9a32e65ab86c1d5b"
  },
  {
   "cell_type": "markdown",
   "source": [],
   "metadata": {
    "collapsed": false
   },
   "id": "c7b30650877f8256"
  }
 ],
 "metadata": {
  "kernelspec": {
   "display_name": "Python 3",
   "language": "python",
   "name": "python3"
  },
  "language_info": {
   "codemirror_mode": {
    "name": "ipython",
    "version": 2
   },
   "file_extension": ".py",
   "mimetype": "text/x-python",
   "name": "python",
   "nbconvert_exporter": "python",
   "pygments_lexer": "ipython2",
   "version": "2.7.6"
  }
 },
 "nbformat": 4,
 "nbformat_minor": 5
}
