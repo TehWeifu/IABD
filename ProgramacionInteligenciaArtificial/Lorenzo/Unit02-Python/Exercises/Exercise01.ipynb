{
 "cells": [
  {
   "cell_type": "markdown",
   "source": [
    "Ejercicio 1: Instalación\n",
    "\n",
    "Instala todo lo indicado en el apartado \"Instalación\" de este tema"
   ],
   "metadata": {
    "collapsed": false
   },
   "id": "852ed2743577c0f"
  }
 ],
 "metadata": {
  "kernelspec": {
   "display_name": "Python 3",
   "language": "python",
   "name": "python3"
  },
  "language_info": {
   "codemirror_mode": {
    "name": "ipython",
    "version": 2
   },
   "file_extension": ".py",
   "mimetype": "text/x-python",
   "name": "python",
   "nbconvert_exporter": "python",
   "pygments_lexer": "ipython2",
   "version": "2.7.6"
  }
 },
 "nbformat": 4,
 "nbformat_minor": 5
}
