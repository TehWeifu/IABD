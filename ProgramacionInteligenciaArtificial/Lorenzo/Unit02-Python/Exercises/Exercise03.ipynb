{
 "cells": [
  {
   "cell_type": "markdown",
   "source": [
    "Ejercicio 3: Tipos\n",
    "Crea 2 variables booleanas una con el valor verdadero y otra con el valor falso.\n",
    "Crea una variable de tipo String con un número y la transformas en un int.\n",
    "Crea una variable de tipo String con un número y la transformas en un float.\n",
    "Crea una variable de tipo int y la transformas en un float.\n",
    "Crea una variable de tipo int y la transformas en un String.\n",
    "Crea una variable de tipo float y la transformas en un String.\n",
    "Crea una variable de tipo float y la transformas en un int. ¿La función redondea o trunca?"
   ],
   "metadata": {
    "collapsed": false
   },
   "id": "4e34b7907033e201"
  },
  {
   "cell_type": "code",
   "outputs": [
    {
     "name": "stdout",
     "output_type": "stream",
     "text": [
      "9\n"
     ]
    }
   ],
   "source": [
    "booleanTrue = True\n",
    "booleanFalse = False\n",
    "\n",
    "stringToInt = \"123\"\n",
    "stringToInt = int(stringToInt)\n",
    "\n",
    "stringToFloat = \"123.45\"\n",
    "stringToFloat = float(stringToFloat)\n",
    "\n",
    "intToFloat = 111\n",
    "intToFloat = float(intToFloat)\n",
    "\n",
    "intToString = 222\n",
    "intToString = str(intToString)\n",
    "\n",
    "floatToString = 1.23\n",
    "floatToString = str(floatToString)\n",
    "\n",
    "floatToInt = 9.87\n",
    "floatToInt = int(floatToInt)\n",
    "print(floatToInt)"
   ],
   "metadata": {
    "collapsed": false,
    "ExecuteTime": {
     "end_time": "2024-02-01T16:03:44.317381200Z",
     "start_time": "2024-02-01T16:03:44.310729300Z"
    }
   },
   "id": "779943e8935c06a5",
   "execution_count": 1
  }
 ],
 "metadata": {
  "kernelspec": {
   "display_name": "Python 3",
   "language": "python",
   "name": "python3"
  },
  "language_info": {
   "codemirror_mode": {
    "name": "ipython",
    "version": 2
   },
   "file_extension": ".py",
   "mimetype": "text/x-python",
   "name": "python",
   "nbconvert_exporter": "python",
   "pygments_lexer": "ipython2",
   "version": "2.7.6"
  }
 },
 "nbformat": 4,
 "nbformat_minor": 5
}
