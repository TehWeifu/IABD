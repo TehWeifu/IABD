{
 "cells": [
  {
   "cell_type": "markdown",
   "source": [
    "Ejercicio 4.A: Ayuda\n",
    "\n",
    "Muestra la ayuda de la función load_breast_cancer mediante ?"
   ],
   "metadata": {
    "collapsed": false
   },
   "id": "4e34b7907033e201"
  },
  {
   "cell_type": "code",
   "outputs": [],
   "source": [
    "from sklearn.datasets import load_breast_cancer\n",
    "\n",
    "load_breast_cancer?"
   ],
   "metadata": {
    "collapsed": false,
    "ExecuteTime": {
     "end_time": "2024-02-01T16:04:45.098369600Z",
     "start_time": "2024-02-01T16:04:44.937816700Z"
    }
   },
   "id": "779943e8935c06a5",
   "execution_count": 1
  },
  {
   "cell_type": "markdown",
   "source": [
    "Ejercicio 4.B: Ayuda\n",
    "Muestra la ayuda de la función load_breast_cancer mediante help"
   ],
   "metadata": {
    "collapsed": false
   },
   "id": "cdcefd7eaf5a244b"
  },
  {
   "cell_type": "code",
   "outputs": [
    {
     "name": "stdout",
     "output_type": "stream",
     "text": [
      "Help on function load_breast_cancer in module sklearn.datasets._base:\n",
      "\n",
      "load_breast_cancer(*, return_X_y=False, as_frame=False)\n",
      "    Load and return the breast cancer wisconsin dataset (classification).\n",
      "    \n",
      "    The breast cancer dataset is a classic and very easy binary classification\n",
      "    dataset.\n",
      "    \n",
      "    =================   ==============\n",
      "    Classes                          2\n",
      "    Samples per class    212(M),357(B)\n",
      "    Samples total                  569\n",
      "    Dimensionality                  30\n",
      "    Features            real, positive\n",
      "    =================   ==============\n",
      "    \n",
      "    The copy of UCI ML Breast Cancer Wisconsin (Diagnostic) dataset is\n",
      "    downloaded from:\n",
      "    https://archive.ics.uci.edu/dataset/17/breast+cancer+wisconsin+diagnostic\n",
      "    \n",
      "    Read more in the :ref:`User Guide <breast_cancer_dataset>`.\n",
      "    \n",
      "    Parameters\n",
      "    ----------\n",
      "    return_X_y : bool, default=False\n",
      "        If True, returns ``(data, target)`` instead of a Bunch object.\n",
      "        See below for more information about the `data` and `target` object.\n",
      "    \n",
      "        .. versionadded:: 0.18\n",
      "    \n",
      "    as_frame : bool, default=False\n",
      "        If True, the data is a pandas DataFrame including columns with\n",
      "        appropriate dtypes (numeric). The target is\n",
      "        a pandas DataFrame or Series depending on the number of target columns.\n",
      "        If `return_X_y` is True, then (`data`, `target`) will be pandas\n",
      "        DataFrames or Series as described below.\n",
      "    \n",
      "        .. versionadded:: 0.23\n",
      "    \n",
      "    Returns\n",
      "    -------\n",
      "    data : :class:`~sklearn.utils.Bunch`\n",
      "        Dictionary-like object, with the following attributes.\n",
      "    \n",
      "        data : {ndarray, dataframe} of shape (569, 30)\n",
      "            The data matrix. If `as_frame=True`, `data` will be a pandas\n",
      "            DataFrame.\n",
      "        target : {ndarray, Series} of shape (569,)\n",
      "            The classification target. If `as_frame=True`, `target` will be\n",
      "            a pandas Series.\n",
      "        feature_names : ndarray of shape (30,)\n",
      "            The names of the dataset columns.\n",
      "        target_names : ndarray of shape (2,)\n",
      "            The names of target classes.\n",
      "        frame : DataFrame of shape (569, 31)\n",
      "            Only present when `as_frame=True`. DataFrame with `data` and\n",
      "            `target`.\n",
      "    \n",
      "            .. versionadded:: 0.23\n",
      "        DESCR : str\n",
      "            The full description of the dataset.\n",
      "        filename : str\n",
      "            The path to the location of the data.\n",
      "    \n",
      "            .. versionadded:: 0.20\n",
      "    \n",
      "    (data, target) : tuple if ``return_X_y`` is True\n",
      "        A tuple of two ndarrays by default. The first contains a 2D ndarray of\n",
      "        shape (569, 30) with each row representing one sample and each column\n",
      "        representing the features. The second ndarray of shape (569,) contains\n",
      "        the target samples.  If `as_frame=True`, both arrays are pandas objects,\n",
      "        i.e. `X` a dataframe and `y` a series.\n",
      "    \n",
      "        .. versionadded:: 0.18\n",
      "    \n",
      "    Examples\n",
      "    --------\n",
      "    Let's say you are interested in the samples 10, 50, and 85, and want to\n",
      "    know their class name.\n",
      "    \n",
      "    >>> from sklearn.datasets import load_breast_cancer\n",
      "    >>> data = load_breast_cancer()\n",
      "    >>> data.target[[10, 50, 85]]\n",
      "    array([0, 1, 0])\n",
      "    >>> list(data.target_names)\n",
      "    ['malignant', 'benign']\n"
     ]
    }
   ],
   "source": [
    "help(load_breast_cancer)"
   ],
   "metadata": {
    "collapsed": false,
    "ExecuteTime": {
     "end_time": "2024-02-01T16:05:54.460120900Z",
     "start_time": "2024-02-01T16:05:54.455518200Z"
    }
   },
   "id": "e82b6aef24dd15d2",
   "execution_count": 2
  },
  {
   "cell_type": "markdown",
   "source": [
    "Ejercicio 4.C: Ayuda\n",
    "Muestra los campos del objeto datos, sabien que el objeto datos se obtiene así:"
   ],
   "metadata": {
    "collapsed": false
   },
   "id": "f36af2c8605a6a8a"
  },
  {
   "cell_type": "code",
   "outputs": [
    {
     "data": {
      "text/plain": "['DESCR',\n 'data',\n 'data_module',\n 'feature_names',\n 'filename',\n 'frame',\n 'target',\n 'target_names']"
     },
     "execution_count": 3,
     "metadata": {},
     "output_type": "execute_result"
    }
   ],
   "source": [
    "datos = load_breast_cancer()\n",
    "dir(datos)"
   ],
   "metadata": {
    "collapsed": false,
    "ExecuteTime": {
     "end_time": "2024-02-01T16:06:41.480331Z",
     "start_time": "2024-02-01T16:06:41.466509700Z"
    }
   },
   "id": "3be4047d7c3ac0",
   "execution_count": 3
  }
 ],
 "metadata": {
  "kernelspec": {
   "display_name": "Python 3",
   "language": "python",
   "name": "python3"
  },
  "language_info": {
   "codemirror_mode": {
    "name": "ipython",
    "version": 2
   },
   "file_extension": ".py",
   "mimetype": "text/x-python",
   "name": "python",
   "nbconvert_exporter": "python",
   "pygments_lexer": "ipython2",
   "version": "2.7.6"
  }
 },
 "nbformat": 4,
 "nbformat_minor": 5
}
