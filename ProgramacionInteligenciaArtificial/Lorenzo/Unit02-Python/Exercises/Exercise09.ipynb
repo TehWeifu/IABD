{
 "cells": [
  {
   "cell_type": "markdown",
   "source": [
    "Ejercicio 9: Diccionarios\n",
    "Crea una variable llamada cliente que sea un diccionario con la información de este cliente\n",
    "nombre: Juan\n",
    "apellidos: Pérez García\n",
    "teléfono \n",
    "   movil: 654789658\n",
    "   fijo: 963789654\n",
    "dirección:\n",
    "    tipo via: calle\n",
    "    numero: 45\n",
    "    puerta: 7\n",
    "numero facturas:\n",
    "    compras: 234/2020, 345/2021, 675/2021, 561/2022\n",
    "    ventas:  456/2020, 564/2021, 768/2021, 345/2022"
   ],
   "metadata": {
    "collapsed": false
   },
   "id": "1723f2f35c57c39e"
  },
  {
   "cell_type": "code",
   "outputs": [],
   "source": [
    "cliente = {\n",
    "    \"nombre\": \"Juan\",\n",
    "    \"apellidos\": \"Pérez García\",\n",
    "    \"teléfono\": {\n",
    "        \"movil\": 654789658,\n",
    "        \"fijo\": 963789654\n",
    "    },\n",
    "    \"dirección\": {\n",
    "        \"tipo via\": \"calle\",\n",
    "        \"numero\": 45,\n",
    "        \"puerta\": 7\n",
    "    },\n",
    "    \"numero facturas\": {\n",
    "        \"compras\": [\"234/2020\", \"345/2021\", \"675/2021\", \"561/2022\"],\n",
    "        \"ventas\": [\"456/2020\", \"564/2021\", \"768/2021\", \"345/2022\"]\n",
    "    },\n",
    "}"
   ],
   "metadata": {
    "collapsed": false,
    "ExecuteTime": {
     "end_time": "2024-02-01T16:39:23.177776500Z",
     "start_time": "2024-02-01T16:39:23.167435700Z"
    }
   },
   "id": "f0fbf5e3836455a1",
   "execution_count": 2
  },
  {
   "cell_type": "markdown",
   "source": [
    "Imprime el nombre de las claves del \"primer nivel\""
   ],
   "metadata": {
    "collapsed": false
   },
   "id": "e65f59c4c61ba07f"
  },
  {
   "cell_type": "code",
   "outputs": [
    {
     "name": "stdout",
     "output_type": "stream",
     "text": [
      "nombre: Juan\n",
      "movil: 654789658\n",
      "factura: 768/2021\n",
      "cantidad compras: 4\n",
      "\n",
      "Claves primer nivel\n",
      "nombre\n",
      "apellidos\n",
      "teléfono\n",
      "dirección\n",
      "numero facturas\n"
     ]
    }
   ],
   "source": [
    "print(f\"nombre: {cliente['nombre']}\")\n",
    "print(f\"movil: {cliente['teléfono']['movil']}\")\n",
    "print(f\"factura: {cliente['numero facturas']['ventas'][2]}\")\n",
    "print(f\"cantidad compras: {len(cliente['numero facturas']['ventas'])}\")\n",
    "\n",
    "print()\n",
    "print(\"Claves primer nivel\")\n",
    "for key in cliente:\n",
    "    print(key)"
   ],
   "metadata": {
    "collapsed": false,
    "ExecuteTime": {
     "end_time": "2024-02-01T16:42:13.591603800Z",
     "start_time": "2024-02-01T16:42:13.581408500Z"
    }
   },
   "id": "85cf45549a779f0f",
   "execution_count": 9
  }
 ],
 "metadata": {
  "kernelspec": {
   "display_name": "Python 3",
   "language": "python",
   "name": "python3"
  },
  "language_info": {
   "codemirror_mode": {
    "name": "ipython",
    "version": 2
   },
   "file_extension": ".py",
   "mimetype": "text/x-python",
   "name": "python",
   "nbconvert_exporter": "python",
   "pygments_lexer": "ipython2",
   "version": "2.7.6"
  }
 },
 "nbformat": 4,
 "nbformat_minor": 5
}
