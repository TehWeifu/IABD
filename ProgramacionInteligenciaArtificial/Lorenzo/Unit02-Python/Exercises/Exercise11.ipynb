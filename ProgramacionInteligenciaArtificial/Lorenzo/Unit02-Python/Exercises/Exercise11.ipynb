{
 "cells": [
  {
   "cell_type": "markdown",
   "source": [
    "Ejercicio 11: Funciones"
   ],
   "metadata": {
    "collapsed": false
   },
   "id": "a5a01509f0a85f36"
  },
  {
   "cell_type": "markdown",
   "source": [
    "Haz una función llamada \"importe_final que dado el precio de un producto y el porcentaje de descuento , nos diga el importe del producto. Usa la función con los valores de 120€ y un 10% e imprime el resultado. Vuelve a llamar ahora a la función pero cambiando el orden de los argumentos y usando el nombre de los parámetros en la llamada"
   ],
   "metadata": {
    "collapsed": false
   },
   "id": "6d05f1e2c6052ab5"
  },
  {
   "cell_type": "code",
   "outputs": [
    {
     "name": "stdout",
     "output_type": "stream",
     "text": [
      "price is 108.0\n",
      "price is 108.0\n"
     ]
    }
   ],
   "source": [
    "def importe_final(price, discount_percent):\n",
    "    return price - (price * discount_percent / 100)\n",
    "\n",
    "\n",
    "print(f\"price is {importe_final(120, 10)}\")\n",
    "print(f\"price is {importe_final(discount_percent=10, price=120)}\")"
   ],
   "metadata": {
    "collapsed": false,
    "ExecuteTime": {
     "end_time": "2024-02-01T17:31:19.733205100Z",
     "start_time": "2024-02-01T17:31:19.718813600Z"
    }
   },
   "id": "34bcc4fefc5e16dd",
   "execution_count": 2
  },
  {
   "cell_type": "markdown",
   "source": [
    "Modifica la función para que retorne tanto el importe como la cantidad que se ha descontado del precio. Usa la función con los valores de 120€ y un 10% e imprime el resultado."
   ],
   "metadata": {
    "collapsed": false
   },
   "id": "b7227f532e2fab22"
  },
  {
   "cell_type": "code",
   "outputs": [
    {
     "name": "stdout",
     "output_type": "stream",
     "text": [
      "price is (108.0, 12.0)\n",
      "price is (108.0, 12.0)\n"
     ]
    }
   ],
   "source": [
    "def importe_final_2(price, discount_percent):\n",
    "    amount_discounted = (price * discount_percent / 100)\n",
    "    price_final = price - amount_discounted\n",
    "\n",
    "    return price_final, amount_discounted\n",
    "\n",
    "\n",
    "print(f\"price is {importe_final_2(120, 10)}\")\n",
    "print(f\"price is {importe_final_2(discount_percent=10, price=120)}\")"
   ],
   "metadata": {
    "collapsed": false,
    "ExecuteTime": {
     "end_time": "2024-02-01T17:32:44.086235700Z",
     "start_time": "2024-02-01T17:32:44.078808700Z"
    }
   },
   "id": "1b21c91fb66caf19",
   "execution_count": 4
  },
  {
   "cell_type": "markdown",
   "source": [
    "Modifica la función para que por defecto el descuento sea un 10% y no sea necesario pasar ese valor. Usa la función con el valor de 120€ e imprime el resultado."
   ],
   "metadata": {
    "collapsed": false
   },
   "id": "86c0917ca30af084"
  },
  {
   "cell_type": "code",
   "outputs": [
    {
     "name": "stdout",
     "output_type": "stream",
     "text": [
      "price is (108.0, 12.0)\n",
      "price is (108.0, 12.0)\n"
     ]
    }
   ],
   "source": [
    "def importe_final_2(price, discount_percent=10):\n",
    "    amount_discounted = (price * discount_percent / 100)\n",
    "    price_final = price - amount_discounted\n",
    "\n",
    "    return price_final, amount_discounted\n",
    "\n",
    "\n",
    "print(f\"price is {importe_final_2(120)}\")\n",
    "print(f\"price is {importe_final_2(price=120)}\")"
   ],
   "metadata": {
    "collapsed": false,
    "ExecuteTime": {
     "end_time": "2024-02-01T17:33:18.692886300Z",
     "start_time": "2024-02-01T17:33:18.691379800Z"
    }
   },
   "id": "e18bae50d8d7ce48",
   "execution_count": 5
  }
 ],
 "metadata": {
  "kernelspec": {
   "display_name": "Python 3",
   "language": "python",
   "name": "python3"
  },
  "language_info": {
   "codemirror_mode": {
    "name": "ipython",
    "version": 2
   },
   "file_extension": ".py",
   "mimetype": "text/x-python",
   "name": "python",
   "nbconvert_exporter": "python",
   "pygments_lexer": "ipython2",
   "version": "2.7.6"
  }
 },
 "nbformat": 4,
 "nbformat_minor": 5
}
