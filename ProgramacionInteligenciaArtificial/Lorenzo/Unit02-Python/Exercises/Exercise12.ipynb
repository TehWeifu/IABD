{
 "cells": [
  {
   "cell_type": "markdown",
   "source": [
    "Ejercicio 12\n",
    "\n",
    "Vamos a volver al ejercicio de redes neuronales del tema 1 del tipo de flor .\n",
    "\n",
    "Modifica el siguiente programa:\n",
    "\n",
    "Para que en vez de poner tantas líneas como capas hay , se haga con un array. Es decir que dado el array capas=[6,12,6,1] se cree la red anterior pero si cambiamos los datos del array que se cree la red correspondiente."
   ],
   "metadata": {
    "collapsed": false
   },
   "id": "1280b9d77c346e57"
  },
  {
   "cell_type": "code",
   "outputs": [],
   "source": [
    "import random\n",
    "\n",
    "import numpy as np\n",
    "import tensorflow as tf\n",
    "from keras.layers import Dense\n",
    "from keras.models import Sequential\n",
    "from sklearn.datasets import load_iris\n"
   ],
   "metadata": {
    "collapsed": false,
    "ExecuteTime": {
     "end_time": "2024-02-01T18:03:23.845336100Z",
     "start_time": "2024-02-01T18:03:17.547416600Z"
    }
   },
   "id": "d12d747840a69ac3",
   "execution_count": 1
  },
  {
   "cell_type": "code",
   "outputs": [],
   "source": [
    "iris = load_iris()\n",
    "\n",
    "sepal_length = iris.data[0:99, 0]\n",
    "petal_length = iris.data[0:99, 2]\n",
    "flower_type = iris.target[0:99]\n",
    "\n",
    "x = np.column_stack((sepal_length, petal_length))\n",
    "y = flower_type\n",
    "\n",
    "np.random.seed(5)\n",
    "tf.random.set_seed(5)\n",
    "random.seed(5)"
   ],
   "metadata": {
    "collapsed": false
   },
   "id": "2c73e9b722d0fba0"
  },
  {
   "cell_type": "code",
   "outputs": [],
   "source": [
    "capas = [6, 12, 6, 1]"
   ],
   "metadata": {
    "collapsed": false,
    "ExecuteTime": {
     "end_time": "2024-02-01T18:03:23.877442100Z",
     "start_time": "2024-02-01T18:03:23.865151200Z"
    }
   },
   "id": "8084c090f5f7d78e",
   "execution_count": 3
  },
  {
   "cell_type": "code",
   "outputs": [
    {
     "name": "stdout",
     "output_type": "stream",
     "text": [
      "Epoch 1/40\n",
      "4/4 [==============================] - 0s 2ms/step - loss: 0.2429\n",
      "Epoch 2/40\n",
      "4/4 [==============================] - 0s 1ms/step - loss: 0.2381\n",
      "Epoch 3/40\n",
      "4/4 [==============================] - 0s 1ms/step - loss: 0.2355\n",
      "Epoch 4/40\n",
      "4/4 [==============================] - 0s 1ms/step - loss: 0.2317\n",
      "Epoch 5/40\n",
      "4/4 [==============================] - 0s 1ms/step - loss: 0.2287\n",
      "Epoch 6/40\n",
      "4/4 [==============================] - 0s 1ms/step - loss: 0.2274\n",
      "Epoch 7/40\n",
      "4/4 [==============================] - 0s 980us/step - loss: 0.2247\n",
      "Epoch 8/40\n",
      "4/4 [==============================] - 0s 1ms/step - loss: 0.2219\n",
      "Epoch 9/40\n",
      "4/4 [==============================] - 0s 1ms/step - loss: 0.2198\n",
      "Epoch 10/40\n",
      "4/4 [==============================] - 0s 1ms/step - loss: 0.2185\n",
      "Epoch 11/40\n",
      "4/4 [==============================] - 0s 1ms/step - loss: 0.2169\n",
      "Epoch 12/40\n",
      "4/4 [==============================] - 0s 1ms/step - loss: 0.2149\n",
      "Epoch 13/40\n",
      "4/4 [==============================] - 0s 1ms/step - loss: 0.2120\n",
      "Epoch 14/40\n",
      "4/4 [==============================] - 0s 989us/step - loss: 0.2100\n",
      "Epoch 15/40\n",
      "4/4 [==============================] - 0s 1ms/step - loss: 0.2075\n",
      "Epoch 16/40\n",
      "4/4 [==============================] - 0s 1ms/step - loss: 0.2039\n",
      "Epoch 17/40\n",
      "4/4 [==============================] - 0s 1ms/step - loss: 0.2010\n",
      "Epoch 18/40\n",
      "4/4 [==============================] - 0s 1ms/step - loss: 0.1984\n",
      "Epoch 19/40\n",
      "4/4 [==============================] - 0s 1ms/step - loss: 0.1957\n",
      "Epoch 20/40\n",
      "4/4 [==============================] - 0s 1ms/step - loss: 0.1941\n",
      "Epoch 21/40\n",
      "4/4 [==============================] - 0s 1ms/step - loss: 0.1913\n",
      "Epoch 22/40\n",
      "4/4 [==============================] - 0s 1ms/step - loss: 0.1890\n",
      "Epoch 23/40\n",
      "4/4 [==============================] - 0s 1ms/step - loss: 0.1859\n",
      "Epoch 24/40\n",
      "4/4 [==============================] - 0s 1ms/step - loss: 0.1833\n",
      "Epoch 25/40\n",
      "4/4 [==============================] - 0s 1ms/step - loss: 0.1816\n",
      "Epoch 26/40\n",
      "4/4 [==============================] - 0s 1ms/step - loss: 0.1798\n",
      "Epoch 27/40\n",
      "4/4 [==============================] - 0s 1ms/step - loss: 0.1766\n",
      "Epoch 28/40\n",
      "4/4 [==============================] - 0s 2ms/step - loss: 0.1731\n",
      "Epoch 29/40\n",
      "4/4 [==============================] - 0s 2ms/step - loss: 0.1689\n",
      "Epoch 30/40\n",
      "4/4 [==============================] - 0s 1ms/step - loss: 0.1660\n",
      "Epoch 31/40\n",
      "4/4 [==============================] - 0s 1ms/step - loss: 0.1628\n",
      "Epoch 32/40\n",
      "4/4 [==============================] - 0s 1ms/step - loss: 0.1602\n",
      "Epoch 33/40\n",
      "4/4 [==============================] - 0s 2ms/step - loss: 0.1569\n",
      "Epoch 34/40\n",
      "4/4 [==============================] - 0s 1ms/step - loss: 0.1536\n",
      "Epoch 35/40\n",
      "4/4 [==============================] - 0s 1ms/step - loss: 0.1505\n",
      "Epoch 36/40\n",
      "4/4 [==============================] - 0s 1ms/step - loss: 0.1482\n",
      "Epoch 37/40\n",
      "4/4 [==============================] - 0s 1ms/step - loss: 0.1447\n",
      "Epoch 38/40\n",
      "4/4 [==============================] - 0s 2ms/step - loss: 0.1418\n",
      "Epoch 39/40\n",
      "4/4 [==============================] - 0s 2ms/step - loss: 0.1376\n",
      "Epoch 40/40\n",
      "4/4 [==============================] - 0s 1ms/step - loss: 0.1346\n"
     ]
    },
    {
     "data": {
      "text/plain": "<keras.src.callbacks.History at 0x240fefe2710>"
     },
     "execution_count": 4,
     "metadata": {},
     "output_type": "execute_result"
    }
   ],
   "source": [
    "model = Sequential()\n",
    "\n",
    "for idx, layer in enumerate(capas):\n",
    "    if idx == 0:\n",
    "        model.add(Dense(layer, activation='relu', input_dim=2))\n",
    "    elif idx == len(capas) - 1:\n",
    "        model.add(Dense(layer, activation='sigmoid'))\n",
    "    else:\n",
    "        model.add(Dense(layer, activation='relu'))\n",
    "\n",
    "model.compile(loss='mean_squared_error')\n",
    "model.fit(x, y, epochs=40)"
   ],
   "metadata": {
    "collapsed": false,
    "ExecuteTime": {
     "end_time": "2024-02-01T18:03:24.817108900Z",
     "start_time": "2024-02-01T18:03:23.868966500Z"
    }
   },
   "id": "6dcb43a278134e82",
   "execution_count": 4
  },
  {
   "cell_type": "code",
   "outputs": [],
   "source": [
    "print(model.predict([[4.9, 1.4]]))\n",
    "print(model.predict([[6.3, 4.9]]))"
   ],
   "metadata": {
    "collapsed": false
   },
   "id": "6754da07a302d6fd"
  }
 ],
 "metadata": {
  "kernelspec": {
   "display_name": "Python 3",
   "language": "python",
   "name": "python3"
  },
  "language_info": {
   "codemirror_mode": {
    "name": "ipython",
    "version": 2
   },
   "file_extension": ".py",
   "mimetype": "text/x-python",
   "name": "python",
   "nbconvert_exporter": "python",
   "pygments_lexer": "ipython2",
   "version": "2.7.6"
  }
 },
 "nbformat": 4,
 "nbformat_minor": 5
}
