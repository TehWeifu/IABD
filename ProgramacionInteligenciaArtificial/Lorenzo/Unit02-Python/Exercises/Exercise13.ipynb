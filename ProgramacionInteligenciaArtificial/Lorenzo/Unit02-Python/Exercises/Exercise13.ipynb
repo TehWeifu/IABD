{
 "cells": [
  {
   "cell_type": "markdown",
   "source": [
    "Ejercicio 13\n",
    "Modifica el ejercicio anterior de forma que el código esté en una función llamada compile_fit que haga lo mismo y retorne el objeto model.\n",
    "\n",
    "Prueba a llamar a la función con los siguientes datos\n",
    "\n",
    "\n",
    "capas_red1=[6,12,6,1]\n",
    "model1=compile_fit(capas_red1,x,y)\n",
    " \n",
    "capas_red2=[8,16,8,1]\n",
    "model2=compile_fit(capas_red2,x,y)\n",
    "Además, encapsula la obtención de los datos en la función get_datos\n",
    "\n",
    "x,y=get_datos()"
   ],
   "metadata": {
    "collapsed": false
   },
   "id": "1280b9d77c346e57"
  },
  {
   "cell_type": "code",
   "outputs": [],
   "source": [
    "import random\n",
    "\n",
    "import numpy as np\n",
    "import tensorflow as tf\n",
    "from keras.layers import Dense\n",
    "from keras.models import Sequential\n",
    "from sklearn.datasets import load_iris\n"
   ],
   "metadata": {
    "collapsed": false,
    "ExecuteTime": {
     "end_time": "2024-02-01T18:11:20.167915700Z",
     "start_time": "2024-02-01T18:11:20.164945200Z"
    }
   },
   "id": "d12d747840a69ac3",
   "execution_count": 8
  },
  {
   "cell_type": "code",
   "outputs": [],
   "source": [
    "def get_datos():\n",
    "    iris = load_iris()\n",
    "\n",
    "    sepal_length = iris.data[0:99, 0]\n",
    "    petal_length = iris.data[0:99, 2]\n",
    "    flower_type = iris.target[0:99]\n",
    "\n",
    "    x = np.column_stack((sepal_length, petal_length))\n",
    "    y = flower_type\n",
    "\n",
    "    return x, y"
   ],
   "metadata": {
    "collapsed": false,
    "ExecuteTime": {
     "end_time": "2024-02-01T18:11:20.179056300Z",
     "start_time": "2024-02-01T18:11:20.169920400Z"
    }
   },
   "id": "8d9635d73586285e",
   "execution_count": 9
  },
  {
   "cell_type": "code",
   "outputs": [],
   "source": [
    "def compile_fit(layers, x, y):\n",
    "    model = Sequential()\n",
    "\n",
    "    for idx, layer in enumerate(layers):\n",
    "        if idx == 0:\n",
    "            model.add(Dense(layer, activation='relu', input_dim=2))\n",
    "        elif idx == len(layers) - 1:\n",
    "            model.add(Dense(layer, activation='sigmoid'))\n",
    "        else:\n",
    "            model.add(Dense(layer, activation='relu'))\n",
    "\n",
    "    model.compile(loss='mean_squared_error')\n",
    "    model.fit(x, y, epochs=40)\n",
    "    return model\n"
   ],
   "metadata": {
    "collapsed": false,
    "ExecuteTime": {
     "end_time": "2024-02-01T18:11:20.201489Z",
     "start_time": "2024-02-01T18:11:20.178055800Z"
    }
   },
   "id": "381d7650c8eac93f",
   "execution_count": 10
  },
  {
   "cell_type": "code",
   "outputs": [],
   "source": [
    "np.random.seed(5)\n",
    "tf.random.set_seed(5)\n",
    "random.seed(5)"
   ],
   "metadata": {
    "collapsed": false,
    "ExecuteTime": {
     "end_time": "2024-02-01T18:11:20.201489Z",
     "start_time": "2024-02-01T18:11:20.185235Z"
    }
   },
   "id": "2c73e9b722d0fba0",
   "execution_count": 11
  },
  {
   "cell_type": "code",
   "outputs": [],
   "source": [
    "capas = [6, 12, 6, 1]"
   ],
   "metadata": {
    "collapsed": false,
    "ExecuteTime": {
     "end_time": "2024-02-01T18:11:20.207509200Z",
     "start_time": "2024-02-01T18:11:20.196700700Z"
    }
   },
   "id": "8084c090f5f7d78e",
   "execution_count": 12
  },
  {
   "cell_type": "code",
   "outputs": [],
   "source": [
    "x, y = get_datos()"
   ],
   "metadata": {
    "collapsed": false,
    "ExecuteTime": {
     "end_time": "2024-02-01T18:11:20.211717200Z",
     "start_time": "2024-02-01T18:11:20.204501100Z"
    }
   },
   "id": "6dcb43a278134e82",
   "execution_count": 13
  },
  {
   "cell_type": "code",
   "outputs": [
    {
     "name": "stdout",
     "output_type": "stream",
     "text": [
      "Epoch 1/40\n",
      "4/4 [==============================] - 0s 3ms/step - loss: 0.2429\n",
      "Epoch 2/40\n",
      "4/4 [==============================] - 0s 2ms/step - loss: 0.2381\n",
      "Epoch 3/40\n",
      "4/4 [==============================] - 0s 2ms/step - loss: 0.2355\n",
      "Epoch 4/40\n",
      "4/4 [==============================] - 0s 2ms/step - loss: 0.2317\n",
      "Epoch 5/40\n",
      "4/4 [==============================] - 0s 2ms/step - loss: 0.2287\n",
      "Epoch 6/40\n",
      "4/4 [==============================] - 0s 2ms/step - loss: 0.2274\n",
      "Epoch 7/40\n",
      "4/4 [==============================] - 0s 2ms/step - loss: 0.2247\n",
      "Epoch 8/40\n",
      "4/4 [==============================] - 0s 2ms/step - loss: 0.2219\n",
      "Epoch 9/40\n",
      "4/4 [==============================] - 0s 2ms/step - loss: 0.2198\n",
      "Epoch 10/40\n",
      "4/4 [==============================] - 0s 2ms/step - loss: 0.2185\n",
      "Epoch 11/40\n",
      "4/4 [==============================] - 0s 2ms/step - loss: 0.2169\n",
      "Epoch 12/40\n",
      "4/4 [==============================] - 0s 2ms/step - loss: 0.2149\n",
      "Epoch 13/40\n",
      "4/4 [==============================] - 0s 2ms/step - loss: 0.2120\n",
      "Epoch 14/40\n",
      "4/4 [==============================] - 0s 1ms/step - loss: 0.2100\n",
      "Epoch 15/40\n",
      "4/4 [==============================] - 0s 2ms/step - loss: 0.2075\n",
      "Epoch 16/40\n",
      "4/4 [==============================] - 0s 2ms/step - loss: 0.2039\n",
      "Epoch 17/40\n",
      "4/4 [==============================] - 0s 2ms/step - loss: 0.2010\n",
      "Epoch 18/40\n",
      "4/4 [==============================] - 0s 3ms/step - loss: 0.1984\n",
      "Epoch 19/40\n",
      "4/4 [==============================] - 0s 3ms/step - loss: 0.1957\n",
      "Epoch 20/40\n",
      "4/4 [==============================] - 0s 2ms/step - loss: 0.1941\n",
      "Epoch 21/40\n",
      "4/4 [==============================] - 0s 1ms/step - loss: 0.1913\n",
      "Epoch 22/40\n",
      "4/4 [==============================] - 0s 2ms/step - loss: 0.1890\n",
      "Epoch 23/40\n",
      "4/4 [==============================] - 0s 2ms/step - loss: 0.1859\n",
      "Epoch 24/40\n",
      "4/4 [==============================] - 0s 2ms/step - loss: 0.1833\n",
      "Epoch 25/40\n",
      "4/4 [==============================] - 0s 2ms/step - loss: 0.1816\n",
      "Epoch 26/40\n",
      "4/4 [==============================] - 0s 2ms/step - loss: 0.1798\n",
      "Epoch 27/40\n",
      "4/4 [==============================] - 0s 1ms/step - loss: 0.1766\n",
      "Epoch 28/40\n",
      "4/4 [==============================] - 0s 1ms/step - loss: 0.1731\n",
      "Epoch 29/40\n",
      "4/4 [==============================] - 0s 2ms/step - loss: 0.1689\n",
      "Epoch 30/40\n",
      "4/4 [==============================] - 0s 2ms/step - loss: 0.1660\n",
      "Epoch 31/40\n",
      "4/4 [==============================] - 0s 2ms/step - loss: 0.1628\n",
      "Epoch 32/40\n",
      "4/4 [==============================] - 0s 2ms/step - loss: 0.1602\n",
      "Epoch 33/40\n",
      "4/4 [==============================] - 0s 2ms/step - loss: 0.1569\n",
      "Epoch 34/40\n",
      "4/4 [==============================] - 0s 2ms/step - loss: 0.1536\n",
      "Epoch 35/40\n",
      "4/4 [==============================] - 0s 2ms/step - loss: 0.1505\n",
      "Epoch 36/40\n",
      "4/4 [==============================] - 0s 1ms/step - loss: 0.1482\n",
      "Epoch 37/40\n",
      "4/4 [==============================] - 0s 2ms/step - loss: 0.1447\n",
      "Epoch 38/40\n",
      "4/4 [==============================] - 0s 2ms/step - loss: 0.1418\n",
      "Epoch 39/40\n",
      "4/4 [==============================] - 0s 2ms/step - loss: 0.1376\n",
      "Epoch 40/40\n",
      "4/4 [==============================] - 0s 1ms/step - loss: 0.1346\n",
      "Epoch 1/40\n",
      "4/4 [==============================] - 0s 2ms/step - loss: 0.2319\n",
      "Epoch 2/40\n",
      "4/4 [==============================] - 0s 1ms/step - loss: 0.2192\n",
      "Epoch 3/40\n",
      "4/4 [==============================] - 0s 2ms/step - loss: 0.2086\n",
      "Epoch 4/40\n",
      "4/4 [==============================] - 0s 2ms/step - loss: 0.1985\n",
      "Epoch 5/40\n",
      "4/4 [==============================] - 0s 2ms/step - loss: 0.1897\n",
      "Epoch 6/40\n",
      "4/4 [==============================] - 0s 2ms/step - loss: 0.1852\n",
      "Epoch 7/40\n",
      "4/4 [==============================] - 0s 2ms/step - loss: 0.1763\n",
      "Epoch 8/40\n",
      "4/4 [==============================] - 0s 2ms/step - loss: 0.1680\n",
      "Epoch 9/40\n",
      "4/4 [==============================] - 0s 2ms/step - loss: 0.1621\n",
      "Epoch 10/40\n",
      "4/4 [==============================] - 0s 4ms/step - loss: 0.1600\n",
      "Epoch 11/40\n",
      "4/4 [==============================] - 0s 2ms/step - loss: 0.1531\n",
      "Epoch 12/40\n",
      "4/4 [==============================] - 0s 2ms/step - loss: 0.1462\n",
      "Epoch 13/40\n",
      "4/4 [==============================] - 0s 2ms/step - loss: 0.1385\n",
      "Epoch 14/40\n",
      "4/4 [==============================] - 0s 2ms/step - loss: 0.1331\n",
      "Epoch 15/40\n",
      "4/4 [==============================] - 0s 1ms/step - loss: 0.1268\n",
      "Epoch 16/40\n",
      "4/4 [==============================] - 0s 2ms/step - loss: 0.1194\n",
      "Epoch 17/40\n",
      "4/4 [==============================] - 0s 2ms/step - loss: 0.1128\n",
      "Epoch 18/40\n",
      "4/4 [==============================] - 0s 2ms/step - loss: 0.1071\n",
      "Epoch 19/40\n",
      "4/4 [==============================] - 0s 2ms/step - loss: 0.1007\n",
      "Epoch 20/40\n",
      "4/4 [==============================] - 0s 2ms/step - loss: 0.0970\n",
      "Epoch 21/40\n",
      "4/4 [==============================] - 0s 2ms/step - loss: 0.0906\n",
      "Epoch 22/40\n",
      "4/4 [==============================] - 0s 2ms/step - loss: 0.0869\n",
      "Epoch 23/40\n",
      "4/4 [==============================] - 0s 2ms/step - loss: 0.0813\n",
      "Epoch 24/40\n",
      "4/4 [==============================] - 0s 2ms/step - loss: 0.0769\n",
      "Epoch 25/40\n",
      "4/4 [==============================] - 0s 2ms/step - loss: 0.0750\n",
      "Epoch 26/40\n",
      "4/4 [==============================] - 0s 2ms/step - loss: 0.0710\n",
      "Epoch 27/40\n",
      "4/4 [==============================] - 0s 2ms/step - loss: 0.0656\n",
      "Epoch 28/40\n",
      "4/4 [==============================] - 0s 2ms/step - loss: 0.0615\n",
      "Epoch 29/40\n",
      "4/4 [==============================] - 0s 1ms/step - loss: 0.0582\n",
      "Epoch 30/40\n",
      "4/4 [==============================] - 0s 2ms/step - loss: 0.0555\n",
      "Epoch 31/40\n",
      "4/4 [==============================] - 0s 2ms/step - loss: 0.0522\n",
      "Epoch 32/40\n",
      "4/4 [==============================] - 0s 2ms/step - loss: 0.0492\n",
      "Epoch 33/40\n",
      "4/4 [==============================] - 0s 2ms/step - loss: 0.0459\n",
      "Epoch 34/40\n",
      "4/4 [==============================] - 0s 2ms/step - loss: 0.0429\n",
      "Epoch 35/40\n",
      "4/4 [==============================] - 0s 2ms/step - loss: 0.0401\n",
      "Epoch 36/40\n",
      "4/4 [==============================] - 0s 1ms/step - loss: 0.0386\n",
      "Epoch 37/40\n",
      "4/4 [==============================] - 0s 1ms/step - loss: 0.0351\n",
      "Epoch 38/40\n",
      "4/4 [==============================] - 0s 2ms/step - loss: 0.0329\n",
      "Epoch 39/40\n",
      "4/4 [==============================] - 0s 1ms/step - loss: 0.0301\n",
      "Epoch 40/40\n",
      "4/4 [==============================] - 0s 2ms/step - loss: 0.0279\n"
     ]
    }
   ],
   "source": [
    "capas_red1 = [6, 12, 6, 1]\n",
    "model1 = compile_fit(capas_red1, x, y)\n",
    "\n",
    "capas_red2 = [8, 16, 8, 1]\n",
    "model2 = compile_fit(capas_red2, x, y)"
   ],
   "metadata": {
    "collapsed": false,
    "ExecuteTime": {
     "end_time": "2024-02-01T18:11:22.072312400Z",
     "start_time": "2024-02-01T18:11:20.211717200Z"
    }
   },
   "id": "6d1f6c40681ce5c9",
   "execution_count": 14
  }
 ],
 "metadata": {
  "kernelspec": {
   "display_name": "Python 3",
   "language": "python",
   "name": "python3"
  },
  "language_info": {
   "codemirror_mode": {
    "name": "ipython",
    "version": 2
   },
   "file_extension": ".py",
   "mimetype": "text/x-python",
   "name": "python",
   "nbconvert_exporter": "python",
   "pygments_lexer": "ipython2",
   "version": "2.7.6"
  }
 },
 "nbformat": 4,
 "nbformat_minor": 5
}
