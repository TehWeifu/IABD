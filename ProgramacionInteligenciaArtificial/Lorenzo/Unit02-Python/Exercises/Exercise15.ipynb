{
 "cells": [
  {
   "cell_type": "markdown",
   "source": [
    "Ejercicio 15\n",
    "Modifica el ejercicio anterior para que el método compile_fit retorna además del objeto model , el tiempo en segundos (con 2 decimales) que ha tardado en ejecutarse el método fit\n",
    "\n",
    "Y que en la tabla se muestre también el tiempo"
   ],
   "metadata": {
    "collapsed": false
   },
   "id": "1280b9d77c346e57"
  },
  {
   "cell_type": "code",
   "outputs": [],
   "source": [
    "import random\n",
    "\n",
    "import numpy as np\n",
    "import tensorflow as tf\n",
    "from keras.layers import Dense\n",
    "from keras.models import Sequential\n",
    "from sklearn.datasets import load_iris\n",
    "from tabulate import tabulate\n",
    "import time\n"
   ],
   "metadata": {
    "collapsed": false,
    "ExecuteTime": {
     "end_time": "2024-02-01T18:29:21.080458Z",
     "start_time": "2024-02-01T18:29:18.052972500Z"
    }
   },
   "id": "d12d747840a69ac3",
   "execution_count": 1
  },
  {
   "cell_type": "code",
   "outputs": [],
   "source": [
    "def get_datos():\n",
    "    iris = load_iris()\n",
    "\n",
    "    sepal_length = iris.data[0:99, 0]\n",
    "    petal_length = iris.data[0:99, 2]\n",
    "    flower_type = iris.target[0:99]\n",
    "\n",
    "    x = np.column_stack((sepal_length, petal_length))\n",
    "    y = flower_type\n",
    "\n",
    "    return x, y"
   ],
   "metadata": {
    "collapsed": false,
    "ExecuteTime": {
     "end_time": "2024-02-01T18:29:21.088357100Z",
     "start_time": "2024-02-01T18:29:21.080458Z"
    }
   },
   "id": "8d9635d73586285e",
   "execution_count": 2
  },
  {
   "cell_type": "code",
   "outputs": [],
   "source": [
    "def compile_fit(layers, x, y):\n",
    "    model = Sequential()\n",
    "\n",
    "    for idx, layer in enumerate(layers):\n",
    "        if idx == 0:\n",
    "            model.add(Dense(layer, activation='relu', input_dim=2))\n",
    "        elif idx == len(layers) - 1:\n",
    "            model.add(Dense(layer, activation='sigmoid'))\n",
    "        else:\n",
    "            model.add(Dense(layer, activation='relu'))\n",
    "\n",
    "    model.compile(loss='mean_squared_error')\n",
    "\n",
    "    mark1 = time.time()\n",
    "    model.fit(x, y, epochs=40, verbose=False)\n",
    "    mark2 = time.time()\n",
    "\n",
    "    time_elapsed = mark2 - mark1\n",
    "\n",
    "    return model, time_elapsed\n"
   ],
   "metadata": {
    "collapsed": false,
    "ExecuteTime": {
     "end_time": "2024-02-01T18:29:21.095220700Z",
     "start_time": "2024-02-01T18:29:21.085349400Z"
    }
   },
   "id": "381d7650c8eac93f",
   "execution_count": 3
  },
  {
   "cell_type": "code",
   "outputs": [],
   "source": [
    "np.random.seed(5)\n",
    "tf.random.set_seed(5)\n",
    "random.seed(5)"
   ],
   "metadata": {
    "collapsed": false,
    "ExecuteTime": {
     "end_time": "2024-02-01T18:29:21.104283400Z",
     "start_time": "2024-02-01T18:29:21.092940200Z"
    }
   },
   "id": "2c73e9b722d0fba0",
   "execution_count": 4
  },
  {
   "cell_type": "code",
   "outputs": [],
   "source": [
    "x, y = get_datos()"
   ],
   "metadata": {
    "collapsed": false,
    "ExecuteTime": {
     "end_time": "2024-02-01T18:29:21.112254700Z",
     "start_time": "2024-02-01T18:29:21.099691400Z"
    }
   },
   "id": "f3b243452eec622a",
   "execution_count": 5
  },
  {
   "cell_type": "code",
   "outputs": [],
   "source": [
    "redes = [\n",
    "    [2, 4, 1],\n",
    "    [4, 8, 8, 2, 1],\n",
    "    [8, 12, 24, 12, 1],\n",
    "    [8, 16, 8, 1],\n",
    "    [16, 32, 1],\n",
    "]"
   ],
   "metadata": {
    "collapsed": false,
    "ExecuteTime": {
     "end_time": "2024-02-01T18:29:21.112254700Z",
     "start_time": "2024-02-01T18:29:21.107171100Z"
    }
   },
   "id": "8084c090f5f7d78e",
   "execution_count": 6
  },
  {
   "cell_type": "code",
   "outputs": [
    {
     "name": "stdout",
     "output_type": "stream",
     "text": [
      "1/1 [==============================] - 0s 63ms/step\n",
      "1/1 [==============================] - 0s 50ms/step\n",
      "1/1 [==============================] - 0s 49ms/step\n",
      "1/1 [==============================] - 0s 45ms/step\n",
      "WARNING:tensorflow:5 out of the last 5 calls to <function Model.make_predict_function.<locals>.predict_function at 0x0000026FB7A33E20> triggered tf.function retracing. Tracing is expensive and the excessive number of tracings could be due to (1) creating @tf.function repeatedly in a loop, (2) passing tensors with different shapes, (3) passing Python objects instead of tensors. For (1), please define your @tf.function outside of the loop. For (2), @tf.function has reduce_retracing=True option that can avoid unnecessary retracing. For (3), please refer to https://www.tensorflow.org/guide/function#controlling_retracing and https://www.tensorflow.org/api_docs/python/tf/function for  more details.\n",
      "1/1 [==============================] - 0s 45ms/step\n"
     ]
    }
   ],
   "source": [
    "results = []\n",
    "\n",
    "for idx, net in enumerate(redes):\n",
    "    model, fit_time = compile_fit(net, x, y)\n",
    "    predictions = model.predict([[4.9, 1.4], [6.3, 4.9]])\n",
    "    results.append(\n",
    "        [idx + 1, predictions[0][0], predictions[1][0], fit_time]\n",
    "    )"
   ],
   "metadata": {
    "collapsed": false,
    "ExecuteTime": {
     "end_time": "2024-02-01T18:29:24.019315400Z",
     "start_time": "2024-02-01T18:29:21.111750100Z"
    }
   },
   "id": "6dcb43a278134e82",
   "execution_count": 7
  },
  {
   "cell_type": "code",
   "outputs": [
    {
     "name": "stdout",
     "output_type": "stream",
     "text": [
      "  Red    Result 1    Result2    Tiempo (s)\n",
      "-----  ----------  ---------  ------------\n",
      "    1   0.426559    0.392889      0.449298\n",
      "    2   0.442382    0.506411      0.485024\n",
      "    3   0.0372478   0.99031       0.474021\n",
      "    4   0.115833    0.93582       0.561946\n",
      "    5   0.168291    0.870888      0.388949\n"
     ]
    }
   ],
   "source": [
    "print(tabulate(results, headers=[\"Red\", \"Result 1\", \"Result2\", \"Tiempo (s)\"]))"
   ],
   "metadata": {
    "collapsed": false,
    "ExecuteTime": {
     "end_time": "2024-02-01T18:29:24.026968500Z",
     "start_time": "2024-02-01T18:29:24.019315400Z"
    }
   },
   "id": "8dde2a32d496b019",
   "execution_count": 8
  }
 ],
 "metadata": {
  "kernelspec": {
   "display_name": "Python 3",
   "language": "python",
   "name": "python3"
  },
  "language_info": {
   "codemirror_mode": {
    "name": "ipython",
    "version": 2
   },
   "file_extension": ".py",
   "mimetype": "text/x-python",
   "name": "python",
   "nbconvert_exporter": "python",
   "pygments_lexer": "ipython2",
   "version": "2.7.6"
  }
 },
 "nbformat": 4,
 "nbformat_minor": 5
}
