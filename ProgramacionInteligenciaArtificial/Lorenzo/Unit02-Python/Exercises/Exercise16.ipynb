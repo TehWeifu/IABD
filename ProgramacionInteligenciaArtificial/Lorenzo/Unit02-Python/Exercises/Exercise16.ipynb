{
 "cells": [
  {
   "cell_type": "markdown",
   "source": [
    "Ejercicio 16\n",
    "Modifica el ejercicio anterior pero ahora modifica en el array de cada red para que la columna Red sea el nombre de la red para que podamos saber cual es cada una. El nombre será las neuronas de cada capa"
   ],
   "metadata": {
    "collapsed": false
   },
   "id": "1280b9d77c346e57"
  },
  {
   "cell_type": "code",
   "outputs": [],
   "source": [
    "import random\n",
    "import time\n",
    "\n",
    "import numpy as np\n",
    "import tensorflow as tf\n",
    "from keras.layers import Dense\n",
    "from keras.models import Sequential\n",
    "from sklearn.datasets import load_iris\n",
    "from tabulate import tabulate\n"
   ],
   "metadata": {
    "collapsed": false,
    "ExecuteTime": {
     "end_time": "2024-02-01T18:32:26.826200100Z",
     "start_time": "2024-02-01T18:32:26.816493900Z"
    }
   },
   "id": "d12d747840a69ac3",
   "execution_count": 12
  },
  {
   "cell_type": "code",
   "outputs": [],
   "source": [
    "def get_datos():\n",
    "    iris = load_iris()\n",
    "\n",
    "    sepal_length = iris.data[0:99, 0]\n",
    "    petal_length = iris.data[0:99, 2]\n",
    "    flower_type = iris.target[0:99]\n",
    "\n",
    "    x = np.column_stack((sepal_length, petal_length))\n",
    "    y = flower_type\n",
    "\n",
    "    return x, y"
   ],
   "metadata": {
    "collapsed": false,
    "ExecuteTime": {
     "end_time": "2024-02-01T18:32:26.827202700Z",
     "start_time": "2024-02-01T18:32:26.818592Z"
    }
   },
   "id": "8d9635d73586285e",
   "execution_count": 13
  },
  {
   "cell_type": "code",
   "outputs": [],
   "source": [
    "def compile_fit(layers, x, y):\n",
    "    model = Sequential()\n",
    "\n",
    "    for idx, layer in enumerate(layers):\n",
    "        if idx == 0:\n",
    "            model.add(Dense(layer, activation='relu', input_dim=2))\n",
    "        elif idx == len(layers) - 1:\n",
    "            model.add(Dense(layer, activation='sigmoid'))\n",
    "        else:\n",
    "            model.add(Dense(layer, activation='relu'))\n",
    "\n",
    "    model.compile(loss='mean_squared_error')\n",
    "\n",
    "    mark1 = time.time()\n",
    "    model.fit(x, y, epochs=40, verbose=False)\n",
    "    mark2 = time.time()\n",
    "\n",
    "    time_elapsed = mark2 - mark1\n",
    "\n",
    "    return model, time_elapsed\n"
   ],
   "metadata": {
    "collapsed": false,
    "ExecuteTime": {
     "end_time": "2024-02-01T18:32:26.835840400Z",
     "start_time": "2024-02-01T18:32:26.825196400Z"
    }
   },
   "id": "381d7650c8eac93f",
   "execution_count": 14
  },
  {
   "cell_type": "code",
   "outputs": [],
   "source": [
    "np.random.seed(5)\n",
    "tf.random.set_seed(5)\n",
    "random.seed(5)"
   ],
   "metadata": {
    "collapsed": false,
    "ExecuteTime": {
     "end_time": "2024-02-01T18:32:26.858374400Z",
     "start_time": "2024-02-01T18:32:26.832606200Z"
    }
   },
   "id": "2c73e9b722d0fba0",
   "execution_count": 15
  },
  {
   "cell_type": "code",
   "outputs": [],
   "source": [
    "x, y = get_datos()"
   ],
   "metadata": {
    "collapsed": false,
    "ExecuteTime": {
     "end_time": "2024-02-01T18:32:26.859697600Z",
     "start_time": "2024-02-01T18:32:26.853537500Z"
    }
   },
   "id": "f3b243452eec622a",
   "execution_count": 16
  },
  {
   "cell_type": "code",
   "outputs": [],
   "source": [
    "redes = [\n",
    "    [2, 4, 1],\n",
    "    [4, 8, 8, 2, 1],\n",
    "    [8, 12, 24, 12, 1],\n",
    "    [8, 16, 8, 1],\n",
    "    [16, 32, 1],\n",
    "]"
   ],
   "metadata": {
    "collapsed": false,
    "ExecuteTime": {
     "end_time": "2024-02-01T18:32:26.875631700Z",
     "start_time": "2024-02-01T18:32:26.860700900Z"
    }
   },
   "id": "8084c090f5f7d78e",
   "execution_count": 17
  },
  {
   "cell_type": "code",
   "outputs": [
    {
     "name": "stdout",
     "output_type": "stream",
     "text": [
      "1/1 [==============================] - 0s 42ms/step\n",
      "1/1 [==============================] - 0s 47ms/step\n",
      "1/1 [==============================] - 0s 48ms/step\n",
      "1/1 [==============================] - 0s 46ms/step\n",
      "1/1 [==============================] - 0s 42ms/step\n"
     ]
    }
   ],
   "source": [
    "results = []\n",
    "\n",
    "for idx, net in enumerate(redes):\n",
    "    model, fit_time = compile_fit(net, x, y)\n",
    "    predictions = model.predict([[4.9, 1.4], [6.3, 4.9]])\n",
    "    net_strings = \",\".join(str(x) for x in net)\n",
    "    results.append(\n",
    "        [net_strings, predictions[0][0], predictions[1][0], fit_time]\n",
    "    )"
   ],
   "metadata": {
    "collapsed": false,
    "ExecuteTime": {
     "end_time": "2024-02-01T18:36:42.886744800Z",
     "start_time": "2024-02-01T18:36:40.242150300Z"
    }
   },
   "id": "6dcb43a278134e82",
   "execution_count": 24
  },
  {
   "cell_type": "code",
   "outputs": [
    {
     "name": "stdout",
     "output_type": "stream",
     "text": [
      "Red             Result 1    Result2    Tiempo (s)\n",
      "------------  ----------  ---------  ------------\n",
      "2,4,1           0.502809   0.502809      0.439449\n",
      "4,8,8,2,1       0.421653   0.509247      0.471187\n",
      "8,12,24,12,1    0.458913   0.759016      0.466602\n",
      "8,16,8,1        0.430894   0.784743      0.431647\n",
      "16,32,1         0.31405    0.743378      0.385508\n"
     ]
    }
   ],
   "source": [
    "print(tabulate(results, headers=[\"Red\", \"Result 1\", \"Result2\", \"Tiempo (s)\"]))"
   ],
   "metadata": {
    "collapsed": false,
    "ExecuteTime": {
     "end_time": "2024-02-01T18:36:47.199368600Z",
     "start_time": "2024-02-01T18:36:47.193832400Z"
    }
   },
   "id": "8dde2a32d496b019",
   "execution_count": 25
  }
 ],
 "metadata": {
  "kernelspec": {
   "display_name": "Python 3",
   "language": "python",
   "name": "python3"
  },
  "language_info": {
   "codemirror_mode": {
    "name": "ipython",
    "version": 2
   },
   "file_extension": ".py",
   "mimetype": "text/x-python",
   "name": "python",
   "nbconvert_exporter": "python",
   "pygments_lexer": "ipython2",
   "version": "2.7.6"
  }
 },
 "nbformat": 4,
 "nbformat_minor": 5
}
