{
 "cells": [
  {
   "cell_type": "markdown",
   "source": [
    "Ejercicio 17\n",
    "Modifica el ejercicio anterior pero ahora incluye en el array de cada red un nuevo campo con el número de épocas con las que se ha entrenado.\n",
    "\n",
    "Por ello , deberás incluir un nuevo valor para cada red que será el número de épocas a entrenar.\n",
    "\n",
    "Ejemplo:\n",
    "redes=[  [[2,  4 , 1], 30] , [[4,  8, 8, 2, 1], 34]  ]\n",
    "\n",
    "El último elemento de cada array en el número de épocas que se va a entrenar la red."
   ],
   "metadata": {
    "collapsed": false
   },
   "id": "1280b9d77c346e57"
  },
  {
   "cell_type": "code",
   "outputs": [
    {
     "name": "stdout",
     "output_type": "stream",
     "text": [
      "WARNING:tensorflow:From C:\\Users\\JulianBSL\\AppData\\Local\\Programs\\Python\\Python311\\Lib\\site-packages\\keras\\src\\losses.py:2976: The name tf.losses.sparse_softmax_cross_entropy is deprecated. Please use tf.compat.v1.losses.sparse_softmax_cross_entropy instead.\n"
     ]
    }
   ],
   "source": [
    "import random\n",
    "import time\n",
    "\n",
    "import numpy as np\n",
    "import tensorflow as tf\n",
    "from keras.layers import Dense\n",
    "from keras.models import Sequential\n",
    "from sklearn.datasets import load_iris\n",
    "from tabulate import tabulate\n"
   ],
   "metadata": {
    "collapsed": false,
    "ExecuteTime": {
     "end_time": "2024-02-01T21:21:48.144406500Z",
     "start_time": "2024-02-01T21:21:31.114475900Z"
    }
   },
   "id": "d12d747840a69ac3",
   "execution_count": 1
  },
  {
   "cell_type": "code",
   "outputs": [],
   "source": [
    "def get_datos():\n",
    "    iris = load_iris()\n",
    "\n",
    "    sepal_length = iris.data[0:99, 0]\n",
    "    petal_length = iris.data[0:99, 2]\n",
    "    flower_type = iris.target[0:99]\n",
    "\n",
    "    x = np.column_stack((sepal_length, petal_length))\n",
    "    y = flower_type\n",
    "\n",
    "    return x, y"
   ],
   "metadata": {
    "collapsed": false,
    "ExecuteTime": {
     "end_time": "2024-02-01T21:21:48.152179300Z",
     "start_time": "2024-02-01T21:21:48.148173500Z"
    }
   },
   "id": "8d9635d73586285e",
   "execution_count": 2
  },
  {
   "cell_type": "code",
   "outputs": [],
   "source": [
    "def compile_fit(net, x, y):\n",
    "    layers = net[0]\n",
    "    epochs = net[1]\n",
    "    model = Sequential()\n",
    "\n",
    "    for idx, layer in enumerate(layers):\n",
    "        if idx == 0:\n",
    "            model.add(Dense(layer, activation='relu', input_dim=2))\n",
    "        elif idx == len(layers) - 1:\n",
    "            model.add(Dense(layer, activation='sigmoid'))\n",
    "        else:\n",
    "            model.add(Dense(layer, activation='relu'))\n",
    "\n",
    "    model.compile(loss='mean_squared_error')\n",
    "\n",
    "    mark1 = time.time()\n",
    "    model.fit(x, y, epochs=epochs, verbose=False)\n",
    "    mark2 = time.time()\n",
    "\n",
    "    time_elapsed = mark2 - mark1\n",
    "\n",
    "    return model, time_elapsed\n"
   ],
   "metadata": {
    "collapsed": false,
    "ExecuteTime": {
     "end_time": "2024-02-01T21:21:48.161555Z",
     "start_time": "2024-02-01T21:21:48.153211200Z"
    }
   },
   "id": "381d7650c8eac93f",
   "execution_count": 3
  },
  {
   "cell_type": "code",
   "outputs": [],
   "source": [
    "np.random.seed(5)\n",
    "tf.random.set_seed(5)\n",
    "random.seed(5)"
   ],
   "metadata": {
    "collapsed": false,
    "ExecuteTime": {
     "end_time": "2024-02-01T21:21:48.171872700Z",
     "start_time": "2024-02-01T21:21:48.158555900Z"
    }
   },
   "id": "2c73e9b722d0fba0",
   "execution_count": 4
  },
  {
   "cell_type": "code",
   "outputs": [],
   "source": [
    "x, y = get_datos()"
   ],
   "metadata": {
    "collapsed": false,
    "ExecuteTime": {
     "end_time": "2024-02-01T21:21:48.203623800Z",
     "start_time": "2024-02-01T21:21:48.174872300Z"
    }
   },
   "id": "f3b243452eec622a",
   "execution_count": 5
  },
  {
   "cell_type": "code",
   "outputs": [],
   "source": [
    "redes = [\n",
    "    [[2, 4, 1], 30],\n",
    "    [[4, 8, 8, 2, 1], 34],\n",
    "    [[8, 12, 24, 12, 1], 26],\n",
    "    [[8, 16, 8, 1], 28],\n",
    "    [[16, 32, 1], 20],\n",
    "]"
   ],
   "metadata": {
    "collapsed": false,
    "ExecuteTime": {
     "end_time": "2024-02-01T21:21:48.204624400Z",
     "start_time": "2024-02-01T21:21:48.201617900Z"
    }
   },
   "id": "8084c090f5f7d78e",
   "execution_count": 6
  },
  {
   "cell_type": "code",
   "outputs": [
    {
     "name": "stdout",
     "output_type": "stream",
     "text": [
      "WARNING:tensorflow:From C:\\Users\\JulianBSL\\AppData\\Local\\Programs\\Python\\Python311\\Lib\\site-packages\\keras\\src\\backend.py:873: The name tf.get_default_graph is deprecated. Please use tf.compat.v1.get_default_graph instead.\n",
      "WARNING:tensorflow:From C:\\Users\\JulianBSL\\AppData\\Local\\Programs\\Python\\Python311\\Lib\\site-packages\\keras\\src\\optimizers\\__init__.py:309: The name tf.train.Optimizer is deprecated. Please use tf.compat.v1.train.Optimizer instead.\n",
      "WARNING:tensorflow:From C:\\Users\\JulianBSL\\AppData\\Local\\Programs\\Python\\Python311\\Lib\\site-packages\\keras\\src\\utils\\tf_utils.py:492: The name tf.ragged.RaggedTensorValue is deprecated. Please use tf.compat.v1.ragged.RaggedTensorValue instead.\n",
      "1/1 [==============================] - 0s 97ms/step\n",
      "1/1 [==============================] - 0s 84ms/step\n",
      "1/1 [==============================] - 0s 79ms/step\n",
      "1/1 [==============================] - 0s 75ms/step\n",
      "WARNING:tensorflow:5 out of the last 5 calls to <function Model.make_predict_function.<locals>.predict_function at 0x0000021F42A8ECA0> triggered tf.function retracing. Tracing is expensive and the excessive number of tracings could be due to (1) creating @tf.function repeatedly in a loop, (2) passing tensors with different shapes, (3) passing Python objects instead of tensors. For (1), please define your @tf.function outside of the loop. For (2), @tf.function has reduce_retracing=True option that can avoid unnecessary retracing. For (3), please refer to https://www.tensorflow.org/guide/function#controlling_retracing and https://www.tensorflow.org/api_docs/python/tf/function for  more details.\n",
      "1/1 [==============================] - 0s 91ms/step\n"
     ]
    }
   ],
   "source": [
    "results = []\n",
    "\n",
    "for idx, net in enumerate(redes):\n",
    "    model, fit_time = compile_fit(net, x, y)\n",
    "    predictions = model.predict([[4.9, 1.4], [6.3, 4.9]])\n",
    "    net_strings = \",\".join(str(x) for x in net[0])\n",
    "    results.append(\n",
    "        [net_strings, str(net[1]), predictions[0][0], predictions[1][0], fit_time]\n",
    "    )"
   ],
   "metadata": {
    "collapsed": false,
    "ExecuteTime": {
     "end_time": "2024-02-01T21:21:53.630080Z",
     "start_time": "2024-02-01T21:21:48.205623700Z"
    }
   },
   "id": "6dcb43a278134e82",
   "execution_count": 7
  },
  {
   "cell_type": "code",
   "outputs": [
    {
     "name": "stdout",
     "output_type": "stream",
     "text": [
      "Red             Epocas    Result 1    Result2    Tiempo (s)\n",
      "------------  --------  ----------  ---------  ------------\n",
      "2,4,1               30    0.377323   0.286696      1.29229\n",
      "4,8,8,2,1           34    0.461066   0.505767      0.729568\n",
      "8,12,24,12,1        26    0.118304   0.965754      0.667835\n",
      "8,16,8,1            28    0.219664   0.871642      0.606261\n",
      "16,32,1             20    0.37953    0.778862      0.549242\n"
     ]
    }
   ],
   "source": [
    "print(tabulate(results, headers=[\"Red\", \"Epocas\", \"Result 1\", \"Result2\", \"Tiempo (s)\"]))"
   ],
   "metadata": {
    "collapsed": false,
    "ExecuteTime": {
     "end_time": "2024-02-01T21:21:53.644598300Z",
     "start_time": "2024-02-01T21:21:53.633081100Z"
    }
   },
   "id": "8dde2a32d496b019",
   "execution_count": 8
  }
 ],
 "metadata": {
  "kernelspec": {
   "display_name": "Python 3",
   "language": "python",
   "name": "python3"
  },
  "language_info": {
   "codemirror_mode": {
    "name": "ipython",
    "version": 2
   },
   "file_extension": ".py",
   "mimetype": "text/x-python",
   "name": "python",
   "nbconvert_exporter": "python",
   "pygments_lexer": "ipython2",
   "version": "2.7.6"
  }
 },
 "nbformat": 4,
 "nbformat_minor": 5
}
