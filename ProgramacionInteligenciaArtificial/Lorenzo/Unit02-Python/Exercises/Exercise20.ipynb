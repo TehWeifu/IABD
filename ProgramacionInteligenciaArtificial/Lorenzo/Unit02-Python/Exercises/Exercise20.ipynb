{
 "cells": [
  {
   "cell_type": "markdown",
   "source": [
    "Ejercicio 20\n",
    "Crea una clase llamada CuentaBancaria.\n",
    "\n",
    "La clase debe tener los siguientes atributos:\n",
    "\n",
    "titular: el titular de la cuenta.\n",
    "saldo: el saldo actual de la cuenta.\n",
    "La clase debe tener los siguientes métodos:\n",
    "\n",
    "__init__: el método de inicialización que toma el titular como parámetro e inicializa el saldo en 0.\n",
    "depositar: un método que toma una cantidad como parámetro y la suma al saldo actual.\n",
    "retirar: un método que toma una cantidad como parámetro y la resta del saldo actual, pero verifica que haya suficiente saldo antes de realizar la operación.\n",
    "obtener_saldo: un método que devuelve el saldo actual de la cuenta.\n",
    "Usa la clase de forma que\n",
    "\n",
    "Se cree un objeto\n",
    "Se depositen 100€\n",
    "Se retiren 75€.\n",
    "Imprimas el titular y el saldo."
   ],
   "metadata": {
    "collapsed": false
   },
   "id": "43f66c2529724183"
  },
  {
   "cell_type": "code",
   "outputs": [],
   "source": [
    "class CuentaBancaria:\n",
    "\n",
    "    def __init__(self, titular):\n",
    "        self.titular = titular\n",
    "        self.saldo = 0\n",
    "\n",
    "    def depositar(self, cantidad):\n",
    "        self.saldo += cantidad\n",
    "\n",
    "    def retirar(self, cantiad):\n",
    "        if self.saldo - cantiad >= 0:\n",
    "            self.saldo -= cantiad\n",
    "\n",
    "    def obtener_saldo(self):\n",
    "        return self.saldo"
   ],
   "metadata": {
    "collapsed": false,
    "ExecuteTime": {
     "end_time": "2024-02-01T21:32:00.589259600Z",
     "start_time": "2024-02-01T21:32:00.562870300Z"
    }
   },
   "id": "79e5fbef1ed195a4",
   "execution_count": 2
  },
  {
   "cell_type": "code",
   "outputs": [
    {
     "name": "stdout",
     "output_type": "stream",
     "text": [
      "Titular cuenta: Cuenta millonaria\n",
      "Saldo cuenta: 25\n"
     ]
    }
   ],
   "source": [
    "mi_cuenta = CuentaBancaria(\"Cuenta millonaria\")\n",
    "mi_cuenta.depositar(100)\n",
    "mi_cuenta.retirar(75)\n",
    "print(f\"Titular cuenta: {mi_cuenta.titular}\")\n",
    "print(f\"Saldo cuenta: {mi_cuenta.obtener_saldo()}\")"
   ],
   "metadata": {
    "collapsed": false,
    "ExecuteTime": {
     "end_time": "2024-02-01T21:32:04.739209900Z",
     "start_time": "2024-02-01T21:32:04.736075200Z"
    }
   },
   "id": "c21d7e458829db0c",
   "execution_count": 4
  }
 ],
 "metadata": {
  "kernelspec": {
   "display_name": "Python 3",
   "language": "python",
   "name": "python3"
  },
  "language_info": {
   "codemirror_mode": {
    "name": "ipython",
    "version": 2
   },
   "file_extension": ".py",
   "mimetype": "text/x-python",
   "name": "python",
   "nbconvert_exporter": "python",
   "pygments_lexer": "ipython2",
   "version": "2.7.6"
  }
 },
 "nbformat": 4,
 "nbformat_minor": 5
}
