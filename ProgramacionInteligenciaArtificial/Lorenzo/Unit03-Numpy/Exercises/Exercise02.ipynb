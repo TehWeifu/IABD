{
 "cells": [
  {
   "cell_type": "markdown",
   "source": [
    "Ejercicio 2: arange"
   ],
   "metadata": {
    "collapsed": false
   },
   "id": "39a10b0725117d25"
  },
  {
   "cell_type": "markdown",
   "source": [
    "Crea una array de numpy con los siguiente números primos: 2, 3, 5, 7, 11, 13, 17, 19, 23, 29 pero que el array sea de tipo \"float\" de 32 bits."
   ],
   "metadata": {
    "collapsed": false
   },
   "id": "133064197c5a782"
  },
  {
   "cell_type": "code",
   "outputs": [],
   "source": [
    "import numpy as np\n",
    "\n",
    "primes = np.array([2, 3, 5, 7, 11, 13, 17, 19, 23, 29], dtype=np.float32)"
   ],
   "metadata": {
    "collapsed": false,
    "ExecuteTime": {
     "end_time": "2024-02-01T22:32:34.679387100Z",
     "start_time": "2024-02-01T22:32:34.579241700Z"
    }
   },
   "id": "72f702bb415aa473",
   "execution_count": 2
  },
  {
   "cell_type": "markdown",
   "source": [
    "Usando la función arange de numpy crea un array con los números del 100 al 200 pero sin incluir el 200. Muestra el resultado"
   ],
   "metadata": {
    "collapsed": false
   },
   "id": "b39b80205a11d968"
  },
  {
   "cell_type": "code",
   "outputs": [
    {
     "data": {
      "text/plain": "array([100, 101, 102, 103, 104, 105, 106, 107, 108, 109, 110, 111, 112,\n       113, 114, 115, 116, 117, 118, 119, 120, 121, 122, 123, 124, 125,\n       126, 127, 128, 129, 130, 131, 132, 133, 134, 135, 136, 137, 138,\n       139, 140, 141, 142, 143, 144, 145, 146, 147, 148, 149, 150, 151,\n       152, 153, 154, 155, 156, 157, 158, 159, 160, 161, 162, 163, 164,\n       165, 166, 167, 168, 169, 170, 171, 172, 173, 174, 175, 176, 177,\n       178, 179, 180, 181, 182, 183, 184, 185, 186, 187, 188, 189, 190,\n       191, 192, 193, 194, 195, 196, 197, 198, 199])"
     },
     "execution_count": 3,
     "metadata": {},
     "output_type": "execute_result"
    }
   ],
   "source": [
    "numbers = np.arange(100, 200)\n",
    "numbers"
   ],
   "metadata": {
    "collapsed": false,
    "ExecuteTime": {
     "end_time": "2024-02-01T22:32:34.688857500Z",
     "start_time": "2024-02-01T22:32:34.681388700Z"
    }
   },
   "id": "a1f0c8c66dc55fe0",
   "execution_count": 3
  },
  {
   "cell_type": "markdown",
   "source": [
    "Usando la función range estándar de Python crea un array con los números del 100 al 200 pero sin incluir el 200. Muestra el resultado. ¿Que diferencia hay con arange?"
   ],
   "metadata": {
    "collapsed": false
   },
   "id": "a00feee7c5eaea83"
  },
  {
   "cell_type": "code",
   "outputs": [
    {
     "data": {
      "text/plain": "103"
     },
     "execution_count": 8,
     "metadata": {},
     "output_type": "execute_result"
    }
   ],
   "source": [
    "numbers2 = range(100, 200)\n",
    "numbers2"
   ],
   "metadata": {
    "collapsed": false,
    "ExecuteTime": {
     "end_time": "2024-02-01T22:35:32.121382600Z",
     "start_time": "2024-02-01T22:35:32.118198400Z"
    }
   },
   "id": "c4052e8e788b96b3",
   "execution_count": 8
  },
  {
   "cell_type": "markdown",
   "source": [
    "numpy devuelve un array de numpy y el range estandar un objeto tipo range"
   ],
   "metadata": {
    "collapsed": false
   },
   "id": "9f545116f8fc40a1"
  }
 ],
 "metadata": {
  "kernelspec": {
   "display_name": "Python 3",
   "language": "python",
   "name": "python3"
  },
  "language_info": {
   "codemirror_mode": {
    "name": "ipython",
    "version": 2
   },
   "file_extension": ".py",
   "mimetype": "text/x-python",
   "name": "python",
   "nbconvert_exporter": "python",
   "pygments_lexer": "ipython2",
   "version": "2.7.6"
  }
 },
 "nbformat": 4,
 "nbformat_minor": 5
}
