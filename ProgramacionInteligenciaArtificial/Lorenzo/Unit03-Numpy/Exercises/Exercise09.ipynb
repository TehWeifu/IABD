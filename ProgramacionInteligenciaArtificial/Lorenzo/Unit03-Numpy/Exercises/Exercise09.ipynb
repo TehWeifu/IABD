{
 "cells": [
  {
   "cell_type": "markdown",
   "source": [
    "Ejercicio 9: Matrices\n",
    "Crea la siguiente matriz:"
   ],
   "metadata": {
    "collapsed": false
   },
   "id": "4380b8644ce73634"
  },
  {
   "cell_type": "code",
   "outputs": [],
   "source": [
    "import numpy as np"
   ],
   "metadata": {
    "collapsed": false,
    "ExecuteTime": {
     "end_time": "2024-02-03T18:27:17.620100500Z",
     "start_time": "2024-02-03T18:27:17.529679900Z"
    }
   },
   "id": "4095b509fa359f9a",
   "execution_count": 1
  },
  {
   "cell_type": "code",
   "outputs": [],
   "source": [
    "matrix = np.array([\n",
    "    [1, 4, 6, 5],\n",
    "    [4, 1, 7, 3],\n",
    "    [2, 9, 1, 2],\n",
    "    [6, 3, 1, 1],\n",
    "])"
   ],
   "metadata": {
    "collapsed": false,
    "ExecuteTime": {
     "end_time": "2024-02-03T18:27:17.629507500Z",
     "start_time": "2024-02-03T18:27:17.622109800Z"
    }
   },
   "id": "1145c6cc0d609f77",
   "execution_count": 2
  },
  {
   "cell_type": "markdown",
   "source": [
    "A todos los elementos de la matriz sumale un 10. Usando las funciones de numpy"
   ],
   "metadata": {
    "collapsed": false
   },
   "id": "adcdbc8d1dae5257"
  },
  {
   "cell_type": "code",
   "outputs": [
    {
     "data": {
      "text/plain": "array([[11, 14, 16, 15],\n       [14, 11, 17, 13],\n       [12, 19, 11, 12],\n       [16, 13, 11, 11]])"
     },
     "execution_count": 6,
     "metadata": {},
     "output_type": "execute_result"
    }
   ],
   "source": [
    "np.add(matrix, 10)"
   ],
   "metadata": {
    "collapsed": false,
    "ExecuteTime": {
     "end_time": "2024-02-03T18:29:03.082622200Z",
     "start_time": "2024-02-03T18:29:03.051629200Z"
    }
   },
   "id": "d0c4bb281f05cb0",
   "execution_count": 6
  },
  {
   "cell_type": "markdown",
   "source": [
    "A todos los elementos de la matriz sumale un 10 y divídelos entre 2. Usando las funciones de numpy"
   ],
   "metadata": {
    "collapsed": false
   },
   "id": "c091b07ac6a18d17"
  },
  {
   "cell_type": "code",
   "outputs": [
    {
     "data": {
      "text/plain": "array([[5.5, 7. , 8. , 7.5],\n       [7. , 5.5, 8.5, 6.5],\n       [6. , 9.5, 5.5, 6. ],\n       [8. , 6.5, 5.5, 5.5]])"
     },
     "execution_count": 7,
     "metadata": {},
     "output_type": "execute_result"
    }
   ],
   "source": [
    "np.divide(np.add(matrix, 10), 2)"
   ],
   "metadata": {
    "collapsed": false,
    "ExecuteTime": {
     "end_time": "2024-02-03T18:29:28.894108200Z",
     "start_time": "2024-02-03T18:29:28.879539600Z"
    }
   },
   "id": "aa99c4ac7ffee632",
   "execution_count": 7
  },
  {
   "cell_type": "markdown",
   "source": [
    "A todos los elementos de la matriz sumale un 10. Usando operadores"
   ],
   "metadata": {
    "collapsed": false
   },
   "id": "370ad1224fd4e6de"
  },
  {
   "cell_type": "code",
   "outputs": [
    {
     "data": {
      "text/plain": "array([[11, 14, 16, 15],\n       [14, 11, 17, 13],\n       [12, 19, 11, 12],\n       [16, 13, 11, 11]])"
     },
     "execution_count": 8,
     "metadata": {},
     "output_type": "execute_result"
    }
   ],
   "source": [
    "matrix + 10"
   ],
   "metadata": {
    "collapsed": false,
    "ExecuteTime": {
     "end_time": "2024-02-03T18:29:41.469827300Z",
     "start_time": "2024-02-03T18:29:41.454767800Z"
    }
   },
   "id": "c6ff597347a2c0ea",
   "execution_count": 8
  },
  {
   "cell_type": "markdown",
   "source": [
    "A todos los elementos de la matriz sumale un 10 y divídelos entre 2. Usando operadores"
   ],
   "metadata": {
    "collapsed": false
   },
   "id": "eb99c2ab62e34cef"
  },
  {
   "cell_type": "code",
   "outputs": [
    {
     "data": {
      "text/plain": "array([[5.5, 7. , 8. , 7.5],\n       [7. , 5.5, 8.5, 6.5],\n       [6. , 9.5, 5.5, 6. ],\n       [8. , 6.5, 5.5, 5.5]])"
     },
     "execution_count": 9,
     "metadata": {},
     "output_type": "execute_result"
    }
   ],
   "source": [
    "(matrix + 10) / 2"
   ],
   "metadata": {
    "collapsed": false,
    "ExecuteTime": {
     "end_time": "2024-02-03T18:29:52.799013500Z",
     "start_time": "2024-02-03T18:29:52.783092800Z"
    }
   },
   "id": "92e818b41a72b5ff",
   "execution_count": 9
  }
 ],
 "metadata": {
  "kernelspec": {
   "display_name": "Python 3",
   "language": "python",
   "name": "python3"
  },
  "language_info": {
   "codemirror_mode": {
    "name": "ipython",
    "version": 2
   },
   "file_extension": ".py",
   "mimetype": "text/x-python",
   "name": "python",
   "nbconvert_exporter": "python",
   "pygments_lexer": "ipython2",
   "version": "2.7.6"
  }
 },
 "nbformat": 4,
 "nbformat_minor": 5
}
