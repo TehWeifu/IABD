{
 "cells": [
  {
   "cell_type": "markdown",
   "source": [
    "Ejercicio 12: Funciones a arrays\n",
    "Crea una función llamada f que acepte como parámetro el número y que retorne lo siguiente:\n",
    "\n",
    "Si es valor está en el rango ]-inf,3[ que retorne 0\n",
    "Si es valor está en el rango [3,5[ que retorne 4\n",
    "Si es valor está en el rango [5,6[ que retorne 5\n",
    "Si es valor está en el rango [6,7[ que retorne 6\n",
    "Si es valor está en el rango [7,9[ que retorne 8\n",
    "Si es valor está en el rango [9,+inf[ que retorne 10"
   ],
   "metadata": {
    "collapsed": false
   },
   "id": "2dbaef1de70e463a"
  },
  {
   "cell_type": "code",
   "execution_count": 1,
   "id": "initial_id",
   "metadata": {
    "collapsed": true,
    "ExecuteTime": {
     "end_time": "2023-11-15T18:22:08.310412100Z",
     "start_time": "2023-11-15T18:22:08.234811300Z"
    }
   },
   "outputs": [],
   "source": [
    "import numpy as np"
   ]
  },
  {
   "cell_type": "code",
   "execution_count": 2,
   "outputs": [],
   "source": [
    "def f(num):\n",
    "    if num < 3:\n",
    "        return 0\n",
    "\n",
    "    if num < 5:\n",
    "        return 4\n",
    "\n",
    "    if num < 6:\n",
    "        return 5\n",
    "\n",
    "    if num < 7:\n",
    "        return 6\n",
    "\n",
    "    if num < 9:\n",
    "        return 8\n",
    "\n",
    "    return 10"
   ],
   "metadata": {
    "collapsed": false,
    "ExecuteTime": {
     "end_time": "2023-11-15T18:22:08.315182400Z",
     "start_time": "2023-11-15T18:22:08.315182400Z"
    }
   },
   "id": "4a5d0955556b9137"
  },
  {
   "cell_type": "markdown",
   "source": [
    "Crea ahora el vector de numpy [1,5,4,7,3,9,8,6] y aplícale la función f"
   ],
   "metadata": {
    "collapsed": false
   },
   "id": "ecc5be99b8fc06be"
  },
  {
   "cell_type": "code",
   "execution_count": 3,
   "outputs": [
    {
     "data": {
      "text/plain": "array([ 0,  5,  4,  8,  4, 10,  8,  6])"
     },
     "execution_count": 3,
     "metadata": {},
     "output_type": "execute_result"
    }
   ],
   "source": [
    "my_array = [1, 5, 4, 7, 3, 9, 8, 6]\n",
    "my_array_transformed = np.array([f(x) for x in my_array])\n",
    "my_array_transformed"
   ],
   "metadata": {
    "collapsed": false,
    "ExecuteTime": {
     "end_time": "2023-11-15T18:22:08.327654400Z",
     "start_time": "2023-11-15T18:22:08.315182400Z"
    }
   },
   "id": "d2c12635de3cb355"
  }
 ],
 "metadata": {
  "kernelspec": {
   "display_name": "Python 3",
   "language": "python",
   "name": "python3"
  },
  "language_info": {
   "codemirror_mode": {
    "name": "ipython",
    "version": 2
   },
   "file_extension": ".py",
   "mimetype": "text/x-python",
   "name": "python",
   "nbconvert_exporter": "python",
   "pygments_lexer": "ipython2",
   "version": "2.7.6"
  }
 },
 "nbformat": 4,
 "nbformat_minor": 5
}
