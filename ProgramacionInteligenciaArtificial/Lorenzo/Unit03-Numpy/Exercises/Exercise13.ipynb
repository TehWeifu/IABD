{
 "cells": [
  {
   "cell_type": "markdown",
   "source": [
    "Ejercicio 13: Máximos\n",
    "En el tema anterior creamos un array con las neuronas de cada capa para cada red en el problema del cáncer de mama."
   ],
   "metadata": {
    "collapsed": false
   },
   "id": "9b29ada965be1cf2"
  },
  {
   "cell_type": "code",
   "execution_count": 2,
   "outputs": [],
   "source": [
    "import numpy as np"
   ],
   "metadata": {
    "collapsed": false,
    "ExecuteTime": {
     "end_time": "2023-11-15T18:27:13.342835900Z",
     "start_time": "2023-11-15T18:27:13.262975200Z"
    }
   },
   "id": "7e81e76d45b5b3c"
  },
  {
   "cell_type": "code",
   "execution_count": 3,
   "id": "initial_id",
   "metadata": {
    "collapsed": true,
    "ExecuteTime": {
     "end_time": "2023-11-15T18:27:13.352387300Z",
     "start_time": "2023-11-15T18:27:13.345807900Z"
    }
   },
   "outputs": [],
   "source": [
    "networks = [\n",
    "    [4, 8, 4, 2, 1],\n",
    "    [4, 8, 4, 2, 1],\n",
    "    [8, 16, 8, 4, 1],\n",
    "    [8, 16, 8, 4, 1],\n",
    "    [16, 32, 16, 8, 1],\n",
    "    [16, 32, 16, 8, 1],\n",
    "    [32, 64, 32, 8, 1],\n",
    "    [32, 64, 32, 8, 1],\n",
    "    [64, 128, 64, 8, 1],\n",
    "    [64, 128, 64, 8, 1]\n",
    "]\n",
    "my_networks = np.array(networks)"
   ]
  },
  {
   "cell_type": "markdown",
   "source": [
    "Calcula:\n",
    "\n",
    "El Nº Máximo de neuronas de una capa que llegó a haber en cualquier red\n",
    "El Nº máximo de neuronas que hubo en cada red\n",
    "El Nº máximo de neuronas que hubo en cada capa\n",
    "El Nº máximo de neuronas que hubo en la 3º red\n",
    "El Nº máximo de neuronas que hubo en la 3º capa"
   ],
   "metadata": {
    "collapsed": false
   },
   "id": "240af5009eef04f3"
  },
  {
   "cell_type": "code",
   "execution_count": 12,
   "outputs": [
    {
     "name": "stdout",
     "output_type": "stream",
     "text": [
      "The maximum number of neurons out of every cell is: 128\n",
      "The maximum number of neurons for each network is: [  8   8  16  16  32  32  64  64 128 128]\n",
      "The maximum number of neurons for each layer is: [ 64 128  64   8   1]\n",
      "The maximum number of neurons in the 3rd network is: 16\n",
      "The maximum number of neurons in the 3rd layer is: 64\n"
     ]
    }
   ],
   "source": [
    "print(f\"The maximum number of neurons out of every cell is: {np.max(my_networks)}\")\n",
    "print(f\"The maximum number of neurons for each network is: {np.max(my_networks, axis=1)}\")\n",
    "print(f\"The maximum number of neurons for each layer is: {np.max(my_networks, axis=0)}\")\n",
    "print(f\"The maximum number of neurons in the 3rd network is: {np.max(my_networks[2])}\")\n",
    "print(f\"The maximum number of neurons in the 3rd layer is: {np.max(my_networks[:, 2])}\")"
   ],
   "metadata": {
    "collapsed": false,
    "ExecuteTime": {
     "end_time": "2023-11-15T18:30:21.007295800Z",
     "start_time": "2023-11-15T18:30:21.004543100Z"
    }
   },
   "id": "8dd09c6c6739b708"
  }
 ],
 "metadata": {
  "kernelspec": {
   "display_name": "Python 3",
   "language": "python",
   "name": "python3"
  },
  "language_info": {
   "codemirror_mode": {
    "name": "ipython",
    "version": 2
   },
   "file_extension": ".py",
   "mimetype": "text/x-python",
   "name": "python",
   "nbconvert_exporter": "python",
   "pygments_lexer": "ipython2",
   "version": "2.7.6"
  }
 },
 "nbformat": 4,
 "nbformat_minor": 5
}
