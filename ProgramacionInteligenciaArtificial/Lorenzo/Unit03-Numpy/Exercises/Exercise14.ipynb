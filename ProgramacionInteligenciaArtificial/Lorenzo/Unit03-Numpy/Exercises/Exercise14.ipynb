{
 "cells": [
  {
   "cell_type": "markdown",
   "source": [
    "Ejercicio 14:Únicos"
   ],
   "metadata": {
    "collapsed": false
   },
   "id": "f78d731eadb9ef2b"
  },
  {
   "cell_type": "code",
   "outputs": [],
   "source": [
    "import numpy as np\n",
    "from sklearn.datasets import load_iris\n",
    "from sklearn.datasets import load_breast_cancer"
   ],
   "metadata": {
    "collapsed": false,
    "ExecuteTime": {
     "end_time": "2024-02-03T19:02:13.834441300Z",
     "start_time": "2024-02-03T19:02:13.826353100Z"
    }
   },
   "id": "d9e395c7178388ab",
   "execution_count": 3
  },
  {
   "cell_type": "markdown",
   "source": [
    "Obtén los posibles valores de tipos de flor del tema 1. Es decir mostrar los valores único de la y"
   ],
   "metadata": {
    "collapsed": false
   },
   "id": "cf1ea5a7507ef005"
  },
  {
   "cell_type": "code",
   "outputs": [
    {
     "data": {
      "text/plain": "array([0, 1, 2])"
     },
     "execution_count": 4,
     "metadata": {},
     "output_type": "execute_result"
    }
   ],
   "source": [
    "iris = load_iris()\n",
    "np.unique(iris.target)"
   ],
   "metadata": {
    "collapsed": false,
    "ExecuteTime": {
     "end_time": "2024-02-03T19:02:13.860839Z",
     "start_time": "2024-02-03T19:02:13.839798100Z"
    }
   },
   "id": "9a6f3645514209e",
   "execution_count": 4
  },
  {
   "cell_type": "markdown",
   "source": [
    "Y lo mismo con el problema del cáncer de mama"
   ],
   "metadata": {
    "collapsed": false
   },
   "id": "5435f231747e35be"
  },
  {
   "cell_type": "code",
   "outputs": [
    {
     "data": {
      "text/plain": "array([0, 1])"
     },
     "execution_count": 6,
     "metadata": {},
     "output_type": "execute_result"
    }
   ],
   "source": [
    "breast_cancer = load_breast_cancer()\n",
    "np.unique(breast_cancer.target)"
   ],
   "metadata": {
    "collapsed": false,
    "ExecuteTime": {
     "end_time": "2024-02-03T19:02:55.881649500Z",
     "start_time": "2024-02-03T19:02:55.854544500Z"
    }
   },
   "id": "57388a3b3b3edd85",
   "execution_count": 6
  }
 ],
 "metadata": {
  "kernelspec": {
   "display_name": "Python 3",
   "language": "python",
   "name": "python3"
  },
  "language_info": {
   "codemirror_mode": {
    "name": "ipython",
    "version": 2
   },
   "file_extension": ".py",
   "mimetype": "text/x-python",
   "name": "python",
   "nbconvert_exporter": "python",
   "pygments_lexer": "ipython2",
   "version": "2.7.6"
  }
 },
 "nbformat": 4,
 "nbformat_minor": 5
}
