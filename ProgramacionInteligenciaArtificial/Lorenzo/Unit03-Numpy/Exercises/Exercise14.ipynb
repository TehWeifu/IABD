{
 "cells": [
  {
   "cell_type": "markdown",
   "source": [
    "Ejercicio 14:Únicos\n",
    "Obtén los posibles valores de tipos de flor del tema 1. Es decir mostrar los valores únicos de la y"
   ],
   "metadata": {
    "collapsed": false
   },
   "id": "a4d0fcb1d48282b7"
  },
  {
   "cell_type": "code",
   "execution_count": 1,
   "id": "initial_id",
   "metadata": {
    "collapsed": true,
    "ExecuteTime": {
     "end_time": "2023-11-15T18:32:36.530175Z",
     "start_time": "2023-11-15T18:32:35.989615500Z"
    }
   },
   "outputs": [
    {
     "name": "stdout",
     "output_type": "stream",
     "text": [
      "unique types of flowers for the iris dataset: [0 1 2]\n"
     ]
    }
   ],
   "source": [
    "import numpy as np\n",
    "import tabulate\n",
    "from sklearn.datasets import load_iris\n",
    "\n",
    "iris = load_iris()\n",
    "\n",
    "print(f\"unique types of flowers for the iris dataset: {np.unique(iris.target)}\")"
   ]
  },
  {
   "cell_type": "markdown",
   "source": [
    "Y lo mismo con el problema del cáncer de mama"
   ],
   "metadata": {
    "collapsed": false
   },
   "id": "a81c372fa2e184fc"
  },
  {
   "cell_type": "code",
   "execution_count": null,
   "outputs": [],
   "source": [
    "# TODO: finish exercise when learning about the dataset"
   ],
   "metadata": {
    "collapsed": false
   },
   "id": "18b04d26d7d7b67e"
  }
 ],
 "metadata": {
  "kernelspec": {
   "display_name": "Python 3",
   "language": "python",
   "name": "python3"
  },
  "language_info": {
   "codemirror_mode": {
    "name": "ipython",
    "version": 2
   },
   "file_extension": ".py",
   "mimetype": "text/x-python",
   "name": "python",
   "nbconvert_exporter": "python",
   "pygments_lexer": "ipython2",
   "version": "2.7.6"
  }
 },
 "nbformat": 4,
 "nbformat_minor": 5
}
