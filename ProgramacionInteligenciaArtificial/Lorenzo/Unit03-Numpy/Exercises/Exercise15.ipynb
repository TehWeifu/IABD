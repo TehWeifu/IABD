{
 "cells": [
  {
   "cell_type": "markdown",
   "source": [
    "Ejercicio 15:Dimensiones\n",
    "\n",
    "Muestra con numpy el número de dimensiones de los siguientes arrays:"
   ],
   "metadata": {
    "collapsed": false
   },
   "id": "f0d0ae5bc57d57da"
  },
  {
   "cell_type": "code",
   "outputs": [],
   "source": [
    "import numpy as np"
   ],
   "metadata": {
    "collapsed": false,
    "ExecuteTime": {
     "end_time": "2024-02-03T19:05:04.153039600Z",
     "start_time": "2024-02-03T19:05:04.144484300Z"
    }
   },
   "id": "2a3585eb05ba5c71",
   "execution_count": 4
  },
  {
   "cell_type": "code",
   "outputs": [
    {
     "data": {
      "text/plain": "(12,)"
     },
     "execution_count": 5,
     "metadata": {},
     "output_type": "execute_result"
    }
   ],
   "source": [
    "a = np.array([2, 3, 5, 7, 11, 13, 17, 19, 23, 29, 31, 37])\n",
    "a.shape"
   ],
   "metadata": {
    "collapsed": false,
    "ExecuteTime": {
     "end_time": "2024-02-03T19:05:04.163856200Z",
     "start_time": "2024-02-03T19:05:04.157544500Z"
    }
   },
   "id": "da91ce216a009e80",
   "execution_count": 5
  },
  {
   "cell_type": "code",
   "outputs": [
    {
     "data": {
      "text/plain": "(6, 2)"
     },
     "execution_count": 6,
     "metadata": {},
     "output_type": "execute_result"
    }
   ],
   "source": [
    "b = np.array([[2, 3], [5, 7], [11, 13], [17, 19], [23, 29], [31, 37]])\n",
    "b.shape"
   ],
   "metadata": {
    "collapsed": false,
    "ExecuteTime": {
     "end_time": "2024-02-03T19:05:04.179933300Z",
     "start_time": "2024-02-03T19:05:04.163856200Z"
    }
   },
   "id": "e157d50e434479fa",
   "execution_count": 6
  },
  {
   "cell_type": "code",
   "outputs": [
    {
     "data": {
      "text/plain": "(3, 2, 2)"
     },
     "execution_count": 7,
     "metadata": {},
     "output_type": "execute_result"
    }
   ],
   "source": [
    "c = np.array([[[2, 3], [5, 7]], [[11, 13], [17, 19]], [[23, 29], [31, 37]]])\n",
    "c.shape"
   ],
   "metadata": {
    "collapsed": false,
    "ExecuteTime": {
     "end_time": "2024-02-03T19:05:04.179933300Z",
     "start_time": "2024-02-03T19:05:04.170888500Z"
    }
   },
   "id": "d5faab9f5b682d25",
   "execution_count": 7
  }
 ],
 "metadata": {
  "kernelspec": {
   "display_name": "Python 3",
   "language": "python",
   "name": "python3"
  },
  "language_info": {
   "codemirror_mode": {
    "name": "ipython",
    "version": 2
   },
   "file_extension": ".py",
   "mimetype": "text/x-python",
   "name": "python",
   "nbconvert_exporter": "python",
   "pygments_lexer": "ipython2",
   "version": "2.7.6"
  }
 },
 "nbformat": 4,
 "nbformat_minor": 5
}
