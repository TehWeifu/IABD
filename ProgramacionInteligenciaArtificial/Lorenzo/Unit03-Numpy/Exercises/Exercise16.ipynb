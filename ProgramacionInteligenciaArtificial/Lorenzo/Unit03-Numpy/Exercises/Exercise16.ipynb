{
 "cells": [
  {
   "cell_type": "markdown",
   "source": [
    "Ejercicio 16:Forma\n",
    "Crea una función llamada mostrar_tamanyo que le pasemos un array de numpy y nos imprima el tamaño de cada una de las dimensiones. Por ejemplo con el array [ [ [2, 3], [5, 7]], [ [11, 13], [17, 19]], [ [23, 29], [31, 37] ] ] deberá mostrar\n",
    "\n",
    "El nº de elementos de la dimension 0 es 3\n",
    "El nº de elementos de la dimension 1 es 2\n",
    "El nº de elementos de la dimension 2 es 2"
   ],
   "metadata": {
    "collapsed": false
   },
   "id": "2adb13cc1584898a"
  },
  {
   "cell_type": "code",
   "execution_count": 15,
   "outputs": [],
   "source": [
    "import numpy as np"
   ],
   "metadata": {
    "collapsed": false,
    "ExecuteTime": {
     "end_time": "2023-11-15T21:20:35.582110700Z",
     "start_time": "2023-11-15T21:20:35.548585400Z"
    }
   },
   "id": "cbca2764caccb2d7"
  },
  {
   "cell_type": "code",
   "execution_count": 16,
   "outputs": [],
   "source": [
    "def print_size(arr: np.ndarray):\n",
    "    print(f\"The number of elements in the dimension 0 is {arr.shape[0]}\")\n",
    "\n",
    "    if len(arr.shape) > 1:\n",
    "        print(f\"The number of elements in the dimension 1 is {arr.shape[1]}\")\n",
    "\n",
    "    if len(arr.shape) > 2:\n",
    "        print(f\"The number of elements in the dimension 2 is {arr.shape[2]}\")"
   ],
   "metadata": {
    "collapsed": false,
    "ExecuteTime": {
     "end_time": "2023-11-15T21:20:35.584112700Z",
     "start_time": "2023-11-15T21:20:35.554635600Z"
    }
   },
   "id": "505f98e16ffeed8a"
  },
  {
   "cell_type": "code",
   "execution_count": 17,
   "id": "initial_id",
   "metadata": {
    "collapsed": true,
    "ExecuteTime": {
     "end_time": "2023-11-15T21:20:35.584951200Z",
     "start_time": "2023-11-15T21:20:35.559917900Z"
    }
   },
   "outputs": [
    {
     "name": "stdout",
     "output_type": "stream",
     "text": [
      "The number of elements in the dimension 0 is 3\n",
      "The number of elements in the dimension 1 is 2\n",
      "The number of elements in the dimension 2 is 2\n"
     ]
    }
   ],
   "source": [
    "my_array = [[[2, 3], [5, 7]], [[11, 13], [17, 19]], [[23, 29], [31, 37]]]\n",
    "\n",
    "print_size(np.array(my_array))"
   ]
  },
  {
   "cell_type": "markdown",
   "source": [
    "Prueba también con los siguientes arrays"
   ],
   "metadata": {
    "collapsed": false
   },
   "id": "54a152a249f07283"
  },
  {
   "cell_type": "code",
   "execution_count": 18,
   "outputs": [
    {
     "name": "stdout",
     "output_type": "stream",
     "text": [
      "The number of elements in the dimension 0 is 12\n"
     ]
    }
   ],
   "source": [
    "a = [2, 3, 5, 7, 11, 13, 17, 19, 23, 29, 31, 37]\n",
    "print_size(np.array(a))"
   ],
   "metadata": {
    "collapsed": false,
    "ExecuteTime": {
     "end_time": "2023-11-15T21:20:35.584951200Z",
     "start_time": "2023-11-15T21:20:35.567632600Z"
    }
   },
   "id": "2bc905b406c77024"
  },
  {
   "cell_type": "code",
   "execution_count": 19,
   "outputs": [
    {
     "name": "stdout",
     "output_type": "stream",
     "text": [
      "The number of elements in the dimension 0 is 6\n",
      "The number of elements in the dimension 1 is 2\n"
     ]
    }
   ],
   "source": [
    "b = [[2, 3], [5, 7], [11, 13], [17, 19], [23, 29], [31, 37]]\n",
    "print_size(np.array(b))"
   ],
   "metadata": {
    "collapsed": false,
    "ExecuteTime": {
     "end_time": "2023-11-15T21:20:35.584951200Z",
     "start_time": "2023-11-15T21:20:35.574178600Z"
    }
   },
   "id": "5b32808cf5fb007"
  },
  {
   "cell_type": "code",
   "execution_count": 20,
   "outputs": [
    {
     "name": "stdout",
     "output_type": "stream",
     "text": [
      "The number of elements in the dimension 0 is 3\n",
      "The number of elements in the dimension 1 is 2\n",
      "The number of elements in the dimension 2 is 2\n"
     ]
    }
   ],
   "source": [
    "c = [[[2, 3], [5, 7]], [[11, 13], [17, 19]], [[23, 29], [31, 37]]]\n",
    "print_size(np.array(c))"
   ],
   "metadata": {
    "collapsed": false,
    "ExecuteTime": {
     "end_time": "2023-11-15T21:20:35.641307100Z",
     "start_time": "2023-11-15T21:20:35.580104600Z"
    }
   },
   "id": "ed1f9887f757bd3b"
  }
 ],
 "metadata": {
  "kernelspec": {
   "display_name": "Python 3",
   "language": "python",
   "name": "python3"
  },
  "language_info": {
   "codemirror_mode": {
    "name": "ipython",
    "version": 2
   },
   "file_extension": ".py",
   "mimetype": "text/x-python",
   "name": "python",
   "nbconvert_exporter": "python",
   "pygments_lexer": "ipython2",
   "version": "2.7.6"
  }
 },
 "nbformat": 4,
 "nbformat_minor": 5
}
