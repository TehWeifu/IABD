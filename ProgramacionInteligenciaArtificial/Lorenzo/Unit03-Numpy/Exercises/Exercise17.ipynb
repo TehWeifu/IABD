{
 "cells": [
  {
   "cell_type": "markdown",
   "source": [
    "Ejercicio 17:Tipo de datos\n",
    "\n",
    "Muestra con numpy el tipo de datos de los siguientes arrays:"
   ],
   "metadata": {
    "collapsed": false
   },
   "id": "b6aff76d166dc601"
  },
  {
   "cell_type": "code",
   "outputs": [],
   "source": [
    "import numpy as np"
   ],
   "metadata": {
    "collapsed": false,
    "ExecuteTime": {
     "end_time": "2024-02-03T19:16:25.198504200Z",
     "start_time": "2024-02-03T19:16:25.100310Z"
    }
   },
   "id": "fc26c1a37badd3a2",
   "execution_count": 1
  },
  {
   "cell_type": "code",
   "outputs": [
    {
     "data": {
      "text/plain": "dtype('int32')"
     },
     "execution_count": 2,
     "metadata": {},
     "output_type": "execute_result"
    }
   ],
   "source": [
    "a = np.array([2, 3, 5])\n",
    "a.dtype"
   ],
   "metadata": {
    "collapsed": false,
    "ExecuteTime": {
     "end_time": "2024-02-03T19:16:25.209193100Z",
     "start_time": "2024-02-03T19:16:25.204170200Z"
    }
   },
   "id": "d4876b4c332bd655",
   "execution_count": 2
  },
  {
   "cell_type": "code",
   "outputs": [
    {
     "data": {
      "text/plain": "dtype('float64')"
     },
     "execution_count": 3,
     "metadata": {},
     "output_type": "execute_result"
    }
   ],
   "source": [
    "b = np.array([2.4, 3.2, 5.6])\n",
    "b.dtype"
   ],
   "metadata": {
    "collapsed": false,
    "ExecuteTime": {
     "end_time": "2024-02-03T19:16:25.213650200Z",
     "start_time": "2024-02-03T19:16:25.206682200Z"
    }
   },
   "id": "7bc36d1373751752",
   "execution_count": 3
  },
  {
   "cell_type": "code",
   "outputs": [
    {
     "data": {
      "text/plain": "dtype('float64')"
     },
     "execution_count": 4,
     "metadata": {},
     "output_type": "execute_result"
    }
   ],
   "source": [
    "c = np.array([2, 3, 5.6])\n",
    "c.dtype"
   ],
   "metadata": {
    "collapsed": false,
    "ExecuteTime": {
     "end_time": "2024-02-03T19:16:25.222190600Z",
     "start_time": "2024-02-03T19:16:25.215649300Z"
    }
   },
   "id": "2741fe76f06f2841",
   "execution_count": 4
  }
 ],
 "metadata": {
  "kernelspec": {
   "display_name": "Python 3",
   "language": "python",
   "name": "python3"
  },
  "language_info": {
   "codemirror_mode": {
    "name": "ipython",
    "version": 2
   },
   "file_extension": ".py",
   "mimetype": "text/x-python",
   "name": "python",
   "nbconvert_exporter": "python",
   "pygments_lexer": "ipython2",
   "version": "2.7.6"
  }
 },
 "nbformat": 4,
 "nbformat_minor": 5
}
