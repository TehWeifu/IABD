{
 "cells": [
  {
   "cell_type": "markdown",
   "source": [
    "Ejercicio 18:Transformar tipos de datos\n",
    "\n",
    "\n",
    "\n",
    "\n",
    "\n"
   ],
   "metadata": {
    "collapsed": false
   },
   "id": "846d7f68c4fced4b"
  },
  {
   "cell_type": "code",
   "execution_count": 41,
   "outputs": [],
   "source": [
    "import numpy as np"
   ],
   "metadata": {
    "collapsed": false,
    "ExecuteTime": {
     "end_time": "2023-11-15T21:47:00.257551500Z",
     "start_time": "2023-11-15T21:47:00.209275600Z"
    }
   },
   "id": "bc2b6f664e920b62"
  },
  {
   "cell_type": "markdown",
   "source": [
    "Transforma el siguiente array en 8 bits sin signo y muestra cuanto ocupa en memoria"
   ],
   "metadata": {
    "collapsed": false
   },
   "id": "ecf45cfa1522bff4"
  },
  {
   "cell_type": "code",
   "execution_count": 42,
   "id": "initial_id",
   "metadata": {
    "collapsed": true,
    "ExecuteTime": {
     "end_time": "2023-11-15T21:47:00.259551200Z",
     "start_time": "2023-11-15T21:47:00.213280300Z"
    }
   },
   "outputs": [
    {
     "name": "stdout",
     "output_type": "stream",
     "text": [
      "The array will require 3 bytes of memory\n"
     ]
    }
   ],
   "source": [
    "a = np.array([1, -2, 3])\n",
    "array_a_casted = a.astype(np.uint8)\n",
    "print(f\"The array will require {array_a_casted.nbytes} bytes of memory\")"
   ]
  },
  {
   "cell_type": "markdown",
   "source": [
    "Transforma el siguiente array en 8 bits sin signo y muestra cuanto ocupa en memoria"
   ],
   "metadata": {
    "collapsed": false
   },
   "id": "884551ab15e30128"
  },
  {
   "cell_type": "code",
   "execution_count": 50,
   "outputs": [
    {
     "name": "stdout",
     "output_type": "stream",
     "text": [
      "The array will require 4 bytes of memory\n"
     ]
    },
    {
     "data": {
      "text/plain": "array([  1, 254, 255,   0], dtype=uint8)"
     },
     "execution_count": 50,
     "metadata": {},
     "output_type": "execute_result"
    }
   ],
   "source": [
    "b = np.array([1, 254, 255])\n",
    "array_b_casted = b.astype(np.uint8)\n",
    "print(f\"The array will require {array_b_casted.nbytes} bytes of memory\")"
   ],
   "metadata": {
    "collapsed": false,
    "ExecuteTime": {
     "end_time": "2023-11-15T21:48:20.447518700Z",
     "start_time": "2023-11-15T21:48:20.443497Z"
    }
   },
   "id": "5ef0b4ef9f944fb3"
  },
  {
   "cell_type": "markdown",
   "source": [
    "Transforma el siguiente array en 8 bits con signo y muestra cuanto ocupa en memoria"
   ],
   "metadata": {
    "collapsed": false
   },
   "id": "cb9a4938c1cda81c"
  },
  {
   "cell_type": "code",
   "execution_count": 44,
   "outputs": [
    {
     "name": "stdout",
     "output_type": "stream",
     "text": [
      "The array will require 3 bytes of memory\n"
     ]
    }
   ],
   "source": [
    "c = np.array([1, 127, 128])\n",
    "array_c_casted = c.astype(np.int8)\n",
    "print(f\"The array will require {array_c_casted.nbytes} bytes of memory\")"
   ],
   "metadata": {
    "collapsed": false,
    "ExecuteTime": {
     "end_time": "2023-11-15T21:47:00.324671500Z",
     "start_time": "2023-11-15T21:47:00.229063500Z"
    }
   },
   "id": "f2e2d8814d7f65ed"
  },
  {
   "cell_type": "markdown",
   "source": [
    "Transforma el siguiente array en 8 bits con signo y muestra cuanto ocupa en memoria"
   ],
   "metadata": {
    "collapsed": false
   },
   "id": "c88cb95887c791ac"
  },
  {
   "cell_type": "code",
   "execution_count": 48,
   "outputs": [
    {
     "name": "stdout",
     "output_type": "stream",
     "text": [
      "The array will require 3 bytes of memory\n"
     ]
    },
    {
     "data": {
      "text/plain": "array([   1, -128,  127], dtype=int8)"
     },
     "execution_count": 48,
     "metadata": {},
     "output_type": "execute_result"
    }
   ],
   "source": [
    "d = np.array([1, -128, -129])\n",
    "array_d_casted = d.astype(np.int8)  # This will cause the last element to be converted to 127\n",
    "print(f\"The array will require {array_d_casted.nbytes} bytes of memory\")"
   ],
   "metadata": {
    "collapsed": false,
    "ExecuteTime": {
     "end_time": "2023-11-15T21:47:18.634265900Z",
     "start_time": "2023-11-15T21:47:18.631074400Z"
    }
   },
   "id": "66d2396ac82aedc8"
  },
  {
   "cell_type": "markdown",
   "source": [
    "Transforma el siguiente array en float32 y muestra cuanto ocupa en memoria"
   ],
   "metadata": {
    "collapsed": false
   },
   "id": "c2662d3cb54ade08"
  },
  {
   "cell_type": "code",
   "execution_count": 46,
   "outputs": [
    {
     "name": "stdout",
     "output_type": "stream",
     "text": [
      "The array will require 12 bytes of memory\n"
     ]
    }
   ],
   "source": [
    "e = np.array([1, 2, 3])\n",
    "array_e_casted = e.astype(np.float32)\n",
    "print(f\"The array will require {array_e_casted.nbytes} bytes of memory\")"
   ],
   "metadata": {
    "collapsed": false,
    "ExecuteTime": {
     "end_time": "2023-11-15T21:47:00.343706800Z",
     "start_time": "2023-11-15T21:47:00.244459400Z"
    }
   },
   "id": "abd3282e91dd8b27"
  },
  {
   "cell_type": "markdown",
   "source": [
    "Transforma el siguiente array en int32 y muestra cuanto ocupa en memoria"
   ],
   "metadata": {
    "collapsed": false
   },
   "id": "7f1fe80048ad1ee2"
  },
  {
   "cell_type": "code",
   "execution_count": 47,
   "outputs": [
    {
     "name": "stdout",
     "output_type": "stream",
     "text": [
      "The array will require 12 bytes of memory\n"
     ]
    }
   ],
   "source": [
    "f = np.array([1.9, 2.01, 3.51])\n",
    "array_f_casted = f.astype(np.int32)\n",
    "print(f\"The array will require {array_f_casted.nbytes} bytes of memory\")"
   ],
   "metadata": {
    "collapsed": false,
    "ExecuteTime": {
     "end_time": "2023-11-15T21:47:00.368499900Z",
     "start_time": "2023-11-15T21:47:00.250608200Z"
    }
   },
   "id": "c49713b38fe20cc8"
  }
 ],
 "metadata": {
  "kernelspec": {
   "display_name": "Python 3",
   "language": "python",
   "name": "python3"
  },
  "language_info": {
   "codemirror_mode": {
    "name": "ipython",
    "version": 2
   },
   "file_extension": ".py",
   "mimetype": "text/x-python",
   "name": "python",
   "nbconvert_exporter": "python",
   "pygments_lexer": "ipython2",
   "version": "2.7.6"
  }
 },
 "nbformat": 4,
 "nbformat_minor": 5
}
