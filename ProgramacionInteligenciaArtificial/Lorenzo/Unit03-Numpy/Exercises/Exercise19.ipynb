{
 "cells": [
  {
   "cell_type": "markdown",
   "source": [
    "Ejercicio 19: Unir columnas\n",
    "\n",
    "En ejercicios anteriores obtuviste para el problema de las flores, una matriz x y un vector y.\n",
    "\n",
    "Une los datos en una nueva matriz de forma que cada fila de la nueva matriz contenga los datos de cada fila de la x y el dato correspondiente de la y."
   ],
   "metadata": {
    "collapsed": false
   },
   "id": "a1839e83aa864245"
  },
  {
   "cell_type": "code",
   "execution_count": 1,
   "id": "initial_id",
   "metadata": {
    "collapsed": true,
    "ExecuteTime": {
     "end_time": "2023-11-16T17:20:04.801839800Z",
     "start_time": "2023-11-16T17:20:02.975737500Z"
    }
   },
   "outputs": [],
   "source": [
    "import numpy as np\n",
    "from sklearn.datasets import load_iris, load_breast_cancer"
   ]
  },
  {
   "cell_type": "code",
   "execution_count": 2,
   "outputs": [],
   "source": [
    "datos = load_iris().data\n",
    "resultado = load_iris().target"
   ],
   "metadata": {
    "collapsed": false,
    "ExecuteTime": {
     "end_time": "2023-11-16T17:20:04.818584300Z",
     "start_time": "2023-11-16T17:20:04.798043700Z"
    }
   },
   "id": "59e375f689e2ff92"
  },
  {
   "cell_type": "code",
   "execution_count": 3,
   "outputs": [
    {
     "data": {
      "text/plain": "array([[5.1, 1.4, 0. ],\n       [4.9, 1.4, 0. ],\n       [4.7, 1.3, 0. ],\n       [4.6, 1.5, 0. ],\n       [5. , 1.4, 0. ],\n       [5.4, 1.7, 0. ],\n       [4.6, 1.4, 0. ],\n       [5. , 1.5, 0. ],\n       [4.4, 1.4, 0. ],\n       [4.9, 1.5, 0. ],\n       [5.4, 1.5, 0. ],\n       [4.8, 1.6, 0. ],\n       [4.8, 1.4, 0. ],\n       [4.3, 1.1, 0. ],\n       [5.8, 1.2, 0. ],\n       [5.7, 1.5, 0. ],\n       [5.4, 1.3, 0. ],\n       [5.1, 1.4, 0. ],\n       [5.7, 1.7, 0. ],\n       [5.1, 1.5, 0. ],\n       [5.4, 1.7, 0. ],\n       [5.1, 1.5, 0. ],\n       [4.6, 1. , 0. ],\n       [5.1, 1.7, 0. ],\n       [4.8, 1.9, 0. ],\n       [5. , 1.6, 0. ],\n       [5. , 1.6, 0. ],\n       [5.2, 1.5, 0. ],\n       [5.2, 1.4, 0. ],\n       [4.7, 1.6, 0. ],\n       [4.8, 1.6, 0. ],\n       [5.4, 1.5, 0. ],\n       [5.2, 1.5, 0. ],\n       [5.5, 1.4, 0. ],\n       [4.9, 1.5, 0. ],\n       [5. , 1.2, 0. ],\n       [5.5, 1.3, 0. ],\n       [4.9, 1.4, 0. ],\n       [4.4, 1.3, 0. ],\n       [5.1, 1.5, 0. ],\n       [5. , 1.3, 0. ],\n       [4.5, 1.3, 0. ],\n       [4.4, 1.3, 0. ],\n       [5. , 1.6, 0. ],\n       [5.1, 1.9, 0. ],\n       [4.8, 1.4, 0. ],\n       [5.1, 1.6, 0. ],\n       [4.6, 1.4, 0. ],\n       [5.3, 1.5, 0. ],\n       [5. , 1.4, 0. ],\n       [7. , 4.7, 1. ],\n       [6.4, 4.5, 1. ],\n       [6.9, 4.9, 1. ],\n       [5.5, 4. , 1. ],\n       [6.5, 4.6, 1. ],\n       [5.7, 4.5, 1. ],\n       [6.3, 4.7, 1. ],\n       [4.9, 3.3, 1. ],\n       [6.6, 4.6, 1. ],\n       [5.2, 3.9, 1. ],\n       [5. , 3.5, 1. ],\n       [5.9, 4.2, 1. ],\n       [6. , 4. , 1. ],\n       [6.1, 4.7, 1. ],\n       [5.6, 3.6, 1. ],\n       [6.7, 4.4, 1. ],\n       [5.6, 4.5, 1. ],\n       [5.8, 4.1, 1. ],\n       [6.2, 4.5, 1. ],\n       [5.6, 3.9, 1. ],\n       [5.9, 4.8, 1. ],\n       [6.1, 4. , 1. ],\n       [6.3, 4.9, 1. ],\n       [6.1, 4.7, 1. ],\n       [6.4, 4.3, 1. ],\n       [6.6, 4.4, 1. ],\n       [6.8, 4.8, 1. ],\n       [6.7, 5. , 1. ],\n       [6. , 4.5, 1. ],\n       [5.7, 3.5, 1. ],\n       [5.5, 3.8, 1. ],\n       [5.5, 3.7, 1. ],\n       [5.8, 3.9, 1. ],\n       [6. , 5.1, 1. ],\n       [5.4, 4.5, 1. ],\n       [6. , 4.5, 1. ],\n       [6.7, 4.7, 1. ],\n       [6.3, 4.4, 1. ],\n       [5.6, 4.1, 1. ],\n       [5.5, 4. , 1. ],\n       [5.5, 4.4, 1. ],\n       [6.1, 4.6, 1. ],\n       [5.8, 4. , 1. ],\n       [5. , 3.3, 1. ],\n       [5.6, 4.2, 1. ],\n       [5.7, 4.2, 1. ],\n       [5.7, 4.2, 1. ],\n       [6.2, 4.3, 1. ],\n       [5.1, 3. , 1. ]])"
     },
     "execution_count": 3,
     "metadata": {},
     "output_type": "execute_result"
    }
   ],
   "source": [
    "x = datos[:99, [0, 2]]\n",
    "y = resultado[:99]\n",
    "\n",
    "matrix_data = np.column_stack((x, y))\n",
    "matrix_data"
   ],
   "metadata": {
    "collapsed": false,
    "ExecuteTime": {
     "end_time": "2023-11-16T17:20:04.831788300Z",
     "start_time": "2023-11-16T17:20:04.816286800Z"
    }
   },
   "id": "8a603242c92fed4b"
  },
  {
   "cell_type": "markdown",
   "source": [
    "Y lo mismo con el problema del cáncer de mama"
   ],
   "metadata": {
    "collapsed": false
   },
   "id": "9ccbf697945b5e8d"
  },
  {
   "cell_type": "code",
   "execution_count": 4,
   "outputs": [
    {
     "data": {
      "text/plain": "array([[1.799e+01, 1.038e+01, 1.228e+02, ..., 4.601e-01, 1.189e-01,\n        0.000e+00],\n       [2.057e+01, 1.777e+01, 1.329e+02, ..., 2.750e-01, 8.902e-02,\n        0.000e+00],\n       [1.969e+01, 2.125e+01, 1.300e+02, ..., 3.613e-01, 8.758e-02,\n        0.000e+00],\n       ...,\n       [1.660e+01, 2.808e+01, 1.083e+02, ..., 2.218e-01, 7.820e-02,\n        0.000e+00],\n       [2.060e+01, 2.933e+01, 1.401e+02, ..., 4.087e-01, 1.240e-01,\n        0.000e+00],\n       [7.760e+00, 2.454e+01, 4.792e+01, ..., 2.871e-01, 7.039e-02,\n        1.000e+00]])"
     },
     "execution_count": 4,
     "metadata": {},
     "output_type": "execute_result"
    }
   ],
   "source": [
    "breast_cancer_dataset = load_breast_cancer()\n",
    "breast_cancer_X = breast_cancer_dataset.data\n",
    "breast_cancer_Y = breast_cancer_dataset.target\n",
    "\n",
    "breast_cancer_full_data = np.column_stack((breast_cancer_X, breast_cancer_Y))\n",
    "breast_cancer_full_data"
   ],
   "metadata": {
    "collapsed": false,
    "ExecuteTime": {
     "end_time": "2023-11-16T17:20:04.869761300Z",
     "start_time": "2023-11-16T17:20:04.827295600Z"
    }
   },
   "id": "ba185e70bd8c49ba"
  }
 ],
 "metadata": {
  "kernelspec": {
   "display_name": "Python 3",
   "language": "python",
   "name": "python3"
  },
  "language_info": {
   "codemirror_mode": {
    "name": "ipython",
    "version": 2
   },
   "file_extension": ".py",
   "mimetype": "text/x-python",
   "name": "python",
   "nbconvert_exporter": "python",
   "pygments_lexer": "ipython2",
   "version": "2.7.6"
  }
 },
 "nbformat": 4,
 "nbformat_minor": 5
}
