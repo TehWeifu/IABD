{
 "cells": [
  {
   "cell_type": "markdown",
   "source": [
    "Ejercicio 23: El vino\n",
    "\n",
    "Cargas con numpy el fichero wine.csv que contiene una matriz de números separados por coma.\n",
    "\n",
    "La matriz contiene una serie de columnas con características del vino y la última columna indica el tipo del vino.\n",
    "\n",
    "- Crea una función en python llamada imprimir_datos y tendrá como parámetro una matriz de numpy de forma que:\n",
    "    - Imprima cuantas características tenemos de cada tipo de vino.\n",
    "    - Imprima cuantas muestra de vino tenemos\n",
    "    - Imprima cuantos tipos distintos de vino tenemos y cuales son\n",
    "    - Imprima los valores máximos y mínimos de cada característica\n",
    "    - Retorna una nueva matriz llamada x solo con las características y un nuevo array llamado y solo con los tipos de vino\n",
    "\n",
    "- Llama a la función imprimir_datos con los datos de wine.csv"
   ],
   "metadata": {
    "collapsed": false
   },
   "id": "3af08b7d117c6595"
  },
  {
   "cell_type": "code",
   "outputs": [],
   "source": [
    "import numpy as np\n",
    "\n",
    "np.set_printoptions(suppress=True)"
   ],
   "metadata": {
    "collapsed": false,
    "ExecuteTime": {
     "end_time": "2024-02-04T09:09:43.605123500Z",
     "start_time": "2024-02-04T09:09:43.587443800Z"
    }
   },
   "id": "2d96f393f41d2274",
   "execution_count": 37
  },
  {
   "cell_type": "code",
   "outputs": [
    {
     "data": {
      "text/plain": "array([[  14.23,    1.71,    2.43, ...,    3.92, 1065.  ,    0.  ],\n       [  13.2 ,    1.78,    2.14, ...,    3.4 , 1050.  ,    0.  ],\n       [  13.16,    2.36,    2.67, ...,    3.17, 1185.  ,    0.  ],\n       ...,\n       [  13.27,    4.28,    2.26, ...,    1.56,  835.  ,    2.  ],\n       [  13.17,    2.59,    2.37, ...,    1.62,  840.  ,    2.  ],\n       [  14.13,    4.1 ,    2.74, ...,    1.6 ,  560.  ,    2.  ]])"
     },
     "execution_count": 38,
     "metadata": {},
     "output_type": "execute_result"
    }
   ],
   "source": [
    "wines = np.genfromtxt('./wine.csv', delimiter=',')\n",
    "wines"
   ],
   "metadata": {
    "collapsed": false,
    "ExecuteTime": {
     "end_time": "2024-02-04T09:09:43.659749600Z",
     "start_time": "2024-02-04T09:09:43.608635400Z"
    }
   },
   "id": "c6db346667608e24",
   "execution_count": 38
  },
  {
   "cell_type": "code",
   "outputs": [],
   "source": [
    "def imprimir_datos(matrix):\n",
    "    print(f\"Hay un total de {matrix.shape[1] - 1} caracteristicas\")\n",
    "    print(f\"Hay un total de {matrix.shape[0]} muestras\")\n",
    "    print(f\"Hay un total de {np.unique(matrix[:, -1]).shape[0]} vinos distintos ({np.unique(matrix[:, -1])})\")\n",
    "\n",
    "    print(matrix[:, 0:-1].max(axis=0))\n",
    "    print(matrix[:, 0:-1].min(axis=0))\n",
    "\n",
    "    X = matrix[:, 0:-1]\n",
    "    y = matrix[:, -1]\n",
    "\n",
    "    return X, y"
   ],
   "metadata": {
    "collapsed": false,
    "ExecuteTime": {
     "end_time": "2024-02-04T09:09:43.660753100Z",
     "start_time": "2024-02-04T09:09:43.617473100Z"
    }
   },
   "id": "10d89619ccc3dccb",
   "execution_count": 39
  },
  {
   "cell_type": "code",
   "outputs": [
    {
     "name": "stdout",
     "output_type": "stream",
     "text": [
      "Hay un total de 13 caracteristicas\n",
      "Hay un total de 178 muestras\n",
      "Hay un total de 3 vinos distintos ([0. 1. 2.])\n",
      "[  14.83    5.8     3.23   30.    162.      3.88    5.08    0.66    3.58\n",
      "   13.      1.71    4.   1680.  ]\n",
      "[ 11.03   0.74   1.36  10.6   70.     0.98   0.34   0.13   0.41   1.28\n",
      "   0.48   1.27 278.  ]\n"
     ]
    },
    {
     "data": {
      "text/plain": "array([[  14.23,    1.71,    2.43, ...,    1.04,    3.92, 1065.  ],\n       [  13.2 ,    1.78,    2.14, ...,    1.05,    3.4 , 1050.  ],\n       [  13.16,    2.36,    2.67, ...,    1.03,    3.17, 1185.  ],\n       ...,\n       [  13.27,    4.28,    2.26, ...,    0.59,    1.56,  835.  ],\n       [  13.17,    2.59,    2.37, ...,    0.6 ,    1.62,  840.  ],\n       [  14.13,    4.1 ,    2.74, ...,    0.61,    1.6 ,  560.  ]])"
     },
     "execution_count": 40,
     "metadata": {},
     "output_type": "execute_result"
    }
   ],
   "source": [
    "X, y = imprimir_datos(wines)\n",
    "X"
   ],
   "metadata": {
    "collapsed": false,
    "ExecuteTime": {
     "end_time": "2024-02-04T09:09:43.661776400Z",
     "start_time": "2024-02-04T09:09:43.621340Z"
    }
   },
   "id": "8af8d994aad61294",
   "execution_count": 40
  }
 ],
 "metadata": {
  "kernelspec": {
   "display_name": "Python 3",
   "language": "python",
   "name": "python3"
  },
  "language_info": {
   "codemirror_mode": {
    "name": "ipython",
    "version": 2
   },
   "file_extension": ".py",
   "mimetype": "text/x-python",
   "name": "python",
   "nbconvert_exporter": "python",
   "pygments_lexer": "ipython2",
   "version": "2.7.6"
  }
 },
 "nbformat": 4,
 "nbformat_minor": 5
}
