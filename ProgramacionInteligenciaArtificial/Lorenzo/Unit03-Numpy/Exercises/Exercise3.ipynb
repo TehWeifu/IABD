{
 "cells": [
  {
   "cell_type": "markdown",
   "source": [
    "Ejercicio 3: Matrices\n",
    "Crea la siguiente matriz:"
   ],
   "metadata": {
    "collapsed": false
   },
   "id": "20525bc0ec88c6a3"
  },
  {
   "cell_type": "code",
   "execution_count": 22,
   "id": "initial_id",
   "metadata": {
    "collapsed": true,
    "ExecuteTime": {
     "end_time": "2023-11-08T16:35:57.087542900Z",
     "start_time": "2023-11-08T16:35:56.972003Z"
    }
   },
   "outputs": [],
   "source": [
    "import numpy as np\n",
    "import tabulate"
   ]
  },
  {
   "cell_type": "code",
   "execution_count": 23,
   "outputs": [],
   "source": [
    "my_matrix = np.array([\n",
    "    [1, 4, 6, 5],\n",
    "    [4, 1, 7, 3],\n",
    "    [2, 9, 1, 2],\n",
    "    [6, 3, 1, 1],\n",
    "])"
   ],
   "metadata": {
    "collapsed": false,
    "ExecuteTime": {
     "end_time": "2023-11-08T16:35:57.087542900Z",
     "start_time": "2023-11-08T16:35:56.978368Z"
    }
   },
   "id": "e2b892f3738c41e0"
  },
  {
   "cell_type": "markdown",
   "source": [
    "Muestra el elemento de la fila 2º y la columna 3º. Es el valor del 7."
   ],
   "metadata": {
    "collapsed": false
   },
   "id": "b9f7f1fae5a911a7"
  },
  {
   "cell_type": "code",
   "execution_count": 24,
   "outputs": [
    {
     "name": "stdout",
     "output_type": "stream",
     "text": [
      "The element in the second row, third column is : 7\n"
     ]
    }
   ],
   "source": [
    "print(f\"The element in the second row, third column is : {my_matrix[1, 2]}\")"
   ],
   "metadata": {
    "collapsed": false,
    "ExecuteTime": {
     "end_time": "2023-11-08T16:35:57.087542900Z",
     "start_time": "2023-11-08T16:35:56.982309400Z"
    }
   },
   "id": "8b8c383a48aca6e0"
  },
  {
   "cell_type": "markdown",
   "source": [
    "Muestra la 3º Fila"
   ],
   "metadata": {
    "collapsed": false
   },
   "id": "301cf892d57258c8"
  },
  {
   "cell_type": "code",
   "execution_count": 25,
   "outputs": [
    {
     "name": "stdout",
     "output_type": "stream",
     "text": [
      "The third row has the following values: [2 9 1 2]\n"
     ]
    }
   ],
   "source": [
    "print(f\"The third row has the following values: {my_matrix[2]}\")"
   ],
   "metadata": {
    "collapsed": false,
    "ExecuteTime": {
     "end_time": "2023-11-08T16:35:57.157502700Z",
     "start_time": "2023-11-08T16:35:56.988360400Z"
    }
   },
   "id": "41923cef62815966"
  },
  {
   "cell_type": "markdown",
   "source": [
    "Muestra la 2º Columna"
   ],
   "metadata": {
    "collapsed": false
   },
   "id": "9d922288c7737e"
  },
  {
   "cell_type": "code",
   "execution_count": 26,
   "outputs": [
    {
     "name": "stdout",
     "output_type": "stream",
     "text": [
      "The second column has the following values: [4 1 9 3]\n"
     ]
    }
   ],
   "source": [
    "print(f\"The second column has the following values: {my_matrix[:, 1]}\")"
   ],
   "metadata": {
    "collapsed": false,
    "ExecuteTime": {
     "end_time": "2023-11-08T16:35:57.157502700Z",
     "start_time": "2023-11-08T16:35:56.994253100Z"
    }
   },
   "id": "49f23a99151cae05"
  },
  {
   "cell_type": "markdown",
   "source": [
    "Muestra la 2º y 3º Columna"
   ],
   "metadata": {
    "collapsed": false
   },
   "id": "d5d248834a29fe80"
  },
  {
   "cell_type": "code",
   "execution_count": 27,
   "outputs": [
    {
     "name": "stdout",
     "output_type": "stream",
     "text": [
      "The second and third columns have the following values: [[4 6]\n",
      " [1 7]\n",
      " [9 1]\n",
      " [3 1]]\n"
     ]
    }
   ],
   "source": [
    "print(f\"The second and third columns have the following values: {my_matrix[:, [1, 2]]}\")"
   ],
   "metadata": {
    "collapsed": false,
    "ExecuteTime": {
     "end_time": "2023-11-08T16:35:57.162262100Z",
     "start_time": "2023-11-08T16:35:57.004063500Z"
    }
   },
   "id": "621c2b165845c2d4"
  },
  {
   "cell_type": "markdown",
   "source": [
    "Muestra la 2º y 3º Fila"
   ],
   "metadata": {
    "collapsed": false
   },
   "id": "fb1bd35b4d8f3a96"
  },
  {
   "cell_type": "code",
   "execution_count": 28,
   "outputs": [
    {
     "name": "stdout",
     "output_type": "stream",
     "text": [
      "The second and third columns have the following values: [[4 1 7 3]\n",
      " [2 9 1 2]]\n"
     ]
    }
   ],
   "source": [
    "print(f\"The second and third columns have the following values: {my_matrix[[1, 2]]}\")"
   ],
   "metadata": {
    "collapsed": false,
    "ExecuteTime": {
     "end_time": "2023-11-08T16:35:57.162765500Z",
     "start_time": "2023-11-08T16:35:57.013853100Z"
    }
   },
   "id": "f94fe6adb554eb65"
  },
  {
   "cell_type": "markdown",
   "source": [
    "Muestra la última columna. Debe funcionar independientemente del número de columnas."
   ],
   "metadata": {
    "collapsed": false
   },
   "id": "599613a4b4b5aac2"
  },
  {
   "cell_type": "code",
   "execution_count": 29,
   "outputs": [
    {
     "name": "stdout",
     "output_type": "stream",
     "text": [
      "The last column the following values: [5 3 2 1]\n"
     ]
    }
   ],
   "source": [
    "print(f\"The last column the following values: {my_matrix[:, -1]}\")"
   ],
   "metadata": {
    "collapsed": false,
    "ExecuteTime": {
     "end_time": "2023-11-08T16:35:57.173236300Z",
     "start_time": "2023-11-08T16:35:57.022574Z"
    }
   },
   "id": "b048435686d1890"
  },
  {
   "cell_type": "markdown",
   "source": [
    "Muestra la 2º y 3º Columna y la 1º y 3º fila"
   ],
   "metadata": {
    "collapsed": false
   },
   "id": "391314b746be866"
  },
  {
   "cell_type": "code",
   "execution_count": 30,
   "outputs": [
    {
     "name": "stdout",
     "output_type": "stream",
     "text": [
      "The 2nd and 3rd columns and 1st and 4th rows are: [[4 6]\n",
      " [9 1]]\n"
     ]
    }
   ],
   "source": [
    "print(f\"The 2nd and 3rd columns and 1st and 4th rows are: {my_matrix[[0, 2], :][:, [1, 2]]}\")"
   ],
   "metadata": {
    "collapsed": false,
    "ExecuteTime": {
     "end_time": "2023-11-08T16:35:57.173236300Z",
     "start_time": "2023-11-08T16:35:57.027353600Z"
    }
   },
   "id": "6ea1eaf027878a13"
  },
  {
   "cell_type": "markdown",
   "source": [
    "Muestra de la 2º a la 3º Columna y de la 1º a la 3º fila"
   ],
   "metadata": {
    "collapsed": false
   },
   "id": "d62c621cdeabd417"
  },
  {
   "cell_type": "code",
   "execution_count": 31,
   "outputs": [
    {
     "name": "stdout",
     "output_type": "stream",
     "text": [
      "The elements from 2nd to 3rd column and 1st to 3rd row are: [[4 6]\n",
      " [1 7]\n",
      " [9 1]]\n"
     ]
    }
   ],
   "source": [
    "print(f\"The elements from 2nd to 3rd column and 1st to 3rd row are: {my_matrix[:3, 1:3]}\")"
   ],
   "metadata": {
    "collapsed": false,
    "ExecuteTime": {
     "end_time": "2023-11-08T16:35:57.177071300Z",
     "start_time": "2023-11-08T16:35:57.041328800Z"
    }
   },
   "id": "572fdb597ff8848e"
  },
  {
   "cell_type": "markdown",
   "source": [
    "Muestra todas las columnas excepto la primera y la última. Debe funcionar independientemente del número de columnas."
   ],
   "metadata": {
    "collapsed": false
   },
   "id": "d8b6c0adba0a89d9"
  },
  {
   "cell_type": "code",
   "execution_count": 32,
   "outputs": [
    {
     "name": "stdout",
     "output_type": "stream",
     "text": [
      "The elements except first and last column are: [[4 6]\n",
      " [1 7]\n",
      " [9 1]\n",
      " [3 1]]\n"
     ]
    }
   ],
   "source": [
    "print(f\"The elements except first and last column are: {my_matrix[:, 1:-1]}\")"
   ],
   "metadata": {
    "collapsed": false,
    "ExecuteTime": {
     "end_time": "2023-11-08T16:35:57.177591100Z",
     "start_time": "2023-11-08T16:35:57.050448300Z"
    }
   },
   "id": "7bba2d7d1bb1aacb"
  },
  {
   "cell_type": "markdown",
   "source": [
    "Muestra todas las filas excepto la primera y la última. Debe funcionar independientemente del número de filas."
   ],
   "metadata": {
    "collapsed": false
   },
   "id": "8168ac738103b77b"
  },
  {
   "cell_type": "code",
   "execution_count": 33,
   "outputs": [
    {
     "name": "stdout",
     "output_type": "stream",
     "text": [
      "The elements except first and last rows are: [[4 1 7 3]\n",
      " [2 9 1 2]]\n"
     ]
    }
   ],
   "source": [
    "print(f\"The elements except first and last rows are: {my_matrix[1:-1]}\")"
   ],
   "metadata": {
    "collapsed": false,
    "ExecuteTime": {
     "end_time": "2023-11-08T16:35:57.178612200Z",
     "start_time": "2023-11-08T16:35:57.059601600Z"
    }
   },
   "id": "c0b836ee6825cca6"
  },
  {
   "cell_type": "markdown",
   "source": [
    "Muestra todas las columnas excepto la primera y la última y todas las filas excepto la primera y la última. Debe funcionar independientemente del número de filas y columnas."
   ],
   "metadata": {
    "collapsed": false
   },
   "id": "315e6709be0d3d0b"
  },
  {
   "cell_type": "code",
   "execution_count": 34,
   "outputs": [
    {
     "name": "stdout",
     "output_type": "stream",
     "text": [
      "The elements except first and last rows and columns are: [[1 7]\n",
      " [9 1]]\n"
     ]
    }
   ],
   "source": [
    "print(f\"The elements except first and last rows and columns are: {my_matrix[1:-1, 1:-1]}\")"
   ],
   "metadata": {
    "collapsed": false,
    "ExecuteTime": {
     "end_time": "2023-11-08T16:35:57.179663900Z",
     "start_time": "2023-11-08T16:35:57.068847Z"
    }
   },
   "id": "5e227b832b94ddda"
  },
  {
   "cell_type": "markdown",
   "source": [
    "Imprime la matriz y haz que las cabeceras de cada columna sean A, B , C y D"
   ],
   "metadata": {
    "collapsed": false
   },
   "id": "52b1e2ab6767b7bd"
  },
  {
   "cell_type": "code",
   "execution_count": 35,
   "outputs": [
    {
     "name": "stdout",
     "output_type": "stream",
     "text": [
      "  A    B    C    D\n",
      "---  ---  ---  ---\n",
      "  1    4    6    5\n",
      "  4    1    7    3\n",
      "  2    9    1    2\n",
      "  6    3    1    1\n"
     ]
    }
   ],
   "source": [
    "print(tabulate.tabulate(my_matrix, headers=[\"A\", \"B\", \"C\", \"D\"]))"
   ],
   "metadata": {
    "collapsed": false,
    "ExecuteTime": {
     "end_time": "2023-11-08T16:35:57.188930200Z",
     "start_time": "2023-11-08T16:35:57.073288100Z"
    }
   },
   "id": "86c930b6e0752245"
  },
  {
   "cell_type": "markdown",
   "source": [],
   "metadata": {
    "collapsed": false
   },
   "id": "e41bc03af6390376"
  }
 ],
 "metadata": {
  "kernelspec": {
   "display_name": "Python 3",
   "language": "python",
   "name": "python3"
  },
  "language_info": {
   "codemirror_mode": {
    "name": "ipython",
    "version": 2
   },
   "file_extension": ".py",
   "mimetype": "text/x-python",
   "name": "python",
   "nbconvert_exporter": "python",
   "pygments_lexer": "ipython2",
   "version": "2.7.6"
  }
 },
 "nbformat": 4,
 "nbformat_minor": 5
}
