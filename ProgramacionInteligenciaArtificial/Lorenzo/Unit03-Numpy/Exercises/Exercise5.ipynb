{
 "cells": [
  {
   "cell_type": "markdown",
   "source": [
    "Ejercicio 5: Matrices e Iris\n",
    "Carga los datos del ejemplo de las flores con el siguiente código:"
   ],
   "metadata": {
    "collapsed": false
   },
   "id": "2835d0a13ff11679"
  },
  {
   "cell_type": "code",
   "execution_count": 9,
   "id": "initial_id",
   "metadata": {
    "collapsed": true,
    "ExecuteTime": {
     "end_time": "2023-11-08T17:12:36.757375800Z",
     "start_time": "2023-11-08T17:12:36.745484900Z"
    }
   },
   "outputs": [],
   "source": [
    "import numpy as np\n",
    "from sklearn.datasets import load_iris\n",
    "\n",
    "datos = load_iris().data\n",
    "resultado = load_iris().target"
   ]
  },
  {
   "cell_type": "markdown",
   "source": [
    "Crea un array llamado sepal_length con las 99 primeras filas y la 1º columna de la matriz datos"
   ],
   "metadata": {
    "collapsed": false
   },
   "id": "becd5aa39120b524"
  },
  {
   "cell_type": "code",
   "execution_count": 10,
   "outputs": [
    {
     "data": {
      "text/plain": "array([5.1, 4.9, 4.7, 4.6, 5. , 5.4, 4.6, 5. , 4.4, 4.9, 5.4, 4.8, 4.8,\n       4.3, 5.8, 5.7, 5.4, 5.1, 5.7, 5.1, 5.4, 5.1, 4.6, 5.1, 4.8, 5. ,\n       5. , 5.2, 5.2, 4.7, 4.8, 5.4, 5.2, 5.5, 4.9, 5. , 5.5, 4.9, 4.4,\n       5.1, 5. , 4.5, 4.4, 5. , 5.1, 4.8, 5.1, 4.6, 5.3, 5. , 7. , 6.4,\n       6.9, 5.5, 6.5, 5.7, 6.3, 4.9, 6.6, 5.2, 5. , 5.9, 6. , 6.1, 5.6,\n       6.7, 5.6, 5.8, 6.2, 5.6, 5.9, 6.1, 6.3, 6.1, 6.4, 6.6, 6.8, 6.7,\n       6. , 5.7, 5.5, 5.5, 5.8, 6. , 5.4, 6. , 6.7, 6.3, 5.6, 5.5, 5.5,\n       6.1, 5.8, 5. , 5.6, 5.7, 5.7, 6.2, 5.1])"
     },
     "execution_count": 10,
     "metadata": {},
     "output_type": "execute_result"
    }
   ],
   "source": [
    "sepal_length = datos[:99, 0]\n",
    "sepal_length"
   ],
   "metadata": {
    "collapsed": false,
    "ExecuteTime": {
     "end_time": "2023-11-08T17:12:36.775189500Z",
     "start_time": "2023-11-08T17:12:36.749498700Z"
    }
   },
   "id": "fc45f5197c9154d6"
  },
  {
   "cell_type": "markdown",
   "source": [
    "Crea un array llamado petal_length con las 99 primeras filas y la 3º columna de la matriz datos"
   ],
   "metadata": {
    "collapsed": false
   },
   "id": "a97f93a5175fb5f8"
  },
  {
   "cell_type": "code",
   "execution_count": 11,
   "outputs": [
    {
     "data": {
      "text/plain": "array([1.4, 1.4, 1.3, 1.5, 1.4, 1.7, 1.4, 1.5, 1.4, 1.5, 1.5, 1.6, 1.4,\n       1.1, 1.2, 1.5, 1.3, 1.4, 1.7, 1.5, 1.7, 1.5, 1. , 1.7, 1.9, 1.6,\n       1.6, 1.5, 1.4, 1.6, 1.6, 1.5, 1.5, 1.4, 1.5, 1.2, 1.3, 1.4, 1.3,\n       1.5, 1.3, 1.3, 1.3, 1.6, 1.9, 1.4, 1.6, 1.4, 1.5, 1.4, 4.7, 4.5,\n       4.9, 4. , 4.6, 4.5, 4.7, 3.3, 4.6, 3.9, 3.5, 4.2, 4. , 4.7, 3.6,\n       4.4, 4.5, 4.1, 4.5, 3.9, 4.8, 4. , 4.9, 4.7, 4.3, 4.4, 4.8, 5. ,\n       4.5, 3.5, 3.8, 3.7, 3.9, 5.1, 4.5, 4.5, 4.7, 4.4, 4.1, 4. , 4.4,\n       4.6, 4. , 3.3, 4.2, 4.2, 4.2, 4.3, 3. ])"
     },
     "execution_count": 11,
     "metadata": {},
     "output_type": "execute_result"
    }
   ],
   "source": [
    "petal_length = datos[:99, 2]\n",
    "petal_length"
   ],
   "metadata": {
    "collapsed": false,
    "ExecuteTime": {
     "end_time": "2023-11-08T17:12:36.777131900Z",
     "start_time": "2023-11-08T17:12:36.756062500Z"
    }
   },
   "id": "856b2ce93f992b15"
  },
  {
   "cell_type": "markdown",
   "source": [
    "Crea un array llamado x juntando las 2 columnas sepal_length y petal_length"
   ],
   "metadata": {
    "collapsed": false
   },
   "id": "242fa8e65026206"
  },
  {
   "cell_type": "code",
   "execution_count": 12,
   "outputs": [
    {
     "data": {
      "text/plain": "array([[5.1, 1.4],\n       [4.9, 1.4],\n       [4.7, 1.3],\n       [4.6, 1.5],\n       [5. , 1.4],\n       [5.4, 1.7],\n       [4.6, 1.4],\n       [5. , 1.5],\n       [4.4, 1.4],\n       [4.9, 1.5],\n       [5.4, 1.5],\n       [4.8, 1.6],\n       [4.8, 1.4],\n       [4.3, 1.1],\n       [5.8, 1.2],\n       [5.7, 1.5],\n       [5.4, 1.3],\n       [5.1, 1.4],\n       [5.7, 1.7],\n       [5.1, 1.5],\n       [5.4, 1.7],\n       [5.1, 1.5],\n       [4.6, 1. ],\n       [5.1, 1.7],\n       [4.8, 1.9],\n       [5. , 1.6],\n       [5. , 1.6],\n       [5.2, 1.5],\n       [5.2, 1.4],\n       [4.7, 1.6],\n       [4.8, 1.6],\n       [5.4, 1.5],\n       [5.2, 1.5],\n       [5.5, 1.4],\n       [4.9, 1.5],\n       [5. , 1.2],\n       [5.5, 1.3],\n       [4.9, 1.4],\n       [4.4, 1.3],\n       [5.1, 1.5],\n       [5. , 1.3],\n       [4.5, 1.3],\n       [4.4, 1.3],\n       [5. , 1.6],\n       [5.1, 1.9],\n       [4.8, 1.4],\n       [5.1, 1.6],\n       [4.6, 1.4],\n       [5.3, 1.5],\n       [5. , 1.4],\n       [7. , 4.7],\n       [6.4, 4.5],\n       [6.9, 4.9],\n       [5.5, 4. ],\n       [6.5, 4.6],\n       [5.7, 4.5],\n       [6.3, 4.7],\n       [4.9, 3.3],\n       [6.6, 4.6],\n       [5.2, 3.9],\n       [5. , 3.5],\n       [5.9, 4.2],\n       [6. , 4. ],\n       [6.1, 4.7],\n       [5.6, 3.6],\n       [6.7, 4.4],\n       [5.6, 4.5],\n       [5.8, 4.1],\n       [6.2, 4.5],\n       [5.6, 3.9],\n       [5.9, 4.8],\n       [6.1, 4. ],\n       [6.3, 4.9],\n       [6.1, 4.7],\n       [6.4, 4.3],\n       [6.6, 4.4],\n       [6.8, 4.8],\n       [6.7, 5. ],\n       [6. , 4.5],\n       [5.7, 3.5],\n       [5.5, 3.8],\n       [5.5, 3.7],\n       [5.8, 3.9],\n       [6. , 5.1],\n       [5.4, 4.5],\n       [6. , 4.5],\n       [6.7, 4.7],\n       [6.3, 4.4],\n       [5.6, 4.1],\n       [5.5, 4. ],\n       [5.5, 4.4],\n       [6.1, 4.6],\n       [5.8, 4. ],\n       [5. , 3.3],\n       [5.6, 4.2],\n       [5.7, 4.2],\n       [5.7, 4.2],\n       [6.2, 4.3],\n       [5.1, 3. ]])"
     },
     "execution_count": 12,
     "metadata": {},
     "output_type": "execute_result"
    }
   ],
   "source": [
    "x = np.column_stack((sepal_length, petal_length))\n",
    "x"
   ],
   "metadata": {
    "collapsed": false,
    "ExecuteTime": {
     "end_time": "2023-11-08T17:12:36.802334100Z",
     "start_time": "2023-11-08T17:12:36.764628600Z"
    }
   },
   "id": "e64d8ebe6b510d1d"
  },
  {
   "cell_type": "markdown",
   "source": [
    "Crea un array llamado y con las 99 primeras filas del vector resultado"
   ],
   "metadata": {
    "collapsed": false
   },
   "id": "864757ee87d6a2e4"
  },
  {
   "cell_type": "code",
   "execution_count": 13,
   "outputs": [
    {
     "data": {
      "text/plain": "array([0, 0, 0, 0, 0, 0, 0, 0, 0, 0, 0, 0, 0, 0, 0, 0, 0, 0, 0, 0, 0, 0,\n       0, 0, 0, 0, 0, 0, 0, 0, 0, 0, 0, 0, 0, 0, 0, 0, 0, 0, 0, 0, 0, 0,\n       0, 0, 0, 0, 0, 0, 1, 1, 1, 1, 1, 1, 1, 1, 1, 1, 1, 1, 1, 1, 1, 1,\n       1, 1, 1, 1, 1, 1, 1, 1, 1, 1, 1, 1, 1, 1, 1, 1, 1, 1, 1, 1, 1, 1,\n       1, 1, 1, 1, 1, 1, 1, 1, 1, 1, 1])"
     },
     "execution_count": 13,
     "metadata": {},
     "output_type": "execute_result"
    }
   ],
   "source": [
    "y = resultado[:99]\n",
    "y"
   ],
   "metadata": {
    "collapsed": false,
    "ExecuteTime": {
     "end_time": "2023-11-08T17:13:03.496585500Z",
     "start_time": "2023-11-08T17:13:03.489841100Z"
    }
   },
   "id": "4c09cacd148d15"
  }
 ],
 "metadata": {
  "kernelspec": {
   "display_name": "Python 3",
   "language": "python",
   "name": "python3"
  },
  "language_info": {
   "codemirror_mode": {
    "name": "ipython",
    "version": 2
   },
   "file_extension": ".py",
   "mimetype": "text/x-python",
   "name": "python",
   "nbconvert_exporter": "python",
   "pygments_lexer": "ipython2",
   "version": "2.7.6"
  }
 },
 "nbformat": 4,
 "nbformat_minor": 5
}
