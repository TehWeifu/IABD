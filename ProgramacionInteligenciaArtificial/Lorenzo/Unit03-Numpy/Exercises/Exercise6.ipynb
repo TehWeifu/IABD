{
 "cells": [
  {
   "cell_type": "markdown",
   "source": [
    "Ejercicio 6: Matrices e Iris\n",
    "\n",
    "Carga los datos del ejemplo de las flores con el siguiente código:"
   ],
   "metadata": {
    "collapsed": false
   },
   "id": "b043af83b738e294"
  },
  {
   "cell_type": "code",
   "execution_count": 1,
   "id": "initial_id",
   "metadata": {
    "collapsed": true,
    "ExecuteTime": {
     "end_time": "2023-11-08T17:15:37.385170800Z",
     "start_time": "2023-11-08T17:15:36.888603700Z"
    }
   },
   "outputs": [],
   "source": [
    "from sklearn.datasets import load_iris\n",
    "\n",
    "datos = load_iris().data\n",
    "resultado = load_iris().target"
   ]
  },
  {
   "cell_type": "markdown",
   "source": [
    "Crea un array llamado x con las 99 primeras filas, la 1º columna y la 3º columna de la matriz datos"
   ],
   "metadata": {
    "collapsed": false
   },
   "id": "dc1633ef8d04a58"
  },
  {
   "cell_type": "code",
   "execution_count": 2,
   "outputs": [
    {
     "data": {
      "text/plain": "array([[5.1, 1.4],\n       [4.9, 1.4],\n       [4.7, 1.3],\n       [4.6, 1.5],\n       [5. , 1.4],\n       [5.4, 1.7],\n       [4.6, 1.4],\n       [5. , 1.5],\n       [4.4, 1.4],\n       [4.9, 1.5],\n       [5.4, 1.5],\n       [4.8, 1.6],\n       [4.8, 1.4],\n       [4.3, 1.1],\n       [5.8, 1.2],\n       [5.7, 1.5],\n       [5.4, 1.3],\n       [5.1, 1.4],\n       [5.7, 1.7],\n       [5.1, 1.5],\n       [5.4, 1.7],\n       [5.1, 1.5],\n       [4.6, 1. ],\n       [5.1, 1.7],\n       [4.8, 1.9],\n       [5. , 1.6],\n       [5. , 1.6],\n       [5.2, 1.5],\n       [5.2, 1.4],\n       [4.7, 1.6],\n       [4.8, 1.6],\n       [5.4, 1.5],\n       [5.2, 1.5],\n       [5.5, 1.4],\n       [4.9, 1.5],\n       [5. , 1.2],\n       [5.5, 1.3],\n       [4.9, 1.4],\n       [4.4, 1.3],\n       [5.1, 1.5],\n       [5. , 1.3],\n       [4.5, 1.3],\n       [4.4, 1.3],\n       [5. , 1.6],\n       [5.1, 1.9],\n       [4.8, 1.4],\n       [5.1, 1.6],\n       [4.6, 1.4],\n       [5.3, 1.5],\n       [5. , 1.4],\n       [7. , 4.7],\n       [6.4, 4.5],\n       [6.9, 4.9],\n       [5.5, 4. ],\n       [6.5, 4.6],\n       [5.7, 4.5],\n       [6.3, 4.7],\n       [4.9, 3.3],\n       [6.6, 4.6],\n       [5.2, 3.9],\n       [5. , 3.5],\n       [5.9, 4.2],\n       [6. , 4. ],\n       [6.1, 4.7],\n       [5.6, 3.6],\n       [6.7, 4.4],\n       [5.6, 4.5],\n       [5.8, 4.1],\n       [6.2, 4.5],\n       [5.6, 3.9],\n       [5.9, 4.8],\n       [6.1, 4. ],\n       [6.3, 4.9],\n       [6.1, 4.7],\n       [6.4, 4.3],\n       [6.6, 4.4],\n       [6.8, 4.8],\n       [6.7, 5. ],\n       [6. , 4.5],\n       [5.7, 3.5],\n       [5.5, 3.8],\n       [5.5, 3.7],\n       [5.8, 3.9],\n       [6. , 5.1],\n       [5.4, 4.5],\n       [6. , 4.5],\n       [6.7, 4.7],\n       [6.3, 4.4],\n       [5.6, 4.1],\n       [5.5, 4. ],\n       [5.5, 4.4],\n       [6.1, 4.6],\n       [5.8, 4. ],\n       [5. , 3.3],\n       [5.6, 4.2],\n       [5.7, 4.2],\n       [5.7, 4.2],\n       [6.2, 4.3],\n       [5.1, 3. ]])"
     },
     "execution_count": 2,
     "metadata": {},
     "output_type": "execute_result"
    }
   ],
   "source": [
    "x = datos[:99, [0, 2]]\n",
    "x"
   ],
   "metadata": {
    "collapsed": false,
    "ExecuteTime": {
     "end_time": "2023-11-08T17:15:37.398235300Z",
     "start_time": "2023-11-08T17:15:37.385170800Z"
    }
   },
   "id": "380786a890edf702"
  },
  {
   "cell_type": "markdown",
   "source": [
    "Crea un array llamado y con las 99 primeras filas del vector resultado"
   ],
   "metadata": {
    "collapsed": false
   },
   "id": "db3c3a4e90494ae4"
  },
  {
   "cell_type": "code",
   "execution_count": 3,
   "outputs": [
    {
     "data": {
      "text/plain": "array([0, 0, 0, 0, 0, 0, 0, 0, 0, 0, 0, 0, 0, 0, 0, 0, 0, 0, 0, 0, 0, 0,\n       0, 0, 0, 0, 0, 0, 0, 0, 0, 0, 0, 0, 0, 0, 0, 0, 0, 0, 0, 0, 0, 0,\n       0, 0, 0, 0, 0, 0, 1, 1, 1, 1, 1, 1, 1, 1, 1, 1, 1, 1, 1, 1, 1, 1,\n       1, 1, 1, 1, 1, 1, 1, 1, 1, 1, 1, 1, 1, 1, 1, 1, 1, 1, 1, 1, 1, 1,\n       1, 1, 1, 1, 1, 1, 1, 1, 1, 1, 1])"
     },
     "execution_count": 3,
     "metadata": {},
     "output_type": "execute_result"
    }
   ],
   "source": [
    "y = resultado[:99]\n",
    "y"
   ],
   "metadata": {
    "collapsed": false,
    "ExecuteTime": {
     "end_time": "2023-11-08T17:15:37.405570200Z",
     "start_time": "2023-11-08T17:15:37.395225100Z"
    }
   },
   "id": "16938a34771cd927"
  }
 ],
 "metadata": {
  "kernelspec": {
   "display_name": "Python 3",
   "language": "python",
   "name": "python3"
  },
  "language_info": {
   "codemirror_mode": {
    "name": "ipython",
    "version": 2
   },
   "file_extension": ".py",
   "mimetype": "text/x-python",
   "name": "python",
   "nbconvert_exporter": "python",
   "pygments_lexer": "ipython2",
   "version": "2.7.6"
  }
 },
 "nbformat": 4,
 "nbformat_minor": 5
}
