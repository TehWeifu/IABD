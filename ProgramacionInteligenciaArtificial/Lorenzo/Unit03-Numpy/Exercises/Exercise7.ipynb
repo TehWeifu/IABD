{
 "cells": [
  {
   "cell_type": "markdown",
   "source": [
    "Ejercicio 7: Matrices 2D\n",
    "Selecciona las celdas en rojo oscuro de la siguiente matriz:"
   ],
   "metadata": {
    "collapsed": false
   },
   "id": "efeb33bc2474ee7f"
  },
  {
   "cell_type": "code",
   "execution_count": 1,
   "outputs": [],
   "source": [
    "import numpy as np"
   ],
   "metadata": {
    "collapsed": false,
    "ExecuteTime": {
     "end_time": "2023-11-08T17:20:57.699976100Z",
     "start_time": "2023-11-08T17:20:57.629490300Z"
    }
   },
   "id": "fd158cef1f8413c9"
  },
  {
   "cell_type": "code",
   "execution_count": 2,
   "id": "initial_id",
   "metadata": {
    "collapsed": true,
    "ExecuteTime": {
     "end_time": "2023-11-08T17:20:57.705865200Z",
     "start_time": "2023-11-08T17:20:57.705865200Z"
    }
   },
   "outputs": [],
   "source": [
    "red_matrix = np.array([\n",
    "    [False, False, False, False, False, False, False, False],\n",
    "    [False, False, False, False, False, False, False, False],\n",
    "    [False, False, True, True, True, True, False, False],\n",
    "    [False, False, True, True, True, True, False, False],\n",
    "    [False, False, True, True, True, True, False, False],\n",
    "    [False, False, False, False, False, False, False, False],\n",
    "    [False, False, False, False, False, False, False, False],\n",
    "])"
   ]
  },
  {
   "cell_type": "code",
   "execution_count": 3,
   "outputs": [
    {
     "data": {
      "text/plain": "array([[ True,  True,  True,  True],\n       [ True,  True,  True,  True],\n       [ True,  True,  True,  True]])"
     },
     "execution_count": 3,
     "metadata": {},
     "output_type": "execute_result"
    }
   ],
   "source": [
    "red_matrix_selected = red_matrix[2:5, 2:6]\n",
    "red_matrix_selected"
   ],
   "metadata": {
    "collapsed": false,
    "ExecuteTime": {
     "end_time": "2023-11-08T17:20:57.717749900Z",
     "start_time": "2023-11-08T17:20:57.705865200Z"
    }
   },
   "id": "7f59b6072ae9eaac"
  }
 ],
 "metadata": {
  "kernelspec": {
   "display_name": "Python 3",
   "language": "python",
   "name": "python3"
  },
  "language_info": {
   "codemirror_mode": {
    "name": "ipython",
    "version": 2
   },
   "file_extension": ".py",
   "mimetype": "text/x-python",
   "name": "python",
   "nbconvert_exporter": "python",
   "pygments_lexer": "ipython2",
   "version": "2.7.6"
  }
 },
 "nbformat": 4,
 "nbformat_minor": 5
}
