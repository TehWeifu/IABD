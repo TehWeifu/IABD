{
 "cells": [
  {
   "cell_type": "code",
   "execution_count": 2,
   "id": "initial_id",
   "metadata": {
    "collapsed": true,
    "ExecuteTime": {
     "end_time": "2023-11-15T17:25:18.413600100Z",
     "start_time": "2023-11-15T17:25:18.316260400Z"
    }
   },
   "outputs": [],
   "source": [
    "import numpy as np"
   ]
  },
  {
   "cell_type": "code",
   "execution_count": 3,
   "outputs": [
    {
     "name": "stdout",
     "output_type": "stream",
     "text": [
      "The 'array_a' is [ 1  2  5  7  9 12]\n"
     ]
    }
   ],
   "source": [
    "array_a = np.array([1, 2, 5, 7, 9, 12])\n",
    "print(f\"The 'array_a' is {array_a}\")"
   ],
   "metadata": {
    "collapsed": false,
    "ExecuteTime": {
     "end_time": "2023-11-15T17:25:18.413600100Z",
     "start_time": "2023-11-15T17:25:18.397249400Z"
    }
   },
   "id": "1efb699d6c19b7d9"
  },
  {
   "cell_type": "code",
   "execution_count": 4,
   "outputs": [
    {
     "name": "stdout",
     "output_type": "stream",
     "text": [
      "The 'array_b' (array_a > 5) is [False False False  True  True  True]\n"
     ]
    }
   ],
   "source": [
    "array_b = array_a > 5\n",
    "print(f\"The 'array_b' (array_a > 5) is {array_b}\")"
   ],
   "metadata": {
    "collapsed": false,
    "ExecuteTime": {
     "end_time": "2023-11-15T17:25:18.414103900Z",
     "start_time": "2023-11-15T17:25:18.401419200Z"
    }
   },
   "id": "4109c7f01240e08d"
  },
  {
   "cell_type": "code",
   "execution_count": 5,
   "outputs": [
    {
     "name": "stdout",
     "output_type": "stream",
     "text": [
      "The 'array_a_prime' array_a[array_a > 5] is [ 7  9 12]\n"
     ]
    }
   ],
   "source": [
    "array_a_prime = array_a[array_a > 5]\n",
    "print(f\"The 'array_a_prime' array_a[array_a > 5] is {array_a_prime}\")"
   ],
   "metadata": {
    "collapsed": false,
    "ExecuteTime": {
     "end_time": "2023-11-15T17:25:18.428533600Z",
     "start_time": "2023-11-15T17:25:18.412545200Z"
    }
   },
   "id": "eefa6840772b7907"
  },
  {
   "cell_type": "code",
   "execution_count": 6,
   "outputs": [
    {
     "name": "stdout",
     "output_type": "stream",
     "text": [
      "The 'array_names' of elements a > 5 is ['Name4' 'Name5' 'Name6']\n"
     ]
    }
   ],
   "source": [
    "array_names = np.array([\"Name1\", \"Name2\", \"Name3\", \"Name4\", \"Name5\", \"Name6\"])\n",
    "print(f\"The 'array_names' of elements a > 5 is {array_names[array_a > 5]}\")"
   ],
   "metadata": {
    "collapsed": false,
    "ExecuteTime": {
     "end_time": "2023-11-15T17:25:18.428533600Z",
     "start_time": "2023-11-15T17:25:18.416410100Z"
    }
   },
   "id": "b2b920db355119d9"
  },
  {
   "cell_type": "code",
   "execution_count": 7,
   "outputs": [
    {
     "data": {
      "text/plain": "array([60. ,  7. ,  9.5])"
     },
     "execution_count": 7,
     "metadata": {},
     "output_type": "execute_result"
    }
   ],
   "source": [
    "my_array = np.array([\n",
    "    [10, 2, 9.5],\n",
    "    [30, 7, 1.6],\n",
    "    [60, 4, 8.2],\n",
    "])\n",
    "np.max(my_array, axis=0)"
   ],
   "metadata": {
    "collapsed": false,
    "ExecuteTime": {
     "end_time": "2023-11-15T17:25:18.441817Z",
     "start_time": "2023-11-15T17:25:18.423525100Z"
    }
   },
   "id": "64d35cfb7dc0b157"
  },
  {
   "cell_type": "code",
   "execution_count": 8,
   "outputs": [
    {
     "data": {
      "text/plain": "array([-1,  1,  2,  3,  4,  5,  6,  7,  9])"
     },
     "execution_count": 8,
     "metadata": {},
     "output_type": "execute_result"
    }
   ],
   "source": [
    "my_array = np.array([\n",
    "    [1, 2, 3],\n",
    "    [4, 5, 6],\n",
    "    [7, 1, 3],\n",
    "    [9, -1, 3],\n",
    "])\n",
    "np.unique(my_array)"
   ],
   "metadata": {
    "collapsed": false,
    "ExecuteTime": {
     "end_time": "2023-11-15T17:25:18.441817Z",
     "start_time": "2023-11-15T17:25:18.433643300Z"
    }
   },
   "id": "9d1abce4a41290d4"
  },
  {
   "cell_type": "code",
   "execution_count": 9,
   "outputs": [
    {
     "data": {
      "text/plain": "5"
     },
     "execution_count": 9,
     "metadata": {},
     "output_type": "execute_result"
    }
   ],
   "source": [
    "my_array = np.array([10, 20, 30, 40, 50], dtype=np.int8)\n",
    "my_array.nbytes"
   ],
   "metadata": {
    "collapsed": false,
    "ExecuteTime": {
     "end_time": "2023-11-15T17:25:18.533607500Z",
     "start_time": "2023-11-15T17:25:18.441817Z"
    }
   },
   "id": "57f2271b3a78e181"
  },
  {
   "cell_type": "code",
   "execution_count": 10,
   "outputs": [
    {
     "data": {
      "text/plain": "20"
     },
     "execution_count": 10,
     "metadata": {},
     "output_type": "execute_result"
    }
   ],
   "source": [
    "my_array = np.array([10, 20, 30, 40, 50])\n",
    "my_array.nbytes"
   ],
   "metadata": {
    "collapsed": false,
    "ExecuteTime": {
     "end_time": "2023-11-15T17:25:18.533607500Z",
     "start_time": "2023-11-15T17:25:18.447519900Z"
    }
   },
   "id": "6b194e75dbb48b02"
  },
  {
   "cell_type": "code",
   "execution_count": 11,
   "outputs": [
    {
     "name": "stdout",
     "output_type": "stream",
     "text": [
      "[1.e-05 2.e-05 3.e-05 4.e-05 5.e-05]\n"
     ]
    }
   ],
   "source": [
    "np.set_printoptions(suppress=False)\n",
    "a = np.array([0.000010, 0.000020, 0.000030, 0.000040, 0.000050])\n",
    "print(a)"
   ],
   "metadata": {
    "collapsed": false,
    "ExecuteTime": {
     "end_time": "2023-11-15T17:25:18.533607500Z",
     "start_time": "2023-11-15T17:25:18.454124700Z"
    }
   },
   "id": "7e22d97ba73e7f32"
  },
  {
   "cell_type": "code",
   "execution_count": 12,
   "outputs": [
    {
     "name": "stdout",
     "output_type": "stream",
     "text": [
      "[0.00001 0.00002 0.00003 0.00004 0.00005]\n"
     ]
    }
   ],
   "source": [
    "np.set_printoptions(suppress=True)\n",
    "a = np.array([0.000010, 0.000020, 0.000030, 0.000040, 0.000050])\n",
    "print(a)"
   ],
   "metadata": {
    "collapsed": false,
    "ExecuteTime": {
     "end_time": "2023-11-15T17:25:18.533607500Z",
     "start_time": "2023-11-15T17:25:18.460811900Z"
    }
   },
   "id": "43ff405bab8ec98b"
  },
  {
   "cell_type": "markdown",
   "source": [
    "Casting arrays"
   ],
   "metadata": {
    "collapsed": false
   },
   "id": "f637e3e819a9d698"
  },
  {
   "cell_type": "code",
   "execution_count": 13,
   "outputs": [
    {
     "name": "stdout",
     "output_type": "stream",
     "text": [
      "24\n",
      "6\n"
     ]
    }
   ],
   "source": [
    "my_array = np.array([[10, 20], [30, 40], [60, 70]])\n",
    "print(my_array.nbytes)\n",
    "\n",
    "my_array_casted = my_array.astype(np.uint8)\n",
    "print(my_array_casted.nbytes)"
   ],
   "metadata": {
    "collapsed": false,
    "ExecuteTime": {
     "end_time": "2023-11-15T17:25:18.533607500Z",
     "start_time": "2023-11-15T17:25:18.467387300Z"
    }
   },
   "id": "f856c7c850373083"
  },
  {
   "cell_type": "code",
   "execution_count": 14,
   "outputs": [
    {
     "name": "stdout",
     "output_type": "stream",
     "text": [
      "24\n",
      "48\n"
     ]
    }
   ],
   "source": [
    "my_array = np.array([[10, 20], [30, 40], [60, 70]])\n",
    "print(my_array.nbytes)\n",
    "\n",
    "my_array_casted = my_array.astype(np.float64)\n",
    "print(my_array_casted.nbytes)"
   ],
   "metadata": {
    "collapsed": false,
    "ExecuteTime": {
     "end_time": "2023-11-15T17:25:18.536234300Z",
     "start_time": "2023-11-15T17:25:18.475680300Z"
    }
   },
   "id": "2e60d00de65b118b"
  },
  {
   "cell_type": "code",
   "execution_count": 24,
   "outputs": [
    {
     "name": "stdout",
     "output_type": "stream",
     "text": [
      "Default: float64 -> 24\n",
      "Float64: float64 -> 24\n",
      "Float32: float32 -> 12\n",
      "Float16: float16 -> 6\n"
     ]
    }
   ],
   "source": [
    "my_array = np.array([1.1, 2.2, 3.3])\n",
    "print('Default:', my_array.dtype, '->', my_array.nbytes)\n",
    "\n",
    "my_array_casted_64 = np.array([1.1, 2.2, 3.3])\n",
    "print('Float64:', my_array_casted_64.dtype, '->', my_array_casted_64.nbytes)\n",
    "\n",
    "my_array_casted_32 = my_array.astype(np.float32)\n",
    "print('Float32:', my_array_casted_32.dtype, '->', my_array_casted_32.nbytes)\n",
    "\n",
    "my_array_casted_16 = my_array.astype(np.float16)\n",
    "print('Float16:', my_array_casted_16.dtype, '->', my_array_casted_16.nbytes)"
   ],
   "metadata": {
    "collapsed": false,
    "ExecuteTime": {
     "end_time": "2023-11-15T17:31:15.554883800Z",
     "start_time": "2023-11-15T17:31:15.539194700Z"
    }
   },
   "id": "b8a8e5b30b9f1444"
  },
  {
   "cell_type": "markdown",
   "source": [],
   "metadata": {
    "collapsed": false
   },
   "id": "cb47e245bc73bb21"
  }
 ],
 "metadata": {
  "kernelspec": {
   "display_name": "Python 3",
   "language": "python",
   "name": "python3"
  },
  "language_info": {
   "codemirror_mode": {
    "name": "ipython",
    "version": 2
   },
   "file_extension": ".py",
   "mimetype": "text/x-python",
   "name": "python",
   "nbconvert_exporter": "python",
   "pygments_lexer": "ipython2",
   "version": "2.7.6"
  }
 },
 "nbformat": 4,
 "nbformat_minor": 5
}
