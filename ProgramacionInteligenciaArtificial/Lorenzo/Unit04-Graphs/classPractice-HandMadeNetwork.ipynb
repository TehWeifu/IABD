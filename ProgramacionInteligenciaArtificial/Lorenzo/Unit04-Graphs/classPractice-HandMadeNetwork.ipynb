{
 "cells": [
  {
   "cell_type": "code",
   "outputs": [],
   "source": [
    "import math"
   ],
   "metadata": {
    "collapsed": false,
    "ExecuteTime": {
     "end_time": "2024-01-11T18:49:47.498707500Z",
     "start_time": "2024-01-11T18:49:47.495061200Z"
    }
   },
   "id": "7169cf6840a084c6",
   "execution_count": 54
  },
  {
   "cell_type": "code",
   "execution_count": 55,
   "id": "initial_id",
   "metadata": {
    "collapsed": true,
    "ExecuteTime": {
     "end_time": "2024-01-11T18:49:47.511359500Z",
     "start_time": "2024-01-11T18:49:47.501851800Z"
    }
   },
   "outputs": [],
   "source": [
    "def predict(x):\n",
    "    neuron1_w = [0.590649, 0.5160302, -0.3307287]\n",
    "    neuron1_b = 0.0\n",
    "\n",
    "    neuron2_w = [1.494882]\n",
    "    neuron2_b = 0.0\n",
    "\n",
    "    return sigmoid([tanh(x, neuron1_w, neuron1_b)], neuron2_w, neuron2_b)"
   ]
  },
  {
   "cell_type": "code",
   "outputs": [],
   "source": [
    "def sigmoid(x, w, b):\n",
    "    return 1 / (1 + math.e ** (-(evaluate_x(x, w, b))))"
   ],
   "metadata": {
    "collapsed": false,
    "ExecuteTime": {
     "end_time": "2024-01-11T18:49:47.524028400Z",
     "start_time": "2024-01-11T18:49:47.505197800Z"
    }
   },
   "id": "1c12e109536f6c9e",
   "execution_count": 56
  },
  {
   "cell_type": "code",
   "outputs": [],
   "source": [
    "def tanh(x, w, b):\n",
    "    return (\n",
    "            (\n",
    "                    math.e ** (evaluate_x(x, w, b)) -\n",
    "                    math.e ** (-evaluate_x(x, w, b))\n",
    "            ) /\n",
    "            (\n",
    "                    math.e ** (evaluate_x(x, w, b)) +\n",
    "                    math.e ** (-evaluate_x(x, w, b))\n",
    "            )\n",
    "    )"
   ],
   "metadata": {
    "collapsed": false,
    "ExecuteTime": {
     "end_time": "2024-01-11T18:49:47.525140700Z",
     "start_time": "2024-01-11T18:49:47.512490800Z"
    }
   },
   "id": "1d2216735a02f389",
   "execution_count": 57
  },
  {
   "cell_type": "code",
   "outputs": [],
   "source": [
    "def evaluate_x(x, w, b):\n",
    "    sum = 0\n",
    "    for i in range(len(x)):\n",
    "        sum += (x[i] * w[i])\n",
    "    return sum + b"
   ],
   "metadata": {
    "collapsed": false,
    "ExecuteTime": {
     "end_time": "2024-01-11T18:49:47.525477700Z",
     "start_time": "2024-01-11T18:49:47.517204Z"
    }
   },
   "id": "2cc1563fd9ce2612",
   "execution_count": 58
  },
  {
   "cell_type": "code",
   "outputs": [
    {
     "name": "stdout",
     "output_type": "stream",
     "text": [
      "Result is 0.6233678547481265\n"
     ]
    }
   ],
   "source": [
    "print(f\"Result is {predict([0.34, 0.72, 0.67])}\")"
   ],
   "metadata": {
    "collapsed": false,
    "ExecuteTime": {
     "end_time": "2024-01-11T18:49:47.537561900Z",
     "start_time": "2024-01-11T18:49:47.521910300Z"
    }
   },
   "id": "3645adc71bcb1f03",
   "execution_count": 59
  }
 ],
 "metadata": {
  "kernelspec": {
   "display_name": "Python 3",
   "language": "python",
   "name": "python3"
  },
  "language_info": {
   "codemirror_mode": {
    "name": "ipython",
    "version": 2
   },
   "file_extension": ".py",
   "mimetype": "text/x-python",
   "name": "python",
   "nbconvert_exporter": "python",
   "pygments_lexer": "ipython2",
   "version": "2.7.6"
  }
 },
 "nbformat": 4,
 "nbformat_minor": 5
}
