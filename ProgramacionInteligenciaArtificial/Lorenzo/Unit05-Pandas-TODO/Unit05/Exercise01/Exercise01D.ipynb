{
 "cells": [
  {
   "cell_type": "markdown",
   "source": [
    "Ejercicio 1.D\n",
    "Siguiendo con el DataFrame anterior imprime por pantalla:\n",
    "\n",
    "El ancho del sépalo de las flores de tipo \"1\"\n",
    "Indica los tipos de flores que hay.\n",
    "Indica cuantos valores de la columna \"target\" son \"null\"\n",
    "Indicar cuantos valores del DataFrame son \"null\"\n",
    "¿Como se borrarían aquellas filas que tienen algún datos que es null?"
   ],
   "metadata": {
    "collapsed": false
   },
   "id": "e38f92a96d540422"
  },
  {
   "cell_type": "code",
   "outputs": [],
   "source": [
    "from sklearn.datasets import load_iris\n",
    "import pandas as pd"
   ],
   "metadata": {
    "collapsed": false,
    "ExecuteTime": {
     "end_time": "2024-02-04T15:29:35.103115500Z",
     "start_time": "2024-02-04T15:29:35.044580600Z"
    }
   },
   "id": "68d9ac8aabff0f42",
   "execution_count": 26
  },
  {
   "cell_type": "code",
   "outputs": [
    {
     "data": {
      "text/plain": "     sepal length (cm)  sepal width (cm)  petal length (cm)  petal width (cm)  \\\n0                  5.1               3.5                1.4               0.2   \n1                  4.9               3.0                1.4               0.2   \n2                  4.7               3.2                1.3               0.2   \n3                  4.6               3.1                1.5               0.2   \n4                  5.0               3.6                1.4               0.2   \n..                 ...               ...                ...               ...   \n145                6.7               3.0                5.2               2.3   \n146                6.3               2.5                5.0               1.9   \n147                6.5               3.0                5.2               2.0   \n148                6.2               3.4                5.4               2.3   \n149                5.9               3.0                5.1               1.8   \n\n     tipo_flor  \n0            0  \n1            0  \n2            0  \n3            0  \n4            0  \n..         ...  \n145          2  \n146          2  \n147          2  \n148          2  \n149          2  \n\n[150 rows x 5 columns]",
      "text/html": "<div>\n<style scoped>\n    .dataframe tbody tr th:only-of-type {\n        vertical-align: middle;\n    }\n\n    .dataframe tbody tr th {\n        vertical-align: top;\n    }\n\n    .dataframe thead th {\n        text-align: right;\n    }\n</style>\n<table border=\"1\" class=\"dataframe\">\n  <thead>\n    <tr style=\"text-align: right;\">\n      <th></th>\n      <th>sepal length (cm)</th>\n      <th>sepal width (cm)</th>\n      <th>petal length (cm)</th>\n      <th>petal width (cm)</th>\n      <th>tipo_flor</th>\n    </tr>\n  </thead>\n  <tbody>\n    <tr>\n      <th>0</th>\n      <td>5.1</td>\n      <td>3.5</td>\n      <td>1.4</td>\n      <td>0.2</td>\n      <td>0</td>\n    </tr>\n    <tr>\n      <th>1</th>\n      <td>4.9</td>\n      <td>3.0</td>\n      <td>1.4</td>\n      <td>0.2</td>\n      <td>0</td>\n    </tr>\n    <tr>\n      <th>2</th>\n      <td>4.7</td>\n      <td>3.2</td>\n      <td>1.3</td>\n      <td>0.2</td>\n      <td>0</td>\n    </tr>\n    <tr>\n      <th>3</th>\n      <td>4.6</td>\n      <td>3.1</td>\n      <td>1.5</td>\n      <td>0.2</td>\n      <td>0</td>\n    </tr>\n    <tr>\n      <th>4</th>\n      <td>5.0</td>\n      <td>3.6</td>\n      <td>1.4</td>\n      <td>0.2</td>\n      <td>0</td>\n    </tr>\n    <tr>\n      <th>...</th>\n      <td>...</td>\n      <td>...</td>\n      <td>...</td>\n      <td>...</td>\n      <td>...</td>\n    </tr>\n    <tr>\n      <th>145</th>\n      <td>6.7</td>\n      <td>3.0</td>\n      <td>5.2</td>\n      <td>2.3</td>\n      <td>2</td>\n    </tr>\n    <tr>\n      <th>146</th>\n      <td>6.3</td>\n      <td>2.5</td>\n      <td>5.0</td>\n      <td>1.9</td>\n      <td>2</td>\n    </tr>\n    <tr>\n      <th>147</th>\n      <td>6.5</td>\n      <td>3.0</td>\n      <td>5.2</td>\n      <td>2.0</td>\n      <td>2</td>\n    </tr>\n    <tr>\n      <th>148</th>\n      <td>6.2</td>\n      <td>3.4</td>\n      <td>5.4</td>\n      <td>2.3</td>\n      <td>2</td>\n    </tr>\n    <tr>\n      <th>149</th>\n      <td>5.9</td>\n      <td>3.0</td>\n      <td>5.1</td>\n      <td>1.8</td>\n      <td>2</td>\n    </tr>\n  </tbody>\n</table>\n<p>150 rows × 5 columns</p>\n</div>"
     },
     "execution_count": 27,
     "metadata": {},
     "output_type": "execute_result"
    }
   ],
   "source": [
    "iris = load_iris()\n",
    "\n",
    "df = pd.DataFrame(iris.data, columns=iris.feature_names)\n",
    "df['tipo_flor'] = iris.target\n",
    "df"
   ],
   "metadata": {
    "collapsed": false,
    "ExecuteTime": {
     "end_time": "2024-02-04T15:29:35.122401400Z",
     "start_time": "2024-02-04T15:29:35.107094900Z"
    }
   },
   "id": "6edbad4987452453",
   "execution_count": 27
  },
  {
   "cell_type": "markdown",
   "source": [
    "El ancho del pétalo de las flores de tipo \"0\" pero cuyo largo del pétalo sea entre [1.3,1.9]"
   ],
   "metadata": {
    "collapsed": false
   },
   "id": "c8342f1f451aab32"
  },
  {
   "cell_type": "code",
   "outputs": [
    {
     "data": {
      "text/plain": "0     0.2\n1     0.2\n2     0.2\n3     0.2\n4     0.2\n5     0.4\n6     0.3\n7     0.2\n8     0.2\n9     0.1\n10    0.2\n11    0.2\n12    0.1\n15    0.4\n16    0.4\n17    0.3\n18    0.3\n19    0.3\n20    0.2\n21    0.4\n23    0.5\n24    0.2\n25    0.2\n26    0.4\n27    0.2\n28    0.2\n29    0.2\n30    0.2\n31    0.4\n32    0.1\n33    0.2\n34    0.2\n36    0.2\n37    0.1\n38    0.2\n39    0.2\n40    0.3\n41    0.3\n42    0.2\n43    0.6\n44    0.4\n45    0.3\n46    0.2\n47    0.2\n48    0.2\n49    0.2\nName: petal width (cm), dtype: float64"
     },
     "execution_count": 28,
     "metadata": {},
     "output_type": "execute_result"
    }
   ],
   "source": [
    "df[(df['tipo_flor'] == 0) & ((df['petal length (cm)'] >= 1.3) & (df['petal length (cm)'] <= 1.9))]['petal width (cm)']"
   ],
   "metadata": {
    "collapsed": false,
    "ExecuteTime": {
     "end_time": "2024-02-04T15:29:35.138602700Z",
     "start_time": "2024-02-04T15:29:35.125433800Z"
    }
   },
   "id": "e8acf7a0a17ffbc7",
   "execution_count": 28
  },
  {
   "cell_type": "markdown",
   "source": [
    "El ancho del sépalo de las flores de tipo \"1\""
   ],
   "metadata": {
    "collapsed": false
   },
   "id": "476d8fd7f47ac451"
  },
  {
   "cell_type": "code",
   "outputs": [
    {
     "data": {
      "text/plain": "50    3.2\n51    3.2\n52    3.1\n53    2.3\n54    2.8\n55    2.8\n56    3.3\n57    2.4\n58    2.9\n59    2.7\n60    2.0\n61    3.0\n62    2.2\n63    2.9\n64    2.9\n65    3.1\n66    3.0\n67    2.7\n68    2.2\n69    2.5\n70    3.2\n71    2.8\n72    2.5\n73    2.8\n74    2.9\n75    3.0\n76    2.8\n77    3.0\n78    2.9\n79    2.6\n80    2.4\n81    2.4\n82    2.7\n83    2.7\n84    3.0\n85    3.4\n86    3.1\n87    2.3\n88    3.0\n89    2.5\n90    2.6\n91    3.0\n92    2.6\n93    2.3\n94    2.7\n95    3.0\n96    2.9\n97    2.9\n98    2.5\n99    2.8\nName: sepal width (cm), dtype: float64"
     },
     "execution_count": 29,
     "metadata": {},
     "output_type": "execute_result"
    }
   ],
   "source": [
    "df[df['tipo_flor'] == 1]['sepal width (cm)']"
   ],
   "metadata": {
    "collapsed": false,
    "ExecuteTime": {
     "end_time": "2024-02-04T15:29:35.191406700Z",
     "start_time": "2024-02-04T15:29:35.134629100Z"
    }
   },
   "id": "cfb082cdef5fc6de",
   "execution_count": 29
  },
  {
   "cell_type": "markdown",
   "source": [
    "Indica los tipos de flores que hay."
   ],
   "metadata": {
    "collapsed": false
   },
   "id": "8b8e104059a570c5"
  },
  {
   "cell_type": "code",
   "outputs": [
    {
     "data": {
      "text/plain": "array([0, 1, 2])"
     },
     "execution_count": 30,
     "metadata": {},
     "output_type": "execute_result"
    }
   ],
   "source": [
    "df['tipo_flor'].unique()"
   ],
   "metadata": {
    "collapsed": false,
    "ExecuteTime": {
     "end_time": "2024-02-04T15:29:35.221076900Z",
     "start_time": "2024-02-04T15:29:35.157292500Z"
    }
   },
   "id": "db923ee1e5b2c1b6",
   "execution_count": 30
  },
  {
   "cell_type": "markdown",
   "source": [
    "Indica cuantos valores de la columna \"target\" son \"null\""
   ],
   "metadata": {
    "collapsed": false
   },
   "id": "8a280eb1df6274e3"
  },
  {
   "cell_type": "code",
   "outputs": [
    {
     "data": {
      "text/plain": "0"
     },
     "execution_count": 31,
     "metadata": {},
     "output_type": "execute_result"
    }
   ],
   "source": [
    "df['tipo_flor'].isnull().sum()"
   ],
   "metadata": {
    "collapsed": false,
    "ExecuteTime": {
     "end_time": "2024-02-04T15:29:35.222099300Z",
     "start_time": "2024-02-04T15:29:35.166383300Z"
    }
   },
   "id": "a0cb6e76b4c5411f",
   "execution_count": 31
  },
  {
   "cell_type": "markdown",
   "source": [
    "Indicar cuantos valores del DataFrame son \"null\""
   ],
   "metadata": {
    "collapsed": false
   },
   "id": "63258515c9893c20"
  },
  {
   "cell_type": "code",
   "outputs": [
    {
     "data": {
      "text/plain": "sepal length (cm)    0\nsepal width (cm)     0\npetal length (cm)    0\npetal width (cm)     0\ntipo_flor            0\ndtype: int64"
     },
     "execution_count": 32,
     "metadata": {},
     "output_type": "execute_result"
    }
   ],
   "source": [
    "df.isnull().sum()"
   ],
   "metadata": {
    "collapsed": false,
    "ExecuteTime": {
     "end_time": "2024-02-04T15:29:35.300077400Z",
     "start_time": "2024-02-04T15:29:35.177060Z"
    }
   },
   "id": "b3f4046a80816a2",
   "execution_count": 32
  },
  {
   "cell_type": "markdown",
   "source": [
    "¿Como se borrarían aquellas filas que tienen algún datos que es null?"
   ],
   "metadata": {
    "collapsed": false
   },
   "id": "6a37023a322a5f08"
  },
  {
   "cell_type": "code",
   "outputs": [
    {
     "data": {
      "text/plain": "     sepal length (cm)  sepal width (cm)  petal length (cm)  petal width (cm)  \\\n0                  5.1               3.5                1.4               0.2   \n1                  4.9               3.0                1.4               0.2   \n2                  4.7               3.2                1.3               0.2   \n3                  4.6               3.1                1.5               0.2   \n4                  5.0               3.6                1.4               0.2   \n..                 ...               ...                ...               ...   \n145                6.7               3.0                5.2               2.3   \n146                6.3               2.5                5.0               1.9   \n147                6.5               3.0                5.2               2.0   \n148                6.2               3.4                5.4               2.3   \n149                5.9               3.0                5.1               1.8   \n\n     tipo_flor  \n0            0  \n1            0  \n2            0  \n3            0  \n4            0  \n..         ...  \n145          2  \n146          2  \n147          2  \n148          2  \n149          2  \n\n[150 rows x 5 columns]",
      "text/html": "<div>\n<style scoped>\n    .dataframe tbody tr th:only-of-type {\n        vertical-align: middle;\n    }\n\n    .dataframe tbody tr th {\n        vertical-align: top;\n    }\n\n    .dataframe thead th {\n        text-align: right;\n    }\n</style>\n<table border=\"1\" class=\"dataframe\">\n  <thead>\n    <tr style=\"text-align: right;\">\n      <th></th>\n      <th>sepal length (cm)</th>\n      <th>sepal width (cm)</th>\n      <th>petal length (cm)</th>\n      <th>petal width (cm)</th>\n      <th>tipo_flor</th>\n    </tr>\n  </thead>\n  <tbody>\n    <tr>\n      <th>0</th>\n      <td>5.1</td>\n      <td>3.5</td>\n      <td>1.4</td>\n      <td>0.2</td>\n      <td>0</td>\n    </tr>\n    <tr>\n      <th>1</th>\n      <td>4.9</td>\n      <td>3.0</td>\n      <td>1.4</td>\n      <td>0.2</td>\n      <td>0</td>\n    </tr>\n    <tr>\n      <th>2</th>\n      <td>4.7</td>\n      <td>3.2</td>\n      <td>1.3</td>\n      <td>0.2</td>\n      <td>0</td>\n    </tr>\n    <tr>\n      <th>3</th>\n      <td>4.6</td>\n      <td>3.1</td>\n      <td>1.5</td>\n      <td>0.2</td>\n      <td>0</td>\n    </tr>\n    <tr>\n      <th>4</th>\n      <td>5.0</td>\n      <td>3.6</td>\n      <td>1.4</td>\n      <td>0.2</td>\n      <td>0</td>\n    </tr>\n    <tr>\n      <th>...</th>\n      <td>...</td>\n      <td>...</td>\n      <td>...</td>\n      <td>...</td>\n      <td>...</td>\n    </tr>\n    <tr>\n      <th>145</th>\n      <td>6.7</td>\n      <td>3.0</td>\n      <td>5.2</td>\n      <td>2.3</td>\n      <td>2</td>\n    </tr>\n    <tr>\n      <th>146</th>\n      <td>6.3</td>\n      <td>2.5</td>\n      <td>5.0</td>\n      <td>1.9</td>\n      <td>2</td>\n    </tr>\n    <tr>\n      <th>147</th>\n      <td>6.5</td>\n      <td>3.0</td>\n      <td>5.2</td>\n      <td>2.0</td>\n      <td>2</td>\n    </tr>\n    <tr>\n      <th>148</th>\n      <td>6.2</td>\n      <td>3.4</td>\n      <td>5.4</td>\n      <td>2.3</td>\n      <td>2</td>\n    </tr>\n    <tr>\n      <th>149</th>\n      <td>5.9</td>\n      <td>3.0</td>\n      <td>5.1</td>\n      <td>1.8</td>\n      <td>2</td>\n    </tr>\n  </tbody>\n</table>\n<p>150 rows × 5 columns</p>\n</div>"
     },
     "execution_count": 33,
     "metadata": {},
     "output_type": "execute_result"
    }
   ],
   "source": [
    "df = df.dropna()\n",
    "df"
   ],
   "metadata": {
    "collapsed": false,
    "ExecuteTime": {
     "end_time": "2024-02-04T15:29:35.332076Z",
     "start_time": "2024-02-04T15:29:35.187407100Z"
    }
   },
   "id": "3033c9012f95a9ac",
   "execution_count": 33
  }
 ],
 "metadata": {
  "kernelspec": {
   "display_name": "Python 3",
   "language": "python",
   "name": "python3"
  },
  "language_info": {
   "codemirror_mode": {
    "name": "ipython",
    "version": 2
   },
   "file_extension": ".py",
   "mimetype": "text/x-python",
   "name": "python",
   "nbconvert_exporter": "python",
   "pygments_lexer": "ipython2",
   "version": "2.7.6"
  }
 },
 "nbformat": 4,
 "nbformat_minor": 5
}
