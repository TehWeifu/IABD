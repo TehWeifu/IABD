{
 "cells": [
  {
   "cell_type": "markdown",
   "source": [
    "Ejercicio 2.A\n",
    "\n",
    "Descarga el siguiente fichero tiempos_red_neuronal.csv que contiene los segundos que ha tardado en entrenarse una red neuronal según el nº de épocas y la función de activación usada"
   ],
   "metadata": {
    "collapsed": false
   },
   "id": "4989da6cb6e76f11"
  },
  {
   "cell_type": "code",
   "outputs": [],
   "source": [
    "import pandas as pd"
   ],
   "metadata": {
    "collapsed": false,
    "ExecuteTime": {
     "end_time": "2024-02-04T16:30:06.149668600Z",
     "start_time": "2024-02-04T16:30:06.085436500Z"
    }
   },
   "id": "e1b44e2148a4b307",
   "execution_count": 20
  },
  {
   "cell_type": "markdown",
   "source": [
    "Abre el fichero con un editor de texto y comprueba que formato tiene"
   ],
   "metadata": {
    "collapsed": false
   },
   "id": "a514bd92a8aa3d70"
  },
  {
   "cell_type": "markdown",
   "source": [
    "Carga el fichero con pandas"
   ],
   "metadata": {
    "collapsed": false
   },
   "id": "5973aa4c98d06af6"
  },
  {
   "cell_type": "code",
   "outputs": [
    {
     "data": {
      "text/plain": "     funcion_activacion  talla       tiempo  desviacion\n0                lineal   12.0   156.885412           0\n1               sigmoid   12.0   160.744537           0\n2                  tanh   12.0   158.876953           0\n3                  relu   12.0   161.685764           0\n4                  selu   12.0   160.904838           0\n...                 ...    ...          ...         ...\n2855                elu  299.0   826.975195           0\n2856               gelu  299.0  1029.175865           0\n2857              swish  299.0   843.051190           0\n2858               mish  299.0   847.101631           0\n2859              lisht  299.0   940.765748           0\n\n[2860 rows x 4 columns]",
      "text/html": "<div>\n<style scoped>\n    .dataframe tbody tr th:only-of-type {\n        vertical-align: middle;\n    }\n\n    .dataframe tbody tr th {\n        vertical-align: top;\n    }\n\n    .dataframe thead th {\n        text-align: right;\n    }\n</style>\n<table border=\"1\" class=\"dataframe\">\n  <thead>\n    <tr style=\"text-align: right;\">\n      <th></th>\n      <th>funcion_activacion</th>\n      <th>talla</th>\n      <th>tiempo</th>\n      <th>desviacion</th>\n    </tr>\n  </thead>\n  <tbody>\n    <tr>\n      <th>0</th>\n      <td>lineal</td>\n      <td>12.0</td>\n      <td>156.885412</td>\n      <td>0</td>\n    </tr>\n    <tr>\n      <th>1</th>\n      <td>sigmoid</td>\n      <td>12.0</td>\n      <td>160.744537</td>\n      <td>0</td>\n    </tr>\n    <tr>\n      <th>2</th>\n      <td>tanh</td>\n      <td>12.0</td>\n      <td>158.876953</td>\n      <td>0</td>\n    </tr>\n    <tr>\n      <th>3</th>\n      <td>relu</td>\n      <td>12.0</td>\n      <td>161.685764</td>\n      <td>0</td>\n    </tr>\n    <tr>\n      <th>4</th>\n      <td>selu</td>\n      <td>12.0</td>\n      <td>160.904838</td>\n      <td>0</td>\n    </tr>\n    <tr>\n      <th>...</th>\n      <td>...</td>\n      <td>...</td>\n      <td>...</td>\n      <td>...</td>\n    </tr>\n    <tr>\n      <th>2855</th>\n      <td>elu</td>\n      <td>299.0</td>\n      <td>826.975195</td>\n      <td>0</td>\n    </tr>\n    <tr>\n      <th>2856</th>\n      <td>gelu</td>\n      <td>299.0</td>\n      <td>1029.175865</td>\n      <td>0</td>\n    </tr>\n    <tr>\n      <th>2857</th>\n      <td>swish</td>\n      <td>299.0</td>\n      <td>843.051190</td>\n      <td>0</td>\n    </tr>\n    <tr>\n      <th>2858</th>\n      <td>mish</td>\n      <td>299.0</td>\n      <td>847.101631</td>\n      <td>0</td>\n    </tr>\n    <tr>\n      <th>2859</th>\n      <td>lisht</td>\n      <td>299.0</td>\n      <td>940.765748</td>\n      <td>0</td>\n    </tr>\n  </tbody>\n</table>\n<p>2860 rows × 4 columns</p>\n</div>"
     },
     "execution_count": 21,
     "metadata": {},
     "output_type": "execute_result"
    }
   ],
   "source": [
    "df = pd.read_csv('./tiempos_red_neuronal.csv', delimiter=',', index_col=0)\n",
    "df"
   ],
   "metadata": {
    "collapsed": false,
    "ExecuteTime": {
     "end_time": "2024-02-04T16:30:06.182798Z",
     "start_time": "2024-02-04T16:30:06.154177200Z"
    }
   },
   "id": "31c69154850f22d0",
   "execution_count": 21
  },
  {
   "cell_type": "markdown",
   "source": [
    "Muestra las columnas que tiene"
   ],
   "metadata": {
    "collapsed": false
   },
   "id": "bbf1c4f8ae751e93"
  },
  {
   "cell_type": "code",
   "execution_count": 22,
   "id": "initial_id",
   "metadata": {
    "collapsed": true,
    "ExecuteTime": {
     "end_time": "2024-02-04T16:30:06.237809800Z",
     "start_time": "2024-02-04T16:30:06.185312800Z"
    }
   },
   "outputs": [
    {
     "data": {
      "text/plain": "['funcion_activacion', 'talla', 'tiempo', 'desviacion']"
     },
     "execution_count": 22,
     "metadata": {},
     "output_type": "execute_result"
    }
   ],
   "source": [
    "df.columns.tolist()"
   ]
  },
  {
   "cell_type": "markdown",
   "source": [
    "Renombra la columna talla a epoca"
   ],
   "metadata": {
    "collapsed": false
   },
   "id": "c9176bea7bd5ed43"
  },
  {
   "cell_type": "code",
   "outputs": [
    {
     "data": {
      "text/plain": "     funcion_activacion  epoca       tiempo  desviacion\n0                lineal   12.0   156.885412           0\n1               sigmoid   12.0   160.744537           0\n2                  tanh   12.0   158.876953           0\n3                  relu   12.0   161.685764           0\n4                  selu   12.0   160.904838           0\n...                 ...    ...          ...         ...\n2855                elu  299.0   826.975195           0\n2856               gelu  299.0  1029.175865           0\n2857              swish  299.0   843.051190           0\n2858               mish  299.0   847.101631           0\n2859              lisht  299.0   940.765748           0\n\n[2860 rows x 4 columns]",
      "text/html": "<div>\n<style scoped>\n    .dataframe tbody tr th:only-of-type {\n        vertical-align: middle;\n    }\n\n    .dataframe tbody tr th {\n        vertical-align: top;\n    }\n\n    .dataframe thead th {\n        text-align: right;\n    }\n</style>\n<table border=\"1\" class=\"dataframe\">\n  <thead>\n    <tr style=\"text-align: right;\">\n      <th></th>\n      <th>funcion_activacion</th>\n      <th>epoca</th>\n      <th>tiempo</th>\n      <th>desviacion</th>\n    </tr>\n  </thead>\n  <tbody>\n    <tr>\n      <th>0</th>\n      <td>lineal</td>\n      <td>12.0</td>\n      <td>156.885412</td>\n      <td>0</td>\n    </tr>\n    <tr>\n      <th>1</th>\n      <td>sigmoid</td>\n      <td>12.0</td>\n      <td>160.744537</td>\n      <td>0</td>\n    </tr>\n    <tr>\n      <th>2</th>\n      <td>tanh</td>\n      <td>12.0</td>\n      <td>158.876953</td>\n      <td>0</td>\n    </tr>\n    <tr>\n      <th>3</th>\n      <td>relu</td>\n      <td>12.0</td>\n      <td>161.685764</td>\n      <td>0</td>\n    </tr>\n    <tr>\n      <th>4</th>\n      <td>selu</td>\n      <td>12.0</td>\n      <td>160.904838</td>\n      <td>0</td>\n    </tr>\n    <tr>\n      <th>...</th>\n      <td>...</td>\n      <td>...</td>\n      <td>...</td>\n      <td>...</td>\n    </tr>\n    <tr>\n      <th>2855</th>\n      <td>elu</td>\n      <td>299.0</td>\n      <td>826.975195</td>\n      <td>0</td>\n    </tr>\n    <tr>\n      <th>2856</th>\n      <td>gelu</td>\n      <td>299.0</td>\n      <td>1029.175865</td>\n      <td>0</td>\n    </tr>\n    <tr>\n      <th>2857</th>\n      <td>swish</td>\n      <td>299.0</td>\n      <td>843.051190</td>\n      <td>0</td>\n    </tr>\n    <tr>\n      <th>2858</th>\n      <td>mish</td>\n      <td>299.0</td>\n      <td>847.101631</td>\n      <td>0</td>\n    </tr>\n    <tr>\n      <th>2859</th>\n      <td>lisht</td>\n      <td>299.0</td>\n      <td>940.765748</td>\n      <td>0</td>\n    </tr>\n  </tbody>\n</table>\n<p>2860 rows × 4 columns</p>\n</div>"
     },
     "execution_count": 23,
     "metadata": {},
     "output_type": "execute_result"
    }
   ],
   "source": [
    "df.rename(columns={'talla': 'epoca'}, inplace=True)\n",
    "df"
   ],
   "metadata": {
    "collapsed": false,
    "ExecuteTime": {
     "end_time": "2024-02-04T16:30:06.321091Z",
     "start_time": "2024-02-04T16:30:06.221875200Z"
    }
   },
   "id": "165eeb392d023bd6",
   "execution_count": 23
  },
  {
   "cell_type": "markdown",
   "source": [
    "Muestra cuantas filas hay"
   ],
   "metadata": {
    "collapsed": false
   },
   "id": "ceba0afc6c712276"
  },
  {
   "cell_type": "code",
   "outputs": [
    {
     "data": {
      "text/plain": "2860"
     },
     "execution_count": 24,
     "metadata": {},
     "output_type": "execute_result"
    }
   ],
   "source": [
    "df.shape[0]"
   ],
   "metadata": {
    "collapsed": false,
    "ExecuteTime": {
     "end_time": "2024-02-04T16:30:06.353175800Z",
     "start_time": "2024-02-04T16:30:06.293944100Z"
    }
   },
   "id": "1f06fbef6ff893fb",
   "execution_count": 24
  },
  {
   "cell_type": "markdown",
   "source": [
    "Muestra cuantos valores son null o NaN en cada columna"
   ],
   "metadata": {
    "collapsed": false
   },
   "id": "96fa537d3c6d4235"
  },
  {
   "cell_type": "code",
   "outputs": [
    {
     "data": {
      "text/plain": "funcion_activacion    3\nepoca                 3\ntiempo                6\ndesviacion            0\ndtype: int64"
     },
     "execution_count": 25,
     "metadata": {},
     "output_type": "execute_result"
    }
   ],
   "source": [
    "df.isnull().sum()"
   ],
   "metadata": {
    "collapsed": false,
    "ExecuteTime": {
     "end_time": "2024-02-04T16:30:06.434717400Z",
     "start_time": "2024-02-04T16:30:06.358525600Z"
    }
   },
   "id": "fce911adf792c386",
   "execution_count": 25
  },
  {
   "cell_type": "markdown",
   "source": [
    "Muestra el % de valores a null o NaN en cada columna"
   ],
   "metadata": {
    "collapsed": false
   },
   "id": "cce7c96da85d8af6"
  },
  {
   "cell_type": "code",
   "outputs": [
    {
     "data": {
      "text/plain": "funcion_activacion    0.104895\nepoca                 0.104895\ntiempo                0.209790\ndesviacion            0.000000\ndtype: float64"
     },
     "execution_count": 26,
     "metadata": {},
     "output_type": "execute_result"
    }
   ],
   "source": [
    "df.isnull().sum() / df.shape[0] * 100"
   ],
   "metadata": {
    "collapsed": false,
    "ExecuteTime": {
     "end_time": "2024-02-04T16:30:06.472251700Z",
     "start_time": "2024-02-04T16:30:06.383156900Z"
    }
   },
   "id": "b0400825b03b21fa",
   "execution_count": 26
  },
  {
   "cell_type": "markdown",
   "source": [
    "Borra las filas que tengan algún valor a null o NaN"
   ],
   "metadata": {
    "collapsed": false
   },
   "id": "fe81c35660870c86"
  },
  {
   "cell_type": "code",
   "outputs": [
    {
     "data": {
      "text/plain": "     funcion_activacion  epoca       tiempo  desviacion\n0                lineal   12.0   156.885412           0\n1               sigmoid   12.0   160.744537           0\n2                  tanh   12.0   158.876953           0\n3                  relu   12.0   161.685764           0\n4                  selu   12.0   160.904838           0\n...                 ...    ...          ...         ...\n2855                elu  299.0   826.975195           0\n2856               gelu  299.0  1029.175865           0\n2857              swish  299.0   843.051190           0\n2858               mish  299.0   847.101631           0\n2859              lisht  299.0   940.765748           0\n\n[2848 rows x 4 columns]",
      "text/html": "<div>\n<style scoped>\n    .dataframe tbody tr th:only-of-type {\n        vertical-align: middle;\n    }\n\n    .dataframe tbody tr th {\n        vertical-align: top;\n    }\n\n    .dataframe thead th {\n        text-align: right;\n    }\n</style>\n<table border=\"1\" class=\"dataframe\">\n  <thead>\n    <tr style=\"text-align: right;\">\n      <th></th>\n      <th>funcion_activacion</th>\n      <th>epoca</th>\n      <th>tiempo</th>\n      <th>desviacion</th>\n    </tr>\n  </thead>\n  <tbody>\n    <tr>\n      <th>0</th>\n      <td>lineal</td>\n      <td>12.0</td>\n      <td>156.885412</td>\n      <td>0</td>\n    </tr>\n    <tr>\n      <th>1</th>\n      <td>sigmoid</td>\n      <td>12.0</td>\n      <td>160.744537</td>\n      <td>0</td>\n    </tr>\n    <tr>\n      <th>2</th>\n      <td>tanh</td>\n      <td>12.0</td>\n      <td>158.876953</td>\n      <td>0</td>\n    </tr>\n    <tr>\n      <th>3</th>\n      <td>relu</td>\n      <td>12.0</td>\n      <td>161.685764</td>\n      <td>0</td>\n    </tr>\n    <tr>\n      <th>4</th>\n      <td>selu</td>\n      <td>12.0</td>\n      <td>160.904838</td>\n      <td>0</td>\n    </tr>\n    <tr>\n      <th>...</th>\n      <td>...</td>\n      <td>...</td>\n      <td>...</td>\n      <td>...</td>\n    </tr>\n    <tr>\n      <th>2855</th>\n      <td>elu</td>\n      <td>299.0</td>\n      <td>826.975195</td>\n      <td>0</td>\n    </tr>\n    <tr>\n      <th>2856</th>\n      <td>gelu</td>\n      <td>299.0</td>\n      <td>1029.175865</td>\n      <td>0</td>\n    </tr>\n    <tr>\n      <th>2857</th>\n      <td>swish</td>\n      <td>299.0</td>\n      <td>843.051190</td>\n      <td>0</td>\n    </tr>\n    <tr>\n      <th>2858</th>\n      <td>mish</td>\n      <td>299.0</td>\n      <td>847.101631</td>\n      <td>0</td>\n    </tr>\n    <tr>\n      <th>2859</th>\n      <td>lisht</td>\n      <td>299.0</td>\n      <td>940.765748</td>\n      <td>0</td>\n    </tr>\n  </tbody>\n</table>\n<p>2848 rows × 4 columns</p>\n</div>"
     },
     "execution_count": 27,
     "metadata": {},
     "output_type": "execute_result"
    }
   ],
   "source": [
    "df = df.dropna()\n",
    "df"
   ],
   "metadata": {
    "collapsed": false,
    "ExecuteTime": {
     "end_time": "2024-02-04T16:30:06.532343200Z",
     "start_time": "2024-02-04T16:30:06.448243600Z"
    }
   },
   "id": "e2a8a2bbbba85d32",
   "execution_count": 27
  },
  {
   "cell_type": "markdown",
   "source": [
    "Muestra las estadísticas de cada columna. ¿Podrías borrar alguna? ¿Explica porqué? En caso afirmativo borra la columna"
   ],
   "metadata": {
    "collapsed": false
   },
   "id": "710cd04e9ff598f7"
  },
  {
   "cell_type": "code",
   "outputs": [
    {
     "data": {
      "text/plain": "     funcion_activacion  epoca       tiempo\n0                lineal   12.0   156.885412\n1               sigmoid   12.0   160.744537\n2                  tanh   12.0   158.876953\n3                  relu   12.0   161.685764\n4                  selu   12.0   160.904838\n...                 ...    ...          ...\n2855                elu  299.0   826.975195\n2856               gelu  299.0  1029.175865\n2857              swish  299.0   843.051190\n2858               mish  299.0   847.101631\n2859              lisht  299.0   940.765748\n\n[2848 rows x 3 columns]",
      "text/html": "<div>\n<style scoped>\n    .dataframe tbody tr th:only-of-type {\n        vertical-align: middle;\n    }\n\n    .dataframe tbody tr th {\n        vertical-align: top;\n    }\n\n    .dataframe thead th {\n        text-align: right;\n    }\n</style>\n<table border=\"1\" class=\"dataframe\">\n  <thead>\n    <tr style=\"text-align: right;\">\n      <th></th>\n      <th>funcion_activacion</th>\n      <th>epoca</th>\n      <th>tiempo</th>\n    </tr>\n  </thead>\n  <tbody>\n    <tr>\n      <th>0</th>\n      <td>lineal</td>\n      <td>12.0</td>\n      <td>156.885412</td>\n    </tr>\n    <tr>\n      <th>1</th>\n      <td>sigmoid</td>\n      <td>12.0</td>\n      <td>160.744537</td>\n    </tr>\n    <tr>\n      <th>2</th>\n      <td>tanh</td>\n      <td>12.0</td>\n      <td>158.876953</td>\n    </tr>\n    <tr>\n      <th>3</th>\n      <td>relu</td>\n      <td>12.0</td>\n      <td>161.685764</td>\n    </tr>\n    <tr>\n      <th>4</th>\n      <td>selu</td>\n      <td>12.0</td>\n      <td>160.904838</td>\n    </tr>\n    <tr>\n      <th>...</th>\n      <td>...</td>\n      <td>...</td>\n      <td>...</td>\n    </tr>\n    <tr>\n      <th>2855</th>\n      <td>elu</td>\n      <td>299.0</td>\n      <td>826.975195</td>\n    </tr>\n    <tr>\n      <th>2856</th>\n      <td>gelu</td>\n      <td>299.0</td>\n      <td>1029.175865</td>\n    </tr>\n    <tr>\n      <th>2857</th>\n      <td>swish</td>\n      <td>299.0</td>\n      <td>843.051190</td>\n    </tr>\n    <tr>\n      <th>2858</th>\n      <td>mish</td>\n      <td>299.0</td>\n      <td>847.101631</td>\n    </tr>\n    <tr>\n      <th>2859</th>\n      <td>lisht</td>\n      <td>299.0</td>\n      <td>940.765748</td>\n    </tr>\n  </tbody>\n</table>\n<p>2848 rows × 3 columns</p>\n</div>"
     },
     "execution_count": 28,
     "metadata": {},
     "output_type": "execute_result"
    }
   ],
   "source": [
    "df.describe()\n",
    "\n",
    "# Se puede borrar la columna desviacion porque siempre contiene el mismo valor\n",
    "\n",
    "df = df.drop(columns=['desviacion'])\n",
    "df"
   ],
   "metadata": {
    "collapsed": false,
    "ExecuteTime": {
     "end_time": "2024-02-04T16:30:06.585681300Z",
     "start_time": "2024-02-04T16:30:06.537863100Z"
    }
   },
   "id": "3c9baa00cdb937e8",
   "execution_count": 28
  },
  {
   "cell_type": "markdown",
   "source": [
    "Indica que funciones de activación se han usado"
   ],
   "metadata": {
    "collapsed": false
   },
   "id": "2307bd5de3c8ad27"
  },
  {
   "cell_type": "code",
   "outputs": [
    {
     "data": {
      "text/plain": "array(['lineal', 'sigmoid', 'tanh', 'relu', 'selu', 'elu', 'gelu',\n       'swish', 'mish', 'lisht'], dtype=object)"
     },
     "execution_count": 29,
     "metadata": {},
     "output_type": "execute_result"
    }
   ],
   "source": [
    "df['funcion_activacion'].unique()"
   ],
   "metadata": {
    "collapsed": false,
    "ExecuteTime": {
     "end_time": "2024-02-04T16:30:33.970237700Z",
     "start_time": "2024-02-04T16:30:33.965798600Z"
    }
   },
   "id": "759ab6ec061e489",
   "execution_count": 29
  },
  {
   "cell_type": "markdown",
   "source": [
    "Indica hasta cuantas épocas se ha entrenado la red"
   ],
   "metadata": {
    "collapsed": false
   },
   "id": "ee6fe809983f6a8d"
  },
  {
   "cell_type": "code",
   "outputs": [
    {
     "data": {
      "text/plain": "299.0"
     },
     "execution_count": 30,
     "metadata": {},
     "output_type": "execute_result"
    }
   ],
   "source": [
    "df['epoca'].max()"
   ],
   "metadata": {
    "collapsed": false,
    "ExecuteTime": {
     "end_time": "2024-02-04T16:34:13.026256500Z",
     "start_time": "2024-02-04T16:34:13.023740500Z"
    }
   },
   "id": "8af46d2fbb1c41f8",
   "execution_count": 30
  },
  {
   "cell_type": "markdown",
   "source": [
    "Indica la función de activación que ha tenido el mayor tiempo en la última época\n"
   ],
   "metadata": {
    "collapsed": false
   },
   "id": "acf30dbd0c57e87b"
  },
  {
   "cell_type": "code",
   "outputs": [
    {
     "data": {
      "text/plain": "2856    gelu\nName: funcion_activacion, dtype: object"
     },
     "execution_count": 39,
     "metadata": {},
     "output_type": "execute_result"
    }
   ],
   "source": [
    "last_epoch = df[df['epoca'] == df['epoca'].max()]\n",
    "last_epoc_max_time = last_epoch[last_epoch['tiempo'] == last_epoch['tiempo'].max()]\n",
    "last_epoc_max_time['funcion_activacion']"
   ],
   "metadata": {
    "collapsed": false,
    "ExecuteTime": {
     "end_time": "2024-02-04T16:38:58.570461500Z",
     "start_time": "2024-02-04T16:38:58.559778600Z"
    }
   },
   "id": "c0d37a08bef9803a",
   "execution_count": 39
  }
 ],
 "metadata": {
  "kernelspec": {
   "display_name": "Python 3",
   "language": "python",
   "name": "python3"
  },
  "language_info": {
   "codemirror_mode": {
    "name": "ipython",
    "version": 2
   },
   "file_extension": ".py",
   "mimetype": "text/x-python",
   "name": "python",
   "nbconvert_exporter": "python",
   "pygments_lexer": "ipython2",
   "version": "2.7.6"
  }
 },
 "nbformat": 4,
 "nbformat_minor": 5
}
