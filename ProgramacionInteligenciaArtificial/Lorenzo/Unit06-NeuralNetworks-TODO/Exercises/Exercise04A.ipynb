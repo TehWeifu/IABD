{
 "cells": [
  {
   "cell_type": "markdown",
   "source": [
    "Ejercicio 4.A\n",
    "Dada la siguiente red neuronal:"
   ],
   "metadata": {
    "collapsed": false
   },
   "id": "3c5337aa70698874"
  },
  {
   "cell_type": "markdown",
   "source": [
    "Indica las fórmulas de cada una de las neuronas sabiendo que la función de activación es sigmoid en las 2 capas"
   ],
   "metadata": {
    "collapsed": false
   },
   "id": "81942ac284d9d872"
  },
  {
   "cell_type": "markdown",
   "source": [
    "1 -> y1 = x1\n",
    "2 -> y2 = x2\n",
    "3 -> y3 = 1 / 1 + e ** (w3_1*x1 + w3_2*x2 + b3)\n",
    "4 -> y4 = 1 / 1 + e ** (w4_1* (1 / 1 + e ** (w3_1*x1 + w3_2*x2 + b3)) +b4)"
   ],
   "metadata": {
    "collapsed": false
   },
   "id": "367b9066b982d0f6"
  },
  {
   "cell_type": "code",
   "execution_count": null,
   "id": "initial_id",
   "metadata": {
    "collapsed": true
   },
   "outputs": [],
   "source": []
  }
 ],
 "metadata": {
  "kernelspec": {
   "display_name": "Python 3",
   "language": "python",
   "name": "python3"
  },
  "language_info": {
   "codemirror_mode": {
    "name": "ipython",
    "version": 2
   },
   "file_extension": ".py",
   "mimetype": "text/x-python",
   "name": "python",
   "nbconvert_exporter": "python",
   "pygments_lexer": "ipython2",
   "version": "2.7.6"
  }
 },
 "nbformat": 4,
 "nbformat_minor": 5
}
