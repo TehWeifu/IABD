{
 "cells": [
  {
   "cell_type": "code",
   "outputs": [],
   "source": [
    "import numpy as np"
   ],
   "metadata": {
    "collapsed": false,
    "ExecuteTime": {
     "end_time": "2024-01-25T18:36:42.548005300Z",
     "start_time": "2024-01-25T18:36:42.543070700Z"
    }
   },
   "id": "d583ed0f9af5af4d",
   "execution_count": 38
  },
  {
   "cell_type": "code",
   "execution_count": 39,
   "id": "initial_id",
   "metadata": {
    "collapsed": true,
    "ExecuteTime": {
     "end_time": "2024-01-25T18:36:42.558075900Z",
     "start_time": "2024-01-25T18:36:42.550065800Z"
    }
   },
   "outputs": [],
   "source": [
    "def absolute_value(true, prediction):\n",
    "    return np.abs(true - prediction)"
   ]
  },
  {
   "cell_type": "code",
   "outputs": [],
   "source": [
    "def square_value(true, prediction):\n",
    "    return np.power(true - prediction, 2)"
   ],
   "metadata": {
    "collapsed": false,
    "ExecuteTime": {
     "end_time": "2024-01-25T18:36:42.561012500Z",
     "start_time": "2024-01-25T18:36:42.553481600Z"
    }
   },
   "id": "fd5389496bfa290b",
   "execution_count": 40
  },
  {
   "cell_type": "code",
   "outputs": [],
   "source": [
    "def binary_cross_entropy_value(true, prediction):\n",
    "    return true * np.log(prediction) + (1 - true) * np.log(1 - prediction)"
   ],
   "metadata": {
    "collapsed": false,
    "ExecuteTime": {
     "end_time": "2024-01-25T18:36:42.570879200Z",
     "start_time": "2024-01-25T18:36:42.561012500Z"
    }
   },
   "id": "8a60221aec01a2f8",
   "execution_count": 41
  },
  {
   "cell_type": "code",
   "outputs": [],
   "source": [
    "y_true = [0, 0, 0, 0, 0, 0, 0, 0, 0, 0, 0, 0, 0, 0, 0, 0, 0, 0, 0, 0, 0, 0,\n",
    "          0, 0, 0, 0, 0, 0, 0, 0, 0, 0, 0, 0, 0, 0, 0, 0, 0, 0, 0, 0, 0, 0,\n",
    "          0, 0, 0, 0, 0, 0, 1, 1, 1, 1, 1, 1, 1, 1, 1, 1, 1, 1, 1, 1, 1, 1,\n",
    "          1, 1, 1, 1, 1, 1, 1, 1, 1, 1, 1, 1, 1, 1, 1, 1, 1, 1, 1, 1, 1, 1,\n",
    "          1, 1, 1, 1, 1, 1, 1, 1, 1, 1, 1]"
   ],
   "metadata": {
    "collapsed": false,
    "ExecuteTime": {
     "end_time": "2024-01-25T18:36:42.599623200Z",
     "start_time": "2024-01-25T18:36:42.568121900Z"
    }
   },
   "id": "88036e94ebd7dc2a",
   "execution_count": 42
  },
  {
   "cell_type": "code",
   "outputs": [],
   "source": [
    "y_pred = [0.18395704, 0.18395704, 0.18506491, 0.18799731, 0.18395704,\n",
    "          0.24096969, 0.18395704, 0.18799731, 0.18395704, 0.18799731,\n",
    "          0.18799731, 0.21094593, 0.18395704, 0.19304448, 0.18862939,\n",
    "          0.18799731, 0.18506491, 0.18395704, 0.24096969, 0.18799731,\n",
    "          0.24096969, 0.18799731, 0.19747499, 0.24096969, 0.30332845,\n",
    "          0.21094593, 0.21094593, 0.18799731, 0.18395704, 0.21094593,\n",
    "          0.21094593, 0.18799731, 0.18799731, 0.18395704, 0.18799731,\n",
    "          0.18862939, 0.18506491, 0.18395704, 0.18506491, 0.18799731,\n",
    "          0.18506491, 0.18506491, 0.18506491, 0.21094593, 0.30332845,\n",
    "          0.18395704, 0.21094593, 0.18395704, 0.18799731, 0.18395704,\n",
    "          0.95087045, 0.93909526, 0.9602022, 0.89205027, 0.9452805,\n",
    "          0.93909526, 0.95087045, 0.75592554, 0.9452805, 0.8777893,\n",
    "          0.8039025, 0.9162346, 0.89205027, 0.95087045, 0.82506734,\n",
    "          0.9322611, 0.93909526, 0.9048277, 0.93909526, 0.8777893,\n",
    "          0.955778, 0.89205027, 0.9602022, 0.95087045, 0.92472136,\n",
    "          0.9322611, 0.955778, 0.9638314, 0.93909526, 0.8039025,\n",
    "          0.8619356, 0.8443901, 0.8777893, 0.96697116, 0.93909526,\n",
    "          0.93909526, 0.95087045, 0.9322611, 0.9048277, 0.89205027,\n",
    "          0.9322611, 0.9452805, 0.89205027, 0.75592554, 0.9162346,\n",
    "          0.9162346, 0.9162346, 0.92472136, 0.6703734]"
   ],
   "metadata": {
    "collapsed": false,
    "ExecuteTime": {
     "end_time": "2024-01-25T18:36:42.599623200Z",
     "start_time": "2024-01-25T18:36:42.573582Z"
    }
   },
   "id": "fade18718f504d3d",
   "execution_count": 43
  },
  {
   "cell_type": "code",
   "outputs": [],
   "source": [
    "y_true = np.array(y_true)\n",
    "y_pred = np.array(y_pred)"
   ],
   "metadata": {
    "collapsed": false,
    "ExecuteTime": {
     "end_time": "2024-01-25T18:36:42.599623200Z",
     "start_time": "2024-01-25T18:36:42.580283700Z"
    }
   },
   "id": "872573e81e9116a7",
   "execution_count": 44
  },
  {
   "cell_type": "code",
   "outputs": [
    {
     "name": "stdout",
     "output_type": "stream",
     "text": [
      "MAE is: 0.14698030424242425\n",
      "MSE is: 0.02654888768356655\n",
      "Binary cross entropy is: 0.16239710281224015\n"
     ]
    }
   ],
   "source": [
    "mean_absolute_value = absolute_value(y_true, y_pred).mean()\n",
    "square_absolute_value = square_value(y_true, y_pred).mean()\n",
    "binary_cross_entropy = -(binary_cross_entropy_value(y_true, y_pred).mean())\n",
    "\n",
    "print(f\"MAE is: {mean_absolute_value}\")\n",
    "print(f\"MSE is: {square_absolute_value}\")\n",
    "print(f\"Binary cross entropy is: {binary_cross_entropy}\")"
   ],
   "metadata": {
    "collapsed": false,
    "ExecuteTime": {
     "end_time": "2024-01-25T18:36:42.599623200Z",
     "start_time": "2024-01-25T18:36:42.586648900Z"
    }
   },
   "id": "fb09758a4ff7a776",
   "execution_count": 45
  }
 ],
 "metadata": {
  "kernelspec": {
   "display_name": "Python 3",
   "language": "python",
   "name": "python3"
  },
  "language_info": {
   "codemirror_mode": {
    "name": "ipython",
    "version": 2
   },
   "file_extension": ".py",
   "mimetype": "text/x-python",
   "name": "python",
   "nbconvert_exporter": "python",
   "pygments_lexer": "ipython2",
   "version": "2.7.6"
  }
 },
 "nbformat": 4,
 "nbformat_minor": 5
}
