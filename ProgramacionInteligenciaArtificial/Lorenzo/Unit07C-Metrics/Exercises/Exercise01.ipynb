{
 "cells": [
  {
   "cell_type": "markdown",
   "source": [
    "Ejercicio 1\n",
    "Si una red neuronal para detectar si una radiografía es de un tórax ha predicho lo siguiente:\n",
    "\n",
    "Para 13 radiografías que eran de tórax , en 8 ha dicho que era un tórax y en 5 ha dicho que no lo era.\n",
    "Para 7 radiografías que no eran un tórax , en 4 ha dicho que no era un tórax y en 3 ha dicho que lo era.\n",
    "Indica el nº de:\n",
    "\n",
    "Verdaderos Positivos (TP)\n",
    "Verdaderos Negativos (TN)\n",
    "Falsos Positivos (FP)\n",
    "Falsos Negativos (FN)\n",
    "\n",
    "Dibuja la matriz de confusión"
   ],
   "metadata": {
    "collapsed": false
   },
   "id": "1d295056599814ca"
  },
  {
   "cell_type": "code",
   "execution_count": null,
   "id": "initial_id",
   "metadata": {
    "collapsed": true
   },
   "outputs": [],
   "source": [
    "TP = 8\n",
    "TN = 4\n",
    "FP = 3\n",
    "FN = 5"
   ]
  },
  {
   "cell_type": "markdown",
   "source": [
    "    PP  PN\n",
    "P   8   5\n",
    "N   3   4"
   ],
   "metadata": {
    "collapsed": false
   },
   "id": "f6a4171790f41333"
  }
 ],
 "metadata": {
  "kernelspec": {
   "display_name": "Python 3",
   "language": "python",
   "name": "python3"
  },
  "language_info": {
   "codemirror_mode": {
    "name": "ipython",
    "version": 2
   },
   "file_extension": ".py",
   "mimetype": "text/x-python",
   "name": "python",
   "nbconvert_exporter": "python",
   "pygments_lexer": "ipython2",
   "version": "2.7.6"
  }
 },
 "nbformat": 4,
 "nbformat_minor": 5
}
