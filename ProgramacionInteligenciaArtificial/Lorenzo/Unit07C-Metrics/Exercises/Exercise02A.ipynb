{
 "cells": [
  {
   "cell_type": "markdown",
   "source": [
    "### Ejercicio 2.A\n",
    "\n",
    "Seguimos con la red neuronal que predice si una radiografía es de tórax.\n",
    "\n",
    "Si para 10 imágenes ha sacado los siguientes resultados:\n",
    "\n",
    "y_score=np.array([0.27, 0.45,  0.76,  0.55,  0.28, 0.04, 0.34, 0.4, 0.66, 0.88, 0.94,0.47,0.2])\n",
    "\n",
    "Indica para cada valor predicho , si ha predicho que era una imagen de tórax o no."
   ],
   "metadata": {
    "collapsed": false
   },
   "id": "b6330197c2f9789d"
  },
  {
   "cell_type": "markdown",
   "source": [
    "results = [0, 0, 1, 1, 0, 0, 0, 0, 1, 1, 1, 0, 0]"
   ],
   "metadata": {
    "collapsed": false
   },
   "id": "a7665ad43778e41f"
  }
 ],
 "metadata": {
  "kernelspec": {
   "display_name": "Python 3",
   "language": "python",
   "name": "python3"
  },
  "language_info": {
   "codemirror_mode": {
    "name": "ipython",
    "version": 2
   },
   "file_extension": ".py",
   "mimetype": "text/x-python",
   "name": "python",
   "nbconvert_exporter": "python",
   "pygments_lexer": "ipython2",
   "version": "2.7.6"
  }
 },
 "nbformat": 4,
 "nbformat_minor": 5
}
