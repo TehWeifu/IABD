{
 "cells": [
  {
   "cell_type": "markdown",
   "source": [
    "Ejercicio 5.C\n",
    "Con modelo que has elegido, cárgalo desde disco en otro Jupyter notebook y realiza inferencia de 10 pacientes.\n",
    "\n",
    "Para cada paciente:\n",
    "\n",
    "Indica su prevalencia (te la tienes que inventar de forma aleatoria)\n",
    "Indica la probabilidad de que la red haya acertado."
   ],
   "metadata": {
    "collapsed": false
   },
   "id": "225d5b56faeeb11f"
  },
  {
   "cell_type": "code",
   "outputs": [],
   "source": [
    "import numpy as np\n",
    "import pandas as pd\n",
    "import tensorflow as tf\n",
    "from tensorflow.keras.models import load_model\n",
    "from sklearn.datasets import load_breast_cancer\n",
    "from sklearn.model_selection import train_test_split\n",
    "\n",
    "RANDOM_SEED = 42\n",
    "tf.keras.utils.set_random_seed(RANDOM_SEED)"
   ],
   "metadata": {
    "collapsed": false,
    "ExecuteTime": {
     "end_time": "2024-03-20T16:27:05.927491Z",
     "start_time": "2024-03-20T16:27:05.919063Z"
    }
   },
   "id": "6df1a0d0ddc49e9e",
   "execution_count": 308
  },
  {
   "cell_type": "code",
   "outputs": [],
   "source": [
    "def get_matrix(y_true, y_score, threshold=.5):\n",
    "    y_pred = y_score >= threshold\n",
    "\n",
    "    tp = np.sum((y_true == 1) & (y_pred == 1))\n",
    "    tn = np.sum((y_true == 0) & (y_pred == 0))\n",
    "    fp = np.sum((y_true == 0) & (y_pred == 1))\n",
    "    fn = np.sum((y_true == 1) & (y_pred == 0))\n",
    "\n",
    "    return tp, tn, fp, fn"
   ],
   "metadata": {
    "collapsed": false,
    "ExecuteTime": {
     "end_time": "2024-03-20T16:27:05.938500Z",
     "start_time": "2024-03-20T16:27:05.934730Z"
    }
   },
   "id": "1ab0270fa68e7935",
   "execution_count": 309
  },
  {
   "cell_type": "code",
   "outputs": [],
   "source": [
    "def get_metrics(tp, tn, fp, fn):\n",
    "    prevalence = (tp + fn) / (tp + tn + fp + fn)\n",
    "    sensibility = tp / (tp + fn)\n",
    "    specificity = tn / (fp + tn)\n",
    "\n",
    "    return prevalence, sensibility, specificity"
   ],
   "metadata": {
    "collapsed": false,
    "ExecuteTime": {
     "end_time": "2024-03-20T16:27:05.945846Z",
     "start_time": "2024-03-20T16:27:05.939502Z"
    }
   },
   "id": "a8c689cbbb2ee00d",
   "execution_count": 310
  },
  {
   "cell_type": "code",
   "outputs": [],
   "source": [
    "def get_precision_bayes(sensibility, specificity, prevalence):\n",
    "    return (sensibility * prevalence) / (sensibility * prevalence + (1 - specificity) * (1 - prevalence))"
   ],
   "metadata": {
    "collapsed": false,
    "ExecuteTime": {
     "end_time": "2024-03-20T16:27:05.952743Z",
     "start_time": "2024-03-20T16:27:05.945846Z"
    }
   },
   "id": "12494e31b44295c9",
   "execution_count": 311
  },
  {
   "cell_type": "code",
   "outputs": [],
   "source": [
    "def get_vpn_bayes(sensibility, specificity, prevalence):\n",
    "    return (specificity * (1 - prevalence)) / (specificity * (1 - prevalence) + (1 - sensibility) * prevalence)"
   ],
   "metadata": {
    "collapsed": false,
    "ExecuteTime": {
     "end_time": "2024-03-20T16:27:05.959226Z",
     "start_time": "2024-03-20T16:27:05.953797Z"
    }
   },
   "id": "db1c703a9c57640c",
   "execution_count": 312
  },
  {
   "cell_type": "code",
   "outputs": [],
   "source": [
    "def specificity(y_true, y_score):\n",
    "    threshold = 0.5\n",
    "    y_pred = tf.cast(tf.greater_equal(y_score, threshold), tf.float32)\n",
    "\n",
    "    true_negatives = tf.logical_and(tf.equal(y_true, 0), tf.equal(y_pred, 0))\n",
    "    num_true_negatives = tf.reduce_sum(tf.cast(true_negatives, tf.float32))\n",
    "\n",
    "    negatives = tf.equal(y_true, 0)\n",
    "    num_negatives = tf.reduce_sum(tf.cast(negatives, tf.float32))\n",
    "\n",
    "    specificity = num_true_negatives / (num_negatives + tf.keras.backend.epsilon())\n",
    "\n",
    "    return specificity"
   ],
   "metadata": {
    "collapsed": false,
    "ExecuteTime": {
     "end_time": "2024-03-20T16:27:05.966451Z",
     "start_time": "2024-03-20T16:27:05.959226Z"
    }
   },
   "id": "71981c95b58621e0",
   "execution_count": 313
  },
  {
   "cell_type": "code",
   "execution_count": 314,
   "id": "initial_id",
   "metadata": {
    "collapsed": true,
    "ExecuteTime": {
     "end_time": "2024-03-20T16:27:06.070595Z",
     "start_time": "2024-03-20T16:27:05.966451Z"
    }
   },
   "outputs": [],
   "source": [
    "model = load_model('model.h5', custom_objects={'specificity': specificity})\n",
    "\n",
    "data = load_breast_cancer()\n",
    "X = data.data\n",
    "y = data.target\n",
    "\n",
    "X_train, X_test, y_train, y_test = train_test_split(X, y, test_size=0.2, random_state=2)"
   ]
  },
  {
   "cell_type": "code",
   "outputs": [],
   "source": [
    "y_score = model.predict(X_test)\n",
    "tp, tn, fp, fn = get_matrix(y_test, y_score[:, 0])\n",
    "prevalence, sensibility, specificity = get_metrics(tp, tn, fp, fn)\n",
    "precision = get_precision_bayes(sensibility, specificity, prevalence)\n",
    "vpn = get_vpn_bayes(sensibility, specificity, prevalence)"
   ],
   "metadata": {
    "collapsed": false,
    "ExecuteTime": {
     "end_time": "2024-03-20T16:27:06.155604Z",
     "start_time": "2024-03-20T16:27:06.152939Z"
    }
   },
   "id": "6a99b2c28be5eb0",
   "execution_count": 316
  },
  {
   "cell_type": "code",
   "outputs": [
    {
     "name": "stdout",
     "output_type": "stream",
     "text": [
      "Global metrics\n",
      "TP: 63, TN: 40, FP: 5, FN: 6\n",
      "Prevalencia: 0.61\n",
      "Sensibilidad: 0.91\n",
      "Especificidad: 0.89\n",
      "Precisión: 0.93\n",
      "VPN: 0.87\n"
     ]
    }
   ],
   "source": [
    "print(\"Global metrics\")\n",
    "print(f'TP: {tp}, TN: {tn}, FP: {fp}, FN: {fn}')\n",
    "print(f'Prevalencia: {prevalence:.2f}')\n",
    "print(f'Sensibilidad: {sensibility:.2f}')\n",
    "print(f'Especificidad: {specificity:.2f}')\n",
    "print(f'Precisión: {precision:.2f}')\n",
    "print(f'VPN: {vpn:.2f}')"
   ],
   "metadata": {
    "collapsed": false,
    "ExecuteTime": {
     "end_time": "2024-03-20T16:27:06.160385Z",
     "start_time": "2024-03-20T16:27:06.155604Z"
    }
   },
   "id": "7aed2f5b5300c95d",
   "execution_count": 317
  },
  {
   "cell_type": "code",
   "outputs": [
    {
     "name": "stdout",
     "output_type": "stream",
     "text": [
      "Patient 1 (id 66) and the score is 0.25. Prevalence: 0.62. Precision: 0.93. VPN: 0.86\n",
      "Patient 2 (id 69) and the score is 0.80. Prevalence: 0.33. Precision: 0.80. VPN: 0.95\n",
      "Patient 3 (id 17) and the score is 0.96. Prevalence: 0.44. Precision: 0.87. VPN: 0.93\n",
      "Patient 4 (id 71) and the score is 0.25. Prevalence: 0.40. Precision: 0.85. VPN: 0.94\n",
      "Patient 5 (id 11) and the score is 0.88. Prevalence: 0.20. Precision: 0.68. VPN: 0.98\n",
      "Patient 6 (id 8) and the score is 0.90. Prevalence: 0.58. Precision: 0.92. VPN: 0.88\n",
      "Patient 7 (id 19) and the score is 0.25. Prevalence: 0.16. Precision: 0.61. VPN: 0.98\n",
      "Patient 8 (id 21) and the score is 0.94. Prevalence: 0.39. Precision: 0.84. VPN: 0.94\n",
      "Patient 9 (id 14) and the score is 0.92. Prevalence: 0.46. Precision: 0.88. VPN: 0.92\n",
      "Patient 10 (id 26) and the score is 0.88. Prevalence: 0.82. Precision: 0.97. VPN: 0.69\n"
     ]
    }
   ],
   "source": [
    "# Get 10 random tests patients and make predictions\n",
    "np.random.seed(12)\n",
    "random_indices = np.random.choice(X_test.shape[0], 10, replace=False)\n",
    "\n",
    "X_test_random = X_test[random_indices]\n",
    "# y_test_random = y_test[random_indices]\n",
    "\n",
    "for i in range(10):\n",
    "    X_sample = X_test_random[i]\n",
    "    X_sample = X_sample.reshape(1, -1)\n",
    "    y_sample = model.predict(X_sample, verbose=False)\n",
    "\n",
    "    sample_prevalence = np.random.uniform(.1, .9)\n",
    "    sample_precision = get_precision_bayes(sensibility, specificity, sample_prevalence)\n",
    "    sample_vpn = get_vpn_bayes(sensibility, specificity, sample_prevalence)\n",
    "    sample_class = 1 if y_sample[0][0] >= 0.5 else 0\n",
    "    print(\n",
    "        f'Patient {i + 1} (id {random_indices[i]}) and the score is {y_sample[0][0]:.2f}. Prevalence: {sample_prevalence:.2f}. Precision: {sample_precision:.2f}. VPN: {sample_vpn:.2f}'\n",
    "    )"
   ],
   "metadata": {
    "collapsed": false,
    "ExecuteTime": {
     "end_time": "2024-03-20T16:44:56.142084Z",
     "start_time": "2024-03-20T16:44:55.824785Z"
    }
   },
   "id": "22631e2d51b5905b",
   "execution_count": 334
  }
 ],
 "metadata": {
  "kernelspec": {
   "display_name": "Python 3",
   "language": "python",
   "name": "python3"
  },
  "language_info": {
   "codemirror_mode": {
    "name": "ipython",
    "version": 2
   },
   "file_extension": ".py",
   "mimetype": "text/x-python",
   "name": "python",
   "nbconvert_exporter": "python",
   "pygments_lexer": "ipython2",
   "version": "2.7.6"
  }
 },
 "nbformat": 4,
 "nbformat_minor": 5
}
