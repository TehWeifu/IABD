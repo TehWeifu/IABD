{
 "cells": [
  {
   "cell_type": "markdown",
   "source": [
    "Ejercicio 5.A\n",
    "Crea una nueva red neuronal para el problema del breast cancer\n",
    "\n",
    "Ahora razona con cuál de las 2 redes te quedarías y que threshold elegirías para cada uno de ellos.\n",
    "\n",
    "Para elegir debes mostrar gráficas, una al lado de la otra para comparar lo siguiente:\n",
    "\n",
    "Gráficos de perdida, sensibilidad y especificidad durante el entrenamiento\n",
    "Matriz de confusión con las métricas: Sensibilidad, Especificidad, VPP, VPN, Prevalencia\n",
    "Threshold vs. (Sensibilidad y Especificidad)\n",
    "Threshold vs. Informedness (Muestra en el label el máximo)\n",
    "¿Con qué red te quedarías?"
   ],
   "metadata": {
    "collapsed": false
   },
   "id": "78dd944aedf8f66b"
  },
  {
   "cell_type": "code",
   "outputs": [],
   "source": [
    "import tensorflow as tf\n",
    "from sklearn.datasets import load_breast_cancer\n",
    "from sklearn.model_selection import train_test_split\n",
    "from tensorflow.keras.models import Sequential\n",
    "from tensorflow.keras.layers import Dense\n",
    "import time\n",
    "import numpy as np\n",
    "from sklearn.metrics import roc_auc_score\n",
    "from statsmodels.stats.proportion import proportion_confint"
   ],
   "metadata": {
    "collapsed": false,
    "ExecuteTime": {
     "end_time": "2024-03-27T17:26:53.415390Z",
     "start_time": "2024-03-27T17:26:53.412177Z"
    }
   },
   "id": "82b47bc008530cf6",
   "execution_count": 123
  },
  {
   "cell_type": "code",
   "execution_count": 124,
   "id": "initial_id",
   "metadata": {
    "collapsed": true,
    "ExecuteTime": {
     "end_time": "2024-03-27T17:26:53.442829Z",
     "start_time": "2024-03-27T17:26:53.431066Z"
    }
   },
   "outputs": [],
   "source": [
    "RANDOM_SEED = 42\n",
    "tf.keras.utils.set_random_seed(RANDOM_SEED)"
   ]
  },
  {
   "cell_type": "code",
   "outputs": [],
   "source": [
    "def get_data():\n",
    "    data = load_breast_cancer()\n",
    "    X = data.data\n",
    "    y = data.target\n",
    "    X_train, X_test, y_train, y_test = train_test_split(X, y, test_size=.2, random_state=RANDOM_SEED)\n",
    "    return X_train, X_test, y_train, y_test"
   ],
   "metadata": {
    "collapsed": false,
    "ExecuteTime": {
     "end_time": "2024-03-27T17:26:53.462383Z",
     "start_time": "2024-03-27T17:26:53.459426Z"
    }
   },
   "id": "884e8b547910ef22",
   "execution_count": 125
  },
  {
   "cell_type": "code",
   "outputs": [],
   "source": [
    "def compile_fit(net, x, y, first_layer, optimizer, learning_rate):\n",
    "    tf.keras.utils.set_random_seed(5)\n",
    "    layers = net\n",
    "    model = Sequential()\n",
    "\n",
    "    for idx, layer in enumerate(layers):\n",
    "        if idx == 0:\n",
    "            model.add(Dense(layer, activation='relu', input_dim=first_layer))\n",
    "        elif idx == len(layers) - 1:\n",
    "            model.add(Dense(layer, activation='sigmoid'))\n",
    "        else:\n",
    "            model.add(Dense(layer, activation='relu'))\n",
    "\n",
    "    model.compile(loss='binary_crossentropy', optimizer=optimizer(learning_rate=learning_rate),\n",
    "                  metrics=['Recall'])\n",
    "\n",
    "    X_train, X_test, y_train, y_test = train_test_split(x, y, test_size=0.2, random_state=RANDOM_SEED, stratify=y)\n",
    "\n",
    "    mark1 = time.time()\n",
    "    history = model.fit(X_train, y_train, validation_data=(X_test, y_test), epochs=20, verbose=False)\n",
    "    mark2 = time.time()\n",
    "\n",
    "    time_elapsed = mark2 - mark1\n",
    "\n",
    "    return model, history, time_elapsed"
   ],
   "metadata": {
    "collapsed": false,
    "ExecuteTime": {
     "end_time": "2024-03-27T17:26:53.470173Z",
     "start_time": "2024-03-27T17:26:53.463438Z"
    }
   },
   "id": "242e964923876ac8",
   "execution_count": 126
  },
  {
   "cell_type": "code",
   "outputs": [],
   "source": [
    "def get_matrix(y_true, y_score, threshold=.5):\n",
    "    y_pred = y_score >= threshold\n",
    "\n",
    "    tp = np.sum((y_true == 1) & (y_pred == 1))\n",
    "    tn = np.sum((y_true == 0) & (y_pred == 0))\n",
    "    fp = np.sum((y_true == 0) & (y_pred == 1))\n",
    "    fn = np.sum((y_true == 1) & (y_pred == 0))\n",
    "    auc = roc_auc_score(y_true, y_score)\n",
    "\n",
    "    return tp, tn, fp, fn, auc"
   ],
   "metadata": {
    "collapsed": false,
    "ExecuteTime": {
     "end_time": "2024-03-27T17:26:53.476661Z",
     "start_time": "2024-03-27T17:26:53.471234Z"
    }
   },
   "id": "7caf8dcc9512039d",
   "execution_count": 127
  },
  {
   "cell_type": "code",
   "outputs": [],
   "source": [
    "def get_metrics(tp, tn, fp, fn):\n",
    "    prevalence = (tp + fn) / (tp + tn + fp + fn)\n",
    "    sensibility = tp / (tp + fn)\n",
    "    specificity = tn / (fp + tn)\n",
    "    vpp = tp / (tp + fp)\n",
    "    vpn = tn / (tn + fn)\n",
    "    accuracy = (tp + tn) / (tp + tn + fp + fn)\n",
    "    informedness = sensibility + specificity - 1\n",
    "    f1_score = 2 / ((1 / sensibility) + (1 / vpp))\n",
    "\n",
    "    return prevalence, sensibility, specificity, vpp, vpn, accuracy, informedness, f1_score"
   ],
   "metadata": {
    "collapsed": false,
    "ExecuteTime": {
     "end_time": "2024-03-27T17:26:53.483408Z",
     "start_time": "2024-03-27T17:26:53.477703Z"
    }
   },
   "id": "a6555348a41d4bf6",
   "execution_count": 128
  },
  {
   "cell_type": "code",
   "outputs": [],
   "source": [
    "def get_metrics_intervals(tp, tn, fp, fn):\n",
    "    prevalence = proportion_confint((tp + fn), (tp + tn + fp + fn), alpha=0.05, method='wilson')\n",
    "    sensibility = proportion_confint(tp, (tp + fn), alpha=0.05, method='wilson')\n",
    "    specificity = proportion_confint(tn, (fp + tn), alpha=0.05, method='wilson')\n",
    "    vpp = proportion_confint(tp, (tp + fp), alpha=0.05, method='wilson')\n",
    "    vpn = proportion_confint(tn, (tn + fn), alpha=0.05, method='wilson')\n",
    "    accuracy = proportion_confint((tp + tn), (tp + tn + fp + fn), alpha=0.05, method='wilson')\n",
    "    auc = proportion_confint((tp + tn), (tp + tn + fp + fn), alpha=0.05, method='wilson')\n",
    "\n",
    "    return prevalence, sensibility, specificity, vpp, vpn, accuracy, auc"
   ],
   "metadata": {
    "collapsed": false,
    "ExecuteTime": {
     "end_time": "2024-03-27T17:26:53.489803Z",
     "start_time": "2024-03-27T17:26:53.484460Z"
    }
   },
   "id": "14f045e72f84538f",
   "execution_count": 129
  },
  {
   "cell_type": "code",
   "outputs": [],
   "source": [
    "X_train, X_test, y_train, y_test = get_data()"
   ],
   "metadata": {
    "collapsed": false,
    "ExecuteTime": {
     "end_time": "2024-03-27T17:26:53.501922Z",
     "start_time": "2024-03-27T17:26:53.490858Z"
    }
   },
   "id": "50e7f3d3162d76cf",
   "execution_count": 130
  },
  {
   "cell_type": "code",
   "outputs": [],
   "source": [
    "net_1 = [32, 64, 128, 64, 32, 1]\n",
    "model_1, history_1 = compile_fit(net_1, X_train, y_train, X_train.shape[1], tf.keras.optimizers.Adam, 0.001)[0:2]"
   ],
   "metadata": {
    "collapsed": false,
    "ExecuteTime": {
     "end_time": "2024-03-27T17:26:55.084152Z",
     "start_time": "2024-03-27T17:26:53.503469Z"
    }
   },
   "id": "c75b74fe6c22908b",
   "execution_count": 131
  },
  {
   "cell_type": "code",
   "outputs": [],
   "source": [
    "net_2 = [10, 20, 30, 40, 50, 40, 30, 20, 10, 1]\n",
    "model_2, history_2 = compile_fit(net_2, X_train, y_train, X_train.shape[1], tf.keras.optimizers.Adam, 0.001)[0:2]"
   ],
   "metadata": {
    "collapsed": false,
    "ExecuteTime": {
     "end_time": "2024-03-27T17:26:56.989561Z",
     "start_time": "2024-03-27T17:26:55.085187Z"
    }
   },
   "id": "9f44f44918c200f7",
   "execution_count": 132
  },
  {
   "cell_type": "code",
   "outputs": [
    {
     "name": "stdout",
     "output_type": "stream",
     "text": [
      "4/4 [==============================] - 0s 835us/step\n",
      "Model 1 metrics\n",
      "Prevalence: 0.6228070175438597 (0.5312021858550436, 0.7064051917199777)\n",
      "Sensibility: 0.971830985915493 (0.9029849988335054, 0.9922407364173166)\n",
      "Specificity: 0.9302325581395349 (0.8139101309875801, 0.9759884104227855)\n",
      "VPP: 0.9583333333333334 (0.8845072325868389, 0.9857291925330748)\n",
      "VPN: 0.9523809523809523 (0.8421014760304114, 0.9868424750910944)\n",
      "Accuracy: 0.956140350877193 (0.9014191976891217, 0.981122490446672)\n",
      "Informedness: 0.9020635440550278\n",
      "AUC: 0.9947592531935802 (0.9014191976891217, 0.981122490446672)\n",
      "F1 Score: 0.9650349650349651\n"
     ]
    }
   ],
   "source": [
    "y_pred_1 = model_1.predict(X_test).reshape(-1)\n",
    "tp_1, tn_1, fp_1, fn_1, auc_1 = get_matrix(y_test, y_pred_1)\n",
    "prevalence_1, sensibility_1, specificity_1, vpp_1, vpn_1, accuracy_1, informedness_1, f1_score_1 = get_metrics(\n",
    "    tp_1, tn_1, fp_1, fn_1)\n",
    "\n",
    "prevalence_interval_1, sensibility_interval_1, specificity_interval_1, vpp_interval_1, vpn_interval_1, accuracy_interval_1, auc_interval_1 = get_metrics_intervals(\n",
    "    tp_1, tn_1, fp_1, fn_1)\n",
    "\n",
    "print(\"Model 1 metrics\")\n",
    "print(f'Prevalence: {prevalence_1} {prevalence_interval_1}')\n",
    "print(f'Sensibility: {sensibility_1} {sensibility_interval_1}')\n",
    "print(f'Specificity: {specificity_1} {specificity_interval_1}')\n",
    "print(f'VPP: {vpp_1} {vpp_interval_1}')\n",
    "print(f'VPN: {vpn_1} {vpn_interval_1}')\n",
    "print(f'Accuracy: {accuracy_1} {accuracy_interval_1}')\n",
    "print(f'Informedness: {informedness_1}')\n",
    "print(f'AUC: {auc_1} {auc_interval_1}')\n",
    "print(f'F1 Score: {f1_score_1}')"
   ],
   "metadata": {
    "collapsed": false,
    "ExecuteTime": {
     "end_time": "2024-03-27T17:26:57.075600Z",
     "start_time": "2024-03-27T17:26:56.990596Z"
    }
   },
   "id": "5ffaa5b7bb832cb4",
   "execution_count": 133
  },
  {
   "cell_type": "code",
   "outputs": [
    {
     "name": "stdout",
     "output_type": "stream",
     "text": [
      "4/4 [==============================] - 0s 1ms/step\n",
      "Model 2 metrics\n",
      "Prevalence: 0.6228070175438597 (0.5312021858550436, 0.7064051917199777)\n",
      "Sensibility: 0.971830985915493 (0.9029849988335054, 0.9922407364173166)\n",
      "Specificity: 0.9069767441860465 (0.783972963587464, 0.9632283593682872)\n",
      "VPP: 0.9452054794520548 (0.8674100245784024, 0.9784875025843027)\n",
      "VPN: 0.9512195121951219 (0.8386102112962913, 0.9865190546348309)\n",
      "Accuracy: 0.9473684210526315 (0.8899118941026302, 0.9756578384920905)\n",
      "Informedness: 0.8788077301015393\n",
      "AUC: 0.9934490664919751 (0.8899118941026302, 0.9756578384920905)\n",
      "F1 Score: 0.9583333333333334\n"
     ]
    }
   ],
   "source": [
    "y_pred_2 = model_2.predict(X_test).reshape(-1)\n",
    "tp_2, tn_2, fp_2, fn_2, auc_2 = get_matrix(y_test, y_pred_2)\n",
    "prevalence_2, sensibility_2, specificity_2, vpp_2, vpn_2, accuracy_2, informedness_2, f1_score_2 = get_metrics(\n",
    "    tp_2, tn_2, fp_2, fn_2)\n",
    "\n",
    "prevalence_interval_2, sensibility_interval_2, specificity_interval_2, vpp_interval_2, vpn_interval_2, accuracy_interval_2, auc_interval_2 = get_metrics_intervals(\n",
    "    tp_2, tn_2, fp_2, fn_2)\n",
    "\n",
    "print(\"Model 2 metrics\")\n",
    "print(f'Prevalence: {prevalence_2} {prevalence_interval_2}')\n",
    "print(f'Sensibility: {sensibility_2} {sensibility_interval_2}')\n",
    "print(f'Specificity: {specificity_2} {specificity_interval_2}')\n",
    "print(f'VPP: {vpp_2} {vpp_interval_2}')\n",
    "print(f'VPN: {vpn_2} {vpn_interval_2}')\n",
    "print(f'Accuracy: {accuracy_2} {accuracy_interval_2}')\n",
    "print(f'Informedness: {informedness_2}')\n",
    "print(f'AUC: {auc_2} {auc_interval_2}')\n",
    "print(f'F1 Score: {f1_score_2}')"
   ],
   "metadata": {
    "collapsed": false,
    "ExecuteTime": {
     "end_time": "2024-03-27T17:28:16.773096Z",
     "start_time": "2024-03-27T17:28:16.724763Z"
    }
   },
   "id": "70af1e71b9ec024d",
   "execution_count": 137
  }
 ],
 "metadata": {
  "kernelspec": {
   "display_name": "Python 3",
   "language": "python",
   "name": "python3"
  },
  "language_info": {
   "codemirror_mode": {
    "name": "ipython",
    "version": 2
   },
   "file_extension": ".py",
   "mimetype": "text/x-python",
   "name": "python",
   "nbconvert_exporter": "python",
   "pygments_lexer": "ipython2",
   "version": "2.7.6"
  }
 },
 "nbformat": 4,
 "nbformat_minor": 5
}
