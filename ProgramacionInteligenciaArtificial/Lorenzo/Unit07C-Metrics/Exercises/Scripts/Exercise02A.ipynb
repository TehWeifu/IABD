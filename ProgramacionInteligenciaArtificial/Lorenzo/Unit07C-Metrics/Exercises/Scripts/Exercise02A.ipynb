{
 "cells": [
  {
   "cell_type": "markdown",
   "source": [
    "### Ejercicio 2.A\n",
    "\n",
    "Seguimos con la red neuronal que predice si una radiografía es de tórax.\n",
    "\n",
    "Si para 10 imágenes ha sacado los siguientes resultados:\n",
    "\n",
    "y_score=np.array([0.27, 0.45,  0.76,  0.55,  0.28, 0.04, 0.34, 0.4, 0.66, 0.88, 0.94,0.47,0.2])\n",
    "\n",
    "Indica para cada valor predicho , si ha predicho que era una imagen de tórax o no."
   ],
   "metadata": {
    "collapsed": false
   },
   "id": "35ff5206d6595339"
  },
  {
   "cell_type": "code",
   "outputs": [],
   "source": [
    "import numpy as np"
   ],
   "metadata": {
    "collapsed": false,
    "ExecuteTime": {
     "end_time": "2024-03-13T15:47:07.024319Z",
     "start_time": "2024-03-13T15:47:06.940317Z"
    }
   },
   "id": "54f5dae7ae5485ed",
   "execution_count": 2
  },
  {
   "cell_type": "code",
   "outputs": [
    {
     "data": {
      "text/plain": "array([False, False,  True,  True, False, False, False, False,  True,\n        True,  True, False, False])"
     },
     "execution_count": 3,
     "metadata": {},
     "output_type": "execute_result"
    }
   ],
   "source": [
    "y_score = np.array([0.27, 0.45, 0.76, 0.55, 0.28, 0.04, 0.34, 0.4, 0.66, 0.88, 0.94, 0.47, 0.2])\n",
    "y_pred = y_score >= .5\n",
    "y_pred"
   ],
   "metadata": {
    "collapsed": false,
    "ExecuteTime": {
     "end_time": "2024-03-13T15:47:07.030666Z",
     "start_time": "2024-03-13T15:47:07.025345Z"
    }
   },
   "id": "df6408c0aa22dee0",
   "execution_count": 3
  }
 ],
 "metadata": {
  "kernelspec": {
   "display_name": "Python 3",
   "language": "python",
   "name": "python3"
  },
  "language_info": {
   "codemirror_mode": {
    "name": "ipython",
    "version": 2
   },
   "file_extension": ".py",
   "mimetype": "text/x-python",
   "name": "python",
   "nbconvert_exporter": "python",
   "pygments_lexer": "ipython2",
   "version": "2.7.6"
  }
 },
 "nbformat": 4,
 "nbformat_minor": 5
}
