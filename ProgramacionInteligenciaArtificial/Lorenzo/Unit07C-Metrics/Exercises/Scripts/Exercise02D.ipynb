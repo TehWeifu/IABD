{
 "cells": [
  {
   "cell_type": "markdown",
   "source": [
    "Ejercicio 2.C\n",
    "Siguiendo con los datos anteriores y suponiendo que el umbral es 0.5:\n",
    "\n",
    "y_true=np.array([1,0,1,0,0,0,1,0,1,1,1,1,0])\n",
    "y_score=np.array([0.27, 0.45,  0.76,  0.55,  0.28, 0.04, 0.34,0.4, 0.66, 0.88, 0.94,0.47,0.2])\n",
    "\n",
    "Calcula directamente las siguientes métricas:\n",
    "\n",
    "Prevalencia\n",
    "Sensibilidad\n",
    "Especificidad\n",
    "VPP\n",
    "VPN"
   ],
   "metadata": {
    "collapsed": false
   },
   "id": "35ff5206d6595339"
  },
  {
   "cell_type": "code",
   "outputs": [],
   "source": [
    "import numpy as np\n",
    "import seaborn as sns"
   ],
   "metadata": {
    "collapsed": false,
    "ExecuteTime": {
     "end_time": "2024-03-13T16:08:50.378145Z",
     "start_time": "2024-03-13T16:08:50.375333Z"
    }
   },
   "id": "54f5dae7ae5485ed",
   "execution_count": 9
  },
  {
   "cell_type": "code",
   "outputs": [],
   "source": [
    "def get_metrics(tp, tn, fp, fn):\n",
    "    prevalence = (tp + fn) / (tp + tn + fp + fn)\n",
    "    sensibility = tp / (tp + fn)\n",
    "    specificity = tn / (fp + tn)\n",
    "\n",
    "    return prevalence, sensibility, specificity"
   ],
   "metadata": {
    "collapsed": false,
    "ExecuteTime": {
     "end_time": "2024-03-13T16:08:50.385052Z",
     "start_time": "2024-03-13T16:08:50.378145Z"
    }
   },
   "id": "52b549a05d942e1f",
   "execution_count": 10
  },
  {
   "cell_type": "code",
   "outputs": [],
   "source": [
    "def get_precision_bayes(sensibility, specificity, prevalence):\n",
    "    return (sensibility * prevalence) / (sensibility * prevalence + (1 - specificity) * (1 - prevalence))"
   ],
   "metadata": {
    "collapsed": false,
    "ExecuteTime": {
     "end_time": "2024-03-13T16:08:50.390701Z",
     "start_time": "2024-03-13T16:08:50.386096Z"
    }
   },
   "id": "e3bbb03fc8dcfe2d",
   "execution_count": 11
  },
  {
   "cell_type": "code",
   "outputs": [],
   "source": [
    "def get_vpn_bayes(sensibility, specificity, prevalence):\n",
    "    return (specificity * (1 - prevalence)) / (specificity * (1 - prevalence) + (1 - sensibility) * prevalence)"
   ],
   "metadata": {
    "collapsed": false,
    "ExecuteTime": {
     "end_time": "2024-03-13T16:08:50.397666Z",
     "start_time": "2024-03-13T16:08:50.391814Z"
    }
   },
   "id": "981c2d7b8879cf61",
   "execution_count": 12
  },
  {
   "cell_type": "code",
   "outputs": [],
   "source": [
    "y_true = np.array([1, 0, 1, 0, 0, 0, 1, 0, 1, 1, 1, 1, 0])\n",
    "y_score = np.array([0.27, 0.45, 0.76, 0.55, 0.28, 0.04, 0.34, 0.4, 0.66, 0.88, 0.94, 0.47, 0.2])"
   ],
   "metadata": {
    "collapsed": false,
    "ExecuteTime": {
     "end_time": "2024-03-13T16:08:50.404358Z",
     "start_time": "2024-03-13T16:08:50.398169Z"
    }
   },
   "id": "df6408c0aa22dee0",
   "execution_count": 13
  },
  {
   "cell_type": "code",
   "outputs": [],
   "source": [
    "y_pred = y_score >= .5\n",
    "\n",
    "tp = sum(y_pred & y_true)\n",
    "tn = sum(~y_pred & ~y_true)\n",
    "fp = sum(y_pred & ~y_true)\n",
    "fn = sum(~y_pred & y_true)"
   ],
   "metadata": {
    "collapsed": false,
    "ExecuteTime": {
     "end_time": "2024-03-13T16:08:50.410757Z",
     "start_time": "2024-03-13T16:08:50.404358Z"
    }
   },
   "id": "97a654d9138ceb68",
   "execution_count": 14
  },
  {
   "cell_type": "code",
   "outputs": [],
   "source": [
    "prevalence, sensibility, specificity = get_metrics(tp, tn, fp, fn)\n",
    "precision = get_precision_bayes(sensibility, specificity, prevalence)\n",
    "vpn = get_vpn_bayes(sensibility, specificity, prevalence)"
   ],
   "metadata": {
    "collapsed": false,
    "ExecuteTime": {
     "end_time": "2024-03-13T16:08:50.417460Z",
     "start_time": "2024-03-13T16:08:50.410757Z"
    }
   },
   "id": "45800544249b7e7d",
   "execution_count": 15
  },
  {
   "cell_type": "code",
   "outputs": [
    {
     "name": "stdout",
     "output_type": "stream",
     "text": [
      "Prevalence: 0.54\n",
      "Sensibility: 0.57\n",
      "Specificity: 0.83\n",
      "Precision: 0.80\n",
      "VPN: 0.62\n"
     ]
    }
   ],
   "source": [
    "print(f\"Prevalence: {prevalence:.2f}\")\n",
    "print(f\"Sensibility: {sensibility:.2f}\")\n",
    "print(f\"Specificity: {specificity:.2f}\")\n",
    "print(f\"Precision: {precision:.2f}\")\n",
    "print(f\"VPN: {vpn:.2f}\")"
   ],
   "metadata": {
    "collapsed": false,
    "ExecuteTime": {
     "end_time": "2024-03-13T16:08:50.425649Z",
     "start_time": "2024-03-13T16:08:50.417460Z"
    }
   },
   "id": "8266f8d4b1dc50a4",
   "execution_count": 16
  }
 ],
 "metadata": {
  "kernelspec": {
   "display_name": "Python 3",
   "language": "python",
   "name": "python3"
  },
  "language_info": {
   "codemirror_mode": {
    "name": "ipython",
    "version": 2
   },
   "file_extension": ".py",
   "mimetype": "text/x-python",
   "name": "python",
   "nbconvert_exporter": "python",
   "pygments_lexer": "ipython2",
   "version": "2.7.6"
  }
 },
 "nbformat": 4,
 "nbformat_minor": 5
}
