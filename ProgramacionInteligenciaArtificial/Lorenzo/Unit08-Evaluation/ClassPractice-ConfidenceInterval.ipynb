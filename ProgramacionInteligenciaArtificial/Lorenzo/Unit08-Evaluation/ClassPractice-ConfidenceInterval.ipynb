{
 "cells": [
  {
   "cell_type": "code",
   "outputs": [],
   "source": [
    "import matplotlib.pyplot as plt\n",
    "import numpy as np\n",
    "from statsmodels.stats.proportion import proportion_confint"
   ],
   "metadata": {
    "collapsed": false,
    "ExecuteTime": {
     "end_time": "2024-05-09T17:18:22.763520Z",
     "start_time": "2024-05-09T17:18:22.760450Z"
    }
   },
   "id": "e12d40dad69f6cc7",
   "execution_count": 20
  },
  {
   "cell_type": "code",
   "outputs": [],
   "source": [
    "def plot_intervals(axes, intervalos, title, xlabel, ylabels):\n",
    "    for index, (inferior, superior) in enumerate(intervalos):\n",
    "        position = len(intervalos) - index - 1\n",
    "        media = ((superior - inferior) / 2) + inferior\n",
    "        axes.plot([inferior, superior], [position, position], marker='|', markersize=10, linestyle='-', color='#003B80')\n",
    "        axes.scatter(media, position, color='#003B80')\n",
    "\n",
    "    axes.set_yticks(np.arange(len(ylabels)))\n",
    "    axes.set_yticklabels(ylabels[::-1])\n",
    "    axes.set_xlabel(xlabel)\n",
    "    axes.set_title(title)\n",
    "    axes.setxlim(0, 1)\n",
    "\n",
    "    axes.set_facecolor(\"#F0F7FF\")\n",
    "    axes.grid(visible=True, which='major', axis='both', color=\"#FFFFFF\", linewidth=1)"
   ],
   "metadata": {
    "collapsed": false,
    "ExecuteTime": {
     "end_time": "2024-05-09T17:18:22.770152Z",
     "start_time": "2024-05-09T17:18:22.764540Z"
    }
   },
   "id": "139b1295fbed7f90",
   "execution_count": 21
  },
  {
   "cell_type": "code",
   "outputs": [],
   "source": [
    "confidence = 0.95"
   ],
   "metadata": {
    "collapsed": false,
    "ExecuteTime": {
     "end_time": "2024-05-09T17:18:22.775793Z",
     "start_time": "2024-05-09T17:18:22.772731Z"
    }
   },
   "id": "edd0f4623b4f0f22",
   "execution_count": 22
  },
  {
   "cell_type": "code",
   "outputs": [],
   "source": [
    "model1_success = 250\n",
    "model1_total = 311\n",
    "model1_lower, model1_upper = proportion_confint(model1_success, model1_total, method=\"jeffreys\", alpha=1 - confidence)"
   ],
   "metadata": {
    "collapsed": false,
    "ExecuteTime": {
     "end_time": "2024-05-09T17:18:22.798266Z",
     "start_time": "2024-05-09T17:18:22.794668Z"
    }
   },
   "id": "1bd538f25025ee22",
   "execution_count": 23
  },
  {
   "cell_type": "code",
   "outputs": [],
   "source": [
    "model2_success = 1\n",
    "model2_total = 1\n",
    "model2_lower, model2_upper = proportion_confint(model2_success, model2_total, method=\"jeffreys\", alpha=1 - confidence)"
   ],
   "metadata": {
    "collapsed": false,
    "ExecuteTime": {
     "end_time": "2024-05-09T17:18:22.804906Z",
     "start_time": "2024-05-09T17:18:22.799282Z"
    }
   },
   "id": "d9a8a42a5e2a92ed",
   "execution_count": 24
  },
  {
   "cell_type": "code",
   "outputs": [],
   "source": [
    "model3_success = 999_900\n",
    "model3_total = 1_000_000\n",
    "model3_lower, model3_upper = proportion_confint(model3_success, model3_total, method=\"jeffreys\", alpha=1 - confidence)"
   ],
   "metadata": {
    "collapsed": false,
    "ExecuteTime": {
     "end_time": "2024-05-09T17:18:22.812097Z",
     "start_time": "2024-05-09T17:18:22.805921Z"
    }
   },
   "id": "26bb655a404eb9a4",
   "execution_count": 25
  },
  {
   "cell_type": "code",
   "outputs": [
    {
     "ename": "AttributeError",
     "evalue": "'Axes' object has no attribute 'setxlim'",
     "output_type": "error",
     "traceback": [
      "\u001B[1;31m---------------------------------------------------------------------------\u001B[0m",
      "\u001B[1;31mAttributeError\u001B[0m                            Traceback (most recent call last)",
      "Cell \u001B[1;32mIn[26], line 11\u001B[0m\n\u001B[0;32m      4\u001B[0m intervalos \u001B[38;5;241m=\u001B[39m [\n\u001B[0;32m      5\u001B[0m     (model1_lower, model1_upper),\n\u001B[0;32m      6\u001B[0m     (model2_lower, model2_upper),\n\u001B[0;32m      7\u001B[0m     (model3_lower, model3_upper)\n\u001B[0;32m      8\u001B[0m ]\n\u001B[0;32m      9\u001B[0m ylabels \u001B[38;5;241m=\u001B[39m [\u001B[38;5;124m'\u001B[39m\u001B[38;5;124mModelo 1\u001B[39m\u001B[38;5;124m'\u001B[39m, \u001B[38;5;124m'\u001B[39m\u001B[38;5;124mModelo 2\u001B[39m\u001B[38;5;124m'\u001B[39m, \u001B[38;5;124m'\u001B[39m\u001B[38;5;124mModelo 3\u001B[39m\u001B[38;5;124m'\u001B[39m]\n\u001B[1;32m---> 11\u001B[0m \u001B[43mplot_intervals\u001B[49m\u001B[43m(\u001B[49m\u001B[43maxes\u001B[49m\u001B[43m,\u001B[49m\u001B[43m \u001B[49m\u001B[43mintervalos\u001B[49m\u001B[43m,\u001B[49m\u001B[43m \u001B[49m\u001B[38;5;124;43m\"\u001B[39;49m\u001B[38;5;124;43mComparación de modelos\u001B[39;49m\u001B[38;5;124;43m\"\u001B[39;49m\u001B[43m,\u001B[49m\u001B[43m \u001B[49m\u001B[38;5;124;43m\"\u001B[39;49m\u001B[38;5;124;43mSensibilidad\u001B[39;49m\u001B[38;5;124;43m\"\u001B[39;49m\u001B[43m,\u001B[49m\u001B[43m \u001B[49m\u001B[43mylabels\u001B[49m\u001B[43m)\u001B[49m\n",
      "Cell \u001B[1;32mIn[21], line 12\u001B[0m, in \u001B[0;36mplot_intervals\u001B[1;34m(axes, intervalos, title, xlabel, ylabels)\u001B[0m\n\u001B[0;32m     10\u001B[0m axes\u001B[38;5;241m.\u001B[39mset_xlabel(xlabel)\n\u001B[0;32m     11\u001B[0m axes\u001B[38;5;241m.\u001B[39mset_title(title)\n\u001B[1;32m---> 12\u001B[0m \u001B[43maxes\u001B[49m\u001B[38;5;241;43m.\u001B[39;49m\u001B[43msetxlim\u001B[49m(\u001B[38;5;241m0\u001B[39m, \u001B[38;5;241m1\u001B[39m)\n\u001B[0;32m     14\u001B[0m axes\u001B[38;5;241m.\u001B[39mset_facecolor(\u001B[38;5;124m\"\u001B[39m\u001B[38;5;124m#F0F7FF\u001B[39m\u001B[38;5;124m\"\u001B[39m)\n\u001B[0;32m     15\u001B[0m axes\u001B[38;5;241m.\u001B[39mgrid(visible\u001B[38;5;241m=\u001B[39m\u001B[38;5;28;01mTrue\u001B[39;00m, which\u001B[38;5;241m=\u001B[39m\u001B[38;5;124m'\u001B[39m\u001B[38;5;124mmajor\u001B[39m\u001B[38;5;124m'\u001B[39m, axis\u001B[38;5;241m=\u001B[39m\u001B[38;5;124m'\u001B[39m\u001B[38;5;124mboth\u001B[39m\u001B[38;5;124m'\u001B[39m, color\u001B[38;5;241m=\u001B[39m\u001B[38;5;124m\"\u001B[39m\u001B[38;5;124m#FFFFFF\u001B[39m\u001B[38;5;124m\"\u001B[39m, linewidth\u001B[38;5;241m=\u001B[39m\u001B[38;5;241m1\u001B[39m)\n",
      "\u001B[1;31mAttributeError\u001B[0m: 'Axes' object has no attribute 'setxlim'"
     ]
    },
    {
     "data": {
      "text/plain": "<Figure size 640x480 with 1 Axes>",
      "image/png": "[encoded data removed]"
     },
     "metadata": {},
     "output_type": "display_data"
    }
   ],
   "source": [
    "figure = plt.figure()\n",
    "axes = figure.add_subplot()\n",
    "\n",
    "intervalos = [\n",
    "    (model1_lower, model1_upper),\n",
    "    (model2_lower, model2_upper),\n",
    "    (model3_lower, model3_upper)\n",
    "]\n",
    "ylabels = ['Modelo 1', 'Modelo 2', 'Modelo 3'\n",
    "                                   '']\n",
    "\n",
    "plot_intervals(axes, intervalos, \"Comparación de modelos\", \"Sensibilidad\", ylabels)"
   ],
   "metadata": {
    "collapsed": false,
    "ExecuteTime": {
     "end_time": "2024-05-09T17:18:23.312260Z",
     "start_time": "2024-05-09T17:18:22.813639Z"
    }
   },
   "id": "22712bc429dcce",
   "execution_count": 26
  }
 ],
 "metadata": {
  "kernelspec": {
   "display_name": "Python 3",
   "language": "python",
   "name": "python3"
  },
  "language_info": {
   "codemirror_mode": {
    "name": "ipython",
    "version": 2
   },
   "file_extension": ".py",
   "mimetype": "text/x-python",
   "name": "python",
   "nbconvert_exporter": "python",
   "pygments_lexer": "ipython2",
   "version": "2.7.6"
  }
 },
 "nbformat": 4,
 "nbformat_minor": 5
}
