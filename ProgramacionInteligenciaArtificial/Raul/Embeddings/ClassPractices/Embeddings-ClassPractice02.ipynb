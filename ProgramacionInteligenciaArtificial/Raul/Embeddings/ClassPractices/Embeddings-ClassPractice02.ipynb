{
  "nbformat": 4,
  "nbformat_minor": 0,
  "metadata": {
    "colab": {
      "provenance": []
    },
    "kernelspec": {
      "name": "python3",
      "display_name": "Python 3"
    },
    "language_info": {
      "name": "python"
    }
  },
  "cells": [
    {
      "cell_type": "markdown",
      "source": [
        "# Importamos la librerias que nos sean necesarias"
      ],
      "metadata": {
        "id": "hbwNz6wepEw0"
      }
    },
    {
      "cell_type": "code",
      "execution_count": null,
      "metadata": {
        "id": "4jDBr2yrpCQY"
      },
      "outputs": [],
      "source": [
        "import gensim\n",
        "from gensim.models import Word2Vec\n",
        "import numpy as np"
      ]
    },
    {
      "cell_type": "markdown",
      "source": [
        "# Generamos el supuesto conjunto de datos"
      ],
      "metadata": {
        "id": "2CiYAIy0pLsi"
      }
    },
    {
      "cell_type": "code",
      "source": [
        "data = [\n",
        "    (\"A dog barks at night\", \"dog\"),\n",
        "    (\"The cat sits on the mat\", \"cat\"),\n",
        "    (\"Birds fly south in the winter\", \"bird\"),\n",
        "    (\"My dog plays with a ball\", \"dog\"),\n",
        "    (\"I saw two birds on the tree\", \"bird\"),\n",
        "    (\"Cats love to chase mice\", \"cat\"),\n",
        "    (\"Birds build nests\", \"bird\"),\n",
        "    (\"A cat has nine lives\", \"cat\"),\n",
        "    (\"Dogs are man's best friend\", \"dog\"),\n",
        "    (\"The eagle is a bird of prey\", \"bird\"),\n",
        "    (\"That cat looks like a tiger\", \"cat\"),\n",
        "    (\"A dog can smell hundreds of times better than a human\", \"dog\")\n",
        "]\n"
      ],
      "metadata": {
        "id": "_dK-s7zYpQ-i"
      },
      "execution_count": null,
      "outputs": []
    },
    {
      "cell_type": "markdown",
      "source": [
        "# Preparamos los datos para Word2Vec y entrenamos el modelo"
      ],
      "metadata": {
        "id": "O_x858MLpTGJ"
      }
    },
    {
      "cell_type": "code",
      "source": [
        "# Preparar datos para Word2Vec (solo necesitamos las frases, no las etiquetas)\n",
        "sentences = [gensim.utils.simple_preprocess(sentence) for sentence, animal in data]\n",
        "\n",
        "# Entrenar un modelo Word2Vec\n",
        "model = Word2Vec(sentences, vector_size=50, window=3, min_count=1, workers=4)\n",
        "\n",
        "# Función para convertir una frase en un embedding promediando los embeddings de sus palabras\n",
        "def sentence_embedding(sentence):\n",
        "    words = gensim.utils.simple_preprocess(sentence)\n",
        "    embeddings = [model.wv[word] for word in words if word in model.wv]\n",
        "    if embeddings:\n",
        "        return np.mean(embeddings, axis=0)\n",
        "    else:\n",
        "        return np.zeros(model.vector_size)\n",
        "\n",
        "# Crear embeddings para cada frase\n",
        "X = np.array([sentence_embedding(sentence) for sentence, animal in data])"
      ],
      "metadata": {
        "id": "2f8hLOLNpYwr"
      },
      "execution_count": null,
      "outputs": []
    },
    {
      "cell_type": "markdown",
      "source": [
        "# Creamos el Modelo de Clasificación"
      ],
      "metadata": {
        "id": "A6FU76-tpl4G"
      }
    },
    {
      "cell_type": "code",
      "source": [
        "from sklearn.svm import SVC\n",
        "from sklearn.preprocessing import LabelEncoder\n",
        "from sklearn.model_selection import train_test_split\n",
        "from sklearn.metrics import accuracy_score\n",
        "\n",
        "# Codificar etiquetas categóricas como números\n",
        "le = LabelEncoder()\n",
        "y = le.fit_transform([animal for sentence, animal in data])\n",
        "\n",
        "# Dividir datos en entrenamiento y prueba\n",
        "X_train, X_test, y_train, y_test = train_test_split(X, y, test_size=0.25, random_state=42)\n",
        "\n",
        "# Entrenar un clasificador SVM\n",
        "clf = SVC(kernel='linear')\n",
        "clf.fit(X_train, y_train)\n",
        "\n",
        "# Evaluar el clasificador\n",
        "y_pred = clf.predict(X_test)\n",
        "print(\"Accuracy:\", accuracy_score(y_test, y_pred))\n"
      ],
      "metadata": {
        "colab": {
          "base_uri": "https://localhost:8080/"
        },
        "id": "G1udrwRHpuH0",
        "outputId": "1f1c9598-b905-4747-8d71-3ebf6c43bf9f"
      },
      "execution_count": null,
      "outputs": [
        {
          "output_type": "stream",
          "name": "stdout",
          "text": [
            "Accuracy: 0.3333333333333333\n"
          ]
        }
      ]
    },
    {
      "cell_type": "markdown",
      "source": [
        "# Usamos el modelo"
      ],
      "metadata": {
        "id": "c2E6y4b_pzQx"
      }
    },
    {
      "cell_type": "code",
      "source": [
        "new_sentences = [\n",
        "    \"The penguin swims in the sea\",\n",
        "    \"Look at that flying bird\",\n",
        "    \"My kitten is adorable\"\n",
        "]\n",
        "\n",
        "new_embeddings = np.array([sentence_embedding(sentence) for sentence in new_sentences])\n",
        "new_predictions = le.inverse_transform(clf.predict(new_embeddings))\n",
        "\n",
        "for sentence, category in zip(new_sentences, new_predictions):\n",
        "    print(f\"Sentence: {sentence} - Predicted Category: {category}\")\n"
      ],
      "metadata": {
        "colab": {
          "base_uri": "https://localhost:8080/"
        },
        "id": "Zi0xZGS7p1Wt",
        "outputId": "729b5f7a-885d-458f-91fb-7ad4fa918ef0"
      },
      "execution_count": null,
      "outputs": [
        {
          "output_type": "stream",
          "name": "stdout",
          "text": [
            "Sentence: The penguin swims in the sea - Predicted Category: bird\n",
            "Sentence: Look at that flying bird - Predicted Category: dog\n",
            "Sentence: My kitten is adorable - Predicted Category: dog\n"
          ]
        }
      ]
    }
  ]
}