{
 "cells": [
  {
   "cell_type": "code",
   "execution_count": 135,
   "id": "initial_id",
   "metadata": {
    "collapsed": true,
    "ExecuteTime": {
     "end_time": "2024-01-31T13:16:44.832714700Z",
     "start_time": "2024-01-31T13:16:43.722623100Z"
    }
   },
   "outputs": [],
   "source": [
    "import re\n",
    "\n",
    "import numpy as np\n",
    "import pandas as pd\n",
    "import spacy\n",
    "from nltk.corpus import stopwords\n",
    "from sklearn.feature_extraction.text import CountVectorizer\n",
    "from sklearn.naive_bayes import MultinomialNB\n",
    "\n",
    "nlp = spacy.load(\"es_core_news_lg\")"
   ]
  },
  {
   "cell_type": "code",
   "outputs": [],
   "source": [
    "file_path = './FAQs.txt'\n",
    "file_handler = open(file_path, 'r', encoding='utf-8')\n",
    "extracted_text = file_handler.read()"
   ],
   "metadata": {
    "collapsed": false,
    "ExecuteTime": {
     "end_time": "2024-01-31T13:16:44.843462900Z",
     "start_time": "2024-01-31T13:16:44.833224900Z"
    }
   },
   "id": "63884e988574fd4f",
   "execution_count": 136
  },
  {
   "cell_type": "code",
   "outputs": [],
   "source": [
    "matches = re.findall(r'^-.*?(?=\\n-|\\Z)', extracted_text, re.MULTILINE | re.DOTALL)"
   ],
   "metadata": {
    "collapsed": false,
    "ExecuteTime": {
     "end_time": "2024-01-31T13:16:44.843976Z",
     "start_time": "2024-01-31T13:16:44.836809800Z"
    }
   },
   "id": "8d14386d9aabe0f9",
   "execution_count": 137
  },
  {
   "cell_type": "code",
   "outputs": [],
   "source": [
    "question_answer_group = [re.sub(r'(\\s)o(\\s)', \"\\n\", question, flags=re.UNICODE) for question in matches]\n",
    "question_answer_group = [re.sub(r\"[^A-Za-z \\náéíóúñÑÁÉÍÓÚÑüÜ]\", \"\", question, flags=re.UNICODE) for question in\n",
    "                         question_answer_group]"
   ],
   "metadata": {
    "collapsed": false,
    "ExecuteTime": {
     "end_time": "2024-01-31T13:16:44.857318800Z",
     "start_time": "2024-01-31T13:16:44.843462900Z"
    }
   },
   "id": "6b8471494cbfa5e4",
   "execution_count": 138
  },
  {
   "cell_type": "code",
   "outputs": [
    {
     "data": {
      "text/plain": "['compatible equipo preinstalación ongrid \\n   compatible necesitar comunicación instalación previo \\n',\n 'posibilidad conectar aerogenerador inversor híbrido \\n GenPort salida aerogenerador AC señal estable \\n',\n 'conectar aerogenerador yó generador estar cliente conexión red \\n GenPort aerogenerador generador Puerto Red Eléctricamente factible funcionamiento inestable \\n',\n 'tenéis compatibilidad inversor Huawei preinstalado \\n   compatible comunicación \\n',\n 'tipo tensión emplear conexión paralelo embarrado \\n   ocasión tensión bajo \\n',\n 'opción venta excedent energía red \\n equipo funcionalidad venta excedent zero export to grid acumulación excedent batería \\n',\n 'Industrial Potencias Kw viable \\n caso instalar SBR paralelo kw SBI Kw \\n',\n 'viable almacenamiento inferior Kwh \\n instalar SBR paralelo Kwh SBI Kwh \\n',\n 'aumentar potencia Kw llegar Kw \\n añadir kw adicional ongrid entrar Genport \\n',\n 'hacéis corriente alterno \\n conectar paralelo alterna embarrado bajo tensión proyecto concreto \\n',\n 'mejoráis ineficiencia ongrid causado vertido cero \\n aportar torno   mejora \\n',\n 'ratio   Kw \\n horquilla kw Kw depender almacenamiento instalar   Kwh coste Kw \\n',\n 'ip   exterior armario Huawei \\n exterior montar caseta exterior ó contenedor marítimo \\n',\n 'exterior necesitar ventilación \\n mínimo m volumen correcto ventilación \\n',\n 'máximo capacidad almacenamiento \\n momento Mwh \\n',\n 'garantía tenéis \\n ofrecer   año garantía \\n',\n 'necesario instalador formado \\n formar homologamos instalador instalación Onda Castellón \\n acompañamos instalación plugplay AllInOne falta alto formación \\n',\n 'tardar instalar \\n jornada   competidor \\n',\n 'modular \\n completamente modular Kw Kw Kwh flexible kW mwh \\n',\n 'tener problema malo instalación \\n sistema Plug   Play AllInOne opción error instalación \\n',\n 'prender fuego \\n garantizado fábrica evitar riesgo \\n',\n '  independiente red \\n generación suficiente acumulación permitir capacidad descarga batería C \\n',\n 'evitar volatilidad precio ó red caída \\n backup automático ó manual evitar volatilidad red IA suficiente acumulación evitar pico alto mercado \\n',\n 'temer control remoto \\n App móvil consultar establecer parámetro planta momento \\n',\n 'aprovechar dato \\n Machine Learning aprender curva carga diario mejorar trading abaratar consumo red \\n',\n 'meter Kw carga \\n sentir cómodo   inversor híbrido Kw cu paralelo \\n instalación necesario alcanzar kw carga requerir máximo   inversor híbrido Kw cu paralelo \\n',\n 'almacenamiento \\n máximo Mwh momento \\n',\n 'relación óptimo potencia almacenamiento \\n  ó   óptimo \\n\\n\\n',\n 'Peack Shaving \\n evitar exceder potencia contratado evitar gasto extra optimizar bajar potencia contratado emplear batería adecuado \\n resumen limitar potencia consumir red \\n',\n 'monitorizar producción solar \\n conectado tiempo real Meteosat \\n',\n 'proteger SBI frente tormenta \\n conectado tiempo real Meteosat proteger proceso crítico cliente decidir Backup \\n',\n 'IA servir \\n escoger opción barato momento tener precio red tiempo real producción solar almacenado cotejándolo curva carga gastar momento elegir opción barato cubrir holgura carga necesitar combinar tiempo real tiempo meteorología producción solar relacionar curva carga real \\n',\n 'tradear \\n comprar red elegir valle precio salir barato \\n',\n 'diseño seguro \\n diseño seguridad implícito montar fábrica exactamente maximizar seguridad bonito \\n',\n 'vicio oculto instalación \\n caso susto posteriori \\n',\n 'antiguo instalación necesitar batería rentable \\n dimensionar propósito haber excedente costa dejar cubierto ó superficie aprovechable desierto \\n',\n 'aislado ó preinstalación ongrid conectar dimensionar generador inversor XXkW \\n conectar genport   carga nulo toma tierra   máximo igualar potencia carga inversor \\n inversor kw asumir carga genport generador máximo kw \\n genport estándar fabricar kw avisar previamente avisar fábrica \\n',\n 'planta FV creado ó amparada RD viable instalar él batería almacenar excedente rentabilizar él posteriori \\n técnicamente legalmente viable \\n\\n\\n\\n',\n '  valenciano \\n   valenciano \\n cotizado Nasdaq \\n   oleada sistema adaptado normativa EU \\n tener   oleada sistema adaptado normativa \\n',\n 'tenéis protocolo validar proyecto \\n propuesta ad hoc ejercer consultor inicial proyecto \\n proyecto herramienta estandarizado facilitar él instalador distribuidor \\n',\n 'necesario transformador adicional \\n necesario transformador adicional \\n trabajar baja sistema funcionar bajo \\n',\n 'bajo tensión \\n bajo tensión \\n',\n 'torre ventilación autosuficiente \\n torre venir fábrica ventilación autosuficiente \\n',\n 'precio llevar porte incluido \\n precio porte incluido \\n porte ver separado tarifacer aparte \\n',\n 'batería c \\n batería trabajar C \\n mantener margen seguridad descarga   degradar rápido \\n competidor C \\n',\n 'SunBox Industriales lugar especial \\n SunBox Industriales interior \\n exterior haber construir   fabricar   comprar caseta   contenedor m ventilación aislado exterior \\n situar él peso tamaño suponer riesgo soporte \\n óptimo situar él cerca lugar conexión \\n',\n 'tamaño SBI \\n alto m m profundidad anchura variar m armario inversor híbrido m armario acumulación m armario conmutador   caso instalación necesitar volumen superior Kw \\n',\n 'peso SBI \\n armario inversor conmutador kg cu batería   kg cu \\n\\n\\n',\n 'armario aparecer foto armario base solución   kw potencia   kwh almacenamiento \\n armario aparecer foto idéntico diseño foto pertenecer sistema potencia almacenamiento comentar kw kwh \\n armario referencia kw kWh siguiente dimensión \\n m altura \\n m profundidad \\n ml repartido \\n  ml   armario inversor híbrido   kw \\n ml   armario batería   kwh \\n',\n 'presentación mandaste solución ampliable relación máximo   kw potencia inversor   mwh almacenamiento tamaño solución \\n\\n actualmente solución ampliable \\n Máximo kw potencia \\n Máximo mwh almacenamiento lugar mwh aparecer \\n configuración grapada trasera yó paralelo pasillo central reducir significativamente espacio ocupar \\n tamaño dicho solución kw mwh \\n m altura \\n m profundidad \\n  ml meter apurar   bancada sala dedicado x ejemplo pasillo interno \\n\\n Detalle medida tipo armario \\n  ml   armario inv híbrido   kw cu \\n  ml   armario batería   kWh cu \\n  ml   armario conmutador \\n',\n 'solución   kw mwh planta fotovoltaico caso afirmativo tipo limitación técnico ejemplo instalar medidor \\n aislado equipo comunicado red isla independiente \\n aislado carga separado \\n sistema independiente lectura meter punto entrar conflicto abastecer consumo especialmente hora exportación cero \\n sistema modulable   kw solución modular paralelizable   equipo   kw \\n paralelizar red   equipo servicio Back Up regular ajusta Cargadescarga batería control exportación \\n número solución volver inestable \\n sentido planta requerimiento mayor carga compensado establecer Subcircuitos instalar planta   kw consciente dar él paradoja subplanta estar aplicar verter   consumir red \\n',\n 'fabricante medidor compatible solución facilitar app Turbo Energy información consumo cliente \\n trabajar cts \\n Meters \\n meters utilizar marca Chint   Eastron modelo medida directo indirecto \\n App Turbo Energy facilitar información consumo Cliente dicho información descargar plataforma apoyo lectura dato planta \\n caso equipo necesario monitorización planta red consumo cliente incluido \\n citado meters comunicar él plataforma \\n',\n 'meter integrado sistema Sunbox \\n SBI incorporado ct lectura red \\n punto medida ml recomendable meter externo incluido \\n',\n 'integrar solución Sunbox Industrial funcionar Retrofit \\n solución RetroFit aprovechar máximo producción solar instalación ongrid previo llegada \\n instalación conectar paralelo alterna embarrado existente asimilar instalación previo puerto FV \\n aislada aumentar potencia suministro aportar batería yó ampliar producción \\n Funciona forma equivalente instalación fotovoltaico híbrido integrar producción existente único salvedad carga batería venir AC lugar DC \\n',\n 'funcionar conjunto cerebro instalación fotovoltaico \\n funcionar paralelamente únicamente cargar batería excedent fotovoltaico \\n cerebro instalación FV estar conectado sistema \\n comunicación inversor previo \\n',\n 'inversor compatible comunicación funcionar solución Retrofit \\n resultar necesario comunicación inversor existir instalación previo vertido \\n sistema cargar batería detectar próximo intervención vertido   forma ajustar carga excedente \\n resultar necesario estudio previo funcionamiento sistema vertido   planta existente ajustar modelo \\n',\n 'funcionar sistema aislado red \\n actuar sistema incluir conmutador fallo suministro deslastra carga red conecta forma Offgrid \\n desconectado red funcionalidad IA interactuar pull precio mercado \\n',\n 'consideración sistema funcionar OffGrid \\n aislada recomendable doblar kwh kw potencia \\n batería C relación \\n funcionalidad aumentar producción opción conectar inversor ongrid entrada genport \\n resultar imprescindible pequeño estudio evaluar carga conectar salida conmutable directamente red evitar sobrecargar sistema Offgrid \\n\\n',\n 'aprovechar IA precio contratado \\n Tarifa indexado conectar vía WiFi precio tarifa indexado próximo h conocimiento acumulado curva carga cliente decidir momento comprar barato consumir acumulado momento pico precio \\n Tarifa TD industrial cargar precio   periodo IA realizar cálculo buscar aproximar él consumo cero dicho tarifa \\n PPA tarifa fijo soler económico obstante batería excedent peak shaving back up carga crítico seguir ventaja considerable \\n\\n',\n 'comprar separado inversor batería ó vicevesa \\n separar solución sistema AllinOne precisamente \\n',\n 'habéis vender proyecto enfocado Peak Shaving ahorro vía acumulación IA \\n entrar detalle azulejera escoger solución poner foco Peak Shaving \\n',\n 'comisión distribuidor ó instalador \\n habitual   precio producto \\n instalación correr instalador \\n',\n 'kw quedar corto kw quedar modular \\n kw AC modular escalón \\n hacer él micro \\n hacer él inversor ongrid ex profeso \\n',\n 'ciclo batería \\n normalmente contar   ciclo \\n   óptimo \\n restante   eficaz \\n',\n 'conectar generador externo inversor \\n conectar emplear entrada genport \\n caso generador contar relé encendido automático \\n',\n 'caro SBI kWkWh SBR kWkWh \\n SBR configuración porte IVA instalación \\n SBI pequeño kWkWh porte IVA instalación \\n',\n 'entrar vía genport potencia potencia nominal inversor \\n entrar vía genport potencia nominal inversor \\n',\n 'funcionar sistema vertido cero \\n forma práctico teórico curva carga consumo curva producción solar adelantar vertido cero cargar batería justo sistema iniciar \\n',\n 'vendéis planta fotovoltaíca \\n vender solución   inteligente acumulación gestión energía solar fuente SBI \\n',\n 'precio incluir \\n',\n 'precio incluir \\n material SunBox armario inversor batería protección sistema conmutación preconfiguración cableado componente \\n  año garantía producto \\n Apoyo formación acompañamiento instalación \\n APP Turbo Energy \\n',\n 'precio incluir \\n IVA \\n Portes material salida fábrica \\n Cables conexión inversor batería potencia comunicación \\n Cableado interconexionado red principal protección adicional \\n Paneles fotovoltaico estructura cableado instalación generación fotovoltaico \\n meter externo distancia   metro punto lectura red \\n Montaje in situ \\n',\n 'solución AllinOne plugplay incluir cableado conexión inversor batería \\n configuración metro lineal dicho cable cobrar aparte \\n configuración yó larga calcular cableado añadir precio ofertado \\n',\n 'batería antiguo querer instalación FV \\n batería antiguo correcto funcionamiento evitar inestabilidad \\n preferible batería cercano tiempo planta FV instalar evitar inestabilidad \\n',\n 'Vertido cero funcionar SBI perder excedente \\n inversor híbrido SBI programar activado Zero Export mantener forma constante consumo W servir colchón permanente forma meter ó CT detectar acercar Vertido cero orden acumular excedente batería ejecutar posibilidad perder energía llegar gracias colchón permanente W \\n',\n 'meter CT \\n SBI   ml cuadro general meter \\n SBI   ml cuadro general CT \\n',\n 'seguro razón seguridad riesgo incendio instalar forma lineal SBI situado pared pared grupo electrógeno \\n instalar conforme separación establecido manual haber problema \\n',\n 'SBI instalado nave industrial pleno sol localizar zona geográfico caluroso problema calor llegar alcanzar dicho nave \\n conforme recomendación manual luz sol directamente deber problema \\n',\n 'tenéis archivo OND inversor híbrido SBI aportar él cliente \\n haber solicitárnoslos \\n',\n 'comunicar inversor externo solución batería vía Modbus RS vía Can Bus \\n comunicar necesario solución agrupar lectura aplicación gestión \\n',\n 'ocurrir instalación existente sistema inyección \\n problema sistema incluir necesario vertido \\n',\n 'habéis instalación sistema inyección   Renesys \\n solución certificado Sungrow utilizar meter Janitza   come \\n instalación realizar equipo certificado inyeccion \\n',\n 'solución funcionar solución grid forming trabajar inverso híbrido solución batería problema \\n solución trabajar on grid autoconsumo aomo aislado \\n',\n 'estudio carga conectar salida conmutable hacer \\n estudio conectar carga crítico caso fallo red hacer ejecutar instalador consonancia cliente \\n',\n '  retención capacidad útil batería \\n retención capacidad útil batería   estándar \\n ayuda batería contrario mayoría mercado C c \\n',\n 'alcanzar   autoconsumo \\n práctica   extraer él fuente \\n hora producción solar año producción reducido ó cercano cero condición meteorológico local \\n',\n 'instalar meters Eastron inversor instalado garantizar cumplimiento certificado \\n inversor contar analizador potencia conectar él paralelo inversor maestro controlar meter suficiente estar cumplir requisito certificado \\n',\n 'instalación kw entrar Tipo B Certificado inversor Tipo cabo instalación \\n inversor certificado equipo tipo certificar potencia unidad inversor    kw \\n instalación kw entrar tipo B realidad unión   equipo tipo \\n cabo problema instalación kw \\n',\n 'red caer cambiar aislado alimentar instalación dejar intacto carga crítico emplear energía FV planta existente \\n SBI caer red trabajar aislado producción solar backup batería \\n',\n 'software inversor español \\n Deye \\n inversor firmware desarrollado \\n firmware opción enviar él inversor Deye \\n',\n 'SMART mode actual funcionar dato español condición inteligente aplicable país diferenciar yo proveedor \\n poder cambiar parámetro coste electricidad depender país poder elegir opción coste estándar electricidad \\n información coste electricidad actualizar ahorro coste diferencia dar opción \\n software modo funcionamiento inversor máximo ahorro \\n General Mode GM IA establecer momento configuración eficiente consumir mínimo energía red \\n Backup Mode BU descargar batería concepto pensado batería estar disponible período energía cara objetivo consumir red \\n sistema Grid Peak Shaving cliente asegurar consumir red límite establecido \\n',\n 'acceso remoto ajuste inversor nivel servicio representante Turbo Energy extranjero nivel instalador eliminar máximo desplazamiento \\n operar sistema internet opción necesario formación efecto \\n  organizar reunión equipo SAT cambiar parámetro remoto actualizar inversor supervisar sistema \\n',\n 'ratio   kWp kw respetar acumulación \\n acumulación estabilidad óptimo permitir aprovechar máximo excedent relación kWp kw \\n',\n 'batería DOD estándar \\n DOD   dejar únicamente remanente batería   restante \\n',\n 'configuración rentable solución integral \\n máximo rentabilidad cliente alto precio coste red \\n volatilidad precio batería disparar rentabilidad reducir Payback \\n',\n 'ciclo dais batería \\n pico precio mw ideal ciclosdía \\n usualmente dar ciclosdía \\n excedent \\n trading \\n',\n 'Paybak normal SBI \\n buscar superar umbral Payback estándar industrial   año \\n\\n',\n 'ineficacia inversor antivertido \\n usualmente inversor Ongrid ineficacia   antivertido \\n gracias batería mantener ineficacia \\n',\n 'potencia adicional instalación necesitais  meter Centro Transformación   CT \\n necesitar \\n largo plazo coste CT necesario solución \\n',\n 'alcanzar kw SBI \\n instalar inversor trifásico kw paralelo red Genport sumar coste \\n',\n 'alcanzar kwh SBI \\n mezclar sistema independiente almacenamiento \\n',\n 'Certificación Inyección cero   UNE   equipo individual ó configuración completo instalado \\n trabajar paralelo meter configuración instalado trámite obtención Certificado específico \\n',\n 'inversor certificar Tipo kw configuración potencia superior máximo kw obligatorio certificación Tipo B \\n trabajar paralelo instalación funcionamiento problema certificación Tipo \\n',\n 'batería PylonTech podéis kw potencia \\n batería pylontech kW potencia híbrido kw Ongrid entrada GenPort potencia creer inestabilidad \\n',\n 'batería kwh poder paralelo \\n máximo   batería \\n',\n 'conexión WiFi funcionar IA conectado pull precio mercado tarifa contratado forecasting meteorológico \\n IA retener usar valor conexión WiFi volver actualizar \\n',\n 'necesitar potencia ongrid potencia SBI hacer él \\n lugar utilizar entrada GenPort SBI conectar paralelo alterna embarrado planta FV potencia SBI problema \\n',\n 'ocurrir vertido cero planta FV conectado SBI GenPort \\n conectado GenPort perder',\n 'vida útil inversor híbrido ó menor inversor ongrid \\n vida útil inversor híbrido inversor ongrid pareja     año garantía estándar fabricante \\n instalación aislado inversor     sufrir estrés reducir vida útil \\n',\n 'milisegundo respuesta conmutación solución \\n  milisegundo pasar BackUp \\n conmutación pasar cero cambiar definitivamente \\n',\n 'Planta FV kWp Vertido cero \\n planta kWp compensar \\n',\n 'Planta FV kWp conectar SBI \\n conectar él GenPort paralelo alterna embarrado \\n',\n 'Planta FV kWp Vertido cero \\n vertido cero activar Acumule \\n',\n 'Planta FV kWp Vertido cero funcionar Acumulación \\n   pérdida gracias batería servir colchón \\n instalar meter controlar producción activar Vertido cero acumular excedent \\n',\n 'Planta FV kWp conectar SBI \\n conectar paralelo alterna embarrado \\n',\n 'retrofit falta Certificación Planta FV \\n modificación Planta FV certificado falta \\n',\n 'repowering falta Certificación Planta FV \\n ampliación Planta FV falta \\n',\n 'torre telecomunicación potencia   acumulación suficiente \\n Potencia kw soler suficiente \\n Acumulación kwh óptimo \\n',\n 'instalar SBI Centroamérica \\n aislada problema monofásico ó trifásico \\n téngasar cableado ad hoc Voltios local ocupar espacio \\n téngasar Voltios local conmutador funcionar SBI conectado red desarrollo ad hoc \\n haber meter CT SBI transformar Voltios hacer desarrollo ad hoc \\n',\n 'pasar proyecto RETROFIT REPOWERING parque FV existente caer red energía FV parque   aprovechar él \\n cortar característica inversor ongrid \\n\\n conectado paralelo red desconectar él perder producción \\n gracias backup conectar carga crítico caso corte red seguir suministrar energía \\n',\n 'degradación batería trabajar C \\n\\n vida útil batería trabajar constantemente C torno   ciclo \\n',\n 'batería cambiar automáticamente C C forma automático requerir potencia CargaDescarga \\n configurar manualmente \\n\\n configuración venir predeterminado descargar máximo corriente C función potencia requerir \\n caso querer trabajar constantemente C haber limitar corriente descarga configuración \\n',\n 'SBI sumar potencia inversor híbrido SBI potencia red ó generador anexo potencia carga \\n posibilidad conexión SBI \\n estar conectado Red \\n máximo potencia GenPort   kw inversor    kw vía inversor ongrid externo generador grupo electrógeno ó similar \\n estar trabajar aislada \\n incluir añadir coste módulo   kw protección GenPort añadir kw potencia carga vía entrada GenPort \\n haber estudiar viabilidad caso \\n',\n 'SunBox Industry protección sobretensión continuo \\n SBI protección sobretensión continuo \\n',\n 'protección sobretensión continuo SBI interno ó externo \\n comodidad eficiencia protección externo \\n',\n '  SunBox Industry protección sobretensión alterna \\n inversor incorporado \\n\\n',\n 'diferenciái batería refrigerado competidor \\n temperatura bajar cero Grados ó subir   Grados cuyo caso haber instalar SBI habitación climatizado \\n batería refrigerado líquido reducir estrés batería prolongar   vida coste superior rentable \\n',\n 'ciclo batería reparto \\n utilizar ciclo excedent \\n utilizar ciclo generar ahorro trading comprar valle precio consumir pico precio aprovechar ciclo rebajar exceso potencia generar ahorro Peak Shaving \\n',\n 'poder funcionar Media ó Alta Tensión \\n actualmente   q   problema medición Media ó Alta Tensión medir deber cargar ó descargar batería \\n q estimar tener producto escala Utility \\n',\n 'SBI trabajar planta FV producción FV \\n funcionar emplear energía red rentabilidad amortización SBI resientir energía red cara FV ahorro generado menor \\n',\n 'rentabilizar batería cara \\n batería cara rentable cimiento descansar alternativa consumo gestión buscar reducción máximo coste perder capacidad carga \\n batería acumular excedente solar cargar él red ó genport autoconsumir decidir caso menor coste olvidar back up carga crítico mantener peak shaving evitar sobrepago \\n',\n 'batería poner yo \\n máximo mwh acumulación fecha \\n obstante analizar caso encontrar configuración óptimo curva carga curva producción batería opción rentable \\n',\n 'valor diferencial aportar batería \\n aprovechas excedente acumular él evitar peak shaving evitar pagar sobreprecio exceder potencia contratado mantener carga crítico seguro back up batería consumirás valle precio mercado \\n',\n 'competencia \\n ventaja competitivo instalación All in One Plug   Play rápido seguro evitar error IA optimizar consumo gestión energía comprar valle precio consumir pico pasar peak shaving evitar exceder potencia contratado ocasión conseguir bajar él \\n perfecto trabajar aislado genport sumar gestión energético forma tradear precio jugar forma producción gestionar él conexión red \\n',\n 'poner yo batería \\n estar perder pasta forma factura luz reducir él significativamente inversión alto TIR pagar \\n',\n 'PPA ó comunidad energético servir batería \\n coexistimos PPA trading servir ocurrir trabajar aislado resto beneficio presente sumar posibilidad negociar Peak Shaving caso PPA vector sobrepago \\n',\n 'diferencia tenéis virtual \\n energía consumido batería virtual cara consumido batería físico propiedad consumo hacer él plazo menor caducar \\n',\n 'SunBox Industry trabajar isla AC Coupling \\n SunBox Industry preparado trabajar isla AC Coupling \\n\\n',\n 'IA servir \\n escoger opción cercano coste cero momento tener precio red tiempo real producción solar almacenado \\n cotejir curva carga gastar momento elegir opción barato cubrir holgura carga necesitar descuidar back up carga crítico \\n combinar tiempo real tiempo meteorología producción solar relacionar curva carga real \\n',\n 'comprar SBI solución inversor   batería \\n\\n ventaja competitivo \\n Instalación All in One Plug   Play rápido seguro evitar error instalación vicio instalador \\n IA optimizar consumo gestión energía comprar valle precio consumir pico \\n Peak Shaving evitar exceder potencia contratado ocasión conseguir bajar él \\n movilidad flexibilidad aportar App mobile frente estaticidad único PC \\n Back Up carga crítico automático ó modular él necesidad cliente App móvil \\n perfecto trabajar aislado genport sumar gestión energético forma tradear precio jugar forma producción gestionar él conexión red \\n',\n 'compatible equipo preinstalación ongrid \\n   compatible \\n conectar genport carga nulo toma tierra \\n',\n 'planta FV creado ó amparada RD viable instalar él batería almacenar excedente rentabilizar él posteriori \\n técnicamente legalmente viable \\n',\n 'solucionar conexión proyecto MT estudiar retrofit \\n conectar forma \\n Vía entrada genport \\n conectar paralelo alterna embarrado \\n',\n 'integrar sistema monitorización modelo retrofit repowering \\n integrar software permitir proyecto futuro \\n',\n 'gestionar SBI modelo retrofit repowering interacción sistema antivertido existente \\n conectar entrada genport perder sistema antivertido existente \\n',\n 'potencia nominal máximo configuración Sunbox   kw colocar potencia nominal ó máximo   kw \\n máximo paralelo   inversor híbrido kw sentir cómodo número inversor híbrido \\n',\n 'sustituir site   UPS sistema especialmente oficina \\n paso cero corte PCs apagar pese activo Back Up \\n\\n']"
     },
     "execution_count": 139,
     "metadata": {},
     "output_type": "execute_result"
    }
   ],
   "source": [
    "lematized_questions = []\n",
    "for question in question_answer_group:\n",
    "    tokens = nlp(question)\n",
    "    lematized_questions.append(\" \".join([token.lemma_ for token in tokens if not token.is_stop]))\n",
    "\n",
    "lematized_questions"
   ],
   "metadata": {
    "collapsed": false,
    "ExecuteTime": {
     "end_time": "2024-01-31T13:16:45.828142500Z",
     "start_time": "2024-01-31T13:16:44.848602400Z"
    }
   },
   "id": "eaa7bb76344c2b88",
   "execution_count": 139
  },
  {
   "cell_type": "code",
   "outputs": [
    {
     "data": {
      "text/plain": "                                             questions  target\n0    compatible equipo preinstalación ongrid \\n   c...       0\n1    posibilidad conectar aerogenerador inversor hí...       1\n2    conectar aerogenerador yó generador estar clie...       2\n3    tenéis compatibilidad inversor Huawei preinsta...       3\n4    tipo tensión emplear conexión paralelo embarra...       4\n..                                                 ...     ...\n142  solucionar conexión proyecto MT estudiar retro...     142\n143  integrar sistema monitorización modelo retrofi...     143\n144  gestionar SBI modelo retrofit repowering inter...     144\n145  potencia nominal máximo configuración Sunbox  ...     145\n146  sustituir site   UPS sistema especialmente ofi...     146\n\n[147 rows x 2 columns]",
      "text/html": "<div>\n<style scoped>\n    .dataframe tbody tr th:only-of-type {\n        vertical-align: middle;\n    }\n\n    .dataframe tbody tr th {\n        vertical-align: top;\n    }\n\n    .dataframe thead th {\n        text-align: right;\n    }\n</style>\n<table border=\"1\" class=\"dataframe\">\n  <thead>\n    <tr style=\"text-align: right;\">\n      <th></th>\n      <th>questions</th>\n      <th>target</th>\n    </tr>\n  </thead>\n  <tbody>\n    <tr>\n      <th>0</th>\n      <td>compatible equipo preinstalación ongrid \\n   c...</td>\n      <td>0</td>\n    </tr>\n    <tr>\n      <th>1</th>\n      <td>posibilidad conectar aerogenerador inversor hí...</td>\n      <td>1</td>\n    </tr>\n    <tr>\n      <th>2</th>\n      <td>conectar aerogenerador yó generador estar clie...</td>\n      <td>2</td>\n    </tr>\n    <tr>\n      <th>3</th>\n      <td>tenéis compatibilidad inversor Huawei preinsta...</td>\n      <td>3</td>\n    </tr>\n    <tr>\n      <th>4</th>\n      <td>tipo tensión emplear conexión paralelo embarra...</td>\n      <td>4</td>\n    </tr>\n    <tr>\n      <th>...</th>\n      <td>...</td>\n      <td>...</td>\n    </tr>\n    <tr>\n      <th>142</th>\n      <td>solucionar conexión proyecto MT estudiar retro...</td>\n      <td>142</td>\n    </tr>\n    <tr>\n      <th>143</th>\n      <td>integrar sistema monitorización modelo retrofi...</td>\n      <td>143</td>\n    </tr>\n    <tr>\n      <th>144</th>\n      <td>gestionar SBI modelo retrofit repowering inter...</td>\n      <td>144</td>\n    </tr>\n    <tr>\n      <th>145</th>\n      <td>potencia nominal máximo configuración Sunbox  ...</td>\n      <td>145</td>\n    </tr>\n    <tr>\n      <th>146</th>\n      <td>sustituir site   UPS sistema especialmente ofi...</td>\n      <td>146</td>\n    </tr>\n  </tbody>\n</table>\n<p>147 rows × 2 columns</p>\n</div>"
     },
     "execution_count": 140,
     "metadata": {},
     "output_type": "execute_result"
    }
   ],
   "source": [
    "df = pd.DataFrame(lematized_questions, columns=['questions'])\n",
    "df['target'] = np.arange(len(lematized_questions))\n",
    "df"
   ],
   "metadata": {
    "collapsed": false,
    "ExecuteTime": {
     "end_time": "2024-01-31T13:16:45.829169800Z",
     "start_time": "2024-01-31T13:16:45.817913800Z"
    }
   },
   "id": "76521acb31c81a03",
   "execution_count": 140
  },
  {
   "cell_type": "code",
   "outputs": [],
   "source": [
    "# Creamos un objeto CountVectorizer\n",
    "vectorizer = CountVectorizer(stop_words=stopwords.words('spanish'))\n",
    "corups_matrix = vectorizer.fit_transform(df['questions'])"
   ],
   "metadata": {
    "collapsed": false,
    "ExecuteTime": {
     "end_time": "2024-01-31T13:16:45.840936700Z",
     "start_time": "2024-01-31T13:16:45.824536400Z"
    }
   },
   "id": "ce5b042a260835a0",
   "execution_count": 141
  },
  {
   "cell_type": "code",
   "outputs": [],
   "source": [
    "naive_bayes = MultinomialNB()\n",
    "_ = naive_bayes.fit(corups_matrix, df['target'])"
   ],
   "metadata": {
    "collapsed": false,
    "ExecuteTime": {
     "end_time": "2024-01-31T13:16:45.858892400Z",
     "start_time": "2024-01-31T13:16:45.834795Z"
    }
   },
   "id": "33924c7ee035e66a",
   "execution_count": 142
  },
  {
   "cell_type": "code",
   "outputs": [
    {
     "data": {
      "text/plain": "'resientir energía red cara'"
     },
     "execution_count": 143,
     "metadata": {},
     "output_type": "execute_result"
    }
   ],
   "source": [
    "search_input = \"se resiente porque la energía de la red es mucha más cara \"\n",
    "\n",
    "search_clean = re.sub(r\"[^A-Za-z\\sáéíóúñÑÁÉÍÓÚÑüÜ]\", \"\", search_input)\n",
    "\n",
    "search_tokens = nlp(search_clean)\n",
    "lemma_search = \" \".join([token.lemma_ for token in search_tokens if not token.is_stop])\n",
    "lemma_search"
   ],
   "metadata": {
    "collapsed": false,
    "ExecuteTime": {
     "end_time": "2024-01-31T13:16:45.859915400Z",
     "start_time": "2024-01-31T13:16:45.842988900Z"
    }
   },
   "id": "a14232c27a4b1756",
   "execution_count": 143
  },
  {
   "cell_type": "code",
   "outputs": [],
   "source": [
    "search_vector = vectorizer.transform([lemma_search])\n",
    "\n",
    "prediction = naive_bayes.predict(search_vector)"
   ],
   "metadata": {
    "collapsed": false,
    "ExecuteTime": {
     "end_time": "2024-01-31T13:16:45.881903200Z",
     "start_time": "2024-01-31T13:16:45.853747700Z"
    }
   },
   "id": "3b4df68e7cbdb633",
   "execution_count": 144
  },
  {
   "cell_type": "code",
   "outputs": [
    {
     "data": {
      "text/plain": "array([[0.00405769, 0.00402003, 0.01178334, 0.00411501, 0.00405769,\n        0.01571113, 0.00402003, 0.00403881, 0.00402003, 0.00402003,\n        0.00405769, 0.00402003, 0.00403881, 0.00409579, 0.00413434,\n        0.00415378, 0.00392778, 0.00415378, 0.00405769, 0.00402003,\n        0.00411501, 0.00811538, 0.01167487, 0.00403881, 0.00796562,\n        0.00382054, 0.00415378, 0.00413434, 0.00767632, 0.00409579,\n        0.00396436, 0.00713607, 0.00815337, 0.00402003, 0.00411501,\n        0.00394602, 0.00360047, 0.00394602, 0.00396436, 0.00392778,\n        0.00402003, 0.00415378, 0.00407669, 0.00400137, 0.00403881,\n        0.00371694, 0.0038737 , 0.00403881, 0.00348853, 0.00308199,\n        0.01195901, 0.00670183, 0.00785556, 0.00332126, 0.00385588,\n        0.00358421, 0.01514246, 0.00716842, 0.00323425, 0.00403881,\n        0.00389162, 0.00405769, 0.00390965, 0.00407669, 0.00396436,\n        0.00392778, 0.00398281, 0.00383816, 0.00800274, 0.00419302,\n        0.00380303, 0.01075262, 0.00380303, 0.00385588, 0.00707193,\n        0.00400137, 0.00383816, 0.00378561, 0.00405769, 0.00389162,\n        0.00403881, 0.00392778, 0.00389162, 0.00778325, 0.00396436,\n        0.00392778, 0.00382054, 0.00368319, 0.02271369, 0.00400137,\n        0.07175408, 0.00363328, 0.00394602, 0.00405769, 0.00778325,\n        0.00398281, 0.00403881, 0.00400137, 0.00394602, 0.00800274,\n        0.00409579, 0.00389162, 0.0038737 , 0.00390965, 0.00411501,\n        0.00385588, 0.00385588, 0.00402003, 0.00375108, 0.00400137,\n        0.00407669, 0.00403881, 0.00405769, 0.00383816, 0.00405769,\n        0.00403881, 0.00405769, 0.00400137, 0.00716842, 0.04340195,\n        0.00403881, 0.00371694, 0.01005275, 0.00405769, 0.00403881,\n        0.00409579, 0.00371694, 0.00375108, 0.00383816, 0.1381738 ,\n        0.02112038, 0.0038737 , 0.00373396, 0.01352361, 0.00398281,\n        0.00378561, 0.01571113, 0.00398281, 0.00691469, 0.01211542,\n        0.00402003, 0.00394602, 0.00394602, 0.00402003, 0.00392778,\n        0.00383816, 0.00394602]])"
     },
     "execution_count": 145,
     "metadata": {},
     "output_type": "execute_result"
    }
   ],
   "source": [
    "predictions_probability = naive_bayes.predict_proba(search_vector)\n",
    "predictions_probability"
   ],
   "metadata": {
    "collapsed": false,
    "ExecuteTime": {
     "end_time": "2024-01-31T13:16:45.922189900Z",
     "start_time": "2024-01-31T13:16:45.857354900Z"
    }
   },
   "id": "172d705c9d04f96",
   "execution_count": 145
  },
  {
   "cell_type": "code",
   "outputs": [
    {
     "name": "stdout",
     "output_type": "stream",
     "text": [
      "Most accurate questions:\n",
      "-\t¿Un SBI puede trabajar sin planta FV ni producción FV?: 0.1381737974400379\n",
      "-\tVuestro SMART MODE actual funciona con datos españoles. ¿Es posible decir cuándo y en qué condiciones el modo inteligente podría ser aplicable para otros países para diferenciarnos de otros proveedores?: 0.07175408145550516\n",
      "-\t¿Qué pasa en un proyecto de RETROFIT O REPOWERING con el parque FV existente si se cae la red? La energía FV del parque 1 puede aprovecharse o se corta por la característica del inversor ongrid?: 0.0434019461766863\n",
      "-\tCuando la red se cae, ¿el cambia solo a modo aislada para alimentar la instalación dejando intactas las cargas críticas y empleando la energía FV de la planta existente?: 0.022713685555093482\n",
      "-\t¿Cómo se rentabilizan baterías, ya no son caras?: 0.02112037795723369\n"
     ]
    }
   ],
   "source": [
    "indices = np.argsort(predictions_probability[0])[-5:][::-1]\n",
    "top_values = predictions_probability[0, indices]\n",
    "top_columns = [matches[i] for i in indices]\n",
    "\n",
    "print(f\"Most accurate questions:\")\n",
    "for col, val in zip(top_columns, top_values):\n",
    "    question = col.split(\"\\n\")[0]\n",
    "    print(f'{question}: {val}')"
   ],
   "metadata": {
    "collapsed": false,
    "ExecuteTime": {
     "end_time": "2024-01-31T13:16:45.943205300Z",
     "start_time": "2024-01-31T13:16:45.865547500Z"
    }
   },
   "id": "2d1597369c002a6",
   "execution_count": 146
  }
 ],
 "metadata": {
  "kernelspec": {
   "display_name": "Python 3",
   "language": "python",
   "name": "python3"
  },
  "language_info": {
   "codemirror_mode": {
    "name": "ipython",
    "version": 2
   },
   "file_extension": ".py",
   "mimetype": "text/x-python",
   "name": "python",
   "nbconvert_exporter": "python",
   "pygments_lexer": "ipython2",
   "version": "2.7.6"
  }
 },
 "nbformat": 4,
 "nbformat_minor": 5
}
