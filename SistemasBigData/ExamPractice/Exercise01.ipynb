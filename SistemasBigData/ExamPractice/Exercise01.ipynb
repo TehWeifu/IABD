{
 "cells": [
  {
   "cell_type": "code",
   "outputs": [],
   "source": [
    "from pyspark import SparkContext"
   ],
   "metadata": {
    "collapsed": false,
    "ExecuteTime": {
     "end_time": "2024-02-08T18:29:19.539602700Z",
     "start_time": "2024-02-08T18:29:19.536538400Z"
    }
   },
   "id": "a57422a5567ab10a",
   "execution_count": 6
  },
  {
   "cell_type": "code",
   "outputs": [],
   "source": [
    "sc = SparkContext(\"local\", \"Number RDD App\")"
   ],
   "metadata": {
    "collapsed": false,
    "ExecuteTime": {
     "end_time": "2024-02-08T18:29:20.818610Z",
     "start_time": "2024-02-08T18:29:20.745612100Z"
    }
   },
   "id": "7987acad12080ac5",
   "execution_count": 7
  },
  {
   "cell_type": "code",
   "execution_count": 8,
   "id": "initial_id",
   "metadata": {
    "collapsed": true,
    "ExecuteTime": {
     "end_time": "2024-02-08T18:29:22.106036600Z",
     "start_time": "2024-02-08T18:29:22.101900800Z"
    }
   },
   "outputs": [],
   "source": [
    "cities = ['Edensville', 'Easthaven', 'Herrero', 'Goldenvale', 'Holdenspring', 'Bluerose', 'Brickwyte', 'Toolville']"
   ]
  },
  {
   "cell_type": "code",
   "outputs": [],
   "source": [
    "rdd_cities = sc.parallelize(cities)"
   ],
   "metadata": {
    "collapsed": false
   },
   "id": "ceb06414dceda7a3"
  },
  {
   "cell_type": "code",
   "outputs": [
    {
     "data": {
      "text/plain": "['Herrero', 'Goldenvale', 'Holdenspring', 'Bluerose', 'Toolville']"
     },
     "execution_count": 9,
     "metadata": {},
     "output_type": "execute_result"
    }
   ],
   "source": [
    "filtered_cities = rdd_cities.filter(lambda city: 'o' in city)\n",
    "filtered_cities.collect()"
   ],
   "metadata": {
    "collapsed": false,
    "ExecuteTime": {
     "end_time": "2024-02-08T18:29:24.007428400Z",
     "start_time": "2024-02-08T18:29:23.021758600Z"
    }
   },
   "id": "16fa71c8b20069c",
   "execution_count": 9
  },
  {
   "cell_type": "code",
   "outputs": [
    {
     "data": {
      "text/plain": "[('Edensville', 2),\n ('Easthaven', 1),\n ('Herrero', 2),\n ('Goldenvale', 2),\n ('Holdenspring', 1),\n ('Bluerose', 2),\n ('Brickwyte', 1),\n ('Toolville', 1)]"
     },
     "execution_count": 12,
     "metadata": {},
     "output_type": "execute_result"
    }
   ],
   "source": [
    "cities_mapped = rdd_cities.map(lambda city: (city, city.count('e')))\n",
    "cities_mapped.collect()"
   ],
   "metadata": {
    "collapsed": false,
    "ExecuteTime": {
     "end_time": "2024-02-08T18:34:08.110099500Z",
     "start_time": "2024-02-08T18:34:07.502781900Z"
    }
   },
   "id": "15303fcdb811b672",
   "execution_count": 12
  },
  {
   "cell_type": "code",
   "outputs": [
    {
     "data": {
      "text/plain": "[('Herrero', 1), ('Goldenvale', 1), ('Holdenspring', 1), ('Bluerose', 1)]"
     },
     "execution_count": 17,
     "metadata": {},
     "output_type": "execute_result"
    }
   ],
   "source": [
    "cities_mapped = rdd_cities.map(lambda city: (city, city.count('o')))\n",
    "cities_filter = cities_mapped.filter(lambda city_occur: city_occur[1] == 1)\n",
    "cities_filter.collect()"
   ],
   "metadata": {
    "collapsed": false,
    "ExecuteTime": {
     "end_time": "2024-02-08T18:36:10.196805600Z",
     "start_time": "2024-02-08T18:36:09.570197900Z"
    }
   },
   "id": "609b0edec8c62e63",
   "execution_count": 17
  },
  {
   "cell_type": "code",
   "outputs": [],
   "source": [
    "CiudadesMal = [['Goldenvale. Toolville', 'Valencia', ' Easthaven. Holdenspring', 'Bilbao. Holdenspring'],\n",
    "               ['Edensville', 'Bluerose', 'Melilla. Herrero']]"
   ],
   "metadata": {
    "collapsed": false,
    "ExecuteTime": {
     "end_time": "2024-02-08T18:42:21.379298Z",
     "start_time": "2024-02-08T18:42:21.375750Z"
    }
   },
   "id": "5675b0bf6570fe9d",
   "execution_count": 19
  },
  {
   "cell_type": "code",
   "outputs": [
    {
     "data": {
      "text/plain": "[('Goldenvale', 1),\n ('Toolville', 2),\n ('Valencia', 0),\n ('Easthaven', 0),\n ('Holdenspring', 1),\n ('Bilbao', 1),\n ('Holdenspring', 1),\n ('Edensville', 0),\n ('Bluerose', 1),\n ('Melilla', 0),\n ('Herrero', 1)]"
     },
     "execution_count": 27,
     "metadata": {},
     "output_type": "execute_result"
    }
   ],
   "source": [
    "rdd_cities_2 = sc.parallelize(CiudadesMal)\n",
    "rdd_mapped = rdd_cities_2.flatMap(lambda x: x)\n",
    "rdd_mapped = rdd_mapped.flatMap(lambda x: x.split('. '))\n",
    "rdd_mapped = rdd_mapped.map(lambda x: x.strip())\n",
    "rdd_mapped = rdd_mapped.map(lambda x: (x, x.count('o')))\n",
    "rdd_mapped.collect()"
   ],
   "metadata": {
    "collapsed": false,
    "ExecuteTime": {
     "end_time": "2024-02-08T18:45:31.179370400Z",
     "start_time": "2024-02-08T18:45:30.576530900Z"
    }
   },
   "id": "76fa60c44ad49812",
   "execution_count": 27
  },
  {
   "cell_type": "code",
   "outputs": [],
   "source": [
    "sc.stop()"
   ],
   "metadata": {
    "collapsed": false,
    "ExecuteTime": {
     "end_time": "2024-02-08T18:28:55.001788400Z",
     "start_time": "2024-02-08T18:28:54.715545100Z"
    }
   },
   "id": "975f3b4e579fa72b",
   "execution_count": 5
  }
 ],
 "metadata": {
  "kernelspec": {
   "display_name": "Python 3",
   "language": "python",
   "name": "python3"
  },
  "language_info": {
   "codemirror_mode": {
    "name": "ipython",
    "version": 2
   },
   "file_extension": ".py",
   "mimetype": "text/x-python",
   "name": "python",
   "nbconvert_exporter": "python",
   "pygments_lexer": "ipython2",
   "version": "2.7.6"
  }
 },
 "nbformat": 4,
 "nbformat_minor": 5
}
