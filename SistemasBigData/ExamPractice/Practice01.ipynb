{
 "cells": [
  {
   "cell_type": "code",
   "execution_count": 1,
   "id": "initial_id",
   "metadata": {
    "collapsed": true,
    "ExecuteTime": {
     "end_time": "2024-02-09T12:07:53.520720300Z",
     "start_time": "2024-02-09T12:07:53.364722600Z"
    }
   },
   "outputs": [],
   "source": [
    "from pyspark import SparkContext"
   ]
  },
  {
   "cell_type": "code",
   "outputs": [],
   "source": [
    "sc = SparkContext(\"local\", \"Number RDD App\")"
   ],
   "metadata": {
    "collapsed": false,
    "ExecuteTime": {
     "end_time": "2024-02-09T12:07:56.049962500Z",
     "start_time": "2024-02-09T12:07:53.521739400Z"
    }
   },
   "id": "3c47c81fc6d2a055",
   "execution_count": 2
  },
  {
   "cell_type": "code",
   "outputs": [],
   "source": [
    "cities = ['Edensville', 'Easthaven', 'Herrero', 'Goldenvale', 'Holdenspring', 'Bluerose', 'Brickwyte', 'Toolville']"
   ],
   "metadata": {
    "collapsed": false,
    "ExecuteTime": {
     "end_time": "2024-02-09T12:07:56.055584900Z",
     "start_time": "2024-02-09T12:07:56.051500100Z"
    }
   },
   "id": "aaa1bba1b94287d",
   "execution_count": 3
  },
  {
   "cell_type": "code",
   "outputs": [],
   "source": [
    "rdd_cities = sc.parallelize(cities)"
   ],
   "metadata": {
    "collapsed": false,
    "ExecuteTime": {
     "end_time": "2024-02-09T12:07:56.232210800Z",
     "start_time": "2024-02-09T12:07:56.055584900Z"
    }
   },
   "id": "dfd11a90bc1a83ca",
   "execution_count": 4
  },
  {
   "cell_type": "code",
   "outputs": [
    {
     "data": {
      "text/plain": "['Herrero', 'Goldenvale', 'Holdenspring', 'Bluerose', 'Toolville']"
     },
     "execution_count": 5,
     "metadata": {},
     "output_type": "execute_result"
    }
   ],
   "source": [
    "rdd_01 = rdd_cities.filter(lambda x: 'o' in x)\n",
    "rdd_01.collect()"
   ],
   "metadata": {
    "collapsed": false,
    "ExecuteTime": {
     "end_time": "2024-02-09T12:07:57.147785200Z",
     "start_time": "2024-02-09T12:07:56.232719400Z"
    }
   },
   "id": "ce96ac5cbd9dd3df",
   "execution_count": 5
  },
  {
   "cell_type": "code",
   "outputs": [
    {
     "data": {
      "text/plain": "[('Edensville', 2),\n ('Easthaven', 1),\n ('Herrero', 2),\n ('Goldenvale', 2),\n ('Holdenspring', 1),\n ('Bluerose', 2),\n ('Brickwyte', 1),\n ('Toolville', 1)]"
     },
     "execution_count": 7,
     "metadata": {},
     "output_type": "execute_result"
    }
   ],
   "source": [
    "rdd_02 = rdd_cities.filter(lambda x: 'e' in x).map(lambda x: (x, x.count('e')))\n",
    "rdd_02.collect()"
   ],
   "metadata": {
    "collapsed": false,
    "ExecuteTime": {
     "end_time": "2024-02-09T12:08:34.307509400Z",
     "start_time": "2024-02-09T12:08:33.683634200Z"
    }
   },
   "id": "ef02f53ca3f458da",
   "execution_count": 7
  },
  {
   "cell_type": "code",
   "outputs": [
    {
     "data": {
      "text/plain": "['Herrero', 'Goldenvale', 'Holdenspring', 'Bluerose']"
     },
     "execution_count": 8,
     "metadata": {},
     "output_type": "execute_result"
    }
   ],
   "source": [
    "rdd_03 = rdd_cities.filter(lambda x: x.count('o') == 1)\n",
    "rdd_03.collect()"
   ],
   "metadata": {
    "collapsed": false,
    "ExecuteTime": {
     "end_time": "2024-02-09T12:09:44.216825100Z",
     "start_time": "2024-02-09T12:09:43.550506200Z"
    }
   },
   "id": "c80ba5e7bbfb5118",
   "execution_count": 8
  },
  {
   "cell_type": "code",
   "outputs": [
    {
     "data": {
      "text/plain": "[('Goldenvale', 1),\n ('Toolville', 2),\n ('Valencia', 0),\n ('Easthaven', 0),\n ('Holdenspring', 1),\n ('Bilbao', 1),\n ('Holdenspring', 1),\n ('Edensville', 0),\n ('Bluerose', 1),\n ('Melilla', 0),\n ('Herrero', 1)]"
     },
     "execution_count": 12,
     "metadata": {},
     "output_type": "execute_result"
    }
   ],
   "source": [
    "CiudadesMal = [['Goldenvale. Toolville', 'Valencia', ' Easthaven. Holdenspring', 'Bilbao. Holdenspring'],\n",
    "               ['Edensville', 'Bluerose', 'Melilla. Herrero']]\n",
    "\n",
    "rdd_wrong = sc.parallelize(CiudadesMal)\n",
    "rdd_04 = rdd_wrong.flatMap(lambda x: x).flatMap(lambda x: x.split('. ')).map(lambda x: x.strip()).map(lambda x: (x, x.count('o')))\n",
    "rdd_04.collect()"
   ],
   "metadata": {
    "collapsed": false,
    "ExecuteTime": {
     "end_time": "2024-02-09T12:12:14.955545500Z",
     "start_time": "2024-02-09T12:12:14.305252600Z"
    }
   },
   "id": "9fc2b9a3cb9e4a47",
   "execution_count": 12
  },
  {
   "cell_type": "code",
   "outputs": [],
   "source": [
    "# sc.stop()"
   ],
   "metadata": {
    "collapsed": false,
    "ExecuteTime": {
     "end_time": "2024-02-09T12:07:57.148806500Z",
     "start_time": "2024-02-09T12:07:57.142680300Z"
    }
   },
   "id": "a04a1bd5ee32b5b",
   "execution_count": 6
  }
 ],
 "metadata": {
  "kernelspec": {
   "display_name": "Python 3",
   "language": "python",
   "name": "python3"
  },
  "language_info": {
   "codemirror_mode": {
    "name": "ipython",
    "version": 2
   },
   "file_extension": ".py",
   "mimetype": "text/x-python",
   "name": "python",
   "nbconvert_exporter": "python",
   "pygments_lexer": "ipython2",
   "version": "2.7.6"
  }
 },
 "nbformat": 4,
 "nbformat_minor": 5
}
