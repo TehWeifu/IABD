{
 "cells": [
  {
   "cell_type": "code",
   "outputs": [],
   "source": [
    "from pyspark import SparkContext"
   ],
   "metadata": {
    "collapsed": false,
    "ExecuteTime": {
     "end_time": "2024-02-09T12:19:57.837427500Z",
     "start_time": "2024-02-09T12:19:57.834879600Z"
    }
   },
   "id": "fc3b99fbbc39cdb2",
   "execution_count": 18
  },
  {
   "cell_type": "code",
   "outputs": [],
   "source": [
    "sc = SparkContext(\"local\", \"Number RDD App\")"
   ],
   "metadata": {
    "collapsed": false,
    "ExecuteTime": {
     "end_time": "2024-02-09T12:19:57.912718300Z",
     "start_time": "2024-02-09T12:19:57.839485600Z"
    }
   },
   "id": "c89d709d9d147ef7",
   "execution_count": 19
  },
  {
   "cell_type": "code",
   "outputs": [],
   "source": [
    "names = ['Caaaa', 'Cbbbbb', 'Ccccc', 'Cddd', 'Laaa', 'Lbbb', 'Raaa', 'Rbbb', 'Rccc', 'Rddd', 'Reee']\n",
    "rdd_names = sc.parallelize(names)"
   ],
   "metadata": {
    "collapsed": false,
    "ExecuteTime": {
     "end_time": "2024-02-09T12:20:20.314945900Z",
     "start_time": "2024-02-09T12:20:20.307273300Z"
    }
   },
   "id": "1ea76aafe3b4c099",
   "execution_count": 23
  },
  {
   "cell_type": "code",
   "outputs": [
    {
     "data": {
      "text/plain": "[('C', ['Caaaa', 'Cbbbbb', 'Ccccc', 'Cddd']),\n ('L', ['Laaa', 'Lbbb']),\n ('R', ['Raaa', 'Rbbb', 'Rccc', 'Rddd', 'Reee'])]"
     },
     "execution_count": 21,
     "metadata": {},
     "output_type": "execute_result"
    }
   ],
   "source": [
    "rdd_01 = rdd_names.groupBy(lambda x: x[0]).map(lambda x: (x[0], [a for a in x[1]]))\n",
    "rdd_01.collect()"
   ],
   "metadata": {
    "collapsed": false,
    "ExecuteTime": {
     "end_time": "2024-02-09T12:19:59.178795800Z",
     "start_time": "2024-02-09T12:19:57.920921200Z"
    }
   },
   "id": "322b101b581ae0ec",
   "execution_count": 21
  },
  {
   "cell_type": "code",
   "outputs": [
    {
     "data": {
      "text/plain": "('L', <pyspark.resultiterable.ResultIterable at 0x1a03d34e4d0>)"
     },
     "execution_count": 32,
     "metadata": {},
     "output_type": "execute_result"
    }
   ],
   "source": [
    "rdd_02_a = rdd_names.groupBy(lambda x: x[0]).sortBy(lambda x: len(x[1]))\n",
    "rdd_02_a.collect()[0]"
   ],
   "metadata": {
    "collapsed": false,
    "ExecuteTime": {
     "end_time": "2024-02-09T12:23:17.825997400Z",
     "start_time": "2024-02-09T12:23:16.526067300Z"
    }
   },
   "id": "b40dbdbda01f3b6a",
   "execution_count": 32
  },
  {
   "cell_type": "code",
   "outputs": [
    {
     "data": {
      "text/plain": "('C', <pyspark.resultiterable.ResultIterable at 0x1a03d311310>)"
     },
     "execution_count": 34,
     "metadata": {},
     "output_type": "execute_result"
    }
   ],
   "source": [
    "middle_of_the_list = rdd_names.groupBy(lambda x: x[0]).count() // 2\n",
    "\n",
    "rdd_02_b = rdd_names.groupBy(lambda x: x[0]).sortBy(lambda x: len(x[1]), ascending=False)\n",
    "rdd_02_b.collect()[middle_of_the_list]"
   ],
   "metadata": {
    "collapsed": false,
    "ExecuteTime": {
     "end_time": "2024-02-09T12:24:54.021875Z",
     "start_time": "2024-02-09T12:24:51.604959800Z"
    }
   },
   "id": "2d555605bf1915d7",
   "execution_count": 34
  },
  {
   "cell_type": "code",
   "outputs": [
    {
     "data": {
      "text/plain": "('R', <pyspark.resultiterable.ResultIterable at 0x1a03d312750>)"
     },
     "execution_count": 31,
     "metadata": {},
     "output_type": "execute_result"
    }
   ],
   "source": [
    "rdd_02_c = rdd_names.groupBy(lambda x: x[0]).sortBy(lambda x: len(x[1]), ascending=False)\n",
    "rdd_02_c.collect()[0]"
   ],
   "metadata": {
    "collapsed": false,
    "ExecuteTime": {
     "end_time": "2024-02-09T12:23:11.986503300Z",
     "start_time": "2024-02-09T12:23:10.738754600Z"
    }
   },
   "id": "fe065dccf931af6c",
   "execution_count": 31
  },
  {
   "cell_type": "code",
   "outputs": [],
   "source": [
    "# sc.stop()"
   ],
   "metadata": {
    "collapsed": false,
    "ExecuteTime": {
     "end_time": "2024-02-09T12:20:00.398525600Z",
     "start_time": "2024-02-09T12:20:00.397505200Z"
    }
   },
   "id": "347735cddb5581c",
   "execution_count": null
  }
 ],
 "metadata": {
  "kernelspec": {
   "display_name": "Python 3",
   "language": "python",
   "name": "python3"
  },
  "language_info": {
   "codemirror_mode": {
    "name": "ipython",
    "version": 2
   },
   "file_extension": ".py",
   "mimetype": "text/x-python",
   "name": "python",
   "nbconvert_exporter": "python",
   "pygments_lexer": "ipython2",
   "version": "2.7.6"
  }
 },
 "nbformat": 4,
 "nbformat_minor": 5
}
