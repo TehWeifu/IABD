{
 "cells": [
  {
   "cell_type": "code",
   "outputs": [],
   "source": [
    "from pyspark import SparkContext"
   ],
   "metadata": {
    "collapsed": false,
    "ExecuteTime": {
     "end_time": "2024-02-09T12:30:16.269888300Z",
     "start_time": "2024-02-09T12:30:16.121159500Z"
    }
   },
   "id": "afe4009ec3379a9a",
   "execution_count": 1
  },
  {
   "cell_type": "code",
   "outputs": [],
   "source": [
    "sc = SparkContext(\"local\", \"Number RDD App\")"
   ],
   "metadata": {
    "collapsed": false,
    "ExecuteTime": {
     "end_time": "2024-02-09T12:30:18.671341500Z",
     "start_time": "2024-02-09T12:30:16.269888300Z"
    }
   },
   "id": "2b31dcc7c7dc24fb",
   "execution_count": 2
  },
  {
   "cell_type": "code",
   "outputs": [],
   "source": [
    "english = ['hello', 'table', 'Xenon', 'cat', 'dog', 'animal', 'social', 'dark', 'doctor', 'hospital', 'computer',\n",
    "           'Usual', 'chat', 'messages']\n",
    "spanish = ['hola', 'mesa', 'Xenon', 'gato', 'perro', 'animal', 'social', 'oscuro', 'doctor', 'hospital', 'ordenador',\n",
    "           'Usual', 'chat']\n",
    "\n",
    "rdd_english = sc.parallelize(english)\n",
    "rdd_spanish = sc.parallelize(spanish)"
   ],
   "metadata": {
    "collapsed": false,
    "ExecuteTime": {
     "end_time": "2024-02-09T12:30:18.847351600Z",
     "start_time": "2024-02-09T12:30:18.671852600Z"
    }
   },
   "id": "4dfe3b3fa90ac8f",
   "execution_count": 3
  },
  {
   "cell_type": "code",
   "outputs": [
    {
     "data": {
      "text/plain": "['Xenon', 'doctor', 'animal', 'social', 'hospital', 'Usual', 'chat']"
     },
     "execution_count": 5,
     "metadata": {},
     "output_type": "execute_result"
    }
   ],
   "source": [
    "rdd_01 = rdd_english.intersection(rdd_spanish)\n",
    "rdd_01.collect()"
   ],
   "metadata": {
    "collapsed": false,
    "ExecuteTime": {
     "end_time": "2024-02-09T12:30:42.360944200Z",
     "start_time": "2024-02-09T12:30:38.288114400Z"
    }
   },
   "id": "b05e6048c1180b96",
   "execution_count": 5
  },
  {
   "cell_type": "code",
   "outputs": [
    {
     "data": {
      "text/plain": "['mesa', 'perro', 'hola', 'gato', 'oscuro', 'ordenador']"
     },
     "execution_count": 6,
     "metadata": {},
     "output_type": "execute_result"
    }
   ],
   "source": [
    "rdd_02 = rdd_spanish.subtract(rdd_english)\n",
    "rdd_02.collect()"
   ],
   "metadata": {
    "collapsed": false,
    "ExecuteTime": {
     "end_time": "2024-02-09T12:31:14.923340500Z",
     "start_time": "2024-02-09T12:31:11.494230600Z"
    }
   },
   "id": "490aef58922fcbeb",
   "execution_count": 6
  },
  {
   "cell_type": "code",
   "outputs": [
    {
     "data": {
      "text/plain": "['hello',\n 'table',\n 'dog',\n 'messages',\n 'cat',\n 'dark',\n 'computer',\n 'mesa',\n 'perro',\n 'hola',\n 'gato',\n 'oscuro',\n 'ordenador']"
     },
     "execution_count": 7,
     "metadata": {},
     "output_type": "execute_result"
    }
   ],
   "source": [
    "rdd_03_unique_english = rdd_english.subtract(rdd_spanish)\n",
    "rdd_03_unique_spanish = rdd_spanish.subtract(rdd_english)\n",
    "rdd_03 = rdd_03_unique_english.union(rdd_03_unique_spanish)\n",
    "rdd_03.collect()"
   ],
   "metadata": {
    "collapsed": false,
    "ExecuteTime": {
     "end_time": "2024-02-09T12:32:29.290832500Z",
     "start_time": "2024-02-09T12:32:22.367250300Z"
    }
   },
   "id": "5130ac1ce71a1c8e",
   "execution_count": 7
  },
  {
   "cell_type": "code",
   "outputs": [
    {
     "name": "stdout",
     "output_type": "stream",
     "text": [
      "Consonant: ['hello', 'table', 'xenon', 'dog', 'doctor', 'messages', 'mesa', 'perro', 'cat', 'social', 'dark', 'hospital', 'computer', 'chat', 'hola', 'gato']\n",
      "Vowel: ['animal', 'usual', 'oscuro', 'ordenador']\n"
     ]
    }
   ],
   "source": [
    "def starts_with_vowel(word: str):\n",
    "    return word.startswith(('a', 'e', 'i', 'o', 'u'))\n",
    "\n",
    "\n",
    "rdd_04 = rdd_english.union(rdd_spanish).distinct().map(lambda x: x.lower()).groupBy(starts_with_vowel)\n",
    "words = rdd_04.collect()\n",
    "\n",
    "print(f\"Consonant: {[x for x in words[0][1]]}\")\n",
    "print(f\"Vowel: {[x for x in words[1][1]]}\")"
   ],
   "metadata": {
    "collapsed": false,
    "ExecuteTime": {
     "end_time": "2024-02-09T12:37:11.552394700Z",
     "start_time": "2024-02-09T12:37:06.952617800Z"
    }
   },
   "id": "7a1b4f4dd1543915",
   "execution_count": 14
  },
  {
   "cell_type": "code",
   "outputs": [],
   "source": [
    "# sc.stop()"
   ],
   "metadata": {
    "collapsed": false,
    "ExecuteTime": {
     "end_time": "2024-02-09T12:30:18.851438300Z",
     "start_time": "2024-02-09T12:30:18.847864500Z"
    }
   },
   "id": "fc2d86e858e7941c",
   "execution_count": 4
  }
 ],
 "metadata": {
  "kernelspec": {
   "display_name": "Python 3",
   "language": "python",
   "name": "python3"
  },
  "language_info": {
   "codemirror_mode": {
    "name": "ipython",
    "version": 2
   },
   "file_extension": ".py",
   "mimetype": "text/x-python",
   "name": "python",
   "nbconvert_exporter": "python",
   "pygments_lexer": "ipython2",
   "version": "2.7.6"
  }
 },
 "nbformat": 4,
 "nbformat_minor": 5
}
