{
 "cells": [
  {
   "cell_type": "code",
   "outputs": [],
   "source": [
    "from pyspark import SparkContext"
   ],
   "metadata": {
    "collapsed": false
   },
   "id": "5aa3e0ff7c753cea",
   "execution_count": null
  },
  {
   "cell_type": "code",
   "outputs": [],
   "source": [
    "sc = SparkContext(\"local\", \"Number RDD App\")"
   ],
   "metadata": {
    "collapsed": false
   },
   "id": "d2c669e703e22dcd",
   "execution_count": null
  },
  {
   "cell_type": "code",
   "outputs": [],
   "source": [
    "lista = 10, 25, 51, 82, 44, 2, 100, 43, 57, 29, 24, 16, 93, 1, 75, 51, 57, 30, 42, 80, 4, 30, 18, 54, 67, 42, 85, 1, 3, 1, 8, 12, 8, 8, 10, 5, 10, 15, 2, 6, 1, 7, 13, 12, 14, 13, 6, 13, 9, 3, 5\n",
    "\n",
    "rdd_numbers = sc.parallelize(lista)"
   ],
   "metadata": {
    "collapsed": false
   },
   "id": "9e797e00ed449466",
   "execution_count": null
  },
  {
   "cell_type": "code",
   "outputs": [],
   "source": [
    "rdd_numbers.count()"
   ],
   "metadata": {
    "collapsed": false
   },
   "id": "1160e445285baff0",
   "execution_count": null
  },
  {
   "cell_type": "code",
   "outputs": [],
   "source": [
    "rdd_numbers.sortBy(lambda x: x).collect()"
   ],
   "metadata": {
    "collapsed": false
   },
   "id": "763056a10a1287ab",
   "execution_count": null
  },
  {
   "cell_type": "code",
   "outputs": [],
   "source": [
    "rdd_numbers.take(10)"
   ],
   "metadata": {
    "collapsed": false
   },
   "id": "c9b853d639466160",
   "execution_count": null
  },
  {
   "cell_type": "code",
   "outputs": [],
   "source": [
    "rdd_numbers.takeSample(False, 10)"
   ],
   "metadata": {
    "collapsed": false
   },
   "id": "a640b723832fbe89",
   "execution_count": null
  },
  {
   "cell_type": "code",
   "outputs": [],
   "source": [
    "rdd_numbers.max()"
   ],
   "metadata": {
    "collapsed": false
   },
   "id": "9049553e5c5c6902",
   "execution_count": null
  },
  {
   "cell_type": "code",
   "outputs": [],
   "source": [
    "rdd_random_numbers = sc.parallelize([5, 4, 3, 6, 2, 6, 1, 9])\n",
    "rdd_random_numbers.cartesian(rdd_numbers).collect()"
   ],
   "metadata": {
    "collapsed": false
   },
   "id": "6a653f26e36962e8",
   "execution_count": null
  },
  {
   "cell_type": "code",
   "outputs": [],
   "source": [
    "rdd_numbers.sortBy(lambda x: x).distinct().collect()"
   ],
   "metadata": {
    "collapsed": false
   },
   "id": "eaa6423dfc3d5523",
   "execution_count": null
  },
  {
   "cell_type": "code",
   "outputs": [
    {
     "data": {
      "text/plain": "[2.0,\n 2.0,\n 2.0,\n 2.0,\n 2.0,\n 2.0,\n 2.0,\n 2.0,\n 2.0,\n 2.0,\n 2.0,\n 2.0,\n 2.0,\n 2.0,\n 2.0,\n 2.0,\n 2.0,\n 2.0,\n 2.0,\n 2.0,\n 2.0,\n 2.0,\n 2.0,\n 2.0,\n 2.0,\n 2.0,\n 2.0,\n 2.0,\n 2.0,\n 2.0,\n 2.0,\n 2.0,\n 2.0,\n 2.0,\n 2.0,\n 2.0,\n 2.0,\n 2.0,\n 2.0,\n 2.0,\n 2.0,\n 2.0,\n 2.0,\n 2.0,\n 2.0,\n 2.0,\n 2.0,\n 2.0,\n 2.0,\n 2.0,\n 2.0]"
     },
     "execution_count": 13,
     "metadata": {},
     "output_type": "execute_result"
    }
   ],
   "source": [
    "def transform_number(num):\n",
    "    x = num\n",
    "    x *= 3\n",
    "    x += 6\n",
    "    x /= 3\n",
    "    x -= num\n",
    "    return x\n",
    "\n",
    "\n",
    "rdd_numbers.map(transform_number).collect()"
   ],
   "metadata": {
    "collapsed": false,
    "ExecuteTime": {
     "end_time": "2024-02-09T12:45:20.911782300Z",
     "start_time": "2024-02-09T12:45:20.259810Z"
    }
   },
   "id": "faffb3f6b213a02a",
   "execution_count": 13
  },
  {
   "cell_type": "code",
   "outputs": [
    {
     "data": {
      "text/plain": "2.0"
     },
     "execution_count": 15,
     "metadata": {},
     "output_type": "execute_result"
    }
   ],
   "source": [
    "rdd_numbers.map(transform_number).distinct().collect()[0]"
   ],
   "metadata": {
    "collapsed": false,
    "ExecuteTime": {
     "end_time": "2024-02-09T12:46:14.221650500Z",
     "start_time": "2024-02-09T12:46:12.869508300Z"
    }
   },
   "id": "55c2e79402cd5a7d",
   "execution_count": 15
  },
  {
   "cell_type": "code",
   "outputs": [],
   "source": [
    "# sc.stop()"
   ],
   "metadata": {
    "collapsed": false
   },
   "id": "f6baf75114b55f8d",
   "execution_count": null
  }
 ],
 "metadata": {
  "kernelspec": {
   "display_name": "Python 3",
   "language": "python",
   "name": "python3"
  },
  "language_info": {
   "codemirror_mode": {
    "name": "ipython",
    "version": 2
   },
   "file_extension": ".py",
   "mimetype": "text/x-python",
   "name": "python",
   "nbconvert_exporter": "python",
   "pygments_lexer": "ipython2",
   "version": "2.7.6"
  }
 },
 "nbformat": 4,
 "nbformat_minor": 5
}
