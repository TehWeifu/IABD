{
 "cells": [
  {
   "cell_type": "code",
   "outputs": [],
   "source": [
    "import os\n",
    "\n",
    "from pyspark import SparkContext\n",
    "from tabulate import tabulate"
   ],
   "metadata": {
    "collapsed": false,
    "ExecuteTime": {
     "end_time": "2024-02-02T18:50:07.652178200Z",
     "start_time": "2024-02-02T18:50:07.633806500Z"
    }
   },
   "id": "65875423f7d94ba9",
   "execution_count": 93
  },
  {
   "cell_type": "code",
   "outputs": [],
   "source": [
    "sc = SparkContext.getOrCreate()"
   ],
   "metadata": {
    "collapsed": false,
    "ExecuteTime": {
     "end_time": "2024-02-02T18:50:07.671472400Z",
     "start_time": "2024-02-02T18:50:07.654148500Z"
    }
   },
   "id": "f873454a522e4861",
   "execution_count": 94
  },
  {
   "cell_type": "code",
   "outputs": [
    {
     "data": {
      "text/plain": "['German2.txt',\n 'Germana.txt',\n 'HistoriaDeVenezuelaPt1.txt',\n 'HistoriaDeVenezuelaPt2.txt',\n 'HistoriaNaturalYMoralDeLasIndasPt2.txt',\n 'HistoriaNaturalYMoralDeLasIndias.txt',\n 'LaNarizDeUnNotario.txt',\n 'MerodeadoresDeFronterastxt.txt',\n 'Misticas-poesias.txt',\n 'ResenaVeridicaDeLaRevolucionFilipina.txt',\n 'Tragedias.txt']"
     },
     "execution_count": 95,
     "metadata": {},
     "output_type": "execute_result"
    }
   ],
   "source": [
    "os.listdir('./RawBooks')"
   ],
   "metadata": {
    "collapsed": false,
    "ExecuteTime": {
     "end_time": "2024-02-02T18:50:07.690674200Z",
     "start_time": "2024-02-02T18:50:07.673775300Z"
    }
   },
   "id": "ca63a09055c5790b",
   "execution_count": 95
  },
  {
   "cell_type": "code",
   "outputs": [],
   "source": [
    "file_handler = open('./RawBooks/German2.txt', 'r', encoding=\"utf-8\")\n",
    "book = file_handler.read()"
   ],
   "metadata": {
    "collapsed": false,
    "ExecuteTime": {
     "end_time": "2024-02-02T18:50:07.702227700Z",
     "start_time": "2024-02-02T18:50:07.682825300Z"
    }
   },
   "id": "fc81d0c683f7f065",
   "execution_count": 97
  },
  {
   "cell_type": "code",
   "outputs": [],
   "source": [
    "common_spanish_nouns = [\n",
    "    \"tiempo\",  # time\n",
    "    \"año\",  # year\n",
    "    \"día\",  # day\n",
    "    \"cosa\",  # thing\n",
    "    \"persona\",  # person\n",
    "    \"hombre\",  # man\n",
    "    \"mujer\",  # woman\n",
    "    \"vida\",  # life\n",
    "    \"niño\",  # child, boy\n",
    "    \"mundo\",  # world\n",
    "    \"momento\",  # moment\n",
    "    \"mano\",  # hand\n",
    "    \"parte\",  # part\n",
    "    \"casa\",  # house\n",
    "    \"trabajo\",  # work, job\n",
    "    \"nombre\",  # name\n",
    "    \"palabra\",  # word\n",
    "    \"lugar\",  # place\n",
    "    \"amigo\",  # friend\n",
    "    \"gente\",  # people\n",
    "]"
   ],
   "metadata": {
    "collapsed": false,
    "ExecuteTime": {
     "end_time": "2024-02-02T18:50:07.703208600Z",
     "start_time": "2024-02-02T18:50:07.690674200Z"
    }
   },
   "id": "f3b1fd7eba727987",
   "execution_count": 98
  },
  {
   "cell_type": "code",
   "outputs": [],
   "source": [
    "common_spanish_adjectives = [\n",
    "    \"bueno\",  # good\n",
    "    \"malo\",  # bad\n",
    "    \"grande\",  # big, large\n",
    "    \"pequeño\",  # small\n",
    "    \"feliz\",  # happy\n",
    "    \"triste\",  # sad\n",
    "    \"fácil\",  # easy\n",
    "    \"difícil\",  # difficult\n",
    "    \"rápido\",  # fast\n",
    "    \"lento\",  # slow\n",
    "    \"caliente\",  # hot\n",
    "    \"frío\",  # cold\n",
    "    \"joven\",  # young\n",
    "    \"viejo\",  # old\n",
    "    \"bonito\",  # pretty\n",
    "    \"feo\",  # ugly\n",
    "    \"rico\",  # rich, delicious\n",
    "    \"pobre\",  # poor\n",
    "    \"nuevo\",  # new\n",
    "    \"viejo\",  # old\n",
    "]"
   ],
   "metadata": {
    "collapsed": false,
    "ExecuteTime": {
     "end_time": "2024-02-02T18:50:07.704386700Z",
     "start_time": "2024-02-02T18:50:07.698654900Z"
    }
   },
   "id": "477abb80a756404e",
   "execution_count": 99
  },
  {
   "cell_type": "code",
   "outputs": [],
   "source": [
    "common_spanish_verbs = [\n",
    "    \"ser\",\n",
    "    \"estar\",\n",
    "    \"tener\",\n",
    "    \"hacer\",\n",
    "    \"poder\",\n",
    "    \"decir\",\n",
    "    \"ir\",\n",
    "    \"ver\",\n",
    "    \"dar\",\n",
    "    \"saber\",\n",
    "    \"querer\",\n",
    "    \"llegar\",\n",
    "    \"pasar\",\n",
    "    \"deber\",\n",
    "    \"poner\",\n",
    "    \"parecer\",\n",
    "    \"quedar\",\n",
    "    \"creer\",\n",
    "    \"hablar\",\n",
    "    \"llevar\"\n",
    "]"
   ],
   "metadata": {
    "collapsed": false,
    "ExecuteTime": {
     "end_time": "2024-02-02T18:50:07.718720Z",
     "start_time": "2024-02-02T18:50:07.707639300Z"
    }
   },
   "id": "da05e368192facca",
   "execution_count": 100
  },
  {
   "cell_type": "code",
   "outputs": [],
   "source": [
    "def is_adjective(word):\n",
    "    return word in common_spanish_adjectives"
   ],
   "metadata": {
    "collapsed": false,
    "ExecuteTime": {
     "end_time": "2024-02-02T18:50:07.755498900Z",
     "start_time": "2024-02-02T18:50:07.710717700Z"
    }
   },
   "id": "931e828bb42c9ee0",
   "execution_count": 101
  },
  {
   "cell_type": "code",
   "outputs": [],
   "source": [
    "def is_verb(word):\n",
    "    return word in common_spanish_verbs"
   ],
   "metadata": {
    "collapsed": false,
    "ExecuteTime": {
     "end_time": "2024-02-02T18:50:07.756935600Z",
     "start_time": "2024-02-02T18:50:07.716185Z"
    }
   },
   "id": "1f07d7e0ae6a50f1",
   "execution_count": 102
  },
  {
   "cell_type": "code",
   "outputs": [],
   "source": [
    "def is_noun(word):\n",
    "    return word in common_spanish_nouns"
   ],
   "metadata": {
    "collapsed": false,
    "ExecuteTime": {
     "end_time": "2024-02-02T18:50:07.757440200Z",
     "start_time": "2024-02-02T18:50:07.721378100Z"
    }
   },
   "id": "4a064e27d1cc8498",
   "execution_count": 103
  },
  {
   "cell_type": "code",
   "outputs": [],
   "source": [
    "text_file_rdd = sc.textFile('./RawBooks/German2.txt')\n",
    "words_rdd = text_file_rdd.flatMap(lambda line: line.split(\" \"))\n",
    "\n",
    "clean_words_rdd = words_rdd.map(lambda word: word.lower().strip(\".,:;()¡!¿?\")).filter(lambda word: len(word) > 1)\n",
    "\n",
    "indexed_words = clean_words_rdd.zipWithIndex()\n",
    "current_words = indexed_words.map(lambda x: (x[1], x[0]))\n",
    "next_words = indexed_words.map(lambda x: (x[1] - 1, x[0]))\n",
    "next_next_words = indexed_words.map(lambda x: (x[1] - 2, x[0]))\n",
    "word_trios = current_words.join(next_words).join(next_next_words)\n",
    "word_trios = word_trios.map(lambda x: (x[1][0][0], x[1][0][1], x[1][1]))\n",
    "word_trios_count = word_trios.map(lambda trio: (trio, 1)).reduceByKey(lambda a, b: a + b)\n",
    "top_trios = word_trios_count.map(lambda x: (x[1], x[0])).sortByKey(False).take(3)\n",
    "\n",
    "verbs_found = clean_words_rdd.filter(is_verb)\n",
    "verbs_counts_rdd = verbs_found.map(lambda word: (word, 1)).reduceByKey(lambda a, b: a + b)\n",
    "top_verbs = verbs_counts_rdd.sortBy(lambda verb_count: verb_count[1], ascending=False).take(3)\n",
    "\n",
    "adjectives_found = clean_words_rdd.filter(is_adjective)\n",
    "adjectives_counts_rdd = adjectives_found.map(lambda word: (word, 1)).reduceByKey(lambda a, b: a + b)\n",
    "top_adjectives = adjectives_counts_rdd.sortBy(lambda verb_count: verb_count[1], ascending=False).take(3)\n",
    "\n",
    "nouns_found = clean_words_rdd.filter(is_noun)\n",
    "nouns_counts_rdd = nouns_found.map(lambda word: (word, 1)).reduceByKey(lambda a, b: a + b)\n",
    "top_nouns = nouns_counts_rdd.sortBy(lambda verb_count: verb_count[1], ascending=False).take(3)\n",
    "\n",
    "word_counts_rdd = clean_words_rdd.map(lambda word: (word, 1)).reduceByKey(lambda a, b: a + b)\n",
    "top_words = word_counts_rdd.sortBy(lambda word_count: word_count[1], ascending=False).take(3)\n",
    "\n"
   ],
   "metadata": {
    "collapsed": false,
    "ExecuteTime": {
     "end_time": "2024-02-02T18:50:53.046343300Z",
     "start_time": "2024-02-02T18:50:07.730727200Z"
    }
   },
   "id": "a2755312a1bfef0b",
   "execution_count": 104
  },
  {
   "cell_type": "code",
   "outputs": [],
   "source": [
    "results = []\n",
    "for i in range(len(top_verbs)):\n",
    "    results.append([\n",
    "        'Germana',\n",
    "        top_words[i][0],\n",
    "        top_words[i][1],\n",
    "        top_verbs[i][0],\n",
    "        top_verbs[i][1],\n",
    "        top_adjectives[i][0],\n",
    "        top_adjectives[i][1],\n",
    "        top_nouns[i][0],\n",
    "        top_nouns[i][1],\n",
    "        top_trios[i][1],\n",
    "        top_trios[i][0],\n",
    "    ])"
   ],
   "metadata": {
    "collapsed": false,
    "ExecuteTime": {
     "end_time": "2024-02-02T18:53:43.453108400Z",
     "start_time": "2024-02-02T18:53:43.450866900Z"
    }
   },
   "id": "cf8991fce05db897",
   "execution_count": 125
  },
  {
   "cell_type": "code",
   "outputs": [
    {
     "name": "stdout",
     "output_type": "stream",
     "text": [
      "Libro    Palabra      Palabra (c)  Verbo      Verbo (c)  Adjetivo      Adjetivo (c)  Sustantivo      Sustantivo (c)  Trios                      Trios (c)\n",
      "-------  ---------  -------------  -------  -----------  ----------  --------------  ------------  ----------------  -----------------------  -----------\n",
      "Germana  de                    18  llevar             3  malo                     3  amigo                        3  ('era', 'era', 'era')              3\n",
      "Germana  su                    15  ser                1  joven                    2  hombre                       2  ('era', 'era', 'un')               2\n",
      "Germana  el                    12  decir              1  triste                   2  tiempo                       2  ('de', 'sus', 'éxitos')            2\n"
     ]
    }
   ],
   "source": [
    "print(tabulate(results, headers=[\"Libro\", \"Palabra\", \"Palabra (c)\", \"Verbo\", \"Verbo (c)\",\n",
    "                                 \"Adjetivo\", \"Adjetivo (c)\", \"Sustantivo\", \"Sustantivo (c)\",\n",
    "                                 \"Trios\", \"Trios (c)\"]))"
   ],
   "metadata": {
    "collapsed": false,
    "ExecuteTime": {
     "end_time": "2024-02-02T18:53:44.738836100Z",
     "start_time": "2024-02-02T18:53:44.729672700Z"
    }
   },
   "id": "2af9cba3291394e3",
   "execution_count": 126
  },
  {
   "cell_type": "code",
   "outputs": [],
   "source": [
    "sc.stop()"
   ],
   "metadata": {
    "collapsed": false,
    "ExecuteTime": {
     "end_time": "2024-02-02T18:50:54.045487600Z",
     "start_time": "2024-02-02T18:50:53.051667600Z"
    }
   },
   "id": "56c5c1b402698cd7",
   "execution_count": 106
  }
 ],
 "metadata": {
  "kernelspec": {
   "display_name": "Python 3",
   "language": "python",
   "name": "python3"
  },
  "language_info": {
   "codemirror_mode": {
    "name": "ipython",
    "version": 2
   },
   "file_extension": ".py",
   "mimetype": "text/x-python",
   "name": "python",
   "nbconvert_exporter": "python",
   "pygments_lexer": "ipython2",
   "version": "2.7.6"
  }
 },
 "nbformat": 4,
 "nbformat_minor": 5
}
