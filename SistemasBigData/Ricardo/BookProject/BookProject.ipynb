{
 "cells": [
  {
   "cell_type": "code",
   "execution_count": 139,
   "id": "initial_id",
   "metadata": {
    "collapsed": true,
    "ExecuteTime": {
     "end_time": "2024-01-26T18:47:43.877810Z",
     "start_time": "2024-01-26T18:47:43.875569900Z"
    }
   },
   "outputs": [],
   "source": [
    "from pyspark import SparkContext\n",
    "import re"
   ]
  },
  {
   "cell_type": "code",
   "outputs": [],
   "source": [
    "sc = SparkContext(\"local\", \"Number RDD App\")"
   ],
   "metadata": {
    "collapsed": false,
    "ExecuteTime": {
     "end_time": "2024-01-26T18:47:43.940988900Z",
     "start_time": "2024-01-26T18:47:43.879883200Z"
    }
   },
   "id": "17d16623ace08622",
   "execution_count": 140
  },
  {
   "cell_type": "code",
   "outputs": [],
   "source": [
    "word_count = {}"
   ],
   "metadata": {
    "collapsed": false,
    "ExecuteTime": {
     "end_time": "2024-01-26T18:47:43.949028Z",
     "start_time": "2024-01-26T18:47:43.942222100Z"
    }
   },
   "id": "37ac279bf9fd42dd",
   "execution_count": 141
  },
  {
   "cell_type": "code",
   "outputs": [],
   "source": [
    "def process_line(line):\n",
    "    line = line.lower()\n",
    "    line = re.sub(r\"[^\\w\\s]\", \"\", line)\n",
    "    array_line = line.split(\" \")\n",
    "\n",
    "    for word in array_line:\n",
    "        if word in word_count:\n",
    "            word_count[word] = word_count[word] + 1\n",
    "        else:\n",
    "            word_count[word] = 1\n"
   ],
   "metadata": {
    "collapsed": false,
    "ExecuteTime": {
     "end_time": "2024-01-26T18:47:43.957484600Z",
     "start_time": "2024-01-26T18:47:43.945968100Z"
    }
   },
   "id": "a87083cc6446668c",
   "execution_count": 142
  },
  {
   "cell_type": "code",
   "outputs": [
    {
     "data": {
      "text/plain": "{}"
     },
     "execution_count": 143,
     "metadata": {},
     "output_type": "execute_result"
    }
   ],
   "source": [
    "file_handler = open('./RawBooks/Germana.txt', 'r', encoding=\"utf-8\")\n",
    "lines = file_handler.readlines()\n",
    "\n",
    "rdd_lines = sc.parallelize(lines)\n",
    "\n",
    "rdd_lines.foreach(process_line)\n",
    "\n",
    "word_count"
   ],
   "metadata": {
    "collapsed": false,
    "ExecuteTime": {
     "end_time": "2024-01-26T18:47:44.608315300Z",
     "start_time": "2024-01-26T18:47:43.954276500Z"
    }
   },
   "id": "42d8570667ee60fc",
   "execution_count": 143
  },
  {
   "cell_type": "code",
   "outputs": [],
   "source": [
    "sc.stop()"
   ],
   "metadata": {
    "collapsed": false,
    "ExecuteTime": {
     "end_time": "2024-01-26T18:47:45.609411800Z",
     "start_time": "2024-01-26T18:47:44.601852Z"
    }
   },
   "id": "180b87907ce47f8e",
   "execution_count": 144
  }
 ],
 "metadata": {
  "kernelspec": {
   "display_name": "Python 3",
   "language": "python",
   "name": "python3"
  },
  "language_info": {
   "codemirror_mode": {
    "name": "ipython",
    "version": 2
   },
   "file_extension": ".py",
   "mimetype": "text/x-python",
   "name": "python",
   "nbconvert_exporter": "python",
   "pygments_lexer": "ipython2",
   "version": "2.7.6"
  }
 },
 "nbformat": 4,
 "nbformat_minor": 5
}
