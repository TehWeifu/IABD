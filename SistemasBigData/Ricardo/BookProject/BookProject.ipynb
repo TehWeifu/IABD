{
 "cells": [
  {
   "cell_type": "markdown",
   "source": [
    "Activity done by Adrian and Julian"
   ],
   "metadata": {
    "collapsed": false
   },
   "id": "9e0a5d9af0deb97b"
  },
  {
   "cell_type": "code",
   "outputs": [],
   "source": [
    "import os\n",
    "\n",
    "import pandas as pd\n",
    "from pyspark import SparkContext"
   ],
   "metadata": {
    "collapsed": false,
    "ExecuteTime": {
     "end_time": "2024-02-23T18:43:22.933911800Z",
     "start_time": "2024-02-23T18:43:22.913307300Z"
    }
   },
   "id": "65875423f7d94ba9",
   "execution_count": 14
  },
  {
   "cell_type": "code",
   "outputs": [],
   "source": [
    "sc = SparkContext(\"local\", \"BookProject RDD App\")"
   ],
   "metadata": {
    "collapsed": false,
    "ExecuteTime": {
     "end_time": "2024-02-23T18:43:23.054130700Z",
     "start_time": "2024-02-23T18:43:22.937381300Z"
    }
   },
   "id": "f873454a522e4861",
   "execution_count": 15
  },
  {
   "cell_type": "code",
   "outputs": [],
   "source": [
    "common_spanish_nouns = [\n",
    "    \"tiempo\",\n",
    "    \"año\",\n",
    "    \"día\",\n",
    "    \"cosa\",\n",
    "    \"persona\",\n",
    "    \"hombre\",\n",
    "    \"mujer\",\n",
    "    \"vida\",\n",
    "    \"niño\",\n",
    "    \"mundo\",\n",
    "    \"momento\",\n",
    "    \"mano\",\n",
    "    \"parte\",\n",
    "    \"casa\",\n",
    "    \"trabajo\",\n",
    "    \"nombre\",\n",
    "    \"palabra\",\n",
    "    \"lugar\",\n",
    "    \"amigo\",\n",
    "    \"gente\",\n",
    "]"
   ],
   "metadata": {
    "collapsed": false,
    "ExecuteTime": {
     "end_time": "2024-02-23T18:43:23.055536100Z",
     "start_time": "2024-02-23T18:43:23.043949100Z"
    }
   },
   "id": "f3b1fd7eba727987",
   "execution_count": 16
  },
  {
   "cell_type": "code",
   "outputs": [],
   "source": [
    "common_spanish_adjectives = [\n",
    "    \"bueno\",\n",
    "    \"malo\",\n",
    "    \"grande\",\n",
    "    \"pequeño\",\n",
    "    \"feliz\",\n",
    "    \"triste\",\n",
    "    \"fácil\",\n",
    "    \"difícil\",\n",
    "    \"rápido\",\n",
    "    \"lento\",\n",
    "    \"caliente\",\n",
    "    \"frío\",\n",
    "    \"joven\",\n",
    "    \"viejo\",\n",
    "    \"bonito\",\n",
    "    \"feo\",\n",
    "    \"rico\",\n",
    "    \"pobre\",\n",
    "    \"nuevo\",\n",
    "    \"viejo\",\n",
    "]"
   ],
   "metadata": {
    "collapsed": false,
    "ExecuteTime": {
     "end_time": "2024-02-23T18:43:23.055536100Z",
     "start_time": "2024-02-23T18:43:23.047234400Z"
    }
   },
   "id": "477abb80a756404e",
   "execution_count": 17
  },
  {
   "cell_type": "code",
   "outputs": [],
   "source": [
    "common_spanish_verbs = [\n",
    "    \"ser\",\n",
    "    \"estar\",\n",
    "    \"tener\",\n",
    "    \"hacer\",\n",
    "    \"poder\",\n",
    "    \"decir\",\n",
    "    \"ir\",\n",
    "    \"ver\",\n",
    "    \"dar\",\n",
    "    \"saber\",\n",
    "    \"querer\",\n",
    "    \"llegar\",\n",
    "    \"pasar\",\n",
    "    \"deber\",\n",
    "    \"poner\",\n",
    "    \"parecer\",\n",
    "    \"quedar\",\n",
    "    \"creer\",\n",
    "    \"hablar\",\n",
    "    \"llevar\"\n",
    "]"
   ],
   "metadata": {
    "collapsed": false,
    "ExecuteTime": {
     "end_time": "2024-02-23T18:43:23.075692600Z",
     "start_time": "2024-02-23T18:43:23.055536100Z"
    }
   },
   "id": "da05e368192facca",
   "execution_count": 18
  },
  {
   "cell_type": "code",
   "outputs": [],
   "source": [
    "def is_adjective(word):\n",
    "    return word in common_spanish_adjectives"
   ],
   "metadata": {
    "collapsed": false,
    "ExecuteTime": {
     "end_time": "2024-02-23T18:43:23.076716800Z",
     "start_time": "2024-02-23T18:43:23.061279500Z"
    }
   },
   "id": "931e828bb42c9ee0",
   "execution_count": 19
  },
  {
   "cell_type": "code",
   "outputs": [],
   "source": [
    "def is_verb(word):\n",
    "    return word in common_spanish_verbs"
   ],
   "metadata": {
    "collapsed": false,
    "ExecuteTime": {
     "end_time": "2024-02-23T18:43:23.076716800Z",
     "start_time": "2024-02-23T18:43:23.067290700Z"
    }
   },
   "id": "1f07d7e0ae6a50f1",
   "execution_count": 20
  },
  {
   "cell_type": "code",
   "outputs": [],
   "source": [
    "def is_noun(word):\n",
    "    return word in common_spanish_nouns"
   ],
   "metadata": {
    "collapsed": false,
    "ExecuteTime": {
     "end_time": "2024-02-23T18:43:23.088282900Z",
     "start_time": "2024-02-23T18:43:23.074652200Z"
    }
   },
   "id": "4a064e27d1cc8498",
   "execution_count": 21
  },
  {
   "cell_type": "code",
   "outputs": [
    {
     "data": {
      "text/plain": "['Germana.txt',\n 'HistoriaDeVenezuelaPt1.txt',\n 'HistoriaDeVenezuelaPt2.txt',\n 'HistoriaNaturalYMoralDeLasIndasPt2.txt',\n 'HistoriaNaturalYMoralDeLasIndias.txt',\n 'LaNarizDeUnNotario.txt',\n 'MerodeadoresDeFronterastxt.txt',\n 'Misticas-poesias.txt',\n 'ResenaVeridicaDeLaRevolucionFilipina.txt',\n 'Tragedias.txt']"
     },
     "execution_count": 22,
     "metadata": {},
     "output_type": "execute_result"
    }
   ],
   "source": [
    "book_list = os.listdir('./RawBooks')\n",
    "book_list"
   ],
   "metadata": {
    "collapsed": false,
    "ExecuteTime": {
     "end_time": "2024-02-23T18:43:23.097139400Z",
     "start_time": "2024-02-23T18:43:23.081737500Z"
    }
   },
   "id": "bd9725666cd10495",
   "execution_count": 22
  },
  {
   "cell_type": "code",
   "outputs": [],
   "source": [
    "results = []\n",
    "\n",
    "for book in book_list:\n",
    "    text_file_rdd = sc.textFile('./RawBooks/' + book)\n",
    "    words_rdd = text_file_rdd.flatMap(lambda line: line.split(\" \"))\n",
    "\n",
    "    clean_words_rdd = words_rdd.map(lambda word: word.lower().strip(\".,:;()¡!¿?\")).filter(lambda word: len(word) > 1)\n",
    "\n",
    "    indexed_words = clean_words_rdd.zipWithIndex()\n",
    "    current_words = indexed_words.map(lambda x: (x[1], x[0]))\n",
    "    next_words = indexed_words.map(lambda x: (x[1] - 1, x[0]))\n",
    "    next_next_words = indexed_words.map(lambda x: (x[1] - 2, x[0]))\n",
    "    word_trios = current_words.join(next_words).join(next_next_words)\n",
    "    word_trios = word_trios.map(lambda x: (x[1][0][0], x[1][0][1], x[1][1]))\n",
    "    word_trios_count = word_trios.map(lambda trio: (trio, 1)).reduceByKey(lambda a, b: a + b)\n",
    "    top_trios = word_trios_count.map(lambda x: (x[1], x[0])).sortByKey(False).take(3)\n",
    "\n",
    "    verbs_found = clean_words_rdd.filter(is_verb)\n",
    "    verbs_counts_rdd = verbs_found.map(lambda word: (word, 1)).reduceByKey(lambda a, b: a + b)\n",
    "    top_verbs = verbs_counts_rdd.sortBy(lambda verb_count: verb_count[1], ascending=False).take(3)\n",
    "\n",
    "    adjectives_found = clean_words_rdd.filter(is_adjective)\n",
    "    adjectives_counts_rdd = adjectives_found.map(lambda word: (word, 1)).reduceByKey(lambda a, b: a + b)\n",
    "    top_adjectives = adjectives_counts_rdd.sortBy(lambda verb_count: verb_count[1], ascending=False).take(3)\n",
    "\n",
    "    nouns_found = clean_words_rdd.filter(is_noun)\n",
    "    nouns_counts_rdd = nouns_found.map(lambda word: (word, 1)).reduceByKey(lambda a, b: a + b)\n",
    "    top_nouns = nouns_counts_rdd.sortBy(lambda verb_count: verb_count[1], ascending=False).take(3)\n",
    "\n",
    "    word_counts_rdd = clean_words_rdd.map(lambda word: (word, 1)).reduceByKey(lambda a, b: a + b)\n",
    "    top_words = word_counts_rdd.sortBy(lambda word_count: word_count[1], ascending=False).take(3)\n",
    "\n",
    "    for i in range(len(top_verbs)):\n",
    "        results.append([\n",
    "            book.replace(\".txt\", ''),\n",
    "            i + 1,\n",
    "            top_words[i][0],\n",
    "            top_words[i][1],\n",
    "            top_verbs[i][0],\n",
    "            top_verbs[i][1],\n",
    "            top_adjectives[i][0],\n",
    "            top_adjectives[i][1],\n",
    "            top_nouns[i][0],\n",
    "            top_nouns[i][1],\n",
    "            top_trios[i][1],\n",
    "            top_trios[i][0],\n",
    "        ])"
   ],
   "metadata": {
    "collapsed": false,
    "ExecuteTime": {
     "end_time": "2024-02-23T18:46:34.188960800Z",
     "start_time": "2024-02-23T18:43:23.092936Z"
    }
   },
   "id": "a2755312a1bfef0b",
   "execution_count": 23
  },
  {
   "cell_type": "code",
   "outputs": [],
   "source": [
    "df = pd.DataFrame(results, columns=[\"Libro\", \"Ranking\", \"Palabra\", \"Palabra (c)\", \"Verbo\", \"Verbo (c)\",\n",
    "                                    \"Adjetivo\", \"Adjetivo (c)\", \"Sustantivo\", \"Sustantivo (c)\",\n",
    "                                    \"Trios\", \"Trios (c)\"])"
   ],
   "metadata": {
    "collapsed": false,
    "ExecuteTime": {
     "end_time": "2024-02-23T18:46:34.197457Z",
     "start_time": "2024-02-23T18:46:34.190416300Z"
    }
   },
   "id": "e1c4fd68f781b786",
   "execution_count": 24
  },
  {
   "cell_type": "code",
   "outputs": [
    {
     "data": {
      "text/plain": "                                   Libro  Ranking Palabra  Palabra (c)  Verbo  \\\n0                                Germana        1      de         3560    ser   \n1                                Germana        2      la         2704  hacer   \n2                                Germana        3     que         2178    ver   \n3                 HistoriaDeVenezuelaPt1        1      de        12059    ser   \n4                 HistoriaDeVenezuelaPt1        2     que         8760    dar   \n5                 HistoriaDeVenezuelaPt1        3      la         5484  tener   \n6                 HistoriaDeVenezuelaPt2        1      de         8770    ser   \n7                 HistoriaDeVenezuelaPt2        2     que         6755    dar   \n8                 HistoriaDeVenezuelaPt2        3      la         3676  decir   \n9     HistoriaNaturalYMoralDeLasIndasPt2        1      de         4913    ser   \n10    HistoriaNaturalYMoralDeLasIndasPt2        2     que         3251  hacer   \n11    HistoriaNaturalYMoralDeLasIndasPt2        3     los         2234  decir   \n12      HistoriaNaturalYMoralDeLasIndias        1      de         6302    ser   \n13      HistoriaNaturalYMoralDeLasIndias        2     que         4645  decir   \n14      HistoriaNaturalYMoralDeLasIndias        3      la         3046  hacer   \n15                    LaNarizDeUnNotario        1      de         1538    ser   \n16                    LaNarizDeUnNotario        2      la          782  decir   \n17                    LaNarizDeUnNotario        3     que          719  hacer   \n18            MerodeadoresDeFronterastxt        1      de         4235    ser   \n19            MerodeadoresDeFronterastxt        2     que         2849  hacer   \n20            MerodeadoresDeFronterastxt        3      el         2578  decir   \n21                      Misticas-poesias        1     the          186    ser   \n22                      Misticas-poesias        2      of          122  poder   \n23                      Misticas-poesias        3     que          102    dar   \n24  ResenaVeridicaDeLaRevolucionFilipina        1      de          785  hacer   \n25  ResenaVeridicaDeLaRevolucionFilipina        2      la          378  poder   \n26  ResenaVeridicaDeLaRevolucionFilipina        3     que          354    ser   \n27                             Tragedias        1      de         4418    ser   \n28                             Tragedias        2     que         2895  hacer   \n29                             Tragedias        3      la         2182    ver   \n\n    Verbo (c)  Adjetivo  Adjetivo (c) Sustantivo  Sustantivo (c)  \\\n0          60     pobre            63       casa             145   \n1          55     joven            57      mujer             117   \n2          54     viejo            48     hombre             111   \n3         375    grande            84      gente             866   \n4         261     nuevo            34      parte             403   \n5         128   pequeño            23     tiempo             232   \n6         272    grande            81      parte             208   \n7         204     nuevo            19      gente             186   \n8         121     bueno            15       cosa             151   \n9         135    grande            96      gente             150   \n10        112     nuevo            39       cosa             123   \n11         65     viejo            16      parte             105   \n12        221    grande           111       cosa             241   \n13         86     nuevo            88      parte             213   \n14         69  caliente            37      mundo             181   \n15         30     pobre            21     hombre              48   \n16         24     joven            16      mundo              37   \n17         13     nuevo            16       casa              29   \n18        124     joven           136     hombre             178   \n19         85     nuevo            32    momento             159   \n20         65     fácil            26     tiempo             137   \n21         13    grande             5       vida              20   \n22          5     nuevo             3    palabra               8   \n23          2     pobre             1      mundo               6   \n24         13     nuevo            10     tiempo              16   \n25         11    grande             4      parte              15   \n26          6     fácil             1        día              13   \n27         84    grande            29       casa             104   \n28         53    triste            28     hombre              94   \n29         46     nuevo            21       vida              81   \n\n                                Trios  Trios (c)  \n0              (la, señora, chermidy)        149  \n1                      (la, tour, de)         63  \n2                (tour, de, embleuse)         62  \n3                   (la, edición, de)        338  \n4              (edición, de, caracas)        337  \n5                   (en, la, edición)        336  \n6                 (lope, de, aguirre)        390  \n7              (edición, de, caracas)        285  \n8                   (la, edición, de)        285  \n9                   (de, los, indios)         48  \n10               (de, los, mejicanos)         47  \n11                     (en, el, perú)         43  \n12                   (de, la, tierra)         98  \n13                     (en, el, perú)         84  \n14                  (de, las, indias)         40  \n15          (the, project, gutenberg)         20  \n16  (project, gutenberg™, electronic)         18  \n17                    (la, calle, de)         18  \n18                   (cara, de, mono)         36  \n19               (en, aquel, momento)         33  \n20            (los, rostros, pálidos)         33  \n21          (the, project, gutenberg)         20  \n22  (project, gutenberg™, electronic)         18  \n23              (the, united, states)         14  \n24          (the, project, gutenberg)         20  \n25  (project, gutenberg™, electronic)         18  \n26             (el, almirante, dewey)         16  \n27                  (de, los, dioses)         77  \n28                   (de, la, tierra)         47  \n29                       (ay, de, mí)         43  ",
      "text/html": "<div>\n<style scoped>\n    .dataframe tbody tr th:only-of-type {\n        vertical-align: middle;\n    }\n\n    .dataframe tbody tr th {\n        vertical-align: top;\n    }\n\n    .dataframe thead th {\n        text-align: right;\n    }\n</style>\n<table border=\"1\" class=\"dataframe\">\n  <thead>\n    <tr style=\"text-align: right;\">\n      <th></th>\n      <th>Libro</th>\n      <th>Ranking</th>\n      <th>Palabra</th>\n      <th>Palabra (c)</th>\n      <th>Verbo</th>\n      <th>Verbo (c)</th>\n      <th>Adjetivo</th>\n      <th>Adjetivo (c)</th>\n      <th>Sustantivo</th>\n      <th>Sustantivo (c)</th>\n      <th>Trios</th>\n      <th>Trios (c)</th>\n    </tr>\n  </thead>\n  <tbody>\n    <tr>\n      <th>0</th>\n      <td>Germana</td>\n      <td>1</td>\n      <td>de</td>\n      <td>3560</td>\n      <td>ser</td>\n      <td>60</td>\n      <td>pobre</td>\n      <td>63</td>\n      <td>casa</td>\n      <td>145</td>\n      <td>(la, señora, chermidy)</td>\n      <td>149</td>\n    </tr>\n    <tr>\n      <th>1</th>\n      <td>Germana</td>\n      <td>2</td>\n      <td>la</td>\n      <td>2704</td>\n      <td>hacer</td>\n      <td>55</td>\n      <td>joven</td>\n      <td>57</td>\n      <td>mujer</td>\n      <td>117</td>\n      <td>(la, tour, de)</td>\n      <td>63</td>\n    </tr>\n    <tr>\n      <th>2</th>\n      <td>Germana</td>\n      <td>3</td>\n      <td>que</td>\n      <td>2178</td>\n      <td>ver</td>\n      <td>54</td>\n      <td>viejo</td>\n      <td>48</td>\n      <td>hombre</td>\n      <td>111</td>\n      <td>(tour, de, embleuse)</td>\n      <td>62</td>\n    </tr>\n    <tr>\n      <th>3</th>\n      <td>HistoriaDeVenezuelaPt1</td>\n      <td>1</td>\n      <td>de</td>\n      <td>12059</td>\n      <td>ser</td>\n      <td>375</td>\n      <td>grande</td>\n      <td>84</td>\n      <td>gente</td>\n      <td>866</td>\n      <td>(la, edición, de)</td>\n      <td>338</td>\n    </tr>\n    <tr>\n      <th>4</th>\n      <td>HistoriaDeVenezuelaPt1</td>\n      <td>2</td>\n      <td>que</td>\n      <td>8760</td>\n      <td>dar</td>\n      <td>261</td>\n      <td>nuevo</td>\n      <td>34</td>\n      <td>parte</td>\n      <td>403</td>\n      <td>(edición, de, caracas)</td>\n      <td>337</td>\n    </tr>\n    <tr>\n      <th>5</th>\n      <td>HistoriaDeVenezuelaPt1</td>\n      <td>3</td>\n      <td>la</td>\n      <td>5484</td>\n      <td>tener</td>\n      <td>128</td>\n      <td>pequeño</td>\n      <td>23</td>\n      <td>tiempo</td>\n      <td>232</td>\n      <td>(en, la, edición)</td>\n      <td>336</td>\n    </tr>\n    <tr>\n      <th>6</th>\n      <td>HistoriaDeVenezuelaPt2</td>\n      <td>1</td>\n      <td>de</td>\n      <td>8770</td>\n      <td>ser</td>\n      <td>272</td>\n      <td>grande</td>\n      <td>81</td>\n      <td>parte</td>\n      <td>208</td>\n      <td>(lope, de, aguirre)</td>\n      <td>390</td>\n    </tr>\n    <tr>\n      <th>7</th>\n      <td>HistoriaDeVenezuelaPt2</td>\n      <td>2</td>\n      <td>que</td>\n      <td>6755</td>\n      <td>dar</td>\n      <td>204</td>\n      <td>nuevo</td>\n      <td>19</td>\n      <td>gente</td>\n      <td>186</td>\n      <td>(edición, de, caracas)</td>\n      <td>285</td>\n    </tr>\n    <tr>\n      <th>8</th>\n      <td>HistoriaDeVenezuelaPt2</td>\n      <td>3</td>\n      <td>la</td>\n      <td>3676</td>\n      <td>decir</td>\n      <td>121</td>\n      <td>bueno</td>\n      <td>15</td>\n      <td>cosa</td>\n      <td>151</td>\n      <td>(la, edición, de)</td>\n      <td>285</td>\n    </tr>\n    <tr>\n      <th>9</th>\n      <td>HistoriaNaturalYMoralDeLasIndasPt2</td>\n      <td>1</td>\n      <td>de</td>\n      <td>4913</td>\n      <td>ser</td>\n      <td>135</td>\n      <td>grande</td>\n      <td>96</td>\n      <td>gente</td>\n      <td>150</td>\n      <td>(de, los, indios)</td>\n      <td>48</td>\n    </tr>\n    <tr>\n      <th>10</th>\n      <td>HistoriaNaturalYMoralDeLasIndasPt2</td>\n      <td>2</td>\n      <td>que</td>\n      <td>3251</td>\n      <td>hacer</td>\n      <td>112</td>\n      <td>nuevo</td>\n      <td>39</td>\n      <td>cosa</td>\n      <td>123</td>\n      <td>(de, los, mejicanos)</td>\n      <td>47</td>\n    </tr>\n    <tr>\n      <th>11</th>\n      <td>HistoriaNaturalYMoralDeLasIndasPt2</td>\n      <td>3</td>\n      <td>los</td>\n      <td>2234</td>\n      <td>decir</td>\n      <td>65</td>\n      <td>viejo</td>\n      <td>16</td>\n      <td>parte</td>\n      <td>105</td>\n      <td>(en, el, perú)</td>\n      <td>43</td>\n    </tr>\n    <tr>\n      <th>12</th>\n      <td>HistoriaNaturalYMoralDeLasIndias</td>\n      <td>1</td>\n      <td>de</td>\n      <td>6302</td>\n      <td>ser</td>\n      <td>221</td>\n      <td>grande</td>\n      <td>111</td>\n      <td>cosa</td>\n      <td>241</td>\n      <td>(de, la, tierra)</td>\n      <td>98</td>\n    </tr>\n    <tr>\n      <th>13</th>\n      <td>HistoriaNaturalYMoralDeLasIndias</td>\n      <td>2</td>\n      <td>que</td>\n      <td>4645</td>\n      <td>decir</td>\n      <td>86</td>\n      <td>nuevo</td>\n      <td>88</td>\n      <td>parte</td>\n      <td>213</td>\n      <td>(en, el, perú)</td>\n      <td>84</td>\n    </tr>\n    <tr>\n      <th>14</th>\n      <td>HistoriaNaturalYMoralDeLasIndias</td>\n      <td>3</td>\n      <td>la</td>\n      <td>3046</td>\n      <td>hacer</td>\n      <td>69</td>\n      <td>caliente</td>\n      <td>37</td>\n      <td>mundo</td>\n      <td>181</td>\n      <td>(de, las, indias)</td>\n      <td>40</td>\n    </tr>\n    <tr>\n      <th>15</th>\n      <td>LaNarizDeUnNotario</td>\n      <td>1</td>\n      <td>de</td>\n      <td>1538</td>\n      <td>ser</td>\n      <td>30</td>\n      <td>pobre</td>\n      <td>21</td>\n      <td>hombre</td>\n      <td>48</td>\n      <td>(the, project, gutenberg)</td>\n      <td>20</td>\n    </tr>\n    <tr>\n      <th>16</th>\n      <td>LaNarizDeUnNotario</td>\n      <td>2</td>\n      <td>la</td>\n      <td>782</td>\n      <td>decir</td>\n      <td>24</td>\n      <td>joven</td>\n      <td>16</td>\n      <td>mundo</td>\n      <td>37</td>\n      <td>(project, gutenberg™, electronic)</td>\n      <td>18</td>\n    </tr>\n    <tr>\n      <th>17</th>\n      <td>LaNarizDeUnNotario</td>\n      <td>3</td>\n      <td>que</td>\n      <td>719</td>\n      <td>hacer</td>\n      <td>13</td>\n      <td>nuevo</td>\n      <td>16</td>\n      <td>casa</td>\n      <td>29</td>\n      <td>(la, calle, de)</td>\n      <td>18</td>\n    </tr>\n    <tr>\n      <th>18</th>\n      <td>MerodeadoresDeFronterastxt</td>\n      <td>1</td>\n      <td>de</td>\n      <td>4235</td>\n      <td>ser</td>\n      <td>124</td>\n      <td>joven</td>\n      <td>136</td>\n      <td>hombre</td>\n      <td>178</td>\n      <td>(cara, de, mono)</td>\n      <td>36</td>\n    </tr>\n    <tr>\n      <th>19</th>\n      <td>MerodeadoresDeFronterastxt</td>\n      <td>2</td>\n      <td>que</td>\n      <td>2849</td>\n      <td>hacer</td>\n      <td>85</td>\n      <td>nuevo</td>\n      <td>32</td>\n      <td>momento</td>\n      <td>159</td>\n      <td>(en, aquel, momento)</td>\n      <td>33</td>\n    </tr>\n    <tr>\n      <th>20</th>\n      <td>MerodeadoresDeFronterastxt</td>\n      <td>3</td>\n      <td>el</td>\n      <td>2578</td>\n      <td>decir</td>\n      <td>65</td>\n      <td>fácil</td>\n      <td>26</td>\n      <td>tiempo</td>\n      <td>137</td>\n      <td>(los, rostros, pálidos)</td>\n      <td>33</td>\n    </tr>\n    <tr>\n      <th>21</th>\n      <td>Misticas-poesias</td>\n      <td>1</td>\n      <td>the</td>\n      <td>186</td>\n      <td>ser</td>\n      <td>13</td>\n      <td>grande</td>\n      <td>5</td>\n      <td>vida</td>\n      <td>20</td>\n      <td>(the, project, gutenberg)</td>\n      <td>20</td>\n    </tr>\n    <tr>\n      <th>22</th>\n      <td>Misticas-poesias</td>\n      <td>2</td>\n      <td>of</td>\n      <td>122</td>\n      <td>poder</td>\n      <td>5</td>\n      <td>nuevo</td>\n      <td>3</td>\n      <td>palabra</td>\n      <td>8</td>\n      <td>(project, gutenberg™, electronic)</td>\n      <td>18</td>\n    </tr>\n    <tr>\n      <th>23</th>\n      <td>Misticas-poesias</td>\n      <td>3</td>\n      <td>que</td>\n      <td>102</td>\n      <td>dar</td>\n      <td>2</td>\n      <td>pobre</td>\n      <td>1</td>\n      <td>mundo</td>\n      <td>6</td>\n      <td>(the, united, states)</td>\n      <td>14</td>\n    </tr>\n    <tr>\n      <th>24</th>\n      <td>ResenaVeridicaDeLaRevolucionFilipina</td>\n      <td>1</td>\n      <td>de</td>\n      <td>785</td>\n      <td>hacer</td>\n      <td>13</td>\n      <td>nuevo</td>\n      <td>10</td>\n      <td>tiempo</td>\n      <td>16</td>\n      <td>(the, project, gutenberg)</td>\n      <td>20</td>\n    </tr>\n    <tr>\n      <th>25</th>\n      <td>ResenaVeridicaDeLaRevolucionFilipina</td>\n      <td>2</td>\n      <td>la</td>\n      <td>378</td>\n      <td>poder</td>\n      <td>11</td>\n      <td>grande</td>\n      <td>4</td>\n      <td>parte</td>\n      <td>15</td>\n      <td>(project, gutenberg™, electronic)</td>\n      <td>18</td>\n    </tr>\n    <tr>\n      <th>26</th>\n      <td>ResenaVeridicaDeLaRevolucionFilipina</td>\n      <td>3</td>\n      <td>que</td>\n      <td>354</td>\n      <td>ser</td>\n      <td>6</td>\n      <td>fácil</td>\n      <td>1</td>\n      <td>día</td>\n      <td>13</td>\n      <td>(el, almirante, dewey)</td>\n      <td>16</td>\n    </tr>\n    <tr>\n      <th>27</th>\n      <td>Tragedias</td>\n      <td>1</td>\n      <td>de</td>\n      <td>4418</td>\n      <td>ser</td>\n      <td>84</td>\n      <td>grande</td>\n      <td>29</td>\n      <td>casa</td>\n      <td>104</td>\n      <td>(de, los, dioses)</td>\n      <td>77</td>\n    </tr>\n    <tr>\n      <th>28</th>\n      <td>Tragedias</td>\n      <td>2</td>\n      <td>que</td>\n      <td>2895</td>\n      <td>hacer</td>\n      <td>53</td>\n      <td>triste</td>\n      <td>28</td>\n      <td>hombre</td>\n      <td>94</td>\n      <td>(de, la, tierra)</td>\n      <td>47</td>\n    </tr>\n    <tr>\n      <th>29</th>\n      <td>Tragedias</td>\n      <td>3</td>\n      <td>la</td>\n      <td>2182</td>\n      <td>ver</td>\n      <td>46</td>\n      <td>nuevo</td>\n      <td>21</td>\n      <td>vida</td>\n      <td>81</td>\n      <td>(ay, de, mí)</td>\n      <td>43</td>\n    </tr>\n  </tbody>\n</table>\n</div>"
     },
     "execution_count": 25,
     "metadata": {},
     "output_type": "execute_result"
    }
   ],
   "source": [
    "df"
   ],
   "metadata": {
    "collapsed": false,
    "ExecuteTime": {
     "end_time": "2024-02-23T18:46:34.211257Z",
     "start_time": "2024-02-23T18:46:34.194054800Z"
    }
   },
   "id": "a2e6ba261980ccf5",
   "execution_count": 25
  },
  {
   "cell_type": "code",
   "outputs": [],
   "source": [
    "sc.stop()"
   ],
   "metadata": {
    "collapsed": false,
    "ExecuteTime": {
     "end_time": "2024-02-23T18:46:35.162771Z",
     "start_time": "2024-02-23T18:46:34.211257Z"
    }
   },
   "id": "56c5c1b402698cd7",
   "execution_count": 26
  }
 ],
 "metadata": {
  "kernelspec": {
   "display_name": "Python 3",
   "language": "python",
   "name": "python3"
  },
  "language_info": {
   "codemirror_mode": {
    "name": "ipython",
    "version": 2
   },
   "file_extension": ".py",
   "mimetype": "text/x-python",
   "name": "python",
   "nbconvert_exporter": "python",
   "pygments_lexer": "ipython2",
   "version": "2.7.6"
  }
 },
 "nbformat": 4,
 "nbformat_minor": 5
}
