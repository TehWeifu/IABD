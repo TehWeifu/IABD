{
 "cells": [
  {
   "cell_type": "markdown",
   "source": [
    "Ejercicio 1"
   ],
   "metadata": {
    "collapsed": false
   },
   "id": "6c9f141f92dfaab7"
  },
  {
   "cell_type": "markdown",
   "source": [
    "Crea una lista con estas ciudades:\n",
    " • Edensville.\n",
    " • Easthaven.\n",
    " • Herrero.\n",
    " • Goldenvale.\n",
    " • Holdenspring.\n",
    " • Bluerose.\n",
    " • Brickwyte.\n",
    " • Toolville. "
   ],
   "metadata": {
    "collapsed": false
   },
   "id": "4bb1678c4134ac52"
  },
  {
   "cell_type": "markdown",
   "source": [
    "1. Selecciona solo con las ciudades que tengan la letra 'o' en su nombre y muéstralas. "
   ],
   "metadata": {
    "collapsed": false
   },
   "id": "dbec43ce50cdb79a"
  },
  {
   "cell_type": "code",
   "execution_count": 56,
   "outputs": [],
   "source": [
    "from pyspark import SparkContext"
   ],
   "metadata": {
    "collapsed": false,
    "ExecuteTime": {
     "end_time": "2023-12-15T18:39:58.709445900Z",
     "start_time": "2023-12-15T18:39:58.699082800Z"
    }
   },
   "id": "df0a23a4258a6c9"
  },
  {
   "cell_type": "code",
   "execution_count": 57,
   "outputs": [],
   "source": [
    "sc = SparkContext(\"local\", \"Number RDD App\")"
   ],
   "metadata": {
    "collapsed": false,
    "ExecuteTime": {
     "end_time": "2023-12-15T18:39:58.771044Z",
     "start_time": "2023-12-15T18:39:58.712567900Z"
    }
   },
   "id": "6c76adfd8ce329ca"
  },
  {
   "cell_type": "code",
   "execution_count": 58,
   "id": "initial_id",
   "metadata": {
    "collapsed": true,
    "ExecuteTime": {
     "end_time": "2023-12-15T18:39:58.781770700Z",
     "start_time": "2023-12-15T18:39:58.772573Z"
    }
   },
   "outputs": [],
   "source": [
    "cities = [\"Edensville\", \"Easthaven\", \"Herrero\", \"Goldenvale\", \"Holdenspring\", \"Bluerose\", \"Brickwyte\",\n",
    "          \"Toolville\"]\n",
    "\n",
    "rdd_cities = sc.parallelize(cities)"
   ]
  },
  {
   "cell_type": "code",
   "execution_count": 59,
   "outputs": [
    {
     "name": "stdout",
     "output_type": "stream",
     "text": [
      "['Herrero', 'Goldenvale', 'Holdenspring', 'Bluerose', 'Toolville']\n"
     ]
    }
   ],
   "source": [
    "rdd_cities_with_o = rdd_cities.filter(lambda city: \"o\" in city)\n",
    "print(rdd_cities_with_o.collect())"
   ],
   "metadata": {
    "collapsed": false,
    "ExecuteTime": {
     "end_time": "2023-12-15T18:39:59.370852800Z",
     "start_time": "2023-12-15T18:39:58.779748400Z"
    }
   },
   "id": "8eef08855d7a498b"
  },
  {
   "cell_type": "code",
   "execution_count": 60,
   "outputs": [],
   "source": [
    "sc.stop()"
   ],
   "metadata": {
    "collapsed": false,
    "ExecuteTime": {
     "end_time": "2023-12-15T18:40:00.375165200Z",
     "start_time": "2023-12-15T18:39:59.367615600Z"
    }
   },
   "id": "b69a2d4dc1386d6c"
  }
 ],
 "metadata": {
  "kernelspec": {
   "display_name": "Python 3",
   "language": "python",
   "name": "python3"
  },
  "language_info": {
   "codemirror_mode": {
    "name": "ipython",
    "version": 2
   },
   "file_extension": ".py",
   "mimetype": "text/x-python",
   "name": "python",
   "nbconvert_exporter": "python",
   "pygments_lexer": "ipython2",
   "version": "2.7.6"
  }
 },
 "nbformat": 4,
 "nbformat_minor": 5
}
