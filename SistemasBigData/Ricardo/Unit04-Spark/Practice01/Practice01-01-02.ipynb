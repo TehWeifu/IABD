{
 "cells": [
  {
   "cell_type": "markdown",
   "source": [
    "Ejercicio 1"
   ],
   "metadata": {
    "collapsed": false
   },
   "id": "6c9f141f92dfaab7"
  },
  {
   "cell_type": "markdown",
   "source": [
    "Crea una lista con estas ciudades:\n",
    " • Edensville.\n",
    " • Easthaven.\n",
    " • Herrero.\n",
    " • Goldenvale.\n",
    " • Holdenspring.\n",
    " • Bluerose.\n",
    " • Brickwyte.\n",
    " • Toolville. "
   ],
   "metadata": {
    "collapsed": false
   },
   "id": "4bb1678c4134ac52"
  },
  {
   "cell_type": "markdown",
   "source": [
    "2. Muestra las ciudades que tienen la letra 'e' y muestra el número de veces que aparece en cada nombre. Un resultado es (Bluerose,2) "
   ],
   "metadata": {
    "collapsed": false
   },
   "id": "dbec43ce50cdb79a"
  },
  {
   "cell_type": "code",
   "execution_count": 22,
   "outputs": [],
   "source": [
    "from pyspark import SparkContext"
   ],
   "metadata": {
    "collapsed": false,
    "ExecuteTime": {
     "end_time": "2023-12-15T18:16:16.127493200Z",
     "start_time": "2023-12-15T18:16:16.118554200Z"
    }
   },
   "id": "df0a23a4258a6c9"
  },
  {
   "cell_type": "code",
   "execution_count": 23,
   "outputs": [],
   "source": [
    "sc = SparkContext(\"local\", \"Number RDD App\")"
   ],
   "metadata": {
    "collapsed": false,
    "ExecuteTime": {
     "end_time": "2023-12-15T18:16:16.191408300Z",
     "start_time": "2023-12-15T18:16:16.121147100Z"
    }
   },
   "id": "6c76adfd8ce329ca"
  },
  {
   "cell_type": "code",
   "execution_count": 24,
   "id": "initial_id",
   "metadata": {
    "collapsed": true,
    "ExecuteTime": {
     "end_time": "2023-12-15T18:16:16.197840600Z",
     "start_time": "2023-12-15T18:16:16.191408300Z"
    }
   },
   "outputs": [],
   "source": [
    "cities = [\"Edensville\", \"Easthaven\", \"Herrero\", \"Goldenvale\", \"Holdenspring\", \"Bluerose\", \"Brickwyte\",\n",
    "          \"Toolville\"]\n",
    "\n",
    "rdd_cities = sc.parallelize(cities)"
   ]
  },
  {
   "cell_type": "code",
   "execution_count": 25,
   "outputs": [
    {
     "name": "stdout",
     "output_type": "stream",
     "text": [
      "City Edensville has 2 'e' letters.\n",
      "City Easthaven has 1 'e' letters.\n",
      "City Herrero has 2 'e' letters.\n",
      "City Goldenvale has 2 'e' letters.\n",
      "City Holdenspring has 1 'e' letters.\n",
      "City Bluerose has 2 'e' letters.\n",
      "City Brickwyte has 1 'e' letters.\n",
      "City Toolville has 1 'e' letters.\n"
     ]
    }
   ],
   "source": [
    "rdd_cities_with_e = rdd_cities.filter(lambda city: \"e\" in city)\n",
    "rdd_cities_count_with_e = rdd_cities_with_e.map(lambda city: (city, city.count(\"e\")))\n",
    "for city_count in rdd_cities_count_with_e.collect():\n",
    "    print(f\"City {city_count[0]} has {city_count[1]} 'e' letters.\")"
   ],
   "metadata": {
    "collapsed": false,
    "ExecuteTime": {
     "end_time": "2023-12-15T18:16:16.814801500Z",
     "start_time": "2023-12-15T18:16:16.198948Z"
    }
   },
   "id": "8eef08855d7a498b"
  },
  {
   "cell_type": "code",
   "execution_count": 26,
   "outputs": [],
   "source": [
    "sc.stop()"
   ],
   "metadata": {
    "collapsed": false,
    "ExecuteTime": {
     "end_time": "2023-12-15T18:16:17.816614700Z",
     "start_time": "2023-12-15T18:16:16.810526200Z"
    }
   },
   "id": "b69a2d4dc1386d6c"
  }
 ],
 "metadata": {
  "kernelspec": {
   "display_name": "Python 3",
   "language": "python",
   "name": "python3"
  },
  "language_info": {
   "codemirror_mode": {
    "name": "ipython",
    "version": 2
   },
   "file_extension": ".py",
   "mimetype": "text/x-python",
   "name": "python",
   "nbconvert_exporter": "python",
   "pygments_lexer": "ipython2",
   "version": "2.7.6"
  }
 },
 "nbformat": 4,
 "nbformat_minor": 5
}
