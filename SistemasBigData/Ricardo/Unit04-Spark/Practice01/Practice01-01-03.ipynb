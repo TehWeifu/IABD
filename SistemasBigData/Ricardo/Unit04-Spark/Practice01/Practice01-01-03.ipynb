{
 "cells": [
  {
   "cell_type": "markdown",
   "source": [
    "Ejercicio 1"
   ],
   "metadata": {
    "collapsed": false
   },
   "id": "6c9f141f92dfaab7"
  },
  {
   "cell_type": "markdown",
   "source": [
    "Crea una lista con estas ciudades:\n",
    " • Edensville.\n",
    " • Easthaven.\n",
    " • Herrero.\n",
    " • Goldenvale.\n",
    " • Holdenspring.\n",
    " • Bluerose.\n",
    " • Brickwyte.\n",
    " • Toolville. "
   ],
   "metadata": {
    "collapsed": false
   },
   "id": "4bb1678c4134ac52"
  },
  {
   "cell_type": "markdown",
   "source": [
    "3. ¿Podrías quedarte solamente con las ciudades que tengan una sola 'o'? "
   ],
   "metadata": {
    "collapsed": false
   },
   "id": "dbec43ce50cdb79a"
  },
  {
   "cell_type": "code",
   "execution_count": 11,
   "outputs": [],
   "source": [
    "from pyspark import SparkContext"
   ],
   "metadata": {
    "collapsed": false,
    "ExecuteTime": {
     "end_time": "2023-12-15T18:20:22.863766700Z",
     "start_time": "2023-12-15T18:20:22.859567400Z"
    }
   },
   "id": "df0a23a4258a6c9"
  },
  {
   "cell_type": "code",
   "execution_count": 12,
   "outputs": [],
   "source": [
    "sc = SparkContext(\"local\", \"Number RDD App\")"
   ],
   "metadata": {
    "collapsed": false,
    "ExecuteTime": {
     "end_time": "2023-12-15T18:20:22.939958900Z",
     "start_time": "2023-12-15T18:20:22.862715Z"
    }
   },
   "id": "6c76adfd8ce329ca"
  },
  {
   "cell_type": "code",
   "execution_count": 13,
   "id": "initial_id",
   "metadata": {
    "collapsed": true,
    "ExecuteTime": {
     "end_time": "2023-12-15T18:20:22.950259300Z",
     "start_time": "2023-12-15T18:20:22.940992300Z"
    }
   },
   "outputs": [],
   "source": [
    "cities = [\"Edensville\", \"Easthaven\", \"Herrero\", \"Goldenvale\", \"Holdenspring\", \"Bluerose\", \"Brickwyte\",\n",
    "          \"Toolville\"]\n",
    "\n",
    "rdd_cities = sc.parallelize(cities)"
   ]
  },
  {
   "cell_type": "code",
   "execution_count": 14,
   "outputs": [
    {
     "name": "stdout",
     "output_type": "stream",
     "text": [
      "['Herrero', 'Goldenvale', 'Holdenspring', 'Bluerose']\n"
     ]
    }
   ],
   "source": [
    "rdd_cities_with_o = rdd_cities.filter(lambda city: city.count(\"o\") == 1)\n",
    "print(rdd_cities_with_o.collect())"
   ],
   "metadata": {
    "collapsed": false,
    "ExecuteTime": {
     "end_time": "2023-12-15T18:20:23.579041100Z",
     "start_time": "2023-12-15T18:20:22.948259600Z"
    }
   },
   "id": "8eef08855d7a498b"
  },
  {
   "cell_type": "code",
   "execution_count": 15,
   "outputs": [],
   "source": [
    "sc.stop()"
   ],
   "metadata": {
    "collapsed": false,
    "ExecuteTime": {
     "end_time": "2023-12-15T18:20:24.559509100Z",
     "start_time": "2023-12-15T18:20:23.575852100Z"
    }
   },
   "id": "b69a2d4dc1386d6c"
  }
 ],
 "metadata": {
  "kernelspec": {
   "display_name": "Python 3",
   "language": "python",
   "name": "python3"
  },
  "language_info": {
   "codemirror_mode": {
    "name": "ipython",
    "version": 2
   },
   "file_extension": ".py",
   "mimetype": "text/x-python",
   "name": "python",
   "nbconvert_exporter": "python",
   "pygments_lexer": "ipython2",
   "version": "2.7.6"
  }
 },
 "nbformat": 4,
 "nbformat_minor": 5
}
