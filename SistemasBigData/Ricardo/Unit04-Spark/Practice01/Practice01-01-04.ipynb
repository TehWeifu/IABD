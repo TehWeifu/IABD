{
 "cells": [
  {
   "cell_type": "markdown",
   "source": [
    "Ejercicio 1"
   ],
   "metadata": {
    "collapsed": false
   },
   "id": "6c9f141f92dfaab7"
  },
  {
   "cell_type": "markdown",
   "source": [
    "El cliente te ha proporcionado esta lista ciudades mal concatenadas.  CiudadesMal = [['Goldenvale. Toolville','Valencia',' Easthaven. Holdenspring','Bilbao. Holdenspring'],[ 'Edensville', 'Bluerose','Melilla. Herrero']] "
   ],
   "metadata": {
    "collapsed": false
   },
   "id": "4bb1678c4134ac52"
  },
  {
   "cell_type": "markdown",
   "source": [
    "4. Contar cuantas 'o' hay en cada ciudad"
   ],
   "metadata": {
    "collapsed": false
   },
   "id": "dbec43ce50cdb79a"
  },
  {
   "cell_type": "code",
   "execution_count": 58,
   "outputs": [],
   "source": [
    "from pyspark import SparkContext"
   ],
   "metadata": {
    "collapsed": false,
    "ExecuteTime": {
     "end_time": "2023-12-15T18:40:21.326908700Z",
     "start_time": "2023-12-15T18:40:21.317959300Z"
    }
   },
   "id": "df0a23a4258a6c9"
  },
  {
   "cell_type": "code",
   "execution_count": 59,
   "outputs": [],
   "source": [
    "sc = SparkContext(\"local\", \"Number RDD App\")"
   ],
   "metadata": {
    "collapsed": false,
    "ExecuteTime": {
     "end_time": "2023-12-15T18:40:21.384509600Z",
     "start_time": "2023-12-15T18:40:21.320507800Z"
    }
   },
   "id": "6c76adfd8ce329ca"
  },
  {
   "cell_type": "code",
   "execution_count": 60,
   "id": "initial_id",
   "metadata": {
    "collapsed": true,
    "ExecuteTime": {
     "end_time": "2023-12-15T18:40:21.389950700Z",
     "start_time": "2023-12-15T18:40:21.384509600Z"
    }
   },
   "outputs": [],
   "source": [
    "cities = [['Goldenvale. Toolville', 'Valencia', ' Easthaven. Holdenspring', 'Bilbao. Holdenspring'],\n",
    "          ['Edensville', 'Bluerose', 'Melilla. Herrero']]\n",
    "\n",
    "rdd_cities = sc.parallelize(cities)"
   ]
  },
  {
   "cell_type": "code",
   "execution_count": 61,
   "outputs": [],
   "source": [
    "def accumulate_cities(arr, city):\n",
    "    cities = city.split('.')\n",
    "    for city_tmp in cities:\n",
    "        arr.append(city_tmp)"
   ],
   "metadata": {
    "collapsed": false,
    "ExecuteTime": {
     "end_time": "2023-12-15T18:40:21.395881Z",
     "start_time": "2023-12-15T18:40:21.392263200Z"
    }
   },
   "id": "aca573ca12d8ddbe"
  },
  {
   "cell_type": "code",
   "execution_count": 62,
   "outputs": [],
   "source": [
    "rdd_cities_flatted = rdd_cities.flatMap(lambda arr: arr)\n",
    "rdd_cities_flatted = rdd_cities_flatted.flatMap(lambda line: line.split(\".\"))\n",
    "rdd_cities_flatted = rdd_cities_flatted.map(lambda city: city.strip())"
   ],
   "metadata": {
    "collapsed": false,
    "ExecuteTime": {
     "end_time": "2023-12-15T18:40:21.402146800Z",
     "start_time": "2023-12-15T18:40:21.393769800Z"
    }
   },
   "id": "8eef08855d7a498b"
  },
  {
   "cell_type": "code",
   "execution_count": 63,
   "outputs": [
    {
     "name": "stdout",
     "output_type": "stream",
     "text": [
      "City Goldenvale has 1 'o' letters.\n",
      "City Toolville has 2 'o' letters.\n",
      "City Valencia has 0 'o' letters.\n",
      "City Easthaven has 0 'o' letters.\n",
      "City Holdenspring has 1 'o' letters.\n",
      "City Bilbao has 1 'o' letters.\n",
      "City Holdenspring has 1 'o' letters.\n",
      "City Edensville has 0 'o' letters.\n",
      "City Bluerose has 1 'o' letters.\n",
      "City Melilla has 0 'o' letters.\n",
      "City Herrero has 1 'o' letters.\n"
     ]
    }
   ],
   "source": [
    "rdd_cities_count_o = rdd_cities_flatted.map(lambda city: (city, city.count(\"o\")))\n",
    "for city_count in rdd_cities_count_o.collect():\n",
    "    print(f\"City {city_count[0]} has {city_count[1]} 'o' letters.\")"
   ],
   "metadata": {
    "collapsed": false,
    "ExecuteTime": {
     "end_time": "2023-12-15T18:40:21.999635600Z",
     "start_time": "2023-12-15T18:40:21.401135700Z"
    }
   },
   "id": "331d9563d8d456da"
  },
  {
   "cell_type": "code",
   "execution_count": 64,
   "outputs": [],
   "source": [
    "sc.stop()"
   ],
   "metadata": {
    "collapsed": false,
    "ExecuteTime": {
     "end_time": "2023-12-15T18:40:22.995513Z",
     "start_time": "2023-12-15T18:40:21.995080700Z"
    }
   },
   "id": "b69a2d4dc1386d6c"
  }
 ],
 "metadata": {
  "kernelspec": {
   "display_name": "Python 3",
   "language": "python",
   "name": "python3"
  },
  "language_info": {
   "codemirror_mode": {
    "name": "ipython",
    "version": 2
   },
   "file_extension": ".py",
   "mimetype": "text/x-python",
   "name": "python",
   "nbconvert_exporter": "python",
   "pygments_lexer": "ipython2",
   "version": "2.7.6"
  }
 },
 "nbformat": 4,
 "nbformat_minor": 5
}
