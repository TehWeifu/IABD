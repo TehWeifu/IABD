{
 "cells": [
  {
   "cell_type": "markdown",
   "source": [
    " Ejercicio 2"
   ],
   "metadata": {
    "collapsed": false
   },
   "id": "3b274f61c3734b4b"
  },
  {
   "cell_type": "markdown",
   "source": [
    "Generar una lista de nombres aleatorios con las siguientes características: \n",
    "    • 4 nombres que empiecen por C \n",
    "    • 2 nombres que empiecen por L \n",
    "    • 5 nombres que empiecen R \n",
    "    • Podéis añadir otros nombres con cualquier inicial (al gusto)  "
   ],
   "metadata": {
    "collapsed": false
   },
   "id": "7e59ab662936fd32"
  },
  {
   "cell_type": "markdown",
   "source": [
    "1. Agrupar los nombres según su inicial. El resultado debe salir algo parecido a: \n",
    "    a. C cxxx,cxxx,cxxx,cxxx \n",
    "    b. L lxxxx,lxxxx\n",
    "    c. R Rxxx.Rxxx,Rxxxx,Rxxxx,Rxxxx"
   ],
   "metadata": {
    "collapsed": false
   },
   "id": "fb0896dabe61404c"
  },
  {
   "cell_type": "code",
   "execution_count": 18,
   "id": "initial_id",
   "metadata": {
    "collapsed": true,
    "ExecuteTime": {
     "end_time": "2023-12-22T17:33:45.164214900Z",
     "start_time": "2023-12-22T17:33:45.152441100Z"
    }
   },
   "outputs": [],
   "source": [
    "from pyspark import SparkContext"
   ]
  },
  {
   "cell_type": "code",
   "outputs": [],
   "source": [
    "sc = SparkContext(\"local\", \"Number RDD App\")"
   ],
   "metadata": {
    "collapsed": false,
    "ExecuteTime": {
     "end_time": "2023-12-22T17:33:45.237687200Z",
     "start_time": "2023-12-22T17:33:45.168139500Z"
    }
   },
   "id": "be3b4c09e807addf",
   "execution_count": 19
  },
  {
   "cell_type": "code",
   "outputs": [],
   "source": [
    "names = [\n",
    "    \"Carl Johnson\",\n",
    "    \"Camaron\",\n",
    "    \"Cecilio G\",\n",
    "    \"Canserbero\",\n",
    "    \"Canserbero\",\n",
    "    \"Lady Gaga\",\n",
    "    \"Lil peep\",\n",
    "    \"Rosalia\",\n",
    "    \"Rihanna\",\n",
    "    \"Ramoncin\",\n",
    "    \"Robin\",\n",
    "    \"Reifield\",\n",
    "]\n",
    "\n",
    "rdd_names = sc.parallelize(names)"
   ],
   "metadata": {
    "collapsed": false,
    "ExecuteTime": {
     "end_time": "2023-12-22T17:33:45.250217600Z",
     "start_time": "2023-12-22T17:33:45.239668500Z"
    }
   },
   "id": "cf3a33caca247c35",
   "execution_count": 20
  },
  {
   "cell_type": "code",
   "outputs": [
    {
     "name": "stdout",
     "output_type": "stream",
     "text": [
      "C Carla, Camaron, Cecilio G, Canserbero, Canserbero\n",
      "L Lady Gaga, Lil peep\n",
      "R Rosalia, Rihanna, Ramoncin, Robin, Reifield\n"
     ]
    }
   ],
   "source": [
    "rdd_grouped = rdd_names.groupBy(lambda name: name[0])\n",
    "\n",
    "for group in rdd_grouped.collect():\n",
    "    print(f\"{group[0]} {', '.join(group[1])}\")"
   ],
   "metadata": {
    "collapsed": false,
    "ExecuteTime": {
     "end_time": "2023-12-22T17:33:47.033826900Z",
     "start_time": "2023-12-22T17:33:45.246292900Z"
    }
   },
   "id": "f86ed64d13bb14e9",
   "execution_count": 21
  },
  {
   "cell_type": "code",
   "outputs": [],
   "source": [
    "sc.stop()"
   ],
   "metadata": {
    "collapsed": false,
    "ExecuteTime": {
     "end_time": "2023-12-22T17:33:48.019050200Z",
     "start_time": "2023-12-22T17:33:47.030499900Z"
    }
   },
   "id": "60288f06ff4935c0",
   "execution_count": 22
  }
 ],
 "metadata": {
  "kernelspec": {
   "display_name": "Python 3",
   "language": "python",
   "name": "python3"
  },
  "language_info": {
   "codemirror_mode": {
    "name": "ipython",
    "version": 2
   },
   "file_extension": ".py",
   "mimetype": "text/x-python",
   "name": "python",
   "nbconvert_exporter": "python",
   "pygments_lexer": "ipython2",
   "version": "2.7.6"
  }
 },
 "nbformat": 4,
 "nbformat_minor": 5
}
