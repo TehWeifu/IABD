{
 "cells": [
  {
   "cell_type": "markdown",
   "source": [
    " Ejercicio 2"
   ],
   "metadata": {
    "collapsed": false
   },
   "id": "3b274f61c3734b4b"
  },
  {
   "cell_type": "markdown",
   "source": [
    "Generar una lista de nombres aleatorios con las siguientes características: \n",
    "    • 4 nombres que empiecen por C \n",
    "    • 2 nombres que empiecen por L \n",
    "    • 5 nombres que empiecen R \n",
    "    • Podéis añadir otros nombres con cualquier inicial (al gusto)"
   ],
   "metadata": {
    "collapsed": false
   },
   "id": "7e59ab662936fd32"
  },
  {
   "cell_type": "markdown",
   "source": [
    "2. Sacad los siguientes muestreos: \n",
    "    a. De la lista original sacad la agrupación más pequeña posible \n",
    "    b. De la lista original sacad la agrupación que se aproxime a la mitad de la lista  \n",
    "    c. De la lista original sacad la agrupación más grande"
   ],
   "metadata": {
    "collapsed": false
   },
   "id": "fb0896dabe61404c"
  },
  {
   "cell_type": "code",
   "execution_count": 39,
   "id": "initial_id",
   "metadata": {
    "collapsed": true,
    "ExecuteTime": {
     "end_time": "2023-12-22T17:43:27.917555500Z",
     "start_time": "2023-12-22T17:43:27.910686800Z"
    }
   },
   "outputs": [],
   "source": [
    "from pyspark import SparkContext"
   ]
  },
  {
   "cell_type": "code",
   "outputs": [],
   "source": [
    "sc = SparkContext(\"local\", \"Number RDD App\")"
   ],
   "metadata": {
    "collapsed": false,
    "ExecuteTime": {
     "end_time": "2023-12-22T17:43:27.979030400Z",
     "start_time": "2023-12-22T17:43:27.912653800Z"
    }
   },
   "id": "be3b4c09e807addf",
   "execution_count": 40
  },
  {
   "cell_type": "code",
   "outputs": [],
   "source": [
    "names = [\n",
    "    \"Carl Johnson\",\n",
    "    \"Camaron\",\n",
    "    \"Cecilio G\",\n",
    "    \"Canserbero\",\n",
    "    \"Lady Gaga\",\n",
    "    \"Lil peep\",\n",
    "    \"Rosalia\",\n",
    "    \"Rihanna\",\n",
    "    \"Ramoncin\",\n",
    "    \"Robin\",\n",
    "    \"Reifield\",\n",
    "]\n",
    "\n",
    "rdd_names = sc.parallelize(names)"
   ],
   "metadata": {
    "collapsed": false,
    "ExecuteTime": {
     "end_time": "2023-12-22T17:43:27.990213500Z",
     "start_time": "2023-12-22T17:43:27.980994500Z"
    }
   },
   "id": "cf3a33caca247c35",
   "execution_count": 41
  },
  {
   "cell_type": "code",
   "outputs": [
    {
     "name": "stdout",
     "output_type": "stream",
     "text": [
      "La lista de nombres con menos elementos es: Lady Gaga, Lil peep\n",
      "La lista de nombres en la mitad de la lista: Carla, Camaron, Cecilio G, Canserbero\n",
      "La lista de nombres con mas elementos es: Rosalia, Rihanna, Ramoncin, Robin, Reifield\n"
     ]
    }
   ],
   "source": [
    "rdd_grouped = rdd_names.groupBy(lambda name: name[0])\n",
    "rdd_sorted = rdd_grouped.sortBy(lambda x: len(x[1]))\n",
    "names_sorted = rdd_sorted.collect()\n",
    "\n",
    "print(f\"La lista de nombres con menos elementos es: {', '.join(names_sorted[0][1])}\")\n",
    "print(\n",
    "    f\"La lista de nombres en la mitad de la lista: {', '.join(names_sorted[len(names_sorted) // 2][1])}\"\n",
    ")\n",
    "print(f\"La lista de nombres con mas elementos es: {', '.join(names_sorted[-1][1])}\")"
   ],
   "metadata": {
    "collapsed": false,
    "ExecuteTime": {
     "end_time": "2023-12-22T17:43:29.144254600Z",
     "start_time": "2023-12-22T17:43:27.989233500Z"
    }
   },
   "id": "f86ed64d13bb14e9",
   "execution_count": 42
  },
  {
   "cell_type": "code",
   "outputs": [],
   "source": [
    "sc.stop()"
   ],
   "metadata": {
    "collapsed": false,
    "ExecuteTime": {
     "end_time": "2023-12-22T17:43:30.136416800Z",
     "start_time": "2023-12-22T17:43:29.139735400Z"
    }
   },
   "id": "60288f06ff4935c0",
   "execution_count": 43
  }
 ],
 "metadata": {
  "kernelspec": {
   "display_name": "Python 3",
   "language": "python",
   "name": "python3"
  },
  "language_info": {
   "codemirror_mode": {
    "name": "ipython",
    "version": 2
   },
   "file_extension": ".py",
   "mimetype": "text/x-python",
   "name": "python",
   "nbconvert_exporter": "python",
   "pygments_lexer": "ipython2",
   "version": "2.7.6"
  }
 },
 "nbformat": 4,
 "nbformat_minor": 5
}
