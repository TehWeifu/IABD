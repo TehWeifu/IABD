{
 "cells": [
  {
   "cell_type": "markdown",
   "source": [
    "Ejercicio 3"
   ],
   "metadata": {
    "collapsed": false
   },
   "id": "3b274f61c3734b4b"
  },
  {
   "cell_type": "markdown",
   "source": [
    "Dada las listas de palabras en estos 2 idiomas:  \n",
    "    ● Inglés: hello, table, Xenon, cat, dog, animal, social,dark,doctor,hospital,computer, Usual ,chat, messages,  \n",
    "    ● Español: hola,mesa, Xenon,gato,perro,animal, social ,oscuro, doctor,hospital,ordenador, Usual ,chat "
   ],
   "metadata": {
    "collapsed": false
   },
   "id": "7e59ab662936fd32"
  },
  {
   "cell_type": "markdown",
   "source": [
    "1. Obtén las palabras que se dicen igual en inglés y en español "
   ],
   "metadata": {
    "collapsed": false
   },
   "id": "fb0896dabe61404c"
  },
  {
   "cell_type": "code",
   "execution_count": 23,
   "id": "initial_id",
   "metadata": {
    "collapsed": true,
    "ExecuteTime": {
     "end_time": "2023-12-22T18:02:29.087817800Z",
     "start_time": "2023-12-22T18:02:29.078234500Z"
    }
   },
   "outputs": [],
   "source": [
    "from pyspark import SparkContext"
   ]
  },
  {
   "cell_type": "code",
   "outputs": [],
   "source": [
    "sc = SparkContext(\"local\", \"Number RDD App\")"
   ],
   "metadata": {
    "collapsed": false,
    "ExecuteTime": {
     "end_time": "2023-12-22T18:02:29.150491200Z",
     "start_time": "2023-12-22T18:02:29.080949400Z"
    }
   },
   "id": "be3b4c09e807addf",
   "execution_count": 24
  },
  {
   "cell_type": "code",
   "outputs": [],
   "source": [
    "words_english = ['hello', 'table', 'Xenon', 'cat', 'dog', 'animal', 'social', 'dark', 'doctor', 'hospital', 'computer',\n",
    "                 'Usual', 'chat', 'messages']\n",
    "words_spanish = ['hola', 'mesa', 'Xenon', 'gato', 'perro', 'animal', 'social', 'oscuro', 'doctor', 'hospital',\n",
    "                 'ordenadorx', 'Usual', 'chat']"
   ],
   "metadata": {
    "collapsed": false,
    "ExecuteTime": {
     "end_time": "2023-12-22T18:02:29.156567Z",
     "start_time": "2023-12-22T18:02:29.151474100Z"
    }
   },
   "id": "cf3a33caca247c35",
   "execution_count": 25
  },
  {
   "cell_type": "code",
   "outputs": [
    {
     "name": "stdout",
     "output_type": "stream",
     "text": [
      "The list of words that are written the same in both languages are: Xenon, doctor, animal, social, hospital, Usual, chat.\n"
     ]
    }
   ],
   "source": [
    "rdd_english = sc.parallelize(words_english)\n",
    "rdd_spanish = sc.parallelize(words_spanish)\n",
    "rdd_intersection = rdd_english.intersection(rdd_spanish)\n",
    "\n",
    "print(f\"The list of words that are written the same in both languages are: {', '.join(rdd_intersection.collect())}.\")"
   ],
   "metadata": {
    "collapsed": false,
    "ExecuteTime": {
     "end_time": "2023-12-22T18:02:32.305286300Z",
     "start_time": "2023-12-22T18:02:29.155587100Z"
    }
   },
   "id": "f86ed64d13bb14e9",
   "execution_count": 26
  },
  {
   "cell_type": "code",
   "outputs": [],
   "source": [
    "sc.stop()"
   ],
   "metadata": {
    "collapsed": false,
    "ExecuteTime": {
     "end_time": "2023-12-22T18:02:33.297177700Z",
     "start_time": "2023-12-22T18:02:32.298733200Z"
    }
   },
   "id": "60288f06ff4935c0",
   "execution_count": 27
  }
 ],
 "metadata": {
  "kernelspec": {
   "display_name": "Python 3",
   "language": "python",
   "name": "python3"
  },
  "language_info": {
   "codemirror_mode": {
    "name": "ipython",
    "version": 2
   },
   "file_extension": ".py",
   "mimetype": "text/x-python",
   "name": "python",
   "nbconvert_exporter": "python",
   "pygments_lexer": "ipython2",
   "version": "2.7.6"
  }
 },
 "nbformat": 4,
 "nbformat_minor": 5
}
