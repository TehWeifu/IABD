{
 "cells": [
  {
   "cell_type": "markdown",
   "source": [
    "Ejercicio 3"
   ],
   "metadata": {
    "collapsed": false
   },
   "id": "3b274f61c3734b4b"
  },
  {
   "cell_type": "markdown",
   "source": [
    "Dada las listas de palabras en estos 2 idiomas:  \n",
    "    ● Inglés: hello, table, Xenon, cat, dog, animal, social,dark,doctor,hospital,computer, Usual ,chat, messages,  \n",
    "    ● Español: hola,mesa, Xenon,gato,perro,animal, social ,oscuro, doctor,hospital,ordenador, Usual ,chat "
   ],
   "metadata": {
    "collapsed": false
   },
   "id": "7e59ab662936fd32"
  },
  {
   "cell_type": "markdown",
   "source": [
    "3. Obtén una única lista con las palabras en ambos idiomas, que son distintas entre ellas"
   ],
   "metadata": {
    "collapsed": false
   },
   "id": "fb0896dabe61404c"
  },
  {
   "cell_type": "code",
   "execution_count": 7,
   "id": "initial_id",
   "metadata": {
    "collapsed": true,
    "ExecuteTime": {
     "end_time": "2023-12-22T18:31:48.794840800Z",
     "start_time": "2023-12-22T18:31:48.787886200Z"
    }
   },
   "outputs": [],
   "source": [
    "from pyspark import SparkContext"
   ]
  },
  {
   "cell_type": "code",
   "outputs": [],
   "source": [
    "sc = SparkContext(\"local\", \"Number RDD App\")"
   ],
   "metadata": {
    "collapsed": false,
    "ExecuteTime": {
     "end_time": "2023-12-22T18:31:48.869631200Z",
     "start_time": "2023-12-22T18:31:48.789894100Z"
    }
   },
   "id": "be3b4c09e807addf",
   "execution_count": 8
  },
  {
   "cell_type": "code",
   "outputs": [],
   "source": [
    "words_english = ['hello', 'table', 'Xenon', 'cat', 'dog', 'animal', 'social', 'dark', 'doctor', 'hospital', 'computer',\n",
    "                 'Usual', 'chat', 'messages']\n",
    "words_spanish = ['hola', 'mesa', 'Xenon', 'gato', 'perro', 'animal', 'social', 'oscuro', 'doctor', 'hospital',\n",
    "                 'ordenadorx', 'Usual', 'chat']"
   ],
   "metadata": {
    "collapsed": false,
    "ExecuteTime": {
     "end_time": "2023-12-22T18:31:48.875325700Z",
     "start_time": "2023-12-22T18:31:48.869631200Z"
    }
   },
   "id": "cf3a33caca247c35",
   "execution_count": 9
  },
  {
   "cell_type": "code",
   "outputs": [
    {
     "name": "stdout",
     "output_type": "stream",
     "text": [
      "The list of unique words are: mesa, perro, ordenadorx, hola, gato, oscuro, hello, table, dog, messages, cat, dark, computer.\n"
     ]
    }
   ],
   "source": [
    "rdd_english = sc.parallelize(words_english)\n",
    "rdd_spanish = sc.parallelize(words_spanish)\n",
    "rdd_unique_english = rdd_english.subtract(rdd_spanish)\n",
    "rdd_unique_spanish = rdd_spanish.subtract(rdd_english)\n",
    "rdd_unique = rdd_unique_spanish.union(rdd_unique_english)\n",
    "\n",
    "print(\n",
    "    f\"The list of unique words are: {', '.join(rdd_unique.collect())}.\"\n",
    ")"
   ],
   "metadata": {
    "collapsed": false,
    "ExecuteTime": {
     "end_time": "2023-12-22T18:31:55.553247700Z",
     "start_time": "2023-12-22T18:31:48.875325700Z"
    }
   },
   "id": "f86ed64d13bb14e9",
   "execution_count": 10
  },
  {
   "cell_type": "code",
   "outputs": [],
   "source": [
    "sc.stop()"
   ],
   "metadata": {
    "collapsed": false,
    "ExecuteTime": {
     "end_time": "2023-12-22T18:31:56.544459300Z",
     "start_time": "2023-12-22T18:31:55.547359700Z"
    }
   },
   "id": "60288f06ff4935c0",
   "execution_count": 11
  }
 ],
 "metadata": {
  "kernelspec": {
   "display_name": "Python 3",
   "language": "python",
   "name": "python3"
  },
  "language_info": {
   "codemirror_mode": {
    "name": "ipython",
    "version": 2
   },
   "file_extension": ".py",
   "mimetype": "text/x-python",
   "name": "python",
   "nbconvert_exporter": "python",
   "pygments_lexer": "ipython2",
   "version": "2.7.6"
  }
 },
 "nbformat": 4,
 "nbformat_minor": 5
}
