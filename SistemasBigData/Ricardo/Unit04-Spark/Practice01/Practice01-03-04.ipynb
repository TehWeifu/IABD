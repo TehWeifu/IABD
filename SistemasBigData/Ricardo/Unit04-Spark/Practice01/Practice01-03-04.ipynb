{
 "cells": [
  {
   "cell_type": "markdown",
   "source": [
    "Ejercicio 3"
   ],
   "metadata": {
    "collapsed": false
   },
   "id": "3b274f61c3734b4b"
  },
  {
   "cell_type": "markdown",
   "source": [
    "Dada las listas de palabras en estos 2 idiomas:  \n",
    "    ● Inglés: hello, table, Xenon, cat, dog, animal, social,dark,doctor,hospital,computer, Usual ,chat, messages,  \n",
    "    ● Español: hola,mesa, Xenon,gato,perro,animal, social ,oscuro, doctor,hospital,ordenador, Usual ,chat "
   ],
   "metadata": {
    "collapsed": false
   },
   "id": "7e59ab662936fd32"
  },
  {
   "cell_type": "markdown",
   "source": [
    "4. Haz dos grupos con todas las palabras, uno con las que empiezan por vocal y otro que empiecen por consonante "
   ],
   "metadata": {
    "collapsed": false
   },
   "id": "fb0896dabe61404c"
  },
  {
   "cell_type": "code",
   "execution_count": 23,
   "id": "initial_id",
   "metadata": {
    "collapsed": true,
    "ExecuteTime": {
     "end_time": "2023-12-22T18:18:58.068713500Z",
     "start_time": "2023-12-22T18:18:58.059377400Z"
    }
   },
   "outputs": [],
   "source": [
    "from pyspark import SparkContext\n",
    "import re"
   ]
  },
  {
   "cell_type": "code",
   "outputs": [],
   "source": [
    "sc = SparkContext(\"local\", \"Number RDD App\")"
   ],
   "metadata": {
    "collapsed": false,
    "ExecuteTime": {
     "end_time": "2023-12-22T18:18:58.135011500Z",
     "start_time": "2023-12-22T18:18:58.061842500Z"
    }
   },
   "id": "be3b4c09e807addf",
   "execution_count": 24
  },
  {
   "cell_type": "code",
   "outputs": [],
   "source": [
    "words_english = ['hello', 'table', 'Xenon', 'cat', 'dog', 'animal', 'social', 'dark', 'doctor', 'hospital', 'computer',\n",
    "                 'Usual', 'chat', 'messages']\n",
    "words_spanish = ['hola', 'mesa', 'Xenon', 'gato', 'perro', 'animal', 'social', 'oscuro', 'doctor', 'hospital',\n",
    "                 'ordenadorx', 'Usual', 'chat']"
   ],
   "metadata": {
    "collapsed": false,
    "ExecuteTime": {
     "end_time": "2023-12-22T18:18:58.143544800Z",
     "start_time": "2023-12-22T18:18:58.135993200Z"
    }
   },
   "id": "cf3a33caca247c35",
   "execution_count": 25
  },
  {
   "cell_type": "code",
   "outputs": [
    {
     "name": "stdout",
     "output_type": "stream",
     "text": [
      "The list of words that start with vowel are: ordenadorx, animal, oscuro, Usual.\n",
      "The list of words that start with consonant are: mesa, Xenon, perro, doctor, hello, table, dog, messages, hola, gato, social, hospital, chat, cat, dark, computer.\n"
     ]
    }
   ],
   "source": [
    "rdd_english = sc.parallelize(words_english)\n",
    "rdd_spanish = sc.parallelize(words_spanish)\n",
    "rdd_unique_words = rdd_spanish.union(rdd_english).distinct()\n",
    "rdd_words_grouped = rdd_unique_words.groupBy(lambda x: re.match(r'^[AEIOU]', x, re.IGNORECASE) is not None)\n",
    "\n",
    "print(\n",
    "    f\"The list of words that start with vowel are: {', '.join(rdd_words_grouped.collect()[1][1])}.\"\n",
    ")\n",
    "print(\n",
    "    f\"The list of words that start with consonant are: {', '.join(rdd_words_grouped.collect()[0][1])}.\"\n",
    ")"
   ],
   "metadata": {
    "collapsed": false,
    "ExecuteTime": {
     "end_time": "2023-12-22T18:19:03.640051800Z",
     "start_time": "2023-12-22T18:18:58.140600900Z"
    }
   },
   "id": "f86ed64d13bb14e9",
   "execution_count": 26
  },
  {
   "cell_type": "code",
   "outputs": [],
   "source": [
    "sc.stop()"
   ],
   "metadata": {
    "collapsed": false,
    "ExecuteTime": {
     "end_time": "2023-12-22T18:19:04.637143600Z",
     "start_time": "2023-12-22T18:19:03.640051800Z"
    }
   },
   "id": "60288f06ff4935c0",
   "execution_count": 27
  }
 ],
 "metadata": {
  "kernelspec": {
   "display_name": "Python 3",
   "language": "python",
   "name": "python3"
  },
  "language_info": {
   "codemirror_mode": {
    "name": "ipython",
    "version": 2
   },
   "file_extension": ".py",
   "mimetype": "text/x-python",
   "name": "python",
   "nbconvert_exporter": "python",
   "pygments_lexer": "ipython2",
   "version": "2.7.6"
  }
 },
 "nbformat": 4,
 "nbformat_minor": 5
}
