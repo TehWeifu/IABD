{
 "cells": [
  {
   "cell_type": "markdown",
   "source": [
    "Ejercicio 4"
   ],
   "metadata": {
    "collapsed": false
   },
   "id": "3b274f61c3734b4b"
  },
  {
   "cell_type": "markdown",
   "source": [
    "Dada una lista de números generados  \n",
    "    lista = 10, 25, 51, 82, 44, 2, 100, 43, 57, 29, 24, 16, 93, 1, 75, 51, 57, 30, 42, 80, 4, 30, 18,\n",
    "     54, 67, 42, 85, 1, 3, 1, 8, 12, 8, 8, 10, 5, 10, 15, 2, 6, 1, 7, 13, 12, 14, 13, 6, 13, 9, 3, 5 "
   ],
   "metadata": {
    "collapsed": false
   },
   "id": "7e59ab662936fd32"
  },
  {
   "cell_type": "markdown",
   "source": [
    "2. Ordena los elementos "
   ],
   "metadata": {
    "collapsed": false
   },
   "id": "fb0896dabe61404c"
  },
  {
   "cell_type": "code",
   "execution_count": 2,
   "id": "initial_id",
   "metadata": {
    "collapsed": true,
    "ExecuteTime": {
     "end_time": "2023-12-22T18:36:54.754390600Z",
     "start_time": "2023-12-22T18:36:54.600228300Z"
    }
   },
   "outputs": [],
   "source": [
    "from pyspark import SparkContext"
   ]
  },
  {
   "cell_type": "code",
   "outputs": [],
   "source": [
    "sc = SparkContext(\"local\", \"Number RDD App\")"
   ],
   "metadata": {
    "collapsed": false,
    "ExecuteTime": {
     "end_time": "2023-12-22T18:36:57.276406400Z",
     "start_time": "2023-12-22T18:36:54.756357900Z"
    }
   },
   "id": "be3b4c09e807addf",
   "execution_count": 3
  },
  {
   "cell_type": "code",
   "outputs": [],
   "source": [
    "numbers = [10, 25, 51, 82, 44, 2, 100, 43, 57, 29, 24, 16, 93, 1, 75, 51, 57, 30, 42, 80, 4, 30, 18,\n",
    "           54, 67, 42, 85, 1, 3, 1, 8, 12, 8, 8, 10, 5, 10, 15, 2, 6, 1, 7, 13, 12, 14, 13, 6, 13, 9, 3, 5]"
   ],
   "metadata": {
    "collapsed": false,
    "ExecuteTime": {
     "end_time": "2023-12-22T18:36:57.283731800Z",
     "start_time": "2023-12-22T18:36:57.277388800Z"
    }
   },
   "id": "cf3a33caca247c35",
   "execution_count": 4
  },
  {
   "cell_type": "code",
   "outputs": [
    {
     "name": "stdout",
     "output_type": "stream",
     "text": [
      "The numbers sorted is: [1, 1, 1, 1, 2, 2, 3, 3, 4, 5, 5, 6, 6, 7, 8, 8, 8, 9, 10, 10, 10, 12, 12, 13, 13, 13, 14, 15, 16, 18, 24, 25, 29, 30, 30, 42, 42, 43, 44, 51, 51, 54, 57, 57, 67, 75, 80, 82, 85, 93, 100]\n"
     ]
    }
   ],
   "source": [
    "rdd_numbers_sorted = sc.parallelize(numbers).sortBy(lambda x: x)\n",
    "\n",
    "print(f\"The numbers sorted are: {rdd_numbers_sorted.collect()}\")"
   ],
   "metadata": {
    "collapsed": false,
    "ExecuteTime": {
     "end_time": "2023-12-22T18:37:38.489279100Z",
     "start_time": "2023-12-22T18:37:37.886237400Z"
    }
   },
   "id": "f86ed64d13bb14e9",
   "execution_count": 7
  },
  {
   "cell_type": "code",
   "outputs": [],
   "source": [
    "sc.stop()"
   ],
   "metadata": {
    "collapsed": false,
    "ExecuteTime": {
     "start_time": "2023-12-22T18:36:57.492550700Z"
    }
   },
   "id": "60288f06ff4935c0",
   "execution_count": null
  }
 ],
 "metadata": {
  "kernelspec": {
   "display_name": "Python 3",
   "language": "python",
   "name": "python3"
  },
  "language_info": {
   "codemirror_mode": {
    "name": "ipython",
    "version": 2
   },
   "file_extension": ".py",
   "mimetype": "text/x-python",
   "name": "python",
   "nbconvert_exporter": "python",
   "pygments_lexer": "ipython2",
   "version": "2.7.6"
  }
 },
 "nbformat": 4,
 "nbformat_minor": 5
}
