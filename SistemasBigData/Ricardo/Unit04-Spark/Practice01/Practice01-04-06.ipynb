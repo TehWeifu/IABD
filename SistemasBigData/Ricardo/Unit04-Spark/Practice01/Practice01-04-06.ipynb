{
 "cells": [
  {
   "cell_type": "markdown",
   "source": [
    "Ejercicio 4"
   ],
   "metadata": {
    "collapsed": false
   },
   "id": "3b274f61c3734b4b"
  },
  {
   "cell_type": "markdown",
   "source": [
    "Dada una lista de números generados  \n",
    "    lista = 10, 25, 51, 82, 44, 2, 100, 43, 57, 29, 24, 16, 93, 1, 75, 51, 57, 30, 42, 80, 4, 30, 18,\n",
    "     54, 67, 42, 85, 1, 3, 1, 8, 12, 8, 8, 10, 5, 10, 15, 2, 6, 1, 7, 13, 12, 14, 13, 6, 13, 9, 3, 5 "
   ],
   "metadata": {
    "collapsed": false
   },
   "id": "7e59ab662936fd32"
  },
  {
   "cell_type": "markdown",
   "source": [
    "6. Genera una lista aleatoria y realiza un producto cartesiano"
   ],
   "metadata": {
    "collapsed": false
   },
   "id": "fb0896dabe61404c"
  },
  {
   "cell_type": "code",
   "execution_count": 1,
   "id": "initial_id",
   "metadata": {
    "collapsed": true,
    "ExecuteTime": {
     "end_time": "2023-12-22T18:43:40.149878800Z",
     "start_time": "2023-12-22T18:43:40.028481300Z"
    }
   },
   "outputs": [],
   "source": [
    "from pyspark import SparkContext"
   ]
  },
  {
   "cell_type": "code",
   "outputs": [],
   "source": [
    "sc = SparkContext(\"local\", \"Number RDD App\")"
   ],
   "metadata": {
    "collapsed": false,
    "ExecuteTime": {
     "end_time": "2023-12-22T18:43:42.565065300Z",
     "start_time": "2023-12-22T18:43:40.149878800Z"
    }
   },
   "id": "be3b4c09e807addf",
   "execution_count": 2
  },
  {
   "cell_type": "code",
   "outputs": [],
   "source": [
    "numbers = [10, 25, 51, 82, 44, 2, 100, 43, 57, 29, 24, 16, 93, 1, 75, 51, 57, 30, 42, 80, 4, 30, 18,\n",
    "           54, 67, 42, 85, 1, 3, 1, 8, 12, 8, 8, 10, 5, 10, 15, 2, 6, 1, 7, 13, 12, 14, 13, 6, 13, 9, 3, 5]\n",
    "\n",
    "random_numbers = [1, 2, 3, 4, 5]"
   ],
   "metadata": {
    "collapsed": false,
    "ExecuteTime": {
     "end_time": "2023-12-22T18:43:42.571013200Z",
     "start_time": "2023-12-22T18:43:42.566047100Z"
    }
   },
   "id": "cf3a33caca247c35",
   "execution_count": 3
  },
  {
   "cell_type": "code",
   "outputs": [
    {
     "name": "stdout",
     "output_type": "stream",
     "text": [
      "The maximum number is: [(10, 1), (10, 2), (10, 3), (10, 4), (10, 5), (25, 1), (25, 2), (25, 3), (25, 4), (25, 5), (51, 1), (51, 2), (51, 3), (51, 4), (51, 5), (82, 1), (82, 2), (82, 3), (82, 4), (82, 5), (44, 1), (44, 2), (44, 3), (44, 4), (44, 5), (2, 1), (2, 2), (2, 3), (2, 4), (2, 5), (100, 1), (100, 2), (100, 3), (100, 4), (100, 5), (43, 1), (43, 2), (43, 3), (43, 4), (43, 5), (57, 1), (57, 2), (57, 3), (57, 4), (57, 5), (29, 1), (29, 2), (29, 3), (29, 4), (29, 5), (24, 1), (24, 2), (24, 3), (24, 4), (24, 5), (16, 1), (16, 2), (16, 3), (16, 4), (16, 5), (93, 1), (93, 2), (93, 3), (93, 4), (93, 5), (1, 1), (1, 2), (1, 3), (1, 4), (1, 5), (75, 1), (75, 2), (75, 3), (75, 4), (75, 5), (51, 1), (51, 2), (51, 3), (51, 4), (51, 5), (57, 1), (57, 2), (57, 3), (57, 4), (57, 5), (30, 1), (30, 2), (30, 3), (30, 4), (30, 5), (42, 1), (42, 2), (42, 3), (42, 4), (42, 5), (80, 1), (80, 2), (80, 3), (80, 4), (80, 5), (4, 1), (4, 2), (4, 3), (4, 4), (4, 5), (30, 1), (30, 2), (30, 3), (30, 4), (30, 5), (18, 1), (18, 2), (18, 3), (18, 4), (18, 5), (54, 1), (54, 2), (54, 3), (54, 4), (54, 5), (67, 1), (67, 2), (67, 3), (67, 4), (67, 5), (42, 1), (42, 2), (42, 3), (42, 4), (42, 5), (85, 1), (85, 2), (85, 3), (85, 4), (85, 5), (1, 1), (1, 2), (1, 3), (1, 4), (1, 5), (3, 1), (3, 2), (3, 3), (3, 4), (3, 5), (1, 1), (1, 2), (1, 3), (1, 4), (1, 5), (8, 1), (8, 2), (8, 3), (8, 4), (8, 5), (12, 1), (12, 2), (12, 3), (12, 4), (12, 5), (8, 1), (8, 2), (8, 3), (8, 4), (8, 5), (8, 1), (8, 2), (8, 3), (8, 4), (8, 5), (10, 1), (10, 2), (10, 3), (10, 4), (10, 5), (5, 1), (5, 2), (5, 3), (5, 4), (5, 5), (10, 1), (10, 2), (10, 3), (10, 4), (10, 5), (15, 1), (15, 2), (15, 3), (15, 4), (15, 5), (2, 1), (2, 2), (2, 3), (2, 4), (2, 5), (6, 1), (6, 2), (6, 3), (6, 4), (6, 5), (1, 1), (1, 2), (1, 3), (1, 4), (1, 5), (7, 1), (7, 2), (7, 3), (7, 4), (7, 5), (13, 1), (13, 2), (13, 3), (13, 4), (13, 5), (12, 1), (12, 2), (12, 3), (12, 4), (12, 5), (14, 1), (14, 2), (14, 3), (14, 4), (14, 5), (13, 1), (13, 2), (13, 3), (13, 4), (13, 5), (6, 1), (6, 2), (6, 3), (6, 4), (6, 5), (13, 1), (13, 2), (13, 3), (13, 4), (13, 5), (9, 1), (9, 2), (9, 3), (9, 4), (9, 5), (3, 1), (3, 2), (3, 3), (3, 4), (3, 5), (5, 1), (5, 2), (5, 3), (5, 4), (5, 5)]\n"
     ]
    }
   ],
   "source": [
    "rdd_numbers = sc.parallelize(numbers)\n",
    "rdd_random_numbers = sc.parallelize(random_numbers)\n",
    "\n",
    "print(f\"The cartesian product of the list is number is: {rdd_numbers.cartesian(rdd_random_numbers).collect()}\")"
   ],
   "metadata": {
    "collapsed": false,
    "ExecuteTime": {
     "end_time": "2023-12-22T18:43:43.067757600Z",
     "start_time": "2023-12-22T18:43:42.569051700Z"
    }
   },
   "id": "f86ed64d13bb14e9",
   "execution_count": 4
  },
  {
   "cell_type": "code",
   "outputs": [],
   "source": [
    "sc.stop()"
   ],
   "metadata": {
    "collapsed": false,
    "ExecuteTime": {
     "end_time": "2023-12-22T18:43:43.547239800Z",
     "start_time": "2023-12-22T18:43:43.063140Z"
    }
   },
   "id": "60288f06ff4935c0",
   "execution_count": 5
  }
 ],
 "metadata": {
  "kernelspec": {
   "display_name": "Python 3",
   "language": "python",
   "name": "python3"
  },
  "language_info": {
   "codemirror_mode": {
    "name": "ipython",
    "version": 2
   },
   "file_extension": ".py",
   "mimetype": "text/x-python",
   "name": "python",
   "nbconvert_exporter": "python",
   "pygments_lexer": "ipython2",
   "version": "2.7.6"
  }
 },
 "nbformat": 4,
 "nbformat_minor": 5
}
