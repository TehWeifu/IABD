{
 "cells": [
  {
   "cell_type": "markdown",
   "source": [
    "Ejercicio 4"
   ],
   "metadata": {
    "collapsed": false
   },
   "id": "3b274f61c3734b4b"
  },
  {
   "cell_type": "markdown",
   "source": [
    "Dada una lista de números generados  \n",
    "    lista = 10, 25, 51, 82, 44, 2, 100, 43, 57, 29, 24, 16, 93, 1, 75, 51, 57, 30, 42, 80, 4, 30, 18,\n",
    "     54, 67, 42, 85, 1, 3, 1, 8, 12, 8, 8, 10, 5, 10, 15, 2, 6, 1, 7, 13, 12, 14, 13, 6, 13, 9, 3, 5 "
   ],
   "metadata": {
    "collapsed": false
   },
   "id": "7e59ab662936fd32"
  },
  {
   "cell_type": "markdown",
   "source": [
    "8. Para cada elemento aplicad el siguiente algoritmo \n",
    "    ▪ Multiplicarlo por 3 \n",
    "    ▪ Sumar 6 \n",
    "    ▪ Dividir 3 \n",
    "    ▪ Restar el valor del elemento"
   ],
   "metadata": {
    "collapsed": false
   },
   "id": "fb0896dabe61404c"
  },
  {
   "cell_type": "code",
   "execution_count": 7,
   "id": "initial_id",
   "metadata": {
    "collapsed": true,
    "ExecuteTime": {
     "end_time": "2023-12-22T18:49:57.547481Z",
     "start_time": "2023-12-22T18:49:57.538580200Z"
    }
   },
   "outputs": [],
   "source": [
    "from pyspark import SparkContext"
   ]
  },
  {
   "cell_type": "code",
   "outputs": [],
   "source": [
    "sc = SparkContext(\"local\", \"Number RDD App\")"
   ],
   "metadata": {
    "collapsed": false,
    "ExecuteTime": {
     "end_time": "2023-12-22T18:49:57.627831400Z",
     "start_time": "2023-12-22T18:49:57.550425400Z"
    }
   },
   "id": "be3b4c09e807addf",
   "execution_count": 8
  },
  {
   "cell_type": "code",
   "outputs": [],
   "source": [
    "numbers = [10, 25, 51, 82, 44, 2, 100, 43, 57, 29, 24, 16, 93, 1, 75, 51, 57, 30, 42, 80, 4, 30, 18,\n",
    "           54, 67, 42, 85, 1, 3, 1, 8, 12, 8, 8, 10, 5, 10, 15, 2, 6, 1, 7, 13, 12, 14, 13, 6, 13, 9, 3, 5]"
   ],
   "metadata": {
    "collapsed": false,
    "ExecuteTime": {
     "end_time": "2023-12-22T18:49:57.634507100Z",
     "start_time": "2023-12-22T18:49:57.627831400Z"
    }
   },
   "id": "cf3a33caca247c35",
   "execution_count": 9
  },
  {
   "cell_type": "code",
   "outputs": [],
   "source": [
    "def map_number(num):\n",
    "    number_to_return = num\n",
    "\n",
    "    number_to_return = number_to_return * 3\n",
    "    number_to_return = number_to_return + 6\n",
    "    number_to_return = number_to_return / 3\n",
    "    number_to_return = number_to_return - num\n",
    "\n",
    "    return number_to_return"
   ],
   "metadata": {
    "collapsed": false,
    "ExecuteTime": {
     "end_time": "2023-12-22T18:49:57.641376100Z",
     "start_time": "2023-12-22T18:49:57.631831200Z"
    }
   },
   "id": "9017955627cb770f",
   "execution_count": 10
  },
  {
   "cell_type": "code",
   "outputs": [
    {
     "name": "stdout",
     "output_type": "stream",
     "text": [
      "The numbers mapped are: [2.0, 2.0, 2.0, 2.0, 2.0, 2.0, 2.0, 2.0, 2.0, 2.0, 2.0, 2.0, 2.0, 2.0, 2.0, 2.0, 2.0, 2.0, 2.0, 2.0, 2.0, 2.0, 2.0, 2.0, 2.0, 2.0, 2.0, 2.0, 2.0, 2.0, 2.0, 2.0, 2.0, 2.0, 2.0, 2.0, 2.0, 2.0, 2.0, 2.0, 2.0, 2.0, 2.0, 2.0, 2.0, 2.0, 2.0, 2.0, 2.0, 2.0, 2.0]\n"
     ]
    }
   ],
   "source": [
    "rdd_numbers = sc.parallelize(numbers)\n",
    "rdd_numbers_mapped = rdd_numbers.map(map_number)\n",
    "\n",
    "print(f\"The numbers mapped are: {rdd_numbers_mapped.collect()}\")"
   ],
   "metadata": {
    "collapsed": false,
    "ExecuteTime": {
     "end_time": "2023-12-22T18:49:58.250946800Z",
     "start_time": "2023-12-22T18:49:57.637452Z"
    }
   },
   "id": "f86ed64d13bb14e9",
   "execution_count": 11
  },
  {
   "cell_type": "code",
   "outputs": [],
   "source": [
    "sc.stop()"
   ],
   "metadata": {
    "collapsed": false,
    "ExecuteTime": {
     "end_time": "2023-12-22T18:49:59.241399700Z",
     "start_time": "2023-12-22T18:49:58.245223800Z"
    }
   },
   "id": "60288f06ff4935c0",
   "execution_count": 12
  }
 ],
 "metadata": {
  "kernelspec": {
   "display_name": "Python 3",
   "language": "python",
   "name": "python3"
  },
  "language_info": {
   "codemirror_mode": {
    "name": "ipython",
    "version": 2
   },
   "file_extension": ".py",
   "mimetype": "text/x-python",
   "name": "python",
   "nbconvert_exporter": "python",
   "pygments_lexer": "ipython2",
   "version": "2.7.6"
  }
 },
 "nbformat": 4,
 "nbformat_minor": 5
}
