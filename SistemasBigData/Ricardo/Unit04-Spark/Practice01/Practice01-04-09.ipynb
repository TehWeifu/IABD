{
 "cells": [
  {
   "cell_type": "markdown",
   "source": [
    "Ejercicio 4"
   ],
   "metadata": {
    "collapsed": false
   },
   "id": "3b274f61c3734b4b"
  },
  {
   "cell_type": "markdown",
   "source": [
    "Dada una lista de números generados  \n",
    "    lista = 10, 25, 51, 82, 44, 2, 100, 43, 57, 29, 24, 16, 93, 1, 75, 51, 57, 30, 42, 80, 4, 30, 18,\n",
    "     54, 67, 42, 85, 1, 3, 1, 8, 12, 8, 8, 10, 5, 10, 15, 2, 6, 1, 7, 13, 12, 14, 13, 6, 13, 9, 3, 5 "
   ],
   "metadata": {
    "collapsed": false
   },
   "id": "7e59ab662936fd32"
  },
  {
   "cell_type": "markdown",
   "source": [
    "9. Con el resultado del apartado 7 ¿Podéis hacer magia y sacar un valor único? "
   ],
   "metadata": {
    "collapsed": false
   },
   "id": "fb0896dabe61404c"
  },
  {
   "cell_type": "code",
   "execution_count": 1,
   "id": "initial_id",
   "metadata": {
    "collapsed": true,
    "ExecuteTime": {
     "end_time": "2023-12-22T18:45:47.016235800Z",
     "start_time": "2023-12-22T18:45:46.884442Z"
    }
   },
   "outputs": [],
   "source": [
    "from pyspark import SparkContext"
   ]
  },
  {
   "cell_type": "code",
   "outputs": [],
   "source": [
    "sc = SparkContext(\"local\", \"Number RDD App\")"
   ],
   "metadata": {
    "collapsed": false,
    "ExecuteTime": {
     "end_time": "2023-12-22T18:45:49.302040300Z",
     "start_time": "2023-12-22T18:45:47.017214100Z"
    }
   },
   "id": "be3b4c09e807addf",
   "execution_count": 2
  },
  {
   "cell_type": "code",
   "outputs": [],
   "source": [
    "numbers = [10, 25, 51, 82, 44, 2, 100, 43, 57, 29, 24, 16, 93, 1, 75, 51, 57, 30, 42, 80, 4, 30, 18,\n",
    "           54, 67, 42, 85, 1, 3, 1, 8, 12, 8, 8, 10, 5, 10, 15, 2, 6, 1, 7, 13, 12, 14, 13, 6, 13, 9, 3, 5]"
   ],
   "metadata": {
    "collapsed": false,
    "ExecuteTime": {
     "end_time": "2023-12-22T18:45:49.306724900Z",
     "start_time": "2023-12-22T18:45:49.303032100Z"
    }
   },
   "id": "cf3a33caca247c35",
   "execution_count": 3
  },
  {
   "cell_type": "code",
   "outputs": [
    {
     "name": "stdout",
     "output_type": "stream",
     "text": [
      "The sorted unique list is: [1, 2, 3, 4, 5, 6, 7, 8, 9, 10, 12, 13, 14, 15, 16, 18, 24, 25, 29, 30, 42, 43, 44, 51, 54, 57, 67, 75, 80, 82, 85, 93, 100]\n"
     ]
    }
   ],
   "source": [
    "rdd_numbers = sc.parallelize(numbers)\n",
    "rdd_numbers_unique_sorted = rdd_numbers.sortBy(lambda x: x).distinct()\n",
    "\n",
    "print(f\"The sorted unique list is: {rdd_numbers_unique_sorted.collect()}\")"
   ],
   "metadata": {
    "collapsed": false,
    "ExecuteTime": {
     "end_time": "2023-12-22T18:45:51.152495600Z",
     "start_time": "2023-12-22T18:45:49.306724900Z"
    }
   },
   "id": "f86ed64d13bb14e9",
   "execution_count": 4
  },
  {
   "cell_type": "code",
   "outputs": [],
   "source": [
    "sc.stop()"
   ],
   "metadata": {
    "collapsed": false,
    "ExecuteTime": {
     "end_time": "2023-12-22T18:45:52.138433500Z",
     "start_time": "2023-12-22T18:45:51.149553700Z"
    }
   },
   "id": "60288f06ff4935c0",
   "execution_count": 5
  }
 ],
 "metadata": {
  "kernelspec": {
   "display_name": "Python 3",
   "language": "python",
   "name": "python3"
  },
  "language_info": {
   "codemirror_mode": {
    "name": "ipython",
    "version": 2
   },
   "file_extension": ".py",
   "mimetype": "text/x-python",
   "name": "python",
   "nbconvert_exporter": "python",
   "pygments_lexer": "ipython2",
   "version": "2.7.6"
  }
 },
 "nbformat": 4,
 "nbformat_minor": 5
}
