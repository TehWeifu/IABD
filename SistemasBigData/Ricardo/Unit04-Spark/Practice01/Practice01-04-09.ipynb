{
 "cells": [
  {
   "cell_type": "markdown",
   "source": [
    "Ejercicio 4"
   ],
   "metadata": {
    "collapsed": false
   },
   "id": "3b274f61c3734b4b"
  },
  {
   "cell_type": "markdown",
   "source": [
    "Dada una lista de números generados  \n",
    "    lista = 10, 25, 51, 82, 44, 2, 100, 43, 57, 29, 24, 16, 93, 1, 75, 51, 57, 30, 42, 80, 4, 30, 18,\n",
    "     54, 67, 42, 85, 1, 3, 1, 8, 12, 8, 8, 10, 5, 10, 15, 2, 6, 1, 7, 13, 12, 14, 13, 6, 13, 9, 3, 5 "
   ],
   "metadata": {
    "collapsed": false
   },
   "id": "7e59ab662936fd32"
  },
  {
   "cell_type": "markdown",
   "source": [
    "9. Con el resultado del apartado 7 ¿Podéis hacer magia y sacar un valor único? "
   ],
   "metadata": {
    "collapsed": false
   },
   "id": "fb0896dabe61404c"
  },
  {
   "cell_type": "code",
   "execution_count": 21,
   "id": "initial_id",
   "metadata": {
    "collapsed": true,
    "ExecuteTime": {
     "end_time": "2024-01-25T18:08:09.230416300Z",
     "start_time": "2024-01-25T18:08:09.220243Z"
    }
   },
   "outputs": [],
   "source": [
    "from pyspark import SparkContext"
   ]
  },
  {
   "cell_type": "code",
   "outputs": [],
   "source": [
    "sc = SparkContext(\"local\", \"Number RDD App\")"
   ],
   "metadata": {
    "collapsed": false,
    "ExecuteTime": {
     "end_time": "2024-01-25T18:08:09.309095600Z",
     "start_time": "2024-01-25T18:08:09.234893300Z"
    }
   },
   "id": "be3b4c09e807addf",
   "execution_count": 22
  },
  {
   "cell_type": "code",
   "outputs": [],
   "source": [
    "numbers = [10, 25, 51, 82, 44, 2, 100, 43, 57, 29, 24, 16, 93, 1, 75, 51, 57, 30, 42, 80, 4, 30, 18,\n",
    "           54, 67, 42, 85, 1, 3, 1, 8, 12, 8, 8, 10, 5, 10, 15, 2, 6, 1, 7, 13, 12, 14, 13, 6, 13, 9, 3, 5]"
   ],
   "metadata": {
    "collapsed": false,
    "ExecuteTime": {
     "end_time": "2024-01-25T18:08:09.317253400Z",
     "start_time": "2024-01-25T18:08:09.310241600Z"
    }
   },
   "id": "cf3a33caca247c35",
   "execution_count": 23
  },
  {
   "cell_type": "code",
   "outputs": [],
   "source": [
    "def map_number(num):\n",
    "    number_to_return = num\n",
    "\n",
    "    number_to_return = number_to_return * 3\n",
    "    number_to_return = number_to_return + 6\n",
    "    number_to_return = number_to_return / 3\n",
    "    number_to_return = number_to_return * 0\n",
    "    number_to_return = number_to_return + 420\n",
    "\n",
    "    return number_to_return"
   ],
   "metadata": {
    "collapsed": false,
    "ExecuteTime": {
     "end_time": "2024-01-25T18:08:09.326584900Z",
     "start_time": "2024-01-25T18:08:09.313636200Z"
    }
   },
   "id": "6e37521dc7f826bd",
   "execution_count": 24
  },
  {
   "cell_type": "code",
   "outputs": [
    {
     "name": "stdout",
     "output_type": "stream",
     "text": [
      "The magic number is: 420.0\n"
     ]
    }
   ],
   "source": [
    "rdd_numbers = sc.parallelize(numbers)\n",
    "rdd_numbers_mapped = rdd_numbers.map(map_number)\n",
    "\n",
    "rdd_numbers_unique_sorted = rdd_numbers_mapped.sortBy(lambda x: x).distinct()\n",
    "\n",
    "print(f\"The magic number is: {rdd_numbers_unique_sorted.collect()[0]}\")"
   ],
   "metadata": {
    "collapsed": false,
    "ExecuteTime": {
     "end_time": "2024-01-25T18:08:10.591357800Z",
     "start_time": "2024-01-25T18:08:09.322245900Z"
    }
   },
   "id": "f86ed64d13bb14e9",
   "execution_count": 25
  },
  {
   "cell_type": "code",
   "outputs": [],
   "source": [
    "sc.stop()"
   ],
   "metadata": {
    "collapsed": false,
    "ExecuteTime": {
     "end_time": "2024-01-25T18:08:11.592664200Z",
     "start_time": "2024-01-25T18:08:10.584004500Z"
    }
   },
   "id": "60288f06ff4935c0",
   "execution_count": 26
  }
 ],
 "metadata": {
  "kernelspec": {
   "display_name": "Python 3",
   "language": "python",
   "name": "python3"
  },
  "language_info": {
   "codemirror_mode": {
    "name": "ipython",
    "version": 2
   },
   "file_extension": ".py",
   "mimetype": "text/x-python",
   "name": "python",
   "nbconvert_exporter": "python",
   "pygments_lexer": "ipython2",
   "version": "2.7.6"
  }
 },
 "nbformat": 4,
 "nbformat_minor": 5
}
