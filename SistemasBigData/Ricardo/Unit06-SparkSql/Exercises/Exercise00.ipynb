{
 "cells": [
  {
   "cell_type": "markdown",
   "source": [
    "### Ejercicio 0\n",
    "\n",
    "Vamos a generar nuestros propios datos de facturación para eso tenemos que usar el\n",
    "siguiente código "
   ],
   "metadata": {
    "collapsed": false
   },
   "id": "313edbe6ff82a820"
  },
  {
   "cell_type": "code",
   "execution_count": 1,
   "id": "initial_id",
   "metadata": {
    "collapsed": true,
    "ExecuteTime": {
     "end_time": "2024-02-23T18:06:55.910934700Z",
     "start_time": "2024-02-23T18:06:55.902563200Z"
    }
   },
   "outputs": [],
   "source": [
    "import csv\n",
    "import random\n",
    "import string\n",
    "\n",
    "facturas = []\n",
    "for i in range(100):\n",
    "    factura = {\n",
    "        'NumeroFactura': i + 1,\n",
    "        'Fecha': f'2023-03-{random.randint(1, 28):02d}',\n",
    "        'Cliente': ''.join(random.choices(string.ascii_uppercase + string.digits, k=10)),\n",
    "        'Producto': ''.join(random.choices(['Producto A', 'Producto B', 'Producto C'],\n",
    "                                           weights=[0.4, 0.4, 0.2], k=1)),\n",
    "        'Cantidad': random.randint(1, 10),\n",
    "        'PrecioUnitario': round(random.uniform(10, 100), 2),\n",
    "        'Total': 0\n",
    "    }\n",
    "    factura['Total'] = round(factura['Cantidad'] * factura['PrecioUnitario'], 2)\n",
    "    facturas.append(factura)\n",
    "with open('facturas.csv', mode='w', newline='') as file:\n",
    "    writer = csv.writer(file)\n",
    "    writer.writerow(['NumeroFactura', 'Fecha', 'Cliente', 'Producto', 'Cantidad', 'PrecioUnitario',\n",
    "                     'Total'])\n",
    "    for factura in facturas:\n",
    "        writer.writerow([factura['NumeroFactura'], factura['Fecha'], factura['Cliente'],\n",
    "                         factura['Producto'], factura['Cantidad'], factura['PrecioUnitario'], factura['Total']])"
   ]
  }
 ],
 "metadata": {
  "kernelspec": {
   "display_name": "Python 3",
   "language": "python",
   "name": "python3"
  },
  "language_info": {
   "codemirror_mode": {
    "name": "ipython",
    "version": 2
   },
   "file_extension": ".py",
   "mimetype": "text/x-python",
   "name": "python",
   "nbconvert_exporter": "python",
   "pygments_lexer": "ipython2",
   "version": "2.7.6"
  }
 },
 "nbformat": 4,
 "nbformat_minor": 5
}
