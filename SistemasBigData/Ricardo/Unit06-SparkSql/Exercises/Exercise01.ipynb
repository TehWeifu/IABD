{
 "cells": [
  {
   "cell_type": "markdown",
   "source": [
    "### Ejercicio 1\n",
    "Cargar el fichero CSV como un dataframe\n",
    "\n",
    "Ayuda:\n",
    "spark.read.csv"
   ],
   "metadata": {
    "collapsed": false
   },
   "id": "ebc93376b3fd1af8"
  },
  {
   "cell_type": "code",
   "outputs": [],
   "source": [
    "from pyspark.sql import SparkSession"
   ],
   "metadata": {
    "collapsed": false,
    "ExecuteTime": {
     "end_time": "2024-02-23T18:09:34.748129700Z",
     "start_time": "2024-02-23T18:09:34.744331100Z"
    }
   },
   "id": "7d75ca07d97be95d",
   "execution_count": 9
  },
  {
   "cell_type": "code",
   "outputs": [],
   "source": [
    "spark = SparkSession.builder.appName('Exercise01').getOrCreate()"
   ],
   "metadata": {
    "collapsed": false,
    "ExecuteTime": {
     "end_time": "2024-02-23T18:09:34.776729500Z",
     "start_time": "2024-02-23T18:09:34.748129700Z"
    }
   },
   "id": "578ce400d7d52aa2",
   "execution_count": 10
  },
  {
   "cell_type": "code",
   "execution_count": 11,
   "id": "initial_id",
   "metadata": {
    "collapsed": true,
    "ExecuteTime": {
     "end_time": "2024-02-23T18:09:34.877772300Z",
     "start_time": "2024-02-23T18:09:34.757897200Z"
    }
   },
   "outputs": [],
   "source": [
    "df = spark.read.csv('./facturas.csv', header=True)"
   ]
  },
  {
   "cell_type": "code",
   "outputs": [
    {
     "name": "stdout",
     "output_type": "stream",
     "text": [
      "+-------------+----------+----------+----------+--------+--------------+------+\n",
      "|NumeroFactura|     Fecha|   Cliente|  Producto|Cantidad|PrecioUnitario| Total|\n",
      "+-------------+----------+----------+----------+--------+--------------+------+\n",
      "|            1|2023-03-17|PW43GZS0PC|Producto C|       9|         93.54|841.86|\n",
      "|            2|2023-03-13|R67IG3SJPR|Producto B|       1|         84.08| 84.08|\n",
      "|            3|2023-03-25|BKOS5YY0QS|Producto A|       7|         38.85|271.95|\n",
      "|            4|2023-03-05|LN1IG4ZZVR|Producto A|       5|         43.74| 218.7|\n",
      "|            5|2023-03-16|3DW9PX8BK0|Producto A|       1|         73.91| 73.91|\n",
      "|            6|2023-03-26|MKRS44VGCR|Producto A|       9|         16.01|144.09|\n",
      "|            7|2023-03-22|YE3F4A41AE|Producto A|       5|         20.13|100.65|\n",
      "|            8|2023-03-13|B1KRGB0DXG|Producto A|       6|         76.51|459.06|\n",
      "|            9|2023-03-11|W33P8ZNYOB|Producto A|      10|         25.65| 256.5|\n",
      "|           10|2023-03-10|E7XD1VEO8E|Producto A|       8|         18.13|145.04|\n",
      "|           11|2023-03-12|09INNSH1OS|Producto A|       3|          85.0| 255.0|\n",
      "|           12|2023-03-10|UP0YQF57RQ|Producto A|       1|         82.19| 82.19|\n",
      "|           13|2023-03-24|7WGNLX8WLA|Producto B|       3|         22.09| 66.27|\n",
      "|           14|2023-03-06|31UGQV0TB6|Producto A|       5|         88.57|442.85|\n",
      "|           15|2023-03-03|YM9UIT0IT9|Producto B|       3|         36.36|109.08|\n",
      "|           16|2023-03-17|489E7H3YUD|Producto B|       2|          91.5| 183.0|\n",
      "|           17|2023-03-15|9G9BOTCFAC|Producto A|       8|         82.98|663.84|\n",
      "|           18|2023-03-07|LUEK2G2EY5|Producto A|       1|         86.78| 86.78|\n",
      "|           19|2023-03-04|IT195L50M8|Producto B|       5|         75.96| 379.8|\n",
      "|           20|2023-03-01|9E5DNLJ97B|Producto A|       9|         56.07|504.63|\n",
      "+-------------+----------+----------+----------+--------+--------------+------+\n"
     ]
    }
   ],
   "source": [
    "df.show()"
   ],
   "metadata": {
    "collapsed": false,
    "ExecuteTime": {
     "end_time": "2024-02-23T18:09:34.948880400Z",
     "start_time": "2024-02-23T18:09:34.872181400Z"
    }
   },
   "id": "af92e027a6fda69b",
   "execution_count": 12
  }
 ],
 "metadata": {
  "kernelspec": {
   "display_name": "Python 3",
   "language": "python",
   "name": "python3"
  },
  "language_info": {
   "codemirror_mode": {
    "name": "ipython",
    "version": 2
   },
   "file_extension": ".py",
   "mimetype": "text/x-python",
   "name": "python",
   "nbconvert_exporter": "python",
   "pygments_lexer": "ipython2",
   "version": "2.7.6"
  }
 },
 "nbformat": 4,
 "nbformat_minor": 5
}
