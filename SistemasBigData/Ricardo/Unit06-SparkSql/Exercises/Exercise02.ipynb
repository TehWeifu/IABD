{
 "cells": [
  {
   "cell_type": "markdown",
   "source": [
    "### Ejercicio 2\n",
    "Calcular el total de ventas por producto\n",
    "\n",
    "Ayuda:\n",
    "Funciones: Groupby y agg"
   ],
   "metadata": {
    "collapsed": false
   },
   "id": "e22f0db48838247a"
  },
  {
   "cell_type": "code",
   "execution_count": 1,
   "id": "initial_id",
   "metadata": {
    "collapsed": true,
    "ExecuteTime": {
     "end_time": "2024-02-23T18:12:13.172409Z",
     "start_time": "2024-02-23T18:12:13.023388800Z"
    }
   },
   "outputs": [],
   "source": [
    "from pyspark.sql import SparkSession"
   ]
  },
  {
   "cell_type": "code",
   "outputs": [],
   "source": [
    "spark = SparkSession.builder.appName('Exercise02').getOrCreate()"
   ],
   "metadata": {
    "collapsed": false,
    "ExecuteTime": {
     "end_time": "2024-02-23T18:12:15.833555Z",
     "start_time": "2024-02-23T18:12:13.173774700Z"
    }
   },
   "id": "d1729a228c935125",
   "execution_count": 2
  },
  {
   "cell_type": "code",
   "outputs": [],
   "source": [
    "df = spark.read.csv('./facturas.csv', header=True)"
   ],
   "metadata": {
    "collapsed": false,
    "ExecuteTime": {
     "end_time": "2024-02-23T18:12:18.829666800Z",
     "start_time": "2024-02-23T18:12:15.834560500Z"
    }
   },
   "id": "d3d89ab4305593de",
   "execution_count": 3
  },
  {
   "cell_type": "code",
   "outputs": [
    {
     "name": "stdout",
     "output_type": "stream",
     "text": [
      "+----------+------------------+\n",
      "|  Producto|        sum(Total)|\n",
      "+----------+------------------+\n",
      "|Producto A|11905.159999999998|\n",
      "|Producto B|          10016.23|\n",
      "|Producto C| 6122.120000000001|\n",
      "+----------+------------------+\n"
     ]
    }
   ],
   "source": [
    "df.groupby('Producto').agg({'Total': 'sum'}).show()"
   ],
   "metadata": {
    "collapsed": false,
    "ExecuteTime": {
     "end_time": "2024-02-23T18:12:19.539758600Z",
     "start_time": "2024-02-23T18:12:18.829666800Z"
    }
   },
   "id": "431c38cb9e68e61c",
   "execution_count": 4
  }
 ],
 "metadata": {
  "kernelspec": {
   "display_name": "Python 3",
   "language": "python",
   "name": "python3"
  },
  "language_info": {
   "codemirror_mode": {
    "name": "ipython",
    "version": 2
   },
   "file_extension": ".py",
   "mimetype": "text/x-python",
   "name": "python",
   "nbconvert_exporter": "python",
   "pygments_lexer": "ipython2",
   "version": "2.7.6"
  }
 },
 "nbformat": 4,
 "nbformat_minor": 5
}
