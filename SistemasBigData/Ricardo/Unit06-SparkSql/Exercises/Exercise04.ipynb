{
 "cells": [
  {
   "cell_type": "markdown",
   "source": [
    "Ejercicio 4\n",
    "Calcular el promedio de ventas diarias\n",
    "\n",
    "Ayuda:\n",
    "Convertir la columna Fecha a un tipo de dato Date\n",
    "df = df.withColumn(\"Fecha\", df[\"Fecha\"].cast(\"date\")) así tenemos el tipo convertido a date"
   ],
   "metadata": {
    "collapsed": false
   },
   "id": "3c769973d8430b3"
  },
  {
   "cell_type": "code",
   "execution_count": 7,
   "id": "initial_id",
   "metadata": {
    "collapsed": true,
    "ExecuteTime": {
     "end_time": "2024-02-23T18:16:57.542676100Z",
     "start_time": "2024-02-23T18:16:57.528865200Z"
    }
   },
   "outputs": [],
   "source": [
    "from pyspark.sql import SparkSession"
   ]
  },
  {
   "cell_type": "code",
   "outputs": [],
   "source": [
    "spark = SparkSession.builder.appName('Exercise04').getOrCreate()"
   ],
   "metadata": {
    "collapsed": false,
    "ExecuteTime": {
     "end_time": "2024-02-23T18:16:57.564742600Z",
     "start_time": "2024-02-23T18:16:57.546331300Z"
    }
   },
   "id": "34dc927ba5c82c5f",
   "execution_count": 8
  },
  {
   "cell_type": "code",
   "outputs": [],
   "source": [
    "df = spark.read.csv('./facturas.csv', header=True)"
   ],
   "metadata": {
    "collapsed": false,
    "ExecuteTime": {
     "end_time": "2024-02-23T18:16:57.670794500Z",
     "start_time": "2024-02-23T18:16:57.552614500Z"
    }
   },
   "id": "5d7204c2ee355c99",
   "execution_count": 9
  },
  {
   "cell_type": "code",
   "outputs": [],
   "source": [
    "df = df.withColumn(\"Fecha\", df[\"Fecha\"].cast(\"date\"))"
   ],
   "metadata": {
    "collapsed": false,
    "ExecuteTime": {
     "end_time": "2024-02-23T18:16:57.681312600Z",
     "start_time": "2024-02-23T18:16:57.670794500Z"
    }
   },
   "id": "b0c578686b92ef88",
   "execution_count": 10
  },
  {
   "cell_type": "code",
   "outputs": [
    {
     "name": "stdout",
     "output_type": "stream",
     "text": [
      "+----------+------------------+\n",
      "|     Fecha|        avg(Total)|\n",
      "+----------+------------------+\n",
      "|2023-03-12|281.67600000000004|\n",
      "|2023-03-24|199.68599999999998|\n",
      "|2023-03-04|           302.585|\n",
      "|2023-03-25|            394.81|\n",
      "|2023-03-26|            288.19|\n",
      "|2023-03-17|456.40250000000003|\n",
      "|2023-03-20|450.94500000000005|\n",
      "|2023-03-05|            182.81|\n",
      "|2023-03-27|286.38000000000005|\n",
      "|2023-03-09|372.40999999999997|\n",
      "|2023-03-21|             98.93|\n",
      "|2023-03-01| 347.6616666666667|\n",
      "|2023-03-14|            40.315|\n",
      "|2023-03-13|255.38600000000002|\n",
      "|2023-03-08| 411.4371428571429|\n",
      "|2023-03-11|           151.254|\n",
      "|2023-03-10|178.86249999999998|\n",
      "|2023-03-07|300.44500000000005|\n",
      "|2023-03-03|340.41333333333336|\n",
      "|2023-03-15|            403.23|\n",
      "+----------+------------------+\n"
     ]
    }
   ],
   "source": [
    "df.groupby('Fecha').agg({'Total':'avg'}).show()"
   ],
   "metadata": {
    "collapsed": false,
    "ExecuteTime": {
     "end_time": "2024-02-23T18:16:57.865136900Z",
     "start_time": "2024-02-23T18:16:57.681312600Z"
    }
   },
   "id": "cd5188b2e5eefb85",
   "execution_count": 11
  }
 ],
 "metadata": {
  "kernelspec": {
   "display_name": "Python 3",
   "language": "python",
   "name": "python3"
  },
  "language_info": {
   "codemirror_mode": {
    "name": "ipython",
    "version": 2
   },
   "file_extension": ".py",
   "mimetype": "text/x-python",
   "name": "python",
   "nbconvert_exporter": "python",
   "pygments_lexer": "ipython2",
   "version": "2.7.6"
  }
 },
 "nbformat": 4,
 "nbformat_minor": 5
}
