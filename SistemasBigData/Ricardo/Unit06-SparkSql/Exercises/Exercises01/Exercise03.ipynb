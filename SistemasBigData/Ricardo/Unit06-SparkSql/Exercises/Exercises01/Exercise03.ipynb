{
 "cells": [
  {
   "cell_type": "markdown",
   "source": [
    "Ejercicio 3\n",
    "Encontrar el cliente con mayor número de ventas\n",
    "\n",
    "Ayuda:\n",
    "Functiones: Groupby ,count y order by "
   ],
   "metadata": {
    "collapsed": false
   },
   "id": "3c769973d8430b3"
  },
  {
   "cell_type": "code",
   "execution_count": 1,
   "id": "initial_id",
   "metadata": {
    "collapsed": true,
    "ExecuteTime": {
     "end_time": "2024-02-23T18:14:23.794613600Z",
     "start_time": "2024-02-23T18:14:23.646438300Z"
    }
   },
   "outputs": [],
   "source": [
    "from pyspark.sql import SparkSession"
   ]
  },
  {
   "cell_type": "code",
   "outputs": [],
   "source": [
    "spark = SparkSession.builder.appName('Exercise03').getOrCreate()"
   ],
   "metadata": {
    "collapsed": false,
    "ExecuteTime": {
     "end_time": "2024-02-23T18:14:26.442665200Z",
     "start_time": "2024-02-23T18:14:23.796696Z"
    }
   },
   "id": "34dc927ba5c82c5f",
   "execution_count": 2
  },
  {
   "cell_type": "code",
   "outputs": [],
   "source": [
    "df = spark.read.csv('./facturas.csv', header=True)"
   ],
   "metadata": {
    "collapsed": false,
    "ExecuteTime": {
     "end_time": "2024-02-23T18:14:29.409712900Z",
     "start_time": "2024-02-23T18:14:26.442665200Z"
    }
   },
   "id": "5d7204c2ee355c99",
   "execution_count": 3
  },
  {
   "cell_type": "code",
   "outputs": [
    {
     "name": "stdout",
     "output_type": "stream",
     "text": [
      "+----------+-----+\n",
      "|   Cliente|count|\n",
      "+----------+-----+\n",
      "|L421PS3VC2|    1|\n",
      "+----------+-----+\n"
     ]
    }
   ],
   "source": [
    "df.groupby('Cliente').count().orderBy('count', ascending=False).show(1)"
   ],
   "metadata": {
    "collapsed": false,
    "ExecuteTime": {
     "end_time": "2024-02-23T18:14:30.176781Z",
     "start_time": "2024-02-23T18:14:29.410762700Z"
    }
   },
   "id": "cd5188b2e5eefb85",
   "execution_count": 4
  }
 ],
 "metadata": {
  "kernelspec": {
   "display_name": "Python 3",
   "language": "python",
   "name": "python3"
  },
  "language_info": {
   "codemirror_mode": {
    "name": "ipython",
    "version": 2
   },
   "file_extension": ".py",
   "mimetype": "text/x-python",
   "name": "python",
   "nbconvert_exporter": "python",
   "pygments_lexer": "ipython2",
   "version": "2.7.6"
  }
 },
 "nbformat": 4,
 "nbformat_minor": 5
}
