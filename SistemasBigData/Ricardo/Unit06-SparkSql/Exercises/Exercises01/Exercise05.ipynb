{
 "cells": [
  {
   "cell_type": "markdown",
   "source": [
    "### Ejercicio 5\n",
    "Encontrar las facturas con un total de ventas superior a 500\n",
    "\n",
    "Ayuda:\n",
    "Función: Filter"
   ],
   "metadata": {
    "collapsed": false
   },
   "id": "3c769973d8430b3"
  },
  {
   "cell_type": "code",
   "execution_count": 9,
   "id": "initial_id",
   "metadata": {
    "collapsed": true,
    "ExecuteTime": {
     "end_time": "2024-02-23T18:17:49.743250400Z",
     "start_time": "2024-02-23T18:17:49.737019600Z"
    }
   },
   "outputs": [],
   "source": [
    "from pyspark.sql import SparkSession"
   ]
  },
  {
   "cell_type": "code",
   "outputs": [],
   "source": [
    "spark = SparkSession.builder.appName('Exercise05').getOrCreate()"
   ],
   "metadata": {
    "collapsed": false,
    "ExecuteTime": {
     "end_time": "2024-02-23T18:17:49.748975800Z",
     "start_time": "2024-02-23T18:17:49.739564500Z"
    }
   },
   "id": "34dc927ba5c82c5f",
   "execution_count": 10
  },
  {
   "cell_type": "code",
   "outputs": [],
   "source": [
    "df = spark.read.csv('./facturas.csv', header=True)"
   ],
   "metadata": {
    "collapsed": false,
    "ExecuteTime": {
     "end_time": "2024-02-23T18:17:49.861480800Z",
     "start_time": "2024-02-23T18:17:49.748975800Z"
    }
   },
   "id": "5d7204c2ee355c99",
   "execution_count": 11
  },
  {
   "cell_type": "code",
   "outputs": [
    {
     "name": "stdout",
     "output_type": "stream",
     "text": [
      "+-------------+----------+----------+----------+--------+--------------+------+\n",
      "|NumeroFactura|     Fecha|   Cliente|  Producto|Cantidad|PrecioUnitario| Total|\n",
      "+-------------+----------+----------+----------+--------+--------------+------+\n",
      "|            1|2023-03-17|PW43GZS0PC|Producto C|       9|         93.54|841.86|\n",
      "|           17|2023-03-15|9G9BOTCFAC|Producto A|       8|         82.98|663.84|\n",
      "|           20|2023-03-01|9E5DNLJ97B|Producto A|       9|         56.07|504.63|\n",
      "|           26|2023-03-19|5RIZE13HU8|Producto B|       7|         73.81|516.67|\n",
      "|           29|2023-03-07|4ELZ82N1W6|Producto B|       9|         83.41|750.69|\n",
      "|           30|2023-03-20|TEPYHGPZDS|Producto B|      10|         61.86| 618.6|\n",
      "|           36|2023-03-08|TQFQEQE0RM|Producto A|      10|         53.46| 534.6|\n",
      "|           40|2023-03-25|64HEPIU2IL|Producto A|       9|         66.25|596.25|\n",
      "|           48|2023-03-17|LGWX9OVD5U|Producto B|       9|         77.35|696.15|\n",
      "|           54|2023-03-26|L421PS3VC2|Producto C|       8|         66.36|530.88|\n",
      "|           59|2023-03-24|O7CVM8KTUB|Producto A|       6|         84.08|504.48|\n",
      "|           65|2023-03-08|HLEBCXVMJ7|Producto B|       6|         97.97|587.82|\n",
      "|           66|2023-03-03|4BJUR0G56M|Producto A|      10|         71.48| 714.8|\n",
      "|           73|2023-03-25|U7PCGH91X8|Producto A|      10|         66.13| 661.3|\n",
      "|           79|2023-03-12|DJWOA0G9N7|Producto B|       7|         75.41|527.87|\n",
      "|           83|2023-03-08|I5TEYP2M3R|Producto C|       7|         82.42|576.94|\n",
      "|           86|2023-03-01|8UVGN0XKWW|Producto B|       6|         95.96|575.76|\n",
      "|           88|2023-03-01|P7THXF8S6S|Producto B|       8|         78.08|624.64|\n",
      "|           96|2023-03-04|OC2KAZJ6O9|Producto A|       6|          90.9| 545.4|\n",
      "|           97|2023-03-27|BE0XTSBK6P|Producto C|       9|         64.44|579.96|\n",
      "+-------------+----------+----------+----------+--------+--------------+------+\n"
     ]
    }
   ],
   "source": [
    "df.filter(df['Total'] > 500).show()"
   ],
   "metadata": {
    "collapsed": false,
    "ExecuteTime": {
     "end_time": "2024-02-23T18:17:49.961350800Z",
     "start_time": "2024-02-23T18:17:49.855832800Z"
    }
   },
   "id": "cd5188b2e5eefb85",
   "execution_count": 12
  }
 ],
 "metadata": {
  "kernelspec": {
   "display_name": "Python 3",
   "language": "python",
   "name": "python3"
  },
  "language_info": {
   "codemirror_mode": {
    "name": "ipython",
    "version": 2
   },
   "file_extension": ".py",
   "mimetype": "text/x-python",
   "name": "python",
   "nbconvert_exporter": "python",
   "pygments_lexer": "ipython2",
   "version": "2.7.6"
  }
 },
 "nbformat": 4,
 "nbformat_minor": 5
}
