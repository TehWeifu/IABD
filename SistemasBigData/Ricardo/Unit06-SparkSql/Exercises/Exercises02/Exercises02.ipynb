{
 "cells": [
  {
   "cell_type": "markdown",
   "source": [
    "Generate sample data"
   ],
   "metadata": {
    "collapsed": false
   },
   "id": "f798a74713230b00"
  },
  {
   "cell_type": "code",
   "execution_count": 1,
   "id": "initial_id",
   "metadata": {
    "collapsed": true,
    "ExecuteTime": {
     "end_time": "2024-03-01T18:04:38.807581Z",
     "start_time": "2024-03-01T18:04:38.799838Z"
    }
   },
   "outputs": [],
   "source": [
    "import random\n",
    "\n",
    "# Lista de posibles valores para cada campo\n",
    "nombres = [\"Juan\", \"Ana\", \"Pedro\", \"Maria\", \"Carlos\", \"Sofia\"]\n",
    "apellidos = [\"Garcia\", \"Rodriguez\", \"Martinez\", \"Lopez\", \"Perez\", \"Gomez\"]\n",
    "tipos_propiedad = [\"Casa\", \"Departamento\", \"Terreno\", \"Local comercial\"]\n",
    "cantidades = [100000, 200000, 300000, 400000, 500000]\n",
    "plazos = [5, 10, 15, 20, 25, 30]\n",
    "\n",
    "\n",
    "# Función para generar un registro aleatorio\n",
    "def generar_registro():\n",
    "    nombre = random.choice(nombres)\n",
    "    apellido = random.choice(apellidos)\n",
    "    tipo_propiedad = random.choice(tipos_propiedad)\n",
    "    cantidad = random.choice(cantidades)\n",
    "    plazo = random.choice(plazos)\n",
    "    tasa = round(random.uniform(5, 10), 2)\n",
    "    return [nombre, apellido, tipo_propiedad, cantidad, plazo, tasa]\n",
    "\n",
    "\n",
    "# Generar 100 registros\n",
    "registros = []\n",
    "for i in range(100):\n",
    "    registro = generar_registro()\n",
    "    registros.append(registro)"
   ]
  },
  {
   "cell_type": "code",
   "outputs": [],
   "source": [
    "from pyspark.sql import SparkSession"
   ],
   "metadata": {
    "collapsed": false,
    "ExecuteTime": {
     "end_time": "2024-03-01T18:04:38.966098Z",
     "start_time": "2024-03-01T18:04:38.814029Z"
    }
   },
   "id": "31e1a89de19c41f5",
   "execution_count": 2
  },
  {
   "cell_type": "code",
   "outputs": [],
   "source": [
    "spark = SparkSession.builder.appName('Exercise01').getOrCreate()"
   ],
   "metadata": {
    "collapsed": false,
    "ExecuteTime": {
     "end_time": "2024-03-01T18:04:41.558266Z",
     "start_time": "2024-03-01T18:04:38.967105Z"
    }
   },
   "id": "935f6ec63f50f091",
   "execution_count": 3
  },
  {
   "cell_type": "markdown",
   "source": [
    "Ejercicio 1\n",
    "\n",
    "Crear un DataFrame a partir de los registros y crea una vista temporal"
   ],
   "metadata": {
    "collapsed": false
   },
   "id": "6b4a11c74a52fb64"
  },
  {
   "cell_type": "code",
   "outputs": [
    {
     "name": "stdout",
     "output_type": "stream",
     "text": [
      "+------+---------+---------------+--------+-----+----+\n",
      "|nombre| apellido| tipo_propiedad|cantidad|plazo|tasa|\n",
      "+------+---------+---------------+--------+-----+----+\n",
      "|Carlos|    Gomez|Local comercial|  500000|    5|5.39|\n",
      "| Maria|    Gomez|           Casa|  400000|   20|9.37|\n",
      "| Sofia| Martinez|           Casa|  300000|   20|5.59|\n",
      "|   Ana| Martinez|Local comercial|  100000|   15|5.11|\n",
      "| Pedro|    Gomez|   Departamento|  100000|   25|8.78|\n",
      "| Pedro|    Lopez|Local comercial|  500000|   20|7.18|\n",
      "| Sofia|    Lopez|           Casa|  200000|   20|8.53|\n",
      "| Sofia|    Perez|        Terreno|  400000|   20|5.18|\n",
      "|Carlos| Martinez|   Departamento|  200000|   30|8.27|\n",
      "|Carlos|    Lopez|   Departamento|  400000|   30| 7.5|\n",
      "| Sofia| Martinez|Local comercial|  200000|    5|9.98|\n",
      "| Pedro|Rodriguez|        Terreno|  300000|   20|6.49|\n",
      "| Sofia|   Garcia|           Casa|  400000|    5|8.94|\n",
      "| Sofia|   Garcia|   Departamento|  500000|   25|6.82|\n",
      "| Pedro|    Gomez|Local comercial|  500000|   30|8.64|\n",
      "| Sofia|    Gomez|Local comercial|  300000|   30| 5.6|\n",
      "|   Ana| Martinez|   Departamento|  100000|   15|6.27|\n",
      "|  Juan|   Garcia|   Departamento|  200000|   20|5.95|\n",
      "| Pedro| Martinez|   Departamento|  500000|   25|5.15|\n",
      "| Sofia| Martinez|   Departamento|  100000|   20|5.83|\n",
      "+------+---------+---------------+--------+-----+----+\n"
     ]
    }
   ],
   "source": [
    "df = spark.createDataFrame(registros, [\"nombre\", \"apellido\", \"tipo_propiedad\", \"cantidad\", \"plazo\", \"tasa\"])\n",
    "df.createOrReplaceTempView(\"hipotecas\")\n",
    "df.show()"
   ],
   "metadata": {
    "collapsed": false,
    "ExecuteTime": {
     "end_time": "2024-03-01T18:04:47.357241Z",
     "start_time": "2024-03-01T18:04:41.559292Z"
    }
   },
   "id": "19e6a10667721fd1",
   "execution_count": 4
  },
  {
   "cell_type": "markdown",
   "source": [
    "Ejercicio 2\n",
    "Seleccionar los registros de las personas que han tomado una hipoteca mayor de 300.000 €"
   ],
   "metadata": {
    "collapsed": false
   },
   "id": "1f4524da3e44683d"
  },
  {
   "cell_type": "code",
   "outputs": [
    {
     "name": "stdout",
     "output_type": "stream",
     "text": [
      "+------+---------+---------------+--------+-----+----+\n",
      "|nombre| apellido| tipo_propiedad|cantidad|plazo|tasa|\n",
      "+------+---------+---------------+--------+-----+----+\n",
      "|Carlos|    Gomez|Local comercial|  500000|    5|5.39|\n",
      "| Maria|    Gomez|           Casa|  400000|   20|9.37|\n",
      "| Pedro|    Lopez|Local comercial|  500000|   20|7.18|\n",
      "| Sofia|    Perez|        Terreno|  400000|   20|5.18|\n",
      "|Carlos|    Lopez|   Departamento|  400000|   30| 7.5|\n",
      "| Sofia|   Garcia|           Casa|  400000|    5|8.94|\n",
      "| Sofia|   Garcia|   Departamento|  500000|   25|6.82|\n",
      "| Pedro|    Gomez|Local comercial|  500000|   30|8.64|\n",
      "| Pedro| Martinez|   Departamento|  500000|   25|5.15|\n",
      "|Carlos|Rodriguez|           Casa|  400000|    5| 8.1|\n",
      "| Pedro|   Garcia|Local comercial|  500000|   30|9.96|\n",
      "|Carlos|Rodriguez|           Casa|  500000|   10|9.05|\n",
      "| Sofia|    Perez|   Departamento|  400000|   15|6.54|\n",
      "| Maria|    Lopez|Local comercial|  500000|   20|9.46|\n",
      "|Carlos| Martinez|        Terreno|  400000|   10| 5.6|\n",
      "| Maria|    Perez|        Terreno|  400000|   25|6.07|\n",
      "|Carlos|    Gomez|        Terreno|  500000|   20|6.78|\n",
      "| Sofia|   Garcia|   Departamento|  500000|   30|6.66|\n",
      "| Sofia|    Lopez|           Casa|  500000|   10|9.18|\n",
      "|Carlos| Martinez|        Terreno|  400000|   30|7.22|\n",
      "+------+---------+---------------+--------+-----+----+\n"
     ]
    }
   ],
   "source": [
    "df.filter(df.cantidad > 300000).show()"
   ],
   "metadata": {
    "collapsed": false,
    "ExecuteTime": {
     "end_time": "2024-03-01T18:04:53.565311Z",
     "start_time": "2024-03-01T18:04:47.358627Z"
    }
   },
   "id": "e9f7484c84458857",
   "execution_count": 5
  },
  {
   "cell_type": "markdown",
   "source": [
    "Ejercicio 3\n",
    "\n",
    "Contar cuántos registros hay para cada tipo de propiedad:"
   ],
   "metadata": {
    "collapsed": false
   },
   "id": "2b0f95d0b60bc097"
  },
  {
   "cell_type": "code",
   "outputs": [
    {
     "name": "stdout",
     "output_type": "stream",
     "text": [
      "+---------------+-----+\n",
      "| tipo_propiedad|count|\n",
      "+---------------+-----+\n",
      "|   Departamento|   26|\n",
      "|           Casa|   26|\n",
      "|Local comercial|   28|\n",
      "|        Terreno|   20|\n",
      "+---------------+-----+\n"
     ]
    }
   ],
   "source": [
    "df.groupBy(\"tipo_propiedad\").count().show()"
   ],
   "metadata": {
    "collapsed": false,
    "ExecuteTime": {
     "end_time": "2024-03-01T18:05:02.316591Z",
     "start_time": "2024-03-01T18:04:53.565311Z"
    }
   },
   "id": "9dd52f4578d94e55",
   "execution_count": 6
  },
  {
   "cell_type": "markdown",
   "source": [
    "Ejercicio 4\n",
    "\n",
    "Obtener la cantidad total de dinero prestado en hipotecas"
   ],
   "metadata": {
    "collapsed": false
   },
   "id": "39a177f59a44b100"
  },
  {
   "cell_type": "code",
   "outputs": [
    {
     "name": "stdout",
     "output_type": "stream",
     "text": [
      "+-------------+\n",
      "|sum(cantidad)|\n",
      "+-------------+\n",
      "|     29400000|\n",
      "+-------------+\n"
     ]
    }
   ],
   "source": [
    "df.agg({\"cantidad\": \"sum\"}).show()"
   ],
   "metadata": {
    "collapsed": false,
    "ExecuteTime": {
     "end_time": "2024-03-01T18:05:10.547559Z",
     "start_time": "2024-03-01T18:05:02.316591Z"
    }
   },
   "id": "f14048e70a65492b",
   "execution_count": 7
  },
  {
   "cell_type": "markdown",
   "source": [
    "Ejercicio 5\n",
    "\n",
    "Obtener la tasa promedio de interés para cada plazo"
   ],
   "metadata": {
    "collapsed": false
   },
   "id": "72e6f5ee89b7da87"
  },
  {
   "cell_type": "code",
   "outputs": [
    {
     "name": "stdout",
     "output_type": "stream",
     "text": [
      "+-----+-----------------+\n",
      "|plazo|        avg(tasa)|\n",
      "+-----+-----------------+\n",
      "|   25|7.593999999999999|\n",
      "|    5|7.818571428571429|\n",
      "|   15|7.560769230769231|\n",
      "|   20|7.379565217391305|\n",
      "|   30|7.749411764705881|\n",
      "|   10|8.063333333333334|\n",
      "+-----+-----------------+\n"
     ]
    }
   ],
   "source": [
    "df.groupBy(\"plazo\").agg({\"tasa\": \"avg\"}).show()"
   ],
   "metadata": {
    "collapsed": false,
    "ExecuteTime": {
     "end_time": "2024-03-01T18:05:18.968239Z",
     "start_time": "2024-03-01T18:05:10.547559Z"
    }
   },
   "id": "b217e28497fdfb6f",
   "execution_count": 8
  },
  {
   "cell_type": "markdown",
   "source": [
    "Ejercicio 6\n",
    "Seleccionar los registros de las personas que han tomado una hipoteca por un monto mayor a $300,000 y cuyo plazo sea mayor a 15 años"
   ],
   "metadata": {
    "collapsed": false
   },
   "id": "59ee993c49dfb308"
  },
  {
   "cell_type": "code",
   "outputs": [
    {
     "name": "stdout",
     "output_type": "stream",
     "text": [
      "+------+---------+---------------+--------+-----+----+\n",
      "|nombre| apellido| tipo_propiedad|cantidad|plazo|tasa|\n",
      "+------+---------+---------------+--------+-----+----+\n",
      "| Maria|    Gomez|           Casa|  400000|   20|9.37|\n",
      "| Pedro|    Lopez|Local comercial|  500000|   20|7.18|\n",
      "| Sofia|    Perez|        Terreno|  400000|   20|5.18|\n",
      "|Carlos|    Lopez|   Departamento|  400000|   30| 7.5|\n",
      "| Sofia|   Garcia|   Departamento|  500000|   25|6.82|\n",
      "| Pedro|    Gomez|Local comercial|  500000|   30|8.64|\n",
      "| Pedro| Martinez|   Departamento|  500000|   25|5.15|\n",
      "| Pedro|   Garcia|Local comercial|  500000|   30|9.96|\n",
      "| Maria|    Lopez|Local comercial|  500000|   20|9.46|\n",
      "| Maria|    Perez|        Terreno|  400000|   25|6.07|\n",
      "|Carlos|    Gomez|        Terreno|  500000|   20|6.78|\n",
      "| Sofia|   Garcia|   Departamento|  500000|   30|6.66|\n",
      "|Carlos| Martinez|        Terreno|  400000|   30|7.22|\n",
      "| Sofia|   Garcia|Local comercial|  500000|   25| 8.4|\n",
      "|Carlos|   Garcia|        Terreno|  400000|   20|5.05|\n",
      "| Maria|   Garcia|           Casa|  400000|   20|7.98|\n",
      "| Sofia|    Gomez|           Casa|  500000|   20|7.57|\n",
      "|Carlos| Martinez|        Terreno|  400000|   30|6.21|\n",
      "| Sofia|Rodriguez|           Casa|  500000|   25|9.62|\n",
      "|  Juan|    Lopez|Local comercial|  400000|   30|6.65|\n",
      "+------+---------+---------------+--------+-----+----+\n"
     ]
    }
   ],
   "source": [
    "df.filter((df.cantidad > 300000) & (df.plazo > 15)).show()"
   ],
   "metadata": {
    "collapsed": false,
    "ExecuteTime": {
     "end_time": "2024-03-01T18:05:27.409643Z",
     "start_time": "2024-03-01T18:05:18.968934Z"
    }
   },
   "id": "e828c43aaec102e6",
   "execution_count": 9
  }
 ],
 "metadata": {
  "kernelspec": {
   "display_name": "Python 3",
   "language": "python",
   "name": "python3"
  },
  "language_info": {
   "codemirror_mode": {
    "name": "ipython",
    "version": 2
   },
   "file_extension": ".py",
   "mimetype": "text/x-python",
   "name": "python",
   "nbconvert_exporter": "python",
   "pygments_lexer": "ipython2",
   "version": "2.7.6"
  }
 },
 "nbformat": 4,
 "nbformat_minor": 5
}
