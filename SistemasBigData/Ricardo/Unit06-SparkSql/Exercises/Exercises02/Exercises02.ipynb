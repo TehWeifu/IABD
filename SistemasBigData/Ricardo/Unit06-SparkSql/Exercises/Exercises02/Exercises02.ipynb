{
 "cells": [
  {
   "cell_type": "markdown",
   "source": [
    "Generate sample data"
   ],
   "metadata": {
    "collapsed": false
   },
   "id": "f798a74713230b00"
  },
  {
   "cell_type": "code",
   "execution_count": 1,
   "id": "initial_id",
   "metadata": {
    "collapsed": true,
    "ExecuteTime": {
     "end_time": "2024-03-01T17:42:08.707187Z",
     "start_time": "2024-03-01T17:42:08.700500Z"
    }
   },
   "outputs": [],
   "source": [
    "import random\n",
    "\n",
    "# Lista de posibles valores para cada campo\n",
    "nombres = [\"Juan\", \"Ana\", \"Pedro\", \"Maria\", \"Carlos\", \"Sofia\"]\n",
    "apellidos = [\"Garcia\", \"Rodriguez\", \"Martinez\", \"Lopez\", \"Perez\", \"Gomez\"]\n",
    "tipos_propiedad = [\"Casa\", \"Departamento\", \"Terreno\", \"Local comercial\"]\n",
    "cantidades = [100000, 200000, 300000, 400000, 500000]\n",
    "plazos = [5, 10, 15, 20, 25, 30]\n",
    "\n",
    "\n",
    "# Función para generar un registro aleatorio\n",
    "def generar_registro():\n",
    "    nombre = random.choice(nombres)\n",
    "    apellido = random.choice(apellidos)\n",
    "    tipo_propiedad = random.choice(tipos_propiedad)\n",
    "    cantidad = random.choice(cantidades)\n",
    "    plazo = random.choice(plazos)\n",
    "    tasa = round(random.uniform(5, 10), 2)\n",
    "    return [nombre, apellido, tipo_propiedad, cantidad, plazo, tasa]\n",
    "\n",
    "\n",
    "# Generar 100 registros\n",
    "registros = []\n",
    "for i in range(100):\n",
    "    registro = generar_registro()\n",
    "    registros.append(registro)"
   ]
  },
  {
   "cell_type": "code",
   "outputs": [],
   "source": [
    "from pyspark.sql import SparkSession"
   ],
   "metadata": {
    "collapsed": false,
    "ExecuteTime": {
     "end_time": "2024-03-01T17:42:08.844322Z",
     "start_time": "2024-03-01T17:42:08.708260Z"
    }
   },
   "id": "31e1a89de19c41f5",
   "execution_count": 2
  },
  {
   "cell_type": "code",
   "outputs": [],
   "source": [
    "spark = SparkSession.builder.appName('Exercise01').getOrCreate()"
   ],
   "metadata": {
    "collapsed": false,
    "ExecuteTime": {
     "end_time": "2024-03-01T17:42:11.405769Z",
     "start_time": "2024-03-01T17:42:08.844322Z"
    }
   },
   "id": "935f6ec63f50f091",
   "execution_count": 3
  },
  {
   "cell_type": "markdown",
   "source": [
    "Ejercicio 1\n",
    "\n",
    "Crear un DataFrame a partir de los registros y crea una vista temporal"
   ],
   "metadata": {
    "collapsed": false
   },
   "id": "6b4a11c74a52fb64"
  },
  {
   "cell_type": "code",
   "outputs": [
    {
     "name": "stdout",
     "output_type": "stream",
     "text": [
      "+------+---------+---------------+--------+-----+----+\n",
      "|nombre| apellido| tipo_propiedad|cantidad|plazo|tasa|\n",
      "+------+---------+---------------+--------+-----+----+\n",
      "|   Ana|   Garcia|   Departamento|  400000|   30|9.99|\n",
      "|Carlos|Rodriguez|   Departamento|  200000|   10|9.32|\n",
      "|   Ana| Martinez|           Casa|  200000|   20|8.51|\n",
      "|   Ana|    Lopez|Local comercial|  100000|   10|5.63|\n",
      "|  Juan|    Gomez|           Casa|  100000|   15|9.39|\n",
      "|   Ana|   Garcia|        Terreno|  100000|    5|7.72|\n",
      "|  Juan|    Gomez|Local comercial|  200000|    5|5.01|\n",
      "|  Juan|    Lopez|Local comercial|  500000|   10|5.89|\n",
      "|   Ana|    Lopez|        Terreno|  100000|    5| 7.5|\n",
      "|  Juan|    Perez|           Casa|  400000|   30|5.41|\n",
      "| Pedro|Rodriguez|        Terreno|  300000|   25| 5.2|\n",
      "| Maria|    Perez|           Casa|  400000|   10|5.94|\n",
      "|Carlos|   Garcia|           Casa|  300000|   25|8.56|\n",
      "|Carlos|    Gomez|        Terreno|  400000|    5| 5.4|\n",
      "|  Juan|    Lopez|           Casa|  400000|   25|7.13|\n",
      "|   Ana|   Garcia|Local comercial|  200000|    5|5.34|\n",
      "|Carlos|    Gomez|Local comercial|  100000|   25|8.46|\n",
      "|Carlos| Martinez|Local comercial|  400000|   10|5.02|\n",
      "| Maria|Rodriguez|   Departamento|  500000|   15|6.64|\n",
      "| Maria|    Perez|           Casa|  500000|   25|9.16|\n",
      "+------+---------+---------------+--------+-----+----+\n"
     ]
    }
   ],
   "source": [
    "df = spark.createDataFrame(registros, [\"nombre\", \"apellido\", \"tipo_propiedad\", \"cantidad\", \"plazo\", \"tasa\"])\n",
    "df.createOrReplaceTempView(\"hipotecas\")\n",
    "df.show()"
   ],
   "metadata": {
    "collapsed": false,
    "ExecuteTime": {
     "end_time": "2024-03-01T17:42:16.945198Z",
     "start_time": "2024-03-01T17:42:11.406273Z"
    }
   },
   "id": "19e6a10667721fd1",
   "execution_count": 4
  },
  {
   "cell_type": "markdown",
   "source": [
    "Ejercicio 2\n",
    "Seleccionar los registros de las personas que han tomado una hipoteca mayor de 300.000 €"
   ],
   "metadata": {
    "collapsed": false
   },
   "id": "1f4524da3e44683d"
  },
  {
   "cell_type": "code",
   "outputs": [
    {
     "name": "stdout",
     "output_type": "stream",
     "text": [
      "+------+---------+---------------+--------+-----+----+\n",
      "|nombre| apellido| tipo_propiedad|cantidad|plazo|tasa|\n",
      "+------+---------+---------------+--------+-----+----+\n",
      "|   Ana|   Garcia|   Departamento|  400000|   30|9.99|\n",
      "|  Juan|    Lopez|Local comercial|  500000|   10|5.89|\n",
      "|  Juan|    Perez|           Casa|  400000|   30|5.41|\n",
      "| Maria|    Perez|           Casa|  400000|   10|5.94|\n",
      "|Carlos|    Gomez|        Terreno|  400000|    5| 5.4|\n",
      "|  Juan|    Lopez|           Casa|  400000|   25|7.13|\n",
      "|Carlos| Martinez|Local comercial|  400000|   10|5.02|\n",
      "| Maria|Rodriguez|   Departamento|  500000|   15|6.64|\n",
      "| Maria|    Perez|           Casa|  500000|   25|9.16|\n",
      "|  Juan|Rodriguez|           Casa|  500000|   10|8.73|\n",
      "| Sofia|Rodriguez|Local comercial|  400000|    5| 6.3|\n",
      "| Pedro|Rodriguez|        Terreno|  500000|   20|7.53|\n",
      "| Sofia| Martinez|Local comercial|  400000|   30|8.07|\n",
      "|Carlos|    Gomez|           Casa|  500000|    5|5.82|\n",
      "|Carlos|    Perez|           Casa|  400000|   25|9.11|\n",
      "| Pedro|Rodriguez|        Terreno|  400000|   30| 6.8|\n",
      "| Pedro|    Lopez|   Departamento|  500000|   25|5.09|\n",
      "| Sofia|Rodriguez|   Departamento|  500000|   20|9.89|\n",
      "|Carlos|    Lopez|        Terreno|  400000|   15|9.28|\n",
      "| Maria| Martinez|           Casa|  400000|   30|6.39|\n",
      "+------+---------+---------------+--------+-----+----+\n"
     ]
    }
   ],
   "source": [
    "df.filter(df.cantidad > 300000).show()"
   ],
   "metadata": {
    "collapsed": false,
    "ExecuteTime": {
     "end_time": "2024-03-01T17:42:21.439313Z",
     "start_time": "2024-03-01T17:42:16.947370Z"
    }
   },
   "id": "e9f7484c84458857",
   "execution_count": 5
  },
  {
   "cell_type": "markdown",
   "source": [
    "Ejercicio 3\n",
    "\n",
    "Contar cuántos registros hay para cada tipo de propiedad:"
   ],
   "metadata": {
    "collapsed": false
   },
   "id": "2b0f95d0b60bc097"
  },
  {
   "cell_type": "code",
   "outputs": [
    {
     "name": "stdout",
     "output_type": "stream",
     "text": [
      "+---------------+-----+\n",
      "| tipo_propiedad|count|\n",
      "+---------------+-----+\n",
      "|   Departamento|   24|\n",
      "|           Casa|   26|\n",
      "|Local comercial|   27|\n",
      "|        Terreno|   23|\n",
      "+---------------+-----+\n"
     ]
    }
   ],
   "source": [
    "df.groupBy(\"tipo_propiedad\").count().show()"
   ],
   "metadata": {
    "collapsed": false,
    "ExecuteTime": {
     "end_time": "2024-03-01T17:42:30.456890Z",
     "start_time": "2024-03-01T17:42:21.440291Z"
    }
   },
   "id": "9dd52f4578d94e55",
   "execution_count": 6
  },
  {
   "cell_type": "markdown",
   "source": [
    "Ejercicio 4\n",
    "\n",
    "Obtener la cantidad total de dinero prestado en hipotecas"
   ],
   "metadata": {
    "collapsed": false
   },
   "id": "39a177f59a44b100"
  },
  {
   "cell_type": "code",
   "outputs": [
    {
     "name": "stdout",
     "output_type": "stream",
     "text": [
      "+-------------+\n",
      "|sum(cantidad)|\n",
      "+-------------+\n",
      "|     31900000|\n",
      "+-------------+\n"
     ]
    }
   ],
   "source": [
    "df.agg({\"cantidad\": \"sum\"}).show()"
   ],
   "metadata": {
    "collapsed": false,
    "ExecuteTime": {
     "end_time": "2024-03-01T17:42:39.399048Z",
     "start_time": "2024-03-01T17:42:30.457921Z"
    }
   },
   "id": "f14048e70a65492b",
   "execution_count": 7
  },
  {
   "cell_type": "markdown",
   "source": [
    "Ejercicio 5\n",
    "\n",
    "Obtener la tasa promedio de interés para cada plazo"
   ],
   "metadata": {
    "collapsed": false
   },
   "id": "72e6f5ee89b7da87"
  },
  {
   "cell_type": "code",
   "outputs": [
    {
     "name": "stdout",
     "output_type": "stream",
     "text": [
      "+---------------+-----------------+\n",
      "| tipo_propiedad|        avg(tasa)|\n",
      "+---------------+-----------------+\n",
      "|   Departamento|7.642499999999998|\n",
      "|           Casa|7.305384615384615|\n",
      "|Local comercial| 7.48925925925926|\n",
      "|        Terreno|7.331304347826088|\n",
      "+---------------+-----------------+\n"
     ]
    }
   ],
   "source": [
    "df.groupby(\"tipo_propiedad\").agg({\"tasa\": \"avg\"}).show()"
   ],
   "metadata": {
    "collapsed": false,
    "ExecuteTime": {
     "end_time": "2024-03-01T17:42:47.857720Z",
     "start_time": "2024-03-01T17:42:39.400039Z"
    }
   },
   "id": "b217e28497fdfb6f",
   "execution_count": 8
  },
  {
   "cell_type": "markdown",
   "source": [
    "Ejercicio 6\n",
    "Seleccionar los registros de las personas que han tomado una hipoteca por un monto mayor a $300,000 y cuyo plazo sea mayor a 15 años"
   ],
   "metadata": {
    "collapsed": false
   },
   "id": "59ee993c49dfb308"
  },
  {
   "cell_type": "code",
   "outputs": [
    {
     "name": "stdout",
     "output_type": "stream",
     "text": [
      "+------+---------+---------------+--------+-----+----+\n",
      "|nombre| apellido| tipo_propiedad|cantidad|plazo|tasa|\n",
      "+------+---------+---------------+--------+-----+----+\n",
      "|   Ana|   Garcia|   Departamento|  400000|   30|9.99|\n",
      "|  Juan|    Perez|           Casa|  400000|   30|5.41|\n",
      "|  Juan|    Lopez|           Casa|  400000|   25|7.13|\n",
      "| Maria|    Perez|           Casa|  500000|   25|9.16|\n",
      "| Pedro|Rodriguez|        Terreno|  500000|   20|7.53|\n",
      "| Sofia| Martinez|Local comercial|  400000|   30|8.07|\n",
      "|Carlos|    Perez|           Casa|  400000|   25|9.11|\n",
      "| Pedro|Rodriguez|        Terreno|  400000|   30| 6.8|\n",
      "| Pedro|    Lopez|   Departamento|  500000|   25|5.09|\n",
      "| Sofia|Rodriguez|   Departamento|  500000|   20|9.89|\n",
      "| Maria| Martinez|           Casa|  400000|   30|6.39|\n",
      "|Carlos|   Garcia|           Casa|  500000|   30| 8.0|\n",
      "|   Ana|    Gomez|           Casa|  500000|   20|5.87|\n",
      "| Maria|    Gomez|           Casa|  500000|   25|5.62|\n",
      "|  Juan|    Lopez|        Terreno|  400000|   30|5.26|\n",
      "|Carlos| Martinez|Local comercial|  500000|   20|6.01|\n",
      "| Maria| Martinez|           Casa|  400000|   25|8.97|\n",
      "|  Juan| Martinez|           Casa|  500000|   20|5.74|\n",
      "| Pedro| Martinez|Local comercial|  500000|   25|8.57|\n",
      "|   Ana|   Garcia|   Departamento|  500000|   20|7.32|\n",
      "+------+---------+---------------+--------+-----+----+\n"
     ]
    }
   ],
   "source": [
    "df.filter((df.cantidad > 300000) & (df.plazo > 15)).show()"
   ],
   "metadata": {
    "collapsed": false,
    "ExecuteTime": {
     "end_time": "2024-03-01T17:42:56.248634Z",
     "start_time": "2024-03-01T17:42:47.858913Z"
    }
   },
   "id": "e828c43aaec102e6",
   "execution_count": 9
  }
 ],
 "metadata": {
  "kernelspec": {
   "display_name": "Python 3",
   "language": "python",
   "name": "python3"
  },
  "language_info": {
   "codemirror_mode": {
    "name": "ipython",
    "version": 2
   },
   "file_extension": ".py",
   "mimetype": "text/x-python",
   "name": "python",
   "nbconvert_exporter": "python",
   "pygments_lexer": "ipython2",
   "version": "2.7.6"
  }
 },
 "nbformat": 4,
 "nbformat_minor": 5
}
