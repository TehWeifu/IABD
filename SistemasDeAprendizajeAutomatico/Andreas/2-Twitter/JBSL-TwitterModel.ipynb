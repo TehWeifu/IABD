{
 "cells": [
  {
   "cell_type": "markdown",
   "source": [
    "## Load the data"
   ],
   "metadata": {
    "collapsed": false
   },
   "id": "626bb12a897bf457"
  },
  {
   "cell_type": "code",
   "execution_count": 10,
   "id": "initial_id",
   "metadata": {
    "collapsed": true,
    "ExecuteTime": {
     "end_time": "2024-02-19T18:36:09.634884500Z",
     "start_time": "2024-02-19T18:36:09.632923900Z"
    }
   },
   "outputs": [],
   "source": [
    "# Import all libraries needed through the whole notebook\n",
    "import numpy as np\n",
    "import pandas as pd\n",
    "import plotnine as pn\n",
    "from matplotlib import pyplot as plt\n",
    "import seaborn as sns\n",
    "from sklearn import metrics\n",
    "from sklearn.linear_model import LinearRegression\n",
    "from sklearn.preprocessing import OrdinalEncoder"
   ]
  },
  {
   "cell_type": "markdown",
   "source": [
    "### Tweet data exploration"
   ],
   "metadata": {
    "collapsed": false
   },
   "id": "ae7431b1f1e6261d"
  },
  {
   "cell_type": "code",
   "outputs": [
    {
     "name": "stderr",
     "output_type": "stream",
     "text": [
      "C:\\Users\\jsanchez\\AppData\\Local\\Temp\\ipykernel_2920\\695291507.py:1: DtypeWarning: Columns (5) have mixed types. Specify dtype option on import or set low_memory=False.\n"
     ]
    }
   ],
   "source": [
    "tweets = pd.read_csv('./data/tweets.csv')"
   ],
   "metadata": {
    "collapsed": false,
    "ExecuteTime": {
     "end_time": "2024-02-19T18:36:11.097894600Z",
     "start_time": "2024-02-19T18:36:10.777640600Z"
    }
   },
   "id": "158c06b8ea90c030",
   "execution_count": 11
  },
  {
   "cell_type": "code",
   "outputs": [
    {
     "data": {
      "text/plain": "                        id      conversation_id    created_at  \\\n0      1425590913959612419  1425590913959612419  1.628722e+12   \n1      1427736867739299841  1427736867739299841  1.629234e+12   \n2      1427667300488937476  1427667300488937476  1.629217e+12   \n3      1427667012105371652  1427667012105371652  1.629217e+12   \n4      1427497703596990467  1427497703596990467  1.629177e+12   \n...                    ...                  ...           ...   \n40576  1427593440469061634  1427593440469061634  1.629200e+12   \n40577  1427592955272089642  1427592930722820096  1.629200e+12   \n40578  1427592942441598980  1427592930722820096  1.629200e+12   \n40579  1427592930722820096  1427592930722820096  1.629200e+12   \n40580  1427335350658158598  1427335350658158598  1.629138e+12   \n\n                      date  timezone place  \\\n0      2021-08-12 00:52:14       200   NaN   \n1      2021-08-17 22:59:29       200   NaN   \n2      2021-08-17 18:23:03       200   NaN   \n3      2021-08-17 18:21:55       200   NaN   \n4      2021-08-17 07:09:08       200   NaN   \n...                    ...       ...   ...   \n40576  2021-08-17 13:29:34       200   NaN   \n40577  2021-08-17 13:27:38       200   NaN   \n40578  2021-08-17 13:27:35       200   NaN   \n40579  2021-08-17 13:27:32       200   NaN   \n40580  2021-08-16 20:24:00       200   NaN   \n\n                                                   tweet language  \\\n0      RT @girlsalliance: We're so proud of the four ...       en   \n1      Some casual suggestions to 😏SLIDE😏 into when u...       en   \n2                  RT @ValaAfshar: You are not your job.       en   \n3      What have we become 😔😂  Toddler Cites Freedom ...       en   \n4      The tech giants that refuse to massively addre...       en   \n...                                                  ...      ...   \n40576  Commencement of works. #Agenda111  https://t.c...       en   \n40577  Commencement of works. #Agenda111  https://t.c...       en   \n40578  Commencement of works. #Agenda111  https://t.c...       en   \n40579  Commencement of works. #Agenda111  https://t.c...       en   \n40580                #Agenda111  https://t.co/M1FYBKXqK3      und   \n\n                                     hashtags cashtags  ...  geo  source  \\\n0                                          []       []  ...  NaN     NaN   \n1      ['shoesdaytuesday', 'afterskewlslide']       []  ...  NaN     NaN   \n2                                          []       []  ...  NaN     NaN   \n3                                          []       []  ...  NaN     NaN   \n4                                          []       []  ...  NaN     NaN   \n...                                       ...      ...  ...  ...     ...   \n40576                           ['agenda111']       []  ...  NaN     NaN   \n40577                           ['agenda111']       []  ...  NaN     NaN   \n40578                           ['agenda111']       []  ...  NaN     NaN   \n40579                           ['agenda111']       []  ...  NaN     NaN   \n40580                           ['agenda111']       []  ...  NaN     NaN   \n\n         user_rt_id                                            user_rt  \\\n0      1.047165e+18  We're so proud of the four organizations in ou...   \n1               NaN                                                NaN   \n2      2.597252e+08                              You are not your job.   \n3               NaN                                                NaN   \n4               NaN                                                NaN   \n...             ...                                                ...   \n40576           NaN                                                NaN   \n40577           NaN                                                NaN   \n40578           NaN                                                NaN   \n40579           NaN                                                NaN   \n40580           NaN                                                NaN   \n\n         retweet_id  reply_to              retweet_date translate trans_src  \\\n0      1.425590e+18        []  2021-08-12 00:46:58 CEST       NaN       NaN   \n1               NaN        []                       NaN       NaN       NaN   \n2      1.427648e+18        []  2021-08-17 17:05:53 CEST       NaN       NaN   \n3               NaN        []                       NaN       NaN       NaN   \n4               NaN        []                       NaN       NaN       NaN   \n...             ...       ...                       ...       ...       ...   \n40576           NaN        []                       NaN       NaN       NaN   \n40577           NaN        []                       NaN       NaN       NaN   \n40578           NaN        []                       NaN       NaN       NaN   \n40579           NaN        []                       NaN       NaN       NaN   \n40580           NaN        []                       NaN       NaN       NaN   \n\n       trans_dest  \n0             NaN  \n1             NaN  \n2             NaN  \n3             NaN  \n4             NaN  \n...           ...  \n40576         NaN  \n40577         NaN  \n40578         NaN  \n40579         NaN  \n40580         NaN  \n\n[40581 rows x 38 columns]",
      "text/html": "<div>\n<style scoped>\n    .dataframe tbody tr th:only-of-type {\n        vertical-align: middle;\n    }\n\n    .dataframe tbody tr th {\n        vertical-align: top;\n    }\n\n    .dataframe thead th {\n        text-align: right;\n    }\n</style>\n<table border=\"1\" class=\"dataframe\">\n  <thead>\n    <tr style=\"text-align: right;\">\n      <th></th>\n      <th>id</th>\n      <th>conversation_id</th>\n      <th>created_at</th>\n      <th>date</th>\n      <th>timezone</th>\n      <th>place</th>\n      <th>tweet</th>\n      <th>language</th>\n      <th>hashtags</th>\n      <th>cashtags</th>\n      <th>...</th>\n      <th>geo</th>\n      <th>source</th>\n      <th>user_rt_id</th>\n      <th>user_rt</th>\n      <th>retweet_id</th>\n      <th>reply_to</th>\n      <th>retweet_date</th>\n      <th>translate</th>\n      <th>trans_src</th>\n      <th>trans_dest</th>\n    </tr>\n  </thead>\n  <tbody>\n    <tr>\n      <th>0</th>\n      <td>1425590913959612419</td>\n      <td>1425590913959612419</td>\n      <td>1.628722e+12</td>\n      <td>2021-08-12 00:52:14</td>\n      <td>200</td>\n      <td>NaN</td>\n      <td>RT @girlsalliance: We're so proud of the four ...</td>\n      <td>en</td>\n      <td>[]</td>\n      <td>[]</td>\n      <td>...</td>\n      <td>NaN</td>\n      <td>NaN</td>\n      <td>1.047165e+18</td>\n      <td>We're so proud of the four organizations in ou...</td>\n      <td>1.425590e+18</td>\n      <td>[]</td>\n      <td>2021-08-12 00:46:58 CEST</td>\n      <td>NaN</td>\n      <td>NaN</td>\n      <td>NaN</td>\n    </tr>\n    <tr>\n      <th>1</th>\n      <td>1427736867739299841</td>\n      <td>1427736867739299841</td>\n      <td>1.629234e+12</td>\n      <td>2021-08-17 22:59:29</td>\n      <td>200</td>\n      <td>NaN</td>\n      <td>Some casual suggestions to 😏SLIDE😏 into when u...</td>\n      <td>en</td>\n      <td>['shoesdaytuesday', 'afterskewlslide']</td>\n      <td>[]</td>\n      <td>...</td>\n      <td>NaN</td>\n      <td>NaN</td>\n      <td>NaN</td>\n      <td>NaN</td>\n      <td>NaN</td>\n      <td>[]</td>\n      <td>NaN</td>\n      <td>NaN</td>\n      <td>NaN</td>\n      <td>NaN</td>\n    </tr>\n    <tr>\n      <th>2</th>\n      <td>1427667300488937476</td>\n      <td>1427667300488937476</td>\n      <td>1.629217e+12</td>\n      <td>2021-08-17 18:23:03</td>\n      <td>200</td>\n      <td>NaN</td>\n      <td>RT @ValaAfshar: You are not your job.</td>\n      <td>en</td>\n      <td>[]</td>\n      <td>[]</td>\n      <td>...</td>\n      <td>NaN</td>\n      <td>NaN</td>\n      <td>2.597252e+08</td>\n      <td>You are not your job.</td>\n      <td>1.427648e+18</td>\n      <td>[]</td>\n      <td>2021-08-17 17:05:53 CEST</td>\n      <td>NaN</td>\n      <td>NaN</td>\n      <td>NaN</td>\n    </tr>\n    <tr>\n      <th>3</th>\n      <td>1427667012105371652</td>\n      <td>1427667012105371652</td>\n      <td>1.629217e+12</td>\n      <td>2021-08-17 18:21:55</td>\n      <td>200</td>\n      <td>NaN</td>\n      <td>What have we become 😔😂  Toddler Cites Freedom ...</td>\n      <td>en</td>\n      <td>[]</td>\n      <td>[]</td>\n      <td>...</td>\n      <td>NaN</td>\n      <td>NaN</td>\n      <td>NaN</td>\n      <td>NaN</td>\n      <td>NaN</td>\n      <td>[]</td>\n      <td>NaN</td>\n      <td>NaN</td>\n      <td>NaN</td>\n      <td>NaN</td>\n    </tr>\n    <tr>\n      <th>4</th>\n      <td>1427497703596990467</td>\n      <td>1427497703596990467</td>\n      <td>1.629177e+12</td>\n      <td>2021-08-17 07:09:08</td>\n      <td>200</td>\n      <td>NaN</td>\n      <td>The tech giants that refuse to massively addre...</td>\n      <td>en</td>\n      <td>[]</td>\n      <td>[]</td>\n      <td>...</td>\n      <td>NaN</td>\n      <td>NaN</td>\n      <td>NaN</td>\n      <td>NaN</td>\n      <td>NaN</td>\n      <td>[]</td>\n      <td>NaN</td>\n      <td>NaN</td>\n      <td>NaN</td>\n      <td>NaN</td>\n    </tr>\n    <tr>\n      <th>...</th>\n      <td>...</td>\n      <td>...</td>\n      <td>...</td>\n      <td>...</td>\n      <td>...</td>\n      <td>...</td>\n      <td>...</td>\n      <td>...</td>\n      <td>...</td>\n      <td>...</td>\n      <td>...</td>\n      <td>...</td>\n      <td>...</td>\n      <td>...</td>\n      <td>...</td>\n      <td>...</td>\n      <td>...</td>\n      <td>...</td>\n      <td>...</td>\n      <td>...</td>\n      <td>...</td>\n    </tr>\n    <tr>\n      <th>40576</th>\n      <td>1427593440469061634</td>\n      <td>1427593440469061634</td>\n      <td>1.629200e+12</td>\n      <td>2021-08-17 13:29:34</td>\n      <td>200</td>\n      <td>NaN</td>\n      <td>Commencement of works. #Agenda111  https://t.c...</td>\n      <td>en</td>\n      <td>['agenda111']</td>\n      <td>[]</td>\n      <td>...</td>\n      <td>NaN</td>\n      <td>NaN</td>\n      <td>NaN</td>\n      <td>NaN</td>\n      <td>NaN</td>\n      <td>[]</td>\n      <td>NaN</td>\n      <td>NaN</td>\n      <td>NaN</td>\n      <td>NaN</td>\n    </tr>\n    <tr>\n      <th>40577</th>\n      <td>1427592955272089642</td>\n      <td>1427592930722820096</td>\n      <td>1.629200e+12</td>\n      <td>2021-08-17 13:27:38</td>\n      <td>200</td>\n      <td>NaN</td>\n      <td>Commencement of works. #Agenda111  https://t.c...</td>\n      <td>en</td>\n      <td>['agenda111']</td>\n      <td>[]</td>\n      <td>...</td>\n      <td>NaN</td>\n      <td>NaN</td>\n      <td>NaN</td>\n      <td>NaN</td>\n      <td>NaN</td>\n      <td>[]</td>\n      <td>NaN</td>\n      <td>NaN</td>\n      <td>NaN</td>\n      <td>NaN</td>\n    </tr>\n    <tr>\n      <th>40578</th>\n      <td>1427592942441598980</td>\n      <td>1427592930722820096</td>\n      <td>1.629200e+12</td>\n      <td>2021-08-17 13:27:35</td>\n      <td>200</td>\n      <td>NaN</td>\n      <td>Commencement of works. #Agenda111  https://t.c...</td>\n      <td>en</td>\n      <td>['agenda111']</td>\n      <td>[]</td>\n      <td>...</td>\n      <td>NaN</td>\n      <td>NaN</td>\n      <td>NaN</td>\n      <td>NaN</td>\n      <td>NaN</td>\n      <td>[]</td>\n      <td>NaN</td>\n      <td>NaN</td>\n      <td>NaN</td>\n      <td>NaN</td>\n    </tr>\n    <tr>\n      <th>40579</th>\n      <td>1427592930722820096</td>\n      <td>1427592930722820096</td>\n      <td>1.629200e+12</td>\n      <td>2021-08-17 13:27:32</td>\n      <td>200</td>\n      <td>NaN</td>\n      <td>Commencement of works. #Agenda111  https://t.c...</td>\n      <td>en</td>\n      <td>['agenda111']</td>\n      <td>[]</td>\n      <td>...</td>\n      <td>NaN</td>\n      <td>NaN</td>\n      <td>NaN</td>\n      <td>NaN</td>\n      <td>NaN</td>\n      <td>[]</td>\n      <td>NaN</td>\n      <td>NaN</td>\n      <td>NaN</td>\n      <td>NaN</td>\n    </tr>\n    <tr>\n      <th>40580</th>\n      <td>1427335350658158598</td>\n      <td>1427335350658158598</td>\n      <td>1.629138e+12</td>\n      <td>2021-08-16 20:24:00</td>\n      <td>200</td>\n      <td>NaN</td>\n      <td>#Agenda111  https://t.co/M1FYBKXqK3</td>\n      <td>und</td>\n      <td>['agenda111']</td>\n      <td>[]</td>\n      <td>...</td>\n      <td>NaN</td>\n      <td>NaN</td>\n      <td>NaN</td>\n      <td>NaN</td>\n      <td>NaN</td>\n      <td>[]</td>\n      <td>NaN</td>\n      <td>NaN</td>\n      <td>NaN</td>\n      <td>NaN</td>\n    </tr>\n  </tbody>\n</table>\n<p>40581 rows × 38 columns</p>\n</div>"
     },
     "execution_count": 12,
     "metadata": {},
     "output_type": "execute_result"
    }
   ],
   "source": [
    "tweets"
   ],
   "metadata": {
    "collapsed": false,
    "ExecuteTime": {
     "end_time": "2024-02-19T18:36:12.370545900Z",
     "start_time": "2024-02-19T18:36:12.324852700Z"
    }
   },
   "id": "877d168c96127511",
   "execution_count": 12
  },
  {
   "cell_type": "code",
   "outputs": [
    {
     "name": "stdout",
     "output_type": "stream",
     "text": [
      "<class 'pandas.core.frame.DataFrame'>\n",
      "RangeIndex: 40581 entries, 0 to 40580\n",
      "Data columns (total 38 columns):\n",
      " #   Column           Non-Null Count  Dtype  \n",
      "---  ------           --------------  -----  \n",
      " 0   id               40581 non-null  int64  \n",
      " 1   conversation_id  40581 non-null  int64  \n",
      " 2   created_at       40581 non-null  float64\n",
      " 3   date             40581 non-null  object \n",
      " 4   timezone         40581 non-null  int64  \n",
      " 5   place            34 non-null     object \n",
      " 6   tweet            40581 non-null  object \n",
      " 7   language         40581 non-null  object \n",
      " 8   hashtags         40581 non-null  object \n",
      " 9   cashtags         40581 non-null  object \n",
      " 10  user_id          40581 non-null  int64  \n",
      " 11  user_id_str      40581 non-null  int64  \n",
      " 12  username         40581 non-null  object \n",
      " 13  name             40581 non-null  object \n",
      " 14  day              40581 non-null  int64  \n",
      " 15  hour             40581 non-null  int64  \n",
      " 16  link             40581 non-null  object \n",
      " 17  urls             40581 non-null  object \n",
      " 18  photos           40581 non-null  object \n",
      " 19  video            40581 non-null  int64  \n",
      " 20  thumbnail        9155 non-null   object \n",
      " 21  retweet          40581 non-null  bool   \n",
      " 22  nlikes           40581 non-null  int64  \n",
      " 23  nreplies         40581 non-null  int64  \n",
      " 24  nretweets        40581 non-null  int64  \n",
      " 25  quote_url        40581 non-null  object \n",
      " 26  search           0 non-null      float64\n",
      " 27  near             0 non-null      float64\n",
      " 28  geo              0 non-null      float64\n",
      " 29  source           0 non-null      float64\n",
      " 30  user_rt_id       6147 non-null   float64\n",
      " 31  user_rt          6147 non-null   object \n",
      " 32  retweet_id       6147 non-null   float64\n",
      " 33  reply_to         40581 non-null  object \n",
      " 34  retweet_date     6147 non-null   object \n",
      " 35  translate        0 non-null      float64\n",
      " 36  trans_src        0 non-null      float64\n",
      " 37  trans_dest       0 non-null      float64\n",
      "dtypes: bool(1), float64(10), int64(11), object(16)\n",
      "memory usage: 11.5+ MB\n"
     ]
    }
   ],
   "source": [
    "tweets.info()"
   ],
   "metadata": {
    "collapsed": false,
    "ExecuteTime": {
     "end_time": "2024-02-19T18:36:47.911111800Z",
     "start_time": "2024-02-19T18:36:47.876796200Z"
    }
   },
   "id": "b110265a7f5a628f",
   "execution_count": 13
  }
 ],
 "metadata": {
  "kernelspec": {
   "display_name": "Python 3",
   "language": "python",
   "name": "python3"
  },
  "language_info": {
   "codemirror_mode": {
    "name": "ipython",
    "version": 2
   },
   "file_extension": ".py",
   "mimetype": "text/x-python",
   "name": "python",
   "nbconvert_exporter": "python",
   "pygments_lexer": "ipython2",
   "version": "2.7.6"
  }
 },
 "nbformat": 4,
 "nbformat_minor": 5
}
