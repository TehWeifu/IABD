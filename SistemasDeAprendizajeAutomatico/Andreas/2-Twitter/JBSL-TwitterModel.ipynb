{
 "cells": [
  {
   "cell_type": "markdown",
   "source": [
    "# Predicting the popularity of tweets"
   ],
   "metadata": {
    "collapsed": false
   },
   "id": "626bb12a897bf457"
  },
  {
   "cell_type": "code",
   "id": "initial_id",
   "metadata": {
    "collapsed": true,
    "ExecuteTime": {
     "end_time": "2024-05-23T21:45:02.305306Z",
     "start_time": "2024-05-23T21:45:02.300651Z"
    }
   },
   "source": [
    "# Import all libraries needed through the whole notebook\n",
    "\n",
    "import matplotlib.pyplot as plt\n",
    "import numpy as np\n",
    "import pandas as pd\n",
    "import seaborn as sns\n",
    "from sklearn.ensemble import RandomForestClassifier, GradientBoostingClassifier\n",
    "from sklearn.linear_model import LogisticRegression\n",
    "from sklearn.metrics import accuracy_score, precision_score, recall_score, f1_score, roc_auc_score\n",
    "from sklearn.model_selection import GridSearchCV\n",
    "from sklearn.model_selection import train_test_split\n",
    "from sklearn.neighbors import KNeighborsClassifier\n",
    "from sklearn.preprocessing import LabelEncoder\n",
    "\n",
    "RANDOM_SEED = 2055\n",
    "TEST_SIZE = 0.2"
   ],
   "outputs": [],
   "execution_count": 102
  },
  {
   "cell_type": "markdown",
   "source": [
    "# Exploratory data analysis"
   ],
   "metadata": {
    "collapsed": false
   },
   "id": "ae7431b1f1e6261d"
  },
  {
   "cell_type": "markdown",
   "source": [
    "During the exploratory data analysis, we will look at the data to understand its structure and the relationships between the variables. We have two main goals during this phase:\n",
    "1. Choose which variable will be our target variable\n",
    "2. Identify the most important variables that will help us predict the target variable"
   ],
   "metadata": {
    "collapsed": false
   },
   "id": "d272045618e00e52"
  },
  {
   "cell_type": "markdown",
   "source": [
    "## Load the data"
   ],
   "metadata": {
    "collapsed": false
   },
   "id": "f43182b1e26fd9cd"
  },
  {
   "cell_type": "markdown",
   "source": [
    "The first step is to load the data and check the information about the columns and the data types are correct. One special thing to consider the data is that we have two datasets: one with the tweets and another with the users. We will need to join these datasets to have all the information in one place."
   ],
   "metadata": {
    "collapsed": false
   },
   "id": "cc12975dc25be04b"
  },
  {
   "cell_type": "code",
   "source": [
    "# Load both datasets\n",
    "tweets = pd.read_csv('./data/tweets.csv', low_memory=False)\n",
    "users = pd.read_csv('./data/users.csv')"
   ],
   "metadata": {
    "collapsed": false,
    "ExecuteTime": {
     "end_time": "2024-05-23T21:45:03.130967Z",
     "start_time": "2024-05-23T21:45:02.581524Z"
    }
   },
   "id": "158c06b8ea90c030",
   "outputs": [],
   "execution_count": 103
  },
  {
   "cell_type": "code",
   "source": [
    "# Join the datasets\n",
    "users.set_index('id', inplace=True)\n",
    "tweets_users = tweets.join(users, on='user_id', lsuffix='_tweet', rsuffix='_user', how='left')"
   ],
   "metadata": {
    "collapsed": false,
    "ExecuteTime": {
     "end_time": "2024-05-23T21:45:03.172649Z",
     "start_time": "2024-05-23T21:45:03.131984Z"
    }
   },
   "id": "f7fdd7efb6a9ae64",
   "outputs": [],
   "execution_count": 104
  },
  {
   "cell_type": "markdown",
   "source": [
    "### Check data has been loaded correctly"
   ],
   "metadata": {
    "collapsed": false
   },
   "id": "fe17f8f9d0344f24"
  },
  {
   "cell_type": "code",
   "source": [
    "tweets_users"
   ],
   "metadata": {
    "collapsed": false,
    "ExecuteTime": {
     "end_time": "2024-05-23T21:45:03.213049Z",
     "start_time": "2024-05-23T21:45:03.173689Z"
    }
   },
   "id": "4863b3fbcdfc7611",
   "outputs": [
    {
     "data": {
      "text/plain": [
       "                        id      conversation_id    created_at  \\\n",
       "0      1425590913959612419  1425590913959612419  1.628722e+12   \n",
       "1      1427736867739299841  1427736867739299841  1.629234e+12   \n",
       "2      1427667300488937476  1427667300488937476  1.629217e+12   \n",
       "3      1427667012105371652  1427667012105371652  1.629217e+12   \n",
       "4      1427497703596990467  1427497703596990467  1.629177e+12   \n",
       "...                    ...                  ...           ...   \n",
       "40576  1427593440469061634  1427593440469061634  1.629200e+12   \n",
       "40577  1427592955272089642  1427592930722820096  1.629200e+12   \n",
       "40578  1427592942441598980  1427592930722820096  1.629200e+12   \n",
       "40579  1427592930722820096  1427592930722820096  1.629200e+12   \n",
       "40580  1427335350658158598  1427335350658158598  1.629138e+12   \n",
       "\n",
       "                      date  timezone place  \\\n",
       "0      2021-08-12 00:52:14       200   NaN   \n",
       "1      2021-08-17 22:59:29       200   NaN   \n",
       "2      2021-08-17 18:23:03       200   NaN   \n",
       "3      2021-08-17 18:21:55       200   NaN   \n",
       "4      2021-08-17 07:09:08       200   NaN   \n",
       "...                    ...       ...   ...   \n",
       "40576  2021-08-17 13:29:34       200   NaN   \n",
       "40577  2021-08-17 13:27:38       200   NaN   \n",
       "40578  2021-08-17 13:27:35       200   NaN   \n",
       "40579  2021-08-17 13:27:32       200   NaN   \n",
       "40580  2021-08-16 20:24:00       200   NaN   \n",
       "\n",
       "                                                   tweet language  \\\n",
       "0      RT @girlsalliance: We're so proud of the four ...       en   \n",
       "1      Some casual suggestions to 😏SLIDE😏 into when u...       en   \n",
       "2                  RT @ValaAfshar: You are not your job.       en   \n",
       "3      What have we become 😔😂  Toddler Cites Freedom ...       en   \n",
       "4      The tech giants that refuse to massively addre...       en   \n",
       "...                                                  ...      ...   \n",
       "40576  Commencement of works. #Agenda111  https://t.c...       en   \n",
       "40577  Commencement of works. #Agenda111  https://t.c...       en   \n",
       "40578  Commencement of works. #Agenda111  https://t.c...       en   \n",
       "40579  Commencement of works. #Agenda111  https://t.c...       en   \n",
       "40580                #Agenda111  https://t.co/M1FYBKXqK3      und   \n",
       "\n",
       "                                     hashtags cashtags  ...  tweets  \\\n",
       "0                                          []       []  ...    1770   \n",
       "1      ['shoesdaytuesday', 'afterskewlslide']       []  ...   11420   \n",
       "2                                          []       []  ...   11420   \n",
       "3                                          []       []  ...   11420   \n",
       "4                                          []       []  ...   11420   \n",
       "...                                       ...      ...  ...     ...   \n",
       "40576                           ['agenda111']       []  ...    7744   \n",
       "40577                           ['agenda111']       []  ...    7744   \n",
       "40578                           ['agenda111']       []  ...    7744   \n",
       "40579                           ['agenda111']       []  ...    7744   \n",
       "40580                           ['agenda111']       []  ...    7744   \n",
       "\n",
       "             location following  followers  likes  media private verified  \\\n",
       "0      Washington, DC        16   20854298    184    461   False     True   \n",
       "1                 NaN       235  108819032   7995   2170   False     True   \n",
       "2                 NaN       235  108819032   7995   2170   False     True   \n",
       "3                 NaN       235  108819032   7995   2170   False     True   \n",
       "4                 NaN       235  108819032   7995   2170   False     True   \n",
       "...               ...       ...        ...    ...    ...     ...      ...   \n",
       "40576           Ghana       352    2003463    338   1499   False     True   \n",
       "40577           Ghana       352    2003463    338   1499   False     True   \n",
       "40578           Ghana       352    2003463    338   1499   False     True   \n",
       "40579           Ghana       352    2003463    338   1499   False     True   \n",
       "40580           Ghana       352    2003463    338   1499   False     True   \n",
       "\n",
       "                                                  avatar  \\\n",
       "0      https://pbs.twimg.com/profile_images/136674780...   \n",
       "1      https://pbs.twimg.com/profile_images/139246535...   \n",
       "2      https://pbs.twimg.com/profile_images/139246535...   \n",
       "3      https://pbs.twimg.com/profile_images/139246535...   \n",
       "4      https://pbs.twimg.com/profile_images/139246535...   \n",
       "...                                                  ...   \n",
       "40576  https://pbs.twimg.com/profile_images/817691975...   \n",
       "40577  https://pbs.twimg.com/profile_images/817691975...   \n",
       "40578  https://pbs.twimg.com/profile_images/817691975...   \n",
       "40579  https://pbs.twimg.com/profile_images/817691975...   \n",
       "40580  https://pbs.twimg.com/profile_images/817691975...   \n",
       "\n",
       "                                        background_image  \n",
       "0      https://pbs.twimg.com/profile_banners/40948655...  \n",
       "1      https://pbs.twimg.com/profile_banners/21447363...  \n",
       "2      https://pbs.twimg.com/profile_banners/21447363...  \n",
       "3      https://pbs.twimg.com/profile_banners/21447363...  \n",
       "4      https://pbs.twimg.com/profile_banners/21447363...  \n",
       "...                                                  ...  \n",
       "40576  https://pbs.twimg.com/profile_banners/24721710...  \n",
       "40577  https://pbs.twimg.com/profile_banners/24721710...  \n",
       "40578  https://pbs.twimg.com/profile_banners/24721710...  \n",
       "40579  https://pbs.twimg.com/profile_banners/24721710...  \n",
       "40580  https://pbs.twimg.com/profile_banners/24721710...  \n",
       "\n",
       "[40867 rows x 55 columns]"
      ],
      "text/html": [
       "<div>\n",
       "<style scoped>\n",
       "    .dataframe tbody tr th:only-of-type {\n",
       "        vertical-align: middle;\n",
       "    }\n",
       "\n",
       "    .dataframe tbody tr th {\n",
       "        vertical-align: top;\n",
       "    }\n",
       "\n",
       "    .dataframe thead th {\n",
       "        text-align: right;\n",
       "    }\n",
       "</style>\n",
       "<table border=\"1\" class=\"dataframe\">\n",
       "  <thead>\n",
       "    <tr style=\"text-align: right;\">\n",
       "      <th></th>\n",
       "      <th>id</th>\n",
       "      <th>conversation_id</th>\n",
       "      <th>created_at</th>\n",
       "      <th>date</th>\n",
       "      <th>timezone</th>\n",
       "      <th>place</th>\n",
       "      <th>tweet</th>\n",
       "      <th>language</th>\n",
       "      <th>hashtags</th>\n",
       "      <th>cashtags</th>\n",
       "      <th>...</th>\n",
       "      <th>tweets</th>\n",
       "      <th>location</th>\n",
       "      <th>following</th>\n",
       "      <th>followers</th>\n",
       "      <th>likes</th>\n",
       "      <th>media</th>\n",
       "      <th>private</th>\n",
       "      <th>verified</th>\n",
       "      <th>avatar</th>\n",
       "      <th>background_image</th>\n",
       "    </tr>\n",
       "  </thead>\n",
       "  <tbody>\n",
       "    <tr>\n",
       "      <th>0</th>\n",
       "      <td>1425590913959612419</td>\n",
       "      <td>1425590913959612419</td>\n",
       "      <td>1.628722e+12</td>\n",
       "      <td>2021-08-12 00:52:14</td>\n",
       "      <td>200</td>\n",
       "      <td>NaN</td>\n",
       "      <td>RT @girlsalliance: We're so proud of the four ...</td>\n",
       "      <td>en</td>\n",
       "      <td>[]</td>\n",
       "      <td>[]</td>\n",
       "      <td>...</td>\n",
       "      <td>1770</td>\n",
       "      <td>Washington, DC</td>\n",
       "      <td>16</td>\n",
       "      <td>20854298</td>\n",
       "      <td>184</td>\n",
       "      <td>461</td>\n",
       "      <td>False</td>\n",
       "      <td>True</td>\n",
       "      <td>https://pbs.twimg.com/profile_images/136674780...</td>\n",
       "      <td>https://pbs.twimg.com/profile_banners/40948655...</td>\n",
       "    </tr>\n",
       "    <tr>\n",
       "      <th>1</th>\n",
       "      <td>1427736867739299841</td>\n",
       "      <td>1427736867739299841</td>\n",
       "      <td>1.629234e+12</td>\n",
       "      <td>2021-08-17 22:59:29</td>\n",
       "      <td>200</td>\n",
       "      <td>NaN</td>\n",
       "      <td>Some casual suggestions to 😏SLIDE😏 into when u...</td>\n",
       "      <td>en</td>\n",
       "      <td>['shoesdaytuesday', 'afterskewlslide']</td>\n",
       "      <td>[]</td>\n",
       "      <td>...</td>\n",
       "      <td>11420</td>\n",
       "      <td>NaN</td>\n",
       "      <td>235</td>\n",
       "      <td>108819032</td>\n",
       "      <td>7995</td>\n",
       "      <td>2170</td>\n",
       "      <td>False</td>\n",
       "      <td>True</td>\n",
       "      <td>https://pbs.twimg.com/profile_images/139246535...</td>\n",
       "      <td>https://pbs.twimg.com/profile_banners/21447363...</td>\n",
       "    </tr>\n",
       "    <tr>\n",
       "      <th>2</th>\n",
       "      <td>1427667300488937476</td>\n",
       "      <td>1427667300488937476</td>\n",
       "      <td>1.629217e+12</td>\n",
       "      <td>2021-08-17 18:23:03</td>\n",
       "      <td>200</td>\n",
       "      <td>NaN</td>\n",
       "      <td>RT @ValaAfshar: You are not your job.</td>\n",
       "      <td>en</td>\n",
       "      <td>[]</td>\n",
       "      <td>[]</td>\n",
       "      <td>...</td>\n",
       "      <td>11420</td>\n",
       "      <td>NaN</td>\n",
       "      <td>235</td>\n",
       "      <td>108819032</td>\n",
       "      <td>7995</td>\n",
       "      <td>2170</td>\n",
       "      <td>False</td>\n",
       "      <td>True</td>\n",
       "      <td>https://pbs.twimg.com/profile_images/139246535...</td>\n",
       "      <td>https://pbs.twimg.com/profile_banners/21447363...</td>\n",
       "    </tr>\n",
       "    <tr>\n",
       "      <th>3</th>\n",
       "      <td>1427667012105371652</td>\n",
       "      <td>1427667012105371652</td>\n",
       "      <td>1.629217e+12</td>\n",
       "      <td>2021-08-17 18:21:55</td>\n",
       "      <td>200</td>\n",
       "      <td>NaN</td>\n",
       "      <td>What have we become 😔😂  Toddler Cites Freedom ...</td>\n",
       "      <td>en</td>\n",
       "      <td>[]</td>\n",
       "      <td>[]</td>\n",
       "      <td>...</td>\n",
       "      <td>11420</td>\n",
       "      <td>NaN</td>\n",
       "      <td>235</td>\n",
       "      <td>108819032</td>\n",
       "      <td>7995</td>\n",
       "      <td>2170</td>\n",
       "      <td>False</td>\n",
       "      <td>True</td>\n",
       "      <td>https://pbs.twimg.com/profile_images/139246535...</td>\n",
       "      <td>https://pbs.twimg.com/profile_banners/21447363...</td>\n",
       "    </tr>\n",
       "    <tr>\n",
       "      <th>4</th>\n",
       "      <td>1427497703596990467</td>\n",
       "      <td>1427497703596990467</td>\n",
       "      <td>1.629177e+12</td>\n",
       "      <td>2021-08-17 07:09:08</td>\n",
       "      <td>200</td>\n",
       "      <td>NaN</td>\n",
       "      <td>The tech giants that refuse to massively addre...</td>\n",
       "      <td>en</td>\n",
       "      <td>[]</td>\n",
       "      <td>[]</td>\n",
       "      <td>...</td>\n",
       "      <td>11420</td>\n",
       "      <td>NaN</td>\n",
       "      <td>235</td>\n",
       "      <td>108819032</td>\n",
       "      <td>7995</td>\n",
       "      <td>2170</td>\n",
       "      <td>False</td>\n",
       "      <td>True</td>\n",
       "      <td>https://pbs.twimg.com/profile_images/139246535...</td>\n",
       "      <td>https://pbs.twimg.com/profile_banners/21447363...</td>\n",
       "    </tr>\n",
       "    <tr>\n",
       "      <th>...</th>\n",
       "      <td>...</td>\n",
       "      <td>...</td>\n",
       "      <td>...</td>\n",
       "      <td>...</td>\n",
       "      <td>...</td>\n",
       "      <td>...</td>\n",
       "      <td>...</td>\n",
       "      <td>...</td>\n",
       "      <td>...</td>\n",
       "      <td>...</td>\n",
       "      <td>...</td>\n",
       "      <td>...</td>\n",
       "      <td>...</td>\n",
       "      <td>...</td>\n",
       "      <td>...</td>\n",
       "      <td>...</td>\n",
       "      <td>...</td>\n",
       "      <td>...</td>\n",
       "      <td>...</td>\n",
       "      <td>...</td>\n",
       "      <td>...</td>\n",
       "    </tr>\n",
       "    <tr>\n",
       "      <th>40576</th>\n",
       "      <td>1427593440469061634</td>\n",
       "      <td>1427593440469061634</td>\n",
       "      <td>1.629200e+12</td>\n",
       "      <td>2021-08-17 13:29:34</td>\n",
       "      <td>200</td>\n",
       "      <td>NaN</td>\n",
       "      <td>Commencement of works. #Agenda111  https://t.c...</td>\n",
       "      <td>en</td>\n",
       "      <td>['agenda111']</td>\n",
       "      <td>[]</td>\n",
       "      <td>...</td>\n",
       "      <td>7744</td>\n",
       "      <td>Ghana</td>\n",
       "      <td>352</td>\n",
       "      <td>2003463</td>\n",
       "      <td>338</td>\n",
       "      <td>1499</td>\n",
       "      <td>False</td>\n",
       "      <td>True</td>\n",
       "      <td>https://pbs.twimg.com/profile_images/817691975...</td>\n",
       "      <td>https://pbs.twimg.com/profile_banners/24721710...</td>\n",
       "    </tr>\n",
       "    <tr>\n",
       "      <th>40577</th>\n",
       "      <td>1427592955272089642</td>\n",
       "      <td>1427592930722820096</td>\n",
       "      <td>1.629200e+12</td>\n",
       "      <td>2021-08-17 13:27:38</td>\n",
       "      <td>200</td>\n",
       "      <td>NaN</td>\n",
       "      <td>Commencement of works. #Agenda111  https://t.c...</td>\n",
       "      <td>en</td>\n",
       "      <td>['agenda111']</td>\n",
       "      <td>[]</td>\n",
       "      <td>...</td>\n",
       "      <td>7744</td>\n",
       "      <td>Ghana</td>\n",
       "      <td>352</td>\n",
       "      <td>2003463</td>\n",
       "      <td>338</td>\n",
       "      <td>1499</td>\n",
       "      <td>False</td>\n",
       "      <td>True</td>\n",
       "      <td>https://pbs.twimg.com/profile_images/817691975...</td>\n",
       "      <td>https://pbs.twimg.com/profile_banners/24721710...</td>\n",
       "    </tr>\n",
       "    <tr>\n",
       "      <th>40578</th>\n",
       "      <td>1427592942441598980</td>\n",
       "      <td>1427592930722820096</td>\n",
       "      <td>1.629200e+12</td>\n",
       "      <td>2021-08-17 13:27:35</td>\n",
       "      <td>200</td>\n",
       "      <td>NaN</td>\n",
       "      <td>Commencement of works. #Agenda111  https://t.c...</td>\n",
       "      <td>en</td>\n",
       "      <td>['agenda111']</td>\n",
       "      <td>[]</td>\n",
       "      <td>...</td>\n",
       "      <td>7744</td>\n",
       "      <td>Ghana</td>\n",
       "      <td>352</td>\n",
       "      <td>2003463</td>\n",
       "      <td>338</td>\n",
       "      <td>1499</td>\n",
       "      <td>False</td>\n",
       "      <td>True</td>\n",
       "      <td>https://pbs.twimg.com/profile_images/817691975...</td>\n",
       "      <td>https://pbs.twimg.com/profile_banners/24721710...</td>\n",
       "    </tr>\n",
       "    <tr>\n",
       "      <th>40579</th>\n",
       "      <td>1427592930722820096</td>\n",
       "      <td>1427592930722820096</td>\n",
       "      <td>1.629200e+12</td>\n",
       "      <td>2021-08-17 13:27:32</td>\n",
       "      <td>200</td>\n",
       "      <td>NaN</td>\n",
       "      <td>Commencement of works. #Agenda111  https://t.c...</td>\n",
       "      <td>en</td>\n",
       "      <td>['agenda111']</td>\n",
       "      <td>[]</td>\n",
       "      <td>...</td>\n",
       "      <td>7744</td>\n",
       "      <td>Ghana</td>\n",
       "      <td>352</td>\n",
       "      <td>2003463</td>\n",
       "      <td>338</td>\n",
       "      <td>1499</td>\n",
       "      <td>False</td>\n",
       "      <td>True</td>\n",
       "      <td>https://pbs.twimg.com/profile_images/817691975...</td>\n",
       "      <td>https://pbs.twimg.com/profile_banners/24721710...</td>\n",
       "    </tr>\n",
       "    <tr>\n",
       "      <th>40580</th>\n",
       "      <td>1427335350658158598</td>\n",
       "      <td>1427335350658158598</td>\n",
       "      <td>1.629138e+12</td>\n",
       "      <td>2021-08-16 20:24:00</td>\n",
       "      <td>200</td>\n",
       "      <td>NaN</td>\n",
       "      <td>#Agenda111  https://t.co/M1FYBKXqK3</td>\n",
       "      <td>und</td>\n",
       "      <td>['agenda111']</td>\n",
       "      <td>[]</td>\n",
       "      <td>...</td>\n",
       "      <td>7744</td>\n",
       "      <td>Ghana</td>\n",
       "      <td>352</td>\n",
       "      <td>2003463</td>\n",
       "      <td>338</td>\n",
       "      <td>1499</td>\n",
       "      <td>False</td>\n",
       "      <td>True</td>\n",
       "      <td>https://pbs.twimg.com/profile_images/817691975...</td>\n",
       "      <td>https://pbs.twimg.com/profile_banners/24721710...</td>\n",
       "    </tr>\n",
       "  </tbody>\n",
       "</table>\n",
       "<p>40867 rows × 55 columns</p>\n",
       "</div>"
      ]
     },
     "execution_count": 105,
     "metadata": {},
     "output_type": "execute_result"
    }
   ],
   "execution_count": 105
  },
  {
   "cell_type": "markdown",
   "source": [
    "At first glance, we see that some columns do not have the expected data types. We will convert them to the correct data types before we make any analysis to make sure we don't have any problems with the data types."
   ],
   "metadata": {
    "collapsed": false
   },
   "id": "4e1a083254502f59"
  },
  {
   "cell_type": "code",
   "source": [
    "# Convert columns to the correct data types\n",
    "tweets_users['id'] = tweets_users['id'].astype('str')\n",
    "tweets_users['conversation_id'] = tweets_users['conversation_id'].astype('str')\n",
    "tweets_users['created_at'] = pd.to_datetime(tweets_users['created_at'], unit='ms')\n",
    "tweets_users['date'] = pd.to_datetime(tweets_users['date'])\n",
    "tweets_users['user_id'] = tweets_users['user_id'].astype('str')\n",
    "tweets_users['user_id_str'] = tweets_users['user_id_str'].astype('str')\n",
    "tweets_users['video'] = tweets_users['video'].astype('bool')\n",
    "tweets_users['user_rt_id'] = tweets_users['user_rt_id'].astype('str')\n",
    "tweets_users['retweet_id'] = tweets_users['retweet_id'].astype('str')\n",
    "tweets_users['retweet_date'] = pd.to_datetime(tweets_users['retweet_date'].str.rstrip(' CEST'))\n",
    "tweets_users['join_datetime'] = pd.to_datetime(tweets_users['join_datetime'])\n",
    "tweets_users['join_date'] = pd.to_datetime(tweets_users['join_date'])\n",
    "tweets_users['join_time'] = pd.to_datetime(tweets_users['join_time'], format='%H:%M:%S %Z').dt.time\n",
    "tweets_users['private'] = tweets_users['private'].astype('bool')\n",
    "tweets_users['verified'] = tweets_users['verified'].astype('bool')"
   ],
   "metadata": {
    "collapsed": false,
    "ExecuteTime": {
     "end_time": "2024-05-23T21:45:03.387531Z",
     "start_time": "2024-05-23T21:45:03.214067Z"
    }
   },
   "id": "867538180a90a9b9",
   "outputs": [],
   "execution_count": 106
  },
  {
   "cell_type": "code",
   "source": [
    "tweets_users.shape"
   ],
   "metadata": {
    "collapsed": false,
    "ExecuteTime": {
     "end_time": "2024-05-23T21:45:03.393148Z",
     "start_time": "2024-05-23T21:45:03.388482Z"
    }
   },
   "id": "420439777e02a2c0",
   "outputs": [
    {
     "data": {
      "text/plain": [
       "(40867, 55)"
      ]
     },
     "execution_count": 107,
     "metadata": {},
     "output_type": "execute_result"
    }
   ],
   "execution_count": 107
  },
  {
   "cell_type": "code",
   "source": [
    "tweets_users.info()"
   ],
   "metadata": {
    "collapsed": false,
    "ExecuteTime": {
     "end_time": "2024-05-23T21:45:03.435987Z",
     "start_time": "2024-05-23T21:45:03.394163Z"
    }
   },
   "id": "877d168c96127511",
   "outputs": [
    {
     "name": "stdout",
     "output_type": "stream",
     "text": [
      "<class 'pandas.core.frame.DataFrame'>\n",
      "Index: 40867 entries, 0 to 40580\n",
      "Data columns (total 55 columns):\n",
      " #   Column            Non-Null Count  Dtype              \n",
      "---  ------            --------------  -----              \n",
      " 0   id                40867 non-null  object             \n",
      " 1   conversation_id   40867 non-null  object             \n",
      " 2   created_at        40867 non-null  datetime64[ns]     \n",
      " 3   date              40867 non-null  datetime64[ns]     \n",
      " 4   timezone          40867 non-null  int64              \n",
      " 5   place             34 non-null     object             \n",
      " 6   tweet             40867 non-null  object             \n",
      " 7   language          40867 non-null  object             \n",
      " 8   hashtags          40867 non-null  object             \n",
      " 9   cashtags          40867 non-null  object             \n",
      " 10  user_id           40867 non-null  object             \n",
      " 11  user_id_str       40867 non-null  object             \n",
      " 12  username_tweet    40867 non-null  object             \n",
      " 13  name_tweet        40867 non-null  object             \n",
      " 14  day               40867 non-null  int64              \n",
      " 15  hour              40867 non-null  int64              \n",
      " 16  link              40867 non-null  object             \n",
      " 17  urls              40867 non-null  object             \n",
      " 18  photos            40867 non-null  object             \n",
      " 19  video             40867 non-null  bool               \n",
      " 20  thumbnail         9223 non-null   object             \n",
      " 21  retweet           40867 non-null  bool               \n",
      " 22  nlikes            40867 non-null  int64              \n",
      " 23  nreplies          40867 non-null  int64              \n",
      " 24  nretweets         40867 non-null  int64              \n",
      " 25  quote_url         40867 non-null  object             \n",
      " 26  search            0 non-null      float64            \n",
      " 27  near              0 non-null      float64            \n",
      " 28  geo               0 non-null      float64            \n",
      " 29  source            0 non-null      float64            \n",
      " 30  user_rt_id        40867 non-null  object             \n",
      " 31  user_rt           6182 non-null   object             \n",
      " 32  retweet_id        40867 non-null  object             \n",
      " 33  reply_to          40867 non-null  object             \n",
      " 34  retweet_date      6182 non-null   datetime64[ns]     \n",
      " 35  translate         0 non-null      float64            \n",
      " 36  trans_src         0 non-null      float64            \n",
      " 37  trans_dest        0 non-null      float64            \n",
      " 38  name_user         40867 non-null  object             \n",
      " 39  username_user     40867 non-null  object             \n",
      " 40  bio               40297 non-null  object             \n",
      " 41  url               37694 non-null  object             \n",
      " 42  join_datetime     40867 non-null  datetime64[ns, UTC]\n",
      " 43  join_date         40867 non-null  datetime64[ns]     \n",
      " 44  join_time         40867 non-null  object             \n",
      " 45  tweets            40867 non-null  int64              \n",
      " 46  location          29065 non-null  object             \n",
      " 47  following         40867 non-null  int64              \n",
      " 48  followers         40867 non-null  int64              \n",
      " 49  likes             40867 non-null  int64              \n",
      " 50  media             40867 non-null  int64              \n",
      " 51  private           40867 non-null  bool               \n",
      " 52  verified          40867 non-null  bool               \n",
      " 53  avatar            40867 non-null  object             \n",
      " 54  background_image  40501 non-null  object             \n",
      "dtypes: bool(4), datetime64[ns, UTC](1), datetime64[ns](4), float64(7), int64(11), object(28)\n",
      "memory usage: 16.4+ MB\n"
     ]
    }
   ],
   "execution_count": 108
  },
  {
   "cell_type": "code",
   "source": [
    "tweets_users.describe()"
   ],
   "metadata": {
    "collapsed": false,
    "ExecuteTime": {
     "end_time": "2024-05-23T21:45:03.499386Z",
     "start_time": "2024-05-23T21:45:03.435987Z"
    }
   },
   "id": "b110265a7f5a628f",
   "outputs": [
    {
     "data": {
      "text/plain": [
       "                          created_at                           date  timezone  \\\n",
       "count                          40867                          40867   40867.0   \n",
       "mean   2021-08-15 13:00:53.727041280  2021-08-15 15:00:53.727041280     200.0   \n",
       "min              2021-08-11 22:00:00            2021-08-12 00:00:00     200.0   \n",
       "25%              2021-08-13 14:56:50            2021-08-13 16:56:50     200.0   \n",
       "50%              2021-08-15 15:30:01            2021-08-15 17:30:01     200.0   \n",
       "75%              2021-08-17 13:45:32            2021-08-17 15:45:32     200.0   \n",
       "max              2021-08-18 22:00:00            2021-08-19 00:00:00     200.0   \n",
       "std                              NaN                            NaN       0.0   \n",
       "\n",
       "                day          hour        nlikes      nreplies      nretweets  \\\n",
       "count  40867.000000  40867.000000  4.086700e+04  40867.000000   40867.000000   \n",
       "mean       3.816013     12.999560  1.417170e+03     78.194118     288.468569   \n",
       "min        1.000000      0.000000  0.000000e+00      0.000000       0.000000   \n",
       "25%        2.000000      6.000000  6.000000e+00      0.000000       4.000000   \n",
       "50%        4.000000     15.000000  3.900000e+01      3.000000      16.000000   \n",
       "75%        5.000000     19.000000  2.060000e+02     24.000000      74.000000   \n",
       "max        7.000000     23.000000  1.920242e+06  88035.000000  541964.000000   \n",
       "std        1.887138      7.328175  1.824648e+04    983.854499    4644.698916   \n",
       "\n",
       "       search  near  ...                   retweet_date  translate trans_src  \\\n",
       "count     0.0   0.0  ...                           6182        0.0       0.0   \n",
       "mean      NaN   NaN  ...  2021-08-12 23:04:28.001941248        NaN       NaN   \n",
       "min       NaN   NaN  ...            2015-09-01 12:10:02        NaN       NaN   \n",
       "25%       NaN   NaN  ...  2021-08-13 05:30:01.249999872        NaN       NaN   \n",
       "50%       NaN   NaN  ...            2021-08-15 00:38:46        NaN       NaN   \n",
       "75%       NaN   NaN  ...            2021-08-16 23:37:16        NaN       NaN   \n",
       "max       NaN   NaN  ...            2021-08-18 23:51:40        NaN       NaN   \n",
       "std       NaN   NaN  ...                            NaN        NaN       NaN   \n",
       "\n",
       "       trans_dest                      join_date         tweets     following  \\\n",
       "count         0.0                          40867   40867.000000  4.086700e+04   \n",
       "mean          NaN  2009-01-17 07:22:25.584456960  177398.772971  1.152955e+04   \n",
       "min           NaN            2006-03-21 00:00:00       5.000000  0.000000e+00   \n",
       "25%           NaN            2007-05-12 00:00:00   40113.000000  4.180000e+02   \n",
       "50%           NaN            2008-10-09 00:00:00  132248.000000  8.620000e+02   \n",
       "75%           NaN            2009-10-22 00:00:00  306127.000000  2.265000e+03   \n",
       "max           NaN            2021-06-21 00:00:00  508811.000000  4.200793e+06   \n",
       "std           NaN                            NaN  148999.823601  1.628862e+05   \n",
       "\n",
       "          followers          likes          media  \n",
       "count  4.086700e+04   40867.000000   40867.000000  \n",
       "mean   1.010760e+07   13963.126728   50492.908190  \n",
       "min    1.070000e+02       0.000000       5.000000  \n",
       "25%    3.039465e+06     353.000000    3402.000000  \n",
       "50%    4.878881e+06    2600.000000   22586.000000  \n",
       "75%    1.025547e+07    8759.000000   75519.000000  \n",
       "max    1.299093e+08  492144.000000  236024.000000  \n",
       "std    1.322146e+07   51451.295821   62376.057012  \n",
       "\n",
       "[8 rows x 22 columns]"
      ],
      "text/html": [
       "<div>\n",
       "<style scoped>\n",
       "    .dataframe tbody tr th:only-of-type {\n",
       "        vertical-align: middle;\n",
       "    }\n",
       "\n",
       "    .dataframe tbody tr th {\n",
       "        vertical-align: top;\n",
       "    }\n",
       "\n",
       "    .dataframe thead th {\n",
       "        text-align: right;\n",
       "    }\n",
       "</style>\n",
       "<table border=\"1\" class=\"dataframe\">\n",
       "  <thead>\n",
       "    <tr style=\"text-align: right;\">\n",
       "      <th></th>\n",
       "      <th>created_at</th>\n",
       "      <th>date</th>\n",
       "      <th>timezone</th>\n",
       "      <th>day</th>\n",
       "      <th>hour</th>\n",
       "      <th>nlikes</th>\n",
       "      <th>nreplies</th>\n",
       "      <th>nretweets</th>\n",
       "      <th>search</th>\n",
       "      <th>near</th>\n",
       "      <th>...</th>\n",
       "      <th>retweet_date</th>\n",
       "      <th>translate</th>\n",
       "      <th>trans_src</th>\n",
       "      <th>trans_dest</th>\n",
       "      <th>join_date</th>\n",
       "      <th>tweets</th>\n",
       "      <th>following</th>\n",
       "      <th>followers</th>\n",
       "      <th>likes</th>\n",
       "      <th>media</th>\n",
       "    </tr>\n",
       "  </thead>\n",
       "  <tbody>\n",
       "    <tr>\n",
       "      <th>count</th>\n",
       "      <td>40867</td>\n",
       "      <td>40867</td>\n",
       "      <td>40867.0</td>\n",
       "      <td>40867.000000</td>\n",
       "      <td>40867.000000</td>\n",
       "      <td>4.086700e+04</td>\n",
       "      <td>40867.000000</td>\n",
       "      <td>40867.000000</td>\n",
       "      <td>0.0</td>\n",
       "      <td>0.0</td>\n",
       "      <td>...</td>\n",
       "      <td>6182</td>\n",
       "      <td>0.0</td>\n",
       "      <td>0.0</td>\n",
       "      <td>0.0</td>\n",
       "      <td>40867</td>\n",
       "      <td>40867.000000</td>\n",
       "      <td>4.086700e+04</td>\n",
       "      <td>4.086700e+04</td>\n",
       "      <td>40867.000000</td>\n",
       "      <td>40867.000000</td>\n",
       "    </tr>\n",
       "    <tr>\n",
       "      <th>mean</th>\n",
       "      <td>2021-08-15 13:00:53.727041280</td>\n",
       "      <td>2021-08-15 15:00:53.727041280</td>\n",
       "      <td>200.0</td>\n",
       "      <td>3.816013</td>\n",
       "      <td>12.999560</td>\n",
       "      <td>1.417170e+03</td>\n",
       "      <td>78.194118</td>\n",
       "      <td>288.468569</td>\n",
       "      <td>NaN</td>\n",
       "      <td>NaN</td>\n",
       "      <td>...</td>\n",
       "      <td>2021-08-12 23:04:28.001941248</td>\n",
       "      <td>NaN</td>\n",
       "      <td>NaN</td>\n",
       "      <td>NaN</td>\n",
       "      <td>2009-01-17 07:22:25.584456960</td>\n",
       "      <td>177398.772971</td>\n",
       "      <td>1.152955e+04</td>\n",
       "      <td>1.010760e+07</td>\n",
       "      <td>13963.126728</td>\n",
       "      <td>50492.908190</td>\n",
       "    </tr>\n",
       "    <tr>\n",
       "      <th>min</th>\n",
       "      <td>2021-08-11 22:00:00</td>\n",
       "      <td>2021-08-12 00:00:00</td>\n",
       "      <td>200.0</td>\n",
       "      <td>1.000000</td>\n",
       "      <td>0.000000</td>\n",
       "      <td>0.000000e+00</td>\n",
       "      <td>0.000000</td>\n",
       "      <td>0.000000</td>\n",
       "      <td>NaN</td>\n",
       "      <td>NaN</td>\n",
       "      <td>...</td>\n",
       "      <td>2015-09-01 12:10:02</td>\n",
       "      <td>NaN</td>\n",
       "      <td>NaN</td>\n",
       "      <td>NaN</td>\n",
       "      <td>2006-03-21 00:00:00</td>\n",
       "      <td>5.000000</td>\n",
       "      <td>0.000000e+00</td>\n",
       "      <td>1.070000e+02</td>\n",
       "      <td>0.000000</td>\n",
       "      <td>5.000000</td>\n",
       "    </tr>\n",
       "    <tr>\n",
       "      <th>25%</th>\n",
       "      <td>2021-08-13 14:56:50</td>\n",
       "      <td>2021-08-13 16:56:50</td>\n",
       "      <td>200.0</td>\n",
       "      <td>2.000000</td>\n",
       "      <td>6.000000</td>\n",
       "      <td>6.000000e+00</td>\n",
       "      <td>0.000000</td>\n",
       "      <td>4.000000</td>\n",
       "      <td>NaN</td>\n",
       "      <td>NaN</td>\n",
       "      <td>...</td>\n",
       "      <td>2021-08-13 05:30:01.249999872</td>\n",
       "      <td>NaN</td>\n",
       "      <td>NaN</td>\n",
       "      <td>NaN</td>\n",
       "      <td>2007-05-12 00:00:00</td>\n",
       "      <td>40113.000000</td>\n",
       "      <td>4.180000e+02</td>\n",
       "      <td>3.039465e+06</td>\n",
       "      <td>353.000000</td>\n",
       "      <td>3402.000000</td>\n",
       "    </tr>\n",
       "    <tr>\n",
       "      <th>50%</th>\n",
       "      <td>2021-08-15 15:30:01</td>\n",
       "      <td>2021-08-15 17:30:01</td>\n",
       "      <td>200.0</td>\n",
       "      <td>4.000000</td>\n",
       "      <td>15.000000</td>\n",
       "      <td>3.900000e+01</td>\n",
       "      <td>3.000000</td>\n",
       "      <td>16.000000</td>\n",
       "      <td>NaN</td>\n",
       "      <td>NaN</td>\n",
       "      <td>...</td>\n",
       "      <td>2021-08-15 00:38:46</td>\n",
       "      <td>NaN</td>\n",
       "      <td>NaN</td>\n",
       "      <td>NaN</td>\n",
       "      <td>2008-10-09 00:00:00</td>\n",
       "      <td>132248.000000</td>\n",
       "      <td>8.620000e+02</td>\n",
       "      <td>4.878881e+06</td>\n",
       "      <td>2600.000000</td>\n",
       "      <td>22586.000000</td>\n",
       "    </tr>\n",
       "    <tr>\n",
       "      <th>75%</th>\n",
       "      <td>2021-08-17 13:45:32</td>\n",
       "      <td>2021-08-17 15:45:32</td>\n",
       "      <td>200.0</td>\n",
       "      <td>5.000000</td>\n",
       "      <td>19.000000</td>\n",
       "      <td>2.060000e+02</td>\n",
       "      <td>24.000000</td>\n",
       "      <td>74.000000</td>\n",
       "      <td>NaN</td>\n",
       "      <td>NaN</td>\n",
       "      <td>...</td>\n",
       "      <td>2021-08-16 23:37:16</td>\n",
       "      <td>NaN</td>\n",
       "      <td>NaN</td>\n",
       "      <td>NaN</td>\n",
       "      <td>2009-10-22 00:00:00</td>\n",
       "      <td>306127.000000</td>\n",
       "      <td>2.265000e+03</td>\n",
       "      <td>1.025547e+07</td>\n",
       "      <td>8759.000000</td>\n",
       "      <td>75519.000000</td>\n",
       "    </tr>\n",
       "    <tr>\n",
       "      <th>max</th>\n",
       "      <td>2021-08-18 22:00:00</td>\n",
       "      <td>2021-08-19 00:00:00</td>\n",
       "      <td>200.0</td>\n",
       "      <td>7.000000</td>\n",
       "      <td>23.000000</td>\n",
       "      <td>1.920242e+06</td>\n",
       "      <td>88035.000000</td>\n",
       "      <td>541964.000000</td>\n",
       "      <td>NaN</td>\n",
       "      <td>NaN</td>\n",
       "      <td>...</td>\n",
       "      <td>2021-08-18 23:51:40</td>\n",
       "      <td>NaN</td>\n",
       "      <td>NaN</td>\n",
       "      <td>NaN</td>\n",
       "      <td>2021-06-21 00:00:00</td>\n",
       "      <td>508811.000000</td>\n",
       "      <td>4.200793e+06</td>\n",
       "      <td>1.299093e+08</td>\n",
       "      <td>492144.000000</td>\n",
       "      <td>236024.000000</td>\n",
       "    </tr>\n",
       "    <tr>\n",
       "      <th>std</th>\n",
       "      <td>NaN</td>\n",
       "      <td>NaN</td>\n",
       "      <td>0.0</td>\n",
       "      <td>1.887138</td>\n",
       "      <td>7.328175</td>\n",
       "      <td>1.824648e+04</td>\n",
       "      <td>983.854499</td>\n",
       "      <td>4644.698916</td>\n",
       "      <td>NaN</td>\n",
       "      <td>NaN</td>\n",
       "      <td>...</td>\n",
       "      <td>NaN</td>\n",
       "      <td>NaN</td>\n",
       "      <td>NaN</td>\n",
       "      <td>NaN</td>\n",
       "      <td>NaN</td>\n",
       "      <td>148999.823601</td>\n",
       "      <td>1.628862e+05</td>\n",
       "      <td>1.322146e+07</td>\n",
       "      <td>51451.295821</td>\n",
       "      <td>62376.057012</td>\n",
       "    </tr>\n",
       "  </tbody>\n",
       "</table>\n",
       "<p>8 rows × 22 columns</p>\n",
       "</div>"
      ]
     },
     "execution_count": 109,
     "metadata": {},
     "output_type": "execute_result"
    }
   ],
   "execution_count": 109
  },
  {
   "cell_type": "code",
   "source": [
    "tweets_users.nunique()"
   ],
   "metadata": {
    "collapsed": false,
    "ExecuteTime": {
     "end_time": "2024-05-23T21:45:03.627431Z",
     "start_time": "2024-05-23T21:45:03.500390Z"
    }
   },
   "id": "684952a9d5df9d3b",
   "outputs": [
    {
     "data": {
      "text/plain": [
       "id                  40581\n",
       "conversation_id     37273\n",
       "created_at          36756\n",
       "date                36756\n",
       "timezone                1\n",
       "place                  22\n",
       "tweet               40026\n",
       "language               40\n",
       "hashtags             2561\n",
       "cashtags                4\n",
       "user_id               847\n",
       "user_id_str           847\n",
       "username_tweet        847\n",
       "name_tweet            847\n",
       "day                     7\n",
       "hour                   24\n",
       "link                40581\n",
       "urls                19576\n",
       "photos               5344\n",
       "video                   2\n",
       "thumbnail            8661\n",
       "retweet                 2\n",
       "nlikes               4573\n",
       "nreplies             1258\n",
       "nretweets            2281\n",
       "quote_url            2446\n",
       "search                  0\n",
       "near                    0\n",
       "geo                     0\n",
       "source                  0\n",
       "user_rt_id           3560\n",
       "user_rt              6046\n",
       "retweet_id           6048\n",
       "reply_to             3576\n",
       "retweet_date         5972\n",
       "translate               0\n",
       "trans_src               0\n",
       "trans_dest              0\n",
       "name_user             847\n",
       "username_user         847\n",
       "bio                   796\n",
       "url                   733\n",
       "join_datetime         847\n",
       "join_date             600\n",
       "join_time             845\n",
       "tweets                839\n",
       "location              389\n",
       "following             676\n",
       "followers             857\n",
       "likes                 734\n",
       "media                 801\n",
       "private                 1\n",
       "verified                2\n",
       "avatar                847\n",
       "background_image      814\n",
       "dtype: int64"
      ]
     },
     "execution_count": 110,
     "metadata": {},
     "output_type": "execute_result"
    }
   ],
   "execution_count": 110
  },
  {
   "cell_type": "code",
   "source": [
    "tweets_users.isnull().sum()"
   ],
   "metadata": {
    "collapsed": false,
    "ExecuteTime": {
     "end_time": "2024-05-23T21:45:03.667225Z",
     "start_time": "2024-05-23T21:45:03.627950Z"
    }
   },
   "id": "c94e87bb22e167f1",
   "outputs": [
    {
     "data": {
      "text/plain": [
       "id                      0\n",
       "conversation_id         0\n",
       "created_at              0\n",
       "date                    0\n",
       "timezone                0\n",
       "place               40833\n",
       "tweet                   0\n",
       "language                0\n",
       "hashtags                0\n",
       "cashtags                0\n",
       "user_id                 0\n",
       "user_id_str             0\n",
       "username_tweet          0\n",
       "name_tweet              0\n",
       "day                     0\n",
       "hour                    0\n",
       "link                    0\n",
       "urls                    0\n",
       "photos                  0\n",
       "video                   0\n",
       "thumbnail           31644\n",
       "retweet                 0\n",
       "nlikes                  0\n",
       "nreplies                0\n",
       "nretweets               0\n",
       "quote_url               0\n",
       "search              40867\n",
       "near                40867\n",
       "geo                 40867\n",
       "source              40867\n",
       "user_rt_id              0\n",
       "user_rt             34685\n",
       "retweet_id              0\n",
       "reply_to                0\n",
       "retweet_date        34685\n",
       "translate           40867\n",
       "trans_src           40867\n",
       "trans_dest          40867\n",
       "name_user               0\n",
       "username_user           0\n",
       "bio                   570\n",
       "url                  3173\n",
       "join_datetime           0\n",
       "join_date               0\n",
       "join_time               0\n",
       "tweets                  0\n",
       "location            11802\n",
       "following               0\n",
       "followers               0\n",
       "likes                   0\n",
       "media                   0\n",
       "private                 0\n",
       "verified                0\n",
       "avatar                  0\n",
       "background_image      366\n",
       "dtype: int64"
      ]
     },
     "execution_count": 111,
     "metadata": {},
     "output_type": "execute_result"
    }
   ],
   "execution_count": 111
  },
  {
   "cell_type": "markdown",
   "source": [
    "The dataset has been loaded correctly, no issues were found during the process, and the data is coherent with what we could expect from each of the variables.\n",
    "\n"
   ],
   "metadata": {
    "collapsed": false
   },
   "id": "19e45cd8e9052ccd"
  },
  {
   "cell_type": "markdown",
   "source": [
    "### Data exploration"
   ],
   "metadata": {
    "collapsed": false
   },
   "id": "7287f5d3a05b65a1"
  },
  {
   "cell_type": "markdown",
   "source": [
    "After loading correctly the dataset and checking the data types, we will do an exploratory data analysis. This will help us understand the data and find out which is the most relevant variables for our project and how they can help us find a solution for the problem."
   ],
   "metadata": {
    "collapsed": false
   },
   "id": "f9963ad93c3b9b59"
  },
  {
   "cell_type": "code",
   "source": [
    "tweets_users.head(10)"
   ],
   "metadata": {
    "collapsed": false,
    "ExecuteTime": {
     "end_time": "2024-05-23T21:45:03.684536Z",
     "start_time": "2024-05-23T21:45:03.669181Z"
    }
   },
   "id": "1b471d8951c3f036",
   "outputs": [
    {
     "data": {
      "text/plain": [
       "                    id      conversation_id          created_at  \\\n",
       "0  1425590913959612419  1425590913959612419 2021-08-11 22:52:14   \n",
       "1  1427736867739299841  1427736867739299841 2021-08-17 20:59:29   \n",
       "2  1427667300488937476  1427667300488937476 2021-08-17 16:23:03   \n",
       "3  1427667012105371652  1427667012105371652 2021-08-17 16:21:55   \n",
       "4  1427497703596990467  1427497703596990467 2021-08-17 05:09:08   \n",
       "5  1426598917471305735  1426598917471305735 2021-08-14 17:37:41   \n",
       "6  1425588921233133572  1425588921233133572 2021-08-11 22:44:19   \n",
       "7  1427927723356430337  1427904450136510464 2021-08-18 09:37:53   \n",
       "8  1427806400919580672  1427806400919580672 2021-08-18 01:35:47   \n",
       "9  1427758371873202177  1427758371873202177 2021-08-17 22:24:56   \n",
       "\n",
       "                 date  timezone place  \\\n",
       "0 2021-08-12 00:52:14       200   NaN   \n",
       "1 2021-08-17 22:59:29       200   NaN   \n",
       "2 2021-08-17 18:23:03       200   NaN   \n",
       "3 2021-08-17 18:21:55       200   NaN   \n",
       "4 2021-08-17 07:09:08       200   NaN   \n",
       "5 2021-08-14 19:37:41       200   NaN   \n",
       "6 2021-08-12 00:44:19       200   NaN   \n",
       "7 2021-08-18 11:37:53       200   NaN   \n",
       "8 2021-08-18 03:35:47       200   NaN   \n",
       "9 2021-08-18 00:24:56       200   NaN   \n",
       "\n",
       "                                               tweet language  \\\n",
       "0  RT @girlsalliance: We're so proud of the four ...       en   \n",
       "1  Some casual suggestions to 😏SLIDE😏 into when u...       en   \n",
       "2              RT @ValaAfshar: You are not your job.       en   \n",
       "3  What have we become 😔😂  Toddler Cites Freedom ...       en   \n",
       "4  The tech giants that refuse to massively addre...       en   \n",
       "5  RT @peterdaou: An Italian town hit 124 degrees...       en   \n",
       "6  Thank you @MTV @vmas! ⚔️💓  https://t.co/iyo2KW...       en   \n",
       "7                  @Jefflez @LeroyAhBen Love you !!!       en   \n",
       "8  Why would anyone be shocked that I’m drinking ...       en   \n",
       "9  RT @mrtimchan: Wrote about @MariahCarey's new ...       en   \n",
       "\n",
       "                                 hashtags cashtags  ... tweets  \\\n",
       "0                                      []       []  ...   1770   \n",
       "1  ['shoesdaytuesday', 'afterskewlslide']       []  ...  11420   \n",
       "2                                      []       []  ...  11420   \n",
       "3                                      []       []  ...  11420   \n",
       "4                                      []       []  ...  11420   \n",
       "5                    ['climateemergency']       []  ...  11420   \n",
       "6                                      []       []  ...   9519   \n",
       "7                                      []       []  ...  10252   \n",
       "8                                      []       []  ...  10252   \n",
       "9                                      []       []  ...  10252   \n",
       "\n",
       "                         location following  followers  likes  media private  \\\n",
       "0                  Washington, DC        16   20854298    184    461   False   \n",
       "1                             NaN       235  108819032   7995   2170   False   \n",
       "2                             NaN       235  108819032   7995   2170   False   \n",
       "3                             NaN       235  108819032   7995   2170   False   \n",
       "4                             NaN       235  108819032   7995   2170   False   \n",
       "5                             NaN       235  108819032   7995   2170   False   \n",
       "6                             NaN    119314   83675119   2310   1795   False   \n",
       "7  Citizen of the World Dahhhling       188   21612341   4346   2504   False   \n",
       "8  Citizen of the World Dahhhling       188   21612341   4346   2504   False   \n",
       "9  Citizen of the World Dahhhling       188   21612341   4346   2504   False   \n",
       "\n",
       "  verified                                             avatar  \\\n",
       "0     True  https://pbs.twimg.com/profile_images/136674780...   \n",
       "1     True  https://pbs.twimg.com/profile_images/139246535...   \n",
       "2     True  https://pbs.twimg.com/profile_images/139246535...   \n",
       "3     True  https://pbs.twimg.com/profile_images/139246535...   \n",
       "4     True  https://pbs.twimg.com/profile_images/139246535...   \n",
       "5     True  https://pbs.twimg.com/profile_images/139246535...   \n",
       "6     True  https://pbs.twimg.com/profile_images/142258922...   \n",
       "7     True  https://pbs.twimg.com/profile_images/134656973...   \n",
       "8     True  https://pbs.twimg.com/profile_images/134656973...   \n",
       "9     True  https://pbs.twimg.com/profile_images/134656973...   \n",
       "\n",
       "                                    background_image  \n",
       "0  https://pbs.twimg.com/profile_banners/40948655...  \n",
       "1  https://pbs.twimg.com/profile_banners/21447363...  \n",
       "2  https://pbs.twimg.com/profile_banners/21447363...  \n",
       "3  https://pbs.twimg.com/profile_banners/21447363...  \n",
       "4  https://pbs.twimg.com/profile_banners/21447363...  \n",
       "5  https://pbs.twimg.com/profile_banners/21447363...  \n",
       "6  https://pbs.twimg.com/profile_banners/14230524...  \n",
       "7  https://pbs.twimg.com/profile_banners/19248106...  \n",
       "8  https://pbs.twimg.com/profile_banners/19248106...  \n",
       "9  https://pbs.twimg.com/profile_banners/19248106...  \n",
       "\n",
       "[10 rows x 55 columns]"
      ],
      "text/html": [
       "<div>\n",
       "<style scoped>\n",
       "    .dataframe tbody tr th:only-of-type {\n",
       "        vertical-align: middle;\n",
       "    }\n",
       "\n",
       "    .dataframe tbody tr th {\n",
       "        vertical-align: top;\n",
       "    }\n",
       "\n",
       "    .dataframe thead th {\n",
       "        text-align: right;\n",
       "    }\n",
       "</style>\n",
       "<table border=\"1\" class=\"dataframe\">\n",
       "  <thead>\n",
       "    <tr style=\"text-align: right;\">\n",
       "      <th></th>\n",
       "      <th>id</th>\n",
       "      <th>conversation_id</th>\n",
       "      <th>created_at</th>\n",
       "      <th>date</th>\n",
       "      <th>timezone</th>\n",
       "      <th>place</th>\n",
       "      <th>tweet</th>\n",
       "      <th>language</th>\n",
       "      <th>hashtags</th>\n",
       "      <th>cashtags</th>\n",
       "      <th>...</th>\n",
       "      <th>tweets</th>\n",
       "      <th>location</th>\n",
       "      <th>following</th>\n",
       "      <th>followers</th>\n",
       "      <th>likes</th>\n",
       "      <th>media</th>\n",
       "      <th>private</th>\n",
       "      <th>verified</th>\n",
       "      <th>avatar</th>\n",
       "      <th>background_image</th>\n",
       "    </tr>\n",
       "  </thead>\n",
       "  <tbody>\n",
       "    <tr>\n",
       "      <th>0</th>\n",
       "      <td>1425590913959612419</td>\n",
       "      <td>1425590913959612419</td>\n",
       "      <td>2021-08-11 22:52:14</td>\n",
       "      <td>2021-08-12 00:52:14</td>\n",
       "      <td>200</td>\n",
       "      <td>NaN</td>\n",
       "      <td>RT @girlsalliance: We're so proud of the four ...</td>\n",
       "      <td>en</td>\n",
       "      <td>[]</td>\n",
       "      <td>[]</td>\n",
       "      <td>...</td>\n",
       "      <td>1770</td>\n",
       "      <td>Washington, DC</td>\n",
       "      <td>16</td>\n",
       "      <td>20854298</td>\n",
       "      <td>184</td>\n",
       "      <td>461</td>\n",
       "      <td>False</td>\n",
       "      <td>True</td>\n",
       "      <td>https://pbs.twimg.com/profile_images/136674780...</td>\n",
       "      <td>https://pbs.twimg.com/profile_banners/40948655...</td>\n",
       "    </tr>\n",
       "    <tr>\n",
       "      <th>1</th>\n",
       "      <td>1427736867739299841</td>\n",
       "      <td>1427736867739299841</td>\n",
       "      <td>2021-08-17 20:59:29</td>\n",
       "      <td>2021-08-17 22:59:29</td>\n",
       "      <td>200</td>\n",
       "      <td>NaN</td>\n",
       "      <td>Some casual suggestions to 😏SLIDE😏 into when u...</td>\n",
       "      <td>en</td>\n",
       "      <td>['shoesdaytuesday', 'afterskewlslide']</td>\n",
       "      <td>[]</td>\n",
       "      <td>...</td>\n",
       "      <td>11420</td>\n",
       "      <td>NaN</td>\n",
       "      <td>235</td>\n",
       "      <td>108819032</td>\n",
       "      <td>7995</td>\n",
       "      <td>2170</td>\n",
       "      <td>False</td>\n",
       "      <td>True</td>\n",
       "      <td>https://pbs.twimg.com/profile_images/139246535...</td>\n",
       "      <td>https://pbs.twimg.com/profile_banners/21447363...</td>\n",
       "    </tr>\n",
       "    <tr>\n",
       "      <th>2</th>\n",
       "      <td>1427667300488937476</td>\n",
       "      <td>1427667300488937476</td>\n",
       "      <td>2021-08-17 16:23:03</td>\n",
       "      <td>2021-08-17 18:23:03</td>\n",
       "      <td>200</td>\n",
       "      <td>NaN</td>\n",
       "      <td>RT @ValaAfshar: You are not your job.</td>\n",
       "      <td>en</td>\n",
       "      <td>[]</td>\n",
       "      <td>[]</td>\n",
       "      <td>...</td>\n",
       "      <td>11420</td>\n",
       "      <td>NaN</td>\n",
       "      <td>235</td>\n",
       "      <td>108819032</td>\n",
       "      <td>7995</td>\n",
       "      <td>2170</td>\n",
       "      <td>False</td>\n",
       "      <td>True</td>\n",
       "      <td>https://pbs.twimg.com/profile_images/139246535...</td>\n",
       "      <td>https://pbs.twimg.com/profile_banners/21447363...</td>\n",
       "    </tr>\n",
       "    <tr>\n",
       "      <th>3</th>\n",
       "      <td>1427667012105371652</td>\n",
       "      <td>1427667012105371652</td>\n",
       "      <td>2021-08-17 16:21:55</td>\n",
       "      <td>2021-08-17 18:21:55</td>\n",
       "      <td>200</td>\n",
       "      <td>NaN</td>\n",
       "      <td>What have we become 😔😂  Toddler Cites Freedom ...</td>\n",
       "      <td>en</td>\n",
       "      <td>[]</td>\n",
       "      <td>[]</td>\n",
       "      <td>...</td>\n",
       "      <td>11420</td>\n",
       "      <td>NaN</td>\n",
       "      <td>235</td>\n",
       "      <td>108819032</td>\n",
       "      <td>7995</td>\n",
       "      <td>2170</td>\n",
       "      <td>False</td>\n",
       "      <td>True</td>\n",
       "      <td>https://pbs.twimg.com/profile_images/139246535...</td>\n",
       "      <td>https://pbs.twimg.com/profile_banners/21447363...</td>\n",
       "    </tr>\n",
       "    <tr>\n",
       "      <th>4</th>\n",
       "      <td>1427497703596990467</td>\n",
       "      <td>1427497703596990467</td>\n",
       "      <td>2021-08-17 05:09:08</td>\n",
       "      <td>2021-08-17 07:09:08</td>\n",
       "      <td>200</td>\n",
       "      <td>NaN</td>\n",
       "      <td>The tech giants that refuse to massively addre...</td>\n",
       "      <td>en</td>\n",
       "      <td>[]</td>\n",
       "      <td>[]</td>\n",
       "      <td>...</td>\n",
       "      <td>11420</td>\n",
       "      <td>NaN</td>\n",
       "      <td>235</td>\n",
       "      <td>108819032</td>\n",
       "      <td>7995</td>\n",
       "      <td>2170</td>\n",
       "      <td>False</td>\n",
       "      <td>True</td>\n",
       "      <td>https://pbs.twimg.com/profile_images/139246535...</td>\n",
       "      <td>https://pbs.twimg.com/profile_banners/21447363...</td>\n",
       "    </tr>\n",
       "    <tr>\n",
       "      <th>5</th>\n",
       "      <td>1426598917471305735</td>\n",
       "      <td>1426598917471305735</td>\n",
       "      <td>2021-08-14 17:37:41</td>\n",
       "      <td>2021-08-14 19:37:41</td>\n",
       "      <td>200</td>\n",
       "      <td>NaN</td>\n",
       "      <td>RT @peterdaou: An Italian town hit 124 degrees...</td>\n",
       "      <td>en</td>\n",
       "      <td>['climateemergency']</td>\n",
       "      <td>[]</td>\n",
       "      <td>...</td>\n",
       "      <td>11420</td>\n",
       "      <td>NaN</td>\n",
       "      <td>235</td>\n",
       "      <td>108819032</td>\n",
       "      <td>7995</td>\n",
       "      <td>2170</td>\n",
       "      <td>False</td>\n",
       "      <td>True</td>\n",
       "      <td>https://pbs.twimg.com/profile_images/139246535...</td>\n",
       "      <td>https://pbs.twimg.com/profile_banners/21447363...</td>\n",
       "    </tr>\n",
       "    <tr>\n",
       "      <th>6</th>\n",
       "      <td>1425588921233133572</td>\n",
       "      <td>1425588921233133572</td>\n",
       "      <td>2021-08-11 22:44:19</td>\n",
       "      <td>2021-08-12 00:44:19</td>\n",
       "      <td>200</td>\n",
       "      <td>NaN</td>\n",
       "      <td>Thank you @MTV @vmas! ⚔️💓  https://t.co/iyo2KW...</td>\n",
       "      <td>en</td>\n",
       "      <td>[]</td>\n",
       "      <td>[]</td>\n",
       "      <td>...</td>\n",
       "      <td>9519</td>\n",
       "      <td>NaN</td>\n",
       "      <td>119314</td>\n",
       "      <td>83675119</td>\n",
       "      <td>2310</td>\n",
       "      <td>1795</td>\n",
       "      <td>False</td>\n",
       "      <td>True</td>\n",
       "      <td>https://pbs.twimg.com/profile_images/142258922...</td>\n",
       "      <td>https://pbs.twimg.com/profile_banners/14230524...</td>\n",
       "    </tr>\n",
       "    <tr>\n",
       "      <th>7</th>\n",
       "      <td>1427927723356430337</td>\n",
       "      <td>1427904450136510464</td>\n",
       "      <td>2021-08-18 09:37:53</td>\n",
       "      <td>2021-08-18 11:37:53</td>\n",
       "      <td>200</td>\n",
       "      <td>NaN</td>\n",
       "      <td>@Jefflez @LeroyAhBen Love you !!!</td>\n",
       "      <td>en</td>\n",
       "      <td>[]</td>\n",
       "      <td>[]</td>\n",
       "      <td>...</td>\n",
       "      <td>10252</td>\n",
       "      <td>Citizen of the World Dahhhling</td>\n",
       "      <td>188</td>\n",
       "      <td>21612341</td>\n",
       "      <td>4346</td>\n",
       "      <td>2504</td>\n",
       "      <td>False</td>\n",
       "      <td>True</td>\n",
       "      <td>https://pbs.twimg.com/profile_images/134656973...</td>\n",
       "      <td>https://pbs.twimg.com/profile_banners/19248106...</td>\n",
       "    </tr>\n",
       "    <tr>\n",
       "      <th>8</th>\n",
       "      <td>1427806400919580672</td>\n",
       "      <td>1427806400919580672</td>\n",
       "      <td>2021-08-18 01:35:47</td>\n",
       "      <td>2021-08-18 03:35:47</td>\n",
       "      <td>200</td>\n",
       "      <td>NaN</td>\n",
       "      <td>Why would anyone be shocked that I’m drinking ...</td>\n",
       "      <td>en</td>\n",
       "      <td>[]</td>\n",
       "      <td>[]</td>\n",
       "      <td>...</td>\n",
       "      <td>10252</td>\n",
       "      <td>Citizen of the World Dahhhling</td>\n",
       "      <td>188</td>\n",
       "      <td>21612341</td>\n",
       "      <td>4346</td>\n",
       "      <td>2504</td>\n",
       "      <td>False</td>\n",
       "      <td>True</td>\n",
       "      <td>https://pbs.twimg.com/profile_images/134656973...</td>\n",
       "      <td>https://pbs.twimg.com/profile_banners/19248106...</td>\n",
       "    </tr>\n",
       "    <tr>\n",
       "      <th>9</th>\n",
       "      <td>1427758371873202177</td>\n",
       "      <td>1427758371873202177</td>\n",
       "      <td>2021-08-17 22:24:56</td>\n",
       "      <td>2021-08-18 00:24:56</td>\n",
       "      <td>200</td>\n",
       "      <td>NaN</td>\n",
       "      <td>RT @mrtimchan: Wrote about @MariahCarey's new ...</td>\n",
       "      <td>en</td>\n",
       "      <td>[]</td>\n",
       "      <td>[]</td>\n",
       "      <td>...</td>\n",
       "      <td>10252</td>\n",
       "      <td>Citizen of the World Dahhhling</td>\n",
       "      <td>188</td>\n",
       "      <td>21612341</td>\n",
       "      <td>4346</td>\n",
       "      <td>2504</td>\n",
       "      <td>False</td>\n",
       "      <td>True</td>\n",
       "      <td>https://pbs.twimg.com/profile_images/134656973...</td>\n",
       "      <td>https://pbs.twimg.com/profile_banners/19248106...</td>\n",
       "    </tr>\n",
       "  </tbody>\n",
       "</table>\n",
       "<p>10 rows × 55 columns</p>\n",
       "</div>"
      ]
     },
     "execution_count": 112,
     "metadata": {},
     "output_type": "execute_result"
    }
   ],
   "execution_count": 112
  },
  {
   "cell_type": "markdown",
   "source": [
    "**The dataset is formed by more than 40k records and 55 columns.** Each row represents a tweet and has additional information about the user who posted it. The data is collected from 2021/08/11 to 2021/08/18."
   ],
   "metadata": {
    "collapsed": false
   },
   "id": "f7eca39f30f49c5b"
  },
  {
   "cell_type": "markdown",
   "source": [
    "There is some data that is not relevant for our problem, **the dataset contains rows that do not represent original tweets, but retweets instead.** For this reason, we will filter out these records from the original dataset to keep only the original tweets."
   ],
   "metadata": {
    "collapsed": false
   },
   "id": "48938e5a4c3d1ccf"
  },
  {
   "cell_type": "markdown",
   "source": [
    "In order to find out which tweets are going to be the most relevant, we will have to define a target variable that determines the popularity of a tweet. Considering we are creating content for social media, we look for users who are willing to interact and read more about the content of the tweet and, therefore, read the article we share. **For this reason, we will use the number of comments as the target variable**, as it represents the users which read the tweet and wanted to share their thoughts and discuss about it."
   ],
   "metadata": {
    "collapsed": false
   },
   "id": "f058645d4a3f72e8"
  },
  {
   "cell_type": "markdown",
   "source": [
    "A tweet will be popular if it has more comments than the 90% of the dataset. This threshold is rather restrictive but leaves us with enough tweets for a journalist in the company to write an article about a topic that is comfortable for him.\n",
    "\n",
    "40k * 0.2 = 8k popular tweets  \n",
    "8k / 7 days = ~1200 tweets per day  \n",
    "1200 / 24 hours = 50 tweets per hour  \n",
    "\n",
    "50 tweets per hour is a more than reasonable amount of tweets for a company dedicated to content creation to write an article about the tweet. For now, even thought it could be a lot of tweets, we will keep this partition so the data is not too unbalanced and then we could adjusted based on the threshold if needed."
   ],
   "metadata": {
    "collapsed": false
   },
   "id": "f84f6cf74fcbdd3d"
  },
  {
   "cell_type": "code",
   "source": "tweets_users['popular'] = tweets_users['nreplies'] > tweets_users['nreplies'].quantile(0.80)",
   "metadata": {
    "collapsed": false,
    "ExecuteTime": {
     "end_time": "2024-05-23T21:45:03.693314Z",
     "start_time": "2024-05-23T21:45:03.685580Z"
    }
   },
   "id": "d26e1cfbb14e9243",
   "outputs": [],
   "execution_count": 113
  },
  {
   "cell_type": "markdown",
   "source": [
    "The dataset contains a broad number of features, some of them are not relevant for our problem or are just redundant. After a brief analysis, we can see that the following columns are relevant for our problem and will be need to be further analyzed:\n",
    "    - day: The day of the week (1 to 7) when the tweet was posted\n",
    "    - hour: The hour of the day (0 to 23) when the tweet was posted\n",
    "    - followers: The number of followers the user has\n",
    "    - conversation_id (vs id): If conversation_id is different from id, it means the tweet is a reply to another tweet. Even thought the most straight forward approach for this variable would be to delete the rows that are replies, since they will not be the most relevant tweets. It can also be interesting to keep it, as a popular reply to a tweet could mean high engagement. \n",
    "    \n",
    "To further analyze the data, we will plot some graphs to understand the distribution of the data and the relationships between the variables."
   ],
   "metadata": {
    "collapsed": false
   },
   "id": "29c1c3c374d39952"
  },
  {
   "cell_type": "code",
   "source": [
    "figure = plt.figure(figsize=(20, 10))\n",
    "axe = figure.add_subplot()\n",
    "\n",
    "figure.suptitle('Distribution of tweets per day', fontsize=16)\n",
    "\n",
    "sns.countplot(ax=axe, x='day', data=tweets_users)\n",
    "axe.set_xlabel('Day of the Week')\n",
    "axe.set_ylabel('Count')"
   ],
   "metadata": {
    "collapsed": false,
    "ExecuteTime": {
     "end_time": "2024-05-23T21:45:04.009852Z",
     "start_time": "2024-05-23T21:45:03.694327Z"
    }
   },
   "id": "24146995ef60a2e0",
   "outputs": [
    {
     "data": {
      "text/plain": [
       "Text(0, 0.5, 'Count')"
      ]
     },
     "execution_count": 114,
     "metadata": {},
     "output_type": "execute_result"
    },
    {
     "data": {
      "text/plain": [
       "<Figure size 2000x1000 with 1 Axes>"
      ],
      "image/png": "[encoded data removed]"
     },
     "metadata": {},
     "output_type": "display_data"
    }
   ],
   "execution_count": 114
  },
  {
   "cell_type": "code",
   "source": [
    "figure = plt.figure(figsize=(20, 10))\n",
    "axe = figure.add_subplot()\n",
    "\n",
    "figure.suptitle('Percentage of popular tweets per day', fontsize=16)\n",
    "\n",
    "sns.barplot(ax=axe, x='day', y='popular', data=tweets_users)\n",
    "axe.set_xlabel('Day of the Week')\n",
    "axe.set_ylabel('Percentage of popular tweets')"
   ],
   "metadata": {
    "collapsed": false,
    "ExecuteTime": {
     "end_time": "2024-05-23T21:45:04.822284Z",
     "start_time": "2024-05-23T21:45:04.010866Z"
    }
   },
   "id": "a5eac0bf7997f57e",
   "outputs": [
    {
     "data": {
      "text/plain": [
       "Text(0, 0.5, 'Percentage of popular tweets')"
      ]
     },
     "execution_count": 115,
     "metadata": {},
     "output_type": "execute_result"
    },
    {
     "data": {
      "text/plain": [
       "<Figure size 2000x1000 with 1 Axes>"
      ],
      "image/png": "[encoded data removed]"
     },
     "metadata": {},
     "output_type": "display_data"
    }
   ],
   "execution_count": 115
  },
  {
   "cell_type": "markdown",
   "source": [
    "As we can see on the graphs, the distribution of the tweets is pretty even during the week, with a small increase during the middle of the week and a small decrease during the weeks. However, the percentage of popular tweets is the opposite. This could be really helpful for the model"
   ],
   "metadata": {
    "collapsed": false
   },
   "id": "8da8b8fa8b76715c"
  },
  {
   "cell_type": "markdown",
   "source": [
    "## Data cleansing and feature engineering"
   ],
   "metadata": {
    "collapsed": false
   },
   "id": "6c608c2eba2ea11b"
  },
  {
   "cell_type": "markdown",
   "source": [
    "After defining the target variable and the most relevant features, we will clean the data to remove any irrelevant columns and rows as we have defined in the previous section."
   ],
   "metadata": {
    "collapsed": false
   },
   "id": "43ab064a4bee8f4b"
  },
  {
   "cell_type": "code",
   "source": [
    "# Drop tweets that are retweets\n",
    "tweets_users = tweets_users[tweets_users['retweet'] == False]"
   ],
   "metadata": {
    "collapsed": false,
    "ExecuteTime": {
     "end_time": "2024-05-23T21:45:04.843289Z",
     "start_time": "2024-05-23T21:45:04.823298Z"
    }
   },
   "id": "d06761ce2ded0eaf",
   "outputs": [],
   "execution_count": 116
  },
  {
   "cell_type": "markdown",
   "source": [
    "The variable `followers` has a big number of outliers. Even thought the data has been extracted from popular Twitter accounts, there are still accounts that have a massive number of followers. We categorize the followers into 5 categories:\n",
    "- 0 - 1.000.000 followers\n",
    "- 1.000.000 - 2.500.000 followers\n",
    "- 2.500.000 - 5.000.000 followers\n",
    "- 5.000.000 - 10.000.000 followers\n",
    "- 10.000.000+ followers"
   ],
   "metadata": {
    "collapsed": false
   },
   "id": "e016820c00e967d4"
  },
  {
   "cell_type": "code",
   "source": [
    "# Categorize the followers using .loc to avoid the SettingWithCopyWarning\n",
    "tweets_users.loc[:, 'followers'] = pd.cut(tweets_users['followers'],\n",
    "                                          bins=[0, 1_000_000, 2_500_000, 5_000_000, 10_000_000, float('inf')],\n",
    "                                          labels=['0-1M', '1M-2.5M', '2.5M-5M', '5M-10M', '10M+'])\n",
    "tweets_users['followers'].value_counts()"
   ],
   "metadata": {
    "collapsed": false,
    "ExecuteTime": {
     "end_time": "2024-05-23T21:45:04.852854Z",
     "start_time": "2024-05-23T21:45:04.844302Z"
    }
   },
   "id": "87820cbb42a1ba05",
   "outputs": [
    {
     "data": {
      "text/plain": [
       "followers\n",
       "2.5M-5M    9935\n",
       "10M+       9681\n",
       "5M-10M     7735\n",
       "1M-2.5M    4224\n",
       "0-1M       3110\n",
       "Name: count, dtype: int64"
      ]
     },
     "execution_count": 117,
     "metadata": {},
     "output_type": "execute_result"
    }
   ],
   "execution_count": 117
  },
  {
   "cell_type": "markdown",
   "source": [
    "For variables day and hour, we will transform them into cycler features. This helps the model realize that the hour 0 is closer to the hour 23 than to the hour 1, and the day 1 is closer to the day 7 than to the day 2."
   ],
   "metadata": {
    "collapsed": false
   },
   "id": "e478e365b2d05cc4"
  },
  {
   "cell_type": "code",
   "source": [
    "tweets_users = tweets_users.copy()\n",
    "\n",
    "# Transform day column into a cyclic feature\n",
    "tweets_users['day_sin'] = tweets_users['day'].apply(lambda x: np.sin(2 * np.pi * x / 7))\n",
    "tweets_users['day_cos'] = tweets_users['day'].apply(lambda x: np.cos(2 * np.pi * x / 7))\n",
    "\n",
    "# Transform hour column into a cyclic feature\n",
    "tweets_users['hour_sin'] = tweets_users['hour'].apply(lambda x: np.sin(2 * np.pi * x / 24))\n",
    "tweets_users['hour_cos'] = tweets_users['hour'].apply(lambda x: np.cos(2 * np.pi * x / 24))"
   ],
   "metadata": {
    "collapsed": false,
    "ExecuteTime": {
     "end_time": "2024-05-23T21:45:05.052953Z",
     "start_time": "2024-05-23T21:45:04.853867Z"
    }
   },
   "id": "e2253000558ad7c5",
   "outputs": [],
   "execution_count": 118
  },
  {
   "metadata": {},
   "cell_type": "markdown",
   "source": "Before going into the training section, we will take a look at the final dataset.",
   "id": "d4b744baf453e17d"
  },
  {
   "metadata": {
    "ExecuteTime": {
     "end_time": "2024-05-23T21:45:05.069914Z",
     "start_time": "2024-05-23T21:45:05.053963Z"
    }
   },
   "cell_type": "code",
   "source": [
    "features_chosen = ['day_sin', 'day_cos', 'hour_sin', 'hour_cos', 'followers', 'popular']\n",
    "\n",
    "tweets_users = tweets_users[features_chosen]\n",
    "tweets_users"
   ],
   "id": "a14835cf3ad8d7bd",
   "outputs": [
    {
     "data": {
      "text/plain": [
       "        day_sin   day_cos  hour_sin      hour_cos followers  popular\n",
       "1      0.974928 -0.222521 -0.500000  8.660254e-01      10M+     True\n",
       "3      0.974928 -0.222521 -1.000000 -1.836970e-16      10M+     True\n",
       "4      0.974928 -0.222521  0.965926 -2.588190e-01      10M+     True\n",
       "6     -0.433884 -0.900969  0.000000  1.000000e+00      10M+     True\n",
       "7      0.433884 -0.900969  0.258819 -9.659258e-01      10M+    False\n",
       "...         ...       ...       ...           ...       ...      ...\n",
       "40576  0.974928 -0.222521 -0.258819 -9.659258e-01   1M-2.5M     True\n",
       "40577  0.974928 -0.222521 -0.258819 -9.659258e-01   1M-2.5M    False\n",
       "40578  0.974928 -0.222521 -0.258819 -9.659258e-01   1M-2.5M    False\n",
       "40579  0.974928 -0.222521 -0.258819 -9.659258e-01   1M-2.5M     True\n",
       "40580  0.781831  0.623490 -0.866025  5.000000e-01   1M-2.5M     True\n",
       "\n",
       "[34685 rows x 6 columns]"
      ],
      "text/html": [
       "<div>\n",
       "<style scoped>\n",
       "    .dataframe tbody tr th:only-of-type {\n",
       "        vertical-align: middle;\n",
       "    }\n",
       "\n",
       "    .dataframe tbody tr th {\n",
       "        vertical-align: top;\n",
       "    }\n",
       "\n",
       "    .dataframe thead th {\n",
       "        text-align: right;\n",
       "    }\n",
       "</style>\n",
       "<table border=\"1\" class=\"dataframe\">\n",
       "  <thead>\n",
       "    <tr style=\"text-align: right;\">\n",
       "      <th></th>\n",
       "      <th>day_sin</th>\n",
       "      <th>day_cos</th>\n",
       "      <th>hour_sin</th>\n",
       "      <th>hour_cos</th>\n",
       "      <th>followers</th>\n",
       "      <th>popular</th>\n",
       "    </tr>\n",
       "  </thead>\n",
       "  <tbody>\n",
       "    <tr>\n",
       "      <th>1</th>\n",
       "      <td>0.974928</td>\n",
       "      <td>-0.222521</td>\n",
       "      <td>-0.500000</td>\n",
       "      <td>8.660254e-01</td>\n",
       "      <td>10M+</td>\n",
       "      <td>True</td>\n",
       "    </tr>\n",
       "    <tr>\n",
       "      <th>3</th>\n",
       "      <td>0.974928</td>\n",
       "      <td>-0.222521</td>\n",
       "      <td>-1.000000</td>\n",
       "      <td>-1.836970e-16</td>\n",
       "      <td>10M+</td>\n",
       "      <td>True</td>\n",
       "    </tr>\n",
       "    <tr>\n",
       "      <th>4</th>\n",
       "      <td>0.974928</td>\n",
       "      <td>-0.222521</td>\n",
       "      <td>0.965926</td>\n",
       "      <td>-2.588190e-01</td>\n",
       "      <td>10M+</td>\n",
       "      <td>True</td>\n",
       "    </tr>\n",
       "    <tr>\n",
       "      <th>6</th>\n",
       "      <td>-0.433884</td>\n",
       "      <td>-0.900969</td>\n",
       "      <td>0.000000</td>\n",
       "      <td>1.000000e+00</td>\n",
       "      <td>10M+</td>\n",
       "      <td>True</td>\n",
       "    </tr>\n",
       "    <tr>\n",
       "      <th>7</th>\n",
       "      <td>0.433884</td>\n",
       "      <td>-0.900969</td>\n",
       "      <td>0.258819</td>\n",
       "      <td>-9.659258e-01</td>\n",
       "      <td>10M+</td>\n",
       "      <td>False</td>\n",
       "    </tr>\n",
       "    <tr>\n",
       "      <th>...</th>\n",
       "      <td>...</td>\n",
       "      <td>...</td>\n",
       "      <td>...</td>\n",
       "      <td>...</td>\n",
       "      <td>...</td>\n",
       "      <td>...</td>\n",
       "    </tr>\n",
       "    <tr>\n",
       "      <th>40576</th>\n",
       "      <td>0.974928</td>\n",
       "      <td>-0.222521</td>\n",
       "      <td>-0.258819</td>\n",
       "      <td>-9.659258e-01</td>\n",
       "      <td>1M-2.5M</td>\n",
       "      <td>True</td>\n",
       "    </tr>\n",
       "    <tr>\n",
       "      <th>40577</th>\n",
       "      <td>0.974928</td>\n",
       "      <td>-0.222521</td>\n",
       "      <td>-0.258819</td>\n",
       "      <td>-9.659258e-01</td>\n",
       "      <td>1M-2.5M</td>\n",
       "      <td>False</td>\n",
       "    </tr>\n",
       "    <tr>\n",
       "      <th>40578</th>\n",
       "      <td>0.974928</td>\n",
       "      <td>-0.222521</td>\n",
       "      <td>-0.258819</td>\n",
       "      <td>-9.659258e-01</td>\n",
       "      <td>1M-2.5M</td>\n",
       "      <td>False</td>\n",
       "    </tr>\n",
       "    <tr>\n",
       "      <th>40579</th>\n",
       "      <td>0.974928</td>\n",
       "      <td>-0.222521</td>\n",
       "      <td>-0.258819</td>\n",
       "      <td>-9.659258e-01</td>\n",
       "      <td>1M-2.5M</td>\n",
       "      <td>True</td>\n",
       "    </tr>\n",
       "    <tr>\n",
       "      <th>40580</th>\n",
       "      <td>0.781831</td>\n",
       "      <td>0.623490</td>\n",
       "      <td>-0.866025</td>\n",
       "      <td>5.000000e-01</td>\n",
       "      <td>1M-2.5M</td>\n",
       "      <td>True</td>\n",
       "    </tr>\n",
       "  </tbody>\n",
       "</table>\n",
       "<p>34685 rows × 6 columns</p>\n",
       "</div>"
      ]
     },
     "execution_count": 119,
     "metadata": {},
     "output_type": "execute_result"
    }
   ],
   "execution_count": 119
  },
  {
   "cell_type": "markdown",
   "source": [
    "## Model training"
   ],
   "metadata": {
    "collapsed": false
   },
   "id": "b8e48f2967189b90"
  },
  {
   "cell_type": "markdown",
   "source": [
    "First we will split the data into training and test."
   ],
   "metadata": {
    "collapsed": false
   },
   "id": "eaf5385f900a2d2b"
  },
  {
   "cell_type": "code",
   "source": [
    "# Define the features and the target variable\n",
    "model_features = ['day_sin', 'day_cos', 'hour_sin', 'hour_cos', 'followers']\n",
    "model_target = 'popular'\n",
    "\n",
    "X = tweets_users[model_features]\n",
    "y = tweets_users[model_target]\n"
   ],
   "metadata": {
    "collapsed": false,
    "ExecuteTime": {
     "end_time": "2024-05-23T21:45:05.077479Z",
     "start_time": "2024-05-23T21:45:05.071927Z"
    }
   },
   "id": "feb71ae14e35534",
   "outputs": [],
   "execution_count": 120
  },
  {
   "cell_type": "code",
   "source": [
    "# Convert the followers column into a numerical column with label encoding\n",
    "label_encoder = LabelEncoder()\n",
    "X.loc[:, 'followers'] = label_encoder.fit_transform(X['followers'])"
   ],
   "metadata": {
    "collapsed": false,
    "ExecuteTime": {
     "end_time": "2024-05-23T21:45:05.089768Z",
     "start_time": "2024-05-23T21:45:05.078429Z"
    }
   },
   "id": "f434c886b3375959",
   "outputs": [],
   "execution_count": 121
  },
  {
   "cell_type": "code",
   "source": [
    "# Split the data into training and test\n",
    "X_train, X_test, y_train, y_test = train_test_split(X, y, test_size=TEST_SIZE, random_state=RANDOM_SEED)"
   ],
   "metadata": {
    "collapsed": false,
    "ExecuteTime": {
     "end_time": "2024-05-23T22:00:34.677471Z",
     "start_time": "2024-05-23T22:00:34.669957Z"
    }
   },
   "id": "bc0bb8361df8622b",
   "outputs": [],
   "execution_count": 129
  },
  {
   "metadata": {},
   "cell_type": "markdown",
   "source": [
    "We are going to choose the following 4 models to train and compare:\n",
    "- Logistic Regression\n",
    "- Random Forest\n",
    "- Gradient Boosting\n",
    "- k-Nearest Neighbors (kNN)"
   ],
   "id": "6eacadfff9dda86b"
  },
  {
   "metadata": {},
   "cell_type": "markdown",
   "source": "First, we will define some hyperparameters for each model. Then we will use GridSearchCV to find the best hyperparameters for each model.",
   "id": "cfccd1a4c2a56235"
  },
  {
   "metadata": {
    "ExecuteTime": {
     "end_time": "2024-05-23T22:00:34.782967Z",
     "start_time": "2024-05-23T22:00:34.778542Z"
    }
   },
   "cell_type": "code",
   "source": [
    "logistic_regression_hyper_param_grid = {\n",
    "    'C': [0.1, 1, 10],\n",
    "    'solver': ['liblinear'],\n",
    "}\n",
    "\n",
    "random_forest_hyper_param_grid = {\n",
    "    'n_estimators': [100, 200],\n",
    "    'max_depth': [None, 10, 20],\n",
    "    'min_samples_split': [2, 5]\n",
    "}\n",
    "\n",
    "gradient_boosting_hyper_param_grid = {\n",
    "    'n_estimators': [100, 200],\n",
    "    'learning_rate': [0.01, 0.1, 0.2],\n",
    "    'max_depth': [3, 5, 7]\n",
    "}\n",
    "\n",
    "knn_hyper_param_grid = {\n",
    "    'n_neighbors': [3, 5, 7],\n",
    "    'weights': ['uniform', 'distance']\n",
    "}"
   ],
   "id": "56f8151dee619602",
   "outputs": [],
   "execution_count": 130
  },
  {
   "metadata": {},
   "cell_type": "markdown",
   "source": "Initialize the models",
   "id": "4acb96675d50345"
  },
  {
   "metadata": {
    "ExecuteTime": {
     "end_time": "2024-05-23T22:00:34.813433Z",
     "start_time": "2024-05-23T22:00:34.810044Z"
    }
   },
   "cell_type": "code",
   "source": [
    "logistic_regression = LogisticRegression(class_weight='balanced')\n",
    "random_forest = RandomForestClassifier(class_weight='balanced')\n",
    "gradient_boosting = GradientBoostingClassifier()\n",
    "knn = KNeighborsClassifier()"
   ],
   "id": "6bf4fed22649795f",
   "outputs": [],
   "execution_count": 131
  },
  {
   "metadata": {},
   "cell_type": "markdown",
   "source": [
    "Now we will make the GridSearchCV. This will find the best hyperparameters, making use of cross-validation.\n",
    "The scoring used is recall, as explained in the previous section we want to maximize the number of popular tweets and never let a popular tweet be classified as not popular."
   ],
   "id": "5a9d69e788b49122"
  },
  {
   "metadata": {
    "ExecuteTime": {
     "end_time": "2024-05-23T22:00:34.919346Z",
     "start_time": "2024-05-23T22:00:34.914612Z"
    }
   },
   "cell_type": "code",
   "source": [
    "grid_search_logistic_regression = GridSearchCV(logistic_regression, logistic_regression_hyper_param_grid, cv=5,\n",
    "                                               scoring='recall')\n",
    "grid_search_random_forest = GridSearchCV(random_forest, random_forest_hyper_param_grid, cv=5, scoring='recall')\n",
    "grid_search_gradient_boosting = GridSearchCV(gradient_boosting, gradient_boosting_hyper_param_grid, cv=5,\n",
    "                                             scoring='recall')\n",
    "grid_search_knn = GridSearchCV(knn, knn_hyper_param_grid, cv=5, scoring='recall')"
   ],
   "id": "82cf1339b165dd36",
   "outputs": [],
   "execution_count": 132
  },
  {
   "metadata": {},
   "cell_type": "markdown",
   "source": "Train the models",
   "id": "c37a1c272bb3a05f"
  },
  {
   "metadata": {
    "ExecuteTime": {
     "end_time": "2024-05-23T22:05:04.416648Z",
     "start_time": "2024-05-23T22:00:34.949360Z"
    }
   },
   "cell_type": "code",
   "source": [
    "grid_search_logistic_regression.fit(X_train, y_train)\n",
    "grid_search_random_forest.fit(X_train, y_train)\n",
    "grid_search_gradient_boosting.fit(X_train, y_train)\n",
    "grid_search_knn.fit(X_train, y_train)"
   ],
   "id": "abd65a0a3ef8a70d",
   "outputs": [
    {
     "data": {
      "text/plain": [
       "GridSearchCV(cv=5, estimator=KNeighborsClassifier(),\n",
       "             param_grid={'n_neighbors': [3, 5, 7],\n",
       "                         'weights': ['uniform', 'distance']},\n",
       "             scoring='recall')"
      ],
      "text/html": [
       "<style>#sk-container-id-3 {color: black;}#sk-container-id-3 pre{padding: 0;}#sk-container-id-3 div.sk-toggleable {background-color: white;}#sk-container-id-3 label.sk-toggleable__label {cursor: pointer;display: block;width: 100%;margin-bottom: 0;padding: 0.3em;box-sizing: border-box;text-align: center;}#sk-container-id-3 label.sk-toggleable__label-arrow:before {content: \"▸\";float: left;margin-right: 0.25em;color: #696969;}#sk-container-id-3 label.sk-toggleable__label-arrow:hover:before {color: black;}#sk-container-id-3 div.sk-estimator:hover label.sk-toggleable__label-arrow:before {color: black;}#sk-container-id-3 div.sk-toggleable__content {max-height: 0;max-width: 0;overflow: hidden;text-align: left;background-color: #f0f8ff;}#sk-container-id-3 div.sk-toggleable__content pre {margin: 0.2em;color: black;border-radius: 0.25em;background-color: #f0f8ff;}#sk-container-id-3 input.sk-toggleable__control:checked~div.sk-toggleable__content {max-height: 200px;max-width: 100%;overflow: auto;}#sk-container-id-3 input.sk-toggleable__control:checked~label.sk-toggleable__label-arrow:before {content: \"▾\";}#sk-container-id-3 div.sk-estimator input.sk-toggleable__control:checked~label.sk-toggleable__label {background-color: #d4ebff;}#sk-container-id-3 div.sk-label input.sk-toggleable__control:checked~label.sk-toggleable__label {background-color: #d4ebff;}#sk-container-id-3 input.sk-hidden--visually {border: 0;clip: rect(1px 1px 1px 1px);clip: rect(1px, 1px, 1px, 1px);height: 1px;margin: -1px;overflow: hidden;padding: 0;position: absolute;width: 1px;}#sk-container-id-3 div.sk-estimator {font-family: monospace;background-color: #f0f8ff;border: 1px dotted black;border-radius: 0.25em;box-sizing: border-box;margin-bottom: 0.5em;}#sk-container-id-3 div.sk-estimator:hover {background-color: #d4ebff;}#sk-container-id-3 div.sk-parallel-item::after {content: \"\";width: 100%;border-bottom: 1px solid gray;flex-grow: 1;}#sk-container-id-3 div.sk-label:hover label.sk-toggleable__label {background-color: #d4ebff;}#sk-container-id-3 div.sk-serial::before {content: \"\";position: absolute;border-left: 1px solid gray;box-sizing: border-box;top: 0;bottom: 0;left: 50%;z-index: 0;}#sk-container-id-3 div.sk-serial {display: flex;flex-direction: column;align-items: center;background-color: white;padding-right: 0.2em;padding-left: 0.2em;position: relative;}#sk-container-id-3 div.sk-item {position: relative;z-index: 1;}#sk-container-id-3 div.sk-parallel {display: flex;align-items: stretch;justify-content: center;background-color: white;position: relative;}#sk-container-id-3 div.sk-item::before, #sk-container-id-3 div.sk-parallel-item::before {content: \"\";position: absolute;border-left: 1px solid gray;box-sizing: border-box;top: 0;bottom: 0;left: 50%;z-index: -1;}#sk-container-id-3 div.sk-parallel-item {display: flex;flex-direction: column;z-index: 1;position: relative;background-color: white;}#sk-container-id-3 div.sk-parallel-item:first-child::after {align-self: flex-end;width: 50%;}#sk-container-id-3 div.sk-parallel-item:last-child::after {align-self: flex-start;width: 50%;}#sk-container-id-3 div.sk-parallel-item:only-child::after {width: 0;}#sk-container-id-3 div.sk-dashed-wrapped {border: 1px dashed gray;margin: 0 0.4em 0.5em 0.4em;box-sizing: border-box;padding-bottom: 0.4em;background-color: white;}#sk-container-id-3 div.sk-label label {font-family: monospace;font-weight: bold;display: inline-block;line-height: 1.2em;}#sk-container-id-3 div.sk-label-container {text-align: center;}#sk-container-id-3 div.sk-container {/* jupyter's `normalize.less` sets `[hidden] { display: none; }` but bootstrap.min.css set `[hidden] { display: none !important; }` so we also need the `!important` here to be able to override the default hidden behavior on the sphinx rendered scikit-learn.org. See: https://github.com/scikit-learn/scikit-learn/issues/21755 */display: inline-block !important;position: relative;}#sk-container-id-3 div.sk-text-repr-fallback {display: none;}</style><div id=\"sk-container-id-3\" class=\"sk-top-container\"><div class=\"sk-text-repr-fallback\"><pre>GridSearchCV(cv=5, estimator=KNeighborsClassifier(),\n",
       "             param_grid={&#x27;n_neighbors&#x27;: [3, 5, 7],\n",
       "                         &#x27;weights&#x27;: [&#x27;uniform&#x27;, &#x27;distance&#x27;]},\n",
       "             scoring=&#x27;recall&#x27;)</pre><b>In a Jupyter environment, please rerun this cell to show the HTML representation or trust the notebook. <br />On GitHub, the HTML representation is unable to render, please try loading this page with nbviewer.org.</b></div><div class=\"sk-container\" hidden><div class=\"sk-item sk-dashed-wrapped\"><div class=\"sk-label-container\"><div class=\"sk-label sk-toggleable\"><input class=\"sk-toggleable__control sk-hidden--visually\" id=\"sk-estimator-id-7\" type=\"checkbox\" ><label for=\"sk-estimator-id-7\" class=\"sk-toggleable__label sk-toggleable__label-arrow\">GridSearchCV</label><div class=\"sk-toggleable__content\"><pre>GridSearchCV(cv=5, estimator=KNeighborsClassifier(),\n",
       "             param_grid={&#x27;n_neighbors&#x27;: [3, 5, 7],\n",
       "                         &#x27;weights&#x27;: [&#x27;uniform&#x27;, &#x27;distance&#x27;]},\n",
       "             scoring=&#x27;recall&#x27;)</pre></div></div></div><div class=\"sk-parallel\"><div class=\"sk-parallel-item\"><div class=\"sk-item\"><div class=\"sk-label-container\"><div class=\"sk-label sk-toggleable\"><input class=\"sk-toggleable__control sk-hidden--visually\" id=\"sk-estimator-id-8\" type=\"checkbox\" ><label for=\"sk-estimator-id-8\" class=\"sk-toggleable__label sk-toggleable__label-arrow\">estimator: KNeighborsClassifier</label><div class=\"sk-toggleable__content\"><pre>KNeighborsClassifier()</pre></div></div></div><div class=\"sk-serial\"><div class=\"sk-item\"><div class=\"sk-estimator sk-toggleable\"><input class=\"sk-toggleable__control sk-hidden--visually\" id=\"sk-estimator-id-9\" type=\"checkbox\" ><label for=\"sk-estimator-id-9\" class=\"sk-toggleable__label sk-toggleable__label-arrow\">KNeighborsClassifier</label><div class=\"sk-toggleable__content\"><pre>KNeighborsClassifier()</pre></div></div></div></div></div></div></div></div></div></div>"
      ]
     },
     "execution_count": 133,
     "metadata": {},
     "output_type": "execute_result"
    }
   ],
   "execution_count": 133
  },
  {
   "metadata": {},
   "cell_type": "markdown",
   "source": "We will keep the best models of each type in order to evaluate them.",
   "id": "74ddeab8dc7b054d"
  },
  {
   "metadata": {
    "ExecuteTime": {
     "end_time": "2024-05-23T22:05:04.423194Z",
     "start_time": "2024-05-23T22:05:04.417681Z"
    }
   },
   "cell_type": "code",
   "source": [
    "best_logistic_regression = grid_search_logistic_regression.best_estimator_\n",
    "best_random_forest = grid_search_random_forest.best_estimator_\n",
    "best_gradient_boosting = grid_search_gradient_boosting.best_estimator_\n",
    "best_knn = grid_search_knn.best_estimator_"
   ],
   "id": "692c79b3e9f82cc0",
   "outputs": [],
   "execution_count": 134
  },
  {
   "metadata": {},
   "cell_type": "markdown",
   "source": "## Model evaluation",
   "id": "24508333797453e6"
  },
  {
   "cell_type": "code",
   "source": [
    "def evaluate_model(model, X_test, y_test):\n",
    "    y_pred = model.predict(X_test)\n",
    "    accuracy = accuracy_score(y_test, y_pred)\n",
    "    precision = precision_score(y_test, y_pred)\n",
    "    recall = recall_score(y_test, y_pred)\n",
    "    f1 = f1_score(y_test, y_pred)\n",
    "    roc_auc = roc_auc_score(y_test, y_pred)\n",
    "\n",
    "    print(f\"Accuracy: {accuracy:.4f}\")\n",
    "    print(f\"Precision: {precision:.4f}\")\n",
    "    print(f\"Recall: {recall:.4f}\")\n",
    "    print(f\"F1 Score: {f1:.4f}\")\n",
    "    print(f\"ROC-AUC: {roc_auc:.4f}\")\n",
    "\n",
    "\n",
    "print(\"Logistic Regression:\")\n",
    "evaluate_model(best_logistic_regression, X_test, y_test)\n",
    "print(\"\\nRandom Forest:\")\n",
    "evaluate_model(best_random_forest, X_test, y_test)\n",
    "print(\"\\nGradient Boosting:\")\n",
    "evaluate_model(best_gradient_boosting, X_test, y_test)\n",
    "print(\"\\nk-Nearest Neighbors:\")\n",
    "evaluate_model(best_knn, X_test, y_test)"
   ],
   "metadata": {
    "collapsed": false,
    "ExecuteTime": {
     "end_time": "2024-05-23T22:05:04.898936Z",
     "start_time": "2024-05-23T22:05:04.424233Z"
    }
   },
   "id": "37d8d7bb5eabacfd",
   "outputs": [
    {
     "name": "stdout",
     "output_type": "stream",
     "text": [
      "Logistic Regression:\n",
      "Accuracy: 0.5781\n",
      "Precision: 0.3136\n",
      "Recall: 0.6445\n",
      "F1 Score: 0.4219\n",
      "ROC-AUC: 0.6009\n",
      "\n",
      "Random Forest:\n",
      "Accuracy: 0.6719\n",
      "Precision: 0.3883\n",
      "Recall: 0.6494\n",
      "F1 Score: 0.4860\n",
      "ROC-AUC: 0.6642\n",
      "\n",
      "Gradient Boosting:\n",
      "Accuracy: 0.7617\n",
      "Precision: 0.5038\n",
      "Recall: 0.1587\n",
      "F1 Score: 0.2414\n",
      "ROC-AUC: 0.5548\n",
      "\n",
      "k-Nearest Neighbors:\n",
      "Accuracy: 0.7307\n",
      "Precision: 0.4064\n",
      "Recall: 0.2764\n",
      "F1 Score: 0.3290\n",
      "ROC-AUC: 0.5748\n"
     ]
    }
   ],
   "execution_count": 135
  },
  {
   "metadata": {},
   "cell_type": "markdown",
   "source": "As we can see, due to the imbalance of the dataset, the recall is very low for all models. RandomForest is the one which perform the best overall and we will choose it as the best model. As the last step, we will adjust the threshold for the popular tweets to see if we can improve the recall.",
   "id": "ee99118bd2e8e07f"
  },
  {
   "metadata": {
    "ExecuteTime": {
     "end_time": "2024-05-23T22:08:05.821854Z",
     "start_time": "2024-05-23T22:08:05.743495Z"
    }
   },
   "cell_type": "code",
   "source": [
    "y_pred = best_random_forest.predict_proba(X_test)[:, 1] > 0.2\n",
    "recall = recall_score(y_test, y_pred)\n",
    "print(f\"Recall: {recall:.4f}\")"
   ],
   "id": "ea882f181bd63bc1",
   "outputs": [
    {
     "name": "stdout",
     "output_type": "stream",
     "text": [
      "Recall: 0.9590\n"
     ]
    }
   ],
   "execution_count": 138
  },
  {
   "metadata": {},
   "cell_type": "markdown",
   "source": "## Conclusions and model usage",
   "id": "414c5108f338bdcb"
  },
  {
   "metadata": {},
   "cell_type": "markdown",
   "source": [
    "Predicting the popularity of a tweet is a complicated task. With the help of the model trained it is possible to filter out most of the tweets that might have a chance to be popular. Considering the threshold chosen and the amount of tweets written every hour, there will be a broad pool of tweets that one of the journalists can choose from to write an article about.\n",
    "\n",
    "The model can be used in the following way, for example. Create a script that runs every few minutes and predicts the popularity of the tweets that have been posted since the last run. If the model detects a tweet that has a high chance of being popular, it could be posted in like internal app for the company. Then journalists can choose from these tweets to write an article about it based on their expertise (politics, sports, etc)."
   ],
   "id": "3cc9dcc9a09e4bbe"
  }
 ],
 "metadata": {
  "kernelspec": {
   "display_name": "Python 3",
   "language": "python",
   "name": "python3"
  },
  "language_info": {
   "codemirror_mode": {
    "name": "ipython",
    "version": 2
   },
   "file_extension": ".py",
   "mimetype": "text/x-python",
   "name": "python",
   "nbconvert_exporter": "python",
   "pygments_lexer": "ipython2",
   "version": "2.7.6"
  }
 },
 "nbformat": 4,
 "nbformat_minor": 5
}
