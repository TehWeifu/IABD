{
 "cells": [
  {
   "cell_type": "markdown",
   "source": [
    "## Load the data"
   ],
   "metadata": {
    "collapsed": false
   },
   "id": "626bb12a897bf457"
  },
  {
   "cell_type": "code",
   "execution_count": 14,
   "id": "initial_id",
   "metadata": {
    "collapsed": true,
    "ExecuteTime": {
     "end_time": "2024-02-26T17:28:27.731698800Z",
     "start_time": "2024-02-26T17:28:27.722899700Z"
    }
   },
   "outputs": [],
   "source": [
    "# Import all libraries needed through the whole notebook\n",
    "import numpy as np\n",
    "import pandas as pd\n",
    "import plotnine as pn\n",
    "from matplotlib import pyplot as plt\n",
    "import seaborn as sns\n",
    "from sklearn import metrics\n",
    "from sklearn.linear_model import LinearRegression\n",
    "from sklearn.preprocessing import OrdinalEncoder"
   ]
  },
  {
   "cell_type": "markdown",
   "source": [
    "### Tweet data exploration"
   ],
   "metadata": {
    "collapsed": false
   },
   "id": "ae7431b1f1e6261d"
  },
  {
   "cell_type": "code",
   "outputs": [
    {
     "name": "stderr",
     "output_type": "stream",
     "text": [
      "C:\\Users\\jsanchez\\AppData\\Local\\Temp\\ipykernel_13884\\504112032.py:1: DtypeWarning: Columns (5) have mixed types. Specify dtype option on import or set low_memory=False.\n"
     ]
    }
   ],
   "source": [
    "tweets = pd.read_csv('./data/tweets.csv')\n",
    "users = pd.read_csv('./data/users.csv')"
   ],
   "metadata": {
    "collapsed": false,
    "ExecuteTime": {
     "end_time": "2024-02-26T17:36:32.087700500Z",
     "start_time": "2024-02-26T17:36:31.775775600Z"
    }
   },
   "id": "158c06b8ea90c030",
   "execution_count": 26
  },
  {
   "cell_type": "code",
   "outputs": [],
   "source": [
    "users.set_index('id', inplace=True)\n",
    "\n",
    "tweets_users = tweets.join(users, on='user_id', lsuffix='_tweet', rsuffix='_user', how='left')"
   ],
   "metadata": {
    "collapsed": false,
    "ExecuteTime": {
     "end_time": "2024-02-26T17:36:32.948815500Z",
     "start_time": "2024-02-26T17:36:32.905740200Z"
    }
   },
   "id": "f7fdd7efb6a9ae64",
   "execution_count": 27
  },
  {
   "cell_type": "code",
   "outputs": [
    {
     "data": {
      "text/plain": "                        id      conversation_id    created_at  \\\n0      1425590913959612419  1425590913959612419  1.628722e+12   \n1      1427736867739299841  1427736867739299841  1.629234e+12   \n2      1427667300488937476  1427667300488937476  1.629217e+12   \n3      1427667012105371652  1427667012105371652  1.629217e+12   \n4      1427497703596990467  1427497703596990467  1.629177e+12   \n...                    ...                  ...           ...   \n40576  1427593440469061634  1427593440469061634  1.629200e+12   \n40577  1427592955272089642  1427592930722820096  1.629200e+12   \n40578  1427592942441598980  1427592930722820096  1.629200e+12   \n40579  1427592930722820096  1427592930722820096  1.629200e+12   \n40580  1427335350658158598  1427335350658158598  1.629138e+12   \n\n                      date  timezone place  \\\n0      2021-08-12 00:52:14       200   NaN   \n1      2021-08-17 22:59:29       200   NaN   \n2      2021-08-17 18:23:03       200   NaN   \n3      2021-08-17 18:21:55       200   NaN   \n4      2021-08-17 07:09:08       200   NaN   \n...                    ...       ...   ...   \n40576  2021-08-17 13:29:34       200   NaN   \n40577  2021-08-17 13:27:38       200   NaN   \n40578  2021-08-17 13:27:35       200   NaN   \n40579  2021-08-17 13:27:32       200   NaN   \n40580  2021-08-16 20:24:00       200   NaN   \n\n                                                   tweet language  \\\n0      RT @girlsalliance: We're so proud of the four ...       en   \n1      Some casual suggestions to 😏SLIDE😏 into when u...       en   \n2                  RT @ValaAfshar: You are not your job.       en   \n3      What have we become 😔😂  Toddler Cites Freedom ...       en   \n4      The tech giants that refuse to massively addre...       en   \n...                                                  ...      ...   \n40576  Commencement of works. #Agenda111  https://t.c...       en   \n40577  Commencement of works. #Agenda111  https://t.c...       en   \n40578  Commencement of works. #Agenda111  https://t.c...       en   \n40579  Commencement of works. #Agenda111  https://t.c...       en   \n40580                #Agenda111  https://t.co/M1FYBKXqK3      und   \n\n                                     hashtags cashtags  ...  tweets  \\\n0                                          []       []  ...    1770   \n1      ['shoesdaytuesday', 'afterskewlslide']       []  ...   11420   \n2                                          []       []  ...   11420   \n3                                          []       []  ...   11420   \n4                                          []       []  ...   11420   \n...                                       ...      ...  ...     ...   \n40576                           ['agenda111']       []  ...    7744   \n40577                           ['agenda111']       []  ...    7744   \n40578                           ['agenda111']       []  ...    7744   \n40579                           ['agenda111']       []  ...    7744   \n40580                           ['agenda111']       []  ...    7744   \n\n             location following  followers  likes  media private verified  \\\n0      Washington, DC        16   20854298    184    461   False     True   \n1                 NaN       235  108819032   7995   2170   False     True   \n2                 NaN       235  108819032   7995   2170   False     True   \n3                 NaN       235  108819032   7995   2170   False     True   \n4                 NaN       235  108819032   7995   2170   False     True   \n...               ...       ...        ...    ...    ...     ...      ...   \n40576           Ghana       352    2003463    338   1499   False     True   \n40577           Ghana       352    2003463    338   1499   False     True   \n40578           Ghana       352    2003463    338   1499   False     True   \n40579           Ghana       352    2003463    338   1499   False     True   \n40580           Ghana       352    2003463    338   1499   False     True   \n\n                                                  avatar  \\\n0      https://pbs.twimg.com/profile_images/136674780...   \n1      https://pbs.twimg.com/profile_images/139246535...   \n2      https://pbs.twimg.com/profile_images/139246535...   \n3      https://pbs.twimg.com/profile_images/139246535...   \n4      https://pbs.twimg.com/profile_images/139246535...   \n...                                                  ...   \n40576  https://pbs.twimg.com/profile_images/817691975...   \n40577  https://pbs.twimg.com/profile_images/817691975...   \n40578  https://pbs.twimg.com/profile_images/817691975...   \n40579  https://pbs.twimg.com/profile_images/817691975...   \n40580  https://pbs.twimg.com/profile_images/817691975...   \n\n                                        background_image  \n0      https://pbs.twimg.com/profile_banners/40948655...  \n1      https://pbs.twimg.com/profile_banners/21447363...  \n2      https://pbs.twimg.com/profile_banners/21447363...  \n3      https://pbs.twimg.com/profile_banners/21447363...  \n4      https://pbs.twimg.com/profile_banners/21447363...  \n...                                                  ...  \n40576  https://pbs.twimg.com/profile_banners/24721710...  \n40577  https://pbs.twimg.com/profile_banners/24721710...  \n40578  https://pbs.twimg.com/profile_banners/24721710...  \n40579  https://pbs.twimg.com/profile_banners/24721710...  \n40580  https://pbs.twimg.com/profile_banners/24721710...  \n\n[40867 rows x 55 columns]",
      "text/html": "<div>\n<style scoped>\n    .dataframe tbody tr th:only-of-type {\n        vertical-align: middle;\n    }\n\n    .dataframe tbody tr th {\n        vertical-align: top;\n    }\n\n    .dataframe thead th {\n        text-align: right;\n    }\n</style>\n<table border=\"1\" class=\"dataframe\">\n  <thead>\n    <tr style=\"text-align: right;\">\n      <th></th>\n      <th>id</th>\n      <th>conversation_id</th>\n      <th>created_at</th>\n      <th>date</th>\n      <th>timezone</th>\n      <th>place</th>\n      <th>tweet</th>\n      <th>language</th>\n      <th>hashtags</th>\n      <th>cashtags</th>\n      <th>...</th>\n      <th>tweets</th>\n      <th>location</th>\n      <th>following</th>\n      <th>followers</th>\n      <th>likes</th>\n      <th>media</th>\n      <th>private</th>\n      <th>verified</th>\n      <th>avatar</th>\n      <th>background_image</th>\n    </tr>\n  </thead>\n  <tbody>\n    <tr>\n      <th>0</th>\n      <td>1425590913959612419</td>\n      <td>1425590913959612419</td>\n      <td>1.628722e+12</td>\n      <td>2021-08-12 00:52:14</td>\n      <td>200</td>\n      <td>NaN</td>\n      <td>RT @girlsalliance: We're so proud of the four ...</td>\n      <td>en</td>\n      <td>[]</td>\n      <td>[]</td>\n      <td>...</td>\n      <td>1770</td>\n      <td>Washington, DC</td>\n      <td>16</td>\n      <td>20854298</td>\n      <td>184</td>\n      <td>461</td>\n      <td>False</td>\n      <td>True</td>\n      <td>https://pbs.twimg.com/profile_images/136674780...</td>\n      <td>https://pbs.twimg.com/profile_banners/40948655...</td>\n    </tr>\n    <tr>\n      <th>1</th>\n      <td>1427736867739299841</td>\n      <td>1427736867739299841</td>\n      <td>1.629234e+12</td>\n      <td>2021-08-17 22:59:29</td>\n      <td>200</td>\n      <td>NaN</td>\n      <td>Some casual suggestions to 😏SLIDE😏 into when u...</td>\n      <td>en</td>\n      <td>['shoesdaytuesday', 'afterskewlslide']</td>\n      <td>[]</td>\n      <td>...</td>\n      <td>11420</td>\n      <td>NaN</td>\n      <td>235</td>\n      <td>108819032</td>\n      <td>7995</td>\n      <td>2170</td>\n      <td>False</td>\n      <td>True</td>\n      <td>https://pbs.twimg.com/profile_images/139246535...</td>\n      <td>https://pbs.twimg.com/profile_banners/21447363...</td>\n    </tr>\n    <tr>\n      <th>2</th>\n      <td>1427667300488937476</td>\n      <td>1427667300488937476</td>\n      <td>1.629217e+12</td>\n      <td>2021-08-17 18:23:03</td>\n      <td>200</td>\n      <td>NaN</td>\n      <td>RT @ValaAfshar: You are not your job.</td>\n      <td>en</td>\n      <td>[]</td>\n      <td>[]</td>\n      <td>...</td>\n      <td>11420</td>\n      <td>NaN</td>\n      <td>235</td>\n      <td>108819032</td>\n      <td>7995</td>\n      <td>2170</td>\n      <td>False</td>\n      <td>True</td>\n      <td>https://pbs.twimg.com/profile_images/139246535...</td>\n      <td>https://pbs.twimg.com/profile_banners/21447363...</td>\n    </tr>\n    <tr>\n      <th>3</th>\n      <td>1427667012105371652</td>\n      <td>1427667012105371652</td>\n      <td>1.629217e+12</td>\n      <td>2021-08-17 18:21:55</td>\n      <td>200</td>\n      <td>NaN</td>\n      <td>What have we become 😔😂  Toddler Cites Freedom ...</td>\n      <td>en</td>\n      <td>[]</td>\n      <td>[]</td>\n      <td>...</td>\n      <td>11420</td>\n      <td>NaN</td>\n      <td>235</td>\n      <td>108819032</td>\n      <td>7995</td>\n      <td>2170</td>\n      <td>False</td>\n      <td>True</td>\n      <td>https://pbs.twimg.com/profile_images/139246535...</td>\n      <td>https://pbs.twimg.com/profile_banners/21447363...</td>\n    </tr>\n    <tr>\n      <th>4</th>\n      <td>1427497703596990467</td>\n      <td>1427497703596990467</td>\n      <td>1.629177e+12</td>\n      <td>2021-08-17 07:09:08</td>\n      <td>200</td>\n      <td>NaN</td>\n      <td>The tech giants that refuse to massively addre...</td>\n      <td>en</td>\n      <td>[]</td>\n      <td>[]</td>\n      <td>...</td>\n      <td>11420</td>\n      <td>NaN</td>\n      <td>235</td>\n      <td>108819032</td>\n      <td>7995</td>\n      <td>2170</td>\n      <td>False</td>\n      <td>True</td>\n      <td>https://pbs.twimg.com/profile_images/139246535...</td>\n      <td>https://pbs.twimg.com/profile_banners/21447363...</td>\n    </tr>\n    <tr>\n      <th>...</th>\n      <td>...</td>\n      <td>...</td>\n      <td>...</td>\n      <td>...</td>\n      <td>...</td>\n      <td>...</td>\n      <td>...</td>\n      <td>...</td>\n      <td>...</td>\n      <td>...</td>\n      <td>...</td>\n      <td>...</td>\n      <td>...</td>\n      <td>...</td>\n      <td>...</td>\n      <td>...</td>\n      <td>...</td>\n      <td>...</td>\n      <td>...</td>\n      <td>...</td>\n      <td>...</td>\n    </tr>\n    <tr>\n      <th>40576</th>\n      <td>1427593440469061634</td>\n      <td>1427593440469061634</td>\n      <td>1.629200e+12</td>\n      <td>2021-08-17 13:29:34</td>\n      <td>200</td>\n      <td>NaN</td>\n      <td>Commencement of works. #Agenda111  https://t.c...</td>\n      <td>en</td>\n      <td>['agenda111']</td>\n      <td>[]</td>\n      <td>...</td>\n      <td>7744</td>\n      <td>Ghana</td>\n      <td>352</td>\n      <td>2003463</td>\n      <td>338</td>\n      <td>1499</td>\n      <td>False</td>\n      <td>True</td>\n      <td>https://pbs.twimg.com/profile_images/817691975...</td>\n      <td>https://pbs.twimg.com/profile_banners/24721710...</td>\n    </tr>\n    <tr>\n      <th>40577</th>\n      <td>1427592955272089642</td>\n      <td>1427592930722820096</td>\n      <td>1.629200e+12</td>\n      <td>2021-08-17 13:27:38</td>\n      <td>200</td>\n      <td>NaN</td>\n      <td>Commencement of works. #Agenda111  https://t.c...</td>\n      <td>en</td>\n      <td>['agenda111']</td>\n      <td>[]</td>\n      <td>...</td>\n      <td>7744</td>\n      <td>Ghana</td>\n      <td>352</td>\n      <td>2003463</td>\n      <td>338</td>\n      <td>1499</td>\n      <td>False</td>\n      <td>True</td>\n      <td>https://pbs.twimg.com/profile_images/817691975...</td>\n      <td>https://pbs.twimg.com/profile_banners/24721710...</td>\n    </tr>\n    <tr>\n      <th>40578</th>\n      <td>1427592942441598980</td>\n      <td>1427592930722820096</td>\n      <td>1.629200e+12</td>\n      <td>2021-08-17 13:27:35</td>\n      <td>200</td>\n      <td>NaN</td>\n      <td>Commencement of works. #Agenda111  https://t.c...</td>\n      <td>en</td>\n      <td>['agenda111']</td>\n      <td>[]</td>\n      <td>...</td>\n      <td>7744</td>\n      <td>Ghana</td>\n      <td>352</td>\n      <td>2003463</td>\n      <td>338</td>\n      <td>1499</td>\n      <td>False</td>\n      <td>True</td>\n      <td>https://pbs.twimg.com/profile_images/817691975...</td>\n      <td>https://pbs.twimg.com/profile_banners/24721710...</td>\n    </tr>\n    <tr>\n      <th>40579</th>\n      <td>1427592930722820096</td>\n      <td>1427592930722820096</td>\n      <td>1.629200e+12</td>\n      <td>2021-08-17 13:27:32</td>\n      <td>200</td>\n      <td>NaN</td>\n      <td>Commencement of works. #Agenda111  https://t.c...</td>\n      <td>en</td>\n      <td>['agenda111']</td>\n      <td>[]</td>\n      <td>...</td>\n      <td>7744</td>\n      <td>Ghana</td>\n      <td>352</td>\n      <td>2003463</td>\n      <td>338</td>\n      <td>1499</td>\n      <td>False</td>\n      <td>True</td>\n      <td>https://pbs.twimg.com/profile_images/817691975...</td>\n      <td>https://pbs.twimg.com/profile_banners/24721710...</td>\n    </tr>\n    <tr>\n      <th>40580</th>\n      <td>1427335350658158598</td>\n      <td>1427335350658158598</td>\n      <td>1.629138e+12</td>\n      <td>2021-08-16 20:24:00</td>\n      <td>200</td>\n      <td>NaN</td>\n      <td>#Agenda111  https://t.co/M1FYBKXqK3</td>\n      <td>und</td>\n      <td>['agenda111']</td>\n      <td>[]</td>\n      <td>...</td>\n      <td>7744</td>\n      <td>Ghana</td>\n      <td>352</td>\n      <td>2003463</td>\n      <td>338</td>\n      <td>1499</td>\n      <td>False</td>\n      <td>True</td>\n      <td>https://pbs.twimg.com/profile_images/817691975...</td>\n      <td>https://pbs.twimg.com/profile_banners/24721710...</td>\n    </tr>\n  </tbody>\n</table>\n<p>40867 rows × 55 columns</p>\n</div>"
     },
     "execution_count": 28,
     "metadata": {},
     "output_type": "execute_result"
    }
   ],
   "source": [
    "tweets_users"
   ],
   "metadata": {
    "collapsed": false,
    "ExecuteTime": {
     "end_time": "2024-02-26T17:36:34.782218900Z",
     "start_time": "2024-02-26T17:36:34.746388500Z"
    }
   },
   "id": "4863b3fbcdfc7611",
   "execution_count": 28
  },
  {
   "cell_type": "code",
   "outputs": [
    {
     "data": {
      "text/plain": "              id_tweet      conversation_id    created_at  \\\n0  1425590913959612419  1425590913959612419  1.628722e+12   \n\n                  date  timezone place  \\\n0  2021-08-12 00:52:14       200   NaN   \n\n                                               tweet language hashtags  \\\n0  RT @girlsalliance: We're so proud of the four ...       en       []   \n\n  cashtags  ...  tweets        location following   followers  likes  media  \\\n0       []  ...  1770.0  Washington, DC      16.0  20854298.0  184.0  461.0   \n\n  private verified                                             avatar  \\\n0   False     True  https://pbs.twimg.com/profile_images/136674780...   \n\n                                    background_image  \n0  https://pbs.twimg.com/profile_banners/40948655...  \n\n[1 rows x 56 columns]",
      "text/html": "<div>\n<style scoped>\n    .dataframe tbody tr th:only-of-type {\n        vertical-align: middle;\n    }\n\n    .dataframe tbody tr th {\n        vertical-align: top;\n    }\n\n    .dataframe thead th {\n        text-align: right;\n    }\n</style>\n<table border=\"1\" class=\"dataframe\">\n  <thead>\n    <tr style=\"text-align: right;\">\n      <th></th>\n      <th>id_tweet</th>\n      <th>conversation_id</th>\n      <th>created_at</th>\n      <th>date</th>\n      <th>timezone</th>\n      <th>place</th>\n      <th>tweet</th>\n      <th>language</th>\n      <th>hashtags</th>\n      <th>cashtags</th>\n      <th>...</th>\n      <th>tweets</th>\n      <th>location</th>\n      <th>following</th>\n      <th>followers</th>\n      <th>likes</th>\n      <th>media</th>\n      <th>private</th>\n      <th>verified</th>\n      <th>avatar</th>\n      <th>background_image</th>\n    </tr>\n  </thead>\n  <tbody>\n    <tr>\n      <th>0</th>\n      <td>1425590913959612419</td>\n      <td>1425590913959612419</td>\n      <td>1.628722e+12</td>\n      <td>2021-08-12 00:52:14</td>\n      <td>200</td>\n      <td>NaN</td>\n      <td>RT @girlsalliance: We're so proud of the four ...</td>\n      <td>en</td>\n      <td>[]</td>\n      <td>[]</td>\n      <td>...</td>\n      <td>1770.0</td>\n      <td>Washington, DC</td>\n      <td>16.0</td>\n      <td>20854298.0</td>\n      <td>184.0</td>\n      <td>461.0</td>\n      <td>False</td>\n      <td>True</td>\n      <td>https://pbs.twimg.com/profile_images/136674780...</td>\n      <td>https://pbs.twimg.com/profile_banners/40948655...</td>\n    </tr>\n  </tbody>\n</table>\n<p>1 rows × 56 columns</p>\n</div>"
     },
     "execution_count": 22,
     "metadata": {},
     "output_type": "execute_result"
    }
   ],
   "source": [
    "tweets_users[tweets_users['id_tweet'] == 1425590913959612419]"
   ],
   "metadata": {
    "collapsed": false,
    "ExecuteTime": {
     "end_time": "2024-02-26T17:31:43.541110200Z",
     "start_time": "2024-02-26T17:31:43.526982200Z"
    }
   },
   "id": "a4b4835d72fad023",
   "execution_count": 22
  },
  {
   "cell_type": "code",
   "outputs": [
    {
     "data": {
      "text/plain": "                        id      conversation_id    created_at  \\\n0      1425590913959612419  1425590913959612419  1.628722e+12   \n1      1427736867739299841  1427736867739299841  1.629234e+12   \n2      1427667300488937476  1427667300488937476  1.629217e+12   \n3      1427667012105371652  1427667012105371652  1.629217e+12   \n4      1427497703596990467  1427497703596990467  1.629177e+12   \n...                    ...                  ...           ...   \n40576  1427593440469061634  1427593440469061634  1.629200e+12   \n40577  1427592955272089642  1427592930722820096  1.629200e+12   \n40578  1427592942441598980  1427592930722820096  1.629200e+12   \n40579  1427592930722820096  1427592930722820096  1.629200e+12   \n40580  1427335350658158598  1427335350658158598  1.629138e+12   \n\n                      date  timezone place  \\\n0      2021-08-12 00:52:14       200   NaN   \n1      2021-08-17 22:59:29       200   NaN   \n2      2021-08-17 18:23:03       200   NaN   \n3      2021-08-17 18:21:55       200   NaN   \n4      2021-08-17 07:09:08       200   NaN   \n...                    ...       ...   ...   \n40576  2021-08-17 13:29:34       200   NaN   \n40577  2021-08-17 13:27:38       200   NaN   \n40578  2021-08-17 13:27:35       200   NaN   \n40579  2021-08-17 13:27:32       200   NaN   \n40580  2021-08-16 20:24:00       200   NaN   \n\n                                                   tweet language  \\\n0      RT @girlsalliance: We're so proud of the four ...       en   \n1      Some casual suggestions to 😏SLIDE😏 into when u...       en   \n2                  RT @ValaAfshar: You are not your job.       en   \n3      What have we become 😔😂  Toddler Cites Freedom ...       en   \n4      The tech giants that refuse to massively addre...       en   \n...                                                  ...      ...   \n40576  Commencement of works. #Agenda111  https://t.c...       en   \n40577  Commencement of works. #Agenda111  https://t.c...       en   \n40578  Commencement of works. #Agenda111  https://t.c...       en   \n40579  Commencement of works. #Agenda111  https://t.c...       en   \n40580                #Agenda111  https://t.co/M1FYBKXqK3      und   \n\n                                     hashtags cashtags  ...  geo  source  \\\n0                                          []       []  ...  NaN     NaN   \n1      ['shoesdaytuesday', 'afterskewlslide']       []  ...  NaN     NaN   \n2                                          []       []  ...  NaN     NaN   \n3                                          []       []  ...  NaN     NaN   \n4                                          []       []  ...  NaN     NaN   \n...                                       ...      ...  ...  ...     ...   \n40576                           ['agenda111']       []  ...  NaN     NaN   \n40577                           ['agenda111']       []  ...  NaN     NaN   \n40578                           ['agenda111']       []  ...  NaN     NaN   \n40579                           ['agenda111']       []  ...  NaN     NaN   \n40580                           ['agenda111']       []  ...  NaN     NaN   \n\n         user_rt_id                                            user_rt  \\\n0      1.047165e+18  We're so proud of the four organizations in ou...   \n1               NaN                                                NaN   \n2      2.597252e+08                              You are not your job.   \n3               NaN                                                NaN   \n4               NaN                                                NaN   \n...             ...                                                ...   \n40576           NaN                                                NaN   \n40577           NaN                                                NaN   \n40578           NaN                                                NaN   \n40579           NaN                                                NaN   \n40580           NaN                                                NaN   \n\n         retweet_id  reply_to              retweet_date translate trans_src  \\\n0      1.425590e+18        []  2021-08-12 00:46:58 CEST       NaN       NaN   \n1               NaN        []                       NaN       NaN       NaN   \n2      1.427648e+18        []  2021-08-17 17:05:53 CEST       NaN       NaN   \n3               NaN        []                       NaN       NaN       NaN   \n4               NaN        []                       NaN       NaN       NaN   \n...             ...       ...                       ...       ...       ...   \n40576           NaN        []                       NaN       NaN       NaN   \n40577           NaN        []                       NaN       NaN       NaN   \n40578           NaN        []                       NaN       NaN       NaN   \n40579           NaN        []                       NaN       NaN       NaN   \n40580           NaN        []                       NaN       NaN       NaN   \n\n       trans_dest  \n0             NaN  \n1             NaN  \n2             NaN  \n3             NaN  \n4             NaN  \n...           ...  \n40576         NaN  \n40577         NaN  \n40578         NaN  \n40579         NaN  \n40580         NaN  \n\n[40581 rows x 38 columns]",
      "text/html": "<div>\n<style scoped>\n    .dataframe tbody tr th:only-of-type {\n        vertical-align: middle;\n    }\n\n    .dataframe tbody tr th {\n        vertical-align: top;\n    }\n\n    .dataframe thead th {\n        text-align: right;\n    }\n</style>\n<table border=\"1\" class=\"dataframe\">\n  <thead>\n    <tr style=\"text-align: right;\">\n      <th></th>\n      <th>id</th>\n      <th>conversation_id</th>\n      <th>created_at</th>\n      <th>date</th>\n      <th>timezone</th>\n      <th>place</th>\n      <th>tweet</th>\n      <th>language</th>\n      <th>hashtags</th>\n      <th>cashtags</th>\n      <th>...</th>\n      <th>geo</th>\n      <th>source</th>\n      <th>user_rt_id</th>\n      <th>user_rt</th>\n      <th>retweet_id</th>\n      <th>reply_to</th>\n      <th>retweet_date</th>\n      <th>translate</th>\n      <th>trans_src</th>\n      <th>trans_dest</th>\n    </tr>\n  </thead>\n  <tbody>\n    <tr>\n      <th>0</th>\n      <td>1425590913959612419</td>\n      <td>1425590913959612419</td>\n      <td>1.628722e+12</td>\n      <td>2021-08-12 00:52:14</td>\n      <td>200</td>\n      <td>NaN</td>\n      <td>RT @girlsalliance: We're so proud of the four ...</td>\n      <td>en</td>\n      <td>[]</td>\n      <td>[]</td>\n      <td>...</td>\n      <td>NaN</td>\n      <td>NaN</td>\n      <td>1.047165e+18</td>\n      <td>We're so proud of the four organizations in ou...</td>\n      <td>1.425590e+18</td>\n      <td>[]</td>\n      <td>2021-08-12 00:46:58 CEST</td>\n      <td>NaN</td>\n      <td>NaN</td>\n      <td>NaN</td>\n    </tr>\n    <tr>\n      <th>1</th>\n      <td>1427736867739299841</td>\n      <td>1427736867739299841</td>\n      <td>1.629234e+12</td>\n      <td>2021-08-17 22:59:29</td>\n      <td>200</td>\n      <td>NaN</td>\n      <td>Some casual suggestions to 😏SLIDE😏 into when u...</td>\n      <td>en</td>\n      <td>['shoesdaytuesday', 'afterskewlslide']</td>\n      <td>[]</td>\n      <td>...</td>\n      <td>NaN</td>\n      <td>NaN</td>\n      <td>NaN</td>\n      <td>NaN</td>\n      <td>NaN</td>\n      <td>[]</td>\n      <td>NaN</td>\n      <td>NaN</td>\n      <td>NaN</td>\n      <td>NaN</td>\n    </tr>\n    <tr>\n      <th>2</th>\n      <td>1427667300488937476</td>\n      <td>1427667300488937476</td>\n      <td>1.629217e+12</td>\n      <td>2021-08-17 18:23:03</td>\n      <td>200</td>\n      <td>NaN</td>\n      <td>RT @ValaAfshar: You are not your job.</td>\n      <td>en</td>\n      <td>[]</td>\n      <td>[]</td>\n      <td>...</td>\n      <td>NaN</td>\n      <td>NaN</td>\n      <td>2.597252e+08</td>\n      <td>You are not your job.</td>\n      <td>1.427648e+18</td>\n      <td>[]</td>\n      <td>2021-08-17 17:05:53 CEST</td>\n      <td>NaN</td>\n      <td>NaN</td>\n      <td>NaN</td>\n    </tr>\n    <tr>\n      <th>3</th>\n      <td>1427667012105371652</td>\n      <td>1427667012105371652</td>\n      <td>1.629217e+12</td>\n      <td>2021-08-17 18:21:55</td>\n      <td>200</td>\n      <td>NaN</td>\n      <td>What have we become 😔😂  Toddler Cites Freedom ...</td>\n      <td>en</td>\n      <td>[]</td>\n      <td>[]</td>\n      <td>...</td>\n      <td>NaN</td>\n      <td>NaN</td>\n      <td>NaN</td>\n      <td>NaN</td>\n      <td>NaN</td>\n      <td>[]</td>\n      <td>NaN</td>\n      <td>NaN</td>\n      <td>NaN</td>\n      <td>NaN</td>\n    </tr>\n    <tr>\n      <th>4</th>\n      <td>1427497703596990467</td>\n      <td>1427497703596990467</td>\n      <td>1.629177e+12</td>\n      <td>2021-08-17 07:09:08</td>\n      <td>200</td>\n      <td>NaN</td>\n      <td>The tech giants that refuse to massively addre...</td>\n      <td>en</td>\n      <td>[]</td>\n      <td>[]</td>\n      <td>...</td>\n      <td>NaN</td>\n      <td>NaN</td>\n      <td>NaN</td>\n      <td>NaN</td>\n      <td>NaN</td>\n      <td>[]</td>\n      <td>NaN</td>\n      <td>NaN</td>\n      <td>NaN</td>\n      <td>NaN</td>\n    </tr>\n    <tr>\n      <th>...</th>\n      <td>...</td>\n      <td>...</td>\n      <td>...</td>\n      <td>...</td>\n      <td>...</td>\n      <td>...</td>\n      <td>...</td>\n      <td>...</td>\n      <td>...</td>\n      <td>...</td>\n      <td>...</td>\n      <td>...</td>\n      <td>...</td>\n      <td>...</td>\n      <td>...</td>\n      <td>...</td>\n      <td>...</td>\n      <td>...</td>\n      <td>...</td>\n      <td>...</td>\n      <td>...</td>\n    </tr>\n    <tr>\n      <th>40576</th>\n      <td>1427593440469061634</td>\n      <td>1427593440469061634</td>\n      <td>1.629200e+12</td>\n      <td>2021-08-17 13:29:34</td>\n      <td>200</td>\n      <td>NaN</td>\n      <td>Commencement of works. #Agenda111  https://t.c...</td>\n      <td>en</td>\n      <td>['agenda111']</td>\n      <td>[]</td>\n      <td>...</td>\n      <td>NaN</td>\n      <td>NaN</td>\n      <td>NaN</td>\n      <td>NaN</td>\n      <td>NaN</td>\n      <td>[]</td>\n      <td>NaN</td>\n      <td>NaN</td>\n      <td>NaN</td>\n      <td>NaN</td>\n    </tr>\n    <tr>\n      <th>40577</th>\n      <td>1427592955272089642</td>\n      <td>1427592930722820096</td>\n      <td>1.629200e+12</td>\n      <td>2021-08-17 13:27:38</td>\n      <td>200</td>\n      <td>NaN</td>\n      <td>Commencement of works. #Agenda111  https://t.c...</td>\n      <td>en</td>\n      <td>['agenda111']</td>\n      <td>[]</td>\n      <td>...</td>\n      <td>NaN</td>\n      <td>NaN</td>\n      <td>NaN</td>\n      <td>NaN</td>\n      <td>NaN</td>\n      <td>[]</td>\n      <td>NaN</td>\n      <td>NaN</td>\n      <td>NaN</td>\n      <td>NaN</td>\n    </tr>\n    <tr>\n      <th>40578</th>\n      <td>1427592942441598980</td>\n      <td>1427592930722820096</td>\n      <td>1.629200e+12</td>\n      <td>2021-08-17 13:27:35</td>\n      <td>200</td>\n      <td>NaN</td>\n      <td>Commencement of works. #Agenda111  https://t.c...</td>\n      <td>en</td>\n      <td>['agenda111']</td>\n      <td>[]</td>\n      <td>...</td>\n      <td>NaN</td>\n      <td>NaN</td>\n      <td>NaN</td>\n      <td>NaN</td>\n      <td>NaN</td>\n      <td>[]</td>\n      <td>NaN</td>\n      <td>NaN</td>\n      <td>NaN</td>\n      <td>NaN</td>\n    </tr>\n    <tr>\n      <th>40579</th>\n      <td>1427592930722820096</td>\n      <td>1427592930722820096</td>\n      <td>1.629200e+12</td>\n      <td>2021-08-17 13:27:32</td>\n      <td>200</td>\n      <td>NaN</td>\n      <td>Commencement of works. #Agenda111  https://t.c...</td>\n      <td>en</td>\n      <td>['agenda111']</td>\n      <td>[]</td>\n      <td>...</td>\n      <td>NaN</td>\n      <td>NaN</td>\n      <td>NaN</td>\n      <td>NaN</td>\n      <td>NaN</td>\n      <td>[]</td>\n      <td>NaN</td>\n      <td>NaN</td>\n      <td>NaN</td>\n      <td>NaN</td>\n    </tr>\n    <tr>\n      <th>40580</th>\n      <td>1427335350658158598</td>\n      <td>1427335350658158598</td>\n      <td>1.629138e+12</td>\n      <td>2021-08-16 20:24:00</td>\n      <td>200</td>\n      <td>NaN</td>\n      <td>#Agenda111  https://t.co/M1FYBKXqK3</td>\n      <td>und</td>\n      <td>['agenda111']</td>\n      <td>[]</td>\n      <td>...</td>\n      <td>NaN</td>\n      <td>NaN</td>\n      <td>NaN</td>\n      <td>NaN</td>\n      <td>NaN</td>\n      <td>[]</td>\n      <td>NaN</td>\n      <td>NaN</td>\n      <td>NaN</td>\n      <td>NaN</td>\n    </tr>\n  </tbody>\n</table>\n<p>40581 rows × 38 columns</p>\n</div>"
     },
     "execution_count": 3,
     "metadata": {},
     "output_type": "execute_result"
    }
   ],
   "source": [
    "tweets"
   ],
   "metadata": {
    "collapsed": false,
    "ExecuteTime": {
     "end_time": "2024-02-26T15:53:40.664682400Z",
     "start_time": "2024-02-26T15:53:40.612448Z"
    }
   },
   "id": "877d168c96127511",
   "execution_count": 3
  },
  {
   "cell_type": "code",
   "outputs": [
    {
     "name": "stdout",
     "output_type": "stream",
     "text": [
      "<class 'pandas.core.frame.DataFrame'>\n",
      "RangeIndex: 40581 entries, 0 to 40580\n",
      "Data columns (total 38 columns):\n",
      " #   Column           Non-Null Count  Dtype  \n",
      "---  ------           --------------  -----  \n",
      " 0   id               40581 non-null  int64  \n",
      " 1   conversation_id  40581 non-null  int64  \n",
      " 2   created_at       40581 non-null  float64\n",
      " 3   date             40581 non-null  object \n",
      " 4   timezone         40581 non-null  int64  \n",
      " 5   place            34 non-null     object \n",
      " 6   tweet            40581 non-null  object \n",
      " 7   language         40581 non-null  object \n",
      " 8   hashtags         40581 non-null  object \n",
      " 9   cashtags         40581 non-null  object \n",
      " 10  user_id          40581 non-null  int64  \n",
      " 11  user_id_str      40581 non-null  int64  \n",
      " 12  username         40581 non-null  object \n",
      " 13  name             40581 non-null  object \n",
      " 14  day              40581 non-null  int64  \n",
      " 15  hour             40581 non-null  int64  \n",
      " 16  link             40581 non-null  object \n",
      " 17  urls             40581 non-null  object \n",
      " 18  photos           40581 non-null  object \n",
      " 19  video            40581 non-null  int64  \n",
      " 20  thumbnail        9155 non-null   object \n",
      " 21  retweet          40581 non-null  bool   \n",
      " 22  nlikes           40581 non-null  int64  \n",
      " 23  nreplies         40581 non-null  int64  \n",
      " 24  nretweets        40581 non-null  int64  \n",
      " 25  quote_url        40581 non-null  object \n",
      " 26  search           0 non-null      float64\n",
      " 27  near             0 non-null      float64\n",
      " 28  geo              0 non-null      float64\n",
      " 29  source           0 non-null      float64\n",
      " 30  user_rt_id       6147 non-null   float64\n",
      " 31  user_rt          6147 non-null   object \n",
      " 32  retweet_id       6147 non-null   float64\n",
      " 33  reply_to         40581 non-null  object \n",
      " 34  retweet_date     6147 non-null   object \n",
      " 35  translate        0 non-null      float64\n",
      " 36  trans_src        0 non-null      float64\n",
      " 37  trans_dest       0 non-null      float64\n",
      "dtypes: bool(1), float64(10), int64(11), object(16)\n",
      "memory usage: 11.5+ MB\n"
     ]
    }
   ],
   "source": [
    "tweets.info()"
   ],
   "metadata": {
    "collapsed": false,
    "ExecuteTime": {
     "end_time": "2024-02-26T15:53:40.693855500Z",
     "start_time": "2024-02-26T15:53:40.650295100Z"
    }
   },
   "id": "b110265a7f5a628f",
   "execution_count": 4
  },
  {
   "cell_type": "code",
   "outputs": [
    {
     "data": {
      "text/plain": "                 id  conversation_id    created_at  timezone       user_id  \\\ncount  4.058100e+04     4.058100e+04  4.058100e+04   40581.0  4.058100e+04   \nmean   1.426892e+18     1.426809e+18  1.629033e+12     200.0  5.283703e+15   \nstd    7.773076e+14     3.405297e+15  1.853246e+08       0.0  7.671716e+16   \nmin    1.425578e+18     1.045696e+18  1.628719e+12     200.0  1.200000e+01   \n25%    1.426195e+18     1.426187e+18  1.628866e+12     200.0  5.988062e+06   \n50%    1.426932e+18     1.426920e+18  1.629042e+12     200.0  1.666468e+07   \n75%    1.427628e+18     1.427623e+18  1.629208e+12     200.0  7.894161e+07   \nmax    1.428114e+18     1.428114e+18  1.629324e+12     200.0  1.407034e+18   \n\n        user_id_str           day          hour         video        nlikes  \\\ncount  4.058100e+04  40581.000000  40581.000000  40581.000000  4.058100e+04   \nmean   5.283703e+15      3.810774     13.009881      0.225598  1.333355e+03   \nstd    7.671716e+16      1.884569      7.325299      0.417981  1.802289e+04   \nmin    1.200000e+01      1.000000      0.000000      0.000000  0.000000e+00   \n25%    5.988062e+06      2.000000      6.000000      0.000000  6.000000e+00   \n50%    1.666468e+07      4.000000     15.000000      0.000000  3.900000e+01   \n75%    7.894161e+07      5.000000     19.000000      0.000000  1.980000e+02   \nmax    1.407034e+18      7.000000     23.000000      1.000000  1.920242e+06   \n\n       ...      nretweets  search  near  geo  source    user_rt_id  \\\ncount  ...   40581.000000     0.0   0.0  0.0     0.0  6.147000e+03   \nmean   ...     277.616027     NaN   NaN  NaN     NaN  2.322191e+17   \nstd    ...    4636.020712     NaN   NaN  NaN     NaN  4.633333e+17   \nmin    ...       0.000000     NaN   NaN  NaN     NaN  2.986000e+03   \n25%    ...       4.000000     NaN   NaN  NaN     NaN  2.809772e+07   \n50%    ...      15.000000     NaN   NaN  NaN     NaN  2.533967e+08   \n75%    ...      71.000000     NaN   NaN  NaN     NaN  2.942386e+09   \nmax    ...  541964.000000     NaN   NaN  NaN     NaN  1.427235e+18   \n\n         retweet_id  translate  trans_src  trans_dest  \ncount  6.147000e+03        0.0        0.0         0.0  \nmean   1.425921e+18        NaN        NaN         NaN  \nstd    1.710436e+16        NaN        NaN         NaN  \nmin    6.386550e+17        NaN        NaN         NaN  \n25%    1.426023e+18        NaN        NaN         NaN  \n50%    1.426674e+18        NaN        NaN         NaN  \n75%    1.427384e+18        NaN        NaN         NaN  \nmax    1.428112e+18        NaN        NaN         NaN  \n\n[8 rows x 21 columns]",
      "text/html": "<div>\n<style scoped>\n    .dataframe tbody tr th:only-of-type {\n        vertical-align: middle;\n    }\n\n    .dataframe tbody tr th {\n        vertical-align: top;\n    }\n\n    .dataframe thead th {\n        text-align: right;\n    }\n</style>\n<table border=\"1\" class=\"dataframe\">\n  <thead>\n    <tr style=\"text-align: right;\">\n      <th></th>\n      <th>id</th>\n      <th>conversation_id</th>\n      <th>created_at</th>\n      <th>timezone</th>\n      <th>user_id</th>\n      <th>user_id_str</th>\n      <th>day</th>\n      <th>hour</th>\n      <th>video</th>\n      <th>nlikes</th>\n      <th>...</th>\n      <th>nretweets</th>\n      <th>search</th>\n      <th>near</th>\n      <th>geo</th>\n      <th>source</th>\n      <th>user_rt_id</th>\n      <th>retweet_id</th>\n      <th>translate</th>\n      <th>trans_src</th>\n      <th>trans_dest</th>\n    </tr>\n  </thead>\n  <tbody>\n    <tr>\n      <th>count</th>\n      <td>4.058100e+04</td>\n      <td>4.058100e+04</td>\n      <td>4.058100e+04</td>\n      <td>40581.0</td>\n      <td>4.058100e+04</td>\n      <td>4.058100e+04</td>\n      <td>40581.000000</td>\n      <td>40581.000000</td>\n      <td>40581.000000</td>\n      <td>4.058100e+04</td>\n      <td>...</td>\n      <td>40581.000000</td>\n      <td>0.0</td>\n      <td>0.0</td>\n      <td>0.0</td>\n      <td>0.0</td>\n      <td>6.147000e+03</td>\n      <td>6.147000e+03</td>\n      <td>0.0</td>\n      <td>0.0</td>\n      <td>0.0</td>\n    </tr>\n    <tr>\n      <th>mean</th>\n      <td>1.426892e+18</td>\n      <td>1.426809e+18</td>\n      <td>1.629033e+12</td>\n      <td>200.0</td>\n      <td>5.283703e+15</td>\n      <td>5.283703e+15</td>\n      <td>3.810774</td>\n      <td>13.009881</td>\n      <td>0.225598</td>\n      <td>1.333355e+03</td>\n      <td>...</td>\n      <td>277.616027</td>\n      <td>NaN</td>\n      <td>NaN</td>\n      <td>NaN</td>\n      <td>NaN</td>\n      <td>2.322191e+17</td>\n      <td>1.425921e+18</td>\n      <td>NaN</td>\n      <td>NaN</td>\n      <td>NaN</td>\n    </tr>\n    <tr>\n      <th>std</th>\n      <td>7.773076e+14</td>\n      <td>3.405297e+15</td>\n      <td>1.853246e+08</td>\n      <td>0.0</td>\n      <td>7.671716e+16</td>\n      <td>7.671716e+16</td>\n      <td>1.884569</td>\n      <td>7.325299</td>\n      <td>0.417981</td>\n      <td>1.802289e+04</td>\n      <td>...</td>\n      <td>4636.020712</td>\n      <td>NaN</td>\n      <td>NaN</td>\n      <td>NaN</td>\n      <td>NaN</td>\n      <td>4.633333e+17</td>\n      <td>1.710436e+16</td>\n      <td>NaN</td>\n      <td>NaN</td>\n      <td>NaN</td>\n    </tr>\n    <tr>\n      <th>min</th>\n      <td>1.425578e+18</td>\n      <td>1.045696e+18</td>\n      <td>1.628719e+12</td>\n      <td>200.0</td>\n      <td>1.200000e+01</td>\n      <td>1.200000e+01</td>\n      <td>1.000000</td>\n      <td>0.000000</td>\n      <td>0.000000</td>\n      <td>0.000000e+00</td>\n      <td>...</td>\n      <td>0.000000</td>\n      <td>NaN</td>\n      <td>NaN</td>\n      <td>NaN</td>\n      <td>NaN</td>\n      <td>2.986000e+03</td>\n      <td>6.386550e+17</td>\n      <td>NaN</td>\n      <td>NaN</td>\n      <td>NaN</td>\n    </tr>\n    <tr>\n      <th>25%</th>\n      <td>1.426195e+18</td>\n      <td>1.426187e+18</td>\n      <td>1.628866e+12</td>\n      <td>200.0</td>\n      <td>5.988062e+06</td>\n      <td>5.988062e+06</td>\n      <td>2.000000</td>\n      <td>6.000000</td>\n      <td>0.000000</td>\n      <td>6.000000e+00</td>\n      <td>...</td>\n      <td>4.000000</td>\n      <td>NaN</td>\n      <td>NaN</td>\n      <td>NaN</td>\n      <td>NaN</td>\n      <td>2.809772e+07</td>\n      <td>1.426023e+18</td>\n      <td>NaN</td>\n      <td>NaN</td>\n      <td>NaN</td>\n    </tr>\n    <tr>\n      <th>50%</th>\n      <td>1.426932e+18</td>\n      <td>1.426920e+18</td>\n      <td>1.629042e+12</td>\n      <td>200.0</td>\n      <td>1.666468e+07</td>\n      <td>1.666468e+07</td>\n      <td>4.000000</td>\n      <td>15.000000</td>\n      <td>0.000000</td>\n      <td>3.900000e+01</td>\n      <td>...</td>\n      <td>15.000000</td>\n      <td>NaN</td>\n      <td>NaN</td>\n      <td>NaN</td>\n      <td>NaN</td>\n      <td>2.533967e+08</td>\n      <td>1.426674e+18</td>\n      <td>NaN</td>\n      <td>NaN</td>\n      <td>NaN</td>\n    </tr>\n    <tr>\n      <th>75%</th>\n      <td>1.427628e+18</td>\n      <td>1.427623e+18</td>\n      <td>1.629208e+12</td>\n      <td>200.0</td>\n      <td>7.894161e+07</td>\n      <td>7.894161e+07</td>\n      <td>5.000000</td>\n      <td>19.000000</td>\n      <td>0.000000</td>\n      <td>1.980000e+02</td>\n      <td>...</td>\n      <td>71.000000</td>\n      <td>NaN</td>\n      <td>NaN</td>\n      <td>NaN</td>\n      <td>NaN</td>\n      <td>2.942386e+09</td>\n      <td>1.427384e+18</td>\n      <td>NaN</td>\n      <td>NaN</td>\n      <td>NaN</td>\n    </tr>\n    <tr>\n      <th>max</th>\n      <td>1.428114e+18</td>\n      <td>1.428114e+18</td>\n      <td>1.629324e+12</td>\n      <td>200.0</td>\n      <td>1.407034e+18</td>\n      <td>1.407034e+18</td>\n      <td>7.000000</td>\n      <td>23.000000</td>\n      <td>1.000000</td>\n      <td>1.920242e+06</td>\n      <td>...</td>\n      <td>541964.000000</td>\n      <td>NaN</td>\n      <td>NaN</td>\n      <td>NaN</td>\n      <td>NaN</td>\n      <td>1.427235e+18</td>\n      <td>1.428112e+18</td>\n      <td>NaN</td>\n      <td>NaN</td>\n      <td>NaN</td>\n    </tr>\n  </tbody>\n</table>\n<p>8 rows × 21 columns</p>\n</div>"
     },
     "execution_count": 5,
     "metadata": {},
     "output_type": "execute_result"
    }
   ],
   "source": [
    "tweets.describe()"
   ],
   "metadata": {
    "collapsed": false,
    "ExecuteTime": {
     "end_time": "2024-02-26T15:53:40.819552700Z",
     "start_time": "2024-02-26T15:53:40.676117400Z"
    }
   },
   "id": "684952a9d5df9d3b",
   "execution_count": 5
  },
  {
   "cell_type": "markdown",
   "source": [
    "Users data exploration"
   ],
   "metadata": {
    "collapsed": false
   },
   "id": "31d3a096825545c3"
  },
  {
   "cell_type": "code",
   "outputs": [
    {
     "data": {
      "text/plain": "                      id               name         username  \\\n0              409486555     Michelle Obama    MichelleObama   \n1               19397785      Oprah Winfrey            Oprah   \n2               21447363         KATY PERRY        katyperry   \n3               14230524          Lady Gaga         ladygaga   \n4               16409683     Britney Spears    britneyspears   \n...                  ...                ...              ...   \n1241  841211876776259585  عبدالله بن الحسين   KingAbdullahII   \n1242           109226167   Mevlüt Çavuşoğlu  MevlutCavusoglu   \n1243           444465942                문재인     moonriver365   \n1244            17481977             GOV.UK            GOVUK   \n1245           247217109    Nana Akufo-Addo       NAkufoAddo   \n\n                                                    bio  \\\n0     Girl from the South Side and former First Lady...   \n1                                                   NaN   \n2                                          Love. Light.   \n3     “Chromatica” ⚔️💓 OUT NOW https://t.co/dgVb2x2V...   \n4                                                   NaN   \n...                                                 ...   \n1241  عبدالله بن الحسين، ملك المملكة الأردنية الهاشم...   \n1242  T.C. Dışişleri Bakanı / Minister of Foreign Af...   \n1243  대한민국 대통령 문재인입니다. President of the Republic of ...   \n1244  Official Twitter channel providing support for...   \n1245  Official Twitter account of Nana Addo Dankwa A...   \n\n                          url            join_datetime   join_date  \\\n0     https://t.co/HPYP9ad13Y  2011-11-10 20:13:01 UTC  2011-11-10   \n1     https://t.co/IKOnfAha8E  2009-01-23 15:18:34 UTC  2009-01-23   \n2     https://t.co/Rrwt0Kj2Q7  2009-02-20 23:45:56 UTC  2009-02-20   \n3     https://t.co/r5yRJxteLd  2008-03-26 22:37:48 UTC  2008-03-26   \n4     https://t.co/v9ZAAXrNtg  2008-09-22 20:47:35 UTC  2008-09-22   \n...                       ...                      ...         ...   \n1241  https://t.co/BrXkntz3j2  2017-03-13 08:58:35 UTC  2017-03-13   \n1242  https://t.co/XfLchcygHX  2010-01-28 10:50:37 UTC  2010-01-28   \n1243  https://t.co/FAKWOwyhHd  2011-12-23 08:46:08 UTC  2011-12-23   \n1244  https://t.co/4KBh38vztU  2008-11-19 07:25:05 UTC  2008-11-19   \n1245  https://t.co/UjPxYDnTjR  2011-02-04 10:14:22 UTC  2011-02-04   \n\n         join_time  tweets                     location  following  followers  \\\n0     20:13:01 UTC    1770               Washington, DC         16   20854298   \n1     15:18:34 UTC   13388                          NaN        323   43197469   \n2     23:45:56 UTC   11420                          NaN        235  108819032   \n3     22:37:48 UTC    9519                          NaN     119314   83675119   \n4     20:47:35 UTC    5716              Los Angeles, CA     367095   55569235   \n...            ...     ...                          ...        ...        ...   \n1241  08:58:35 UTC     188  Reino Hachemita de Jordania          0    2021450   \n1242  10:50:37 UTC   21185                          NaN        126    2011441   \n1243  08:46:08 UTC    4216                         대한민국     141040    1869489   \n1244  07:25:05 UTC   19867                           UK        680    1849529   \n1245  10:14:22 UTC    7744                        Ghana        352    2003463   \n\n      likes  media private verified  \\\n0       184    461   False     True   \n1       224    951   False     True   \n2      7995   2170   False     True   \n3      2310   1795   False     True   \n4      2539   1362   False     True   \n...     ...    ...     ...      ...   \n1241      0     50   False     True   \n1242   2314  11365   False     True   \n1243    720   2003   False     True   \n1244    152    869   False     True   \n1245    338   1499   False     True   \n\n                                                 avatar  \\\n0     https://pbs.twimg.com/profile_images/136674780...   \n1     https://pbs.twimg.com/profile_images/112335936...   \n2     https://pbs.twimg.com/profile_images/139246535...   \n3     https://pbs.twimg.com/profile_images/142258922...   \n4     https://pbs.twimg.com/profile_images/132341880...   \n...                                                 ...   \n1241  https://pbs.twimg.com/profile_images/845985887...   \n1242  https://pbs.twimg.com/profile_images/118200880...   \n1243  https://pbs.twimg.com/profile_images/798463233...   \n1244  https://pbs.twimg.com/profile_images/141050879...   \n1245  https://pbs.twimg.com/profile_images/817691975...   \n\n                                       background_image  \n0     https://pbs.twimg.com/profile_banners/40948655...  \n1     https://pbs.twimg.com/profile_banners/19397785...  \n2     https://pbs.twimg.com/profile_banners/21447363...  \n3     https://pbs.twimg.com/profile_banners/14230524...  \n4     https://pbs.twimg.com/profile_banners/16409683...  \n...                                                 ...  \n1241  https://pbs.twimg.com/profile_banners/84121187...  \n1242  https://pbs.twimg.com/profile_banners/10922616...  \n1243  https://pbs.twimg.com/profile_banners/44446594...  \n1244  https://pbs.twimg.com/profile_banners/17481977...  \n1245  https://pbs.twimg.com/profile_banners/24721710...  \n\n[1246 rows x 18 columns]",
      "text/html": "<div>\n<style scoped>\n    .dataframe tbody tr th:only-of-type {\n        vertical-align: middle;\n    }\n\n    .dataframe tbody tr th {\n        vertical-align: top;\n    }\n\n    .dataframe thead th {\n        text-align: right;\n    }\n</style>\n<table border=\"1\" class=\"dataframe\">\n  <thead>\n    <tr style=\"text-align: right;\">\n      <th></th>\n      <th>id</th>\n      <th>name</th>\n      <th>username</th>\n      <th>bio</th>\n      <th>url</th>\n      <th>join_datetime</th>\n      <th>join_date</th>\n      <th>join_time</th>\n      <th>tweets</th>\n      <th>location</th>\n      <th>following</th>\n      <th>followers</th>\n      <th>likes</th>\n      <th>media</th>\n      <th>private</th>\n      <th>verified</th>\n      <th>avatar</th>\n      <th>background_image</th>\n    </tr>\n  </thead>\n  <tbody>\n    <tr>\n      <th>0</th>\n      <td>409486555</td>\n      <td>Michelle Obama</td>\n      <td>MichelleObama</td>\n      <td>Girl from the South Side and former First Lady...</td>\n      <td>https://t.co/HPYP9ad13Y</td>\n      <td>2011-11-10 20:13:01 UTC</td>\n      <td>2011-11-10</td>\n      <td>20:13:01 UTC</td>\n      <td>1770</td>\n      <td>Washington, DC</td>\n      <td>16</td>\n      <td>20854298</td>\n      <td>184</td>\n      <td>461</td>\n      <td>False</td>\n      <td>True</td>\n      <td>https://pbs.twimg.com/profile_images/136674780...</td>\n      <td>https://pbs.twimg.com/profile_banners/40948655...</td>\n    </tr>\n    <tr>\n      <th>1</th>\n      <td>19397785</td>\n      <td>Oprah Winfrey</td>\n      <td>Oprah</td>\n      <td>NaN</td>\n      <td>https://t.co/IKOnfAha8E</td>\n      <td>2009-01-23 15:18:34 UTC</td>\n      <td>2009-01-23</td>\n      <td>15:18:34 UTC</td>\n      <td>13388</td>\n      <td>NaN</td>\n      <td>323</td>\n      <td>43197469</td>\n      <td>224</td>\n      <td>951</td>\n      <td>False</td>\n      <td>True</td>\n      <td>https://pbs.twimg.com/profile_images/112335936...</td>\n      <td>https://pbs.twimg.com/profile_banners/19397785...</td>\n    </tr>\n    <tr>\n      <th>2</th>\n      <td>21447363</td>\n      <td>KATY PERRY</td>\n      <td>katyperry</td>\n      <td>Love. Light.</td>\n      <td>https://t.co/Rrwt0Kj2Q7</td>\n      <td>2009-02-20 23:45:56 UTC</td>\n      <td>2009-02-20</td>\n      <td>23:45:56 UTC</td>\n      <td>11420</td>\n      <td>NaN</td>\n      <td>235</td>\n      <td>108819032</td>\n      <td>7995</td>\n      <td>2170</td>\n      <td>False</td>\n      <td>True</td>\n      <td>https://pbs.twimg.com/profile_images/139246535...</td>\n      <td>https://pbs.twimg.com/profile_banners/21447363...</td>\n    </tr>\n    <tr>\n      <th>3</th>\n      <td>14230524</td>\n      <td>Lady Gaga</td>\n      <td>ladygaga</td>\n      <td>“Chromatica” ⚔️💓 OUT NOW https://t.co/dgVb2x2V...</td>\n      <td>https://t.co/r5yRJxteLd</td>\n      <td>2008-03-26 22:37:48 UTC</td>\n      <td>2008-03-26</td>\n      <td>22:37:48 UTC</td>\n      <td>9519</td>\n      <td>NaN</td>\n      <td>119314</td>\n      <td>83675119</td>\n      <td>2310</td>\n      <td>1795</td>\n      <td>False</td>\n      <td>True</td>\n      <td>https://pbs.twimg.com/profile_images/142258922...</td>\n      <td>https://pbs.twimg.com/profile_banners/14230524...</td>\n    </tr>\n    <tr>\n      <th>4</th>\n      <td>16409683</td>\n      <td>Britney Spears</td>\n      <td>britneyspears</td>\n      <td>NaN</td>\n      <td>https://t.co/v9ZAAXrNtg</td>\n      <td>2008-09-22 20:47:35 UTC</td>\n      <td>2008-09-22</td>\n      <td>20:47:35 UTC</td>\n      <td>5716</td>\n      <td>Los Angeles, CA</td>\n      <td>367095</td>\n      <td>55569235</td>\n      <td>2539</td>\n      <td>1362</td>\n      <td>False</td>\n      <td>True</td>\n      <td>https://pbs.twimg.com/profile_images/132341880...</td>\n      <td>https://pbs.twimg.com/profile_banners/16409683...</td>\n    </tr>\n    <tr>\n      <th>...</th>\n      <td>...</td>\n      <td>...</td>\n      <td>...</td>\n      <td>...</td>\n      <td>...</td>\n      <td>...</td>\n      <td>...</td>\n      <td>...</td>\n      <td>...</td>\n      <td>...</td>\n      <td>...</td>\n      <td>...</td>\n      <td>...</td>\n      <td>...</td>\n      <td>...</td>\n      <td>...</td>\n      <td>...</td>\n      <td>...</td>\n    </tr>\n    <tr>\n      <th>1241</th>\n      <td>841211876776259585</td>\n      <td>عبدالله بن الحسين</td>\n      <td>KingAbdullahII</td>\n      <td>عبدالله بن الحسين، ملك المملكة الأردنية الهاشم...</td>\n      <td>https://t.co/BrXkntz3j2</td>\n      <td>2017-03-13 08:58:35 UTC</td>\n      <td>2017-03-13</td>\n      <td>08:58:35 UTC</td>\n      <td>188</td>\n      <td>Reino Hachemita de Jordania</td>\n      <td>0</td>\n      <td>2021450</td>\n      <td>0</td>\n      <td>50</td>\n      <td>False</td>\n      <td>True</td>\n      <td>https://pbs.twimg.com/profile_images/845985887...</td>\n      <td>https://pbs.twimg.com/profile_banners/84121187...</td>\n    </tr>\n    <tr>\n      <th>1242</th>\n      <td>109226167</td>\n      <td>Mevlüt Çavuşoğlu</td>\n      <td>MevlutCavusoglu</td>\n      <td>T.C. Dışişleri Bakanı / Minister of Foreign Af...</td>\n      <td>https://t.co/XfLchcygHX</td>\n      <td>2010-01-28 10:50:37 UTC</td>\n      <td>2010-01-28</td>\n      <td>10:50:37 UTC</td>\n      <td>21185</td>\n      <td>NaN</td>\n      <td>126</td>\n      <td>2011441</td>\n      <td>2314</td>\n      <td>11365</td>\n      <td>False</td>\n      <td>True</td>\n      <td>https://pbs.twimg.com/profile_images/118200880...</td>\n      <td>https://pbs.twimg.com/profile_banners/10922616...</td>\n    </tr>\n    <tr>\n      <th>1243</th>\n      <td>444465942</td>\n      <td>문재인</td>\n      <td>moonriver365</td>\n      <td>대한민국 대통령 문재인입니다. President of the Republic of ...</td>\n      <td>https://t.co/FAKWOwyhHd</td>\n      <td>2011-12-23 08:46:08 UTC</td>\n      <td>2011-12-23</td>\n      <td>08:46:08 UTC</td>\n      <td>4216</td>\n      <td>대한민국</td>\n      <td>141040</td>\n      <td>1869489</td>\n      <td>720</td>\n      <td>2003</td>\n      <td>False</td>\n      <td>True</td>\n      <td>https://pbs.twimg.com/profile_images/798463233...</td>\n      <td>https://pbs.twimg.com/profile_banners/44446594...</td>\n    </tr>\n    <tr>\n      <th>1244</th>\n      <td>17481977</td>\n      <td>GOV.UK</td>\n      <td>GOVUK</td>\n      <td>Official Twitter channel providing support for...</td>\n      <td>https://t.co/4KBh38vztU</td>\n      <td>2008-11-19 07:25:05 UTC</td>\n      <td>2008-11-19</td>\n      <td>07:25:05 UTC</td>\n      <td>19867</td>\n      <td>UK</td>\n      <td>680</td>\n      <td>1849529</td>\n      <td>152</td>\n      <td>869</td>\n      <td>False</td>\n      <td>True</td>\n      <td>https://pbs.twimg.com/profile_images/141050879...</td>\n      <td>https://pbs.twimg.com/profile_banners/17481977...</td>\n    </tr>\n    <tr>\n      <th>1245</th>\n      <td>247217109</td>\n      <td>Nana Akufo-Addo</td>\n      <td>NAkufoAddo</td>\n      <td>Official Twitter account of Nana Addo Dankwa A...</td>\n      <td>https://t.co/UjPxYDnTjR</td>\n      <td>2011-02-04 10:14:22 UTC</td>\n      <td>2011-02-04</td>\n      <td>10:14:22 UTC</td>\n      <td>7744</td>\n      <td>Ghana</td>\n      <td>352</td>\n      <td>2003463</td>\n      <td>338</td>\n      <td>1499</td>\n      <td>False</td>\n      <td>True</td>\n      <td>https://pbs.twimg.com/profile_images/817691975...</td>\n      <td>https://pbs.twimg.com/profile_banners/24721710...</td>\n    </tr>\n  </tbody>\n</table>\n<p>1246 rows × 18 columns</p>\n</div>"
     },
     "execution_count": 11,
     "metadata": {},
     "output_type": "execute_result"
    }
   ],
   "source": [
    "users"
   ],
   "metadata": {
    "collapsed": false,
    "ExecuteTime": {
     "end_time": "2024-02-26T15:55:23.261776400Z",
     "start_time": "2024-02-26T15:55:23.248375Z"
    }
   },
   "id": "b5da42dac2438293",
   "execution_count": 11
  },
  {
   "cell_type": "code",
   "outputs": [
    {
     "name": "stdout",
     "output_type": "stream",
     "text": [
      "<class 'pandas.core.frame.DataFrame'>\n",
      "RangeIndex: 1246 entries, 0 to 1245\n",
      "Data columns (total 18 columns):\n",
      " #   Column            Non-Null Count  Dtype \n",
      "---  ------            --------------  ----- \n",
      " 0   id                1246 non-null   int64 \n",
      " 1   name              1229 non-null   object\n",
      " 2   username          1229 non-null   object\n",
      " 3   bio               1116 non-null   object\n",
      " 4   url               1009 non-null   object\n",
      " 5   join_datetime     1246 non-null   object\n",
      " 6   join_date         1229 non-null   object\n",
      " 7   join_time         1229 non-null   object\n",
      " 8   tweets            1246 non-null   int64 \n",
      " 9   location          839 non-null    object\n",
      " 10  following         1246 non-null   int64 \n",
      " 11  followers         1246 non-null   int64 \n",
      " 12  likes             1246 non-null   int64 \n",
      " 13  media             1246 non-null   int64 \n",
      " 14  private           1229 non-null   object\n",
      " 15  verified          1229 non-null   object\n",
      " 16  avatar            1229 non-null   object\n",
      " 17  background_image  1118 non-null   object\n",
      "dtypes: int64(6), object(12)\n",
      "memory usage: 175.3+ KB\n"
     ]
    }
   ],
   "source": [
    "users.info()"
   ],
   "metadata": {
    "collapsed": false,
    "ExecuteTime": {
     "end_time": "2024-02-26T15:53:40.827884800Z",
     "start_time": "2024-02-26T15:53:40.733794500Z"
    }
   },
   "id": "e68e5c6c3a7cb022",
   "execution_count": 7
  },
  {
   "cell_type": "code",
   "outputs": [
    {
     "data": {
      "text/plain": "                 id         tweets     following     followers          likes  \\\ncount  1.246000e+03    1246.000000  1.246000e+03  1.246000e+03    1246.000000   \nmean   4.244386e+16   28091.992777  9.928238e+03  8.633238e+06    5913.761637   \nstd    2.109386e+17   58852.437988  1.308946e+05  1.347938e+07   23020.213345   \nmin    1.200000e+01      -1.000000 -1.000000e+00 -1.000000e+00      -1.000000   \n25%    2.446483e+07    4139.000000  1.342500e+02  2.613579e+06     113.250000   \n50%    6.879245e+07   10987.500000  4.820000e+02  4.462139e+06     813.500000   \n75%    2.211524e+08   25841.500000  1.197500e+03  8.646735e+06    3907.000000   \nmax    1.407034e+18  730463.000000  4.200793e+06  1.299093e+08  492144.000000   \n\n               media  \ncount    1246.000000  \nmean     6179.759230  \nstd     24128.348147  \nmin        -1.000000  \n25%       606.250000  \n50%      1475.000000  \n75%      3131.500000  \nmax    516329.000000  ",
      "text/html": "<div>\n<style scoped>\n    .dataframe tbody tr th:only-of-type {\n        vertical-align: middle;\n    }\n\n    .dataframe tbody tr th {\n        vertical-align: top;\n    }\n\n    .dataframe thead th {\n        text-align: right;\n    }\n</style>\n<table border=\"1\" class=\"dataframe\">\n  <thead>\n    <tr style=\"text-align: right;\">\n      <th></th>\n      <th>id</th>\n      <th>tweets</th>\n      <th>following</th>\n      <th>followers</th>\n      <th>likes</th>\n      <th>media</th>\n    </tr>\n  </thead>\n  <tbody>\n    <tr>\n      <th>count</th>\n      <td>1.246000e+03</td>\n      <td>1246.000000</td>\n      <td>1.246000e+03</td>\n      <td>1.246000e+03</td>\n      <td>1246.000000</td>\n      <td>1246.000000</td>\n    </tr>\n    <tr>\n      <th>mean</th>\n      <td>4.244386e+16</td>\n      <td>28091.992777</td>\n      <td>9.928238e+03</td>\n      <td>8.633238e+06</td>\n      <td>5913.761637</td>\n      <td>6179.759230</td>\n    </tr>\n    <tr>\n      <th>std</th>\n      <td>2.109386e+17</td>\n      <td>58852.437988</td>\n      <td>1.308946e+05</td>\n      <td>1.347938e+07</td>\n      <td>23020.213345</td>\n      <td>24128.348147</td>\n    </tr>\n    <tr>\n      <th>min</th>\n      <td>1.200000e+01</td>\n      <td>-1.000000</td>\n      <td>-1.000000e+00</td>\n      <td>-1.000000e+00</td>\n      <td>-1.000000</td>\n      <td>-1.000000</td>\n    </tr>\n    <tr>\n      <th>25%</th>\n      <td>2.446483e+07</td>\n      <td>4139.000000</td>\n      <td>1.342500e+02</td>\n      <td>2.613579e+06</td>\n      <td>113.250000</td>\n      <td>606.250000</td>\n    </tr>\n    <tr>\n      <th>50%</th>\n      <td>6.879245e+07</td>\n      <td>10987.500000</td>\n      <td>4.820000e+02</td>\n      <td>4.462139e+06</td>\n      <td>813.500000</td>\n      <td>1475.000000</td>\n    </tr>\n    <tr>\n      <th>75%</th>\n      <td>2.211524e+08</td>\n      <td>25841.500000</td>\n      <td>1.197500e+03</td>\n      <td>8.646735e+06</td>\n      <td>3907.000000</td>\n      <td>3131.500000</td>\n    </tr>\n    <tr>\n      <th>max</th>\n      <td>1.407034e+18</td>\n      <td>730463.000000</td>\n      <td>4.200793e+06</td>\n      <td>1.299093e+08</td>\n      <td>492144.000000</td>\n      <td>516329.000000</td>\n    </tr>\n  </tbody>\n</table>\n</div>"
     },
     "execution_count": 8,
     "metadata": {},
     "output_type": "execute_result"
    }
   ],
   "source": [
    "users.describe()"
   ],
   "metadata": {
    "collapsed": false,
    "ExecuteTime": {
     "end_time": "2024-02-26T15:53:40.881100400Z",
     "start_time": "2024-02-26T15:53:40.741265900Z"
    }
   },
   "id": "e10b25d08959ae57",
   "execution_count": 8
  }
 ],
 "metadata": {
  "kernelspec": {
   "display_name": "Python 3",
   "language": "python",
   "name": "python3"
  },
  "language_info": {
   "codemirror_mode": {
    "name": "ipython",
    "version": 2
   },
   "file_extension": ".py",
   "mimetype": "text/x-python",
   "name": "python",
   "nbconvert_exporter": "python",
   "pygments_lexer": "ipython2",
   "version": "2.7.6"
  }
 },
 "nbformat": 4,
 "nbformat_minor": 5
}
