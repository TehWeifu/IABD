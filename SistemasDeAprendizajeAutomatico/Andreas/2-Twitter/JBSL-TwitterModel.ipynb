{
 "cells": [
  {
   "cell_type": "markdown",
   "source": [
    "# Predicting the popularity of tweets"
   ],
   "metadata": {
    "collapsed": false
   },
   "id": "626bb12a897bf457"
  },
  {
   "cell_type": "code",
   "execution_count": 168,
   "id": "initial_id",
   "metadata": {
    "collapsed": true,
    "ExecuteTime": {
     "end_time": "2024-05-23T16:16:24.846952Z",
     "start_time": "2024-05-23T16:16:24.843315Z"
    }
   },
   "outputs": [],
   "source": [
    "# Import all libraries needed through the whole notebook\n",
    "\n",
    "import matplotlib.pyplot as plt\n",
    "import numpy as np\n",
    "import pandas as pd\n",
    "import seaborn as sns\n",
    "from sklearn.ensemble import RandomForestClassifier, GradientBoostingClassifier\n",
    "from sklearn.linear_model import LogisticRegression\n",
    "from sklearn.metrics import accuracy_score, precision_score, recall_score, f1_score, roc_auc_score\n",
    "from sklearn.model_selection import GridSearchCV\n",
    "from sklearn.model_selection import train_test_split\n",
    "from sklearn.preprocessing import LabelEncoder\n",
    "\n",
    "RANDOM_SEED = 2055"
   ]
  },
  {
   "cell_type": "markdown",
   "source": [
    "# Exploratory data analysis"
   ],
   "metadata": {
    "collapsed": false
   },
   "id": "ae7431b1f1e6261d"
  },
  {
   "cell_type": "markdown",
   "source": [
    "During the exploratory data analysis, we will look at the data to understand its structure and the relationships between the variables. We have two main goals during this phase:\n",
    "1. Choose which variable will be our target variable\n",
    "2. Identify the most important variables that will help us predict the target variable"
   ],
   "metadata": {
    "collapsed": false
   },
   "id": "d272045618e00e52"
  },
  {
   "cell_type": "markdown",
   "source": [
    "## Load the data"
   ],
   "metadata": {
    "collapsed": false
   },
   "id": "f43182b1e26fd9cd"
  },
  {
   "cell_type": "markdown",
   "source": [
    "The first step is to load the data and check the information about the columns and the data types are correct. One special thing to consider the data is that we have two datasets: one with the tweets and another with the users. We will need to join these datasets to have all the information in one place."
   ],
   "metadata": {
    "collapsed": false
   },
   "id": "cc12975dc25be04b"
  },
  {
   "cell_type": "code",
   "outputs": [],
   "source": [
    "# Load both datasets\n",
    "tweets = pd.read_csv('./data/tweets.csv', low_memory=False)\n",
    "users = pd.read_csv('./data/users.csv')"
   ],
   "metadata": {
    "collapsed": false,
    "ExecuteTime": {
     "end_time": "2024-05-23T16:16:25.296134Z",
     "start_time": "2024-05-23T16:16:24.940715Z"
    }
   },
   "id": "158c06b8ea90c030",
   "execution_count": 169
  },
  {
   "cell_type": "code",
   "outputs": [],
   "source": [
    "# Join the datasets\n",
    "users.set_index('id', inplace=True)\n",
    "tweets_users = tweets.join(users, on='user_id', lsuffix='_tweet', rsuffix='_user', how='left')"
   ],
   "metadata": {
    "collapsed": false,
    "ExecuteTime": {
     "end_time": "2024-05-23T16:16:25.335225Z",
     "start_time": "2024-05-23T16:16:25.297176Z"
    }
   },
   "id": "f7fdd7efb6a9ae64",
   "execution_count": 170
  },
  {
   "cell_type": "markdown",
   "source": [
    "### Check data has been loaded correctly"
   ],
   "metadata": {
    "collapsed": false
   },
   "id": "fe17f8f9d0344f24"
  },
  {
   "cell_type": "code",
   "outputs": [
    {
     "data": {
      "text/plain": "                        id      conversation_id    created_at  \\\n0      1425590913959612419  1425590913959612419  1.628722e+12   \n1      1427736867739299841  1427736867739299841  1.629234e+12   \n2      1427667300488937476  1427667300488937476  1.629217e+12   \n3      1427667012105371652  1427667012105371652  1.629217e+12   \n4      1427497703596990467  1427497703596990467  1.629177e+12   \n...                    ...                  ...           ...   \n40576  1427593440469061634  1427593440469061634  1.629200e+12   \n40577  1427592955272089642  1427592930722820096  1.629200e+12   \n40578  1427592942441598980  1427592930722820096  1.629200e+12   \n40579  1427592930722820096  1427592930722820096  1.629200e+12   \n40580  1427335350658158598  1427335350658158598  1.629138e+12   \n\n                      date  timezone place  \\\n0      2021-08-12 00:52:14       200   NaN   \n1      2021-08-17 22:59:29       200   NaN   \n2      2021-08-17 18:23:03       200   NaN   \n3      2021-08-17 18:21:55       200   NaN   \n4      2021-08-17 07:09:08       200   NaN   \n...                    ...       ...   ...   \n40576  2021-08-17 13:29:34       200   NaN   \n40577  2021-08-17 13:27:38       200   NaN   \n40578  2021-08-17 13:27:35       200   NaN   \n40579  2021-08-17 13:27:32       200   NaN   \n40580  2021-08-16 20:24:00       200   NaN   \n\n                                                   tweet language  \\\n0      RT @girlsalliance: We're so proud of the four ...       en   \n1      Some casual suggestions to 😏SLIDE😏 into when u...       en   \n2                  RT @ValaAfshar: You are not your job.       en   \n3      What have we become 😔😂  Toddler Cites Freedom ...       en   \n4      The tech giants that refuse to massively addre...       en   \n...                                                  ...      ...   \n40576  Commencement of works. #Agenda111  https://t.c...       en   \n40577  Commencement of works. #Agenda111  https://t.c...       en   \n40578  Commencement of works. #Agenda111  https://t.c...       en   \n40579  Commencement of works. #Agenda111  https://t.c...       en   \n40580                #Agenda111  https://t.co/M1FYBKXqK3      und   \n\n                                     hashtags cashtags  ...  tweets  \\\n0                                          []       []  ...    1770   \n1      ['shoesdaytuesday', 'afterskewlslide']       []  ...   11420   \n2                                          []       []  ...   11420   \n3                                          []       []  ...   11420   \n4                                          []       []  ...   11420   \n...                                       ...      ...  ...     ...   \n40576                           ['agenda111']       []  ...    7744   \n40577                           ['agenda111']       []  ...    7744   \n40578                           ['agenda111']       []  ...    7744   \n40579                           ['agenda111']       []  ...    7744   \n40580                           ['agenda111']       []  ...    7744   \n\n             location following  followers  likes  media private verified  \\\n0      Washington, DC        16   20854298    184    461   False     True   \n1                 NaN       235  108819032   7995   2170   False     True   \n2                 NaN       235  108819032   7995   2170   False     True   \n3                 NaN       235  108819032   7995   2170   False     True   \n4                 NaN       235  108819032   7995   2170   False     True   \n...               ...       ...        ...    ...    ...     ...      ...   \n40576           Ghana       352    2003463    338   1499   False     True   \n40577           Ghana       352    2003463    338   1499   False     True   \n40578           Ghana       352    2003463    338   1499   False     True   \n40579           Ghana       352    2003463    338   1499   False     True   \n40580           Ghana       352    2003463    338   1499   False     True   \n\n                                                  avatar  \\\n0      https://pbs.twimg.com/profile_images/136674780...   \n1      https://pbs.twimg.com/profile_images/139246535...   \n2      https://pbs.twimg.com/profile_images/139246535...   \n3      https://pbs.twimg.com/profile_images/139246535...   \n4      https://pbs.twimg.com/profile_images/139246535...   \n...                                                  ...   \n40576  https://pbs.twimg.com/profile_images/817691975...   \n40577  https://pbs.twimg.com/profile_images/817691975...   \n40578  https://pbs.twimg.com/profile_images/817691975...   \n40579  https://pbs.twimg.com/profile_images/817691975...   \n40580  https://pbs.twimg.com/profile_images/817691975...   \n\n                                        background_image  \n0      https://pbs.twimg.com/profile_banners/40948655...  \n1      https://pbs.twimg.com/profile_banners/21447363...  \n2      https://pbs.twimg.com/profile_banners/21447363...  \n3      https://pbs.twimg.com/profile_banners/21447363...  \n4      https://pbs.twimg.com/profile_banners/21447363...  \n...                                                  ...  \n40576  https://pbs.twimg.com/profile_banners/24721710...  \n40577  https://pbs.twimg.com/profile_banners/24721710...  \n40578  https://pbs.twimg.com/profile_banners/24721710...  \n40579  https://pbs.twimg.com/profile_banners/24721710...  \n40580  https://pbs.twimg.com/profile_banners/24721710...  \n\n[40867 rows x 55 columns]",
      "text/html": "<div>\n<style scoped>\n    .dataframe tbody tr th:only-of-type {\n        vertical-align: middle;\n    }\n\n    .dataframe tbody tr th {\n        vertical-align: top;\n    }\n\n    .dataframe thead th {\n        text-align: right;\n    }\n</style>\n<table border=\"1\" class=\"dataframe\">\n  <thead>\n    <tr style=\"text-align: right;\">\n      <th></th>\n      <th>id</th>\n      <th>conversation_id</th>\n      <th>created_at</th>\n      <th>date</th>\n      <th>timezone</th>\n      <th>place</th>\n      <th>tweet</th>\n      <th>language</th>\n      <th>hashtags</th>\n      <th>cashtags</th>\n      <th>...</th>\n      <th>tweets</th>\n      <th>location</th>\n      <th>following</th>\n      <th>followers</th>\n      <th>likes</th>\n      <th>media</th>\n      <th>private</th>\n      <th>verified</th>\n      <th>avatar</th>\n      <th>background_image</th>\n    </tr>\n  </thead>\n  <tbody>\n    <tr>\n      <th>0</th>\n      <td>1425590913959612419</td>\n      <td>1425590913959612419</td>\n      <td>1.628722e+12</td>\n      <td>2021-08-12 00:52:14</td>\n      <td>200</td>\n      <td>NaN</td>\n      <td>RT @girlsalliance: We're so proud of the four ...</td>\n      <td>en</td>\n      <td>[]</td>\n      <td>[]</td>\n      <td>...</td>\n      <td>1770</td>\n      <td>Washington, DC</td>\n      <td>16</td>\n      <td>20854298</td>\n      <td>184</td>\n      <td>461</td>\n      <td>False</td>\n      <td>True</td>\n      <td>https://pbs.twimg.com/profile_images/136674780...</td>\n      <td>https://pbs.twimg.com/profile_banners/40948655...</td>\n    </tr>\n    <tr>\n      <th>1</th>\n      <td>1427736867739299841</td>\n      <td>1427736867739299841</td>\n      <td>1.629234e+12</td>\n      <td>2021-08-17 22:59:29</td>\n      <td>200</td>\n      <td>NaN</td>\n      <td>Some casual suggestions to 😏SLIDE😏 into when u...</td>\n      <td>en</td>\n      <td>['shoesdaytuesday', 'afterskewlslide']</td>\n      <td>[]</td>\n      <td>...</td>\n      <td>11420</td>\n      <td>NaN</td>\n      <td>235</td>\n      <td>108819032</td>\n      <td>7995</td>\n      <td>2170</td>\n      <td>False</td>\n      <td>True</td>\n      <td>https://pbs.twimg.com/profile_images/139246535...</td>\n      <td>https://pbs.twimg.com/profile_banners/21447363...</td>\n    </tr>\n    <tr>\n      <th>2</th>\n      <td>1427667300488937476</td>\n      <td>1427667300488937476</td>\n      <td>1.629217e+12</td>\n      <td>2021-08-17 18:23:03</td>\n      <td>200</td>\n      <td>NaN</td>\n      <td>RT @ValaAfshar: You are not your job.</td>\n      <td>en</td>\n      <td>[]</td>\n      <td>[]</td>\n      <td>...</td>\n      <td>11420</td>\n      <td>NaN</td>\n      <td>235</td>\n      <td>108819032</td>\n      <td>7995</td>\n      <td>2170</td>\n      <td>False</td>\n      <td>True</td>\n      <td>https://pbs.twimg.com/profile_images/139246535...</td>\n      <td>https://pbs.twimg.com/profile_banners/21447363...</td>\n    </tr>\n    <tr>\n      <th>3</th>\n      <td>1427667012105371652</td>\n      <td>1427667012105371652</td>\n      <td>1.629217e+12</td>\n      <td>2021-08-17 18:21:55</td>\n      <td>200</td>\n      <td>NaN</td>\n      <td>What have we become 😔😂  Toddler Cites Freedom ...</td>\n      <td>en</td>\n      <td>[]</td>\n      <td>[]</td>\n      <td>...</td>\n      <td>11420</td>\n      <td>NaN</td>\n      <td>235</td>\n      <td>108819032</td>\n      <td>7995</td>\n      <td>2170</td>\n      <td>False</td>\n      <td>True</td>\n      <td>https://pbs.twimg.com/profile_images/139246535...</td>\n      <td>https://pbs.twimg.com/profile_banners/21447363...</td>\n    </tr>\n    <tr>\n      <th>4</th>\n      <td>1427497703596990467</td>\n      <td>1427497703596990467</td>\n      <td>1.629177e+12</td>\n      <td>2021-08-17 07:09:08</td>\n      <td>200</td>\n      <td>NaN</td>\n      <td>The tech giants that refuse to massively addre...</td>\n      <td>en</td>\n      <td>[]</td>\n      <td>[]</td>\n      <td>...</td>\n      <td>11420</td>\n      <td>NaN</td>\n      <td>235</td>\n      <td>108819032</td>\n      <td>7995</td>\n      <td>2170</td>\n      <td>False</td>\n      <td>True</td>\n      <td>https://pbs.twimg.com/profile_images/139246535...</td>\n      <td>https://pbs.twimg.com/profile_banners/21447363...</td>\n    </tr>\n    <tr>\n      <th>...</th>\n      <td>...</td>\n      <td>...</td>\n      <td>...</td>\n      <td>...</td>\n      <td>...</td>\n      <td>...</td>\n      <td>...</td>\n      <td>...</td>\n      <td>...</td>\n      <td>...</td>\n      <td>...</td>\n      <td>...</td>\n      <td>...</td>\n      <td>...</td>\n      <td>...</td>\n      <td>...</td>\n      <td>...</td>\n      <td>...</td>\n      <td>...</td>\n      <td>...</td>\n      <td>...</td>\n    </tr>\n    <tr>\n      <th>40576</th>\n      <td>1427593440469061634</td>\n      <td>1427593440469061634</td>\n      <td>1.629200e+12</td>\n      <td>2021-08-17 13:29:34</td>\n      <td>200</td>\n      <td>NaN</td>\n      <td>Commencement of works. #Agenda111  https://t.c...</td>\n      <td>en</td>\n      <td>['agenda111']</td>\n      <td>[]</td>\n      <td>...</td>\n      <td>7744</td>\n      <td>Ghana</td>\n      <td>352</td>\n      <td>2003463</td>\n      <td>338</td>\n      <td>1499</td>\n      <td>False</td>\n      <td>True</td>\n      <td>https://pbs.twimg.com/profile_images/817691975...</td>\n      <td>https://pbs.twimg.com/profile_banners/24721710...</td>\n    </tr>\n    <tr>\n      <th>40577</th>\n      <td>1427592955272089642</td>\n      <td>1427592930722820096</td>\n      <td>1.629200e+12</td>\n      <td>2021-08-17 13:27:38</td>\n      <td>200</td>\n      <td>NaN</td>\n      <td>Commencement of works. #Agenda111  https://t.c...</td>\n      <td>en</td>\n      <td>['agenda111']</td>\n      <td>[]</td>\n      <td>...</td>\n      <td>7744</td>\n      <td>Ghana</td>\n      <td>352</td>\n      <td>2003463</td>\n      <td>338</td>\n      <td>1499</td>\n      <td>False</td>\n      <td>True</td>\n      <td>https://pbs.twimg.com/profile_images/817691975...</td>\n      <td>https://pbs.twimg.com/profile_banners/24721710...</td>\n    </tr>\n    <tr>\n      <th>40578</th>\n      <td>1427592942441598980</td>\n      <td>1427592930722820096</td>\n      <td>1.629200e+12</td>\n      <td>2021-08-17 13:27:35</td>\n      <td>200</td>\n      <td>NaN</td>\n      <td>Commencement of works. #Agenda111  https://t.c...</td>\n      <td>en</td>\n      <td>['agenda111']</td>\n      <td>[]</td>\n      <td>...</td>\n      <td>7744</td>\n      <td>Ghana</td>\n      <td>352</td>\n      <td>2003463</td>\n      <td>338</td>\n      <td>1499</td>\n      <td>False</td>\n      <td>True</td>\n      <td>https://pbs.twimg.com/profile_images/817691975...</td>\n      <td>https://pbs.twimg.com/profile_banners/24721710...</td>\n    </tr>\n    <tr>\n      <th>40579</th>\n      <td>1427592930722820096</td>\n      <td>1427592930722820096</td>\n      <td>1.629200e+12</td>\n      <td>2021-08-17 13:27:32</td>\n      <td>200</td>\n      <td>NaN</td>\n      <td>Commencement of works. #Agenda111  https://t.c...</td>\n      <td>en</td>\n      <td>['agenda111']</td>\n      <td>[]</td>\n      <td>...</td>\n      <td>7744</td>\n      <td>Ghana</td>\n      <td>352</td>\n      <td>2003463</td>\n      <td>338</td>\n      <td>1499</td>\n      <td>False</td>\n      <td>True</td>\n      <td>https://pbs.twimg.com/profile_images/817691975...</td>\n      <td>https://pbs.twimg.com/profile_banners/24721710...</td>\n    </tr>\n    <tr>\n      <th>40580</th>\n      <td>1427335350658158598</td>\n      <td>1427335350658158598</td>\n      <td>1.629138e+12</td>\n      <td>2021-08-16 20:24:00</td>\n      <td>200</td>\n      <td>NaN</td>\n      <td>#Agenda111  https://t.co/M1FYBKXqK3</td>\n      <td>und</td>\n      <td>['agenda111']</td>\n      <td>[]</td>\n      <td>...</td>\n      <td>7744</td>\n      <td>Ghana</td>\n      <td>352</td>\n      <td>2003463</td>\n      <td>338</td>\n      <td>1499</td>\n      <td>False</td>\n      <td>True</td>\n      <td>https://pbs.twimg.com/profile_images/817691975...</td>\n      <td>https://pbs.twimg.com/profile_banners/24721710...</td>\n    </tr>\n  </tbody>\n</table>\n<p>40867 rows × 55 columns</p>\n</div>"
     },
     "execution_count": 171,
     "metadata": {},
     "output_type": "execute_result"
    }
   ],
   "source": [
    "tweets_users"
   ],
   "metadata": {
    "collapsed": false,
    "ExecuteTime": {
     "end_time": "2024-05-23T16:16:25.366045Z",
     "start_time": "2024-05-23T16:16:25.336263Z"
    }
   },
   "id": "4863b3fbcdfc7611",
   "execution_count": 171
  },
  {
   "cell_type": "markdown",
   "source": [
    "At first glance, we see that some columns do not have the expected data types. We will convert them to the correct data types before we make any analysis to make sure we don't have any problems with the data types."
   ],
   "metadata": {
    "collapsed": false
   },
   "id": "4e1a083254502f59"
  },
  {
   "cell_type": "code",
   "outputs": [],
   "source": [
    "# Convert columns to the correct data types\n",
    "tweets_users['id'] = tweets_users['id'].astype('str')\n",
    "tweets_users['conversation_id'] = tweets_users['conversation_id'].astype('str')\n",
    "tweets_users['created_at'] = pd.to_datetime(tweets_users['created_at'], unit='ms')\n",
    "tweets_users['date'] = pd.to_datetime(tweets_users['date'])\n",
    "tweets_users['user_id'] = tweets_users['user_id'].astype('str')\n",
    "tweets_users['user_id_str'] = tweets_users['user_id_str'].astype('str')\n",
    "tweets_users['video'] = tweets_users['video'].astype('bool')\n",
    "tweets_users['user_rt_id'] = tweets_users['user_rt_id'].astype('str')\n",
    "tweets_users['retweet_id'] = tweets_users['retweet_id'].astype('str')\n",
    "tweets_users['retweet_date'] = pd.to_datetime(tweets_users['retweet_date'].str.rstrip(' CEST'))\n",
    "tweets_users['join_datetime'] = pd.to_datetime(tweets_users['join_datetime'])\n",
    "tweets_users['join_date'] = pd.to_datetime(tweets_users['join_date'])\n",
    "tweets_users['join_time'] = pd.to_datetime(tweets_users['join_time'], format='%H:%M:%S %Z').dt.time\n",
    "tweets_users['private'] = tweets_users['private'].astype('bool')\n",
    "tweets_users['verified'] = tweets_users['verified'].astype('bool')"
   ],
   "metadata": {
    "collapsed": false,
    "ExecuteTime": {
     "end_time": "2024-05-23T16:16:25.500178Z",
     "start_time": "2024-05-23T16:16:25.367086Z"
    }
   },
   "id": "867538180a90a9b9",
   "execution_count": 172
  },
  {
   "cell_type": "code",
   "outputs": [
    {
     "data": {
      "text/plain": "(40867, 55)"
     },
     "execution_count": 173,
     "metadata": {},
     "output_type": "execute_result"
    }
   ],
   "source": [
    "tweets_users.shape"
   ],
   "metadata": {
    "collapsed": false,
    "ExecuteTime": {
     "end_time": "2024-05-23T16:16:25.504821Z",
     "start_time": "2024-05-23T16:16:25.500681Z"
    }
   },
   "id": "420439777e02a2c0",
   "execution_count": 173
  },
  {
   "cell_type": "code",
   "outputs": [
    {
     "name": "stdout",
     "output_type": "stream",
     "text": [
      "<class 'pandas.core.frame.DataFrame'>\n",
      "Index: 40867 entries, 0 to 40580\n",
      "Data columns (total 55 columns):\n",
      " #   Column            Non-Null Count  Dtype              \n",
      "---  ------            --------------  -----              \n",
      " 0   id                40867 non-null  object             \n",
      " 1   conversation_id   40867 non-null  object             \n",
      " 2   created_at        40867 non-null  datetime64[ns]     \n",
      " 3   date              40867 non-null  datetime64[ns]     \n",
      " 4   timezone          40867 non-null  int64              \n",
      " 5   place             34 non-null     object             \n",
      " 6   tweet             40867 non-null  object             \n",
      " 7   language          40867 non-null  object             \n",
      " 8   hashtags          40867 non-null  object             \n",
      " 9   cashtags          40867 non-null  object             \n",
      " 10  user_id           40867 non-null  object             \n",
      " 11  user_id_str       40867 non-null  object             \n",
      " 12  username_tweet    40867 non-null  object             \n",
      " 13  name_tweet        40867 non-null  object             \n",
      " 14  day               40867 non-null  int64              \n",
      " 15  hour              40867 non-null  int64              \n",
      " 16  link              40867 non-null  object             \n",
      " 17  urls              40867 non-null  object             \n",
      " 18  photos            40867 non-null  object             \n",
      " 19  video             40867 non-null  bool               \n",
      " 20  thumbnail         9223 non-null   object             \n",
      " 21  retweet           40867 non-null  bool               \n",
      " 22  nlikes            40867 non-null  int64              \n",
      " 23  nreplies          40867 non-null  int64              \n",
      " 24  nretweets         40867 non-null  int64              \n",
      " 25  quote_url         40867 non-null  object             \n",
      " 26  search            0 non-null      float64            \n",
      " 27  near              0 non-null      float64            \n",
      " 28  geo               0 non-null      float64            \n",
      " 29  source            0 non-null      float64            \n",
      " 30  user_rt_id        40867 non-null  object             \n",
      " 31  user_rt           6182 non-null   object             \n",
      " 32  retweet_id        40867 non-null  object             \n",
      " 33  reply_to          40867 non-null  object             \n",
      " 34  retweet_date      6182 non-null   datetime64[ns]     \n",
      " 35  translate         0 non-null      float64            \n",
      " 36  trans_src         0 non-null      float64            \n",
      " 37  trans_dest        0 non-null      float64            \n",
      " 38  name_user         40867 non-null  object             \n",
      " 39  username_user     40867 non-null  object             \n",
      " 40  bio               40297 non-null  object             \n",
      " 41  url               37694 non-null  object             \n",
      " 42  join_datetime     40867 non-null  datetime64[ns, UTC]\n",
      " 43  join_date         40867 non-null  datetime64[ns]     \n",
      " 44  join_time         40867 non-null  object             \n",
      " 45  tweets            40867 non-null  int64              \n",
      " 46  location          29065 non-null  object             \n",
      " 47  following         40867 non-null  int64              \n",
      " 48  followers         40867 non-null  int64              \n",
      " 49  likes             40867 non-null  int64              \n",
      " 50  media             40867 non-null  int64              \n",
      " 51  private           40867 non-null  bool               \n",
      " 52  verified          40867 non-null  bool               \n",
      " 53  avatar            40867 non-null  object             \n",
      " 54  background_image  40501 non-null  object             \n",
      "dtypes: bool(4), datetime64[ns, UTC](1), datetime64[ns](4), float64(7), int64(11), object(28)\n",
      "memory usage: 16.4+ MB\n"
     ]
    }
   ],
   "source": [
    "tweets_users.info()"
   ],
   "metadata": {
    "collapsed": false,
    "ExecuteTime": {
     "end_time": "2024-05-23T16:16:25.540861Z",
     "start_time": "2024-05-23T16:16:25.505330Z"
    }
   },
   "id": "877d168c96127511",
   "execution_count": 174
  },
  {
   "cell_type": "code",
   "outputs": [
    {
     "data": {
      "text/plain": "                          created_at                           date  timezone  \\\ncount                          40867                          40867   40867.0   \nmean   2021-08-15 13:00:53.727041280  2021-08-15 15:00:53.727041280     200.0   \nmin              2021-08-11 22:00:00            2021-08-12 00:00:00     200.0   \n25%              2021-08-13 14:56:50            2021-08-13 16:56:50     200.0   \n50%              2021-08-15 15:30:01            2021-08-15 17:30:01     200.0   \n75%              2021-08-17 13:45:32            2021-08-17 15:45:32     200.0   \nmax              2021-08-18 22:00:00            2021-08-19 00:00:00     200.0   \nstd                              NaN                            NaN       0.0   \n\n                day          hour        nlikes      nreplies      nretweets  \\\ncount  40867.000000  40867.000000  4.086700e+04  40867.000000   40867.000000   \nmean       3.816013     12.999560  1.417170e+03     78.194118     288.468569   \nmin        1.000000      0.000000  0.000000e+00      0.000000       0.000000   \n25%        2.000000      6.000000  6.000000e+00      0.000000       4.000000   \n50%        4.000000     15.000000  3.900000e+01      3.000000      16.000000   \n75%        5.000000     19.000000  2.060000e+02     24.000000      74.000000   \nmax        7.000000     23.000000  1.920242e+06  88035.000000  541964.000000   \nstd        1.887138      7.328175  1.824648e+04    983.854499    4644.698916   \n\n       search  near  ...                   retweet_date  translate trans_src  \\\ncount     0.0   0.0  ...                           6182        0.0       0.0   \nmean      NaN   NaN  ...  2021-08-12 23:04:28.001941248        NaN       NaN   \nmin       NaN   NaN  ...            2015-09-01 12:10:02        NaN       NaN   \n25%       NaN   NaN  ...  2021-08-13 05:30:01.249999872        NaN       NaN   \n50%       NaN   NaN  ...            2021-08-15 00:38:46        NaN       NaN   \n75%       NaN   NaN  ...            2021-08-16 23:37:16        NaN       NaN   \nmax       NaN   NaN  ...            2021-08-18 23:51:40        NaN       NaN   \nstd       NaN   NaN  ...                            NaN        NaN       NaN   \n\n       trans_dest                      join_date         tweets     following  \\\ncount         0.0                          40867   40867.000000  4.086700e+04   \nmean          NaN  2009-01-17 07:22:25.584456960  177398.772971  1.152955e+04   \nmin           NaN            2006-03-21 00:00:00       5.000000  0.000000e+00   \n25%           NaN            2007-05-12 00:00:00   40113.000000  4.180000e+02   \n50%           NaN            2008-10-09 00:00:00  132248.000000  8.620000e+02   \n75%           NaN            2009-10-22 00:00:00  306127.000000  2.265000e+03   \nmax           NaN            2021-06-21 00:00:00  508811.000000  4.200793e+06   \nstd           NaN                            NaN  148999.823601  1.628862e+05   \n\n          followers          likes          media  \ncount  4.086700e+04   40867.000000   40867.000000  \nmean   1.010760e+07   13963.126728   50492.908190  \nmin    1.070000e+02       0.000000       5.000000  \n25%    3.039465e+06     353.000000    3402.000000  \n50%    4.878881e+06    2600.000000   22586.000000  \n75%    1.025547e+07    8759.000000   75519.000000  \nmax    1.299093e+08  492144.000000  236024.000000  \nstd    1.322146e+07   51451.295821   62376.057012  \n\n[8 rows x 22 columns]",
      "text/html": "<div>\n<style scoped>\n    .dataframe tbody tr th:only-of-type {\n        vertical-align: middle;\n    }\n\n    .dataframe tbody tr th {\n        vertical-align: top;\n    }\n\n    .dataframe thead th {\n        text-align: right;\n    }\n</style>\n<table border=\"1\" class=\"dataframe\">\n  <thead>\n    <tr style=\"text-align: right;\">\n      <th></th>\n      <th>created_at</th>\n      <th>date</th>\n      <th>timezone</th>\n      <th>day</th>\n      <th>hour</th>\n      <th>nlikes</th>\n      <th>nreplies</th>\n      <th>nretweets</th>\n      <th>search</th>\n      <th>near</th>\n      <th>...</th>\n      <th>retweet_date</th>\n      <th>translate</th>\n      <th>trans_src</th>\n      <th>trans_dest</th>\n      <th>join_date</th>\n      <th>tweets</th>\n      <th>following</th>\n      <th>followers</th>\n      <th>likes</th>\n      <th>media</th>\n    </tr>\n  </thead>\n  <tbody>\n    <tr>\n      <th>count</th>\n      <td>40867</td>\n      <td>40867</td>\n      <td>40867.0</td>\n      <td>40867.000000</td>\n      <td>40867.000000</td>\n      <td>4.086700e+04</td>\n      <td>40867.000000</td>\n      <td>40867.000000</td>\n      <td>0.0</td>\n      <td>0.0</td>\n      <td>...</td>\n      <td>6182</td>\n      <td>0.0</td>\n      <td>0.0</td>\n      <td>0.0</td>\n      <td>40867</td>\n      <td>40867.000000</td>\n      <td>4.086700e+04</td>\n      <td>4.086700e+04</td>\n      <td>40867.000000</td>\n      <td>40867.000000</td>\n    </tr>\n    <tr>\n      <th>mean</th>\n      <td>2021-08-15 13:00:53.727041280</td>\n      <td>2021-08-15 15:00:53.727041280</td>\n      <td>200.0</td>\n      <td>3.816013</td>\n      <td>12.999560</td>\n      <td>1.417170e+03</td>\n      <td>78.194118</td>\n      <td>288.468569</td>\n      <td>NaN</td>\n      <td>NaN</td>\n      <td>...</td>\n      <td>2021-08-12 23:04:28.001941248</td>\n      <td>NaN</td>\n      <td>NaN</td>\n      <td>NaN</td>\n      <td>2009-01-17 07:22:25.584456960</td>\n      <td>177398.772971</td>\n      <td>1.152955e+04</td>\n      <td>1.010760e+07</td>\n      <td>13963.126728</td>\n      <td>50492.908190</td>\n    </tr>\n    <tr>\n      <th>min</th>\n      <td>2021-08-11 22:00:00</td>\n      <td>2021-08-12 00:00:00</td>\n      <td>200.0</td>\n      <td>1.000000</td>\n      <td>0.000000</td>\n      <td>0.000000e+00</td>\n      <td>0.000000</td>\n      <td>0.000000</td>\n      <td>NaN</td>\n      <td>NaN</td>\n      <td>...</td>\n      <td>2015-09-01 12:10:02</td>\n      <td>NaN</td>\n      <td>NaN</td>\n      <td>NaN</td>\n      <td>2006-03-21 00:00:00</td>\n      <td>5.000000</td>\n      <td>0.000000e+00</td>\n      <td>1.070000e+02</td>\n      <td>0.000000</td>\n      <td>5.000000</td>\n    </tr>\n    <tr>\n      <th>25%</th>\n      <td>2021-08-13 14:56:50</td>\n      <td>2021-08-13 16:56:50</td>\n      <td>200.0</td>\n      <td>2.000000</td>\n      <td>6.000000</td>\n      <td>6.000000e+00</td>\n      <td>0.000000</td>\n      <td>4.000000</td>\n      <td>NaN</td>\n      <td>NaN</td>\n      <td>...</td>\n      <td>2021-08-13 05:30:01.249999872</td>\n      <td>NaN</td>\n      <td>NaN</td>\n      <td>NaN</td>\n      <td>2007-05-12 00:00:00</td>\n      <td>40113.000000</td>\n      <td>4.180000e+02</td>\n      <td>3.039465e+06</td>\n      <td>353.000000</td>\n      <td>3402.000000</td>\n    </tr>\n    <tr>\n      <th>50%</th>\n      <td>2021-08-15 15:30:01</td>\n      <td>2021-08-15 17:30:01</td>\n      <td>200.0</td>\n      <td>4.000000</td>\n      <td>15.000000</td>\n      <td>3.900000e+01</td>\n      <td>3.000000</td>\n      <td>16.000000</td>\n      <td>NaN</td>\n      <td>NaN</td>\n      <td>...</td>\n      <td>2021-08-15 00:38:46</td>\n      <td>NaN</td>\n      <td>NaN</td>\n      <td>NaN</td>\n      <td>2008-10-09 00:00:00</td>\n      <td>132248.000000</td>\n      <td>8.620000e+02</td>\n      <td>4.878881e+06</td>\n      <td>2600.000000</td>\n      <td>22586.000000</td>\n    </tr>\n    <tr>\n      <th>75%</th>\n      <td>2021-08-17 13:45:32</td>\n      <td>2021-08-17 15:45:32</td>\n      <td>200.0</td>\n      <td>5.000000</td>\n      <td>19.000000</td>\n      <td>2.060000e+02</td>\n      <td>24.000000</td>\n      <td>74.000000</td>\n      <td>NaN</td>\n      <td>NaN</td>\n      <td>...</td>\n      <td>2021-08-16 23:37:16</td>\n      <td>NaN</td>\n      <td>NaN</td>\n      <td>NaN</td>\n      <td>2009-10-22 00:00:00</td>\n      <td>306127.000000</td>\n      <td>2.265000e+03</td>\n      <td>1.025547e+07</td>\n      <td>8759.000000</td>\n      <td>75519.000000</td>\n    </tr>\n    <tr>\n      <th>max</th>\n      <td>2021-08-18 22:00:00</td>\n      <td>2021-08-19 00:00:00</td>\n      <td>200.0</td>\n      <td>7.000000</td>\n      <td>23.000000</td>\n      <td>1.920242e+06</td>\n      <td>88035.000000</td>\n      <td>541964.000000</td>\n      <td>NaN</td>\n      <td>NaN</td>\n      <td>...</td>\n      <td>2021-08-18 23:51:40</td>\n      <td>NaN</td>\n      <td>NaN</td>\n      <td>NaN</td>\n      <td>2021-06-21 00:00:00</td>\n      <td>508811.000000</td>\n      <td>4.200793e+06</td>\n      <td>1.299093e+08</td>\n      <td>492144.000000</td>\n      <td>236024.000000</td>\n    </tr>\n    <tr>\n      <th>std</th>\n      <td>NaN</td>\n      <td>NaN</td>\n      <td>0.0</td>\n      <td>1.887138</td>\n      <td>7.328175</td>\n      <td>1.824648e+04</td>\n      <td>983.854499</td>\n      <td>4644.698916</td>\n      <td>NaN</td>\n      <td>NaN</td>\n      <td>...</td>\n      <td>NaN</td>\n      <td>NaN</td>\n      <td>NaN</td>\n      <td>NaN</td>\n      <td>NaN</td>\n      <td>148999.823601</td>\n      <td>1.628862e+05</td>\n      <td>1.322146e+07</td>\n      <td>51451.295821</td>\n      <td>62376.057012</td>\n    </tr>\n  </tbody>\n</table>\n<p>8 rows × 22 columns</p>\n</div>"
     },
     "execution_count": 175,
     "metadata": {},
     "output_type": "execute_result"
    }
   ],
   "source": [
    "tweets_users.describe()"
   ],
   "metadata": {
    "collapsed": false,
    "ExecuteTime": {
     "end_time": "2024-05-23T16:16:25.587594Z",
     "start_time": "2024-05-23T16:16:25.540861Z"
    }
   },
   "id": "b110265a7f5a628f",
   "execution_count": 175
  },
  {
   "cell_type": "code",
   "outputs": [
    {
     "data": {
      "text/plain": "id                  40581\nconversation_id     37273\ncreated_at          36756\ndate                36756\ntimezone                1\nplace                  22\ntweet               40026\nlanguage               40\nhashtags             2561\ncashtags                4\nuser_id               847\nuser_id_str           847\nusername_tweet        847\nname_tweet            847\nday                     7\nhour                   24\nlink                40581\nurls                19576\nphotos               5344\nvideo                   2\nthumbnail            8661\nretweet                 2\nnlikes               4573\nnreplies             1258\nnretweets            2281\nquote_url            2446\nsearch                  0\nnear                    0\ngeo                     0\nsource                  0\nuser_rt_id           3560\nuser_rt              6046\nretweet_id           6048\nreply_to             3576\nretweet_date         5972\ntranslate               0\ntrans_src               0\ntrans_dest              0\nname_user             847\nusername_user         847\nbio                   796\nurl                   733\njoin_datetime         847\njoin_date             600\njoin_time             845\ntweets                839\nlocation              389\nfollowing             676\nfollowers             857\nlikes                 734\nmedia                 801\nprivate                 1\nverified                2\navatar                847\nbackground_image      814\ndtype: int64"
     },
     "execution_count": 176,
     "metadata": {},
     "output_type": "execute_result"
    }
   ],
   "source": [
    "tweets_users.nunique()"
   ],
   "metadata": {
    "collapsed": false,
    "ExecuteTime": {
     "end_time": "2024-05-23T16:16:25.683177Z",
     "start_time": "2024-05-23T16:16:25.587594Z"
    }
   },
   "id": "684952a9d5df9d3b",
   "execution_count": 176
  },
  {
   "cell_type": "code",
   "outputs": [
    {
     "data": {
      "text/plain": "id                      0\nconversation_id         0\ncreated_at              0\ndate                    0\ntimezone                0\nplace               40833\ntweet                   0\nlanguage                0\nhashtags                0\ncashtags                0\nuser_id                 0\nuser_id_str             0\nusername_tweet          0\nname_tweet              0\nday                     0\nhour                    0\nlink                    0\nurls                    0\nphotos                  0\nvideo                   0\nthumbnail           31644\nretweet                 0\nnlikes                  0\nnreplies                0\nnretweets               0\nquote_url               0\nsearch              40867\nnear                40867\ngeo                 40867\nsource              40867\nuser_rt_id              0\nuser_rt             34685\nretweet_id              0\nreply_to                0\nretweet_date        34685\ntranslate           40867\ntrans_src           40867\ntrans_dest          40867\nname_user               0\nusername_user           0\nbio                   570\nurl                  3173\njoin_datetime           0\njoin_date               0\njoin_time               0\ntweets                  0\nlocation            11802\nfollowing               0\nfollowers               0\nlikes                   0\nmedia                   0\nprivate                 0\nverified                0\navatar                  0\nbackground_image      366\ndtype: int64"
     },
     "execution_count": 177,
     "metadata": {},
     "output_type": "execute_result"
    }
   ],
   "source": [
    "tweets_users.isnull().sum()"
   ],
   "metadata": {
    "collapsed": false,
    "ExecuteTime": {
     "end_time": "2024-05-23T16:16:25.717237Z",
     "start_time": "2024-05-23T16:16:25.684215Z"
    }
   },
   "id": "c94e87bb22e167f1",
   "execution_count": 177
  },
  {
   "cell_type": "markdown",
   "source": [
    "The dataset has been loaded correctly, no issues were found during the process, and the data is coherent with what we could expect from each of the variables.\n",
    "\n"
   ],
   "metadata": {
    "collapsed": false
   },
   "id": "19e45cd8e9052ccd"
  },
  {
   "cell_type": "markdown",
   "source": [
    "### Data exploration"
   ],
   "metadata": {
    "collapsed": false
   },
   "id": "7287f5d3a05b65a1"
  },
  {
   "cell_type": "markdown",
   "source": [
    "After loading correctly the dataset and checking the data types, we will do an exploratory data analysis. This will help us understand the data and find out which is the most relevant variables for our project and how they can help us find a solution for the problem."
   ],
   "metadata": {
    "collapsed": false
   },
   "id": "f9963ad93c3b9b59"
  },
  {
   "cell_type": "code",
   "outputs": [
    {
     "data": {
      "text/plain": "                    id      conversation_id          created_at  \\\n0  1425590913959612419  1425590913959612419 2021-08-11 22:52:14   \n1  1427736867739299841  1427736867739299841 2021-08-17 20:59:29   \n2  1427667300488937476  1427667300488937476 2021-08-17 16:23:03   \n3  1427667012105371652  1427667012105371652 2021-08-17 16:21:55   \n4  1427497703596990467  1427497703596990467 2021-08-17 05:09:08   \n5  1426598917471305735  1426598917471305735 2021-08-14 17:37:41   \n6  1425588921233133572  1425588921233133572 2021-08-11 22:44:19   \n7  1427927723356430337  1427904450136510464 2021-08-18 09:37:53   \n8  1427806400919580672  1427806400919580672 2021-08-18 01:35:47   \n9  1427758371873202177  1427758371873202177 2021-08-17 22:24:56   \n\n                 date  timezone place  \\\n0 2021-08-12 00:52:14       200   NaN   \n1 2021-08-17 22:59:29       200   NaN   \n2 2021-08-17 18:23:03       200   NaN   \n3 2021-08-17 18:21:55       200   NaN   \n4 2021-08-17 07:09:08       200   NaN   \n5 2021-08-14 19:37:41       200   NaN   \n6 2021-08-12 00:44:19       200   NaN   \n7 2021-08-18 11:37:53       200   NaN   \n8 2021-08-18 03:35:47       200   NaN   \n9 2021-08-18 00:24:56       200   NaN   \n\n                                               tweet language  \\\n0  RT @girlsalliance: We're so proud of the four ...       en   \n1  Some casual suggestions to 😏SLIDE😏 into when u...       en   \n2              RT @ValaAfshar: You are not your job.       en   \n3  What have we become 😔😂  Toddler Cites Freedom ...       en   \n4  The tech giants that refuse to massively addre...       en   \n5  RT @peterdaou: An Italian town hit 124 degrees...       en   \n6  Thank you @MTV @vmas! ⚔️💓  https://t.co/iyo2KW...       en   \n7                  @Jefflez @LeroyAhBen Love you !!!       en   \n8  Why would anyone be shocked that I’m drinking ...       en   \n9  RT @mrtimchan: Wrote about @MariahCarey's new ...       en   \n\n                                 hashtags cashtags  ... tweets  \\\n0                                      []       []  ...   1770   \n1  ['shoesdaytuesday', 'afterskewlslide']       []  ...  11420   \n2                                      []       []  ...  11420   \n3                                      []       []  ...  11420   \n4                                      []       []  ...  11420   \n5                    ['climateemergency']       []  ...  11420   \n6                                      []       []  ...   9519   \n7                                      []       []  ...  10252   \n8                                      []       []  ...  10252   \n9                                      []       []  ...  10252   \n\n                         location following  followers  likes  media private  \\\n0                  Washington, DC        16   20854298    184    461   False   \n1                             NaN       235  108819032   7995   2170   False   \n2                             NaN       235  108819032   7995   2170   False   \n3                             NaN       235  108819032   7995   2170   False   \n4                             NaN       235  108819032   7995   2170   False   \n5                             NaN       235  108819032   7995   2170   False   \n6                             NaN    119314   83675119   2310   1795   False   \n7  Citizen of the World Dahhhling       188   21612341   4346   2504   False   \n8  Citizen of the World Dahhhling       188   21612341   4346   2504   False   \n9  Citizen of the World Dahhhling       188   21612341   4346   2504   False   \n\n  verified                                             avatar  \\\n0     True  https://pbs.twimg.com/profile_images/136674780...   \n1     True  https://pbs.twimg.com/profile_images/139246535...   \n2     True  https://pbs.twimg.com/profile_images/139246535...   \n3     True  https://pbs.twimg.com/profile_images/139246535...   \n4     True  https://pbs.twimg.com/profile_images/139246535...   \n5     True  https://pbs.twimg.com/profile_images/139246535...   \n6     True  https://pbs.twimg.com/profile_images/142258922...   \n7     True  https://pbs.twimg.com/profile_images/134656973...   \n8     True  https://pbs.twimg.com/profile_images/134656973...   \n9     True  https://pbs.twimg.com/profile_images/134656973...   \n\n                                    background_image  \n0  https://pbs.twimg.com/profile_banners/40948655...  \n1  https://pbs.twimg.com/profile_banners/21447363...  \n2  https://pbs.twimg.com/profile_banners/21447363...  \n3  https://pbs.twimg.com/profile_banners/21447363...  \n4  https://pbs.twimg.com/profile_banners/21447363...  \n5  https://pbs.twimg.com/profile_banners/21447363...  \n6  https://pbs.twimg.com/profile_banners/14230524...  \n7  https://pbs.twimg.com/profile_banners/19248106...  \n8  https://pbs.twimg.com/profile_banners/19248106...  \n9  https://pbs.twimg.com/profile_banners/19248106...  \n\n[10 rows x 55 columns]",
      "text/html": "<div>\n<style scoped>\n    .dataframe tbody tr th:only-of-type {\n        vertical-align: middle;\n    }\n\n    .dataframe tbody tr th {\n        vertical-align: top;\n    }\n\n    .dataframe thead th {\n        text-align: right;\n    }\n</style>\n<table border=\"1\" class=\"dataframe\">\n  <thead>\n    <tr style=\"text-align: right;\">\n      <th></th>\n      <th>id</th>\n      <th>conversation_id</th>\n      <th>created_at</th>\n      <th>date</th>\n      <th>timezone</th>\n      <th>place</th>\n      <th>tweet</th>\n      <th>language</th>\n      <th>hashtags</th>\n      <th>cashtags</th>\n      <th>...</th>\n      <th>tweets</th>\n      <th>location</th>\n      <th>following</th>\n      <th>followers</th>\n      <th>likes</th>\n      <th>media</th>\n      <th>private</th>\n      <th>verified</th>\n      <th>avatar</th>\n      <th>background_image</th>\n    </tr>\n  </thead>\n  <tbody>\n    <tr>\n      <th>0</th>\n      <td>1425590913959612419</td>\n      <td>1425590913959612419</td>\n      <td>2021-08-11 22:52:14</td>\n      <td>2021-08-12 00:52:14</td>\n      <td>200</td>\n      <td>NaN</td>\n      <td>RT @girlsalliance: We're so proud of the four ...</td>\n      <td>en</td>\n      <td>[]</td>\n      <td>[]</td>\n      <td>...</td>\n      <td>1770</td>\n      <td>Washington, DC</td>\n      <td>16</td>\n      <td>20854298</td>\n      <td>184</td>\n      <td>461</td>\n      <td>False</td>\n      <td>True</td>\n      <td>https://pbs.twimg.com/profile_images/136674780...</td>\n      <td>https://pbs.twimg.com/profile_banners/40948655...</td>\n    </tr>\n    <tr>\n      <th>1</th>\n      <td>1427736867739299841</td>\n      <td>1427736867739299841</td>\n      <td>2021-08-17 20:59:29</td>\n      <td>2021-08-17 22:59:29</td>\n      <td>200</td>\n      <td>NaN</td>\n      <td>Some casual suggestions to 😏SLIDE😏 into when u...</td>\n      <td>en</td>\n      <td>['shoesdaytuesday', 'afterskewlslide']</td>\n      <td>[]</td>\n      <td>...</td>\n      <td>11420</td>\n      <td>NaN</td>\n      <td>235</td>\n      <td>108819032</td>\n      <td>7995</td>\n      <td>2170</td>\n      <td>False</td>\n      <td>True</td>\n      <td>https://pbs.twimg.com/profile_images/139246535...</td>\n      <td>https://pbs.twimg.com/profile_banners/21447363...</td>\n    </tr>\n    <tr>\n      <th>2</th>\n      <td>1427667300488937476</td>\n      <td>1427667300488937476</td>\n      <td>2021-08-17 16:23:03</td>\n      <td>2021-08-17 18:23:03</td>\n      <td>200</td>\n      <td>NaN</td>\n      <td>RT @ValaAfshar: You are not your job.</td>\n      <td>en</td>\n      <td>[]</td>\n      <td>[]</td>\n      <td>...</td>\n      <td>11420</td>\n      <td>NaN</td>\n      <td>235</td>\n      <td>108819032</td>\n      <td>7995</td>\n      <td>2170</td>\n      <td>False</td>\n      <td>True</td>\n      <td>https://pbs.twimg.com/profile_images/139246535...</td>\n      <td>https://pbs.twimg.com/profile_banners/21447363...</td>\n    </tr>\n    <tr>\n      <th>3</th>\n      <td>1427667012105371652</td>\n      <td>1427667012105371652</td>\n      <td>2021-08-17 16:21:55</td>\n      <td>2021-08-17 18:21:55</td>\n      <td>200</td>\n      <td>NaN</td>\n      <td>What have we become 😔😂  Toddler Cites Freedom ...</td>\n      <td>en</td>\n      <td>[]</td>\n      <td>[]</td>\n      <td>...</td>\n      <td>11420</td>\n      <td>NaN</td>\n      <td>235</td>\n      <td>108819032</td>\n      <td>7995</td>\n      <td>2170</td>\n      <td>False</td>\n      <td>True</td>\n      <td>https://pbs.twimg.com/profile_images/139246535...</td>\n      <td>https://pbs.twimg.com/profile_banners/21447363...</td>\n    </tr>\n    <tr>\n      <th>4</th>\n      <td>1427497703596990467</td>\n      <td>1427497703596990467</td>\n      <td>2021-08-17 05:09:08</td>\n      <td>2021-08-17 07:09:08</td>\n      <td>200</td>\n      <td>NaN</td>\n      <td>The tech giants that refuse to massively addre...</td>\n      <td>en</td>\n      <td>[]</td>\n      <td>[]</td>\n      <td>...</td>\n      <td>11420</td>\n      <td>NaN</td>\n      <td>235</td>\n      <td>108819032</td>\n      <td>7995</td>\n      <td>2170</td>\n      <td>False</td>\n      <td>True</td>\n      <td>https://pbs.twimg.com/profile_images/139246535...</td>\n      <td>https://pbs.twimg.com/profile_banners/21447363...</td>\n    </tr>\n    <tr>\n      <th>5</th>\n      <td>1426598917471305735</td>\n      <td>1426598917471305735</td>\n      <td>2021-08-14 17:37:41</td>\n      <td>2021-08-14 19:37:41</td>\n      <td>200</td>\n      <td>NaN</td>\n      <td>RT @peterdaou: An Italian town hit 124 degrees...</td>\n      <td>en</td>\n      <td>['climateemergency']</td>\n      <td>[]</td>\n      <td>...</td>\n      <td>11420</td>\n      <td>NaN</td>\n      <td>235</td>\n      <td>108819032</td>\n      <td>7995</td>\n      <td>2170</td>\n      <td>False</td>\n      <td>True</td>\n      <td>https://pbs.twimg.com/profile_images/139246535...</td>\n      <td>https://pbs.twimg.com/profile_banners/21447363...</td>\n    </tr>\n    <tr>\n      <th>6</th>\n      <td>1425588921233133572</td>\n      <td>1425588921233133572</td>\n      <td>2021-08-11 22:44:19</td>\n      <td>2021-08-12 00:44:19</td>\n      <td>200</td>\n      <td>NaN</td>\n      <td>Thank you @MTV @vmas! ⚔️💓  https://t.co/iyo2KW...</td>\n      <td>en</td>\n      <td>[]</td>\n      <td>[]</td>\n      <td>...</td>\n      <td>9519</td>\n      <td>NaN</td>\n      <td>119314</td>\n      <td>83675119</td>\n      <td>2310</td>\n      <td>1795</td>\n      <td>False</td>\n      <td>True</td>\n      <td>https://pbs.twimg.com/profile_images/142258922...</td>\n      <td>https://pbs.twimg.com/profile_banners/14230524...</td>\n    </tr>\n    <tr>\n      <th>7</th>\n      <td>1427927723356430337</td>\n      <td>1427904450136510464</td>\n      <td>2021-08-18 09:37:53</td>\n      <td>2021-08-18 11:37:53</td>\n      <td>200</td>\n      <td>NaN</td>\n      <td>@Jefflez @LeroyAhBen Love you !!!</td>\n      <td>en</td>\n      <td>[]</td>\n      <td>[]</td>\n      <td>...</td>\n      <td>10252</td>\n      <td>Citizen of the World Dahhhling</td>\n      <td>188</td>\n      <td>21612341</td>\n      <td>4346</td>\n      <td>2504</td>\n      <td>False</td>\n      <td>True</td>\n      <td>https://pbs.twimg.com/profile_images/134656973...</td>\n      <td>https://pbs.twimg.com/profile_banners/19248106...</td>\n    </tr>\n    <tr>\n      <th>8</th>\n      <td>1427806400919580672</td>\n      <td>1427806400919580672</td>\n      <td>2021-08-18 01:35:47</td>\n      <td>2021-08-18 03:35:47</td>\n      <td>200</td>\n      <td>NaN</td>\n      <td>Why would anyone be shocked that I’m drinking ...</td>\n      <td>en</td>\n      <td>[]</td>\n      <td>[]</td>\n      <td>...</td>\n      <td>10252</td>\n      <td>Citizen of the World Dahhhling</td>\n      <td>188</td>\n      <td>21612341</td>\n      <td>4346</td>\n      <td>2504</td>\n      <td>False</td>\n      <td>True</td>\n      <td>https://pbs.twimg.com/profile_images/134656973...</td>\n      <td>https://pbs.twimg.com/profile_banners/19248106...</td>\n    </tr>\n    <tr>\n      <th>9</th>\n      <td>1427758371873202177</td>\n      <td>1427758371873202177</td>\n      <td>2021-08-17 22:24:56</td>\n      <td>2021-08-18 00:24:56</td>\n      <td>200</td>\n      <td>NaN</td>\n      <td>RT @mrtimchan: Wrote about @MariahCarey's new ...</td>\n      <td>en</td>\n      <td>[]</td>\n      <td>[]</td>\n      <td>...</td>\n      <td>10252</td>\n      <td>Citizen of the World Dahhhling</td>\n      <td>188</td>\n      <td>21612341</td>\n      <td>4346</td>\n      <td>2504</td>\n      <td>False</td>\n      <td>True</td>\n      <td>https://pbs.twimg.com/profile_images/134656973...</td>\n      <td>https://pbs.twimg.com/profile_banners/19248106...</td>\n    </tr>\n  </tbody>\n</table>\n<p>10 rows × 55 columns</p>\n</div>"
     },
     "execution_count": 178,
     "metadata": {},
     "output_type": "execute_result"
    }
   ],
   "source": [
    "tweets_users.head(10)"
   ],
   "metadata": {
    "collapsed": false,
    "ExecuteTime": {
     "end_time": "2024-05-23T16:16:25.731477Z",
     "start_time": "2024-05-23T16:16:25.718326Z"
    }
   },
   "id": "1b471d8951c3f036",
   "execution_count": 178
  },
  {
   "cell_type": "markdown",
   "source": [
    "**The dataset is formed by more than 40k records and 55 columns.** Each row represents a tweet and has additional information about the user who posted it. The data is collected from 2021/08/11 to 2021/08/18."
   ],
   "metadata": {
    "collapsed": false
   },
   "id": "f7eca39f30f49c5b"
  },
  {
   "cell_type": "markdown",
   "source": [
    "There is some data that is not relevant for our problem, **the dataset contains rows that do not represent original tweets, but retweets instead.** For this reason, we will filter out these records from the original dataset to keep only the original tweets."
   ],
   "metadata": {
    "collapsed": false
   },
   "id": "48938e5a4c3d1ccf"
  },
  {
   "cell_type": "markdown",
   "source": [
    "In order to find out which tweets are going to be the most relevant, we will have to define a target variable that determines the popularity of a tweet. Considering we are creating content for social media, we look for users who are willing to interact and read more about the content of the tweet and, therefore, read the article we share. **For this reason, we will use the number of comments as the target variable**, as it represents the users which read the tweet and wanted to share their thoughts and discuss about it."
   ],
   "metadata": {
    "collapsed": false
   },
   "id": "f058645d4a3f72e8"
  },
  {
   "cell_type": "markdown",
   "source": [
    "A tweet will be popular if it has more comments than the 90% of the dataset. This threshold is rather restrictive but leaves us with enough tweets for a journalist in the company to write an article about a topic that is comfortable for him.\n",
    "\n",
    "40k * 0.1 = 4k popular tweets\n",
    "4k / 7 days = 571 tweets per day\n",
    "571 / 24 hours = 23 tweets per hour\n",
    "\n",
    "23 tweets per hour is a more than reasonable amount of tweets for a company dedicated to journalism to write an article about the tweet."
   ],
   "metadata": {
    "collapsed": false
   },
   "id": "f84f6cf74fcbdd3d"
  },
  {
   "cell_type": "code",
   "outputs": [],
   "source": [
    "tweets_users['popular'] = tweets_users['nreplies'] > tweets_users['nreplies'].quantile(0.90)"
   ],
   "metadata": {
    "collapsed": false,
    "ExecuteTime": {
     "end_time": "2024-05-23T16:16:25.736303Z",
     "start_time": "2024-05-23T16:16:25.731986Z"
    }
   },
   "id": "d26e1cfbb14e9243",
   "execution_count": 179
  },
  {
   "cell_type": "markdown",
   "source": [
    "The dataset contains a broad number of features, some of them are not relevant for our problem or are just redundant. After a brief analysis, we can see that the following columns are relevant for our problem and will be need to be further analyzed:\n",
    "    - day: The day of the week (1 to 7) when the tweet was posted\n",
    "    - hour: The hour of the day (0 to 23) when the tweet was posted\n",
    "    - followers: The number of followers the user has\n",
    "    - conversation_id (vs id): If conversation_id is different from id, it means the tweet is a reply to another tweet. Even thought the most straight forward approach for this variable would be to delete the rows that are replies, since they will not be the most relevant tweets. It can also be interesting to keep it, as a popular reply to a tweet could mean high engagement. \n",
    "    \n",
    "To further analyze the data, we will plot some graphs to understand the distribution of the data and the relationships between the variables."
   ],
   "metadata": {
    "collapsed": false
   },
   "id": "29c1c3c374d39952"
  },
  {
   "cell_type": "code",
   "outputs": [
    {
     "data": {
      "text/plain": "Text(0, 0.5, 'Count')"
     },
     "execution_count": 180,
     "metadata": {},
     "output_type": "execute_result"
    },
    {
     "data": {
      "text/plain": "<Figure size 2000x1000 with 1 Axes>",
      "image/png": "[encoded data removed]"
     },
     "metadata": {},
     "output_type": "display_data"
    }
   ],
   "source": [
    "# Initialize the plot\n",
    "figure = plt.figure(figsize=(20, 10))\n",
    "axe = figure.add_subplot()\n",
    "\n",
    "figure.suptitle('Distribution of tweets per day', fontsize=16)\n",
    "\n",
    "# Day of the week distribution\n",
    "sns.countplot(ax=axe, x='day', data=tweets_users)\n",
    "axe.set_xlabel('Day of the Week')\n",
    "axe.set_ylabel('Count')"
   ],
   "metadata": {
    "collapsed": false,
    "ExecuteTime": {
     "end_time": "2024-05-23T16:16:25.942458Z",
     "start_time": "2024-05-23T16:16:25.737360Z"
    }
   },
   "id": "24146995ef60a2e0",
   "execution_count": 180
  },
  {
   "cell_type": "code",
   "outputs": [
    {
     "data": {
      "text/plain": "Text(0, 0.5, 'Percentage of popular tweets')"
     },
     "execution_count": 181,
     "metadata": {},
     "output_type": "execute_result"
    },
    {
     "data": {
      "text/plain": "<Figure size 2000x1000 with 1 Axes>",
      "image/png": "[encoded data removed]"
     },
     "metadata": {},
     "output_type": "display_data"
    }
   ],
   "source": [
    "figure = plt.figure(figsize=(20, 10))\n",
    "axe = figure.add_subplot()\n",
    "\n",
    "figure.suptitle('Percentage of popular tweets per day', fontsize=16)\n",
    "\n",
    "sns.barplot(ax=axe, x='day', y='popular', data=tweets_users)\n",
    "axe.set_xlabel('Day of the Week')\n",
    "axe.set_ylabel('Percentage of popular tweets')"
   ],
   "metadata": {
    "collapsed": false,
    "ExecuteTime": {
     "end_time": "2024-05-23T16:16:26.440221Z",
     "start_time": "2024-05-23T16:16:25.942965Z"
    }
   },
   "id": "a5eac0bf7997f57e",
   "execution_count": 181
  },
  {
   "cell_type": "markdown",
   "source": [
    "As we can see on the graphs, the distribution of the tweets is pretty even during the week, with a small increase during the middle of the week and a small decrease during the weeks. However, the percentage of popular tweets is the opposite. This could be really helpful for the model"
   ],
   "metadata": {
    "collapsed": false
   },
   "id": "8da8b8fa8b76715c"
  },
  {
   "cell_type": "markdown",
   "source": [
    "## Data cleansing and feature engineering"
   ],
   "metadata": {
    "collapsed": false
   },
   "id": "6c608c2eba2ea11b"
  },
  {
   "cell_type": "markdown",
   "source": [
    "After defining the target variable and the most relevant features, we will clean the data to remove any irrelevant columns and rows as we have defined in the previous section."
   ],
   "metadata": {
    "collapsed": false
   },
   "id": "43ab064a4bee8f4b"
  },
  {
   "cell_type": "code",
   "outputs": [],
   "source": [
    "# Drop tweets that are retweets\n",
    "tweets_users = tweets_users[tweets_users['retweet'] == False]"
   ],
   "metadata": {
    "collapsed": false,
    "ExecuteTime": {
     "end_time": "2024-05-23T16:16:26.455120Z",
     "start_time": "2024-05-23T16:16:26.440728Z"
    }
   },
   "id": "d06761ce2ded0eaf",
   "execution_count": 182
  },
  {
   "cell_type": "markdown",
   "source": [
    "The variable `followers` has a big number of outliers. Even thought the data has been extracted from popular Twitter accounts, there are still accounts that have a massive number of followers. We categorize the followers into 5 categories:\n",
    "- 0 - 100.000 followers\n",
    "- 100.000 - 500.000 followers\n",
    "- 500.000 - 1.000.000 followers\n",
    "- 1.000.000 - 5.000.000 followers\n",
    "- 5.000.000+ followers"
   ],
   "metadata": {
    "collapsed": false
   },
   "id": "e016820c00e967d4"
  },
  {
   "cell_type": "code",
   "outputs": [],
   "source": [
    "# Categorize the followers using .loc to avoid the SettingWithCopyWarning\n",
    "tweets_users.loc[:, 'followers'] = pd.cut(tweets_users['followers'],\n",
    "                                          bins=[0, 1_000_000, 2_500_000, 5_000_000, 10_000_000, float('inf')],\n",
    "                                          labels=['0-1M', '1M-2.5M', '2.5M-5M', '5M-10M', '10M+'])\n"
   ],
   "metadata": {
    "collapsed": false,
    "ExecuteTime": {
     "end_time": "2024-05-23T16:16:26.460396Z",
     "start_time": "2024-05-23T16:16:26.455624Z"
    }
   },
   "id": "87820cbb42a1ba05",
   "execution_count": 183
  },
  {
   "cell_type": "code",
   "outputs": [
    {
     "data": {
      "text/plain": "followers\n2.5M-5M    9935\n10M+       9681\n5M-10M     7735\n1M-2.5M    4224\n0-1M       3110\nName: count, dtype: int64"
     },
     "execution_count": 184,
     "metadata": {},
     "output_type": "execute_result"
    }
   ],
   "source": [
    "# Count how many tweets are in each category\n",
    "tweets_users['followers'].value_counts()"
   ],
   "metadata": {
    "collapsed": false,
    "ExecuteTime": {
     "end_time": "2024-05-23T16:16:26.466568Z",
     "start_time": "2024-05-23T16:16:26.461438Z"
    }
   },
   "id": "63898d294322d637",
   "execution_count": 184
  },
  {
   "cell_type": "markdown",
   "source": [
    "For variables day and hour, we will transform them into cycler features. This helps the model realize that the hour 0 is closer to the hour 23 than to the hour 1, and the day 1 is closer to the day 7 than to the day 2."
   ],
   "metadata": {
    "collapsed": false
   },
   "id": "e478e365b2d05cc4"
  },
  {
   "cell_type": "code",
   "outputs": [],
   "source": [
    "tweets_users = tweets_users.copy()\n",
    "\n",
    "# Transform day column into a cyclic feature\n",
    "tweets_users['day_sin'] = tweets_users['day'].apply(lambda x: np.sin(2 * np.pi * x / 7))\n",
    "tweets_users['day_cos'] = tweets_users['day'].apply(lambda x: np.cos(2 * np.pi * x / 7))\n",
    "\n",
    "# Transform hour column into a cyclic feature\n",
    "tweets_users['hour_sin'] = tweets_users['hour'].apply(lambda x: np.sin(2 * np.pi * x / 24))\n",
    "tweets_users['hour_cos'] = tweets_users['hour'].apply(lambda x: np.cos(2 * np.pi * x / 24))"
   ],
   "metadata": {
    "collapsed": false,
    "ExecuteTime": {
     "end_time": "2024-05-23T16:16:26.611232Z",
     "start_time": "2024-05-23T16:16:26.467631Z"
    }
   },
   "id": "e2253000558ad7c5",
   "execution_count": 185
  },
  {
   "cell_type": "markdown",
   "source": [
    "## Model training"
   ],
   "metadata": {
    "collapsed": false
   },
   "id": "b8e48f2967189b90"
  },
  {
   "cell_type": "markdown",
   "source": [
    "First we will split the data into training and test."
   ],
   "metadata": {
    "collapsed": false
   },
   "id": "eaf5385f900a2d2b"
  },
  {
   "cell_type": "code",
   "outputs": [],
   "source": [
    "# Define the features and the target variable\n",
    "features = ['day_sin', 'day_cos', 'hour_sin', 'hour_cos', 'followers']\n",
    "target = 'popular'\n",
    "\n",
    "X = tweets_users[features]\n",
    "y = tweets_users[target]\n"
   ],
   "metadata": {
    "collapsed": false,
    "ExecuteTime": {
     "end_time": "2024-05-23T16:16:26.616022Z",
     "start_time": "2024-05-23T16:16:26.612279Z"
    }
   },
   "id": "feb71ae14e35534",
   "execution_count": 186
  },
  {
   "cell_type": "code",
   "outputs": [
    {
     "name": "stderr",
     "output_type": "stream",
     "text": [
      "C:\\Users\\jsanchez\\AppData\\Local\\Temp\\ipykernel_14104\\1834308080.py:5: SettingWithCopyWarning: \n",
      "A value is trying to be set on a copy of a slice from a DataFrame.\n",
      "Try using .loc[row_indexer,col_indexer] = value instead\n",
      "\n",
      "See the caveats in the documentation: https://pandas.pydata.org/pandas-docs/stable/user_guide/indexing.html#returning-a-view-versus-a-copy\n",
      "  X['followers'] = label_encoder.fit_transform(X['followers'])\n"
     ]
    }
   ],
   "source": [
    "# Convert the followers column into a numerical column with label encoding\n",
    "label_encoder = LabelEncoder()\n",
    "X['followers'] = label_encoder.fit_transform(X['followers'])"
   ],
   "metadata": {
    "collapsed": false,
    "ExecuteTime": {
     "end_time": "2024-05-23T16:16:26.624374Z",
     "start_time": "2024-05-23T16:16:26.616618Z"
    }
   },
   "id": "f434c886b3375959",
   "execution_count": 187
  },
  {
   "cell_type": "code",
   "outputs": [],
   "source": [
    "# Split the data into training and test\n",
    "\n",
    "X_train, X_test, y_train, y_test = train_test_split(X, y, test_size=0.2, random_state=RANDOM_SEED)\n"
   ],
   "metadata": {
    "collapsed": false,
    "ExecuteTime": {
     "end_time": "2024-05-23T16:16:26.633021Z",
     "start_time": "2024-05-23T16:16:26.625442Z"
    }
   },
   "id": "bc0bb8361df8622b",
   "execution_count": 188
  },
  {
   "cell_type": "code",
   "outputs": [],
   "source": [
    "\n",
    "# Define parameter grids for each model\n",
    "param_grid_lr = {\n",
    "    'C': [0.1, 1, 10],\n",
    "    'solver': ['liblinear']\n",
    "}\n",
    "\n",
    "param_grid_rf = {\n",
    "    'n_estimators': [100, 200],\n",
    "    'max_depth': [None, 10, 20],\n",
    "    'min_samples_split': [2, 5]\n",
    "}\n",
    "\n",
    "param_grid_gb = {\n",
    "    'n_estimators': [100, 200],\n",
    "    'learning_rate': [0.01, 0.1, 0.2],\n",
    "    'max_depth': [3, 5, 7]\n",
    "}\n",
    "\n",
    "# Initialize models\n",
    "lr = LogisticRegression()\n",
    "rf = RandomForestClassifier()\n",
    "gb = GradientBoostingClassifier()\n",
    "\n",
    "# Initialize GridSearchCV\n",
    "grid_search_lr = GridSearchCV(lr, param_grid_lr, cv=5, scoring='accuracy')\n",
    "grid_search_rf = GridSearchCV(rf, param_grid_rf, cv=5, scoring='accuracy')\n",
    "grid_search_gb = GridSearchCV(gb, param_grid_gb, cv=5, scoring='accuracy')\n",
    "\n",
    "# Fit the models\n",
    "grid_search_lr.fit(X_train, y_train)\n",
    "grid_search_rf.fit(X_train, y_train)\n",
    "grid_search_gb.fit(X_train, y_train)\n",
    "\n",
    "# Get the best models\n",
    "best_lr = grid_search_lr.best_estimator_\n",
    "best_rf = grid_search_rf.best_estimator_\n",
    "best_gb = grid_search_gb.best_estimator_\n"
   ],
   "metadata": {
    "collapsed": false,
    "ExecuteTime": {
     "end_time": "2024-05-23T16:19:51.611632Z",
     "start_time": "2024-05-23T16:16:26.634095Z"
    }
   },
   "id": "7234577216dae7b2",
   "execution_count": 189
  },
  {
   "cell_type": "code",
   "outputs": [
    {
     "name": "stdout",
     "output_type": "stream",
     "text": [
      "Logistic Regression:\n",
      "Accuracy: 0.8801\n",
      "Precision: 0.0000\n",
      "Recall: 0.0000\n",
      "F1 Score: 0.0000\n",
      "ROC-AUC: 0.5000\n",
      "\n",
      "Random Forest:\n",
      "Accuracy: 0.8809\n",
      "Precision: 0.5938\n",
      "Recall: 0.0228\n",
      "F1 Score: 0.0440\n",
      "ROC-AUC: 0.5104\n",
      "\n",
      "Gradient Boosting:\n",
      "Accuracy: 0.8809\n",
      "Precision: 0.5882\n",
      "Recall: 0.0240\n",
      "F1 Score: 0.0462\n",
      "ROC-AUC: 0.5109\n"
     ]
    },
    {
     "name": "stderr",
     "output_type": "stream",
     "text": [
      "C:\\Python311\\Lib\\site-packages\\sklearn\\metrics\\_classification.py:1509: UndefinedMetricWarning: Precision is ill-defined and being set to 0.0 due to no predicted samples. Use `zero_division` parameter to control this behavior.\n",
      "  _warn_prf(average, modifier, f\"{metric.capitalize()} is\", len(result))\n"
     ]
    }
   ],
   "source": [
    "# Define a function for evaluation\n",
    "def evaluate_model(model, X_test, y_test):\n",
    "    y_pred = model.predict(X_test)\n",
    "    accuracy = accuracy_score(y_test, y_pred)\n",
    "    precision = precision_score(y_test, y_pred)\n",
    "    recall = recall_score(y_test, y_pred)\n",
    "    f1 = f1_score(y_test, y_pred)\n",
    "    roc_auc = roc_auc_score(y_test, y_pred)\n",
    "\n",
    "    print(f\"Accuracy: {accuracy:.4f}\")\n",
    "    print(f\"Precision: {precision:.4f}\")\n",
    "    print(f\"Recall: {recall:.4f}\")\n",
    "    print(f\"F1 Score: {f1:.4f}\")\n",
    "    print(f\"ROC-AUC: {roc_auc:.4f}\")\n",
    "\n",
    "\n",
    "# Evaluate each best model\n",
    "print(\"Logistic Regression:\")\n",
    "evaluate_model(best_lr, X_test, y_test)\n",
    "print(\"\\nRandom Forest:\")\n",
    "evaluate_model(best_rf, X_test, y_test)\n",
    "print(\"\\nGradient Boosting:\")\n",
    "evaluate_model(best_gb, X_test, y_test)"
   ],
   "metadata": {
    "collapsed": false,
    "ExecuteTime": {
     "end_time": "2024-05-23T16:19:51.720323Z",
     "start_time": "2024-05-23T16:19:51.612662Z"
    }
   },
   "id": "37d8d7bb5eabacfd",
   "execution_count": 190
  }
 ],
 "metadata": {
  "kernelspec": {
   "display_name": "Python 3",
   "language": "python",
   "name": "python3"
  },
  "language_info": {
   "codemirror_mode": {
    "name": "ipython",
    "version": 2
   },
   "file_extension": ".py",
   "mimetype": "text/x-python",
   "name": "python",
   "nbconvert_exporter": "python",
   "pygments_lexer": "ipython2",
   "version": "2.7.6"
  }
 },
 "nbformat": 4,
 "nbformat_minor": 5
}
