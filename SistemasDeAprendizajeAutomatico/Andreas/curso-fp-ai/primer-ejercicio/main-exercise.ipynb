{
 "cells": [
  {
   "cell_type": "markdown",
   "metadata": {},
   "source": [
    "# Crash course en Pandas y Plotnine\n",
    "Pandas es una de las librerias fundamentales para analizar los datos en Python - toma inspiracion de los data frames de R y nos hace la vida facil.\n",
    "\n",
    "Plotnine es una libreria mucho menos conocida pero vale la pena aprenderlo. Una critica comun de Python para data science es que R tiene mucho mejor capacidad de visualizacion de datos, gracias a la libreria de \"ggplot\". Ggplot es muy popular por haber inventado una \"gramatica\" de crear graficos que es muy intuitivo y muy flexible - mientras las opciones más tipicos de Python (matplotlib...) son todo lo opuesto (segun quien preguntas).\n",
    "\n",
    "Plotnine es basicamente un port de ggplot a Python, entonces ya no tenemos problemas! Te estaras preguntando \"si R tiene todo lo bueno y Python lo ha robado de ahi, porque no usamos R?\" Por mi lo fuerte de Python no es que sea un lenguaje bueno para analizar datos, pero es un lenguaje bueno para hacer todo lo demas!\n",
    "\n",
    "No queremos enseñar todo lo que hay, pero vale mucho la pena hacer un crash course para entender el core de estas librerias.\n",
    "\n",
    "## Versiones??\n",
    "No vamos a hacer nada que depende mucho de alguna version de Python ni libreria. Con tener una version de Python bastante actualizada basta. Si sois disciplinados y quereis utilizar entornos virtuales - recomiendo conda para trabajar con Jupyter."
   ],
   "id": "ebeeca57364102ec"
  },
  {
   "cell_type": "code",
   "execution_count": 448,
   "metadata": {
    "ExecuteTime": {
     "end_time": "2023-11-13T18:04:12.643447700Z",
     "start_time": "2023-11-13T18:04:12.296173600Z"
    }
   },
   "outputs": [],
   "source": [
    "from pathlib import Path\n",
    "\n",
    "import pandas as pd\n",
    "import plotnine as pn\n",
    "\n",
    "# Nuestros ficheros\n",
    "data_loc = Path('data')\n",
    "house_file = data_loc / 'house-price-data.csv'\n",
    "\n",
    "# Algo util para visualizar mas columnas\n",
    "pd.set_option('display.max_columns', 500)"
   ],
   "id": "557e782e69e2766f"
  },
  {
   "cell_type": "markdown",
   "metadata": {},
   "source": [
    "## Creando data frames\n",
    "El objeto central de Pandas es el data frame. Es comparable a una \"hoja de Excel\" y es donde viven nuestros datos. Casi todo lo que vamos a hacer se orientara alrededor de crear un data frame y utilizar funciones del data frame para hacer nuestros analisis.\n",
    "\n",
    "Lo fundamental es que un data frame tiene filas y columnas. Cada fila tiene un \"nombre\" que es el index y cada columna tiene un nombre que se refiere como la columna y ya esta. Acedemos a los datos referiendonos a los indices y columnas.\n",
    "\n",
    "### Como se crean?\n",
    "Realmente hay varias formas de crear un data frame. Lo mas comun es tener un diccionario de listas donde los \"keys\" son las columnas y las listas son los datos de cada fila.\n",
    "\n",
    "Pandas es bastante listo y acepta otros formatos. Lo fundamental es que tiene que entender que son las filas y las columnas. No vamos a cubrir todo porque realmente es mas comun cargar datos directamente (no crear los DFs a mano)."
   ],
   "id": "244d49158c0274a"
  },
  {
   "cell_type": "code",
   "execution_count": 449,
   "metadata": {
    "ExecuteTime": {
     "end_time": "2023-11-13T18:04:12.706905900Z",
     "start_time": "2023-11-13T18:04:12.304803200Z"
    }
   },
   "outputs": [
    {
     "data": {
      "text/plain": "   columna_1  columna_2 columna_letras\n0          1          6              a\n1          2          7              b\n2          3          8              c\n3          4          9              d\n4          5         10              e",
      "text/html": "<div>\n<style scoped>\n    .dataframe tbody tr th:only-of-type {\n        vertical-align: middle;\n    }\n\n    .dataframe tbody tr th {\n        vertical-align: top;\n    }\n\n    .dataframe thead th {\n        text-align: right;\n    }\n</style>\n<table border=\"1\" class=\"dataframe\">\n  <thead>\n    <tr style=\"text-align: right;\">\n      <th></th>\n      <th>columna_1</th>\n      <th>columna_2</th>\n      <th>columna_letras</th>\n    </tr>\n  </thead>\n  <tbody>\n    <tr>\n      <th>0</th>\n      <td>1</td>\n      <td>6</td>\n      <td>a</td>\n    </tr>\n    <tr>\n      <th>1</th>\n      <td>2</td>\n      <td>7</td>\n      <td>b</td>\n    </tr>\n    <tr>\n      <th>2</th>\n      <td>3</td>\n      <td>8</td>\n      <td>c</td>\n    </tr>\n    <tr>\n      <th>3</th>\n      <td>4</td>\n      <td>9</td>\n      <td>d</td>\n    </tr>\n    <tr>\n      <th>4</th>\n      <td>5</td>\n      <td>10</td>\n      <td>e</td>\n    </tr>\n  </tbody>\n</table>\n</div>"
     },
     "execution_count": 449,
     "metadata": {},
     "output_type": "execute_result"
    }
   ],
   "source": [
    "data = {\n",
    "    'columna_1': [1, 2, 3, 4, 5],\n",
    "    'columna_2': [6, 7, 8, 9, 10],\n",
    "    'columna_letras': ['a', 'b', 'c', 'd', 'e'],\n",
    "}\n",
    "\n",
    "my_df = pd.DataFrame(data)\n",
    "\n",
    "my_df"
   ],
   "id": "87acf5e3bfae3969"
  },
  {
   "cell_type": "code",
   "execution_count": 450,
   "metadata": {
    "ExecuteTime": {
     "end_time": "2023-11-13T18:04:12.725690100Z",
     "start_time": "2023-11-13T18:04:12.310922700Z"
    }
   },
   "outputs": [
    {
     "data": {
      "text/plain": "   columna_1  columna_2 columna_letras\n0          1          6              a\n1          2          7              b",
      "text/html": "<div>\n<style scoped>\n    .dataframe tbody tr th:only-of-type {\n        vertical-align: middle;\n    }\n\n    .dataframe tbody tr th {\n        vertical-align: top;\n    }\n\n    .dataframe thead th {\n        text-align: right;\n    }\n</style>\n<table border=\"1\" class=\"dataframe\">\n  <thead>\n    <tr style=\"text-align: right;\">\n      <th></th>\n      <th>columna_1</th>\n      <th>columna_2</th>\n      <th>columna_letras</th>\n    </tr>\n  </thead>\n  <tbody>\n    <tr>\n      <th>0</th>\n      <td>1</td>\n      <td>6</td>\n      <td>a</td>\n    </tr>\n    <tr>\n      <th>1</th>\n      <td>2</td>\n      <td>7</td>\n      <td>b</td>\n    </tr>\n  </tbody>\n</table>\n</div>"
     },
     "execution_count": 450,
     "metadata": {},
     "output_type": "execute_result"
    }
   ],
   "source": [
    "data = [\n",
    "    (1, 6, 'a'),\n",
    "    (2, 7, 'b')\n",
    "]\n",
    "\n",
    "pd.DataFrame(data, columns=['columna_1', 'columna_2', 'columna_letras'])"
   ],
   "id": "12ed876c731c74b7"
  },
  {
   "cell_type": "markdown",
   "metadata": {},
   "source": [
    "## Cargando datos\n",
    "No es lo mas habitular crear datos asi de esta forma (fuera de los tutoriales) - lo mas tipico es cargar unos datos externos directamente a un data frame. Posibles opciones son:\n",
    "\n",
    "* Cargar un fichero CSV\n",
    "* Cargar un JSON grande\n",
    "* Leer un fichero desde un URL\n",
    "* Leer datos directamente de una base de datos (lo mas comun en un ambito profesonal)\n",
    "\n",
    "Vamos a cargar nuestros datos sobre usuarios de Twitter"
   ],
   "id": "e23c67ae98f6e840"
  },
  {
   "cell_type": "code",
   "execution_count": 451,
   "metadata": {
    "ExecuteTime": {
     "end_time": "2023-11-13T18:04:13.087789300Z",
     "start_time": "2023-11-13T18:04:12.316835600Z"
    }
   },
   "outputs": [
    {
     "data": {
      "text/plain": "        Id  MSSubClass MSZoning  LotFrontage  LotArea Street Alley LotShape  \\\n0        1          60       RL         65.0     8450   Pave   NaN      Reg   \n1        2          20       RL         80.0     9600   Pave   NaN      Reg   \n2        3          60       RL         68.0    11250   Pave   NaN      IR1   \n3        4          70       RL         60.0     9550   Pave   NaN      IR1   \n4        5          60       RL         84.0    14260   Pave   NaN      IR1   \n...    ...         ...      ...          ...      ...    ...   ...      ...   \n1455  1456          60       RL         62.0     7917   Pave   NaN      Reg   \n1456  1457          20       RL         85.0    13175   Pave   NaN      Reg   \n1457  1458          70       RL         66.0     9042   Pave   NaN      Reg   \n1458  1459          20       RL         68.0     9717   Pave   NaN      Reg   \n1459  1460          20       RL         75.0     9937   Pave   NaN      Reg   \n\n     LandContour Utilities LotConfig LandSlope Neighborhood Condition1  \\\n0            Lvl    AllPub    Inside       Gtl      CollgCr       Norm   \n1            Lvl    AllPub       FR2       Gtl      Veenker      Feedr   \n2            Lvl    AllPub    Inside       Gtl      CollgCr       Norm   \n3            Lvl    AllPub    Corner       Gtl      Crawfor       Norm   \n4            Lvl    AllPub       FR2       Gtl      NoRidge       Norm   \n...          ...       ...       ...       ...          ...        ...   \n1455         Lvl    AllPub    Inside       Gtl      Gilbert       Norm   \n1456         Lvl    AllPub    Inside       Gtl       NWAmes       Norm   \n1457         Lvl    AllPub    Inside       Gtl      Crawfor       Norm   \n1458         Lvl    AllPub    Inside       Gtl        NAmes       Norm   \n1459         Lvl    AllPub    Inside       Gtl      Edwards       Norm   \n\n     Condition2 BldgType HouseStyle  OverallQual  OverallCond  YearBuilt  \\\n0          Norm     1Fam     2Story            7            5       2003   \n1          Norm     1Fam     1Story            6            8       1976   \n2          Norm     1Fam     2Story            7            5       2001   \n3          Norm     1Fam     2Story            7            5       1915   \n4          Norm     1Fam     2Story            8            5       2000   \n...         ...      ...        ...          ...          ...        ...   \n1455       Norm     1Fam     2Story            6            5       1999   \n1456       Norm     1Fam     1Story            6            6       1978   \n1457       Norm     1Fam     2Story            7            9       1941   \n1458       Norm     1Fam     1Story            5            6       1950   \n1459       Norm     1Fam     1Story            5            6       1965   \n\n      YearRemodAdd RoofStyle RoofMatl Exterior1st Exterior2nd MasVnrType  \\\n0             2003     Gable  CompShg     VinylSd     VinylSd    BrkFace   \n1             1976     Gable  CompShg     MetalSd     MetalSd        NaN   \n2             2002     Gable  CompShg     VinylSd     VinylSd    BrkFace   \n3             1970     Gable  CompShg     Wd Sdng     Wd Shng        NaN   \n4             2000     Gable  CompShg     VinylSd     VinylSd    BrkFace   \n...            ...       ...      ...         ...         ...        ...   \n1455          2000     Gable  CompShg     VinylSd     VinylSd        NaN   \n1456          1988     Gable  CompShg     Plywood     Plywood      Stone   \n1457          2006     Gable  CompShg     CemntBd     CmentBd        NaN   \n1458          1996       Hip  CompShg     MetalSd     MetalSd        NaN   \n1459          1965     Gable  CompShg     HdBoard     HdBoard        NaN   \n\n      MasVnrArea ExterQual ExterCond Foundation BsmtQual BsmtCond  \\\n0          196.0        Gd        TA      PConc       Gd       TA   \n1            0.0        TA        TA     CBlock       Gd       TA   \n2          162.0        Gd        TA      PConc       Gd       TA   \n3            0.0        TA        TA     BrkTil       TA       Gd   \n4          350.0        Gd        TA      PConc       Gd       TA   \n...          ...       ...       ...        ...      ...      ...   \n1455         0.0        TA        TA      PConc       Gd       TA   \n1456       119.0        TA        TA     CBlock       Gd       TA   \n1457         0.0        Ex        Gd      Stone       TA       Gd   \n1458         0.0        TA        TA     CBlock       TA       TA   \n1459         0.0        Gd        TA     CBlock       TA       TA   \n\n     BsmtExposure BsmtFinType1  BsmtFinSF1 BsmtFinType2  BsmtFinSF2  \\\n0              No          GLQ         706          Unf           0   \n1              Gd          ALQ         978          Unf           0   \n2              Mn          GLQ         486          Unf           0   \n3              No          ALQ         216          Unf           0   \n4              Av          GLQ         655          Unf           0   \n...           ...          ...         ...          ...         ...   \n1455           No          Unf           0          Unf           0   \n1456           No          ALQ         790          Rec         163   \n1457           No          GLQ         275          Unf           0   \n1458           Mn          GLQ          49          Rec        1029   \n1459           No          BLQ         830          LwQ         290   \n\n      BsmtUnfSF  TotalBsmtSF Heating HeatingQC CentralAir Electrical  \\\n0           150          856    GasA        Ex          Y      SBrkr   \n1           284         1262    GasA        Ex          Y      SBrkr   \n2           434          920    GasA        Ex          Y      SBrkr   \n3           540          756    GasA        Gd          Y      SBrkr   \n4           490         1145    GasA        Ex          Y      SBrkr   \n...         ...          ...     ...       ...        ...        ...   \n1455        953          953    GasA        Ex          Y      SBrkr   \n1456        589         1542    GasA        TA          Y      SBrkr   \n1457        877         1152    GasA        Ex          Y      SBrkr   \n1458          0         1078    GasA        Gd          Y      FuseA   \n1459        136         1256    GasA        Gd          Y      SBrkr   \n\n      1stFlrSF  2ndFlrSF  LowQualFinSF  GrLivArea  BsmtFullBath  BsmtHalfBath  \\\n0          856       854             0       1710             1             0   \n1         1262         0             0       1262             0             1   \n2          920       866             0       1786             1             0   \n3          961       756             0       1717             1             0   \n4         1145      1053             0       2198             1             0   \n...        ...       ...           ...        ...           ...           ...   \n1455       953       694             0       1647             0             0   \n1456      2073         0             0       2073             1             0   \n1457      1188      1152             0       2340             0             0   \n1458      1078         0             0       1078             1             0   \n1459      1256         0             0       1256             1             0   \n\n      FullBath  HalfBath  BedroomAbvGr  KitchenAbvGr KitchenQual  \\\n0            2         1             3             1          Gd   \n1            2         0             3             1          TA   \n2            2         1             3             1          Gd   \n3            1         0             3             1          Gd   \n4            2         1             4             1          Gd   \n...        ...       ...           ...           ...         ...   \n1455         2         1             3             1          TA   \n1456         2         0             3             1          TA   \n1457         2         0             4             1          Gd   \n1458         1         0             2             1          Gd   \n1459         1         1             3             1          TA   \n\n      TotRmsAbvGrd Functional  Fireplaces FireplaceQu GarageType  GarageYrBlt  \\\n0                8        Typ           0         NaN     Attchd       2003.0   \n1                6        Typ           1          TA     Attchd       1976.0   \n2                6        Typ           1          TA     Attchd       2001.0   \n3                7        Typ           1          Gd     Detchd       1998.0   \n4                9        Typ           1          TA     Attchd       2000.0   \n...            ...        ...         ...         ...        ...          ...   \n1455             7        Typ           1          TA     Attchd       1999.0   \n1456             7       Min1           2          TA     Attchd       1978.0   \n1457             9        Typ           2          Gd     Attchd       1941.0   \n1458             5        Typ           0         NaN     Attchd       1950.0   \n1459             6        Typ           0         NaN     Attchd       1965.0   \n\n     GarageFinish  GarageCars  GarageArea GarageQual GarageCond PavedDrive  \\\n0             RFn           2         548         TA         TA          Y   \n1             RFn           2         460         TA         TA          Y   \n2             RFn           2         608         TA         TA          Y   \n3             Unf           3         642         TA         TA          Y   \n4             RFn           3         836         TA         TA          Y   \n...           ...         ...         ...        ...        ...        ...   \n1455          RFn           2         460         TA         TA          Y   \n1456          Unf           2         500         TA         TA          Y   \n1457          RFn           1         252         TA         TA          Y   \n1458          Unf           1         240         TA         TA          Y   \n1459          Fin           1         276         TA         TA          Y   \n\n      WoodDeckSF  OpenPorchSF  EnclosedPorch  3SsnPorch  ScreenPorch  \\\n0              0           61              0          0            0   \n1            298            0              0          0            0   \n2              0           42              0          0            0   \n3              0           35            272          0            0   \n4            192           84              0          0            0   \n...          ...          ...            ...        ...          ...   \n1455           0           40              0          0            0   \n1456         349            0              0          0            0   \n1457           0           60              0          0            0   \n1458         366            0            112          0            0   \n1459         736           68              0          0            0   \n\n      PoolArea PoolQC  Fence MiscFeature  MiscVal  MoSold  YrSold SaleType  \\\n0            0    NaN    NaN         NaN        0       2    2008       WD   \n1            0    NaN    NaN         NaN        0       5    2007       WD   \n2            0    NaN    NaN         NaN        0       9    2008       WD   \n3            0    NaN    NaN         NaN        0       2    2006       WD   \n4            0    NaN    NaN         NaN        0      12    2008       WD   \n...        ...    ...    ...         ...      ...     ...     ...      ...   \n1455         0    NaN    NaN         NaN        0       8    2007       WD   \n1456         0    NaN  MnPrv         NaN        0       2    2010       WD   \n1457         0    NaN  GdPrv        Shed     2500       5    2010       WD   \n1458         0    NaN    NaN         NaN        0       4    2010       WD   \n1459         0    NaN    NaN         NaN        0       6    2008       WD   \n\n     SaleCondition  SalePrice  \n0           Normal     208500  \n1           Normal     181500  \n2           Normal     223500  \n3          Abnorml     140000  \n4           Normal     250000  \n...            ...        ...  \n1455        Normal     175000  \n1456        Normal     210000  \n1457        Normal     266500  \n1458        Normal     142125  \n1459        Normal     147500  \n\n[1460 rows x 81 columns]",
      "text/html": "<div>\n<style scoped>\n    .dataframe tbody tr th:only-of-type {\n        vertical-align: middle;\n    }\n\n    .dataframe tbody tr th {\n        vertical-align: top;\n    }\n\n    .dataframe thead th {\n        text-align: right;\n    }\n</style>\n<table border=\"1\" class=\"dataframe\">\n  <thead>\n    <tr style=\"text-align: right;\">\n      <th></th>\n      <th>Id</th>\n      <th>MSSubClass</th>\n      <th>MSZoning</th>\n      <th>LotFrontage</th>\n      <th>LotArea</th>\n      <th>Street</th>\n      <th>Alley</th>\n      <th>LotShape</th>\n      <th>LandContour</th>\n      <th>Utilities</th>\n      <th>LotConfig</th>\n      <th>LandSlope</th>\n      <th>Neighborhood</th>\n      <th>Condition1</th>\n      <th>Condition2</th>\n      <th>BldgType</th>\n      <th>HouseStyle</th>\n      <th>OverallQual</th>\n      <th>OverallCond</th>\n      <th>YearBuilt</th>\n      <th>YearRemodAdd</th>\n      <th>RoofStyle</th>\n      <th>RoofMatl</th>\n      <th>Exterior1st</th>\n      <th>Exterior2nd</th>\n      <th>MasVnrType</th>\n      <th>MasVnrArea</th>\n      <th>ExterQual</th>\n      <th>ExterCond</th>\n      <th>Foundation</th>\n      <th>BsmtQual</th>\n      <th>BsmtCond</th>\n      <th>BsmtExposure</th>\n      <th>BsmtFinType1</th>\n      <th>BsmtFinSF1</th>\n      <th>BsmtFinType2</th>\n      <th>BsmtFinSF2</th>\n      <th>BsmtUnfSF</th>\n      <th>TotalBsmtSF</th>\n      <th>Heating</th>\n      <th>HeatingQC</th>\n      <th>CentralAir</th>\n      <th>Electrical</th>\n      <th>1stFlrSF</th>\n      <th>2ndFlrSF</th>\n      <th>LowQualFinSF</th>\n      <th>GrLivArea</th>\n      <th>BsmtFullBath</th>\n      <th>BsmtHalfBath</th>\n      <th>FullBath</th>\n      <th>HalfBath</th>\n      <th>BedroomAbvGr</th>\n      <th>KitchenAbvGr</th>\n      <th>KitchenQual</th>\n      <th>TotRmsAbvGrd</th>\n      <th>Functional</th>\n      <th>Fireplaces</th>\n      <th>FireplaceQu</th>\n      <th>GarageType</th>\n      <th>GarageYrBlt</th>\n      <th>GarageFinish</th>\n      <th>GarageCars</th>\n      <th>GarageArea</th>\n      <th>GarageQual</th>\n      <th>GarageCond</th>\n      <th>PavedDrive</th>\n      <th>WoodDeckSF</th>\n      <th>OpenPorchSF</th>\n      <th>EnclosedPorch</th>\n      <th>3SsnPorch</th>\n      <th>ScreenPorch</th>\n      <th>PoolArea</th>\n      <th>PoolQC</th>\n      <th>Fence</th>\n      <th>MiscFeature</th>\n      <th>MiscVal</th>\n      <th>MoSold</th>\n      <th>YrSold</th>\n      <th>SaleType</th>\n      <th>SaleCondition</th>\n      <th>SalePrice</th>\n    </tr>\n  </thead>\n  <tbody>\n    <tr>\n      <th>0</th>\n      <td>1</td>\n      <td>60</td>\n      <td>RL</td>\n      <td>65.0</td>\n      <td>8450</td>\n      <td>Pave</td>\n      <td>NaN</td>\n      <td>Reg</td>\n      <td>Lvl</td>\n      <td>AllPub</td>\n      <td>Inside</td>\n      <td>Gtl</td>\n      <td>CollgCr</td>\n      <td>Norm</td>\n      <td>Norm</td>\n      <td>1Fam</td>\n      <td>2Story</td>\n      <td>7</td>\n      <td>5</td>\n      <td>2003</td>\n      <td>2003</td>\n      <td>Gable</td>\n      <td>CompShg</td>\n      <td>VinylSd</td>\n      <td>VinylSd</td>\n      <td>BrkFace</td>\n      <td>196.0</td>\n      <td>Gd</td>\n      <td>TA</td>\n      <td>PConc</td>\n      <td>Gd</td>\n      <td>TA</td>\n      <td>No</td>\n      <td>GLQ</td>\n      <td>706</td>\n      <td>Unf</td>\n      <td>0</td>\n      <td>150</td>\n      <td>856</td>\n      <td>GasA</td>\n      <td>Ex</td>\n      <td>Y</td>\n      <td>SBrkr</td>\n      <td>856</td>\n      <td>854</td>\n      <td>0</td>\n      <td>1710</td>\n      <td>1</td>\n      <td>0</td>\n      <td>2</td>\n      <td>1</td>\n      <td>3</td>\n      <td>1</td>\n      <td>Gd</td>\n      <td>8</td>\n      <td>Typ</td>\n      <td>0</td>\n      <td>NaN</td>\n      <td>Attchd</td>\n      <td>2003.0</td>\n      <td>RFn</td>\n      <td>2</td>\n      <td>548</td>\n      <td>TA</td>\n      <td>TA</td>\n      <td>Y</td>\n      <td>0</td>\n      <td>61</td>\n      <td>0</td>\n      <td>0</td>\n      <td>0</td>\n      <td>0</td>\n      <td>NaN</td>\n      <td>NaN</td>\n      <td>NaN</td>\n      <td>0</td>\n      <td>2</td>\n      <td>2008</td>\n      <td>WD</td>\n      <td>Normal</td>\n      <td>208500</td>\n    </tr>\n    <tr>\n      <th>1</th>\n      <td>2</td>\n      <td>20</td>\n      <td>RL</td>\n      <td>80.0</td>\n      <td>9600</td>\n      <td>Pave</td>\n      <td>NaN</td>\n      <td>Reg</td>\n      <td>Lvl</td>\n      <td>AllPub</td>\n      <td>FR2</td>\n      <td>Gtl</td>\n      <td>Veenker</td>\n      <td>Feedr</td>\n      <td>Norm</td>\n      <td>1Fam</td>\n      <td>1Story</td>\n      <td>6</td>\n      <td>8</td>\n      <td>1976</td>\n      <td>1976</td>\n      <td>Gable</td>\n      <td>CompShg</td>\n      <td>MetalSd</td>\n      <td>MetalSd</td>\n      <td>NaN</td>\n      <td>0.0</td>\n      <td>TA</td>\n      <td>TA</td>\n      <td>CBlock</td>\n      <td>Gd</td>\n      <td>TA</td>\n      <td>Gd</td>\n      <td>ALQ</td>\n      <td>978</td>\n      <td>Unf</td>\n      <td>0</td>\n      <td>284</td>\n      <td>1262</td>\n      <td>GasA</td>\n      <td>Ex</td>\n      <td>Y</td>\n      <td>SBrkr</td>\n      <td>1262</td>\n      <td>0</td>\n      <td>0</td>\n      <td>1262</td>\n      <td>0</td>\n      <td>1</td>\n      <td>2</td>\n      <td>0</td>\n      <td>3</td>\n      <td>1</td>\n      <td>TA</td>\n      <td>6</td>\n      <td>Typ</td>\n      <td>1</td>\n      <td>TA</td>\n      <td>Attchd</td>\n      <td>1976.0</td>\n      <td>RFn</td>\n      <td>2</td>\n      <td>460</td>\n      <td>TA</td>\n      <td>TA</td>\n      <td>Y</td>\n      <td>298</td>\n      <td>0</td>\n      <td>0</td>\n      <td>0</td>\n      <td>0</td>\n      <td>0</td>\n      <td>NaN</td>\n      <td>NaN</td>\n      <td>NaN</td>\n      <td>0</td>\n      <td>5</td>\n      <td>2007</td>\n      <td>WD</td>\n      <td>Normal</td>\n      <td>181500</td>\n    </tr>\n    <tr>\n      <th>2</th>\n      <td>3</td>\n      <td>60</td>\n      <td>RL</td>\n      <td>68.0</td>\n      <td>11250</td>\n      <td>Pave</td>\n      <td>NaN</td>\n      <td>IR1</td>\n      <td>Lvl</td>\n      <td>AllPub</td>\n      <td>Inside</td>\n      <td>Gtl</td>\n      <td>CollgCr</td>\n      <td>Norm</td>\n      <td>Norm</td>\n      <td>1Fam</td>\n      <td>2Story</td>\n      <td>7</td>\n      <td>5</td>\n      <td>2001</td>\n      <td>2002</td>\n      <td>Gable</td>\n      <td>CompShg</td>\n      <td>VinylSd</td>\n      <td>VinylSd</td>\n      <td>BrkFace</td>\n      <td>162.0</td>\n      <td>Gd</td>\n      <td>TA</td>\n      <td>PConc</td>\n      <td>Gd</td>\n      <td>TA</td>\n      <td>Mn</td>\n      <td>GLQ</td>\n      <td>486</td>\n      <td>Unf</td>\n      <td>0</td>\n      <td>434</td>\n      <td>920</td>\n      <td>GasA</td>\n      <td>Ex</td>\n      <td>Y</td>\n      <td>SBrkr</td>\n      <td>920</td>\n      <td>866</td>\n      <td>0</td>\n      <td>1786</td>\n      <td>1</td>\n      <td>0</td>\n      <td>2</td>\n      <td>1</td>\n      <td>3</td>\n      <td>1</td>\n      <td>Gd</td>\n      <td>6</td>\n      <td>Typ</td>\n      <td>1</td>\n      <td>TA</td>\n      <td>Attchd</td>\n      <td>2001.0</td>\n      <td>RFn</td>\n      <td>2</td>\n      <td>608</td>\n      <td>TA</td>\n      <td>TA</td>\n      <td>Y</td>\n      <td>0</td>\n      <td>42</td>\n      <td>0</td>\n      <td>0</td>\n      <td>0</td>\n      <td>0</td>\n      <td>NaN</td>\n      <td>NaN</td>\n      <td>NaN</td>\n      <td>0</td>\n      <td>9</td>\n      <td>2008</td>\n      <td>WD</td>\n      <td>Normal</td>\n      <td>223500</td>\n    </tr>\n    <tr>\n      <th>3</th>\n      <td>4</td>\n      <td>70</td>\n      <td>RL</td>\n      <td>60.0</td>\n      <td>9550</td>\n      <td>Pave</td>\n      <td>NaN</td>\n      <td>IR1</td>\n      <td>Lvl</td>\n      <td>AllPub</td>\n      <td>Corner</td>\n      <td>Gtl</td>\n      <td>Crawfor</td>\n      <td>Norm</td>\n      <td>Norm</td>\n      <td>1Fam</td>\n      <td>2Story</td>\n      <td>7</td>\n      <td>5</td>\n      <td>1915</td>\n      <td>1970</td>\n      <td>Gable</td>\n      <td>CompShg</td>\n      <td>Wd Sdng</td>\n      <td>Wd Shng</td>\n      <td>NaN</td>\n      <td>0.0</td>\n      <td>TA</td>\n      <td>TA</td>\n      <td>BrkTil</td>\n      <td>TA</td>\n      <td>Gd</td>\n      <td>No</td>\n      <td>ALQ</td>\n      <td>216</td>\n      <td>Unf</td>\n      <td>0</td>\n      <td>540</td>\n      <td>756</td>\n      <td>GasA</td>\n      <td>Gd</td>\n      <td>Y</td>\n      <td>SBrkr</td>\n      <td>961</td>\n      <td>756</td>\n      <td>0</td>\n      <td>1717</td>\n      <td>1</td>\n      <td>0</td>\n      <td>1</td>\n      <td>0</td>\n      <td>3</td>\n      <td>1</td>\n      <td>Gd</td>\n      <td>7</td>\n      <td>Typ</td>\n      <td>1</td>\n      <td>Gd</td>\n      <td>Detchd</td>\n      <td>1998.0</td>\n      <td>Unf</td>\n      <td>3</td>\n      <td>642</td>\n      <td>TA</td>\n      <td>TA</td>\n      <td>Y</td>\n      <td>0</td>\n      <td>35</td>\n      <td>272</td>\n      <td>0</td>\n      <td>0</td>\n      <td>0</td>\n      <td>NaN</td>\n      <td>NaN</td>\n      <td>NaN</td>\n      <td>0</td>\n      <td>2</td>\n      <td>2006</td>\n      <td>WD</td>\n      <td>Abnorml</td>\n      <td>140000</td>\n    </tr>\n    <tr>\n      <th>4</th>\n      <td>5</td>\n      <td>60</td>\n      <td>RL</td>\n      <td>84.0</td>\n      <td>14260</td>\n      <td>Pave</td>\n      <td>NaN</td>\n      <td>IR1</td>\n      <td>Lvl</td>\n      <td>AllPub</td>\n      <td>FR2</td>\n      <td>Gtl</td>\n      <td>NoRidge</td>\n      <td>Norm</td>\n      <td>Norm</td>\n      <td>1Fam</td>\n      <td>2Story</td>\n      <td>8</td>\n      <td>5</td>\n      <td>2000</td>\n      <td>2000</td>\n      <td>Gable</td>\n      <td>CompShg</td>\n      <td>VinylSd</td>\n      <td>VinylSd</td>\n      <td>BrkFace</td>\n      <td>350.0</td>\n      <td>Gd</td>\n      <td>TA</td>\n      <td>PConc</td>\n      <td>Gd</td>\n      <td>TA</td>\n      <td>Av</td>\n      <td>GLQ</td>\n      <td>655</td>\n      <td>Unf</td>\n      <td>0</td>\n      <td>490</td>\n      <td>1145</td>\n      <td>GasA</td>\n      <td>Ex</td>\n      <td>Y</td>\n      <td>SBrkr</td>\n      <td>1145</td>\n      <td>1053</td>\n      <td>0</td>\n      <td>2198</td>\n      <td>1</td>\n      <td>0</td>\n      <td>2</td>\n      <td>1</td>\n      <td>4</td>\n      <td>1</td>\n      <td>Gd</td>\n      <td>9</td>\n      <td>Typ</td>\n      <td>1</td>\n      <td>TA</td>\n      <td>Attchd</td>\n      <td>2000.0</td>\n      <td>RFn</td>\n      <td>3</td>\n      <td>836</td>\n      <td>TA</td>\n      <td>TA</td>\n      <td>Y</td>\n      <td>192</td>\n      <td>84</td>\n      <td>0</td>\n      <td>0</td>\n      <td>0</td>\n      <td>0</td>\n      <td>NaN</td>\n      <td>NaN</td>\n      <td>NaN</td>\n      <td>0</td>\n      <td>12</td>\n      <td>2008</td>\n      <td>WD</td>\n      <td>Normal</td>\n      <td>250000</td>\n    </tr>\n    <tr>\n      <th>...</th>\n      <td>...</td>\n      <td>...</td>\n      <td>...</td>\n      <td>...</td>\n      <td>...</td>\n      <td>...</td>\n      <td>...</td>\n      <td>...</td>\n      <td>...</td>\n      <td>...</td>\n      <td>...</td>\n      <td>...</td>\n      <td>...</td>\n      <td>...</td>\n      <td>...</td>\n      <td>...</td>\n      <td>...</td>\n      <td>...</td>\n      <td>...</td>\n      <td>...</td>\n      <td>...</td>\n      <td>...</td>\n      <td>...</td>\n      <td>...</td>\n      <td>...</td>\n      <td>...</td>\n      <td>...</td>\n      <td>...</td>\n      <td>...</td>\n      <td>...</td>\n      <td>...</td>\n      <td>...</td>\n      <td>...</td>\n      <td>...</td>\n      <td>...</td>\n      <td>...</td>\n      <td>...</td>\n      <td>...</td>\n      <td>...</td>\n      <td>...</td>\n      <td>...</td>\n      <td>...</td>\n      <td>...</td>\n      <td>...</td>\n      <td>...</td>\n      <td>...</td>\n      <td>...</td>\n      <td>...</td>\n      <td>...</td>\n      <td>...</td>\n      <td>...</td>\n      <td>...</td>\n      <td>...</td>\n      <td>...</td>\n      <td>...</td>\n      <td>...</td>\n      <td>...</td>\n      <td>...</td>\n      <td>...</td>\n      <td>...</td>\n      <td>...</td>\n      <td>...</td>\n      <td>...</td>\n      <td>...</td>\n      <td>...</td>\n      <td>...</td>\n      <td>...</td>\n      <td>...</td>\n      <td>...</td>\n      <td>...</td>\n      <td>...</td>\n      <td>...</td>\n      <td>...</td>\n      <td>...</td>\n      <td>...</td>\n      <td>...</td>\n      <td>...</td>\n      <td>...</td>\n      <td>...</td>\n      <td>...</td>\n      <td>...</td>\n    </tr>\n    <tr>\n      <th>1455</th>\n      <td>1456</td>\n      <td>60</td>\n      <td>RL</td>\n      <td>62.0</td>\n      <td>7917</td>\n      <td>Pave</td>\n      <td>NaN</td>\n      <td>Reg</td>\n      <td>Lvl</td>\n      <td>AllPub</td>\n      <td>Inside</td>\n      <td>Gtl</td>\n      <td>Gilbert</td>\n      <td>Norm</td>\n      <td>Norm</td>\n      <td>1Fam</td>\n      <td>2Story</td>\n      <td>6</td>\n      <td>5</td>\n      <td>1999</td>\n      <td>2000</td>\n      <td>Gable</td>\n      <td>CompShg</td>\n      <td>VinylSd</td>\n      <td>VinylSd</td>\n      <td>NaN</td>\n      <td>0.0</td>\n      <td>TA</td>\n      <td>TA</td>\n      <td>PConc</td>\n      <td>Gd</td>\n      <td>TA</td>\n      <td>No</td>\n      <td>Unf</td>\n      <td>0</td>\n      <td>Unf</td>\n      <td>0</td>\n      <td>953</td>\n      <td>953</td>\n      <td>GasA</td>\n      <td>Ex</td>\n      <td>Y</td>\n      <td>SBrkr</td>\n      <td>953</td>\n      <td>694</td>\n      <td>0</td>\n      <td>1647</td>\n      <td>0</td>\n      <td>0</td>\n      <td>2</td>\n      <td>1</td>\n      <td>3</td>\n      <td>1</td>\n      <td>TA</td>\n      <td>7</td>\n      <td>Typ</td>\n      <td>1</td>\n      <td>TA</td>\n      <td>Attchd</td>\n      <td>1999.0</td>\n      <td>RFn</td>\n      <td>2</td>\n      <td>460</td>\n      <td>TA</td>\n      <td>TA</td>\n      <td>Y</td>\n      <td>0</td>\n      <td>40</td>\n      <td>0</td>\n      <td>0</td>\n      <td>0</td>\n      <td>0</td>\n      <td>NaN</td>\n      <td>NaN</td>\n      <td>NaN</td>\n      <td>0</td>\n      <td>8</td>\n      <td>2007</td>\n      <td>WD</td>\n      <td>Normal</td>\n      <td>175000</td>\n    </tr>\n    <tr>\n      <th>1456</th>\n      <td>1457</td>\n      <td>20</td>\n      <td>RL</td>\n      <td>85.0</td>\n      <td>13175</td>\n      <td>Pave</td>\n      <td>NaN</td>\n      <td>Reg</td>\n      <td>Lvl</td>\n      <td>AllPub</td>\n      <td>Inside</td>\n      <td>Gtl</td>\n      <td>NWAmes</td>\n      <td>Norm</td>\n      <td>Norm</td>\n      <td>1Fam</td>\n      <td>1Story</td>\n      <td>6</td>\n      <td>6</td>\n      <td>1978</td>\n      <td>1988</td>\n      <td>Gable</td>\n      <td>CompShg</td>\n      <td>Plywood</td>\n      <td>Plywood</td>\n      <td>Stone</td>\n      <td>119.0</td>\n      <td>TA</td>\n      <td>TA</td>\n      <td>CBlock</td>\n      <td>Gd</td>\n      <td>TA</td>\n      <td>No</td>\n      <td>ALQ</td>\n      <td>790</td>\n      <td>Rec</td>\n      <td>163</td>\n      <td>589</td>\n      <td>1542</td>\n      <td>GasA</td>\n      <td>TA</td>\n      <td>Y</td>\n      <td>SBrkr</td>\n      <td>2073</td>\n      <td>0</td>\n      <td>0</td>\n      <td>2073</td>\n      <td>1</td>\n      <td>0</td>\n      <td>2</td>\n      <td>0</td>\n      <td>3</td>\n      <td>1</td>\n      <td>TA</td>\n      <td>7</td>\n      <td>Min1</td>\n      <td>2</td>\n      <td>TA</td>\n      <td>Attchd</td>\n      <td>1978.0</td>\n      <td>Unf</td>\n      <td>2</td>\n      <td>500</td>\n      <td>TA</td>\n      <td>TA</td>\n      <td>Y</td>\n      <td>349</td>\n      <td>0</td>\n      <td>0</td>\n      <td>0</td>\n      <td>0</td>\n      <td>0</td>\n      <td>NaN</td>\n      <td>MnPrv</td>\n      <td>NaN</td>\n      <td>0</td>\n      <td>2</td>\n      <td>2010</td>\n      <td>WD</td>\n      <td>Normal</td>\n      <td>210000</td>\n    </tr>\n    <tr>\n      <th>1457</th>\n      <td>1458</td>\n      <td>70</td>\n      <td>RL</td>\n      <td>66.0</td>\n      <td>9042</td>\n      <td>Pave</td>\n      <td>NaN</td>\n      <td>Reg</td>\n      <td>Lvl</td>\n      <td>AllPub</td>\n      <td>Inside</td>\n      <td>Gtl</td>\n      <td>Crawfor</td>\n      <td>Norm</td>\n      <td>Norm</td>\n      <td>1Fam</td>\n      <td>2Story</td>\n      <td>7</td>\n      <td>9</td>\n      <td>1941</td>\n      <td>2006</td>\n      <td>Gable</td>\n      <td>CompShg</td>\n      <td>CemntBd</td>\n      <td>CmentBd</td>\n      <td>NaN</td>\n      <td>0.0</td>\n      <td>Ex</td>\n      <td>Gd</td>\n      <td>Stone</td>\n      <td>TA</td>\n      <td>Gd</td>\n      <td>No</td>\n      <td>GLQ</td>\n      <td>275</td>\n      <td>Unf</td>\n      <td>0</td>\n      <td>877</td>\n      <td>1152</td>\n      <td>GasA</td>\n      <td>Ex</td>\n      <td>Y</td>\n      <td>SBrkr</td>\n      <td>1188</td>\n      <td>1152</td>\n      <td>0</td>\n      <td>2340</td>\n      <td>0</td>\n      <td>0</td>\n      <td>2</td>\n      <td>0</td>\n      <td>4</td>\n      <td>1</td>\n      <td>Gd</td>\n      <td>9</td>\n      <td>Typ</td>\n      <td>2</td>\n      <td>Gd</td>\n      <td>Attchd</td>\n      <td>1941.0</td>\n      <td>RFn</td>\n      <td>1</td>\n      <td>252</td>\n      <td>TA</td>\n      <td>TA</td>\n      <td>Y</td>\n      <td>0</td>\n      <td>60</td>\n      <td>0</td>\n      <td>0</td>\n      <td>0</td>\n      <td>0</td>\n      <td>NaN</td>\n      <td>GdPrv</td>\n      <td>Shed</td>\n      <td>2500</td>\n      <td>5</td>\n      <td>2010</td>\n      <td>WD</td>\n      <td>Normal</td>\n      <td>266500</td>\n    </tr>\n    <tr>\n      <th>1458</th>\n      <td>1459</td>\n      <td>20</td>\n      <td>RL</td>\n      <td>68.0</td>\n      <td>9717</td>\n      <td>Pave</td>\n      <td>NaN</td>\n      <td>Reg</td>\n      <td>Lvl</td>\n      <td>AllPub</td>\n      <td>Inside</td>\n      <td>Gtl</td>\n      <td>NAmes</td>\n      <td>Norm</td>\n      <td>Norm</td>\n      <td>1Fam</td>\n      <td>1Story</td>\n      <td>5</td>\n      <td>6</td>\n      <td>1950</td>\n      <td>1996</td>\n      <td>Hip</td>\n      <td>CompShg</td>\n      <td>MetalSd</td>\n      <td>MetalSd</td>\n      <td>NaN</td>\n      <td>0.0</td>\n      <td>TA</td>\n      <td>TA</td>\n      <td>CBlock</td>\n      <td>TA</td>\n      <td>TA</td>\n      <td>Mn</td>\n      <td>GLQ</td>\n      <td>49</td>\n      <td>Rec</td>\n      <td>1029</td>\n      <td>0</td>\n      <td>1078</td>\n      <td>GasA</td>\n      <td>Gd</td>\n      <td>Y</td>\n      <td>FuseA</td>\n      <td>1078</td>\n      <td>0</td>\n      <td>0</td>\n      <td>1078</td>\n      <td>1</td>\n      <td>0</td>\n      <td>1</td>\n      <td>0</td>\n      <td>2</td>\n      <td>1</td>\n      <td>Gd</td>\n      <td>5</td>\n      <td>Typ</td>\n      <td>0</td>\n      <td>NaN</td>\n      <td>Attchd</td>\n      <td>1950.0</td>\n      <td>Unf</td>\n      <td>1</td>\n      <td>240</td>\n      <td>TA</td>\n      <td>TA</td>\n      <td>Y</td>\n      <td>366</td>\n      <td>0</td>\n      <td>112</td>\n      <td>0</td>\n      <td>0</td>\n      <td>0</td>\n      <td>NaN</td>\n      <td>NaN</td>\n      <td>NaN</td>\n      <td>0</td>\n      <td>4</td>\n      <td>2010</td>\n      <td>WD</td>\n      <td>Normal</td>\n      <td>142125</td>\n    </tr>\n    <tr>\n      <th>1459</th>\n      <td>1460</td>\n      <td>20</td>\n      <td>RL</td>\n      <td>75.0</td>\n      <td>9937</td>\n      <td>Pave</td>\n      <td>NaN</td>\n      <td>Reg</td>\n      <td>Lvl</td>\n      <td>AllPub</td>\n      <td>Inside</td>\n      <td>Gtl</td>\n      <td>Edwards</td>\n      <td>Norm</td>\n      <td>Norm</td>\n      <td>1Fam</td>\n      <td>1Story</td>\n      <td>5</td>\n      <td>6</td>\n      <td>1965</td>\n      <td>1965</td>\n      <td>Gable</td>\n      <td>CompShg</td>\n      <td>HdBoard</td>\n      <td>HdBoard</td>\n      <td>NaN</td>\n      <td>0.0</td>\n      <td>Gd</td>\n      <td>TA</td>\n      <td>CBlock</td>\n      <td>TA</td>\n      <td>TA</td>\n      <td>No</td>\n      <td>BLQ</td>\n      <td>830</td>\n      <td>LwQ</td>\n      <td>290</td>\n      <td>136</td>\n      <td>1256</td>\n      <td>GasA</td>\n      <td>Gd</td>\n      <td>Y</td>\n      <td>SBrkr</td>\n      <td>1256</td>\n      <td>0</td>\n      <td>0</td>\n      <td>1256</td>\n      <td>1</td>\n      <td>0</td>\n      <td>1</td>\n      <td>1</td>\n      <td>3</td>\n      <td>1</td>\n      <td>TA</td>\n      <td>6</td>\n      <td>Typ</td>\n      <td>0</td>\n      <td>NaN</td>\n      <td>Attchd</td>\n      <td>1965.0</td>\n      <td>Fin</td>\n      <td>1</td>\n      <td>276</td>\n      <td>TA</td>\n      <td>TA</td>\n      <td>Y</td>\n      <td>736</td>\n      <td>68</td>\n      <td>0</td>\n      <td>0</td>\n      <td>0</td>\n      <td>0</td>\n      <td>NaN</td>\n      <td>NaN</td>\n      <td>NaN</td>\n      <td>0</td>\n      <td>6</td>\n      <td>2008</td>\n      <td>WD</td>\n      <td>Normal</td>\n      <td>147500</td>\n    </tr>\n  </tbody>\n</table>\n<p>1460 rows × 81 columns</p>\n</div>"
     },
     "execution_count": 451,
     "metadata": {},
     "output_type": "execute_result"
    }
   ],
   "source": [
    "house_data = pd.read_csv(house_file)\n",
    "house_data"
   ],
   "id": "778db375c6df927"
  },
  {
   "cell_type": "markdown",
   "metadata": {},
   "source": [
    "Ahora si que parece mas interesante! Unas observaciones:\n",
    "\n",
    "* Como nuestro CSV tiene un formato bien hecho, todas las columnas se han cargado bien como esperamos - hay opciones para adaptar la carga a diferentes formatos\n",
    "* Cuando carga de un CSV solo infiere que columnas son `str`, `int` y `float`"
   ],
   "id": "3fb645c342a4c6a6"
  },
  {
   "cell_type": "markdown",
   "metadata": {},
   "source": [
    "## Viendo los datos\n",
    "Es importante \"mirar\" los datos que tenemos para asegurar que todo tiene sentido. Lo mas comun es imprimir el data frame (como vamos haciendo) o utilizar `head` o `tail` para ver solo unas lineas. Visualizar las columnas es muy similar, simplemente tenemos que referirnos a la columna con el sintaxis standard. Podemos tambien seleccionar varias columnas a la vez."
   ],
   "id": "612ed813c481cbd4"
  },
  {
   "cell_type": "code",
   "execution_count": 452,
   "metadata": {
    "ExecuteTime": {
     "end_time": "2023-11-13T18:04:13.117660500Z",
     "start_time": "2023-11-13T18:04:12.353419Z"
    }
   },
   "outputs": [
    {
     "data": {
      "text/plain": "   Id  MSSubClass MSZoning  LotFrontage  LotArea Street Alley LotShape  \\\n0   1          60       RL         65.0     8450   Pave   NaN      Reg   \n1   2          20       RL         80.0     9600   Pave   NaN      Reg   \n2   3          60       RL         68.0    11250   Pave   NaN      IR1   \n3   4          70       RL         60.0     9550   Pave   NaN      IR1   \n4   5          60       RL         84.0    14260   Pave   NaN      IR1   \n\n  LandContour Utilities LotConfig LandSlope Neighborhood Condition1  \\\n0         Lvl    AllPub    Inside       Gtl      CollgCr       Norm   \n1         Lvl    AllPub       FR2       Gtl      Veenker      Feedr   \n2         Lvl    AllPub    Inside       Gtl      CollgCr       Norm   \n3         Lvl    AllPub    Corner       Gtl      Crawfor       Norm   \n4         Lvl    AllPub       FR2       Gtl      NoRidge       Norm   \n\n  Condition2 BldgType HouseStyle  OverallQual  OverallCond  YearBuilt  \\\n0       Norm     1Fam     2Story            7            5       2003   \n1       Norm     1Fam     1Story            6            8       1976   \n2       Norm     1Fam     2Story            7            5       2001   \n3       Norm     1Fam     2Story            7            5       1915   \n4       Norm     1Fam     2Story            8            5       2000   \n\n   YearRemodAdd RoofStyle RoofMatl Exterior1st Exterior2nd MasVnrType  \\\n0          2003     Gable  CompShg     VinylSd     VinylSd    BrkFace   \n1          1976     Gable  CompShg     MetalSd     MetalSd        NaN   \n2          2002     Gable  CompShg     VinylSd     VinylSd    BrkFace   \n3          1970     Gable  CompShg     Wd Sdng     Wd Shng        NaN   \n4          2000     Gable  CompShg     VinylSd     VinylSd    BrkFace   \n\n   MasVnrArea ExterQual ExterCond Foundation BsmtQual BsmtCond BsmtExposure  \\\n0       196.0        Gd        TA      PConc       Gd       TA           No   \n1         0.0        TA        TA     CBlock       Gd       TA           Gd   \n2       162.0        Gd        TA      PConc       Gd       TA           Mn   \n3         0.0        TA        TA     BrkTil       TA       Gd           No   \n4       350.0        Gd        TA      PConc       Gd       TA           Av   \n\n  BsmtFinType1  BsmtFinSF1 BsmtFinType2  BsmtFinSF2  BsmtUnfSF  TotalBsmtSF  \\\n0          GLQ         706          Unf           0        150          856   \n1          ALQ         978          Unf           0        284         1262   \n2          GLQ         486          Unf           0        434          920   \n3          ALQ         216          Unf           0        540          756   \n4          GLQ         655          Unf           0        490         1145   \n\n  Heating HeatingQC CentralAir Electrical  1stFlrSF  2ndFlrSF  LowQualFinSF  \\\n0    GasA        Ex          Y      SBrkr       856       854             0   \n1    GasA        Ex          Y      SBrkr      1262         0             0   \n2    GasA        Ex          Y      SBrkr       920       866             0   \n3    GasA        Gd          Y      SBrkr       961       756             0   \n4    GasA        Ex          Y      SBrkr      1145      1053             0   \n\n   GrLivArea  BsmtFullBath  BsmtHalfBath  FullBath  HalfBath  BedroomAbvGr  \\\n0       1710             1             0         2         1             3   \n1       1262             0             1         2         0             3   \n2       1786             1             0         2         1             3   \n3       1717             1             0         1         0             3   \n4       2198             1             0         2         1             4   \n\n   KitchenAbvGr KitchenQual  TotRmsAbvGrd Functional  Fireplaces FireplaceQu  \\\n0             1          Gd             8        Typ           0         NaN   \n1             1          TA             6        Typ           1          TA   \n2             1          Gd             6        Typ           1          TA   \n3             1          Gd             7        Typ           1          Gd   \n4             1          Gd             9        Typ           1          TA   \n\n  GarageType  GarageYrBlt GarageFinish  GarageCars  GarageArea GarageQual  \\\n0     Attchd       2003.0          RFn           2         548         TA   \n1     Attchd       1976.0          RFn           2         460         TA   \n2     Attchd       2001.0          RFn           2         608         TA   \n3     Detchd       1998.0          Unf           3         642         TA   \n4     Attchd       2000.0          RFn           3         836         TA   \n\n  GarageCond PavedDrive  WoodDeckSF  OpenPorchSF  EnclosedPorch  3SsnPorch  \\\n0         TA          Y           0           61              0          0   \n1         TA          Y         298            0              0          0   \n2         TA          Y           0           42              0          0   \n3         TA          Y           0           35            272          0   \n4         TA          Y         192           84              0          0   \n\n   ScreenPorch  PoolArea PoolQC Fence MiscFeature  MiscVal  MoSold  YrSold  \\\n0            0         0    NaN   NaN         NaN        0       2    2008   \n1            0         0    NaN   NaN         NaN        0       5    2007   \n2            0         0    NaN   NaN         NaN        0       9    2008   \n3            0         0    NaN   NaN         NaN        0       2    2006   \n4            0         0    NaN   NaN         NaN        0      12    2008   \n\n  SaleType SaleCondition  SalePrice  \n0       WD        Normal     208500  \n1       WD        Normal     181500  \n2       WD        Normal     223500  \n3       WD       Abnorml     140000  \n4       WD        Normal     250000  ",
      "text/html": "<div>\n<style scoped>\n    .dataframe tbody tr th:only-of-type {\n        vertical-align: middle;\n    }\n\n    .dataframe tbody tr th {\n        vertical-align: top;\n    }\n\n    .dataframe thead th {\n        text-align: right;\n    }\n</style>\n<table border=\"1\" class=\"dataframe\">\n  <thead>\n    <tr style=\"text-align: right;\">\n      <th></th>\n      <th>Id</th>\n      <th>MSSubClass</th>\n      <th>MSZoning</th>\n      <th>LotFrontage</th>\n      <th>LotArea</th>\n      <th>Street</th>\n      <th>Alley</th>\n      <th>LotShape</th>\n      <th>LandContour</th>\n      <th>Utilities</th>\n      <th>LotConfig</th>\n      <th>LandSlope</th>\n      <th>Neighborhood</th>\n      <th>Condition1</th>\n      <th>Condition2</th>\n      <th>BldgType</th>\n      <th>HouseStyle</th>\n      <th>OverallQual</th>\n      <th>OverallCond</th>\n      <th>YearBuilt</th>\n      <th>YearRemodAdd</th>\n      <th>RoofStyle</th>\n      <th>RoofMatl</th>\n      <th>Exterior1st</th>\n      <th>Exterior2nd</th>\n      <th>MasVnrType</th>\n      <th>MasVnrArea</th>\n      <th>ExterQual</th>\n      <th>ExterCond</th>\n      <th>Foundation</th>\n      <th>BsmtQual</th>\n      <th>BsmtCond</th>\n      <th>BsmtExposure</th>\n      <th>BsmtFinType1</th>\n      <th>BsmtFinSF1</th>\n      <th>BsmtFinType2</th>\n      <th>BsmtFinSF2</th>\n      <th>BsmtUnfSF</th>\n      <th>TotalBsmtSF</th>\n      <th>Heating</th>\n      <th>HeatingQC</th>\n      <th>CentralAir</th>\n      <th>Electrical</th>\n      <th>1stFlrSF</th>\n      <th>2ndFlrSF</th>\n      <th>LowQualFinSF</th>\n      <th>GrLivArea</th>\n      <th>BsmtFullBath</th>\n      <th>BsmtHalfBath</th>\n      <th>FullBath</th>\n      <th>HalfBath</th>\n      <th>BedroomAbvGr</th>\n      <th>KitchenAbvGr</th>\n      <th>KitchenQual</th>\n      <th>TotRmsAbvGrd</th>\n      <th>Functional</th>\n      <th>Fireplaces</th>\n      <th>FireplaceQu</th>\n      <th>GarageType</th>\n      <th>GarageYrBlt</th>\n      <th>GarageFinish</th>\n      <th>GarageCars</th>\n      <th>GarageArea</th>\n      <th>GarageQual</th>\n      <th>GarageCond</th>\n      <th>PavedDrive</th>\n      <th>WoodDeckSF</th>\n      <th>OpenPorchSF</th>\n      <th>EnclosedPorch</th>\n      <th>3SsnPorch</th>\n      <th>ScreenPorch</th>\n      <th>PoolArea</th>\n      <th>PoolQC</th>\n      <th>Fence</th>\n      <th>MiscFeature</th>\n      <th>MiscVal</th>\n      <th>MoSold</th>\n      <th>YrSold</th>\n      <th>SaleType</th>\n      <th>SaleCondition</th>\n      <th>SalePrice</th>\n    </tr>\n  </thead>\n  <tbody>\n    <tr>\n      <th>0</th>\n      <td>1</td>\n      <td>60</td>\n      <td>RL</td>\n      <td>65.0</td>\n      <td>8450</td>\n      <td>Pave</td>\n      <td>NaN</td>\n      <td>Reg</td>\n      <td>Lvl</td>\n      <td>AllPub</td>\n      <td>Inside</td>\n      <td>Gtl</td>\n      <td>CollgCr</td>\n      <td>Norm</td>\n      <td>Norm</td>\n      <td>1Fam</td>\n      <td>2Story</td>\n      <td>7</td>\n      <td>5</td>\n      <td>2003</td>\n      <td>2003</td>\n      <td>Gable</td>\n      <td>CompShg</td>\n      <td>VinylSd</td>\n      <td>VinylSd</td>\n      <td>BrkFace</td>\n      <td>196.0</td>\n      <td>Gd</td>\n      <td>TA</td>\n      <td>PConc</td>\n      <td>Gd</td>\n      <td>TA</td>\n      <td>No</td>\n      <td>GLQ</td>\n      <td>706</td>\n      <td>Unf</td>\n      <td>0</td>\n      <td>150</td>\n      <td>856</td>\n      <td>GasA</td>\n      <td>Ex</td>\n      <td>Y</td>\n      <td>SBrkr</td>\n      <td>856</td>\n      <td>854</td>\n      <td>0</td>\n      <td>1710</td>\n      <td>1</td>\n      <td>0</td>\n      <td>2</td>\n      <td>1</td>\n      <td>3</td>\n      <td>1</td>\n      <td>Gd</td>\n      <td>8</td>\n      <td>Typ</td>\n      <td>0</td>\n      <td>NaN</td>\n      <td>Attchd</td>\n      <td>2003.0</td>\n      <td>RFn</td>\n      <td>2</td>\n      <td>548</td>\n      <td>TA</td>\n      <td>TA</td>\n      <td>Y</td>\n      <td>0</td>\n      <td>61</td>\n      <td>0</td>\n      <td>0</td>\n      <td>0</td>\n      <td>0</td>\n      <td>NaN</td>\n      <td>NaN</td>\n      <td>NaN</td>\n      <td>0</td>\n      <td>2</td>\n      <td>2008</td>\n      <td>WD</td>\n      <td>Normal</td>\n      <td>208500</td>\n    </tr>\n    <tr>\n      <th>1</th>\n      <td>2</td>\n      <td>20</td>\n      <td>RL</td>\n      <td>80.0</td>\n      <td>9600</td>\n      <td>Pave</td>\n      <td>NaN</td>\n      <td>Reg</td>\n      <td>Lvl</td>\n      <td>AllPub</td>\n      <td>FR2</td>\n      <td>Gtl</td>\n      <td>Veenker</td>\n      <td>Feedr</td>\n      <td>Norm</td>\n      <td>1Fam</td>\n      <td>1Story</td>\n      <td>6</td>\n      <td>8</td>\n      <td>1976</td>\n      <td>1976</td>\n      <td>Gable</td>\n      <td>CompShg</td>\n      <td>MetalSd</td>\n      <td>MetalSd</td>\n      <td>NaN</td>\n      <td>0.0</td>\n      <td>TA</td>\n      <td>TA</td>\n      <td>CBlock</td>\n      <td>Gd</td>\n      <td>TA</td>\n      <td>Gd</td>\n      <td>ALQ</td>\n      <td>978</td>\n      <td>Unf</td>\n      <td>0</td>\n      <td>284</td>\n      <td>1262</td>\n      <td>GasA</td>\n      <td>Ex</td>\n      <td>Y</td>\n      <td>SBrkr</td>\n      <td>1262</td>\n      <td>0</td>\n      <td>0</td>\n      <td>1262</td>\n      <td>0</td>\n      <td>1</td>\n      <td>2</td>\n      <td>0</td>\n      <td>3</td>\n      <td>1</td>\n      <td>TA</td>\n      <td>6</td>\n      <td>Typ</td>\n      <td>1</td>\n      <td>TA</td>\n      <td>Attchd</td>\n      <td>1976.0</td>\n      <td>RFn</td>\n      <td>2</td>\n      <td>460</td>\n      <td>TA</td>\n      <td>TA</td>\n      <td>Y</td>\n      <td>298</td>\n      <td>0</td>\n      <td>0</td>\n      <td>0</td>\n      <td>0</td>\n      <td>0</td>\n      <td>NaN</td>\n      <td>NaN</td>\n      <td>NaN</td>\n      <td>0</td>\n      <td>5</td>\n      <td>2007</td>\n      <td>WD</td>\n      <td>Normal</td>\n      <td>181500</td>\n    </tr>\n    <tr>\n      <th>2</th>\n      <td>3</td>\n      <td>60</td>\n      <td>RL</td>\n      <td>68.0</td>\n      <td>11250</td>\n      <td>Pave</td>\n      <td>NaN</td>\n      <td>IR1</td>\n      <td>Lvl</td>\n      <td>AllPub</td>\n      <td>Inside</td>\n      <td>Gtl</td>\n      <td>CollgCr</td>\n      <td>Norm</td>\n      <td>Norm</td>\n      <td>1Fam</td>\n      <td>2Story</td>\n      <td>7</td>\n      <td>5</td>\n      <td>2001</td>\n      <td>2002</td>\n      <td>Gable</td>\n      <td>CompShg</td>\n      <td>VinylSd</td>\n      <td>VinylSd</td>\n      <td>BrkFace</td>\n      <td>162.0</td>\n      <td>Gd</td>\n      <td>TA</td>\n      <td>PConc</td>\n      <td>Gd</td>\n      <td>TA</td>\n      <td>Mn</td>\n      <td>GLQ</td>\n      <td>486</td>\n      <td>Unf</td>\n      <td>0</td>\n      <td>434</td>\n      <td>920</td>\n      <td>GasA</td>\n      <td>Ex</td>\n      <td>Y</td>\n      <td>SBrkr</td>\n      <td>920</td>\n      <td>866</td>\n      <td>0</td>\n      <td>1786</td>\n      <td>1</td>\n      <td>0</td>\n      <td>2</td>\n      <td>1</td>\n      <td>3</td>\n      <td>1</td>\n      <td>Gd</td>\n      <td>6</td>\n      <td>Typ</td>\n      <td>1</td>\n      <td>TA</td>\n      <td>Attchd</td>\n      <td>2001.0</td>\n      <td>RFn</td>\n      <td>2</td>\n      <td>608</td>\n      <td>TA</td>\n      <td>TA</td>\n      <td>Y</td>\n      <td>0</td>\n      <td>42</td>\n      <td>0</td>\n      <td>0</td>\n      <td>0</td>\n      <td>0</td>\n      <td>NaN</td>\n      <td>NaN</td>\n      <td>NaN</td>\n      <td>0</td>\n      <td>9</td>\n      <td>2008</td>\n      <td>WD</td>\n      <td>Normal</td>\n      <td>223500</td>\n    </tr>\n    <tr>\n      <th>3</th>\n      <td>4</td>\n      <td>70</td>\n      <td>RL</td>\n      <td>60.0</td>\n      <td>9550</td>\n      <td>Pave</td>\n      <td>NaN</td>\n      <td>IR1</td>\n      <td>Lvl</td>\n      <td>AllPub</td>\n      <td>Corner</td>\n      <td>Gtl</td>\n      <td>Crawfor</td>\n      <td>Norm</td>\n      <td>Norm</td>\n      <td>1Fam</td>\n      <td>2Story</td>\n      <td>7</td>\n      <td>5</td>\n      <td>1915</td>\n      <td>1970</td>\n      <td>Gable</td>\n      <td>CompShg</td>\n      <td>Wd Sdng</td>\n      <td>Wd Shng</td>\n      <td>NaN</td>\n      <td>0.0</td>\n      <td>TA</td>\n      <td>TA</td>\n      <td>BrkTil</td>\n      <td>TA</td>\n      <td>Gd</td>\n      <td>No</td>\n      <td>ALQ</td>\n      <td>216</td>\n      <td>Unf</td>\n      <td>0</td>\n      <td>540</td>\n      <td>756</td>\n      <td>GasA</td>\n      <td>Gd</td>\n      <td>Y</td>\n      <td>SBrkr</td>\n      <td>961</td>\n      <td>756</td>\n      <td>0</td>\n      <td>1717</td>\n      <td>1</td>\n      <td>0</td>\n      <td>1</td>\n      <td>0</td>\n      <td>3</td>\n      <td>1</td>\n      <td>Gd</td>\n      <td>7</td>\n      <td>Typ</td>\n      <td>1</td>\n      <td>Gd</td>\n      <td>Detchd</td>\n      <td>1998.0</td>\n      <td>Unf</td>\n      <td>3</td>\n      <td>642</td>\n      <td>TA</td>\n      <td>TA</td>\n      <td>Y</td>\n      <td>0</td>\n      <td>35</td>\n      <td>272</td>\n      <td>0</td>\n      <td>0</td>\n      <td>0</td>\n      <td>NaN</td>\n      <td>NaN</td>\n      <td>NaN</td>\n      <td>0</td>\n      <td>2</td>\n      <td>2006</td>\n      <td>WD</td>\n      <td>Abnorml</td>\n      <td>140000</td>\n    </tr>\n    <tr>\n      <th>4</th>\n      <td>5</td>\n      <td>60</td>\n      <td>RL</td>\n      <td>84.0</td>\n      <td>14260</td>\n      <td>Pave</td>\n      <td>NaN</td>\n      <td>IR1</td>\n      <td>Lvl</td>\n      <td>AllPub</td>\n      <td>FR2</td>\n      <td>Gtl</td>\n      <td>NoRidge</td>\n      <td>Norm</td>\n      <td>Norm</td>\n      <td>1Fam</td>\n      <td>2Story</td>\n      <td>8</td>\n      <td>5</td>\n      <td>2000</td>\n      <td>2000</td>\n      <td>Gable</td>\n      <td>CompShg</td>\n      <td>VinylSd</td>\n      <td>VinylSd</td>\n      <td>BrkFace</td>\n      <td>350.0</td>\n      <td>Gd</td>\n      <td>TA</td>\n      <td>PConc</td>\n      <td>Gd</td>\n      <td>TA</td>\n      <td>Av</td>\n      <td>GLQ</td>\n      <td>655</td>\n      <td>Unf</td>\n      <td>0</td>\n      <td>490</td>\n      <td>1145</td>\n      <td>GasA</td>\n      <td>Ex</td>\n      <td>Y</td>\n      <td>SBrkr</td>\n      <td>1145</td>\n      <td>1053</td>\n      <td>0</td>\n      <td>2198</td>\n      <td>1</td>\n      <td>0</td>\n      <td>2</td>\n      <td>1</td>\n      <td>4</td>\n      <td>1</td>\n      <td>Gd</td>\n      <td>9</td>\n      <td>Typ</td>\n      <td>1</td>\n      <td>TA</td>\n      <td>Attchd</td>\n      <td>2000.0</td>\n      <td>RFn</td>\n      <td>3</td>\n      <td>836</td>\n      <td>TA</td>\n      <td>TA</td>\n      <td>Y</td>\n      <td>192</td>\n      <td>84</td>\n      <td>0</td>\n      <td>0</td>\n      <td>0</td>\n      <td>0</td>\n      <td>NaN</td>\n      <td>NaN</td>\n      <td>NaN</td>\n      <td>0</td>\n      <td>12</td>\n      <td>2008</td>\n      <td>WD</td>\n      <td>Normal</td>\n      <td>250000</td>\n    </tr>\n  </tbody>\n</table>\n</div>"
     },
     "execution_count": 452,
     "metadata": {},
     "output_type": "execute_result"
    }
   ],
   "source": [
    "house_data.head()"
   ],
   "id": "6cb5cff8c009dabb"
  },
  {
   "cell_type": "code",
   "execution_count": 453,
   "metadata": {
    "ExecuteTime": {
     "end_time": "2023-11-13T18:04:13.117660500Z",
     "start_time": "2023-11-13T18:04:12.373136Z"
    }
   },
   "outputs": [
    {
     "data": {
      "text/plain": "0       CollgCr\n1       Veenker\n2       CollgCr\n3       Crawfor\n4       NoRidge\n         ...   \n1455    Gilbert\n1456     NWAmes\n1457    Crawfor\n1458      NAmes\n1459    Edwards\nName: Neighborhood, Length: 1460, dtype: object"
     },
     "execution_count": 453,
     "metadata": {},
     "output_type": "execute_result"
    }
   ],
   "source": [
    "house_data['Neighborhood']"
   ],
   "id": "88d5214361fd8eca"
  },
  {
   "cell_type": "code",
   "execution_count": 454,
   "metadata": {
    "ExecuteTime": {
     "end_time": "2023-11-13T18:04:13.133285100Z",
     "start_time": "2023-11-13T18:04:12.377686700Z"
    }
   },
   "outputs": [
    {
     "data": {
      "text/plain": "     Neighborhood  YearBuilt GarageType\n0         CollgCr       2003     Attchd\n1         Veenker       1976     Attchd\n2         CollgCr       2001     Attchd\n3         Crawfor       1915     Detchd\n4         NoRidge       2000     Attchd\n...           ...        ...        ...\n1455      Gilbert       1999     Attchd\n1456       NWAmes       1978     Attchd\n1457      Crawfor       1941     Attchd\n1458        NAmes       1950     Attchd\n1459      Edwards       1965     Attchd\n\n[1460 rows x 3 columns]",
      "text/html": "<div>\n<style scoped>\n    .dataframe tbody tr th:only-of-type {\n        vertical-align: middle;\n    }\n\n    .dataframe tbody tr th {\n        vertical-align: top;\n    }\n\n    .dataframe thead th {\n        text-align: right;\n    }\n</style>\n<table border=\"1\" class=\"dataframe\">\n  <thead>\n    <tr style=\"text-align: right;\">\n      <th></th>\n      <th>Neighborhood</th>\n      <th>YearBuilt</th>\n      <th>GarageType</th>\n    </tr>\n  </thead>\n  <tbody>\n    <tr>\n      <th>0</th>\n      <td>CollgCr</td>\n      <td>2003</td>\n      <td>Attchd</td>\n    </tr>\n    <tr>\n      <th>1</th>\n      <td>Veenker</td>\n      <td>1976</td>\n      <td>Attchd</td>\n    </tr>\n    <tr>\n      <th>2</th>\n      <td>CollgCr</td>\n      <td>2001</td>\n      <td>Attchd</td>\n    </tr>\n    <tr>\n      <th>3</th>\n      <td>Crawfor</td>\n      <td>1915</td>\n      <td>Detchd</td>\n    </tr>\n    <tr>\n      <th>4</th>\n      <td>NoRidge</td>\n      <td>2000</td>\n      <td>Attchd</td>\n    </tr>\n    <tr>\n      <th>...</th>\n      <td>...</td>\n      <td>...</td>\n      <td>...</td>\n    </tr>\n    <tr>\n      <th>1455</th>\n      <td>Gilbert</td>\n      <td>1999</td>\n      <td>Attchd</td>\n    </tr>\n    <tr>\n      <th>1456</th>\n      <td>NWAmes</td>\n      <td>1978</td>\n      <td>Attchd</td>\n    </tr>\n    <tr>\n      <th>1457</th>\n      <td>Crawfor</td>\n      <td>1941</td>\n      <td>Attchd</td>\n    </tr>\n    <tr>\n      <th>1458</th>\n      <td>NAmes</td>\n      <td>1950</td>\n      <td>Attchd</td>\n    </tr>\n    <tr>\n      <th>1459</th>\n      <td>Edwards</td>\n      <td>1965</td>\n      <td>Attchd</td>\n    </tr>\n  </tbody>\n</table>\n<p>1460 rows × 3 columns</p>\n</div>"
     },
     "execution_count": 454,
     "metadata": {},
     "output_type": "execute_result"
    }
   ],
   "source": [
    "house_data[['Neighborhood', 'YearBuilt', 'GarageType']]"
   ],
   "id": "bb8d956396575c0b"
  },
  {
   "cell_type": "markdown",
   "metadata": {},
   "source": [
    "## Tipos de columnas\n",
    "Las columnas siempre tienen un \"tipo\" y va un poco mas alla de los basicos de Python. Podemos ver que tipos tenemos utilizando `dtypes`"
   ],
   "id": "2b4ea6716182c3e8"
  },
  {
   "cell_type": "code",
   "execution_count": 455,
   "metadata": {
    "ExecuteTime": {
     "end_time": "2023-11-13T18:04:13.133285100Z",
     "start_time": "2023-11-13T18:04:12.384216600Z"
    }
   },
   "outputs": [
    {
     "data": {
      "text/plain": "Id                 int64\nMSSubClass         int64\nMSZoning          object\nLotFrontage      float64\nLotArea            int64\n                  ...   \nMoSold             int64\nYrSold             int64\nSaleType          object\nSaleCondition     object\nSalePrice          int64\nLength: 81, dtype: object"
     },
     "execution_count": 455,
     "metadata": {},
     "output_type": "execute_result"
    }
   ],
   "source": [
    "house_data.dtypes"
   ],
   "id": "2a4aac27bb123a39"
  },
  {
   "cell_type": "markdown",
   "metadata": {},
   "source": [
    "Segun el tipo, diferentes operaciones hacen cosas distintas..."
   ],
   "id": "9f9d55eafa347b73"
  },
  {
   "cell_type": "code",
   "execution_count": 456,
   "metadata": {
    "ExecuteTime": {
     "end_time": "2023-11-13T18:04:13.169575600Z",
     "start_time": "2023-11-13T18:04:12.391547300Z"
    }
   },
   "outputs": [
    {
     "data": {
      "text/plain": "0        5\n1       31\n2        7\n3       91\n4        8\n        ..\n1455     8\n1456    32\n1457    69\n1458    60\n1459    43\nLength: 1460, dtype: int64"
     },
     "execution_count": 456,
     "metadata": {},
     "output_type": "execute_result"
    }
   ],
   "source": [
    "house_data.YrSold - house_data.YearBuilt"
   ],
   "id": "56406f098695f8f1"
  },
  {
   "cell_type": "code",
   "execution_count": 457,
   "metadata": {
    "ExecuteTime": {
     "end_time": "2023-11-13T18:04:13.176131500Z",
     "start_time": "2023-11-13T18:04:12.394908Z"
    }
   },
   "outputs": [
    {
     "data": {
      "text/plain": "0        WDNormal\n1        WDNormal\n2        WDNormal\n3       WDAbnorml\n4        WDNormal\n          ...    \n1455     WDNormal\n1456     WDNormal\n1457     WDNormal\n1458     WDNormal\n1459     WDNormal\nLength: 1460, dtype: object"
     },
     "execution_count": 457,
     "metadata": {},
     "output_type": "execute_result"
    }
   ],
   "source": [
    "house_data.SaleType + house_data.SaleCondition"
   ],
   "id": "b2b75838e5149854"
  },
  {
   "cell_type": "markdown",
   "metadata": {},
   "source": [
    "Un tipo importante mencionar es la fecha, declaramos una fecha asi:"
   ],
   "id": "376642348846b48e"
  },
  {
   "cell_type": "code",
   "execution_count": 458,
   "metadata": {
    "ExecuteTime": {
     "end_time": "2023-11-13T18:04:13.180835700Z",
     "start_time": "2023-11-13T18:04:12.398504300Z"
    }
   },
   "outputs": [
    {
     "data": {
      "text/plain": "Timestamp('2000-01-01 00:00:00')"
     },
     "execution_count": 458,
     "metadata": {},
     "output_type": "execute_result"
    }
   ],
   "source": [
    "pd.to_datetime('2000-01-01')"
   ],
   "id": "f391877b49279c9c"
  },
  {
   "cell_type": "code",
   "execution_count": 459,
   "metadata": {
    "ExecuteTime": {
     "end_time": "2023-11-13T18:04:13.180835700Z",
     "start_time": "2023-11-13T18:04:12.403969200Z"
    }
   },
   "outputs": [
    {
     "data": {
      "text/plain": "0    2000\ndtype: int32"
     },
     "execution_count": 459,
     "metadata": {},
     "output_type": "execute_result"
    }
   ],
   "source": [
    "pd.to_datetime(pd.Series('2000-01-01')).dt.year"
   ],
   "id": "b1126b999307c4ac"
  },
  {
   "cell_type": "markdown",
   "metadata": {},
   "source": [
    "## Seleccionando los datos\n",
    "Tenemos que poder seleccionar datos especificos. Hay 2 maneras comunes:\n",
    "\n",
    "* Seleccionar utilizando el index\n",
    "* Seleccionar utilizando una condicion / con un `bool`"
   ],
   "id": "3aee3560be579414"
  },
  {
   "cell_type": "code",
   "execution_count": 460,
   "metadata": {
    "ExecuteTime": {
     "end_time": "2023-11-13T18:04:13.215344400Z",
     "start_time": "2023-11-13T18:04:12.408650700Z"
    }
   },
   "outputs": [
    {
     "data": {
      "text/plain": "Id                    2\nMSSubClass           20\nMSZoning             RL\nLotFrontage        80.0\nLotArea            9600\n                  ...  \nMoSold                5\nYrSold             2007\nSaleType             WD\nSaleCondition    Normal\nSalePrice        181500\nName: 1, Length: 81, dtype: object"
     },
     "execution_count": 460,
     "metadata": {},
     "output_type": "execute_result"
    }
   ],
   "source": [
    "# Seleccionar con el index\n",
    "house_data.loc[1]"
   ],
   "id": "14bc6b687653f53e"
  },
  {
   "cell_type": "markdown",
   "metadata": {},
   "source": [
    "El otro caso comun es utilizar una condicion. Podemos comparar una columna contra un valor y nos devuelve algo que se llama una \"serie\" (como una lista o vector, pero especial de Pandas):"
   ],
   "id": "44a64664023d0719"
  },
  {
   "cell_type": "code",
   "execution_count": 461,
   "metadata": {
    "ExecuteTime": {
     "end_time": "2023-11-13T18:04:13.215344400Z",
     "start_time": "2023-11-13T18:04:12.415710200Z"
    }
   },
   "outputs": [
    {
     "data": {
      "text/plain": "0       False\n1       False\n2       False\n3       False\n4       False\n        ...  \n1455     True\n1456    False\n1457    False\n1458    False\n1459    False\nName: Neighborhood, Length: 1460, dtype: bool"
     },
     "execution_count": 461,
     "metadata": {},
     "output_type": "execute_result"
    }
   ],
   "source": [
    "house_data.Neighborhood == 'Gilbert'"
   ],
   "id": "e8ca3b4aea89579"
  },
  {
   "cell_type": "code",
   "execution_count": 462,
   "metadata": {
    "ExecuteTime": {
     "end_time": "2023-11-13T18:04:13.230093700Z",
     "start_time": "2023-11-13T18:04:12.421893500Z"
    }
   },
   "outputs": [
    {
     "data": {
      "text/plain": "0        True\n1       False\n2        True\n3       False\n4       False\n        ...  \n1455    False\n1456    False\n1457    False\n1458    False\n1459    False\nName: YearBuilt, Length: 1460, dtype: bool"
     },
     "execution_count": 462,
     "metadata": {},
     "output_type": "execute_result"
    }
   ],
   "source": [
    "house_data.YearBuilt > 2000"
   ],
   "id": "72d8f8cd9f495a7d"
  },
  {
   "cell_type": "markdown",
   "metadata": {},
   "source": [
    "Con esto, podemos simplemente seleccionar las filas donde la comparativa es `True`"
   ],
   "id": "bb4c4dcb47c7827a"
  },
  {
   "cell_type": "code",
   "execution_count": 463,
   "metadata": {
    "ExecuteTime": {
     "end_time": "2023-11-13T18:04:13.282708700Z",
     "start_time": "2023-11-13T18:04:12.426966800Z"
    }
   },
   "outputs": [
    {
     "data": {
      "text/plain": "        Id  MSSubClass MSZoning  LotFrontage  LotArea Street Alley LotShape  \\\n50      51          60       RL          NaN    13869   Pave   NaN      IR2   \n72      73          60       RL         74.0    10141   Pave   NaN      IR1   \n84      85          80       RL          NaN     8530   Pave   NaN      IR1   \n86      87          60       RL        122.0    11911   Pave   NaN      IR2   \n95      96          60       RL          NaN     9765   Pave   NaN      IR2   \n...    ...         ...      ...          ...      ...    ...   ...      ...   \n1388  1389          20       RL         42.0    14892   Pave   NaN      IR1   \n1401  1402          60       RL         62.0     7415   Pave   NaN      IR1   \n1430  1431          60       RL         60.0    21930   Pave   NaN      IR3   \n1433  1434          60       RL         93.0    10261   Pave   NaN      IR1   \n1455  1456          60       RL         62.0     7917   Pave   NaN      Reg   \n\n     LandContour Utilities LotConfig LandSlope Neighborhood Condition1  \\\n50           Lvl    AllPub    Corner       Gtl      Gilbert       Norm   \n72           Lvl    AllPub    Corner       Gtl      Gilbert       Norm   \n84           Lvl    AllPub    Inside       Gtl      Gilbert       Norm   \n86           Lvl    AllPub    Inside       Gtl      Gilbert       Norm   \n95           Lvl    AllPub    Corner       Gtl      Gilbert       Norm   \n...          ...       ...       ...       ...          ...        ...   \n1388         HLS    AllPub   CulDSac       Gtl      Gilbert       Norm   \n1401         Lvl    AllPub    Inside       Gtl      Gilbert       Norm   \n1430         Lvl    AllPub    Inside       Gtl      Gilbert       RRAn   \n1433         Lvl    AllPub    Inside       Gtl      Gilbert       Norm   \n1455         Lvl    AllPub    Inside       Gtl      Gilbert       Norm   \n\n     Condition2 BldgType HouseStyle  OverallQual  OverallCond  YearBuilt  \\\n50         Norm     1Fam     2Story            6            6       1997   \n72         Norm     1Fam     2Story            7            5       1998   \n84         Norm     1Fam       SLvl            7            5       1995   \n86         Norm     1Fam     2Story            6            5       2005   \n95         Norm     1Fam     2Story            6            8       1993   \n...         ...      ...        ...          ...          ...        ...   \n1388       Norm     1Fam     1Story            9            5       2006   \n1401       Norm     1Fam     2Story            6            5       2004   \n1430       Norm     1Fam     2Story            5            5       2005   \n1433       Norm     1Fam     2Story            6            5       2000   \n1455       Norm     1Fam     2Story            6            5       1999   \n\n      YearRemodAdd RoofStyle RoofMatl Exterior1st Exterior2nd MasVnrType  \\\n50            1997     Gable  CompShg     VinylSd     VinylSd        NaN   \n72            1998     Gable  CompShg     VinylSd     VinylSd    BrkFace   \n84            1996     Gable  CompShg     HdBoard     HdBoard    BrkFace   \n86            2005     Gable  CompShg     VinylSd     VinylSd        NaN   \n95            1993     Gable  CompShg     VinylSd     VinylSd    BrkFace   \n...            ...       ...      ...         ...         ...        ...   \n1388          2007     Gable  CompShg     VinylSd     VinylSd      Stone   \n1401          2004     Gable  CompShg     VinylSd     VinylSd        NaN   \n1430          2005     Gable  CompShg     VinylSd     VinylSd        NaN   \n1433          2000     Gable  CompShg     VinylSd     VinylSd    BrkFace   \n1455          2000     Gable  CompShg     VinylSd     VinylSd        NaN   \n\n      MasVnrArea ExterQual ExterCond Foundation BsmtQual BsmtCond  \\\n50           0.0        TA        TA      PConc       Gd       TA   \n72          40.0        TA        TA      PConc       Gd       TA   \n84          22.0        TA        TA      PConc       Gd       TA   \n86           0.0        Gd        TA      PConc       Gd       TA   \n95          68.0        Ex        Gd      PConc       Gd       Gd   \n...          ...       ...       ...        ...      ...      ...   \n1388       160.0        Ex        TA      PConc       Ex       TA   \n1401         0.0        TA        TA      PConc       TA       TA   \n1430         0.0        Gd        TA      PConc       Gd       Gd   \n1433       318.0        TA        TA      PConc       Gd       TA   \n1455         0.0        TA        TA      PConc       Gd       TA   \n\n     BsmtExposure BsmtFinType1  BsmtFinSF1 BsmtFinType2  BsmtFinSF2  \\\n50             Av          GLQ         182          Unf           0   \n72             No          Unf           0          Unf           0   \n84             No          Unf           0          Unf           0   \n86             Av          Unf           0          Unf           0   \n95             No          ALQ         310          Unf           0   \n...           ...          ...         ...          ...         ...   \n1388           Gd          GLQ        1320          Unf           0   \n1401           No          GLQ         759          Unf           0   \n1430           Av          Unf           0          Unf           0   \n1433           No          Unf           0          Unf           0   \n1455           No          Unf           0          Unf           0   \n\n      BsmtUnfSF  TotalBsmtSF Heating HeatingQC CentralAir Electrical  \\\n50          612          794    GasA        Gd          Y      SBrkr   \n72          832          832    GasA        Gd          Y      SBrkr   \n84          384          384    GasA        Gd          Y      SBrkr   \n86          684          684    GasA        Ex          Y      SBrkr   \n95          370          680    GasA        Gd          Y      SBrkr   \n...         ...          ...     ...       ...        ...        ...   \n1388        426         1746    GasA        Ex          Y      SBrkr   \n1401         80          839    GasA        Ex          Y      SBrkr   \n1430        732          732    GasA        Ex          Y      SBrkr   \n1433        936          936    GasA        Ex          Y      SBrkr   \n1455        953          953    GasA        Ex          Y      SBrkr   \n\n      1stFlrSF  2ndFlrSF  LowQualFinSF  GrLivArea  BsmtFullBath  BsmtHalfBath  \\\n50         794       676             0       1470             0             1   \n72         885       833             0       1718             0             0   \n84         804       670             0       1474             0             0   \n86         684       876             0       1560             0             0   \n95         680       790             0       1470             0             0   \n...        ...       ...           ...        ...           ...           ...   \n1388      1746         0             0       1746             1             0   \n1401       864       729             0       1593             1             0   \n1430       734      1104             0       1838             0             0   \n1433       962       830             0       1792             1             0   \n1455       953       694             0       1647             0             0   \n\n      FullBath  HalfBath  BedroomAbvGr  KitchenAbvGr KitchenQual  \\\n50           2         0             3             1          TA   \n72           2         1             3             1          TA   \n84           2         1             3             1          TA   \n86           2         1             3             1          Gd   \n95           2         1             3             1          TA   \n...        ...       ...           ...           ...         ...   \n1388         2         0             3             1          Ex   \n1401         2         1             3             1          TA   \n1430         2         1             4             1          TA   \n1433         2         1             3             1          TA   \n1455         2         1             3             1          TA   \n\n      TotRmsAbvGrd Functional  Fireplaces FireplaceQu GarageType  GarageYrBlt  \\\n50               6        Typ           0         NaN     Attchd       1997.0   \n72               7        Typ           1          TA     Attchd       1998.0   \n84               7        Typ           1          TA    BuiltIn       1995.0   \n86               6        Typ           1          Gd    BuiltIn       2005.0   \n95               6        Typ           1          TA    BuiltIn       1993.0   \n...            ...        ...         ...         ...        ...          ...   \n1388             7        Typ           2          Gd     Attchd       2006.0   \n1401             8        Typ           1          TA     Attchd       2004.0   \n1430             7        Typ           1          Gd    BuiltIn       2005.0   \n1433             8        Typ           1          TA     Attchd       2000.0   \n1455             7        Typ           1          TA     Attchd       1999.0   \n\n     GarageFinish  GarageCars  GarageArea GarageQual GarageCond PavedDrive  \\\n50            Fin           2         388         TA         TA          Y   \n72            Fin           2         427         TA         TA          Y   \n84            Fin           2         400         TA         TA          Y   \n86            Fin           2         400         TA         TA          Y   \n95            Fin           2         420         TA         TA          Y   \n...           ...         ...         ...        ...        ...        ...   \n1388          Fin           3         758         TA         TA          Y   \n1401          Fin           2         398         TA         TA          Y   \n1430          Fin           2         372         TA         TA          Y   \n1433          Fin           2         451         TA         TA          Y   \n1455          RFn           2         460         TA         TA          Y   \n\n      WoodDeckSF  OpenPorchSF  EnclosedPorch  3SsnPorch  ScreenPorch  \\\n50             0           75              0          0            0   \n72             0           94              0          0          291   \n84           120           72              0          0            0   \n86           100           38              0          0            0   \n95           232           63              0          0            0   \n...          ...          ...            ...        ...          ...   \n1388         201           39              0          0            0   \n1401         100           75              0          0            0   \n1430         100           40              0          0            0   \n1433           0            0              0          0            0   \n1455           0           40              0          0            0   \n\n      PoolArea PoolQC Fence MiscFeature  MiscVal  MoSold  YrSold SaleType  \\\n50           0    NaN   NaN         NaN        0       7    2007       WD   \n72           0    NaN   NaN         NaN        0      12    2009       WD   \n84           0    NaN   NaN        Shed      700       5    2009       WD   \n86           0    NaN   NaN         NaN        0       3    2009       WD   \n95           0    NaN   NaN        Shed      480       4    2009       WD   \n...        ...    ...   ...         ...      ...     ...     ...      ...   \n1388         0    NaN   NaN         NaN        0      10    2009       WD   \n1401         0    NaN   NaN         NaN        0       4    2008       WD   \n1430         0    NaN   NaN         NaN        0       7    2006       WD   \n1433         0    NaN   NaN         NaN        0       5    2008       WD   \n1455         0    NaN   NaN         NaN        0       8    2007       WD   \n\n     SaleCondition  SalePrice  \n50          Normal     177000  \n72          Normal     185000  \n84          Normal     168500  \n86          Normal     174000  \n95          Normal     185000  \n...            ...        ...  \n1388        Normal     377500  \n1401        Normal     193000  \n1430        Normal     192140  \n1433        Normal     186500  \n1455        Normal     175000  \n\n[79 rows x 81 columns]",
      "text/html": "<div>\n<style scoped>\n    .dataframe tbody tr th:only-of-type {\n        vertical-align: middle;\n    }\n\n    .dataframe tbody tr th {\n        vertical-align: top;\n    }\n\n    .dataframe thead th {\n        text-align: right;\n    }\n</style>\n<table border=\"1\" class=\"dataframe\">\n  <thead>\n    <tr style=\"text-align: right;\">\n      <th></th>\n      <th>Id</th>\n      <th>MSSubClass</th>\n      <th>MSZoning</th>\n      <th>LotFrontage</th>\n      <th>LotArea</th>\n      <th>Street</th>\n      <th>Alley</th>\n      <th>LotShape</th>\n      <th>LandContour</th>\n      <th>Utilities</th>\n      <th>LotConfig</th>\n      <th>LandSlope</th>\n      <th>Neighborhood</th>\n      <th>Condition1</th>\n      <th>Condition2</th>\n      <th>BldgType</th>\n      <th>HouseStyle</th>\n      <th>OverallQual</th>\n      <th>OverallCond</th>\n      <th>YearBuilt</th>\n      <th>YearRemodAdd</th>\n      <th>RoofStyle</th>\n      <th>RoofMatl</th>\n      <th>Exterior1st</th>\n      <th>Exterior2nd</th>\n      <th>MasVnrType</th>\n      <th>MasVnrArea</th>\n      <th>ExterQual</th>\n      <th>ExterCond</th>\n      <th>Foundation</th>\n      <th>BsmtQual</th>\n      <th>BsmtCond</th>\n      <th>BsmtExposure</th>\n      <th>BsmtFinType1</th>\n      <th>BsmtFinSF1</th>\n      <th>BsmtFinType2</th>\n      <th>BsmtFinSF2</th>\n      <th>BsmtUnfSF</th>\n      <th>TotalBsmtSF</th>\n      <th>Heating</th>\n      <th>HeatingQC</th>\n      <th>CentralAir</th>\n      <th>Electrical</th>\n      <th>1stFlrSF</th>\n      <th>2ndFlrSF</th>\n      <th>LowQualFinSF</th>\n      <th>GrLivArea</th>\n      <th>BsmtFullBath</th>\n      <th>BsmtHalfBath</th>\n      <th>FullBath</th>\n      <th>HalfBath</th>\n      <th>BedroomAbvGr</th>\n      <th>KitchenAbvGr</th>\n      <th>KitchenQual</th>\n      <th>TotRmsAbvGrd</th>\n      <th>Functional</th>\n      <th>Fireplaces</th>\n      <th>FireplaceQu</th>\n      <th>GarageType</th>\n      <th>GarageYrBlt</th>\n      <th>GarageFinish</th>\n      <th>GarageCars</th>\n      <th>GarageArea</th>\n      <th>GarageQual</th>\n      <th>GarageCond</th>\n      <th>PavedDrive</th>\n      <th>WoodDeckSF</th>\n      <th>OpenPorchSF</th>\n      <th>EnclosedPorch</th>\n      <th>3SsnPorch</th>\n      <th>ScreenPorch</th>\n      <th>PoolArea</th>\n      <th>PoolQC</th>\n      <th>Fence</th>\n      <th>MiscFeature</th>\n      <th>MiscVal</th>\n      <th>MoSold</th>\n      <th>YrSold</th>\n      <th>SaleType</th>\n      <th>SaleCondition</th>\n      <th>SalePrice</th>\n    </tr>\n  </thead>\n  <tbody>\n    <tr>\n      <th>50</th>\n      <td>51</td>\n      <td>60</td>\n      <td>RL</td>\n      <td>NaN</td>\n      <td>13869</td>\n      <td>Pave</td>\n      <td>NaN</td>\n      <td>IR2</td>\n      <td>Lvl</td>\n      <td>AllPub</td>\n      <td>Corner</td>\n      <td>Gtl</td>\n      <td>Gilbert</td>\n      <td>Norm</td>\n      <td>Norm</td>\n      <td>1Fam</td>\n      <td>2Story</td>\n      <td>6</td>\n      <td>6</td>\n      <td>1997</td>\n      <td>1997</td>\n      <td>Gable</td>\n      <td>CompShg</td>\n      <td>VinylSd</td>\n      <td>VinylSd</td>\n      <td>NaN</td>\n      <td>0.0</td>\n      <td>TA</td>\n      <td>TA</td>\n      <td>PConc</td>\n      <td>Gd</td>\n      <td>TA</td>\n      <td>Av</td>\n      <td>GLQ</td>\n      <td>182</td>\n      <td>Unf</td>\n      <td>0</td>\n      <td>612</td>\n      <td>794</td>\n      <td>GasA</td>\n      <td>Gd</td>\n      <td>Y</td>\n      <td>SBrkr</td>\n      <td>794</td>\n      <td>676</td>\n      <td>0</td>\n      <td>1470</td>\n      <td>0</td>\n      <td>1</td>\n      <td>2</td>\n      <td>0</td>\n      <td>3</td>\n      <td>1</td>\n      <td>TA</td>\n      <td>6</td>\n      <td>Typ</td>\n      <td>0</td>\n      <td>NaN</td>\n      <td>Attchd</td>\n      <td>1997.0</td>\n      <td>Fin</td>\n      <td>2</td>\n      <td>388</td>\n      <td>TA</td>\n      <td>TA</td>\n      <td>Y</td>\n      <td>0</td>\n      <td>75</td>\n      <td>0</td>\n      <td>0</td>\n      <td>0</td>\n      <td>0</td>\n      <td>NaN</td>\n      <td>NaN</td>\n      <td>NaN</td>\n      <td>0</td>\n      <td>7</td>\n      <td>2007</td>\n      <td>WD</td>\n      <td>Normal</td>\n      <td>177000</td>\n    </tr>\n    <tr>\n      <th>72</th>\n      <td>73</td>\n      <td>60</td>\n      <td>RL</td>\n      <td>74.0</td>\n      <td>10141</td>\n      <td>Pave</td>\n      <td>NaN</td>\n      <td>IR1</td>\n      <td>Lvl</td>\n      <td>AllPub</td>\n      <td>Corner</td>\n      <td>Gtl</td>\n      <td>Gilbert</td>\n      <td>Norm</td>\n      <td>Norm</td>\n      <td>1Fam</td>\n      <td>2Story</td>\n      <td>7</td>\n      <td>5</td>\n      <td>1998</td>\n      <td>1998</td>\n      <td>Gable</td>\n      <td>CompShg</td>\n      <td>VinylSd</td>\n      <td>VinylSd</td>\n      <td>BrkFace</td>\n      <td>40.0</td>\n      <td>TA</td>\n      <td>TA</td>\n      <td>PConc</td>\n      <td>Gd</td>\n      <td>TA</td>\n      <td>No</td>\n      <td>Unf</td>\n      <td>0</td>\n      <td>Unf</td>\n      <td>0</td>\n      <td>832</td>\n      <td>832</td>\n      <td>GasA</td>\n      <td>Gd</td>\n      <td>Y</td>\n      <td>SBrkr</td>\n      <td>885</td>\n      <td>833</td>\n      <td>0</td>\n      <td>1718</td>\n      <td>0</td>\n      <td>0</td>\n      <td>2</td>\n      <td>1</td>\n      <td>3</td>\n      <td>1</td>\n      <td>TA</td>\n      <td>7</td>\n      <td>Typ</td>\n      <td>1</td>\n      <td>TA</td>\n      <td>Attchd</td>\n      <td>1998.0</td>\n      <td>Fin</td>\n      <td>2</td>\n      <td>427</td>\n      <td>TA</td>\n      <td>TA</td>\n      <td>Y</td>\n      <td>0</td>\n      <td>94</td>\n      <td>0</td>\n      <td>0</td>\n      <td>291</td>\n      <td>0</td>\n      <td>NaN</td>\n      <td>NaN</td>\n      <td>NaN</td>\n      <td>0</td>\n      <td>12</td>\n      <td>2009</td>\n      <td>WD</td>\n      <td>Normal</td>\n      <td>185000</td>\n    </tr>\n    <tr>\n      <th>84</th>\n      <td>85</td>\n      <td>80</td>\n      <td>RL</td>\n      <td>NaN</td>\n      <td>8530</td>\n      <td>Pave</td>\n      <td>NaN</td>\n      <td>IR1</td>\n      <td>Lvl</td>\n      <td>AllPub</td>\n      <td>Inside</td>\n      <td>Gtl</td>\n      <td>Gilbert</td>\n      <td>Norm</td>\n      <td>Norm</td>\n      <td>1Fam</td>\n      <td>SLvl</td>\n      <td>7</td>\n      <td>5</td>\n      <td>1995</td>\n      <td>1996</td>\n      <td>Gable</td>\n      <td>CompShg</td>\n      <td>HdBoard</td>\n      <td>HdBoard</td>\n      <td>BrkFace</td>\n      <td>22.0</td>\n      <td>TA</td>\n      <td>TA</td>\n      <td>PConc</td>\n      <td>Gd</td>\n      <td>TA</td>\n      <td>No</td>\n      <td>Unf</td>\n      <td>0</td>\n      <td>Unf</td>\n      <td>0</td>\n      <td>384</td>\n      <td>384</td>\n      <td>GasA</td>\n      <td>Gd</td>\n      <td>Y</td>\n      <td>SBrkr</td>\n      <td>804</td>\n      <td>670</td>\n      <td>0</td>\n      <td>1474</td>\n      <td>0</td>\n      <td>0</td>\n      <td>2</td>\n      <td>1</td>\n      <td>3</td>\n      <td>1</td>\n      <td>TA</td>\n      <td>7</td>\n      <td>Typ</td>\n      <td>1</td>\n      <td>TA</td>\n      <td>BuiltIn</td>\n      <td>1995.0</td>\n      <td>Fin</td>\n      <td>2</td>\n      <td>400</td>\n      <td>TA</td>\n      <td>TA</td>\n      <td>Y</td>\n      <td>120</td>\n      <td>72</td>\n      <td>0</td>\n      <td>0</td>\n      <td>0</td>\n      <td>0</td>\n      <td>NaN</td>\n      <td>NaN</td>\n      <td>Shed</td>\n      <td>700</td>\n      <td>5</td>\n      <td>2009</td>\n      <td>WD</td>\n      <td>Normal</td>\n      <td>168500</td>\n    </tr>\n    <tr>\n      <th>86</th>\n      <td>87</td>\n      <td>60</td>\n      <td>RL</td>\n      <td>122.0</td>\n      <td>11911</td>\n      <td>Pave</td>\n      <td>NaN</td>\n      <td>IR2</td>\n      <td>Lvl</td>\n      <td>AllPub</td>\n      <td>Inside</td>\n      <td>Gtl</td>\n      <td>Gilbert</td>\n      <td>Norm</td>\n      <td>Norm</td>\n      <td>1Fam</td>\n      <td>2Story</td>\n      <td>6</td>\n      <td>5</td>\n      <td>2005</td>\n      <td>2005</td>\n      <td>Gable</td>\n      <td>CompShg</td>\n      <td>VinylSd</td>\n      <td>VinylSd</td>\n      <td>NaN</td>\n      <td>0.0</td>\n      <td>Gd</td>\n      <td>TA</td>\n      <td>PConc</td>\n      <td>Gd</td>\n      <td>TA</td>\n      <td>Av</td>\n      <td>Unf</td>\n      <td>0</td>\n      <td>Unf</td>\n      <td>0</td>\n      <td>684</td>\n      <td>684</td>\n      <td>GasA</td>\n      <td>Ex</td>\n      <td>Y</td>\n      <td>SBrkr</td>\n      <td>684</td>\n      <td>876</td>\n      <td>0</td>\n      <td>1560</td>\n      <td>0</td>\n      <td>0</td>\n      <td>2</td>\n      <td>1</td>\n      <td>3</td>\n      <td>1</td>\n      <td>Gd</td>\n      <td>6</td>\n      <td>Typ</td>\n      <td>1</td>\n      <td>Gd</td>\n      <td>BuiltIn</td>\n      <td>2005.0</td>\n      <td>Fin</td>\n      <td>2</td>\n      <td>400</td>\n      <td>TA</td>\n      <td>TA</td>\n      <td>Y</td>\n      <td>100</td>\n      <td>38</td>\n      <td>0</td>\n      <td>0</td>\n      <td>0</td>\n      <td>0</td>\n      <td>NaN</td>\n      <td>NaN</td>\n      <td>NaN</td>\n      <td>0</td>\n      <td>3</td>\n      <td>2009</td>\n      <td>WD</td>\n      <td>Normal</td>\n      <td>174000</td>\n    </tr>\n    <tr>\n      <th>95</th>\n      <td>96</td>\n      <td>60</td>\n      <td>RL</td>\n      <td>NaN</td>\n      <td>9765</td>\n      <td>Pave</td>\n      <td>NaN</td>\n      <td>IR2</td>\n      <td>Lvl</td>\n      <td>AllPub</td>\n      <td>Corner</td>\n      <td>Gtl</td>\n      <td>Gilbert</td>\n      <td>Norm</td>\n      <td>Norm</td>\n      <td>1Fam</td>\n      <td>2Story</td>\n      <td>6</td>\n      <td>8</td>\n      <td>1993</td>\n      <td>1993</td>\n      <td>Gable</td>\n      <td>CompShg</td>\n      <td>VinylSd</td>\n      <td>VinylSd</td>\n      <td>BrkFace</td>\n      <td>68.0</td>\n      <td>Ex</td>\n      <td>Gd</td>\n      <td>PConc</td>\n      <td>Gd</td>\n      <td>Gd</td>\n      <td>No</td>\n      <td>ALQ</td>\n      <td>310</td>\n      <td>Unf</td>\n      <td>0</td>\n      <td>370</td>\n      <td>680</td>\n      <td>GasA</td>\n      <td>Gd</td>\n      <td>Y</td>\n      <td>SBrkr</td>\n      <td>680</td>\n      <td>790</td>\n      <td>0</td>\n      <td>1470</td>\n      <td>0</td>\n      <td>0</td>\n      <td>2</td>\n      <td>1</td>\n      <td>3</td>\n      <td>1</td>\n      <td>TA</td>\n      <td>6</td>\n      <td>Typ</td>\n      <td>1</td>\n      <td>TA</td>\n      <td>BuiltIn</td>\n      <td>1993.0</td>\n      <td>Fin</td>\n      <td>2</td>\n      <td>420</td>\n      <td>TA</td>\n      <td>TA</td>\n      <td>Y</td>\n      <td>232</td>\n      <td>63</td>\n      <td>0</td>\n      <td>0</td>\n      <td>0</td>\n      <td>0</td>\n      <td>NaN</td>\n      <td>NaN</td>\n      <td>Shed</td>\n      <td>480</td>\n      <td>4</td>\n      <td>2009</td>\n      <td>WD</td>\n      <td>Normal</td>\n      <td>185000</td>\n    </tr>\n    <tr>\n      <th>...</th>\n      <td>...</td>\n      <td>...</td>\n      <td>...</td>\n      <td>...</td>\n      <td>...</td>\n      <td>...</td>\n      <td>...</td>\n      <td>...</td>\n      <td>...</td>\n      <td>...</td>\n      <td>...</td>\n      <td>...</td>\n      <td>...</td>\n      <td>...</td>\n      <td>...</td>\n      <td>...</td>\n      <td>...</td>\n      <td>...</td>\n      <td>...</td>\n      <td>...</td>\n      <td>...</td>\n      <td>...</td>\n      <td>...</td>\n      <td>...</td>\n      <td>...</td>\n      <td>...</td>\n      <td>...</td>\n      <td>...</td>\n      <td>...</td>\n      <td>...</td>\n      <td>...</td>\n      <td>...</td>\n      <td>...</td>\n      <td>...</td>\n      <td>...</td>\n      <td>...</td>\n      <td>...</td>\n      <td>...</td>\n      <td>...</td>\n      <td>...</td>\n      <td>...</td>\n      <td>...</td>\n      <td>...</td>\n      <td>...</td>\n      <td>...</td>\n      <td>...</td>\n      <td>...</td>\n      <td>...</td>\n      <td>...</td>\n      <td>...</td>\n      <td>...</td>\n      <td>...</td>\n      <td>...</td>\n      <td>...</td>\n      <td>...</td>\n      <td>...</td>\n      <td>...</td>\n      <td>...</td>\n      <td>...</td>\n      <td>...</td>\n      <td>...</td>\n      <td>...</td>\n      <td>...</td>\n      <td>...</td>\n      <td>...</td>\n      <td>...</td>\n      <td>...</td>\n      <td>...</td>\n      <td>...</td>\n      <td>...</td>\n      <td>...</td>\n      <td>...</td>\n      <td>...</td>\n      <td>...</td>\n      <td>...</td>\n      <td>...</td>\n      <td>...</td>\n      <td>...</td>\n      <td>...</td>\n      <td>...</td>\n      <td>...</td>\n    </tr>\n    <tr>\n      <th>1388</th>\n      <td>1389</td>\n      <td>20</td>\n      <td>RL</td>\n      <td>42.0</td>\n      <td>14892</td>\n      <td>Pave</td>\n      <td>NaN</td>\n      <td>IR1</td>\n      <td>HLS</td>\n      <td>AllPub</td>\n      <td>CulDSac</td>\n      <td>Gtl</td>\n      <td>Gilbert</td>\n      <td>Norm</td>\n      <td>Norm</td>\n      <td>1Fam</td>\n      <td>1Story</td>\n      <td>9</td>\n      <td>5</td>\n      <td>2006</td>\n      <td>2007</td>\n      <td>Gable</td>\n      <td>CompShg</td>\n      <td>VinylSd</td>\n      <td>VinylSd</td>\n      <td>Stone</td>\n      <td>160.0</td>\n      <td>Ex</td>\n      <td>TA</td>\n      <td>PConc</td>\n      <td>Ex</td>\n      <td>TA</td>\n      <td>Gd</td>\n      <td>GLQ</td>\n      <td>1320</td>\n      <td>Unf</td>\n      <td>0</td>\n      <td>426</td>\n      <td>1746</td>\n      <td>GasA</td>\n      <td>Ex</td>\n      <td>Y</td>\n      <td>SBrkr</td>\n      <td>1746</td>\n      <td>0</td>\n      <td>0</td>\n      <td>1746</td>\n      <td>1</td>\n      <td>0</td>\n      <td>2</td>\n      <td>0</td>\n      <td>3</td>\n      <td>1</td>\n      <td>Ex</td>\n      <td>7</td>\n      <td>Typ</td>\n      <td>2</td>\n      <td>Gd</td>\n      <td>Attchd</td>\n      <td>2006.0</td>\n      <td>Fin</td>\n      <td>3</td>\n      <td>758</td>\n      <td>TA</td>\n      <td>TA</td>\n      <td>Y</td>\n      <td>201</td>\n      <td>39</td>\n      <td>0</td>\n      <td>0</td>\n      <td>0</td>\n      <td>0</td>\n      <td>NaN</td>\n      <td>NaN</td>\n      <td>NaN</td>\n      <td>0</td>\n      <td>10</td>\n      <td>2009</td>\n      <td>WD</td>\n      <td>Normal</td>\n      <td>377500</td>\n    </tr>\n    <tr>\n      <th>1401</th>\n      <td>1402</td>\n      <td>60</td>\n      <td>RL</td>\n      <td>62.0</td>\n      <td>7415</td>\n      <td>Pave</td>\n      <td>NaN</td>\n      <td>IR1</td>\n      <td>Lvl</td>\n      <td>AllPub</td>\n      <td>Inside</td>\n      <td>Gtl</td>\n      <td>Gilbert</td>\n      <td>Norm</td>\n      <td>Norm</td>\n      <td>1Fam</td>\n      <td>2Story</td>\n      <td>6</td>\n      <td>5</td>\n      <td>2004</td>\n      <td>2004</td>\n      <td>Gable</td>\n      <td>CompShg</td>\n      <td>VinylSd</td>\n      <td>VinylSd</td>\n      <td>NaN</td>\n      <td>0.0</td>\n      <td>TA</td>\n      <td>TA</td>\n      <td>PConc</td>\n      <td>TA</td>\n      <td>TA</td>\n      <td>No</td>\n      <td>GLQ</td>\n      <td>759</td>\n      <td>Unf</td>\n      <td>0</td>\n      <td>80</td>\n      <td>839</td>\n      <td>GasA</td>\n      <td>Ex</td>\n      <td>Y</td>\n      <td>SBrkr</td>\n      <td>864</td>\n      <td>729</td>\n      <td>0</td>\n      <td>1593</td>\n      <td>1</td>\n      <td>0</td>\n      <td>2</td>\n      <td>1</td>\n      <td>3</td>\n      <td>1</td>\n      <td>TA</td>\n      <td>8</td>\n      <td>Typ</td>\n      <td>1</td>\n      <td>TA</td>\n      <td>Attchd</td>\n      <td>2004.0</td>\n      <td>Fin</td>\n      <td>2</td>\n      <td>398</td>\n      <td>TA</td>\n      <td>TA</td>\n      <td>Y</td>\n      <td>100</td>\n      <td>75</td>\n      <td>0</td>\n      <td>0</td>\n      <td>0</td>\n      <td>0</td>\n      <td>NaN</td>\n      <td>NaN</td>\n      <td>NaN</td>\n      <td>0</td>\n      <td>4</td>\n      <td>2008</td>\n      <td>WD</td>\n      <td>Normal</td>\n      <td>193000</td>\n    </tr>\n    <tr>\n      <th>1430</th>\n      <td>1431</td>\n      <td>60</td>\n      <td>RL</td>\n      <td>60.0</td>\n      <td>21930</td>\n      <td>Pave</td>\n      <td>NaN</td>\n      <td>IR3</td>\n      <td>Lvl</td>\n      <td>AllPub</td>\n      <td>Inside</td>\n      <td>Gtl</td>\n      <td>Gilbert</td>\n      <td>RRAn</td>\n      <td>Norm</td>\n      <td>1Fam</td>\n      <td>2Story</td>\n      <td>5</td>\n      <td>5</td>\n      <td>2005</td>\n      <td>2005</td>\n      <td>Gable</td>\n      <td>CompShg</td>\n      <td>VinylSd</td>\n      <td>VinylSd</td>\n      <td>NaN</td>\n      <td>0.0</td>\n      <td>Gd</td>\n      <td>TA</td>\n      <td>PConc</td>\n      <td>Gd</td>\n      <td>Gd</td>\n      <td>Av</td>\n      <td>Unf</td>\n      <td>0</td>\n      <td>Unf</td>\n      <td>0</td>\n      <td>732</td>\n      <td>732</td>\n      <td>GasA</td>\n      <td>Ex</td>\n      <td>Y</td>\n      <td>SBrkr</td>\n      <td>734</td>\n      <td>1104</td>\n      <td>0</td>\n      <td>1838</td>\n      <td>0</td>\n      <td>0</td>\n      <td>2</td>\n      <td>1</td>\n      <td>4</td>\n      <td>1</td>\n      <td>TA</td>\n      <td>7</td>\n      <td>Typ</td>\n      <td>1</td>\n      <td>Gd</td>\n      <td>BuiltIn</td>\n      <td>2005.0</td>\n      <td>Fin</td>\n      <td>2</td>\n      <td>372</td>\n      <td>TA</td>\n      <td>TA</td>\n      <td>Y</td>\n      <td>100</td>\n      <td>40</td>\n      <td>0</td>\n      <td>0</td>\n      <td>0</td>\n      <td>0</td>\n      <td>NaN</td>\n      <td>NaN</td>\n      <td>NaN</td>\n      <td>0</td>\n      <td>7</td>\n      <td>2006</td>\n      <td>WD</td>\n      <td>Normal</td>\n      <td>192140</td>\n    </tr>\n    <tr>\n      <th>1433</th>\n      <td>1434</td>\n      <td>60</td>\n      <td>RL</td>\n      <td>93.0</td>\n      <td>10261</td>\n      <td>Pave</td>\n      <td>NaN</td>\n      <td>IR1</td>\n      <td>Lvl</td>\n      <td>AllPub</td>\n      <td>Inside</td>\n      <td>Gtl</td>\n      <td>Gilbert</td>\n      <td>Norm</td>\n      <td>Norm</td>\n      <td>1Fam</td>\n      <td>2Story</td>\n      <td>6</td>\n      <td>5</td>\n      <td>2000</td>\n      <td>2000</td>\n      <td>Gable</td>\n      <td>CompShg</td>\n      <td>VinylSd</td>\n      <td>VinylSd</td>\n      <td>BrkFace</td>\n      <td>318.0</td>\n      <td>TA</td>\n      <td>TA</td>\n      <td>PConc</td>\n      <td>Gd</td>\n      <td>TA</td>\n      <td>No</td>\n      <td>Unf</td>\n      <td>0</td>\n      <td>Unf</td>\n      <td>0</td>\n      <td>936</td>\n      <td>936</td>\n      <td>GasA</td>\n      <td>Ex</td>\n      <td>Y</td>\n      <td>SBrkr</td>\n      <td>962</td>\n      <td>830</td>\n      <td>0</td>\n      <td>1792</td>\n      <td>1</td>\n      <td>0</td>\n      <td>2</td>\n      <td>1</td>\n      <td>3</td>\n      <td>1</td>\n      <td>TA</td>\n      <td>8</td>\n      <td>Typ</td>\n      <td>1</td>\n      <td>TA</td>\n      <td>Attchd</td>\n      <td>2000.0</td>\n      <td>Fin</td>\n      <td>2</td>\n      <td>451</td>\n      <td>TA</td>\n      <td>TA</td>\n      <td>Y</td>\n      <td>0</td>\n      <td>0</td>\n      <td>0</td>\n      <td>0</td>\n      <td>0</td>\n      <td>0</td>\n      <td>NaN</td>\n      <td>NaN</td>\n      <td>NaN</td>\n      <td>0</td>\n      <td>5</td>\n      <td>2008</td>\n      <td>WD</td>\n      <td>Normal</td>\n      <td>186500</td>\n    </tr>\n    <tr>\n      <th>1455</th>\n      <td>1456</td>\n      <td>60</td>\n      <td>RL</td>\n      <td>62.0</td>\n      <td>7917</td>\n      <td>Pave</td>\n      <td>NaN</td>\n      <td>Reg</td>\n      <td>Lvl</td>\n      <td>AllPub</td>\n      <td>Inside</td>\n      <td>Gtl</td>\n      <td>Gilbert</td>\n      <td>Norm</td>\n      <td>Norm</td>\n      <td>1Fam</td>\n      <td>2Story</td>\n      <td>6</td>\n      <td>5</td>\n      <td>1999</td>\n      <td>2000</td>\n      <td>Gable</td>\n      <td>CompShg</td>\n      <td>VinylSd</td>\n      <td>VinylSd</td>\n      <td>NaN</td>\n      <td>0.0</td>\n      <td>TA</td>\n      <td>TA</td>\n      <td>PConc</td>\n      <td>Gd</td>\n      <td>TA</td>\n      <td>No</td>\n      <td>Unf</td>\n      <td>0</td>\n      <td>Unf</td>\n      <td>0</td>\n      <td>953</td>\n      <td>953</td>\n      <td>GasA</td>\n      <td>Ex</td>\n      <td>Y</td>\n      <td>SBrkr</td>\n      <td>953</td>\n      <td>694</td>\n      <td>0</td>\n      <td>1647</td>\n      <td>0</td>\n      <td>0</td>\n      <td>2</td>\n      <td>1</td>\n      <td>3</td>\n      <td>1</td>\n      <td>TA</td>\n      <td>7</td>\n      <td>Typ</td>\n      <td>1</td>\n      <td>TA</td>\n      <td>Attchd</td>\n      <td>1999.0</td>\n      <td>RFn</td>\n      <td>2</td>\n      <td>460</td>\n      <td>TA</td>\n      <td>TA</td>\n      <td>Y</td>\n      <td>0</td>\n      <td>40</td>\n      <td>0</td>\n      <td>0</td>\n      <td>0</td>\n      <td>0</td>\n      <td>NaN</td>\n      <td>NaN</td>\n      <td>NaN</td>\n      <td>0</td>\n      <td>8</td>\n      <td>2007</td>\n      <td>WD</td>\n      <td>Normal</td>\n      <td>175000</td>\n    </tr>\n  </tbody>\n</table>\n<p>79 rows × 81 columns</p>\n</div>"
     },
     "execution_count": 463,
     "metadata": {},
     "output_type": "execute_result"
    }
   ],
   "source": [
    "house_data[house_data.Neighborhood == 'Gilbert']"
   ],
   "id": "d075c69827209923"
  },
  {
   "cell_type": "code",
   "execution_count": 464,
   "metadata": {
    "ExecuteTime": {
     "end_time": "2023-11-13T18:04:13.307615400Z",
     "start_time": "2023-11-13T18:04:12.456434900Z"
    }
   },
   "outputs": [
    {
     "data": {
      "text/plain": "        Id  MSSubClass MSZoning  LotFrontage  LotArea Street Alley LotShape  \\\n50      51          60       RL          NaN    13869   Pave   NaN      IR2   \n72      73          60       RL         74.0    10141   Pave   NaN      IR1   \n84      85          80       RL          NaN     8530   Pave   NaN      IR1   \n86      87          60       RL        122.0    11911   Pave   NaN      IR2   \n95      96          60       RL          NaN     9765   Pave   NaN      IR2   \n...    ...         ...      ...          ...      ...    ...   ...      ...   \n1388  1389          20       RL         42.0    14892   Pave   NaN      IR1   \n1401  1402          60       RL         62.0     7415   Pave   NaN      IR1   \n1430  1431          60       RL         60.0    21930   Pave   NaN      IR3   \n1433  1434          60       RL         93.0    10261   Pave   NaN      IR1   \n1455  1456          60       RL         62.0     7917   Pave   NaN      Reg   \n\n     LandContour Utilities LotConfig LandSlope Neighborhood Condition1  \\\n50           Lvl    AllPub    Corner       Gtl      Gilbert       Norm   \n72           Lvl    AllPub    Corner       Gtl      Gilbert       Norm   \n84           Lvl    AllPub    Inside       Gtl      Gilbert       Norm   \n86           Lvl    AllPub    Inside       Gtl      Gilbert       Norm   \n95           Lvl    AllPub    Corner       Gtl      Gilbert       Norm   \n...          ...       ...       ...       ...          ...        ...   \n1388         HLS    AllPub   CulDSac       Gtl      Gilbert       Norm   \n1401         Lvl    AllPub    Inside       Gtl      Gilbert       Norm   \n1430         Lvl    AllPub    Inside       Gtl      Gilbert       RRAn   \n1433         Lvl    AllPub    Inside       Gtl      Gilbert       Norm   \n1455         Lvl    AllPub    Inside       Gtl      Gilbert       Norm   \n\n     Condition2 BldgType HouseStyle  OverallQual  OverallCond  YearBuilt  \\\n50         Norm     1Fam     2Story            6            6       1997   \n72         Norm     1Fam     2Story            7            5       1998   \n84         Norm     1Fam       SLvl            7            5       1995   \n86         Norm     1Fam     2Story            6            5       2005   \n95         Norm     1Fam     2Story            6            8       1993   \n...         ...      ...        ...          ...          ...        ...   \n1388       Norm     1Fam     1Story            9            5       2006   \n1401       Norm     1Fam     2Story            6            5       2004   \n1430       Norm     1Fam     2Story            5            5       2005   \n1433       Norm     1Fam     2Story            6            5       2000   \n1455       Norm     1Fam     2Story            6            5       1999   \n\n      YearRemodAdd RoofStyle RoofMatl Exterior1st Exterior2nd MasVnrType  \\\n50            1997     Gable  CompShg     VinylSd     VinylSd        NaN   \n72            1998     Gable  CompShg     VinylSd     VinylSd    BrkFace   \n84            1996     Gable  CompShg     HdBoard     HdBoard    BrkFace   \n86            2005     Gable  CompShg     VinylSd     VinylSd        NaN   \n95            1993     Gable  CompShg     VinylSd     VinylSd    BrkFace   \n...            ...       ...      ...         ...         ...        ...   \n1388          2007     Gable  CompShg     VinylSd     VinylSd      Stone   \n1401          2004     Gable  CompShg     VinylSd     VinylSd        NaN   \n1430          2005     Gable  CompShg     VinylSd     VinylSd        NaN   \n1433          2000     Gable  CompShg     VinylSd     VinylSd    BrkFace   \n1455          2000     Gable  CompShg     VinylSd     VinylSd        NaN   \n\n      MasVnrArea ExterQual ExterCond Foundation BsmtQual BsmtCond  \\\n50           0.0        TA        TA      PConc       Gd       TA   \n72          40.0        TA        TA      PConc       Gd       TA   \n84          22.0        TA        TA      PConc       Gd       TA   \n86           0.0        Gd        TA      PConc       Gd       TA   \n95          68.0        Ex        Gd      PConc       Gd       Gd   \n...          ...       ...       ...        ...      ...      ...   \n1388       160.0        Ex        TA      PConc       Ex       TA   \n1401         0.0        TA        TA      PConc       TA       TA   \n1430         0.0        Gd        TA      PConc       Gd       Gd   \n1433       318.0        TA        TA      PConc       Gd       TA   \n1455         0.0        TA        TA      PConc       Gd       TA   \n\n     BsmtExposure BsmtFinType1  BsmtFinSF1 BsmtFinType2  BsmtFinSF2  \\\n50             Av          GLQ         182          Unf           0   \n72             No          Unf           0          Unf           0   \n84             No          Unf           0          Unf           0   \n86             Av          Unf           0          Unf           0   \n95             No          ALQ         310          Unf           0   \n...           ...          ...         ...          ...         ...   \n1388           Gd          GLQ        1320          Unf           0   \n1401           No          GLQ         759          Unf           0   \n1430           Av          Unf           0          Unf           0   \n1433           No          Unf           0          Unf           0   \n1455           No          Unf           0          Unf           0   \n\n      BsmtUnfSF  TotalBsmtSF Heating HeatingQC CentralAir Electrical  \\\n50          612          794    GasA        Gd          Y      SBrkr   \n72          832          832    GasA        Gd          Y      SBrkr   \n84          384          384    GasA        Gd          Y      SBrkr   \n86          684          684    GasA        Ex          Y      SBrkr   \n95          370          680    GasA        Gd          Y      SBrkr   \n...         ...          ...     ...       ...        ...        ...   \n1388        426         1746    GasA        Ex          Y      SBrkr   \n1401         80          839    GasA        Ex          Y      SBrkr   \n1430        732          732    GasA        Ex          Y      SBrkr   \n1433        936          936    GasA        Ex          Y      SBrkr   \n1455        953          953    GasA        Ex          Y      SBrkr   \n\n      1stFlrSF  2ndFlrSF  LowQualFinSF  GrLivArea  BsmtFullBath  BsmtHalfBath  \\\n50         794       676             0       1470             0             1   \n72         885       833             0       1718             0             0   \n84         804       670             0       1474             0             0   \n86         684       876             0       1560             0             0   \n95         680       790             0       1470             0             0   \n...        ...       ...           ...        ...           ...           ...   \n1388      1746         0             0       1746             1             0   \n1401       864       729             0       1593             1             0   \n1430       734      1104             0       1838             0             0   \n1433       962       830             0       1792             1             0   \n1455       953       694             0       1647             0             0   \n\n      FullBath  HalfBath  BedroomAbvGr  KitchenAbvGr KitchenQual  \\\n50           2         0             3             1          TA   \n72           2         1             3             1          TA   \n84           2         1             3             1          TA   \n86           2         1             3             1          Gd   \n95           2         1             3             1          TA   \n...        ...       ...           ...           ...         ...   \n1388         2         0             3             1          Ex   \n1401         2         1             3             1          TA   \n1430         2         1             4             1          TA   \n1433         2         1             3             1          TA   \n1455         2         1             3             1          TA   \n\n      TotRmsAbvGrd Functional  Fireplaces FireplaceQu GarageType  GarageYrBlt  \\\n50               6        Typ           0         NaN     Attchd       1997.0   \n72               7        Typ           1          TA     Attchd       1998.0   \n84               7        Typ           1          TA    BuiltIn       1995.0   \n86               6        Typ           1          Gd    BuiltIn       2005.0   \n95               6        Typ           1          TA    BuiltIn       1993.0   \n...            ...        ...         ...         ...        ...          ...   \n1388             7        Typ           2          Gd     Attchd       2006.0   \n1401             8        Typ           1          TA     Attchd       2004.0   \n1430             7        Typ           1          Gd    BuiltIn       2005.0   \n1433             8        Typ           1          TA     Attchd       2000.0   \n1455             7        Typ           1          TA     Attchd       1999.0   \n\n     GarageFinish  GarageCars  GarageArea GarageQual GarageCond PavedDrive  \\\n50            Fin           2         388         TA         TA          Y   \n72            Fin           2         427         TA         TA          Y   \n84            Fin           2         400         TA         TA          Y   \n86            Fin           2         400         TA         TA          Y   \n95            Fin           2         420         TA         TA          Y   \n...           ...         ...         ...        ...        ...        ...   \n1388          Fin           3         758         TA         TA          Y   \n1401          Fin           2         398         TA         TA          Y   \n1430          Fin           2         372         TA         TA          Y   \n1433          Fin           2         451         TA         TA          Y   \n1455          RFn           2         460         TA         TA          Y   \n\n      WoodDeckSF  OpenPorchSF  EnclosedPorch  3SsnPorch  ScreenPorch  \\\n50             0           75              0          0            0   \n72             0           94              0          0          291   \n84           120           72              0          0            0   \n86           100           38              0          0            0   \n95           232           63              0          0            0   \n...          ...          ...            ...        ...          ...   \n1388         201           39              0          0            0   \n1401         100           75              0          0            0   \n1430         100           40              0          0            0   \n1433           0            0              0          0            0   \n1455           0           40              0          0            0   \n\n      PoolArea PoolQC Fence MiscFeature  MiscVal  MoSold  YrSold SaleType  \\\n50           0    NaN   NaN         NaN        0       7    2007       WD   \n72           0    NaN   NaN         NaN        0      12    2009       WD   \n84           0    NaN   NaN        Shed      700       5    2009       WD   \n86           0    NaN   NaN         NaN        0       3    2009       WD   \n95           0    NaN   NaN        Shed      480       4    2009       WD   \n...        ...    ...   ...         ...      ...     ...     ...      ...   \n1388         0    NaN   NaN         NaN        0      10    2009       WD   \n1401         0    NaN   NaN         NaN        0       4    2008       WD   \n1430         0    NaN   NaN         NaN        0       7    2006       WD   \n1433         0    NaN   NaN         NaN        0       5    2008       WD   \n1455         0    NaN   NaN         NaN        0       8    2007       WD   \n\n     SaleCondition  SalePrice  \n50          Normal     177000  \n72          Normal     185000  \n84          Normal     168500  \n86          Normal     174000  \n95          Normal     185000  \n...            ...        ...  \n1388        Normal     377500  \n1401        Normal     193000  \n1430        Normal     192140  \n1433        Normal     186500  \n1455        Normal     175000  \n\n[79 rows x 81 columns]",
      "text/html": "<div>\n<style scoped>\n    .dataframe tbody tr th:only-of-type {\n        vertical-align: middle;\n    }\n\n    .dataframe tbody tr th {\n        vertical-align: top;\n    }\n\n    .dataframe thead th {\n        text-align: right;\n    }\n</style>\n<table border=\"1\" class=\"dataframe\">\n  <thead>\n    <tr style=\"text-align: right;\">\n      <th></th>\n      <th>Id</th>\n      <th>MSSubClass</th>\n      <th>MSZoning</th>\n      <th>LotFrontage</th>\n      <th>LotArea</th>\n      <th>Street</th>\n      <th>Alley</th>\n      <th>LotShape</th>\n      <th>LandContour</th>\n      <th>Utilities</th>\n      <th>LotConfig</th>\n      <th>LandSlope</th>\n      <th>Neighborhood</th>\n      <th>Condition1</th>\n      <th>Condition2</th>\n      <th>BldgType</th>\n      <th>HouseStyle</th>\n      <th>OverallQual</th>\n      <th>OverallCond</th>\n      <th>YearBuilt</th>\n      <th>YearRemodAdd</th>\n      <th>RoofStyle</th>\n      <th>RoofMatl</th>\n      <th>Exterior1st</th>\n      <th>Exterior2nd</th>\n      <th>MasVnrType</th>\n      <th>MasVnrArea</th>\n      <th>ExterQual</th>\n      <th>ExterCond</th>\n      <th>Foundation</th>\n      <th>BsmtQual</th>\n      <th>BsmtCond</th>\n      <th>BsmtExposure</th>\n      <th>BsmtFinType1</th>\n      <th>BsmtFinSF1</th>\n      <th>BsmtFinType2</th>\n      <th>BsmtFinSF2</th>\n      <th>BsmtUnfSF</th>\n      <th>TotalBsmtSF</th>\n      <th>Heating</th>\n      <th>HeatingQC</th>\n      <th>CentralAir</th>\n      <th>Electrical</th>\n      <th>1stFlrSF</th>\n      <th>2ndFlrSF</th>\n      <th>LowQualFinSF</th>\n      <th>GrLivArea</th>\n      <th>BsmtFullBath</th>\n      <th>BsmtHalfBath</th>\n      <th>FullBath</th>\n      <th>HalfBath</th>\n      <th>BedroomAbvGr</th>\n      <th>KitchenAbvGr</th>\n      <th>KitchenQual</th>\n      <th>TotRmsAbvGrd</th>\n      <th>Functional</th>\n      <th>Fireplaces</th>\n      <th>FireplaceQu</th>\n      <th>GarageType</th>\n      <th>GarageYrBlt</th>\n      <th>GarageFinish</th>\n      <th>GarageCars</th>\n      <th>GarageArea</th>\n      <th>GarageQual</th>\n      <th>GarageCond</th>\n      <th>PavedDrive</th>\n      <th>WoodDeckSF</th>\n      <th>OpenPorchSF</th>\n      <th>EnclosedPorch</th>\n      <th>3SsnPorch</th>\n      <th>ScreenPorch</th>\n      <th>PoolArea</th>\n      <th>PoolQC</th>\n      <th>Fence</th>\n      <th>MiscFeature</th>\n      <th>MiscVal</th>\n      <th>MoSold</th>\n      <th>YrSold</th>\n      <th>SaleType</th>\n      <th>SaleCondition</th>\n      <th>SalePrice</th>\n    </tr>\n  </thead>\n  <tbody>\n    <tr>\n      <th>50</th>\n      <td>51</td>\n      <td>60</td>\n      <td>RL</td>\n      <td>NaN</td>\n      <td>13869</td>\n      <td>Pave</td>\n      <td>NaN</td>\n      <td>IR2</td>\n      <td>Lvl</td>\n      <td>AllPub</td>\n      <td>Corner</td>\n      <td>Gtl</td>\n      <td>Gilbert</td>\n      <td>Norm</td>\n      <td>Norm</td>\n      <td>1Fam</td>\n      <td>2Story</td>\n      <td>6</td>\n      <td>6</td>\n      <td>1997</td>\n      <td>1997</td>\n      <td>Gable</td>\n      <td>CompShg</td>\n      <td>VinylSd</td>\n      <td>VinylSd</td>\n      <td>NaN</td>\n      <td>0.0</td>\n      <td>TA</td>\n      <td>TA</td>\n      <td>PConc</td>\n      <td>Gd</td>\n      <td>TA</td>\n      <td>Av</td>\n      <td>GLQ</td>\n      <td>182</td>\n      <td>Unf</td>\n      <td>0</td>\n      <td>612</td>\n      <td>794</td>\n      <td>GasA</td>\n      <td>Gd</td>\n      <td>Y</td>\n      <td>SBrkr</td>\n      <td>794</td>\n      <td>676</td>\n      <td>0</td>\n      <td>1470</td>\n      <td>0</td>\n      <td>1</td>\n      <td>2</td>\n      <td>0</td>\n      <td>3</td>\n      <td>1</td>\n      <td>TA</td>\n      <td>6</td>\n      <td>Typ</td>\n      <td>0</td>\n      <td>NaN</td>\n      <td>Attchd</td>\n      <td>1997.0</td>\n      <td>Fin</td>\n      <td>2</td>\n      <td>388</td>\n      <td>TA</td>\n      <td>TA</td>\n      <td>Y</td>\n      <td>0</td>\n      <td>75</td>\n      <td>0</td>\n      <td>0</td>\n      <td>0</td>\n      <td>0</td>\n      <td>NaN</td>\n      <td>NaN</td>\n      <td>NaN</td>\n      <td>0</td>\n      <td>7</td>\n      <td>2007</td>\n      <td>WD</td>\n      <td>Normal</td>\n      <td>177000</td>\n    </tr>\n    <tr>\n      <th>72</th>\n      <td>73</td>\n      <td>60</td>\n      <td>RL</td>\n      <td>74.0</td>\n      <td>10141</td>\n      <td>Pave</td>\n      <td>NaN</td>\n      <td>IR1</td>\n      <td>Lvl</td>\n      <td>AllPub</td>\n      <td>Corner</td>\n      <td>Gtl</td>\n      <td>Gilbert</td>\n      <td>Norm</td>\n      <td>Norm</td>\n      <td>1Fam</td>\n      <td>2Story</td>\n      <td>7</td>\n      <td>5</td>\n      <td>1998</td>\n      <td>1998</td>\n      <td>Gable</td>\n      <td>CompShg</td>\n      <td>VinylSd</td>\n      <td>VinylSd</td>\n      <td>BrkFace</td>\n      <td>40.0</td>\n      <td>TA</td>\n      <td>TA</td>\n      <td>PConc</td>\n      <td>Gd</td>\n      <td>TA</td>\n      <td>No</td>\n      <td>Unf</td>\n      <td>0</td>\n      <td>Unf</td>\n      <td>0</td>\n      <td>832</td>\n      <td>832</td>\n      <td>GasA</td>\n      <td>Gd</td>\n      <td>Y</td>\n      <td>SBrkr</td>\n      <td>885</td>\n      <td>833</td>\n      <td>0</td>\n      <td>1718</td>\n      <td>0</td>\n      <td>0</td>\n      <td>2</td>\n      <td>1</td>\n      <td>3</td>\n      <td>1</td>\n      <td>TA</td>\n      <td>7</td>\n      <td>Typ</td>\n      <td>1</td>\n      <td>TA</td>\n      <td>Attchd</td>\n      <td>1998.0</td>\n      <td>Fin</td>\n      <td>2</td>\n      <td>427</td>\n      <td>TA</td>\n      <td>TA</td>\n      <td>Y</td>\n      <td>0</td>\n      <td>94</td>\n      <td>0</td>\n      <td>0</td>\n      <td>291</td>\n      <td>0</td>\n      <td>NaN</td>\n      <td>NaN</td>\n      <td>NaN</td>\n      <td>0</td>\n      <td>12</td>\n      <td>2009</td>\n      <td>WD</td>\n      <td>Normal</td>\n      <td>185000</td>\n    </tr>\n    <tr>\n      <th>84</th>\n      <td>85</td>\n      <td>80</td>\n      <td>RL</td>\n      <td>NaN</td>\n      <td>8530</td>\n      <td>Pave</td>\n      <td>NaN</td>\n      <td>IR1</td>\n      <td>Lvl</td>\n      <td>AllPub</td>\n      <td>Inside</td>\n      <td>Gtl</td>\n      <td>Gilbert</td>\n      <td>Norm</td>\n      <td>Norm</td>\n      <td>1Fam</td>\n      <td>SLvl</td>\n      <td>7</td>\n      <td>5</td>\n      <td>1995</td>\n      <td>1996</td>\n      <td>Gable</td>\n      <td>CompShg</td>\n      <td>HdBoard</td>\n      <td>HdBoard</td>\n      <td>BrkFace</td>\n      <td>22.0</td>\n      <td>TA</td>\n      <td>TA</td>\n      <td>PConc</td>\n      <td>Gd</td>\n      <td>TA</td>\n      <td>No</td>\n      <td>Unf</td>\n      <td>0</td>\n      <td>Unf</td>\n      <td>0</td>\n      <td>384</td>\n      <td>384</td>\n      <td>GasA</td>\n      <td>Gd</td>\n      <td>Y</td>\n      <td>SBrkr</td>\n      <td>804</td>\n      <td>670</td>\n      <td>0</td>\n      <td>1474</td>\n      <td>0</td>\n      <td>0</td>\n      <td>2</td>\n      <td>1</td>\n      <td>3</td>\n      <td>1</td>\n      <td>TA</td>\n      <td>7</td>\n      <td>Typ</td>\n      <td>1</td>\n      <td>TA</td>\n      <td>BuiltIn</td>\n      <td>1995.0</td>\n      <td>Fin</td>\n      <td>2</td>\n      <td>400</td>\n      <td>TA</td>\n      <td>TA</td>\n      <td>Y</td>\n      <td>120</td>\n      <td>72</td>\n      <td>0</td>\n      <td>0</td>\n      <td>0</td>\n      <td>0</td>\n      <td>NaN</td>\n      <td>NaN</td>\n      <td>Shed</td>\n      <td>700</td>\n      <td>5</td>\n      <td>2009</td>\n      <td>WD</td>\n      <td>Normal</td>\n      <td>168500</td>\n    </tr>\n    <tr>\n      <th>86</th>\n      <td>87</td>\n      <td>60</td>\n      <td>RL</td>\n      <td>122.0</td>\n      <td>11911</td>\n      <td>Pave</td>\n      <td>NaN</td>\n      <td>IR2</td>\n      <td>Lvl</td>\n      <td>AllPub</td>\n      <td>Inside</td>\n      <td>Gtl</td>\n      <td>Gilbert</td>\n      <td>Norm</td>\n      <td>Norm</td>\n      <td>1Fam</td>\n      <td>2Story</td>\n      <td>6</td>\n      <td>5</td>\n      <td>2005</td>\n      <td>2005</td>\n      <td>Gable</td>\n      <td>CompShg</td>\n      <td>VinylSd</td>\n      <td>VinylSd</td>\n      <td>NaN</td>\n      <td>0.0</td>\n      <td>Gd</td>\n      <td>TA</td>\n      <td>PConc</td>\n      <td>Gd</td>\n      <td>TA</td>\n      <td>Av</td>\n      <td>Unf</td>\n      <td>0</td>\n      <td>Unf</td>\n      <td>0</td>\n      <td>684</td>\n      <td>684</td>\n      <td>GasA</td>\n      <td>Ex</td>\n      <td>Y</td>\n      <td>SBrkr</td>\n      <td>684</td>\n      <td>876</td>\n      <td>0</td>\n      <td>1560</td>\n      <td>0</td>\n      <td>0</td>\n      <td>2</td>\n      <td>1</td>\n      <td>3</td>\n      <td>1</td>\n      <td>Gd</td>\n      <td>6</td>\n      <td>Typ</td>\n      <td>1</td>\n      <td>Gd</td>\n      <td>BuiltIn</td>\n      <td>2005.0</td>\n      <td>Fin</td>\n      <td>2</td>\n      <td>400</td>\n      <td>TA</td>\n      <td>TA</td>\n      <td>Y</td>\n      <td>100</td>\n      <td>38</td>\n      <td>0</td>\n      <td>0</td>\n      <td>0</td>\n      <td>0</td>\n      <td>NaN</td>\n      <td>NaN</td>\n      <td>NaN</td>\n      <td>0</td>\n      <td>3</td>\n      <td>2009</td>\n      <td>WD</td>\n      <td>Normal</td>\n      <td>174000</td>\n    </tr>\n    <tr>\n      <th>95</th>\n      <td>96</td>\n      <td>60</td>\n      <td>RL</td>\n      <td>NaN</td>\n      <td>9765</td>\n      <td>Pave</td>\n      <td>NaN</td>\n      <td>IR2</td>\n      <td>Lvl</td>\n      <td>AllPub</td>\n      <td>Corner</td>\n      <td>Gtl</td>\n      <td>Gilbert</td>\n      <td>Norm</td>\n      <td>Norm</td>\n      <td>1Fam</td>\n      <td>2Story</td>\n      <td>6</td>\n      <td>8</td>\n      <td>1993</td>\n      <td>1993</td>\n      <td>Gable</td>\n      <td>CompShg</td>\n      <td>VinylSd</td>\n      <td>VinylSd</td>\n      <td>BrkFace</td>\n      <td>68.0</td>\n      <td>Ex</td>\n      <td>Gd</td>\n      <td>PConc</td>\n      <td>Gd</td>\n      <td>Gd</td>\n      <td>No</td>\n      <td>ALQ</td>\n      <td>310</td>\n      <td>Unf</td>\n      <td>0</td>\n      <td>370</td>\n      <td>680</td>\n      <td>GasA</td>\n      <td>Gd</td>\n      <td>Y</td>\n      <td>SBrkr</td>\n      <td>680</td>\n      <td>790</td>\n      <td>0</td>\n      <td>1470</td>\n      <td>0</td>\n      <td>0</td>\n      <td>2</td>\n      <td>1</td>\n      <td>3</td>\n      <td>1</td>\n      <td>TA</td>\n      <td>6</td>\n      <td>Typ</td>\n      <td>1</td>\n      <td>TA</td>\n      <td>BuiltIn</td>\n      <td>1993.0</td>\n      <td>Fin</td>\n      <td>2</td>\n      <td>420</td>\n      <td>TA</td>\n      <td>TA</td>\n      <td>Y</td>\n      <td>232</td>\n      <td>63</td>\n      <td>0</td>\n      <td>0</td>\n      <td>0</td>\n      <td>0</td>\n      <td>NaN</td>\n      <td>NaN</td>\n      <td>Shed</td>\n      <td>480</td>\n      <td>4</td>\n      <td>2009</td>\n      <td>WD</td>\n      <td>Normal</td>\n      <td>185000</td>\n    </tr>\n    <tr>\n      <th>...</th>\n      <td>...</td>\n      <td>...</td>\n      <td>...</td>\n      <td>...</td>\n      <td>...</td>\n      <td>...</td>\n      <td>...</td>\n      <td>...</td>\n      <td>...</td>\n      <td>...</td>\n      <td>...</td>\n      <td>...</td>\n      <td>...</td>\n      <td>...</td>\n      <td>...</td>\n      <td>...</td>\n      <td>...</td>\n      <td>...</td>\n      <td>...</td>\n      <td>...</td>\n      <td>...</td>\n      <td>...</td>\n      <td>...</td>\n      <td>...</td>\n      <td>...</td>\n      <td>...</td>\n      <td>...</td>\n      <td>...</td>\n      <td>...</td>\n      <td>...</td>\n      <td>...</td>\n      <td>...</td>\n      <td>...</td>\n      <td>...</td>\n      <td>...</td>\n      <td>...</td>\n      <td>...</td>\n      <td>...</td>\n      <td>...</td>\n      <td>...</td>\n      <td>...</td>\n      <td>...</td>\n      <td>...</td>\n      <td>...</td>\n      <td>...</td>\n      <td>...</td>\n      <td>...</td>\n      <td>...</td>\n      <td>...</td>\n      <td>...</td>\n      <td>...</td>\n      <td>...</td>\n      <td>...</td>\n      <td>...</td>\n      <td>...</td>\n      <td>...</td>\n      <td>...</td>\n      <td>...</td>\n      <td>...</td>\n      <td>...</td>\n      <td>...</td>\n      <td>...</td>\n      <td>...</td>\n      <td>...</td>\n      <td>...</td>\n      <td>...</td>\n      <td>...</td>\n      <td>...</td>\n      <td>...</td>\n      <td>...</td>\n      <td>...</td>\n      <td>...</td>\n      <td>...</td>\n      <td>...</td>\n      <td>...</td>\n      <td>...</td>\n      <td>...</td>\n      <td>...</td>\n      <td>...</td>\n      <td>...</td>\n      <td>...</td>\n    </tr>\n    <tr>\n      <th>1388</th>\n      <td>1389</td>\n      <td>20</td>\n      <td>RL</td>\n      <td>42.0</td>\n      <td>14892</td>\n      <td>Pave</td>\n      <td>NaN</td>\n      <td>IR1</td>\n      <td>HLS</td>\n      <td>AllPub</td>\n      <td>CulDSac</td>\n      <td>Gtl</td>\n      <td>Gilbert</td>\n      <td>Norm</td>\n      <td>Norm</td>\n      <td>1Fam</td>\n      <td>1Story</td>\n      <td>9</td>\n      <td>5</td>\n      <td>2006</td>\n      <td>2007</td>\n      <td>Gable</td>\n      <td>CompShg</td>\n      <td>VinylSd</td>\n      <td>VinylSd</td>\n      <td>Stone</td>\n      <td>160.0</td>\n      <td>Ex</td>\n      <td>TA</td>\n      <td>PConc</td>\n      <td>Ex</td>\n      <td>TA</td>\n      <td>Gd</td>\n      <td>GLQ</td>\n      <td>1320</td>\n      <td>Unf</td>\n      <td>0</td>\n      <td>426</td>\n      <td>1746</td>\n      <td>GasA</td>\n      <td>Ex</td>\n      <td>Y</td>\n      <td>SBrkr</td>\n      <td>1746</td>\n      <td>0</td>\n      <td>0</td>\n      <td>1746</td>\n      <td>1</td>\n      <td>0</td>\n      <td>2</td>\n      <td>0</td>\n      <td>3</td>\n      <td>1</td>\n      <td>Ex</td>\n      <td>7</td>\n      <td>Typ</td>\n      <td>2</td>\n      <td>Gd</td>\n      <td>Attchd</td>\n      <td>2006.0</td>\n      <td>Fin</td>\n      <td>3</td>\n      <td>758</td>\n      <td>TA</td>\n      <td>TA</td>\n      <td>Y</td>\n      <td>201</td>\n      <td>39</td>\n      <td>0</td>\n      <td>0</td>\n      <td>0</td>\n      <td>0</td>\n      <td>NaN</td>\n      <td>NaN</td>\n      <td>NaN</td>\n      <td>0</td>\n      <td>10</td>\n      <td>2009</td>\n      <td>WD</td>\n      <td>Normal</td>\n      <td>377500</td>\n    </tr>\n    <tr>\n      <th>1401</th>\n      <td>1402</td>\n      <td>60</td>\n      <td>RL</td>\n      <td>62.0</td>\n      <td>7415</td>\n      <td>Pave</td>\n      <td>NaN</td>\n      <td>IR1</td>\n      <td>Lvl</td>\n      <td>AllPub</td>\n      <td>Inside</td>\n      <td>Gtl</td>\n      <td>Gilbert</td>\n      <td>Norm</td>\n      <td>Norm</td>\n      <td>1Fam</td>\n      <td>2Story</td>\n      <td>6</td>\n      <td>5</td>\n      <td>2004</td>\n      <td>2004</td>\n      <td>Gable</td>\n      <td>CompShg</td>\n      <td>VinylSd</td>\n      <td>VinylSd</td>\n      <td>NaN</td>\n      <td>0.0</td>\n      <td>TA</td>\n      <td>TA</td>\n      <td>PConc</td>\n      <td>TA</td>\n      <td>TA</td>\n      <td>No</td>\n      <td>GLQ</td>\n      <td>759</td>\n      <td>Unf</td>\n      <td>0</td>\n      <td>80</td>\n      <td>839</td>\n      <td>GasA</td>\n      <td>Ex</td>\n      <td>Y</td>\n      <td>SBrkr</td>\n      <td>864</td>\n      <td>729</td>\n      <td>0</td>\n      <td>1593</td>\n      <td>1</td>\n      <td>0</td>\n      <td>2</td>\n      <td>1</td>\n      <td>3</td>\n      <td>1</td>\n      <td>TA</td>\n      <td>8</td>\n      <td>Typ</td>\n      <td>1</td>\n      <td>TA</td>\n      <td>Attchd</td>\n      <td>2004.0</td>\n      <td>Fin</td>\n      <td>2</td>\n      <td>398</td>\n      <td>TA</td>\n      <td>TA</td>\n      <td>Y</td>\n      <td>100</td>\n      <td>75</td>\n      <td>0</td>\n      <td>0</td>\n      <td>0</td>\n      <td>0</td>\n      <td>NaN</td>\n      <td>NaN</td>\n      <td>NaN</td>\n      <td>0</td>\n      <td>4</td>\n      <td>2008</td>\n      <td>WD</td>\n      <td>Normal</td>\n      <td>193000</td>\n    </tr>\n    <tr>\n      <th>1430</th>\n      <td>1431</td>\n      <td>60</td>\n      <td>RL</td>\n      <td>60.0</td>\n      <td>21930</td>\n      <td>Pave</td>\n      <td>NaN</td>\n      <td>IR3</td>\n      <td>Lvl</td>\n      <td>AllPub</td>\n      <td>Inside</td>\n      <td>Gtl</td>\n      <td>Gilbert</td>\n      <td>RRAn</td>\n      <td>Norm</td>\n      <td>1Fam</td>\n      <td>2Story</td>\n      <td>5</td>\n      <td>5</td>\n      <td>2005</td>\n      <td>2005</td>\n      <td>Gable</td>\n      <td>CompShg</td>\n      <td>VinylSd</td>\n      <td>VinylSd</td>\n      <td>NaN</td>\n      <td>0.0</td>\n      <td>Gd</td>\n      <td>TA</td>\n      <td>PConc</td>\n      <td>Gd</td>\n      <td>Gd</td>\n      <td>Av</td>\n      <td>Unf</td>\n      <td>0</td>\n      <td>Unf</td>\n      <td>0</td>\n      <td>732</td>\n      <td>732</td>\n      <td>GasA</td>\n      <td>Ex</td>\n      <td>Y</td>\n      <td>SBrkr</td>\n      <td>734</td>\n      <td>1104</td>\n      <td>0</td>\n      <td>1838</td>\n      <td>0</td>\n      <td>0</td>\n      <td>2</td>\n      <td>1</td>\n      <td>4</td>\n      <td>1</td>\n      <td>TA</td>\n      <td>7</td>\n      <td>Typ</td>\n      <td>1</td>\n      <td>Gd</td>\n      <td>BuiltIn</td>\n      <td>2005.0</td>\n      <td>Fin</td>\n      <td>2</td>\n      <td>372</td>\n      <td>TA</td>\n      <td>TA</td>\n      <td>Y</td>\n      <td>100</td>\n      <td>40</td>\n      <td>0</td>\n      <td>0</td>\n      <td>0</td>\n      <td>0</td>\n      <td>NaN</td>\n      <td>NaN</td>\n      <td>NaN</td>\n      <td>0</td>\n      <td>7</td>\n      <td>2006</td>\n      <td>WD</td>\n      <td>Normal</td>\n      <td>192140</td>\n    </tr>\n    <tr>\n      <th>1433</th>\n      <td>1434</td>\n      <td>60</td>\n      <td>RL</td>\n      <td>93.0</td>\n      <td>10261</td>\n      <td>Pave</td>\n      <td>NaN</td>\n      <td>IR1</td>\n      <td>Lvl</td>\n      <td>AllPub</td>\n      <td>Inside</td>\n      <td>Gtl</td>\n      <td>Gilbert</td>\n      <td>Norm</td>\n      <td>Norm</td>\n      <td>1Fam</td>\n      <td>2Story</td>\n      <td>6</td>\n      <td>5</td>\n      <td>2000</td>\n      <td>2000</td>\n      <td>Gable</td>\n      <td>CompShg</td>\n      <td>VinylSd</td>\n      <td>VinylSd</td>\n      <td>BrkFace</td>\n      <td>318.0</td>\n      <td>TA</td>\n      <td>TA</td>\n      <td>PConc</td>\n      <td>Gd</td>\n      <td>TA</td>\n      <td>No</td>\n      <td>Unf</td>\n      <td>0</td>\n      <td>Unf</td>\n      <td>0</td>\n      <td>936</td>\n      <td>936</td>\n      <td>GasA</td>\n      <td>Ex</td>\n      <td>Y</td>\n      <td>SBrkr</td>\n      <td>962</td>\n      <td>830</td>\n      <td>0</td>\n      <td>1792</td>\n      <td>1</td>\n      <td>0</td>\n      <td>2</td>\n      <td>1</td>\n      <td>3</td>\n      <td>1</td>\n      <td>TA</td>\n      <td>8</td>\n      <td>Typ</td>\n      <td>1</td>\n      <td>TA</td>\n      <td>Attchd</td>\n      <td>2000.0</td>\n      <td>Fin</td>\n      <td>2</td>\n      <td>451</td>\n      <td>TA</td>\n      <td>TA</td>\n      <td>Y</td>\n      <td>0</td>\n      <td>0</td>\n      <td>0</td>\n      <td>0</td>\n      <td>0</td>\n      <td>0</td>\n      <td>NaN</td>\n      <td>NaN</td>\n      <td>NaN</td>\n      <td>0</td>\n      <td>5</td>\n      <td>2008</td>\n      <td>WD</td>\n      <td>Normal</td>\n      <td>186500</td>\n    </tr>\n    <tr>\n      <th>1455</th>\n      <td>1456</td>\n      <td>60</td>\n      <td>RL</td>\n      <td>62.0</td>\n      <td>7917</td>\n      <td>Pave</td>\n      <td>NaN</td>\n      <td>Reg</td>\n      <td>Lvl</td>\n      <td>AllPub</td>\n      <td>Inside</td>\n      <td>Gtl</td>\n      <td>Gilbert</td>\n      <td>Norm</td>\n      <td>Norm</td>\n      <td>1Fam</td>\n      <td>2Story</td>\n      <td>6</td>\n      <td>5</td>\n      <td>1999</td>\n      <td>2000</td>\n      <td>Gable</td>\n      <td>CompShg</td>\n      <td>VinylSd</td>\n      <td>VinylSd</td>\n      <td>NaN</td>\n      <td>0.0</td>\n      <td>TA</td>\n      <td>TA</td>\n      <td>PConc</td>\n      <td>Gd</td>\n      <td>TA</td>\n      <td>No</td>\n      <td>Unf</td>\n      <td>0</td>\n      <td>Unf</td>\n      <td>0</td>\n      <td>953</td>\n      <td>953</td>\n      <td>GasA</td>\n      <td>Ex</td>\n      <td>Y</td>\n      <td>SBrkr</td>\n      <td>953</td>\n      <td>694</td>\n      <td>0</td>\n      <td>1647</td>\n      <td>0</td>\n      <td>0</td>\n      <td>2</td>\n      <td>1</td>\n      <td>3</td>\n      <td>1</td>\n      <td>TA</td>\n      <td>7</td>\n      <td>Typ</td>\n      <td>1</td>\n      <td>TA</td>\n      <td>Attchd</td>\n      <td>1999.0</td>\n      <td>RFn</td>\n      <td>2</td>\n      <td>460</td>\n      <td>TA</td>\n      <td>TA</td>\n      <td>Y</td>\n      <td>0</td>\n      <td>40</td>\n      <td>0</td>\n      <td>0</td>\n      <td>0</td>\n      <td>0</td>\n      <td>NaN</td>\n      <td>NaN</td>\n      <td>NaN</td>\n      <td>0</td>\n      <td>8</td>\n      <td>2007</td>\n      <td>WD</td>\n      <td>Normal</td>\n      <td>175000</td>\n    </tr>\n  </tbody>\n</table>\n<p>79 rows × 81 columns</p>\n</div>"
     },
     "execution_count": 464,
     "metadata": {},
     "output_type": "execute_result"
    }
   ],
   "source": [
    "house_data.loc[house_data.Neighborhood == 'Gilbert']"
   ],
   "id": "dc38a80777b32afe"
  },
  {
   "cell_type": "code",
   "execution_count": 465,
   "metadata": {
    "ExecuteTime": {
     "end_time": "2023-11-13T18:04:13.402064500Z",
     "start_time": "2023-11-13T18:04:12.483031100Z"
    }
   },
   "outputs": [
    {
     "data": {
      "text/plain": "        Id  MSSubClass MSZoning  LotFrontage  LotArea Street Alley LotShape  \\\n0        1          60       RL         65.0     8450   Pave   NaN      Reg   \n2        3          60       RL         68.0    11250   Pave   NaN      IR1   \n6        7          20       RL         75.0    10084   Pave   NaN      Reg   \n11      12          60       RL         85.0    11924   Pave   NaN      IR1   \n13      14          20       RL         91.0    10652   Pave   NaN      IR1   \n...    ...         ...      ...          ...      ...    ...   ...      ...   \n1444  1445          20       RL         63.0     8500   Pave   NaN      Reg   \n1451  1452          20       RL         78.0     9262   Pave   NaN      Reg   \n1452  1453         180       RM         35.0     3675   Pave   NaN      Reg   \n1453  1454          20       RL         90.0    17217   Pave   NaN      Reg   \n1454  1455          20       FV         62.0     7500   Pave  Pave      Reg   \n\n     LandContour Utilities LotConfig LandSlope Neighborhood Condition1  \\\n0            Lvl    AllPub    Inside       Gtl      CollgCr       Norm   \n2            Lvl    AllPub    Inside       Gtl      CollgCr       Norm   \n6            Lvl    AllPub    Inside       Gtl      Somerst       Norm   \n11           Lvl    AllPub    Inside       Gtl      NridgHt       Norm   \n13           Lvl    AllPub    Inside       Gtl      CollgCr       Norm   \n...          ...       ...       ...       ...          ...        ...   \n1444         Lvl    AllPub       FR2       Gtl      CollgCr       Norm   \n1451         Lvl    AllPub    Inside       Gtl      Somerst       Norm   \n1452         Lvl    AllPub    Inside       Gtl      Edwards       Norm   \n1453         Lvl    AllPub    Inside       Gtl      Mitchel       Norm   \n1454         Lvl    AllPub    Inside       Gtl      Somerst       Norm   \n\n     Condition2 BldgType HouseStyle  OverallQual  OverallCond  YearBuilt  \\\n0          Norm     1Fam     2Story            7            5       2003   \n2          Norm     1Fam     2Story            7            5       2001   \n6          Norm     1Fam     1Story            8            5       2004   \n11         Norm     1Fam     2Story            9            5       2005   \n13         Norm     1Fam     1Story            7            5       2006   \n...         ...      ...        ...          ...          ...        ...   \n1444       Norm     1Fam     1Story            7            5       2004   \n1451       Norm     1Fam     1Story            8            5       2008   \n1452       Norm   TwnhsE       SLvl            5            5       2005   \n1453       Norm     1Fam     1Story            5            5       2006   \n1454       Norm     1Fam     1Story            7            5       2004   \n\n      YearRemodAdd RoofStyle RoofMatl Exterior1st Exterior2nd MasVnrType  \\\n0             2003     Gable  CompShg     VinylSd     VinylSd    BrkFace   \n2             2002     Gable  CompShg     VinylSd     VinylSd    BrkFace   \n6             2005     Gable  CompShg     VinylSd     VinylSd      Stone   \n11            2006       Hip  CompShg     WdShing     Wd Shng      Stone   \n13            2007     Gable  CompShg     VinylSd     VinylSd      Stone   \n...            ...       ...      ...         ...         ...        ...   \n1444          2004     Gable  CompShg     VinylSd     VinylSd    BrkFace   \n1451          2009     Gable  CompShg     CemntBd     CmentBd      Stone   \n1452          2005     Gable  CompShg     VinylSd     VinylSd    BrkFace   \n1453          2006     Gable  CompShg     VinylSd     VinylSd        NaN   \n1454          2005     Gable  CompShg     VinylSd     VinylSd        NaN   \n\n      MasVnrArea ExterQual ExterCond Foundation BsmtQual BsmtCond  \\\n0          196.0        Gd        TA      PConc       Gd       TA   \n2          162.0        Gd        TA      PConc       Gd       TA   \n6          186.0        Gd        TA      PConc       Ex       TA   \n11         286.0        Ex        TA      PConc       Ex       TA   \n13         306.0        Gd        TA      PConc       Gd       TA   \n...          ...       ...       ...        ...      ...      ...   \n1444       106.0        Gd        TA      PConc       Gd       TA   \n1451       194.0        Gd        TA      PConc       Gd       TA   \n1452        80.0        TA        TA      PConc       Gd       TA   \n1453         0.0        TA        TA      PConc       Gd       TA   \n1454         0.0        Gd        TA      PConc       Gd       TA   \n\n     BsmtExposure BsmtFinType1  BsmtFinSF1 BsmtFinType2  BsmtFinSF2  \\\n0              No          GLQ         706          Unf           0   \n2              Mn          GLQ         486          Unf           0   \n6              Av          GLQ        1369          Unf           0   \n11             No          GLQ         998          Unf           0   \n13             Av          Unf           0          Unf           0   \n...           ...          ...         ...          ...         ...   \n1444           Av          Unf           0          Unf           0   \n1451           No          Unf           0          Unf           0   \n1452           Gd          GLQ         547          Unf           0   \n1453           No          Unf           0          Unf           0   \n1454           No          GLQ         410          Unf           0   \n\n      BsmtUnfSF  TotalBsmtSF Heating HeatingQC CentralAir Electrical  \\\n0           150          856    GasA        Ex          Y      SBrkr   \n2           434          920    GasA        Ex          Y      SBrkr   \n6           317         1686    GasA        Ex          Y      SBrkr   \n11          177         1175    GasA        Ex          Y      SBrkr   \n13         1494         1494    GasA        Ex          Y      SBrkr   \n...         ...          ...     ...       ...        ...        ...   \n1444       1422         1422    GasA        Ex          Y      SBrkr   \n1451       1573         1573    GasA        Ex          Y      SBrkr   \n1452          0          547    GasA        Gd          Y      SBrkr   \n1453       1140         1140    GasA        Ex          Y      SBrkr   \n1454        811         1221    GasA        Ex          Y      SBrkr   \n\n      1stFlrSF  2ndFlrSF  LowQualFinSF  GrLivArea  BsmtFullBath  BsmtHalfBath  \\\n0          856       854             0       1710             1             0   \n2          920       866             0       1786             1             0   \n6         1694         0             0       1694             1             0   \n11        1182      1142             0       2324             1             0   \n13        1494         0             0       1494             0             0   \n...        ...       ...           ...        ...           ...           ...   \n1444      1422         0             0       1422             0             0   \n1451      1578         0             0       1578             0             0   \n1452      1072         0             0       1072             1             0   \n1453      1140         0             0       1140             0             0   \n1454      1221         0             0       1221             1             0   \n\n      FullBath  HalfBath  BedroomAbvGr  KitchenAbvGr KitchenQual  \\\n0            2         1             3             1          Gd   \n2            2         1             3             1          Gd   \n6            2         0             3             1          Gd   \n11           3         0             4             1          Ex   \n13           2         0             3             1          Gd   \n...        ...       ...           ...           ...         ...   \n1444         2         0             3             1          Gd   \n1451         2         0             3             1          Ex   \n1452         1         0             2             1          TA   \n1453         1         0             3             1          TA   \n1454         2         0             2             1          Gd   \n\n      TotRmsAbvGrd Functional  Fireplaces FireplaceQu GarageType  GarageYrBlt  \\\n0                8        Typ           0         NaN     Attchd       2003.0   \n2                6        Typ           1          TA     Attchd       2001.0   \n6                7        Typ           1          Gd     Attchd       2004.0   \n11              11        Typ           2          Gd    BuiltIn       2005.0   \n13               7        Typ           1          Gd     Attchd       2006.0   \n...            ...        ...         ...         ...        ...          ...   \n1444             7        Typ           0         NaN     Attchd       2004.0   \n1451             7        Typ           1          Gd     Attchd       2008.0   \n1452             5        Typ           0         NaN    Basment       2005.0   \n1453             6        Typ           0         NaN        NaN          NaN   \n1454             6        Typ           0         NaN     Attchd       2004.0   \n\n     GarageFinish  GarageCars  GarageArea GarageQual GarageCond PavedDrive  \\\n0             RFn           2         548         TA         TA          Y   \n2             RFn           2         608         TA         TA          Y   \n6             RFn           2         636         TA         TA          Y   \n11            Fin           3         736         TA         TA          Y   \n13            RFn           3         840         TA         TA          Y   \n...           ...         ...         ...        ...        ...        ...   \n1444          RFn           2         626         TA         TA          Y   \n1451          Fin           3         840         TA         TA          Y   \n1452          Fin           2         525         TA         TA          Y   \n1453          NaN           0           0        NaN        NaN          Y   \n1454          RFn           2         400         TA         TA          Y   \n\n      WoodDeckSF  OpenPorchSF  EnclosedPorch  3SsnPorch  ScreenPorch  \\\n0              0           61              0          0            0   \n2              0           42              0          0            0   \n6            255           57              0          0            0   \n11           147           21              0          0            0   \n13           160           33              0          0            0   \n...          ...          ...            ...        ...          ...   \n1444         192           60              0          0            0   \n1451           0           36              0          0            0   \n1452           0           28              0          0            0   \n1453          36           56              0          0            0   \n1454           0          113              0          0            0   \n\n      PoolArea PoolQC Fence MiscFeature  MiscVal  MoSold  YrSold SaleType  \\\n0            0    NaN   NaN         NaN        0       2    2008       WD   \n2            0    NaN   NaN         NaN        0       9    2008       WD   \n6            0    NaN   NaN         NaN        0       8    2007       WD   \n11           0    NaN   NaN         NaN        0       7    2006      New   \n13           0    NaN   NaN         NaN        0       8    2007      New   \n...        ...    ...   ...         ...      ...     ...     ...      ...   \n1444         0    NaN   NaN         NaN        0      11    2007       WD   \n1451         0    NaN   NaN         NaN        0       5    2009      New   \n1452         0    NaN   NaN         NaN        0       5    2006       WD   \n1453         0    NaN   NaN         NaN        0       7    2006       WD   \n1454         0    NaN   NaN         NaN        0      10    2009       WD   \n\n     SaleCondition  SalePrice  \n0           Normal     208500  \n2           Normal     223500  \n6           Normal     307000  \n11         Partial     345000  \n13         Partial     279500  \n...            ...        ...  \n1444        Normal     179600  \n1451       Partial     287090  \n1452        Normal     145000  \n1453       Abnorml      84500  \n1454        Normal     185000  \n\n[364 rows x 81 columns]",
      "text/html": "<div>\n<style scoped>\n    .dataframe tbody tr th:only-of-type {\n        vertical-align: middle;\n    }\n\n    .dataframe tbody tr th {\n        vertical-align: top;\n    }\n\n    .dataframe thead th {\n        text-align: right;\n    }\n</style>\n<table border=\"1\" class=\"dataframe\">\n  <thead>\n    <tr style=\"text-align: right;\">\n      <th></th>\n      <th>Id</th>\n      <th>MSSubClass</th>\n      <th>MSZoning</th>\n      <th>LotFrontage</th>\n      <th>LotArea</th>\n      <th>Street</th>\n      <th>Alley</th>\n      <th>LotShape</th>\n      <th>LandContour</th>\n      <th>Utilities</th>\n      <th>LotConfig</th>\n      <th>LandSlope</th>\n      <th>Neighborhood</th>\n      <th>Condition1</th>\n      <th>Condition2</th>\n      <th>BldgType</th>\n      <th>HouseStyle</th>\n      <th>OverallQual</th>\n      <th>OverallCond</th>\n      <th>YearBuilt</th>\n      <th>YearRemodAdd</th>\n      <th>RoofStyle</th>\n      <th>RoofMatl</th>\n      <th>Exterior1st</th>\n      <th>Exterior2nd</th>\n      <th>MasVnrType</th>\n      <th>MasVnrArea</th>\n      <th>ExterQual</th>\n      <th>ExterCond</th>\n      <th>Foundation</th>\n      <th>BsmtQual</th>\n      <th>BsmtCond</th>\n      <th>BsmtExposure</th>\n      <th>BsmtFinType1</th>\n      <th>BsmtFinSF1</th>\n      <th>BsmtFinType2</th>\n      <th>BsmtFinSF2</th>\n      <th>BsmtUnfSF</th>\n      <th>TotalBsmtSF</th>\n      <th>Heating</th>\n      <th>HeatingQC</th>\n      <th>CentralAir</th>\n      <th>Electrical</th>\n      <th>1stFlrSF</th>\n      <th>2ndFlrSF</th>\n      <th>LowQualFinSF</th>\n      <th>GrLivArea</th>\n      <th>BsmtFullBath</th>\n      <th>BsmtHalfBath</th>\n      <th>FullBath</th>\n      <th>HalfBath</th>\n      <th>BedroomAbvGr</th>\n      <th>KitchenAbvGr</th>\n      <th>KitchenQual</th>\n      <th>TotRmsAbvGrd</th>\n      <th>Functional</th>\n      <th>Fireplaces</th>\n      <th>FireplaceQu</th>\n      <th>GarageType</th>\n      <th>GarageYrBlt</th>\n      <th>GarageFinish</th>\n      <th>GarageCars</th>\n      <th>GarageArea</th>\n      <th>GarageQual</th>\n      <th>GarageCond</th>\n      <th>PavedDrive</th>\n      <th>WoodDeckSF</th>\n      <th>OpenPorchSF</th>\n      <th>EnclosedPorch</th>\n      <th>3SsnPorch</th>\n      <th>ScreenPorch</th>\n      <th>PoolArea</th>\n      <th>PoolQC</th>\n      <th>Fence</th>\n      <th>MiscFeature</th>\n      <th>MiscVal</th>\n      <th>MoSold</th>\n      <th>YrSold</th>\n      <th>SaleType</th>\n      <th>SaleCondition</th>\n      <th>SalePrice</th>\n    </tr>\n  </thead>\n  <tbody>\n    <tr>\n      <th>0</th>\n      <td>1</td>\n      <td>60</td>\n      <td>RL</td>\n      <td>65.0</td>\n      <td>8450</td>\n      <td>Pave</td>\n      <td>NaN</td>\n      <td>Reg</td>\n      <td>Lvl</td>\n      <td>AllPub</td>\n      <td>Inside</td>\n      <td>Gtl</td>\n      <td>CollgCr</td>\n      <td>Norm</td>\n      <td>Norm</td>\n      <td>1Fam</td>\n      <td>2Story</td>\n      <td>7</td>\n      <td>5</td>\n      <td>2003</td>\n      <td>2003</td>\n      <td>Gable</td>\n      <td>CompShg</td>\n      <td>VinylSd</td>\n      <td>VinylSd</td>\n      <td>BrkFace</td>\n      <td>196.0</td>\n      <td>Gd</td>\n      <td>TA</td>\n      <td>PConc</td>\n      <td>Gd</td>\n      <td>TA</td>\n      <td>No</td>\n      <td>GLQ</td>\n      <td>706</td>\n      <td>Unf</td>\n      <td>0</td>\n      <td>150</td>\n      <td>856</td>\n      <td>GasA</td>\n      <td>Ex</td>\n      <td>Y</td>\n      <td>SBrkr</td>\n      <td>856</td>\n      <td>854</td>\n      <td>0</td>\n      <td>1710</td>\n      <td>1</td>\n      <td>0</td>\n      <td>2</td>\n      <td>1</td>\n      <td>3</td>\n      <td>1</td>\n      <td>Gd</td>\n      <td>8</td>\n      <td>Typ</td>\n      <td>0</td>\n      <td>NaN</td>\n      <td>Attchd</td>\n      <td>2003.0</td>\n      <td>RFn</td>\n      <td>2</td>\n      <td>548</td>\n      <td>TA</td>\n      <td>TA</td>\n      <td>Y</td>\n      <td>0</td>\n      <td>61</td>\n      <td>0</td>\n      <td>0</td>\n      <td>0</td>\n      <td>0</td>\n      <td>NaN</td>\n      <td>NaN</td>\n      <td>NaN</td>\n      <td>0</td>\n      <td>2</td>\n      <td>2008</td>\n      <td>WD</td>\n      <td>Normal</td>\n      <td>208500</td>\n    </tr>\n    <tr>\n      <th>2</th>\n      <td>3</td>\n      <td>60</td>\n      <td>RL</td>\n      <td>68.0</td>\n      <td>11250</td>\n      <td>Pave</td>\n      <td>NaN</td>\n      <td>IR1</td>\n      <td>Lvl</td>\n      <td>AllPub</td>\n      <td>Inside</td>\n      <td>Gtl</td>\n      <td>CollgCr</td>\n      <td>Norm</td>\n      <td>Norm</td>\n      <td>1Fam</td>\n      <td>2Story</td>\n      <td>7</td>\n      <td>5</td>\n      <td>2001</td>\n      <td>2002</td>\n      <td>Gable</td>\n      <td>CompShg</td>\n      <td>VinylSd</td>\n      <td>VinylSd</td>\n      <td>BrkFace</td>\n      <td>162.0</td>\n      <td>Gd</td>\n      <td>TA</td>\n      <td>PConc</td>\n      <td>Gd</td>\n      <td>TA</td>\n      <td>Mn</td>\n      <td>GLQ</td>\n      <td>486</td>\n      <td>Unf</td>\n      <td>0</td>\n      <td>434</td>\n      <td>920</td>\n      <td>GasA</td>\n      <td>Ex</td>\n      <td>Y</td>\n      <td>SBrkr</td>\n      <td>920</td>\n      <td>866</td>\n      <td>0</td>\n      <td>1786</td>\n      <td>1</td>\n      <td>0</td>\n      <td>2</td>\n      <td>1</td>\n      <td>3</td>\n      <td>1</td>\n      <td>Gd</td>\n      <td>6</td>\n      <td>Typ</td>\n      <td>1</td>\n      <td>TA</td>\n      <td>Attchd</td>\n      <td>2001.0</td>\n      <td>RFn</td>\n      <td>2</td>\n      <td>608</td>\n      <td>TA</td>\n      <td>TA</td>\n      <td>Y</td>\n      <td>0</td>\n      <td>42</td>\n      <td>0</td>\n      <td>0</td>\n      <td>0</td>\n      <td>0</td>\n      <td>NaN</td>\n      <td>NaN</td>\n      <td>NaN</td>\n      <td>0</td>\n      <td>9</td>\n      <td>2008</td>\n      <td>WD</td>\n      <td>Normal</td>\n      <td>223500</td>\n    </tr>\n    <tr>\n      <th>6</th>\n      <td>7</td>\n      <td>20</td>\n      <td>RL</td>\n      <td>75.0</td>\n      <td>10084</td>\n      <td>Pave</td>\n      <td>NaN</td>\n      <td>Reg</td>\n      <td>Lvl</td>\n      <td>AllPub</td>\n      <td>Inside</td>\n      <td>Gtl</td>\n      <td>Somerst</td>\n      <td>Norm</td>\n      <td>Norm</td>\n      <td>1Fam</td>\n      <td>1Story</td>\n      <td>8</td>\n      <td>5</td>\n      <td>2004</td>\n      <td>2005</td>\n      <td>Gable</td>\n      <td>CompShg</td>\n      <td>VinylSd</td>\n      <td>VinylSd</td>\n      <td>Stone</td>\n      <td>186.0</td>\n      <td>Gd</td>\n      <td>TA</td>\n      <td>PConc</td>\n      <td>Ex</td>\n      <td>TA</td>\n      <td>Av</td>\n      <td>GLQ</td>\n      <td>1369</td>\n      <td>Unf</td>\n      <td>0</td>\n      <td>317</td>\n      <td>1686</td>\n      <td>GasA</td>\n      <td>Ex</td>\n      <td>Y</td>\n      <td>SBrkr</td>\n      <td>1694</td>\n      <td>0</td>\n      <td>0</td>\n      <td>1694</td>\n      <td>1</td>\n      <td>0</td>\n      <td>2</td>\n      <td>0</td>\n      <td>3</td>\n      <td>1</td>\n      <td>Gd</td>\n      <td>7</td>\n      <td>Typ</td>\n      <td>1</td>\n      <td>Gd</td>\n      <td>Attchd</td>\n      <td>2004.0</td>\n      <td>RFn</td>\n      <td>2</td>\n      <td>636</td>\n      <td>TA</td>\n      <td>TA</td>\n      <td>Y</td>\n      <td>255</td>\n      <td>57</td>\n      <td>0</td>\n      <td>0</td>\n      <td>0</td>\n      <td>0</td>\n      <td>NaN</td>\n      <td>NaN</td>\n      <td>NaN</td>\n      <td>0</td>\n      <td>8</td>\n      <td>2007</td>\n      <td>WD</td>\n      <td>Normal</td>\n      <td>307000</td>\n    </tr>\n    <tr>\n      <th>11</th>\n      <td>12</td>\n      <td>60</td>\n      <td>RL</td>\n      <td>85.0</td>\n      <td>11924</td>\n      <td>Pave</td>\n      <td>NaN</td>\n      <td>IR1</td>\n      <td>Lvl</td>\n      <td>AllPub</td>\n      <td>Inside</td>\n      <td>Gtl</td>\n      <td>NridgHt</td>\n      <td>Norm</td>\n      <td>Norm</td>\n      <td>1Fam</td>\n      <td>2Story</td>\n      <td>9</td>\n      <td>5</td>\n      <td>2005</td>\n      <td>2006</td>\n      <td>Hip</td>\n      <td>CompShg</td>\n      <td>WdShing</td>\n      <td>Wd Shng</td>\n      <td>Stone</td>\n      <td>286.0</td>\n      <td>Ex</td>\n      <td>TA</td>\n      <td>PConc</td>\n      <td>Ex</td>\n      <td>TA</td>\n      <td>No</td>\n      <td>GLQ</td>\n      <td>998</td>\n      <td>Unf</td>\n      <td>0</td>\n      <td>177</td>\n      <td>1175</td>\n      <td>GasA</td>\n      <td>Ex</td>\n      <td>Y</td>\n      <td>SBrkr</td>\n      <td>1182</td>\n      <td>1142</td>\n      <td>0</td>\n      <td>2324</td>\n      <td>1</td>\n      <td>0</td>\n      <td>3</td>\n      <td>0</td>\n      <td>4</td>\n      <td>1</td>\n      <td>Ex</td>\n      <td>11</td>\n      <td>Typ</td>\n      <td>2</td>\n      <td>Gd</td>\n      <td>BuiltIn</td>\n      <td>2005.0</td>\n      <td>Fin</td>\n      <td>3</td>\n      <td>736</td>\n      <td>TA</td>\n      <td>TA</td>\n      <td>Y</td>\n      <td>147</td>\n      <td>21</td>\n      <td>0</td>\n      <td>0</td>\n      <td>0</td>\n      <td>0</td>\n      <td>NaN</td>\n      <td>NaN</td>\n      <td>NaN</td>\n      <td>0</td>\n      <td>7</td>\n      <td>2006</td>\n      <td>New</td>\n      <td>Partial</td>\n      <td>345000</td>\n    </tr>\n    <tr>\n      <th>13</th>\n      <td>14</td>\n      <td>20</td>\n      <td>RL</td>\n      <td>91.0</td>\n      <td>10652</td>\n      <td>Pave</td>\n      <td>NaN</td>\n      <td>IR1</td>\n      <td>Lvl</td>\n      <td>AllPub</td>\n      <td>Inside</td>\n      <td>Gtl</td>\n      <td>CollgCr</td>\n      <td>Norm</td>\n      <td>Norm</td>\n      <td>1Fam</td>\n      <td>1Story</td>\n      <td>7</td>\n      <td>5</td>\n      <td>2006</td>\n      <td>2007</td>\n      <td>Gable</td>\n      <td>CompShg</td>\n      <td>VinylSd</td>\n      <td>VinylSd</td>\n      <td>Stone</td>\n      <td>306.0</td>\n      <td>Gd</td>\n      <td>TA</td>\n      <td>PConc</td>\n      <td>Gd</td>\n      <td>TA</td>\n      <td>Av</td>\n      <td>Unf</td>\n      <td>0</td>\n      <td>Unf</td>\n      <td>0</td>\n      <td>1494</td>\n      <td>1494</td>\n      <td>GasA</td>\n      <td>Ex</td>\n      <td>Y</td>\n      <td>SBrkr</td>\n      <td>1494</td>\n      <td>0</td>\n      <td>0</td>\n      <td>1494</td>\n      <td>0</td>\n      <td>0</td>\n      <td>2</td>\n      <td>0</td>\n      <td>3</td>\n      <td>1</td>\n      <td>Gd</td>\n      <td>7</td>\n      <td>Typ</td>\n      <td>1</td>\n      <td>Gd</td>\n      <td>Attchd</td>\n      <td>2006.0</td>\n      <td>RFn</td>\n      <td>3</td>\n      <td>840</td>\n      <td>TA</td>\n      <td>TA</td>\n      <td>Y</td>\n      <td>160</td>\n      <td>33</td>\n      <td>0</td>\n      <td>0</td>\n      <td>0</td>\n      <td>0</td>\n      <td>NaN</td>\n      <td>NaN</td>\n      <td>NaN</td>\n      <td>0</td>\n      <td>8</td>\n      <td>2007</td>\n      <td>New</td>\n      <td>Partial</td>\n      <td>279500</td>\n    </tr>\n    <tr>\n      <th>...</th>\n      <td>...</td>\n      <td>...</td>\n      <td>...</td>\n      <td>...</td>\n      <td>...</td>\n      <td>...</td>\n      <td>...</td>\n      <td>...</td>\n      <td>...</td>\n      <td>...</td>\n      <td>...</td>\n      <td>...</td>\n      <td>...</td>\n      <td>...</td>\n      <td>...</td>\n      <td>...</td>\n      <td>...</td>\n      <td>...</td>\n      <td>...</td>\n      <td>...</td>\n      <td>...</td>\n      <td>...</td>\n      <td>...</td>\n      <td>...</td>\n      <td>...</td>\n      <td>...</td>\n      <td>...</td>\n      <td>...</td>\n      <td>...</td>\n      <td>...</td>\n      <td>...</td>\n      <td>...</td>\n      <td>...</td>\n      <td>...</td>\n      <td>...</td>\n      <td>...</td>\n      <td>...</td>\n      <td>...</td>\n      <td>...</td>\n      <td>...</td>\n      <td>...</td>\n      <td>...</td>\n      <td>...</td>\n      <td>...</td>\n      <td>...</td>\n      <td>...</td>\n      <td>...</td>\n      <td>...</td>\n      <td>...</td>\n      <td>...</td>\n      <td>...</td>\n      <td>...</td>\n      <td>...</td>\n      <td>...</td>\n      <td>...</td>\n      <td>...</td>\n      <td>...</td>\n      <td>...</td>\n      <td>...</td>\n      <td>...</td>\n      <td>...</td>\n      <td>...</td>\n      <td>...</td>\n      <td>...</td>\n      <td>...</td>\n      <td>...</td>\n      <td>...</td>\n      <td>...</td>\n      <td>...</td>\n      <td>...</td>\n      <td>...</td>\n      <td>...</td>\n      <td>...</td>\n      <td>...</td>\n      <td>...</td>\n      <td>...</td>\n      <td>...</td>\n      <td>...</td>\n      <td>...</td>\n      <td>...</td>\n      <td>...</td>\n    </tr>\n    <tr>\n      <th>1444</th>\n      <td>1445</td>\n      <td>20</td>\n      <td>RL</td>\n      <td>63.0</td>\n      <td>8500</td>\n      <td>Pave</td>\n      <td>NaN</td>\n      <td>Reg</td>\n      <td>Lvl</td>\n      <td>AllPub</td>\n      <td>FR2</td>\n      <td>Gtl</td>\n      <td>CollgCr</td>\n      <td>Norm</td>\n      <td>Norm</td>\n      <td>1Fam</td>\n      <td>1Story</td>\n      <td>7</td>\n      <td>5</td>\n      <td>2004</td>\n      <td>2004</td>\n      <td>Gable</td>\n      <td>CompShg</td>\n      <td>VinylSd</td>\n      <td>VinylSd</td>\n      <td>BrkFace</td>\n      <td>106.0</td>\n      <td>Gd</td>\n      <td>TA</td>\n      <td>PConc</td>\n      <td>Gd</td>\n      <td>TA</td>\n      <td>Av</td>\n      <td>Unf</td>\n      <td>0</td>\n      <td>Unf</td>\n      <td>0</td>\n      <td>1422</td>\n      <td>1422</td>\n      <td>GasA</td>\n      <td>Ex</td>\n      <td>Y</td>\n      <td>SBrkr</td>\n      <td>1422</td>\n      <td>0</td>\n      <td>0</td>\n      <td>1422</td>\n      <td>0</td>\n      <td>0</td>\n      <td>2</td>\n      <td>0</td>\n      <td>3</td>\n      <td>1</td>\n      <td>Gd</td>\n      <td>7</td>\n      <td>Typ</td>\n      <td>0</td>\n      <td>NaN</td>\n      <td>Attchd</td>\n      <td>2004.0</td>\n      <td>RFn</td>\n      <td>2</td>\n      <td>626</td>\n      <td>TA</td>\n      <td>TA</td>\n      <td>Y</td>\n      <td>192</td>\n      <td>60</td>\n      <td>0</td>\n      <td>0</td>\n      <td>0</td>\n      <td>0</td>\n      <td>NaN</td>\n      <td>NaN</td>\n      <td>NaN</td>\n      <td>0</td>\n      <td>11</td>\n      <td>2007</td>\n      <td>WD</td>\n      <td>Normal</td>\n      <td>179600</td>\n    </tr>\n    <tr>\n      <th>1451</th>\n      <td>1452</td>\n      <td>20</td>\n      <td>RL</td>\n      <td>78.0</td>\n      <td>9262</td>\n      <td>Pave</td>\n      <td>NaN</td>\n      <td>Reg</td>\n      <td>Lvl</td>\n      <td>AllPub</td>\n      <td>Inside</td>\n      <td>Gtl</td>\n      <td>Somerst</td>\n      <td>Norm</td>\n      <td>Norm</td>\n      <td>1Fam</td>\n      <td>1Story</td>\n      <td>8</td>\n      <td>5</td>\n      <td>2008</td>\n      <td>2009</td>\n      <td>Gable</td>\n      <td>CompShg</td>\n      <td>CemntBd</td>\n      <td>CmentBd</td>\n      <td>Stone</td>\n      <td>194.0</td>\n      <td>Gd</td>\n      <td>TA</td>\n      <td>PConc</td>\n      <td>Gd</td>\n      <td>TA</td>\n      <td>No</td>\n      <td>Unf</td>\n      <td>0</td>\n      <td>Unf</td>\n      <td>0</td>\n      <td>1573</td>\n      <td>1573</td>\n      <td>GasA</td>\n      <td>Ex</td>\n      <td>Y</td>\n      <td>SBrkr</td>\n      <td>1578</td>\n      <td>0</td>\n      <td>0</td>\n      <td>1578</td>\n      <td>0</td>\n      <td>0</td>\n      <td>2</td>\n      <td>0</td>\n      <td>3</td>\n      <td>1</td>\n      <td>Ex</td>\n      <td>7</td>\n      <td>Typ</td>\n      <td>1</td>\n      <td>Gd</td>\n      <td>Attchd</td>\n      <td>2008.0</td>\n      <td>Fin</td>\n      <td>3</td>\n      <td>840</td>\n      <td>TA</td>\n      <td>TA</td>\n      <td>Y</td>\n      <td>0</td>\n      <td>36</td>\n      <td>0</td>\n      <td>0</td>\n      <td>0</td>\n      <td>0</td>\n      <td>NaN</td>\n      <td>NaN</td>\n      <td>NaN</td>\n      <td>0</td>\n      <td>5</td>\n      <td>2009</td>\n      <td>New</td>\n      <td>Partial</td>\n      <td>287090</td>\n    </tr>\n    <tr>\n      <th>1452</th>\n      <td>1453</td>\n      <td>180</td>\n      <td>RM</td>\n      <td>35.0</td>\n      <td>3675</td>\n      <td>Pave</td>\n      <td>NaN</td>\n      <td>Reg</td>\n      <td>Lvl</td>\n      <td>AllPub</td>\n      <td>Inside</td>\n      <td>Gtl</td>\n      <td>Edwards</td>\n      <td>Norm</td>\n      <td>Norm</td>\n      <td>TwnhsE</td>\n      <td>SLvl</td>\n      <td>5</td>\n      <td>5</td>\n      <td>2005</td>\n      <td>2005</td>\n      <td>Gable</td>\n      <td>CompShg</td>\n      <td>VinylSd</td>\n      <td>VinylSd</td>\n      <td>BrkFace</td>\n      <td>80.0</td>\n      <td>TA</td>\n      <td>TA</td>\n      <td>PConc</td>\n      <td>Gd</td>\n      <td>TA</td>\n      <td>Gd</td>\n      <td>GLQ</td>\n      <td>547</td>\n      <td>Unf</td>\n      <td>0</td>\n      <td>0</td>\n      <td>547</td>\n      <td>GasA</td>\n      <td>Gd</td>\n      <td>Y</td>\n      <td>SBrkr</td>\n      <td>1072</td>\n      <td>0</td>\n      <td>0</td>\n      <td>1072</td>\n      <td>1</td>\n      <td>0</td>\n      <td>1</td>\n      <td>0</td>\n      <td>2</td>\n      <td>1</td>\n      <td>TA</td>\n      <td>5</td>\n      <td>Typ</td>\n      <td>0</td>\n      <td>NaN</td>\n      <td>Basment</td>\n      <td>2005.0</td>\n      <td>Fin</td>\n      <td>2</td>\n      <td>525</td>\n      <td>TA</td>\n      <td>TA</td>\n      <td>Y</td>\n      <td>0</td>\n      <td>28</td>\n      <td>0</td>\n      <td>0</td>\n      <td>0</td>\n      <td>0</td>\n      <td>NaN</td>\n      <td>NaN</td>\n      <td>NaN</td>\n      <td>0</td>\n      <td>5</td>\n      <td>2006</td>\n      <td>WD</td>\n      <td>Normal</td>\n      <td>145000</td>\n    </tr>\n    <tr>\n      <th>1453</th>\n      <td>1454</td>\n      <td>20</td>\n      <td>RL</td>\n      <td>90.0</td>\n      <td>17217</td>\n      <td>Pave</td>\n      <td>NaN</td>\n      <td>Reg</td>\n      <td>Lvl</td>\n      <td>AllPub</td>\n      <td>Inside</td>\n      <td>Gtl</td>\n      <td>Mitchel</td>\n      <td>Norm</td>\n      <td>Norm</td>\n      <td>1Fam</td>\n      <td>1Story</td>\n      <td>5</td>\n      <td>5</td>\n      <td>2006</td>\n      <td>2006</td>\n      <td>Gable</td>\n      <td>CompShg</td>\n      <td>VinylSd</td>\n      <td>VinylSd</td>\n      <td>NaN</td>\n      <td>0.0</td>\n      <td>TA</td>\n      <td>TA</td>\n      <td>PConc</td>\n      <td>Gd</td>\n      <td>TA</td>\n      <td>No</td>\n      <td>Unf</td>\n      <td>0</td>\n      <td>Unf</td>\n      <td>0</td>\n      <td>1140</td>\n      <td>1140</td>\n      <td>GasA</td>\n      <td>Ex</td>\n      <td>Y</td>\n      <td>SBrkr</td>\n      <td>1140</td>\n      <td>0</td>\n      <td>0</td>\n      <td>1140</td>\n      <td>0</td>\n      <td>0</td>\n      <td>1</td>\n      <td>0</td>\n      <td>3</td>\n      <td>1</td>\n      <td>TA</td>\n      <td>6</td>\n      <td>Typ</td>\n      <td>0</td>\n      <td>NaN</td>\n      <td>NaN</td>\n      <td>NaN</td>\n      <td>NaN</td>\n      <td>0</td>\n      <td>0</td>\n      <td>NaN</td>\n      <td>NaN</td>\n      <td>Y</td>\n      <td>36</td>\n      <td>56</td>\n      <td>0</td>\n      <td>0</td>\n      <td>0</td>\n      <td>0</td>\n      <td>NaN</td>\n      <td>NaN</td>\n      <td>NaN</td>\n      <td>0</td>\n      <td>7</td>\n      <td>2006</td>\n      <td>WD</td>\n      <td>Abnorml</td>\n      <td>84500</td>\n    </tr>\n    <tr>\n      <th>1454</th>\n      <td>1455</td>\n      <td>20</td>\n      <td>FV</td>\n      <td>62.0</td>\n      <td>7500</td>\n      <td>Pave</td>\n      <td>Pave</td>\n      <td>Reg</td>\n      <td>Lvl</td>\n      <td>AllPub</td>\n      <td>Inside</td>\n      <td>Gtl</td>\n      <td>Somerst</td>\n      <td>Norm</td>\n      <td>Norm</td>\n      <td>1Fam</td>\n      <td>1Story</td>\n      <td>7</td>\n      <td>5</td>\n      <td>2004</td>\n      <td>2005</td>\n      <td>Gable</td>\n      <td>CompShg</td>\n      <td>VinylSd</td>\n      <td>VinylSd</td>\n      <td>NaN</td>\n      <td>0.0</td>\n      <td>Gd</td>\n      <td>TA</td>\n      <td>PConc</td>\n      <td>Gd</td>\n      <td>TA</td>\n      <td>No</td>\n      <td>GLQ</td>\n      <td>410</td>\n      <td>Unf</td>\n      <td>0</td>\n      <td>811</td>\n      <td>1221</td>\n      <td>GasA</td>\n      <td>Ex</td>\n      <td>Y</td>\n      <td>SBrkr</td>\n      <td>1221</td>\n      <td>0</td>\n      <td>0</td>\n      <td>1221</td>\n      <td>1</td>\n      <td>0</td>\n      <td>2</td>\n      <td>0</td>\n      <td>2</td>\n      <td>1</td>\n      <td>Gd</td>\n      <td>6</td>\n      <td>Typ</td>\n      <td>0</td>\n      <td>NaN</td>\n      <td>Attchd</td>\n      <td>2004.0</td>\n      <td>RFn</td>\n      <td>2</td>\n      <td>400</td>\n      <td>TA</td>\n      <td>TA</td>\n      <td>Y</td>\n      <td>0</td>\n      <td>113</td>\n      <td>0</td>\n      <td>0</td>\n      <td>0</td>\n      <td>0</td>\n      <td>NaN</td>\n      <td>NaN</td>\n      <td>NaN</td>\n      <td>0</td>\n      <td>10</td>\n      <td>2009</td>\n      <td>WD</td>\n      <td>Normal</td>\n      <td>185000</td>\n    </tr>\n  </tbody>\n</table>\n<p>364 rows × 81 columns</p>\n</div>"
     },
     "execution_count": 465,
     "metadata": {},
     "output_type": "execute_result"
    }
   ],
   "source": [
    "house_data[house_data.YearBuilt > 2000]"
   ],
   "id": "1e26ff857e6174af"
  },
  {
   "cell_type": "markdown",
   "metadata": {},
   "source": [
    "Y si queremos tambien seleccionar una columna (o columnas), hacemos esto con `loc` asi"
   ],
   "id": "3822381ea043a673"
  },
  {
   "cell_type": "code",
   "execution_count": 466,
   "metadata": {
    "ExecuteTime": {
     "end_time": "2023-11-13T18:04:13.425568Z",
     "start_time": "2023-11-13T18:04:12.507992Z"
    }
   },
   "outputs": [
    {
     "data": {
      "text/plain": "      YearBuilt  SalePrice\n50         1997     177000\n72         1998     185000\n84         1995     168500\n86         2005     174000\n95         1993     185000\n...         ...        ...\n1388       2006     377500\n1401       2004     193000\n1430       2005     192140\n1433       2000     186500\n1455       1999     175000\n\n[79 rows x 2 columns]",
      "text/html": "<div>\n<style scoped>\n    .dataframe tbody tr th:only-of-type {\n        vertical-align: middle;\n    }\n\n    .dataframe tbody tr th {\n        vertical-align: top;\n    }\n\n    .dataframe thead th {\n        text-align: right;\n    }\n</style>\n<table border=\"1\" class=\"dataframe\">\n  <thead>\n    <tr style=\"text-align: right;\">\n      <th></th>\n      <th>YearBuilt</th>\n      <th>SalePrice</th>\n    </tr>\n  </thead>\n  <tbody>\n    <tr>\n      <th>50</th>\n      <td>1997</td>\n      <td>177000</td>\n    </tr>\n    <tr>\n      <th>72</th>\n      <td>1998</td>\n      <td>185000</td>\n    </tr>\n    <tr>\n      <th>84</th>\n      <td>1995</td>\n      <td>168500</td>\n    </tr>\n    <tr>\n      <th>86</th>\n      <td>2005</td>\n      <td>174000</td>\n    </tr>\n    <tr>\n      <th>95</th>\n      <td>1993</td>\n      <td>185000</td>\n    </tr>\n    <tr>\n      <th>...</th>\n      <td>...</td>\n      <td>...</td>\n    </tr>\n    <tr>\n      <th>1388</th>\n      <td>2006</td>\n      <td>377500</td>\n    </tr>\n    <tr>\n      <th>1401</th>\n      <td>2004</td>\n      <td>193000</td>\n    </tr>\n    <tr>\n      <th>1430</th>\n      <td>2005</td>\n      <td>192140</td>\n    </tr>\n    <tr>\n      <th>1433</th>\n      <td>2000</td>\n      <td>186500</td>\n    </tr>\n    <tr>\n      <th>1455</th>\n      <td>1999</td>\n      <td>175000</td>\n    </tr>\n  </tbody>\n</table>\n<p>79 rows × 2 columns</p>\n</div>"
     },
     "execution_count": 466,
     "metadata": {},
     "output_type": "execute_result"
    }
   ],
   "source": [
    "house_data.loc[house_data.Neighborhood == 'Gilbert', ['YearBuilt', 'SalePrice']]"
   ],
   "id": "beafbf53536ee9a5"
  },
  {
   "cell_type": "markdown",
   "metadata": {},
   "source": [
    "### El index: lo bueno, lo malo, y lo feo...\n",
    "Para su funcionamiento correcto, Pandas invento un concepto que se llama el \"index\". El index es un identificador de una fila que permite seleccionar esta fila o hasta \"unificar\" datos separados haciendo un \"join\" implicito utilizando este index."
   ],
   "id": "523c71516c7e91a6"
  },
  {
   "cell_type": "code",
   "execution_count": 467,
   "metadata": {
    "ExecuteTime": {
     "end_time": "2023-11-13T18:04:13.516738800Z",
     "start_time": "2023-11-13T18:04:12.532444700Z"
    }
   },
   "outputs": [
    {
     "data": {
      "text/plain": "   Id  MSSubClass MSZoning  LotFrontage  LotArea Street Alley LotShape  \\\n5   6          50       RL         85.0    14115   Pave   NaN      IR1   \n6   7          20       RL         75.0    10084   Pave   NaN      Reg   \n7   8          60       RL          NaN    10382   Pave   NaN      IR1   \n8   9          50       RM         51.0     6120   Pave   NaN      Reg   \n9  10         190       RL         50.0     7420   Pave   NaN      Reg   \n\n  LandContour Utilities LotConfig LandSlope Neighborhood Condition1  \\\n5         Lvl    AllPub    Inside       Gtl      Mitchel       Norm   \n6         Lvl    AllPub    Inside       Gtl      Somerst       Norm   \n7         Lvl    AllPub    Corner       Gtl       NWAmes       PosN   \n8         Lvl    AllPub    Inside       Gtl      OldTown     Artery   \n9         Lvl    AllPub    Corner       Gtl      BrkSide     Artery   \n\n  Condition2 BldgType HouseStyle  OverallQual  OverallCond  YearBuilt  \\\n5       Norm     1Fam     1.5Fin            5            5       1993   \n6       Norm     1Fam     1Story            8            5       2004   \n7       Norm     1Fam     2Story            7            6       1973   \n8       Norm     1Fam     1.5Fin            7            5       1931   \n9     Artery   2fmCon     1.5Unf            5            6       1939   \n\n   YearRemodAdd RoofStyle RoofMatl Exterior1st Exterior2nd MasVnrType  \\\n5          1995     Gable  CompShg     VinylSd     VinylSd        NaN   \n6          2005     Gable  CompShg     VinylSd     VinylSd      Stone   \n7          1973     Gable  CompShg     HdBoard     HdBoard      Stone   \n8          1950     Gable  CompShg     BrkFace     Wd Shng        NaN   \n9          1950     Gable  CompShg     MetalSd     MetalSd        NaN   \n\n   MasVnrArea ExterQual ExterCond Foundation BsmtQual BsmtCond BsmtExposure  \\\n5         0.0        TA        TA       Wood       Gd       TA           No   \n6       186.0        Gd        TA      PConc       Ex       TA           Av   \n7       240.0        TA        TA     CBlock       Gd       TA           Mn   \n8         0.0        TA        TA     BrkTil       TA       TA           No   \n9         0.0        TA        TA     BrkTil       TA       TA           No   \n\n  BsmtFinType1  BsmtFinSF1 BsmtFinType2  BsmtFinSF2  BsmtUnfSF  TotalBsmtSF  \\\n5          GLQ         732          Unf           0         64          796   \n6          GLQ        1369          Unf           0        317         1686   \n7          ALQ         859          BLQ          32        216         1107   \n8          Unf           0          Unf           0        952          952   \n9          GLQ         851          Unf           0        140          991   \n\n  Heating HeatingQC CentralAir Electrical  1stFlrSF  2ndFlrSF  LowQualFinSF  \\\n5    GasA        Ex          Y      SBrkr       796       566             0   \n6    GasA        Ex          Y      SBrkr      1694         0             0   \n7    GasA        Ex          Y      SBrkr      1107       983             0   \n8    GasA        Gd          Y      FuseF      1022       752             0   \n9    GasA        Ex          Y      SBrkr      1077         0             0   \n\n   GrLivArea  BsmtFullBath  BsmtHalfBath  FullBath  HalfBath  BedroomAbvGr  \\\n5       1362             1             0         1         1             1   \n6       1694             1             0         2         0             3   \n7       2090             1             0         2         1             3   \n8       1774             0             0         2         0             2   \n9       1077             1             0         1         0             2   \n\n   KitchenAbvGr KitchenQual  TotRmsAbvGrd Functional  Fireplaces FireplaceQu  \\\n5             1          TA             5        Typ           0         NaN   \n6             1          Gd             7        Typ           1          Gd   \n7             1          TA             7        Typ           2          TA   \n8             2          TA             8       Min1           2          TA   \n9             2          TA             5        Typ           2          TA   \n\n  GarageType  GarageYrBlt GarageFinish  GarageCars  GarageArea GarageQual  \\\n5     Attchd       1993.0          Unf           2         480         TA   \n6     Attchd       2004.0          RFn           2         636         TA   \n7     Attchd       1973.0          RFn           2         484         TA   \n8     Detchd       1931.0          Unf           2         468         Fa   \n9     Attchd       1939.0          RFn           1         205         Gd   \n\n  GarageCond PavedDrive  WoodDeckSF  OpenPorchSF  EnclosedPorch  3SsnPorch  \\\n5         TA          Y          40           30              0        320   \n6         TA          Y         255           57              0          0   \n7         TA          Y         235          204            228          0   \n8         TA          Y          90            0            205          0   \n9         TA          Y           0            4              0          0   \n\n   ScreenPorch  PoolArea PoolQC  Fence MiscFeature  MiscVal  MoSold  YrSold  \\\n5            0         0    NaN  MnPrv        Shed      700      10    2009   \n6            0         0    NaN    NaN         NaN        0       8    2007   \n7            0         0    NaN    NaN        Shed      350      11    2009   \n8            0         0    NaN    NaN         NaN        0       4    2008   \n9            0         0    NaN    NaN         NaN        0       1    2008   \n\n  SaleType SaleCondition  SalePrice  \n5       WD        Normal     143000  \n6       WD        Normal     307000  \n7       WD        Normal     200000  \n8       WD       Abnorml     129900  \n9       WD        Normal     118000  ",
      "text/html": "<div>\n<style scoped>\n    .dataframe tbody tr th:only-of-type {\n        vertical-align: middle;\n    }\n\n    .dataframe tbody tr th {\n        vertical-align: top;\n    }\n\n    .dataframe thead th {\n        text-align: right;\n    }\n</style>\n<table border=\"1\" class=\"dataframe\">\n  <thead>\n    <tr style=\"text-align: right;\">\n      <th></th>\n      <th>Id</th>\n      <th>MSSubClass</th>\n      <th>MSZoning</th>\n      <th>LotFrontage</th>\n      <th>LotArea</th>\n      <th>Street</th>\n      <th>Alley</th>\n      <th>LotShape</th>\n      <th>LandContour</th>\n      <th>Utilities</th>\n      <th>LotConfig</th>\n      <th>LandSlope</th>\n      <th>Neighborhood</th>\n      <th>Condition1</th>\n      <th>Condition2</th>\n      <th>BldgType</th>\n      <th>HouseStyle</th>\n      <th>OverallQual</th>\n      <th>OverallCond</th>\n      <th>YearBuilt</th>\n      <th>YearRemodAdd</th>\n      <th>RoofStyle</th>\n      <th>RoofMatl</th>\n      <th>Exterior1st</th>\n      <th>Exterior2nd</th>\n      <th>MasVnrType</th>\n      <th>MasVnrArea</th>\n      <th>ExterQual</th>\n      <th>ExterCond</th>\n      <th>Foundation</th>\n      <th>BsmtQual</th>\n      <th>BsmtCond</th>\n      <th>BsmtExposure</th>\n      <th>BsmtFinType1</th>\n      <th>BsmtFinSF1</th>\n      <th>BsmtFinType2</th>\n      <th>BsmtFinSF2</th>\n      <th>BsmtUnfSF</th>\n      <th>TotalBsmtSF</th>\n      <th>Heating</th>\n      <th>HeatingQC</th>\n      <th>CentralAir</th>\n      <th>Electrical</th>\n      <th>1stFlrSF</th>\n      <th>2ndFlrSF</th>\n      <th>LowQualFinSF</th>\n      <th>GrLivArea</th>\n      <th>BsmtFullBath</th>\n      <th>BsmtHalfBath</th>\n      <th>FullBath</th>\n      <th>HalfBath</th>\n      <th>BedroomAbvGr</th>\n      <th>KitchenAbvGr</th>\n      <th>KitchenQual</th>\n      <th>TotRmsAbvGrd</th>\n      <th>Functional</th>\n      <th>Fireplaces</th>\n      <th>FireplaceQu</th>\n      <th>GarageType</th>\n      <th>GarageYrBlt</th>\n      <th>GarageFinish</th>\n      <th>GarageCars</th>\n      <th>GarageArea</th>\n      <th>GarageQual</th>\n      <th>GarageCond</th>\n      <th>PavedDrive</th>\n      <th>WoodDeckSF</th>\n      <th>OpenPorchSF</th>\n      <th>EnclosedPorch</th>\n      <th>3SsnPorch</th>\n      <th>ScreenPorch</th>\n      <th>PoolArea</th>\n      <th>PoolQC</th>\n      <th>Fence</th>\n      <th>MiscFeature</th>\n      <th>MiscVal</th>\n      <th>MoSold</th>\n      <th>YrSold</th>\n      <th>SaleType</th>\n      <th>SaleCondition</th>\n      <th>SalePrice</th>\n    </tr>\n  </thead>\n  <tbody>\n    <tr>\n      <th>5</th>\n      <td>6</td>\n      <td>50</td>\n      <td>RL</td>\n      <td>85.0</td>\n      <td>14115</td>\n      <td>Pave</td>\n      <td>NaN</td>\n      <td>IR1</td>\n      <td>Lvl</td>\n      <td>AllPub</td>\n      <td>Inside</td>\n      <td>Gtl</td>\n      <td>Mitchel</td>\n      <td>Norm</td>\n      <td>Norm</td>\n      <td>1Fam</td>\n      <td>1.5Fin</td>\n      <td>5</td>\n      <td>5</td>\n      <td>1993</td>\n      <td>1995</td>\n      <td>Gable</td>\n      <td>CompShg</td>\n      <td>VinylSd</td>\n      <td>VinylSd</td>\n      <td>NaN</td>\n      <td>0.0</td>\n      <td>TA</td>\n      <td>TA</td>\n      <td>Wood</td>\n      <td>Gd</td>\n      <td>TA</td>\n      <td>No</td>\n      <td>GLQ</td>\n      <td>732</td>\n      <td>Unf</td>\n      <td>0</td>\n      <td>64</td>\n      <td>796</td>\n      <td>GasA</td>\n      <td>Ex</td>\n      <td>Y</td>\n      <td>SBrkr</td>\n      <td>796</td>\n      <td>566</td>\n      <td>0</td>\n      <td>1362</td>\n      <td>1</td>\n      <td>0</td>\n      <td>1</td>\n      <td>1</td>\n      <td>1</td>\n      <td>1</td>\n      <td>TA</td>\n      <td>5</td>\n      <td>Typ</td>\n      <td>0</td>\n      <td>NaN</td>\n      <td>Attchd</td>\n      <td>1993.0</td>\n      <td>Unf</td>\n      <td>2</td>\n      <td>480</td>\n      <td>TA</td>\n      <td>TA</td>\n      <td>Y</td>\n      <td>40</td>\n      <td>30</td>\n      <td>0</td>\n      <td>320</td>\n      <td>0</td>\n      <td>0</td>\n      <td>NaN</td>\n      <td>MnPrv</td>\n      <td>Shed</td>\n      <td>700</td>\n      <td>10</td>\n      <td>2009</td>\n      <td>WD</td>\n      <td>Normal</td>\n      <td>143000</td>\n    </tr>\n    <tr>\n      <th>6</th>\n      <td>7</td>\n      <td>20</td>\n      <td>RL</td>\n      <td>75.0</td>\n      <td>10084</td>\n      <td>Pave</td>\n      <td>NaN</td>\n      <td>Reg</td>\n      <td>Lvl</td>\n      <td>AllPub</td>\n      <td>Inside</td>\n      <td>Gtl</td>\n      <td>Somerst</td>\n      <td>Norm</td>\n      <td>Norm</td>\n      <td>1Fam</td>\n      <td>1Story</td>\n      <td>8</td>\n      <td>5</td>\n      <td>2004</td>\n      <td>2005</td>\n      <td>Gable</td>\n      <td>CompShg</td>\n      <td>VinylSd</td>\n      <td>VinylSd</td>\n      <td>Stone</td>\n      <td>186.0</td>\n      <td>Gd</td>\n      <td>TA</td>\n      <td>PConc</td>\n      <td>Ex</td>\n      <td>TA</td>\n      <td>Av</td>\n      <td>GLQ</td>\n      <td>1369</td>\n      <td>Unf</td>\n      <td>0</td>\n      <td>317</td>\n      <td>1686</td>\n      <td>GasA</td>\n      <td>Ex</td>\n      <td>Y</td>\n      <td>SBrkr</td>\n      <td>1694</td>\n      <td>0</td>\n      <td>0</td>\n      <td>1694</td>\n      <td>1</td>\n      <td>0</td>\n      <td>2</td>\n      <td>0</td>\n      <td>3</td>\n      <td>1</td>\n      <td>Gd</td>\n      <td>7</td>\n      <td>Typ</td>\n      <td>1</td>\n      <td>Gd</td>\n      <td>Attchd</td>\n      <td>2004.0</td>\n      <td>RFn</td>\n      <td>2</td>\n      <td>636</td>\n      <td>TA</td>\n      <td>TA</td>\n      <td>Y</td>\n      <td>255</td>\n      <td>57</td>\n      <td>0</td>\n      <td>0</td>\n      <td>0</td>\n      <td>0</td>\n      <td>NaN</td>\n      <td>NaN</td>\n      <td>NaN</td>\n      <td>0</td>\n      <td>8</td>\n      <td>2007</td>\n      <td>WD</td>\n      <td>Normal</td>\n      <td>307000</td>\n    </tr>\n    <tr>\n      <th>7</th>\n      <td>8</td>\n      <td>60</td>\n      <td>RL</td>\n      <td>NaN</td>\n      <td>10382</td>\n      <td>Pave</td>\n      <td>NaN</td>\n      <td>IR1</td>\n      <td>Lvl</td>\n      <td>AllPub</td>\n      <td>Corner</td>\n      <td>Gtl</td>\n      <td>NWAmes</td>\n      <td>PosN</td>\n      <td>Norm</td>\n      <td>1Fam</td>\n      <td>2Story</td>\n      <td>7</td>\n      <td>6</td>\n      <td>1973</td>\n      <td>1973</td>\n      <td>Gable</td>\n      <td>CompShg</td>\n      <td>HdBoard</td>\n      <td>HdBoard</td>\n      <td>Stone</td>\n      <td>240.0</td>\n      <td>TA</td>\n      <td>TA</td>\n      <td>CBlock</td>\n      <td>Gd</td>\n      <td>TA</td>\n      <td>Mn</td>\n      <td>ALQ</td>\n      <td>859</td>\n      <td>BLQ</td>\n      <td>32</td>\n      <td>216</td>\n      <td>1107</td>\n      <td>GasA</td>\n      <td>Ex</td>\n      <td>Y</td>\n      <td>SBrkr</td>\n      <td>1107</td>\n      <td>983</td>\n      <td>0</td>\n      <td>2090</td>\n      <td>1</td>\n      <td>0</td>\n      <td>2</td>\n      <td>1</td>\n      <td>3</td>\n      <td>1</td>\n      <td>TA</td>\n      <td>7</td>\n      <td>Typ</td>\n      <td>2</td>\n      <td>TA</td>\n      <td>Attchd</td>\n      <td>1973.0</td>\n      <td>RFn</td>\n      <td>2</td>\n      <td>484</td>\n      <td>TA</td>\n      <td>TA</td>\n      <td>Y</td>\n      <td>235</td>\n      <td>204</td>\n      <td>228</td>\n      <td>0</td>\n      <td>0</td>\n      <td>0</td>\n      <td>NaN</td>\n      <td>NaN</td>\n      <td>Shed</td>\n      <td>350</td>\n      <td>11</td>\n      <td>2009</td>\n      <td>WD</td>\n      <td>Normal</td>\n      <td>200000</td>\n    </tr>\n    <tr>\n      <th>8</th>\n      <td>9</td>\n      <td>50</td>\n      <td>RM</td>\n      <td>51.0</td>\n      <td>6120</td>\n      <td>Pave</td>\n      <td>NaN</td>\n      <td>Reg</td>\n      <td>Lvl</td>\n      <td>AllPub</td>\n      <td>Inside</td>\n      <td>Gtl</td>\n      <td>OldTown</td>\n      <td>Artery</td>\n      <td>Norm</td>\n      <td>1Fam</td>\n      <td>1.5Fin</td>\n      <td>7</td>\n      <td>5</td>\n      <td>1931</td>\n      <td>1950</td>\n      <td>Gable</td>\n      <td>CompShg</td>\n      <td>BrkFace</td>\n      <td>Wd Shng</td>\n      <td>NaN</td>\n      <td>0.0</td>\n      <td>TA</td>\n      <td>TA</td>\n      <td>BrkTil</td>\n      <td>TA</td>\n      <td>TA</td>\n      <td>No</td>\n      <td>Unf</td>\n      <td>0</td>\n      <td>Unf</td>\n      <td>0</td>\n      <td>952</td>\n      <td>952</td>\n      <td>GasA</td>\n      <td>Gd</td>\n      <td>Y</td>\n      <td>FuseF</td>\n      <td>1022</td>\n      <td>752</td>\n      <td>0</td>\n      <td>1774</td>\n      <td>0</td>\n      <td>0</td>\n      <td>2</td>\n      <td>0</td>\n      <td>2</td>\n      <td>2</td>\n      <td>TA</td>\n      <td>8</td>\n      <td>Min1</td>\n      <td>2</td>\n      <td>TA</td>\n      <td>Detchd</td>\n      <td>1931.0</td>\n      <td>Unf</td>\n      <td>2</td>\n      <td>468</td>\n      <td>Fa</td>\n      <td>TA</td>\n      <td>Y</td>\n      <td>90</td>\n      <td>0</td>\n      <td>205</td>\n      <td>0</td>\n      <td>0</td>\n      <td>0</td>\n      <td>NaN</td>\n      <td>NaN</td>\n      <td>NaN</td>\n      <td>0</td>\n      <td>4</td>\n      <td>2008</td>\n      <td>WD</td>\n      <td>Abnorml</td>\n      <td>129900</td>\n    </tr>\n    <tr>\n      <th>9</th>\n      <td>10</td>\n      <td>190</td>\n      <td>RL</td>\n      <td>50.0</td>\n      <td>7420</td>\n      <td>Pave</td>\n      <td>NaN</td>\n      <td>Reg</td>\n      <td>Lvl</td>\n      <td>AllPub</td>\n      <td>Corner</td>\n      <td>Gtl</td>\n      <td>BrkSide</td>\n      <td>Artery</td>\n      <td>Artery</td>\n      <td>2fmCon</td>\n      <td>1.5Unf</td>\n      <td>5</td>\n      <td>6</td>\n      <td>1939</td>\n      <td>1950</td>\n      <td>Gable</td>\n      <td>CompShg</td>\n      <td>MetalSd</td>\n      <td>MetalSd</td>\n      <td>NaN</td>\n      <td>0.0</td>\n      <td>TA</td>\n      <td>TA</td>\n      <td>BrkTil</td>\n      <td>TA</td>\n      <td>TA</td>\n      <td>No</td>\n      <td>GLQ</td>\n      <td>851</td>\n      <td>Unf</td>\n      <td>0</td>\n      <td>140</td>\n      <td>991</td>\n      <td>GasA</td>\n      <td>Ex</td>\n      <td>Y</td>\n      <td>SBrkr</td>\n      <td>1077</td>\n      <td>0</td>\n      <td>0</td>\n      <td>1077</td>\n      <td>1</td>\n      <td>0</td>\n      <td>1</td>\n      <td>0</td>\n      <td>2</td>\n      <td>2</td>\n      <td>TA</td>\n      <td>5</td>\n      <td>Typ</td>\n      <td>2</td>\n      <td>TA</td>\n      <td>Attchd</td>\n      <td>1939.0</td>\n      <td>RFn</td>\n      <td>1</td>\n      <td>205</td>\n      <td>Gd</td>\n      <td>TA</td>\n      <td>Y</td>\n      <td>0</td>\n      <td>4</td>\n      <td>0</td>\n      <td>0</td>\n      <td>0</td>\n      <td>0</td>\n      <td>NaN</td>\n      <td>NaN</td>\n      <td>NaN</td>\n      <td>0</td>\n      <td>1</td>\n      <td>2008</td>\n      <td>WD</td>\n      <td>Normal</td>\n      <td>118000</td>\n    </tr>\n  </tbody>\n</table>\n</div>"
     },
     "execution_count": 467,
     "metadata": {},
     "output_type": "execute_result"
    }
   ],
   "source": [
    "# Example showing selection\n",
    "house_data.loc[range(5, 10)]"
   ],
   "id": "2bd1b811c434ed41"
  },
  {
   "cell_type": "code",
   "execution_count": 468,
   "metadata": {
    "ExecuteTime": {
     "end_time": "2023-11-13T18:04:13.516738800Z",
     "start_time": "2023-11-13T18:04:12.535825300Z"
    }
   },
   "outputs": [
    {
     "data": {
      "text/plain": "5    Mitchel\n6    Somerst\n7     NWAmes\n8    OldTown\n9    BrkSide\nName: Neighborhood, dtype: object"
     },
     "execution_count": 468,
     "metadata": {},
     "output_type": "execute_result"
    }
   ],
   "source": [
    "# Example separating data with a condition and then adding it back on\n",
    "selected_data = house_data.loc[range(5, 10), 'Neighborhood']\n",
    "selected_data"
   ],
   "id": "ec33835d0675c2f8"
  },
  {
   "cell_type": "code",
   "execution_count": 469,
   "metadata": {
    "ExecuteTime": {
     "end_time": "2023-11-13T18:04:13.544667Z",
     "start_time": "2023-11-13T18:04:12.540618200Z"
    }
   },
   "outputs": [
    {
     "data": {
      "text/plain": "5    Mitchel_test\n6    Somerst_test\n7     NWAmes_test\n8    OldTown_test\n9    BrkSide_test\nName: Neighborhood, dtype: object"
     },
     "execution_count": 469,
     "metadata": {},
     "output_type": "execute_result"
    }
   ],
   "source": [
    "modified_data = selected_data + '_test'\n",
    "modified_data"
   ],
   "id": "ad24872e83601742"
  },
  {
   "cell_type": "code",
   "execution_count": 470,
   "metadata": {
    "ExecuteTime": {
     "end_time": "2023-11-13T18:04:13.564783500Z",
     "start_time": "2023-11-13T18:04:12.547522Z"
    }
   },
   "outputs": [],
   "source": [
    "house_data.Neighborhood = modified_data"
   ],
   "id": "5439326c1f5ef4c9"
  },
  {
   "cell_type": "code",
   "execution_count": 471,
   "metadata": {
    "ExecuteTime": {
     "end_time": "2023-11-13T18:04:13.564783500Z",
     "start_time": "2023-11-13T18:04:12.551016400Z"
    }
   },
   "outputs": [
    {
     "data": {
      "text/plain": "0             NaN\n1             NaN\n2             NaN\n3             NaN\n4             NaN\n5    Mitchel_test\n6    Somerst_test\n7     NWAmes_test\n8    OldTown_test\n9    BrkSide_test\nName: Neighborhood, dtype: object"
     },
     "execution_count": 471,
     "metadata": {},
     "output_type": "execute_result"
    }
   ],
   "source": [
    "house_data.Neighborhood.head(10)"
   ],
   "id": "4496d939539a4a84"
  },
  {
   "cell_type": "markdown",
   "metadata": {},
   "source": [
    "Ahora, el index a a veces hace cosas muy raras... vamos a intentar coger el año de construcción de la viviendo con `id = 1` y sustraerlo del año de construcción de todas las demás viviendas."
   ],
   "id": "7620784d7269151"
  },
  {
   "cell_type": "code",
   "execution_count": 472,
   "metadata": {
    "ExecuteTime": {
     "end_time": "2023-11-13T18:04:13.593640600Z",
     "start_time": "2023-11-13T18:04:12.555736400Z"
    }
   },
   "outputs": [
    {
     "data": {
      "text/plain": "0    2003\nName: YearBuilt, dtype: int64"
     },
     "execution_count": 472,
     "metadata": {},
     "output_type": "execute_result"
    }
   ],
   "source": [
    "yr_build_1 = house_data.loc[house_data.Id == 1, 'YearBuilt']\n",
    "yr_build_1\n"
   ],
   "id": "21b291ae0763df0c"
  },
  {
   "cell_type": "code",
   "execution_count": 473,
   "metadata": {
    "ExecuteTime": {
     "end_time": "2023-11-13T18:04:13.655921200Z",
     "start_time": "2023-11-13T18:04:12.560590Z"
    }
   },
   "outputs": [
    {
     "data": {
      "text/plain": "0       0.0\n1       NaN\n2       NaN\n3       NaN\n4       NaN\n       ... \n1455    NaN\n1456    NaN\n1457    NaN\n1458    NaN\n1459    NaN\nName: YearBuilt, Length: 1460, dtype: float64"
     },
     "execution_count": 473,
     "metadata": {},
     "output_type": "execute_result"
    }
   ],
   "source": [
    "house_data.YearBuilt - yr_build_1"
   ],
   "id": "a5437d5cb94bc782"
  },
  {
   "cell_type": "markdown",
   "metadata": {},
   "source": [
    "No ha funcionado porque de forma implicita Pandas ha hecho un join"
   ],
   "id": "4d9fae5e422adcd3"
  },
  {
   "cell_type": "code",
   "execution_count": 474,
   "metadata": {
    "ExecuteTime": {
     "end_time": "2023-11-13T18:04:13.655921200Z",
     "start_time": "2023-11-13T18:04:12.568616900Z"
    }
   },
   "outputs": [
    {
     "data": {
      "text/plain": "0        0\n1      -27\n2       -2\n3      -88\n4       -3\n        ..\n1455    -4\n1456   -25\n1457   -62\n1458   -53\n1459   -38\nName: YearBuilt, Length: 1460, dtype: int64"
     },
     "execution_count": 474,
     "metadata": {},
     "output_type": "execute_result"
    }
   ],
   "source": [
    "house_data.YearBuilt - yr_build_1.values"
   ],
   "id": "26434dfa79ae129c"
  },
  {
   "cell_type": "markdown",
   "metadata": {},
   "source": [
    "`values` es la propiedad de la serie que contiene solo los valores - a menudo hay que usarlo para quitar el index"
   ],
   "id": "d555097e2a2c96e"
  },
  {
   "cell_type": "code",
   "execution_count": 475,
   "metadata": {
    "ExecuteTime": {
     "end_time": "2023-11-13T18:04:13.655921200Z",
     "start_time": "2023-11-13T18:04:12.572718400Z"
    }
   },
   "outputs": [],
   "source": [
    "house_data = pd.read_csv(house_file)"
   ],
   "id": "2680b0db46b2c4c8"
  },
  {
   "cell_type": "markdown",
   "metadata": {},
   "source": [
    "## Creando columnas\n",
    "Se crean las columnas de forma facil - nos refereimos a la columna nueva como si fuera una existente y asignamos"
   ],
   "id": "3298465d5f7e7ee0"
  },
  {
   "cell_type": "code",
   "execution_count": 476,
   "metadata": {
    "ExecuteTime": {
     "end_time": "2023-11-13T18:04:13.655921200Z",
     "start_time": "2023-11-13T18:04:12.584367900Z"
    }
   },
   "outputs": [
    {
     "data": {
      "text/plain": "0       new\n1       new\n2       new\n3       new\n4       new\n       ... \n1455    new\n1456    new\n1457    new\n1458    new\n1459    new\nName: new_column, Length: 1460, dtype: object"
     },
     "execution_count": 476,
     "metadata": {},
     "output_type": "execute_result"
    }
   ],
   "source": [
    "house_data['new_column'] = 'new'\n",
    "house_data.new_column"
   ],
   "id": "7890e85b6823897"
  },
  {
   "cell_type": "code",
   "execution_count": 477,
   "metadata": {
    "ExecuteTime": {
     "end_time": "2023-11-13T18:04:13.655921200Z",
     "start_time": "2023-11-13T18:04:12.589970300Z"
    }
   },
   "outputs": [
    {
     "data": {
      "text/plain": "0       -5\n1      -32\n2       -7\n3      -93\n4       -8\n        ..\n1455    -9\n1456   -30\n1457   -67\n1458   -58\n1459   -43\nName: year_built_after_2008, Length: 1460, dtype: int64"
     },
     "execution_count": 477,
     "metadata": {},
     "output_type": "execute_result"
    }
   ],
   "source": [
    "house_data['year_built_after_2008'] = house_data.YearBuilt - 2008\n",
    "house_data.year_built_after_2008"
   ],
   "id": "46be1cca78f70d7b"
  },
  {
   "cell_type": "markdown",
   "metadata": {},
   "source": [
    "### Creando columnas para \"algunas\" filas\n",
    "Combinamos lo que ya hemos visto"
   ],
   "id": "3a92c5f5ee9cb6f6"
  },
  {
   "cell_type": "code",
   "execution_count": 478,
   "metadata": {
    "ExecuteTime": {
     "end_time": "2023-11-13T18:04:13.655921200Z",
     "start_time": "2023-11-13T18:04:12.596304400Z"
    }
   },
   "outputs": [
    {
     "name": "stderr",
     "output_type": "stream",
     "text": [
      "C:\\Users\\jsanchez\\AppData\\Local\\Temp\\ipykernel_9980\\1166970999.py:1: FutureWarning: Setting an item of incompatible dtype is deprecated and will raise in a future error of pandas. Value 'Giiiiiilbert' has dtype incompatible with float64, please explicitly cast to a compatible dtype first.\n"
     ]
    },
    {
     "data": {
      "text/plain": "0                NaN\n1                NaN\n2                NaN\n3                NaN\n4                NaN\n            ...     \n1455    Giiiiiilbert\n1456             NaN\n1457             NaN\n1458             NaN\n1459             NaN\nName: gilbert_column, Length: 1460, dtype: object"
     },
     "execution_count": 478,
     "metadata": {},
     "output_type": "execute_result"
    }
   ],
   "source": [
    "house_data.loc[house_data.Neighborhood == 'Gilbert', 'gilbert_column'] = 'Giiiiiilbert'\n",
    "house_data.gilbert_column"
   ],
   "id": "1aa37bad90302a7f"
  },
  {
   "cell_type": "code",
   "execution_count": 479,
   "id": "a8918a4c",
   "metadata": {
    "ExecuteTime": {
     "end_time": "2023-11-13T18:04:13.655921200Z",
     "start_time": "2023-11-13T18:04:12.605556100Z"
    }
   },
   "outputs": [
    {
     "data": {
      "text/plain": "50      Giiiiiilbert\n72      Giiiiiilbert\n84      Giiiiiilbert\n86      Giiiiiilbert\n95      Giiiiiilbert\n            ...     \n1388    Giiiiiilbert\n1401    Giiiiiilbert\n1430    Giiiiiilbert\n1433    Giiiiiilbert\n1455    Giiiiiilbert\nName: gilbert_column, Length: 79, dtype: object"
     },
     "execution_count": 479,
     "metadata": {},
     "output_type": "execute_result"
    }
   ],
   "source": [
    "house_data.loc[house_data.Neighborhood == 'Gilbert', 'gilbert_column']"
   ]
  },
  {
   "cell_type": "markdown",
   "metadata": {},
   "source": [
    "## Vectorizacion\n",
    "Algo muy especial de Pandas es que aprovecha de la vectorizacion de operaciones de Numpy. En Python los loops son lentos y los debemos de evitar. Entonces, como podemos hacer una operacion a todas las filas de nuestro data set? Pues simplemente aprovechamos (siempre cuando sea posible) las funciones vectorizadas\n",
    "\n",
    "Ya hemos visto algunos ejemplos"
   ],
   "id": "36713f7bd358b3f8"
  },
  {
   "cell_type": "code",
   "execution_count": 480,
   "metadata": {
    "ExecuteTime": {
     "end_time": "2023-11-13T18:04:13.655921200Z",
     "start_time": "2023-11-13T18:04:12.609589300Z"
    }
   },
   "outputs": [
    {
     "data": {
      "text/plain": "0       208.500\n1       181.500\n2       223.500\n3       140.000\n4       250.000\n         ...   \n1455    175.000\n1456    210.000\n1457    266.500\n1458    142.125\n1459    147.500\nName: SalePrice, Length: 1460, dtype: float64"
     },
     "execution_count": 480,
     "metadata": {},
     "output_type": "execute_result"
    }
   ],
   "source": [
    "# Dividir todo por 1000 sin loop\n",
    "house_data.SalePrice / 1000"
   ],
   "id": "2affdf139087dd9"
  },
  {
   "cell_type": "code",
   "execution_count": 481,
   "metadata": {
    "ExecuteTime": {
     "end_time": "2023-11-13T18:04:13.655921200Z",
     "start_time": "2023-11-13T18:04:12.614355Z"
    }
   },
   "outputs": [
    {
     "data": {
      "text/plain": "0       24.674556\n1       18.906250\n2       19.866667\n3       14.659686\n4       17.531557\n          ...    \n1455    22.104332\n1456    15.939279\n1457    29.473568\n1458    14.626428\n1459    14.843514\nLength: 1460, dtype: float64"
     },
     "execution_count": 481,
     "metadata": {},
     "output_type": "execute_result"
    }
   ],
   "source": [
    "# Ratio entre 2 columnas\n",
    "house_data.SalePrice / house_data.LotArea"
   ],
   "id": "1e48321b3f775d90"
  },
  {
   "cell_type": "markdown",
   "metadata": {},
   "source": [
    "Hay muchos ejemplos! Con operaciones basicas casi siempre hay una funciona vectorizada y merece la pena buscar. Podemos llegar a hacer cosas complejas..."
   ],
   "id": "4175994de95551be"
  },
  {
   "cell_type": "code",
   "execution_count": 482,
   "metadata": {
    "ExecuteTime": {
     "end_time": "2023-11-13T18:04:13.655921200Z",
     "start_time": "2023-11-13T18:04:12.619129600Z"
    }
   },
   "outputs": [
    {
     "data": {
      "text/plain": "7       0.000408\n14      0.000221\n16      0.000192\n19      0.000366\n26      0.000414\n          ...   \n1436    0.000202\n1439    0.000319\n1450    0.000228\n1456    0.000275\n1458    0.000225\nLength: 298, dtype: float64"
     },
     "execution_count": 482,
     "metadata": {},
     "output_type": "execute_result"
    }
   ],
   "source": [
    "((\n",
    "         (house_data.SalePrice / 1000) /\n",
    "         (house_data.LotArea - house_data.loc[house_data.Neighborhood.str.contains('Ames').fillna(False), 'GarageArea'])\n",
    " ) ** 2).dropna()"
   ],
   "id": "3cee4e6b11f050ef"
  },
  {
   "cell_type": "markdown",
   "metadata": {},
   "source": [
    "## Funciones tipicos y group bys\n",
    "Hay algunas funciones muy tipicas para operaciones normales"
   ],
   "id": "2d945ddfa52ed9b1"
  },
  {
   "cell_type": "code",
   "execution_count": 483,
   "metadata": {
    "ExecuteTime": {
     "end_time": "2023-11-13T18:04:13.655921200Z",
     "start_time": "2023-11-13T18:04:12.628050700Z"
    }
   },
   "outputs": [
    {
     "data": {
      "text/plain": "10516.828082191782"
     },
     "execution_count": 483,
     "metadata": {},
     "output_type": "execute_result"
    }
   ],
   "source": [
    "house_data.LotArea.mean()"
   ],
   "id": "5233e28b501ee6ae"
  },
  {
   "cell_type": "code",
   "execution_count": 484,
   "metadata": {
    "ExecuteTime": {
     "end_time": "2023-11-13T18:04:13.655921200Z",
     "start_time": "2023-11-13T18:04:12.631859600Z"
    }
   },
   "outputs": [
    {
     "data": {
      "text/plain": "9478.5"
     },
     "execution_count": 484,
     "metadata": {},
     "output_type": "execute_result"
    }
   ],
   "source": [
    "house_data.LotArea.median()"
   ],
   "id": "18446ffc97233017"
  },
  {
   "cell_type": "code",
   "execution_count": 485,
   "metadata": {
    "ExecuteTime": {
     "end_time": "2023-11-13T18:04:13.655921200Z",
     "start_time": "2023-11-13T18:04:12.637804400Z"
    }
   },
   "outputs": [
    {
     "data": {
      "text/plain": "215245"
     },
     "execution_count": 485,
     "metadata": {},
     "output_type": "execute_result"
    }
   ],
   "source": [
    "house_data.LotArea.max()"
   ],
   "id": "88eb15e4a921112c"
  },
  {
   "cell_type": "code",
   "execution_count": 486,
   "metadata": {
    "ExecuteTime": {
     "end_time": "2023-11-13T18:04:13.667877400Z",
     "start_time": "2023-11-13T18:04:12.640442100Z"
    }
   },
   "outputs": [
    {
     "data": {
      "text/plain": "count      1460.000000\nmean      10516.828082\nstd        9981.264932\nmin        1300.000000\n25%        7553.500000\n50%        9478.500000\n75%       11601.500000\nmax      215245.000000\nName: LotArea, dtype: float64"
     },
     "execution_count": 486,
     "metadata": {},
     "output_type": "execute_result"
    }
   ],
   "source": [
    "house_data.LotArea.describe()"
   ],
   "id": "54c504ebdd769db9"
  },
  {
   "cell_type": "code",
   "execution_count": 487,
   "metadata": {
    "ExecuteTime": {
     "end_time": "2023-11-13T18:04:13.667877400Z",
     "start_time": "2023-11-13T18:04:12.650821400Z"
    }
   },
   "outputs": [
    {
     "data": {
      "text/plain": "Neighborhood\nNAmes      225\nCollgCr    150\nOldTown    113\nEdwards    100\nSomerst     86\nGilbert     79\nNridgHt     77\nSawyer      74\nNWAmes      73\nSawyerW     59\nBrkSide     58\nCrawfor     51\nMitchel     49\nNoRidge     41\nTimber      38\nIDOTRR      37\nClearCr     28\nStoneBr     25\nSWISU       25\nMeadowV     17\nBlmngtn     17\nBrDale      16\nVeenker     11\nNPkVill      9\nBlueste      2\nName: count, dtype: int64"
     },
     "execution_count": 487,
     "metadata": {},
     "output_type": "execute_result"
    }
   ],
   "source": [
    "house_data.Neighborhood.value_counts()"
   ],
   "id": "25116bea45196026"
  },
  {
   "cell_type": "markdown",
   "metadata": {},
   "source": [
    "Tambien podemos hacer un group by como si fuera SQL - nota que ahora vamos a crear data frames nuevos donde los indedx son los \"grupos\""
   ],
   "id": "22a806423755bbe9"
  },
  {
   "cell_type": "code",
   "execution_count": 488,
   "metadata": {
    "ExecuteTime": {
     "end_time": "2023-11-13T18:04:13.667877400Z",
     "start_time": "2023-11-13T18:04:12.657084500Z"
    }
   },
   "outputs": [
    {
     "data": {
      "text/plain": "Neighborhood\nBlmngtn    191000.0\nBlueste    137500.0\nBrDale     106000.0\nBrkSide    124300.0\nClearCr    200250.0\nName: SalePrice, dtype: float64"
     },
     "execution_count": 488,
     "metadata": {},
     "output_type": "execute_result"
    }
   ],
   "source": [
    "house_data.groupby('Neighborhood').SalePrice.median().head()"
   ],
   "id": "6738e9fe33fa8ddb"
  },
  {
   "cell_type": "code",
   "execution_count": 489,
   "metadata": {
    "ExecuteTime": {
     "end_time": "2023-11-13T18:04:13.667877400Z",
     "start_time": "2023-11-13T18:04:12.664421600Z"
    }
   },
   "outputs": [
    {
     "data": {
      "text/plain": "  Neighborhood  SalePrice\n0      Blmngtn   191000.0\n1      Blueste   137500.0\n2       BrDale   106000.0\n3      BrkSide   124300.0\n4      ClearCr   200250.0",
      "text/html": "<div>\n<style scoped>\n    .dataframe tbody tr th:only-of-type {\n        vertical-align: middle;\n    }\n\n    .dataframe tbody tr th {\n        vertical-align: top;\n    }\n\n    .dataframe thead th {\n        text-align: right;\n    }\n</style>\n<table border=\"1\" class=\"dataframe\">\n  <thead>\n    <tr style=\"text-align: right;\">\n      <th></th>\n      <th>Neighborhood</th>\n      <th>SalePrice</th>\n    </tr>\n  </thead>\n  <tbody>\n    <tr>\n      <th>0</th>\n      <td>Blmngtn</td>\n      <td>191000.0</td>\n    </tr>\n    <tr>\n      <th>1</th>\n      <td>Blueste</td>\n      <td>137500.0</td>\n    </tr>\n    <tr>\n      <th>2</th>\n      <td>BrDale</td>\n      <td>106000.0</td>\n    </tr>\n    <tr>\n      <th>3</th>\n      <td>BrkSide</td>\n      <td>124300.0</td>\n    </tr>\n    <tr>\n      <th>4</th>\n      <td>ClearCr</td>\n      <td>200250.0</td>\n    </tr>\n  </tbody>\n</table>\n</div>"
     },
     "execution_count": 489,
     "metadata": {},
     "output_type": "execute_result"
    }
   ],
   "source": [
    "house_data.groupby('Neighborhood').SalePrice.median().reset_index().head()"
   ],
   "id": "1387199e9b1e822"
  },
  {
   "cell_type": "markdown",
   "metadata": {},
   "source": [
    "Existen muchas funciones - merece la pena buscar antes de ponerte a inventar algo nuevo!"
   ],
   "id": "df6739679f856543"
  },
  {
   "cell_type": "markdown",
   "metadata": {},
   "source": [
    "## Ponemos todo a prueba..."
   ],
   "id": "e7e3a5658ebdf5d5"
  },
  {
   "cell_type": "code",
   "execution_count": 490,
   "outputs": [
    {
     "data": {
      "text/plain": "   Id  MSSubClass MSZoning  LotFrontage  LotArea Street Alley LotShape  \\\n0   1          60       RL         65.0     8450   Pave   NaN      Reg   \n1   2          20       RL         80.0     9600   Pave   NaN      Reg   \n2   3          60       RL         68.0    11250   Pave   NaN      IR1   \n3   4          70       RL         60.0     9550   Pave   NaN      IR1   \n4   5          60       RL         84.0    14260   Pave   NaN      IR1   \n\n  LandContour Utilities LotConfig LandSlope Neighborhood Condition1  \\\n0         Lvl    AllPub    Inside       Gtl      CollgCr       Norm   \n1         Lvl    AllPub       FR2       Gtl      Veenker      Feedr   \n2         Lvl    AllPub    Inside       Gtl      CollgCr       Norm   \n3         Lvl    AllPub    Corner       Gtl      Crawfor       Norm   \n4         Lvl    AllPub       FR2       Gtl      NoRidge       Norm   \n\n  Condition2 BldgType HouseStyle  OverallQual  OverallCond  YearBuilt  \\\n0       Norm     1Fam     2Story            7            5       2003   \n1       Norm     1Fam     1Story            6            8       1976   \n2       Norm     1Fam     2Story            7            5       2001   \n3       Norm     1Fam     2Story            7            5       1915   \n4       Norm     1Fam     2Story            8            5       2000   \n\n   YearRemodAdd RoofStyle RoofMatl Exterior1st Exterior2nd MasVnrType  \\\n0          2003     Gable  CompShg     VinylSd     VinylSd    BrkFace   \n1          1976     Gable  CompShg     MetalSd     MetalSd        NaN   \n2          2002     Gable  CompShg     VinylSd     VinylSd    BrkFace   \n3          1970     Gable  CompShg     Wd Sdng     Wd Shng        NaN   \n4          2000     Gable  CompShg     VinylSd     VinylSd    BrkFace   \n\n   MasVnrArea ExterQual ExterCond Foundation BsmtQual BsmtCond BsmtExposure  \\\n0       196.0        Gd        TA      PConc       Gd       TA           No   \n1         0.0        TA        TA     CBlock       Gd       TA           Gd   \n2       162.0        Gd        TA      PConc       Gd       TA           Mn   \n3         0.0        TA        TA     BrkTil       TA       Gd           No   \n4       350.0        Gd        TA      PConc       Gd       TA           Av   \n\n  BsmtFinType1  BsmtFinSF1 BsmtFinType2  BsmtFinSF2  BsmtUnfSF  TotalBsmtSF  \\\n0          GLQ         706          Unf           0        150          856   \n1          ALQ         978          Unf           0        284         1262   \n2          GLQ         486          Unf           0        434          920   \n3          ALQ         216          Unf           0        540          756   \n4          GLQ         655          Unf           0        490         1145   \n\n  Heating HeatingQC CentralAir Electrical  1stFlrSF  2ndFlrSF  LowQualFinSF  \\\n0    GasA        Ex          Y      SBrkr       856       854             0   \n1    GasA        Ex          Y      SBrkr      1262         0             0   \n2    GasA        Ex          Y      SBrkr       920       866             0   \n3    GasA        Gd          Y      SBrkr       961       756             0   \n4    GasA        Ex          Y      SBrkr      1145      1053             0   \n\n   GrLivArea  BsmtFullBath  BsmtHalfBath  FullBath  HalfBath  BedroomAbvGr  \\\n0       1710             1             0         2         1             3   \n1       1262             0             1         2         0             3   \n2       1786             1             0         2         1             3   \n3       1717             1             0         1         0             3   \n4       2198             1             0         2         1             4   \n\n   KitchenAbvGr KitchenQual  TotRmsAbvGrd Functional  Fireplaces FireplaceQu  \\\n0             1          Gd             8        Typ           0         NaN   \n1             1          TA             6        Typ           1          TA   \n2             1          Gd             6        Typ           1          TA   \n3             1          Gd             7        Typ           1          Gd   \n4             1          Gd             9        Typ           1          TA   \n\n  GarageType  GarageYrBlt GarageFinish  GarageCars  GarageArea GarageQual  \\\n0     Attchd       2003.0          RFn           2         548         TA   \n1     Attchd       1976.0          RFn           2         460         TA   \n2     Attchd       2001.0          RFn           2         608         TA   \n3     Detchd       1998.0          Unf           3         642         TA   \n4     Attchd       2000.0          RFn           3         836         TA   \n\n  GarageCond PavedDrive  WoodDeckSF  OpenPorchSF  EnclosedPorch  3SsnPorch  \\\n0         TA          Y           0           61              0          0   \n1         TA          Y         298            0              0          0   \n2         TA          Y           0           42              0          0   \n3         TA          Y           0           35            272          0   \n4         TA          Y         192           84              0          0   \n\n   ScreenPorch  PoolArea PoolQC Fence MiscFeature  MiscVal  MoSold  YrSold  \\\n0            0         0    NaN   NaN         NaN        0       2    2008   \n1            0         0    NaN   NaN         NaN        0       5    2007   \n2            0         0    NaN   NaN         NaN        0       9    2008   \n3            0         0    NaN   NaN         NaN        0       2    2006   \n4            0         0    NaN   NaN         NaN        0      12    2008   \n\n  SaleType SaleCondition  SalePrice new_column  year_built_after_2008  \\\n0       WD        Normal     208500        new                     -5   \n1       WD        Normal     181500        new                    -32   \n2       WD        Normal     223500        new                     -7   \n3       WD       Abnorml     140000        new                    -93   \n4       WD        Normal     250000        new                     -8   \n\n  gilbert_column  \n0            NaN  \n1            NaN  \n2            NaN  \n3            NaN  \n4            NaN  ",
      "text/html": "<div>\n<style scoped>\n    .dataframe tbody tr th:only-of-type {\n        vertical-align: middle;\n    }\n\n    .dataframe tbody tr th {\n        vertical-align: top;\n    }\n\n    .dataframe thead th {\n        text-align: right;\n    }\n</style>\n<table border=\"1\" class=\"dataframe\">\n  <thead>\n    <tr style=\"text-align: right;\">\n      <th></th>\n      <th>Id</th>\n      <th>MSSubClass</th>\n      <th>MSZoning</th>\n      <th>LotFrontage</th>\n      <th>LotArea</th>\n      <th>Street</th>\n      <th>Alley</th>\n      <th>LotShape</th>\n      <th>LandContour</th>\n      <th>Utilities</th>\n      <th>LotConfig</th>\n      <th>LandSlope</th>\n      <th>Neighborhood</th>\n      <th>Condition1</th>\n      <th>Condition2</th>\n      <th>BldgType</th>\n      <th>HouseStyle</th>\n      <th>OverallQual</th>\n      <th>OverallCond</th>\n      <th>YearBuilt</th>\n      <th>YearRemodAdd</th>\n      <th>RoofStyle</th>\n      <th>RoofMatl</th>\n      <th>Exterior1st</th>\n      <th>Exterior2nd</th>\n      <th>MasVnrType</th>\n      <th>MasVnrArea</th>\n      <th>ExterQual</th>\n      <th>ExterCond</th>\n      <th>Foundation</th>\n      <th>BsmtQual</th>\n      <th>BsmtCond</th>\n      <th>BsmtExposure</th>\n      <th>BsmtFinType1</th>\n      <th>BsmtFinSF1</th>\n      <th>BsmtFinType2</th>\n      <th>BsmtFinSF2</th>\n      <th>BsmtUnfSF</th>\n      <th>TotalBsmtSF</th>\n      <th>Heating</th>\n      <th>HeatingQC</th>\n      <th>CentralAir</th>\n      <th>Electrical</th>\n      <th>1stFlrSF</th>\n      <th>2ndFlrSF</th>\n      <th>LowQualFinSF</th>\n      <th>GrLivArea</th>\n      <th>BsmtFullBath</th>\n      <th>BsmtHalfBath</th>\n      <th>FullBath</th>\n      <th>HalfBath</th>\n      <th>BedroomAbvGr</th>\n      <th>KitchenAbvGr</th>\n      <th>KitchenQual</th>\n      <th>TotRmsAbvGrd</th>\n      <th>Functional</th>\n      <th>Fireplaces</th>\n      <th>FireplaceQu</th>\n      <th>GarageType</th>\n      <th>GarageYrBlt</th>\n      <th>GarageFinish</th>\n      <th>GarageCars</th>\n      <th>GarageArea</th>\n      <th>GarageQual</th>\n      <th>GarageCond</th>\n      <th>PavedDrive</th>\n      <th>WoodDeckSF</th>\n      <th>OpenPorchSF</th>\n      <th>EnclosedPorch</th>\n      <th>3SsnPorch</th>\n      <th>ScreenPorch</th>\n      <th>PoolArea</th>\n      <th>PoolQC</th>\n      <th>Fence</th>\n      <th>MiscFeature</th>\n      <th>MiscVal</th>\n      <th>MoSold</th>\n      <th>YrSold</th>\n      <th>SaleType</th>\n      <th>SaleCondition</th>\n      <th>SalePrice</th>\n      <th>new_column</th>\n      <th>year_built_after_2008</th>\n      <th>gilbert_column</th>\n    </tr>\n  </thead>\n  <tbody>\n    <tr>\n      <th>0</th>\n      <td>1</td>\n      <td>60</td>\n      <td>RL</td>\n      <td>65.0</td>\n      <td>8450</td>\n      <td>Pave</td>\n      <td>NaN</td>\n      <td>Reg</td>\n      <td>Lvl</td>\n      <td>AllPub</td>\n      <td>Inside</td>\n      <td>Gtl</td>\n      <td>CollgCr</td>\n      <td>Norm</td>\n      <td>Norm</td>\n      <td>1Fam</td>\n      <td>2Story</td>\n      <td>7</td>\n      <td>5</td>\n      <td>2003</td>\n      <td>2003</td>\n      <td>Gable</td>\n      <td>CompShg</td>\n      <td>VinylSd</td>\n      <td>VinylSd</td>\n      <td>BrkFace</td>\n      <td>196.0</td>\n      <td>Gd</td>\n      <td>TA</td>\n      <td>PConc</td>\n      <td>Gd</td>\n      <td>TA</td>\n      <td>No</td>\n      <td>GLQ</td>\n      <td>706</td>\n      <td>Unf</td>\n      <td>0</td>\n      <td>150</td>\n      <td>856</td>\n      <td>GasA</td>\n      <td>Ex</td>\n      <td>Y</td>\n      <td>SBrkr</td>\n      <td>856</td>\n      <td>854</td>\n      <td>0</td>\n      <td>1710</td>\n      <td>1</td>\n      <td>0</td>\n      <td>2</td>\n      <td>1</td>\n      <td>3</td>\n      <td>1</td>\n      <td>Gd</td>\n      <td>8</td>\n      <td>Typ</td>\n      <td>0</td>\n      <td>NaN</td>\n      <td>Attchd</td>\n      <td>2003.0</td>\n      <td>RFn</td>\n      <td>2</td>\n      <td>548</td>\n      <td>TA</td>\n      <td>TA</td>\n      <td>Y</td>\n      <td>0</td>\n      <td>61</td>\n      <td>0</td>\n      <td>0</td>\n      <td>0</td>\n      <td>0</td>\n      <td>NaN</td>\n      <td>NaN</td>\n      <td>NaN</td>\n      <td>0</td>\n      <td>2</td>\n      <td>2008</td>\n      <td>WD</td>\n      <td>Normal</td>\n      <td>208500</td>\n      <td>new</td>\n      <td>-5</td>\n      <td>NaN</td>\n    </tr>\n    <tr>\n      <th>1</th>\n      <td>2</td>\n      <td>20</td>\n      <td>RL</td>\n      <td>80.0</td>\n      <td>9600</td>\n      <td>Pave</td>\n      <td>NaN</td>\n      <td>Reg</td>\n      <td>Lvl</td>\n      <td>AllPub</td>\n      <td>FR2</td>\n      <td>Gtl</td>\n      <td>Veenker</td>\n      <td>Feedr</td>\n      <td>Norm</td>\n      <td>1Fam</td>\n      <td>1Story</td>\n      <td>6</td>\n      <td>8</td>\n      <td>1976</td>\n      <td>1976</td>\n      <td>Gable</td>\n      <td>CompShg</td>\n      <td>MetalSd</td>\n      <td>MetalSd</td>\n      <td>NaN</td>\n      <td>0.0</td>\n      <td>TA</td>\n      <td>TA</td>\n      <td>CBlock</td>\n      <td>Gd</td>\n      <td>TA</td>\n      <td>Gd</td>\n      <td>ALQ</td>\n      <td>978</td>\n      <td>Unf</td>\n      <td>0</td>\n      <td>284</td>\n      <td>1262</td>\n      <td>GasA</td>\n      <td>Ex</td>\n      <td>Y</td>\n      <td>SBrkr</td>\n      <td>1262</td>\n      <td>0</td>\n      <td>0</td>\n      <td>1262</td>\n      <td>0</td>\n      <td>1</td>\n      <td>2</td>\n      <td>0</td>\n      <td>3</td>\n      <td>1</td>\n      <td>TA</td>\n      <td>6</td>\n      <td>Typ</td>\n      <td>1</td>\n      <td>TA</td>\n      <td>Attchd</td>\n      <td>1976.0</td>\n      <td>RFn</td>\n      <td>2</td>\n      <td>460</td>\n      <td>TA</td>\n      <td>TA</td>\n      <td>Y</td>\n      <td>298</td>\n      <td>0</td>\n      <td>0</td>\n      <td>0</td>\n      <td>0</td>\n      <td>0</td>\n      <td>NaN</td>\n      <td>NaN</td>\n      <td>NaN</td>\n      <td>0</td>\n      <td>5</td>\n      <td>2007</td>\n      <td>WD</td>\n      <td>Normal</td>\n      <td>181500</td>\n      <td>new</td>\n      <td>-32</td>\n      <td>NaN</td>\n    </tr>\n    <tr>\n      <th>2</th>\n      <td>3</td>\n      <td>60</td>\n      <td>RL</td>\n      <td>68.0</td>\n      <td>11250</td>\n      <td>Pave</td>\n      <td>NaN</td>\n      <td>IR1</td>\n      <td>Lvl</td>\n      <td>AllPub</td>\n      <td>Inside</td>\n      <td>Gtl</td>\n      <td>CollgCr</td>\n      <td>Norm</td>\n      <td>Norm</td>\n      <td>1Fam</td>\n      <td>2Story</td>\n      <td>7</td>\n      <td>5</td>\n      <td>2001</td>\n      <td>2002</td>\n      <td>Gable</td>\n      <td>CompShg</td>\n      <td>VinylSd</td>\n      <td>VinylSd</td>\n      <td>BrkFace</td>\n      <td>162.0</td>\n      <td>Gd</td>\n      <td>TA</td>\n      <td>PConc</td>\n      <td>Gd</td>\n      <td>TA</td>\n      <td>Mn</td>\n      <td>GLQ</td>\n      <td>486</td>\n      <td>Unf</td>\n      <td>0</td>\n      <td>434</td>\n      <td>920</td>\n      <td>GasA</td>\n      <td>Ex</td>\n      <td>Y</td>\n      <td>SBrkr</td>\n      <td>920</td>\n      <td>866</td>\n      <td>0</td>\n      <td>1786</td>\n      <td>1</td>\n      <td>0</td>\n      <td>2</td>\n      <td>1</td>\n      <td>3</td>\n      <td>1</td>\n      <td>Gd</td>\n      <td>6</td>\n      <td>Typ</td>\n      <td>1</td>\n      <td>TA</td>\n      <td>Attchd</td>\n      <td>2001.0</td>\n      <td>RFn</td>\n      <td>2</td>\n      <td>608</td>\n      <td>TA</td>\n      <td>TA</td>\n      <td>Y</td>\n      <td>0</td>\n      <td>42</td>\n      <td>0</td>\n      <td>0</td>\n      <td>0</td>\n      <td>0</td>\n      <td>NaN</td>\n      <td>NaN</td>\n      <td>NaN</td>\n      <td>0</td>\n      <td>9</td>\n      <td>2008</td>\n      <td>WD</td>\n      <td>Normal</td>\n      <td>223500</td>\n      <td>new</td>\n      <td>-7</td>\n      <td>NaN</td>\n    </tr>\n    <tr>\n      <th>3</th>\n      <td>4</td>\n      <td>70</td>\n      <td>RL</td>\n      <td>60.0</td>\n      <td>9550</td>\n      <td>Pave</td>\n      <td>NaN</td>\n      <td>IR1</td>\n      <td>Lvl</td>\n      <td>AllPub</td>\n      <td>Corner</td>\n      <td>Gtl</td>\n      <td>Crawfor</td>\n      <td>Norm</td>\n      <td>Norm</td>\n      <td>1Fam</td>\n      <td>2Story</td>\n      <td>7</td>\n      <td>5</td>\n      <td>1915</td>\n      <td>1970</td>\n      <td>Gable</td>\n      <td>CompShg</td>\n      <td>Wd Sdng</td>\n      <td>Wd Shng</td>\n      <td>NaN</td>\n      <td>0.0</td>\n      <td>TA</td>\n      <td>TA</td>\n      <td>BrkTil</td>\n      <td>TA</td>\n      <td>Gd</td>\n      <td>No</td>\n      <td>ALQ</td>\n      <td>216</td>\n      <td>Unf</td>\n      <td>0</td>\n      <td>540</td>\n      <td>756</td>\n      <td>GasA</td>\n      <td>Gd</td>\n      <td>Y</td>\n      <td>SBrkr</td>\n      <td>961</td>\n      <td>756</td>\n      <td>0</td>\n      <td>1717</td>\n      <td>1</td>\n      <td>0</td>\n      <td>1</td>\n      <td>0</td>\n      <td>3</td>\n      <td>1</td>\n      <td>Gd</td>\n      <td>7</td>\n      <td>Typ</td>\n      <td>1</td>\n      <td>Gd</td>\n      <td>Detchd</td>\n      <td>1998.0</td>\n      <td>Unf</td>\n      <td>3</td>\n      <td>642</td>\n      <td>TA</td>\n      <td>TA</td>\n      <td>Y</td>\n      <td>0</td>\n      <td>35</td>\n      <td>272</td>\n      <td>0</td>\n      <td>0</td>\n      <td>0</td>\n      <td>NaN</td>\n      <td>NaN</td>\n      <td>NaN</td>\n      <td>0</td>\n      <td>2</td>\n      <td>2006</td>\n      <td>WD</td>\n      <td>Abnorml</td>\n      <td>140000</td>\n      <td>new</td>\n      <td>-93</td>\n      <td>NaN</td>\n    </tr>\n    <tr>\n      <th>4</th>\n      <td>5</td>\n      <td>60</td>\n      <td>RL</td>\n      <td>84.0</td>\n      <td>14260</td>\n      <td>Pave</td>\n      <td>NaN</td>\n      <td>IR1</td>\n      <td>Lvl</td>\n      <td>AllPub</td>\n      <td>FR2</td>\n      <td>Gtl</td>\n      <td>NoRidge</td>\n      <td>Norm</td>\n      <td>Norm</td>\n      <td>1Fam</td>\n      <td>2Story</td>\n      <td>8</td>\n      <td>5</td>\n      <td>2000</td>\n      <td>2000</td>\n      <td>Gable</td>\n      <td>CompShg</td>\n      <td>VinylSd</td>\n      <td>VinylSd</td>\n      <td>BrkFace</td>\n      <td>350.0</td>\n      <td>Gd</td>\n      <td>TA</td>\n      <td>PConc</td>\n      <td>Gd</td>\n      <td>TA</td>\n      <td>Av</td>\n      <td>GLQ</td>\n      <td>655</td>\n      <td>Unf</td>\n      <td>0</td>\n      <td>490</td>\n      <td>1145</td>\n      <td>GasA</td>\n      <td>Ex</td>\n      <td>Y</td>\n      <td>SBrkr</td>\n      <td>1145</td>\n      <td>1053</td>\n      <td>0</td>\n      <td>2198</td>\n      <td>1</td>\n      <td>0</td>\n      <td>2</td>\n      <td>1</td>\n      <td>4</td>\n      <td>1</td>\n      <td>Gd</td>\n      <td>9</td>\n      <td>Typ</td>\n      <td>1</td>\n      <td>TA</td>\n      <td>Attchd</td>\n      <td>2000.0</td>\n      <td>RFn</td>\n      <td>3</td>\n      <td>836</td>\n      <td>TA</td>\n      <td>TA</td>\n      <td>Y</td>\n      <td>192</td>\n      <td>84</td>\n      <td>0</td>\n      <td>0</td>\n      <td>0</td>\n      <td>0</td>\n      <td>NaN</td>\n      <td>NaN</td>\n      <td>NaN</td>\n      <td>0</td>\n      <td>12</td>\n      <td>2008</td>\n      <td>WD</td>\n      <td>Normal</td>\n      <td>250000</td>\n      <td>new</td>\n      <td>-8</td>\n      <td>NaN</td>\n    </tr>\n  </tbody>\n</table>\n</div>"
     },
     "execution_count": 490,
     "metadata": {},
     "output_type": "execute_result"
    }
   ],
   "source": [
    "house_data.head()"
   ],
   "metadata": {
    "collapsed": false,
    "ExecuteTime": {
     "end_time": "2023-11-13T18:04:13.667877400Z",
     "start_time": "2023-11-13T18:04:12.672855700Z"
    }
   },
   "id": "a81c60788df9e1eb"
  },
  {
   "cell_type": "code",
   "execution_count": 491,
   "metadata": {
    "ExecuteTime": {
     "end_time": "2023-11-13T18:04:13.667877400Z",
     "start_time": "2023-11-13T18:04:12.695746200Z"
    }
   },
   "outputs": [],
   "source": [
    "# Que es la fecha de construccion, renovacion y venta mas temprana?"
   ],
   "id": "3b1402dd835bb9d2"
  },
  {
   "cell_type": "code",
   "execution_count": 492,
   "outputs": [
    {
     "name": "stdout",
     "output_type": "stream",
     "text": [
      "La fecha de construcción más temprana es 1872.\n",
      "La fecha de renovación más temprana es 1950.\n",
      "La fecha de venta más temprana es 2006.\n"
     ]
    }
   ],
   "source": [
    "min_year_built = house_data[\"YearBuilt\"].min()\n",
    "min_year_renovation = house_data[\"YearRemodAdd\"].min()\n",
    "min_year_sold = house_data[\"YrSold\"].min()\n",
    "\n",
    "print(f\"La fecha de construcción más temprana es {min_year_built}.\")\n",
    "print(f\"La fecha de renovación más temprana es {min_year_renovation}.\")\n",
    "print(f\"La fecha de venta más temprana es {min_year_sold}.\")"
   ],
   "metadata": {
    "collapsed": false,
    "ExecuteTime": {
     "end_time": "2023-11-13T18:04:13.669880500Z",
     "start_time": "2023-11-13T18:04:12.700099600Z"
    }
   },
   "id": "d28708e13af66d38"
  },
  {
   "cell_type": "code",
   "execution_count": 493,
   "metadata": {
    "ExecuteTime": {
     "end_time": "2023-11-13T18:04:13.685799100Z",
     "start_time": "2023-11-13T18:04:12.704224400Z"
    }
   },
   "outputs": [],
   "source": [
    "# Que viviendas fueron?"
   ],
   "id": "89876759080d78ce"
  },
  {
   "cell_type": "code",
   "execution_count": 494,
   "outputs": [
    {
     "name": "stdout",
     "output_type": "stream",
     "text": [
      "La vivienda con la construcción más temprana tiene el ID 1350\n",
      "La vivienda con la renovación más antigua tiene el ID 9\n",
      "La vivienda con la venta más antigua tiene el ID 4\n"
     ]
    }
   ],
   "source": [
    "record_older_year_build = house_data.loc[house_data['YearBuilt'].idxmin()]\n",
    "record_older_year_renovation = house_data.loc[house_data['YearRemodAdd'].idxmin()]\n",
    "record_older_year_sold = house_data.loc[house_data['YrSold'].idxmin()]\n",
    "\n",
    "print(f\"La vivienda con la construcción más temprana tiene el ID {record_older_year_build['Id']}\")\n",
    "print(f\"La vivienda con la renovación más antigua tiene el ID {record_older_year_renovation['Id']}\")\n",
    "print(f\"La vivienda con la venta más antigua tiene el ID {record_older_year_sold['Id']}\")"
   ],
   "metadata": {
    "collapsed": false,
    "ExecuteTime": {
     "end_time": "2023-11-13T18:04:13.685799100Z",
     "start_time": "2023-11-13T18:04:12.709015400Z"
    }
   },
   "id": "3594d283f326d9da"
  },
  {
   "cell_type": "markdown",
   "source": [
    "En los barrios con las viviendas MÁS y MENOS caras, como de grande suelen ser las viviendas?"
   ],
   "metadata": {
    "collapsed": false
   },
   "id": "f70978831514dbcd"
  },
  {
   "cell_type": "code",
   "execution_count": 495,
   "outputs": [
    {
     "data": {
      "text/plain": "Neighborhood\nBlmngtn    194870.882353\nBlueste    137500.000000\nBrDale     104493.750000\nBrkSide    124834.051724\nClearCr    212565.428571\nCollgCr    197965.773333\nCrawfor    210624.725490\nEdwards    128219.700000\nGilbert    192854.506329\nIDOTRR     100123.783784\nMeadowV     98576.470588\nMitchel    156270.122449\nNAmes      145847.080000\nNPkVill    142694.444444\nNWAmes     189050.068493\nNoRidge    335295.317073\nNridgHt    316270.623377\nOldTown    128225.300885\nSWISU      142591.360000\nSawyer     136793.135135\nName: SalePrice, dtype: float64"
     },
     "execution_count": 495,
     "metadata": {},
     "output_type": "execute_result"
    }
   ],
   "source": [
    "neighborhood_group = house_data.groupby('Neighborhood')[\"SalePrice\"].mean()\n",
    "neighborhood_group.head(20)"
   ],
   "metadata": {
    "collapsed": false,
    "ExecuteTime": {
     "end_time": "2023-11-13T18:04:13.685799100Z",
     "start_time": "2023-11-13T18:04:12.715027900Z"
    }
   },
   "id": "481389842bc39f3d"
  },
  {
   "cell_type": "code",
   "execution_count": 496,
   "metadata": {
    "ExecuteTime": {
     "end_time": "2023-11-13T18:04:13.685799100Z",
     "start_time": "2023-11-13T18:04:12.720915Z"
    }
   },
   "outputs": [
    {
     "name": "stdout",
     "output_type": "stream",
     "text": [
      "El area media de la vivienda en el barrio con las viviendas mas caras es 14218.90 square feet.\n",
      "El area media de la vivienda en el barrio con las viviendas mas baratas es 2324.00 square feet.\n"
     ]
    }
   ],
   "source": [
    "neighborhood_group = house_data.groupby('Neighborhood')[\"SalePrice\"].mean()\n",
    "\n",
    "neighborhood_expensive = neighborhood_group.idxmax()\n",
    "neighborhood_cheap = neighborhood_group.idxmin()\n",
    "\n",
    "mean_area_by_neighborhood = house_data.groupby('Neighborhood')['LotArea'].mean()\n",
    "\n",
    "mean_area_expensive = mean_area_by_neighborhood[neighborhood_expensive]\n",
    "mean_area_cheap = mean_area_by_neighborhood[neighborhood_cheap]\n",
    "\n",
    "print(\n",
    "    f\"El area media de la vivienda en el barrio con las viviendas mas caras es {mean_area_expensive:.2f} square feet.\")\n",
    "print(f\"El area media de la vivienda en el barrio con las viviendas mas baratas es {mean_area_cheap:.2f} square feet.\")"
   ],
   "id": "fc7325cd562c47e6"
  },
  {
   "cell_type": "markdown",
   "source": [
    "# Alguna vivienda se ha vendido varias veces?"
   ],
   "metadata": {
    "collapsed": false
   },
   "id": "a8efec0ea70f2689"
  },
  {
   "cell_type": "code",
   "execution_count": 497,
   "metadata": {
    "ExecuteTime": {
     "end_time": "2023-11-13T18:04:13.743174100Z",
     "start_time": "2023-11-13T18:04:12.725690100Z"
    }
   },
   "outputs": [
    {
     "data": {
      "text/plain": "     Id  MSSubClass MSZoning  LotFrontage  LotArea Street Alley LotShape  \\\n0     1          60       RL         65.0     8450   Pave   NaN      Reg   \n1   249          60       RL         72.0    11317   Pave   NaN      Reg   \n2   821          60       RL         72.0     7226   Pave   NaN      IR1   \n3   833          60       RL         44.0     9548   Pave   NaN      IR1   \n4  1241          60       RL         65.0     8158   Pave   NaN      Reg   \n\n  LandContour Utilities LotConfig LandSlope Neighborhood Condition1  \\\n0         Lvl    AllPub    Inside       Gtl      CollgCr       Norm   \n1         Lvl    AllPub    Inside       Gtl      CollgCr       Norm   \n2         Lvl    AllPub   CulDSac       Gtl      CollgCr       Norm   \n3         Lvl    AllPub   CulDSac       Gtl      CollgCr       Norm   \n4         Lvl    AllPub    Inside       Gtl      CollgCr       Norm   \n\n  Condition2 BldgType HouseStyle  OverallQual  OverallCond  YearBuilt  \\\n0       Norm     1Fam     2Story            7            5       2003   \n1       Norm     1Fam     2Story            7            5       2003   \n2       Norm     1Fam     2Story            7            5       2003   \n3       Norm     1Fam     2Story            7            6       2003   \n4       Norm     1Fam     2Story            7            5       2003   \n\n   YearRemodAdd RoofStyle RoofMatl Exterior1st Exterior2nd MasVnrType  \\\n0          2003     Gable  CompShg     VinylSd     VinylSd    BrkFace   \n1          2003     Gable  CompShg     VinylSd     VinylSd    BrkFace   \n2          2003     Gable  CompShg     VinylSd     VinylSd        NaN   \n3          2003     Gable  CompShg     VinylSd     VinylSd    BrkFace   \n4          2003     Gable  CompShg     VinylSd     VinylSd    BrkFace   \n\n   MasVnrArea ExterQual ExterCond Foundation BsmtQual BsmtCond BsmtExposure  \\\n0       196.0        Gd        TA      PConc       Gd       TA           No   \n1       101.0        Gd        TA      PConc       Gd       TA           No   \n2         0.0        Gd        TA      PConc       Gd       TA           No   \n3       223.0        Gd        TA      PConc       Gd       TA           No   \n4       252.0        Gd        TA      PConc       Gd       TA           No   \n\n  BsmtFinType1  BsmtFinSF1 BsmtFinType2  BsmtFinSF2  BsmtUnfSF  TotalBsmtSF  \\\n0          GLQ         706          Unf           0        150          856   \n1          Unf           0          Unf           0        840          840   \n2          Unf           0          Unf           0        798          798   \n3          GLQ         483          Unf           0        458          941   \n4          GLQ         550          Unf           0        334          884   \n\n  Heating HeatingQC CentralAir Electrical  1stFlrSF  2ndFlrSF  LowQualFinSF  \\\n0    GasA        Ex          Y      SBrkr       856       854             0   \n1    GasA        Ex          Y      SBrkr       840       828             0   \n2    GasA        Ex          Y      SBrkr       798       842             0   \n3    GasA        Ex          Y      SBrkr       941       888             0   \n4    GasA        Ex          Y      SBrkr       884       884             0   \n\n   GrLivArea  BsmtFullBath  BsmtHalfBath  FullBath  HalfBath  BedroomAbvGr  \\\n0       1710             1             0         2         1             3   \n1       1668             0             0         2         1             3   \n2       1640             0             0         2         1             3   \n3       1829             1             0         2         1             3   \n4       1768             1             0         2         1             3   \n\n   KitchenAbvGr KitchenQual  TotRmsAbvGrd Functional  Fireplaces FireplaceQu  \\\n0             1          Gd             8        Typ           0         NaN   \n1             1          Gd             8        Typ           0         NaN   \n2             1          Gd             6        Typ           0         NaN   \n3             1          Gd             7        Typ           1          TA   \n4             1          Gd             8        Typ           0         NaN   \n\n  GarageType  GarageYrBlt GarageFinish  GarageCars  GarageArea GarageQual  \\\n0     Attchd       2003.0          RFn           2         548         TA   \n1     Attchd       2003.0          RFn           2         500         TA   \n2     Attchd       2003.0          RFn           2         595         TA   \n3     Attchd       2003.0          RFn           2         613         TA   \n4     Attchd       2003.0          RFn           2         543         TA   \n\n  GarageCond PavedDrive  WoodDeckSF  OpenPorchSF  EnclosedPorch  3SsnPorch  \\\n0         TA          Y           0           61              0          0   \n1         TA          Y         144           68              0          0   \n2         TA          Y           0           45              0          0   \n3         TA          Y         192           39              0          0   \n4         TA          Y           0           63              0          0   \n\n   ScreenPorch  PoolArea PoolQC Fence MiscFeature  MiscVal  MoSold  YrSold  \\\n0            0         0    NaN   NaN         NaN        0       2    2008   \n1            0         0    NaN   NaN         NaN        0       9    2007   \n2            0         0    NaN   NaN         NaN        0       6    2008   \n3            0         0    NaN   NaN         NaN        0       1    2010   \n4            0         0    NaN   NaN         NaN        0       7    2008   \n\n  SaleType SaleCondition  SalePrice new_column  year_built_after_2008  \\\n0       WD        Normal     208500        new                     -5   \n1       WD        Normal     180000        new                     -5   \n2       WD        Normal     183000        new                     -5   \n3       WD        Normal     237000        new                     -5   \n4       WD        Normal     224900        new                     -5   \n\n  gilbert_column  \n0            NaN  \n1            NaN  \n2            NaN  \n3            NaN  \n4            NaN  ",
      "text/html": "<div>\n<style scoped>\n    .dataframe tbody tr th:only-of-type {\n        vertical-align: middle;\n    }\n\n    .dataframe tbody tr th {\n        vertical-align: top;\n    }\n\n    .dataframe thead th {\n        text-align: right;\n    }\n</style>\n<table border=\"1\" class=\"dataframe\">\n  <thead>\n    <tr style=\"text-align: right;\">\n      <th></th>\n      <th>Id</th>\n      <th>MSSubClass</th>\n      <th>MSZoning</th>\n      <th>LotFrontage</th>\n      <th>LotArea</th>\n      <th>Street</th>\n      <th>Alley</th>\n      <th>LotShape</th>\n      <th>LandContour</th>\n      <th>Utilities</th>\n      <th>LotConfig</th>\n      <th>LandSlope</th>\n      <th>Neighborhood</th>\n      <th>Condition1</th>\n      <th>Condition2</th>\n      <th>BldgType</th>\n      <th>HouseStyle</th>\n      <th>OverallQual</th>\n      <th>OverallCond</th>\n      <th>YearBuilt</th>\n      <th>YearRemodAdd</th>\n      <th>RoofStyle</th>\n      <th>RoofMatl</th>\n      <th>Exterior1st</th>\n      <th>Exterior2nd</th>\n      <th>MasVnrType</th>\n      <th>MasVnrArea</th>\n      <th>ExterQual</th>\n      <th>ExterCond</th>\n      <th>Foundation</th>\n      <th>BsmtQual</th>\n      <th>BsmtCond</th>\n      <th>BsmtExposure</th>\n      <th>BsmtFinType1</th>\n      <th>BsmtFinSF1</th>\n      <th>BsmtFinType2</th>\n      <th>BsmtFinSF2</th>\n      <th>BsmtUnfSF</th>\n      <th>TotalBsmtSF</th>\n      <th>Heating</th>\n      <th>HeatingQC</th>\n      <th>CentralAir</th>\n      <th>Electrical</th>\n      <th>1stFlrSF</th>\n      <th>2ndFlrSF</th>\n      <th>LowQualFinSF</th>\n      <th>GrLivArea</th>\n      <th>BsmtFullBath</th>\n      <th>BsmtHalfBath</th>\n      <th>FullBath</th>\n      <th>HalfBath</th>\n      <th>BedroomAbvGr</th>\n      <th>KitchenAbvGr</th>\n      <th>KitchenQual</th>\n      <th>TotRmsAbvGrd</th>\n      <th>Functional</th>\n      <th>Fireplaces</th>\n      <th>FireplaceQu</th>\n      <th>GarageType</th>\n      <th>GarageYrBlt</th>\n      <th>GarageFinish</th>\n      <th>GarageCars</th>\n      <th>GarageArea</th>\n      <th>GarageQual</th>\n      <th>GarageCond</th>\n      <th>PavedDrive</th>\n      <th>WoodDeckSF</th>\n      <th>OpenPorchSF</th>\n      <th>EnclosedPorch</th>\n      <th>3SsnPorch</th>\n      <th>ScreenPorch</th>\n      <th>PoolArea</th>\n      <th>PoolQC</th>\n      <th>Fence</th>\n      <th>MiscFeature</th>\n      <th>MiscVal</th>\n      <th>MoSold</th>\n      <th>YrSold</th>\n      <th>SaleType</th>\n      <th>SaleCondition</th>\n      <th>SalePrice</th>\n      <th>new_column</th>\n      <th>year_built_after_2008</th>\n      <th>gilbert_column</th>\n    </tr>\n  </thead>\n  <tbody>\n    <tr>\n      <th>0</th>\n      <td>1</td>\n      <td>60</td>\n      <td>RL</td>\n      <td>65.0</td>\n      <td>8450</td>\n      <td>Pave</td>\n      <td>NaN</td>\n      <td>Reg</td>\n      <td>Lvl</td>\n      <td>AllPub</td>\n      <td>Inside</td>\n      <td>Gtl</td>\n      <td>CollgCr</td>\n      <td>Norm</td>\n      <td>Norm</td>\n      <td>1Fam</td>\n      <td>2Story</td>\n      <td>7</td>\n      <td>5</td>\n      <td>2003</td>\n      <td>2003</td>\n      <td>Gable</td>\n      <td>CompShg</td>\n      <td>VinylSd</td>\n      <td>VinylSd</td>\n      <td>BrkFace</td>\n      <td>196.0</td>\n      <td>Gd</td>\n      <td>TA</td>\n      <td>PConc</td>\n      <td>Gd</td>\n      <td>TA</td>\n      <td>No</td>\n      <td>GLQ</td>\n      <td>706</td>\n      <td>Unf</td>\n      <td>0</td>\n      <td>150</td>\n      <td>856</td>\n      <td>GasA</td>\n      <td>Ex</td>\n      <td>Y</td>\n      <td>SBrkr</td>\n      <td>856</td>\n      <td>854</td>\n      <td>0</td>\n      <td>1710</td>\n      <td>1</td>\n      <td>0</td>\n      <td>2</td>\n      <td>1</td>\n      <td>3</td>\n      <td>1</td>\n      <td>Gd</td>\n      <td>8</td>\n      <td>Typ</td>\n      <td>0</td>\n      <td>NaN</td>\n      <td>Attchd</td>\n      <td>2003.0</td>\n      <td>RFn</td>\n      <td>2</td>\n      <td>548</td>\n      <td>TA</td>\n      <td>TA</td>\n      <td>Y</td>\n      <td>0</td>\n      <td>61</td>\n      <td>0</td>\n      <td>0</td>\n      <td>0</td>\n      <td>0</td>\n      <td>NaN</td>\n      <td>NaN</td>\n      <td>NaN</td>\n      <td>0</td>\n      <td>2</td>\n      <td>2008</td>\n      <td>WD</td>\n      <td>Normal</td>\n      <td>208500</td>\n      <td>new</td>\n      <td>-5</td>\n      <td>NaN</td>\n    </tr>\n    <tr>\n      <th>1</th>\n      <td>249</td>\n      <td>60</td>\n      <td>RL</td>\n      <td>72.0</td>\n      <td>11317</td>\n      <td>Pave</td>\n      <td>NaN</td>\n      <td>Reg</td>\n      <td>Lvl</td>\n      <td>AllPub</td>\n      <td>Inside</td>\n      <td>Gtl</td>\n      <td>CollgCr</td>\n      <td>Norm</td>\n      <td>Norm</td>\n      <td>1Fam</td>\n      <td>2Story</td>\n      <td>7</td>\n      <td>5</td>\n      <td>2003</td>\n      <td>2003</td>\n      <td>Gable</td>\n      <td>CompShg</td>\n      <td>VinylSd</td>\n      <td>VinylSd</td>\n      <td>BrkFace</td>\n      <td>101.0</td>\n      <td>Gd</td>\n      <td>TA</td>\n      <td>PConc</td>\n      <td>Gd</td>\n      <td>TA</td>\n      <td>No</td>\n      <td>Unf</td>\n      <td>0</td>\n      <td>Unf</td>\n      <td>0</td>\n      <td>840</td>\n      <td>840</td>\n      <td>GasA</td>\n      <td>Ex</td>\n      <td>Y</td>\n      <td>SBrkr</td>\n      <td>840</td>\n      <td>828</td>\n      <td>0</td>\n      <td>1668</td>\n      <td>0</td>\n      <td>0</td>\n      <td>2</td>\n      <td>1</td>\n      <td>3</td>\n      <td>1</td>\n      <td>Gd</td>\n      <td>8</td>\n      <td>Typ</td>\n      <td>0</td>\n      <td>NaN</td>\n      <td>Attchd</td>\n      <td>2003.0</td>\n      <td>RFn</td>\n      <td>2</td>\n      <td>500</td>\n      <td>TA</td>\n      <td>TA</td>\n      <td>Y</td>\n      <td>144</td>\n      <td>68</td>\n      <td>0</td>\n      <td>0</td>\n      <td>0</td>\n      <td>0</td>\n      <td>NaN</td>\n      <td>NaN</td>\n      <td>NaN</td>\n      <td>0</td>\n      <td>9</td>\n      <td>2007</td>\n      <td>WD</td>\n      <td>Normal</td>\n      <td>180000</td>\n      <td>new</td>\n      <td>-5</td>\n      <td>NaN</td>\n    </tr>\n    <tr>\n      <th>2</th>\n      <td>821</td>\n      <td>60</td>\n      <td>RL</td>\n      <td>72.0</td>\n      <td>7226</td>\n      <td>Pave</td>\n      <td>NaN</td>\n      <td>IR1</td>\n      <td>Lvl</td>\n      <td>AllPub</td>\n      <td>CulDSac</td>\n      <td>Gtl</td>\n      <td>CollgCr</td>\n      <td>Norm</td>\n      <td>Norm</td>\n      <td>1Fam</td>\n      <td>2Story</td>\n      <td>7</td>\n      <td>5</td>\n      <td>2003</td>\n      <td>2003</td>\n      <td>Gable</td>\n      <td>CompShg</td>\n      <td>VinylSd</td>\n      <td>VinylSd</td>\n      <td>NaN</td>\n      <td>0.0</td>\n      <td>Gd</td>\n      <td>TA</td>\n      <td>PConc</td>\n      <td>Gd</td>\n      <td>TA</td>\n      <td>No</td>\n      <td>Unf</td>\n      <td>0</td>\n      <td>Unf</td>\n      <td>0</td>\n      <td>798</td>\n      <td>798</td>\n      <td>GasA</td>\n      <td>Ex</td>\n      <td>Y</td>\n      <td>SBrkr</td>\n      <td>798</td>\n      <td>842</td>\n      <td>0</td>\n      <td>1640</td>\n      <td>0</td>\n      <td>0</td>\n      <td>2</td>\n      <td>1</td>\n      <td>3</td>\n      <td>1</td>\n      <td>Gd</td>\n      <td>6</td>\n      <td>Typ</td>\n      <td>0</td>\n      <td>NaN</td>\n      <td>Attchd</td>\n      <td>2003.0</td>\n      <td>RFn</td>\n      <td>2</td>\n      <td>595</td>\n      <td>TA</td>\n      <td>TA</td>\n      <td>Y</td>\n      <td>0</td>\n      <td>45</td>\n      <td>0</td>\n      <td>0</td>\n      <td>0</td>\n      <td>0</td>\n      <td>NaN</td>\n      <td>NaN</td>\n      <td>NaN</td>\n      <td>0</td>\n      <td>6</td>\n      <td>2008</td>\n      <td>WD</td>\n      <td>Normal</td>\n      <td>183000</td>\n      <td>new</td>\n      <td>-5</td>\n      <td>NaN</td>\n    </tr>\n    <tr>\n      <th>3</th>\n      <td>833</td>\n      <td>60</td>\n      <td>RL</td>\n      <td>44.0</td>\n      <td>9548</td>\n      <td>Pave</td>\n      <td>NaN</td>\n      <td>IR1</td>\n      <td>Lvl</td>\n      <td>AllPub</td>\n      <td>CulDSac</td>\n      <td>Gtl</td>\n      <td>CollgCr</td>\n      <td>Norm</td>\n      <td>Norm</td>\n      <td>1Fam</td>\n      <td>2Story</td>\n      <td>7</td>\n      <td>6</td>\n      <td>2003</td>\n      <td>2003</td>\n      <td>Gable</td>\n      <td>CompShg</td>\n      <td>VinylSd</td>\n      <td>VinylSd</td>\n      <td>BrkFace</td>\n      <td>223.0</td>\n      <td>Gd</td>\n      <td>TA</td>\n      <td>PConc</td>\n      <td>Gd</td>\n      <td>TA</td>\n      <td>No</td>\n      <td>GLQ</td>\n      <td>483</td>\n      <td>Unf</td>\n      <td>0</td>\n      <td>458</td>\n      <td>941</td>\n      <td>GasA</td>\n      <td>Ex</td>\n      <td>Y</td>\n      <td>SBrkr</td>\n      <td>941</td>\n      <td>888</td>\n      <td>0</td>\n      <td>1829</td>\n      <td>1</td>\n      <td>0</td>\n      <td>2</td>\n      <td>1</td>\n      <td>3</td>\n      <td>1</td>\n      <td>Gd</td>\n      <td>7</td>\n      <td>Typ</td>\n      <td>1</td>\n      <td>TA</td>\n      <td>Attchd</td>\n      <td>2003.0</td>\n      <td>RFn</td>\n      <td>2</td>\n      <td>613</td>\n      <td>TA</td>\n      <td>TA</td>\n      <td>Y</td>\n      <td>192</td>\n      <td>39</td>\n      <td>0</td>\n      <td>0</td>\n      <td>0</td>\n      <td>0</td>\n      <td>NaN</td>\n      <td>NaN</td>\n      <td>NaN</td>\n      <td>0</td>\n      <td>1</td>\n      <td>2010</td>\n      <td>WD</td>\n      <td>Normal</td>\n      <td>237000</td>\n      <td>new</td>\n      <td>-5</td>\n      <td>NaN</td>\n    </tr>\n    <tr>\n      <th>4</th>\n      <td>1241</td>\n      <td>60</td>\n      <td>RL</td>\n      <td>65.0</td>\n      <td>8158</td>\n      <td>Pave</td>\n      <td>NaN</td>\n      <td>Reg</td>\n      <td>Lvl</td>\n      <td>AllPub</td>\n      <td>Inside</td>\n      <td>Gtl</td>\n      <td>CollgCr</td>\n      <td>Norm</td>\n      <td>Norm</td>\n      <td>1Fam</td>\n      <td>2Story</td>\n      <td>7</td>\n      <td>5</td>\n      <td>2003</td>\n      <td>2003</td>\n      <td>Gable</td>\n      <td>CompShg</td>\n      <td>VinylSd</td>\n      <td>VinylSd</td>\n      <td>BrkFace</td>\n      <td>252.0</td>\n      <td>Gd</td>\n      <td>TA</td>\n      <td>PConc</td>\n      <td>Gd</td>\n      <td>TA</td>\n      <td>No</td>\n      <td>GLQ</td>\n      <td>550</td>\n      <td>Unf</td>\n      <td>0</td>\n      <td>334</td>\n      <td>884</td>\n      <td>GasA</td>\n      <td>Ex</td>\n      <td>Y</td>\n      <td>SBrkr</td>\n      <td>884</td>\n      <td>884</td>\n      <td>0</td>\n      <td>1768</td>\n      <td>1</td>\n      <td>0</td>\n      <td>2</td>\n      <td>1</td>\n      <td>3</td>\n      <td>1</td>\n      <td>Gd</td>\n      <td>8</td>\n      <td>Typ</td>\n      <td>0</td>\n      <td>NaN</td>\n      <td>Attchd</td>\n      <td>2003.0</td>\n      <td>RFn</td>\n      <td>2</td>\n      <td>543</td>\n      <td>TA</td>\n      <td>TA</td>\n      <td>Y</td>\n      <td>0</td>\n      <td>63</td>\n      <td>0</td>\n      <td>0</td>\n      <td>0</td>\n      <td>0</td>\n      <td>NaN</td>\n      <td>NaN</td>\n      <td>NaN</td>\n      <td>0</td>\n      <td>7</td>\n      <td>2008</td>\n      <td>WD</td>\n      <td>Normal</td>\n      <td>224900</td>\n      <td>new</td>\n      <td>-5</td>\n      <td>NaN</td>\n    </tr>\n  </tbody>\n</table>\n</div>"
     },
     "execution_count": 497,
     "metadata": {},
     "output_type": "execute_result"
    }
   ],
   "source": [
    "unique_identifier_columns = [\"YearBuilt\", \"YearRemodAdd\", \"Neighborhood\", \"Street\", \"MSSubClass\", \"MSZoning\"]\n",
    "\n",
    "group_houses = house_data.groupby(unique_identifier_columns)\n",
    "\n",
    "groups = house_data.groupby(unique_identifier_columns).size().reset_index(name='count')\n",
    "duplicate_keys = groups[groups['count'] > 1][unique_identifier_columns]\n",
    "\n",
    "duplicates = pd.merge(house_data, duplicate_keys, on=unique_identifier_columns)\n",
    "\n",
    "duplicates.head()"
   ],
   "id": "b3f1439dd6ba3f0e"
  },
  {
   "cell_type": "code",
   "execution_count": 511,
   "metadata": {
    "ExecuteTime": {
     "end_time": "2023-11-13T18:04:41.331237400Z",
     "start_time": "2023-11-13T18:04:41.177170100Z"
    }
   },
   "outputs": [
    {
     "data": {
      "text/plain": "<Figure size 640x480 with 1 Axes>",
      "image/png": "[encoded data removed]"
     },
     "execution_count": 511,
     "metadata": {
      "image/png": {
       "width": 640,
       "height": 480
      }
     },
     "output_type": "execute_result"
    }
   ],
   "source": [
    "# Los precios están subiendo o bajando?\n",
    "group_price = house_data.groupby([\"YrSold\", \"MoSold\"])[\"SalePrice\"].mean().reset_index()\n",
    "group_price\n",
    "\n",
    "graph = pn.ggplot(\n",
    "    group_price,\n",
    "    pn.aes(x='YrSold', y='SalePrice'),\n",
    ") + pn.geom_bar(stat='identity')\n",
    "\n",
    "graph.draw()"
   ],
   "id": "4c29cbff610df569"
  },
  {
   "cell_type": "markdown",
   "metadata": {},
   "source": [
    "## Creando visualizaciones\n",
    "Data frames muy guay pero no es siempre la mejor forma de transmitir conclusiones.\n",
    "\n",
    "Una visualizacion se compone por unas piezas importantes:\n",
    "\n",
    "* Un data frame\n",
    "* Un(os) \"aesthetics\"\n",
    "* Una(s) gemoetrias\n",
    "* Un(os) temas o \"themes\"\n",
    "\n",
    "Todos los graficos se constuyen a partir de estas piezas y nos permite crear visualizaciones simples o complejas."
   ],
   "id": "2061b97b682036eb"
  },
  {
   "cell_type": "code",
   "execution_count": 499,
   "metadata": {
    "ExecuteTime": {
     "end_time": "2023-11-13T18:04:13.743174100Z",
     "start_time": "2023-11-13T18:04:12.760452500Z"
    }
   },
   "outputs": [],
   "source": [
    "data = pd.DataFrame({\n",
    "    'columna_1': [1, 2, 3, 4, 5],\n",
    "    'columna_2': [6, 7, 8, 9, 10],\n",
    "    'columna_letras': ['a', 'a', 'd', 'd', 'e'],\n",
    "})\n",
    "\n",
    "graph = pn.ggplot(data, pn.aes(x='columna_1', y='columna_2')) + pn.geom_point()\n",
    "\n",
    "graph.draw();"
   ],
   "id": "c0c4ace9a404f508"
  },
  {
   "cell_type": "code",
   "execution_count": 500,
   "metadata": {
    "ExecuteTime": {
     "end_time": "2023-11-13T18:04:13.743678Z",
     "start_time": "2023-11-13T18:04:12.815128200Z"
    }
   },
   "outputs": [],
   "source": [
    "graph = pn.ggplot(data, pn.aes(x='columna_1', y='columna_2')) + pn.geom_point() + pn.theme(\n",
    "    axis_text=pn.element_text(size=20))\n",
    "\n",
    "graph.draw();"
   ],
   "id": "1bf0b06f13e36b56"
  },
  {
   "cell_type": "markdown",
   "metadata": {},
   "source": [
    "## Los geometrias más comunes"
   ],
   "id": "86f3582dbcc2e379"
  },
  {
   "cell_type": "code",
   "execution_count": 501,
   "metadata": {
    "ExecuteTime": {
     "end_time": "2023-11-13T18:04:13.743678Z",
     "start_time": "2023-11-13T18:04:12.864909500Z"
    }
   },
   "outputs": [],
   "source": [
    "graph = pn.ggplot(data, pn.aes(x='columna_1', y='columna_2')) + pn.geom_line()\n",
    "\n",
    "graph.draw();"
   ],
   "id": "1699a93cd501f3a7"
  },
  {
   "cell_type": "code",
   "execution_count": 502,
   "metadata": {
    "ExecuteTime": {
     "end_time": "2023-11-13T18:04:13.743678Z",
     "start_time": "2023-11-13T18:04:12.915148800Z"
    }
   },
   "outputs": [],
   "source": [
    "graph = pn.ggplot(data, pn.aes(x='columna_1', y='columna_2')) + pn.geom_col()\n",
    "\n",
    "graph.draw();"
   ],
   "id": "5042ab12b718633"
  },
  {
   "cell_type": "code",
   "execution_count": 503,
   "metadata": {
    "ExecuteTime": {
     "end_time": "2023-11-13T18:04:13.743678Z",
     "start_time": "2023-11-13T18:04:12.985894200Z"
    }
   },
   "outputs": [
    {
     "name": "stderr",
     "output_type": "stream",
     "text": [
      "C:\\Python311\\Lib\\site-packages\\plotnine\\stats\\stat_bin.py:109: PlotnineWarning: 'stat_bin()' using 'bins = 2'. Pick better value with 'binwidth'.\n"
     ]
    }
   ],
   "source": [
    "graph = pn.ggplot(data, pn.aes(x='columna_1')) + pn.geom_histogram()\n",
    "\n",
    "graph.draw();"
   ],
   "id": "e5514f45648e03ed"
  },
  {
   "cell_type": "markdown",
   "metadata": {},
   "source": [
    "## Otras cosas..."
   ],
   "id": "49b9f614a0cb0a8"
  },
  {
   "cell_type": "code",
   "execution_count": 504,
   "metadata": {
    "ExecuteTime": {
     "end_time": "2023-11-13T18:04:13.746588300Z",
     "start_time": "2023-11-13T18:04:13.054419200Z"
    }
   },
   "outputs": [],
   "source": [
    "# cambiar las etiquetas\n",
    "graph = pn.ggplot(data, pn.aes(x='columna_1', y='columna_2')) + pn.geom_point() + pn.xlab('Mejor etiqueta para la X')\n",
    "\n",
    "graph.draw();"
   ],
   "id": "84f0c3a11ae8c48d"
  },
  {
   "cell_type": "code",
   "execution_count": 505,
   "metadata": {
    "ExecuteTime": {
     "end_time": "2023-11-13T18:04:14.179550600Z",
     "start_time": "2023-11-13T18:04:13.108348600Z"
    }
   },
   "outputs": [],
   "source": [
    "# Combinar geometrias\n",
    "graph = pn.ggplot(data, pn.aes(x='columna_1', y='columna_2')) + pn.geom_line() + pn.geom_point()\n",
    "\n",
    "graph.draw();"
   ],
   "id": "52556d79e18f8dfb"
  },
  {
   "cell_type": "code",
   "execution_count": 506,
   "metadata": {
    "ExecuteTime": {
     "end_time": "2023-11-13T18:04:14.226943Z",
     "start_time": "2023-11-13T18:04:13.179327300Z"
    }
   },
   "outputs": [],
   "source": [
    "# Darle un poco de estilo\n",
    "graph = pn.ggplot(data, pn.aes(x='columna_1', y='columna_2')) + pn.geom_point(color='red', size=10, shape='x')\n",
    "\n",
    "graph.draw();"
   ],
   "id": "2e059ba97766e70a"
  },
  {
   "cell_type": "code",
   "execution_count": 507,
   "metadata": {
    "ExecuteTime": {
     "end_time": "2023-11-13T18:04:14.274367900Z",
     "start_time": "2023-11-13T18:04:13.307615400Z"
    }
   },
   "outputs": [],
   "source": [
    "# Color por variables\n",
    "graph = pn.ggplot(data, pn.aes(x='columna_1', y='columna_2', color='columna_letras')) + pn.geom_point(size=10)\n",
    "\n",
    "graph.draw();"
   ],
   "id": "85ec26ff1e6356a"
  },
  {
   "cell_type": "code",
   "execution_count": 508,
   "metadata": {
    "ExecuteTime": {
     "end_time": "2023-11-13T18:04:14.274367900Z",
     "start_time": "2023-11-13T18:04:13.556597700Z"
    }
   },
   "outputs": [],
   "source": [
    "# Color por variables\n",
    "graph = pn.ggplot(data, pn.aes(x='columna_1', y='columna_2', color='columna_letras')) + pn.geom_line(\n",
    "    size=5) + pn.geom_point(size=10)\n",
    "\n",
    "graph.draw();"
   ],
   "id": "166bb781b2fe5127"
  }
 ],
 "metadata": {
  "kernelspec": {
   "display_name": "Python 3",
   "language": "python",
   "name": "python3"
  },
  "language_info": {
   "codemirror_mode": {
    "name": "ipython",
    "version": 3
   },
   "file_extension": ".py",
   "mimetype": "text/x-python",
   "name": "python",
   "nbconvert_exporter": "python",
   "pygments_lexer": "ipython3",
   "version": "3.9.7"
  }
 },
 "nbformat": 4,
 "nbformat_minor": 5
}
