{
 "cells": [
  {
   "cell_type": "markdown",
   "source": [
    "Predecir la aprobación de préstamos\n",
    "**Resumen: Crear y evaluar un modelo que replica la decisión de aprobación de un\n",
    "préstamo sin utilizar el \"CIBIL\" - con el fin de reemplazar el CIBIL**\n",
    "Trabajamos en un banco - en el departamento de préstamos. Intentamos NUNCA aprobar\n",
    "préstamos que pensamos que vayan a hacer un impago.\n",
    "Hasta ahora la empresa ha pagado para tener un \"credit score\" de los que vienen solicitando un\n",
    "préstamo. Esto se llama el \"CIBIL\".\n",
    "Básicamente - cuando un agente recibe una solicitud para un préstamo, mira el CIBIL y decide\n",
    "si aprobar el préstamo o no.\n",
    "Tenemos que pagar por cada solicitud para recibir el CIBIL - bajando la rentabilidad. Entonces\n",
    "nos han pedido buscar una alternativa al CIBIL.\n",
    "Básicamente - queremos crear un modelo que sea capaz de predecir si un agente habría\n",
    "finalmente aprobado el préstamo o no. Si conseguimos un modelo que acierta bastante -\n",
    "podemos asumir que hemos replicado la utilidad del CIBIL y dejar de pagarlo."
   ],
   "metadata": {
    "collapsed": false
   },
   "id": "892f9131dde8309c"
  },
  {
   "cell_type": "markdown",
   "source": [
    "Tenemos datos de varias solicitudes con las siguientes factores:\n",
    "● loan_id: Identificador único para cada solicitud de préstamo.\n",
    "● no_of_dependents: Número de dependientes del solicitante.\n",
    "● education: Nivel educativo del solicitante.\n",
    "● self_employed: Estado de empleo del solicitante (Si es autónomo o no).\n",
    "● income_annum: Ingreso anual del solicitante.\n",
    "● loan_amount: Cantidad de dinero del préstamo solicitado.\n",
    "● loan_term: Plazo del préstamo en meses.\n",
    "● cibil_score: Puntuación de crédito del solicitante - el CIBIL.\n",
    "● residential_assets_value: Valor de los activos residenciales del solicitante.\n",
    "● commercial_assets_value: Valor de los activos comerciales del solicitante.\n",
    "● luxury_assets_value: Valor de los activos de lujo del solicitante.\n",
    "● bank_asset_value: Valor de los activos bancarios del solicitante.\n",
    "● loan_status: Estado de aprobación del préstamo (Aprobado/Rechazado).  "
   ],
   "metadata": {
    "collapsed": false
   },
   "id": "a2ff8204c90e424c"
  },
  {
   "cell_type": "markdown",
   "source": [
    "Puntos importantes y cosas que podemos asumir:\n",
    "● No podemos utilizar el CIBIL en el modelo, pero sí que podemos utilizarlo para\n",
    "ayudarnos a determinar factores importantes\n",
    "● La moneda es rupees indios - podemos asumir que el cambio es 1€ = 90 INR\n",
    "● Por solicitud pagamos aproximadamente 100€ para el CIBIL\n",
    "● Asumimos que cada solicitud aprobado por el agente NO tienen impagos y todos los\n",
    "que no se aprobaron SÍ que tuvieron un impago\n",
    "● Asumimos que cada préstamo tiene un interés del 5% por año\n",
    "● Los impagos suelen pasar por la mitad del préstamo\n",
    "● Cuando tiene un préstamo un impago - conseguimos reclamar el dinero, pero cuesta el\n",
    "proceso unos 10,000€\n",
    "● Los impagos también tienen efectos negativos a largo plazo más difíciles de cuantificar\n",
    "(acumular mucho riesgo puede salir muy mal)"
   ],
   "metadata": {
    "collapsed": false
   },
   "id": "7062d97013c92942"
  },
  {
   "cell_type": "markdown",
   "source": [
    "# Import libraries and dependencies"
   ],
   "metadata": {
    "collapsed": false
   },
   "id": "5562b04bd0d89c34"
  },
  {
   "cell_type": "code",
   "outputs": [],
   "source": [
    "import matplotlib.pyplot as plt\n",
    "import pandas as pd\n",
    "import seaborn as sns\n",
    "from sklearn.model_selection import train_test_split\n",
    "\n",
    "RANDOM_SEED = 2_055\n",
    "VALIDATION_SIZE = 0.2\n",
    "\n",
    "pd.options.display.float_format = '{:.2f}'.format  # Not using scientific notation for better readability"
   ],
   "metadata": {
    "collapsed": false,
    "ExecuteTime": {
     "end_time": "2024-05-20T16:08:49.052869Z",
     "start_time": "2024-05-20T16:08:49.049023Z"
    }
   },
   "id": "a45f9e478c1913b2",
   "execution_count": 247
  },
  {
   "cell_type": "markdown",
   "source": [
    "# Exploratory data analysis"
   ],
   "metadata": {
    "collapsed": false
   },
   "id": "5c5e4869660c2f47"
  },
  {
   "cell_type": "markdown",
   "source": [
    "### Load the dataset"
   ],
   "metadata": {
    "collapsed": false
   },
   "id": "2805be20d4423d3c"
  },
  {
   "cell_type": "code",
   "outputs": [],
   "source": [
    "loans_df = pd.read_csv('./loan_approval_dataset.csv', index_col='loan_id')"
   ],
   "metadata": {
    "collapsed": false,
    "ExecuteTime": {
     "end_time": "2024-05-20T16:08:49.309797Z",
     "start_time": "2024-05-20T16:08:49.299070Z"
    }
   },
   "id": "e9b01bbff072e3cd",
   "execution_count": 248
  },
  {
   "cell_type": "code",
   "execution_count": 249,
   "id": "initial_id",
   "metadata": {
    "collapsed": true,
    "ExecuteTime": {
     "end_time": "2024-05-20T16:08:49.329322Z",
     "start_time": "2024-05-20T16:08:49.314112Z"
    }
   },
   "outputs": [],
   "source": [
    "# Remove leading and trailing spaces from columns and values\n",
    "loans_df.columns = loans_df.columns.str.strip()\n",
    "loans_df = loans_df.map(lambda x: x.strip() if isinstance(x, str) else x)"
   ]
  },
  {
   "cell_type": "code",
   "outputs": [
    {
     "data": {
      "text/plain": "         no_of_dependents     education self_employed  income_annum  \\\nloan_id                                                               \n1                       2      Graduate            No       9600000   \n2                       0  Not Graduate           Yes       4100000   \n3                       3      Graduate            No       9100000   \n4                       3      Graduate            No       8200000   \n5                       5  Not Graduate           Yes       9800000   \n...                   ...           ...           ...           ...   \n4265                    5      Graduate           Yes       1000000   \n4266                    0  Not Graduate           Yes       3300000   \n4267                    2  Not Graduate            No       6500000   \n4268                    1  Not Graduate            No       4100000   \n4269                    1      Graduate            No       9200000   \n\n         loan_amount  loan_term  cibil_score  residential_assets_value  \\\nloan_id                                                                  \n1           29900000         12          778                   2400000   \n2           12200000          8          417                   2700000   \n3           29700000         20          506                   7100000   \n4           30700000          8          467                  18200000   \n5           24200000         20          382                  12400000   \n...              ...        ...          ...                       ...   \n4265         2300000         12          317                   2800000   \n4266        11300000         20          559                   4200000   \n4267        23900000         18          457                   1200000   \n4268        12800000          8          780                   8200000   \n4269        29700000         10          607                  17800000   \n\n         commercial_assets_value  luxury_assets_value  bank_asset_value  \\\nloan_id                                                                   \n1                       17600000             22700000           8000000   \n2                        2200000              8800000           3300000   \n3                        4500000             33300000          12800000   \n4                        3300000             23300000           7900000   \n5                        8200000             29400000           5000000   \n...                          ...                  ...               ...   \n4265                      500000              3300000            800000   \n4266                     2900000             11000000           1900000   \n4267                    12400000             18100000           7300000   \n4268                      700000             14100000           5800000   \n4269                    11800000             35700000          12000000   \n\n        loan_status  \nloan_id              \n1          Approved  \n2          Rejected  \n3          Rejected  \n4          Rejected  \n5          Rejected  \n...             ...  \n4265       Rejected  \n4266       Approved  \n4267       Rejected  \n4268       Approved  \n4269       Approved  \n\n[4269 rows x 12 columns]",
      "text/html": "<div>\n<style scoped>\n    .dataframe tbody tr th:only-of-type {\n        vertical-align: middle;\n    }\n\n    .dataframe tbody tr th {\n        vertical-align: top;\n    }\n\n    .dataframe thead th {\n        text-align: right;\n    }\n</style>\n<table border=\"1\" class=\"dataframe\">\n  <thead>\n    <tr style=\"text-align: right;\">\n      <th></th>\n      <th>no_of_dependents</th>\n      <th>education</th>\n      <th>self_employed</th>\n      <th>income_annum</th>\n      <th>loan_amount</th>\n      <th>loan_term</th>\n      <th>cibil_score</th>\n      <th>residential_assets_value</th>\n      <th>commercial_assets_value</th>\n      <th>luxury_assets_value</th>\n      <th>bank_asset_value</th>\n      <th>loan_status</th>\n    </tr>\n    <tr>\n      <th>loan_id</th>\n      <th></th>\n      <th></th>\n      <th></th>\n      <th></th>\n      <th></th>\n      <th></th>\n      <th></th>\n      <th></th>\n      <th></th>\n      <th></th>\n      <th></th>\n      <th></th>\n    </tr>\n  </thead>\n  <tbody>\n    <tr>\n      <th>1</th>\n      <td>2</td>\n      <td>Graduate</td>\n      <td>No</td>\n      <td>9600000</td>\n      <td>29900000</td>\n      <td>12</td>\n      <td>778</td>\n      <td>2400000</td>\n      <td>17600000</td>\n      <td>22700000</td>\n      <td>8000000</td>\n      <td>Approved</td>\n    </tr>\n    <tr>\n      <th>2</th>\n      <td>0</td>\n      <td>Not Graduate</td>\n      <td>Yes</td>\n      <td>4100000</td>\n      <td>12200000</td>\n      <td>8</td>\n      <td>417</td>\n      <td>2700000</td>\n      <td>2200000</td>\n      <td>8800000</td>\n      <td>3300000</td>\n      <td>Rejected</td>\n    </tr>\n    <tr>\n      <th>3</th>\n      <td>3</td>\n      <td>Graduate</td>\n      <td>No</td>\n      <td>9100000</td>\n      <td>29700000</td>\n      <td>20</td>\n      <td>506</td>\n      <td>7100000</td>\n      <td>4500000</td>\n      <td>33300000</td>\n      <td>12800000</td>\n      <td>Rejected</td>\n    </tr>\n    <tr>\n      <th>4</th>\n      <td>3</td>\n      <td>Graduate</td>\n      <td>No</td>\n      <td>8200000</td>\n      <td>30700000</td>\n      <td>8</td>\n      <td>467</td>\n      <td>18200000</td>\n      <td>3300000</td>\n      <td>23300000</td>\n      <td>7900000</td>\n      <td>Rejected</td>\n    </tr>\n    <tr>\n      <th>5</th>\n      <td>5</td>\n      <td>Not Graduate</td>\n      <td>Yes</td>\n      <td>9800000</td>\n      <td>24200000</td>\n      <td>20</td>\n      <td>382</td>\n      <td>12400000</td>\n      <td>8200000</td>\n      <td>29400000</td>\n      <td>5000000</td>\n      <td>Rejected</td>\n    </tr>\n    <tr>\n      <th>...</th>\n      <td>...</td>\n      <td>...</td>\n      <td>...</td>\n      <td>...</td>\n      <td>...</td>\n      <td>...</td>\n      <td>...</td>\n      <td>...</td>\n      <td>...</td>\n      <td>...</td>\n      <td>...</td>\n      <td>...</td>\n    </tr>\n    <tr>\n      <th>4265</th>\n      <td>5</td>\n      <td>Graduate</td>\n      <td>Yes</td>\n      <td>1000000</td>\n      <td>2300000</td>\n      <td>12</td>\n      <td>317</td>\n      <td>2800000</td>\n      <td>500000</td>\n      <td>3300000</td>\n      <td>800000</td>\n      <td>Rejected</td>\n    </tr>\n    <tr>\n      <th>4266</th>\n      <td>0</td>\n      <td>Not Graduate</td>\n      <td>Yes</td>\n      <td>3300000</td>\n      <td>11300000</td>\n      <td>20</td>\n      <td>559</td>\n      <td>4200000</td>\n      <td>2900000</td>\n      <td>11000000</td>\n      <td>1900000</td>\n      <td>Approved</td>\n    </tr>\n    <tr>\n      <th>4267</th>\n      <td>2</td>\n      <td>Not Graduate</td>\n      <td>No</td>\n      <td>6500000</td>\n      <td>23900000</td>\n      <td>18</td>\n      <td>457</td>\n      <td>1200000</td>\n      <td>12400000</td>\n      <td>18100000</td>\n      <td>7300000</td>\n      <td>Rejected</td>\n    </tr>\n    <tr>\n      <th>4268</th>\n      <td>1</td>\n      <td>Not Graduate</td>\n      <td>No</td>\n      <td>4100000</td>\n      <td>12800000</td>\n      <td>8</td>\n      <td>780</td>\n      <td>8200000</td>\n      <td>700000</td>\n      <td>14100000</td>\n      <td>5800000</td>\n      <td>Approved</td>\n    </tr>\n    <tr>\n      <th>4269</th>\n      <td>1</td>\n      <td>Graduate</td>\n      <td>No</td>\n      <td>9200000</td>\n      <td>29700000</td>\n      <td>10</td>\n      <td>607</td>\n      <td>17800000</td>\n      <td>11800000</td>\n      <td>35700000</td>\n      <td>12000000</td>\n      <td>Approved</td>\n    </tr>\n  </tbody>\n</table>\n<p>4269 rows × 12 columns</p>\n</div>"
     },
     "execution_count": 250,
     "metadata": {},
     "output_type": "execute_result"
    }
   ],
   "source": [
    "loans_df"
   ],
   "metadata": {
    "collapsed": false,
    "ExecuteTime": {
     "end_time": "2024-05-20T16:08:49.340470Z",
     "start_time": "2024-05-20T16:08:49.330411Z"
    }
   },
   "id": "1e7d77c9d0b659b4",
   "execution_count": 250
  },
  {
   "cell_type": "markdown",
   "source": [
    "### Dataset information"
   ],
   "metadata": {
    "collapsed": false
   },
   "id": "3d8d5eac202d1f95"
  },
  {
   "cell_type": "code",
   "outputs": [
    {
     "data": {
      "text/plain": "(4269, 12)"
     },
     "execution_count": 251,
     "metadata": {},
     "output_type": "execute_result"
    }
   ],
   "source": [
    "loans_df.shape"
   ],
   "metadata": {
    "collapsed": false,
    "ExecuteTime": {
     "end_time": "2024-05-20T16:08:49.346910Z",
     "start_time": "2024-05-20T16:08:49.341768Z"
    }
   },
   "id": "df64da821b3fd039",
   "execution_count": 251
  },
  {
   "cell_type": "code",
   "outputs": [
    {
     "name": "stdout",
     "output_type": "stream",
     "text": [
      "<class 'pandas.core.frame.DataFrame'>\n",
      "Index: 4269 entries, 1 to 4269\n",
      "Data columns (total 12 columns):\n",
      " #   Column                    Non-Null Count  Dtype \n",
      "---  ------                    --------------  ----- \n",
      " 0   no_of_dependents          4269 non-null   int64 \n",
      " 1   education                 4269 non-null   object\n",
      " 2   self_employed             4269 non-null   object\n",
      " 3   income_annum              4269 non-null   int64 \n",
      " 4   loan_amount               4269 non-null   int64 \n",
      " 5   loan_term                 4269 non-null   int64 \n",
      " 6   cibil_score               4269 non-null   int64 \n",
      " 7   residential_assets_value  4269 non-null   int64 \n",
      " 8   commercial_assets_value   4269 non-null   int64 \n",
      " 9   luxury_assets_value       4269 non-null   int64 \n",
      " 10  bank_asset_value          4269 non-null   int64 \n",
      " 11  loan_status               4269 non-null   object\n",
      "dtypes: int64(9), object(3)\n",
      "memory usage: 433.6+ KB\n"
     ]
    }
   ],
   "source": [
    "loans_df.info()"
   ],
   "metadata": {
    "collapsed": false,
    "ExecuteTime": {
     "end_time": "2024-05-20T16:08:49.390326Z",
     "start_time": "2024-05-20T16:08:49.382827Z"
    }
   },
   "id": "7306299b516a644f",
   "execution_count": 252
  },
  {
   "cell_type": "code",
   "outputs": [
    {
     "data": {
      "text/plain": "       no_of_dependents  income_annum  loan_amount  loan_term  cibil_score  \\\ncount           4269.00       4269.00      4269.00    4269.00      4269.00   \nmean               2.50    5059123.92  15133450.46      10.90       599.94   \nstd                1.70    2806839.83   9043362.98       5.71       172.43   \nmin                0.00     200000.00    300000.00       2.00       300.00   \n25%                1.00    2700000.00   7700000.00       6.00       453.00   \n50%                3.00    5100000.00  14500000.00      10.00       600.00   \n75%                4.00    7500000.00  21500000.00      16.00       748.00   \nmax                5.00    9900000.00  39500000.00      20.00       900.00   \n\n       residential_assets_value  commercial_assets_value  luxury_assets_value  \\\ncount                   4269.00                  4269.00              4269.00   \nmean                 7472616.54               4973155.31          15126305.93   \nstd                  6503636.59               4388966.09           9103753.67   \nmin                  -100000.00                     0.00            300000.00   \n25%                  2200000.00               1300000.00           7500000.00   \n50%                  5600000.00               3700000.00          14600000.00   \n75%                 11300000.00               7600000.00          21700000.00   \nmax                 29100000.00              19400000.00          39200000.00   \n\n       bank_asset_value  \ncount           4269.00  \nmean         4976692.43  \nstd          3250185.31  \nmin                0.00  \n25%          2300000.00  \n50%          4600000.00  \n75%          7100000.00  \nmax         14700000.00  ",
      "text/html": "<div>\n<style scoped>\n    .dataframe tbody tr th:only-of-type {\n        vertical-align: middle;\n    }\n\n    .dataframe tbody tr th {\n        vertical-align: top;\n    }\n\n    .dataframe thead th {\n        text-align: right;\n    }\n</style>\n<table border=\"1\" class=\"dataframe\">\n  <thead>\n    <tr style=\"text-align: right;\">\n      <th></th>\n      <th>no_of_dependents</th>\n      <th>income_annum</th>\n      <th>loan_amount</th>\n      <th>loan_term</th>\n      <th>cibil_score</th>\n      <th>residential_assets_value</th>\n      <th>commercial_assets_value</th>\n      <th>luxury_assets_value</th>\n      <th>bank_asset_value</th>\n    </tr>\n  </thead>\n  <tbody>\n    <tr>\n      <th>count</th>\n      <td>4269.00</td>\n      <td>4269.00</td>\n      <td>4269.00</td>\n      <td>4269.00</td>\n      <td>4269.00</td>\n      <td>4269.00</td>\n      <td>4269.00</td>\n      <td>4269.00</td>\n      <td>4269.00</td>\n    </tr>\n    <tr>\n      <th>mean</th>\n      <td>2.50</td>\n      <td>5059123.92</td>\n      <td>15133450.46</td>\n      <td>10.90</td>\n      <td>599.94</td>\n      <td>7472616.54</td>\n      <td>4973155.31</td>\n      <td>15126305.93</td>\n      <td>4976692.43</td>\n    </tr>\n    <tr>\n      <th>std</th>\n      <td>1.70</td>\n      <td>2806839.83</td>\n      <td>9043362.98</td>\n      <td>5.71</td>\n      <td>172.43</td>\n      <td>6503636.59</td>\n      <td>4388966.09</td>\n      <td>9103753.67</td>\n      <td>3250185.31</td>\n    </tr>\n    <tr>\n      <th>min</th>\n      <td>0.00</td>\n      <td>200000.00</td>\n      <td>300000.00</td>\n      <td>2.00</td>\n      <td>300.00</td>\n      <td>-100000.00</td>\n      <td>0.00</td>\n      <td>300000.00</td>\n      <td>0.00</td>\n    </tr>\n    <tr>\n      <th>25%</th>\n      <td>1.00</td>\n      <td>2700000.00</td>\n      <td>7700000.00</td>\n      <td>6.00</td>\n      <td>453.00</td>\n      <td>2200000.00</td>\n      <td>1300000.00</td>\n      <td>7500000.00</td>\n      <td>2300000.00</td>\n    </tr>\n    <tr>\n      <th>50%</th>\n      <td>3.00</td>\n      <td>5100000.00</td>\n      <td>14500000.00</td>\n      <td>10.00</td>\n      <td>600.00</td>\n      <td>5600000.00</td>\n      <td>3700000.00</td>\n      <td>14600000.00</td>\n      <td>4600000.00</td>\n    </tr>\n    <tr>\n      <th>75%</th>\n      <td>4.00</td>\n      <td>7500000.00</td>\n      <td>21500000.00</td>\n      <td>16.00</td>\n      <td>748.00</td>\n      <td>11300000.00</td>\n      <td>7600000.00</td>\n      <td>21700000.00</td>\n      <td>7100000.00</td>\n    </tr>\n    <tr>\n      <th>max</th>\n      <td>5.00</td>\n      <td>9900000.00</td>\n      <td>39500000.00</td>\n      <td>20.00</td>\n      <td>900.00</td>\n      <td>29100000.00</td>\n      <td>19400000.00</td>\n      <td>39200000.00</td>\n      <td>14700000.00</td>\n    </tr>\n  </tbody>\n</table>\n</div>"
     },
     "execution_count": 253,
     "metadata": {},
     "output_type": "execute_result"
    }
   ],
   "source": [
    "loans_df.describe()"
   ],
   "metadata": {
    "collapsed": false,
    "ExecuteTime": {
     "end_time": "2024-05-20T16:08:49.421199Z",
     "start_time": "2024-05-20T16:08:49.404516Z"
    }
   },
   "id": "d4e88834554fde6d",
   "execution_count": 253
  },
  {
   "cell_type": "code",
   "outputs": [
    {
     "data": {
      "text/plain": "no_of_dependents            0\neducation                   0\nself_employed               0\nincome_annum                0\nloan_amount                 0\nloan_term                   0\ncibil_score                 0\nresidential_assets_value    0\ncommercial_assets_value     0\nluxury_assets_value         0\nbank_asset_value            0\nloan_status                 0\ndtype: int64"
     },
     "execution_count": 254,
     "metadata": {},
     "output_type": "execute_result"
    }
   ],
   "source": [
    "loans_df.isnull().sum()"
   ],
   "metadata": {
    "collapsed": false,
    "ExecuteTime": {
     "end_time": "2024-05-20T16:08:49.427729Z",
     "start_time": "2024-05-20T16:08:49.421763Z"
    }
   },
   "id": "bb0e0f5a139ae271",
   "execution_count": 254
  },
  {
   "cell_type": "markdown",
   "source": [
    "After a quick look at the dataset, we can see that it has been loaded correctly, there was a minor error on a space at the very start of every column name and string data, but it was fixed. There are no missing values and all the columns are what we could expect from it."
   ],
   "metadata": {
    "collapsed": false
   },
   "id": "e84481aa7f21fc13"
  },
  {
   "cell_type": "markdown",
   "source": [
    "# Data analysis"
   ],
   "metadata": {
    "collapsed": false
   },
   "id": "2419569049f6cf58"
  },
  {
   "cell_type": "markdown",
   "source": [
    "### Target variable"
   ],
   "metadata": {
    "collapsed": false
   },
   "id": "76d149cd498c9f97"
  },
  {
   "cell_type": "markdown",
   "source": [
    "The very first step will be visualizing the target variable (loan_status) to see its distribution. "
   ],
   "metadata": {
    "collapsed": false
   },
   "id": "9f7c08513c54b7d0"
  },
  {
   "cell_type": "code",
   "outputs": [
    {
     "data": {
      "text/plain": "<Figure size 1000x600 with 1 Axes>",
      "image/png": "[encoded data removed]"
     },
     "metadata": {},
     "output_type": "display_data"
    }
   ],
   "source": [
    "plt.figure(figsize=(10, 6))\n",
    "sns.countplot(x='loan_status', data=loans_df)\n",
    "plt.title(f'Loan Status Distribution')\n",
    "plt.show()"
   ],
   "metadata": {
    "collapsed": false,
    "ExecuteTime": {
     "end_time": "2024-05-20T16:08:49.560652Z",
     "start_time": "2024-05-20T16:08:49.469969Z"
    }
   },
   "id": "59c60fda53761e7e",
   "execution_count": 255
  },
  {
   "cell_type": "code",
   "outputs": [
    {
     "data": {
      "text/plain": "loan_status\nApproved   0.62\nRejected   0.38\nName: proportion, dtype: float64"
     },
     "execution_count": 256,
     "metadata": {},
     "output_type": "execute_result"
    }
   ],
   "source": [
    "loans_df['loan_status'].value_counts(normalize=True)"
   ],
   "metadata": {
    "collapsed": false,
    "ExecuteTime": {
     "end_time": "2024-05-20T16:08:49.566675Z",
     "start_time": "2024-05-20T16:08:49.561921Z"
    }
   },
   "id": "e970b2c912e27b20",
   "execution_count": 256
  },
  {
   "cell_type": "markdown",
   "source": [
    "As we can see, there are around 2/3 of the loans that were approved and 1/3 that were rejected. This distribution is pretty decent (not too unbalanced). it will probably not be necessary to balance it by hand, but it is something to keep in mind when we make predictions and get the metrics."
   ],
   "metadata": {
    "collapsed": false
   },
   "id": "e21c2d01cedb83"
  },
  {
   "cell_type": "markdown",
   "source": [
    "### Categorical features"
   ],
   "metadata": {
    "collapsed": false
   },
   "id": "af258d01b97322f"
  },
  {
   "cell_type": "markdown",
   "source": [
    "The first features we will explore are data, how it is distributed, and if there is any correlation with the loan status. For this problem, I will consider the number of dependants as a categorical variable, even if it is a number, it could easily be converted to a category (none, some, many) for example."
   ],
   "metadata": {
    "collapsed": false
   },
   "id": "79b3d9436e5b3ebc"
  },
  {
   "cell_type": "markdown",
   "source": [
    "**no_of_dependents**"
   ],
   "metadata": {
    "collapsed": false
   },
   "id": "52ded4ee2ac7f3da"
  },
  {
   "cell_type": "code",
   "outputs": [
    {
     "data": {
      "text/plain": "no_of_dependents\n4   0.18\n3   0.17\n0   0.17\n2   0.17\n1   0.16\n5   0.16\nName: proportion, dtype: float64"
     },
     "execution_count": 257,
     "metadata": {},
     "output_type": "execute_result"
    }
   ],
   "source": [
    "loans_df['no_of_dependents'].value_counts(normalize=True)"
   ],
   "metadata": {
    "collapsed": false,
    "ExecuteTime": {
     "end_time": "2024-05-20T16:08:49.656709Z",
     "start_time": "2024-05-20T16:08:49.651294Z"
    }
   },
   "id": "c7839269335af58a",
   "execution_count": 257
  },
  {
   "cell_type": "code",
   "outputs": [
    {
     "data": {
      "text/plain": "<Figure size 1000x600 with 1 Axes>",
      "image/png": "[encoded data removed]"
     },
     "metadata": {},
     "output_type": "display_data"
    }
   ],
   "source": [
    "plt.figure(figsize=(10, 6))\n",
    "sns.countplot(x='no_of_dependents', hue='loan_status', data=loans_df)\n",
    "plt.title(f'Distribution  of no_of_dependents by Loan Status')\n",
    "plt.xlabel('no_of_dependents')\n",
    "plt.ylabel('Count')\n",
    "plt.legend(title='Loan Status')\n",
    "plt.show()"
   ],
   "metadata": {
    "collapsed": false,
    "ExecuteTime": {
     "end_time": "2024-05-20T16:08:49.862963Z",
     "start_time": "2024-05-20T16:08:49.736690Z"
    }
   },
   "id": "d83f222739b76081",
   "execution_count": 258
  },
  {
   "cell_type": "markdown",
   "source": [
    "**education**"
   ],
   "metadata": {
    "collapsed": false
   },
   "id": "b43231b5533fc7b3"
  },
  {
   "cell_type": "code",
   "outputs": [
    {
     "data": {
      "text/plain": "education\nGraduate       0.50\nNot Graduate   0.50\nName: proportion, dtype: float64"
     },
     "execution_count": 259,
     "metadata": {},
     "output_type": "execute_result"
    }
   ],
   "source": [
    "loans_df['education'].value_counts(normalize=True)"
   ],
   "metadata": {
    "collapsed": false,
    "ExecuteTime": {
     "end_time": "2024-05-20T16:08:49.870079Z",
     "start_time": "2024-05-20T16:08:49.864075Z"
    }
   },
   "id": "f3b82f56b49b6742",
   "execution_count": 259
  },
  {
   "cell_type": "code",
   "outputs": [
    {
     "data": {
      "text/plain": "<Figure size 1000x600 with 1 Axes>",
      "image/png": "[encoded data removed]"
     },
     "metadata": {},
     "output_type": "display_data"
    }
   ],
   "source": [
    "plt.figure(figsize=(10, 6))\n",
    "sns.countplot(x='education', hue='loan_status', data=loans_df)\n",
    "plt.title(f'Distribution  of education by Loan Status')\n",
    "plt.xlabel('education')\n",
    "plt.ylabel('Count')\n",
    "plt.legend(title='Loan Status')\n",
    "plt.show()"
   ],
   "metadata": {
    "collapsed": false,
    "ExecuteTime": {
     "end_time": "2024-05-20T16:08:49.987104Z",
     "start_time": "2024-05-20T16:08:49.871078Z"
    }
   },
   "id": "390118bafe7d76fa",
   "execution_count": 260
  },
  {
   "cell_type": "markdown",
   "source": [
    "**self_employed**"
   ],
   "metadata": {
    "collapsed": false
   },
   "id": "239a1afae13eec3b"
  },
  {
   "cell_type": "code",
   "outputs": [
    {
     "data": {
      "text/plain": "self_employed\nYes   0.50\nNo    0.50\nName: proportion, dtype: float64"
     },
     "execution_count": 261,
     "metadata": {},
     "output_type": "execute_result"
    }
   ],
   "source": [
    "loans_df['self_employed'].value_counts(normalize=True)"
   ],
   "metadata": {
    "collapsed": false,
    "ExecuteTime": {
     "end_time": "2024-05-20T16:08:49.993048Z",
     "start_time": "2024-05-20T16:08:49.988237Z"
    }
   },
   "id": "5533f02f4e46e2ca",
   "execution_count": 261
  },
  {
   "cell_type": "code",
   "outputs": [
    {
     "data": {
      "text/plain": "<Figure size 1000x600 with 1 Axes>",
      "image/png": "[encoded data removed]"
     },
     "metadata": {},
     "output_type": "display_data"
    }
   ],
   "source": [
    "plt.figure(figsize=(10, 6))\n",
    "sns.countplot(x='self_employed', hue='loan_status', data=loans_df)\n",
    "plt.title(f'Distribution  of self_employed by Loan Status')\n",
    "plt.xlabel('self_employed')\n",
    "plt.ylabel('Count')\n",
    "plt.legend(title='Loan Status')\n",
    "plt.show()"
   ],
   "metadata": {
    "collapsed": false,
    "ExecuteTime": {
     "end_time": "2024-05-20T16:08:50.124213Z",
     "start_time": "2024-05-20T16:08:49.993605Z"
    }
   },
   "id": "e4122b0fbf764502",
   "execution_count": 262
  },
  {
   "cell_type": "markdown",
   "source": [
    "As the plots and the tables show, all three categorical features have the same distribution and same correlation with the target variable. This means that the loan status is not affected by the number of dependants, the education level, or if the person is self-employed or not. **So basically, they seem pretty much useless**."
   ],
   "metadata": {
    "collapsed": false
   },
   "id": "bfa335d0b8e8514f"
  },
  {
   "cell_type": "markdown",
   "source": [
    "### Numerical features"
   ],
   "metadata": {
    "collapsed": false
   },
   "id": "1ddae0d48f3bdef8"
  },
  {
   "cell_type": "markdown",
   "source": [
    "The next step will be to analyze the numerical features, see their distribution, and if there is any correlation with the target variable."
   ],
   "metadata": {
    "collapsed": false
   },
   "id": "1ece922e18dc922a"
  },
  {
   "cell_type": "markdown",
   "source": [
    "Even if it could be a bold assumption, we will consider all the assists as a single feature because, at the end of the day, all of them translates to the same thing: how much money the person has."
   ],
   "metadata": {
    "collapsed": false
   },
   "id": "36324ea8076bc418"
  },
  {
   "cell_type": "code",
   "outputs": [],
   "source": [
    "loans_df['total_assets'] = loans_df['residential_assets_value'] + loans_df['commercial_assets_value'] + loans_df[\n",
    "    'luxury_assets_value'] + loans_df['bank_asset_value']"
   ],
   "metadata": {
    "collapsed": false,
    "ExecuteTime": {
     "end_time": "2024-05-20T16:08:50.128857Z",
     "start_time": "2024-05-20T16:08:50.125428Z"
    }
   },
   "id": "aa8e162694fd536b",
   "execution_count": 263
  },
  {
   "cell_type": "code",
   "outputs": [
    {
     "data": {
      "text/plain": "<Figure size 1000x600 with 1 Axes>",
      "image/png": "[encoded data removed]"
     },
     "metadata": {},
     "output_type": "display_data"
    }
   ],
   "source": [
    "plt.figure(figsize=(10, 6))\n",
    "sns.histplot(loans_df['total_assets'], kde=True)\n",
    "plt.title(f'Distribution of total_assets')\n",
    "plt.show()"
   ],
   "metadata": {
    "collapsed": false,
    "ExecuteTime": {
     "end_time": "2024-05-20T16:08:50.296427Z",
     "start_time": "2024-05-20T16:08:50.128857Z"
    }
   },
   "id": "a1226cafce9eab2e",
   "execution_count": 264
  },
  {
   "cell_type": "code",
   "outputs": [
    {
     "data": {
      "text/plain": "<Figure size 1200x600 with 1 Axes>",
      "image/png": "[encoded data removed]"
     },
     "metadata": {},
     "output_type": "display_data"
    }
   ],
   "source": [
    "loans_df['loan_status_numeric'] = loans_df['loan_status'].apply(lambda x: 1 if x == 'Approved' else 0)\n",
    "\n",
    "plt.figure(figsize=(12, 6))\n",
    "sns.boxplot(x='loan_status', y='total_assets', data=loans_df)\n",
    "plt.title('Box Plot of Total Assets by Loan Status')\n",
    "plt.xlabel('Loan Status')\n",
    "plt.ylabel('Total Assets')\n",
    "plt.show()"
   ],
   "metadata": {
    "collapsed": false,
    "ExecuteTime": {
     "end_time": "2024-05-20T16:08:50.403404Z",
     "start_time": "2024-05-20T16:08:50.297615Z"
    }
   },
   "id": "43297b8e2b9c0d6d",
   "execution_count": 265
  },
  {
   "cell_type": "code",
   "outputs": [
    {
     "data": {
      "text/plain": "                     total_assets  loan_status_numeric\ntotal_assets                 1.00                -0.01\nloan_status_numeric         -0.01                 1.00",
      "text/html": "<div>\n<style scoped>\n    .dataframe tbody tr th:only-of-type {\n        vertical-align: middle;\n    }\n\n    .dataframe tbody tr th {\n        vertical-align: top;\n    }\n\n    .dataframe thead th {\n        text-align: right;\n    }\n</style>\n<table border=\"1\" class=\"dataframe\">\n  <thead>\n    <tr style=\"text-align: right;\">\n      <th></th>\n      <th>total_assets</th>\n      <th>loan_status_numeric</th>\n    </tr>\n  </thead>\n  <tbody>\n    <tr>\n      <th>total_assets</th>\n      <td>1.00</td>\n      <td>-0.01</td>\n    </tr>\n    <tr>\n      <th>loan_status_numeric</th>\n      <td>-0.01</td>\n      <td>1.00</td>\n    </tr>\n  </tbody>\n</table>\n</div>"
     },
     "execution_count": 266,
     "metadata": {},
     "output_type": "execute_result"
    }
   ],
   "source": [
    "loans_df[['total_assets', 'loan_status_numeric']].corr()"
   ],
   "metadata": {
    "collapsed": false,
    "ExecuteTime": {
     "end_time": "2024-05-20T16:08:50.410622Z",
     "start_time": "2024-05-20T16:08:50.403982Z"
    }
   },
   "id": "45ac454d1c46f0a7",
   "execution_count": 266
  },
  {
   "cell_type": "markdown",
   "source": [
    "As we can see, adding the assists doesn't seem to indicate a wealthy person has a higher chance of getting a loan. The correlation is pretty much non-existent, and therefore it is not a good feature to use."
   ],
   "metadata": {
    "collapsed": false
   },
   "id": "710b42f2513655cb"
  },
  {
   "cell_type": "markdown",
   "source": [
    "Now we will analyze the rest of the numerical features."
   ],
   "metadata": {
    "collapsed": false
   },
   "id": "2e0fa6795fceeccc"
  },
  {
   "cell_type": "code",
   "outputs": [
    {
     "data": {
      "text/plain": "<Figure size 1000x800 with 2 Axes>",
      "image/png": "[encoded data removed]"
     },
     "metadata": {},
     "output_type": "display_data"
    }
   ],
   "source": [
    "numerical_features = ['income_annum', 'loan_amount', 'loan_term']\n",
    "\n",
    "# Calculate correlation matrix\n",
    "correlation_matrix = loans_df[numerical_features + ['loan_status_numeric']].corr()\n",
    "\n",
    "# Visualize the correlation matrix using a heatmap\n",
    "plt.figure(figsize=(10, 8))\n",
    "sns.heatmap(correlation_matrix, annot=True, cmap='coolwarm', fmt='.2f')\n",
    "plt.title('Correlation Matrix')\n",
    "plt.show()"
   ],
   "metadata": {
    "collapsed": false,
    "ExecuteTime": {
     "end_time": "2024-05-20T16:08:50.560454Z",
     "start_time": "2024-05-20T16:08:50.411771Z"
    }
   },
   "id": "d6d5f87ae5884f0e",
   "execution_count": 267
  },
  {
   "cell_type": "markdown",
   "source": [
    "Looking at the matrix we can mainly see 2 things:\n",
    "    - There is barely no correlation between the numerical features and the target variable\n",
    "    - There is a high correlation between the loan amount and the loan term, which is expected."
   ],
   "metadata": {
    "collapsed": false
   },
   "id": "f409c4d054ff9f19"
  },
  {
   "cell_type": "markdown",
   "source": [
    "# Feature engineering"
   ],
   "metadata": {
    "collapsed": false
   },
   "id": "4dc77292cd2967bb"
  },
  {
   "cell_type": "markdown",
   "source": [
    "After a simple analysis, we can see the features are rather poor, with litte realation with the target. Let's see if we can create new features that could help the model."
   ],
   "metadata": {
    "collapsed": false
   },
   "id": "815e71d55b4181e"
  },
  {
   "cell_type": "code",
   "outputs": [],
   "source": [],
   "metadata": {
    "collapsed": false,
    "ExecuteTime": {
     "end_time": "2024-05-20T16:08:50.563507Z",
     "start_time": "2024-05-20T16:08:50.561505Z"
    }
   },
   "id": "bc3584d5894bc6d0",
   "execution_count": 267
  },
  {
   "cell_type": "markdown",
   "source": [
    "The first variable we will make will be the ratio of income by the number of dependant."
   ],
   "metadata": {
    "collapsed": false
   },
   "id": "331ae9f95aefa22f"
  },
  {
   "cell_type": "code",
   "outputs": [
    {
     "data": {
      "text/plain": "                         income_dependants_ratio  loan_status_numeric\nincome_dependants_ratio                     1.00                 0.01\nloan_status_numeric                         0.01                 1.00",
      "text/html": "<div>\n<style scoped>\n    .dataframe tbody tr th:only-of-type {\n        vertical-align: middle;\n    }\n\n    .dataframe tbody tr th {\n        vertical-align: top;\n    }\n\n    .dataframe thead th {\n        text-align: right;\n    }\n</style>\n<table border=\"1\" class=\"dataframe\">\n  <thead>\n    <tr style=\"text-align: right;\">\n      <th></th>\n      <th>income_dependants_ratio</th>\n      <th>loan_status_numeric</th>\n    </tr>\n  </thead>\n  <tbody>\n    <tr>\n      <th>income_dependants_ratio</th>\n      <td>1.00</td>\n      <td>0.01</td>\n    </tr>\n    <tr>\n      <th>loan_status_numeric</th>\n      <td>0.01</td>\n      <td>1.00</td>\n    </tr>\n  </tbody>\n</table>\n</div>"
     },
     "execution_count": 268,
     "metadata": {},
     "output_type": "execute_result"
    }
   ],
   "source": [
    "loans_df['income_dependants_ratio'] = loans_df['income_annum'] / (\n",
    "        loans_df['no_of_dependents'] + 1)  # +1 to avoid division by 0\n",
    "\n",
    "loans_df[['income_dependants_ratio', 'loan_status_numeric']].corr()"
   ],
   "metadata": {
    "collapsed": false,
    "ExecuteTime": {
     "end_time": "2024-05-20T16:08:50.571035Z",
     "start_time": "2024-05-20T16:08:50.564068Z"
    }
   },
   "id": "b45d0dff34231c2b",
   "execution_count": 268
  },
  {
   "cell_type": "markdown",
   "source": [
    "Does not seem to be relevant either."
   ],
   "metadata": {
    "collapsed": false
   },
   "id": "a5d337fac52b43e5"
  },
  {
   "cell_type": "markdown",
   "source": [
    "Next feature will be the ratio of the loan amount by the income. Might be able to tell us if the person is asking for too much money compared to their salary."
   ],
   "metadata": {
    "collapsed": false
   },
   "id": "73fbd1fa77bd93e7"
  },
  {
   "cell_type": "code",
   "outputs": [
    {
     "data": {
      "text/plain": "                     loan_income_ratio  loan_status_numeric\nloan_income_ratio                 1.00                 0.09\nloan_status_numeric               0.09                 1.00",
      "text/html": "<div>\n<style scoped>\n    .dataframe tbody tr th:only-of-type {\n        vertical-align: middle;\n    }\n\n    .dataframe tbody tr th {\n        vertical-align: top;\n    }\n\n    .dataframe thead th {\n        text-align: right;\n    }\n</style>\n<table border=\"1\" class=\"dataframe\">\n  <thead>\n    <tr style=\"text-align: right;\">\n      <th></th>\n      <th>loan_income_ratio</th>\n      <th>loan_status_numeric</th>\n    </tr>\n  </thead>\n  <tbody>\n    <tr>\n      <th>loan_income_ratio</th>\n      <td>1.00</td>\n      <td>0.09</td>\n    </tr>\n    <tr>\n      <th>loan_status_numeric</th>\n      <td>0.09</td>\n      <td>1.00</td>\n    </tr>\n  </tbody>\n</table>\n</div>"
     },
     "execution_count": 269,
     "metadata": {},
     "output_type": "execute_result"
    }
   ],
   "source": [
    "loans_df['loan_income_ratio'] = loans_df['loan_amount'] / loans_df['income_annum']\n",
    "\n",
    "loans_df[['loan_income_ratio', 'loan_status_numeric']].corr()"
   ],
   "metadata": {
    "collapsed": false,
    "ExecuteTime": {
     "end_time": "2024-05-20T16:08:50.578144Z",
     "start_time": "2024-05-20T16:08:50.571035Z"
    }
   },
   "id": "b77b01ced1d4ba32",
   "execution_count": 269
  },
  {
   "cell_type": "markdown",
   "source": [
    "This feature seems to have a little correlation with the target variable. At this point, I will take it."
   ],
   "metadata": {
    "collapsed": false
   },
   "id": "94983b8511d7edfb"
  },
  {
   "cell_type": "markdown",
   "source": [
    "The last feature I will try is the ratio of the loan amount by the total assets. Let's see how the loan compares to all their properties"
   ],
   "metadata": {
    "collapsed": false
   },
   "id": "19ee1a04c7b48573"
  },
  {
   "cell_type": "code",
   "outputs": [
    {
     "data": {
      "text/plain": "                     loan_assets_ratio  loan_status_numeric\nloan_assets_ratio                 1.00                 0.03\nloan_status_numeric               0.03                 1.00",
      "text/html": "<div>\n<style scoped>\n    .dataframe tbody tr th:only-of-type {\n        vertical-align: middle;\n    }\n\n    .dataframe tbody tr th {\n        vertical-align: top;\n    }\n\n    .dataframe thead th {\n        text-align: right;\n    }\n</style>\n<table border=\"1\" class=\"dataframe\">\n  <thead>\n    <tr style=\"text-align: right;\">\n      <th></th>\n      <th>loan_assets_ratio</th>\n      <th>loan_status_numeric</th>\n    </tr>\n  </thead>\n  <tbody>\n    <tr>\n      <th>loan_assets_ratio</th>\n      <td>1.00</td>\n      <td>0.03</td>\n    </tr>\n    <tr>\n      <th>loan_status_numeric</th>\n      <td>0.03</td>\n      <td>1.00</td>\n    </tr>\n  </tbody>\n</table>\n</div>"
     },
     "execution_count": 270,
     "metadata": {},
     "output_type": "execute_result"
    }
   ],
   "source": [
    "loans_df['loan_assets_ratio'] = loans_df['loan_amount'] / loans_df['total_assets']\n",
    "\n",
    "loans_df[['loan_assets_ratio', 'loan_status_numeric']].corr()"
   ],
   "metadata": {
    "collapsed": false,
    "ExecuteTime": {
     "end_time": "2024-05-20T16:08:50.585069Z",
     "start_time": "2024-05-20T16:08:50.579250Z"
    }
   },
   "id": "de8b2e5aacc7a7c5",
   "execution_count": 270
  },
  {
   "cell_type": "markdown",
   "source": [
    "Again, extremely low correlation. Useless."
   ],
   "metadata": {
    "collapsed": false
   },
   "id": "a350e1a50656bac"
  },
  {
   "cell_type": "code",
   "outputs": [],
   "source": [],
   "metadata": {
    "collapsed": false,
    "ExecuteTime": {
     "end_time": "2024-05-20T16:08:50.587506Z",
     "start_time": "2024-05-20T16:08:50.585069Z"
    }
   },
   "id": "f782f92e843a79d4",
   "execution_count": 270
  },
  {
   "cell_type": "markdown",
   "source": [
    "** Data analysis conclusion  **\n",
    "It seems really hard to find the right feature which have correlation with the model. We will try to use the features we have and see if the model can find a pattern."
   ],
   "metadata": {
    "collapsed": false
   },
   "id": "9ac106666c4892ed"
  },
  {
   "cell_type": "markdown",
   "source": [
    "### Data preparation"
   ],
   "metadata": {
    "collapsed": false
   },
   "id": "bb062a5870fc75d6"
  },
  {
   "cell_type": "markdown",
   "source": [
    "In order to prepare the data for the model we will first select the features that seem the most relevant."
   ],
   "metadata": {
    "collapsed": false
   },
   "id": "aa3f3e8777e1aafc"
  },
  {
   "cell_type": "code",
   "outputs": [],
   "source": [
    "chosen_features = ['income_annum', 'loan_amount', 'loan_term', 'loan_income_ratio']\n",
    "target_feature = 'loan_status_numeric'\n",
    "\n",
    "X = loans_df[chosen_features]\n",
    "y = loans_df[target_feature]"
   ],
   "metadata": {
    "collapsed": false,
    "ExecuteTime": {
     "end_time": "2024-05-20T16:08:50.591865Z",
     "start_time": "2024-05-20T16:08:50.587506Z"
    }
   },
   "id": "8d01c46f367bd4e2",
   "execution_count": 271
  },
  {
   "cell_type": "markdown",
   "source": [
    "The next step is splitting the data. We will use a simple validation set with 20% of the data for validation. It could be also interesting to use cross-validation, but since the dataset is rather big, this should work good enough."
   ],
   "metadata": {
    "collapsed": false
   },
   "id": "86ebeebf3705c6ee"
  },
  {
   "cell_type": "code",
   "outputs": [],
   "source": [
    "X_train, X_val, y_train, y_val = train_test_split(X, y, test_size=VALIDATION_SIZE, random_state=RANDOM_SEED)"
   ],
   "metadata": {
    "collapsed": false,
    "ExecuteTime": {
     "end_time": "2024-05-20T16:08:50.597122Z",
     "start_time": "2024-05-20T16:08:50.591865Z"
    }
   },
   "id": "b4b8a559df793a0a",
   "execution_count": 272
  },
  {
   "cell_type": "markdown",
   "source": [
    "Finally we will do a standard scaling, since some features are rather big. Discaliner: Obviously, the validation set shouldn't be transformed, but for simplicity, I will do it."
   ],
   "metadata": {
    "collapsed": false
   },
   "id": "f8ce9de62ff6fa16"
  },
  {
   "cell_type": "code",
   "outputs": [],
   "source": [
    "from sklearn.preprocessing import StandardScaler\n",
    "\n",
    "scaler = StandardScaler()\n",
    "X_train_scaled = scaler.fit_transform(X_train)\n",
    "X_val_scaled = scaler.transform(X_val)"
   ],
   "metadata": {
    "collapsed": false,
    "ExecuteTime": {
     "end_time": "2024-05-20T16:08:50.603739Z",
     "start_time": "2024-05-20T16:08:50.598222Z"
    }
   },
   "id": "18c635bf58ea61b0",
   "execution_count": 273
  },
  {
   "cell_type": "markdown",
   "source": [
    "# Model building"
   ],
   "metadata": {
    "collapsed": false
   },
   "id": "763fd148ef9a7bf2"
  },
  {
   "cell_type": "markdown",
   "source": [
    "Now it is time to build the model. We will have to try different classification models to see how thye work. We will also make use of grid search to find the best hyperparameters for each model."
   ],
   "metadata": {
    "collapsed": false
   },
   "id": "429779ffcd898213"
  },
  {
   "cell_type": "markdown",
   "source": [
    "**Random Forest**\n",
    "First we will train a random forest and grid search a few hyperparameters to see how it performs."
   ],
   "metadata": {
    "collapsed": false
   },
   "id": "ff4f506845e3df35"
  },
  {
   "cell_type": "code",
   "outputs": [
    {
     "data": {
      "text/plain": "{'max_depth': 10,\n 'min_samples_leaf': 2,\n 'min_samples_split': 10,\n 'n_estimators': 300}"
     },
     "execution_count": 274,
     "metadata": {},
     "output_type": "execute_result"
    }
   ],
   "source": [
    "from sklearn.ensemble import RandomForestClassifier\n",
    "from sklearn.model_selection import GridSearchCV\n",
    "\n",
    "param_grid = {\n",
    "    'n_estimators': [100, 200, 300],\n",
    "    'max_depth': [10, 20, 30],\n",
    "    'min_samples_split': [2, 5, 10],\n",
    "    'min_samples_leaf': [1, 2, 4]\n",
    "}\n",
    "\n",
    "model_random_forest = RandomForestClassifier(random_state=RANDOM_SEED)\n",
    "grid_search = GridSearchCV(estimator=model_random_forest, param_grid=param_grid, cv=3, n_jobs=-1, verbose=False)\n",
    "grid_search.fit(X_train_scaled, y_train)\n",
    "\n",
    "model_random_forest_best = grid_search.best_estimator_\n",
    "grid_search.best_params_"
   ],
   "metadata": {
    "collapsed": false,
    "ExecuteTime": {
     "end_time": "2024-05-20T16:09:07.907085Z",
     "start_time": "2024-05-20T16:08:50.603883Z"
    }
   },
   "id": "b05f415fd84d7c55",
   "execution_count": 274
  },
  {
   "cell_type": "markdown",
   "source": [
    "**Logistic Regression**\n",
    "we will see how a logistic regression performs. Also trying a few hyperparameters in a gs."
   ],
   "metadata": {
    "collapsed": false
   },
   "id": "e1a6c1d3df7e3c22"
  },
  {
   "cell_type": "code",
   "outputs": [
    {
     "data": {
      "text/plain": "{'C': 10, 'max_iter': 100}"
     },
     "execution_count": 275,
     "metadata": {},
     "output_type": "execute_result"
    }
   ],
   "source": [
    "from sklearn.linear_model import LogisticRegression\n",
    "\n",
    "param_grid = {\n",
    "    'C': [0.1, 1, 10, 100],\n",
    "    'max_iter': [100, 200, 300]\n",
    "}\n",
    "\n",
    "model_logistic_regression = LogisticRegression(random_state=RANDOM_SEED)\n",
    "grid_search = GridSearchCV(estimator=model_logistic_regression, param_grid=param_grid, cv=3, n_jobs=-1, verbose=False)\n",
    "grid_search.fit(X_train_scaled, y_train)\n",
    "\n",
    "model_logistic_regression_best = grid_search.best_estimator_\n",
    "grid_search.best_params_"
   ],
   "metadata": {
    "collapsed": false,
    "ExecuteTime": {
     "end_time": "2024-05-20T16:09:07.956653Z",
     "start_time": "2024-05-20T16:09:07.909157Z"
    }
   },
   "id": "ac1bd8f8c9f37508",
   "execution_count": 275
  },
  {
   "cell_type": "markdown",
   "source": [
    "# Metrics"
   ],
   "metadata": {
    "collapsed": false
   },
   "id": "5e89054304a96743"
  },
  {
   "cell_type": "markdown",
   "source": [
    "As the last step we will take some metrics to see how the models perform. Because the last thing we want to do is give a loan to someone who will not pay it, the most important metric will be the recall. When the loan is approved (1) it is because it really should be approved, so we want to minimize the false negatives. Therefore we will use a high threhold and compare it to the predic_proba"
   ],
   "metadata": {
    "collapsed": false
   },
   "id": "51a374cf3d9fa7a5"
  },
  {
   "cell_type": "code",
   "outputs": [
    {
     "name": "stdout",
     "output_type": "stream",
     "text": [
      "Model: Random Forest\n",
      "              precision    recall  f1-score   support\n",
      "\n",
      "           0       0.42      0.92      0.58       316\n",
      "           1       0.84      0.26      0.40       538\n",
      "\n",
      "    accuracy                           0.50       854\n",
      "   macro avg       0.63      0.59      0.49       854\n",
      "weighted avg       0.69      0.50      0.46       854\n",
      "\n",
      "Model: Logistic Regression\n",
      "              precision    recall  f1-score   support\n",
      "\n",
      "           0       0.41      0.95      0.58       316\n",
      "           1       0.88      0.21      0.34       538\n",
      "\n",
      "    accuracy                           0.48       854\n",
      "   macro avg       0.65      0.58      0.46       854\n",
      "weighted avg       0.71      0.48      0.43       854\n"
     ]
    }
   ],
   "source": [
    "from sklearn.metrics import classification_report\n",
    "\n",
    "models = {\n",
    "    'Random Forest': model_random_forest_best,\n",
    "    'Logistic Regression': model_logistic_regression_best\n",
    "}\n",
    "\n",
    "# Use high threshold to minimize false negatives\n",
    "threshold = 0.7\n",
    "\n",
    "for model_name, model in models.items():\n",
    "    y_pred = model.predict_proba(X_val_scaled)[:, 1] > threshold\n",
    "    print(f'Model: {model_name}')\n",
    "    print(classification_report(y_val, y_pred))\n"
   ],
   "metadata": {
    "collapsed": false,
    "ExecuteTime": {
     "end_time": "2024-05-20T16:09:07.990203Z",
     "start_time": "2024-05-20T16:09:07.956653Z"
    }
   },
   "id": "ee12c5247410e6de",
   "execution_count": 276
  },
  {
   "cell_type": "markdown",
   "source": [
    "# Final notes, conclusions, and next steps"
   ],
   "metadata": {
    "collapsed": false
   },
   "id": "30535162e949831d"
  },
  {
   "cell_type": "markdown",
   "source": [
    "### Money lost when customer doesn't pay\n",
    "\n",
    "Something really important to make a decision is to know how much money the bank losses (more or less) when a customer doesn't pay. It is probably the most important metric to know if it makes sense to implement the model. There are some stuff that is also important to consider:\n",
    "  - As the instructions of the exam say, it is really hard to estimate the real lose of a customer not paying because of the risk.\n",
    "  - If the model is implemented, the bank will also save money because less employees will be needed.\n",
    "For now I'm just gonna make a simple calculation but obviously, it is not the real value and a deeper analysis should be done."
   ],
   "metadata": {
    "collapsed": false
   },
   "id": "3fd438f5d05e3be3"
  },
  {
   "cell_type": "code",
   "outputs": [
    {
     "name": "stdout",
     "output_type": "stream",
     "text": [
      "Average loss when a customer doesn't pay: 87226.13 $\n"
     ]
    },
    {
     "name": "stderr",
     "output_type": "stream",
     "text": [
      "C:\\Users\\jsanchez\\AppData\\Local\\Temp\\ipykernel_20728\\1438600420.py:17: SettingWithCopyWarning: \n",
      "A value is trying to be set on a copy of a slice from a DataFrame.\n",
      "Try using .loc[row_indexer,col_indexer] = value instead\n",
      "\n",
      "See the caveats in the documentation: https://pandas.pydata.org/pandas-docs/stable/user_guide/indexing.html#returning-a-view-versus-a-copy\n",
      "  loans_rejected['loss'] = loans_rejected.apply(calculate_loss, axis=1)\n"
     ]
    }
   ],
   "source": [
    "def calculate_loss(row):\n",
    "    loan_amount = row['loan_amount']\n",
    "    loan_term_years = row['loan_term'] / 12\n",
    "    half_term_years = loan_term_years / 2  # Instructions say usally they stop paying at the middle of the loan\n",
    "    annual_interest_rate = 0.05\n",
    "    reclaiming_cost = 10_000\n",
    "\n",
    "    # Interest accrued up to the midpoint of the loan term\n",
    "    interest_accumulated = loan_amount * annual_interest_rate * half_term_years\n",
    "\n",
    "    # Total loss is half_loan amount, interest and reclaiming cost\n",
    "    total_loss = (loan_amount / 2) + interest_accumulated + reclaiming_cost\n",
    "    return total_loss\n",
    "\n",
    "\n",
    "loans_rejected = loans_df[loans_df['loan_status'] == 'Rejected']\n",
    "loans_rejected['loss'] = loans_rejected.apply(calculate_loss, axis=1)\n",
    "\n",
    "# Calculate the average loss\n",
    "average_loss = loans_rejected['loss'].mean()\n",
    "average_loss_euros = average_loss / 90\n",
    "\n",
    "print(f\"Average loss when a customer doesn't pay: {average_loss_euros:.2f} $\")"
   ],
   "metadata": {
    "collapsed": false,
    "ExecuteTime": {
     "end_time": "2024-05-20T16:09:08.005573Z",
     "start_time": "2024-05-20T16:09:07.990203Z"
    }
   },
   "id": "ac4cce068056c242",
   "execution_count": 277
  },
  {
   "cell_type": "markdown",
   "source": [
    "### Model usage"
   ],
   "metadata": {
    "collapsed": false
   },
   "id": "3af1287e1d3a1b91"
  },
  {
   "cell_type": "markdown",
   "source": [
    "It is pretty clear that the model is not going to outperform the CIBIL. However by focusing the model on minimizing the false negatives, we can make sure that the loans that are approved are going to be paid. By doing this we could save some money by discarding loans that are not going to be paid. For most of the banks, the most important thing is to minimize the risk, so this model could be useful."
   ],
   "metadata": {
    "collapsed": false
   },
   "id": "e77c27cc992d55cc"
  },
  {
   "cell_type": "markdown",
   "source": [
    "- It would have been really interesting to make a model knowing if that person had a loan before, but we don't have that information."
   ],
   "metadata": {
    "collapsed": false
   },
   "id": "d261f0348117b864"
  },
  {
   "cell_type": "code",
   "outputs": [
    {
     "data": {
      "text/plain": "                     cibil_score  loan_status_numeric\ncibil_score                 1.00                 0.77\nloan_status_numeric         0.77                 1.00",
      "text/html": "<div>\n<style scoped>\n    .dataframe tbody tr th:only-of-type {\n        vertical-align: middle;\n    }\n\n    .dataframe tbody tr th {\n        vertical-align: top;\n    }\n\n    .dataframe thead th {\n        text-align: right;\n    }\n</style>\n<table border=\"1\" class=\"dataframe\">\n  <thead>\n    <tr style=\"text-align: right;\">\n      <th></th>\n      <th>cibil_score</th>\n      <th>loan_status_numeric</th>\n    </tr>\n  </thead>\n  <tbody>\n    <tr>\n      <th>cibil_score</th>\n      <td>1.00</td>\n      <td>0.77</td>\n    </tr>\n    <tr>\n      <th>loan_status_numeric</th>\n      <td>0.77</td>\n      <td>1.00</td>\n    </tr>\n  </tbody>\n</table>\n</div>"
     },
     "execution_count": 278,
     "metadata": {},
     "output_type": "execute_result"
    }
   ],
   "source": [
    "loans_df[['cibil_score', 'loan_status_numeric']].corr()"
   ],
   "metadata": {
    "collapsed": false,
    "ExecuteTime": {
     "end_time": "2024-05-20T16:09:08.012114Z",
     "start_time": "2024-05-20T16:09:08.005573Z"
    }
   },
   "id": "9076b506b6940f8",
   "execution_count": 278
  }
 ],
 "metadata": {
  "kernelspec": {
   "display_name": "Python 3",
   "language": "python",
   "name": "python3"
  },
  "language_info": {
   "codemirror_mode": {
    "name": "ipython",
    "version": 2
   },
   "file_extension": ".py",
   "mimetype": "text/x-python",
   "name": "python",
   "nbconvert_exporter": "python",
   "pygments_lexer": "ipython2",
   "version": "2.7.6"
  }
 },
 "nbformat": 4,
 "nbformat_minor": 5
}
