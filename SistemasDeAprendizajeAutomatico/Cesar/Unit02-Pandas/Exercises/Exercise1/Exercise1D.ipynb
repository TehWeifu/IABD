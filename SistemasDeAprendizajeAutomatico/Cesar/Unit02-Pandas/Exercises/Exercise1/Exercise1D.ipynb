{
 "cells": [
  {
   "cell_type": "markdown",
   "source": [
    "Ejercicio 1.D\n",
    "Siguiendo con el DataFrame anterior imprime por pantalla:"
   ],
   "metadata": {
    "collapsed": false
   },
   "id": "7dfb0879f39ecafa"
  },
  {
   "cell_type": "code",
   "execution_count": 1,
   "id": "initial_id",
   "metadata": {
    "collapsed": true,
    "ExecuteTime": {
     "end_time": "2023-11-13T16:30:10.127292600Z",
     "start_time": "2023-11-13T16:30:09.435111400Z"
    }
   },
   "outputs": [],
   "source": [
    "from sklearn.datasets import load_iris\n",
    "import pandas as pd\n",
    "\n",
    "sample_data_flowers = load_iris()\n",
    "columns = sample_data_flowers.feature_names\n",
    "# print(dir(sample_data_flowers))\n",
    "# print(sample_data_flowers.data)\n",
    "\n",
    "data_frame_flowers: pd.DataFrame = pd.DataFrame(sample_data_flowers.data, columns=columns)\n",
    "data_frame_flowers['flower type'] = sample_data_flowers.target"
   ]
  },
  {
   "cell_type": "markdown",
   "source": [
    "El ancho del pétalo de las flores de tipo “0” pero cuyo largo del pétalo sea entre [1.3,1.9]"
   ],
   "metadata": {
    "collapsed": false
   },
   "id": "6bf64d8d4f2b744f"
  },
  {
   "cell_type": "code",
   "execution_count": 2,
   "outputs": [
    {
     "data": {
      "text/plain": "0     0.2\n1     0.2\n2     0.2\n3     0.2\n4     0.2\n5     0.4\n6     0.3\n7     0.2\n8     0.2\n9     0.1\n10    0.2\n11    0.2\n12    0.1\n15    0.4\n16    0.4\n17    0.3\n18    0.3\n19    0.3\n20    0.2\n21    0.4\n23    0.5\n24    0.2\n25    0.2\n26    0.4\n27    0.2\n28    0.2\n29    0.2\n30    0.2\n31    0.4\n32    0.1\n33    0.2\n34    0.2\n36    0.2\n37    0.1\n38    0.2\n39    0.2\n40    0.3\n41    0.3\n42    0.2\n43    0.6\n44    0.4\n45    0.3\n46    0.2\n47    0.2\n48    0.2\n49    0.2\nName: petal width (cm), dtype: float64"
     },
     "execution_count": 2,
     "metadata": {},
     "output_type": "execute_result"
    }
   ],
   "source": [
    "df_filter_by_petal_length = data_frame_flowers[\n",
    "    (data_frame_flowers[\"flower type\"] == 0) &\n",
    "    (data_frame_flowers[\"petal length (cm)\"] >= 1.3) &\n",
    "    (data_frame_flowers[\"petal length (cm)\"] <= 1.9)\n",
    "    ]\n",
    "# df_filter.head()\n",
    "df_filter_by_petal_length[\"petal width (cm)\"]"
   ],
   "metadata": {
    "collapsed": false,
    "ExecuteTime": {
     "end_time": "2023-11-13T16:30:10.136058300Z",
     "start_time": "2023-11-13T16:30:10.127292600Z"
    }
   },
   "id": "45ae6bf0820e2120"
  },
  {
   "cell_type": "markdown",
   "source": [
    "El ancho del sépalo de las flores de tipo “1”"
   ],
   "metadata": {
    "collapsed": false
   },
   "id": "3cfc5043b98e850d"
  },
  {
   "cell_type": "code",
   "execution_count": 3,
   "outputs": [
    {
     "data": {
      "text/plain": "50    3.2\n51    3.2\n52    3.1\n53    2.3\n54    2.8\n55    2.8\n56    3.3\n57    2.4\n58    2.9\n59    2.7\n60    2.0\n61    3.0\n62    2.2\n63    2.9\n64    2.9\n65    3.1\n66    3.0\n67    2.7\n68    2.2\n69    2.5\n70    3.2\n71    2.8\n72    2.5\n73    2.8\n74    2.9\n75    3.0\n76    2.8\n77    3.0\n78    2.9\n79    2.6\n80    2.4\n81    2.4\n82    2.7\n83    2.7\n84    3.0\n85    3.4\n86    3.1\n87    2.3\n88    3.0\n89    2.5\n90    2.6\n91    3.0\n92    2.6\n93    2.3\n94    2.7\n95    3.0\n96    2.9\n97    2.9\n98    2.5\n99    2.8\nName: sepal width (cm), dtype: float64"
     },
     "execution_count": 3,
     "metadata": {},
     "output_type": "execute_result"
    }
   ],
   "source": [
    "df_filter_type_one = data_frame_flowers[\n",
    "    (data_frame_flowers[\"flower type\"] == 1)\n",
    "]\n",
    "df_filter_type_one[\"sepal width (cm)\"]"
   ],
   "metadata": {
    "collapsed": false,
    "ExecuteTime": {
     "end_time": "2023-11-13T16:30:10.144759200Z",
     "start_time": "2023-11-13T16:30:10.136058300Z"
    }
   },
   "id": "32b89ec75262aca0"
  },
  {
   "cell_type": "markdown",
   "source": [
    "Indica los tipos de flores que hay."
   ],
   "metadata": {
    "collapsed": false
   },
   "id": "4801543fcd96ee10"
  },
  {
   "cell_type": "code",
   "execution_count": 4,
   "outputs": [
    {
     "data": {
      "text/plain": "array([0, 1, 2])"
     },
     "execution_count": 4,
     "metadata": {},
     "output_type": "execute_result"
    }
   ],
   "source": [
    "data_frame_flowers['flower type'].unique()"
   ],
   "metadata": {
    "collapsed": false,
    "ExecuteTime": {
     "end_time": "2023-11-13T16:30:10.152753Z",
     "start_time": "2023-11-13T16:30:10.147269Z"
    }
   },
   "id": "9c6bb2cc321d6848"
  },
  {
   "cell_type": "markdown",
   "source": [
    "Indica cuantos valores de la columna “target” son “null”"
   ],
   "metadata": {
    "collapsed": false
   },
   "id": "4d753baf8e920c0f"
  },
  {
   "cell_type": "code",
   "execution_count": 5,
   "outputs": [
    {
     "data": {
      "text/plain": "0"
     },
     "execution_count": 5,
     "metadata": {},
     "output_type": "execute_result"
    }
   ],
   "source": [
    "data_frame_flowers[\"flower type\"].isnull().sum()"
   ],
   "metadata": {
    "collapsed": false,
    "ExecuteTime": {
     "end_time": "2023-11-13T16:30:10.164244400Z",
     "start_time": "2023-11-13T16:30:10.152753Z"
    }
   },
   "id": "7c219cb2b4685814"
  },
  {
   "cell_type": "markdown",
   "source": [
    "Indicar cuantos valores del DataFrame son “null”"
   ],
   "metadata": {
    "collapsed": false
   },
   "id": "ab9f9a2a58423a1e"
  },
  {
   "cell_type": "code",
   "execution_count": 6,
   "outputs": [
    {
     "data": {
      "text/plain": "sepal length (cm)    0\nsepal width (cm)     0\npetal length (cm)    0\npetal width (cm)     0\nflower type          0\ndtype: int64"
     },
     "execution_count": 6,
     "metadata": {},
     "output_type": "execute_result"
    }
   ],
   "source": [
    "data_frame_flowers.isnull().sum()"
   ],
   "metadata": {
    "collapsed": false,
    "ExecuteTime": {
     "end_time": "2023-11-13T16:30:10.209767500Z",
     "start_time": "2023-11-13T16:30:10.159201400Z"
    }
   },
   "id": "680b39f03146c2b4"
  },
  {
   "cell_type": "markdown",
   "source": [
    "¿Como se borrarían aquellas filas que tienen algún datos que es null?"
   ],
   "metadata": {
    "collapsed": false
   },
   "id": "d1380c0af00fecf2"
  },
  {
   "cell_type": "code",
   "execution_count": 7,
   "outputs": [
    {
     "data": {
      "text/plain": "   sepal length (cm)  sepal width (cm)  petal length (cm)  petal width (cm)  \\\n0                5.1               3.5                1.4               0.2   \n1                4.9               3.0                1.4               0.2   \n2                4.7               3.2                1.3               0.2   \n3                4.6               3.1                1.5               0.2   \n4                5.0               3.6                1.4               0.2   \n\n   flower type  \n0            0  \n1            0  \n2            0  \n3            0  \n4            0  ",
      "text/html": "<div>\n<style scoped>\n    .dataframe tbody tr th:only-of-type {\n        vertical-align: middle;\n    }\n\n    .dataframe tbody tr th {\n        vertical-align: top;\n    }\n\n    .dataframe thead th {\n        text-align: right;\n    }\n</style>\n<table border=\"1\" class=\"dataframe\">\n  <thead>\n    <tr style=\"text-align: right;\">\n      <th></th>\n      <th>sepal length (cm)</th>\n      <th>sepal width (cm)</th>\n      <th>petal length (cm)</th>\n      <th>petal width (cm)</th>\n      <th>flower type</th>\n    </tr>\n  </thead>\n  <tbody>\n    <tr>\n      <th>0</th>\n      <td>5.1</td>\n      <td>3.5</td>\n      <td>1.4</td>\n      <td>0.2</td>\n      <td>0</td>\n    </tr>\n    <tr>\n      <th>1</th>\n      <td>4.9</td>\n      <td>3.0</td>\n      <td>1.4</td>\n      <td>0.2</td>\n      <td>0</td>\n    </tr>\n    <tr>\n      <th>2</th>\n      <td>4.7</td>\n      <td>3.2</td>\n      <td>1.3</td>\n      <td>0.2</td>\n      <td>0</td>\n    </tr>\n    <tr>\n      <th>3</th>\n      <td>4.6</td>\n      <td>3.1</td>\n      <td>1.5</td>\n      <td>0.2</td>\n      <td>0</td>\n    </tr>\n    <tr>\n      <th>4</th>\n      <td>5.0</td>\n      <td>3.6</td>\n      <td>1.4</td>\n      <td>0.2</td>\n      <td>0</td>\n    </tr>\n  </tbody>\n</table>\n</div>"
     },
     "execution_count": 7,
     "metadata": {},
     "output_type": "execute_result"
    }
   ],
   "source": [
    "data_frame_flowers = data_frame_flowers.dropna()\n",
    "data_frame_flowers.head()"
   ],
   "metadata": {
    "collapsed": false,
    "ExecuteTime": {
     "end_time": "2023-11-13T16:30:10.209767500Z",
     "start_time": "2023-11-13T16:30:10.166073300Z"
    }
   },
   "id": "cac1d64caead6735"
  }
 ],
 "metadata": {
  "kernelspec": {
   "display_name": "Python 3",
   "language": "python",
   "name": "python3"
  },
  "language_info": {
   "codemirror_mode": {
    "name": "ipython",
    "version": 2
   },
   "file_extension": ".py",
   "mimetype": "text/x-python",
   "name": "python",
   "nbconvert_exporter": "python",
   "pygments_lexer": "ipython2",
   "version": "2.7.6"
  }
 },
 "nbformat": 4,
 "nbformat_minor": 5
}
