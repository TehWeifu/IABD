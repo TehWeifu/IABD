{
 "cells": [
  {
   "cell_type": "markdown",
   "source": [
    "Ejercicio 2.A\n",
    "Descarga el siguiente fichero tiempos_red_neuronal.zip que contiene los segundos que ha tardado en entrenarse una red neuronal según el nº de épocas y la función de activación usada"
   ],
   "metadata": {
    "collapsed": false
   },
   "id": "88bd07520a8e8447"
  },
  {
   "cell_type": "code",
   "execution_count": 58,
   "outputs": [],
   "source": [
    "import pandas as pd"
   ],
   "metadata": {
    "collapsed": false,
    "ExecuteTime": {
     "end_time": "2023-10-29T22:17:43.326714600Z",
     "start_time": "2023-10-29T22:17:43.258345900Z"
    }
   },
   "id": "36f4f8933a84ee48"
  },
  {
   "cell_type": "markdown",
   "source": [
    "Abre el fichero con un editor de texto y comprueba que formato tiene\n",
    " - El fichero tiene formato .csv"
   ],
   "metadata": {
    "collapsed": false
   },
   "id": "4734cd300314a1cc"
  },
  {
   "cell_type": "markdown",
   "source": [
    "Carga el fichero con pandas"
   ],
   "metadata": {
    "collapsed": false
   },
   "id": "65208bf0f19cee2b"
  },
  {
   "cell_type": "code",
   "execution_count": 59,
   "outputs": [],
   "source": [
    "model_metrics = pd.read_csv(\"tiempos_red_neuronal.csv\", sep=\",\", index_col=0)"
   ],
   "metadata": {
    "collapsed": false,
    "ExecuteTime": {
     "end_time": "2023-10-29T22:17:43.329725500Z",
     "start_time": "2023-10-29T22:17:43.263350400Z"
    }
   },
   "id": "e93abdf4e3d261aa"
  },
  {
   "cell_type": "markdown",
   "source": [
    "Muestra las columnas que tiene"
   ],
   "metadata": {
    "collapsed": false
   },
   "id": "14e9aa0c94a033bb"
  },
  {
   "cell_type": "code",
   "execution_count": 60,
   "outputs": [
    {
     "data": {
      "text/plain": "Index(['funcion_activacion', 'talla', 'tiempo', 'desviacion'], dtype='object')"
     },
     "execution_count": 60,
     "metadata": {},
     "output_type": "execute_result"
    }
   ],
   "source": [
    "model_metrics.columns"
   ],
   "metadata": {
    "collapsed": false,
    "ExecuteTime": {
     "end_time": "2023-10-29T22:17:43.387490400Z",
     "start_time": "2023-10-29T22:17:43.276231400Z"
    }
   },
   "id": "88474ccc694b11db"
  },
  {
   "cell_type": "markdown",
   "source": [
    "Renombra la columna talla a epoca"
   ],
   "metadata": {
    "collapsed": false
   },
   "id": "d52a5f39be9cd836"
  },
  {
   "cell_type": "code",
   "execution_count": 61,
   "outputs": [
    {
     "data": {
      "text/plain": "  funcion_activacion  epoca      tiempo  desviacion\n0             lineal   12.0  156.885412           0\n1            sigmoid   12.0  160.744537           0\n2               tanh   12.0  158.876953           0\n3               relu   12.0  161.685764           0\n4               selu   12.0  160.904838           0",
      "text/html": "<div>\n<style scoped>\n    .dataframe tbody tr th:only-of-type {\n        vertical-align: middle;\n    }\n\n    .dataframe tbody tr th {\n        vertical-align: top;\n    }\n\n    .dataframe thead th {\n        text-align: right;\n    }\n</style>\n<table border=\"1\" class=\"dataframe\">\n  <thead>\n    <tr style=\"text-align: right;\">\n      <th></th>\n      <th>funcion_activacion</th>\n      <th>epoca</th>\n      <th>tiempo</th>\n      <th>desviacion</th>\n    </tr>\n  </thead>\n  <tbody>\n    <tr>\n      <th>0</th>\n      <td>lineal</td>\n      <td>12.0</td>\n      <td>156.885412</td>\n      <td>0</td>\n    </tr>\n    <tr>\n      <th>1</th>\n      <td>sigmoid</td>\n      <td>12.0</td>\n      <td>160.744537</td>\n      <td>0</td>\n    </tr>\n    <tr>\n      <th>2</th>\n      <td>tanh</td>\n      <td>12.0</td>\n      <td>158.876953</td>\n      <td>0</td>\n    </tr>\n    <tr>\n      <th>3</th>\n      <td>relu</td>\n      <td>12.0</td>\n      <td>161.685764</td>\n      <td>0</td>\n    </tr>\n    <tr>\n      <th>4</th>\n      <td>selu</td>\n      <td>12.0</td>\n      <td>160.904838</td>\n      <td>0</td>\n    </tr>\n  </tbody>\n</table>\n</div>"
     },
     "execution_count": 61,
     "metadata": {},
     "output_type": "execute_result"
    }
   ],
   "source": [
    "model_metrics.rename(columns={'talla': 'epoca'}, inplace=True)\n",
    "model_metrics.head()"
   ],
   "metadata": {
    "collapsed": false,
    "ExecuteTime": {
     "end_time": "2023-10-29T22:17:43.390187800Z",
     "start_time": "2023-10-29T22:17:43.288217800Z"
    }
   },
   "id": "a6a2f839a1965461"
  },
  {
   "cell_type": "markdown",
   "source": [
    "Muestra cuantas filas hay"
   ],
   "metadata": {
    "collapsed": false
   },
   "id": "3ea4d051777a8499"
  },
  {
   "cell_type": "code",
   "execution_count": 62,
   "outputs": [
    {
     "name": "stdout",
     "output_type": "stream",
     "text": [
      "Dataframe has 2860 rows\n"
     ]
    }
   ],
   "source": [
    "print(f\"Dataframe has {model_metrics.shape[0]} rows\")"
   ],
   "metadata": {
    "collapsed": false,
    "ExecuteTime": {
     "end_time": "2023-10-29T22:17:43.401186400Z",
     "start_time": "2023-10-29T22:17:43.303943500Z"
    }
   },
   "id": "d99b4de040253cc8"
  },
  {
   "cell_type": "markdown",
   "source": [
    "Muestra cuantos valores son null o NaN en cada columna"
   ],
   "metadata": {
    "collapsed": false
   },
   "id": "23f86c6ca434e41d"
  },
  {
   "cell_type": "code",
   "execution_count": 63,
   "outputs": [
    {
     "data": {
      "text/plain": "funcion_activacion    3\nepoca                 3\ntiempo                6\ndesviacion            0\ndtype: int64"
     },
     "execution_count": 63,
     "metadata": {},
     "output_type": "execute_result"
    }
   ],
   "source": [
    "model_metrics.isnull().sum()"
   ],
   "metadata": {
    "collapsed": false,
    "ExecuteTime": {
     "end_time": "2023-10-29T22:17:43.405218300Z",
     "start_time": "2023-10-29T22:17:43.315222Z"
    }
   },
   "id": "75e207ce3deb0c08"
  },
  {
   "cell_type": "markdown",
   "source": [
    "Muestra el % de valores a null o NaN en cada columna"
   ],
   "metadata": {
    "collapsed": false
   },
   "id": "d84db49f3e83880e"
  },
  {
   "cell_type": "code",
   "execution_count": 64,
   "outputs": [
    {
     "name": "stdout",
     "output_type": "stream",
     "text": [
      "funcion_activacion    0.104895\n",
      "epoca                 0.104895\n",
      "tiempo                0.209790\n",
      "desviacion            0.000000\n",
      "dtype: float64\n"
     ]
    }
   ],
   "source": [
    "null_percentage = model_metrics.isnull().mean() * 100\n",
    "print(null_percentage)"
   ],
   "metadata": {
    "collapsed": false,
    "ExecuteTime": {
     "end_time": "2023-10-29T22:17:43.405218300Z",
     "start_time": "2023-10-29T22:17:43.329725500Z"
    }
   },
   "id": "549e1e1a4af266a9"
  },
  {
   "cell_type": "markdown",
   "source": [
    "Borra las filas que tengan algún valor a null o NaN"
   ],
   "metadata": {
    "collapsed": false
   },
   "id": "8c7e6aacbac88fb"
  },
  {
   "cell_type": "code",
   "execution_count": 65,
   "outputs": [],
   "source": [
    "model_metrics = model_metrics.dropna()"
   ],
   "metadata": {
    "collapsed": false,
    "ExecuteTime": {
     "end_time": "2023-10-29T22:17:43.405218300Z",
     "start_time": "2023-10-29T22:17:43.339827Z"
    }
   },
   "id": "bc2061ce41054c9e"
  },
  {
   "cell_type": "markdown",
   "source": [
    "Muestra las estadísticas de cada columna. ¿Podrías borrar alguna? ¿Explica porqué? En caso afirmativo borra la columna"
   ],
   "metadata": {
    "collapsed": false
   },
   "id": "39a36ff73bab0a35"
  },
  {
   "cell_type": "code",
   "execution_count": 66,
   "outputs": [
    {
     "data": {
      "text/plain": "  funcion_activacion  epoca      tiempo\n0             lineal   12.0  156.885412\n1            sigmoid   12.0  160.744537\n2               tanh   12.0  158.876953\n3               relu   12.0  161.685764\n4               selu   12.0  160.904838",
      "text/html": "<div>\n<style scoped>\n    .dataframe tbody tr th:only-of-type {\n        vertical-align: middle;\n    }\n\n    .dataframe tbody tr th {\n        vertical-align: top;\n    }\n\n    .dataframe thead th {\n        text-align: right;\n    }\n</style>\n<table border=\"1\" class=\"dataframe\">\n  <thead>\n    <tr style=\"text-align: right;\">\n      <th></th>\n      <th>funcion_activacion</th>\n      <th>epoca</th>\n      <th>tiempo</th>\n    </tr>\n  </thead>\n  <tbody>\n    <tr>\n      <th>0</th>\n      <td>lineal</td>\n      <td>12.0</td>\n      <td>156.885412</td>\n    </tr>\n    <tr>\n      <th>1</th>\n      <td>sigmoid</td>\n      <td>12.0</td>\n      <td>160.744537</td>\n    </tr>\n    <tr>\n      <th>2</th>\n      <td>tanh</td>\n      <td>12.0</td>\n      <td>158.876953</td>\n    </tr>\n    <tr>\n      <th>3</th>\n      <td>relu</td>\n      <td>12.0</td>\n      <td>161.685764</td>\n    </tr>\n    <tr>\n      <th>4</th>\n      <td>selu</td>\n      <td>12.0</td>\n      <td>160.904838</td>\n    </tr>\n  </tbody>\n</table>\n</div>"
     },
     "execution_count": 66,
     "metadata": {},
     "output_type": "execute_result"
    }
   ],
   "source": [
    "model_metrics.describe()\n",
    "# Todos los valores de la columna 'desviacion' son 0, por lo que se puede prescindir de la columna\n",
    "model_metrics.drop(columns=[\"desviacion\"], inplace=True)\n",
    "model_metrics.head()"
   ],
   "metadata": {
    "collapsed": false,
    "ExecuteTime": {
     "end_time": "2023-10-29T22:17:43.406192400Z",
     "start_time": "2023-10-29T22:17:43.351014Z"
    }
   },
   "id": "fc2308b75b22d190"
  },
  {
   "cell_type": "markdown",
   "source": [
    "Indica que funciones de activación se han usado"
   ],
   "metadata": {
    "collapsed": false
   },
   "id": "ff00ed01fcabbced"
  },
  {
   "cell_type": "code",
   "execution_count": 67,
   "outputs": [
    {
     "data": {
      "text/plain": "array(['lineal', 'sigmoid', 'tanh', 'relu', 'selu', 'elu', 'gelu',\n       'swish', 'mish', 'lisht'], dtype=object)"
     },
     "execution_count": 67,
     "metadata": {},
     "output_type": "execute_result"
    }
   ],
   "source": [
    "model_metrics[\"funcion_activacion\"].unique()"
   ],
   "metadata": {
    "collapsed": false,
    "ExecuteTime": {
     "end_time": "2023-10-29T22:17:43.406192400Z",
     "start_time": "2023-10-29T22:17:43.366487300Z"
    }
   },
   "id": "9d848b1b577138ba"
  },
  {
   "cell_type": "markdown",
   "source": [
    "Indica hasta cuantas épocas se ha entrenado la red"
   ],
   "metadata": {
    "collapsed": false
   },
   "id": "afa1a668181f589a"
  },
  {
   "cell_type": "code",
   "execution_count": 68,
   "outputs": [
    {
     "data": {
      "text/plain": "299.0"
     },
     "execution_count": 68,
     "metadata": {},
     "output_type": "execute_result"
    }
   ],
   "source": [
    "model_metrics[\"epoca\"].max()"
   ],
   "metadata": {
    "collapsed": false,
    "ExecuteTime": {
     "end_time": "2023-10-29T22:17:43.408218700Z",
     "start_time": "2023-10-29T22:17:43.371513900Z"
    }
   },
   "id": "af6d0ad7de037a6f"
  },
  {
   "cell_type": "markdown",
   "source": [
    "Indica la función de activación que ha tenido el mayor tiempo en la última época"
   ],
   "metadata": {
    "collapsed": false
   },
   "id": "18dc13571c8f412c"
  },
  {
   "cell_type": "code",
   "execution_count": 77,
   "outputs": [
    {
     "name": "stdout",
     "output_type": "stream",
     "text": [
      "gelu\n"
     ]
    }
   ],
   "source": [
    "max_epoch = model_metrics[\"epoca\"].max()\n",
    "records_max_epoch = model_metrics[\n",
    "    (model_metrics[\"epoca\"] == max_epoch)\n",
    "]\n",
    "\n",
    "activation_function_max = records_max_epoch.loc[\n",
    "    records_max_epoch[\"tiempo\"].idxmax(),\n",
    "    \"funcion_activacion\"\n",
    "]\n",
    "\n",
    "print(activation_function_max)"
   ],
   "metadata": {
    "collapsed": false,
    "ExecuteTime": {
     "end_time": "2023-10-29T22:26:53.853871Z",
     "start_time": "2023-10-29T22:26:53.850865200Z"
    }
   },
   "id": "e1f57f29e2f04abc"
  }
 ],
 "metadata": {
  "kernelspec": {
   "display_name": "Python 3",
   "language": "python",
   "name": "python3"
  },
  "language_info": {
   "codemirror_mode": {
    "name": "ipython",
    "version": 2
   },
   "file_extension": ".py",
   "mimetype": "text/x-python",
   "name": "python",
   "nbconvert_exporter": "python",
   "pygments_lexer": "ipython2",
   "version": "2.7.6"
  }
 },
 "nbformat": 4,
 "nbformat_minor": 5
}
