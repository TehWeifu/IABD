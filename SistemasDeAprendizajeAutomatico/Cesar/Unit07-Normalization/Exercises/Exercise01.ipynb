{
 "cells": [
  {
   "cell_type": "markdown",
   "source": [
    "# Ejercicio 1"
   ],
   "metadata": {
    "collapsed": false
   },
   "id": "245991a2e29ca280"
  },
  {
   "cell_type": "code",
   "outputs": [],
   "source": [
    "from sklearn.datasets import load_wine\n",
    "from sklearn.model_selection import train_test_split\n",
    "\n",
    "RANDOM_STATE_SEED = 2055\n",
    "TEST_SIZE_SPLIT = 0.3"
   ],
   "metadata": {
    "collapsed": false,
    "ExecuteTime": {
     "end_time": "2024-02-19T15:26:28.799553Z",
     "start_time": "2024-02-19T15:26:28.541899700Z"
    }
   },
   "id": "3bc8588d9ace30e7",
   "execution_count": 3
  },
  {
   "cell_type": "markdown",
   "source": [
    "Carga el dataset wine de sklearn. Este dataset contiene una serie de registros de tipos de vino (0, 1 o 2) según varias características (alcohol, magnesio, intensidad del color…)."
   ],
   "metadata": {
    "collapsed": false
   },
   "id": "3af84b8654f6cb2f"
  },
  {
   "cell_type": "code",
   "outputs": [],
   "source": [
    "wine = load_wine()\n",
    "X = wine.data\n",
    "y = wine.target"
   ],
   "metadata": {
    "collapsed": false,
    "ExecuteTime": {
     "end_time": "2024-02-19T15:26:28.804551700Z",
     "start_time": "2024-02-19T15:26:28.799553Z"
    }
   },
   "id": "6d95167257e405bb",
   "execution_count": 4
  },
  {
   "cell_type": "markdown",
   "source": [
    "Utiliza la función train_test_split para separar tus datos en entrenamiento y test (30%)."
   ],
   "metadata": {
    "collapsed": false
   },
   "id": "c0db3343c26f52c1"
  },
  {
   "cell_type": "code",
   "execution_count": 5,
   "id": "initial_id",
   "metadata": {
    "collapsed": true,
    "ExecuteTime": {
     "end_time": "2024-02-19T15:26:28.810762500Z",
     "start_time": "2024-02-19T15:26:28.804551700Z"
    }
   },
   "outputs": [],
   "source": [
    "X_train, X_test, y_train, y_test = train_test_split(X, y, test_size=TEST_SIZE_SPLIT, random_state=RANDOM_STATE_SEED)"
   ]
  }
 ],
 "metadata": {
  "kernelspec": {
   "display_name": "Python 3",
   "language": "python",
   "name": "python3"
  },
  "language_info": {
   "codemirror_mode": {
    "name": "ipython",
    "version": 2
   },
   "file_extension": ".py",
   "mimetype": "text/x-python",
   "name": "python",
   "nbconvert_exporter": "python",
   "pygments_lexer": "ipython2",
   "version": "2.7.6"
  }
 },
 "nbformat": 4,
 "nbformat_minor": 5
}
