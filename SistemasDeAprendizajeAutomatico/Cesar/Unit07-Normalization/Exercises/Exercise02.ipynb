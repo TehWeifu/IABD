{
 "cells": [
  {
   "cell_type": "markdown",
   "source": [
    "# Ejercicio 2"
   ],
   "metadata": {
    "collapsed": false
   },
   "id": "245991a2e29ca280"
  },
  {
   "cell_type": "code",
   "outputs": [],
   "source": [
    "from sklearn.datasets import load_wine\n",
    "from sklearn.model_selection import train_test_split\n",
    "from sklearn.neighbors import KNeighborsClassifier\n",
    "from sklearn.metrics import accuracy_score\n",
    "\n",
    "RANDOM_STATE_SEED = 2055\n",
    "TEST_SIZE_SPLIT = 0.3"
   ],
   "metadata": {
    "collapsed": false,
    "ExecuteTime": {
     "end_time": "2024-02-19T15:31:09.833990800Z",
     "start_time": "2024-02-19T15:31:09.829153300Z"
    }
   },
   "id": "3bc8588d9ace30e7",
   "execution_count": 20
  },
  {
   "cell_type": "code",
   "outputs": [],
   "source": [
    "wine = load_wine()\n",
    "X = wine.data\n",
    "y = wine.target\n",
    "X_train, X_test, y_train, y_test = train_test_split(X, y, test_size=TEST_SIZE_SPLIT, random_state=RANDOM_STATE_SEED)"
   ],
   "metadata": {
    "collapsed": false,
    "ExecuteTime": {
     "end_time": "2024-02-19T15:31:09.841937700Z",
     "start_time": "2024-02-19T15:31:09.837168700Z"
    }
   },
   "id": "821607e98ebb0c80",
   "execution_count": 21
  },
  {
   "cell_type": "markdown",
   "source": [
    "Crea un clasificador KNN con los siguientes parámetros (no te preocupes ahora por el significado de los mismos, ya los veremos más adelante):"
   ],
   "metadata": {
    "collapsed": false
   },
   "id": "d1d1be18fd4ebceb"
  },
  {
   "cell_type": "code",
   "outputs": [],
   "source": [
    "model_knn = KNeighborsClassifier(n_neighbors=5, weights='uniform')"
   ],
   "metadata": {
    "collapsed": false,
    "ExecuteTime": {
     "end_time": "2024-02-19T15:31:09.854608200Z",
     "start_time": "2024-02-19T15:31:09.842935Z"
    }
   },
   "id": "abed3724b0bcf5e4",
   "execution_count": 22
  },
  {
   "cell_type": "markdown",
   "source": [
    "Entrena el modelo (con su método fit()), y muestra su exactitud (accuracy) ejecutando lo siguiente:"
   ],
   "metadata": {
    "collapsed": false
   },
   "id": "3af84b8654f6cb2f"
  },
  {
   "cell_type": "code",
   "outputs": [],
   "source": [
    "_ = model_knn.fit(X_train, y_train)"
   ],
   "metadata": {
    "collapsed": false,
    "ExecuteTime": {
     "end_time": "2024-02-19T15:31:09.854608200Z",
     "start_time": "2024-02-19T15:31:09.847251600Z"
    }
   },
   "id": "54e7c317ced4c0b5",
   "execution_count": 23
  },
  {
   "cell_type": "code",
   "outputs": [
    {
     "name": "stdout",
     "output_type": "stream",
     "text": [
      "KNeighborsClassifier 0.6296\n"
     ]
    }
   ],
   "source": [
    "y_pred_rf = model_knn.predict(X_test)\n",
    "\n",
    "print(model_knn.__class__.__name__, float(\"{0:.4f}\".format(accuracy_score(y_test, y_pred_rf))))"
   ],
   "metadata": {
    "collapsed": false,
    "ExecuteTime": {
     "end_time": "2024-02-19T15:31:09.863867100Z",
     "start_time": "2024-02-19T15:31:09.853486400Z"
    }
   },
   "id": "6d95167257e405bb",
   "execution_count": 24
  }
 ],
 "metadata": {
  "kernelspec": {
   "display_name": "Python 3",
   "language": "python",
   "name": "python3"
  },
  "language_info": {
   "codemirror_mode": {
    "name": "ipython",
    "version": 2
   },
   "file_extension": ".py",
   "mimetype": "text/x-python",
   "name": "python",
   "nbconvert_exporter": "python",
   "pygments_lexer": "ipython2",
   "version": "2.7.6"
  }
 },
 "nbformat": 4,
 "nbformat_minor": 5
}
