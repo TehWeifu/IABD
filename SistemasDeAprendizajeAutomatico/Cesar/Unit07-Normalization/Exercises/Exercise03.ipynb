{
 "cells": [
  {
   "cell_type": "markdown",
   "source": [
    "# Ejercicio 3"
   ],
   "metadata": {
    "collapsed": false
   },
   "id": "245991a2e29ca280"
  },
  {
   "cell_type": "code",
   "outputs": [],
   "source": [
    "from sklearn.datasets import load_wine\n",
    "from sklearn.model_selection import train_test_split\n",
    "from sklearn.neighbors import KNeighborsClassifier\n",
    "from sklearn.metrics import accuracy_score\n",
    "import pandas as pd\n",
    "from sklearn.preprocessing import MinMaxScaler\n",
    "\n",
    "RANDOM_STATE_SEED = 2055\n",
    "TEST_SIZE_SPLIT = 0.3"
   ],
   "metadata": {
    "collapsed": false,
    "ExecuteTime": {
     "end_time": "2024-02-19T15:36:15.747382300Z",
     "start_time": "2024-02-19T15:36:15.709258600Z"
    }
   },
   "id": "3bc8588d9ace30e7",
   "execution_count": 8
  },
  {
   "cell_type": "markdown",
   "source": [
    "Normaliza todas las columnas del dataset y comprueba ahora la exactitud del modelo."
   ],
   "metadata": {
    "collapsed": false
   },
   "id": "5eb9088727299a96"
  },
  {
   "cell_type": "code",
   "outputs": [],
   "source": [
    "wine = load_wine()\n",
    "X = wine.data\n",
    "y = wine.target"
   ],
   "metadata": {
    "collapsed": false,
    "ExecuteTime": {
     "end_time": "2024-02-19T15:36:15.748415600Z",
     "start_time": "2024-02-19T15:36:15.712531900Z"
    }
   },
   "id": "821607e98ebb0c80",
   "execution_count": 9
  },
  {
   "cell_type": "code",
   "outputs": [],
   "source": [
    "min_max_scaler = MinMaxScaler()\n",
    "\n",
    "X_normalized = min_max_scaler.fit_transform(X)\n",
    "\n",
    "X = pd.DataFrame(X_normalized)"
   ],
   "metadata": {
    "collapsed": false,
    "ExecuteTime": {
     "end_time": "2024-02-19T15:36:15.748415600Z",
     "start_time": "2024-02-19T15:36:15.719015600Z"
    }
   },
   "id": "51a6ed645bd48ea0",
   "execution_count": 10
  },
  {
   "cell_type": "code",
   "outputs": [],
   "source": [
    "X_train, X_test, y_train, y_test = train_test_split(X, y, test_size=TEST_SIZE_SPLIT, random_state=RANDOM_STATE_SEED)"
   ],
   "metadata": {
    "collapsed": false,
    "ExecuteTime": {
     "end_time": "2024-02-19T15:36:15.749446700Z",
     "start_time": "2024-02-19T15:36:15.724699800Z"
    }
   },
   "id": "1a5fe14e3e822ccf",
   "execution_count": 11
  },
  {
   "cell_type": "code",
   "outputs": [],
   "source": [
    "model_knn = KNeighborsClassifier(n_neighbors=5, weights='uniform')"
   ],
   "metadata": {
    "collapsed": false,
    "ExecuteTime": {
     "end_time": "2024-02-19T15:36:15.749446700Z",
     "start_time": "2024-02-19T15:36:15.730609800Z"
    }
   },
   "id": "abed3724b0bcf5e4",
   "execution_count": 12
  },
  {
   "cell_type": "code",
   "outputs": [],
   "source": [
    "_ = model_knn.fit(X_train, y_train)"
   ],
   "metadata": {
    "collapsed": false,
    "ExecuteTime": {
     "end_time": "2024-02-19T15:36:15.750558400Z",
     "start_time": "2024-02-19T15:36:15.734575300Z"
    }
   },
   "id": "54e7c317ced4c0b5",
   "execution_count": 13
  },
  {
   "cell_type": "code",
   "outputs": [
    {
     "name": "stdout",
     "output_type": "stream",
     "text": [
      "KNeighborsClassifier 0.9444\n"
     ]
    }
   ],
   "source": [
    "y_pred_rf = model_knn.predict(X_test)\n",
    "\n",
    "print(model_knn.__class__.__name__, float(\"{0:.4f}\".format(accuracy_score(y_test, y_pred_rf))))"
   ],
   "metadata": {
    "collapsed": false,
    "ExecuteTime": {
     "end_time": "2024-02-19T15:36:15.793017900Z",
     "start_time": "2024-02-19T15:36:15.752691200Z"
    }
   },
   "id": "6d95167257e405bb",
   "execution_count": 14
  }
 ],
 "metadata": {
  "kernelspec": {
   "display_name": "Python 3",
   "language": "python",
   "name": "python3"
  },
  "language_info": {
   "codemirror_mode": {
    "name": "ipython",
    "version": 2
   },
   "file_extension": ".py",
   "mimetype": "text/x-python",
   "name": "python",
   "nbconvert_exporter": "python",
   "pygments_lexer": "ipython2",
   "version": "2.7.6"
  }
 },
 "nbformat": 4,
 "nbformat_minor": 5
}
