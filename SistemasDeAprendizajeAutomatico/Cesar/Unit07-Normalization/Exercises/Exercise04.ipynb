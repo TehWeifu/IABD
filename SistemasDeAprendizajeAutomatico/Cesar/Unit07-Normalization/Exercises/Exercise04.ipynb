{
 "cells": [
  {
   "cell_type": "markdown",
   "source": [
    "# Ejercicio 4"
   ],
   "metadata": {
    "collapsed": false
   },
   "id": "245991a2e29ca280"
  },
  {
   "cell_type": "code",
   "outputs": [],
   "source": [
    "from sklearn.datasets import load_wine\n",
    "from sklearn.model_selection import train_test_split\n",
    "from sklearn.neighbors import KNeighborsClassifier\n",
    "from sklearn.metrics import accuracy_score\n",
    "import pandas as pd\n",
    "from sklearn.preprocessing import StandardScaler\n",
    "\n",
    "RANDOM_STATE_SEED = 2055\n",
    "TEST_SIZE_SPLIT = 0.3"
   ],
   "metadata": {
    "collapsed": false,
    "ExecuteTime": {
     "end_time": "2024-02-19T15:37:52.502616600Z",
     "start_time": "2024-02-19T15:37:51.639788700Z"
    }
   },
   "id": "3bc8588d9ace30e7",
   "execution_count": 1
  },
  {
   "cell_type": "markdown",
   "source": [
    "Haz lo mismo que en el ejercicio anterior, pero estandarizando ahora las columnas en lugar de normalizándolas. ¿Qué técnica ha resultado mejor de las tres?"
   ],
   "metadata": {
    "collapsed": false
   },
   "id": "5eb9088727299a96"
  },
  {
   "cell_type": "code",
   "outputs": [],
   "source": [
    "wine = load_wine()\n",
    "X = wine.data\n",
    "y = wine.target"
   ],
   "metadata": {
    "collapsed": false,
    "ExecuteTime": {
     "end_time": "2024-02-19T15:37:52.511880400Z",
     "start_time": "2024-02-19T15:37:52.504770800Z"
    }
   },
   "id": "821607e98ebb0c80",
   "execution_count": 2
  },
  {
   "cell_type": "code",
   "outputs": [
    {
     "data": {
      "text/plain": "           0         1         2         3         4         5         6   \\\n0    1.518613 -0.562250  0.232053 -1.169593  1.913905  0.808997  1.034819   \n1    0.246290 -0.499413 -0.827996 -2.490847  0.018145  0.568648  0.733629   \n2    0.196879  0.021231  1.109334 -0.268738  0.088358  0.808997  1.215533   \n3    1.691550 -0.346811  0.487926 -0.809251  0.930918  2.491446  1.466525   \n4    0.295700  0.227694  1.840403  0.451946  1.281985  0.808997  0.663351   \n..        ...       ...       ...       ...       ...       ...       ...   \n173  0.876275  2.974543  0.305159  0.301803 -0.332922 -0.985614 -1.424900   \n174  0.493343  1.412609  0.414820  1.052516  0.158572 -0.793334 -1.284344   \n175  0.332758  1.744744 -0.389355  0.151661  1.422412 -1.129824 -1.344582   \n176  0.209232  0.227694  0.012732  0.151661  1.422412 -1.033684 -1.354622   \n177  1.395086  1.583165  1.365208  1.502943 -0.262708 -0.392751 -1.274305   \n\n           7         8         9         10        11        12  \n0   -0.659563  1.224884  0.251717  0.362177  1.847920  1.013009  \n1   -0.820719 -0.544721 -0.293321  0.406051  1.113449  0.965242  \n2   -0.498407  2.135968  0.269020  0.318304  0.788587  1.395148  \n3   -0.981875  1.032155  1.186068 -0.427544  1.184071  2.334574  \n4    0.226796  0.401404 -0.319276  0.362177  0.449601 -0.037874  \n..        ...       ...       ...       ...       ...       ...  \n173  1.274310 -0.930179  1.142811 -1.392758 -1.231206 -0.021952  \n174  0.549108 -0.316950  0.969783 -1.129518 -1.485445  0.009893  \n175  0.549108 -0.422075  2.224236 -1.612125 -1.485445  0.280575  \n176  1.354888 -0.229346  1.834923 -1.568252 -1.400699  0.296498  \n177  1.596623 -0.422075  1.791666 -1.524378 -1.428948 -0.595160  \n\n[178 rows x 13 columns]",
      "text/html": "<div>\n<style scoped>\n    .dataframe tbody tr th:only-of-type {\n        vertical-align: middle;\n    }\n\n    .dataframe tbody tr th {\n        vertical-align: top;\n    }\n\n    .dataframe thead th {\n        text-align: right;\n    }\n</style>\n<table border=\"1\" class=\"dataframe\">\n  <thead>\n    <tr style=\"text-align: right;\">\n      <th></th>\n      <th>0</th>\n      <th>1</th>\n      <th>2</th>\n      <th>3</th>\n      <th>4</th>\n      <th>5</th>\n      <th>6</th>\n      <th>7</th>\n      <th>8</th>\n      <th>9</th>\n      <th>10</th>\n      <th>11</th>\n      <th>12</th>\n    </tr>\n  </thead>\n  <tbody>\n    <tr>\n      <th>0</th>\n      <td>1.518613</td>\n      <td>-0.562250</td>\n      <td>0.232053</td>\n      <td>-1.169593</td>\n      <td>1.913905</td>\n      <td>0.808997</td>\n      <td>1.034819</td>\n      <td>-0.659563</td>\n      <td>1.224884</td>\n      <td>0.251717</td>\n      <td>0.362177</td>\n      <td>1.847920</td>\n      <td>1.013009</td>\n    </tr>\n    <tr>\n      <th>1</th>\n      <td>0.246290</td>\n      <td>-0.499413</td>\n      <td>-0.827996</td>\n      <td>-2.490847</td>\n      <td>0.018145</td>\n      <td>0.568648</td>\n      <td>0.733629</td>\n      <td>-0.820719</td>\n      <td>-0.544721</td>\n      <td>-0.293321</td>\n      <td>0.406051</td>\n      <td>1.113449</td>\n      <td>0.965242</td>\n    </tr>\n    <tr>\n      <th>2</th>\n      <td>0.196879</td>\n      <td>0.021231</td>\n      <td>1.109334</td>\n      <td>-0.268738</td>\n      <td>0.088358</td>\n      <td>0.808997</td>\n      <td>1.215533</td>\n      <td>-0.498407</td>\n      <td>2.135968</td>\n      <td>0.269020</td>\n      <td>0.318304</td>\n      <td>0.788587</td>\n      <td>1.395148</td>\n    </tr>\n    <tr>\n      <th>3</th>\n      <td>1.691550</td>\n      <td>-0.346811</td>\n      <td>0.487926</td>\n      <td>-0.809251</td>\n      <td>0.930918</td>\n      <td>2.491446</td>\n      <td>1.466525</td>\n      <td>-0.981875</td>\n      <td>1.032155</td>\n      <td>1.186068</td>\n      <td>-0.427544</td>\n      <td>1.184071</td>\n      <td>2.334574</td>\n    </tr>\n    <tr>\n      <th>4</th>\n      <td>0.295700</td>\n      <td>0.227694</td>\n      <td>1.840403</td>\n      <td>0.451946</td>\n      <td>1.281985</td>\n      <td>0.808997</td>\n      <td>0.663351</td>\n      <td>0.226796</td>\n      <td>0.401404</td>\n      <td>-0.319276</td>\n      <td>0.362177</td>\n      <td>0.449601</td>\n      <td>-0.037874</td>\n    </tr>\n    <tr>\n      <th>...</th>\n      <td>...</td>\n      <td>...</td>\n      <td>...</td>\n      <td>...</td>\n      <td>...</td>\n      <td>...</td>\n      <td>...</td>\n      <td>...</td>\n      <td>...</td>\n      <td>...</td>\n      <td>...</td>\n      <td>...</td>\n      <td>...</td>\n    </tr>\n    <tr>\n      <th>173</th>\n      <td>0.876275</td>\n      <td>2.974543</td>\n      <td>0.305159</td>\n      <td>0.301803</td>\n      <td>-0.332922</td>\n      <td>-0.985614</td>\n      <td>-1.424900</td>\n      <td>1.274310</td>\n      <td>-0.930179</td>\n      <td>1.142811</td>\n      <td>-1.392758</td>\n      <td>-1.231206</td>\n      <td>-0.021952</td>\n    </tr>\n    <tr>\n      <th>174</th>\n      <td>0.493343</td>\n      <td>1.412609</td>\n      <td>0.414820</td>\n      <td>1.052516</td>\n      <td>0.158572</td>\n      <td>-0.793334</td>\n      <td>-1.284344</td>\n      <td>0.549108</td>\n      <td>-0.316950</td>\n      <td>0.969783</td>\n      <td>-1.129518</td>\n      <td>-1.485445</td>\n      <td>0.009893</td>\n    </tr>\n    <tr>\n      <th>175</th>\n      <td>0.332758</td>\n      <td>1.744744</td>\n      <td>-0.389355</td>\n      <td>0.151661</td>\n      <td>1.422412</td>\n      <td>-1.129824</td>\n      <td>-1.344582</td>\n      <td>0.549108</td>\n      <td>-0.422075</td>\n      <td>2.224236</td>\n      <td>-1.612125</td>\n      <td>-1.485445</td>\n      <td>0.280575</td>\n    </tr>\n    <tr>\n      <th>176</th>\n      <td>0.209232</td>\n      <td>0.227694</td>\n      <td>0.012732</td>\n      <td>0.151661</td>\n      <td>1.422412</td>\n      <td>-1.033684</td>\n      <td>-1.354622</td>\n      <td>1.354888</td>\n      <td>-0.229346</td>\n      <td>1.834923</td>\n      <td>-1.568252</td>\n      <td>-1.400699</td>\n      <td>0.296498</td>\n    </tr>\n    <tr>\n      <th>177</th>\n      <td>1.395086</td>\n      <td>1.583165</td>\n      <td>1.365208</td>\n      <td>1.502943</td>\n      <td>-0.262708</td>\n      <td>-0.392751</td>\n      <td>-1.274305</td>\n      <td>1.596623</td>\n      <td>-0.422075</td>\n      <td>1.791666</td>\n      <td>-1.524378</td>\n      <td>-1.428948</td>\n      <td>-0.595160</td>\n    </tr>\n  </tbody>\n</table>\n<p>178 rows × 13 columns</p>\n</div>"
     },
     "execution_count": 3,
     "metadata": {},
     "output_type": "execute_result"
    }
   ],
   "source": [
    "min_max_scaler = StandardScaler()\n",
    "\n",
    "X_standard = min_max_scaler.fit_transform(X)\n",
    "\n",
    "X = pd.DataFrame(X_standard)\n",
    "X"
   ],
   "metadata": {
    "collapsed": false,
    "ExecuteTime": {
     "end_time": "2024-02-19T15:37:52.530398Z",
     "start_time": "2024-02-19T15:37:52.511880400Z"
    }
   },
   "id": "51a6ed645bd48ea0",
   "execution_count": 3
  },
  {
   "cell_type": "code",
   "outputs": [],
   "source": [
    "X_train, X_test, y_train, y_test = train_test_split(X, y, test_size=TEST_SIZE_SPLIT, random_state=RANDOM_STATE_SEED)"
   ],
   "metadata": {
    "collapsed": false,
    "ExecuteTime": {
     "end_time": "2024-02-19T15:37:52.537982700Z",
     "start_time": "2024-02-19T15:37:52.527252600Z"
    }
   },
   "id": "1a5fe14e3e822ccf",
   "execution_count": 4
  },
  {
   "cell_type": "code",
   "outputs": [],
   "source": [
    "model_knn = KNeighborsClassifier(n_neighbors=5, weights='uniform')"
   ],
   "metadata": {
    "collapsed": false,
    "ExecuteTime": {
     "end_time": "2024-02-19T15:37:52.539098200Z",
     "start_time": "2024-02-19T15:37:52.532576Z"
    }
   },
   "id": "abed3724b0bcf5e4",
   "execution_count": 5
  },
  {
   "cell_type": "code",
   "outputs": [],
   "source": [
    "_ = model_knn.fit(X_train, y_train)"
   ],
   "metadata": {
    "collapsed": false,
    "ExecuteTime": {
     "end_time": "2024-02-19T15:37:52.550966700Z",
     "start_time": "2024-02-19T15:37:52.540099100Z"
    }
   },
   "id": "54e7c317ced4c0b5",
   "execution_count": 6
  },
  {
   "cell_type": "code",
   "outputs": [
    {
     "name": "stdout",
     "output_type": "stream",
     "text": [
      "KNeighborsClassifier 0.963\n"
     ]
    }
   ],
   "source": [
    "y_pred_rf = model_knn.predict(X_test)\n",
    "\n",
    "print(model_knn.__class__.__name__, float(\"{0:.4f}\".format(accuracy_score(y_test, y_pred_rf))))"
   ],
   "metadata": {
    "collapsed": false,
    "ExecuteTime": {
     "end_time": "2024-02-19T15:37:52.572693200Z",
     "start_time": "2024-02-19T15:37:52.546681500Z"
    }
   },
   "id": "6d95167257e405bb",
   "execution_count": 7
  },
  {
   "cell_type": "markdown",
   "source": [
    "La técnica que ha dado mejores resultados es la estandarización, seguida de cerca por la normalización. \n",
    "Ambos métodos han dado resultados bastante mejores que los datos sin procesar."
   ],
   "metadata": {
    "collapsed": false
   },
   "id": "c764dafc276b8eb3"
  }
 ],
 "metadata": {
  "kernelspec": {
   "display_name": "Python 3",
   "language": "python",
   "name": "python3"
  },
  "language_info": {
   "codemirror_mode": {
    "name": "ipython",
    "version": 2
   },
   "file_extension": ".py",
   "mimetype": "text/x-python",
   "name": "python",
   "nbconvert_exporter": "python",
   "pygments_lexer": "ipython2",
   "version": "2.7.6"
  }
 },
 "nbformat": 4,
 "nbformat_minor": 5
}
