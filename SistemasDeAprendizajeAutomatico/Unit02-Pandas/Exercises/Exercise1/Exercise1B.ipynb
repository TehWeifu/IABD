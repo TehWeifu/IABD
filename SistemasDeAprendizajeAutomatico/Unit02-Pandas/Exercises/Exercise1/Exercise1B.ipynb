{
 "cells": [
  {
   "cell_type": "markdown",
   "source": [
    "Ejercicio 1.B\n",
    "Siguiendo con el DataFrame anterior imprime por pantalla:\n"
   ],
   "metadata": {
    "collapsed": false
   },
   "id": "e371a8f9838ac4a9"
  },
  {
   "cell_type": "code",
   "execution_count": 22,
   "outputs": [],
   "source": [
    "from sklearn.datasets import load_iris\n",
    "import pandas as pd\n",
    "\n",
    "sample_data_flowers = load_iris()\n",
    "columns = sample_data_flowers.feature_names\n",
    "# print(dir(sample_data_flowers))\n",
    "# print(sample_data_flowers.data)\n",
    "\n",
    "data_frame_flowers: pd.DataFrame = pd.DataFrame(sample_data_flowers.data, columns=columns)\n",
    "data_frame_flowers['flower type'] = sample_data_flowers.target"
   ],
   "metadata": {
    "collapsed": false,
    "ExecuteTime": {
     "end_time": "2023-10-23T17:09:25.865205300Z",
     "start_time": "2023-10-23T17:09:25.846853600Z"
    }
   },
   "id": "80d81c5fcd83b2ad"
  },
  {
   "cell_type": "markdown",
   "source": [
    "El tamaño medio del ancho del pétalo"
   ],
   "metadata": {
    "collapsed": false
   },
   "id": "ba60976558a60990"
  },
  {
   "cell_type": "code",
   "execution_count": 23,
   "outputs": [
    {
     "name": "stdout",
     "output_type": "stream",
     "text": [
      "The average width of the petal is: 1.1993333333333336 cm\n"
     ]
    }
   ],
   "source": [
    "print(f\"The average width of the petal is: {data_frame_flowers['petal width (cm)'].mean()} cm\")"
   ],
   "metadata": {
    "collapsed": false,
    "ExecuteTime": {
     "end_time": "2023-10-23T17:09:25.865205300Z",
     "start_time": "2023-10-23T17:09:25.849983100Z"
    }
   },
   "id": "153e89034e6b58a3"
  },
  {
   "cell_type": "code",
   "execution_count": 24,
   "outputs": [
    {
     "name": "stdout",
     "output_type": "stream",
     "text": [
      "The standard deviation of the width of the petal is: 0.7622376689603465 cm\n"
     ]
    }
   ],
   "source": [
    "print(f\"The standard deviation of the width of the petal is: {data_frame_flowers['petal width (cm)'].std()} cm\")"
   ],
   "metadata": {
    "collapsed": false,
    "ExecuteTime": {
     "end_time": "2023-10-23T17:09:25.868459300Z",
     "start_time": "2023-10-23T17:09:25.857219800Z"
    }
   },
   "id": "449fec42f728950e"
  },
  {
   "cell_type": "markdown",
   "source": [
    "El máximo ancho del pétalo"
   ],
   "metadata": {
    "collapsed": false
   },
   "id": "6d6cd4c50430d5f9"
  },
  {
   "cell_type": "code",
   "execution_count": 25,
   "outputs": [
    {
     "name": "stdout",
     "output_type": "stream",
     "text": [
      "The maximum width of the petal is: 2.5 cm\n"
     ]
    }
   ],
   "source": [
    "print(f\"The maximum width of the petal is: {data_frame_flowers['petal width (cm)'].max()} cm\")"
   ],
   "metadata": {
    "collapsed": false,
    "ExecuteTime": {
     "end_time": "2023-10-23T17:09:25.877495900Z",
     "start_time": "2023-10-23T17:09:25.861910Z"
    }
   },
   "id": "404bf730b07ec4b5"
  },
  {
   "cell_type": "markdown",
   "source": [
    "El mínimo ancho del pétalo"
   ],
   "metadata": {
    "collapsed": false
   },
   "id": "222a486df73414a0"
  },
  {
   "cell_type": "code",
   "execution_count": 26,
   "outputs": [
    {
     "name": "stdout",
     "output_type": "stream",
     "text": [
      "The maximum width of the petal is: 0.1 cm\n"
     ]
    }
   ],
   "source": [
    "print(f\"The maximum width of the petal is: {data_frame_flowers['petal width (cm)'].min()} cm\")"
   ],
   "metadata": {
    "collapsed": false,
    "ExecuteTime": {
     "end_time": "2023-10-23T17:09:25.877495900Z",
     "start_time": "2023-10-23T17:09:25.868459300Z"
    }
   },
   "id": "5f1776cbea2ab470"
  }
 ],
 "metadata": {
  "kernelspec": {
   "display_name": "Python 3",
   "language": "python",
   "name": "python3"
  },
  "language_info": {
   "codemirror_mode": {
    "name": "ipython",
    "version": 2
   },
   "file_extension": ".py",
   "mimetype": "text/x-python",
   "name": "python",
   "nbconvert_exporter": "python",
   "pygments_lexer": "ipython2",
   "version": "2.7.6"
  }
 },
 "nbformat": 4,
 "nbformat_minor": 5
}
