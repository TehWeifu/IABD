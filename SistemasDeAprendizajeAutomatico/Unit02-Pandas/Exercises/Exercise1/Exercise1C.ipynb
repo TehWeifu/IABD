{
 "cells": [
  {
   "cell_type": "markdown",
   "source": [
    "Ejercicio 1.C\n",
    "Siguiendo con el DataFrame anterior:"
   ],
   "metadata": {
    "collapsed": false
   },
   "id": "d6b62d39cd7285dc"
  },
  {
   "cell_type": "code",
   "execution_count": 95,
   "id": "initial_id",
   "metadata": {
    "collapsed": true,
    "ExecuteTime": {
     "end_time": "2023-10-23T17:26:53.568074500Z",
     "start_time": "2023-10-23T17:26:53.525411400Z"
    }
   },
   "outputs": [],
   "source": [
    "from sklearn.datasets import load_iris\n",
    "import pandas as pd\n",
    "\n",
    "sample_data_flowers = load_iris()\n",
    "columns = sample_data_flowers.feature_names\n",
    "# print(dir(sample_data_flowers))\n",
    "# print(sample_data_flowers.data)\n",
    "\n",
    "data_frame_flowers: pd.DataFrame = pd.DataFrame(sample_data_flowers.data, columns=columns)\n",
    "data_frame_flowers['flower type'] = sample_data_flowers.target"
   ]
  },
  {
   "cell_type": "markdown",
   "source": [
    "Imprime por pantalla el nombre de las columnas como un array\n"
   ],
   "metadata": {
    "collapsed": false
   },
   "id": "9fff311384cfddc1"
  },
  {
   "cell_type": "code",
   "execution_count": 96,
   "outputs": [
    {
     "name": "stdout",
     "output_type": "stream",
     "text": [
      "['sepal length (cm)' 'sepal width (cm)' 'petal length (cm)'\n",
      " 'petal width (cm)' 'flower type']\n"
     ]
    }
   ],
   "source": [
    "print(data_frame_flowers.columns.values)"
   ],
   "metadata": {
    "collapsed": false,
    "ExecuteTime": {
     "end_time": "2023-10-23T17:26:53.569127900Z",
     "start_time": "2023-10-23T17:26:53.529319Z"
    }
   },
   "id": "61ce5e5eac5f2fbe"
  },
  {
   "cell_type": "markdown",
   "source": [
    "Imprime por pantalla el nombre de la primera columna"
   ],
   "metadata": {
    "collapsed": false
   },
   "id": "e65750f852992e23"
  },
  {
   "cell_type": "code",
   "execution_count": 97,
   "outputs": [
    {
     "name": "stdout",
     "output_type": "stream",
     "text": [
      "The name of the first column is sepal length (cm)\n"
     ]
    }
   ],
   "source": [
    "print(f\"The name of the first column is {data_frame_flowers.columns[0]}\")"
   ],
   "metadata": {
    "collapsed": false,
    "ExecuteTime": {
     "end_time": "2023-10-23T17:26:53.569127900Z",
     "start_time": "2023-10-23T17:26:53.535536100Z"
    }
   },
   "id": "9bf0b4cbc61ab157"
  },
  {
   "cell_type": "markdown",
   "source": [
    "Imprime por pantalla el número de columnas que hay."
   ],
   "metadata": {
    "collapsed": false
   },
   "id": "fdf727be750713b8"
  },
  {
   "cell_type": "code",
   "execution_count": 98,
   "outputs": [
    {
     "name": "stdout",
     "output_type": "stream",
     "text": [
      "The number of columns is 5\n"
     ]
    }
   ],
   "source": [
    "print(f\"The number of columns is {len(data_frame_flowers.columns)}\")"
   ],
   "metadata": {
    "collapsed": false,
    "ExecuteTime": {
     "end_time": "2023-10-23T17:26:53.615668400Z",
     "start_time": "2023-10-23T17:26:53.541528100Z"
    }
   },
   "id": "f7022f66addeb587"
  },
  {
   "cell_type": "markdown",
   "source": [
    "Cambia el nombre de la columna “tipo_flor” por el de “target”"
   ],
   "metadata": {
    "collapsed": false
   },
   "id": "98a6bd736071b417"
  },
  {
   "cell_type": "code",
   "execution_count": 99,
   "outputs": [],
   "source": [
    "data_frame_flowers.rename(columns={'flower type': \"target\"}, inplace=True)"
   ],
   "metadata": {
    "collapsed": false,
    "ExecuteTime": {
     "end_time": "2023-10-23T17:26:53.615668400Z",
     "start_time": "2023-10-23T17:26:53.547668400Z"
    }
   },
   "id": "23d2ec8553ff970b"
  },
  {
   "cell_type": "markdown",
   "source": [
    "Mueve la columna “target” al final del DataFrame"
   ],
   "metadata": {
    "collapsed": false
   },
   "id": "2fc207c16b5c3ac1"
  },
  {
   "cell_type": "code",
   "execution_count": 100,
   "outputs": [],
   "source": [
    "data_frame_flowers = data_frame_flowers.reindex(\n",
    "    columns=[\"sepal length (cm)\", \"sepal width (cm)\", \"petal length (cm)\", \"petal width (cm)\", \"target\"])"
   ],
   "metadata": {
    "collapsed": false,
    "ExecuteTime": {
     "end_time": "2023-10-23T17:26:53.615668400Z",
     "start_time": "2023-10-23T17:26:53.553187200Z"
    }
   },
   "id": "b996136b57583d3d"
  },
  {
   "cell_type": "markdown",
   "source": [
    "Inserta una nueva columna que sea el área del pétalo. Deberás insertarla antes de la última columna."
   ],
   "metadata": {
    "collapsed": false
   },
   "id": "acd34df5c42e3b59"
  },
  {
   "cell_type": "code",
   "execution_count": 101,
   "outputs": [
    {
     "data": {
      "text/plain": "   sepal length (cm)  sepal width (cm)  petal length (cm)  petal width (cm)  \\\n0                5.1               3.5                1.4               0.2   \n1                4.9               3.0                1.4               0.2   \n2                4.7               3.2                1.3               0.2   \n3                4.6               3.1                1.5               0.2   \n4                5.0               3.6                1.4               0.2   \n\n   petal area (cm2)  target  \n0              0.28       0  \n1              0.28       0  \n2              0.26       0  \n3              0.30       0  \n4              0.28       0  ",
      "text/html": "<div>\n<style scoped>\n    .dataframe tbody tr th:only-of-type {\n        vertical-align: middle;\n    }\n\n    .dataframe tbody tr th {\n        vertical-align: top;\n    }\n\n    .dataframe thead th {\n        text-align: right;\n    }\n</style>\n<table border=\"1\" class=\"dataframe\">\n  <thead>\n    <tr style=\"text-align: right;\">\n      <th></th>\n      <th>sepal length (cm)</th>\n      <th>sepal width (cm)</th>\n      <th>petal length (cm)</th>\n      <th>petal width (cm)</th>\n      <th>petal area (cm2)</th>\n      <th>target</th>\n    </tr>\n  </thead>\n  <tbody>\n    <tr>\n      <th>0</th>\n      <td>5.1</td>\n      <td>3.5</td>\n      <td>1.4</td>\n      <td>0.2</td>\n      <td>0.28</td>\n      <td>0</td>\n    </tr>\n    <tr>\n      <th>1</th>\n      <td>4.9</td>\n      <td>3.0</td>\n      <td>1.4</td>\n      <td>0.2</td>\n      <td>0.28</td>\n      <td>0</td>\n    </tr>\n    <tr>\n      <th>2</th>\n      <td>4.7</td>\n      <td>3.2</td>\n      <td>1.3</td>\n      <td>0.2</td>\n      <td>0.26</td>\n      <td>0</td>\n    </tr>\n    <tr>\n      <th>3</th>\n      <td>4.6</td>\n      <td>3.1</td>\n      <td>1.5</td>\n      <td>0.2</td>\n      <td>0.30</td>\n      <td>0</td>\n    </tr>\n    <tr>\n      <th>4</th>\n      <td>5.0</td>\n      <td>3.6</td>\n      <td>1.4</td>\n      <td>0.2</td>\n      <td>0.28</td>\n      <td>0</td>\n    </tr>\n  </tbody>\n</table>\n</div>"
     },
     "execution_count": 101,
     "metadata": {},
     "output_type": "execute_result"
    }
   ],
   "source": [
    "data_frame_flowers.insert(len(data_frame_flowers.columns) - 1, \"petal area (cm2)\",\n",
    "                          data_frame_flowers[\"petal length (cm)\"] * data_frame_flowers[\"petal width (cm)\"])\n",
    "data_frame_flowers.head()"
   ],
   "metadata": {
    "collapsed": false,
    "ExecuteTime": {
     "end_time": "2023-10-23T17:26:53.615668400Z",
     "start_time": "2023-10-23T17:26:53.558315500Z"
    }
   },
   "id": "ad0aee500b56cbee"
  },
  {
   "cell_type": "markdown",
   "source": [
    "Inserta una nueva columna que sea el área del sépalo. Deberás insertarla antes de la última columna."
   ],
   "metadata": {
    "collapsed": false
   },
   "id": "498e3a399aa5855e"
  },
  {
   "cell_type": "code",
   "execution_count": 102,
   "outputs": [
    {
     "data": {
      "text/plain": "   sepal length (cm)  sepal width (cm)  petal length (cm)  petal width (cm)  \\\n0                5.1               3.5                1.4               0.2   \n1                4.9               3.0                1.4               0.2   \n2                4.7               3.2                1.3               0.2   \n3                4.6               3.1                1.5               0.2   \n4                5.0               3.6                1.4               0.2   \n\n   petal area (cm2)  sepal area (cm2)  target  \n0              0.28             17.85       0  \n1              0.28             14.70       0  \n2              0.26             15.04       0  \n3              0.30             14.26       0  \n4              0.28             18.00       0  ",
      "text/html": "<div>\n<style scoped>\n    .dataframe tbody tr th:only-of-type {\n        vertical-align: middle;\n    }\n\n    .dataframe tbody tr th {\n        vertical-align: top;\n    }\n\n    .dataframe thead th {\n        text-align: right;\n    }\n</style>\n<table border=\"1\" class=\"dataframe\">\n  <thead>\n    <tr style=\"text-align: right;\">\n      <th></th>\n      <th>sepal length (cm)</th>\n      <th>sepal width (cm)</th>\n      <th>petal length (cm)</th>\n      <th>petal width (cm)</th>\n      <th>petal area (cm2)</th>\n      <th>sepal area (cm2)</th>\n      <th>target</th>\n    </tr>\n  </thead>\n  <tbody>\n    <tr>\n      <th>0</th>\n      <td>5.1</td>\n      <td>3.5</td>\n      <td>1.4</td>\n      <td>0.2</td>\n      <td>0.28</td>\n      <td>17.85</td>\n      <td>0</td>\n    </tr>\n    <tr>\n      <th>1</th>\n      <td>4.9</td>\n      <td>3.0</td>\n      <td>1.4</td>\n      <td>0.2</td>\n      <td>0.28</td>\n      <td>14.70</td>\n      <td>0</td>\n    </tr>\n    <tr>\n      <th>2</th>\n      <td>4.7</td>\n      <td>3.2</td>\n      <td>1.3</td>\n      <td>0.2</td>\n      <td>0.26</td>\n      <td>15.04</td>\n      <td>0</td>\n    </tr>\n    <tr>\n      <th>3</th>\n      <td>4.6</td>\n      <td>3.1</td>\n      <td>1.5</td>\n      <td>0.2</td>\n      <td>0.30</td>\n      <td>14.26</td>\n      <td>0</td>\n    </tr>\n    <tr>\n      <th>4</th>\n      <td>5.0</td>\n      <td>3.6</td>\n      <td>1.4</td>\n      <td>0.2</td>\n      <td>0.28</td>\n      <td>18.00</td>\n      <td>0</td>\n    </tr>\n  </tbody>\n</table>\n</div>"
     },
     "execution_count": 102,
     "metadata": {},
     "output_type": "execute_result"
    }
   ],
   "source": [
    "data_frame_flowers.insert(len(data_frame_flowers.columns) - 1, \"sepal area (cm2)\",\n",
    "                          data_frame_flowers[\"sepal length (cm)\"] * data_frame_flowers[\"sepal width (cm)\"])\n",
    "data_frame_flowers.head()"
   ],
   "metadata": {
    "collapsed": false,
    "ExecuteTime": {
     "end_time": "2023-10-23T17:26:53.615668400Z",
     "start_time": "2023-10-23T17:26:53.569127900Z"
    }
   },
   "id": "86ce3ae79da6de37"
  }
 ],
 "metadata": {
  "kernelspec": {
   "display_name": "Python 3",
   "language": "python",
   "name": "python3"
  },
  "language_info": {
   "codemirror_mode": {
    "name": "ipython",
    "version": 2
   },
   "file_extension": ".py",
   "mimetype": "text/x-python",
   "name": "python",
   "nbconvert_exporter": "python",
   "pygments_lexer": "ipython2",
   "version": "2.7.6"
  }
 },
 "nbformat": 4,
 "nbformat_minor": 5
}
