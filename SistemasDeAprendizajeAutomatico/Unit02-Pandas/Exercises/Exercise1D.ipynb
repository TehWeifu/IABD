{
 "cells": [
  {
   "cell_type": "markdown",
   "source": [
    "Ejercicio 1.D\n",
    "Siguiendo con el DataFrame anterior imprime por pantalla:"
   ],
   "metadata": {
    "collapsed": false
   },
   "id": "7dfb0879f39ecafa"
  },
  {
   "cell_type": "code",
   "execution_count": 65,
   "id": "initial_id",
   "metadata": {
    "collapsed": true,
    "ExecuteTime": {
     "end_time": "2023-10-23T17:47:04.078952600Z",
     "start_time": "2023-10-23T17:47:04.076705900Z"
    }
   },
   "outputs": [],
   "source": [
    "from sklearn.datasets import load_iris\n",
    "import pandas as pd\n",
    "\n",
    "sample_data_flowers = load_iris()\n",
    "columns = sample_data_flowers.feature_names\n",
    "# print(dir(sample_data_flowers))\n",
    "# print(sample_data_flowers.data)\n",
    "\n",
    "data_frame_flowers: pd.DataFrame = pd.DataFrame(sample_data_flowers.data, columns=columns)\n",
    "data_frame_flowers['flower type'] = sample_data_flowers.target"
   ]
  },
  {
   "cell_type": "markdown",
   "source": [
    "El ancho del pétalo de las flores de tipo “0” pero cuyo largo del pétalo sea entre [1.3,1.9]"
   ],
   "metadata": {
    "collapsed": false
   },
   "id": "6bf64d8d4f2b744f"
  },
  {
   "cell_type": "code",
   "execution_count": 79,
   "outputs": [
    {
     "data": {
      "text/plain": "0     0.2\n1     0.2\n2     0.2\n3     0.2\n4     0.2\n5     0.4\n6     0.3\n7     0.2\n8     0.2\n9     0.1\n10    0.2\n11    0.2\n12    0.1\n15    0.4\n16    0.4\n17    0.3\n18    0.3\n19    0.3\n20    0.2\n21    0.4\n23    0.5\n24    0.2\n25    0.2\n26    0.4\n27    0.2\n28    0.2\n29    0.2\n30    0.2\n31    0.4\n32    0.1\n33    0.2\n34    0.2\n36    0.2\n37    0.1\n38    0.2\n39    0.2\n40    0.3\n41    0.3\n42    0.2\n43    0.6\n44    0.4\n45    0.3\n46    0.2\n47    0.2\n48    0.2\n49    0.2\nName: petal width (cm), dtype: float64"
     },
     "execution_count": 79,
     "metadata": {},
     "output_type": "execute_result"
    }
   ],
   "source": [
    "df_filter_by_petal_length = data_frame_flowers[\n",
    "    (data_frame_flowers[\"flower type\"] == 0) &\n",
    "    (data_frame_flowers[\"petal length (cm)\"] >= 1.3) &\n",
    "    (data_frame_flowers[\"petal length (cm)\"] <= 1.9)\n",
    "    ]\n",
    "# df_filter.head()\n",
    "df_filter_by_petal_length[\"petal width (cm)\"]"
   ],
   "metadata": {
    "collapsed": false,
    "ExecuteTime": {
     "end_time": "2023-10-23T17:50:36.129912400Z",
     "start_time": "2023-10-23T17:50:36.121398Z"
    }
   },
   "id": "45ae6bf0820e2120"
  },
  {
   "cell_type": "markdown",
   "source": [
    "El ancho del sépalo de las flores de tipo “1”"
   ],
   "metadata": {
    "collapsed": false
   },
   "id": "3cfc5043b98e850d"
  },
  {
   "cell_type": "code",
   "execution_count": 72,
   "outputs": [
    {
     "data": {
      "text/plain": "    sepal length (cm)  sepal width (cm)  petal length (cm)  petal width (cm)  \\\n50                7.0               3.2                4.7               1.4   \n51                6.4               3.2                4.5               1.5   \n52                6.9               3.1                4.9               1.5   \n53                5.5               2.3                4.0               1.3   \n54                6.5               2.8                4.6               1.5   \n\n    flower type  \n50            1  \n51            1  \n52            1  \n53            1  \n54            1  ",
      "text/html": "<div>\n<style scoped>\n    .dataframe tbody tr th:only-of-type {\n        vertical-align: middle;\n    }\n\n    .dataframe tbody tr th {\n        vertical-align: top;\n    }\n\n    .dataframe thead th {\n        text-align: right;\n    }\n</style>\n<table border=\"1\" class=\"dataframe\">\n  <thead>\n    <tr style=\"text-align: right;\">\n      <th></th>\n      <th>sepal length (cm)</th>\n      <th>sepal width (cm)</th>\n      <th>petal length (cm)</th>\n      <th>petal width (cm)</th>\n      <th>flower type</th>\n    </tr>\n  </thead>\n  <tbody>\n    <tr>\n      <th>50</th>\n      <td>7.0</td>\n      <td>3.2</td>\n      <td>4.7</td>\n      <td>1.4</td>\n      <td>1</td>\n    </tr>\n    <tr>\n      <th>51</th>\n      <td>6.4</td>\n      <td>3.2</td>\n      <td>4.5</td>\n      <td>1.5</td>\n      <td>1</td>\n    </tr>\n    <tr>\n      <th>52</th>\n      <td>6.9</td>\n      <td>3.1</td>\n      <td>4.9</td>\n      <td>1.5</td>\n      <td>1</td>\n    </tr>\n    <tr>\n      <th>53</th>\n      <td>5.5</td>\n      <td>2.3</td>\n      <td>4.0</td>\n      <td>1.3</td>\n      <td>1</td>\n    </tr>\n    <tr>\n      <th>54</th>\n      <td>6.5</td>\n      <td>2.8</td>\n      <td>4.6</td>\n      <td>1.5</td>\n      <td>1</td>\n    </tr>\n  </tbody>\n</table>\n</div>"
     },
     "execution_count": 72,
     "metadata": {},
     "output_type": "execute_result"
    }
   ],
   "source": [
    "df_filter_type_one = data_frame_flowers[\n",
    "    (data_frame_flowers[\"flower type\"] == 1)\n",
    "]\n",
    "df_filter_type_one.head()"
   ],
   "metadata": {
    "collapsed": false,
    "ExecuteTime": {
     "end_time": "2023-10-23T17:48:20.249554800Z",
     "start_time": "2023-10-23T17:48:20.243801500Z"
    }
   },
   "id": "32b89ec75262aca0"
  },
  {
   "cell_type": "markdown",
   "source": [
    "Indica los tipos de flores que hay.\n",
    "Indica cuantos valores de la columna “target” son “null”\n",
    "Indicar cuantos valores del DataFrame son “null”\n",
    "¿Como se borrarían aquellas filas que tienen algún datos que es null?"
   ],
   "metadata": {
    "collapsed": false
   },
   "id": "d1380c0af00fecf2"
  }
 ],
 "metadata": {
  "kernelspec": {
   "display_name": "Python 3",
   "language": "python",
   "name": "python3"
  },
  "language_info": {
   "codemirror_mode": {
    "name": "ipython",
    "version": 2
   },
   "file_extension": ".py",
   "mimetype": "text/x-python",
   "name": "python",
   "nbconvert_exporter": "python",
   "pygments_lexer": "ipython2",
   "version": "2.7.6"
  }
 },
 "nbformat": 4,
 "nbformat_minor": 5
}
