{
 "cells": [
  {
   "cell_type": "markdown",
   "source": [
    "Ejercicio 2.C\n",
    "Siguiendo con el DataFrame anterior:"
   ],
   "metadata": {
    "collapsed": false
   },
   "id": "d6b10f52fe1c92f9"
  },
  {
   "cell_type": "code",
   "execution_count": null,
   "id": "initial_id",
   "metadata": {
    "collapsed": true
   },
   "outputs": [],
   "source": [
    "import pandas as pd\n",
    "import matplotlib.pyplot as plt\n",
    "import seaborn as sns\n",
    "\n",
    "model_metrics = pd.read_csv(\"tiempos_red_neuronal.csv\", sep=\",\", index_col=0)\n",
    "model_metrics.rename(columns={'talla': 'epoca'}, inplace=True)\n",
    "model_metrics = model_metrics.dropna()\n",
    "model_metrics.drop(columns=[\"desviacion\"], inplace=True)\n",
    "model_metrics.head()"
   ]
  },
  {
   "cell_type": "markdown",
   "source": [
    "Haz una regresión lineal de los datos para cada tipo de activación.\n",
    "Haz un gráfico que:\n",
    "Muestre la recta de la regresión de cada función de activación.\n",
    "En la etiqueta de cada función de activación se muestre también el valor de R² para cada uno de ellos."
   ],
   "metadata": {
    "collapsed": false
   },
   "id": "c7f4111046e8e282"
  }
 ],
 "metadata": {
  "kernelspec": {
   "display_name": "Python 3",
   "language": "python",
   "name": "python3"
  },
  "language_info": {
   "codemirror_mode": {
    "name": "ipython",
    "version": 2
   },
   "file_extension": ".py",
   "mimetype": "text/x-python",
   "name": "python",
   "nbconvert_exporter": "python",
   "pygments_lexer": "ipython2",
   "version": "2.7.6"
  }
 },
 "nbformat": 4,
 "nbformat_minor": 5
}
