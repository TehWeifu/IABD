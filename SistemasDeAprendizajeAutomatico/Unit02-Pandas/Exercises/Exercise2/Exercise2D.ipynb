{
 "cells": [
  {
   "cell_type": "markdown",
   "source": [
    "Ejercicio 2.D\n",
    "Siguiendo con el DataFrame anterior:"
   ],
   "metadata": {
    "collapsed": false
   },
   "id": "bd2a3fc489e58424"
  },
  {
   "cell_type": "code",
   "execution_count": null,
   "outputs": [],
   "source": [
    "import pandas as pd\n",
    "import matplotlib.pyplot as plt\n",
    "import seaborn as sns\n",
    "\n",
    "model_metrics = pd.read_csv(\"tiempos_red_neuronal.csv\", sep=\",\", index_col=0)\n",
    "model_metrics.rename(columns={'talla': 'epoca'}, inplace=True)\n",
    "model_metrics = model_metrics.dropna()\n",
    "model_metrics.drop(columns=[\"desviacion\"], inplace=True)\n",
    "model_metrics.head()"
   ],
   "metadata": {
    "collapsed": false
   },
   "id": "96c8cad804176a0f"
  },
  {
   "cell_type": "markdown",
   "source": [
    "La gráfica no deja claro cda una de las rectas. Para mejorarlo se podría anotar al final de cada recta el nombre de la función de activación tal y como se muestra en el siguiente gráfico:\n",
    "Para poner texto en una gráfica se usa el método annotate y la librería adjustText - automatic label placement for matplotlib"
   ],
   "metadata": {
    "collapsed": false
   },
   "id": "2d28c5829d7330e7"
  }
 ],
 "metadata": {
  "kernelspec": {
   "display_name": "Python 3",
   "language": "python",
   "name": "python3"
  },
  "language_info": {
   "codemirror_mode": {
    "name": "ipython",
    "version": 2
   },
   "file_extension": ".py",
   "mimetype": "text/x-python",
   "name": "python",
   "nbconvert_exporter": "python",
   "pygments_lexer": "ipython2",
   "version": "2.7.6"
  }
 },
 "nbformat": 4,
 "nbformat_minor": 5
}
